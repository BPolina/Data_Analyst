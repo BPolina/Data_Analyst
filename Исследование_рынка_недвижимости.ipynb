{
 "cells": [
  {
   "cell_type": "markdown",
   "metadata": {
    "toc": true
   },
   "source": [
    "<h1>Содержание<span class=\"tocSkip\"></span></h1>\n",
    "<div class=\"toc\"><ul class=\"toc-item\"><li><span><a href=\"#Изучение-данных-из-файла\" data-toc-modified-id=\"Изучение-данных-из-файла-1\"><span class=\"toc-item-num\">1&nbsp;&nbsp;</span>Изучение данных из файла</a></span><ul class=\"toc-item\"><li><span><a href=\"#Вывод\" data-toc-modified-id=\"Вывод-1.1\"><span class=\"toc-item-num\">1.1&nbsp;&nbsp;</span>Вывод</a></span></li></ul></li><li><span><a href=\"#Предобработка-данных\" data-toc-modified-id=\"Предобработка-данных-2\"><span class=\"toc-item-num\">2&nbsp;&nbsp;</span>Предобработка данных</a></span><ul class=\"toc-item\"><li><span><a href=\"#Перименование-заголовков\" data-toc-modified-id=\"Перименование-заголовков-2.1\"><span class=\"toc-item-num\">2.1&nbsp;&nbsp;</span>Перименование заголовков</a></span></li><li><span><a href=\"#Поиск-дубликатов\" data-toc-modified-id=\"Поиск-дубликатов-2.2\"><span class=\"toc-item-num\">2.2&nbsp;&nbsp;</span>Поиск дубликатов</a></span></li><li><span><a href=\"#Проработка-пропущенных-значений\" data-toc-modified-id=\"Проработка-пропущенных-значений-2.3\"><span class=\"toc-item-num\">2.3&nbsp;&nbsp;</span>Проработка пропущенных значений</a></span></li><li><span><a href=\"#Изменение-типов-данных.\" data-toc-modified-id=\"Изменение-типов-данных.-2.4\"><span class=\"toc-item-num\">2.4&nbsp;&nbsp;</span>Изменение типов данных.</a></span></li></ul></li><li><span><a href=\"#Расчёты-и-добавление-результатов-в-таблицу\" data-toc-modified-id=\"Расчёты-и-добавление-результатов-в-таблицу-3\"><span class=\"toc-item-num\">3&nbsp;&nbsp;</span>Расчёты и добавление результатов в таблицу</a></span></li><li><span><a href=\"#Исследовательский-анализ-данных\" data-toc-modified-id=\"Исследовательский-анализ-данных-4\"><span class=\"toc-item-num\">4&nbsp;&nbsp;</span>Исследовательский анализ данных</a></span><ul class=\"toc-item\"><li><span><a href=\"#Изучение-параметров:площадь,-цена,-число-комнат,-высота-потолков.\" data-toc-modified-id=\"Изучение-параметров:площадь,-цена,-число-комнат,-высота-потолков.-4.1\"><span class=\"toc-item-num\">4.1&nbsp;&nbsp;</span>Изучение параметров:площадь, цена, число комнат, высота потолков.</a></span></li><li><span><a href=\"#Исключение-редких-и-выбивающихся-значений.\" data-toc-modified-id=\"Исключение-редких-и-выбивающихся-значений.-4.2\"><span class=\"toc-item-num\">4.2&nbsp;&nbsp;</span>Исключение редких и выбивающихся значений.</a></span></li><li><span><a href=\"#Изучение-параметра----время-продажи-квартиры\" data-toc-modified-id=\"Изучение-параметра----время-продажи-квартиры-4.3\"><span class=\"toc-item-num\">4.3&nbsp;&nbsp;</span>Изучение параметра -  время продажи квартиры</a></span></li><li><span><a href=\"#Факторы,--больше-всего-влияющие--на-стоимость-квартиры\" data-toc-modified-id=\"Факторы,--больше-всего-влияющие--на-стоимость-квартиры-4.4\"><span class=\"toc-item-num\">4.4&nbsp;&nbsp;</span>Факторы,  больше всего влияющие  на стоимость квартиры</a></span></li></ul></li><li><span><a href=\"#Общий-вывод\" data-toc-modified-id=\"Общий-вывод-5\"><span class=\"toc-item-num\">5&nbsp;&nbsp;</span>Общий вывод</a></span></li><li><span><a href=\"#Чек-лист-готовности-проекта\" data-toc-modified-id=\"Чек-лист-готовности-проекта-6\"><span class=\"toc-item-num\">6&nbsp;&nbsp;</span>Чек-лист готовности проекта</a></span></li></ul></div>"
   ]
  },
  {
   "cell_type": "markdown",
   "metadata": {},
   "source": [
    "# Исследование объявлений о продаже квартир\n",
    "\n",
    "В вашем распоряжении данные сервиса Яндекc Недвижимость — архив объявлений о продаже квартир в Санкт-Петербурге и соседних населённых пунктах за несколько лет. Нужно научиться определять рыночную стоимость объектов недвижимости. Ваша задача — установить параметры. Это позволит построить автоматизированную систему: она отследит аномалии и мошенническую деятельность. \n",
    "\n",
    "По каждой квартире на продажу доступны два вида данных. Первые вписаны пользователем, вторые получены автоматически на основе картографических данных. Например, расстояние до центра, аэропорта, ближайшего парка и водоёма. "
   ]
  },
  {
   "cell_type": "markdown",
   "metadata": {},
   "source": [
    "## Изучение данных из файла"
   ]
  },
  {
   "cell_type": "code",
   "execution_count": 1,
   "metadata": {},
   "outputs": [],
   "source": [
    "import pandas as pd"
   ]
  },
  {
   "cell_type": "code",
   "execution_count": 2,
   "metadata": {
    "scrolled": true
   },
   "outputs": [
    {
     "data": {
      "text/html": [
       "<div>\n",
       "<style scoped>\n",
       "    .dataframe tbody tr th:only-of-type {\n",
       "        vertical-align: middle;\n",
       "    }\n",
       "\n",
       "    .dataframe tbody tr th {\n",
       "        vertical-align: top;\n",
       "    }\n",
       "\n",
       "    .dataframe thead th {\n",
       "        text-align: right;\n",
       "    }\n",
       "</style>\n",
       "<table border=\"1\" class=\"dataframe\">\n",
       "  <thead>\n",
       "    <tr style=\"text-align: right;\">\n",
       "      <th></th>\n",
       "      <th>total_images</th>\n",
       "      <th>last_price</th>\n",
       "      <th>total_area</th>\n",
       "      <th>first_day_exposition</th>\n",
       "      <th>rooms</th>\n",
       "      <th>ceiling_height</th>\n",
       "      <th>floors_total</th>\n",
       "      <th>living_area</th>\n",
       "      <th>floor</th>\n",
       "      <th>is_apartment</th>\n",
       "      <th>...</th>\n",
       "      <th>kitchen_area</th>\n",
       "      <th>balcony</th>\n",
       "      <th>locality_name</th>\n",
       "      <th>airports_nearest</th>\n",
       "      <th>cityCenters_nearest</th>\n",
       "      <th>parks_around3000</th>\n",
       "      <th>parks_nearest</th>\n",
       "      <th>ponds_around3000</th>\n",
       "      <th>ponds_nearest</th>\n",
       "      <th>days_exposition</th>\n",
       "    </tr>\n",
       "  </thead>\n",
       "  <tbody>\n",
       "    <tr>\n",
       "      <th>0</th>\n",
       "      <td>20</td>\n",
       "      <td>13000000.0</td>\n",
       "      <td>108.0</td>\n",
       "      <td>2019-03-07T00:00:00</td>\n",
       "      <td>3</td>\n",
       "      <td>2.70</td>\n",
       "      <td>16.0</td>\n",
       "      <td>51.0</td>\n",
       "      <td>8</td>\n",
       "      <td>NaN</td>\n",
       "      <td>...</td>\n",
       "      <td>25.0</td>\n",
       "      <td>NaN</td>\n",
       "      <td>Санкт-Петербург</td>\n",
       "      <td>18863.0</td>\n",
       "      <td>16028.0</td>\n",
       "      <td>1.0</td>\n",
       "      <td>482.0</td>\n",
       "      <td>2.0</td>\n",
       "      <td>755.0</td>\n",
       "      <td>NaN</td>\n",
       "    </tr>\n",
       "    <tr>\n",
       "      <th>1</th>\n",
       "      <td>7</td>\n",
       "      <td>3350000.0</td>\n",
       "      <td>40.4</td>\n",
       "      <td>2018-12-04T00:00:00</td>\n",
       "      <td>1</td>\n",
       "      <td>NaN</td>\n",
       "      <td>11.0</td>\n",
       "      <td>18.6</td>\n",
       "      <td>1</td>\n",
       "      <td>NaN</td>\n",
       "      <td>...</td>\n",
       "      <td>11.0</td>\n",
       "      <td>2.0</td>\n",
       "      <td>посёлок Шушары</td>\n",
       "      <td>12817.0</td>\n",
       "      <td>18603.0</td>\n",
       "      <td>0.0</td>\n",
       "      <td>NaN</td>\n",
       "      <td>0.0</td>\n",
       "      <td>NaN</td>\n",
       "      <td>81.0</td>\n",
       "    </tr>\n",
       "    <tr>\n",
       "      <th>2</th>\n",
       "      <td>10</td>\n",
       "      <td>5196000.0</td>\n",
       "      <td>56.0</td>\n",
       "      <td>2015-08-20T00:00:00</td>\n",
       "      <td>2</td>\n",
       "      <td>NaN</td>\n",
       "      <td>5.0</td>\n",
       "      <td>34.3</td>\n",
       "      <td>4</td>\n",
       "      <td>NaN</td>\n",
       "      <td>...</td>\n",
       "      <td>8.3</td>\n",
       "      <td>0.0</td>\n",
       "      <td>Санкт-Петербург</td>\n",
       "      <td>21741.0</td>\n",
       "      <td>13933.0</td>\n",
       "      <td>1.0</td>\n",
       "      <td>90.0</td>\n",
       "      <td>2.0</td>\n",
       "      <td>574.0</td>\n",
       "      <td>558.0</td>\n",
       "    </tr>\n",
       "    <tr>\n",
       "      <th>3</th>\n",
       "      <td>0</td>\n",
       "      <td>64900000.0</td>\n",
       "      <td>159.0</td>\n",
       "      <td>2015-07-24T00:00:00</td>\n",
       "      <td>3</td>\n",
       "      <td>NaN</td>\n",
       "      <td>14.0</td>\n",
       "      <td>NaN</td>\n",
       "      <td>9</td>\n",
       "      <td>NaN</td>\n",
       "      <td>...</td>\n",
       "      <td>NaN</td>\n",
       "      <td>0.0</td>\n",
       "      <td>Санкт-Петербург</td>\n",
       "      <td>28098.0</td>\n",
       "      <td>6800.0</td>\n",
       "      <td>2.0</td>\n",
       "      <td>84.0</td>\n",
       "      <td>3.0</td>\n",
       "      <td>234.0</td>\n",
       "      <td>424.0</td>\n",
       "    </tr>\n",
       "    <tr>\n",
       "      <th>4</th>\n",
       "      <td>2</td>\n",
       "      <td>10000000.0</td>\n",
       "      <td>100.0</td>\n",
       "      <td>2018-06-19T00:00:00</td>\n",
       "      <td>2</td>\n",
       "      <td>3.03</td>\n",
       "      <td>14.0</td>\n",
       "      <td>32.0</td>\n",
       "      <td>13</td>\n",
       "      <td>NaN</td>\n",
       "      <td>...</td>\n",
       "      <td>41.0</td>\n",
       "      <td>NaN</td>\n",
       "      <td>Санкт-Петербург</td>\n",
       "      <td>31856.0</td>\n",
       "      <td>8098.0</td>\n",
       "      <td>2.0</td>\n",
       "      <td>112.0</td>\n",
       "      <td>1.0</td>\n",
       "      <td>48.0</td>\n",
       "      <td>121.0</td>\n",
       "    </tr>\n",
       "  </tbody>\n",
       "</table>\n",
       "<p>5 rows × 22 columns</p>\n",
       "</div>"
      ],
      "text/plain": [
       "   total_images  last_price  total_area first_day_exposition  rooms  \\\n",
       "0            20  13000000.0       108.0  2019-03-07T00:00:00      3   \n",
       "1             7   3350000.0        40.4  2018-12-04T00:00:00      1   \n",
       "2            10   5196000.0        56.0  2015-08-20T00:00:00      2   \n",
       "3             0  64900000.0       159.0  2015-07-24T00:00:00      3   \n",
       "4             2  10000000.0       100.0  2018-06-19T00:00:00      2   \n",
       "\n",
       "   ceiling_height  floors_total  living_area  floor is_apartment  ...  \\\n",
       "0            2.70          16.0         51.0      8          NaN  ...   \n",
       "1             NaN          11.0         18.6      1          NaN  ...   \n",
       "2             NaN           5.0         34.3      4          NaN  ...   \n",
       "3             NaN          14.0          NaN      9          NaN  ...   \n",
       "4            3.03          14.0         32.0     13          NaN  ...   \n",
       "\n",
       "   kitchen_area  balcony    locality_name  airports_nearest  \\\n",
       "0          25.0      NaN  Санкт-Петербург           18863.0   \n",
       "1          11.0      2.0   посёлок Шушары           12817.0   \n",
       "2           8.3      0.0  Санкт-Петербург           21741.0   \n",
       "3           NaN      0.0  Санкт-Петербург           28098.0   \n",
       "4          41.0      NaN  Санкт-Петербург           31856.0   \n",
       "\n",
       "  cityCenters_nearest  parks_around3000  parks_nearest  ponds_around3000  \\\n",
       "0             16028.0               1.0          482.0               2.0   \n",
       "1             18603.0               0.0            NaN               0.0   \n",
       "2             13933.0               1.0           90.0               2.0   \n",
       "3              6800.0               2.0           84.0               3.0   \n",
       "4              8098.0               2.0          112.0               1.0   \n",
       "\n",
       "   ponds_nearest  days_exposition  \n",
       "0          755.0              NaN  \n",
       "1            NaN             81.0  \n",
       "2          574.0            558.0  \n",
       "3          234.0            424.0  \n",
       "4           48.0            121.0  \n",
       "\n",
       "[5 rows x 22 columns]"
      ]
     },
     "execution_count": 2,
     "metadata": {},
     "output_type": "execute_result"
    }
   ],
   "source": [
    "data = pd.read_csv('/datasets/real_estate_data.csv', sep='\\t')#загрузка и просмотр файла\n",
    "data.head(5)"
   ]
  },
  {
   "cell_type": "code",
   "execution_count": 3,
   "metadata": {
    "scrolled": true
   },
   "outputs": [
    {
     "name": "stdout",
     "output_type": "stream",
     "text": [
      "<class 'pandas.core.frame.DataFrame'>\n",
      "RangeIndex: 23699 entries, 0 to 23698\n",
      "Data columns (total 22 columns):\n",
      " #   Column                Non-Null Count  Dtype  \n",
      "---  ------                --------------  -----  \n",
      " 0   total_images          23699 non-null  int64  \n",
      " 1   last_price            23699 non-null  float64\n",
      " 2   total_area            23699 non-null  float64\n",
      " 3   first_day_exposition  23699 non-null  object \n",
      " 4   rooms                 23699 non-null  int64  \n",
      " 5   ceiling_height        14504 non-null  float64\n",
      " 6   floors_total          23613 non-null  float64\n",
      " 7   living_area           21796 non-null  float64\n",
      " 8   floor                 23699 non-null  int64  \n",
      " 9   is_apartment          2775 non-null   object \n",
      " 10  studio                23699 non-null  bool   \n",
      " 11  open_plan             23699 non-null  bool   \n",
      " 12  kitchen_area          21421 non-null  float64\n",
      " 13  balcony               12180 non-null  float64\n",
      " 14  locality_name         23650 non-null  object \n",
      " 15  airports_nearest      18157 non-null  float64\n",
      " 16  cityCenters_nearest   18180 non-null  float64\n",
      " 17  parks_around3000      18181 non-null  float64\n",
      " 18  parks_nearest         8079 non-null   float64\n",
      " 19  ponds_around3000      18181 non-null  float64\n",
      " 20  ponds_nearest         9110 non-null   float64\n",
      " 21  days_exposition       20518 non-null  float64\n",
      "dtypes: bool(2), float64(14), int64(3), object(3)\n",
      "memory usage: 3.7+ MB\n"
     ]
    }
   ],
   "source": [
    "data.info()#просмотр информации колонках, заголовки, пропущенных значений \n"
   ]
  },
  {
   "cell_type": "code",
   "execution_count": 4,
   "metadata": {
    "scrolled": false
   },
   "outputs": [
    {
     "data": {
      "text/plain": [
       "is_apartment            20924\n",
       "parks_nearest           15620\n",
       "ponds_nearest           14589\n",
       "balcony                 11519\n",
       "ceiling_height           9195\n",
       "airports_nearest         5542\n",
       "cityCenters_nearest      5519\n",
       "ponds_around3000         5518\n",
       "parks_around3000         5518\n",
       "days_exposition          3181\n",
       "kitchen_area             2278\n",
       "living_area              1903\n",
       "floors_total               86\n",
       "locality_name              49\n",
       "total_images                0\n",
       "last_price                  0\n",
       "studio                      0\n",
       "floor                       0\n",
       "rooms                       0\n",
       "first_day_exposition        0\n",
       "total_area                  0\n",
       "open_plan                   0\n",
       "dtype: int64"
      ]
     },
     "execution_count": 4,
     "metadata": {},
     "output_type": "execute_result"
    }
   ],
   "source": [
    "data.isna().sum().sort_values(ascending = False)#количество пропусков в каждом столбце "
   ]
  },
  {
   "cell_type": "code",
   "execution_count": 5,
   "metadata": {
    "scrolled": true
   },
   "outputs": [
    {
     "data": {
      "text/plain": [
       "is_apartment            0.882906\n",
       "parks_nearest           0.659100\n",
       "ponds_nearest           0.615596\n",
       "balcony                 0.486054\n",
       "ceiling_height          0.387991\n",
       "airports_nearest        0.233850\n",
       "cityCenters_nearest     0.232879\n",
       "ponds_around3000        0.232837\n",
       "parks_around3000        0.232837\n",
       "days_exposition         0.134225\n",
       "kitchen_area            0.096122\n",
       "living_area             0.080299\n",
       "floors_total            0.003629\n",
       "locality_name           0.002068\n",
       "total_images            0.000000\n",
       "last_price              0.000000\n",
       "studio                  0.000000\n",
       "floor                   0.000000\n",
       "rooms                   0.000000\n",
       "first_day_exposition    0.000000\n",
       "total_area              0.000000\n",
       "open_plan               0.000000\n",
       "dtype: float64"
      ]
     },
     "execution_count": 5,
     "metadata": {},
     "output_type": "execute_result"
    }
   ],
   "source": [
    "miss_data = data.isna().sum() / len(data)\n",
    "miss_data.sort_values(ascending = False)"
   ]
  },
  {
   "cell_type": "code",
   "execution_count": 6,
   "metadata": {
    "scrolled": true
   },
   "outputs": [
    {
     "data": {
      "text/plain": [
       "(23699, 22)"
      ]
     },
     "execution_count": 6,
     "metadata": {},
     "output_type": "execute_result"
    }
   ],
   "source": [
    "data.shape"
   ]
  },
  {
   "cell_type": "markdown",
   "metadata": {},
   "source": [
    "### Вывод"
   ]
  },
  {
   "cell_type": "markdown",
   "metadata": {},
   "source": [
    "Представленный файл состоит из 23699 строк и 22 столбцов разного типа и содержания. При предспросмотре выявлено, что 14 столбцов имеют разное число пропущенных или не заполненных строк. Так как данные относятся к качественным и количественным, то в каждом случе будет выбран метод, соответствующий данным, в том числе и методы описательной статистики. \n",
    "Некоторые столбцы названы не по принятым нормам, требуется корректировка. "
   ]
  },
  {
   "cell_type": "markdown",
   "metadata": {},
   "source": [
    "## Предобработка данных"
   ]
  },
  {
   "cell_type": "markdown",
   "metadata": {},
   "source": [
    "### Перименование заголовков "
   ]
  },
  {
   "cell_type": "code",
   "execution_count": 7,
   "metadata": {},
   "outputs": [
    {
     "data": {
      "text/html": [
       "<div>\n",
       "<style scoped>\n",
       "    .dataframe tbody tr th:only-of-type {\n",
       "        vertical-align: middle;\n",
       "    }\n",
       "\n",
       "    .dataframe tbody tr th {\n",
       "        vertical-align: top;\n",
       "    }\n",
       "\n",
       "    .dataframe thead th {\n",
       "        text-align: right;\n",
       "    }\n",
       "</style>\n",
       "<table border=\"1\" class=\"dataframe\">\n",
       "  <thead>\n",
       "    <tr style=\"text-align: right;\">\n",
       "      <th></th>\n",
       "      <th>total_images</th>\n",
       "      <th>last_price</th>\n",
       "      <th>total_area</th>\n",
       "      <th>first_day_exposition</th>\n",
       "      <th>rooms</th>\n",
       "      <th>ceiling_height</th>\n",
       "      <th>floors_total</th>\n",
       "      <th>living_area</th>\n",
       "      <th>floor</th>\n",
       "      <th>is_apartment</th>\n",
       "      <th>...</th>\n",
       "      <th>kitchen_area</th>\n",
       "      <th>balcony</th>\n",
       "      <th>locality_name</th>\n",
       "      <th>airports_nearest</th>\n",
       "      <th>city_centers_nearest</th>\n",
       "      <th>parks_around_3000</th>\n",
       "      <th>parks_nearest</th>\n",
       "      <th>ponds_around_3000</th>\n",
       "      <th>ponds_nearest</th>\n",
       "      <th>days_exposition</th>\n",
       "    </tr>\n",
       "  </thead>\n",
       "  <tbody>\n",
       "    <tr>\n",
       "      <th>0</th>\n",
       "      <td>20</td>\n",
       "      <td>13000000.0</td>\n",
       "      <td>108.0</td>\n",
       "      <td>2019-03-07T00:00:00</td>\n",
       "      <td>3</td>\n",
       "      <td>2.7</td>\n",
       "      <td>16.0</td>\n",
       "      <td>51.0</td>\n",
       "      <td>8</td>\n",
       "      <td>NaN</td>\n",
       "      <td>...</td>\n",
       "      <td>25.0</td>\n",
       "      <td>NaN</td>\n",
       "      <td>Санкт-Петербург</td>\n",
       "      <td>18863.0</td>\n",
       "      <td>16028.0</td>\n",
       "      <td>1.0</td>\n",
       "      <td>482.0</td>\n",
       "      <td>2.0</td>\n",
       "      <td>755.0</td>\n",
       "      <td>NaN</td>\n",
       "    </tr>\n",
       "    <tr>\n",
       "      <th>1</th>\n",
       "      <td>7</td>\n",
       "      <td>3350000.0</td>\n",
       "      <td>40.4</td>\n",
       "      <td>2018-12-04T00:00:00</td>\n",
       "      <td>1</td>\n",
       "      <td>NaN</td>\n",
       "      <td>11.0</td>\n",
       "      <td>18.6</td>\n",
       "      <td>1</td>\n",
       "      <td>NaN</td>\n",
       "      <td>...</td>\n",
       "      <td>11.0</td>\n",
       "      <td>2.0</td>\n",
       "      <td>посёлок Шушары</td>\n",
       "      <td>12817.0</td>\n",
       "      <td>18603.0</td>\n",
       "      <td>0.0</td>\n",
       "      <td>NaN</td>\n",
       "      <td>0.0</td>\n",
       "      <td>NaN</td>\n",
       "      <td>81.0</td>\n",
       "    </tr>\n",
       "  </tbody>\n",
       "</table>\n",
       "<p>2 rows × 22 columns</p>\n",
       "</div>"
      ],
      "text/plain": [
       "   total_images  last_price  total_area first_day_exposition  rooms  \\\n",
       "0            20  13000000.0       108.0  2019-03-07T00:00:00      3   \n",
       "1             7   3350000.0        40.4  2018-12-04T00:00:00      1   \n",
       "\n",
       "   ceiling_height  floors_total  living_area  floor is_apartment  ...  \\\n",
       "0             2.7          16.0         51.0      8          NaN  ...   \n",
       "1             NaN          11.0         18.6      1          NaN  ...   \n",
       "\n",
       "   kitchen_area  balcony    locality_name  airports_nearest  \\\n",
       "0          25.0      NaN  Санкт-Петербург           18863.0   \n",
       "1          11.0      2.0   посёлок Шушары           12817.0   \n",
       "\n",
       "  city_centers_nearest  parks_around_3000  parks_nearest  ponds_around_3000  \\\n",
       "0              16028.0                1.0          482.0                2.0   \n",
       "1              18603.0                0.0            NaN                0.0   \n",
       "\n",
       "   ponds_nearest  days_exposition  \n",
       "0          755.0              NaN  \n",
       "1            NaN             81.0  \n",
       "\n",
       "[2 rows x 22 columns]"
      ]
     },
     "execution_count": 7,
     "metadata": {},
     "output_type": "execute_result"
    }
   ],
   "source": [
    "data.rename(columns={'cityCenters_nearest':'city_centers_nearest', \n",
    "                     'parks_around3000':'parks_around_3000', 'ponds_around3000':'ponds_around_3000'}).head(2)"
   ]
  },
  {
   "cell_type": "markdown",
   "metadata": {},
   "source": [
    "### Поиск дубликатов"
   ]
  },
  {
   "cell_type": "code",
   "execution_count": 8,
   "metadata": {},
   "outputs": [
    {
     "data": {
      "text/plain": [
       "0"
      ]
     },
     "execution_count": 8,
     "metadata": {},
     "output_type": "execute_result"
    }
   ],
   "source": [
    "data.duplicated().sum()"
   ]
  },
  {
   "cell_type": "markdown",
   "metadata": {},
   "source": [
    "### Проработка пропущенных значений"
   ]
  },
  {
   "cell_type": "markdown",
   "metadata": {},
   "source": [
    "Обработка пропущенных значений в столбце  locality_name — название населённого пункта. \n",
    "Всего пропущенно 49 наименований населеного пункта. Просто заменить данные любым другим невозможно, восполнить их нечем, нет уверенности, что это жилье в Санкт-Петербурге, возможно, что это из соседних населённых пунктах, поэтому самым оптимальным - удалить. "
   ]
  },
  {
   "cell_type": "code",
   "execution_count": 9,
   "metadata": {},
   "outputs": [
    {
     "data": {
      "text/plain": [
       "0"
      ]
     },
     "execution_count": 9,
     "metadata": {},
     "output_type": "execute_result"
    }
   ],
   "source": [
    "data.dropna(subset =['locality_name'],inplace=True)\n",
    "data['locality_name'].isna().sum()"
   ]
  },
  {
   "cell_type": "markdown",
   "metadata": {},
   "source": [
    "Обработка пропущенных значений в столбце floors_total - всего этажей в доме. Всего  86 пропусков. Всего предствалены квартиры от одно- до 60 этажных домах. Больше всего квартир предаставлено в 5-х домах.Предполагаю, что, если не указано количество этажей в доме, то этаж всего один. Думаю, что уместнее будет заменить - 1 "
   ]
  },
  {
   "cell_type": "code",
   "execution_count": 10,
   "metadata": {
    "scrolled": true
   },
   "outputs": [
    {
     "data": {
      "text/plain": [
       "85"
      ]
     },
     "execution_count": 10,
     "metadata": {},
     "output_type": "execute_result"
    }
   ],
   "source": [
    "data['floors_total'].isna().sum()"
   ]
  },
  {
   "cell_type": "code",
   "execution_count": 11,
   "metadata": {},
   "outputs": [
    {
     "data": {
      "text/plain": [
       "9.0"
      ]
     },
     "execution_count": 11,
     "metadata": {},
     "output_type": "execute_result"
    }
   ],
   "source": [
    "data['floors_total'].median()"
   ]
  },
  {
   "cell_type": "code",
   "execution_count": 12,
   "metadata": {
    "scrolled": true
   },
   "outputs": [
    {
     "data": {
      "text/plain": [
       "floors_total\n",
       "1.0       25\n",
       "2.0      381\n",
       "3.0      667\n",
       "4.0     1193\n",
       "5.0     5775\n",
       "6.0      910\n",
       "7.0      589\n",
       "8.0      388\n",
       "9.0     3758\n",
       "10.0    1174\n",
       "11.0     202\n",
       "12.0    1361\n",
       "13.0     229\n",
       "14.0     553\n",
       "15.0     365\n",
       "16.0    1375\n",
       "17.0     833\n",
       "18.0     505\n",
       "19.0     339\n",
       "20.0     271\n",
       "21.0     158\n",
       "22.0     286\n",
       "23.0     349\n",
       "24.0     462\n",
       "25.0    1075\n",
       "26.0     124\n",
       "27.0     164\n",
       "28.0      21\n",
       "29.0       1\n",
       "33.0       1\n",
       "34.0       1\n",
       "35.0      24\n",
       "36.0       3\n",
       "37.0       1\n",
       "52.0       1\n",
       "60.0       1\n",
       "Name: floors_total, dtype: int64"
      ]
     },
     "execution_count": 12,
     "metadata": {},
     "output_type": "execute_result"
    }
   ],
   "source": [
    "data.groupby('floors_total')['floors_total'].count()"
   ]
  },
  {
   "cell_type": "code",
   "execution_count": 13,
   "metadata": {},
   "outputs": [],
   "source": [
    "data.loc[data['floors_total'].isna(),'floors_total'] = data['floors_total'].min()"
   ]
  },
  {
   "cell_type": "code",
   "execution_count": 14,
   "metadata": {},
   "outputs": [
    {
     "data": {
      "text/plain": [
       "0"
      ]
     },
     "execution_count": 14,
     "metadata": {},
     "output_type": "execute_result"
    }
   ],
   "source": [
    "data['floors_total'].isna().sum()"
   ]
  },
  {
   "cell_type": "markdown",
   "metadata": {},
   "source": [
    "Обработка пропущенных значений в столбце living_area - жилая площадь в квадратных метрах. При просмотре данных подребнее были выявленны аномальные (на мой взгляд) значения типа - 2, 3, 5 жилой площади в квадратных метрах. Я, конечно, не исключаю реальность жизни в таком помщении, но из выборки считаю нужным удалить, оставить от 8. Остальные прпуски считаю нужным заменить медианым значением. "
   ]
  },
  {
   "cell_type": "code",
   "execution_count": 15,
   "metadata": {},
   "outputs": [
    {
     "data": {
      "text/plain": [
       "1898"
      ]
     },
     "execution_count": 15,
     "metadata": {},
     "output_type": "execute_result"
    }
   ],
   "source": [
    "data['living_area'].isna().sum()"
   ]
  },
  {
   "cell_type": "code",
   "execution_count": 16,
   "metadata": {
    "scrolled": true
   },
   "outputs": [
    {
     "data": {
      "text/plain": [
       "living_area\n",
       "2.0    2\n",
       "3.0    2\n",
       "5.0    1\n",
       "5.4    1\n",
       "6.0    1\n",
       "6.5    1\n",
       "8.0    2\n",
       "8.3    1\n",
       "8.4    1\n",
       "8.5    1\n",
       "Name: living_area, dtype: int64"
      ]
     },
     "execution_count": 16,
     "metadata": {},
     "output_type": "execute_result"
    }
   ],
   "source": [
    "data.groupby('living_area')['living_area'].count().head(10)"
   ]
  },
  {
   "cell_type": "code",
   "execution_count": 17,
   "metadata": {},
   "outputs": [
    {
     "data": {
      "text/plain": [
       "30.0"
      ]
     },
     "execution_count": 17,
     "metadata": {},
     "output_type": "execute_result"
    }
   ],
   "source": [
    "data['living_area'].median()"
   ]
  },
  {
   "cell_type": "code",
   "execution_count": 18,
   "metadata": {
    "scrolled": true
   },
   "outputs": [
    {
     "data": {
      "text/plain": [
       "3242     3.0\n",
       "13915    2.0\n",
       "16431    6.0\n",
       "17582    5.0\n",
       "19251    6.5\n",
       "21758    2.0\n",
       "21943    5.4\n",
       "23574    3.0\n",
       "Name: living_area, dtype: float64"
      ]
     },
     "execution_count": 18,
     "metadata": {},
     "output_type": "execute_result"
    }
   ],
   "source": [
    "data.loc[data['living_area'] <= 6.5]['living_area']\n",
    "#находим строки\n"
   ]
  },
  {
   "cell_type": "code",
   "execution_count": 19,
   "metadata": {},
   "outputs": [],
   "source": [
    "data = data.drop(index=[3242, 13915, 16431, 17582, 19251, 21758, 21943, 23574])#удаляем строчки"
   ]
  },
  {
   "cell_type": "code",
   "execution_count": 20,
   "metadata": {},
   "outputs": [
    {
     "data": {
      "text/plain": [
       "8.0"
      ]
     },
     "execution_count": 20,
     "metadata": {},
     "output_type": "execute_result"
    }
   ],
   "source": [
    "data['living_area'].min()"
   ]
  },
  {
   "cell_type": "code",
   "execution_count": 21,
   "metadata": {},
   "outputs": [],
   "source": [
    "data.loc[data['living_area'].isna(),'living_area'] = data['living_area'].median()#замена пропущенных - мединой "
   ]
  },
  {
   "cell_type": "code",
   "execution_count": 22,
   "metadata": {
    "scrolled": true
   },
   "outputs": [
    {
     "data": {
      "text/plain": [
       "0"
      ]
     },
     "execution_count": 22,
     "metadata": {},
     "output_type": "execute_result"
    }
   ],
   "source": [
    "data['living_area'].isna().sum()"
   ]
  },
  {
   "cell_type": "markdown",
   "metadata": {},
   "source": [
    "Обработка пропущенных значений в столбце kitchen_area — площадь кухни в квадратных метрах. Оптимальным решением - замена медианой. Она ближе к стандартной, площади в \"панельном\" доме. "
   ]
  },
  {
   "cell_type": "code",
   "execution_count": 23,
   "metadata": {},
   "outputs": [
    {
     "data": {
      "text/plain": [
       "2267"
      ]
     },
     "execution_count": 23,
     "metadata": {},
     "output_type": "execute_result"
    }
   ],
   "source": [
    "data['kitchen_area'].isna().sum()"
   ]
  },
  {
   "cell_type": "code",
   "execution_count": 24,
   "metadata": {
    "scrolled": true
   },
   "outputs": [
    {
     "data": {
      "text/plain": [
       "count    21375.000000\n",
       "mean        10.565589\n",
       "std          5.902068\n",
       "min          1.300000\n",
       "25%          7.000000\n",
       "50%          9.100000\n",
       "75%         12.000000\n",
       "max        112.000000\n",
       "Name: kitchen_area, dtype: float64"
      ]
     },
     "execution_count": 24,
     "metadata": {},
     "output_type": "execute_result"
    }
   ],
   "source": [
    "data['kitchen_area'].describe()"
   ]
  },
  {
   "cell_type": "code",
   "execution_count": 25,
   "metadata": {
    "scrolled": true
   },
   "outputs": [
    {
     "data": {
      "text/plain": [
       "9.1"
      ]
     },
     "execution_count": 25,
     "metadata": {},
     "output_type": "execute_result"
    }
   ],
   "source": [
    "data['kitchen_area'].median()"
   ]
  },
  {
   "cell_type": "code",
   "execution_count": 26,
   "metadata": {},
   "outputs": [],
   "source": [
    "data.loc[data['kitchen_area'].isna(),'kitchen_area'] = data['kitchen_area'].median()#замена пропущенных - мединой "
   ]
  },
  {
   "cell_type": "code",
   "execution_count": 27,
   "metadata": {},
   "outputs": [
    {
     "data": {
      "text/plain": [
       "0"
      ]
     },
     "execution_count": 27,
     "metadata": {},
     "output_type": "execute_result"
    }
   ],
   "source": [
    "data['kitchen_area'].isna().sum()"
   ]
  },
  {
   "cell_type": "markdown",
   "metadata": {},
   "source": [
    "Обработка пропущенных значений в столбце balcony — число балконов. Продполагаю, где нет значений, значит балкона нет. "
   ]
  },
  {
   "cell_type": "code",
   "execution_count": 28,
   "metadata": {},
   "outputs": [],
   "source": [
    "data['balcony'] = data['balcony'].fillna(0)"
   ]
  },
  {
   "cell_type": "markdown",
   "metadata": {},
   "source": [
    "Обработка пропущенных значений в столбце ceiling_height — высота потолков (м). Т.к. имеются стандарты по сторительству жилых многоквартирых домов, то стоит предположить, что пропуски допустимо заментить медианой. "
   ]
  },
  {
   "cell_type": "code",
   "execution_count": 29,
   "metadata": {},
   "outputs": [
    {
     "data": {
      "text/plain": [
       "2.65"
      ]
     },
     "execution_count": 29,
     "metadata": {},
     "output_type": "execute_result"
    }
   ],
   "source": [
    "data['ceiling_height'].median()"
   ]
  },
  {
   "cell_type": "code",
   "execution_count": 30,
   "metadata": {},
   "outputs": [],
   "source": [
    "data.loc[data['ceiling_height'].isna(),'ceiling_height'] = data['ceiling_height'].median()#замена пропущенных - мединой "
   ]
  },
  {
   "cell_type": "markdown",
   "metadata": {},
   "source": [
    "Часть параметров, была получена автоматически на основе картографических данных, к таким относятся: \n",
    "- airports_nearest — расстояние до ближайшего аэропорта в метрах (м).\n",
    "- parks_around3000 - число парков в радиусе 3 км.\n",
    "- parks_nearest - расстояние до ближайшего водоёма (м).\n",
    "- ponds_around3000 — число водоёмов в радиусе 3 км\n",
    "- ponds_nearest — расстояние до ближайшего водоёма (м)\n",
    "- cityCenters_nearest -расстояние до центра города (м)\n",
    "\n",
    "Пропуски этих данных уместее будет заполнить медианым значением по группировке locality_name. \n"
   ]
  },
  {
   "cell_type": "code",
   "execution_count": 31,
   "metadata": {},
   "outputs": [],
   "source": [
    "data['airports_nearest'].fillna(data.groupby('locality_name')['airports_nearest'].transform('median'),inplace = True) \n",
    "#заменила пропуски на медиану по группировке \n",
    "data['airports_nearest'] = data['airports_nearest'].fillna(data['airports_nearest'].median()) \n",
    "#замена в итоговом слобце "
   ]
  },
  {
   "cell_type": "code",
   "execution_count": 32,
   "metadata": {},
   "outputs": [
    {
     "data": {
      "text/plain": [
       "0"
      ]
     },
     "execution_count": 32,
     "metadata": {},
     "output_type": "execute_result"
    }
   ],
   "source": [
    "data['cityCenters_nearest'].fillna(data.groupby('locality_name')['cityCenters_nearest'].transform('median'),inplace = True)\n",
    "data['cityCenters_nearest'] = data['cityCenters_nearest'].fillna(data['cityCenters_nearest'].median())\n",
    "data['cityCenters_nearest'].isnull().sum()"
   ]
  },
  {
   "cell_type": "code",
   "execution_count": 33,
   "metadata": {},
   "outputs": [
    {
     "data": {
      "text/plain": [
       "0"
      ]
     },
     "execution_count": 33,
     "metadata": {},
     "output_type": "execute_result"
    }
   ],
   "source": [
    "data['parks_around3000'].fillna(data.groupby('locality_name')['parks_around3000'].transform('median'),inplace = True)\n",
    "data['parks_around3000'] = data['parks_around3000'].fillna(data['parks_around3000'].median())\n",
    "data['parks_around3000'].isnull().sum()"
   ]
  },
  {
   "cell_type": "code",
   "execution_count": 34,
   "metadata": {},
   "outputs": [
    {
     "data": {
      "text/plain": [
       "0"
      ]
     },
     "execution_count": 34,
     "metadata": {},
     "output_type": "execute_result"
    }
   ],
   "source": [
    "data['parks_nearest'].fillna(data.groupby('locality_name')['parks_nearest'].transform('median'),inplace = True)\n",
    "data['parks_nearest'] = data['parks_nearest'].fillna(data['parks_nearest'].median())\n",
    "data['parks_nearest'].isnull().sum()"
   ]
  },
  {
   "cell_type": "code",
   "execution_count": 35,
   "metadata": {},
   "outputs": [
    {
     "data": {
      "text/plain": [
       "0"
      ]
     },
     "execution_count": 35,
     "metadata": {},
     "output_type": "execute_result"
    }
   ],
   "source": [
    "data['ponds_around3000'].fillna(data.groupby('locality_name')['ponds_around3000'].transform('median'),inplace = True)\n",
    "data['ponds_around3000'] = data['ponds_around3000'].fillna(data['ponds_around3000'].median())\n",
    "data['ponds_around3000'].isnull().sum()"
   ]
  },
  {
   "cell_type": "code",
   "execution_count": 36,
   "metadata": {},
   "outputs": [
    {
     "data": {
      "text/plain": [
       "0"
      ]
     },
     "execution_count": 36,
     "metadata": {},
     "output_type": "execute_result"
    }
   ],
   "source": [
    "data['ponds_nearest'].fillna(data.groupby('locality_name')['ponds_nearest'].transform('median'),inplace = True)\n",
    "data['ponds_nearest'] = data['ponds_nearest'].fillna(data['ponds_nearest'].median())\n",
    "data['ponds_nearest'].isnull().sum()"
   ]
  },
  {
   "cell_type": "markdown",
   "metadata": {},
   "source": [
    "Обработка пропущенных значений в столбце is_apartment - апартаменты. Предполагаю, что прпуски в данном столбце возникли, т.к. заполняющий мог не знать что поставить."
   ]
  },
  {
   "cell_type": "code",
   "execution_count": 37,
   "metadata": {},
   "outputs": [],
   "source": [
    "data['is_apartment']=data['is_apartment'].fillna(0) #заполняем 0-не аппартамент"
   ]
  },
  {
   "cell_type": "markdown",
   "metadata": {},
   "source": [
    "Обработка пропущенных значений в столбце days_exposition - сколько дней было размещено объявление. При детальном расмотре данного показателя выявлено, что средняя очень сильно отличается от медианы, это связано с тем, что имеются большие выбросы по максимальному значению - 1 580 дней (более 4 лет в продаже). Предположительно, появление пустых значений свзано с тем, что человек мог просто не закрыть объявление после продажи. "
   ]
  },
  {
   "cell_type": "code",
   "execution_count": 38,
   "metadata": {
    "scrolled": false
   },
   "outputs": [
    {
     "data": {
      "text/plain": [
       "count    20462.000000\n",
       "mean       180.776561\n",
       "std        219.811395\n",
       "min          1.000000\n",
       "25%         45.000000\n",
       "50%         95.000000\n",
       "75%        231.000000\n",
       "max       1580.000000\n",
       "Name: days_exposition, dtype: float64"
      ]
     },
     "execution_count": 38,
     "metadata": {},
     "output_type": "execute_result"
    }
   ],
   "source": [
    "data['days_exposition'].describe()"
   ]
  },
  {
   "cell_type": "code",
   "execution_count": 39,
   "metadata": {},
   "outputs": [
    {
     "data": {
      "text/plain": [
       "95.0"
      ]
     },
     "execution_count": 39,
     "metadata": {},
     "output_type": "execute_result"
    }
   ],
   "source": [
    "data['days_exposition'].median()"
   ]
  },
  {
   "cell_type": "code",
   "execution_count": 40,
   "metadata": {
    "scrolled": false
   },
   "outputs": [
    {
     "name": "stdout",
     "output_type": "stream",
     "text": [
      "<class 'pandas.core.frame.DataFrame'>\n",
      "Int64Index: 23642 entries, 0 to 23698\n",
      "Data columns (total 22 columns):\n",
      " #   Column                Non-Null Count  Dtype  \n",
      "---  ------                --------------  -----  \n",
      " 0   total_images          23642 non-null  int64  \n",
      " 1   last_price            23642 non-null  float64\n",
      " 2   total_area            23642 non-null  float64\n",
      " 3   first_day_exposition  23642 non-null  object \n",
      " 4   rooms                 23642 non-null  int64  \n",
      " 5   ceiling_height        23642 non-null  float64\n",
      " 6   floors_total          23642 non-null  float64\n",
      " 7   living_area           23642 non-null  float64\n",
      " 8   floor                 23642 non-null  int64  \n",
      " 9   is_apartment          23642 non-null  object \n",
      " 10  studio                23642 non-null  bool   \n",
      " 11  open_plan             23642 non-null  bool   \n",
      " 12  kitchen_area          23642 non-null  float64\n",
      " 13  balcony               23642 non-null  float64\n",
      " 14  locality_name         23642 non-null  object \n",
      " 15  airports_nearest      23642 non-null  float64\n",
      " 16  cityCenters_nearest   23642 non-null  float64\n",
      " 17  parks_around3000      23642 non-null  float64\n",
      " 18  parks_nearest         23642 non-null  float64\n",
      " 19  ponds_around3000      23642 non-null  float64\n",
      " 20  ponds_nearest         23642 non-null  float64\n",
      " 21  days_exposition       20462 non-null  float64\n",
      "dtypes: bool(2), float64(14), int64(3), object(3)\n",
      "memory usage: 3.8+ MB\n"
     ]
    }
   ],
   "source": [
    "data.info() #проверка по пропущенным значениям "
   ]
  },
  {
   "cell_type": "markdown",
   "metadata": {},
   "source": [
    "### Изменение типов данных. "
   ]
  },
  {
   "cell_type": "markdown",
   "metadata": {},
   "source": [
    "Данные в стобцах, считаю, что целесообразнее перевести в int. Т.к. данные в этих столбцах не пробпалагаются быть доробными.\n",
    "-parks_around3000 \n",
    "-ponds_around3000        \n",
    "-last_price\n",
    "-balcony\n",
    "-floors_total  \n",
    "\n",
    "-is_apartment - стит перевести в bool т.к. либо это апартаменты, либо - не. "
   ]
  },
  {
   "cell_type": "code",
   "execution_count": 41,
   "metadata": {},
   "outputs": [],
   "source": [
    "data['parks_around3000'] = data['parks_around3000'].astype('int64')"
   ]
  },
  {
   "cell_type": "code",
   "execution_count": 42,
   "metadata": {},
   "outputs": [],
   "source": [
    "data['ponds_around3000'] = data['ponds_around3000'].astype('int64')"
   ]
  },
  {
   "cell_type": "code",
   "execution_count": 43,
   "metadata": {},
   "outputs": [],
   "source": [
    "data['last_price'] = data['last_price'].astype('int64')"
   ]
  },
  {
   "cell_type": "code",
   "execution_count": 44,
   "metadata": {},
   "outputs": [],
   "source": [
    "data['balcony'] = data['balcony'].astype('int64')"
   ]
  },
  {
   "cell_type": "code",
   "execution_count": 45,
   "metadata": {},
   "outputs": [],
   "source": [
    "data['floors_total'] = data['floors_total'].astype('int64')"
   ]
  },
  {
   "cell_type": "code",
   "execution_count": 46,
   "metadata": {},
   "outputs": [],
   "source": [
    "data['is_apartment'] = data['is_apartment'].astype('bool')"
   ]
  },
  {
   "cell_type": "code",
   "execution_count": 47,
   "metadata": {},
   "outputs": [
    {
     "name": "stdout",
     "output_type": "stream",
     "text": [
      "<class 'pandas.core.frame.DataFrame'>\n",
      "Int64Index: 23642 entries, 0 to 23698\n",
      "Data columns (total 22 columns):\n",
      " #   Column                Non-Null Count  Dtype  \n",
      "---  ------                --------------  -----  \n",
      " 0   total_images          23642 non-null  int64  \n",
      " 1   last_price            23642 non-null  int64  \n",
      " 2   total_area            23642 non-null  float64\n",
      " 3   first_day_exposition  23642 non-null  object \n",
      " 4   rooms                 23642 non-null  int64  \n",
      " 5   ceiling_height        23642 non-null  float64\n",
      " 6   floors_total          23642 non-null  int64  \n",
      " 7   living_area           23642 non-null  float64\n",
      " 8   floor                 23642 non-null  int64  \n",
      " 9   is_apartment          23642 non-null  bool   \n",
      " 10  studio                23642 non-null  bool   \n",
      " 11  open_plan             23642 non-null  bool   \n",
      " 12  kitchen_area          23642 non-null  float64\n",
      " 13  balcony               23642 non-null  int64  \n",
      " 14  locality_name         23642 non-null  object \n",
      " 15  airports_nearest      23642 non-null  float64\n",
      " 16  cityCenters_nearest   23642 non-null  float64\n",
      " 17  parks_around3000      23642 non-null  int64  \n",
      " 18  parks_nearest         23642 non-null  float64\n",
      " 19  ponds_around3000      23642 non-null  int64  \n",
      " 20  ponds_nearest         23642 non-null  float64\n",
      " 21  days_exposition       20462 non-null  float64\n",
      "dtypes: bool(3), float64(9), int64(8), object(2)\n",
      "memory usage: 3.7+ MB\n"
     ]
    }
   ],
   "source": [
    "data.info()#проверка по изменению типа данных"
   ]
  },
  {
   "cell_type": "markdown",
   "metadata": {},
   "source": [
    "## Расчёты и добавление результатов в таблицу"
   ]
  },
  {
   "cell_type": "markdown",
   "metadata": {},
   "source": [
    "•\tцена квадратного метра"
   ]
  },
  {
   "cell_type": "code",
   "execution_count": 48,
   "metadata": {},
   "outputs": [],
   "source": [
    "data['price_for_m'] = data['last_price']/data['total_area'] "
   ]
  },
  {
   "cell_type": "code",
   "execution_count": 49,
   "metadata": {},
   "outputs": [],
   "source": [
    "data['price_for_m']= data['price_for_m'].astype('int64')# перевод типа данных"
   ]
  },
  {
   "cell_type": "markdown",
   "metadata": {},
   "source": [
    "•\tдень недели, месяц и год публикации объявления"
   ]
  },
  {
   "cell_type": "code",
   "execution_count": 50,
   "metadata": {},
   "outputs": [],
   "source": [
    "data['year_public'] = pd.DatetimeIndex(data['first_day_exposition']).year # год"
   ]
  },
  {
   "cell_type": "code",
   "execution_count": 51,
   "metadata": {},
   "outputs": [],
   "source": [
    "data['month_public'] = pd.DatetimeIndex(data['first_day_exposition']).month # месяц"
   ]
  },
  {
   "cell_type": "code",
   "execution_count": 52,
   "metadata": {},
   "outputs": [],
   "source": [
    "data['day_of_week_public'] = pd.DatetimeIndex(data['first_day_exposition']).weekday  # день недели "
   ]
  },
  {
   "cell_type": "markdown",
   "metadata": {},
   "source": [
    "•\tэтаж квартиры; варианты — первый, последний, другой"
   ]
  },
  {
   "cell_type": "code",
   "execution_count": 53,
   "metadata": {},
   "outputs": [],
   "source": [
    "#функция для категоризации этажности\n",
    "# Первый этаж \n",
    "# Последний этаж\n",
    "# Другой этаж \n",
    "\n",
    "def floor_category(row):\n",
    "    if row['floor'] == 1:\n",
    "        return 'Первый этаж'\n",
    "    elif row['floor'] == row['floors_total']:\n",
    "        return 'Последний этаж'\n",
    "    else:\n",
    "        return 'Другой этаж'\n",
    "\n",
    "data['floor_category'] = data.apply(floor_category, axis = 1) "
   ]
  },
  {
   "cell_type": "markdown",
   "metadata": {},
   "source": [
    "•\tсоотношение жилой и общей площади, а также отношение площади кухни к общей."
   ]
  },
  {
   "cell_type": "code",
   "execution_count": 54,
   "metadata": {},
   "outputs": [],
   "source": [
    "data['living_ratio_total'] = data['living_area']/data['total_area'] #  отношение  жилой к общей площади"
   ]
  },
  {
   "cell_type": "code",
   "execution_count": 55,
   "metadata": {},
   "outputs": [],
   "source": [
    "data['kitchen_ratio_total'] = data['kitchen_area']/data['total_area']#  отношение  кухни к общей площади"
   ]
  },
  {
   "cell_type": "code",
   "execution_count": 56,
   "metadata": {
    "scrolled": true
   },
   "outputs": [
    {
     "data": {
      "text/html": [
       "<div>\n",
       "<style scoped>\n",
       "    .dataframe tbody tr th:only-of-type {\n",
       "        vertical-align: middle;\n",
       "    }\n",
       "\n",
       "    .dataframe tbody tr th {\n",
       "        vertical-align: top;\n",
       "    }\n",
       "\n",
       "    .dataframe thead th {\n",
       "        text-align: right;\n",
       "    }\n",
       "</style>\n",
       "<table border=\"1\" class=\"dataframe\">\n",
       "  <thead>\n",
       "    <tr style=\"text-align: right;\">\n",
       "      <th></th>\n",
       "      <th>total_images</th>\n",
       "      <th>last_price</th>\n",
       "      <th>total_area</th>\n",
       "      <th>first_day_exposition</th>\n",
       "      <th>rooms</th>\n",
       "      <th>ceiling_height</th>\n",
       "      <th>floors_total</th>\n",
       "      <th>living_area</th>\n",
       "      <th>floor</th>\n",
       "      <th>is_apartment</th>\n",
       "      <th>...</th>\n",
       "      <th>ponds_around3000</th>\n",
       "      <th>ponds_nearest</th>\n",
       "      <th>days_exposition</th>\n",
       "      <th>price_for_m</th>\n",
       "      <th>year_public</th>\n",
       "      <th>month_public</th>\n",
       "      <th>day_of_week_public</th>\n",
       "      <th>floor_category</th>\n",
       "      <th>living_ratio_total</th>\n",
       "      <th>kitchen_ratio_total</th>\n",
       "    </tr>\n",
       "  </thead>\n",
       "  <tbody>\n",
       "    <tr>\n",
       "      <th>0</th>\n",
       "      <td>20</td>\n",
       "      <td>13000000</td>\n",
       "      <td>108.0</td>\n",
       "      <td>2019-03-07T00:00:00</td>\n",
       "      <td>3</td>\n",
       "      <td>2.70</td>\n",
       "      <td>16</td>\n",
       "      <td>51.0</td>\n",
       "      <td>8</td>\n",
       "      <td>False</td>\n",
       "      <td>...</td>\n",
       "      <td>2</td>\n",
       "      <td>755.0</td>\n",
       "      <td>NaN</td>\n",
       "      <td>120370</td>\n",
       "      <td>2019</td>\n",
       "      <td>3</td>\n",
       "      <td>3</td>\n",
       "      <td>Другой этаж</td>\n",
       "      <td>0.472222</td>\n",
       "      <td>0.231481</td>\n",
       "    </tr>\n",
       "    <tr>\n",
       "      <th>1</th>\n",
       "      <td>7</td>\n",
       "      <td>3350000</td>\n",
       "      <td>40.4</td>\n",
       "      <td>2018-12-04T00:00:00</td>\n",
       "      <td>1</td>\n",
       "      <td>2.65</td>\n",
       "      <td>11</td>\n",
       "      <td>18.6</td>\n",
       "      <td>1</td>\n",
       "      <td>False</td>\n",
       "      <td>...</td>\n",
       "      <td>0</td>\n",
       "      <td>584.5</td>\n",
       "      <td>81.0</td>\n",
       "      <td>82920</td>\n",
       "      <td>2018</td>\n",
       "      <td>12</td>\n",
       "      <td>1</td>\n",
       "      <td>Первый этаж</td>\n",
       "      <td>0.460396</td>\n",
       "      <td>0.272277</td>\n",
       "    </tr>\n",
       "    <tr>\n",
       "      <th>2</th>\n",
       "      <td>10</td>\n",
       "      <td>5196000</td>\n",
       "      <td>56.0</td>\n",
       "      <td>2015-08-20T00:00:00</td>\n",
       "      <td>2</td>\n",
       "      <td>2.65</td>\n",
       "      <td>5</td>\n",
       "      <td>34.3</td>\n",
       "      <td>4</td>\n",
       "      <td>False</td>\n",
       "      <td>...</td>\n",
       "      <td>2</td>\n",
       "      <td>574.0</td>\n",
       "      <td>558.0</td>\n",
       "      <td>92785</td>\n",
       "      <td>2015</td>\n",
       "      <td>8</td>\n",
       "      <td>3</td>\n",
       "      <td>Другой этаж</td>\n",
       "      <td>0.612500</td>\n",
       "      <td>0.148214</td>\n",
       "    </tr>\n",
       "    <tr>\n",
       "      <th>3</th>\n",
       "      <td>0</td>\n",
       "      <td>64900000</td>\n",
       "      <td>159.0</td>\n",
       "      <td>2015-07-24T00:00:00</td>\n",
       "      <td>3</td>\n",
       "      <td>2.65</td>\n",
       "      <td>14</td>\n",
       "      <td>30.0</td>\n",
       "      <td>9</td>\n",
       "      <td>False</td>\n",
       "      <td>...</td>\n",
       "      <td>3</td>\n",
       "      <td>234.0</td>\n",
       "      <td>424.0</td>\n",
       "      <td>408176</td>\n",
       "      <td>2015</td>\n",
       "      <td>7</td>\n",
       "      <td>4</td>\n",
       "      <td>Другой этаж</td>\n",
       "      <td>0.188679</td>\n",
       "      <td>0.057233</td>\n",
       "    </tr>\n",
       "    <tr>\n",
       "      <th>4</th>\n",
       "      <td>2</td>\n",
       "      <td>10000000</td>\n",
       "      <td>100.0</td>\n",
       "      <td>2018-06-19T00:00:00</td>\n",
       "      <td>2</td>\n",
       "      <td>3.03</td>\n",
       "      <td>14</td>\n",
       "      <td>32.0</td>\n",
       "      <td>13</td>\n",
       "      <td>False</td>\n",
       "      <td>...</td>\n",
       "      <td>1</td>\n",
       "      <td>48.0</td>\n",
       "      <td>121.0</td>\n",
       "      <td>100000</td>\n",
       "      <td>2018</td>\n",
       "      <td>6</td>\n",
       "      <td>1</td>\n",
       "      <td>Другой этаж</td>\n",
       "      <td>0.320000</td>\n",
       "      <td>0.410000</td>\n",
       "    </tr>\n",
       "  </tbody>\n",
       "</table>\n",
       "<p>5 rows × 29 columns</p>\n",
       "</div>"
      ],
      "text/plain": [
       "   total_images  last_price  total_area first_day_exposition  rooms  \\\n",
       "0            20    13000000       108.0  2019-03-07T00:00:00      3   \n",
       "1             7     3350000        40.4  2018-12-04T00:00:00      1   \n",
       "2            10     5196000        56.0  2015-08-20T00:00:00      2   \n",
       "3             0    64900000       159.0  2015-07-24T00:00:00      3   \n",
       "4             2    10000000       100.0  2018-06-19T00:00:00      2   \n",
       "\n",
       "   ceiling_height  floors_total  living_area  floor  is_apartment  ...  \\\n",
       "0            2.70            16         51.0      8         False  ...   \n",
       "1            2.65            11         18.6      1         False  ...   \n",
       "2            2.65             5         34.3      4         False  ...   \n",
       "3            2.65            14         30.0      9         False  ...   \n",
       "4            3.03            14         32.0     13         False  ...   \n",
       "\n",
       "   ponds_around3000  ponds_nearest  days_exposition  price_for_m year_public  \\\n",
       "0                 2          755.0              NaN       120370        2019   \n",
       "1                 0          584.5             81.0        82920        2018   \n",
       "2                 2          574.0            558.0        92785        2015   \n",
       "3                 3          234.0            424.0       408176        2015   \n",
       "4                 1           48.0            121.0       100000        2018   \n",
       "\n",
       "   month_public  day_of_week_public  floor_category  living_ratio_total  \\\n",
       "0             3                   3     Другой этаж            0.472222   \n",
       "1            12                   1     Первый этаж            0.460396   \n",
       "2             8                   3     Другой этаж            0.612500   \n",
       "3             7                   4     Другой этаж            0.188679   \n",
       "4             6                   1     Другой этаж            0.320000   \n",
       "\n",
       "   kitchen_ratio_total  \n",
       "0             0.231481  \n",
       "1             0.272277  \n",
       "2             0.148214  \n",
       "3             0.057233  \n",
       "4             0.410000  \n",
       "\n",
       "[5 rows x 29 columns]"
      ]
     },
     "execution_count": 56,
     "metadata": {},
     "output_type": "execute_result"
    }
   ],
   "source": [
    "data.head()"
   ]
  },
  {
   "cell_type": "markdown",
   "metadata": {},
   "source": [
    "## Исследовательский анализ данных"
   ]
  },
  {
   "cell_type": "markdown",
   "metadata": {},
   "source": [
    "### Изучение параметров:площадь, цена, число комнат, высота потолков."
   ]
  },
  {
   "cell_type": "code",
   "execution_count": 57,
   "metadata": {},
   "outputs": [],
   "source": [
    "import matplotlib.pyplot as plt # импорт библиотеки для графиков"
   ]
  },
  {
   "cell_type": "code",
   "execution_count": 58,
   "metadata": {
    "scrolled": true
   },
   "outputs": [
    {
     "data": {
      "text/plain": [
       "count    2.364200e+04\n",
       "mean     6.539333e+06\n",
       "std      1.089151e+07\n",
       "min      1.219000e+04\n",
       "25%      3.400000e+06\n",
       "50%      4.650000e+06\n",
       "75%      6.799000e+06\n",
       "max      7.630000e+08\n",
       "Name: last_price, dtype: float64"
      ]
     },
     "execution_count": 58,
     "metadata": {},
     "output_type": "execute_result"
    }
   ],
   "source": [
    "data['last_price'].describe()"
   ]
  },
  {
   "cell_type": "code",
   "execution_count": 59,
   "metadata": {},
   "outputs": [
    {
     "data": {
      "text/plain": [
       "763000000"
      ]
     },
     "execution_count": 59,
     "metadata": {},
     "output_type": "execute_result"
    }
   ],
   "source": [
    "data['last_price'].max()"
   ]
  },
  {
   "cell_type": "code",
   "execution_count": 60,
   "metadata": {},
   "outputs": [
    {
     "data": {
      "text/plain": [
       "12190"
      ]
     },
     "execution_count": 60,
     "metadata": {},
     "output_type": "execute_result"
    }
   ],
   "source": [
    "data['last_price'].min()"
   ]
  },
  {
   "cell_type": "code",
   "execution_count": 61,
   "metadata": {},
   "outputs": [
    {
     "data": {
      "text/plain": [
       "4650000.0"
      ]
     },
     "execution_count": 61,
     "metadata": {},
     "output_type": "execute_result"
    }
   ],
   "source": [
    "data['last_price'].median()"
   ]
  },
  {
   "cell_type": "code",
   "execution_count": 62,
   "metadata": {
    "scrolled": false
   },
   "outputs": [
    {
     "data": {
      "text/plain": [
       "<AxesSubplot:>"
      ]
     },
     "execution_count": 62,
     "metadata": {},
     "output_type": "execute_result"
    },
    {
     "data": {
      "image/png": "[encoded data removed]",
      "text/plain": [
       "<Figure size 432x288 with 1 Axes>"
      ]
     },
     "metadata": {
      "needs_background": "light"
     },
     "output_type": "display_data"
    }
   ],
   "source": [
    "data['last_price'].hist(bins = 100, range=(0,30000000))# график по цене объекта"
   ]
  },
  {
   "cell_type": "markdown",
   "metadata": {},
   "source": [
    "Цена объекта. Больше всего квартир продаются за 3 - 4 млн. рублей. Средняя и медиана очень рзанятся, это связано с тем, что есть выбросы по цене объекта - в выгрузке присутствуют очень дорогие и дешевые объекты.  "
   ]
  },
  {
   "cell_type": "code",
   "execution_count": 63,
   "metadata": {
    "scrolled": true
   },
   "outputs": [
    {
     "data": {
      "text/plain": [
       "<AxesSubplot:>"
      ]
     },
     "execution_count": 63,
     "metadata": {},
     "output_type": "execute_result"
    },
    {
     "data": {
      "image/png": "[encoded data removed]",
      "text/plain": [
       "<Figure size 432x288 with 1 Axes>"
      ]
     },
     "metadata": {
      "needs_background": "light"
     },
     "output_type": "display_data"
    }
   ],
   "source": [
    "data['total_area'].hist(bins=50,range=(0,400)) #график по плащади объекта"
   ]
  },
  {
   "cell_type": "markdown",
   "metadata": {},
   "source": [
    "Прощадь объекта. В основном в продаже представлены картиры площадью - 45-49 кв.м. "
   ]
  },
  {
   "cell_type": "code",
   "execution_count": 64,
   "metadata": {},
   "outputs": [
    {
     "data": {
      "text/plain": [
       "<AxesSubplot:>"
      ]
     },
     "execution_count": 64,
     "metadata": {},
     "output_type": "execute_result"
    },
    {
     "data": {
      "image/png": "[encoded data removed]",
      "text/plain": [
       "<Figure size 432x288 with 1 Axes>"
      ]
     },
     "metadata": {
      "needs_background": "light"
     },
     "output_type": "display_data"
    }
   ],
   "source": [
    "data['rooms'].hist(bins=50,range=(0,7)) #график по количеству комнат"
   ]
  },
  {
   "cell_type": "markdown",
   "metadata": {},
   "source": [
    "Количество комнат. В основном в продаже однокомнатных и двукомнатных квартир.  "
   ]
  },
  {
   "cell_type": "code",
   "execution_count": 65,
   "metadata": {
    "scrolled": true
   },
   "outputs": [
    {
     "data": {
      "text/plain": [
       "count    23642.000000\n",
       "mean         2.724321\n",
       "std          0.989416\n",
       "min          1.000000\n",
       "25%          2.600000\n",
       "50%          2.650000\n",
       "75%          2.700000\n",
       "max        100.000000\n",
       "Name: ceiling_height, dtype: float64"
      ]
     },
     "execution_count": 65,
     "metadata": {},
     "output_type": "execute_result"
    }
   ],
   "source": [
    "data['ceiling_height'].describe()"
   ]
  },
  {
   "cell_type": "code",
   "execution_count": 66,
   "metadata": {
    "scrolled": false
   },
   "outputs": [
    {
     "data": {
      "text/plain": [
       "<AxesSubplot:>"
      ]
     },
     "execution_count": 66,
     "metadata": {},
     "output_type": "execute_result"
    },
    {
     "data": {
      "image/png": "[encoded data removed]",
      "text/plain": [
       "<Figure size 432x288 with 1 Axes>"
      ]
     },
     "metadata": {
      "needs_background": "light"
     },
     "output_type": "display_data"
    }
   ],
   "source": [
    "data['ceiling_height'].hist(bins=50,range=(2.3,4)) #график по высоте потолков"
   ]
  },
  {
   "cell_type": "code",
   "execution_count": 67,
   "metadata": {
    "scrolled": true
   },
   "outputs": [
    {
     "data": {
      "text/plain": [
       "(2.3, 4.0)"
      ]
     },
     "execution_count": 67,
     "metadata": {},
     "output_type": "execute_result"
    },
    {
     "data": {
      "image/png": "[encoded data removed]",
      "text/plain": [
       "<Figure size 432x288 with 1 Axes>"
      ]
     },
     "metadata": {
      "needs_background": "light"
     },
     "output_type": "display_data"
    }
   ],
   "source": [
    "data.boxplot(column='ceiling_height')\n",
    "plt.ylim(2.3, 4)"
   ]
  },
  {
   "cell_type": "markdown",
   "metadata": {},
   "source": [
    "### Исключение редких и выбивающихся значений."
   ]
  },
  {
   "cell_type": "markdown",
   "metadata": {},
   "source": [
    "К редким значениям я бы отнесла очень дешевые квартиры, квартиры с очень низкими потолками "
   ]
  },
  {
   "cell_type": "code",
   "execution_count": 68,
   "metadata": {
    "scrolled": true
   },
   "outputs": [
    {
     "data": {
      "text/plain": [
       "count    2.364200e+04\n",
       "mean     6.539333e+06\n",
       "std      1.089151e+07\n",
       "min      1.219000e+04\n",
       "25%      3.400000e+06\n",
       "50%      4.650000e+06\n",
       "75%      6.799000e+06\n",
       "max      7.630000e+08\n",
       "Name: last_price, dtype: float64"
      ]
     },
     "execution_count": 68,
     "metadata": {},
     "output_type": "execute_result"
    }
   ],
   "source": [
    "data['last_price'].describe()"
   ]
  },
  {
   "cell_type": "code",
   "execution_count": 69,
   "metadata": {
    "scrolled": true
   },
   "outputs": [
    {
     "data": {
      "text/plain": [
       "8793      12190\n",
       "14911    430000\n",
       "17456    430000\n",
       "16274    440000\n",
       "16219    450000\n",
       "17676    450000\n",
       "9581     450000\n",
       "5698     450000\n",
       "23484    470000\n",
       "21912    470000\n",
       "18867    470000\n",
       "16032    480000\n",
       "10782    490000\n",
       "6859     490000\n",
       "2097     500000\n",
       "14295    500000\n",
       "14904    500000\n",
       "4405     500000\n",
       "22430    520000\n",
       "12607    530000\n",
       "Name: last_price, dtype: int64"
      ]
     },
     "execution_count": 69,
     "metadata": {},
     "output_type": "execute_result"
    }
   ],
   "source": [
    "data['last_price'].sort_values(ascending=True).head(20)"
   ]
  },
  {
   "cell_type": "markdown",
   "metadata": {},
   "source": [
    "#8793\n",
    "data = data.drop(index=[8793])#удаляем строчку с самой дешевой квартирой \n"
   ]
  },
  {
   "cell_type": "code",
   "execution_count": 70,
   "metadata": {},
   "outputs": [],
   "source": [
    "data = data.query(\"last_price > 500000\")"
   ]
  },
  {
   "cell_type": "code",
   "execution_count": 71,
   "metadata": {},
   "outputs": [
    {
     "data": {
      "text/plain": [
       "22430    520000\n",
       "12607    530000\n",
       "1358     550000\n",
       "13768    550000\n",
       "1053     550000\n",
       "11351    550000\n",
       "7962     550000\n",
       "7376     550000\n",
       "22997    560000\n",
       "8630     560000\n",
       "19460    560000\n",
       "13809    565000\n",
       "10612    580000\n",
       "8105     585000\n",
       "15969    590000\n",
       "10945    600000\n",
       "6358     600000\n",
       "23067    600000\n",
       "21523    600000\n",
       "11211    600000\n",
       "Name: last_price, dtype: int64"
      ]
     },
     "execution_count": 71,
     "metadata": {},
     "output_type": "execute_result"
    }
   ],
   "source": [
    "data['last_price'].sort_values(ascending=True).head(20)"
   ]
  },
  {
   "cell_type": "code",
   "execution_count": 72,
   "metadata": {
    "scrolled": true
   },
   "outputs": [
    {
     "data": {
      "text/plain": [
       "count    23624.000000\n",
       "mean         2.724378\n",
       "std          0.989790\n",
       "min          1.000000\n",
       "25%          2.600000\n",
       "50%          2.650000\n",
       "75%          2.700000\n",
       "max        100.000000\n",
       "Name: ceiling_height, dtype: float64"
      ]
     },
     "execution_count": 72,
     "metadata": {},
     "output_type": "execute_result"
    }
   ],
   "source": [
    "data['ceiling_height'].describe()"
   ]
  },
  {
   "cell_type": "code",
   "execution_count": 73,
   "metadata": {
    "scrolled": false
   },
   "outputs": [
    {
     "data": {
      "text/plain": [
       "22869    100.00\n",
       "3148      32.00\n",
       "22336     32.00\n",
       "21377     27.50\n",
       "4876      27.00\n",
       "          ...  \n",
       "19329      2.00\n",
       "552        2.00\n",
       "16934      1.75\n",
       "5712       1.20\n",
       "22590      1.00\n",
       "Name: ceiling_height, Length: 23624, dtype: float64"
      ]
     },
     "execution_count": 73,
     "metadata": {},
     "output_type": "execute_result"
    }
   ],
   "source": [
    "data['ceiling_height'].sort_values(ascending=False)"
   ]
  },
  {
   "cell_type": "code",
   "execution_count": 74,
   "metadata": {},
   "outputs": [],
   "source": [
    "#data = data.drop(index=[22869, 22590])#удаляем строчкb  с высотой потолков 1 м и 100 м "
   ]
  },
  {
   "cell_type": "code",
   "execution_count": 75,
   "metadata": {},
   "outputs": [],
   "source": [
    "data = data.query(\"ceiling_height > 2.5 \")"
   ]
  },
  {
   "cell_type": "code",
   "execution_count": 76,
   "metadata": {},
   "outputs": [
    {
     "data": {
      "text/plain": [
       "22869    100.00\n",
       "22336     32.00\n",
       "3148      32.00\n",
       "21377     27.50\n",
       "4876      27.00\n",
       "          ...  \n",
       "8495       2.51\n",
       "14975      2.51\n",
       "9454       2.51\n",
       "11190      2.51\n",
       "15644      2.51\n",
       "Name: ceiling_height, Length: 20039, dtype: float64"
      ]
     },
     "execution_count": 76,
     "metadata": {},
     "output_type": "execute_result"
    }
   ],
   "source": [
    "data['ceiling_height'].sort_values(ascending=False)"
   ]
  },
  {
   "cell_type": "markdown",
   "metadata": {},
   "source": [
    "Высота потолков. В основном квартиры продаются с высотой 2,65. Но также имеются выбросы с величиной 100 и 1 метр высотой. "
   ]
  },
  {
   "cell_type": "markdown",
   "metadata": {},
   "source": [
    "### Изучение параметра -  время продажи квартиры"
   ]
  },
  {
   "cell_type": "code",
   "execution_count": 77,
   "metadata": {
    "scrolled": true
   },
   "outputs": [
    {
     "data": {
      "text/plain": [
       "count    17498.000000\n",
       "mean       183.514059\n",
       "std        222.157775\n",
       "min          2.000000\n",
       "25%         45.000000\n",
       "50%         97.000000\n",
       "75%        236.000000\n",
       "max       1572.000000\n",
       "Name: days_exposition, dtype: float64"
      ]
     },
     "execution_count": 77,
     "metadata": {},
     "output_type": "execute_result"
    }
   ],
   "source": [
    "data['days_exposition'].describe() #описание столбца"
   ]
  },
  {
   "cell_type": "code",
   "execution_count": 78,
   "metadata": {},
   "outputs": [
    {
     "data": {
      "text/plain": [
       "<AxesSubplot:>"
      ]
     },
     "execution_count": 78,
     "metadata": {},
     "output_type": "execute_result"
    },
    {
     "data": {
      "image/png": "[encoded data removed]",
      "text/plain": [
       "<Figure size 432x288 with 1 Axes>"
      ]
     },
     "metadata": {
      "needs_background": "light"
     },
     "output_type": "display_data"
    }
   ],
   "source": [
    "data['days_exposition'].hist(bins=30,range=(0,500)) "
   ]
  },
  {
   "cell_type": "code",
   "execution_count": 79,
   "metadata": {},
   "outputs": [
    {
     "data": {
      "text/plain": [
       "<AxesSubplot:>"
      ]
     },
     "execution_count": 79,
     "metadata": {},
     "output_type": "execute_result"
    },
    {
     "data": {
      "image/png": "[encoded data removed]",
      "text/plain": [
       "<Figure size 432x288 with 1 Axes>"
      ]
     },
     "metadata": {
      "needs_background": "light"
     },
     "output_type": "display_data"
    }
   ],
   "source": [
    "plt.ylim(0,500)\n",
    "data.boxplot(column='days_exposition') \n"
   ]
  },
  {
   "cell_type": "code",
   "execution_count": 80,
   "metadata": {
    "scrolled": true
   },
   "outputs": [
    {
     "data": {
      "text/plain": [
       "<AxesSubplot:>"
      ]
     },
     "execution_count": 80,
     "metadata": {},
     "output_type": "execute_result"
    },
    {
     "data": {
      "image/png": "[encoded data removed]",
      "text/plain": [
       "<Figure size 432x288 with 1 Axes>"
      ]
     },
     "metadata": {
      "needs_background": "light"
     },
     "output_type": "display_data"
    }
   ],
   "source": [
    "plt.ylim(0,1600) #все выбросы учтены \n",
    "data.boxplot(column='days_exposition') \n"
   ]
  },
  {
   "cell_type": "code",
   "execution_count": 81,
   "metadata": {
    "scrolled": true
   },
   "outputs": [
    {
     "data": {
      "text/html": [
       "<div>\n",
       "<style scoped>\n",
       "    .dataframe tbody tr th:only-of-type {\n",
       "        vertical-align: middle;\n",
       "    }\n",
       "\n",
       "    .dataframe tbody tr th {\n",
       "        vertical-align: top;\n",
       "    }\n",
       "\n",
       "    .dataframe thead th {\n",
       "        text-align: right;\n",
       "    }\n",
       "</style>\n",
       "<table border=\"1\" class=\"dataframe\">\n",
       "  <thead>\n",
       "    <tr style=\"text-align: right;\">\n",
       "      <th></th>\n",
       "      <th>total_images</th>\n",
       "      <th>last_price</th>\n",
       "      <th>total_area</th>\n",
       "      <th>first_day_exposition</th>\n",
       "      <th>rooms</th>\n",
       "      <th>ceiling_height</th>\n",
       "      <th>floors_total</th>\n",
       "      <th>living_area</th>\n",
       "      <th>floor</th>\n",
       "      <th>is_apartment</th>\n",
       "      <th>...</th>\n",
       "      <th>ponds_around3000</th>\n",
       "      <th>ponds_nearest</th>\n",
       "      <th>days_exposition</th>\n",
       "      <th>price_for_m</th>\n",
       "      <th>year_public</th>\n",
       "      <th>month_public</th>\n",
       "      <th>day_of_week_public</th>\n",
       "      <th>floor_category</th>\n",
       "      <th>living_ratio_total</th>\n",
       "      <th>kitchen_ratio_total</th>\n",
       "    </tr>\n",
       "  </thead>\n",
       "  <tbody>\n",
       "    <tr>\n",
       "      <th>1109</th>\n",
       "      <td>1</td>\n",
       "      <td>34878556</td>\n",
       "      <td>95.80</td>\n",
       "      <td>2014-12-09T00:00:00</td>\n",
       "      <td>2</td>\n",
       "      <td>2.65</td>\n",
       "      <td>6</td>\n",
       "      <td>58.30</td>\n",
       "      <td>5</td>\n",
       "      <td>True</td>\n",
       "      <td>...</td>\n",
       "      <td>3</td>\n",
       "      <td>569.0</td>\n",
       "      <td>1572.0</td>\n",
       "      <td>364076</td>\n",
       "      <td>2014</td>\n",
       "      <td>12</td>\n",
       "      <td>1</td>\n",
       "      <td>Другой этаж</td>\n",
       "      <td>0.608559</td>\n",
       "      <td>0.208768</td>\n",
       "    </tr>\n",
       "    <tr>\n",
       "      <th>9553</th>\n",
       "      <td>11</td>\n",
       "      <td>10600000</td>\n",
       "      <td>80.00</td>\n",
       "      <td>2014-12-09T00:00:00</td>\n",
       "      <td>3</td>\n",
       "      <td>2.85</td>\n",
       "      <td>17</td>\n",
       "      <td>44.00</td>\n",
       "      <td>9</td>\n",
       "      <td>False</td>\n",
       "      <td>...</td>\n",
       "      <td>0</td>\n",
       "      <td>503.0</td>\n",
       "      <td>1553.0</td>\n",
       "      <td>132500</td>\n",
       "      <td>2014</td>\n",
       "      <td>12</td>\n",
       "      <td>1</td>\n",
       "      <td>Другой этаж</td>\n",
       "      <td>0.550000</td>\n",
       "      <td>0.187500</td>\n",
       "    </tr>\n",
       "    <tr>\n",
       "      <th>1885</th>\n",
       "      <td>2</td>\n",
       "      <td>13300000</td>\n",
       "      <td>79.60</td>\n",
       "      <td>2014-12-09T00:00:00</td>\n",
       "      <td>2</td>\n",
       "      <td>3.00</td>\n",
       "      <td>8</td>\n",
       "      <td>42.70</td>\n",
       "      <td>7</td>\n",
       "      <td>False</td>\n",
       "      <td>...</td>\n",
       "      <td>0</td>\n",
       "      <td>503.0</td>\n",
       "      <td>1513.0</td>\n",
       "      <td>167085</td>\n",
       "      <td>2014</td>\n",
       "      <td>12</td>\n",
       "      <td>1</td>\n",
       "      <td>Другой этаж</td>\n",
       "      <td>0.536432</td>\n",
       "      <td>0.226131</td>\n",
       "    </tr>\n",
       "    <tr>\n",
       "      <th>20969</th>\n",
       "      <td>18</td>\n",
       "      <td>13300000</td>\n",
       "      <td>133.00</td>\n",
       "      <td>2015-02-11T00:00:00</td>\n",
       "      <td>4</td>\n",
       "      <td>3.00</td>\n",
       "      <td>5</td>\n",
       "      <td>58.00</td>\n",
       "      <td>2</td>\n",
       "      <td>False</td>\n",
       "      <td>...</td>\n",
       "      <td>1</td>\n",
       "      <td>534.0</td>\n",
       "      <td>1512.0</td>\n",
       "      <td>100000</td>\n",
       "      <td>2015</td>\n",
       "      <td>2</td>\n",
       "      <td>2</td>\n",
       "      <td>Другой этаж</td>\n",
       "      <td>0.436090</td>\n",
       "      <td>0.338346</td>\n",
       "    </tr>\n",
       "    <tr>\n",
       "      <th>6691</th>\n",
       "      <td>3</td>\n",
       "      <td>4400000</td>\n",
       "      <td>42.98</td>\n",
       "      <td>2014-12-12T00:00:00</td>\n",
       "      <td>1</td>\n",
       "      <td>2.65</td>\n",
       "      <td>5</td>\n",
       "      <td>18.72</td>\n",
       "      <td>1</td>\n",
       "      <td>False</td>\n",
       "      <td>...</td>\n",
       "      <td>3</td>\n",
       "      <td>232.0</td>\n",
       "      <td>1512.0</td>\n",
       "      <td>102373</td>\n",
       "      <td>2014</td>\n",
       "      <td>12</td>\n",
       "      <td>4</td>\n",
       "      <td>Первый этаж</td>\n",
       "      <td>0.435551</td>\n",
       "      <td>0.263146</td>\n",
       "    </tr>\n",
       "  </tbody>\n",
       "</table>\n",
       "<p>5 rows × 29 columns</p>\n",
       "</div>"
      ],
      "text/plain": [
       "       total_images  last_price  total_area first_day_exposition  rooms  \\\n",
       "1109              1    34878556       95.80  2014-12-09T00:00:00      2   \n",
       "9553             11    10600000       80.00  2014-12-09T00:00:00      3   \n",
       "1885              2    13300000       79.60  2014-12-09T00:00:00      2   \n",
       "20969            18    13300000      133.00  2015-02-11T00:00:00      4   \n",
       "6691              3     4400000       42.98  2014-12-12T00:00:00      1   \n",
       "\n",
       "       ceiling_height  floors_total  living_area  floor  is_apartment  ...  \\\n",
       "1109             2.65             6        58.30      5          True  ...   \n",
       "9553             2.85            17        44.00      9         False  ...   \n",
       "1885             3.00             8        42.70      7         False  ...   \n",
       "20969            3.00             5        58.00      2         False  ...   \n",
       "6691             2.65             5        18.72      1         False  ...   \n",
       "\n",
       "       ponds_around3000  ponds_nearest  days_exposition  price_for_m  \\\n",
       "1109                  3          569.0           1572.0       364076   \n",
       "9553                  0          503.0           1553.0       132500   \n",
       "1885                  0          503.0           1513.0       167085   \n",
       "20969                 1          534.0           1512.0       100000   \n",
       "6691                  3          232.0           1512.0       102373   \n",
       "\n",
       "      year_public  month_public  day_of_week_public  floor_category  \\\n",
       "1109         2014            12                   1     Другой этаж   \n",
       "9553         2014            12                   1     Другой этаж   \n",
       "1885         2014            12                   1     Другой этаж   \n",
       "20969        2015             2                   2     Другой этаж   \n",
       "6691         2014            12                   4     Первый этаж   \n",
       "\n",
       "       living_ratio_total  kitchen_ratio_total  \n",
       "1109             0.608559             0.208768  \n",
       "9553             0.550000             0.187500  \n",
       "1885             0.536432             0.226131  \n",
       "20969            0.436090             0.338346  \n",
       "6691             0.435551             0.263146  \n",
       "\n",
       "[5 rows x 29 columns]"
      ]
     },
     "execution_count": 81,
     "metadata": {},
     "output_type": "execute_result"
    }
   ],
   "source": [
    "data.sort_values(by='days_exposition',ascending=False).head()#просмотр квартир с аномальными данными "
   ]
  },
  {
   "cell_type": "code",
   "execution_count": 82,
   "metadata": {},
   "outputs": [],
   "source": [
    "without_anomaly_days_exposition = data.query('days_exposition < 420')# отчищаем данные от выбросов "
   ]
  },
  {
   "cell_type": "code",
   "execution_count": 83,
   "metadata": {
    "scrolled": false
   },
   "outputs": [
    {
     "data": {
      "text/plain": [
       "<AxesSubplot:>"
      ]
     },
     "execution_count": 83,
     "metadata": {},
     "output_type": "execute_result"
    },
    {
     "data": {
      "image/png": "[encoded data removed]",
      "text/plain": [
       "<Figure size 432x288 with 1 Axes>"
      ]
     },
     "metadata": {
      "needs_background": "light"
     },
     "output_type": "display_data"
    }
   ],
   "source": [
    "without_anomaly_days_exposition['days_exposition'].hist(bins=30,range=(0,500))"
   ]
  },
  {
   "cell_type": "code",
   "execution_count": 84,
   "metadata": {
    "scrolled": true
   },
   "outputs": [
    {
     "data": {
      "text/plain": [
       "0"
      ]
     },
     "execution_count": 84,
     "metadata": {},
     "output_type": "execute_result"
    }
   ],
   "source": [
    "data['days_exposition'] = data['days_exposition'].fillna(data['days_exposition'].median()) #заполняем пропущенные значения,\n",
    "#смотрим на изменение характера данных \n",
    "data['days_exposition'].isnull().sum()"
   ]
  },
  {
   "cell_type": "code",
   "execution_count": 85,
   "metadata": {
    "scrolled": true
   },
   "outputs": [
    {
     "data": {
      "text/plain": [
       "<AxesSubplot:>"
      ]
     },
     "execution_count": 85,
     "metadata": {},
     "output_type": "execute_result"
    },
    {
     "data": {
      "image/png": "[encoded data removed]",
      "text/plain": [
       "<Figure size 432x288 with 1 Axes>"
      ]
     },
     "metadata": {
      "needs_background": "light"
     },
     "output_type": "display_data"
    }
   ],
   "source": [
    "data['days_exposition'].hist(bins=30,range=(0,500)) #график после заполнения данных медианой"
   ]
  },
  {
   "cell_type": "code",
   "execution_count": 86,
   "metadata": {
    "scrolled": false
   },
   "outputs": [
    {
     "data": {
      "text/plain": [
       "count    20039.000000\n",
       "mean       172.543840\n",
       "std        209.581265\n",
       "min          2.000000\n",
       "25%         46.000000\n",
       "50%         97.000000\n",
       "75%        203.000000\n",
       "max       1572.000000\n",
       "Name: days_exposition, dtype: float64"
      ]
     },
     "execution_count": 86,
     "metadata": {},
     "output_type": "execute_result"
    }
   ],
   "source": [
    "data['days_exposition'].describe() #описание столбца, смотрим изменения данных "
   ]
  },
  {
   "cell_type": "markdown",
   "metadata": {},
   "source": [
    "Т.к. в предработке данных я не стала прорабатывать пропущенные данные, то сначала провела аналих с пропусками, выявила, что средняя и медиана очень далеки друг от друга, время продажы было сосредаточено в интервале до 100 дней. Самой быстрой продажей - продажа в один день. Самой долгой продажей (если не брать во внимание выбросы 3Q)  -427 дней.\n",
    "\n",
    "После проработки данных и  заполнения пропущенных значений, исключения аномалий, показатели изменились - уменьшилось среднее значение, став немного ближе в к медианому. И стали видны 4 пика. Самый большой пик- 95 дней, пики - 50 дней, 70 дней и 10 дней\n"
   ]
  },
  {
   "cell_type": "markdown",
   "metadata": {},
   "source": [
    "### Факторы,  больше всего влияющие  на стоимость квартиры"
   ]
  },
  {
   "cell_type": "code",
   "execution_count": 87,
   "metadata": {},
   "outputs": [
    {
     "data": {
      "text/plain": [
       "count    2.003900e+04\n",
       "mean     6.986404e+06\n",
       "std      1.172778e+07\n",
       "min      5.200000e+05\n",
       "25%      3.550000e+06\n",
       "50%      4.890000e+06\n",
       "75%      7.264380e+06\n",
       "max      7.630000e+08\n",
       "Name: last_price, dtype: float64"
      ]
     },
     "execution_count": 87,
     "metadata": {},
     "output_type": "execute_result"
    }
   ],
   "source": [
    "data['last_price'].describe() #описание столбца"
   ]
  },
  {
   "cell_type": "code",
   "execution_count": 88,
   "metadata": {},
   "outputs": [
    {
     "data": {
      "image/png": "[encoded data removed]",
      "text/plain": [
       "<Figure size 432x288 with 1 Axes>"
      ]
     },
     "metadata": {
      "needs_background": "light"
     },
     "output_type": "display_data"
    }
   ],
   "source": [
    "plt.ylim(500000,15000000)\n",
    "data.boxplot(column = 'last_price')\n",
    "plt.show()"
   ]
  },
  {
   "cell_type": "code",
   "execution_count": 89,
   "metadata": {},
   "outputs": [
    {
     "data": {
      "text/plain": [
       "520000"
      ]
     },
     "execution_count": 89,
     "metadata": {},
     "output_type": "execute_result"
    }
   ],
   "source": [
    "data['last_price'].min()"
   ]
  },
  {
   "cell_type": "code",
   "execution_count": 90,
   "metadata": {},
   "outputs": [
    {
     "data": {
      "text/plain": [
       "763000000"
      ]
     },
     "execution_count": 90,
     "metadata": {},
     "output_type": "execute_result"
    }
   ],
   "source": [
    "data['last_price'].max()"
   ]
  },
  {
   "cell_type": "code",
   "execution_count": 91,
   "metadata": {
    "scrolled": true
   },
   "outputs": [
    {
     "data": {
      "text/plain": [
       "4890000.0"
      ]
     },
     "execution_count": 91,
     "metadata": {},
     "output_type": "execute_result"
    }
   ],
   "source": [
    "data['last_price'].median()"
   ]
  },
  {
   "cell_type": "code",
   "execution_count": 92,
   "metadata": {},
   "outputs": [
    {
     "data": {
      "text/plain": [
       "6986404.318977993"
      ]
     },
     "execution_count": 92,
     "metadata": {},
     "output_type": "execute_result"
    }
   ],
   "source": [
    "data['last_price'].mean()"
   ]
  },
  {
   "cell_type": "markdown",
   "metadata": {},
   "source": [
    "На диаграмме размаха видно, что в выбросы попадают квартиры свыше 11 млн. руб"
   ]
  },
  {
   "cell_type": "code",
   "execution_count": 93,
   "metadata": {},
   "outputs": [
    {
     "data": {
      "text/html": [
       "<div>\n",
       "<style scoped>\n",
       "    .dataframe tbody tr th:only-of-type {\n",
       "        vertical-align: middle;\n",
       "    }\n",
       "\n",
       "    .dataframe tbody tr th {\n",
       "        vertical-align: top;\n",
       "    }\n",
       "\n",
       "    .dataframe thead th {\n",
       "        text-align: right;\n",
       "    }\n",
       "</style>\n",
       "<table border=\"1\" class=\"dataframe\">\n",
       "  <thead>\n",
       "    <tr style=\"text-align: right;\">\n",
       "      <th></th>\n",
       "      <th>total_images</th>\n",
       "      <th>last_price</th>\n",
       "      <th>total_area</th>\n",
       "      <th>first_day_exposition</th>\n",
       "      <th>rooms</th>\n",
       "      <th>ceiling_height</th>\n",
       "      <th>floors_total</th>\n",
       "      <th>living_area</th>\n",
       "      <th>floor</th>\n",
       "      <th>is_apartment</th>\n",
       "      <th>...</th>\n",
       "      <th>ponds_around3000</th>\n",
       "      <th>ponds_nearest</th>\n",
       "      <th>days_exposition</th>\n",
       "      <th>price_for_m</th>\n",
       "      <th>year_public</th>\n",
       "      <th>month_public</th>\n",
       "      <th>day_of_week_public</th>\n",
       "      <th>floor_category</th>\n",
       "      <th>living_ratio_total</th>\n",
       "      <th>kitchen_ratio_total</th>\n",
       "    </tr>\n",
       "  </thead>\n",
       "  <tbody>\n",
       "    <tr>\n",
       "      <th>12971</th>\n",
       "      <td>19</td>\n",
       "      <td>763000000</td>\n",
       "      <td>400.0</td>\n",
       "      <td>2017-09-30T00:00:00</td>\n",
       "      <td>7</td>\n",
       "      <td>2.65</td>\n",
       "      <td>10</td>\n",
       "      <td>250.0</td>\n",
       "      <td>10</td>\n",
       "      <td>False</td>\n",
       "      <td>...</td>\n",
       "      <td>3</td>\n",
       "      <td>756.0</td>\n",
       "      <td>33.0</td>\n",
       "      <td>1907500</td>\n",
       "      <td>2017</td>\n",
       "      <td>9</td>\n",
       "      <td>5</td>\n",
       "      <td>Последний этаж</td>\n",
       "      <td>0.625000</td>\n",
       "      <td>0.022750</td>\n",
       "    </tr>\n",
       "    <tr>\n",
       "      <th>19540</th>\n",
       "      <td>8</td>\n",
       "      <td>420000000</td>\n",
       "      <td>900.0</td>\n",
       "      <td>2017-12-06T00:00:00</td>\n",
       "      <td>12</td>\n",
       "      <td>2.80</td>\n",
       "      <td>25</td>\n",
       "      <td>409.7</td>\n",
       "      <td>25</td>\n",
       "      <td>False</td>\n",
       "      <td>...</td>\n",
       "      <td>2</td>\n",
       "      <td>318.0</td>\n",
       "      <td>106.0</td>\n",
       "      <td>466666</td>\n",
       "      <td>2017</td>\n",
       "      <td>12</td>\n",
       "      <td>2</td>\n",
       "      <td>Последний этаж</td>\n",
       "      <td>0.455222</td>\n",
       "      <td>0.124444</td>\n",
       "    </tr>\n",
       "    <tr>\n",
       "      <th>14706</th>\n",
       "      <td>15</td>\n",
       "      <td>401300000</td>\n",
       "      <td>401.0</td>\n",
       "      <td>2016-02-20T00:00:00</td>\n",
       "      <td>5</td>\n",
       "      <td>2.65</td>\n",
       "      <td>9</td>\n",
       "      <td>204.0</td>\n",
       "      <td>9</td>\n",
       "      <td>False</td>\n",
       "      <td>...</td>\n",
       "      <td>1</td>\n",
       "      <td>478.0</td>\n",
       "      <td>393.0</td>\n",
       "      <td>1000748</td>\n",
       "      <td>2016</td>\n",
       "      <td>2</td>\n",
       "      <td>5</td>\n",
       "      <td>Последний этаж</td>\n",
       "      <td>0.508728</td>\n",
       "      <td>0.059850</td>\n",
       "    </tr>\n",
       "    <tr>\n",
       "      <th>1436</th>\n",
       "      <td>19</td>\n",
       "      <td>330000000</td>\n",
       "      <td>190.0</td>\n",
       "      <td>2018-04-04T00:00:00</td>\n",
       "      <td>3</td>\n",
       "      <td>3.50</td>\n",
       "      <td>7</td>\n",
       "      <td>95.0</td>\n",
       "      <td>5</td>\n",
       "      <td>False</td>\n",
       "      <td>...</td>\n",
       "      <td>3</td>\n",
       "      <td>285.0</td>\n",
       "      <td>233.0</td>\n",
       "      <td>1736842</td>\n",
       "      <td>2018</td>\n",
       "      <td>4</td>\n",
       "      <td>2</td>\n",
       "      <td>Другой этаж</td>\n",
       "      <td>0.500000</td>\n",
       "      <td>0.210526</td>\n",
       "    </tr>\n",
       "    <tr>\n",
       "      <th>15651</th>\n",
       "      <td>20</td>\n",
       "      <td>300000000</td>\n",
       "      <td>618.0</td>\n",
       "      <td>2017-12-18T00:00:00</td>\n",
       "      <td>7</td>\n",
       "      <td>3.40</td>\n",
       "      <td>7</td>\n",
       "      <td>258.0</td>\n",
       "      <td>5</td>\n",
       "      <td>False</td>\n",
       "      <td>...</td>\n",
       "      <td>2</td>\n",
       "      <td>198.0</td>\n",
       "      <td>111.0</td>\n",
       "      <td>485436</td>\n",
       "      <td>2017</td>\n",
       "      <td>12</td>\n",
       "      <td>0</td>\n",
       "      <td>Другой этаж</td>\n",
       "      <td>0.417476</td>\n",
       "      <td>0.113269</td>\n",
       "    </tr>\n",
       "    <tr>\n",
       "      <th>22831</th>\n",
       "      <td>18</td>\n",
       "      <td>289238400</td>\n",
       "      <td>187.5</td>\n",
       "      <td>2019-03-19T00:00:00</td>\n",
       "      <td>2</td>\n",
       "      <td>3.37</td>\n",
       "      <td>6</td>\n",
       "      <td>63.7</td>\n",
       "      <td>6</td>\n",
       "      <td>False</td>\n",
       "      <td>...</td>\n",
       "      <td>3</td>\n",
       "      <td>188.0</td>\n",
       "      <td>97.0</td>\n",
       "      <td>1542604</td>\n",
       "      <td>2019</td>\n",
       "      <td>3</td>\n",
       "      <td>1</td>\n",
       "      <td>Последний этаж</td>\n",
       "      <td>0.339733</td>\n",
       "      <td>0.161067</td>\n",
       "    </tr>\n",
       "    <tr>\n",
       "      <th>16461</th>\n",
       "      <td>17</td>\n",
       "      <td>245000000</td>\n",
       "      <td>285.7</td>\n",
       "      <td>2017-04-10T00:00:00</td>\n",
       "      <td>6</td>\n",
       "      <td>3.35</td>\n",
       "      <td>7</td>\n",
       "      <td>182.8</td>\n",
       "      <td>4</td>\n",
       "      <td>False</td>\n",
       "      <td>...</td>\n",
       "      <td>3</td>\n",
       "      <td>140.0</td>\n",
       "      <td>249.0</td>\n",
       "      <td>857542</td>\n",
       "      <td>2017</td>\n",
       "      <td>4</td>\n",
       "      <td>0</td>\n",
       "      <td>Другой этаж</td>\n",
       "      <td>0.639832</td>\n",
       "      <td>0.104305</td>\n",
       "    </tr>\n",
       "    <tr>\n",
       "      <th>13749</th>\n",
       "      <td>7</td>\n",
       "      <td>240000000</td>\n",
       "      <td>410.0</td>\n",
       "      <td>2017-04-01T00:00:00</td>\n",
       "      <td>6</td>\n",
       "      <td>3.40</td>\n",
       "      <td>7</td>\n",
       "      <td>218.0</td>\n",
       "      <td>7</td>\n",
       "      <td>False</td>\n",
       "      <td>...</td>\n",
       "      <td>2</td>\n",
       "      <td>198.0</td>\n",
       "      <td>199.0</td>\n",
       "      <td>585365</td>\n",
       "      <td>2017</td>\n",
       "      <td>4</td>\n",
       "      <td>5</td>\n",
       "      <td>Последний этаж</td>\n",
       "      <td>0.531707</td>\n",
       "      <td>0.097561</td>\n",
       "    </tr>\n",
       "    <tr>\n",
       "      <th>5893</th>\n",
       "      <td>3</td>\n",
       "      <td>230000000</td>\n",
       "      <td>500.0</td>\n",
       "      <td>2017-05-31T00:00:00</td>\n",
       "      <td>6</td>\n",
       "      <td>2.65</td>\n",
       "      <td>7</td>\n",
       "      <td>30.0</td>\n",
       "      <td>7</td>\n",
       "      <td>False</td>\n",
       "      <td>...</td>\n",
       "      <td>2</td>\n",
       "      <td>198.0</td>\n",
       "      <td>50.0</td>\n",
       "      <td>460000</td>\n",
       "      <td>2017</td>\n",
       "      <td>5</td>\n",
       "      <td>2</td>\n",
       "      <td>Последний этаж</td>\n",
       "      <td>0.060000</td>\n",
       "      <td>0.080000</td>\n",
       "    </tr>\n",
       "    <tr>\n",
       "      <th>8900</th>\n",
       "      <td>13</td>\n",
       "      <td>190870000</td>\n",
       "      <td>268.0</td>\n",
       "      <td>2016-03-25T00:00:00</td>\n",
       "      <td>3</td>\n",
       "      <td>2.65</td>\n",
       "      <td>8</td>\n",
       "      <td>132.0</td>\n",
       "      <td>7</td>\n",
       "      <td>False</td>\n",
       "      <td>...</td>\n",
       "      <td>2</td>\n",
       "      <td>198.0</td>\n",
       "      <td>901.0</td>\n",
       "      <td>712201</td>\n",
       "      <td>2016</td>\n",
       "      <td>3</td>\n",
       "      <td>4</td>\n",
       "      <td>Другой этаж</td>\n",
       "      <td>0.492537</td>\n",
       "      <td>0.149254</td>\n",
       "    </tr>\n",
       "    <tr>\n",
       "      <th>19865</th>\n",
       "      <td>20</td>\n",
       "      <td>180000000</td>\n",
       "      <td>347.0</td>\n",
       "      <td>2015-01-21T00:00:00</td>\n",
       "      <td>8</td>\n",
       "      <td>3.90</td>\n",
       "      <td>6</td>\n",
       "      <td>260.0</td>\n",
       "      <td>3</td>\n",
       "      <td>False</td>\n",
       "      <td>...</td>\n",
       "      <td>3</td>\n",
       "      <td>501.0</td>\n",
       "      <td>834.0</td>\n",
       "      <td>518731</td>\n",
       "      <td>2015</td>\n",
       "      <td>1</td>\n",
       "      <td>2</td>\n",
       "      <td>Другой этаж</td>\n",
       "      <td>0.749280</td>\n",
       "      <td>0.129683</td>\n",
       "    </tr>\n",
       "    <tr>\n",
       "      <th>19155</th>\n",
       "      <td>20</td>\n",
       "      <td>160000000</td>\n",
       "      <td>243.0</td>\n",
       "      <td>2018-11-12T00:00:00</td>\n",
       "      <td>5</td>\n",
       "      <td>2.65</td>\n",
       "      <td>5</td>\n",
       "      <td>145.0</td>\n",
       "      <td>4</td>\n",
       "      <td>False</td>\n",
       "      <td>...</td>\n",
       "      <td>1</td>\n",
       "      <td>200.0</td>\n",
       "      <td>18.0</td>\n",
       "      <td>658436</td>\n",
       "      <td>2018</td>\n",
       "      <td>11</td>\n",
       "      <td>0</td>\n",
       "      <td>Другой этаж</td>\n",
       "      <td>0.596708</td>\n",
       "      <td>0.135802</td>\n",
       "    </tr>\n",
       "    <tr>\n",
       "      <th>2536</th>\n",
       "      <td>16</td>\n",
       "      <td>159984000</td>\n",
       "      <td>242.4</td>\n",
       "      <td>2015-08-27T00:00:00</td>\n",
       "      <td>4</td>\n",
       "      <td>3.85</td>\n",
       "      <td>9</td>\n",
       "      <td>131.0</td>\n",
       "      <td>7</td>\n",
       "      <td>False</td>\n",
       "      <td>...</td>\n",
       "      <td>1</td>\n",
       "      <td>227.0</td>\n",
       "      <td>501.0</td>\n",
       "      <td>660000</td>\n",
       "      <td>2015</td>\n",
       "      <td>8</td>\n",
       "      <td>3</td>\n",
       "      <td>Другой этаж</td>\n",
       "      <td>0.540429</td>\n",
       "      <td>0.082508</td>\n",
       "    </tr>\n",
       "    <tr>\n",
       "      <th>16495</th>\n",
       "      <td>12</td>\n",
       "      <td>159000000</td>\n",
       "      <td>260.0</td>\n",
       "      <td>2017-04-04T00:00:00</td>\n",
       "      <td>4</td>\n",
       "      <td>2.65</td>\n",
       "      <td>5</td>\n",
       "      <td>180.0</td>\n",
       "      <td>4</td>\n",
       "      <td>False</td>\n",
       "      <td>...</td>\n",
       "      <td>3</td>\n",
       "      <td>620.0</td>\n",
       "      <td>178.0</td>\n",
       "      <td>611538</td>\n",
       "      <td>2017</td>\n",
       "      <td>4</td>\n",
       "      <td>1</td>\n",
       "      <td>Другой этаж</td>\n",
       "      <td>0.692308</td>\n",
       "      <td>0.115385</td>\n",
       "    </tr>\n",
       "    <tr>\n",
       "      <th>1026</th>\n",
       "      <td>20</td>\n",
       "      <td>155000000</td>\n",
       "      <td>310.0</td>\n",
       "      <td>2018-10-12T00:00:00</td>\n",
       "      <td>5</td>\n",
       "      <td>5.30</td>\n",
       "      <td>3</td>\n",
       "      <td>190.0</td>\n",
       "      <td>3</td>\n",
       "      <td>False</td>\n",
       "      <td>...</td>\n",
       "      <td>1</td>\n",
       "      <td>603.0</td>\n",
       "      <td>97.0</td>\n",
       "      <td>500000</td>\n",
       "      <td>2018</td>\n",
       "      <td>10</td>\n",
       "      <td>4</td>\n",
       "      <td>Последний этаж</td>\n",
       "      <td>0.612903</td>\n",
       "      <td>0.203226</td>\n",
       "    </tr>\n",
       "  </tbody>\n",
       "</table>\n",
       "<p>15 rows × 29 columns</p>\n",
       "</div>"
      ],
      "text/plain": [
       "       total_images  last_price  total_area first_day_exposition  rooms  \\\n",
       "12971            19   763000000       400.0  2017-09-30T00:00:00      7   \n",
       "19540             8   420000000       900.0  2017-12-06T00:00:00     12   \n",
       "14706            15   401300000       401.0  2016-02-20T00:00:00      5   \n",
       "1436             19   330000000       190.0  2018-04-04T00:00:00      3   \n",
       "15651            20   300000000       618.0  2017-12-18T00:00:00      7   \n",
       "22831            18   289238400       187.5  2019-03-19T00:00:00      2   \n",
       "16461            17   245000000       285.7  2017-04-10T00:00:00      6   \n",
       "13749             7   240000000       410.0  2017-04-01T00:00:00      6   \n",
       "5893              3   230000000       500.0  2017-05-31T00:00:00      6   \n",
       "8900             13   190870000       268.0  2016-03-25T00:00:00      3   \n",
       "19865            20   180000000       347.0  2015-01-21T00:00:00      8   \n",
       "19155            20   160000000       243.0  2018-11-12T00:00:00      5   \n",
       "2536             16   159984000       242.4  2015-08-27T00:00:00      4   \n",
       "16495            12   159000000       260.0  2017-04-04T00:00:00      4   \n",
       "1026             20   155000000       310.0  2018-10-12T00:00:00      5   \n",
       "\n",
       "       ceiling_height  floors_total  living_area  floor  is_apartment  ...  \\\n",
       "12971            2.65            10        250.0     10         False  ...   \n",
       "19540            2.80            25        409.7     25         False  ...   \n",
       "14706            2.65             9        204.0      9         False  ...   \n",
       "1436             3.50             7         95.0      5         False  ...   \n",
       "15651            3.40             7        258.0      5         False  ...   \n",
       "22831            3.37             6         63.7      6         False  ...   \n",
       "16461            3.35             7        182.8      4         False  ...   \n",
       "13749            3.40             7        218.0      7         False  ...   \n",
       "5893             2.65             7         30.0      7         False  ...   \n",
       "8900             2.65             8        132.0      7         False  ...   \n",
       "19865            3.90             6        260.0      3         False  ...   \n",
       "19155            2.65             5        145.0      4         False  ...   \n",
       "2536             3.85             9        131.0      7         False  ...   \n",
       "16495            2.65             5        180.0      4         False  ...   \n",
       "1026             5.30             3        190.0      3         False  ...   \n",
       "\n",
       "       ponds_around3000  ponds_nearest  days_exposition  price_for_m  \\\n",
       "12971                 3          756.0             33.0      1907500   \n",
       "19540                 2          318.0            106.0       466666   \n",
       "14706                 1          478.0            393.0      1000748   \n",
       "1436                  3          285.0            233.0      1736842   \n",
       "15651                 2          198.0            111.0       485436   \n",
       "22831                 3          188.0             97.0      1542604   \n",
       "16461                 3          140.0            249.0       857542   \n",
       "13749                 2          198.0            199.0       585365   \n",
       "5893                  2          198.0             50.0       460000   \n",
       "8900                  2          198.0            901.0       712201   \n",
       "19865                 3          501.0            834.0       518731   \n",
       "19155                 1          200.0             18.0       658436   \n",
       "2536                  1          227.0            501.0       660000   \n",
       "16495                 3          620.0            178.0       611538   \n",
       "1026                  1          603.0             97.0       500000   \n",
       "\n",
       "      year_public  month_public  day_of_week_public  floor_category  \\\n",
       "12971        2017             9                   5  Последний этаж   \n",
       "19540        2017            12                   2  Последний этаж   \n",
       "14706        2016             2                   5  Последний этаж   \n",
       "1436         2018             4                   2     Другой этаж   \n",
       "15651        2017            12                   0     Другой этаж   \n",
       "22831        2019             3                   1  Последний этаж   \n",
       "16461        2017             4                   0     Другой этаж   \n",
       "13749        2017             4                   5  Последний этаж   \n",
       "5893         2017             5                   2  Последний этаж   \n",
       "8900         2016             3                   4     Другой этаж   \n",
       "19865        2015             1                   2     Другой этаж   \n",
       "19155        2018            11                   0     Другой этаж   \n",
       "2536         2015             8                   3     Другой этаж   \n",
       "16495        2017             4                   1     Другой этаж   \n",
       "1026         2018            10                   4  Последний этаж   \n",
       "\n",
       "       living_ratio_total  kitchen_ratio_total  \n",
       "12971            0.625000             0.022750  \n",
       "19540            0.455222             0.124444  \n",
       "14706            0.508728             0.059850  \n",
       "1436             0.500000             0.210526  \n",
       "15651            0.417476             0.113269  \n",
       "22831            0.339733             0.161067  \n",
       "16461            0.639832             0.104305  \n",
       "13749            0.531707             0.097561  \n",
       "5893             0.060000             0.080000  \n",
       "8900             0.492537             0.149254  \n",
       "19865            0.749280             0.129683  \n",
       "19155            0.596708             0.135802  \n",
       "2536             0.540429             0.082508  \n",
       "16495            0.692308             0.115385  \n",
       "1026             0.612903             0.203226  \n",
       "\n",
       "[15 rows x 29 columns]"
      ]
     },
     "execution_count": 93,
     "metadata": {},
     "output_type": "execute_result"
    }
   ],
   "source": [
    "data.sort_values(by='last_price',ascending=False).head(15)"
   ]
  },
  {
   "cell_type": "markdown",
   "metadata": {},
   "source": [
    "Дорогие квартиры существуют, но их их единицы, чтобы выбросы не влияли на общие выводы, считаю нужным единичные и дорогие квартиры исключть из анализа и факторов, влияющих на цены квартиры. Считаю нужным убрать квартиры выше 11 млн. и ниже 1 млн.    "
   ]
  },
  {
   "cell_type": "code",
   "execution_count": 94,
   "metadata": {},
   "outputs": [],
   "source": [
    "without_anomaly_last_price = data.query('1000000 < last_price < 11000000') #исключение дорогих и дешевых квартир за кв. м. "
   ]
  },
  {
   "cell_type": "markdown",
   "metadata": {},
   "source": [
    "Зависимость цены от  площади квартиры "
   ]
  },
  {
   "cell_type": "code",
   "execution_count": 95,
   "metadata": {},
   "outputs": [
    {
     "data": {
      "text/plain": [
       "<AxesSubplot:xlabel='last_price'>"
      ]
     },
     "execution_count": 95,
     "metadata": {},
     "output_type": "execute_result"
    },
    {
     "data": {
      "image/png": "[encoded data removed]",
      "text/plain": [
       "<Figure size 2160x360 with 1 Axes>"
      ]
     },
     "metadata": {
      "needs_background": "light"
     },
     "output_type": "display_data"
    }
   ],
   "source": [
    "(without_anomaly_last_price\n",
    "    .sort_values(by='last_price',ascending=True)\n",
    "    .plot(x='last_price',y='total_area',grid=True, style='-',figsize=(30,5))\n",
    ")"
   ]
  },
  {
   "cell_type": "code",
   "execution_count": 96,
   "metadata": {},
   "outputs": [
    {
     "data": {
      "text/plain": [
       "<AxesSubplot:xlabel='price_for_m', ylabel='total_area'>"
      ]
     },
     "execution_count": 96,
     "metadata": {},
     "output_type": "execute_result"
    },
    {
     "data": {
      "image/png": "[encoded data removed]",
      "text/plain": [
       "<Figure size 432x288 with 1 Axes>"
      ]
     },
     "metadata": {
      "needs_background": "light"
     },
     "output_type": "display_data"
    }
   ],
   "source": [
    "data.plot(x='price_for_m', y='total_area', kind='scatter')\n"
   ]
  },
  {
   "cell_type": "code",
   "execution_count": 97,
   "metadata": {},
   "outputs": [
    {
     "data": {
      "text/plain": [
       "0.6950149438062652"
      ]
     },
     "execution_count": 97,
     "metadata": {},
     "output_type": "execute_result"
    }
   ],
   "source": [
    "without_anomaly_last_price['last_price'].corr(without_anomaly_last_price['total_area'])"
   ]
  },
  {
   "cell_type": "markdown",
   "metadata": {},
   "source": [
    "Выявлено, что при увеличении площади, увеличивается стоимость квартиры. Коэфф Пирсона 0.69, он является положительным, зависимость величин имеется. "
   ]
  },
  {
   "cell_type": "markdown",
   "metadata": {},
   "source": [
    "Зависимость цены от количества комнат "
   ]
  },
  {
   "cell_type": "code",
   "execution_count": 98,
   "metadata": {
    "scrolled": true
   },
   "outputs": [
    {
     "data": {
      "text/plain": [
       "<AxesSubplot:xlabel='rooms'>"
      ]
     },
     "execution_count": 98,
     "metadata": {},
     "output_type": "execute_result"
    },
    {
     "data": {
      "image/png": "[encoded data removed]",
      "text/plain": [
       "<Figure size 720x360 with 1 Axes>"
      ]
     },
     "metadata": {
      "needs_background": "light"
     },
     "output_type": "display_data"
    }
   ],
   "source": [
    "(without_anomaly_last_price\n",
    "     .groupby('rooms')['last_price'].median()\n",
    "     .plot(x='rooms',y='last_price',style='o-',grid=True,figsize=(10,5),alpha=1)\n",
    ")\n"
   ]
  },
  {
   "cell_type": "code",
   "execution_count": 99,
   "metadata": {
    "scrolled": true
   },
   "outputs": [
    {
     "data": {
      "text/plain": [
       "0.47472584836458925"
      ]
     },
     "execution_count": 99,
     "metadata": {},
     "output_type": "execute_result"
    }
   ],
   "source": [
    "without_anomaly_last_price['last_price'].corr(without_anomaly_last_price[\"rooms\"])"
   ]
  },
  {
   "cell_type": "markdown",
   "metadata": {},
   "source": [
    "на графике видно, что с уведличением количества комнат, цена увеличивается. Коэффициент Пирсена также положительный, и равен 0,47, зависимость выявлена.\n"
   ]
  },
  {
   "cell_type": "markdown",
   "metadata": {},
   "source": [
    "Зависимость цены от этажа "
   ]
  },
  {
   "cell_type": "code",
   "execution_count": 100,
   "metadata": {},
   "outputs": [
    {
     "data": {
      "text/plain": [
       "<AxesSubplot:xlabel='floor_category'>"
      ]
     },
     "execution_count": 100,
     "metadata": {},
     "output_type": "execute_result"
    },
    {
     "data": {
      "image/png": "[encoded data removed]",
      "text/plain": [
       "<Figure size 720x216 with 1 Axes>"
      ]
     },
     "metadata": {
      "needs_background": "light"
     },
     "output_type": "display_data"
    }
   ],
   "source": [
    "(without_anomaly_last_price\n",
    "    .groupby('floor_category')['last_price'].median()\n",
    "    .plot(x='floor_category',y='last_price',style='-o',grid=True,figsize=(10,3),alpha=1))"
   ]
  },
  {
   "cell_type": "code",
   "execution_count": 101,
   "metadata": {},
   "outputs": [
    {
     "data": {
      "text/plain": [
       "0.08732867304740206"
      ]
     },
     "execution_count": 101,
     "metadata": {},
     "output_type": "execute_result"
    }
   ],
   "source": [
    "without_anomaly_last_price['floor'].corr(without_anomaly_last_price['last_price'])"
   ]
  },
  {
   "cell_type": "markdown",
   "metadata": {},
   "source": [
    "По представленным данным цена не сильно зависит от этажа квартиры. Коэффициент Пирсона 0,08, этот фактор не сильно влияет на стоимость. "
   ]
  },
  {
   "cell_type": "markdown",
   "metadata": {},
   "source": [
    "Зависимость цены от центра"
   ]
  },
  {
   "cell_type": "code",
   "execution_count": 102,
   "metadata": {
    "scrolled": true
   },
   "outputs": [
    {
     "data": {
      "text/plain": [
       "<AxesSubplot:xlabel='cityCenters_nearest'>"
      ]
     },
     "execution_count": 102,
     "metadata": {},
     "output_type": "execute_result"
    },
    {
     "data": {
      "image/png": "[encoded data removed]",
      "text/plain": [
       "<Figure size 432x288 with 1 Axes>"
      ]
     },
     "metadata": {
      "needs_background": "light"
     },
     "output_type": "display_data"
    }
   ],
   "source": [
    "(without_anomaly_last_price\n",
    "     .sort_values(by='cityCenters_nearest',ascending=True)\n",
    "     .plot(x='cityCenters_nearest',y='last_price',style='o',alpha=0.2))"
   ]
  },
  {
   "cell_type": "code",
   "execution_count": 103,
   "metadata": {
    "scrolled": true
   },
   "outputs": [
    {
     "data": {
      "text/plain": [
       "-0.2373226820991561"
      ]
     },
     "execution_count": 103,
     "metadata": {},
     "output_type": "execute_result"
    }
   ],
   "source": [
    "without_anomaly_last_price['cityCenters_nearest'].corr(without_anomaly_last_price['last_price'])"
   ]
  },
  {
   "cell_type": "markdown",
   "metadata": {},
   "source": [
    "Разброс большой, но можно увидеть плотности, которые показывают, что при увеличении расстояния, стоимость уменьшается, опять же не сильно. Об этом говорить и коэф Пирсона. Он отрицательны - 0,23"
   ]
  },
  {
   "cell_type": "markdown",
   "metadata": {},
   "source": [
    "Анализ дня, месяца, года закрытия объявления"
   ]
  },
  {
   "cell_type": "code",
   "execution_count": 104,
   "metadata": {
    "scrolled": false
   },
   "outputs": [
    {
     "data": {
      "text/plain": [
       "<AxesSubplot:xlabel='day_of_week_public'>"
      ]
     },
     "execution_count": 104,
     "metadata": {},
     "output_type": "execute_result"
    },
    {
     "data": {
      "image/png": "[encoded data removed]",
      "text/plain": [
       "<Figure size 432x288 with 1 Axes>"
      ]
     },
     "metadata": {
      "needs_background": "light"
     },
     "output_type": "display_data"
    }
   ],
   "source": [
    "(without_anomaly_last_price\n",
    " .groupby('day_of_week_public')['last_price'].count()\n",
    " .plot(x='day_of_week_public',y='last_price',kind='bar')\n",
    ")"
   ]
  },
  {
   "cell_type": "markdown",
   "metadata": {},
   "source": [
    "Чаще всего объявления закрываются во вторник, четверг и пятницу. Возможно, из-за того, что это просто выходные. "
   ]
  },
  {
   "cell_type": "code",
   "execution_count": 105,
   "metadata": {
    "scrolled": true
   },
   "outputs": [
    {
     "data": {
      "text/plain": [
       "<AxesSubplot:xlabel='month_public'>"
      ]
     },
     "execution_count": 105,
     "metadata": {},
     "output_type": "execute_result"
    },
    {
     "data": {
      "image/png": "[encoded data removed]",
      "text/plain": [
       "<Figure size 432x288 with 1 Axes>"
      ]
     },
     "metadata": {
      "needs_background": "light"
     },
     "output_type": "display_data"
    }
   ],
   "source": [
    "(without_anomaly_last_price\n",
    "     .groupby('month_public')['last_price'].count()\n",
    "     .plot(x='month_public',y='last_price',kind='bar')\n",
    ")"
   ]
  },
  {
   "cell_type": "markdown",
   "metadata": {},
   "source": [
    "Видно, что объявления меньше всего закрываются в месяцы перед большими праздниками - новым годом, маем, а также после нового года. Возможно, это связано с большими затратами на подарки и отпуск. "
   ]
  },
  {
   "cell_type": "code",
   "execution_count": 106,
   "metadata": {
    "scrolled": true
   },
   "outputs": [
    {
     "data": {
      "text/plain": [
       "<AxesSubplot:xlabel='year_public'>"
      ]
     },
     "execution_count": 106,
     "metadata": {},
     "output_type": "execute_result"
    },
    {
     "data": {
      "image/png": "[encoded data removed]",
      "text/plain": [
       "<Figure size 432x288 with 1 Axes>"
      ]
     },
     "metadata": {
      "needs_background": "light"
     },
     "output_type": "display_data"
    }
   ],
   "source": [
    "(without_anomaly_last_price\n",
    "     .groupby('year_public')['last_price'].count()\n",
    "     .plot(x='year_public',y='last_price',kind='bar')\n",
    ")"
   ]
  },
  {
   "cell_type": "markdown",
   "metadata": {},
   "source": [
    "Больше всего продаж было в 2017 -2018 гг. Думаю, это было связано с политической и экономической осбановкой в России. "
   ]
  },
  {
   "cell_type": "code",
   "execution_count": 107,
   "metadata": {},
   "outputs": [],
   "source": [
    "import seaborn"
   ]
  },
  {
   "cell_type": "code",
   "execution_count": 108,
   "metadata": {},
   "outputs": [
    {
     "data": {
      "text/html": [
       "<div>\n",
       "<style scoped>\n",
       "    .dataframe tbody tr th:only-of-type {\n",
       "        vertical-align: middle;\n",
       "    }\n",
       "\n",
       "    .dataframe tbody tr th {\n",
       "        vertical-align: top;\n",
       "    }\n",
       "\n",
       "    .dataframe thead th {\n",
       "        text-align: right;\n",
       "    }\n",
       "</style>\n",
       "<table border=\"1\" class=\"dataframe\">\n",
       "  <thead>\n",
       "    <tr style=\"text-align: right;\">\n",
       "      <th></th>\n",
       "      <th>last_price</th>\n",
       "      <th>total_area</th>\n",
       "      <th>rooms</th>\n",
       "      <th>cityCenters_nearest</th>\n",
       "    </tr>\n",
       "  </thead>\n",
       "  <tbody>\n",
       "    <tr>\n",
       "      <th>last_price</th>\n",
       "      <td>1.000000</td>\n",
       "      <td>0.652249</td>\n",
       "      <td>0.372745</td>\n",
       "      <td>-0.198291</td>\n",
       "    </tr>\n",
       "    <tr>\n",
       "      <th>total_area</th>\n",
       "      <td>0.652249</td>\n",
       "      <td>1.000000</td>\n",
       "      <td>0.769646</td>\n",
       "      <td>-0.219482</td>\n",
       "    </tr>\n",
       "    <tr>\n",
       "      <th>rooms</th>\n",
       "      <td>0.372745</td>\n",
       "      <td>0.769646</td>\n",
       "      <td>1.000000</td>\n",
       "      <td>-0.184502</td>\n",
       "    </tr>\n",
       "    <tr>\n",
       "      <th>cityCenters_nearest</th>\n",
       "      <td>-0.198291</td>\n",
       "      <td>-0.219482</td>\n",
       "      <td>-0.184502</td>\n",
       "      <td>1.000000</td>\n",
       "    </tr>\n",
       "  </tbody>\n",
       "</table>\n",
       "</div>"
      ],
      "text/plain": [
       "                     last_price  total_area     rooms  cityCenters_nearest\n",
       "last_price             1.000000    0.652249  0.372745            -0.198291\n",
       "total_area             0.652249    1.000000  0.769646            -0.219482\n",
       "rooms                  0.372745    0.769646  1.000000            -0.184502\n",
       "cityCenters_nearest   -0.198291   -0.219482 -0.184502             1.000000"
      ]
     },
     "execution_count": 108,
     "metadata": {},
     "output_type": "execute_result"
    }
   ],
   "source": [
    "data[['last_price', 'total_area', 'rooms', 'cityCenters_nearest']].corr()"
   ]
  },
  {
   "cell_type": "code",
   "execution_count": 109,
   "metadata": {},
   "outputs": [
    {
     "data": {
      "text/plain": [
       "<seaborn.axisgrid.PairGrid at 0x7f7aaedfc490>"
      ]
     },
     "execution_count": 109,
     "metadata": {},
     "output_type": "execute_result"
    },
    {
     "data": {
      "image/png": "[encoded data removed]",
      "text/plain": [
       "<Figure size 720x720 with 20 Axes>"
      ]
     },
     "metadata": {
      "needs_background": "light"
     },
     "output_type": "display_data"
    }
   ],
   "source": [
    "seaborn.pairplot(data[['last_price', 'total_area', 'rooms', 'cityCenters_nearest']].corr())\n"
   ]
  },
  {
   "cell_type": "markdown",
   "metadata": {},
   "source": [
    "При анализе выявлено, что на стоимость квартиры в первую очередь влияет площадь (коэффициент Пирсона 0.65), далее количество комнат (0,37), а зависимость цены от близости центра оказалась не такой значимой и влияющей. Коэффициент отрицательный (-0.19)"
   ]
  },
  {
   "cell_type": "markdown",
   "metadata": {},
   "source": [
    "Зависимость цены от города расположения"
   ]
  },
  {
   "cell_type": "code",
   "execution_count": 110,
   "metadata": {
    "scrolled": true
   },
   "outputs": [
    {
     "data": {
      "text/html": [
       "<div>\n",
       "<style scoped>\n",
       "    .dataframe tbody tr th:only-of-type {\n",
       "        vertical-align: middle;\n",
       "    }\n",
       "\n",
       "    .dataframe tbody tr th {\n",
       "        vertical-align: top;\n",
       "    }\n",
       "\n",
       "    .dataframe thead th {\n",
       "        text-align: right;\n",
       "    }\n",
       "</style>\n",
       "<table border=\"1\" class=\"dataframe\">\n",
       "  <thead>\n",
       "    <tr style=\"text-align: right;\">\n",
       "      <th></th>\n",
       "      <th>count</th>\n",
       "      <th>median</th>\n",
       "    </tr>\n",
       "    <tr>\n",
       "      <th>locality_name</th>\n",
       "      <th></th>\n",
       "      <th></th>\n",
       "    </tr>\n",
       "  </thead>\n",
       "  <tbody>\n",
       "    <tr>\n",
       "      <th>Санкт-Петербург</th>\n",
       "      <td>11369.0</td>\n",
       "      <td>102343.0</td>\n",
       "    </tr>\n",
       "    <tr>\n",
       "      <th>посёлок Мурино</th>\n",
       "      <td>513.0</td>\n",
       "      <td>85714.0</td>\n",
       "    </tr>\n",
       "    <tr>\n",
       "      <th>посёлок Шушары</th>\n",
       "      <td>411.0</td>\n",
       "      <td>76829.0</td>\n",
       "    </tr>\n",
       "    <tr>\n",
       "      <th>Всеволожск</th>\n",
       "      <td>363.0</td>\n",
       "      <td>65857.0</td>\n",
       "    </tr>\n",
       "    <tr>\n",
       "      <th>посёлок Парголово</th>\n",
       "      <td>312.0</td>\n",
       "      <td>91984.0</td>\n",
       "    </tr>\n",
       "    <tr>\n",
       "      <th>деревня Кудрово</th>\n",
       "      <td>297.0</td>\n",
       "      <td>91803.0</td>\n",
       "    </tr>\n",
       "    <tr>\n",
       "      <th>Пушкин</th>\n",
       "      <td>260.0</td>\n",
       "      <td>99865.5</td>\n",
       "    </tr>\n",
       "    <tr>\n",
       "      <th>Гатчина</th>\n",
       "      <td>233.0</td>\n",
       "      <td>67927.0</td>\n",
       "    </tr>\n",
       "    <tr>\n",
       "      <th>Колпино</th>\n",
       "      <td>232.0</td>\n",
       "      <td>74727.5</td>\n",
       "    </tr>\n",
       "    <tr>\n",
       "      <th>Выборг</th>\n",
       "      <td>191.0</td>\n",
       "      <td>58307.0</td>\n",
       "    </tr>\n",
       "  </tbody>\n",
       "</table>\n",
       "</div>"
      ],
      "text/plain": [
       "                     count    median\n",
       "locality_name                       \n",
       "Санкт-Петербург    11369.0  102343.0\n",
       "посёлок Мурино       513.0   85714.0\n",
       "посёлок Шушары       411.0   76829.0\n",
       "Всеволожск           363.0   65857.0\n",
       "посёлок Парголово    312.0   91984.0\n",
       "деревня Кудрово      297.0   91803.0\n",
       "Пушкин               260.0   99865.5\n",
       "Гатчина              233.0   67927.0\n",
       "Колпино              232.0   74727.5\n",
       "Выборг               191.0   58307.0"
      ]
     },
     "execution_count": 110,
     "metadata": {},
     "output_type": "execute_result"
    }
   ],
   "source": [
    "raiting_of_location=without_anomaly_last_price.pivot_table(index='locality_name',values='price_for_m',aggfunc=('count','median'))\n",
    "raiting_of_location.sort_values(by='count',ascending=False).head(10)\n",
    "# свод по городам "
   ]
  },
  {
   "cell_type": "markdown",
   "metadata": {},
   "source": [
    "Ожидаемо, что первое место по количесту объявлений и по стоимости за квадраный метр будет в г. Санкт-Петербург. Десятку замыкает - Выборг. \t  "
   ]
  },
  {
   "cell_type": "markdown",
   "metadata": {},
   "source": [
    "Изучение предложения квартир"
   ]
  },
  {
   "cell_type": "code",
   "execution_count": 111,
   "metadata": {},
   "outputs": [],
   "source": [
    "data['cityCenters_nearest_in_km']= data['cityCenters_nearest']/1000 #Добавляем новый столбец в км. "
   ]
  },
  {
   "cell_type": "code",
   "execution_count": 112,
   "metadata": {},
   "outputs": [],
   "source": [
    "data['cost_of_km'] = data['price_for_m']/data['cityCenters_nearest_in_km']\n",
    "#расчет стоимости "
   ]
  },
  {
   "cell_type": "code",
   "execution_count": 113,
   "metadata": {
    "scrolled": true
   },
   "outputs": [
    {
     "data": {
      "text/html": [
       "<div>\n",
       "<style scoped>\n",
       "    .dataframe tbody tr th:only-of-type {\n",
       "        vertical-align: middle;\n",
       "    }\n",
       "\n",
       "    .dataframe tbody tr th {\n",
       "        vertical-align: top;\n",
       "    }\n",
       "\n",
       "    .dataframe thead th {\n",
       "        text-align: right;\n",
       "    }\n",
       "</style>\n",
       "<table border=\"1\" class=\"dataframe\">\n",
       "  <thead>\n",
       "    <tr style=\"text-align: right;\">\n",
       "      <th></th>\n",
       "      <th>total_images</th>\n",
       "      <th>last_price</th>\n",
       "      <th>total_area</th>\n",
       "      <th>first_day_exposition</th>\n",
       "      <th>rooms</th>\n",
       "      <th>ceiling_height</th>\n",
       "      <th>floors_total</th>\n",
       "      <th>living_area</th>\n",
       "      <th>floor</th>\n",
       "      <th>is_apartment</th>\n",
       "      <th>...</th>\n",
       "      <th>days_exposition</th>\n",
       "      <th>price_for_m</th>\n",
       "      <th>year_public</th>\n",
       "      <th>month_public</th>\n",
       "      <th>day_of_week_public</th>\n",
       "      <th>floor_category</th>\n",
       "      <th>living_ratio_total</th>\n",
       "      <th>kitchen_ratio_total</th>\n",
       "      <th>cityCenters_nearest_in_km</th>\n",
       "      <th>cost_of_km</th>\n",
       "    </tr>\n",
       "  </thead>\n",
       "  <tbody>\n",
       "    <tr>\n",
       "      <th>0</th>\n",
       "      <td>20</td>\n",
       "      <td>13000000</td>\n",
       "      <td>108.0</td>\n",
       "      <td>2019-03-07T00:00:00</td>\n",
       "      <td>3</td>\n",
       "      <td>2.70</td>\n",
       "      <td>16</td>\n",
       "      <td>51.0</td>\n",
       "      <td>8</td>\n",
       "      <td>False</td>\n",
       "      <td>...</td>\n",
       "      <td>97.0</td>\n",
       "      <td>120370</td>\n",
       "      <td>2019</td>\n",
       "      <td>3</td>\n",
       "      <td>3</td>\n",
       "      <td>Другой этаж</td>\n",
       "      <td>0.472222</td>\n",
       "      <td>0.231481</td>\n",
       "      <td>16.028</td>\n",
       "      <td>7509.982531</td>\n",
       "    </tr>\n",
       "    <tr>\n",
       "      <th>2</th>\n",
       "      <td>10</td>\n",
       "      <td>5196000</td>\n",
       "      <td>56.0</td>\n",
       "      <td>2015-08-20T00:00:00</td>\n",
       "      <td>2</td>\n",
       "      <td>2.65</td>\n",
       "      <td>5</td>\n",
       "      <td>34.3</td>\n",
       "      <td>4</td>\n",
       "      <td>False</td>\n",
       "      <td>...</td>\n",
       "      <td>558.0</td>\n",
       "      <td>92785</td>\n",
       "      <td>2015</td>\n",
       "      <td>8</td>\n",
       "      <td>3</td>\n",
       "      <td>Другой этаж</td>\n",
       "      <td>0.612500</td>\n",
       "      <td>0.148214</td>\n",
       "      <td>13.933</td>\n",
       "      <td>6659.369841</td>\n",
       "    </tr>\n",
       "    <tr>\n",
       "      <th>3</th>\n",
       "      <td>0</td>\n",
       "      <td>64900000</td>\n",
       "      <td>159.0</td>\n",
       "      <td>2015-07-24T00:00:00</td>\n",
       "      <td>3</td>\n",
       "      <td>2.65</td>\n",
       "      <td>14</td>\n",
       "      <td>30.0</td>\n",
       "      <td>9</td>\n",
       "      <td>False</td>\n",
       "      <td>...</td>\n",
       "      <td>424.0</td>\n",
       "      <td>408176</td>\n",
       "      <td>2015</td>\n",
       "      <td>7</td>\n",
       "      <td>4</td>\n",
       "      <td>Другой этаж</td>\n",
       "      <td>0.188679</td>\n",
       "      <td>0.057233</td>\n",
       "      <td>6.800</td>\n",
       "      <td>60025.882353</td>\n",
       "    </tr>\n",
       "    <tr>\n",
       "      <th>4</th>\n",
       "      <td>2</td>\n",
       "      <td>10000000</td>\n",
       "      <td>100.0</td>\n",
       "      <td>2018-06-19T00:00:00</td>\n",
       "      <td>2</td>\n",
       "      <td>3.03</td>\n",
       "      <td>14</td>\n",
       "      <td>32.0</td>\n",
       "      <td>13</td>\n",
       "      <td>False</td>\n",
       "      <td>...</td>\n",
       "      <td>121.0</td>\n",
       "      <td>100000</td>\n",
       "      <td>2018</td>\n",
       "      <td>6</td>\n",
       "      <td>1</td>\n",
       "      <td>Другой этаж</td>\n",
       "      <td>0.320000</td>\n",
       "      <td>0.410000</td>\n",
       "      <td>8.098</td>\n",
       "      <td>12348.728081</td>\n",
       "    </tr>\n",
       "    <tr>\n",
       "      <th>7</th>\n",
       "      <td>5</td>\n",
       "      <td>7915000</td>\n",
       "      <td>71.6</td>\n",
       "      <td>2019-04-18T00:00:00</td>\n",
       "      <td>2</td>\n",
       "      <td>2.65</td>\n",
       "      <td>24</td>\n",
       "      <td>30.0</td>\n",
       "      <td>22</td>\n",
       "      <td>False</td>\n",
       "      <td>...</td>\n",
       "      <td>97.0</td>\n",
       "      <td>110544</td>\n",
       "      <td>2019</td>\n",
       "      <td>4</td>\n",
       "      <td>3</td>\n",
       "      <td>Другой этаж</td>\n",
       "      <td>0.418994</td>\n",
       "      <td>0.263966</td>\n",
       "      <td>11.634</td>\n",
       "      <td>9501.805054</td>\n",
       "    </tr>\n",
       "  </tbody>\n",
       "</table>\n",
       "<p>5 rows × 31 columns</p>\n",
       "</div>"
      ],
      "text/plain": [
       "   total_images  last_price  total_area first_day_exposition  rooms  \\\n",
       "0            20    13000000       108.0  2019-03-07T00:00:00      3   \n",
       "2            10     5196000        56.0  2015-08-20T00:00:00      2   \n",
       "3             0    64900000       159.0  2015-07-24T00:00:00      3   \n",
       "4             2    10000000       100.0  2018-06-19T00:00:00      2   \n",
       "7             5     7915000        71.6  2019-04-18T00:00:00      2   \n",
       "\n",
       "   ceiling_height  floors_total  living_area  floor  is_apartment  ...  \\\n",
       "0            2.70            16         51.0      8         False  ...   \n",
       "2            2.65             5         34.3      4         False  ...   \n",
       "3            2.65            14         30.0      9         False  ...   \n",
       "4            3.03            14         32.0     13         False  ...   \n",
       "7            2.65            24         30.0     22         False  ...   \n",
       "\n",
       "   days_exposition  price_for_m  year_public  month_public day_of_week_public  \\\n",
       "0             97.0       120370         2019             3                  3   \n",
       "2            558.0        92785         2015             8                  3   \n",
       "3            424.0       408176         2015             7                  4   \n",
       "4            121.0       100000         2018             6                  1   \n",
       "7             97.0       110544         2019             4                  3   \n",
       "\n",
       "   floor_category  living_ratio_total  kitchen_ratio_total  \\\n",
       "0     Другой этаж            0.472222             0.231481   \n",
       "2     Другой этаж            0.612500             0.148214   \n",
       "3     Другой этаж            0.188679             0.057233   \n",
       "4     Другой этаж            0.320000             0.410000   \n",
       "7     Другой этаж            0.418994             0.263966   \n",
       "\n",
       "   cityCenters_nearest_in_km    cost_of_km  \n",
       "0                     16.028   7509.982531  \n",
       "2                     13.933   6659.369841  \n",
       "3                      6.800  60025.882353  \n",
       "4                      8.098  12348.728081  \n",
       "7                     11.634   9501.805054  \n",
       "\n",
       "[5 rows x 31 columns]"
      ]
     },
     "execution_count": 113,
     "metadata": {},
     "output_type": "execute_result"
    }
   ],
   "source": [
    "spb_region=data.query('locality_name==\"Санкт-Петербург\"')\n",
    "spb_region.head()  # срез по региону"
   ]
  },
  {
   "cell_type": "code",
   "execution_count": 114,
   "metadata": {
    "scrolled": false
   },
   "outputs": [
    {
     "data": {
      "text/plain": [
       "<AxesSubplot:xlabel='cityCenters_nearest_in_km'>"
      ]
     },
     "execution_count": 114,
     "metadata": {},
     "output_type": "execute_result"
    },
    {
     "data": {
      "image/png": "[encoded data removed]",
      "text/plain": [
       "<Figure size 1080x360 with 1 Axes>"
      ]
     },
     "metadata": {
      "needs_background": "light"
     },
     "output_type": "display_data"
    }
   ],
   "source": [
    "(spb_region\n",
    "     .sort_values(by='cityCenters_nearest_in_km',ascending=True)\n",
    "     .plot(x='cityCenters_nearest_in_km',y='cost_of_km', style='-',figsize=(15,5))\n",
    ")"
   ]
  },
  {
   "cell_type": "markdown",
   "metadata": {},
   "source": [
    "График зависимости цены 1 кв. м от расстояния центра, видно, что после 10 км от центра цена почти не меняется."
   ]
  },
  {
   "cell_type": "markdown",
   "metadata": {},
   "source": [
    "Сегмент квартир в центре города."
   ]
  },
  {
   "cell_type": "code",
   "execution_count": 115,
   "metadata": {
    "scrolled": true
   },
   "outputs": [
    {
     "data": {
      "text/html": [
       "<div>\n",
       "<style scoped>\n",
       "    .dataframe tbody tr th:only-of-type {\n",
       "        vertical-align: middle;\n",
       "    }\n",
       "\n",
       "    .dataframe tbody tr th {\n",
       "        vertical-align: top;\n",
       "    }\n",
       "\n",
       "    .dataframe thead th {\n",
       "        text-align: right;\n",
       "    }\n",
       "</style>\n",
       "<table border=\"1\" class=\"dataframe\">\n",
       "  <thead>\n",
       "    <tr style=\"text-align: right;\">\n",
       "      <th></th>\n",
       "      <th>total_images</th>\n",
       "      <th>last_price</th>\n",
       "      <th>total_area</th>\n",
       "      <th>first_day_exposition</th>\n",
       "      <th>rooms</th>\n",
       "      <th>ceiling_height</th>\n",
       "      <th>floors_total</th>\n",
       "      <th>living_area</th>\n",
       "      <th>floor</th>\n",
       "      <th>is_apartment</th>\n",
       "      <th>...</th>\n",
       "      <th>days_exposition</th>\n",
       "      <th>price_for_m</th>\n",
       "      <th>year_public</th>\n",
       "      <th>month_public</th>\n",
       "      <th>day_of_week_public</th>\n",
       "      <th>floor_category</th>\n",
       "      <th>living_ratio_total</th>\n",
       "      <th>kitchen_ratio_total</th>\n",
       "      <th>cityCenters_nearest_in_km</th>\n",
       "      <th>cost_of_km</th>\n",
       "    </tr>\n",
       "  </thead>\n",
       "  <tbody>\n",
       "    <tr>\n",
       "      <th>19755</th>\n",
       "      <td>11</td>\n",
       "      <td>2080000</td>\n",
       "      <td>50.7</td>\n",
       "      <td>2017-07-20T00:00:00</td>\n",
       "      <td>2</td>\n",
       "      <td>2.56</td>\n",
       "      <td>14</td>\n",
       "      <td>30.6</td>\n",
       "      <td>8</td>\n",
       "      <td>False</td>\n",
       "      <td>...</td>\n",
       "      <td>14.0</td>\n",
       "      <td>41025</td>\n",
       "      <td>2017</td>\n",
       "      <td>7</td>\n",
       "      <td>3</td>\n",
       "      <td>Другой этаж</td>\n",
       "      <td>0.603550</td>\n",
       "      <td>0.147929</td>\n",
       "      <td>22.902</td>\n",
       "      <td>1791.328268</td>\n",
       "    </tr>\n",
       "    <tr>\n",
       "      <th>16787</th>\n",
       "      <td>20</td>\n",
       "      <td>4850000</td>\n",
       "      <td>85.8</td>\n",
       "      <td>2019-04-22T00:00:00</td>\n",
       "      <td>3</td>\n",
       "      <td>3.60</td>\n",
       "      <td>3</td>\n",
       "      <td>49.4</td>\n",
       "      <td>2</td>\n",
       "      <td>False</td>\n",
       "      <td>...</td>\n",
       "      <td>97.0</td>\n",
       "      <td>56526</td>\n",
       "      <td>2019</td>\n",
       "      <td>4</td>\n",
       "      <td>0</td>\n",
       "      <td>Другой этаж</td>\n",
       "      <td>0.575758</td>\n",
       "      <td>0.139860</td>\n",
       "      <td>29.263</td>\n",
       "      <td>1931.654307</td>\n",
       "    </tr>\n",
       "    <tr>\n",
       "      <th>12160</th>\n",
       "      <td>8</td>\n",
       "      <td>2450000</td>\n",
       "      <td>43.0</td>\n",
       "      <td>2018-08-14T00:00:00</td>\n",
       "      <td>1</td>\n",
       "      <td>2.75</td>\n",
       "      <td>5</td>\n",
       "      <td>16.0</td>\n",
       "      <td>1</td>\n",
       "      <td>True</td>\n",
       "      <td>...</td>\n",
       "      <td>8.0</td>\n",
       "      <td>56976</td>\n",
       "      <td>2018</td>\n",
       "      <td>8</td>\n",
       "      <td>1</td>\n",
       "      <td>Первый этаж</td>\n",
       "      <td>0.372093</td>\n",
       "      <td>0.211628</td>\n",
       "      <td>29.493</td>\n",
       "      <td>1931.848235</td>\n",
       "    </tr>\n",
       "    <tr>\n",
       "      <th>8501</th>\n",
       "      <td>7</td>\n",
       "      <td>4100000</td>\n",
       "      <td>80.0</td>\n",
       "      <td>2017-07-19T00:00:00</td>\n",
       "      <td>3</td>\n",
       "      <td>2.65</td>\n",
       "      <td>4</td>\n",
       "      <td>49.0</td>\n",
       "      <td>1</td>\n",
       "      <td>False</td>\n",
       "      <td>...</td>\n",
       "      <td>53.0</td>\n",
       "      <td>51250</td>\n",
       "      <td>2017</td>\n",
       "      <td>7</td>\n",
       "      <td>2</td>\n",
       "      <td>Первый этаж</td>\n",
       "      <td>0.612500</td>\n",
       "      <td>0.187500</td>\n",
       "      <td>24.972</td>\n",
       "      <td>2052.298574</td>\n",
       "    </tr>\n",
       "    <tr>\n",
       "      <th>7732</th>\n",
       "      <td>20</td>\n",
       "      <td>3975000</td>\n",
       "      <td>74.0</td>\n",
       "      <td>2018-08-20T00:00:00</td>\n",
       "      <td>3</td>\n",
       "      <td>3.20</td>\n",
       "      <td>3</td>\n",
       "      <td>43.8</td>\n",
       "      <td>2</td>\n",
       "      <td>False</td>\n",
       "      <td>...</td>\n",
       "      <td>112.0</td>\n",
       "      <td>53716</td>\n",
       "      <td>2018</td>\n",
       "      <td>8</td>\n",
       "      <td>0</td>\n",
       "      <td>Другой этаж</td>\n",
       "      <td>0.591892</td>\n",
       "      <td>0.189189</td>\n",
       "      <td>26.104</td>\n",
       "      <td>2057.768924</td>\n",
       "    </tr>\n",
       "    <tr>\n",
       "      <th>18378</th>\n",
       "      <td>9</td>\n",
       "      <td>2600000</td>\n",
       "      <td>46.0</td>\n",
       "      <td>2017-11-10T00:00:00</td>\n",
       "      <td>1</td>\n",
       "      <td>2.65</td>\n",
       "      <td>2</td>\n",
       "      <td>20.0</td>\n",
       "      <td>1</td>\n",
       "      <td>False</td>\n",
       "      <td>...</td>\n",
       "      <td>29.0</td>\n",
       "      <td>56521</td>\n",
       "      <td>2017</td>\n",
       "      <td>11</td>\n",
       "      <td>4</td>\n",
       "      <td>Первый этаж</td>\n",
       "      <td>0.434783</td>\n",
       "      <td>0.326087</td>\n",
       "      <td>26.286</td>\n",
       "      <td>2150.232063</td>\n",
       "    </tr>\n",
       "    <tr>\n",
       "      <th>1443</th>\n",
       "      <td>14</td>\n",
       "      <td>2400000</td>\n",
       "      <td>44.0</td>\n",
       "      <td>2017-11-29T00:00:00</td>\n",
       "      <td>2</td>\n",
       "      <td>2.65</td>\n",
       "      <td>3</td>\n",
       "      <td>21.0</td>\n",
       "      <td>1</td>\n",
       "      <td>False</td>\n",
       "      <td>...</td>\n",
       "      <td>55.0</td>\n",
       "      <td>54545</td>\n",
       "      <td>2017</td>\n",
       "      <td>11</td>\n",
       "      <td>2</td>\n",
       "      <td>Первый этаж</td>\n",
       "      <td>0.477273</td>\n",
       "      <td>0.181818</td>\n",
       "      <td>24.429</td>\n",
       "      <td>2232.797085</td>\n",
       "    </tr>\n",
       "    <tr>\n",
       "      <th>15181</th>\n",
       "      <td>9</td>\n",
       "      <td>3000000</td>\n",
       "      <td>70.0</td>\n",
       "      <td>2016-03-10T00:00:00</td>\n",
       "      <td>3</td>\n",
       "      <td>2.60</td>\n",
       "      <td>5</td>\n",
       "      <td>40.0</td>\n",
       "      <td>1</td>\n",
       "      <td>False</td>\n",
       "      <td>...</td>\n",
       "      <td>111.0</td>\n",
       "      <td>42857</td>\n",
       "      <td>2016</td>\n",
       "      <td>3</td>\n",
       "      <td>3</td>\n",
       "      <td>Первый этаж</td>\n",
       "      <td>0.571429</td>\n",
       "      <td>0.154286</td>\n",
       "      <td>18.855</td>\n",
       "      <td>2272.977990</td>\n",
       "    </tr>\n",
       "    <tr>\n",
       "      <th>6026</th>\n",
       "      <td>19</td>\n",
       "      <td>3900000</td>\n",
       "      <td>64.0</td>\n",
       "      <td>2017-09-30T00:00:00</td>\n",
       "      <td>2</td>\n",
       "      <td>2.80</td>\n",
       "      <td>5</td>\n",
       "      <td>33.0</td>\n",
       "      <td>1</td>\n",
       "      <td>False</td>\n",
       "      <td>...</td>\n",
       "      <td>45.0</td>\n",
       "      <td>60937</td>\n",
       "      <td>2017</td>\n",
       "      <td>9</td>\n",
       "      <td>5</td>\n",
       "      <td>Первый этаж</td>\n",
       "      <td>0.515625</td>\n",
       "      <td>0.156250</td>\n",
       "      <td>25.274</td>\n",
       "      <td>2411.054839</td>\n",
       "    </tr>\n",
       "    <tr>\n",
       "      <th>2520</th>\n",
       "      <td>0</td>\n",
       "      <td>2300000</td>\n",
       "      <td>65.0</td>\n",
       "      <td>2017-01-24T00:00:00</td>\n",
       "      <td>3</td>\n",
       "      <td>2.65</td>\n",
       "      <td>5</td>\n",
       "      <td>35.0</td>\n",
       "      <td>1</td>\n",
       "      <td>False</td>\n",
       "      <td>...</td>\n",
       "      <td>16.0</td>\n",
       "      <td>35384</td>\n",
       "      <td>2017</td>\n",
       "      <td>1</td>\n",
       "      <td>1</td>\n",
       "      <td>Первый этаж</td>\n",
       "      <td>0.538462</td>\n",
       "      <td>0.461538</td>\n",
       "      <td>14.647</td>\n",
       "      <td>2415.784802</td>\n",
       "    </tr>\n",
       "  </tbody>\n",
       "</table>\n",
       "<p>10 rows × 31 columns</p>\n",
       "</div>"
      ],
      "text/plain": [
       "       total_images  last_price  total_area first_day_exposition  rooms  \\\n",
       "19755            11     2080000        50.7  2017-07-20T00:00:00      2   \n",
       "16787            20     4850000        85.8  2019-04-22T00:00:00      3   \n",
       "12160             8     2450000        43.0  2018-08-14T00:00:00      1   \n",
       "8501              7     4100000        80.0  2017-07-19T00:00:00      3   \n",
       "7732             20     3975000        74.0  2018-08-20T00:00:00      3   \n",
       "18378             9     2600000        46.0  2017-11-10T00:00:00      1   \n",
       "1443             14     2400000        44.0  2017-11-29T00:00:00      2   \n",
       "15181             9     3000000        70.0  2016-03-10T00:00:00      3   \n",
       "6026             19     3900000        64.0  2017-09-30T00:00:00      2   \n",
       "2520              0     2300000        65.0  2017-01-24T00:00:00      3   \n",
       "\n",
       "       ceiling_height  floors_total  living_area  floor  is_apartment  ...  \\\n",
       "19755            2.56            14         30.6      8         False  ...   \n",
       "16787            3.60             3         49.4      2         False  ...   \n",
       "12160            2.75             5         16.0      1          True  ...   \n",
       "8501             2.65             4         49.0      1         False  ...   \n",
       "7732             3.20             3         43.8      2         False  ...   \n",
       "18378            2.65             2         20.0      1         False  ...   \n",
       "1443             2.65             3         21.0      1         False  ...   \n",
       "15181            2.60             5         40.0      1         False  ...   \n",
       "6026             2.80             5         33.0      1         False  ...   \n",
       "2520             2.65             5         35.0      1         False  ...   \n",
       "\n",
       "       days_exposition  price_for_m  year_public  month_public  \\\n",
       "19755             14.0        41025         2017             7   \n",
       "16787             97.0        56526         2019             4   \n",
       "12160              8.0        56976         2018             8   \n",
       "8501              53.0        51250         2017             7   \n",
       "7732             112.0        53716         2018             8   \n",
       "18378             29.0        56521         2017            11   \n",
       "1443              55.0        54545         2017            11   \n",
       "15181            111.0        42857         2016             3   \n",
       "6026              45.0        60937         2017             9   \n",
       "2520              16.0        35384         2017             1   \n",
       "\n",
       "      day_of_week_public  floor_category  living_ratio_total  \\\n",
       "19755                  3     Другой этаж            0.603550   \n",
       "16787                  0     Другой этаж            0.575758   \n",
       "12160                  1     Первый этаж            0.372093   \n",
       "8501                   2     Первый этаж            0.612500   \n",
       "7732                   0     Другой этаж            0.591892   \n",
       "18378                  4     Первый этаж            0.434783   \n",
       "1443                   2     Первый этаж            0.477273   \n",
       "15181                  3     Первый этаж            0.571429   \n",
       "6026                   5     Первый этаж            0.515625   \n",
       "2520                   1     Первый этаж            0.538462   \n",
       "\n",
       "       kitchen_ratio_total  cityCenters_nearest_in_km   cost_of_km  \n",
       "19755             0.147929                     22.902  1791.328268  \n",
       "16787             0.139860                     29.263  1931.654307  \n",
       "12160             0.211628                     29.493  1931.848235  \n",
       "8501              0.187500                     24.972  2052.298574  \n",
       "7732              0.189189                     26.104  2057.768924  \n",
       "18378             0.326087                     26.286  2150.232063  \n",
       "1443              0.181818                     24.429  2232.797085  \n",
       "15181             0.154286                     18.855  2272.977990  \n",
       "6026              0.156250                     25.274  2411.054839  \n",
       "2520              0.461538                     14.647  2415.784802  \n",
       "\n",
       "[10 rows x 31 columns]"
      ]
     },
     "execution_count": 115,
     "metadata": {},
     "output_type": "execute_result"
    }
   ],
   "source": [
    "spb_region.sort_values(by='cost_of_km',ascending=True).head(10)"
   ]
  },
  {
   "cell_type": "code",
   "execution_count": 116,
   "metadata": {},
   "outputs": [],
   "source": [
    "top_segment =spb_region.query('cityCenters_nearest_in_km < 5 and locality_name == \"Санкт-Петербург\"') # срез топ сегмента"
   ]
  },
  {
   "cell_type": "code",
   "execution_count": 117,
   "metadata": {
    "scrolled": true
   },
   "outputs": [
    {
     "data": {
      "text/plain": [
       "<AxesSubplot:>"
      ]
     },
     "execution_count": 117,
     "metadata": {},
     "output_type": "execute_result"
    },
    {
     "data": {
      "image/png": "[encoded data removed]",
      "text/plain": [
       "<Figure size 432x288 with 1 Axes>"
      ]
     },
     "metadata": {
      "needs_background": "light"
     },
     "output_type": "display_data"
    }
   ],
   "source": [
    "top_segment['last_price'].hist(bins=40, range =(0, 16000000))"
   ]
  },
  {
   "cell_type": "markdown",
   "metadata": {},
   "source": [
    "Больше всего квартир за 7 мил. "
   ]
  },
  {
   "cell_type": "code",
   "execution_count": 118,
   "metadata": {
    "scrolled": false
   },
   "outputs": [
    {
     "data": {
      "text/plain": [
       "<AxesSubplot:>"
      ]
     },
     "execution_count": 118,
     "metadata": {},
     "output_type": "execute_result"
    },
    {
     "data": {
      "image/png": "[encoded data removed]",
      "text/plain": [
       "<Figure size 432x288 with 1 Axes>"
      ]
     },
     "metadata": {
      "needs_background": "light"
     },
     "output_type": "display_data"
    }
   ],
   "source": [
    "top_segment['total_area'].hist(bins=40, range = (0, 300))"
   ]
  },
  {
   "cell_type": "markdown",
   "metadata": {},
   "source": [
    "В центральном районе большая часть квартир в районе 60 м кв"
   ]
  },
  {
   "cell_type": "code",
   "execution_count": 119,
   "metadata": {
    "scrolled": false
   },
   "outputs": [
    {
     "data": {
      "text/plain": [
       "<AxesSubplot:>"
      ]
     },
     "execution_count": 119,
     "metadata": {},
     "output_type": "execute_result"
    },
    {
     "data": {
      "image/png": "[encoded data removed]",
      "text/plain": [
       "<Figure size 432x288 with 1 Axes>"
      ]
     },
     "metadata": {
      "needs_background": "light"
     },
     "output_type": "display_data"
    }
   ],
   "source": [
    "top_segment['rooms'].hist(bins=30)"
   ]
  },
  {
   "cell_type": "markdown",
   "metadata": {},
   "source": [
    "Больше всего продается 2 -х квартир"
   ]
  },
  {
   "cell_type": "code",
   "execution_count": 120,
   "metadata": {
    "scrolled": false
   },
   "outputs": [
    {
     "data": {
      "text/plain": [
       "<AxesSubplot:>"
      ]
     },
     "execution_count": 120,
     "metadata": {},
     "output_type": "execute_result"
    },
    {
     "data": {
      "image/png": "[encoded data removed]",
      "text/plain": [
       "<Figure size 432x288 with 1 Axes>"
      ]
     },
     "metadata": {
      "needs_background": "light"
     },
     "output_type": "display_data"
    }
   ],
   "source": [
    "top_segment['ceiling_height'].hist(bins=30,range=(2,5))"
   ]
  },
  {
   "cell_type": "markdown",
   "metadata": {},
   "source": [
    "Потолки в квартирах - 2,6 преобладает"
   ]
  },
  {
   "cell_type": "code",
   "execution_count": 121,
   "metadata": {
    "scrolled": true
   },
   "outputs": [
    {
     "data": {
      "text/plain": [
       "<AxesSubplot:xlabel='cityCenters_nearest'>"
      ]
     },
     "execution_count": 121,
     "metadata": {},
     "output_type": "execute_result"
    },
    {
     "data": {
      "image/png": "[encoded data removed]",
      "text/plain": [
       "<Figure size 432x288 with 1 Axes>"
      ]
     },
     "metadata": {
      "needs_background": "light"
     },
     "output_type": "display_data"
    }
   ],
   "source": [
    "(top_segment\n",
    "     .sort_values(by='cityCenters_nearest',ascending=True)\n",
    "     .plot(x='cityCenters_nearest',y='price_for_m',style='o',alpha=0.3)\n",
    ")\n"
   ]
  },
  {
   "cell_type": "code",
   "execution_count": 122,
   "metadata": {},
   "outputs": [
    {
     "data": {
      "image/png": "[encoded data removed]",
      "text/plain": [
       "<Figure size 432x288 with 1 Axes>"
      ]
     },
     "metadata": {
      "needs_background": "light"
     },
     "output_type": "display_data"
    }
   ],
   "source": [
    "(top_segment\n",
    "    .groupby('floor_category')['last_price'].median()\n",
    "    .plot(x='floor_category',y='last_price',style='o-',legend=True)\n",
    ")\n",
    "\n",
    "\n",
    "(without_anomaly_last_price\n",
    "    .groupby('floor_category')['last_price'].median()\n",
    "    .plot(x='floor_category',y='last_price',style='o-',legend=True)\n",
    ")\n",
    "\n",
    "plt.show()\n"
   ]
  },
  {
   "cell_type": "code",
   "execution_count": 123,
   "metadata": {
    "scrolled": true
   },
   "outputs": [
    {
     "data": {
      "image/png": "[encoded data removed]",
      "text/plain": [
       "<Figure size 432x288 with 1 Axes>"
      ]
     },
     "metadata": {
      "needs_background": "light"
     },
     "output_type": "display_data"
    }
   ],
   "source": [
    "(top_segment\n",
    "     .groupby('day_of_week_public')['last_price'].count()\n",
    "     .plot(x='day_of_week_public',y='last_price',style='o',legend=True)\n",
    ")\n",
    "\n",
    "(without_anomaly_last_price\n",
    "     .groupby('day_of_week_public')['last_price'].count()\n",
    "     .plot(x='day_of_week_public',y='last_price',style='o',legend=True)\n",
    ")\n",
    "\n",
    "plt.show()"
   ]
  },
  {
   "cell_type": "markdown",
   "metadata": {},
   "source": [
    "В течение недели квартиры продаются примерно одинаково. Спад наблюдается к выходным \n"
   ]
  },
  {
   "cell_type": "code",
   "execution_count": 124,
   "metadata": {
    "scrolled": true
   },
   "outputs": [
    {
     "data": {
      "image/png": "[encoded data removed]",
      "text/plain": [
       "<Figure size 432x288 with 1 Axes>"
      ]
     },
     "metadata": {
      "needs_background": "light"
     },
     "output_type": "display_data"
    }
   ],
   "source": [
    "(top_segment\n",
    "     .groupby('month_public')['last_price'].count()\n",
    "     .plot(x='month_public',y='last_price',style='-',legend=True)\n",
    ")\n",
    "(without_anomaly_last_price\n",
    "     .groupby('month_public')['last_price'].count()\n",
    "     .plot(x='month_public',y='last_price',style='-',legend=True)\n",
    ")\n",
    "\n",
    "plt.show()"
   ]
  },
  {
   "cell_type": "markdown",
   "metadata": {},
   "source": [
    "В течениe года квартиры в центре продаются примерно одинаково."
   ]
  },
  {
   "cell_type": "code",
   "execution_count": 125,
   "metadata": {
    "scrolled": true
   },
   "outputs": [
    {
     "data": {
      "image/png": "[encoded data removed]",
      "text/plain": [
       "<Figure size 432x288 with 1 Axes>"
      ]
     },
     "metadata": {
      "needs_background": "light"
     },
     "output_type": "display_data"
    }
   ],
   "source": [
    "(top_segment\n",
    "     .groupby('year_public')['last_price'].count()\n",
    "     .plot(x='year_public',y='last_price',style='-',legend=True)\n",
    ")\n",
    "(without_anomaly_last_price\n",
    "     .groupby('year_public')['last_price'].count()\n",
    "     .plot(x='year_public',y='last_price',style='-',legend=True)\n",
    ")\n",
    "\n",
    "plt.show()"
   ]
  },
  {
   "cell_type": "markdown",
   "metadata": {},
   "source": [
    "как было отмечено ранее увеличение продаж был в 2018, на мой взгляд в связи особой экономической и политической обстановкой."
   ]
  },
  {
   "cell_type": "code",
   "execution_count": 126,
   "metadata": {
    "scrolled": true
   },
   "outputs": [
    {
     "data": {
      "text/html": [
       "<div>\n",
       "<style scoped>\n",
       "    .dataframe tbody tr th:only-of-type {\n",
       "        vertical-align: middle;\n",
       "    }\n",
       "\n",
       "    .dataframe tbody tr th {\n",
       "        vertical-align: top;\n",
       "    }\n",
       "\n",
       "    .dataframe thead th {\n",
       "        text-align: right;\n",
       "    }\n",
       "</style>\n",
       "<table border=\"1\" class=\"dataframe\">\n",
       "  <thead>\n",
       "    <tr style=\"text-align: right;\">\n",
       "      <th></th>\n",
       "      <th>last_price</th>\n",
       "      <th>total_area</th>\n",
       "      <th>rooms</th>\n",
       "      <th>cityCenters_nearest</th>\n",
       "    </tr>\n",
       "  </thead>\n",
       "  <tbody>\n",
       "    <tr>\n",
       "      <th>last_price</th>\n",
       "      <td>1.000000</td>\n",
       "      <td>0.549058</td>\n",
       "      <td>0.263521</td>\n",
       "      <td>-0.082634</td>\n",
       "    </tr>\n",
       "    <tr>\n",
       "      <th>total_area</th>\n",
       "      <td>0.549058</td>\n",
       "      <td>1.000000</td>\n",
       "      <td>0.735045</td>\n",
       "      <td>-0.043961</td>\n",
       "    </tr>\n",
       "    <tr>\n",
       "      <th>rooms</th>\n",
       "      <td>0.263521</td>\n",
       "      <td>0.735045</td>\n",
       "      <td>1.000000</td>\n",
       "      <td>-0.065653</td>\n",
       "    </tr>\n",
       "    <tr>\n",
       "      <th>cityCenters_nearest</th>\n",
       "      <td>-0.082634</td>\n",
       "      <td>-0.043961</td>\n",
       "      <td>-0.065653</td>\n",
       "      <td>1.000000</td>\n",
       "    </tr>\n",
       "  </tbody>\n",
       "</table>\n",
       "</div>"
      ],
      "text/plain": [
       "                     last_price  total_area     rooms  cityCenters_nearest\n",
       "last_price             1.000000    0.549058  0.263521            -0.082634\n",
       "total_area             0.549058    1.000000  0.735045            -0.043961\n",
       "rooms                  0.263521    0.735045  1.000000            -0.065653\n",
       "cityCenters_nearest   -0.082634   -0.043961 -0.065653             1.000000"
      ]
     },
     "execution_count": 126,
     "metadata": {},
     "output_type": "execute_result"
    }
   ],
   "source": [
    "top_segment[['last_price', 'total_area', 'rooms', 'cityCenters_nearest']].corr()"
   ]
  },
  {
   "cell_type": "code",
   "execution_count": 127,
   "metadata": {},
   "outputs": [
    {
     "data": {
      "text/plain": [
       "<seaborn.axisgrid.PairGrid at 0x7f7aae38fdc0>"
      ]
     },
     "execution_count": 127,
     "metadata": {},
     "output_type": "execute_result"
    },
    {
     "data": {
      "image/png": "[encoded data removed]",
      "text/plain": [
       "<Figure size 720x720 with 20 Axes>"
      ]
     },
     "metadata": {
      "needs_background": "light"
     },
     "output_type": "display_data"
    }
   ],
   "source": [
    "seaborn.pairplot(top_segment[['last_price','total_area', 'rooms', 'cityCenters_nearest']].corr())"
   ]
  },
  {
   "cell_type": "markdown",
   "metadata": {},
   "source": [
    "## Общий вывод"
   ]
  },
  {
   "cell_type": "markdown",
   "metadata": {},
   "source": [
    "Рассмотрев выгрузку с объявлений о продаже квартир в Санкт-Петербурге и соседних населённых пунктах, пришла к выводу, что безусловно больше всего квартир в продаже представлено именно в городе федерального значения. Квратиры в самом Санкт-Петербурге условно можно разделить на премиум сегмент и оставльные. Их основной отличающий признак - цена. \n",
    " \n",
    "Были выделены основные факторы, влияющие на цену в большей или мньшей степени: квадратура, количество комнат, географическое расположение.\n",
    "\n",
    "На стоимость большенства квартир (я их определила, как \"остальные\") в первую очередь влияет площадь (коэффициент Пирсона 0.65), далее количество комнат (0,37), а зависимость цены от близости центра оказалась не такой значимой и влияющей. Коэффициент отрицательный (-0.19)\n",
    "\n",
    "На стоимость квартир премиум сегмента также влияет площадь - коэффициент 0.54, количество комнат - 0.26, а расположение (0,08) не является значимым (что не удивительно, ведь их расположение менее 5 км от ценра города) \n",
    "\n",
    "Также ои схожи в том, что больше всего квартир продается в будние дни, выявлен рост продаж в 2018 г., для себя это объясняю внутренними и внешними факторами России. Высота потолков в двух сегментах одинаковая. Из \"остальных\" квартир хотелось бы отметить, что популярнее всего 1-2 комнатные. Также популярнее квартиры любого этажа, кроме первого. "
   ]
  }
 ],
 "metadata": {
  "ExecuteTimeLog": [
   {
    "duration": 686,
    "start_time": "2022-03-08T20:36:20.772Z"
   },
   {
    "duration": 4,
    "start_time": "2022-03-08T20:36:50.040Z"
   },
   {
    "duration": 1939,
    "start_time": "2022-03-08T20:37:05.373Z"
   },
   {
    "duration": 129,
    "start_time": "2022-03-08T20:38:51.756Z"
   },
   {
    "duration": 109,
    "start_time": "2022-03-08T20:38:57.900Z"
   },
   {
    "duration": 22,
    "start_time": "2022-03-08T20:39:24.513Z"
   },
   {
    "duration": 15,
    "start_time": "2022-03-08T20:39:34.713Z"
   },
   {
    "duration": 10,
    "start_time": "2022-03-08T20:39:41.401Z"
   },
   {
    "duration": 104,
    "start_time": "2022-03-08T20:40:56.137Z"
   },
   {
    "duration": 15,
    "start_time": "2022-03-08T20:42:11.975Z"
   },
   {
    "duration": 10,
    "start_time": "2022-03-08T20:42:19.199Z"
   },
   {
    "duration": 13,
    "start_time": "2022-03-08T20:42:30.352Z"
   },
   {
    "duration": 13,
    "start_time": "2022-03-08T20:42:48.727Z"
   },
   {
    "duration": 89,
    "start_time": "2022-03-08T20:49:55.057Z"
   },
   {
    "duration": 261,
    "start_time": "2022-03-08T20:49:59.626Z"
   },
   {
    "duration": 275,
    "start_time": "2022-03-08T20:50:26.533Z"
   },
   {
    "duration": 14,
    "start_time": "2022-03-08T20:50:41.357Z"
   },
   {
    "duration": 653,
    "start_time": "2022-03-08T20:51:00.390Z"
   },
   {
    "duration": 14,
    "start_time": "2022-03-08T20:51:11.716Z"
   },
   {
    "duration": 237,
    "start_time": "2022-03-08T20:51:43.317Z"
   },
   {
    "duration": 88,
    "start_time": "2022-03-08T20:52:00.157Z"
   },
   {
    "duration": 246,
    "start_time": "2022-03-08T20:52:03.996Z"
   },
   {
    "duration": 243,
    "start_time": "2022-03-08T20:52:18.443Z"
   },
   {
    "duration": 13,
    "start_time": "2022-03-08T20:52:26.915Z"
   },
   {
    "duration": 264,
    "start_time": "2022-03-09T19:06:17.549Z"
   },
   {
    "duration": 304,
    "start_time": "2022-03-09T19:06:23.420Z"
   },
   {
    "duration": 553,
    "start_time": "2022-03-09T19:06:36.421Z"
   },
   {
    "duration": 3,
    "start_time": "2022-03-09T19:06:40.678Z"
   },
   {
    "duration": 86,
    "start_time": "2022-03-09T19:06:41.306Z"
   },
   {
    "duration": 11,
    "start_time": "2022-03-09T19:06:42.346Z"
   },
   {
    "duration": 10,
    "start_time": "2022-03-09T19:06:42.778Z"
   },
   {
    "duration": 15,
    "start_time": "2022-03-09T19:06:43.281Z"
   },
   {
    "duration": 293,
    "start_time": "2022-03-09T19:06:43.722Z"
   },
   {
    "duration": 82,
    "start_time": "2022-03-09T19:07:01.953Z"
   },
   {
    "duration": 6,
    "start_time": "2022-03-09T19:07:07.609Z"
   },
   {
    "duration": 3,
    "start_time": "2022-03-09T19:07:36.217Z"
   },
   {
    "duration": 220,
    "start_time": "2022-03-09T19:10:48.047Z"
   },
   {
    "duration": 59,
    "start_time": "2022-03-09T19:11:13.864Z"
   },
   {
    "duration": 219,
    "start_time": "2022-03-09T19:13:24.143Z"
   },
   {
    "duration": 27,
    "start_time": "2022-03-09T19:13:34.405Z"
   },
   {
    "duration": 221,
    "start_time": "2022-03-09T19:25:27.990Z"
   },
   {
    "duration": 9,
    "start_time": "2022-03-09T19:29:19.179Z"
   },
   {
    "duration": 5,
    "start_time": "2022-03-09T19:29:39.230Z"
   },
   {
    "duration": 6,
    "start_time": "2022-03-09T19:40:13.619Z"
   },
   {
    "duration": 720,
    "start_time": "2022-03-12T12:38:19.907Z"
   },
   {
    "duration": 3,
    "start_time": "2022-03-12T12:38:22.028Z"
   },
   {
    "duration": 116,
    "start_time": "2022-03-12T12:38:22.598Z"
   },
   {
    "duration": 17,
    "start_time": "2022-03-12T12:38:22.994Z"
   },
   {
    "duration": 14,
    "start_time": "2022-03-12T12:38:23.577Z"
   },
   {
    "duration": 19,
    "start_time": "2022-03-12T12:38:23.848Z"
   },
   {
    "duration": 5,
    "start_time": "2022-03-12T12:38:24.331Z"
   },
   {
    "duration": 63,
    "start_time": "2022-03-12T12:38:26.667Z"
   },
   {
    "duration": 38,
    "start_time": "2022-03-12T12:38:27.715Z"
   },
   {
    "duration": 10,
    "start_time": "2022-03-12T12:38:28.532Z"
   },
   {
    "duration": 92,
    "start_time": "2022-03-12T12:38:29.118Z"
   },
   {
    "duration": 89,
    "start_time": "2022-03-12T12:38:41.271Z"
   },
   {
    "duration": 9,
    "start_time": "2022-03-12T12:38:53.783Z"
   },
   {
    "duration": 9,
    "start_time": "2022-03-12T12:39:59.710Z"
   },
   {
    "duration": 8,
    "start_time": "2022-03-12T12:40:38.680Z"
   },
   {
    "duration": 69,
    "start_time": "2022-03-12T12:51:02.726Z"
   },
   {
    "duration": 9,
    "start_time": "2022-03-12T12:51:31.366Z"
   },
   {
    "duration": 87,
    "start_time": "2022-03-12T13:07:24.343Z"
   },
   {
    "duration": 372,
    "start_time": "2022-03-12T13:07:33.615Z"
   },
   {
    "duration": 8,
    "start_time": "2022-03-12T13:12:58.756Z"
   },
   {
    "duration": 7,
    "start_time": "2022-03-12T13:13:09.165Z"
   },
   {
    "duration": 39,
    "start_time": "2022-03-12T13:13:33.123Z"
   },
   {
    "duration": 7,
    "start_time": "2022-03-12T13:13:58.348Z"
   },
   {
    "duration": 7,
    "start_time": "2022-03-12T13:14:27.854Z"
   },
   {
    "duration": 9,
    "start_time": "2022-03-12T13:15:18.266Z"
   },
   {
    "duration": 24,
    "start_time": "2022-03-12T13:16:15.574Z"
   },
   {
    "duration": 25,
    "start_time": "2022-03-12T13:16:45.513Z"
   },
   {
    "duration": 24,
    "start_time": "2022-03-12T13:17:38.946Z"
   },
   {
    "duration": 9,
    "start_time": "2022-03-12T13:19:11.738Z"
   },
   {
    "duration": 7,
    "start_time": "2022-03-12T13:22:06.451Z"
   },
   {
    "duration": 7,
    "start_time": "2022-03-12T13:22:16.914Z"
   },
   {
    "duration": 57,
    "start_time": "2022-03-12T13:23:14.222Z"
   },
   {
    "duration": 49,
    "start_time": "2022-03-12T13:23:20.144Z"
   },
   {
    "duration": 7,
    "start_time": "2022-03-12T13:23:26.439Z"
   },
   {
    "duration": 7,
    "start_time": "2022-03-12T13:25:42.263Z"
   },
   {
    "duration": 6,
    "start_time": "2022-03-12T13:25:51.965Z"
   },
   {
    "duration": 52,
    "start_time": "2022-03-12T13:27:13.468Z"
   },
   {
    "duration": 273,
    "start_time": "2022-03-12T13:28:02.861Z"
   },
   {
    "duration": 71,
    "start_time": "2022-03-12T13:29:21.509Z"
   },
   {
    "duration": 2061,
    "start_time": "2022-03-12T13:30:01.093Z"
   },
   {
    "duration": 303,
    "start_time": "2022-03-12T13:30:19.447Z"
   },
   {
    "duration": 1925,
    "start_time": "2022-03-12T13:30:48.792Z"
   },
   {
    "duration": 270,
    "start_time": "2022-03-12T13:31:20.631Z"
   },
   {
    "duration": 7,
    "start_time": "2022-03-12T13:31:58.634Z"
   },
   {
    "duration": 10,
    "start_time": "2022-03-12T13:32:09.642Z"
   },
   {
    "duration": 10,
    "start_time": "2022-03-12T13:32:55.321Z"
   },
   {
    "duration": 7,
    "start_time": "2022-03-12T13:34:42.376Z"
   },
   {
    "duration": 9,
    "start_time": "2022-03-12T13:34:57.448Z"
   },
   {
    "duration": 8,
    "start_time": "2022-03-12T13:40:49.675Z"
   },
   {
    "duration": 7,
    "start_time": "2022-03-12T13:40:58.611Z"
   },
   {
    "duration": 87,
    "start_time": "2022-03-12T13:51:17.374Z"
   },
   {
    "duration": 86,
    "start_time": "2022-03-12T13:52:03.341Z"
   },
   {
    "duration": 91,
    "start_time": "2022-03-12T13:52:16.824Z"
   },
   {
    "duration": 8,
    "start_time": "2022-03-12T13:52:47.644Z"
   },
   {
    "duration": 6,
    "start_time": "2022-03-12T13:53:03.325Z"
   },
   {
    "duration": 370,
    "start_time": "2022-03-12T13:55:09.806Z"
   },
   {
    "duration": 299,
    "start_time": "2022-03-12T13:55:18.267Z"
   },
   {
    "duration": 11,
    "start_time": "2022-03-12T13:55:33.091Z"
   },
   {
    "duration": 7,
    "start_time": "2022-03-12T14:03:19.894Z"
   },
   {
    "duration": 6,
    "start_time": "2022-03-12T14:03:43.310Z"
   },
   {
    "duration": 10,
    "start_time": "2022-03-12T14:11:51.419Z"
   },
   {
    "duration": 11,
    "start_time": "2022-03-12T14:13:09.424Z"
   },
   {
    "duration": 7,
    "start_time": "2022-03-12T14:14:12.705Z"
   },
   {
    "duration": 282,
    "start_time": "2022-03-12T14:22:45.171Z"
   },
   {
    "duration": 10,
    "start_time": "2022-03-12T14:35:11.299Z"
   },
   {
    "duration": 9,
    "start_time": "2022-03-12T14:35:13.835Z"
   },
   {
    "duration": 6,
    "start_time": "2022-03-12T14:35:30.043Z"
   },
   {
    "duration": 9,
    "start_time": "2022-03-12T14:36:05.220Z"
   },
   {
    "duration": 6,
    "start_time": "2022-03-12T14:36:08.115Z"
   },
   {
    "duration": 48,
    "start_time": "2022-03-12T14:36:24.795Z"
   },
   {
    "duration": 8,
    "start_time": "2022-03-12T14:36:26.971Z"
   },
   {
    "duration": 6,
    "start_time": "2022-03-12T14:37:20.378Z"
   },
   {
    "duration": 19,
    "start_time": "2022-03-12T14:39:09.201Z"
   },
   {
    "duration": 28,
    "start_time": "2022-03-12T14:39:27.515Z"
   },
   {
    "duration": 13,
    "start_time": "2022-03-12T14:39:51.720Z"
   },
   {
    "duration": 14,
    "start_time": "2022-03-12T14:40:07.424Z"
   },
   {
    "duration": 8,
    "start_time": "2022-03-12T14:41:13.431Z"
   },
   {
    "duration": 7,
    "start_time": "2022-03-12T14:41:24.358Z"
   },
   {
    "duration": 725,
    "start_time": "2022-03-12T14:41:37.086Z"
   },
   {
    "duration": 3,
    "start_time": "2022-03-12T14:41:39.534Z"
   },
   {
    "duration": 125,
    "start_time": "2022-03-12T14:41:39.868Z"
   },
   {
    "duration": 15,
    "start_time": "2022-03-12T14:41:40.073Z"
   },
   {
    "duration": 13,
    "start_time": "2022-03-12T14:41:40.267Z"
   },
   {
    "duration": 21,
    "start_time": "2022-03-12T14:41:40.452Z"
   },
   {
    "duration": 5,
    "start_time": "2022-03-12T14:41:40.638Z"
   },
   {
    "duration": 65,
    "start_time": "2022-03-12T14:41:41.666Z"
   },
   {
    "duration": 37,
    "start_time": "2022-03-12T14:41:42.058Z"
   },
   {
    "duration": 8,
    "start_time": "2022-03-12T14:41:42.485Z"
   },
   {
    "duration": 6,
    "start_time": "2022-03-12T14:41:43.052Z"
   },
   {
    "duration": 52,
    "start_time": "2022-03-12T14:41:43.492Z"
   },
   {
    "duration": 6,
    "start_time": "2022-03-12T14:41:43.794Z"
   },
   {
    "duration": 6,
    "start_time": "2022-03-12T14:41:45.040Z"
   },
   {
    "duration": 6,
    "start_time": "2022-03-12T14:41:45.794Z"
   },
   {
    "duration": 10,
    "start_time": "2022-03-12T14:41:46.551Z"
   },
   {
    "duration": 8,
    "start_time": "2022-03-12T14:41:49.584Z"
   },
   {
    "duration": 6,
    "start_time": "2022-03-12T14:41:50.089Z"
   },
   {
    "duration": 6,
    "start_time": "2022-03-12T14:41:51.622Z"
   },
   {
    "duration": 10,
    "start_time": "2022-03-12T14:41:52.253Z"
   },
   {
    "duration": 6,
    "start_time": "2022-03-12T14:41:54.822Z"
   },
   {
    "duration": 6,
    "start_time": "2022-03-12T14:41:55.415Z"
   },
   {
    "duration": 6,
    "start_time": "2022-03-12T14:41:56.157Z"
   },
   {
    "duration": 10,
    "start_time": "2022-03-12T14:41:56.958Z"
   },
   {
    "duration": 7,
    "start_time": "2022-03-12T14:42:08.071Z"
   },
   {
    "duration": 7,
    "start_time": "2022-03-12T14:46:19.142Z"
   },
   {
    "duration": 9,
    "start_time": "2022-03-12T14:46:26.418Z"
   },
   {
    "duration": 9,
    "start_time": "2022-03-12T14:46:49.864Z"
   },
   {
    "duration": 97,
    "start_time": "2022-03-12T14:49:30.101Z"
   },
   {
    "duration": 133,
    "start_time": "2022-03-12T14:50:06.772Z"
   },
   {
    "duration": 151,
    "start_time": "2022-03-12T14:50:13.012Z"
   },
   {
    "duration": 368,
    "start_time": "2022-03-12T14:50:21.091Z"
   },
   {
    "duration": 93,
    "start_time": "2022-03-12T14:51:28.211Z"
   },
   {
    "duration": 3,
    "start_time": "2022-03-12T14:51:33.563Z"
   },
   {
    "duration": 7,
    "start_time": "2022-03-12T14:51:58.963Z"
   },
   {
    "duration": 6,
    "start_time": "2022-03-12T14:52:02.651Z"
   },
   {
    "duration": 9,
    "start_time": "2022-03-12T14:52:11.010Z"
   },
   {
    "duration": 7,
    "start_time": "2022-03-12T14:53:32.226Z"
   },
   {
    "duration": 6,
    "start_time": "2022-03-12T14:53:34.961Z"
   },
   {
    "duration": 743,
    "start_time": "2022-03-12T14:53:50.748Z"
   },
   {
    "duration": 4,
    "start_time": "2022-03-12T14:53:53.963Z"
   },
   {
    "duration": 121,
    "start_time": "2022-03-12T14:53:54.637Z"
   },
   {
    "duration": 16,
    "start_time": "2022-03-12T14:53:54.938Z"
   },
   {
    "duration": 14,
    "start_time": "2022-03-12T14:53:55.406Z"
   },
   {
    "duration": 19,
    "start_time": "2022-03-12T14:53:55.652Z"
   },
   {
    "duration": 6,
    "start_time": "2022-03-12T14:53:55.841Z"
   },
   {
    "duration": 64,
    "start_time": "2022-03-12T14:53:56.792Z"
   },
   {
    "duration": 37,
    "start_time": "2022-03-12T14:53:57.194Z"
   },
   {
    "duration": 8,
    "start_time": "2022-03-12T14:53:57.695Z"
   },
   {
    "duration": 7,
    "start_time": "2022-03-12T14:53:57.875Z"
   },
   {
    "duration": 54,
    "start_time": "2022-03-12T14:53:58.060Z"
   },
   {
    "duration": 7,
    "start_time": "2022-03-12T14:53:58.240Z"
   },
   {
    "duration": 5,
    "start_time": "2022-03-12T14:53:58.614Z"
   },
   {
    "duration": 8,
    "start_time": "2022-03-12T14:53:58.853Z"
   },
   {
    "duration": 10,
    "start_time": "2022-03-12T14:53:59.203Z"
   },
   {
    "duration": 7,
    "start_time": "2022-03-12T14:53:59.766Z"
   },
   {
    "duration": 7,
    "start_time": "2022-03-12T14:54:00.136Z"
   },
   {
    "duration": 7,
    "start_time": "2022-03-12T14:54:00.827Z"
   },
   {
    "duration": 11,
    "start_time": "2022-03-12T14:54:01.189Z"
   },
   {
    "duration": 7,
    "start_time": "2022-03-12T14:54:01.555Z"
   },
   {
    "duration": 7,
    "start_time": "2022-03-12T14:54:02.072Z"
   },
   {
    "duration": 7,
    "start_time": "2022-03-12T14:54:02.511Z"
   },
   {
    "duration": 8,
    "start_time": "2022-03-12T14:54:03.010Z"
   },
   {
    "duration": 8,
    "start_time": "2022-03-12T14:54:03.578Z"
   },
   {
    "duration": 6,
    "start_time": "2022-03-12T14:54:04.207Z"
   },
   {
    "duration": 10,
    "start_time": "2022-03-12T15:00:27.125Z"
   },
   {
    "duration": 349,
    "start_time": "2022-03-12T15:00:55.942Z"
   },
   {
    "duration": 8,
    "start_time": "2022-03-12T15:01:07.716Z"
   },
   {
    "duration": 6,
    "start_time": "2022-03-12T15:01:18.396Z"
   },
   {
    "duration": 283,
    "start_time": "2022-03-12T15:08:47.744Z"
   },
   {
    "duration": 336,
    "start_time": "2022-03-12T15:09:00.018Z"
   },
   {
    "duration": 751,
    "start_time": "2022-03-12T15:09:17.867Z"
   },
   {
    "duration": 123,
    "start_time": "2022-03-12T15:09:18.620Z"
   },
   {
    "duration": 15,
    "start_time": "2022-03-12T15:09:19.365Z"
   },
   {
    "duration": 13,
    "start_time": "2022-03-12T15:09:19.699Z"
   },
   {
    "duration": 19,
    "start_time": "2022-03-12T15:09:19.952Z"
   },
   {
    "duration": 5,
    "start_time": "2022-03-12T15:09:20.161Z"
   },
   {
    "duration": 66,
    "start_time": "2022-03-12T15:09:21.323Z"
   },
   {
    "duration": 40,
    "start_time": "2022-03-12T15:09:21.726Z"
   },
   {
    "duration": 8,
    "start_time": "2022-03-12T15:09:22.186Z"
   },
   {
    "duration": 6,
    "start_time": "2022-03-12T15:09:22.450Z"
   },
   {
    "duration": 54,
    "start_time": "2022-03-12T15:09:22.739Z"
   },
   {
    "duration": 8,
    "start_time": "2022-03-12T15:09:22.997Z"
   },
   {
    "duration": 7,
    "start_time": "2022-03-12T15:09:23.395Z"
   },
   {
    "duration": 6,
    "start_time": "2022-03-12T15:09:23.581Z"
   },
   {
    "duration": 9,
    "start_time": "2022-03-12T15:09:23.783Z"
   },
   {
    "duration": 8,
    "start_time": "2022-03-12T15:09:23.999Z"
   },
   {
    "duration": 6,
    "start_time": "2022-03-12T15:09:24.182Z"
   },
   {
    "duration": 355,
    "start_time": "2022-03-12T15:09:24.560Z"
   },
   {
    "duration": 2109,
    "start_time": "2022-03-12T15:09:22.808Z"
   },
   {
    "duration": 7,
    "start_time": "2022-03-12T15:09:24.980Z"
   },
   {
    "duration": 7,
    "start_time": "2022-03-12T15:09:25.231Z"
   },
   {
    "duration": 7,
    "start_time": "2022-03-12T15:09:25.461Z"
   },
   {
    "duration": 6,
    "start_time": "2022-03-12T15:09:25.721Z"
   },
   {
    "duration": 9,
    "start_time": "2022-03-12T15:09:26.484Z"
   },
   {
    "duration": 7,
    "start_time": "2022-03-12T15:09:26.909Z"
   },
   {
    "duration": 282,
    "start_time": "2022-03-12T15:09:27.962Z"
   },
   {
    "duration": 8,
    "start_time": "2022-03-12T15:09:35.792Z"
   },
   {
    "duration": 7,
    "start_time": "2022-03-12T15:09:44.928Z"
   },
   {
    "duration": 14,
    "start_time": "2022-03-12T15:10:39.881Z"
   },
   {
    "duration": 7,
    "start_time": "2022-03-12T15:11:20.151Z"
   },
   {
    "duration": 9,
    "start_time": "2022-03-12T15:12:14.534Z"
   },
   {
    "duration": 6,
    "start_time": "2022-03-12T15:12:23.206Z"
   },
   {
    "duration": 16,
    "start_time": "2022-03-12T15:19:05.395Z"
   },
   {
    "duration": 23,
    "start_time": "2022-03-12T15:19:23.498Z"
   },
   {
    "duration": 7,
    "start_time": "2022-03-12T15:19:34.025Z"
   },
   {
    "duration": 7,
    "start_time": "2022-03-12T15:19:44.644Z"
   },
   {
    "duration": 276,
    "start_time": "2022-03-12T15:24:33.696Z"
   },
   {
    "duration": 39,
    "start_time": "2022-03-12T15:24:42.359Z"
   },
   {
    "duration": 37,
    "start_time": "2022-03-12T15:24:48.160Z"
   },
   {
    "duration": 8,
    "start_time": "2022-03-12T15:28:46.197Z"
   },
   {
    "duration": 9,
    "start_time": "2022-03-12T15:28:58.796Z"
   },
   {
    "duration": 709,
    "start_time": "2022-03-12T15:29:16.935Z"
   },
   {
    "duration": 126,
    "start_time": "2022-03-12T15:29:17.647Z"
   },
   {
    "duration": 16,
    "start_time": "2022-03-12T15:29:17.782Z"
   },
   {
    "duration": 12,
    "start_time": "2022-03-12T15:29:17.801Z"
   },
   {
    "duration": 20,
    "start_time": "2022-03-12T15:29:18.017Z"
   },
   {
    "duration": 5,
    "start_time": "2022-03-12T15:29:18.275Z"
   },
   {
    "duration": 40,
    "start_time": "2022-03-12T15:29:20.383Z"
   },
   {
    "duration": 37,
    "start_time": "2022-03-12T15:29:21.330Z"
   },
   {
    "duration": 7,
    "start_time": "2022-03-12T15:29:21.990Z"
   },
   {
    "duration": 7,
    "start_time": "2022-03-12T15:29:22.236Z"
   },
   {
    "duration": 52,
    "start_time": "2022-03-12T15:29:22.593Z"
   },
   {
    "duration": 7,
    "start_time": "2022-03-12T15:29:22.964Z"
   },
   {
    "duration": 7,
    "start_time": "2022-03-12T15:29:23.818Z"
   },
   {
    "duration": 6,
    "start_time": "2022-03-12T15:29:24.250Z"
   },
   {
    "duration": 9,
    "start_time": "2022-03-12T15:29:24.760Z"
   },
   {
    "duration": 7,
    "start_time": "2022-03-12T15:29:25.274Z"
   },
   {
    "duration": 6,
    "start_time": "2022-03-12T15:29:25.774Z"
   },
   {
    "duration": 9,
    "start_time": "2022-03-12T15:29:26.426Z"
   },
   {
    "duration": 7,
    "start_time": "2022-03-12T15:29:38.728Z"
   },
   {
    "duration": 10,
    "start_time": "2022-03-12T15:29:39.188Z"
   },
   {
    "duration": 6,
    "start_time": "2022-03-12T15:29:39.475Z"
   },
   {
    "duration": 9,
    "start_time": "2022-03-12T15:29:39.694Z"
   },
   {
    "duration": 10,
    "start_time": "2022-03-12T15:29:39.914Z"
   },
   {
    "duration": 6,
    "start_time": "2022-03-12T15:29:40.142Z"
   },
   {
    "duration": 9,
    "start_time": "2022-03-12T15:29:40.334Z"
   },
   {
    "duration": 7,
    "start_time": "2022-03-12T15:29:40.530Z"
   },
   {
    "duration": 7,
    "start_time": "2022-03-12T15:29:40.910Z"
   },
   {
    "duration": 14,
    "start_time": "2022-03-12T15:29:41.185Z"
   },
   {
    "duration": 7,
    "start_time": "2022-03-12T15:29:41.413Z"
   },
   {
    "duration": 8,
    "start_time": "2022-03-12T15:29:41.664Z"
   },
   {
    "duration": 6,
    "start_time": "2022-03-12T15:29:41.846Z"
   },
   {
    "duration": 90,
    "start_time": "2022-03-12T15:29:42.388Z"
   },
   {
    "duration": 7,
    "start_time": "2022-03-12T15:31:37.517Z"
   },
   {
    "duration": 709,
    "start_time": "2022-03-12T15:32:01.585Z"
   },
   {
    "duration": 123,
    "start_time": "2022-03-12T15:32:02.296Z"
   },
   {
    "duration": 17,
    "start_time": "2022-03-12T15:32:02.422Z"
   },
   {
    "duration": 39,
    "start_time": "2022-03-12T15:32:02.443Z"
   },
   {
    "duration": 15,
    "start_time": "2022-03-12T15:32:02.485Z"
   },
   {
    "duration": 14,
    "start_time": "2022-03-12T15:32:02.504Z"
   },
   {
    "duration": 37,
    "start_time": "2022-03-12T15:32:03.370Z"
   },
   {
    "duration": 36,
    "start_time": "2022-03-12T15:32:03.720Z"
   },
   {
    "duration": 7,
    "start_time": "2022-03-12T15:32:04.062Z"
   },
   {
    "duration": 6,
    "start_time": "2022-03-12T15:32:04.230Z"
   },
   {
    "duration": 52,
    "start_time": "2022-03-12T15:32:04.390Z"
   },
   {
    "duration": 7,
    "start_time": "2022-03-12T15:32:04.560Z"
   },
   {
    "duration": 6,
    "start_time": "2022-03-12T15:32:04.876Z"
   },
   {
    "duration": 7,
    "start_time": "2022-03-12T15:32:05.209Z"
   },
   {
    "duration": 10,
    "start_time": "2022-03-12T15:32:05.418Z"
   },
   {
    "duration": 8,
    "start_time": "2022-03-12T15:32:05.581Z"
   },
   {
    "duration": 7,
    "start_time": "2022-03-12T15:32:05.770Z"
   },
   {
    "duration": 6,
    "start_time": "2022-03-12T15:32:06.126Z"
   },
   {
    "duration": 11,
    "start_time": "2022-03-12T15:32:06.311Z"
   },
   {
    "duration": 7,
    "start_time": "2022-03-12T15:32:06.472Z"
   },
   {
    "duration": 9,
    "start_time": "2022-03-12T15:32:06.658Z"
   },
   {
    "duration": 9,
    "start_time": "2022-03-12T15:32:06.834Z"
   },
   {
    "duration": 6,
    "start_time": "2022-03-12T15:32:07.110Z"
   },
   {
    "duration": 8,
    "start_time": "2022-03-12T15:32:07.455Z"
   },
   {
    "duration": 6,
    "start_time": "2022-03-12T15:32:07.650Z"
   },
   {
    "duration": 7,
    "start_time": "2022-03-12T15:32:08.046Z"
   },
   {
    "duration": 12,
    "start_time": "2022-03-12T15:32:08.281Z"
   },
   {
    "duration": 7,
    "start_time": "2022-03-12T15:32:08.453Z"
   },
   {
    "duration": 8,
    "start_time": "2022-03-12T15:32:08.651Z"
   },
   {
    "duration": 6,
    "start_time": "2022-03-12T15:32:08.874Z"
   },
   {
    "duration": 92,
    "start_time": "2022-03-12T15:32:09.294Z"
   },
   {
    "duration": 12,
    "start_time": "2022-03-12T15:35:22.229Z"
   },
   {
    "duration": 11,
    "start_time": "2022-03-12T15:35:59.693Z"
   },
   {
    "duration": 7,
    "start_time": "2022-03-12T15:37:03.953Z"
   },
   {
    "duration": 8,
    "start_time": "2022-03-12T15:37:39.884Z"
   },
   {
    "duration": 7,
    "start_time": "2022-03-12T15:38:21.228Z"
   },
   {
    "duration": 7,
    "start_time": "2022-03-12T15:38:35.683Z"
   },
   {
    "duration": 8,
    "start_time": "2022-03-12T15:44:50.136Z"
   },
   {
    "duration": 7,
    "start_time": "2022-03-12T15:45:09.711Z"
   },
   {
    "duration": 2073,
    "start_time": "2022-03-12T15:58:40.476Z"
   },
   {
    "duration": 7041,
    "start_time": "2022-03-12T16:00:57.798Z"
   },
   {
    "duration": 2083,
    "start_time": "2022-03-12T16:01:27.134Z"
   },
   {
    "duration": 276,
    "start_time": "2022-03-12T16:02:21.052Z"
   },
   {
    "duration": 323,
    "start_time": "2022-03-12T16:02:31.302Z"
   },
   {
    "duration": 269,
    "start_time": "2022-03-12T16:02:33.147Z"
   },
   {
    "duration": 706,
    "start_time": "2022-03-12T16:02:53.428Z"
   },
   {
    "duration": 126,
    "start_time": "2022-03-12T16:02:54.137Z"
   },
   {
    "duration": 24,
    "start_time": "2022-03-12T16:02:54.266Z"
   },
   {
    "duration": 12,
    "start_time": "2022-03-12T16:02:54.292Z"
   },
   {
    "duration": 13,
    "start_time": "2022-03-12T16:02:54.307Z"
   },
   {
    "duration": 5,
    "start_time": "2022-03-12T16:02:54.389Z"
   },
   {
    "duration": 40,
    "start_time": "2022-03-12T16:02:55.299Z"
   },
   {
    "duration": 37,
    "start_time": "2022-03-12T16:02:55.684Z"
   },
   {
    "duration": 7,
    "start_time": "2022-03-12T16:02:56.099Z"
   },
   {
    "duration": 7,
    "start_time": "2022-03-12T16:02:56.275Z"
   },
   {
    "duration": 54,
    "start_time": "2022-03-12T16:02:56.455Z"
   },
   {
    "duration": 7,
    "start_time": "2022-03-12T16:02:56.642Z"
   },
   {
    "duration": 8,
    "start_time": "2022-03-12T16:02:57.058Z"
   },
   {
    "duration": 6,
    "start_time": "2022-03-12T16:02:57.389Z"
   },
   {
    "duration": 9,
    "start_time": "2022-03-12T16:02:57.600Z"
   },
   {
    "duration": 7,
    "start_time": "2022-03-12T16:02:57.808Z"
   },
   {
    "duration": 7,
    "start_time": "2022-03-12T16:02:58.010Z"
   },
   {
    "duration": 6,
    "start_time": "2022-03-12T16:02:58.400Z"
   },
   {
    "duration": 10,
    "start_time": "2022-03-12T16:02:58.610Z"
   },
   {
    "duration": 8,
    "start_time": "2022-03-12T16:02:58.804Z"
   },
   {
    "duration": 9,
    "start_time": "2022-03-12T16:02:59.004Z"
   },
   {
    "duration": 8,
    "start_time": "2022-03-12T16:02:59.202Z"
   },
   {
    "duration": 6,
    "start_time": "2022-03-12T16:02:59.421Z"
   },
   {
    "duration": 9,
    "start_time": "2022-03-12T16:02:59.611Z"
   },
   {
    "duration": 7,
    "start_time": "2022-03-12T16:02:59.836Z"
   },
   {
    "duration": 6,
    "start_time": "2022-03-12T16:03:00.250Z"
   },
   {
    "duration": 12,
    "start_time": "2022-03-12T16:03:00.490Z"
   },
   {
    "duration": 7,
    "start_time": "2022-03-12T16:03:00.686Z"
   },
   {
    "duration": 10,
    "start_time": "2022-03-12T16:03:00.892Z"
   },
   {
    "duration": 7,
    "start_time": "2022-03-12T16:03:01.105Z"
   },
   {
    "duration": 7,
    "start_time": "2022-03-12T16:03:01.492Z"
   },
   {
    "duration": 6,
    "start_time": "2022-03-12T16:03:01.690Z"
   },
   {
    "duration": 8,
    "start_time": "2022-03-12T16:03:01.886Z"
   },
   {
    "duration": 7,
    "start_time": "2022-03-12T16:03:02.078Z"
   },
   {
    "duration": 14,
    "start_time": "2022-03-12T16:03:02.280Z"
   },
   {
    "duration": 8,
    "start_time": "2022-03-12T16:03:02.480Z"
   },
   {
    "duration": 7,
    "start_time": "2022-03-12T16:03:02.676Z"
   },
   {
    "duration": 449,
    "start_time": "2022-03-12T16:03:03.063Z"
   },
   {
    "duration": 338,
    "start_time": "2022-03-12T16:03:29.261Z"
   },
   {
    "duration": 2071,
    "start_time": "2022-03-12T16:04:52.308Z"
   },
   {
    "duration": 6898,
    "start_time": "2022-03-12T16:04:58.082Z"
   },
   {
    "duration": 6,
    "start_time": "2022-03-12T16:05:57.308Z"
   },
   {
    "duration": 289,
    "start_time": "2022-03-12T16:06:07.523Z"
   },
   {
    "duration": 9,
    "start_time": "2022-03-12T16:06:23.355Z"
   },
   {
    "duration": 11,
    "start_time": "2022-03-12T16:07:22.898Z"
   },
   {
    "duration": 8,
    "start_time": "2022-03-12T16:07:29.538Z"
   },
   {
    "duration": 12,
    "start_time": "2022-03-12T16:07:36.538Z"
   },
   {
    "duration": 11,
    "start_time": "2022-03-12T16:08:01.578Z"
   },
   {
    "duration": 8,
    "start_time": "2022-03-12T16:08:41.937Z"
   },
   {
    "duration": 12,
    "start_time": "2022-03-12T16:08:50.218Z"
   },
   {
    "duration": 315,
    "start_time": "2022-03-12T16:28:37.614Z"
   },
   {
    "duration": 384,
    "start_time": "2022-03-12T16:28:42.821Z"
   },
   {
    "duration": 294,
    "start_time": "2022-03-12T16:28:51.662Z"
   },
   {
    "duration": 9,
    "start_time": "2022-03-12T16:29:19.520Z"
   },
   {
    "duration": 5,
    "start_time": "2022-03-12T16:29:38.973Z"
   },
   {
    "duration": 6,
    "start_time": "2022-03-12T16:31:06.206Z"
   },
   {
    "duration": 6,
    "start_time": "2022-03-12T16:31:26.239Z"
   },
   {
    "duration": 8,
    "start_time": "2022-03-12T16:31:35.910Z"
   },
   {
    "duration": 10,
    "start_time": "2022-03-12T16:32:08.404Z"
   },
   {
    "duration": 263,
    "start_time": "2022-03-12T16:34:55.210Z"
   },
   {
    "duration": 11,
    "start_time": "2022-03-12T16:35:07.993Z"
   },
   {
    "duration": 13,
    "start_time": "2022-03-12T16:40:53.071Z"
   },
   {
    "duration": 17,
    "start_time": "2022-03-12T16:41:13.176Z"
   },
   {
    "duration": 12,
    "start_time": "2022-03-12T16:41:30.270Z"
   },
   {
    "duration": 6,
    "start_time": "2022-03-12T16:41:38.784Z"
   },
   {
    "duration": 13,
    "start_time": "2022-03-12T16:42:49.117Z"
   },
   {
    "duration": 9,
    "start_time": "2022-03-12T16:43:16.375Z"
   },
   {
    "duration": 13,
    "start_time": "2022-03-12T16:44:31.684Z"
   },
   {
    "duration": 12,
    "start_time": "2022-03-12T16:44:41.307Z"
   },
   {
    "duration": 87,
    "start_time": "2022-03-12T16:44:47.388Z"
   },
   {
    "duration": 11,
    "start_time": "2022-03-12T16:44:52.092Z"
   },
   {
    "duration": 13,
    "start_time": "2022-03-12T16:45:18.499Z"
   },
   {
    "duration": 9,
    "start_time": "2022-03-12T16:45:47.548Z"
   },
   {
    "duration": 12,
    "start_time": "2022-03-12T16:45:53.204Z"
   },
   {
    "duration": 13,
    "start_time": "2022-03-12T16:46:01.691Z"
   },
   {
    "duration": 7,
    "start_time": "2022-03-12T16:46:31.524Z"
   },
   {
    "duration": 11,
    "start_time": "2022-03-12T16:49:41.145Z"
   },
   {
    "duration": 7,
    "start_time": "2022-03-12T16:49:49.096Z"
   },
   {
    "duration": 5,
    "start_time": "2022-03-12T16:50:07.523Z"
   },
   {
    "duration": 6,
    "start_time": "2022-03-12T16:50:17.596Z"
   },
   {
    "duration": 10,
    "start_time": "2022-03-12T16:50:27.400Z"
   },
   {
    "duration": 11,
    "start_time": "2022-03-12T16:50:40.152Z"
   },
   {
    "duration": 719,
    "start_time": "2022-03-12T16:50:50.778Z"
   },
   {
    "duration": 129,
    "start_time": "2022-03-12T16:50:51.500Z"
   },
   {
    "duration": 17,
    "start_time": "2022-03-12T16:50:51.632Z"
   },
   {
    "duration": 13,
    "start_time": "2022-03-12T16:50:52.243Z"
   },
   {
    "duration": 19,
    "start_time": "2022-03-12T16:50:52.440Z"
   },
   {
    "duration": 5,
    "start_time": "2022-03-12T16:50:52.634Z"
   },
   {
    "duration": 38,
    "start_time": "2022-03-12T16:50:53.576Z"
   },
   {
    "duration": 35,
    "start_time": "2022-03-12T16:50:53.946Z"
   },
   {
    "duration": 7,
    "start_time": "2022-03-12T16:50:54.334Z"
   },
   {
    "duration": 7,
    "start_time": "2022-03-12T16:50:54.526Z"
   },
   {
    "duration": 53,
    "start_time": "2022-03-12T16:50:54.722Z"
   },
   {
    "duration": 7,
    "start_time": "2022-03-12T16:50:54.914Z"
   },
   {
    "duration": 7,
    "start_time": "2022-03-12T16:50:55.307Z"
   },
   {
    "duration": 7,
    "start_time": "2022-03-12T16:50:55.498Z"
   },
   {
    "duration": 10,
    "start_time": "2022-03-12T16:50:55.690Z"
   },
   {
    "duration": 7,
    "start_time": "2022-03-12T16:50:55.882Z"
   },
   {
    "duration": 6,
    "start_time": "2022-03-12T16:50:56.258Z"
   },
   {
    "duration": 7,
    "start_time": "2022-03-12T16:50:56.627Z"
   },
   {
    "duration": 10,
    "start_time": "2022-03-12T16:50:56.842Z"
   },
   {
    "duration": 7,
    "start_time": "2022-03-12T16:50:57.043Z"
   },
   {
    "duration": 9,
    "start_time": "2022-03-12T16:50:57.243Z"
   },
   {
    "duration": 9,
    "start_time": "2022-03-12T16:50:57.432Z"
   },
   {
    "duration": 9,
    "start_time": "2022-03-12T16:50:57.632Z"
   },
   {
    "duration": 9,
    "start_time": "2022-03-12T16:50:57.824Z"
   },
   {
    "duration": 7,
    "start_time": "2022-03-12T16:50:58.008Z"
   },
   {
    "duration": 6,
    "start_time": "2022-03-12T16:50:58.408Z"
   },
   {
    "duration": 12,
    "start_time": "2022-03-12T16:50:58.581Z"
   },
   {
    "duration": 7,
    "start_time": "2022-03-12T16:50:58.785Z"
   },
   {
    "duration": 9,
    "start_time": "2022-03-12T16:50:58.987Z"
   },
   {
    "duration": 6,
    "start_time": "2022-03-12T16:50:59.202Z"
   },
   {
    "duration": 7,
    "start_time": "2022-03-12T16:50:59.614Z"
   },
   {
    "duration": 6,
    "start_time": "2022-03-12T16:50:59.822Z"
   },
   {
    "duration": 6,
    "start_time": "2022-03-12T16:51:00.024Z"
   },
   {
    "duration": 7,
    "start_time": "2022-03-12T16:51:00.400Z"
   },
   {
    "duration": 13,
    "start_time": "2022-03-12T16:51:00.586Z"
   },
   {
    "duration": 8,
    "start_time": "2022-03-12T16:51:00.788Z"
   },
   {
    "duration": 7,
    "start_time": "2022-03-12T16:51:00.978Z"
   },
   {
    "duration": 8,
    "start_time": "2022-03-12T16:51:01.394Z"
   },
   {
    "duration": 5,
    "start_time": "2022-03-12T16:51:01.838Z"
   },
   {
    "duration": 6,
    "start_time": "2022-03-12T16:51:02.294Z"
   },
   {
    "duration": 9,
    "start_time": "2022-03-12T16:51:02.681Z"
   },
   {
    "duration": 12,
    "start_time": "2022-03-12T16:51:03.144Z"
   },
   {
    "duration": 6,
    "start_time": "2022-03-12T16:51:03.583Z"
   },
   {
    "duration": 11,
    "start_time": "2022-03-12T16:51:04.057Z"
   },
   {
    "duration": 10,
    "start_time": "2022-03-12T16:51:04.387Z"
   },
   {
    "duration": 349,
    "start_time": "2022-03-12T16:51:49.205Z"
   },
   {
    "duration": 39,
    "start_time": "2022-03-12T16:52:00.131Z"
   },
   {
    "duration": 6,
    "start_time": "2022-03-12T17:57:56.093Z"
   },
   {
    "duration": 5,
    "start_time": "2022-03-12T17:58:51.003Z"
   },
   {
    "duration": 7,
    "start_time": "2022-03-12T17:58:59.100Z"
   },
   {
    "duration": 5,
    "start_time": "2022-03-12T18:01:35.844Z"
   },
   {
    "duration": 4,
    "start_time": "2022-03-12T18:01:38.546Z"
   },
   {
    "duration": 5,
    "start_time": "2022-03-12T18:01:40.474Z"
   },
   {
    "duration": 5,
    "start_time": "2022-03-12T18:04:35.971Z"
   },
   {
    "duration": 716,
    "start_time": "2022-03-12T18:11:32.305Z"
   },
   {
    "duration": 127,
    "start_time": "2022-03-12T18:11:34.371Z"
   },
   {
    "duration": 16,
    "start_time": "2022-03-12T18:11:34.577Z"
   },
   {
    "duration": 13,
    "start_time": "2022-03-12T18:11:34.835Z"
   },
   {
    "duration": 20,
    "start_time": "2022-03-12T18:11:35.089Z"
   },
   {
    "duration": 6,
    "start_time": "2022-03-12T18:11:35.330Z"
   },
   {
    "duration": 39,
    "start_time": "2022-03-12T18:11:36.482Z"
   },
   {
    "duration": 39,
    "start_time": "2022-03-12T18:11:36.997Z"
   },
   {
    "duration": 7,
    "start_time": "2022-03-12T18:11:37.475Z"
   },
   {
    "duration": 7,
    "start_time": "2022-03-12T18:11:37.688Z"
   },
   {
    "duration": 54,
    "start_time": "2022-03-12T18:11:37.897Z"
   },
   {
    "duration": 6,
    "start_time": "2022-03-12T18:11:38.070Z"
   },
   {
    "duration": 5,
    "start_time": "2022-03-12T18:11:38.566Z"
   },
   {
    "duration": 7,
    "start_time": "2022-03-12T18:11:38.842Z"
   },
   {
    "duration": 8,
    "start_time": "2022-03-12T18:11:39.083Z"
   },
   {
    "duration": 8,
    "start_time": "2022-03-12T18:11:39.328Z"
   },
   {
    "duration": 6,
    "start_time": "2022-03-12T18:11:39.558Z"
   },
   {
    "duration": 7,
    "start_time": "2022-03-12T18:11:40.120Z"
   },
   {
    "duration": 10,
    "start_time": "2022-03-12T18:11:40.357Z"
   },
   {
    "duration": 7,
    "start_time": "2022-03-12T18:11:40.597Z"
   },
   {
    "duration": 9,
    "start_time": "2022-03-12T18:11:40.811Z"
   },
   {
    "duration": 8,
    "start_time": "2022-03-12T18:11:41.085Z"
   },
   {
    "duration": 6,
    "start_time": "2022-03-12T18:11:41.345Z"
   },
   {
    "duration": 8,
    "start_time": "2022-03-12T18:11:41.567Z"
   },
   {
    "duration": 7,
    "start_time": "2022-03-12T18:11:41.799Z"
   },
   {
    "duration": 6,
    "start_time": "2022-03-12T18:11:42.258Z"
   },
   {
    "duration": 12,
    "start_time": "2022-03-12T18:11:42.503Z"
   },
   {
    "duration": 6,
    "start_time": "2022-03-12T18:11:42.766Z"
   },
   {
    "duration": 8,
    "start_time": "2022-03-12T18:11:43.022Z"
   },
   {
    "duration": 6,
    "start_time": "2022-03-12T18:11:43.216Z"
   },
   {
    "duration": 7,
    "start_time": "2022-03-12T18:11:43.910Z"
   },
   {
    "duration": 5,
    "start_time": "2022-03-12T18:11:44.298Z"
   },
   {
    "duration": 7,
    "start_time": "2022-03-12T18:11:44.515Z"
   },
   {
    "duration": 8,
    "start_time": "2022-03-12T18:11:44.881Z"
   },
   {
    "duration": 4,
    "start_time": "2022-03-12T18:11:45.085Z"
   },
   {
    "duration": 8,
    "start_time": "2022-03-12T18:11:45.299Z"
   },
   {
    "duration": 5,
    "start_time": "2022-03-12T18:11:45.734Z"
   },
   {
    "duration": 5,
    "start_time": "2022-03-12T18:11:45.982Z"
   },
   {
    "duration": 6,
    "start_time": "2022-03-12T18:11:46.608Z"
   },
   {
    "duration": 11,
    "start_time": "2022-03-12T18:16:14.070Z"
   },
   {
    "duration": 8,
    "start_time": "2022-03-12T18:18:42.207Z"
   },
   {
    "duration": 8,
    "start_time": "2022-03-12T18:20:12.885Z"
   },
   {
    "duration": 8,
    "start_time": "2022-03-12T18:21:20.501Z"
   },
   {
    "duration": 6,
    "start_time": "2022-03-12T18:21:53.140Z"
   },
   {
    "duration": 12,
    "start_time": "2022-03-12T18:42:40.375Z"
   },
   {
    "duration": 530,
    "start_time": "2022-03-13T08:37:16.142Z"
   },
   {
    "duration": 87,
    "start_time": "2022-03-13T08:37:17.221Z"
   },
   {
    "duration": 11,
    "start_time": "2022-03-13T08:37:17.550Z"
   },
   {
    "duration": 9,
    "start_time": "2022-03-13T08:37:17.842Z"
   },
   {
    "duration": 13,
    "start_time": "2022-03-13T08:37:18.132Z"
   },
   {
    "duration": 3,
    "start_time": "2022-03-13T08:37:18.358Z"
   },
   {
    "duration": 23,
    "start_time": "2022-03-13T08:37:19.436Z"
   },
   {
    "duration": 23,
    "start_time": "2022-03-13T08:37:19.919Z"
   },
   {
    "duration": 5,
    "start_time": "2022-03-13T08:37:20.356Z"
   },
   {
    "duration": 4,
    "start_time": "2022-03-13T08:37:20.567Z"
   },
   {
    "duration": 41,
    "start_time": "2022-03-13T08:37:20.827Z"
   },
   {
    "duration": 4,
    "start_time": "2022-03-13T08:37:21.053Z"
   },
   {
    "duration": 4,
    "start_time": "2022-03-13T08:37:21.526Z"
   },
   {
    "duration": 5,
    "start_time": "2022-03-13T08:37:21.784Z"
   },
   {
    "duration": 6,
    "start_time": "2022-03-13T08:37:22.042Z"
   },
   {
    "duration": 6,
    "start_time": "2022-03-13T08:37:22.242Z"
   },
   {
    "duration": 4,
    "start_time": "2022-03-13T08:37:22.445Z"
   },
   {
    "duration": 4,
    "start_time": "2022-03-13T08:37:22.832Z"
   },
   {
    "duration": 7,
    "start_time": "2022-03-13T08:37:23.046Z"
   },
   {
    "duration": 5,
    "start_time": "2022-03-13T08:37:23.260Z"
   },
   {
    "duration": 7,
    "start_time": "2022-03-13T08:37:23.470Z"
   },
   {
    "duration": 6,
    "start_time": "2022-03-13T08:37:23.691Z"
   },
   {
    "duration": 4,
    "start_time": "2022-03-13T08:37:23.926Z"
   },
   {
    "duration": 7,
    "start_time": "2022-03-13T08:37:24.165Z"
   },
   {
    "duration": 5,
    "start_time": "2022-03-13T08:37:24.399Z"
   },
   {
    "duration": 5,
    "start_time": "2022-03-13T08:37:24.833Z"
   },
   {
    "duration": 8,
    "start_time": "2022-03-13T08:37:25.066Z"
   },
   {
    "duration": 5,
    "start_time": "2022-03-13T08:37:25.285Z"
   },
   {
    "duration": 6,
    "start_time": "2022-03-13T08:37:25.491Z"
   },
   {
    "duration": 4,
    "start_time": "2022-03-13T08:37:25.693Z"
   },
   {
    "duration": 5,
    "start_time": "2022-03-13T08:37:26.273Z"
   },
   {
    "duration": 4,
    "start_time": "2022-03-13T08:37:26.482Z"
   },
   {
    "duration": 5,
    "start_time": "2022-03-13T08:37:26.705Z"
   },
   {
    "duration": 4,
    "start_time": "2022-03-13T08:37:27.101Z"
   },
   {
    "duration": 4,
    "start_time": "2022-03-13T08:37:27.326Z"
   },
   {
    "duration": 4,
    "start_time": "2022-03-13T08:37:27.531Z"
   },
   {
    "duration": 3,
    "start_time": "2022-03-13T08:37:28.049Z"
   },
   {
    "duration": 3,
    "start_time": "2022-03-13T08:37:28.301Z"
   },
   {
    "duration": 3,
    "start_time": "2022-03-13T08:37:28.566Z"
   },
   {
    "duration": 4,
    "start_time": "2022-03-13T08:37:29.175Z"
   },
   {
    "duration": 5,
    "start_time": "2022-03-13T08:37:29.503Z"
   },
   {
    "duration": 7,
    "start_time": "2022-03-13T08:38:35.348Z"
   },
   {
    "duration": 31,
    "start_time": "2022-03-13T08:39:39.467Z"
   },
   {
    "duration": 444,
    "start_time": "2022-03-13T08:39:59.884Z"
   },
   {
    "duration": 5,
    "start_time": "2022-03-13T08:40:10.987Z"
   },
   {
    "duration": 5,
    "start_time": "2022-03-13T08:40:16.803Z"
   },
   {
    "duration": 4,
    "start_time": "2022-03-13T08:41:35.090Z"
   },
   {
    "duration": 8,
    "start_time": "2022-03-13T08:41:47.794Z"
   },
   {
    "duration": 6,
    "start_time": "2022-03-13T08:42:38.779Z"
   },
   {
    "duration": 584,
    "start_time": "2022-03-13T08:43:49.301Z"
   },
   {
    "duration": 87,
    "start_time": "2022-03-13T08:43:49.956Z"
   },
   {
    "duration": 10,
    "start_time": "2022-03-13T08:43:50.195Z"
   },
   {
    "duration": 10,
    "start_time": "2022-03-13T08:43:50.401Z"
   },
   {
    "duration": 12,
    "start_time": "2022-03-13T08:43:50.610Z"
   },
   {
    "duration": 4,
    "start_time": "2022-03-13T08:43:50.801Z"
   },
   {
    "duration": 24,
    "start_time": "2022-03-13T08:43:51.726Z"
   },
   {
    "duration": 24,
    "start_time": "2022-03-13T08:43:52.087Z"
   },
   {
    "duration": 5,
    "start_time": "2022-03-13T08:43:52.442Z"
   },
   {
    "duration": 2,
    "start_time": "2022-03-13T08:43:52.618Z"
   },
   {
    "duration": 2,
    "start_time": "2022-03-13T08:43:52.790Z"
   },
   {
    "duration": 3,
    "start_time": "2022-03-13T08:43:52.971Z"
   },
   {
    "duration": 4,
    "start_time": "2022-03-13T08:43:53.335Z"
   },
   {
    "duration": 4,
    "start_time": "2022-03-13T08:43:53.514Z"
   },
   {
    "duration": 6,
    "start_time": "2022-03-13T08:43:53.689Z"
   },
   {
    "duration": 6,
    "start_time": "2022-03-13T08:43:53.869Z"
   },
   {
    "duration": 5,
    "start_time": "2022-03-13T08:43:54.055Z"
   },
   {
    "duration": 5,
    "start_time": "2022-03-13T08:43:54.410Z"
   },
   {
    "duration": 6,
    "start_time": "2022-03-13T08:43:54.600Z"
   },
   {
    "duration": 5,
    "start_time": "2022-03-13T08:43:54.797Z"
   },
   {
    "duration": 6,
    "start_time": "2022-03-13T08:43:54.976Z"
   },
   {
    "duration": 6,
    "start_time": "2022-03-13T08:43:55.161Z"
   },
   {
    "duration": 5,
    "start_time": "2022-03-13T08:43:55.357Z"
   },
   {
    "duration": 6,
    "start_time": "2022-03-13T08:43:55.560Z"
   },
   {
    "duration": 5,
    "start_time": "2022-03-13T08:43:55.739Z"
   },
   {
    "duration": 4,
    "start_time": "2022-03-13T08:43:56.103Z"
   },
   {
    "duration": 8,
    "start_time": "2022-03-13T08:43:56.295Z"
   },
   {
    "duration": 5,
    "start_time": "2022-03-13T08:43:56.489Z"
   },
   {
    "duration": 5,
    "start_time": "2022-03-13T08:43:56.669Z"
   },
   {
    "duration": 4,
    "start_time": "2022-03-13T08:43:56.872Z"
   },
   {
    "duration": 4,
    "start_time": "2022-03-13T08:43:57.455Z"
   },
   {
    "duration": 4,
    "start_time": "2022-03-13T08:43:57.645Z"
   },
   {
    "duration": 4,
    "start_time": "2022-03-13T08:43:57.833Z"
   },
   {
    "duration": 4,
    "start_time": "2022-03-13T08:43:58.175Z"
   },
   {
    "duration": 3,
    "start_time": "2022-03-13T08:43:58.347Z"
   },
   {
    "duration": 5,
    "start_time": "2022-03-13T08:43:58.535Z"
   },
   {
    "duration": 4,
    "start_time": "2022-03-13T08:43:58.905Z"
   },
   {
    "duration": 3,
    "start_time": "2022-03-13T08:43:59.089Z"
   },
   {
    "duration": 5,
    "start_time": "2022-03-13T08:43:59.281Z"
   },
   {
    "duration": 5,
    "start_time": "2022-03-13T08:43:59.655Z"
   },
   {
    "duration": 6,
    "start_time": "2022-03-13T08:43:59.829Z"
   },
   {
    "duration": 6,
    "start_time": "2022-03-13T08:44:00.201Z"
   },
   {
    "duration": 370,
    "start_time": "2022-03-13T08:44:22.335Z"
   },
   {
    "duration": 6,
    "start_time": "2022-03-13T08:44:26.671Z"
   },
   {
    "duration": 175,
    "start_time": "2022-03-13T08:45:37.182Z"
   },
   {
    "duration": 8,
    "start_time": "2022-03-13T08:45:46.277Z"
   },
   {
    "duration": 377,
    "start_time": "2022-03-13T08:51:39.163Z"
   },
   {
    "duration": 329,
    "start_time": "2022-03-13T08:51:43.779Z"
   },
   {
    "duration": 8,
    "start_time": "2022-03-13T08:52:04.498Z"
   },
   {
    "duration": 8,
    "start_time": "2022-03-13T08:52:22.826Z"
   },
   {
    "duration": 4,
    "start_time": "2022-03-13T08:52:34.178Z"
   },
   {
    "duration": 8,
    "start_time": "2022-03-13T08:54:05.817Z"
   },
   {
    "duration": 9,
    "start_time": "2022-03-13T08:55:00.505Z"
   },
   {
    "duration": 8,
    "start_time": "2022-03-13T08:55:12.280Z"
   },
   {
    "duration": 8,
    "start_time": "2022-03-13T08:55:26.537Z"
   },
   {
    "duration": 7,
    "start_time": "2022-03-13T08:55:38.016Z"
   },
   {
    "duration": 9,
    "start_time": "2022-03-13T08:55:44.976Z"
   },
   {
    "duration": 9,
    "start_time": "2022-03-13T09:11:18.760Z"
   },
   {
    "duration": 4,
    "start_time": "2022-03-13T09:12:18.640Z"
   },
   {
    "duration": 5,
    "start_time": "2022-03-13T09:12:26.214Z"
   },
   {
    "duration": 572,
    "start_time": "2022-03-13T09:14:48.729Z"
   },
   {
    "duration": 89,
    "start_time": "2022-03-13T09:14:49.303Z"
   },
   {
    "duration": 10,
    "start_time": "2022-03-13T09:14:49.394Z"
   },
   {
    "duration": 7,
    "start_time": "2022-03-13T09:14:49.406Z"
   },
   {
    "duration": 9,
    "start_time": "2022-03-13T09:14:49.415Z"
   },
   {
    "duration": 4,
    "start_time": "2022-03-13T09:14:49.529Z"
   },
   {
    "duration": 23,
    "start_time": "2022-03-13T09:14:50.435Z"
   },
   {
    "duration": 23,
    "start_time": "2022-03-13T09:14:50.939Z"
   },
   {
    "duration": 5,
    "start_time": "2022-03-13T09:14:51.314Z"
   },
   {
    "duration": 3,
    "start_time": "2022-03-13T09:14:51.511Z"
   },
   {
    "duration": 3,
    "start_time": "2022-03-13T09:14:51.721Z"
   },
   {
    "duration": 2,
    "start_time": "2022-03-13T09:14:52.072Z"
   },
   {
    "duration": 4,
    "start_time": "2022-03-13T09:14:52.536Z"
   },
   {
    "duration": 5,
    "start_time": "2022-03-13T09:14:52.781Z"
   },
   {
    "duration": 6,
    "start_time": "2022-03-13T09:14:52.978Z"
   },
   {
    "duration": 7,
    "start_time": "2022-03-13T09:14:53.197Z"
   },
   {
    "duration": 4,
    "start_time": "2022-03-13T09:14:53.452Z"
   },
   {
    "duration": 5,
    "start_time": "2022-03-13T09:14:54.269Z"
   },
   {
    "duration": 6,
    "start_time": "2022-03-13T09:14:54.451Z"
   },
   {
    "duration": 5,
    "start_time": "2022-03-13T09:14:54.667Z"
   },
   {
    "duration": 7,
    "start_time": "2022-03-13T09:14:54.945Z"
   },
   {
    "duration": 6,
    "start_time": "2022-03-13T09:14:55.298Z"
   },
   {
    "duration": 5,
    "start_time": "2022-03-13T09:14:55.541Z"
   },
   {
    "duration": 6,
    "start_time": "2022-03-13T09:14:55.758Z"
   },
   {
    "duration": 5,
    "start_time": "2022-03-13T09:14:55.961Z"
   },
   {
    "duration": 5,
    "start_time": "2022-03-13T09:14:56.463Z"
   },
   {
    "duration": 8,
    "start_time": "2022-03-13T09:14:56.782Z"
   },
   {
    "duration": 6,
    "start_time": "2022-03-13T09:14:57.095Z"
   },
   {
    "duration": 7,
    "start_time": "2022-03-13T09:14:57.415Z"
   },
   {
    "duration": 4,
    "start_time": "2022-03-13T09:14:57.834Z"
   },
   {
    "duration": 4,
    "start_time": "2022-03-13T09:14:58.980Z"
   },
   {
    "duration": 4,
    "start_time": "2022-03-13T09:14:59.157Z"
   },
   {
    "duration": 4,
    "start_time": "2022-03-13T09:14:59.391Z"
   },
   {
    "duration": 4,
    "start_time": "2022-03-13T09:15:00.430Z"
   },
   {
    "duration": 4,
    "start_time": "2022-03-13T09:15:00.763Z"
   },
   {
    "duration": 5,
    "start_time": "2022-03-13T09:15:01.021Z"
   },
   {
    "duration": 4,
    "start_time": "2022-03-13T09:15:01.632Z"
   },
   {
    "duration": 3,
    "start_time": "2022-03-13T09:15:02.089Z"
   },
   {
    "duration": 3,
    "start_time": "2022-03-13T09:15:02.274Z"
   },
   {
    "duration": 4,
    "start_time": "2022-03-13T09:15:02.657Z"
   },
   {
    "duration": 5,
    "start_time": "2022-03-13T09:15:02.930Z"
   },
   {
    "duration": 5,
    "start_time": "2022-03-13T09:15:03.432Z"
   },
   {
    "duration": 8,
    "start_time": "2022-03-13T09:15:03.653Z"
   },
   {
    "duration": 9,
    "start_time": "2022-03-13T09:15:04.704Z"
   },
   {
    "duration": 4,
    "start_time": "2022-03-13T09:15:05.329Z"
   },
   {
    "duration": 12,
    "start_time": "2022-03-13T09:22:11.225Z"
   },
   {
    "duration": 593,
    "start_time": "2022-03-13T09:22:29.048Z"
   },
   {
    "duration": 88,
    "start_time": "2022-03-13T09:22:29.643Z"
   },
   {
    "duration": 10,
    "start_time": "2022-03-13T09:22:30.191Z"
   },
   {
    "duration": 10,
    "start_time": "2022-03-13T09:22:30.462Z"
   },
   {
    "duration": 13,
    "start_time": "2022-03-13T09:22:30.704Z"
   },
   {
    "duration": 4,
    "start_time": "2022-03-13T09:22:31.050Z"
   },
   {
    "duration": 23,
    "start_time": "2022-03-13T09:22:33.022Z"
   },
   {
    "duration": 24,
    "start_time": "2022-03-13T09:22:34.956Z"
   },
   {
    "duration": 11,
    "start_time": "2022-03-13T09:22:36.009Z"
   },
   {
    "duration": 2,
    "start_time": "2022-03-13T09:22:39.595Z"
   },
   {
    "duration": 7,
    "start_time": "2022-03-13T09:23:04.344Z"
   },
   {
    "duration": 4,
    "start_time": "2022-03-13T09:23:56.655Z"
   },
   {
    "duration": 4,
    "start_time": "2022-03-13T09:23:57.208Z"
   },
   {
    "duration": 4,
    "start_time": "2022-03-13T09:23:57.806Z"
   },
   {
    "duration": 5,
    "start_time": "2022-03-13T09:23:58.241Z"
   },
   {
    "duration": 4,
    "start_time": "2022-03-13T09:23:58.759Z"
   },
   {
    "duration": 4,
    "start_time": "2022-03-13T09:24:50.069Z"
   },
   {
    "duration": 5,
    "start_time": "2022-03-13T09:24:50.395Z"
   },
   {
    "duration": 5,
    "start_time": "2022-03-13T09:24:50.673Z"
   },
   {
    "duration": 5,
    "start_time": "2022-03-13T09:24:51.106Z"
   },
   {
    "duration": 4,
    "start_time": "2022-03-13T09:24:51.609Z"
   },
   {
    "duration": 6,
    "start_time": "2022-03-13T09:24:51.849Z"
   },
   {
    "duration": 4,
    "start_time": "2022-03-13T09:24:52.105Z"
   },
   {
    "duration": 7,
    "start_time": "2022-03-13T09:24:52.435Z"
   },
   {
    "duration": 581,
    "start_time": "2022-03-13T09:24:53.131Z"
   },
   {
    "duration": 2310,
    "start_time": "2022-03-13T09:24:51.404Z"
   },
   {
    "duration": 2309,
    "start_time": "2022-03-13T09:24:51.406Z"
   },
   {
    "duration": 2308,
    "start_time": "2022-03-13T09:24:51.408Z"
   },
   {
    "duration": 5,
    "start_time": "2022-03-13T09:24:54.114Z"
   },
   {
    "duration": 6,
    "start_time": "2022-03-13T09:24:54.324Z"
   },
   {
    "duration": 4,
    "start_time": "2022-03-13T09:24:54.527Z"
   },
   {
    "duration": 5,
    "start_time": "2022-03-13T09:24:54.731Z"
   },
   {
    "duration": 4,
    "start_time": "2022-03-13T09:24:54.918Z"
   },
   {
    "duration": 3,
    "start_time": "2022-03-13T09:24:55.523Z"
   },
   {
    "duration": 2,
    "start_time": "2022-03-13T09:24:55.718Z"
   },
   {
    "duration": 2,
    "start_time": "2022-03-13T09:24:55.910Z"
   },
   {
    "duration": 2,
    "start_time": "2022-03-13T09:24:56.331Z"
   },
   {
    "duration": 2,
    "start_time": "2022-03-13T09:24:56.549Z"
   },
   {
    "duration": 2,
    "start_time": "2022-03-13T09:24:56.765Z"
   },
   {
    "duration": 3,
    "start_time": "2022-03-13T09:24:58.334Z"
   },
   {
    "duration": 4,
    "start_time": "2022-03-13T09:24:58.588Z"
   },
   {
    "duration": 3,
    "start_time": "2022-03-13T09:24:58.849Z"
   },
   {
    "duration": 5,
    "start_time": "2022-03-13T09:24:59.335Z"
   },
   {
    "duration": 5,
    "start_time": "2022-03-13T09:24:59.542Z"
   },
   {
    "duration": 6,
    "start_time": "2022-03-13T09:25:00.013Z"
   },
   {
    "duration": 5,
    "start_time": "2022-03-13T09:25:00.250Z"
   },
   {
    "duration": 4,
    "start_time": "2022-03-13T09:25:00.894Z"
   },
   {
    "duration": 573,
    "start_time": "2022-03-13T09:25:19.712Z"
   },
   {
    "duration": 84,
    "start_time": "2022-03-13T09:25:20.286Z"
   },
   {
    "duration": 9,
    "start_time": "2022-03-13T09:25:20.372Z"
   },
   {
    "duration": 9,
    "start_time": "2022-03-13T09:25:20.596Z"
   },
   {
    "duration": 13,
    "start_time": "2022-03-13T09:25:20.975Z"
   },
   {
    "duration": 4,
    "start_time": "2022-03-13T09:25:21.505Z"
   },
   {
    "duration": 23,
    "start_time": "2022-03-13T09:25:24.642Z"
   },
   {
    "duration": 22,
    "start_time": "2022-03-13T09:25:26.218Z"
   },
   {
    "duration": 10,
    "start_time": "2022-03-13T09:25:27.391Z"
   },
   {
    "duration": 5,
    "start_time": "2022-03-13T09:25:30.417Z"
   },
   {
    "duration": 5,
    "start_time": "2022-03-13T09:25:31.404Z"
   },
   {
    "duration": 6,
    "start_time": "2022-03-13T09:25:32.064Z"
   },
   {
    "duration": 5,
    "start_time": "2022-03-13T09:25:32.576Z"
   },
   {
    "duration": 4,
    "start_time": "2022-03-13T09:25:33.290Z"
   },
   {
    "duration": 5,
    "start_time": "2022-03-13T09:25:34.214Z"
   },
   {
    "duration": 6,
    "start_time": "2022-03-13T09:25:34.550Z"
   },
   {
    "duration": 5,
    "start_time": "2022-03-13T09:25:34.852Z"
   },
   {
    "duration": 7,
    "start_time": "2022-03-13T09:25:35.072Z"
   },
   {
    "duration": 7,
    "start_time": "2022-03-13T09:25:35.272Z"
   },
   {
    "duration": 4,
    "start_time": "2022-03-13T09:25:35.440Z"
   },
   {
    "duration": 6,
    "start_time": "2022-03-13T09:25:35.629Z"
   },
   {
    "duration": 4,
    "start_time": "2022-03-13T09:25:36.169Z"
   },
   {
    "duration": 4,
    "start_time": "2022-03-13T09:25:36.546Z"
   },
   {
    "duration": 9,
    "start_time": "2022-03-13T09:25:36.715Z"
   },
   {
    "duration": 5,
    "start_time": "2022-03-13T09:25:36.897Z"
   },
   {
    "duration": 6,
    "start_time": "2022-03-13T09:25:37.083Z"
   },
   {
    "duration": 4,
    "start_time": "2022-03-13T09:25:37.274Z"
   },
   {
    "duration": 2,
    "start_time": "2022-03-13T09:25:37.826Z"
   },
   {
    "duration": 3,
    "start_time": "2022-03-13T09:25:38.001Z"
   },
   {
    "duration": 2,
    "start_time": "2022-03-13T09:25:38.178Z"
   },
   {
    "duration": 2,
    "start_time": "2022-03-13T09:25:38.529Z"
   },
   {
    "duration": 2,
    "start_time": "2022-03-13T09:25:38.718Z"
   },
   {
    "duration": 3,
    "start_time": "2022-03-13T09:25:38.900Z"
   },
   {
    "duration": 4,
    "start_time": "2022-03-13T09:25:39.284Z"
   },
   {
    "duration": 4,
    "start_time": "2022-03-13T09:25:39.437Z"
   },
   {
    "duration": 4,
    "start_time": "2022-03-13T09:25:39.619Z"
   },
   {
    "duration": 5,
    "start_time": "2022-03-13T09:25:39.974Z"
   },
   {
    "duration": 5,
    "start_time": "2022-03-13T09:25:40.164Z"
   },
   {
    "duration": 8,
    "start_time": "2022-03-13T09:25:40.539Z"
   },
   {
    "duration": 9,
    "start_time": "2022-03-13T09:25:40.711Z"
   },
   {
    "duration": 4,
    "start_time": "2022-03-13T09:25:41.104Z"
   },
   {
    "duration": 600,
    "start_time": "2022-03-13T09:58:10.387Z"
   },
   {
    "duration": 97,
    "start_time": "2022-03-13T09:58:10.988Z"
   },
   {
    "duration": 11,
    "start_time": "2022-03-13T09:58:11.424Z"
   },
   {
    "duration": 8,
    "start_time": "2022-03-13T09:58:12.283Z"
   },
   {
    "duration": 13,
    "start_time": "2022-03-13T09:58:12.805Z"
   },
   {
    "duration": 4,
    "start_time": "2022-03-13T09:58:13.413Z"
   },
   {
    "duration": 24,
    "start_time": "2022-03-13T09:58:16.069Z"
   },
   {
    "duration": 22,
    "start_time": "2022-03-13T09:58:17.144Z"
   },
   {
    "duration": 10,
    "start_time": "2022-03-13T09:58:18.330Z"
   },
   {
    "duration": 5,
    "start_time": "2022-03-13T09:58:19.388Z"
   },
   {
    "duration": 5,
    "start_time": "2022-03-13T09:58:19.852Z"
   },
   {
    "duration": 6,
    "start_time": "2022-03-13T09:58:20.210Z"
   },
   {
    "duration": 6,
    "start_time": "2022-03-13T09:58:20.689Z"
   },
   {
    "duration": 5,
    "start_time": "2022-03-13T09:58:21.326Z"
   },
   {
    "duration": 4,
    "start_time": "2022-03-13T09:58:22.383Z"
   },
   {
    "duration": 6,
    "start_time": "2022-03-13T09:58:22.976Z"
   },
   {
    "duration": 5,
    "start_time": "2022-03-13T09:58:23.492Z"
   },
   {
    "duration": 6,
    "start_time": "2022-03-13T09:58:30.462Z"
   },
   {
    "duration": 7,
    "start_time": "2022-03-13T09:58:33.101Z"
   },
   {
    "duration": 5,
    "start_time": "2022-03-13T09:58:33.630Z"
   },
   {
    "duration": 6,
    "start_time": "2022-03-13T09:58:34.102Z"
   },
   {
    "duration": 5,
    "start_time": "2022-03-13T09:58:34.727Z"
   },
   {
    "duration": 5,
    "start_time": "2022-03-13T09:58:35.620Z"
   },
   {
    "duration": 10,
    "start_time": "2022-03-13T09:58:36.015Z"
   },
   {
    "duration": 4,
    "start_time": "2022-03-13T09:58:36.456Z"
   },
   {
    "duration": 6,
    "start_time": "2022-03-13T09:58:36.788Z"
   },
   {
    "duration": 4,
    "start_time": "2022-03-13T09:58:37.122Z"
   },
   {
    "duration": 8,
    "start_time": "2022-03-13T09:58:38.259Z"
   },
   {
    "duration": 383,
    "start_time": "2022-03-13T09:58:38.567Z"
   },
   {
    "duration": 4,
    "start_time": "2022-03-13T09:58:41.103Z"
   },
   {
    "duration": 5,
    "start_time": "2022-03-13T09:58:42.619Z"
   },
   {
    "duration": 311,
    "start_time": "2022-03-13T10:00:56.080Z"
   },
   {
    "duration": 8,
    "start_time": "2022-03-13T10:01:18.047Z"
   },
   {
    "duration": 9,
    "start_time": "2022-03-13T10:02:02.462Z"
   },
   {
    "duration": 7,
    "start_time": "2022-03-13T10:02:19.686Z"
   },
   {
    "duration": 6,
    "start_time": "2022-03-13T10:02:22.774Z"
   },
   {
    "duration": 5,
    "start_time": "2022-03-13T10:02:36.230Z"
   },
   {
    "duration": 564,
    "start_time": "2022-03-13T10:04:43.428Z"
   },
   {
    "duration": 84,
    "start_time": "2022-03-13T10:04:43.993Z"
   },
   {
    "duration": 9,
    "start_time": "2022-03-13T10:04:44.079Z"
   },
   {
    "duration": 9,
    "start_time": "2022-03-13T10:04:44.210Z"
   },
   {
    "duration": 13,
    "start_time": "2022-03-13T10:04:44.414Z"
   },
   {
    "duration": 3,
    "start_time": "2022-03-13T10:04:44.624Z"
   },
   {
    "duration": 23,
    "start_time": "2022-03-13T10:04:45.614Z"
   },
   {
    "duration": 25,
    "start_time": "2022-03-13T10:04:45.991Z"
   },
   {
    "duration": 10,
    "start_time": "2022-03-13T10:04:46.374Z"
   },
   {
    "duration": 4,
    "start_time": "2022-03-13T10:04:46.752Z"
   },
   {
    "duration": 5,
    "start_time": "2022-03-13T10:04:46.943Z"
   },
   {
    "duration": 6,
    "start_time": "2022-03-13T10:04:47.176Z"
   },
   {
    "duration": 6,
    "start_time": "2022-03-13T10:04:47.449Z"
   },
   {
    "duration": 5,
    "start_time": "2022-03-13T10:04:47.898Z"
   },
   {
    "duration": 5,
    "start_time": "2022-03-13T10:04:48.670Z"
   },
   {
    "duration": 7,
    "start_time": "2022-03-13T10:04:49.006Z"
   },
   {
    "duration": 5,
    "start_time": "2022-03-13T10:04:49.259Z"
   },
   {
    "duration": 6,
    "start_time": "2022-03-13T10:04:49.471Z"
   },
   {
    "duration": 7,
    "start_time": "2022-03-13T10:04:49.676Z"
   },
   {
    "duration": 4,
    "start_time": "2022-03-13T10:04:49.876Z"
   },
   {
    "duration": 6,
    "start_time": "2022-03-13T10:04:50.074Z"
   },
   {
    "duration": 4,
    "start_time": "2022-03-13T10:04:50.265Z"
   },
   {
    "duration": 5,
    "start_time": "2022-03-13T10:04:50.632Z"
   },
   {
    "duration": 8,
    "start_time": "2022-03-13T10:04:50.814Z"
   },
   {
    "duration": 5,
    "start_time": "2022-03-13T10:04:50.996Z"
   },
   {
    "duration": 6,
    "start_time": "2022-03-13T10:04:51.208Z"
   },
   {
    "duration": 4,
    "start_time": "2022-03-13T10:04:51.421Z"
   },
   {
    "duration": 8,
    "start_time": "2022-03-13T10:04:52.098Z"
   },
   {
    "duration": 8,
    "start_time": "2022-03-13T10:04:52.344Z"
   },
   {
    "duration": 4,
    "start_time": "2022-03-13T10:04:52.628Z"
   },
   {
    "duration": 3,
    "start_time": "2022-03-13T10:04:53.470Z"
   },
   {
    "duration": 4,
    "start_time": "2022-03-13T10:04:54.336Z"
   },
   {
    "duration": 8,
    "start_time": "2022-03-13T10:06:11.041Z"
   },
   {
    "duration": 582,
    "start_time": "2022-03-13T10:11:33.109Z"
   },
   {
    "duration": 99,
    "start_time": "2022-03-13T10:11:33.692Z"
   },
   {
    "duration": 11,
    "start_time": "2022-03-13T10:11:34.297Z"
   },
   {
    "duration": 10,
    "start_time": "2022-03-13T10:11:34.596Z"
   },
   {
    "duration": 13,
    "start_time": "2022-03-13T10:11:34.833Z"
   },
   {
    "duration": 5,
    "start_time": "2022-03-13T10:11:35.031Z"
   },
   {
    "duration": 24,
    "start_time": "2022-03-13T10:11:36.045Z"
   },
   {
    "duration": 23,
    "start_time": "2022-03-13T10:11:36.416Z"
   },
   {
    "duration": 10,
    "start_time": "2022-03-13T10:11:36.815Z"
   },
   {
    "duration": 4,
    "start_time": "2022-03-13T10:11:37.217Z"
   },
   {
    "duration": 4,
    "start_time": "2022-03-13T10:11:37.429Z"
   },
   {
    "duration": 6,
    "start_time": "2022-03-13T10:11:37.645Z"
   },
   {
    "duration": 5,
    "start_time": "2022-03-13T10:11:37.861Z"
   },
   {
    "duration": 4,
    "start_time": "2022-03-13T10:11:38.071Z"
   },
   {
    "duration": 5,
    "start_time": "2022-03-13T10:11:38.501Z"
   },
   {
    "duration": 6,
    "start_time": "2022-03-13T10:11:38.731Z"
   },
   {
    "duration": 4,
    "start_time": "2022-03-13T10:11:38.939Z"
   },
   {
    "duration": 6,
    "start_time": "2022-03-13T10:11:39.148Z"
   },
   {
    "duration": 7,
    "start_time": "2022-03-13T10:11:39.373Z"
   },
   {
    "duration": 4,
    "start_time": "2022-03-13T10:11:39.573Z"
   },
   {
    "duration": 5,
    "start_time": "2022-03-13T10:11:39.783Z"
   },
   {
    "duration": 5,
    "start_time": "2022-03-13T10:11:40.057Z"
   },
   {
    "duration": 5,
    "start_time": "2022-03-13T10:11:40.642Z"
   },
   {
    "duration": 8,
    "start_time": "2022-03-13T10:11:40.921Z"
   },
   {
    "duration": 5,
    "start_time": "2022-03-13T10:11:41.223Z"
   },
   {
    "duration": 6,
    "start_time": "2022-03-13T10:11:41.485Z"
   },
   {
    "duration": 5,
    "start_time": "2022-03-13T10:11:41.744Z"
   },
   {
    "duration": 3,
    "start_time": "2022-03-13T10:11:42.420Z"
   },
   {
    "duration": 4,
    "start_time": "2022-03-13T10:11:43.105Z"
   },
   {
    "duration": 5,
    "start_time": "2022-03-13T10:11:43.605Z"
   },
   {
    "duration": 7,
    "start_time": "2022-03-13T10:11:45.653Z"
   },
   {
    "duration": 8,
    "start_time": "2022-03-13T10:11:46.280Z"
   },
   {
    "duration": 4,
    "start_time": "2022-03-13T10:11:47.128Z"
   },
   {
    "duration": 8,
    "start_time": "2022-03-13T10:14:13.677Z"
   },
   {
    "duration": 5,
    "start_time": "2022-03-13T10:14:16.283Z"
   },
   {
    "duration": 14,
    "start_time": "2022-03-13T10:15:26.743Z"
   },
   {
    "duration": 5,
    "start_time": "2022-03-13T10:15:30.878Z"
   },
   {
    "duration": 9,
    "start_time": "2022-03-13T10:15:55.383Z"
   },
   {
    "duration": 5,
    "start_time": "2022-03-13T10:15:57.966Z"
   },
   {
    "duration": 9,
    "start_time": "2022-03-13T10:29:18.343Z"
   },
   {
    "duration": 4,
    "start_time": "2022-03-13T10:30:00.311Z"
   },
   {
    "duration": 8,
    "start_time": "2022-03-13T10:36:08.773Z"
   },
   {
    "duration": 4,
    "start_time": "2022-03-13T10:36:11.340Z"
   },
   {
    "duration": 9,
    "start_time": "2022-03-13T10:39:22.414Z"
   },
   {
    "duration": 5,
    "start_time": "2022-03-13T10:39:25.269Z"
   },
   {
    "duration": 11,
    "start_time": "2022-03-13T10:42:00.404Z"
   },
   {
    "duration": 7894,
    "start_time": "2022-03-13T10:44:31.967Z"
   },
   {
    "duration": 12,
    "start_time": "2022-03-13T10:45:22.771Z"
   },
   {
    "duration": 11,
    "start_time": "2022-03-13T10:46:57.131Z"
   },
   {
    "duration": 11,
    "start_time": "2022-03-13T10:47:34.240Z"
   },
   {
    "duration": 11,
    "start_time": "2022-03-13T10:47:59.903Z"
   },
   {
    "duration": 11,
    "start_time": "2022-03-13T10:58:03.329Z"
   },
   {
    "duration": 10,
    "start_time": "2022-03-13T10:58:09.882Z"
   },
   {
    "duration": 15,
    "start_time": "2022-03-13T10:58:12.602Z"
   },
   {
    "duration": 11,
    "start_time": "2022-03-13T10:58:28.073Z"
   },
   {
    "duration": 9,
    "start_time": "2022-03-13T11:01:00.191Z"
   },
   {
    "duration": 6,
    "start_time": "2022-03-13T11:01:22.350Z"
   },
   {
    "duration": 4,
    "start_time": "2022-03-13T11:02:34.281Z"
   },
   {
    "duration": 11,
    "start_time": "2022-03-13T11:10:38.145Z"
   },
   {
    "duration": 9,
    "start_time": "2022-03-13T11:12:09.507Z"
   },
   {
    "duration": 5,
    "start_time": "2022-03-13T11:13:11.923Z"
   },
   {
    "duration": 22,
    "start_time": "2022-03-13T11:17:59.481Z"
   },
   {
    "duration": 4,
    "start_time": "2022-03-13T11:28:27.097Z"
   },
   {
    "duration": 5,
    "start_time": "2022-03-13T11:29:15.866Z"
   },
   {
    "duration": 4,
    "start_time": "2022-03-13T11:29:33.706Z"
   },
   {
    "duration": 5,
    "start_time": "2022-03-13T11:29:45.634Z"
   },
   {
    "duration": 4,
    "start_time": "2022-03-13T11:29:58.298Z"
   },
   {
    "duration": 12,
    "start_time": "2022-03-13T11:30:07.538Z"
   },
   {
    "duration": 11,
    "start_time": "2022-03-13T11:30:40.920Z"
   },
   {
    "duration": 9,
    "start_time": "2022-03-13T11:30:57.345Z"
   },
   {
    "duration": 538,
    "start_time": "2022-03-13T11:32:23.849Z"
   },
   {
    "duration": 86,
    "start_time": "2022-03-13T11:32:24.389Z"
   },
   {
    "duration": 9,
    "start_time": "2022-03-13T11:32:24.477Z"
   },
   {
    "duration": 15,
    "start_time": "2022-03-13T11:32:24.488Z"
   },
   {
    "duration": 8,
    "start_time": "2022-03-13T11:32:24.505Z"
   },
   {
    "duration": 3,
    "start_time": "2022-03-13T11:32:24.648Z"
   },
   {
    "duration": 22,
    "start_time": "2022-03-13T11:32:25.479Z"
   },
   {
    "duration": 23,
    "start_time": "2022-03-13T11:32:26.003Z"
   },
   {
    "duration": 10,
    "start_time": "2022-03-13T11:32:26.510Z"
   },
   {
    "duration": 5,
    "start_time": "2022-03-13T11:32:26.837Z"
   },
   {
    "duration": 5,
    "start_time": "2022-03-13T11:32:27.012Z"
   },
   {
    "duration": 6,
    "start_time": "2022-03-13T11:32:27.189Z"
   },
   {
    "duration": 5,
    "start_time": "2022-03-13T11:32:27.377Z"
   },
   {
    "duration": 4,
    "start_time": "2022-03-13T11:32:27.547Z"
   },
   {
    "duration": 5,
    "start_time": "2022-03-13T11:32:27.925Z"
   },
   {
    "duration": 6,
    "start_time": "2022-03-13T11:32:28.117Z"
   },
   {
    "duration": 6,
    "start_time": "2022-03-13T11:32:28.282Z"
   },
   {
    "duration": 6,
    "start_time": "2022-03-13T11:32:28.469Z"
   },
   {
    "duration": 8,
    "start_time": "2022-03-13T11:32:28.671Z"
   },
   {
    "duration": 5,
    "start_time": "2022-03-13T11:32:28.878Z"
   },
   {
    "duration": 6,
    "start_time": "2022-03-13T11:32:29.099Z"
   },
   {
    "duration": 5,
    "start_time": "2022-03-13T11:32:29.256Z"
   },
   {
    "duration": 4,
    "start_time": "2022-03-13T11:32:29.622Z"
   },
   {
    "duration": 8,
    "start_time": "2022-03-13T11:32:29.825Z"
   },
   {
    "duration": 5,
    "start_time": "2022-03-13T11:32:30.010Z"
   },
   {
    "duration": 5,
    "start_time": "2022-03-13T11:32:30.189Z"
   },
   {
    "duration": 4,
    "start_time": "2022-03-13T11:32:30.407Z"
   },
   {
    "duration": 4,
    "start_time": "2022-03-13T11:32:31.798Z"
   },
   {
    "duration": 13,
    "start_time": "2022-03-13T11:32:31.804Z"
   },
   {
    "duration": 18,
    "start_time": "2022-03-13T11:32:31.819Z"
   },
   {
    "duration": 9,
    "start_time": "2022-03-13T11:32:32.441Z"
   },
   {
    "duration": 10,
    "start_time": "2022-03-13T11:32:32.965Z"
   },
   {
    "duration": 10,
    "start_time": "2022-03-13T11:32:33.309Z"
   },
   {
    "duration": 10,
    "start_time": "2022-03-13T11:32:33.655Z"
   },
   {
    "duration": 10,
    "start_time": "2022-03-13T11:32:33.951Z"
   },
   {
    "duration": 10,
    "start_time": "2022-03-13T11:32:34.297Z"
   },
   {
    "duration": 16,
    "start_time": "2022-03-13T11:32:35.372Z"
   },
   {
    "duration": 8,
    "start_time": "2022-03-13T11:32:36.066Z"
   },
   {
    "duration": 4,
    "start_time": "2022-03-13T11:32:36.589Z"
   },
   {
    "duration": 10,
    "start_time": "2022-03-13T11:32:37.303Z"
   },
   {
    "duration": 5,
    "start_time": "2022-03-13T11:33:20.631Z"
   },
   {
    "duration": 6,
    "start_time": "2022-03-13T11:33:21.123Z"
   },
   {
    "duration": 4,
    "start_time": "2022-03-13T11:33:21.590Z"
   },
   {
    "duration": 5,
    "start_time": "2022-03-13T11:33:21.915Z"
   },
   {
    "duration": 4,
    "start_time": "2022-03-13T11:33:22.251Z"
   },
   {
    "duration": 5,
    "start_time": "2022-03-13T11:33:22.702Z"
   },
   {
    "duration": 12,
    "start_time": "2022-03-13T11:33:23.745Z"
   },
   {
    "duration": 109,
    "start_time": "2022-03-13T11:43:16.474Z"
   },
   {
    "duration": 122,
    "start_time": "2022-03-13T11:43:24.776Z"
   },
   {
    "duration": 121,
    "start_time": "2022-03-13T11:43:35.129Z"
   },
   {
    "duration": 4,
    "start_time": "2022-03-13T11:43:42.393Z"
   },
   {
    "duration": 20,
    "start_time": "2022-03-13T11:44:45.530Z"
   },
   {
    "duration": 113,
    "start_time": "2022-03-13T11:48:42.830Z"
   },
   {
    "duration": 359,
    "start_time": "2022-03-13T11:48:46.502Z"
   },
   {
    "duration": 323,
    "start_time": "2022-03-13T11:48:54.774Z"
   },
   {
    "duration": 317,
    "start_time": "2022-03-13T11:49:26.097Z"
   },
   {
    "duration": 4,
    "start_time": "2022-03-13T11:50:05.702Z"
   },
   {
    "duration": 21,
    "start_time": "2022-03-13T11:50:12.565Z"
   },
   {
    "duration": 3,
    "start_time": "2022-03-13T11:51:12.374Z"
   },
   {
    "duration": 22,
    "start_time": "2022-03-13T11:51:16.469Z"
   },
   {
    "duration": 9,
    "start_time": "2022-03-13T12:16:07.590Z"
   },
   {
    "duration": 20,
    "start_time": "2022-03-13T12:16:15.814Z"
   },
   {
    "duration": 9,
    "start_time": "2022-03-13T12:17:37.812Z"
   },
   {
    "duration": 9,
    "start_time": "2022-03-13T12:23:08.930Z"
   },
   {
    "duration": 19,
    "start_time": "2022-03-13T12:23:50.730Z"
   },
   {
    "duration": 584,
    "start_time": "2022-03-13T12:24:12.681Z"
   },
   {
    "duration": 95,
    "start_time": "2022-03-13T12:24:13.266Z"
   },
   {
    "duration": 10,
    "start_time": "2022-03-13T12:24:13.363Z"
   },
   {
    "duration": 8,
    "start_time": "2022-03-13T12:24:13.375Z"
   },
   {
    "duration": 10,
    "start_time": "2022-03-13T12:24:13.405Z"
   },
   {
    "duration": 4,
    "start_time": "2022-03-13T12:24:13.566Z"
   },
   {
    "duration": 22,
    "start_time": "2022-03-13T12:24:14.414Z"
   },
   {
    "duration": 24,
    "start_time": "2022-03-13T12:24:14.745Z"
   },
   {
    "duration": 10,
    "start_time": "2022-03-13T12:24:15.239Z"
   },
   {
    "duration": 7,
    "start_time": "2022-03-13T12:24:15.578Z"
   },
   {
    "duration": 5,
    "start_time": "2022-03-13T12:24:15.739Z"
   },
   {
    "duration": 6,
    "start_time": "2022-03-13T12:24:15.905Z"
   },
   {
    "duration": 6,
    "start_time": "2022-03-13T12:24:16.080Z"
   },
   {
    "duration": 5,
    "start_time": "2022-03-13T12:24:16.263Z"
   },
   {
    "duration": 4,
    "start_time": "2022-03-13T12:24:16.602Z"
   },
   {
    "duration": 6,
    "start_time": "2022-03-13T12:24:16.774Z"
   },
   {
    "duration": 5,
    "start_time": "2022-03-13T12:24:16.942Z"
   },
   {
    "duration": 6,
    "start_time": "2022-03-13T12:24:17.112Z"
   },
   {
    "duration": 7,
    "start_time": "2022-03-13T12:24:17.281Z"
   },
   {
    "duration": 6,
    "start_time": "2022-03-13T12:24:17.462Z"
   },
   {
    "duration": 5,
    "start_time": "2022-03-13T12:24:17.626Z"
   },
   {
    "duration": 4,
    "start_time": "2022-03-13T12:24:17.790Z"
   },
   {
    "duration": 5,
    "start_time": "2022-03-13T12:24:18.127Z"
   },
   {
    "duration": 9,
    "start_time": "2022-03-13T12:24:18.308Z"
   },
   {
    "duration": 5,
    "start_time": "2022-03-13T12:24:18.479Z"
   },
   {
    "duration": 5,
    "start_time": "2022-03-13T12:24:18.663Z"
   },
   {
    "duration": 4,
    "start_time": "2022-03-13T12:24:18.828Z"
   },
   {
    "duration": 3,
    "start_time": "2022-03-13T12:24:19.156Z"
   },
   {
    "duration": 5,
    "start_time": "2022-03-13T12:24:19.510Z"
   },
   {
    "duration": 6,
    "start_time": "2022-03-13T12:24:19.686Z"
   },
   {
    "duration": 9,
    "start_time": "2022-03-13T12:24:20.028Z"
   },
   {
    "duration": 11,
    "start_time": "2022-03-13T12:24:20.400Z"
   },
   {
    "duration": 10,
    "start_time": "2022-03-13T12:24:20.592Z"
   },
   {
    "duration": 14,
    "start_time": "2022-03-13T12:24:20.745Z"
   },
   {
    "duration": 14,
    "start_time": "2022-03-13T12:24:20.921Z"
   },
   {
    "duration": 10,
    "start_time": "2022-03-13T12:24:21.104Z"
   },
   {
    "duration": 11,
    "start_time": "2022-03-13T12:24:21.473Z"
   },
   {
    "duration": 8,
    "start_time": "2022-03-13T12:24:21.855Z"
   },
   {
    "duration": 5,
    "start_time": "2022-03-13T12:24:22.030Z"
   },
   {
    "duration": 10,
    "start_time": "2022-03-13T12:24:22.213Z"
   },
   {
    "duration": 4,
    "start_time": "2022-03-13T12:24:22.899Z"
   },
   {
    "duration": 5,
    "start_time": "2022-03-13T12:24:23.140Z"
   },
   {
    "duration": 4,
    "start_time": "2022-03-13T12:24:23.387Z"
   },
   {
    "duration": 5,
    "start_time": "2022-03-13T12:24:23.654Z"
   },
   {
    "duration": 4,
    "start_time": "2022-03-13T12:24:23.903Z"
   },
   {
    "duration": 4,
    "start_time": "2022-03-13T12:24:24.117Z"
   },
   {
    "duration": 11,
    "start_time": "2022-03-13T12:24:24.379Z"
   },
   {
    "duration": 4,
    "start_time": "2022-03-13T12:24:25.505Z"
   },
   {
    "duration": 4,
    "start_time": "2022-03-13T12:24:25.761Z"
   },
   {
    "duration": 23,
    "start_time": "2022-03-13T12:24:26.003Z"
   },
   {
    "duration": 9,
    "start_time": "2022-03-13T12:24:26.519Z"
   },
   {
    "duration": 9,
    "start_time": "2022-03-13T12:24:26.945Z"
   },
   {
    "duration": 9,
    "start_time": "2022-03-13T12:24:27.158Z"
   },
   {
    "duration": 26,
    "start_time": "2022-03-13T12:24:27.377Z"
   },
   {
    "duration": 5,
    "start_time": "2022-03-13T12:39:17.032Z"
   },
   {
    "duration": 24,
    "start_time": "2022-03-13T12:39:32.280Z"
   },
   {
    "duration": 3,
    "start_time": "2022-03-13T12:39:58.768Z"
   },
   {
    "duration": 23,
    "start_time": "2022-03-13T12:40:01.023Z"
   },
   {
    "duration": 1663,
    "start_time": "2022-03-13T12:42:05.230Z"
   },
   {
    "duration": 488,
    "start_time": "2022-03-13T12:43:51.847Z"
   },
   {
    "duration": 21,
    "start_time": "2022-03-13T12:43:54.156Z"
   },
   {
    "duration": 100,
    "start_time": "2022-03-13T12:48:13.932Z"
   },
   {
    "duration": 393,
    "start_time": "2022-03-13T12:48:17.899Z"
   },
   {
    "duration": 3,
    "start_time": "2022-03-13T12:48:25.004Z"
   },
   {
    "duration": 21,
    "start_time": "2022-03-13T12:48:49.771Z"
   },
   {
    "duration": 343,
    "start_time": "2022-03-13T12:49:16.802Z"
   },
   {
    "duration": 25,
    "start_time": "2022-03-13T12:49:20.057Z"
   },
   {
    "duration": 4,
    "start_time": "2022-03-13T12:51:41.865Z"
   },
   {
    "duration": 22,
    "start_time": "2022-03-13T12:52:36.960Z"
   },
   {
    "duration": 73,
    "start_time": "2022-03-13T13:00:14.827Z"
   },
   {
    "duration": 227,
    "start_time": "2022-03-13T13:03:51.522Z"
   },
   {
    "duration": 297,
    "start_time": "2022-03-13T13:05:04.905Z"
   },
   {
    "duration": 332,
    "start_time": "2022-03-13T13:05:12.145Z"
   },
   {
    "duration": 111,
    "start_time": "2022-03-13T13:05:52.393Z"
   },
   {
    "duration": 663,
    "start_time": "2022-03-13T13:06:01.528Z"
   },
   {
    "duration": 317,
    "start_time": "2022-03-13T13:06:11.178Z"
   },
   {
    "duration": 311,
    "start_time": "2022-03-13T13:06:31.850Z"
   },
   {
    "duration": 8,
    "start_time": "2022-03-13T13:08:28.222Z"
   },
   {
    "duration": 8,
    "start_time": "2022-03-13T13:09:00.143Z"
   },
   {
    "duration": 12,
    "start_time": "2022-03-13T13:10:50.253Z"
   },
   {
    "duration": 564,
    "start_time": "2022-03-13T13:11:10.462Z"
   },
   {
    "duration": 90,
    "start_time": "2022-03-13T13:11:11.028Z"
   },
   {
    "duration": 10,
    "start_time": "2022-03-13T13:11:11.120Z"
   },
   {
    "duration": 8,
    "start_time": "2022-03-13T13:11:11.132Z"
   },
   {
    "duration": 10,
    "start_time": "2022-03-13T13:11:11.156Z"
   },
   {
    "duration": 4,
    "start_time": "2022-03-13T13:11:11.322Z"
   },
   {
    "duration": 24,
    "start_time": "2022-03-13T13:11:12.362Z"
   },
   {
    "duration": 25,
    "start_time": "2022-03-13T13:11:12.716Z"
   },
   {
    "duration": 11,
    "start_time": "2022-03-13T13:11:13.261Z"
   },
   {
    "duration": 5,
    "start_time": "2022-03-13T13:11:13.591Z"
   },
   {
    "duration": 5,
    "start_time": "2022-03-13T13:11:13.770Z"
   },
   {
    "duration": 6,
    "start_time": "2022-03-13T13:11:13.945Z"
   },
   {
    "duration": 6,
    "start_time": "2022-03-13T13:11:14.143Z"
   },
   {
    "duration": 4,
    "start_time": "2022-03-13T13:11:14.309Z"
   },
   {
    "duration": 4,
    "start_time": "2022-03-13T13:11:14.664Z"
   },
   {
    "duration": 7,
    "start_time": "2022-03-13T13:11:14.843Z"
   },
   {
    "duration": 4,
    "start_time": "2022-03-13T13:11:14.995Z"
   },
   {
    "duration": 5,
    "start_time": "2022-03-13T13:11:15.303Z"
   },
   {
    "duration": 9,
    "start_time": "2022-03-13T13:11:15.484Z"
   },
   {
    "duration": 5,
    "start_time": "2022-03-13T13:11:15.658Z"
   },
   {
    "duration": 7,
    "start_time": "2022-03-13T13:11:15.826Z"
   },
   {
    "duration": 5,
    "start_time": "2022-03-13T13:11:16.005Z"
   },
   {
    "duration": 5,
    "start_time": "2022-03-13T13:11:16.351Z"
   },
   {
    "duration": 8,
    "start_time": "2022-03-13T13:11:16.531Z"
   },
   {
    "duration": 5,
    "start_time": "2022-03-13T13:11:16.713Z"
   },
   {
    "duration": 6,
    "start_time": "2022-03-13T13:11:16.893Z"
   },
   {
    "duration": 5,
    "start_time": "2022-03-13T13:11:17.063Z"
   },
   {
    "duration": 3,
    "start_time": "2022-03-13T13:11:17.434Z"
   },
   {
    "duration": 5,
    "start_time": "2022-03-13T13:11:17.802Z"
   },
   {
    "duration": 5,
    "start_time": "2022-03-13T13:11:17.984Z"
   },
   {
    "duration": 9,
    "start_time": "2022-03-13T13:11:18.339Z"
   },
   {
    "duration": 11,
    "start_time": "2022-03-13T13:11:18.665Z"
   },
   {
    "duration": 11,
    "start_time": "2022-03-13T13:11:18.829Z"
   },
   {
    "duration": 10,
    "start_time": "2022-03-13T13:11:19.009Z"
   },
   {
    "duration": 10,
    "start_time": "2022-03-13T13:11:19.159Z"
   },
   {
    "duration": 11,
    "start_time": "2022-03-13T13:11:19.317Z"
   },
   {
    "duration": 11,
    "start_time": "2022-03-13T13:11:19.655Z"
   },
   {
    "duration": 7,
    "start_time": "2022-03-13T13:11:19.979Z"
   },
   {
    "duration": 4,
    "start_time": "2022-03-13T13:11:20.145Z"
   },
   {
    "duration": 10,
    "start_time": "2022-03-13T13:11:20.303Z"
   },
   {
    "duration": 4,
    "start_time": "2022-03-13T13:11:20.850Z"
   },
   {
    "duration": 4,
    "start_time": "2022-03-13T13:11:21.035Z"
   },
   {
    "duration": 2,
    "start_time": "2022-03-13T13:11:21.231Z"
   },
   {
    "duration": 4,
    "start_time": "2022-03-13T13:11:21.438Z"
   },
   {
    "duration": 4,
    "start_time": "2022-03-13T13:11:21.624Z"
   },
   {
    "duration": 4,
    "start_time": "2022-03-13T13:11:21.809Z"
   },
   {
    "duration": 10,
    "start_time": "2022-03-13T13:11:22.010Z"
   },
   {
    "duration": 4,
    "start_time": "2022-03-13T13:11:22.579Z"
   },
   {
    "duration": 3,
    "start_time": "2022-03-13T13:11:23.359Z"
   },
   {
    "duration": 9,
    "start_time": "2022-03-13T13:11:23.933Z"
   },
   {
    "duration": 8,
    "start_time": "2022-03-13T13:11:24.143Z"
   },
   {
    "duration": 9,
    "start_time": "2022-03-13T13:11:24.374Z"
   },
   {
    "duration": 462,
    "start_time": "2022-03-13T13:11:24.813Z"
   },
   {
    "duration": 3,
    "start_time": "2022-03-13T13:11:25.290Z"
   },
   {
    "duration": 4,
    "start_time": "2022-03-13T13:11:25.549Z"
   },
   {
    "duration": 20,
    "start_time": "2022-03-13T13:11:26.425Z"
   },
   {
    "duration": 67,
    "start_time": "2022-03-13T13:11:27.177Z"
   },
   {
    "duration": 8,
    "start_time": "2022-03-13T13:11:27.505Z"
   },
   {
    "duration": 299,
    "start_time": "2022-03-13T13:11:29.605Z"
   },
   {
    "duration": 6,
    "start_time": "2022-03-13T13:12:05.932Z"
   },
   {
    "duration": 5,
    "start_time": "2022-03-13T13:12:32.053Z"
   },
   {
    "duration": 5,
    "start_time": "2022-03-13T13:12:52.198Z"
   },
   {
    "duration": 6,
    "start_time": "2022-03-13T13:13:11.083Z"
   },
   {
    "duration": 600,
    "start_time": "2022-03-13T13:13:38.827Z"
   },
   {
    "duration": 434,
    "start_time": "2022-03-13T13:13:45.758Z"
   },
   {
    "duration": 347,
    "start_time": "2022-03-13T13:14:02.504Z"
   },
   {
    "duration": 358,
    "start_time": "2022-03-13T13:14:09.827Z"
   },
   {
    "duration": 682,
    "start_time": "2022-03-13T13:14:15.314Z"
   },
   {
    "duration": 359,
    "start_time": "2022-03-13T13:14:21.730Z"
   },
   {
    "duration": 296,
    "start_time": "2022-03-13T13:14:47.506Z"
   },
   {
    "duration": 5,
    "start_time": "2022-03-13T13:15:36.986Z"
   },
   {
    "duration": 17,
    "start_time": "2022-03-13T13:15:39.641Z"
   },
   {
    "duration": 5,
    "start_time": "2022-03-13T13:15:49.562Z"
   },
   {
    "duration": 5,
    "start_time": "2022-03-13T13:15:51.841Z"
   },
   {
    "duration": 5,
    "start_time": "2022-03-13T13:15:54.521Z"
   },
   {
    "duration": 5,
    "start_time": "2022-03-13T13:15:56.666Z"
   },
   {
    "duration": 308,
    "start_time": "2022-03-13T13:15:59.818Z"
   },
   {
    "duration": 198,
    "start_time": "2022-03-13T13:17:47.488Z"
   },
   {
    "duration": 503,
    "start_time": "2022-03-13T13:23:07.327Z"
   },
   {
    "duration": 437,
    "start_time": "2022-03-13T13:24:18.773Z"
   },
   {
    "duration": 543,
    "start_time": "2022-03-13T13:24:44.332Z"
   },
   {
    "duration": 310,
    "start_time": "2022-03-13T13:24:50.917Z"
   },
   {
    "duration": 10,
    "start_time": "2022-03-13T13:25:56.749Z"
   },
   {
    "duration": 5,
    "start_time": "2022-03-13T13:26:47.155Z"
   },
   {
    "duration": 4,
    "start_time": "2022-03-13T13:27:08.714Z"
   },
   {
    "duration": 184,
    "start_time": "2022-03-13T13:28:23.492Z"
   },
   {
    "duration": 124,
    "start_time": "2022-03-13T13:28:36.474Z"
   },
   {
    "duration": 2,
    "start_time": "2022-03-13T13:34:09.254Z"
   },
   {
    "duration": 2,
    "start_time": "2022-03-13T13:34:19.631Z"
   },
   {
    "duration": 472,
    "start_time": "2022-03-13T13:34:45.614Z"
   },
   {
    "duration": 457,
    "start_time": "2022-03-13T13:35:25.982Z"
   },
   {
    "duration": 214,
    "start_time": "2022-03-13T13:35:33.679Z"
   },
   {
    "duration": 221,
    "start_time": "2022-03-13T13:35:54.726Z"
   },
   {
    "duration": 214,
    "start_time": "2022-03-13T13:36:00.062Z"
   },
   {
    "duration": 302,
    "start_time": "2022-03-13T13:36:14.253Z"
   },
   {
    "duration": 223,
    "start_time": "2022-03-13T13:37:07.741Z"
   },
   {
    "duration": 470,
    "start_time": "2022-03-13T13:37:23.542Z"
   },
   {
    "duration": 161,
    "start_time": "2022-03-13T13:37:29.213Z"
   },
   {
    "duration": 285,
    "start_time": "2022-03-13T13:38:38.660Z"
   },
   {
    "duration": 8,
    "start_time": "2022-03-13T13:39:16.324Z"
   },
   {
    "duration": 5,
    "start_time": "2022-03-13T13:40:22.171Z"
   },
   {
    "duration": 5,
    "start_time": "2022-03-13T13:40:37.410Z"
   },
   {
    "duration": 127,
    "start_time": "2022-03-13T13:41:21.555Z"
   },
   {
    "duration": 195,
    "start_time": "2022-03-13T13:43:24.097Z"
   },
   {
    "duration": 233,
    "start_time": "2022-03-13T13:43:31.496Z"
   },
   {
    "duration": 192,
    "start_time": "2022-03-13T13:47:06.320Z"
   },
   {
    "duration": 340,
    "start_time": "2022-03-13T13:51:01.231Z"
   },
   {
    "duration": 7,
    "start_time": "2022-03-13T13:56:48.930Z"
   },
   {
    "duration": 5,
    "start_time": "2022-03-13T13:57:25.657Z"
   },
   {
    "duration": 5,
    "start_time": "2022-03-13T13:58:07.320Z"
   },
   {
    "duration": 8,
    "start_time": "2022-03-13T13:58:38.353Z"
   },
   {
    "duration": 8,
    "start_time": "2022-03-13T13:58:42.520Z"
   },
   {
    "duration": 744,
    "start_time": "2022-03-13T18:27:02.772Z"
   },
   {
    "duration": 121,
    "start_time": "2022-03-13T18:27:04.092Z"
   },
   {
    "duration": 15,
    "start_time": "2022-03-13T18:27:04.283Z"
   },
   {
    "duration": 13,
    "start_time": "2022-03-13T18:27:04.438Z"
   },
   {
    "duration": 20,
    "start_time": "2022-03-13T18:27:04.635Z"
   },
   {
    "duration": 5,
    "start_time": "2022-03-13T18:27:04.841Z"
   },
   {
    "duration": 38,
    "start_time": "2022-03-13T18:27:06.081Z"
   },
   {
    "duration": 52,
    "start_time": "2022-03-13T18:27:06.550Z"
   },
   {
    "duration": 23,
    "start_time": "2022-03-13T18:27:07.241Z"
   },
   {
    "duration": 5,
    "start_time": "2022-03-13T18:27:07.692Z"
   },
   {
    "duration": 7,
    "start_time": "2022-03-13T18:27:07.900Z"
   },
   {
    "duration": 9,
    "start_time": "2022-03-13T18:27:08.160Z"
   },
   {
    "duration": 8,
    "start_time": "2022-03-13T18:27:08.516Z"
   },
   {
    "duration": 6,
    "start_time": "2022-03-13T18:27:08.821Z"
   },
   {
    "duration": 7,
    "start_time": "2022-03-13T18:27:09.392Z"
   },
   {
    "duration": 9,
    "start_time": "2022-03-13T18:27:09.817Z"
   },
   {
    "duration": 6,
    "start_time": "2022-03-13T18:27:10.236Z"
   },
   {
    "duration": 9,
    "start_time": "2022-03-13T18:27:10.497Z"
   },
   {
    "duration": 11,
    "start_time": "2022-03-13T18:27:10.922Z"
   },
   {
    "duration": 6,
    "start_time": "2022-03-13T18:27:11.204Z"
   },
   {
    "duration": 8,
    "start_time": "2022-03-13T18:27:11.486Z"
   },
   {
    "duration": 6,
    "start_time": "2022-03-13T18:27:11.688Z"
   },
   {
    "duration": 6,
    "start_time": "2022-03-13T18:27:12.139Z"
   },
   {
    "duration": 12,
    "start_time": "2022-03-13T18:27:12.393Z"
   },
   {
    "duration": 8,
    "start_time": "2022-03-13T18:27:12.582Z"
   },
   {
    "duration": 9,
    "start_time": "2022-03-13T18:27:12.787Z"
   },
   {
    "duration": 6,
    "start_time": "2022-03-13T18:27:13.016Z"
   },
   {
    "duration": 5,
    "start_time": "2022-03-13T18:27:13.448Z"
   },
   {
    "duration": 7,
    "start_time": "2022-03-13T18:27:13.862Z"
   },
   {
    "duration": 8,
    "start_time": "2022-03-13T18:27:14.073Z"
   },
   {
    "duration": 13,
    "start_time": "2022-03-13T18:27:14.643Z"
   },
   {
    "duration": 16,
    "start_time": "2022-03-13T18:27:15.421Z"
   },
   {
    "duration": 21,
    "start_time": "2022-03-13T18:27:15.650Z"
   },
   {
    "duration": 22,
    "start_time": "2022-03-13T18:27:15.970Z"
   },
   {
    "duration": 23,
    "start_time": "2022-03-13T18:27:16.240Z"
   },
   {
    "duration": 23,
    "start_time": "2022-03-13T18:27:16.521Z"
   },
   {
    "duration": 16,
    "start_time": "2022-03-13T18:27:17.138Z"
   },
   {
    "duration": 14,
    "start_time": "2022-03-13T18:27:17.734Z"
   },
   {
    "duration": 6,
    "start_time": "2022-03-13T18:27:18.074Z"
   },
   {
    "duration": 16,
    "start_time": "2022-03-13T18:27:18.461Z"
   },
   {
    "duration": 6,
    "start_time": "2022-03-13T18:27:19.100Z"
   },
   {
    "duration": 5,
    "start_time": "2022-03-13T18:27:19.338Z"
   },
   {
    "duration": 5,
    "start_time": "2022-03-13T18:27:19.716Z"
   },
   {
    "duration": 5,
    "start_time": "2022-03-13T18:27:20.033Z"
   },
   {
    "duration": 6,
    "start_time": "2022-03-13T18:27:20.497Z"
   },
   {
    "duration": 6,
    "start_time": "2022-03-13T18:27:20.699Z"
   },
   {
    "duration": 24,
    "start_time": "2022-03-13T18:27:21.267Z"
   },
   {
    "duration": 5,
    "start_time": "2022-03-13T18:27:22.828Z"
   },
   {
    "duration": 6,
    "start_time": "2022-03-13T18:27:23.045Z"
   },
   {
    "duration": 14,
    "start_time": "2022-03-13T18:27:23.720Z"
   },
   {
    "duration": 22,
    "start_time": "2022-03-13T18:27:23.933Z"
   },
   {
    "duration": 22,
    "start_time": "2022-03-13T18:27:24.134Z"
   },
   {
    "duration": 867,
    "start_time": "2022-03-13T18:27:24.868Z"
   },
   {
    "duration": 5,
    "start_time": "2022-03-13T18:27:25.738Z"
   },
   {
    "duration": 6,
    "start_time": "2022-03-13T18:27:25.834Z"
   },
   {
    "duration": 42,
    "start_time": "2022-03-13T18:27:26.028Z"
   },
   {
    "duration": 114,
    "start_time": "2022-03-13T18:27:26.428Z"
   },
   {
    "duration": 14,
    "start_time": "2022-03-13T18:27:26.780Z"
   },
   {
    "duration": 6,
    "start_time": "2022-03-13T18:27:27.015Z"
   },
   {
    "duration": 6,
    "start_time": "2022-03-13T18:27:27.332Z"
   },
   {
    "duration": 695,
    "start_time": "2022-03-13T18:27:27.844Z"
   },
   {
    "duration": 460,
    "start_time": "2022-03-13T18:27:28.542Z"
   },
   {
    "duration": 421,
    "start_time": "2022-03-13T18:27:29.004Z"
   },
   {
    "duration": 12,
    "start_time": "2022-03-13T18:27:29.427Z"
   },
   {
    "duration": 485,
    "start_time": "2022-03-13T18:27:29.442Z"
   },
   {
    "duration": 275,
    "start_time": "2022-03-13T18:27:29.930Z"
   },
   {
    "duration": 3,
    "start_time": "2022-03-13T18:27:30.209Z"
   },
   {
    "duration": 17,
    "start_time": "2022-03-13T18:27:30.215Z"
   },
   {
    "duration": 8,
    "start_time": "2022-03-13T18:33:38.146Z"
   },
   {
    "duration": 405,
    "start_time": "2022-03-13T18:38:12.138Z"
   },
   {
    "duration": 11,
    "start_time": "2022-03-13T18:58:27.589Z"
   },
   {
    "duration": 224,
    "start_time": "2022-03-13T18:59:21.685Z"
   },
   {
    "duration": 499,
    "start_time": "2022-03-13T19:00:34.111Z"
   },
   {
    "duration": 797,
    "start_time": "2022-03-13T19:00:53.485Z"
   },
   {
    "duration": 556,
    "start_time": "2022-03-13T19:01:01.916Z"
   },
   {
    "duration": 367,
    "start_time": "2022-03-13T19:01:08.700Z"
   },
   {
    "duration": 657,
    "start_time": "2022-03-13T19:01:17.499Z"
   },
   {
    "duration": 427,
    "start_time": "2022-03-13T19:01:35.869Z"
   },
   {
    "duration": 386,
    "start_time": "2022-03-13T19:02:57.346Z"
   },
   {
    "duration": 274,
    "start_time": "2022-03-13T19:03:46.931Z"
   },
   {
    "duration": 241,
    "start_time": "2022-03-13T19:04:05.273Z"
   },
   {
    "duration": 228,
    "start_time": "2022-03-13T19:04:20.986Z"
   },
   {
    "duration": 527,
    "start_time": "2022-03-13T19:07:23.311Z"
   },
   {
    "duration": 386,
    "start_time": "2022-03-13T19:07:30.671Z"
   },
   {
    "duration": 345,
    "start_time": "2022-03-13T19:07:54.983Z"
   },
   {
    "duration": 334,
    "start_time": "2022-03-13T19:08:03.152Z"
   },
   {
    "duration": 218,
    "start_time": "2022-03-13T19:09:27.695Z"
   },
   {
    "duration": 314,
    "start_time": "2022-03-13T19:18:25.122Z"
   },
   {
    "duration": 207,
    "start_time": "2022-03-13T19:19:08.528Z"
   },
   {
    "duration": 195,
    "start_time": "2022-03-13T19:19:17.120Z"
   },
   {
    "duration": 43,
    "start_time": "2022-03-13T19:28:29.818Z"
   },
   {
    "duration": 291,
    "start_time": "2022-03-13T19:31:08.816Z"
   },
   {
    "duration": 290,
    "start_time": "2022-03-13T19:31:24.249Z"
   },
   {
    "duration": 57,
    "start_time": "2022-03-13T19:32:26.345Z"
   },
   {
    "duration": 11,
    "start_time": "2022-03-13T19:33:25.663Z"
   },
   {
    "duration": 10,
    "start_time": "2022-03-13T19:33:38.711Z"
   },
   {
    "duration": 11,
    "start_time": "2022-03-13T19:34:17.549Z"
   },
   {
    "duration": 11,
    "start_time": "2022-03-13T19:34:36.265Z"
   },
   {
    "duration": 7,
    "start_time": "2022-03-13T19:35:17.656Z"
   },
   {
    "duration": 46,
    "start_time": "2022-03-13T19:37:34.508Z"
   },
   {
    "duration": 43,
    "start_time": "2022-03-13T19:38:01.871Z"
   },
   {
    "duration": 12,
    "start_time": "2022-03-13T19:43:37.970Z"
   },
   {
    "duration": 521,
    "start_time": "2022-03-13T19:44:23.337Z"
   },
   {
    "duration": 272,
    "start_time": "2022-03-13T19:45:00.002Z"
   },
   {
    "duration": 516,
    "start_time": "2022-03-13T19:45:09.513Z"
   },
   {
    "duration": 423,
    "start_time": "2022-03-13T19:49:10.592Z"
   },
   {
    "duration": 774,
    "start_time": "2022-03-13T19:49:21.017Z"
   },
   {
    "duration": 638,
    "start_time": "2022-03-13T19:49:31.598Z"
   },
   {
    "duration": 51,
    "start_time": "2022-03-13T19:51:22.831Z"
   },
   {
    "duration": 45,
    "start_time": "2022-03-13T19:51:49.848Z"
   },
   {
    "duration": 10,
    "start_time": "2022-03-13T19:52:17.884Z"
   },
   {
    "duration": 11,
    "start_time": "2022-03-13T19:52:41.044Z"
   },
   {
    "duration": 11,
    "start_time": "2022-03-13T19:52:55.324Z"
   },
   {
    "duration": 11,
    "start_time": "2022-03-13T19:53:06.203Z"
   },
   {
    "duration": 12,
    "start_time": "2022-03-13T19:53:16.131Z"
   },
   {
    "duration": 12,
    "start_time": "2022-03-13T19:53:31.499Z"
   },
   {
    "duration": 11,
    "start_time": "2022-03-13T19:53:49.171Z"
   },
   {
    "duration": 11,
    "start_time": "2022-03-13T19:54:05.276Z"
   },
   {
    "duration": 317,
    "start_time": "2022-03-13T19:55:09.426Z"
   },
   {
    "duration": 9,
    "start_time": "2022-03-13T19:59:07.105Z"
   },
   {
    "duration": 325,
    "start_time": "2022-03-13T19:59:27.088Z"
   },
   {
    "duration": 17,
    "start_time": "2022-03-13T20:00:02.701Z"
   },
   {
    "duration": 331,
    "start_time": "2022-03-13T20:00:15.602Z"
   },
   {
    "duration": 11,
    "start_time": "2022-03-13T20:08:09.260Z"
   },
   {
    "duration": 201,
    "start_time": "2022-03-13T20:09:55.531Z"
   },
   {
    "duration": 341,
    "start_time": "2022-03-13T20:24:34.657Z"
   },
   {
    "duration": 12,
    "start_time": "2022-03-13T20:25:03.681Z"
   },
   {
    "duration": 205,
    "start_time": "2022-03-13T20:25:33.248Z"
   },
   {
    "duration": 206,
    "start_time": "2022-03-13T20:25:46.865Z"
   },
   {
    "duration": 50,
    "start_time": "2022-03-13T20:27:22.281Z"
   },
   {
    "duration": 48,
    "start_time": "2022-03-13T20:33:20.571Z"
   },
   {
    "duration": 14,
    "start_time": "2022-03-13T20:39:00.096Z"
   },
   {
    "duration": 257,
    "start_time": "2022-03-13T20:40:10.519Z"
   },
   {
    "duration": 666,
    "start_time": "2022-03-13T20:40:24.336Z"
   },
   {
    "duration": 579,
    "start_time": "2022-03-13T20:40:39.975Z"
   },
   {
    "duration": 7,
    "start_time": "2022-03-13T20:46:17.019Z"
   },
   {
    "duration": 86,
    "start_time": "2022-03-13T20:51:07.476Z"
   },
   {
    "duration": 449,
    "start_time": "2022-03-13T20:51:13.669Z"
   },
   {
    "duration": 314,
    "start_time": "2022-03-13T20:51:34.544Z"
   },
   {
    "duration": 322,
    "start_time": "2022-03-13T20:51:52.265Z"
   },
   {
    "duration": 335,
    "start_time": "2022-03-13T20:52:05.168Z"
   },
   {
    "duration": 7,
    "start_time": "2022-03-13T20:52:50.592Z"
   },
   {
    "duration": 258,
    "start_time": "2022-03-13T20:54:42.534Z"
   },
   {
    "duration": 287,
    "start_time": "2022-03-13T20:54:50.871Z"
   },
   {
    "duration": 205,
    "start_time": "2022-03-13T20:55:26.545Z"
   },
   {
    "duration": 283,
    "start_time": "2022-03-13T20:56:23.622Z"
   },
   {
    "duration": 297,
    "start_time": "2022-03-13T20:56:50.469Z"
   },
   {
    "duration": 8,
    "start_time": "2022-03-13T20:57:21.766Z"
   },
   {
    "duration": 481,
    "start_time": "2022-03-13T21:00:41.970Z"
   },
   {
    "duration": 453,
    "start_time": "2022-03-13T21:00:51.171Z"
   },
   {
    "duration": 500,
    "start_time": "2022-03-13T21:01:00.339Z"
   },
   {
    "duration": 6824,
    "start_time": "2022-03-13T21:12:18.726Z"
   },
   {
    "duration": 9,
    "start_time": "2022-03-13T21:14:04.819Z"
   },
   {
    "duration": 7537,
    "start_time": "2022-03-13T21:14:14.221Z"
   },
   {
    "duration": 727,
    "start_time": "2022-03-13T21:15:18.268Z"
   },
   {
    "duration": 135,
    "start_time": "2022-03-13T21:15:18.998Z"
   },
   {
    "duration": 16,
    "start_time": "2022-03-13T21:15:19.136Z"
   },
   {
    "duration": 32,
    "start_time": "2022-03-13T21:15:19.155Z"
   },
   {
    "duration": 13,
    "start_time": "2022-03-13T21:15:19.189Z"
   },
   {
    "duration": 4,
    "start_time": "2022-03-13T21:15:19.205Z"
   },
   {
    "duration": 40,
    "start_time": "2022-03-13T21:15:20.651Z"
   },
   {
    "duration": 38,
    "start_time": "2022-03-13T21:15:21.007Z"
   },
   {
    "duration": 17,
    "start_time": "2022-03-13T21:15:21.558Z"
   },
   {
    "duration": 8,
    "start_time": "2022-03-13T21:15:21.947Z"
   },
   {
    "duration": 7,
    "start_time": "2022-03-13T21:15:22.133Z"
   },
   {
    "duration": 11,
    "start_time": "2022-03-13T21:15:22.309Z"
   },
   {
    "duration": 8,
    "start_time": "2022-03-13T21:15:22.494Z"
   },
   {
    "duration": 6,
    "start_time": "2022-03-13T21:15:22.665Z"
   },
   {
    "duration": 6,
    "start_time": "2022-03-13T21:15:23.013Z"
   },
   {
    "duration": 10,
    "start_time": "2022-03-13T21:15:23.190Z"
   },
   {
    "duration": 6,
    "start_time": "2022-03-13T21:15:23.371Z"
   },
   {
    "duration": 9,
    "start_time": "2022-03-13T21:15:23.584Z"
   },
   {
    "duration": 11,
    "start_time": "2022-03-13T21:15:23.874Z"
   },
   {
    "duration": 6,
    "start_time": "2022-03-13T21:15:24.074Z"
   },
   {
    "duration": 8,
    "start_time": "2022-03-13T21:15:24.284Z"
   },
   {
    "duration": 7,
    "start_time": "2022-03-13T21:15:24.481Z"
   },
   {
    "duration": 8,
    "start_time": "2022-03-13T21:15:24.891Z"
   },
   {
    "duration": 12,
    "start_time": "2022-03-13T21:15:25.123Z"
   },
   {
    "duration": 7,
    "start_time": "2022-03-13T21:15:25.427Z"
   },
   {
    "duration": 10,
    "start_time": "2022-03-13T21:15:25.717Z"
   },
   {
    "duration": 7,
    "start_time": "2022-03-13T21:15:25.969Z"
   },
   {
    "duration": 5,
    "start_time": "2022-03-13T21:15:26.364Z"
   },
   {
    "duration": 7,
    "start_time": "2022-03-13T21:15:26.796Z"
   },
   {
    "duration": 7,
    "start_time": "2022-03-13T21:15:26.992Z"
   },
   {
    "duration": 12,
    "start_time": "2022-03-13T21:15:27.385Z"
   },
   {
    "duration": 16,
    "start_time": "2022-03-13T21:15:27.826Z"
   },
   {
    "duration": 16,
    "start_time": "2022-03-13T21:15:28.061Z"
   },
   {
    "duration": 16,
    "start_time": "2022-03-13T21:15:28.291Z"
   },
   {
    "duration": 16,
    "start_time": "2022-03-13T21:15:28.501Z"
   },
   {
    "duration": 18,
    "start_time": "2022-03-13T21:15:28.749Z"
   },
   {
    "duration": 15,
    "start_time": "2022-03-13T21:15:29.146Z"
   },
   {
    "duration": 13,
    "start_time": "2022-03-13T21:15:29.599Z"
   },
   {
    "duration": 8,
    "start_time": "2022-03-13T21:15:29.751Z"
   },
   {
    "duration": 17,
    "start_time": "2022-03-13T21:15:30.051Z"
   },
   {
    "duration": 7,
    "start_time": "2022-03-13T21:15:30.909Z"
   },
   {
    "duration": 8,
    "start_time": "2022-03-13T21:15:31.123Z"
   },
   {
    "duration": 6,
    "start_time": "2022-03-13T21:15:31.362Z"
   },
   {
    "duration": 6,
    "start_time": "2022-03-13T21:15:31.662Z"
   },
   {
    "duration": 5,
    "start_time": "2022-03-13T21:15:31.887Z"
   },
   {
    "duration": 6,
    "start_time": "2022-03-13T21:15:32.081Z"
   },
   {
    "duration": 17,
    "start_time": "2022-03-13T21:15:32.274Z"
   },
   {
    "duration": 6,
    "start_time": "2022-03-13T21:15:33.031Z"
   },
   {
    "duration": 5,
    "start_time": "2022-03-13T21:15:33.261Z"
   },
   {
    "duration": 14,
    "start_time": "2022-03-13T21:15:33.650Z"
   },
   {
    "duration": 14,
    "start_time": "2022-03-13T21:15:33.879Z"
   },
   {
    "duration": 14,
    "start_time": "2022-03-13T21:15:34.106Z"
   },
   {
    "duration": 784,
    "start_time": "2022-03-13T21:15:34.500Z"
   },
   {
    "duration": 6,
    "start_time": "2022-03-13T21:15:35.552Z"
   },
   {
    "duration": 6,
    "start_time": "2022-03-13T21:15:35.909Z"
   },
   {
    "duration": 34,
    "start_time": "2022-03-13T21:15:36.156Z"
   },
   {
    "duration": 107,
    "start_time": "2022-03-13T21:15:36.983Z"
   },
   {
    "duration": 11,
    "start_time": "2022-03-13T21:15:37.287Z"
   },
   {
    "duration": 6,
    "start_time": "2022-03-13T21:15:37.555Z"
   },
   {
    "duration": 6,
    "start_time": "2022-03-13T21:15:37.979Z"
   },
   {
    "duration": 7,
    "start_time": "2022-03-13T21:15:38.207Z"
   },
   {
    "duration": 652,
    "start_time": "2022-03-13T21:15:38.399Z"
   },
   {
    "duration": 410,
    "start_time": "2022-03-13T21:15:39.053Z"
   },
   {
    "duration": 474,
    "start_time": "2022-03-13T21:15:39.466Z"
   },
   {
    "duration": 11,
    "start_time": "2022-03-13T21:15:39.943Z"
   },
   {
    "duration": 400,
    "start_time": "2022-03-13T21:15:40.133Z"
   },
   {
    "duration": 257,
    "start_time": "2022-03-13T21:15:40.535Z"
   },
   {
    "duration": 12,
    "start_time": "2022-03-13T21:15:41.400Z"
   },
   {
    "duration": 321,
    "start_time": "2022-03-13T21:15:41.984Z"
   },
   {
    "duration": 216,
    "start_time": "2022-03-13T21:15:42.308Z"
   },
   {
    "duration": 222,
    "start_time": "2022-03-13T21:15:42.743Z"
   },
   {
    "duration": 42,
    "start_time": "2022-03-13T21:15:43.297Z"
   },
   {
    "duration": 14,
    "start_time": "2022-03-13T21:15:43.909Z"
   },
   {
    "duration": 319,
    "start_time": "2022-03-13T21:15:44.396Z"
   },
   {
    "duration": 9,
    "start_time": "2022-03-13T21:15:44.910Z"
   },
   {
    "duration": 328,
    "start_time": "2022-03-13T21:15:45.605Z"
   },
   {
    "duration": 13,
    "start_time": "2022-03-13T21:15:46.470Z"
   },
   {
    "duration": 12,
    "start_time": "2022-03-13T21:15:48.279Z"
   },
   {
    "duration": 205,
    "start_time": "2022-03-13T21:15:49.191Z"
   },
   {
    "duration": 48,
    "start_time": "2022-03-13T21:15:50.294Z"
   },
   {
    "duration": 18,
    "start_time": "2022-03-13T21:15:51.490Z"
   },
   {
    "duration": 640,
    "start_time": "2022-03-13T21:15:52.899Z"
   },
   {
    "duration": 10,
    "start_time": "2022-03-13T21:15:53.982Z"
   },
   {
    "duration": 7134,
    "start_time": "2022-03-13T21:15:56.519Z"
   },
   {
    "duration": 2633,
    "start_time": "2022-03-13T21:16:01.023Z"
   },
   {
    "duration": 2625,
    "start_time": "2022-03-13T21:16:01.033Z"
   },
   {
    "duration": 8,
    "start_time": "2022-03-13T21:16:07.089Z"
   },
   {
    "duration": 288,
    "start_time": "2022-03-13T21:16:08.368Z"
   },
   {
    "duration": 6,
    "start_time": "2022-03-13T21:16:08.659Z"
   },
   {
    "duration": 90,
    "start_time": "2022-03-13T21:16:09.287Z"
   },
   {
    "duration": 799,
    "start_time": "2022-03-13T21:18:42.190Z"
   },
   {
    "duration": 267,
    "start_time": "2022-03-13T21:19:22.492Z"
   },
   {
    "duration": 275,
    "start_time": "2022-03-13T21:19:43.036Z"
   },
   {
    "duration": 2615,
    "start_time": "2022-03-13T21:21:14.969Z"
   },
   {
    "duration": 708,
    "start_time": "2022-03-13T21:21:23.802Z"
   },
   {
    "duration": 1043,
    "start_time": "2022-03-13T21:22:16.131Z"
   },
   {
    "duration": 993,
    "start_time": "2022-03-13T21:22:34.042Z"
   },
   {
    "duration": 741,
    "start_time": "2022-03-13T21:23:05.981Z"
   },
   {
    "duration": 8,
    "start_time": "2022-03-13T21:23:52.010Z"
   },
   {
    "duration": 7,
    "start_time": "2022-03-13T21:24:23.355Z"
   },
   {
    "duration": 567,
    "start_time": "2022-03-14T18:00:37.447Z"
   },
   {
    "duration": 92,
    "start_time": "2022-03-14T18:00:38.016Z"
   },
   {
    "duration": 11,
    "start_time": "2022-03-14T18:00:38.150Z"
   },
   {
    "duration": 9,
    "start_time": "2022-03-14T18:00:38.644Z"
   },
   {
    "duration": 11,
    "start_time": "2022-03-14T18:00:38.820Z"
   },
   {
    "duration": 4,
    "start_time": "2022-03-14T18:00:39.011Z"
   },
   {
    "duration": 28,
    "start_time": "2022-03-14T18:00:39.975Z"
   },
   {
    "duration": 24,
    "start_time": "2022-03-14T18:00:40.345Z"
   },
   {
    "duration": 11,
    "start_time": "2022-03-14T18:00:40.899Z"
   },
   {
    "duration": 4,
    "start_time": "2022-03-14T18:00:41.246Z"
   },
   {
    "duration": 5,
    "start_time": "2022-03-14T18:00:41.430Z"
   },
   {
    "duration": 7,
    "start_time": "2022-03-14T18:00:41.613Z"
   },
   {
    "duration": 6,
    "start_time": "2022-03-14T18:00:41.795Z"
   },
   {
    "duration": 5,
    "start_time": "2022-03-14T18:00:41.977Z"
   },
   {
    "duration": 5,
    "start_time": "2022-03-14T18:00:42.357Z"
   },
   {
    "duration": 8,
    "start_time": "2022-03-14T18:00:42.546Z"
   },
   {
    "duration": 5,
    "start_time": "2022-03-14T18:00:42.745Z"
   },
   {
    "duration": 8,
    "start_time": "2022-03-14T18:00:42.937Z"
   },
   {
    "duration": 8,
    "start_time": "2022-03-14T18:00:43.123Z"
   },
   {
    "duration": 5,
    "start_time": "2022-03-14T18:00:43.345Z"
   },
   {
    "duration": 6,
    "start_time": "2022-03-14T18:00:43.557Z"
   },
   {
    "duration": 4,
    "start_time": "2022-03-14T18:00:43.769Z"
   },
   {
    "duration": 5,
    "start_time": "2022-03-14T18:00:44.421Z"
   },
   {
    "duration": 8,
    "start_time": "2022-03-14T18:00:44.716Z"
   },
   {
    "duration": 4,
    "start_time": "2022-03-14T18:00:45.096Z"
   },
   {
    "duration": 6,
    "start_time": "2022-03-14T18:00:45.401Z"
   },
   {
    "duration": 4,
    "start_time": "2022-03-14T18:00:45.957Z"
   },
   {
    "duration": 4,
    "start_time": "2022-03-14T18:00:46.651Z"
   },
   {
    "duration": 5,
    "start_time": "2022-03-14T18:00:47.047Z"
   },
   {
    "duration": 7,
    "start_time": "2022-03-14T18:00:47.232Z"
   },
   {
    "duration": 10,
    "start_time": "2022-03-14T18:00:47.598Z"
   },
   {
    "duration": 11,
    "start_time": "2022-03-14T18:00:47.975Z"
   },
   {
    "duration": 11,
    "start_time": "2022-03-14T18:00:48.153Z"
   },
   {
    "duration": 12,
    "start_time": "2022-03-14T18:00:48.353Z"
   },
   {
    "duration": 12,
    "start_time": "2022-03-14T18:00:48.546Z"
   },
   {
    "duration": 13,
    "start_time": "2022-03-14T18:00:48.724Z"
   },
   {
    "duration": 11,
    "start_time": "2022-03-14T18:00:49.077Z"
   },
   {
    "duration": 8,
    "start_time": "2022-03-14T18:00:49.429Z"
   },
   {
    "duration": 6,
    "start_time": "2022-03-14T18:00:49.611Z"
   },
   {
    "duration": 11,
    "start_time": "2022-03-14T18:00:49.783Z"
   },
   {
    "duration": 6,
    "start_time": "2022-03-14T18:00:50.333Z"
   },
   {
    "duration": 5,
    "start_time": "2022-03-14T18:00:50.546Z"
   },
   {
    "duration": 6,
    "start_time": "2022-03-14T18:00:50.727Z"
   },
   {
    "duration": 4,
    "start_time": "2022-03-14T18:00:50.909Z"
   },
   {
    "duration": 4,
    "start_time": "2022-03-14T18:00:51.093Z"
   },
   {
    "duration": 4,
    "start_time": "2022-03-14T18:00:51.283Z"
   },
   {
    "duration": 11,
    "start_time": "2022-03-14T18:00:51.467Z"
   },
   {
    "duration": 3,
    "start_time": "2022-03-14T18:00:52.011Z"
   },
   {
    "duration": 3,
    "start_time": "2022-03-14T18:00:52.198Z"
   },
   {
    "duration": 9,
    "start_time": "2022-03-14T18:00:52.570Z"
   },
   {
    "duration": 11,
    "start_time": "2022-03-14T18:00:52.742Z"
   },
   {
    "duration": 10,
    "start_time": "2022-03-14T18:00:52.929Z"
   },
   {
    "duration": 489,
    "start_time": "2022-03-14T18:00:53.303Z"
   },
   {
    "duration": 4,
    "start_time": "2022-03-14T18:00:53.997Z"
   },
   {
    "duration": 4,
    "start_time": "2022-03-14T18:00:54.293Z"
   },
   {
    "duration": 21,
    "start_time": "2022-03-14T18:00:54.571Z"
   },
   {
    "duration": 81,
    "start_time": "2022-03-14T18:00:56.072Z"
   },
   {
    "duration": 8,
    "start_time": "2022-03-14T18:00:56.288Z"
   },
   {
    "duration": 4,
    "start_time": "2022-03-14T18:00:56.489Z"
   },
   {
    "duration": 4,
    "start_time": "2022-03-14T18:00:56.706Z"
   },
   {
    "duration": 5,
    "start_time": "2022-03-14T18:00:56.923Z"
   },
   {
    "duration": 343,
    "start_time": "2022-03-14T18:00:57.131Z"
   },
   {
    "duration": 251,
    "start_time": "2022-03-14T18:00:57.815Z"
   },
   {
    "duration": 282,
    "start_time": "2022-03-14T18:00:58.698Z"
   },
   {
    "duration": 8,
    "start_time": "2022-03-14T18:00:59.473Z"
   },
   {
    "duration": 249,
    "start_time": "2022-03-14T18:01:00.016Z"
   },
   {
    "duration": 151,
    "start_time": "2022-03-14T18:01:00.513Z"
   },
   {
    "duration": 11,
    "start_time": "2022-03-14T18:01:04.079Z"
   },
   {
    "duration": 228,
    "start_time": "2022-03-14T18:01:04.546Z"
   },
   {
    "duration": 168,
    "start_time": "2022-03-14T18:01:04.776Z"
   },
   {
    "duration": 155,
    "start_time": "2022-03-14T18:01:04.960Z"
   },
   {
    "duration": 31,
    "start_time": "2022-03-14T18:01:05.182Z"
   },
   {
    "duration": 9,
    "start_time": "2022-03-14T18:01:05.395Z"
   },
   {
    "duration": 195,
    "start_time": "2022-03-14T18:01:05.682Z"
   },
   {
    "duration": 7,
    "start_time": "2022-03-14T18:01:05.946Z"
   },
   {
    "duration": 194,
    "start_time": "2022-03-14T18:01:06.163Z"
   },
   {
    "duration": 9,
    "start_time": "2022-03-14T18:01:06.446Z"
   },
   {
    "duration": 8,
    "start_time": "2022-03-14T18:01:52.385Z"
   },
   {
    "duration": 128,
    "start_time": "2022-03-14T18:02:34.369Z"
   },
   {
    "duration": 119,
    "start_time": "2022-03-14T18:02:51.456Z"
   },
   {
    "duration": 5,
    "start_time": "2022-03-14T18:03:12.319Z"
   },
   {
    "duration": 4,
    "start_time": "2022-03-14T18:03:34.287Z"
   },
   {
    "duration": 123,
    "start_time": "2022-03-14T18:03:48.345Z"
   },
   {
    "duration": 195,
    "start_time": "2022-03-14T18:03:57.242Z"
   },
   {
    "duration": 186,
    "start_time": "2022-03-14T18:04:24.983Z"
   },
   {
    "duration": 31,
    "start_time": "2022-03-14T18:05:27.678Z"
   },
   {
    "duration": 131,
    "start_time": "2022-03-14T18:06:10.182Z"
   },
   {
    "duration": 117,
    "start_time": "2022-03-14T18:07:22.472Z"
   },
   {
    "duration": 139,
    "start_time": "2022-03-14T18:07:27.101Z"
   },
   {
    "duration": 123,
    "start_time": "2022-03-14T18:08:08.852Z"
   },
   {
    "duration": 117,
    "start_time": "2022-03-14T18:08:28.684Z"
   },
   {
    "duration": 5,
    "start_time": "2022-03-14T18:10:45.082Z"
   },
   {
    "duration": 4,
    "start_time": "2022-03-14T18:10:58.868Z"
   },
   {
    "duration": 235,
    "start_time": "2022-03-14T18:13:41.254Z"
   },
   {
    "duration": 32,
    "start_time": "2022-03-14T18:13:46.466Z"
   },
   {
    "duration": 32,
    "start_time": "2022-03-14T18:19:10.263Z"
   },
   {
    "duration": 10,
    "start_time": "2022-03-14T18:20:12.999Z"
   },
   {
    "duration": 13,
    "start_time": "2022-03-14T18:20:50.799Z"
   },
   {
    "duration": 553,
    "start_time": "2022-03-14T18:21:07.894Z"
   },
   {
    "duration": 577,
    "start_time": "2022-03-14T18:21:38.606Z"
   },
   {
    "duration": 6,
    "start_time": "2022-03-14T18:22:17.285Z"
   },
   {
    "duration": 210,
    "start_time": "2022-03-14T18:22:34.318Z"
   },
   {
    "duration": 187,
    "start_time": "2022-03-14T18:22:47.573Z"
   },
   {
    "duration": 6,
    "start_time": "2022-03-14T18:22:54.941Z"
   },
   {
    "duration": 190,
    "start_time": "2022-03-14T18:23:58.190Z"
   },
   {
    "duration": 175,
    "start_time": "2022-03-14T18:24:29.677Z"
   },
   {
    "duration": 190,
    "start_time": "2022-03-14T18:24:35.413Z"
   },
   {
    "duration": 179,
    "start_time": "2022-03-14T18:25:26.109Z"
   },
   {
    "duration": 183,
    "start_time": "2022-03-14T18:26:12.508Z"
   },
   {
    "duration": 5,
    "start_time": "2022-03-14T18:26:25.364Z"
   },
   {
    "duration": 179,
    "start_time": "2022-03-14T18:26:55.771Z"
   },
   {
    "duration": 242,
    "start_time": "2022-03-14T18:28:38.235Z"
   },
   {
    "duration": 244,
    "start_time": "2022-03-14T18:29:00.963Z"
   },
   {
    "duration": 159,
    "start_time": "2022-03-14T18:29:37.010Z"
   },
   {
    "duration": 142,
    "start_time": "2022-03-14T18:29:49.569Z"
   },
   {
    "duration": 282,
    "start_time": "2022-03-14T18:31:05.857Z"
   },
   {
    "duration": 194,
    "start_time": "2022-03-14T18:31:40.193Z"
   },
   {
    "duration": 782,
    "start_time": "2022-03-14T18:31:56.040Z"
   },
   {
    "duration": 709,
    "start_time": "2022-03-14T18:32:24.545Z"
   },
   {
    "duration": 194,
    "start_time": "2022-03-14T18:32:31.281Z"
   },
   {
    "duration": 529,
    "start_time": "2022-03-14T18:32:42.457Z"
   },
   {
    "duration": 194,
    "start_time": "2022-03-14T18:33:01.447Z"
   },
   {
    "duration": 7,
    "start_time": "2022-03-14T18:33:25.753Z"
   },
   {
    "duration": 27,
    "start_time": "2022-03-14T18:33:56.368Z"
   },
   {
    "duration": 5,
    "start_time": "2022-03-14T18:39:05.628Z"
   },
   {
    "duration": 164,
    "start_time": "2022-03-14T18:43:26.210Z"
   },
   {
    "duration": 619,
    "start_time": "2022-03-14T18:43:44.849Z"
   },
   {
    "duration": 158,
    "start_time": "2022-03-14T18:43:51.530Z"
   },
   {
    "duration": 183,
    "start_time": "2022-03-14T18:43:56.976Z"
   },
   {
    "duration": 160,
    "start_time": "2022-03-14T18:44:00.657Z"
   },
   {
    "duration": 181,
    "start_time": "2022-03-14T18:44:25.921Z"
   },
   {
    "duration": 5,
    "start_time": "2022-03-14T18:44:31.817Z"
   },
   {
    "duration": 57,
    "start_time": "2022-03-14T18:46:06.072Z"
   },
   {
    "duration": 294,
    "start_time": "2022-03-14T18:46:33.599Z"
   },
   {
    "duration": 5,
    "start_time": "2022-03-14T18:50:25.326Z"
   },
   {
    "duration": 189,
    "start_time": "2022-03-14T18:56:05.442Z"
   },
   {
    "duration": 191,
    "start_time": "2022-03-14T18:56:14.946Z"
   },
   {
    "duration": 22,
    "start_time": "2022-03-14T18:56:45.786Z"
   },
   {
    "duration": 145,
    "start_time": "2022-03-14T18:56:58.577Z"
   },
   {
    "duration": 180,
    "start_time": "2022-03-14T18:58:23.712Z"
   },
   {
    "duration": 240,
    "start_time": "2022-03-14T18:58:30.720Z"
   },
   {
    "duration": 164,
    "start_time": "2022-03-14T18:58:37.209Z"
   },
   {
    "duration": 186,
    "start_time": "2022-03-14T19:03:57.646Z"
   },
   {
    "duration": 143,
    "start_time": "2022-03-14T19:04:20.861Z"
   },
   {
    "duration": 197,
    "start_time": "2022-03-14T19:07:01.539Z"
   },
   {
    "duration": 24,
    "start_time": "2022-03-14T19:07:29.732Z"
   },
   {
    "duration": 24,
    "start_time": "2022-03-14T19:07:42.892Z"
   },
   {
    "duration": 4,
    "start_time": "2022-03-14T19:29:52.016Z"
   },
   {
    "duration": 4,
    "start_time": "2022-03-14T19:32:24.677Z"
   },
   {
    "duration": 25,
    "start_time": "2022-03-14T19:33:09.309Z"
   },
   {
    "duration": 236,
    "start_time": "2022-03-14T19:34:53.789Z"
   },
   {
    "duration": 26,
    "start_time": "2022-03-14T19:36:34.771Z"
   },
   {
    "duration": 4546,
    "start_time": "2022-03-14T19:36:38.811Z"
   },
   {
    "duration": 4,
    "start_time": "2022-03-14T19:37:00.309Z"
   },
   {
    "duration": 4,
    "start_time": "2022-03-14T19:37:30.403Z"
   },
   {
    "duration": 3,
    "start_time": "2022-03-14T19:37:32.426Z"
   },
   {
    "duration": 25,
    "start_time": "2022-03-14T19:37:34.373Z"
   },
   {
    "duration": 268,
    "start_time": "2022-03-14T19:37:37.179Z"
   },
   {
    "duration": 23,
    "start_time": "2022-03-14T19:40:59.075Z"
   },
   {
    "duration": 26,
    "start_time": "2022-03-14T19:41:38.546Z"
   },
   {
    "duration": 9,
    "start_time": "2022-03-14T19:43:50.086Z"
   },
   {
    "duration": 205,
    "start_time": "2022-03-14T19:44:22.606Z"
   },
   {
    "duration": 21,
    "start_time": "2022-03-14T19:44:58.478Z"
   },
   {
    "duration": 201,
    "start_time": "2022-03-14T19:45:47.389Z"
   },
   {
    "duration": 578,
    "start_time": "2022-03-14T19:46:01.220Z"
   },
   {
    "duration": 92,
    "start_time": "2022-03-14T19:46:01.800Z"
   },
   {
    "duration": 10,
    "start_time": "2022-03-14T19:46:01.895Z"
   },
   {
    "duration": 8,
    "start_time": "2022-03-14T19:46:01.907Z"
   },
   {
    "duration": 10,
    "start_time": "2022-03-14T19:46:01.936Z"
   },
   {
    "duration": 3,
    "start_time": "2022-03-14T19:46:02.124Z"
   },
   {
    "duration": 24,
    "start_time": "2022-03-14T19:46:03.016Z"
   },
   {
    "duration": 24,
    "start_time": "2022-03-14T19:46:03.376Z"
   },
   {
    "duration": 12,
    "start_time": "2022-03-14T19:46:03.902Z"
   },
   {
    "duration": 5,
    "start_time": "2022-03-14T19:46:04.456Z"
   },
   {
    "duration": 5,
    "start_time": "2022-03-14T19:46:04.648Z"
   },
   {
    "duration": 7,
    "start_time": "2022-03-14T19:46:04.830Z"
   },
   {
    "duration": 5,
    "start_time": "2022-03-14T19:46:05.015Z"
   },
   {
    "duration": 4,
    "start_time": "2022-03-14T19:46:05.191Z"
   },
   {
    "duration": 5,
    "start_time": "2022-03-14T19:46:05.556Z"
   },
   {
    "duration": 7,
    "start_time": "2022-03-14T19:46:05.743Z"
   },
   {
    "duration": 6,
    "start_time": "2022-03-14T19:46:05.930Z"
   },
   {
    "duration": 7,
    "start_time": "2022-03-14T19:46:06.096Z"
   },
   {
    "duration": 8,
    "start_time": "2022-03-14T19:46:06.279Z"
   },
   {
    "duration": 5,
    "start_time": "2022-03-14T19:46:06.459Z"
   },
   {
    "duration": 5,
    "start_time": "2022-03-14T19:46:06.637Z"
   },
   {
    "duration": 5,
    "start_time": "2022-03-14T19:46:06.807Z"
   },
   {
    "duration": 5,
    "start_time": "2022-03-14T19:46:07.184Z"
   },
   {
    "duration": 8,
    "start_time": "2022-03-14T19:46:07.377Z"
   },
   {
    "duration": 5,
    "start_time": "2022-03-14T19:46:07.557Z"
   },
   {
    "duration": 6,
    "start_time": "2022-03-14T19:46:07.918Z"
   },
   {
    "duration": 5,
    "start_time": "2022-03-14T19:46:08.116Z"
   },
   {
    "duration": 4,
    "start_time": "2022-03-14T19:46:08.506Z"
   },
   {
    "duration": 6,
    "start_time": "2022-03-14T19:46:08.877Z"
   },
   {
    "duration": 6,
    "start_time": "2022-03-14T19:46:09.080Z"
   },
   {
    "duration": 9,
    "start_time": "2022-03-14T19:46:09.484Z"
   },
   {
    "duration": 11,
    "start_time": "2022-03-14T19:46:09.872Z"
   },
   {
    "duration": 14,
    "start_time": "2022-03-14T19:46:10.072Z"
   },
   {
    "duration": 11,
    "start_time": "2022-03-14T19:46:10.258Z"
   },
   {
    "duration": 11,
    "start_time": "2022-03-14T19:46:10.440Z"
   },
   {
    "duration": 11,
    "start_time": "2022-03-14T19:46:10.629Z"
   },
   {
    "duration": 11,
    "start_time": "2022-03-14T19:46:11.191Z"
   },
   {
    "duration": 9,
    "start_time": "2022-03-14T19:46:11.590Z"
   },
   {
    "duration": 6,
    "start_time": "2022-03-14T19:46:11.794Z"
   },
   {
    "duration": 11,
    "start_time": "2022-03-14T19:46:11.998Z"
   },
   {
    "duration": 5,
    "start_time": "2022-03-14T19:46:12.576Z"
   },
   {
    "duration": 6,
    "start_time": "2022-03-14T19:46:12.817Z"
   },
   {
    "duration": 5,
    "start_time": "2022-03-14T19:46:13.064Z"
   },
   {
    "duration": 4,
    "start_time": "2022-03-14T19:46:13.265Z"
   },
   {
    "duration": 5,
    "start_time": "2022-03-14T19:46:13.446Z"
   },
   {
    "duration": 4,
    "start_time": "2022-03-14T19:46:13.636Z"
   },
   {
    "duration": 11,
    "start_time": "2022-03-14T19:46:13.832Z"
   },
   {
    "duration": 4,
    "start_time": "2022-03-14T19:46:14.410Z"
   },
   {
    "duration": 4,
    "start_time": "2022-03-14T19:46:14.657Z"
   },
   {
    "duration": 10,
    "start_time": "2022-03-14T19:46:15.036Z"
   },
   {
    "duration": 10,
    "start_time": "2022-03-14T19:46:15.209Z"
   },
   {
    "duration": 9,
    "start_time": "2022-03-14T19:46:15.410Z"
   },
   {
    "duration": 480,
    "start_time": "2022-03-14T19:46:15.790Z"
   },
   {
    "duration": 4,
    "start_time": "2022-03-14T19:46:16.271Z"
   },
   {
    "duration": 4,
    "start_time": "2022-03-14T19:46:16.382Z"
   },
   {
    "duration": 21,
    "start_time": "2022-03-14T19:46:16.579Z"
   },
   {
    "duration": 69,
    "start_time": "2022-03-14T19:46:17.495Z"
   },
   {
    "duration": 8,
    "start_time": "2022-03-14T19:46:17.729Z"
   },
   {
    "duration": 4,
    "start_time": "2022-03-14T19:46:17.942Z"
   },
   {
    "duration": 5,
    "start_time": "2022-03-14T19:46:18.156Z"
   },
   {
    "duration": 5,
    "start_time": "2022-03-14T19:46:18.336Z"
   },
   {
    "duration": 323,
    "start_time": "2022-03-14T19:46:18.545Z"
   },
   {
    "duration": 241,
    "start_time": "2022-03-14T19:46:18.939Z"
   },
   {
    "duration": 282,
    "start_time": "2022-03-14T19:46:19.400Z"
   },
   {
    "duration": 9,
    "start_time": "2022-03-14T19:46:19.828Z"
   },
   {
    "duration": 250,
    "start_time": "2022-03-14T19:46:20.038Z"
   },
   {
    "duration": 166,
    "start_time": "2022-03-14T19:46:20.290Z"
   },
   {
    "duration": 10,
    "start_time": "2022-03-14T19:46:20.917Z"
   },
   {
    "duration": 202,
    "start_time": "2022-03-14T19:46:21.299Z"
   },
   {
    "duration": 123,
    "start_time": "2022-03-14T19:46:21.614Z"
   },
   {
    "duration": 130,
    "start_time": "2022-03-14T19:46:21.779Z"
   },
   {
    "duration": 27,
    "start_time": "2022-03-14T19:46:21.985Z"
   },
   {
    "duration": 10,
    "start_time": "2022-03-14T19:46:22.164Z"
   },
   {
    "duration": 184,
    "start_time": "2022-03-14T19:46:22.369Z"
   },
   {
    "duration": 7,
    "start_time": "2022-03-14T19:46:22.573Z"
   },
   {
    "duration": 186,
    "start_time": "2022-03-14T19:46:22.753Z"
   },
   {
    "duration": 10,
    "start_time": "2022-03-14T19:46:22.943Z"
   },
   {
    "duration": 8,
    "start_time": "2022-03-14T19:46:23.718Z"
   },
   {
    "duration": 117,
    "start_time": "2022-03-14T19:46:24.052Z"
   },
   {
    "duration": 4,
    "start_time": "2022-03-14T19:46:24.363Z"
   },
   {
    "duration": 4,
    "start_time": "2022-03-14T19:46:24.680Z"
   },
   {
    "duration": 5,
    "start_time": "2022-03-14T19:46:24.936Z"
   },
   {
    "duration": 5,
    "start_time": "2022-03-14T19:46:25.165Z"
   },
   {
    "duration": 31,
    "start_time": "2022-03-14T19:46:25.625Z"
   },
   {
    "duration": 12,
    "start_time": "2022-03-14T19:46:26.595Z"
   },
   {
    "duration": 369,
    "start_time": "2022-03-14T19:46:27.020Z"
   },
   {
    "duration": 499,
    "start_time": "2022-03-14T19:46:27.391Z"
   },
   {
    "duration": 5,
    "start_time": "2022-03-14T19:46:27.892Z"
   },
   {
    "duration": 258,
    "start_time": "2022-03-14T19:46:29.160Z"
   },
   {
    "duration": 5,
    "start_time": "2022-03-14T19:46:29.632Z"
   },
   {
    "duration": 153,
    "start_time": "2022-03-14T19:46:30.883Z"
   },
   {
    "duration": 5,
    "start_time": "2022-03-14T19:46:31.177Z"
   },
   {
    "duration": 256,
    "start_time": "2022-03-14T19:46:32.343Z"
   },
   {
    "duration": 5,
    "start_time": "2022-03-14T19:46:32.895Z"
   },
   {
    "duration": 151,
    "start_time": "2022-03-14T19:46:34.235Z"
   },
   {
    "duration": 157,
    "start_time": "2022-03-14T19:46:34.784Z"
   },
   {
    "duration": 145,
    "start_time": "2022-03-14T19:46:35.465Z"
   },
   {
    "duration": 24,
    "start_time": "2022-03-14T19:46:36.141Z"
   },
   {
    "duration": 4,
    "start_time": "2022-03-14T19:46:36.948Z"
   },
   {
    "duration": 5,
    "start_time": "2022-03-14T19:46:37.236Z"
   },
   {
    "duration": 25,
    "start_time": "2022-03-14T19:46:37.457Z"
   },
   {
    "duration": 240,
    "start_time": "2022-03-14T19:46:37.680Z"
   },
   {
    "duration": 26,
    "start_time": "2022-03-14T19:46:38.729Z"
   },
   {
    "duration": 9,
    "start_time": "2022-03-14T19:46:39.005Z"
   },
   {
    "duration": 21,
    "start_time": "2022-03-14T19:46:39.200Z"
   },
   {
    "duration": 206,
    "start_time": "2022-03-14T19:46:39.436Z"
   },
   {
    "duration": 304,
    "start_time": "2022-03-14T19:47:36.490Z"
   },
   {
    "duration": 375,
    "start_time": "2022-03-14T19:48:35.609Z"
   },
   {
    "duration": 197,
    "start_time": "2022-03-14T19:48:42.064Z"
   },
   {
    "duration": 180,
    "start_time": "2022-03-14T19:48:48.896Z"
   },
   {
    "duration": 244,
    "start_time": "2022-03-14T19:48:55.632Z"
   },
   {
    "duration": 199,
    "start_time": "2022-03-14T19:49:19.097Z"
   },
   {
    "duration": 482,
    "start_time": "2022-03-14T19:50:21.912Z"
   },
   {
    "duration": 270,
    "start_time": "2022-03-14T19:50:53.967Z"
   },
   {
    "duration": 4,
    "start_time": "2022-03-14T19:52:28.807Z"
   },
   {
    "duration": 27,
    "start_time": "2022-03-14T19:52:31.312Z"
   },
   {
    "duration": 244,
    "start_time": "2022-03-14T19:52:39.591Z"
   },
   {
    "duration": 36,
    "start_time": "2022-03-14T19:52:47.893Z"
   },
   {
    "duration": 8,
    "start_time": "2022-03-14T19:52:58.246Z"
   },
   {
    "duration": 21,
    "start_time": "2022-03-14T19:53:00.542Z"
   },
   {
    "duration": 240,
    "start_time": "2022-03-14T19:53:09.286Z"
   },
   {
    "duration": 196,
    "start_time": "2022-03-14T19:53:13.038Z"
   },
   {
    "duration": 218,
    "start_time": "2022-03-14T19:53:18.341Z"
   },
   {
    "duration": 390,
    "start_time": "2022-03-14T19:54:53.589Z"
   },
   {
    "duration": 289,
    "start_time": "2022-03-14T19:56:18.756Z"
   },
   {
    "duration": 200,
    "start_time": "2022-03-14T19:57:33.356Z"
   },
   {
    "duration": 283,
    "start_time": "2022-03-14T19:58:55.014Z"
   },
   {
    "duration": 3382,
    "start_time": "2022-03-14T20:01:18.861Z"
   },
   {
    "duration": 62,
    "start_time": "2022-03-14T20:02:01.770Z"
   },
   {
    "duration": 60,
    "start_time": "2022-03-14T20:02:06.970Z"
   },
   {
    "duration": 56,
    "start_time": "2022-03-14T20:02:11.665Z"
   },
   {
    "duration": 4084,
    "start_time": "2022-03-14T20:02:19.249Z"
   },
   {
    "duration": 275,
    "start_time": "2022-03-14T20:04:39.105Z"
   },
   {
    "duration": 202,
    "start_time": "2022-03-14T20:06:02.758Z"
   },
   {
    "duration": 208,
    "start_time": "2022-03-14T20:06:07.055Z"
   },
   {
    "duration": 244,
    "start_time": "2022-03-14T20:06:17.175Z"
   },
   {
    "duration": 189,
    "start_time": "2022-03-14T20:06:22.606Z"
   },
   {
    "duration": 194,
    "start_time": "2022-03-14T20:06:28.989Z"
   },
   {
    "duration": 226,
    "start_time": "2022-03-14T20:06:33.134Z"
   },
   {
    "duration": 4,
    "start_time": "2022-03-14T20:08:21.077Z"
   },
   {
    "duration": 5,
    "start_time": "2022-03-14T20:09:01.420Z"
   },
   {
    "duration": 8,
    "start_time": "2022-03-14T20:10:38.564Z"
   },
   {
    "duration": 25,
    "start_time": "2022-03-14T20:10:41.582Z"
   },
   {
    "duration": 285,
    "start_time": "2022-03-14T20:10:45.077Z"
   },
   {
    "duration": 6,
    "start_time": "2022-03-14T20:11:09.075Z"
   },
   {
    "duration": 5,
    "start_time": "2022-03-14T20:11:11.148Z"
   },
   {
    "duration": 634,
    "start_time": "2022-03-14T20:11:23.740Z"
   },
   {
    "duration": 88,
    "start_time": "2022-03-14T20:11:24.376Z"
   },
   {
    "duration": 12,
    "start_time": "2022-03-14T20:11:24.466Z"
   },
   {
    "duration": 12,
    "start_time": "2022-03-14T20:11:24.497Z"
   },
   {
    "duration": 11,
    "start_time": "2022-03-14T20:11:24.709Z"
   },
   {
    "duration": 4,
    "start_time": "2022-03-14T20:11:24.924Z"
   },
   {
    "duration": 24,
    "start_time": "2022-03-14T20:11:26.265Z"
   },
   {
    "duration": 27,
    "start_time": "2022-03-14T20:11:26.682Z"
   },
   {
    "duration": 14,
    "start_time": "2022-03-14T20:11:27.293Z"
   },
   {
    "duration": 5,
    "start_time": "2022-03-14T20:11:27.702Z"
   },
   {
    "duration": 5,
    "start_time": "2022-03-14T20:11:27.922Z"
   },
   {
    "duration": 6,
    "start_time": "2022-03-14T20:11:28.122Z"
   },
   {
    "duration": 6,
    "start_time": "2022-03-14T20:11:28.336Z"
   },
   {
    "duration": 5,
    "start_time": "2022-03-14T20:11:28.744Z"
   },
   {
    "duration": 5,
    "start_time": "2022-03-14T20:11:29.166Z"
   },
   {
    "duration": 7,
    "start_time": "2022-03-14T20:11:29.379Z"
   },
   {
    "duration": 5,
    "start_time": "2022-03-14T20:11:29.612Z"
   },
   {
    "duration": 6,
    "start_time": "2022-03-14T20:11:29.964Z"
   },
   {
    "duration": 8,
    "start_time": "2022-03-14T20:11:30.315Z"
   },
   {
    "duration": 4,
    "start_time": "2022-03-14T20:11:30.532Z"
   },
   {
    "duration": 6,
    "start_time": "2022-03-14T20:11:30.748Z"
   },
   {
    "duration": 6,
    "start_time": "2022-03-14T20:11:30.935Z"
   },
   {
    "duration": 5,
    "start_time": "2022-03-14T20:11:31.680Z"
   },
   {
    "duration": 11,
    "start_time": "2022-03-14T20:11:32.127Z"
   },
   {
    "duration": 5,
    "start_time": "2022-03-14T20:11:32.310Z"
   },
   {
    "duration": 6,
    "start_time": "2022-03-14T20:11:32.494Z"
   },
   {
    "duration": 5,
    "start_time": "2022-03-14T20:11:32.692Z"
   },
   {
    "duration": 4,
    "start_time": "2022-03-14T20:11:33.202Z"
   },
   {
    "duration": 6,
    "start_time": "2022-03-14T20:11:33.660Z"
   },
   {
    "duration": 6,
    "start_time": "2022-03-14T20:11:33.900Z"
   },
   {
    "duration": 10,
    "start_time": "2022-03-14T20:11:34.390Z"
   },
   {
    "duration": 16,
    "start_time": "2022-03-14T20:11:35.432Z"
   },
   {
    "duration": 15,
    "start_time": "2022-03-14T20:11:35.947Z"
   },
   {
    "duration": 11,
    "start_time": "2022-03-14T20:11:36.470Z"
   },
   {
    "duration": 13,
    "start_time": "2022-03-14T20:11:36.774Z"
   },
   {
    "duration": 13,
    "start_time": "2022-03-14T20:11:37.001Z"
   },
   {
    "duration": 19,
    "start_time": "2022-03-14T20:11:37.856Z"
   },
   {
    "duration": 11,
    "start_time": "2022-03-14T20:11:38.586Z"
   },
   {
    "duration": 5,
    "start_time": "2022-03-14T20:11:39.114Z"
   },
   {
    "duration": 11,
    "start_time": "2022-03-14T20:11:39.826Z"
   },
   {
    "duration": 5,
    "start_time": "2022-03-14T20:11:41.408Z"
   },
   {
    "duration": 6,
    "start_time": "2022-03-14T20:11:41.844Z"
   },
   {
    "duration": 5,
    "start_time": "2022-03-14T20:11:42.175Z"
   },
   {
    "duration": 5,
    "start_time": "2022-03-14T20:11:42.692Z"
   },
   {
    "duration": 5,
    "start_time": "2022-03-14T20:11:43.083Z"
   },
   {
    "duration": 5,
    "start_time": "2022-03-14T20:11:43.411Z"
   },
   {
    "duration": 12,
    "start_time": "2022-03-14T20:11:43.611Z"
   },
   {
    "duration": 4,
    "start_time": "2022-03-14T20:11:45.966Z"
   },
   {
    "duration": 5,
    "start_time": "2022-03-14T20:11:46.497Z"
   },
   {
    "duration": 11,
    "start_time": "2022-03-14T20:11:47.290Z"
   },
   {
    "duration": 9,
    "start_time": "2022-03-14T20:11:47.768Z"
   },
   {
    "duration": 15,
    "start_time": "2022-03-14T20:11:48.257Z"
   },
   {
    "duration": 486,
    "start_time": "2022-03-14T20:11:49.268Z"
   },
   {
    "duration": 4,
    "start_time": "2022-03-14T20:11:50.980Z"
   },
   {
    "duration": 4,
    "start_time": "2022-03-14T20:11:51.302Z"
   },
   {
    "duration": 21,
    "start_time": "2022-03-14T20:11:51.616Z"
   },
   {
    "duration": 68,
    "start_time": "2022-03-14T20:11:52.813Z"
   },
   {
    "duration": 8,
    "start_time": "2022-03-14T20:11:53.233Z"
   },
   {
    "duration": 4,
    "start_time": "2022-03-14T20:11:53.596Z"
   },
   {
    "duration": 4,
    "start_time": "2022-03-14T20:11:54.048Z"
   },
   {
    "duration": 4,
    "start_time": "2022-03-14T20:11:54.480Z"
   },
   {
    "duration": 323,
    "start_time": "2022-03-14T20:11:54.685Z"
   },
   {
    "duration": 231,
    "start_time": "2022-03-14T20:11:56.104Z"
   },
   {
    "duration": 276,
    "start_time": "2022-03-14T20:11:58.172Z"
   },
   {
    "duration": 9,
    "start_time": "2022-03-14T20:11:59.464Z"
   },
   {
    "duration": 245,
    "start_time": "2022-03-14T20:11:59.961Z"
   },
   {
    "duration": 149,
    "start_time": "2022-03-14T20:12:00.584Z"
   },
   {
    "duration": 8,
    "start_time": "2022-03-14T20:12:03.366Z"
   },
   {
    "duration": 193,
    "start_time": "2022-03-14T20:12:03.961Z"
   },
   {
    "duration": 124,
    "start_time": "2022-03-14T20:12:05.612Z"
   },
   {
    "duration": 132,
    "start_time": "2022-03-14T20:12:06.778Z"
   },
   {
    "duration": 29,
    "start_time": "2022-03-14T20:12:07.530Z"
   },
   {
    "duration": 10,
    "start_time": "2022-03-14T20:12:08.101Z"
   },
   {
    "duration": 191,
    "start_time": "2022-03-14T20:12:08.724Z"
   },
   {
    "duration": 7,
    "start_time": "2022-03-14T20:12:09.592Z"
   },
   {
    "duration": 184,
    "start_time": "2022-03-14T20:12:10.180Z"
   },
   {
    "duration": 20,
    "start_time": "2022-03-14T20:12:10.960Z"
   },
   {
    "duration": 10,
    "start_time": "2022-03-14T20:12:14.429Z"
   },
   {
    "duration": 126,
    "start_time": "2022-03-14T20:12:15.078Z"
   },
   {
    "duration": 5,
    "start_time": "2022-03-14T20:12:15.799Z"
   },
   {
    "duration": 4,
    "start_time": "2022-03-14T20:12:16.748Z"
   },
   {
    "duration": 6,
    "start_time": "2022-03-14T20:12:17.315Z"
   },
   {
    "duration": 5,
    "start_time": "2022-03-14T20:12:18.136Z"
   },
   {
    "duration": 33,
    "start_time": "2022-03-14T20:12:18.580Z"
   },
   {
    "duration": 12,
    "start_time": "2022-03-14T20:12:19.408Z"
   },
   {
    "duration": 381,
    "start_time": "2022-03-14T20:12:19.980Z"
   },
   {
    "duration": 544,
    "start_time": "2022-03-14T20:12:20.362Z"
   },
   {
    "duration": 5,
    "start_time": "2022-03-14T20:12:20.908Z"
   },
   {
    "duration": 267,
    "start_time": "2022-03-14T20:12:21.351Z"
   },
   {
    "duration": 4,
    "start_time": "2022-03-14T20:12:21.905Z"
   },
   {
    "duration": 152,
    "start_time": "2022-03-14T20:12:23.490Z"
   },
   {
    "duration": 5,
    "start_time": "2022-03-14T20:12:23.750Z"
   },
   {
    "duration": 252,
    "start_time": "2022-03-14T20:12:25.040Z"
   },
   {
    "duration": 4,
    "start_time": "2022-03-14T20:12:25.294Z"
   },
   {
    "duration": 146,
    "start_time": "2022-03-14T20:12:26.739Z"
   },
   {
    "duration": 159,
    "start_time": "2022-03-14T20:12:27.551Z"
   },
   {
    "duration": 143,
    "start_time": "2022-03-14T20:12:28.246Z"
   },
   {
    "duration": 23,
    "start_time": "2022-03-14T20:12:29.429Z"
   },
   {
    "duration": 4,
    "start_time": "2022-03-14T20:12:30.430Z"
   },
   {
    "duration": 4,
    "start_time": "2022-03-14T20:12:30.646Z"
   },
   {
    "duration": 25,
    "start_time": "2022-03-14T20:12:30.846Z"
   },
   {
    "duration": 237,
    "start_time": "2022-03-14T20:12:31.254Z"
   },
   {
    "duration": 26,
    "start_time": "2022-03-14T20:12:33.091Z"
   },
   {
    "duration": 9,
    "start_time": "2022-03-14T20:12:33.653Z"
   },
   {
    "duration": 20,
    "start_time": "2022-03-14T20:12:34.352Z"
   },
   {
    "duration": 222,
    "start_time": "2022-03-14T20:12:35.200Z"
   },
   {
    "duration": 4,
    "start_time": "2022-03-14T20:12:36.016Z"
   },
   {
    "duration": 4,
    "start_time": "2022-03-14T20:12:36.632Z"
   },
   {
    "duration": 190,
    "start_time": "2022-03-14T20:12:37.244Z"
   },
   {
    "duration": 202,
    "start_time": "2022-03-14T20:12:37.825Z"
   },
   {
    "duration": 205,
    "start_time": "2022-03-14T20:12:38.405Z"
   },
   {
    "duration": 371,
    "start_time": "2022-03-14T20:12:39.224Z"
   },
   {
    "duration": 5,
    "start_time": "2022-03-14T20:13:31.137Z"
   },
   {
    "duration": 31,
    "start_time": "2022-03-14T20:13:46.224Z"
   },
   {
    "duration": 5,
    "start_time": "2022-03-14T20:14:44.312Z"
   },
   {
    "duration": 6,
    "start_time": "2022-03-14T20:14:50.825Z"
   },
   {
    "duration": 7,
    "start_time": "2022-03-14T20:15:01.521Z"
   },
   {
    "duration": 5,
    "start_time": "2022-03-14T20:15:18.721Z"
   },
   {
    "duration": 267,
    "start_time": "2022-03-14T20:15:29.096Z"
   },
   {
    "duration": 7,
    "start_time": "2022-03-14T20:15:38.505Z"
   },
   {
    "duration": 7,
    "start_time": "2022-03-14T20:16:13.599Z"
   },
   {
    "duration": 7,
    "start_time": "2022-03-14T20:16:30.575Z"
   },
   {
    "duration": 5,
    "start_time": "2022-03-14T20:16:55.400Z"
   },
   {
    "duration": 218,
    "start_time": "2022-03-14T20:17:42.999Z"
   },
   {
    "duration": 221,
    "start_time": "2022-03-14T20:18:27.069Z"
   },
   {
    "duration": 216,
    "start_time": "2022-03-14T20:19:26.845Z"
   },
   {
    "duration": 203,
    "start_time": "2022-03-14T20:19:35.853Z"
   },
   {
    "duration": 316,
    "start_time": "2022-03-14T20:19:42.565Z"
   },
   {
    "duration": 196,
    "start_time": "2022-03-14T20:19:53.486Z"
   },
   {
    "duration": 214,
    "start_time": "2022-03-14T20:19:59.222Z"
   },
   {
    "duration": 231,
    "start_time": "2022-03-14T20:20:05.021Z"
   },
   {
    "duration": 169,
    "start_time": "2022-03-14T20:20:37.476Z"
   },
   {
    "duration": 7,
    "start_time": "2022-03-14T20:20:43.861Z"
   },
   {
    "duration": 28,
    "start_time": "2022-03-14T20:22:13.871Z"
   },
   {
    "duration": 8,
    "start_time": "2022-03-14T20:28:19.416Z"
   },
   {
    "duration": 5,
    "start_time": "2022-03-14T20:30:06.657Z"
   },
   {
    "duration": 7,
    "start_time": "2022-03-14T20:30:22.528Z"
   },
   {
    "duration": 9,
    "start_time": "2022-03-14T20:31:01.808Z"
   },
   {
    "duration": 186,
    "start_time": "2022-03-14T20:31:31.424Z"
   },
   {
    "duration": 9,
    "start_time": "2022-03-14T20:32:43.886Z"
   },
   {
    "duration": 188,
    "start_time": "2022-03-14T20:34:15.422Z"
   },
   {
    "duration": 539,
    "start_time": "2022-03-14T20:34:30.265Z"
   },
   {
    "duration": 94,
    "start_time": "2022-03-14T20:34:30.806Z"
   },
   {
    "duration": 10,
    "start_time": "2022-03-14T20:34:30.902Z"
   },
   {
    "duration": 23,
    "start_time": "2022-03-14T20:34:30.913Z"
   },
   {
    "duration": 11,
    "start_time": "2022-03-14T20:34:31.013Z"
   },
   {
    "duration": 4,
    "start_time": "2022-03-14T20:34:31.192Z"
   },
   {
    "duration": 24,
    "start_time": "2022-03-14T20:34:32.415Z"
   },
   {
    "duration": 26,
    "start_time": "2022-03-14T20:34:32.926Z"
   },
   {
    "duration": 11,
    "start_time": "2022-03-14T20:34:33.787Z"
   },
   {
    "duration": 4,
    "start_time": "2022-03-14T20:34:34.517Z"
   },
   {
    "duration": 5,
    "start_time": "2022-03-14T20:34:34.790Z"
   },
   {
    "duration": 6,
    "start_time": "2022-03-14T20:34:35.052Z"
   },
   {
    "duration": 6,
    "start_time": "2022-03-14T20:34:35.432Z"
   },
   {
    "duration": 5,
    "start_time": "2022-03-14T20:34:35.800Z"
   },
   {
    "duration": 6,
    "start_time": "2022-03-14T20:34:36.368Z"
   },
   {
    "duration": 7,
    "start_time": "2022-03-14T20:34:36.714Z"
   },
   {
    "duration": 6,
    "start_time": "2022-03-14T20:34:36.965Z"
   },
   {
    "duration": 5,
    "start_time": "2022-03-14T20:34:37.159Z"
   },
   {
    "duration": 8,
    "start_time": "2022-03-14T20:34:37.375Z"
   },
   {
    "duration": 5,
    "start_time": "2022-03-14T20:34:37.624Z"
   },
   {
    "duration": 6,
    "start_time": "2022-03-14T20:34:38.086Z"
   },
   {
    "duration": 5,
    "start_time": "2022-03-14T20:34:38.403Z"
   },
   {
    "duration": 5,
    "start_time": "2022-03-14T20:34:39.098Z"
   },
   {
    "duration": 10,
    "start_time": "2022-03-14T20:34:39.600Z"
   },
   {
    "duration": 6,
    "start_time": "2022-03-14T20:34:39.877Z"
   },
   {
    "duration": 6,
    "start_time": "2022-03-14T20:34:40.362Z"
   },
   {
    "duration": 5,
    "start_time": "2022-03-14T20:34:40.600Z"
   },
   {
    "duration": 4,
    "start_time": "2022-03-14T20:34:41.714Z"
   },
   {
    "duration": 4,
    "start_time": "2022-03-14T20:34:42.783Z"
   },
   {
    "duration": 6,
    "start_time": "2022-03-14T20:34:44.284Z"
   },
   {
    "duration": 9,
    "start_time": "2022-03-14T20:34:44.981Z"
   },
   {
    "duration": 11,
    "start_time": "2022-03-14T20:34:46.017Z"
   },
   {
    "duration": 11,
    "start_time": "2022-03-14T20:34:46.469Z"
   },
   {
    "duration": 11,
    "start_time": "2022-03-14T20:34:46.758Z"
   },
   {
    "duration": 11,
    "start_time": "2022-03-14T20:34:47.019Z"
   },
   {
    "duration": 11,
    "start_time": "2022-03-14T20:34:47.227Z"
   },
   {
    "duration": 11,
    "start_time": "2022-03-14T20:34:47.675Z"
   },
   {
    "duration": 10,
    "start_time": "2022-03-14T20:34:48.077Z"
   },
   {
    "duration": 5,
    "start_time": "2022-03-14T20:34:48.316Z"
   },
   {
    "duration": 10,
    "start_time": "2022-03-14T20:34:48.530Z"
   },
   {
    "duration": 5,
    "start_time": "2022-03-14T20:34:49.509Z"
   },
   {
    "duration": 6,
    "start_time": "2022-03-14T20:34:49.798Z"
   },
   {
    "duration": 4,
    "start_time": "2022-03-14T20:34:50.046Z"
   },
   {
    "duration": 4,
    "start_time": "2022-03-14T20:34:50.462Z"
   },
   {
    "duration": 4,
    "start_time": "2022-03-14T20:34:50.678Z"
   },
   {
    "duration": 4,
    "start_time": "2022-03-14T20:34:50.887Z"
   },
   {
    "duration": 12,
    "start_time": "2022-03-14T20:34:51.091Z"
   },
   {
    "duration": 4,
    "start_time": "2022-03-14T20:34:53.034Z"
   },
   {
    "duration": 5,
    "start_time": "2022-03-14T20:34:53.802Z"
   },
   {
    "duration": 9,
    "start_time": "2022-03-14T20:34:54.436Z"
   },
   {
    "duration": 9,
    "start_time": "2022-03-14T20:34:54.671Z"
   },
   {
    "duration": 9,
    "start_time": "2022-03-14T20:34:55.009Z"
   },
   {
    "duration": 467,
    "start_time": "2022-03-14T20:34:55.418Z"
   },
   {
    "duration": 4,
    "start_time": "2022-03-14T20:34:56.240Z"
   },
   {
    "duration": 4,
    "start_time": "2022-03-14T20:34:56.468Z"
   },
   {
    "duration": 20,
    "start_time": "2022-03-14T20:34:56.645Z"
   },
   {
    "duration": 67,
    "start_time": "2022-03-14T20:35:02.343Z"
   },
   {
    "duration": 8,
    "start_time": "2022-03-14T20:35:02.633Z"
   },
   {
    "duration": 5,
    "start_time": "2022-03-14T20:35:03.218Z"
   },
   {
    "duration": 4,
    "start_time": "2022-03-14T20:35:03.462Z"
   },
   {
    "duration": 5,
    "start_time": "2022-03-14T20:35:03.920Z"
   },
   {
    "duration": 334,
    "start_time": "2022-03-14T20:35:04.669Z"
   },
   {
    "duration": 266,
    "start_time": "2022-03-14T20:35:05.739Z"
   },
   {
    "duration": 285,
    "start_time": "2022-03-14T20:35:06.397Z"
   },
   {
    "duration": 10,
    "start_time": "2022-03-14T20:35:07.350Z"
   },
   {
    "duration": 233,
    "start_time": "2022-03-14T20:35:07.941Z"
   },
   {
    "duration": 140,
    "start_time": "2022-03-14T20:35:09.035Z"
   },
   {
    "duration": 8,
    "start_time": "2022-03-14T20:35:12.629Z"
   },
   {
    "duration": 8,
    "start_time": "2022-03-14T20:35:13.342Z"
   },
   {
    "duration": 9,
    "start_time": "2022-03-14T20:35:14.716Z"
   },
   {
    "duration": 288,
    "start_time": "2022-03-14T20:35:15.470Z"
   },
   {
    "duration": 7,
    "start_time": "2022-03-14T20:35:49.731Z"
   },
   {
    "duration": 7,
    "start_time": "2022-03-14T20:38:25.826Z"
   },
   {
    "duration": 180,
    "start_time": "2022-03-14T20:38:29.655Z"
   },
   {
    "duration": 536,
    "start_time": "2022-03-14T20:38:45.554Z"
   },
   {
    "duration": 88,
    "start_time": "2022-03-14T20:38:46.126Z"
   },
   {
    "duration": 11,
    "start_time": "2022-03-14T20:38:46.331Z"
   },
   {
    "duration": 10,
    "start_time": "2022-03-14T20:38:46.528Z"
   },
   {
    "duration": 11,
    "start_time": "2022-03-14T20:38:46.742Z"
   },
   {
    "duration": 4,
    "start_time": "2022-03-14T20:38:47.047Z"
   },
   {
    "duration": 24,
    "start_time": "2022-03-14T20:38:48.282Z"
   },
   {
    "duration": 25,
    "start_time": "2022-03-14T20:38:48.637Z"
   },
   {
    "duration": 12,
    "start_time": "2022-03-14T20:38:49.438Z"
   },
   {
    "duration": 5,
    "start_time": "2022-03-14T20:38:50.029Z"
   },
   {
    "duration": 5,
    "start_time": "2022-03-14T20:38:50.254Z"
   },
   {
    "duration": 6,
    "start_time": "2022-03-14T20:38:50.445Z"
   },
   {
    "duration": 6,
    "start_time": "2022-03-14T20:38:50.660Z"
   },
   {
    "duration": 4,
    "start_time": "2022-03-14T20:38:50.828Z"
   },
   {
    "duration": 4,
    "start_time": "2022-03-14T20:38:51.779Z"
   },
   {
    "duration": 7,
    "start_time": "2022-03-14T20:38:52.014Z"
   },
   {
    "duration": 5,
    "start_time": "2022-03-14T20:38:52.842Z"
   },
   {
    "duration": 7,
    "start_time": "2022-03-14T20:38:53.203Z"
   },
   {
    "duration": 8,
    "start_time": "2022-03-14T20:38:53.694Z"
   },
   {
    "duration": 5,
    "start_time": "2022-03-14T20:38:54.076Z"
   },
   {
    "duration": 6,
    "start_time": "2022-03-14T20:38:54.341Z"
   },
   {
    "duration": 4,
    "start_time": "2022-03-14T20:38:54.595Z"
   },
   {
    "duration": 4,
    "start_time": "2022-03-14T20:38:55.465Z"
   },
   {
    "duration": 8,
    "start_time": "2022-03-14T20:38:55.975Z"
   },
   {
    "duration": 5,
    "start_time": "2022-03-14T20:38:56.448Z"
   },
   {
    "duration": 6,
    "start_time": "2022-03-14T20:38:56.925Z"
   },
   {
    "duration": 4,
    "start_time": "2022-03-14T20:38:57.250Z"
   },
   {
    "duration": 4,
    "start_time": "2022-03-14T20:38:58.664Z"
   },
   {
    "duration": 5,
    "start_time": "2022-03-14T20:38:59.603Z"
   },
   {
    "duration": 6,
    "start_time": "2022-03-14T20:39:00.104Z"
   },
   {
    "duration": 10,
    "start_time": "2022-03-14T20:39:00.593Z"
   },
   {
    "duration": 12,
    "start_time": "2022-03-14T20:39:01.712Z"
   },
   {
    "duration": 11,
    "start_time": "2022-03-14T20:39:02.220Z"
   },
   {
    "duration": 11,
    "start_time": "2022-03-14T20:39:02.438Z"
   },
   {
    "duration": 10,
    "start_time": "2022-03-14T20:39:02.605Z"
   },
   {
    "duration": 10,
    "start_time": "2022-03-14T20:39:02.807Z"
   },
   {
    "duration": 11,
    "start_time": "2022-03-14T20:39:03.491Z"
   },
   {
    "duration": 9,
    "start_time": "2022-03-14T20:39:04.021Z"
   },
   {
    "duration": 6,
    "start_time": "2022-03-14T20:39:04.243Z"
   },
   {
    "duration": 11,
    "start_time": "2022-03-14T20:39:04.546Z"
   },
   {
    "duration": 5,
    "start_time": "2022-03-14T20:39:05.543Z"
   },
   {
    "duration": 6,
    "start_time": "2022-03-14T20:39:05.854Z"
   },
   {
    "duration": 5,
    "start_time": "2022-03-14T20:39:06.514Z"
   },
   {
    "duration": 4,
    "start_time": "2022-03-14T20:39:06.710Z"
   },
   {
    "duration": 4,
    "start_time": "2022-03-14T20:39:06.913Z"
   },
   {
    "duration": 4,
    "start_time": "2022-03-14T20:39:07.148Z"
   },
   {
    "duration": 11,
    "start_time": "2022-03-14T20:39:07.444Z"
   },
   {
    "duration": 4,
    "start_time": "2022-03-14T20:39:08.751Z"
   },
   {
    "duration": 4,
    "start_time": "2022-03-14T20:39:08.961Z"
   },
   {
    "duration": 9,
    "start_time": "2022-03-14T20:39:09.373Z"
   },
   {
    "duration": 9,
    "start_time": "2022-03-14T20:39:09.616Z"
   },
   {
    "duration": 9,
    "start_time": "2022-03-14T20:39:09.919Z"
   },
   {
    "duration": 472,
    "start_time": "2022-03-14T20:39:10.426Z"
   },
   {
    "duration": 5,
    "start_time": "2022-03-14T20:39:10.987Z"
   },
   {
    "duration": 4,
    "start_time": "2022-03-14T20:39:11.368Z"
   },
   {
    "duration": 20,
    "start_time": "2022-03-14T20:39:11.601Z"
   },
   {
    "duration": 67,
    "start_time": "2022-03-14T20:39:12.958Z"
   },
   {
    "duration": 8,
    "start_time": "2022-03-14T20:39:13.177Z"
   },
   {
    "duration": 4,
    "start_time": "2022-03-14T20:39:13.391Z"
   },
   {
    "duration": 4,
    "start_time": "2022-03-14T20:39:14.001Z"
   },
   {
    "duration": 5,
    "start_time": "2022-03-14T20:39:14.244Z"
   },
   {
    "duration": 326,
    "start_time": "2022-03-14T20:39:14.672Z"
   },
   {
    "duration": 225,
    "start_time": "2022-03-14T20:39:15.392Z"
   },
   {
    "duration": 284,
    "start_time": "2022-03-14T20:39:16.014Z"
   },
   {
    "duration": 8,
    "start_time": "2022-03-14T20:39:16.651Z"
   },
   {
    "duration": 233,
    "start_time": "2022-03-14T20:39:16.842Z"
   },
   {
    "duration": 157,
    "start_time": "2022-03-14T20:39:17.077Z"
   },
   {
    "duration": 8,
    "start_time": "2022-03-14T20:39:18.623Z"
   },
   {
    "duration": 8,
    "start_time": "2022-03-14T20:39:19.136Z"
   },
   {
    "duration": 9,
    "start_time": "2022-03-14T20:39:20.551Z"
   },
   {
    "duration": 11,
    "start_time": "2022-03-14T20:39:20.561Z"
   },
   {
    "duration": 7,
    "start_time": "2022-03-14T20:39:20.943Z"
   },
   {
    "duration": 9,
    "start_time": "2022-03-14T20:39:24.198Z"
   },
   {
    "duration": 192,
    "start_time": "2022-03-14T20:39:24.779Z"
   },
   {
    "duration": 118,
    "start_time": "2022-03-14T20:39:26.941Z"
   },
   {
    "duration": 128,
    "start_time": "2022-03-14T20:39:27.778Z"
   },
   {
    "duration": 26,
    "start_time": "2022-03-14T20:39:28.507Z"
   },
   {
    "duration": 10,
    "start_time": "2022-03-14T20:39:29.050Z"
   },
   {
    "duration": 196,
    "start_time": "2022-03-14T20:39:29.592Z"
   },
   {
    "duration": 6,
    "start_time": "2022-03-14T20:39:30.311Z"
   },
   {
    "duration": 198,
    "start_time": "2022-03-14T20:39:30.865Z"
   },
   {
    "duration": 9,
    "start_time": "2022-03-14T20:39:31.644Z"
   },
   {
    "duration": 9,
    "start_time": "2022-03-14T20:39:33.226Z"
   },
   {
    "duration": 118,
    "start_time": "2022-03-14T20:39:34.038Z"
   },
   {
    "duration": 4,
    "start_time": "2022-03-14T20:39:34.546Z"
   },
   {
    "duration": 4,
    "start_time": "2022-03-14T20:39:35.103Z"
   },
   {
    "duration": 5,
    "start_time": "2022-03-14T20:39:35.352Z"
   },
   {
    "duration": 5,
    "start_time": "2022-03-14T20:39:35.528Z"
   },
   {
    "duration": 31,
    "start_time": "2022-03-14T20:39:36.653Z"
   },
   {
    "duration": 12,
    "start_time": "2022-03-14T20:39:37.051Z"
   },
   {
    "duration": 364,
    "start_time": "2022-03-14T20:39:37.455Z"
   },
   {
    "duration": 463,
    "start_time": "2022-03-14T20:39:37.820Z"
   },
   {
    "duration": 5,
    "start_time": "2022-03-14T20:39:38.284Z"
   },
   {
    "duration": 256,
    "start_time": "2022-03-14T20:39:39.678Z"
   },
   {
    "duration": 4,
    "start_time": "2022-03-14T20:39:40.292Z"
   },
   {
    "duration": 150,
    "start_time": "2022-03-14T20:39:41.596Z"
   },
   {
    "duration": 5,
    "start_time": "2022-03-14T20:39:41.804Z"
   },
   {
    "duration": 253,
    "start_time": "2022-03-14T20:39:43.054Z"
   },
   {
    "duration": 4,
    "start_time": "2022-03-14T20:39:43.309Z"
   },
   {
    "duration": 153,
    "start_time": "2022-03-14T20:39:44.596Z"
   },
   {
    "duration": 169,
    "start_time": "2022-03-14T20:39:45.426Z"
   },
   {
    "duration": 144,
    "start_time": "2022-03-14T20:39:45.898Z"
   },
   {
    "duration": 23,
    "start_time": "2022-03-14T20:39:46.550Z"
   },
   {
    "duration": 4,
    "start_time": "2022-03-14T20:39:48.100Z"
   },
   {
    "duration": 4,
    "start_time": "2022-03-14T20:39:48.306Z"
   },
   {
    "duration": 25,
    "start_time": "2022-03-14T20:39:48.523Z"
   },
   {
    "duration": 242,
    "start_time": "2022-03-14T20:39:48.760Z"
   },
   {
    "duration": 25,
    "start_time": "2022-03-14T20:39:50.260Z"
   },
   {
    "duration": 11,
    "start_time": "2022-03-14T20:39:50.814Z"
   },
   {
    "duration": 233,
    "start_time": "2022-03-14T20:39:51.228Z"
   },
   {
    "duration": 9,
    "start_time": "2022-03-14T20:39:51.477Z"
   },
   {
    "duration": 199,
    "start_time": "2022-03-14T20:39:52.075Z"
   },
   {
    "duration": 208,
    "start_time": "2022-03-14T20:39:52.302Z"
   },
   {
    "duration": 214,
    "start_time": "2022-03-14T20:39:52.512Z"
   },
   {
    "duration": 377,
    "start_time": "2022-03-14T20:39:52.732Z"
   },
   {
    "duration": 8,
    "start_time": "2022-03-14T20:41:12.808Z"
   },
   {
    "duration": 7,
    "start_time": "2022-03-14T20:42:32.142Z"
   },
   {
    "duration": 193,
    "start_time": "2022-03-14T20:42:34.229Z"
   },
   {
    "duration": 220,
    "start_time": "2022-03-14T20:42:58.871Z"
   },
   {
    "duration": 221,
    "start_time": "2022-03-14T20:43:51.214Z"
   },
   {
    "duration": 471,
    "start_time": "2022-03-14T20:44:50.608Z"
   },
   {
    "duration": 207,
    "start_time": "2022-03-14T20:44:57.310Z"
   },
   {
    "duration": 216,
    "start_time": "2022-03-14T20:45:09.061Z"
   },
   {
    "duration": 217,
    "start_time": "2022-03-14T20:45:20.695Z"
   },
   {
    "duration": 221,
    "start_time": "2022-03-14T20:46:22.620Z"
   },
   {
    "duration": 198,
    "start_time": "2022-03-14T20:46:26.893Z"
   },
   {
    "duration": 299,
    "start_time": "2022-03-14T20:47:53.718Z"
   },
   {
    "duration": 175,
    "start_time": "2022-03-14T20:49:09.379Z"
   },
   {
    "duration": 286,
    "start_time": "2022-03-14T20:50:13.675Z"
   },
   {
    "duration": 177,
    "start_time": "2022-03-14T20:52:04.147Z"
   },
   {
    "duration": 180,
    "start_time": "2022-03-14T20:52:20.645Z"
   },
   {
    "duration": 179,
    "start_time": "2022-03-14T20:52:34.882Z"
   },
   {
    "duration": 245,
    "start_time": "2022-03-14T20:52:50.106Z"
   },
   {
    "duration": 166,
    "start_time": "2022-03-14T20:52:56.137Z"
   },
   {
    "duration": 182,
    "start_time": "2022-03-14T20:53:02.210Z"
   },
   {
    "duration": 187,
    "start_time": "2022-03-14T20:54:05.872Z"
   },
   {
    "duration": 169,
    "start_time": "2022-03-14T20:54:33.336Z"
   },
   {
    "duration": 170,
    "start_time": "2022-03-14T20:55:21.058Z"
   },
   {
    "duration": 173,
    "start_time": "2022-03-14T20:57:40.159Z"
   },
   {
    "duration": 171,
    "start_time": "2022-03-14T20:59:59.181Z"
   },
   {
    "duration": 517,
    "start_time": "2022-03-14T21:15:52.769Z"
   },
   {
    "duration": 95,
    "start_time": "2022-03-14T21:15:53.943Z"
   },
   {
    "duration": 11,
    "start_time": "2022-03-14T21:15:54.691Z"
   },
   {
    "duration": 10,
    "start_time": "2022-03-14T21:15:55.177Z"
   },
   {
    "duration": 11,
    "start_time": "2022-03-14T21:15:55.747Z"
   },
   {
    "duration": 4,
    "start_time": "2022-03-14T21:15:56.834Z"
   },
   {
    "duration": 26,
    "start_time": "2022-03-14T21:16:01.236Z"
   },
   {
    "duration": 24,
    "start_time": "2022-03-14T21:16:02.758Z"
   },
   {
    "duration": 11,
    "start_time": "2022-03-14T21:16:04.708Z"
   },
   {
    "duration": 4,
    "start_time": "2022-03-14T21:16:05.922Z"
   },
   {
    "duration": 5,
    "start_time": "2022-03-14T21:16:07.933Z"
   },
   {
    "duration": 6,
    "start_time": "2022-03-14T21:16:11.856Z"
   },
   {
    "duration": 5,
    "start_time": "2022-03-14T21:16:12.542Z"
   },
   {
    "duration": 4,
    "start_time": "2022-03-14T21:16:12.776Z"
   },
   {
    "duration": 4,
    "start_time": "2022-03-14T21:16:13.252Z"
   },
   {
    "duration": 6,
    "start_time": "2022-03-14T21:16:13.525Z"
   },
   {
    "duration": 5,
    "start_time": "2022-03-14T21:16:14.090Z"
   },
   {
    "duration": 6,
    "start_time": "2022-03-14T21:16:14.872Z"
   },
   {
    "duration": 8,
    "start_time": "2022-03-14T21:16:15.379Z"
   },
   {
    "duration": 5,
    "start_time": "2022-03-14T21:16:15.690Z"
   },
   {
    "duration": 7,
    "start_time": "2022-03-14T21:16:15.986Z"
   },
   {
    "duration": 5,
    "start_time": "2022-03-14T21:16:16.364Z"
   },
   {
    "duration": 5,
    "start_time": "2022-03-14T21:16:17.298Z"
   },
   {
    "duration": 9,
    "start_time": "2022-03-14T21:16:17.506Z"
   },
   {
    "duration": 5,
    "start_time": "2022-03-14T21:16:17.702Z"
   },
   {
    "duration": 7,
    "start_time": "2022-03-14T21:16:17.920Z"
   },
   {
    "duration": 5,
    "start_time": "2022-03-14T21:16:18.140Z"
   },
   {
    "duration": 5,
    "start_time": "2022-03-14T21:16:18.548Z"
   },
   {
    "duration": 5,
    "start_time": "2022-03-14T21:16:19.466Z"
   },
   {
    "duration": 6,
    "start_time": "2022-03-14T21:16:19.689Z"
   },
   {
    "duration": 10,
    "start_time": "2022-03-14T21:16:20.282Z"
   },
   {
    "duration": 12,
    "start_time": "2022-03-14T21:16:21.232Z"
   },
   {
    "duration": 12,
    "start_time": "2022-03-14T21:16:21.500Z"
   },
   {
    "duration": 11,
    "start_time": "2022-03-14T21:16:21.692Z"
   },
   {
    "duration": 10,
    "start_time": "2022-03-14T21:16:22.150Z"
   },
   {
    "duration": 11,
    "start_time": "2022-03-14T21:16:22.356Z"
   },
   {
    "duration": 11,
    "start_time": "2022-03-14T21:16:23.486Z"
   },
   {
    "duration": 8,
    "start_time": "2022-03-14T21:16:24.614Z"
   },
   {
    "duration": 5,
    "start_time": "2022-03-14T21:16:25.220Z"
   },
   {
    "duration": 12,
    "start_time": "2022-03-14T21:16:26.397Z"
   },
   {
    "duration": 5,
    "start_time": "2022-03-14T21:16:28.418Z"
   },
   {
    "duration": 6,
    "start_time": "2022-03-14T21:16:29.369Z"
   },
   {
    "duration": 4,
    "start_time": "2022-03-14T21:16:30.042Z"
   },
   {
    "duration": 4,
    "start_time": "2022-03-14T21:16:30.288Z"
   },
   {
    "duration": 5,
    "start_time": "2022-03-14T21:16:30.939Z"
   },
   {
    "duration": 5,
    "start_time": "2022-03-14T21:16:31.520Z"
   },
   {
    "duration": 11,
    "start_time": "2022-03-14T21:16:32.287Z"
   },
   {
    "duration": 4,
    "start_time": "2022-03-14T21:16:34.993Z"
   },
   {
    "duration": 4,
    "start_time": "2022-03-14T21:16:35.533Z"
   },
   {
    "duration": 9,
    "start_time": "2022-03-14T21:16:36.789Z"
   },
   {
    "duration": 10,
    "start_time": "2022-03-14T21:16:37.330Z"
   },
   {
    "duration": 11,
    "start_time": "2022-03-14T21:16:37.938Z"
   },
   {
    "duration": 495,
    "start_time": "2022-03-14T21:16:39.680Z"
   },
   {
    "duration": 4,
    "start_time": "2022-03-14T21:16:41.092Z"
   },
   {
    "duration": 4,
    "start_time": "2022-03-14T21:16:41.817Z"
   },
   {
    "duration": 20,
    "start_time": "2022-03-14T21:16:42.538Z"
   },
   {
    "duration": 69,
    "start_time": "2022-03-14T21:16:45.119Z"
   },
   {
    "duration": 8,
    "start_time": "2022-03-14T21:16:45.823Z"
   },
   {
    "duration": 4,
    "start_time": "2022-03-14T21:16:46.494Z"
   },
   {
    "duration": 4,
    "start_time": "2022-03-14T21:16:47.481Z"
   },
   {
    "duration": 5,
    "start_time": "2022-03-14T21:16:48.215Z"
   },
   {
    "duration": 311,
    "start_time": "2022-03-14T21:16:49.092Z"
   },
   {
    "duration": 229,
    "start_time": "2022-03-14T21:16:50.620Z"
   },
   {
    "duration": 286,
    "start_time": "2022-03-14T21:16:51.794Z"
   },
   {
    "duration": 9,
    "start_time": "2022-03-14T21:16:53.243Z"
   },
   {
    "duration": 234,
    "start_time": "2022-03-14T21:16:53.817Z"
   },
   {
    "duration": 149,
    "start_time": "2022-03-14T21:16:55.236Z"
   },
   {
    "duration": 8,
    "start_time": "2022-03-14T21:16:58.628Z"
   },
   {
    "duration": 9,
    "start_time": "2022-03-14T21:16:59.523Z"
   },
   {
    "duration": 9,
    "start_time": "2022-03-14T21:17:00.337Z"
   },
   {
    "duration": 8,
    "start_time": "2022-03-14T21:17:00.899Z"
   },
   {
    "duration": 8,
    "start_time": "2022-03-14T21:17:01.536Z"
   },
   {
    "duration": 8,
    "start_time": "2022-03-14T21:17:02.819Z"
   },
   {
    "duration": 184,
    "start_time": "2022-03-14T21:17:03.081Z"
   },
   {
    "duration": 125,
    "start_time": "2022-03-14T21:17:04.138Z"
   },
   {
    "duration": 132,
    "start_time": "2022-03-14T21:17:05.451Z"
   },
   {
    "duration": 25,
    "start_time": "2022-03-14T21:17:06.180Z"
   },
   {
    "duration": 10,
    "start_time": "2022-03-14T21:17:06.769Z"
   },
   {
    "duration": 182,
    "start_time": "2022-03-14T21:17:07.449Z"
   },
   {
    "duration": 7,
    "start_time": "2022-03-14T21:17:08.387Z"
   },
   {
    "duration": 191,
    "start_time": "2022-03-14T21:17:09.232Z"
   },
   {
    "duration": 8,
    "start_time": "2022-03-14T21:17:09.790Z"
   },
   {
    "duration": 9,
    "start_time": "2022-03-14T21:17:11.681Z"
   },
   {
    "duration": 124,
    "start_time": "2022-03-14T21:17:13.131Z"
   },
   {
    "duration": 4,
    "start_time": "2022-03-14T21:17:14.219Z"
   },
   {
    "duration": 4,
    "start_time": "2022-03-14T21:17:14.739Z"
   },
   {
    "duration": 6,
    "start_time": "2022-03-14T21:17:14.955Z"
   },
   {
    "duration": 6,
    "start_time": "2022-03-14T21:17:15.189Z"
   },
   {
    "duration": 31,
    "start_time": "2022-03-14T21:17:16.772Z"
   },
   {
    "duration": 12,
    "start_time": "2022-03-14T21:17:18.033Z"
   },
   {
    "duration": 371,
    "start_time": "2022-03-14T21:17:18.991Z"
   },
   {
    "duration": 468,
    "start_time": "2022-03-14T21:17:21.898Z"
   },
   {
    "duration": 5,
    "start_time": "2022-03-14T21:17:22.717Z"
   },
   {
    "duration": 261,
    "start_time": "2022-03-14T21:17:25.379Z"
   },
   {
    "duration": 5,
    "start_time": "2022-03-14T21:17:25.946Z"
   },
   {
    "duration": 150,
    "start_time": "2022-03-14T21:17:28.687Z"
   },
   {
    "duration": 5,
    "start_time": "2022-03-14T21:17:29.573Z"
   },
   {
    "duration": 249,
    "start_time": "2022-03-14T21:17:31.859Z"
   },
   {
    "duration": 4,
    "start_time": "2022-03-14T21:17:32.514Z"
   },
   {
    "duration": 144,
    "start_time": "2022-03-14T21:17:34.747Z"
   },
   {
    "duration": 168,
    "start_time": "2022-03-14T21:17:36.996Z"
   },
   {
    "duration": 147,
    "start_time": "2022-03-14T21:17:38.468Z"
   },
   {
    "duration": 22,
    "start_time": "2022-03-14T21:17:40.503Z"
   },
   {
    "duration": 4,
    "start_time": "2022-03-14T21:17:42.502Z"
   },
   {
    "duration": 4,
    "start_time": "2022-03-14T21:17:43.396Z"
   },
   {
    "duration": 27,
    "start_time": "2022-03-14T21:17:43.949Z"
   },
   {
    "duration": 237,
    "start_time": "2022-03-14T21:17:45.062Z"
   },
   {
    "duration": 24,
    "start_time": "2022-03-14T21:17:47.706Z"
   },
   {
    "duration": 8,
    "start_time": "2022-03-14T21:17:48.504Z"
   },
   {
    "duration": 226,
    "start_time": "2022-03-14T21:17:49.566Z"
   },
   {
    "duration": 332,
    "start_time": "2022-03-14T21:17:50.990Z"
   },
   {
    "duration": 205,
    "start_time": "2022-03-14T21:17:52.913Z"
   },
   {
    "duration": 202,
    "start_time": "2022-03-14T21:17:55.565Z"
   },
   {
    "duration": 251,
    "start_time": "2022-03-14T21:17:56.983Z"
   },
   {
    "duration": 169,
    "start_time": "2022-03-14T21:17:58.627Z"
   },
   {
    "duration": 181,
    "start_time": "2022-03-14T21:18:01.178Z"
   },
   {
    "duration": 182,
    "start_time": "2022-03-14T21:18:03.896Z"
   },
   {
    "duration": 450,
    "start_time": "2022-03-26T16:17:04.020Z"
   },
   {
    "duration": 124,
    "start_time": "2022-03-26T16:17:04.473Z"
   },
   {
    "duration": 17,
    "start_time": "2022-03-26T16:17:05.538Z"
   },
   {
    "duration": 11,
    "start_time": "2022-03-26T16:17:06.107Z"
   },
   {
    "duration": 13,
    "start_time": "2022-03-26T16:17:06.855Z"
   },
   {
    "duration": 4,
    "start_time": "2022-03-26T16:17:07.384Z"
   },
   {
    "duration": 27,
    "start_time": "2022-03-26T16:17:11.225Z"
   },
   {
    "duration": 29,
    "start_time": "2022-03-26T16:17:12.907Z"
   },
   {
    "duration": 18,
    "start_time": "2022-03-26T16:17:13.729Z"
   },
   {
    "duration": 5,
    "start_time": "2022-03-26T16:17:14.119Z"
   },
   {
    "duration": 7,
    "start_time": "2022-03-26T16:17:14.549Z"
   },
   {
    "duration": 8,
    "start_time": "2022-03-26T16:17:14.808Z"
   },
   {
    "duration": 6,
    "start_time": "2022-03-26T16:17:15.000Z"
   },
   {
    "duration": 6,
    "start_time": "2022-03-26T16:17:15.185Z"
   },
   {
    "duration": 6,
    "start_time": "2022-03-26T16:17:15.990Z"
   },
   {
    "duration": 8,
    "start_time": "2022-03-26T16:17:16.183Z"
   },
   {
    "duration": 6,
    "start_time": "2022-03-26T16:17:16.407Z"
   },
   {
    "duration": 7,
    "start_time": "2022-03-26T16:17:16.637Z"
   },
   {
    "duration": 9,
    "start_time": "2022-03-26T16:17:16.826Z"
   },
   {
    "duration": 5,
    "start_time": "2022-03-26T16:17:17.706Z"
   },
   {
    "duration": 5,
    "start_time": "2022-03-26T16:17:17.935Z"
   },
   {
    "duration": 5,
    "start_time": "2022-03-26T16:17:18.293Z"
   },
   {
    "duration": 5,
    "start_time": "2022-03-26T16:17:18.885Z"
   },
   {
    "duration": 12,
    "start_time": "2022-03-26T16:17:19.188Z"
   },
   {
    "duration": 6,
    "start_time": "2022-03-26T16:17:19.527Z"
   },
   {
    "duration": 6,
    "start_time": "2022-03-26T16:17:19.789Z"
   },
   {
    "duration": 5,
    "start_time": "2022-03-26T16:17:20.141Z"
   },
   {
    "duration": 4,
    "start_time": "2022-03-26T16:17:21.474Z"
   },
   {
    "duration": 6,
    "start_time": "2022-03-26T16:17:22.081Z"
   },
   {
    "duration": 6,
    "start_time": "2022-03-26T16:17:22.308Z"
   },
   {
    "duration": 14,
    "start_time": "2022-03-26T16:17:23.459Z"
   },
   {
    "duration": 12,
    "start_time": "2022-03-26T16:17:24.474Z"
   },
   {
    "duration": 11,
    "start_time": "2022-03-26T16:17:24.723Z"
   },
   {
    "duration": 12,
    "start_time": "2022-03-26T16:17:25.721Z"
   },
   {
    "duration": 11,
    "start_time": "2022-03-26T16:17:25.963Z"
   },
   {
    "duration": 13,
    "start_time": "2022-03-26T16:17:26.379Z"
   },
   {
    "duration": 13,
    "start_time": "2022-03-26T16:17:26.772Z"
   },
   {
    "duration": 11,
    "start_time": "2022-03-26T16:17:27.535Z"
   },
   {
    "duration": 6,
    "start_time": "2022-03-26T16:17:27.947Z"
   },
   {
    "duration": 16,
    "start_time": "2022-03-26T16:17:28.533Z"
   },
   {
    "duration": 6,
    "start_time": "2022-03-26T16:17:30.891Z"
   },
   {
    "duration": 6,
    "start_time": "2022-03-26T16:17:31.441Z"
   },
   {
    "duration": 5,
    "start_time": "2022-03-26T16:17:32.211Z"
   },
   {
    "duration": 4,
    "start_time": "2022-03-26T16:17:32.397Z"
   },
   {
    "duration": 4,
    "start_time": "2022-03-26T16:17:32.599Z"
   },
   {
    "duration": 5,
    "start_time": "2022-03-26T16:17:32.924Z"
   },
   {
    "duration": 17,
    "start_time": "2022-03-26T16:17:33.132Z"
   },
   {
    "duration": 4,
    "start_time": "2022-03-26T16:17:35.995Z"
   },
   {
    "duration": 4,
    "start_time": "2022-03-26T16:17:36.548Z"
   },
   {
    "duration": 10,
    "start_time": "2022-03-26T16:17:37.385Z"
   },
   {
    "duration": 9,
    "start_time": "2022-03-26T16:17:37.607Z"
   },
   {
    "duration": 16,
    "start_time": "2022-03-26T16:17:38.232Z"
   },
   {
    "duration": 314,
    "start_time": "2022-03-26T16:17:39.160Z"
   },
   {
    "duration": 4,
    "start_time": "2022-03-26T16:17:39.571Z"
   },
   {
    "duration": 4,
    "start_time": "2022-03-26T16:17:39.762Z"
   },
   {
    "duration": 25,
    "start_time": "2022-03-26T16:17:40.057Z"
   },
   {
    "duration": 496,
    "start_time": "2022-03-26T16:17:41.026Z"
   },
   {
    "duration": 22,
    "start_time": "2022-03-26T16:17:41.524Z"
   },
   {
    "duration": 4,
    "start_time": "2022-03-26T16:17:43.781Z"
   },
   {
    "duration": 4,
    "start_time": "2022-03-26T16:17:45.361Z"
   },
   {
    "duration": 5,
    "start_time": "2022-03-26T16:17:46.099Z"
   },
   {
    "duration": 286,
    "start_time": "2022-03-26T16:17:47.347Z"
   },
   {
    "duration": 198,
    "start_time": "2022-03-26T16:17:49.377Z"
   },
   {
    "duration": 287,
    "start_time": "2022-03-26T16:17:50.822Z"
   },
   {
    "duration": 13,
    "start_time": "2022-03-26T16:17:52.232Z"
   },
   {
    "duration": 204,
    "start_time": "2022-03-26T16:17:52.792Z"
   },
   {
    "duration": 169,
    "start_time": "2022-03-26T16:17:53.412Z"
   },
   {
    "duration": 9,
    "start_time": "2022-03-26T16:17:55.282Z"
   },
   {
    "duration": 11,
    "start_time": "2022-03-26T16:17:55.552Z"
   },
   {
    "duration": 9,
    "start_time": "2022-03-26T16:17:56.079Z"
   },
   {
    "duration": 8,
    "start_time": "2022-03-26T16:17:56.444Z"
   },
   {
    "duration": 8,
    "start_time": "2022-03-26T16:17:56.802Z"
   },
   {
    "duration": 9,
    "start_time": "2022-03-26T16:17:57.203Z"
   },
   {
    "duration": 7,
    "start_time": "2022-03-26T16:18:12.021Z"
   },
   {
    "duration": 7,
    "start_time": "2022-03-26T16:18:54.358Z"
   },
   {
    "duration": 6,
    "start_time": "2022-03-26T16:18:56.438Z"
   },
   {
    "duration": 5,
    "start_time": "2022-03-26T16:18:59.964Z"
   },
   {
    "duration": 454,
    "start_time": "2022-03-26T16:19:23.500Z"
   },
   {
    "duration": 129,
    "start_time": "2022-03-26T16:19:23.956Z"
   },
   {
    "duration": 18,
    "start_time": "2022-03-26T16:19:24.087Z"
   },
   {
    "duration": 25,
    "start_time": "2022-03-26T16:19:24.107Z"
   },
   {
    "duration": 14,
    "start_time": "2022-03-26T16:19:24.170Z"
   },
   {
    "duration": 4,
    "start_time": "2022-03-26T16:19:24.504Z"
   },
   {
    "duration": 26,
    "start_time": "2022-03-26T16:19:25.384Z"
   },
   {
    "duration": 29,
    "start_time": "2022-03-26T16:19:25.899Z"
   },
   {
    "duration": 14,
    "start_time": "2022-03-26T16:19:26.401Z"
   },
   {
    "duration": 5,
    "start_time": "2022-03-26T16:19:26.912Z"
   },
   {
    "duration": 6,
    "start_time": "2022-03-26T16:19:27.126Z"
   },
   {
    "duration": 8,
    "start_time": "2022-03-26T16:19:27.290Z"
   },
   {
    "duration": 4,
    "start_time": "2022-03-26T16:19:27.489Z"
   },
   {
    "duration": 5,
    "start_time": "2022-03-26T16:19:27.680Z"
   },
   {
    "duration": 6,
    "start_time": "2022-03-26T16:19:28.080Z"
   },
   {
    "duration": 8,
    "start_time": "2022-03-26T16:19:28.265Z"
   },
   {
    "duration": 5,
    "start_time": "2022-03-26T16:19:28.478Z"
   },
   {
    "duration": 6,
    "start_time": "2022-03-26T16:19:28.692Z"
   },
   {
    "duration": 8,
    "start_time": "2022-03-26T16:19:29.062Z"
   },
   {
    "duration": 6,
    "start_time": "2022-03-26T16:19:29.624Z"
   },
   {
    "duration": 5,
    "start_time": "2022-03-26T16:19:29.808Z"
   },
   {
    "duration": 6,
    "start_time": "2022-03-26T16:19:30.013Z"
   },
   {
    "duration": 5,
    "start_time": "2022-03-26T16:19:30.612Z"
   },
   {
    "duration": 11,
    "start_time": "2022-03-26T16:19:30.794Z"
   },
   {
    "duration": 5,
    "start_time": "2022-03-26T16:19:30.987Z"
   },
   {
    "duration": 6,
    "start_time": "2022-03-26T16:19:31.173Z"
   },
   {
    "duration": 5,
    "start_time": "2022-03-26T16:19:31.360Z"
   },
   {
    "duration": 5,
    "start_time": "2022-03-26T16:19:31.882Z"
   },
   {
    "duration": 7,
    "start_time": "2022-03-26T16:19:32.218Z"
   },
   {
    "duration": 7,
    "start_time": "2022-03-26T16:19:32.361Z"
   },
   {
    "duration": 12,
    "start_time": "2022-03-26T16:19:32.645Z"
   },
   {
    "duration": 16,
    "start_time": "2022-03-26T16:19:33.292Z"
   },
   {
    "duration": 18,
    "start_time": "2022-03-26T16:19:33.466Z"
   },
   {
    "duration": 15,
    "start_time": "2022-03-26T16:19:33.803Z"
   },
   {
    "duration": 15,
    "start_time": "2022-03-26T16:19:33.971Z"
   },
   {
    "duration": 15,
    "start_time": "2022-03-26T16:19:34.159Z"
   },
   {
    "duration": 22,
    "start_time": "2022-03-26T16:19:34.505Z"
   },
   {
    "duration": 12,
    "start_time": "2022-03-26T16:19:34.865Z"
   },
   {
    "duration": 6,
    "start_time": "2022-03-26T16:19:35.019Z"
   },
   {
    "duration": 22,
    "start_time": "2022-03-26T16:19:35.186Z"
   },
   {
    "duration": 7,
    "start_time": "2022-03-26T16:19:35.693Z"
   },
   {
    "duration": 6,
    "start_time": "2022-03-26T16:19:35.870Z"
   },
   {
    "duration": 6,
    "start_time": "2022-03-26T16:19:36.045Z"
   },
   {
    "duration": 5,
    "start_time": "2022-03-26T16:19:36.219Z"
   },
   {
    "duration": 5,
    "start_time": "2022-03-26T16:19:36.393Z"
   },
   {
    "duration": 6,
    "start_time": "2022-03-26T16:19:36.575Z"
   },
   {
    "duration": 21,
    "start_time": "2022-03-26T16:19:36.765Z"
   },
   {
    "duration": 5,
    "start_time": "2022-03-26T16:19:37.476Z"
   },
   {
    "duration": 4,
    "start_time": "2022-03-26T16:19:37.663Z"
   },
   {
    "duration": 15,
    "start_time": "2022-03-26T16:19:38.215Z"
   },
   {
    "duration": 15,
    "start_time": "2022-03-26T16:19:38.409Z"
   },
   {
    "duration": 16,
    "start_time": "2022-03-26T16:19:38.775Z"
   },
   {
    "duration": 298,
    "start_time": "2022-03-26T16:19:39.162Z"
   },
   {
    "duration": 5,
    "start_time": "2022-03-26T16:19:39.629Z"
   },
   {
    "duration": 6,
    "start_time": "2022-03-26T16:19:39.829Z"
   },
   {
    "duration": 37,
    "start_time": "2022-03-26T16:19:40.040Z"
   },
   {
    "duration": 303,
    "start_time": "2022-03-26T16:19:40.629Z"
   },
   {
    "duration": 10,
    "start_time": "2022-03-26T16:19:40.935Z"
   },
   {
    "duration": 5,
    "start_time": "2022-03-26T16:19:41.280Z"
   },
   {
    "duration": 5,
    "start_time": "2022-03-26T16:19:41.448Z"
   },
   {
    "duration": 7,
    "start_time": "2022-03-26T16:19:41.631Z"
   },
   {
    "duration": 295,
    "start_time": "2022-03-26T16:19:43.006Z"
   },
   {
    "duration": 209,
    "start_time": "2022-03-26T16:19:43.303Z"
   },
   {
    "duration": 232,
    "start_time": "2022-03-26T16:19:43.514Z"
   },
   {
    "duration": 9,
    "start_time": "2022-03-26T16:19:43.749Z"
   },
   {
    "duration": 274,
    "start_time": "2022-03-26T16:19:43.759Z"
   },
   {
    "duration": 157,
    "start_time": "2022-03-26T16:19:44.035Z"
   },
   {
    "duration": 9,
    "start_time": "2022-03-26T16:19:44.279Z"
   },
   {
    "duration": 11,
    "start_time": "2022-03-26T16:19:44.682Z"
   },
   {
    "duration": 9,
    "start_time": "2022-03-26T16:19:44.956Z"
   },
   {
    "duration": 8,
    "start_time": "2022-03-26T16:19:45.171Z"
   },
   {
    "duration": 8,
    "start_time": "2022-03-26T16:19:45.357Z"
   },
   {
    "duration": 9,
    "start_time": "2022-03-26T16:19:45.540Z"
   },
   {
    "duration": 8,
    "start_time": "2022-03-26T16:19:45.740Z"
   },
   {
    "duration": 7,
    "start_time": "2022-03-26T16:21:55.817Z"
   },
   {
    "duration": 8,
    "start_time": "2022-03-26T16:22:02.444Z"
   },
   {
    "duration": 3,
    "start_time": "2022-03-26T16:22:02.561Z"
   },
   {
    "duration": 9,
    "start_time": "2022-03-26T16:22:03.608Z"
   },
   {
    "duration": 8,
    "start_time": "2022-03-26T16:22:03.735Z"
   },
   {
    "duration": 8,
    "start_time": "2022-03-26T16:22:39.371Z"
   },
   {
    "duration": 9,
    "start_time": "2022-03-26T16:23:12.324Z"
   },
   {
    "duration": 8,
    "start_time": "2022-03-26T16:23:22.227Z"
   },
   {
    "duration": 5,
    "start_time": "2022-03-26T16:32:31.369Z"
   },
   {
    "duration": 8,
    "start_time": "2022-03-26T16:34:03.416Z"
   },
   {
    "duration": 7,
    "start_time": "2022-03-26T16:34:16.846Z"
   },
   {
    "duration": 90,
    "start_time": "2022-03-26T16:34:38.077Z"
   },
   {
    "duration": 7,
    "start_time": "2022-03-26T16:34:40.864Z"
   },
   {
    "duration": 8,
    "start_time": "2022-03-26T16:35:02.037Z"
   },
   {
    "duration": 8,
    "start_time": "2022-03-26T16:35:36.653Z"
   },
   {
    "duration": 8,
    "start_time": "2022-03-26T16:36:00.632Z"
   },
   {
    "duration": 9,
    "start_time": "2022-03-26T16:36:08.061Z"
   },
   {
    "duration": 7,
    "start_time": "2022-03-26T16:36:40.917Z"
   },
   {
    "duration": 7,
    "start_time": "2022-03-26T16:38:15.982Z"
   },
   {
    "duration": 8,
    "start_time": "2022-03-26T16:38:38.379Z"
   },
   {
    "duration": 7,
    "start_time": "2022-03-26T16:39:49.802Z"
   },
   {
    "duration": 8,
    "start_time": "2022-03-26T16:39:52.641Z"
   },
   {
    "duration": 6,
    "start_time": "2022-03-26T16:40:24.616Z"
   },
   {
    "duration": 51,
    "start_time": "2022-03-26T16:40:34.626Z"
   },
   {
    "duration": 6,
    "start_time": "2022-03-26T16:40:34.752Z"
   },
   {
    "duration": 403,
    "start_time": "2022-03-26T16:40:41.453Z"
   },
   {
    "duration": 123,
    "start_time": "2022-03-26T16:40:41.857Z"
   },
   {
    "duration": 17,
    "start_time": "2022-03-26T16:40:41.982Z"
   },
   {
    "duration": 10,
    "start_time": "2022-03-26T16:40:42.100Z"
   },
   {
    "duration": 12,
    "start_time": "2022-03-26T16:40:42.268Z"
   },
   {
    "duration": 4,
    "start_time": "2022-03-26T16:40:42.464Z"
   },
   {
    "duration": 25,
    "start_time": "2022-03-26T16:40:43.545Z"
   },
   {
    "duration": 28,
    "start_time": "2022-03-26T16:40:44.094Z"
   },
   {
    "duration": 12,
    "start_time": "2022-03-26T16:40:44.621Z"
   },
   {
    "duration": 5,
    "start_time": "2022-03-26T16:40:44.964Z"
   },
   {
    "duration": 5,
    "start_time": "2022-03-26T16:40:45.144Z"
   },
   {
    "duration": 8,
    "start_time": "2022-03-26T16:40:45.309Z"
   },
   {
    "duration": 5,
    "start_time": "2022-03-26T16:40:45.487Z"
   },
   {
    "duration": 4,
    "start_time": "2022-03-26T16:40:45.650Z"
   },
   {
    "duration": 5,
    "start_time": "2022-03-26T16:40:46.005Z"
   },
   {
    "duration": 7,
    "start_time": "2022-03-26T16:40:46.188Z"
   },
   {
    "duration": 6,
    "start_time": "2022-03-26T16:40:46.364Z"
   },
   {
    "duration": 6,
    "start_time": "2022-03-26T16:40:46.538Z"
   },
   {
    "duration": 9,
    "start_time": "2022-03-26T16:40:46.723Z"
   },
   {
    "duration": 5,
    "start_time": "2022-03-26T16:40:47.111Z"
   },
   {
    "duration": 5,
    "start_time": "2022-03-26T16:40:47.259Z"
   },
   {
    "duration": 5,
    "start_time": "2022-03-26T16:40:47.444Z"
   },
   {
    "duration": 5,
    "start_time": "2022-03-26T16:40:47.764Z"
   },
   {
    "duration": 10,
    "start_time": "2022-03-26T16:40:48.134Z"
   },
   {
    "duration": 6,
    "start_time": "2022-03-26T16:40:48.314Z"
   },
   {
    "duration": 6,
    "start_time": "2022-03-26T16:40:48.682Z"
   },
   {
    "duration": 5,
    "start_time": "2022-03-26T16:40:48.882Z"
   },
   {
    "duration": 4,
    "start_time": "2022-03-26T16:40:49.443Z"
   },
   {
    "duration": 5,
    "start_time": "2022-03-26T16:40:49.880Z"
   },
   {
    "duration": 6,
    "start_time": "2022-03-26T16:40:50.081Z"
   },
   {
    "duration": 9,
    "start_time": "2022-03-26T16:40:50.501Z"
   },
   {
    "duration": 12,
    "start_time": "2022-03-26T16:40:51.182Z"
   },
   {
    "duration": 12,
    "start_time": "2022-03-26T16:40:51.420Z"
   },
   {
    "duration": 12,
    "start_time": "2022-03-26T16:40:51.652Z"
   },
   {
    "duration": 12,
    "start_time": "2022-03-26T16:40:51.871Z"
   },
   {
    "duration": 12,
    "start_time": "2022-03-26T16:40:52.114Z"
   },
   {
    "duration": 12,
    "start_time": "2022-03-26T16:40:52.535Z"
   },
   {
    "duration": 11,
    "start_time": "2022-03-26T16:40:52.938Z"
   },
   {
    "duration": 6,
    "start_time": "2022-03-26T16:40:53.152Z"
   },
   {
    "duration": 15,
    "start_time": "2022-03-26T16:40:53.406Z"
   },
   {
    "duration": 7,
    "start_time": "2022-03-26T16:40:54.584Z"
   },
   {
    "duration": 5,
    "start_time": "2022-03-26T16:40:54.915Z"
   },
   {
    "duration": 4,
    "start_time": "2022-03-26T16:40:55.243Z"
   },
   {
    "duration": 4,
    "start_time": "2022-03-26T16:40:55.768Z"
   },
   {
    "duration": 4,
    "start_time": "2022-03-26T16:40:56.032Z"
   },
   {
    "duration": 5,
    "start_time": "2022-03-26T16:40:56.221Z"
   },
   {
    "duration": 16,
    "start_time": "2022-03-26T16:40:56.399Z"
   },
   {
    "duration": 4,
    "start_time": "2022-03-26T16:40:57.521Z"
   },
   {
    "duration": 4,
    "start_time": "2022-03-26T16:40:57.768Z"
   },
   {
    "duration": 10,
    "start_time": "2022-03-26T16:40:59.193Z"
   },
   {
    "duration": 9,
    "start_time": "2022-03-26T16:40:59.766Z"
   },
   {
    "duration": 9,
    "start_time": "2022-03-26T16:41:00.648Z"
   },
   {
    "duration": 286,
    "start_time": "2022-03-26T16:41:01.856Z"
   },
   {
    "duration": 6,
    "start_time": "2022-03-26T16:41:04.733Z"
   },
   {
    "duration": 5,
    "start_time": "2022-03-26T16:41:04.862Z"
   },
   {
    "duration": 25,
    "start_time": "2022-03-26T16:41:05.243Z"
   },
   {
    "duration": 305,
    "start_time": "2022-03-26T16:41:06.102Z"
   },
   {
    "duration": 10,
    "start_time": "2022-03-26T16:41:06.858Z"
   },
   {
    "duration": 4,
    "start_time": "2022-03-26T16:41:07.308Z"
   },
   {
    "duration": 5,
    "start_time": "2022-03-26T16:41:07.526Z"
   },
   {
    "duration": 5,
    "start_time": "2022-03-26T16:41:07.735Z"
   },
   {
    "duration": 267,
    "start_time": "2022-03-26T16:41:07.923Z"
   },
   {
    "duration": 186,
    "start_time": "2022-03-26T16:41:08.323Z"
   },
   {
    "duration": 204,
    "start_time": "2022-03-26T16:41:08.678Z"
   },
   {
    "duration": 9,
    "start_time": "2022-03-26T16:41:09.044Z"
   },
   {
    "duration": 259,
    "start_time": "2022-03-26T16:41:09.230Z"
   },
   {
    "duration": 144,
    "start_time": "2022-03-26T16:41:09.492Z"
   },
   {
    "duration": 8,
    "start_time": "2022-03-26T16:41:09.835Z"
   },
   {
    "duration": 8,
    "start_time": "2022-03-26T16:41:10.328Z"
   },
   {
    "duration": 9,
    "start_time": "2022-03-26T16:41:11.643Z"
   },
   {
    "duration": 6,
    "start_time": "2022-03-26T16:41:12.733Z"
   },
   {
    "duration": 8,
    "start_time": "2022-03-26T16:41:13.707Z"
   },
   {
    "duration": 6,
    "start_time": "2022-03-26T16:41:13.803Z"
   },
   {
    "duration": 3,
    "start_time": "2022-03-26T16:41:19.323Z"
   },
   {
    "duration": 7,
    "start_time": "2022-03-26T16:42:01.660Z"
   },
   {
    "duration": 7,
    "start_time": "2022-03-26T16:42:04.756Z"
   },
   {
    "duration": 6,
    "start_time": "2022-03-26T16:42:05.534Z"
   },
   {
    "duration": 7,
    "start_time": "2022-03-26T16:42:07.022Z"
   },
   {
    "duration": 5,
    "start_time": "2022-03-26T16:42:07.146Z"
   },
   {
    "duration": 425,
    "start_time": "2022-03-26T16:42:27.126Z"
   },
   {
    "duration": 117,
    "start_time": "2022-03-26T16:42:27.553Z"
   },
   {
    "duration": 16,
    "start_time": "2022-03-26T16:42:27.788Z"
   },
   {
    "duration": 11,
    "start_time": "2022-03-26T16:42:28.083Z"
   },
   {
    "duration": 11,
    "start_time": "2022-03-26T16:42:28.202Z"
   },
   {
    "duration": 4,
    "start_time": "2022-03-26T16:42:28.374Z"
   },
   {
    "duration": 24,
    "start_time": "2022-03-26T16:42:29.440Z"
   },
   {
    "duration": 28,
    "start_time": "2022-03-26T16:42:29.948Z"
   },
   {
    "duration": 13,
    "start_time": "2022-03-26T16:42:30.328Z"
   },
   {
    "duration": 5,
    "start_time": "2022-03-26T16:42:30.689Z"
   },
   {
    "duration": 6,
    "start_time": "2022-03-26T16:42:30.875Z"
   },
   {
    "duration": 7,
    "start_time": "2022-03-26T16:42:31.045Z"
   },
   {
    "duration": 5,
    "start_time": "2022-03-26T16:42:31.225Z"
   },
   {
    "duration": 5,
    "start_time": "2022-03-26T16:42:31.427Z"
   },
   {
    "duration": 5,
    "start_time": "2022-03-26T16:42:31.800Z"
   },
   {
    "duration": 7,
    "start_time": "2022-03-26T16:42:31.985Z"
   },
   {
    "duration": 5,
    "start_time": "2022-03-26T16:42:32.170Z"
   },
   {
    "duration": 6,
    "start_time": "2022-03-26T16:42:32.414Z"
   },
   {
    "duration": 8,
    "start_time": "2022-03-26T16:42:32.557Z"
   },
   {
    "duration": 5,
    "start_time": "2022-03-26T16:42:32.931Z"
   },
   {
    "duration": 5,
    "start_time": "2022-03-26T16:42:33.114Z"
   },
   {
    "duration": 4,
    "start_time": "2022-03-26T16:42:33.294Z"
   },
   {
    "duration": 5,
    "start_time": "2022-03-26T16:42:33.656Z"
   },
   {
    "duration": 11,
    "start_time": "2022-03-26T16:42:33.828Z"
   },
   {
    "duration": 5,
    "start_time": "2022-03-26T16:42:33.964Z"
   },
   {
    "duration": 5,
    "start_time": "2022-03-26T16:42:34.050Z"
   },
   {
    "duration": 4,
    "start_time": "2022-03-26T16:42:34.274Z"
   },
   {
    "duration": 4,
    "start_time": "2022-03-26T16:42:34.573Z"
   },
   {
    "duration": 5,
    "start_time": "2022-03-26T16:42:34.678Z"
   },
   {
    "duration": 5,
    "start_time": "2022-03-26T16:42:34.815Z"
   },
   {
    "duration": 10,
    "start_time": "2022-03-26T16:42:34.985Z"
   },
   {
    "duration": 12,
    "start_time": "2022-03-26T16:42:35.269Z"
   },
   {
    "duration": 11,
    "start_time": "2022-03-26T16:42:35.393Z"
   },
   {
    "duration": 11,
    "start_time": "2022-03-26T16:42:35.468Z"
   },
   {
    "duration": 11,
    "start_time": "2022-03-26T16:42:35.608Z"
   },
   {
    "duration": 11,
    "start_time": "2022-03-26T16:42:35.689Z"
   },
   {
    "duration": 12,
    "start_time": "2022-03-26T16:42:35.895Z"
   },
   {
    "duration": 9,
    "start_time": "2022-03-26T16:42:36.204Z"
   },
   {
    "duration": 6,
    "start_time": "2022-03-26T16:42:36.304Z"
   },
   {
    "duration": 16,
    "start_time": "2022-03-26T16:42:36.380Z"
   },
   {
    "duration": 6,
    "start_time": "2022-03-26T16:42:36.664Z"
   },
   {
    "duration": 6,
    "start_time": "2022-03-26T16:42:36.863Z"
   },
   {
    "duration": 4,
    "start_time": "2022-03-26T16:42:37.056Z"
   },
   {
    "duration": 4,
    "start_time": "2022-03-26T16:42:37.242Z"
   },
   {
    "duration": 4,
    "start_time": "2022-03-26T16:42:37.435Z"
   },
   {
    "duration": 5,
    "start_time": "2022-03-26T16:42:37.629Z"
   },
   {
    "duration": 17,
    "start_time": "2022-03-26T16:42:37.824Z"
   },
   {
    "duration": 5,
    "start_time": "2022-03-26T16:42:38.601Z"
   },
   {
    "duration": 4,
    "start_time": "2022-03-26T16:42:38.862Z"
   },
   {
    "duration": 11,
    "start_time": "2022-03-26T16:42:39.390Z"
   },
   {
    "duration": 11,
    "start_time": "2022-03-26T16:42:39.460Z"
   },
   {
    "duration": 11,
    "start_time": "2022-03-26T16:42:39.679Z"
   },
   {
    "duration": 271,
    "start_time": "2022-03-26T16:42:40.105Z"
   },
   {
    "duration": 4,
    "start_time": "2022-03-26T16:42:40.512Z"
   },
   {
    "duration": 5,
    "start_time": "2022-03-26T16:42:40.692Z"
   },
   {
    "duration": 29,
    "start_time": "2022-03-26T16:42:40.879Z"
   },
   {
    "duration": 285,
    "start_time": "2022-03-26T16:42:41.463Z"
   },
   {
    "duration": 9,
    "start_time": "2022-03-26T16:42:41.750Z"
   },
   {
    "duration": 4,
    "start_time": "2022-03-26T16:42:42.157Z"
   },
   {
    "duration": 4,
    "start_time": "2022-03-26T16:42:42.301Z"
   },
   {
    "duration": 5,
    "start_time": "2022-03-26T16:42:42.369Z"
   },
   {
    "duration": 269,
    "start_time": "2022-03-26T16:42:42.518Z"
   },
   {
    "duration": 207,
    "start_time": "2022-03-26T16:42:43.011Z"
   },
   {
    "duration": 203,
    "start_time": "2022-03-26T16:42:43.858Z"
   },
   {
    "duration": 10,
    "start_time": "2022-03-26T16:42:44.788Z"
   },
   {
    "duration": 254,
    "start_time": "2022-03-26T16:42:45.300Z"
   },
   {
    "duration": 145,
    "start_time": "2022-03-26T16:42:45.751Z"
   },
   {
    "duration": 11,
    "start_time": "2022-03-26T16:42:46.530Z"
   },
   {
    "duration": 8,
    "start_time": "2022-03-26T16:42:47.391Z"
   },
   {
    "duration": 14,
    "start_time": "2022-03-26T16:42:49.501Z"
   },
   {
    "duration": 8,
    "start_time": "2022-03-26T16:42:50.105Z"
   },
   {
    "duration": 9,
    "start_time": "2022-03-26T16:42:50.226Z"
   },
   {
    "duration": 8,
    "start_time": "2022-03-26T16:42:52.889Z"
   },
   {
    "duration": 3,
    "start_time": "2022-03-26T16:42:58.782Z"
   },
   {
    "duration": 11,
    "start_time": "2022-03-26T16:43:00.438Z"
   },
   {
    "duration": 8,
    "start_time": "2022-03-26T16:43:01.335Z"
   },
   {
    "duration": 27,
    "start_time": "2022-03-26T16:44:43.810Z"
   },
   {
    "duration": 399,
    "start_time": "2022-03-26T16:53:53.552Z"
   },
   {
    "duration": 124,
    "start_time": "2022-03-26T16:53:54.057Z"
   },
   {
    "duration": 16,
    "start_time": "2022-03-26T16:53:54.270Z"
   },
   {
    "duration": 11,
    "start_time": "2022-03-26T16:53:54.363Z"
   },
   {
    "duration": 13,
    "start_time": "2022-03-26T16:53:54.433Z"
   },
   {
    "duration": 4,
    "start_time": "2022-03-26T16:53:54.601Z"
   },
   {
    "duration": 23,
    "start_time": "2022-03-26T16:53:55.970Z"
   },
   {
    "duration": 29,
    "start_time": "2022-03-26T16:53:56.449Z"
   },
   {
    "duration": 13,
    "start_time": "2022-03-26T16:53:56.926Z"
   },
   {
    "duration": 5,
    "start_time": "2022-03-26T16:53:57.268Z"
   },
   {
    "duration": 5,
    "start_time": "2022-03-26T16:53:57.432Z"
   },
   {
    "duration": 8,
    "start_time": "2022-03-26T16:53:57.612Z"
   },
   {
    "duration": 5,
    "start_time": "2022-03-26T16:53:57.807Z"
   },
   {
    "duration": 4,
    "start_time": "2022-03-26T16:53:57.978Z"
   },
   {
    "duration": 5,
    "start_time": "2022-03-26T16:53:58.324Z"
   },
   {
    "duration": 7,
    "start_time": "2022-03-26T16:53:58.502Z"
   },
   {
    "duration": 6,
    "start_time": "2022-03-26T16:53:58.712Z"
   },
   {
    "duration": 6,
    "start_time": "2022-03-26T16:53:58.845Z"
   },
   {
    "duration": 9,
    "start_time": "2022-03-26T16:53:59.008Z"
   },
   {
    "duration": 6,
    "start_time": "2022-03-26T16:53:59.379Z"
   },
   {
    "duration": 6,
    "start_time": "2022-03-26T16:53:59.691Z"
   },
   {
    "duration": 5,
    "start_time": "2022-03-26T16:53:59.879Z"
   },
   {
    "duration": 5,
    "start_time": "2022-03-26T16:54:00.251Z"
   },
   {
    "duration": 12,
    "start_time": "2022-03-26T16:54:00.473Z"
   },
   {
    "duration": 6,
    "start_time": "2022-03-26T16:54:00.796Z"
   },
   {
    "duration": 6,
    "start_time": "2022-03-26T16:54:00.975Z"
   },
   {
    "duration": 7,
    "start_time": "2022-03-26T16:54:01.163Z"
   },
   {
    "duration": 4,
    "start_time": "2022-03-26T16:54:01.826Z"
   },
   {
    "duration": 5,
    "start_time": "2022-03-26T16:54:02.250Z"
   },
   {
    "duration": 6,
    "start_time": "2022-03-26T16:54:02.436Z"
   },
   {
    "duration": 10,
    "start_time": "2022-03-26T16:54:02.739Z"
   },
   {
    "duration": 13,
    "start_time": "2022-03-26T16:54:04.692Z"
   },
   {
    "duration": 11,
    "start_time": "2022-03-26T16:54:04.897Z"
   },
   {
    "duration": 12,
    "start_time": "2022-03-26T16:54:05.091Z"
   },
   {
    "duration": 12,
    "start_time": "2022-03-26T16:54:05.276Z"
   },
   {
    "duration": 11,
    "start_time": "2022-03-26T16:54:05.470Z"
   },
   {
    "duration": 13,
    "start_time": "2022-03-26T16:54:06.018Z"
   },
   {
    "duration": 9,
    "start_time": "2022-03-26T16:54:06.943Z"
   },
   {
    "duration": 6,
    "start_time": "2022-03-26T16:54:07.138Z"
   },
   {
    "duration": 15,
    "start_time": "2022-03-26T16:54:07.316Z"
   },
   {
    "duration": 5,
    "start_time": "2022-03-26T16:56:56.377Z"
   },
   {
    "duration": 15,
    "start_time": "2022-03-26T16:56:56.764Z"
   },
   {
    "duration": 6,
    "start_time": "2022-03-26T16:56:57.252Z"
   },
   {
    "duration": 5,
    "start_time": "2022-03-26T16:56:57.569Z"
   },
   {
    "duration": 4,
    "start_time": "2022-03-26T16:56:57.992Z"
   },
   {
    "duration": 4,
    "start_time": "2022-03-26T16:56:58.132Z"
   },
   {
    "duration": 5,
    "start_time": "2022-03-26T16:56:58.231Z"
   },
   {
    "duration": 5,
    "start_time": "2022-03-26T16:56:58.323Z"
   },
   {
    "duration": 15,
    "start_time": "2022-03-26T16:56:58.426Z"
   },
   {
    "duration": 4,
    "start_time": "2022-03-26T16:56:59.137Z"
   },
   {
    "duration": 4,
    "start_time": "2022-03-26T16:56:59.214Z"
   },
   {
    "duration": 10,
    "start_time": "2022-03-26T16:56:59.605Z"
   },
   {
    "duration": 9,
    "start_time": "2022-03-26T16:56:59.780Z"
   },
   {
    "duration": 10,
    "start_time": "2022-03-26T16:57:00.269Z"
   },
   {
    "duration": 279,
    "start_time": "2022-03-26T16:57:00.751Z"
   },
   {
    "duration": 4,
    "start_time": "2022-03-26T16:57:01.143Z"
   },
   {
    "duration": 5,
    "start_time": "2022-03-26T16:57:01.519Z"
   },
   {
    "duration": 25,
    "start_time": "2022-03-26T16:57:01.744Z"
   },
   {
    "duration": 293,
    "start_time": "2022-03-26T16:57:02.457Z"
   },
   {
    "duration": 11,
    "start_time": "2022-03-26T16:57:02.752Z"
   },
   {
    "duration": 5,
    "start_time": "2022-03-26T16:57:03.066Z"
   },
   {
    "duration": 4,
    "start_time": "2022-03-26T16:57:03.335Z"
   },
   {
    "duration": 6,
    "start_time": "2022-03-26T16:57:03.566Z"
   },
   {
    "duration": 281,
    "start_time": "2022-03-26T16:57:03.727Z"
   },
   {
    "duration": 190,
    "start_time": "2022-03-26T16:57:04.362Z"
   },
   {
    "duration": 200,
    "start_time": "2022-03-26T16:57:04.809Z"
   },
   {
    "duration": 9,
    "start_time": "2022-03-26T16:57:05.200Z"
   },
   {
    "duration": 243,
    "start_time": "2022-03-26T16:57:05.420Z"
   },
   {
    "duration": 144,
    "start_time": "2022-03-26T16:57:05.665Z"
   },
   {
    "duration": 8,
    "start_time": "2022-03-26T16:57:06.820Z"
   },
   {
    "duration": 8,
    "start_time": "2022-03-26T16:57:07.333Z"
   },
   {
    "duration": 14,
    "start_time": "2022-03-26T16:57:08.330Z"
   },
   {
    "duration": 8,
    "start_time": "2022-03-26T16:57:08.416Z"
   },
   {
    "duration": 9,
    "start_time": "2022-03-26T16:57:09.131Z"
   },
   {
    "duration": 8,
    "start_time": "2022-03-26T16:57:09.912Z"
   },
   {
    "duration": 2,
    "start_time": "2022-03-26T16:57:10.746Z"
   },
   {
    "duration": 10,
    "start_time": "2022-03-26T16:57:11.387Z"
   },
   {
    "duration": 8,
    "start_time": "2022-03-26T16:57:11.949Z"
   },
   {
    "duration": 10,
    "start_time": "2022-03-26T16:57:14.821Z"
   },
   {
    "duration": 175,
    "start_time": "2022-03-26T16:57:15.415Z"
   },
   {
    "duration": 114,
    "start_time": "2022-03-26T16:57:16.036Z"
   },
   {
    "duration": 128,
    "start_time": "2022-03-26T16:57:17.178Z"
   },
   {
    "duration": 29,
    "start_time": "2022-03-26T16:57:18.862Z"
   },
   {
    "duration": 11,
    "start_time": "2022-03-26T16:57:18.984Z"
   },
   {
    "duration": 179,
    "start_time": "2022-03-26T16:57:19.826Z"
   },
   {
    "duration": 9,
    "start_time": "2022-03-26T16:57:20.007Z"
   },
   {
    "duration": 166,
    "start_time": "2022-03-26T16:57:21.165Z"
   },
   {
    "duration": 10,
    "start_time": "2022-03-26T16:57:21.744Z"
   },
   {
    "duration": 10,
    "start_time": "2022-03-26T16:57:23.061Z"
   },
   {
    "duration": 115,
    "start_time": "2022-03-26T16:57:23.713Z"
   },
   {
    "duration": 5,
    "start_time": "2022-03-26T16:57:24.441Z"
   },
   {
    "duration": 5,
    "start_time": "2022-03-26T16:57:25.159Z"
   },
   {
    "duration": 5,
    "start_time": "2022-03-26T16:57:25.268Z"
   },
   {
    "duration": 5,
    "start_time": "2022-03-26T16:57:25.721Z"
   },
   {
    "duration": 34,
    "start_time": "2022-03-26T16:57:26.110Z"
   },
   {
    "duration": 12,
    "start_time": "2022-03-26T16:57:26.321Z"
   },
   {
    "duration": 263,
    "start_time": "2022-03-26T16:57:26.869Z"
   },
   {
    "duration": 193,
    "start_time": "2022-03-26T16:57:27.134Z"
   },
   {
    "duration": 5,
    "start_time": "2022-03-26T16:57:27.842Z"
   },
   {
    "duration": 155,
    "start_time": "2022-03-26T16:57:28.488Z"
   },
   {
    "duration": 6,
    "start_time": "2022-03-26T16:57:28.911Z"
   },
   {
    "duration": 240,
    "start_time": "2022-03-26T16:57:30.319Z"
   },
   {
    "duration": 7,
    "start_time": "2022-03-26T16:57:30.561Z"
   },
   {
    "duration": 222,
    "start_time": "2022-03-26T16:57:31.400Z"
   },
   {
    "duration": 7,
    "start_time": "2022-03-26T16:57:32.093Z"
   },
   {
    "duration": 135,
    "start_time": "2022-03-26T16:57:34.408Z"
   },
   {
    "duration": 153,
    "start_time": "2022-03-26T16:57:34.962Z"
   },
   {
    "duration": 131,
    "start_time": "2022-03-26T16:57:35.509Z"
   },
   {
    "duration": 9,
    "start_time": "2022-03-26T17:09:48.733Z"
   },
   {
    "duration": 110,
    "start_time": "2022-03-26T17:09:52.893Z"
   },
   {
    "duration": 115,
    "start_time": "2022-03-26T17:10:51.974Z"
   },
   {
    "duration": 4,
    "start_time": "2022-03-26T17:11:00.693Z"
   },
   {
    "duration": 5,
    "start_time": "2022-03-26T17:11:04.300Z"
   },
   {
    "duration": 6,
    "start_time": "2022-03-26T17:11:09.324Z"
   },
   {
    "duration": 6,
    "start_time": "2022-03-26T17:11:15.399Z"
   },
   {
    "duration": 33,
    "start_time": "2022-03-26T17:11:59.018Z"
   },
   {
    "duration": 7,
    "start_time": "2022-03-26T17:16:04.697Z"
   },
   {
    "duration": 7,
    "start_time": "2022-03-26T17:16:17.731Z"
   },
   {
    "duration": 260,
    "start_time": "2022-03-26T17:16:26.218Z"
   },
   {
    "duration": 178,
    "start_time": "2022-03-26T17:16:33.852Z"
   },
   {
    "duration": 6,
    "start_time": "2022-03-26T17:16:41.521Z"
   },
   {
    "duration": 149,
    "start_time": "2022-03-26T17:17:05.819Z"
   },
   {
    "duration": 6,
    "start_time": "2022-03-26T17:17:31.313Z"
   },
   {
    "duration": 149,
    "start_time": "2022-03-26T17:18:09.305Z"
   },
   {
    "duration": 7,
    "start_time": "2022-03-26T17:18:16.161Z"
   },
   {
    "duration": 271,
    "start_time": "2022-03-26T17:19:01.505Z"
   },
   {
    "duration": 5,
    "start_time": "2022-03-26T17:19:12.907Z"
   },
   {
    "duration": 143,
    "start_time": "2022-03-26T17:19:29.747Z"
   },
   {
    "duration": 252,
    "start_time": "2022-03-26T17:19:47.016Z"
   },
   {
    "duration": 137,
    "start_time": "2022-03-26T17:19:58.611Z"
   },
   {
    "duration": 83,
    "start_time": "2022-03-26T17:23:47.862Z"
   },
   {
    "duration": 13,
    "start_time": "2022-03-26T17:25:27.318Z"
   },
   {
    "duration": 8,
    "start_time": "2022-03-26T17:31:20.400Z"
   },
   {
    "duration": 9,
    "start_time": "2022-03-26T17:32:44.472Z"
   },
   {
    "duration": 444,
    "start_time": "2022-03-26T17:34:05.949Z"
   },
   {
    "duration": 2404,
    "start_time": "2022-03-26T17:34:09.939Z"
   },
   {
    "duration": 2545,
    "start_time": "2022-03-26T17:34:54.498Z"
   },
   {
    "duration": 3,
    "start_time": "2022-03-26T17:35:08.769Z"
   },
   {
    "duration": 427,
    "start_time": "2022-03-26T17:46:23.399Z"
   },
   {
    "duration": 115,
    "start_time": "2022-03-26T17:46:23.827Z"
   },
   {
    "duration": 15,
    "start_time": "2022-03-26T17:46:23.966Z"
   },
   {
    "duration": 10,
    "start_time": "2022-03-26T17:46:24.271Z"
   },
   {
    "duration": 12,
    "start_time": "2022-03-26T17:46:24.518Z"
   },
   {
    "duration": 4,
    "start_time": "2022-03-26T17:46:24.804Z"
   },
   {
    "duration": 27,
    "start_time": "2022-03-26T17:46:26.057Z"
   },
   {
    "duration": 28,
    "start_time": "2022-03-26T17:46:26.561Z"
   },
   {
    "duration": 13,
    "start_time": "2022-03-26T17:46:27.084Z"
   },
   {
    "duration": 6,
    "start_time": "2022-03-26T17:46:27.449Z"
   },
   {
    "duration": 6,
    "start_time": "2022-03-26T17:46:27.638Z"
   },
   {
    "duration": 8,
    "start_time": "2022-03-26T17:46:27.820Z"
   },
   {
    "duration": 5,
    "start_time": "2022-03-26T17:46:28.015Z"
   },
   {
    "duration": 6,
    "start_time": "2022-03-26T17:46:28.192Z"
   },
   {
    "duration": 5,
    "start_time": "2022-03-26T17:46:28.559Z"
   },
   {
    "duration": 8,
    "start_time": "2022-03-26T17:46:28.753Z"
   },
   {
    "duration": 6,
    "start_time": "2022-03-26T17:46:28.914Z"
   },
   {
    "duration": 7,
    "start_time": "2022-03-26T17:46:29.087Z"
   },
   {
    "duration": 8,
    "start_time": "2022-03-26T17:46:29.275Z"
   },
   {
    "duration": 6,
    "start_time": "2022-03-26T17:46:29.649Z"
   },
   {
    "duration": 5,
    "start_time": "2022-03-26T17:46:29.836Z"
   },
   {
    "duration": 6,
    "start_time": "2022-03-26T17:46:30.020Z"
   },
   {
    "duration": 5,
    "start_time": "2022-03-26T17:46:30.383Z"
   },
   {
    "duration": 11,
    "start_time": "2022-03-26T17:46:30.548Z"
   },
   {
    "duration": 7,
    "start_time": "2022-03-26T17:46:30.730Z"
   },
   {
    "duration": 6,
    "start_time": "2022-03-26T17:46:30.906Z"
   },
   {
    "duration": 7,
    "start_time": "2022-03-26T17:46:31.100Z"
   },
   {
    "duration": 4,
    "start_time": "2022-03-26T17:46:31.700Z"
   },
   {
    "duration": 7,
    "start_time": "2022-03-26T17:46:32.104Z"
   },
   {
    "duration": 7,
    "start_time": "2022-03-26T17:46:32.289Z"
   },
   {
    "duration": 14,
    "start_time": "2022-03-26T17:46:32.685Z"
   },
   {
    "duration": 17,
    "start_time": "2022-03-26T17:46:33.495Z"
   },
   {
    "duration": 16,
    "start_time": "2022-03-26T17:46:33.585Z"
   },
   {
    "duration": 17,
    "start_time": "2022-03-26T17:46:33.825Z"
   },
   {
    "duration": 16,
    "start_time": "2022-03-26T17:46:34.094Z"
   },
   {
    "duration": 11,
    "start_time": "2022-03-26T17:46:34.226Z"
   },
   {
    "duration": 12,
    "start_time": "2022-03-26T17:46:34.489Z"
   },
   {
    "duration": 438,
    "start_time": "2022-03-26T17:47:21.093Z"
   },
   {
    "duration": 132,
    "start_time": "2022-03-26T17:47:21.539Z"
   },
   {
    "duration": 18,
    "start_time": "2022-03-26T17:47:21.673Z"
   },
   {
    "duration": 10,
    "start_time": "2022-03-26T17:47:21.760Z"
   },
   {
    "duration": 12,
    "start_time": "2022-03-26T17:47:21.979Z"
   },
   {
    "duration": 4,
    "start_time": "2022-03-26T17:47:22.204Z"
   },
   {
    "duration": 27,
    "start_time": "2022-03-26T17:47:23.338Z"
   },
   {
    "duration": 28,
    "start_time": "2022-03-26T17:47:23.975Z"
   },
   {
    "duration": 12,
    "start_time": "2022-03-26T17:47:24.603Z"
   },
   {
    "duration": 4,
    "start_time": "2022-03-26T17:47:25.023Z"
   },
   {
    "duration": 5,
    "start_time": "2022-03-26T17:47:25.229Z"
   },
   {
    "duration": 7,
    "start_time": "2022-03-26T17:47:25.421Z"
   },
   {
    "duration": 5,
    "start_time": "2022-03-26T17:47:25.600Z"
   },
   {
    "duration": 5,
    "start_time": "2022-03-26T17:47:25.793Z"
   },
   {
    "duration": 5,
    "start_time": "2022-03-26T17:47:26.167Z"
   },
   {
    "duration": 7,
    "start_time": "2022-03-26T17:47:26.344Z"
   },
   {
    "duration": 6,
    "start_time": "2022-03-26T17:47:26.508Z"
   },
   {
    "duration": 7,
    "start_time": "2022-03-26T17:47:26.709Z"
   },
   {
    "duration": 8,
    "start_time": "2022-03-26T17:47:26.881Z"
   },
   {
    "duration": 5,
    "start_time": "2022-03-26T17:47:27.271Z"
   },
   {
    "duration": 5,
    "start_time": "2022-03-26T17:47:27.454Z"
   },
   {
    "duration": 5,
    "start_time": "2022-03-26T17:47:27.624Z"
   },
   {
    "duration": 5,
    "start_time": "2022-03-26T17:47:27.993Z"
   },
   {
    "duration": 10,
    "start_time": "2022-03-26T17:47:28.194Z"
   },
   {
    "duration": 5,
    "start_time": "2022-03-26T17:47:28.378Z"
   },
   {
    "duration": 5,
    "start_time": "2022-03-26T17:47:28.562Z"
   },
   {
    "duration": 5,
    "start_time": "2022-03-26T17:47:28.738Z"
   },
   {
    "duration": 4,
    "start_time": "2022-03-26T17:47:29.322Z"
   },
   {
    "duration": 5,
    "start_time": "2022-03-26T17:47:29.745Z"
   },
   {
    "duration": 6,
    "start_time": "2022-03-26T17:47:29.934Z"
   },
   {
    "duration": 9,
    "start_time": "2022-03-26T17:47:30.327Z"
   },
   {
    "duration": 12,
    "start_time": "2022-03-26T17:47:30.920Z"
   },
   {
    "duration": 12,
    "start_time": "2022-03-26T17:47:31.128Z"
   },
   {
    "duration": 12,
    "start_time": "2022-03-26T17:47:31.312Z"
   },
   {
    "duration": 11,
    "start_time": "2022-03-26T17:47:31.500Z"
   },
   {
    "duration": 11,
    "start_time": "2022-03-26T17:47:31.692Z"
   },
   {
    "duration": 12,
    "start_time": "2022-03-26T17:47:32.063Z"
   },
   {
    "duration": 10,
    "start_time": "2022-03-26T17:47:32.412Z"
   },
   {
    "duration": 6,
    "start_time": "2022-03-26T17:47:32.577Z"
   },
   {
    "duration": 16,
    "start_time": "2022-03-26T17:47:32.858Z"
   },
   {
    "duration": 5,
    "start_time": "2022-03-26T17:47:33.405Z"
   },
   {
    "duration": 5,
    "start_time": "2022-03-26T17:47:33.592Z"
   },
   {
    "duration": 4,
    "start_time": "2022-03-26T17:47:33.812Z"
   },
   {
    "duration": 4,
    "start_time": "2022-03-26T17:47:33.942Z"
   },
   {
    "duration": 4,
    "start_time": "2022-03-26T17:47:34.131Z"
   },
   {
    "duration": 4,
    "start_time": "2022-03-26T17:47:34.338Z"
   },
   {
    "duration": 15,
    "start_time": "2022-03-26T17:47:34.525Z"
   },
   {
    "duration": 3,
    "start_time": "2022-03-26T17:47:35.362Z"
   },
   {
    "duration": 5,
    "start_time": "2022-03-26T17:47:35.567Z"
   },
   {
    "duration": 10,
    "start_time": "2022-03-26T17:47:35.936Z"
   },
   {
    "duration": 11,
    "start_time": "2022-03-26T17:47:36.137Z"
   },
   {
    "duration": 10,
    "start_time": "2022-03-26T17:47:36.539Z"
   },
   {
    "duration": 293,
    "start_time": "2022-03-26T17:47:36.978Z"
   },
   {
    "duration": 5,
    "start_time": "2022-03-26T17:47:37.393Z"
   },
   {
    "duration": 5,
    "start_time": "2022-03-26T17:47:37.600Z"
   },
   {
    "duration": 24,
    "start_time": "2022-03-26T17:47:37.822Z"
   },
   {
    "duration": 302,
    "start_time": "2022-03-26T17:47:38.527Z"
   },
   {
    "duration": 13,
    "start_time": "2022-03-26T17:47:38.831Z"
   },
   {
    "duration": 6,
    "start_time": "2022-03-26T17:47:39.216Z"
   },
   {
    "duration": 6,
    "start_time": "2022-03-26T17:47:39.462Z"
   },
   {
    "duration": 7,
    "start_time": "2022-03-26T17:47:39.701Z"
   },
   {
    "duration": 288,
    "start_time": "2022-03-26T17:47:39.912Z"
   },
   {
    "duration": 206,
    "start_time": "2022-03-26T17:47:40.694Z"
   },
   {
    "duration": 213,
    "start_time": "2022-03-26T17:47:41.193Z"
   },
   {
    "duration": 9,
    "start_time": "2022-03-26T17:47:41.604Z"
   },
   {
    "duration": 267,
    "start_time": "2022-03-26T17:47:43.141Z"
   },
   {
    "duration": 169,
    "start_time": "2022-03-26T17:47:43.411Z"
   },
   {
    "duration": 9,
    "start_time": "2022-03-26T17:47:43.582Z"
   },
   {
    "duration": 11,
    "start_time": "2022-03-26T17:47:43.593Z"
   },
   {
    "duration": 13,
    "start_time": "2022-03-26T17:47:44.168Z"
   },
   {
    "duration": 8,
    "start_time": "2022-03-26T17:47:44.562Z"
   },
   {
    "duration": 10,
    "start_time": "2022-03-26T17:47:44.919Z"
   },
   {
    "duration": 8,
    "start_time": "2022-03-26T17:47:45.288Z"
   },
   {
    "duration": 3,
    "start_time": "2022-03-26T17:47:45.669Z"
   },
   {
    "duration": 11,
    "start_time": "2022-03-26T17:47:46.009Z"
   },
   {
    "duration": 8,
    "start_time": "2022-03-26T17:47:46.402Z"
   },
   {
    "duration": 13,
    "start_time": "2022-03-26T17:47:48.812Z"
   },
   {
    "duration": 181,
    "start_time": "2022-03-26T17:47:49.258Z"
   },
   {
    "duration": 109,
    "start_time": "2022-03-26T17:47:49.758Z"
   },
   {
    "duration": 142,
    "start_time": "2022-03-26T17:47:50.233Z"
   },
   {
    "duration": 29,
    "start_time": "2022-03-26T17:47:50.701Z"
   },
   {
    "duration": 10,
    "start_time": "2022-03-26T17:47:51.173Z"
   },
   {
    "duration": 173,
    "start_time": "2022-03-26T17:47:51.662Z"
   },
   {
    "duration": 8,
    "start_time": "2022-03-26T17:47:52.160Z"
   },
   {
    "duration": 174,
    "start_time": "2022-03-26T17:47:52.661Z"
   },
   {
    "duration": 10,
    "start_time": "2022-03-26T17:47:53.096Z"
   },
   {
    "duration": 9,
    "start_time": "2022-03-26T17:47:54.422Z"
   },
   {
    "duration": 121,
    "start_time": "2022-03-26T17:47:54.862Z"
   },
   {
    "duration": 5,
    "start_time": "2022-03-26T17:47:55.445Z"
   },
   {
    "duration": 5,
    "start_time": "2022-03-26T17:47:55.964Z"
   },
   {
    "duration": 5,
    "start_time": "2022-03-26T17:47:56.490Z"
   },
   {
    "duration": 5,
    "start_time": "2022-03-26T17:47:56.952Z"
   },
   {
    "duration": 50,
    "start_time": "2022-03-26T17:47:57.838Z"
   },
   {
    "duration": 10,
    "start_time": "2022-03-26T17:47:59.394Z"
   },
   {
    "duration": 292,
    "start_time": "2022-03-26T17:48:00.444Z"
   },
   {
    "duration": 203,
    "start_time": "2022-03-26T17:48:00.983Z"
   },
   {
    "duration": 7,
    "start_time": "2022-03-26T17:48:01.853Z"
   },
   {
    "duration": 157,
    "start_time": "2022-03-26T17:48:03.420Z"
   },
   {
    "duration": 6,
    "start_time": "2022-03-26T17:48:03.946Z"
   },
   {
    "duration": 223,
    "start_time": "2022-03-26T17:48:05.459Z"
   },
   {
    "duration": 6,
    "start_time": "2022-03-26T17:48:05.953Z"
   },
   {
    "duration": 268,
    "start_time": "2022-03-26T17:48:07.389Z"
   },
   {
    "duration": 5,
    "start_time": "2022-03-26T17:48:07.922Z"
   },
   {
    "duration": 141,
    "start_time": "2022-03-26T17:48:09.410Z"
   },
   {
    "duration": 172,
    "start_time": "2022-03-26T17:48:10.445Z"
   },
   {
    "duration": 133,
    "start_time": "2022-03-26T17:48:11.886Z"
   },
   {
    "duration": 524,
    "start_time": "2022-03-26T17:48:12.411Z"
   },
   {
    "duration": 2537,
    "start_time": "2022-03-26T17:48:12.937Z"
   },
   {
    "duration": 13,
    "start_time": "2022-03-26T17:48:38.806Z"
   },
   {
    "duration": 2414,
    "start_time": "2022-03-26T17:48:47.480Z"
   },
   {
    "duration": 25,
    "start_time": "2022-03-26T17:53:53.479Z"
   },
   {
    "duration": 5,
    "start_time": "2022-03-26T17:58:39.595Z"
   },
   {
    "duration": 5,
    "start_time": "2022-03-26T17:58:39.741Z"
   },
   {
    "duration": 32,
    "start_time": "2022-03-26T17:58:40.449Z"
   },
   {
    "duration": 195,
    "start_time": "2022-03-26T17:58:42.127Z"
   },
   {
    "duration": 30,
    "start_time": "2022-03-26T17:58:46.302Z"
   },
   {
    "duration": 8,
    "start_time": "2022-03-26T17:58:47.183Z"
   },
   {
    "duration": 173,
    "start_time": "2022-03-26T17:58:47.774Z"
   },
   {
    "duration": 185,
    "start_time": "2022-03-26T17:58:49.164Z"
   },
   {
    "duration": 177,
    "start_time": "2022-03-26T17:58:49.933Z"
   },
   {
    "duration": 165,
    "start_time": "2022-03-26T17:58:50.452Z"
   },
   {
    "duration": 170,
    "start_time": "2022-03-26T17:58:51.711Z"
   },
   {
    "duration": 179,
    "start_time": "2022-03-26T17:58:51.883Z"
   },
   {
    "duration": 169,
    "start_time": "2022-03-26T17:58:53.087Z"
   },
   {
    "duration": 157,
    "start_time": "2022-03-26T17:58:54.609Z"
   },
   {
    "duration": 11,
    "start_time": "2022-03-26T18:00:17.579Z"
   },
   {
    "duration": 145,
    "start_time": "2022-03-26T18:11:05.185Z"
   },
   {
    "duration": 165,
    "start_time": "2022-03-26T18:12:49.930Z"
   },
   {
    "duration": 2458,
    "start_time": "2022-03-26T18:14:21.115Z"
   },
   {
    "duration": 110,
    "start_time": "2022-03-26T18:23:46.877Z"
   },
   {
    "duration": 2638,
    "start_time": "2022-03-26T18:24:10.477Z"
   },
   {
    "duration": 12,
    "start_time": "2022-03-26T18:24:32.422Z"
   },
   {
    "duration": 12,
    "start_time": "2022-03-26T18:24:41.997Z"
   },
   {
    "duration": 410,
    "start_time": "2022-03-26T18:25:01.272Z"
   },
   {
    "duration": 136,
    "start_time": "2022-03-26T18:25:01.750Z"
   },
   {
    "duration": 17,
    "start_time": "2022-03-26T18:25:01.888Z"
   },
   {
    "duration": 10,
    "start_time": "2022-03-26T18:25:02.515Z"
   },
   {
    "duration": 13,
    "start_time": "2022-03-26T18:25:02.626Z"
   },
   {
    "duration": 4,
    "start_time": "2022-03-26T18:25:02.880Z"
   },
   {
    "duration": 25,
    "start_time": "2022-03-26T18:25:04.476Z"
   },
   {
    "duration": 29,
    "start_time": "2022-03-26T18:25:05.089Z"
   },
   {
    "duration": 13,
    "start_time": "2022-03-26T18:25:05.749Z"
   },
   {
    "duration": 5,
    "start_time": "2022-03-26T18:25:06.143Z"
   },
   {
    "duration": 6,
    "start_time": "2022-03-26T18:25:06.348Z"
   },
   {
    "duration": 7,
    "start_time": "2022-03-26T18:25:06.551Z"
   },
   {
    "duration": 5,
    "start_time": "2022-03-26T18:25:06.762Z"
   },
   {
    "duration": 4,
    "start_time": "2022-03-26T18:25:06.963Z"
   },
   {
    "duration": 4,
    "start_time": "2022-03-26T18:25:07.373Z"
   },
   {
    "duration": 8,
    "start_time": "2022-03-26T18:25:07.562Z"
   },
   {
    "duration": 6,
    "start_time": "2022-03-26T18:25:07.795Z"
   },
   {
    "duration": 8,
    "start_time": "2022-03-26T18:25:07.985Z"
   },
   {
    "duration": 9,
    "start_time": "2022-03-26T18:25:08.179Z"
   },
   {
    "duration": 5,
    "start_time": "2022-03-26T18:25:08.598Z"
   },
   {
    "duration": 6,
    "start_time": "2022-03-26T18:25:08.813Z"
   },
   {
    "duration": 5,
    "start_time": "2022-03-26T18:25:09.019Z"
   },
   {
    "duration": 5,
    "start_time": "2022-03-26T18:25:09.444Z"
   },
   {
    "duration": 13,
    "start_time": "2022-03-26T18:25:09.651Z"
   },
   {
    "duration": 6,
    "start_time": "2022-03-26T18:25:09.858Z"
   },
   {
    "duration": 5,
    "start_time": "2022-03-26T18:25:10.080Z"
   },
   {
    "duration": 5,
    "start_time": "2022-03-26T18:25:10.306Z"
   },
   {
    "duration": 4,
    "start_time": "2022-03-26T18:25:10.972Z"
   },
   {
    "duration": 6,
    "start_time": "2022-03-26T18:25:11.386Z"
   },
   {
    "duration": 5,
    "start_time": "2022-03-26T18:25:11.606Z"
   },
   {
    "duration": 10,
    "start_time": "2022-03-26T18:25:12.008Z"
   },
   {
    "duration": 13,
    "start_time": "2022-03-26T18:25:12.676Z"
   },
   {
    "duration": 11,
    "start_time": "2022-03-26T18:25:12.882Z"
   },
   {
    "duration": 12,
    "start_time": "2022-03-26T18:25:13.133Z"
   },
   {
    "duration": 11,
    "start_time": "2022-03-26T18:25:13.399Z"
   },
   {
    "duration": 12,
    "start_time": "2022-03-26T18:25:13.647Z"
   },
   {
    "duration": 12,
    "start_time": "2022-03-26T18:25:14.137Z"
   },
   {
    "duration": 10,
    "start_time": "2022-03-26T18:25:14.645Z"
   },
   {
    "duration": 6,
    "start_time": "2022-03-26T18:25:14.892Z"
   },
   {
    "duration": 15,
    "start_time": "2022-03-26T18:25:15.156Z"
   },
   {
    "duration": 6,
    "start_time": "2022-03-26T18:25:15.980Z"
   },
   {
    "duration": 5,
    "start_time": "2022-03-26T18:25:16.240Z"
   },
   {
    "duration": 5,
    "start_time": "2022-03-26T18:25:16.559Z"
   },
   {
    "duration": 4,
    "start_time": "2022-03-26T18:25:16.824Z"
   },
   {
    "duration": 5,
    "start_time": "2022-03-26T18:25:17.067Z"
   },
   {
    "duration": 4,
    "start_time": "2022-03-26T18:25:17.315Z"
   },
   {
    "duration": 15,
    "start_time": "2022-03-26T18:25:17.563Z"
   },
   {
    "duration": 4,
    "start_time": "2022-03-26T18:25:18.898Z"
   },
   {
    "duration": 4,
    "start_time": "2022-03-26T18:25:19.105Z"
   },
   {
    "duration": 9,
    "start_time": "2022-03-26T18:25:19.527Z"
   },
   {
    "duration": 9,
    "start_time": "2022-03-26T18:25:19.746Z"
   },
   {
    "duration": 11,
    "start_time": "2022-03-26T18:25:20.290Z"
   },
   {
    "duration": 276,
    "start_time": "2022-03-26T18:25:20.811Z"
   },
   {
    "duration": 5,
    "start_time": "2022-03-26T18:25:21.376Z"
   },
   {
    "duration": 5,
    "start_time": "2022-03-26T18:25:21.685Z"
   },
   {
    "duration": 24,
    "start_time": "2022-03-26T18:25:21.926Z"
   },
   {
    "duration": 287,
    "start_time": "2022-03-26T18:25:22.644Z"
   },
   {
    "duration": 10,
    "start_time": "2022-03-26T18:25:22.933Z"
   },
   {
    "duration": 5,
    "start_time": "2022-03-26T18:25:23.411Z"
   },
   {
    "duration": 5,
    "start_time": "2022-03-26T18:25:23.633Z"
   },
   {
    "duration": 5,
    "start_time": "2022-03-26T18:25:23.867Z"
   },
   {
    "duration": 270,
    "start_time": "2022-03-26T18:25:24.226Z"
   },
   {
    "duration": 186,
    "start_time": "2022-03-26T18:25:25.057Z"
   },
   {
    "duration": 201,
    "start_time": "2022-03-26T18:25:25.551Z"
   },
   {
    "duration": 8,
    "start_time": "2022-03-26T18:25:26.211Z"
   },
   {
    "duration": 258,
    "start_time": "2022-03-26T18:25:26.524Z"
   },
   {
    "duration": 157,
    "start_time": "2022-03-26T18:25:26.784Z"
   },
   {
    "duration": 8,
    "start_time": "2022-03-26T18:25:27.251Z"
   },
   {
    "duration": 8,
    "start_time": "2022-03-26T18:25:27.699Z"
   },
   {
    "duration": 13,
    "start_time": "2022-03-26T18:25:28.087Z"
   },
   {
    "duration": 8,
    "start_time": "2022-03-26T18:25:28.260Z"
   },
   {
    "duration": 8,
    "start_time": "2022-03-26T18:25:28.380Z"
   },
   {
    "duration": 8,
    "start_time": "2022-03-26T18:25:28.527Z"
   },
   {
    "duration": 3,
    "start_time": "2022-03-26T18:25:28.637Z"
   },
   {
    "duration": 10,
    "start_time": "2022-03-26T18:25:28.972Z"
   },
   {
    "duration": 7,
    "start_time": "2022-03-26T18:25:29.176Z"
   },
   {
    "duration": 11,
    "start_time": "2022-03-26T18:25:31.184Z"
   },
   {
    "duration": 169,
    "start_time": "2022-03-26T18:25:31.653Z"
   },
   {
    "duration": 111,
    "start_time": "2022-03-26T18:25:32.008Z"
   },
   {
    "duration": 139,
    "start_time": "2022-03-26T18:25:32.127Z"
   },
   {
    "duration": 30,
    "start_time": "2022-03-26T18:25:32.492Z"
   },
   {
    "duration": 10,
    "start_time": "2022-03-26T18:25:32.582Z"
   },
   {
    "duration": 177,
    "start_time": "2022-03-26T18:25:32.899Z"
   },
   {
    "duration": 8,
    "start_time": "2022-03-26T18:25:33.078Z"
   },
   {
    "duration": 170,
    "start_time": "2022-03-26T18:25:33.418Z"
   },
   {
    "duration": 9,
    "start_time": "2022-03-26T18:25:33.782Z"
   },
   {
    "duration": 9,
    "start_time": "2022-03-26T18:25:34.863Z"
   },
   {
    "duration": 127,
    "start_time": "2022-03-26T18:25:35.157Z"
   },
   {
    "duration": 4,
    "start_time": "2022-03-26T18:25:35.286Z"
   },
   {
    "duration": 5,
    "start_time": "2022-03-26T18:25:35.669Z"
   },
   {
    "duration": 6,
    "start_time": "2022-03-26T18:25:36.184Z"
   },
   {
    "duration": 5,
    "start_time": "2022-03-26T18:25:36.642Z"
   },
   {
    "duration": 34,
    "start_time": "2022-03-26T18:25:37.470Z"
   },
   {
    "duration": 12,
    "start_time": "2022-03-26T18:25:38.441Z"
   },
   {
    "duration": 295,
    "start_time": "2022-03-26T18:25:39.337Z"
   },
   {
    "duration": 184,
    "start_time": "2022-03-26T18:25:39.749Z"
   },
   {
    "duration": 6,
    "start_time": "2022-03-26T18:25:40.072Z"
   },
   {
    "duration": 154,
    "start_time": "2022-03-26T18:25:40.648Z"
   },
   {
    "duration": 6,
    "start_time": "2022-03-26T18:25:41.062Z"
   },
   {
    "duration": 241,
    "start_time": "2022-03-26T18:25:42.847Z"
   },
   {
    "duration": 7,
    "start_time": "2022-03-26T18:25:43.091Z"
   },
   {
    "duration": 257,
    "start_time": "2022-03-26T18:25:44.255Z"
   },
   {
    "duration": 5,
    "start_time": "2022-03-26T18:25:44.966Z"
   },
   {
    "duration": 136,
    "start_time": "2022-03-26T18:25:46.059Z"
   },
   {
    "duration": 160,
    "start_time": "2022-03-26T18:25:46.616Z"
   },
   {
    "duration": 134,
    "start_time": "2022-03-26T18:25:46.879Z"
   },
   {
    "duration": 503,
    "start_time": "2022-03-26T18:25:47.088Z"
   },
   {
    "duration": 13,
    "start_time": "2022-03-26T18:25:47.593Z"
   },
   {
    "duration": 2450,
    "start_time": "2022-03-26T18:25:47.608Z"
   },
   {
    "duration": 27,
    "start_time": "2022-03-26T18:25:50.061Z"
   },
   {
    "duration": 4,
    "start_time": "2022-03-26T18:25:50.090Z"
   },
   {
    "duration": 8,
    "start_time": "2022-03-26T18:25:50.096Z"
   },
   {
    "duration": 56,
    "start_time": "2022-03-26T18:25:50.106Z"
   },
   {
    "duration": 196,
    "start_time": "2022-03-26T18:25:51.444Z"
   },
   {
    "duration": 29,
    "start_time": "2022-03-26T18:25:53.533Z"
   },
   {
    "duration": 10,
    "start_time": "2022-03-26T18:25:54.079Z"
   },
   {
    "duration": 180,
    "start_time": "2022-03-26T18:25:54.888Z"
   },
   {
    "duration": 185,
    "start_time": "2022-03-26T18:25:56.200Z"
   },
   {
    "duration": 177,
    "start_time": "2022-03-26T18:25:57.186Z"
   },
   {
    "duration": 297,
    "start_time": "2022-03-26T18:25:58.049Z"
   },
   {
    "duration": 169,
    "start_time": "2022-03-26T18:25:58.889Z"
   },
   {
    "duration": 180,
    "start_time": "2022-03-26T18:25:59.060Z"
   },
   {
    "duration": 158,
    "start_time": "2022-03-26T18:25:59.449Z"
   },
   {
    "duration": 171,
    "start_time": "2022-03-26T18:25:59.956Z"
   },
   {
    "duration": 168,
    "start_time": "2022-03-26T18:26:00.966Z"
   },
   {
    "duration": 12,
    "start_time": "2022-03-26T18:26:01.862Z"
   },
   {
    "duration": 2565,
    "start_time": "2022-03-26T18:26:02.366Z"
   }
  ],
  "kernelspec": {
   "display_name": "Python 3 (ipykernel)",
   "language": "python",
   "name": "python3"
  },
  "language_info": {
   "codemirror_mode": {
    "name": "ipython",
    "version": 3
   },
   "file_extension": ".py",
   "mimetype": "text/x-python",
   "name": "python",
   "nbconvert_exporter": "python",
   "pygments_lexer": "ipython3",
   "version": "3.9.7"
  },
  "toc": {
   "base_numbering": 1,
   "nav_menu": {},
   "number_sections": true,
   "sideBar": true,
   "skip_h1_title": true,
   "title_cell": "Содержание",
   "title_sidebar": "Contents",
   "toc_cell": true,
   "toc_position": {
    "height": "calc(100% - 180px)",
    "left": "10px",
    "top": "150px",
    "width": "366.391px"
   },
   "toc_section_display": true,
   "toc_window_display": true
  }
 },
 "nbformat": 4,
 "nbformat_minor": 4
}
