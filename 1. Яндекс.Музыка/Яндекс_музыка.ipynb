{
 "cells": [
  {
   "cell_type": "markdown",
   "metadata": {
    "id": "E0vqbgi9ay0H"
   },
   "source": [
    "# Яндекс.Музыка"
   ]
  },
  {
   "cell_type": "markdown",
   "metadata": {
    "id": "VUC88oWjTJw2"
   },
   "source": [
    "Дана выгрузка треков сервиса Яндекс.Музыки, на основании которых необходимо сравнить поведение пользователей городов. \n",
    "\n",
    "**Цель исследования** — проверьте три гипотезы:\n",
    "1. Активность пользователей зависит от дня недели. \n",
    "2. В понедельник утром в Москве преобладают одни жанры, а в Петербурге — другие. Так же и вечером пятницы преобладают разные жанры — в зависимости от города. \n",
    "3. Москва и Петербург предпочитают разные жанры музыки. В Москве чаще слушают поп-музыку, в Петербурге — русский рэп.\n",
    "\n"
   ]
  },
  {
   "cell_type": "markdown",
   "metadata": {
    "id": "Ml1hmfXC_Zcs"
   },
   "source": [
    "## Обзор данных\n",
    "\n"
   ]
  },
  {
   "cell_type": "code",
   "execution_count": 1,
   "metadata": {
    "id": "AXN7PHPN_Zcs"
   },
   "outputs": [],
   "source": [
    "import pandas as pd"
   ]
  },
  {
   "cell_type": "code",
   "execution_count": 2,
   "metadata": {
    "id": "fFVu7vqh_Zct"
   },
   "outputs": [],
   "source": [
    "df = pd.read_csv('/datasets/yandex_music_project.csv')"
   ]
  },
  {
   "cell_type": "code",
   "execution_count": 3,
   "metadata": {
    "id": "oWTVX3gW_Zct",
    "scrolled": true
   },
   "outputs": [
    {
     "name": "stdout",
     "output_type": "stream",
     "text": [
      "     userID                        Track            artist   genre  \\\n",
      "0  FFB692EC            Kamigata To Boots  The Mass Missile    rock   \n",
      "1  55204538  Delayed Because of Accident  Andreas Rönnberg    rock   \n",
      "2    20EC38            Funiculì funiculà       Mario Lanza     pop   \n",
      "3  A3DD03C9        Dragons in the Sunset        Fire + Ice    folk   \n",
      "4  E2DC1FAE                  Soul People        Space Echo   dance   \n",
      "5  842029A1                    Преданная         IMPERVTOR  rusrap   \n",
      "6  4CB90AA5                         True      Roman Messer   dance   \n",
      "7  F03E1C1F             Feeling This Way   Polina Griffith   dance   \n",
      "8  8FA1D3BE     И вновь продолжается бой               NaN  ruspop   \n",
      "9  E772D5C0                    Pessimist               NaN   dance   \n",
      "\n",
      "             City        time        Day  \n",
      "0  Saint-Petersburg  20:28:33  Wednesday  \n",
      "1            Moscow  14:07:09     Friday  \n",
      "2  Saint-Petersburg  20:58:07  Wednesday  \n",
      "3  Saint-Petersburg  08:37:09     Monday  \n",
      "4            Moscow  08:34:34     Monday  \n",
      "5  Saint-Petersburg  13:09:41     Friday  \n",
      "6            Moscow  13:00:07  Wednesday  \n",
      "7            Moscow  20:47:49  Wednesday  \n",
      "8            Moscow  09:17:40     Friday  \n",
      "9  Saint-Petersburg  21:20:49  Wednesday  \n"
     ]
    }
   ],
   "source": [
    "import pandas as pd\n",
    "df = pd.read_csv('/datasets/yandex_music_project.csv')\n",
    "print(df.head(10))"
   ]
  },
  {
   "cell_type": "code",
   "execution_count": 4,
   "metadata": {
    "id": "DSf2kIb-_Zct"
   },
   "outputs": [
    {
     "name": "stdout",
     "output_type": "stream",
     "text": [
      "<class 'pandas.core.frame.DataFrame'>\n",
      "RangeIndex: 65079 entries, 0 to 65078\n",
      "Data columns (total 7 columns):\n",
      "  userID    65079 non-null object\n",
      "Track       63848 non-null object\n",
      "artist      57876 non-null object\n",
      "genre       63881 non-null object\n",
      "  City      65079 non-null object\n",
      "time        65079 non-null object\n",
      "Day         65079 non-null object\n",
      "dtypes: object(7)\n",
      "memory usage: 3.5+ MB\n"
     ]
    }
   ],
   "source": [
    "df.info()"
   ]
  },
  {
   "cell_type": "markdown",
   "metadata": {
    "id": "TaQ2Iwbr_Zct"
   },
   "source": [
    "Итак, в таблице семь столбцов. Тип данных во всех столбцах — `object`.\n",
    "\n",
    "Согласно документации к данным:\n",
    "* `userID` — идентификатор пользователя;\n",
    "* `Track` — название трека;  \n",
    "* `artist` — имя исполнителя;\n",
    "* `genre` — название жанра;\n",
    "* `City` — город пользователя;\n",
    "* `time` — время начала прослушивания;\n",
    "* `Day` — день недели.\n",
    "\n",
    "В названиях видим, нарушения стиля:\n",
    "1. Строчные буквы сочетаются с прописными.\n",
    "2. Встречаются пробелы.\n",
    " \n",
    " \n",
    "Предварительно можно сказать, что, данных достаточно для проверки гипотез, но необходимо проработать пропущенные значения и привести заголовки в соответствие.\n"
   ]
  },
  {
   "cell_type": "markdown",
   "metadata": {
    "id": "SjYF6Ub9_Zct"
   },
   "source": [
    "## Предобработка данных\n"
   ]
  },
  {
   "cell_type": "markdown",
   "metadata": {
    "id": "dIaKXr29_Zct"
   },
   "source": [
    "### Стиль заголовков\n",
    " "
   ]
  },
  {
   "cell_type": "code",
   "execution_count": 5,
   "metadata": {
    "id": "oKOTdF_Q_Zct"
   },
   "outputs": [
    {
     "name": "stdout",
     "output_type": "stream",
     "text": [
      "Index(['  userID', 'Track', 'artist', 'genre', '  City  ', 'time', 'Day'], dtype='object')\n"
     ]
    }
   ],
   "source": [
    "print(df.columns)"
   ]
  },
  {
   "cell_type": "markdown",
   "metadata": {
    "id": "zj5534cv_Zct"
   },
   "source": [
    "Приведение названия в соответствие с \"хорошим\" стилем:\n",
    "\n",
    "* `'  userID'` → `'user_id'`;\n",
    "* `'Track'` → `'track'`;\n",
    "* `'  City  '` → `'city'`;\n",
    "* `'Day'` → `'day'`."
   ]
  },
  {
   "cell_type": "code",
   "execution_count": 6,
   "metadata": {
    "id": "ISlFqs5y_Zct"
   },
   "outputs": [],
   "source": [
    "df = df.rename(columns={'  userID':'user_id','Track':'track', '  City  ':'city', 'Day':'day'})"
   ]
  },
  {
   "cell_type": "code",
   "execution_count": 7,
   "metadata": {
    "id": "d4NOAmTW_Zct"
   },
   "outputs": [
    {
     "name": "stdout",
     "output_type": "stream",
     "text": [
      "Index(['user_id', 'track', 'artist', 'genre', 'city', 'time', 'day'], dtype='object')\n"
     ]
    }
   ],
   "source": [
    "print(df.columns)"
   ]
  },
  {
   "cell_type": "markdown",
   "metadata": {
    "id": "5ISfbcfY_Zct"
   },
   "source": [
    "### Пропуски значений\n"
   ]
  },
  {
   "cell_type": "code",
   "execution_count": 8,
   "metadata": {
    "id": "RskX29qr_Zct"
   },
   "outputs": [
    {
     "name": "stdout",
     "output_type": "stream",
     "text": [
      "user_id       0\n",
      "track      1231\n",
      "artist     7203\n",
      "genre      1198\n",
      "city          0\n",
      "time          0\n",
      "day           0\n",
      "dtype: int64\n"
     ]
    }
   ],
   "source": [
    "print(df.isna().sum())"
   ]
  },
  {
   "cell_type": "markdown",
   "metadata": {
    "id": "qubhgnlO_Zct"
   },
   "source": [
    "Не все пропущенные значения влияют на исследование. Так в `track` и `artist` пропуски не важны для работы. Можно эти пропуски заменить на выделяющееся обозначение."
   ]
  },
  {
   "cell_type": "code",
   "execution_count": 9,
   "metadata": {},
   "outputs": [],
   "source": [
    "columns_to_replace = ['track', 'artist', 'genre']\n",
    "\n",
    "for column in columns_to_replace:\n",
    "    df[column] = df[column].fillna('unknown')"
   ]
  },
  {
   "cell_type": "code",
   "execution_count": 10,
   "metadata": {
    "id": "Tq4nYRX4_Zct"
   },
   "outputs": [
    {
     "data": {
      "text/plain": [
       "user_id    0\n",
       "track      0\n",
       "artist     0\n",
       "genre      0\n",
       "city       0\n",
       "time       0\n",
       "day        0\n",
       "dtype: int64"
      ]
     },
     "execution_count": 10,
     "metadata": {},
     "output_type": "execute_result"
    }
   ],
   "source": [
    "df.isna().sum()"
   ]
  },
  {
   "cell_type": "markdown",
   "metadata": {
    "id": "BWKRtBJ3_Zct"
   },
   "source": [
    "### Дубликаты\n"
   ]
  },
  {
   "cell_type": "code",
   "execution_count": 11,
   "metadata": {
    "id": "36eES_S0_Zct"
   },
   "outputs": [
    {
     "data": {
      "text/plain": [
       "3826"
      ]
     },
     "execution_count": 11,
     "metadata": {},
     "output_type": "execute_result"
    }
   ],
   "source": [
    "df.duplicated().sum()# подсчёт явных дубликатов"
   ]
  },
  {
   "cell_type": "code",
   "execution_count": 12,
   "metadata": {
    "id": "exFHq6tt_Zct"
   },
   "outputs": [],
   "source": [
    "df = df.drop_duplicates().reset_index(drop=True)# удаление явных дубликатов (с удалением старых индексов и формированием новых)"
   ]
  },
  {
   "cell_type": "code",
   "execution_count": 13,
   "metadata": {
    "id": "-8PuNWQ0_Zct"
   },
   "outputs": [
    {
     "data": {
      "text/plain": [
       "0"
      ]
     },
     "execution_count": 13,
     "metadata": {},
     "output_type": "execute_result"
    }
   ],
   "source": [
    "df.duplicated().sum()\n",
    "# проверка на отсутствие дубликатов"
   ]
  },
  {
   "cell_type": "code",
   "execution_count": 14,
   "metadata": {
    "id": "JIUcqzZN_Zct",
    "scrolled": false
   },
   "outputs": [
    {
     "data": {
      "text/plain": [
       "array(['acid', 'acoustic', 'action', 'adult', 'africa', 'afrikaans',\n",
       "       'alternative', 'alternativepunk', 'ambient', 'americana',\n",
       "       'animated', 'anime', 'arabesk', 'arabic', 'arena',\n",
       "       'argentinetango', 'art', 'audiobook', 'author', 'avantgarde',\n",
       "       'axé', 'baile', 'balkan', 'beats', 'bigroom', 'black', 'bluegrass',\n",
       "       'blues', 'bollywood', 'bossa', 'brazilian', 'breakbeat', 'breaks',\n",
       "       'broadway', 'cantautori', 'cantopop', 'canzone', 'caribbean',\n",
       "       'caucasian', 'celtic', 'chamber', 'chanson', 'children', 'chill',\n",
       "       'chinese', 'choral', 'christian', 'christmas', 'classical',\n",
       "       'classicmetal', 'club', 'colombian', 'comedy', 'conjazz',\n",
       "       'contemporary', 'country', 'cuban', 'dance', 'dancehall',\n",
       "       'dancepop', 'dark', 'death', 'deep', 'deutschrock', 'deutschspr',\n",
       "       'dirty', 'disco', 'dnb', 'documentary', 'downbeat', 'downtempo',\n",
       "       'drum', 'dub', 'dubstep', 'eastern', 'easy', 'electronic',\n",
       "       'electropop', 'emo', 'entehno', 'epicmetal', 'estrada', 'ethnic',\n",
       "       'eurofolk', 'european', 'experimental', 'extrememetal', 'fado',\n",
       "       'fairytail', 'film', 'fitness', 'flamenco', 'folk', 'folklore',\n",
       "       'folkmetal', 'folkrock', 'folktronica', 'forró', 'frankreich',\n",
       "       'französisch', 'french', 'funk', 'future', 'gangsta', 'garage',\n",
       "       'german', 'ghazal', 'gitarre', 'glitch', 'gospel', 'gothic',\n",
       "       'grime', 'grunge', 'gypsy', 'handsup', \"hard'n'heavy\", 'hardcore',\n",
       "       'hardstyle', 'hardtechno', 'hip', 'hip-hop', 'hiphop',\n",
       "       'historisch', 'holiday', 'hop', 'horror', 'house', 'hymn', 'idm',\n",
       "       'independent', 'indian', 'indie', 'indipop', 'industrial',\n",
       "       'inspirational', 'instrumental', 'international', 'irish', 'jam',\n",
       "       'japanese', 'jazz', 'jewish', 'jpop', 'jungle', 'k-pop',\n",
       "       'karadeniz', 'karaoke', 'kayokyoku', 'korean', 'laiko', 'latin',\n",
       "       'latino', 'leftfield', 'local', 'lounge', 'loungeelectronic',\n",
       "       'lovers', 'malaysian', 'mandopop', 'marschmusik', 'meditative',\n",
       "       'mediterranean', 'melodic', 'metal', 'metalcore', 'mexican',\n",
       "       'middle', 'minimal', 'miscellaneous', 'modern', 'mood', 'mpb',\n",
       "       'muslim', 'native', 'neoklassik', 'neue', 'new', 'newage',\n",
       "       'newwave', 'nu', 'nujazz', 'numetal', 'oceania', 'old', 'opera',\n",
       "       'orchestral', 'other', 'piano', 'podcasts', 'pop', 'popdance',\n",
       "       'popelectronic', 'popeurodance', 'poprussian', 'post',\n",
       "       'posthardcore', 'postrock', 'power', 'progmetal', 'progressive',\n",
       "       'psychedelic', 'punjabi', 'punk', 'quebecois', 'ragga', 'ram',\n",
       "       'rancheras', 'rap', 'rave', 'reggae', 'reggaeton', 'regional',\n",
       "       'relax', 'religious', 'retro', 'rhythm', 'rnb', 'rnr', 'rock',\n",
       "       'rockabilly', 'rockalternative', 'rockindie', 'rockother',\n",
       "       'romance', 'roots', 'ruspop', 'rusrap', 'rusrock', 'russian',\n",
       "       'salsa', 'samba', 'scenic', 'schlager', 'self', 'sertanejo',\n",
       "       'shanson', 'shoegazing', 'showtunes', 'singer', 'ska', 'skarock',\n",
       "       'slow', 'smooth', 'soft', 'soul', 'soulful', 'sound', 'soundtrack',\n",
       "       'southern', 'specialty', 'speech', 'spiritual', 'sport',\n",
       "       'stonerrock', 'surf', 'swing', 'synthpop', 'synthrock',\n",
       "       'sängerportrait', 'tango', 'tanzorchester', 'taraftar', 'tatar',\n",
       "       'tech', 'techno', 'teen', 'thrash', 'top', 'traditional',\n",
       "       'tradjazz', 'trance', 'tribal', 'trip', 'triphop', 'tropical',\n",
       "       'türk', 'türkçe', 'ukrrock', 'unknown', 'urban', 'uzbek',\n",
       "       'variété', 'vi', 'videogame', 'vocal', 'western', 'world',\n",
       "       'worldbeat', 'ïîï', 'электроника'], dtype=object)"
      ]
     },
     "execution_count": 14,
     "metadata": {},
     "output_type": "execute_result"
    }
   ],
   "source": [
    "df['genre'].sort_values().unique()# Просмотр уникальных названий жанров"
   ]
  },
  {
   "cell_type": "code",
   "execution_count": 15,
   "metadata": {
    "id": "YN5i2hpmSo09"
   },
   "outputs": [],
   "source": [
    "def replace_wrong_genres(wrong_genres, correct_genre):# Функция для замены неявных дубликатов\n",
    "    for index in wrong_genres:\n",
    "        df['genre'] = df['genre'].replace(wrong_genres, correct_genre)\n",
    "        \n",
    "duplicates = ['hip', 'hop', 'hip-hop']\n",
    "correct_name = 'hiphop'\n",
    "replace_wrong_genres(duplicates, correct_name)"
   ]
  },
  {
   "cell_type": "code",
   "execution_count": 16,
   "metadata": {
    "id": "wvixALnFG15m",
    "scrolled": false
   },
   "outputs": [
    {
     "data": {
      "text/plain": [
       "array(['acid', 'acoustic', 'action', 'adult', 'africa', 'afrikaans',\n",
       "       'alternative', 'alternativepunk', 'ambient', 'americana',\n",
       "       'animated', 'anime', 'arabesk', 'arabic', 'arena',\n",
       "       'argentinetango', 'art', 'audiobook', 'author', 'avantgarde',\n",
       "       'axé', 'baile', 'balkan', 'beats', 'bigroom', 'black', 'bluegrass',\n",
       "       'blues', 'bollywood', 'bossa', 'brazilian', 'breakbeat', 'breaks',\n",
       "       'broadway', 'cantautori', 'cantopop', 'canzone', 'caribbean',\n",
       "       'caucasian', 'celtic', 'chamber', 'chanson', 'children', 'chill',\n",
       "       'chinese', 'choral', 'christian', 'christmas', 'classical',\n",
       "       'classicmetal', 'club', 'colombian', 'comedy', 'conjazz',\n",
       "       'contemporary', 'country', 'cuban', 'dance', 'dancehall',\n",
       "       'dancepop', 'dark', 'death', 'deep', 'deutschrock', 'deutschspr',\n",
       "       'dirty', 'disco', 'dnb', 'documentary', 'downbeat', 'downtempo',\n",
       "       'drum', 'dub', 'dubstep', 'eastern', 'easy', 'electronic',\n",
       "       'electropop', 'emo', 'entehno', 'epicmetal', 'estrada', 'ethnic',\n",
       "       'eurofolk', 'european', 'experimental', 'extrememetal', 'fado',\n",
       "       'fairytail', 'film', 'fitness', 'flamenco', 'folk', 'folklore',\n",
       "       'folkmetal', 'folkrock', 'folktronica', 'forró', 'frankreich',\n",
       "       'französisch', 'french', 'funk', 'future', 'gangsta', 'garage',\n",
       "       'german', 'ghazal', 'gitarre', 'glitch', 'gospel', 'gothic',\n",
       "       'grime', 'grunge', 'gypsy', 'handsup', \"hard'n'heavy\", 'hardcore',\n",
       "       'hardstyle', 'hardtechno', 'hiphop', 'historisch', 'holiday',\n",
       "       'horror', 'house', 'hymn', 'idm', 'independent', 'indian', 'indie',\n",
       "       'indipop', 'industrial', 'inspirational', 'instrumental',\n",
       "       'international', 'irish', 'jam', 'japanese', 'jazz', 'jewish',\n",
       "       'jpop', 'jungle', 'k-pop', 'karadeniz', 'karaoke', 'kayokyoku',\n",
       "       'korean', 'laiko', 'latin', 'latino', 'leftfield', 'local',\n",
       "       'lounge', 'loungeelectronic', 'lovers', 'malaysian', 'mandopop',\n",
       "       'marschmusik', 'meditative', 'mediterranean', 'melodic', 'metal',\n",
       "       'metalcore', 'mexican', 'middle', 'minimal', 'miscellaneous',\n",
       "       'modern', 'mood', 'mpb', 'muslim', 'native', 'neoklassik', 'neue',\n",
       "       'new', 'newage', 'newwave', 'nu', 'nujazz', 'numetal', 'oceania',\n",
       "       'old', 'opera', 'orchestral', 'other', 'piano', 'podcasts', 'pop',\n",
       "       'popdance', 'popelectronic', 'popeurodance', 'poprussian', 'post',\n",
       "       'posthardcore', 'postrock', 'power', 'progmetal', 'progressive',\n",
       "       'psychedelic', 'punjabi', 'punk', 'quebecois', 'ragga', 'ram',\n",
       "       'rancheras', 'rap', 'rave', 'reggae', 'reggaeton', 'regional',\n",
       "       'relax', 'religious', 'retro', 'rhythm', 'rnb', 'rnr', 'rock',\n",
       "       'rockabilly', 'rockalternative', 'rockindie', 'rockother',\n",
       "       'romance', 'roots', 'ruspop', 'rusrap', 'rusrock', 'russian',\n",
       "       'salsa', 'samba', 'scenic', 'schlager', 'self', 'sertanejo',\n",
       "       'shanson', 'shoegazing', 'showtunes', 'singer', 'ska', 'skarock',\n",
       "       'slow', 'smooth', 'soft', 'soul', 'soulful', 'sound', 'soundtrack',\n",
       "       'southern', 'specialty', 'speech', 'spiritual', 'sport',\n",
       "       'stonerrock', 'surf', 'swing', 'synthpop', 'synthrock',\n",
       "       'sängerportrait', 'tango', 'tanzorchester', 'taraftar', 'tatar',\n",
       "       'tech', 'techno', 'teen', 'thrash', 'top', 'traditional',\n",
       "       'tradjazz', 'trance', 'tribal', 'trip', 'triphop', 'tropical',\n",
       "       'türk', 'türkçe', 'ukrrock', 'unknown', 'urban', 'uzbek',\n",
       "       'variété', 'vi', 'videogame', 'vocal', 'western', 'world',\n",
       "       'worldbeat', 'ïîï', 'электроника'], dtype=object)"
      ]
     },
     "execution_count": 16,
     "metadata": {},
     "output_type": "execute_result"
    }
   ],
   "source": [
    "#print(df['genre'].unique()) Проверка на неявные дубликаты - было \n",
    "df['genre'].sort_values().unique()"
   ]
  },
  {
   "cell_type": "markdown",
   "metadata": {
    "id": "jz6a9-7HQUDd"
   },
   "source": [
    "**Выводы**\n",
    "\n",
    "На первом этапе обнаружила три проблемы в данных:\n",
    "\n",
    "- нарушения в стиле заголовков,\n",
    "- пропущенные значения,\n",
    "- дубликаты — явные и неявные.\n"
   ]
  },
  {
   "cell_type": "markdown",
   "metadata": {
    "id": "WttZHXH0SqKk"
   },
   "source": [
    "## Проверка гипотез"
   ]
  },
  {
   "cell_type": "markdown",
   "metadata": {
    "id": "Im936VVi_Zcu"
   },
   "source": [
    "### Сравнение поведения пользователей двух столиц"
   ]
  },
  {
   "cell_type": "markdown",
   "metadata": {
    "id": "nwt_MuaL_Zcu"
   },
   "source": [
    "Первая гипотеза - пользователи по-разному слушают музыку в Москве и Санкт-Петербурге.  "
   ]
  },
  {
   "cell_type": "code",
   "execution_count": 17,
   "metadata": {},
   "outputs": [
    {
     "data": {
      "text/plain": [
       "city\n",
       "Moscow              42741\n",
       "Saint-Petersburg    18512\n",
       "Name: user_id, dtype: int64"
      ]
     },
     "execution_count": 17,
     "metadata": {},
     "output_type": "execute_result"
    }
   ],
   "source": [
    "df.groupby('city')['user_id'].count()"
   ]
  },
  {
   "cell_type": "code",
   "execution_count": 18,
   "metadata": {
    "id": "0_Qs96oh_Zcu"
   },
   "outputs": [
    {
     "data": {
      "text/html": [
       "<div>\n",
       "<style scoped>\n",
       "    .dataframe tbody tr th:only-of-type {\n",
       "        vertical-align: middle;\n",
       "    }\n",
       "\n",
       "    .dataframe tbody tr th {\n",
       "        vertical-align: top;\n",
       "    }\n",
       "\n",
       "    .dataframe thead th {\n",
       "        text-align: right;\n",
       "    }\n",
       "</style>\n",
       "<table border=\"1\" class=\"dataframe\">\n",
       "  <thead>\n",
       "    <tr style=\"text-align: right;\">\n",
       "      <th></th>\n",
       "      <th>user_id</th>\n",
       "      <th>track</th>\n",
       "      <th>artist</th>\n",
       "      <th>genre</th>\n",
       "      <th>time</th>\n",
       "      <th>day</th>\n",
       "    </tr>\n",
       "    <tr>\n",
       "      <th>city</th>\n",
       "      <th></th>\n",
       "      <th></th>\n",
       "      <th></th>\n",
       "      <th></th>\n",
       "      <th></th>\n",
       "      <th></th>\n",
       "    </tr>\n",
       "  </thead>\n",
       "  <tbody>\n",
       "    <tr>\n",
       "      <td>Moscow</td>\n",
       "      <td>42741</td>\n",
       "      <td>42741</td>\n",
       "      <td>42741</td>\n",
       "      <td>42741</td>\n",
       "      <td>42741</td>\n",
       "      <td>42741</td>\n",
       "    </tr>\n",
       "    <tr>\n",
       "      <td>Saint-Petersburg</td>\n",
       "      <td>18512</td>\n",
       "      <td>18512</td>\n",
       "      <td>18512</td>\n",
       "      <td>18512</td>\n",
       "      <td>18512</td>\n",
       "      <td>18512</td>\n",
       "    </tr>\n",
       "  </tbody>\n",
       "</table>\n",
       "</div>"
      ],
      "text/plain": [
       "                  user_id  track  artist  genre   time    day\n",
       "city                                                         \n",
       "Moscow              42741  42741   42741  42741  42741  42741\n",
       "Saint-Petersburg    18512  18512   18512  18512  18512  18512"
      ]
     },
     "execution_count": 18,
     "metadata": {},
     "output_type": "execute_result"
    }
   ],
   "source": [
    "df.groupby('city').count()"
   ]
  },
  {
   "cell_type": "markdown",
   "metadata": {
    "id": "dzli3w8o_Zcu"
   },
   "source": [
    "В Москве прослушиваний больше, чем в Петербурге. Из этого не следует, что московские пользователи чаще слушают музыку. Просто самих пользователей в Москве больше.\n"
   ]
  },
  {
   "cell_type": "code",
   "execution_count": 19,
   "metadata": {
    "id": "uZMKjiJz_Zcu",
    "scrolled": true
   },
   "outputs": [
    {
     "data": {
      "text/plain": [
       "day\n",
       "Friday       21840\n",
       "Monday       21354\n",
       "Wednesday    18059\n",
       "Name: user_id, dtype: int64"
      ]
     },
     "execution_count": 19,
     "metadata": {},
     "output_type": "execute_result"
    }
   ],
   "source": [
    "#df.groupby('day').count()# Подсчёт прослушиваний в каждый из трёх дней - было\n",
    "df.groupby('day')['user_id'].count()"
   ]
  },
  {
   "cell_type": "markdown",
   "metadata": {
    "id": "cC2tNrlL_Zcu"
   },
   "source": [
    "В среднем пользователи из двух городов менее активны по средам. Но картина может измениться, если рассмотреть каждый город в отдельности."
   ]
  },
  {
   "cell_type": "code",
   "execution_count": 20,
   "metadata": {
    "id": "Nz3GdQB1_Zcu"
   },
   "outputs": [],
   "source": [
    "def number_tracks(day, city):\n",
    "    track_list = df[(df['day'] == day) & (df['city'] == city)]\n",
    "    track_list_count = track_list['user_id'].count()\n",
    "    return track_list_count\n"
   ]
  },
  {
   "cell_type": "code",
   "execution_count": 21,
   "metadata": {
    "id": "rJcRATNQ_Zcu"
   },
   "outputs": [
    {
     "data": {
      "text/plain": [
       "15740"
      ]
     },
     "execution_count": 21,
     "metadata": {},
     "output_type": "execute_result"
    }
   ],
   "source": [
    "number_tracks('Monday', 'Moscow')# количество прослушиваний в Москве по понедельникам"
   ]
  },
  {
   "cell_type": "code",
   "execution_count": 22,
   "metadata": {
    "id": "hq_ncZ5T_Zcu"
   },
   "outputs": [
    {
     "data": {
      "text/plain": [
       "5614"
      ]
     },
     "execution_count": 22,
     "metadata": {},
     "output_type": "execute_result"
    }
   ],
   "source": [
    "number_tracks('Monday', 'Saint-Petersburg')# количество прослушиваний в Санкт-Петербурге по понедельникам"
   ]
  },
  {
   "cell_type": "code",
   "execution_count": 23,
   "metadata": {
    "id": "_NTy2VPU_Zcu"
   },
   "outputs": [
    {
     "data": {
      "text/plain": [
       "11056"
      ]
     },
     "execution_count": 23,
     "metadata": {},
     "output_type": "execute_result"
    }
   ],
   "source": [
    "number_tracks('Wednesday', 'Moscow')# количество прослушиваний в Москве по средам"
   ]
  },
  {
   "cell_type": "code",
   "execution_count": 24,
   "metadata": {
    "id": "j2y3TAwo_Zcu"
   },
   "outputs": [
    {
     "data": {
      "text/plain": [
       "7003"
      ]
     },
     "execution_count": 24,
     "metadata": {},
     "output_type": "execute_result"
    }
   ],
   "source": [
    "number_tracks('Wednesday', 'Saint-Petersburg')# количество прослушиваний в Санкт-Петербурге по средам"
   ]
  },
  {
   "cell_type": "code",
   "execution_count": 25,
   "metadata": {
    "id": "vYDw5u_K_Zcu"
   },
   "outputs": [
    {
     "data": {
      "text/plain": [
       "15945"
      ]
     },
     "execution_count": 25,
     "metadata": {},
     "output_type": "execute_result"
    }
   ],
   "source": [
    "number_tracks('Friday', 'Moscow')# количество прослушиваний в Москве по пятницам"
   ]
  },
  {
   "cell_type": "code",
   "execution_count": 26,
   "metadata": {
    "id": "8_yzFtW3_Zcu",
    "scrolled": true
   },
   "outputs": [
    {
     "data": {
      "text/plain": [
       "5895"
      ]
     },
     "execution_count": 26,
     "metadata": {},
     "output_type": "execute_result"
    }
   ],
   "source": [
    "number_tracks('Friday', 'Saint-Petersburg')# количество прослушиваний в Санкт-Петербурге по пятницам"
   ]
  },
  {
   "cell_type": "code",
   "execution_count": 27,
   "metadata": {
    "id": "APAcLpOr_Zcu"
   },
   "outputs": [
    {
     "name": "stdout",
     "output_type": "stream",
     "text": [
      "               city  monday  wednesday  friday\n",
      "0            Moscow   15740      11056   15945\n",
      "1  Saint-Petersburg    5614       7003    5895\n"
     ]
    }
   ],
   "source": [
    "data = [['Moscow', 15740, 11056, 15945],\n",
    "        ['Saint-Petersburg', 5614, 7003, 5895]]\n",
    "columns = ['city', 'monday', 'wednesday', 'friday']\n",
    "number_tracks = pd.DataFrame(data = data, columns = columns)\n",
    "print(number_tracks)"
   ]
  },
  {
   "cell_type": "markdown",
   "metadata": {
    "id": "-EgPIHYu_Zcu"
   },
   "source": [
    "**Выводы**\n",
    "\n",
    "Данные показывают разницу поведения пользователей:\n",
    "\n",
    "- В Москве пик прослушиваний приходится на понедельник и пятницу, а в среду заметен спад.\n",
    "- В Петербурге, наоборот, больше слушают музыку по средам. Активность в понедельник и пятницу здесь почти в равной мере уступает среде.\n",
    "\n",
    "Значит, данные говорят в пользу первой гипотезы."
   ]
  },
  {
   "cell_type": "markdown",
   "metadata": {
    "id": "atZAxtq4_Zcu"
   },
   "source": [
    "### Музыка в начале и в конце недели"
   ]
  },
  {
   "cell_type": "markdown",
   "metadata": {
    "id": "eXrQqXFH_Zcu"
   },
   "source": [
    "Согласно второй гипотезе, утром в понедельник в Москве преобладают одни жанры, а в Петербурге — другие. Так же и вечером пятницы преобладают разные жанры — в зависимости от города."
   ]
  },
  {
   "cell_type": "code",
   "execution_count": 28,
   "metadata": {
    "id": "qeaFfM_P_Zcu"
   },
   "outputs": [
    {
     "data": {
      "text/html": [
       "<div>\n",
       "<style scoped>\n",
       "    .dataframe tbody tr th:only-of-type {\n",
       "        vertical-align: middle;\n",
       "    }\n",
       "\n",
       "    .dataframe tbody tr th {\n",
       "        vertical-align: top;\n",
       "    }\n",
       "\n",
       "    .dataframe thead th {\n",
       "        text-align: right;\n",
       "    }\n",
       "</style>\n",
       "<table border=\"1\" class=\"dataframe\">\n",
       "  <thead>\n",
       "    <tr style=\"text-align: right;\">\n",
       "      <th></th>\n",
       "      <th>user_id</th>\n",
       "      <th>track</th>\n",
       "      <th>artist</th>\n",
       "      <th>genre</th>\n",
       "      <th>city</th>\n",
       "      <th>time</th>\n",
       "      <th>day</th>\n",
       "    </tr>\n",
       "  </thead>\n",
       "  <tbody>\n",
       "    <tr>\n",
       "      <td>1</td>\n",
       "      <td>55204538</td>\n",
       "      <td>Delayed Because of Accident</td>\n",
       "      <td>Andreas Rönnberg</td>\n",
       "      <td>rock</td>\n",
       "      <td>Moscow</td>\n",
       "      <td>14:07:09</td>\n",
       "      <td>Friday</td>\n",
       "    </tr>\n",
       "    <tr>\n",
       "      <td>4</td>\n",
       "      <td>E2DC1FAE</td>\n",
       "      <td>Soul People</td>\n",
       "      <td>Space Echo</td>\n",
       "      <td>dance</td>\n",
       "      <td>Moscow</td>\n",
       "      <td>08:34:34</td>\n",
       "      <td>Monday</td>\n",
       "    </tr>\n",
       "    <tr>\n",
       "      <td>6</td>\n",
       "      <td>4CB90AA5</td>\n",
       "      <td>True</td>\n",
       "      <td>Roman Messer</td>\n",
       "      <td>dance</td>\n",
       "      <td>Moscow</td>\n",
       "      <td>13:00:07</td>\n",
       "      <td>Wednesday</td>\n",
       "    </tr>\n",
       "    <tr>\n",
       "      <td>7</td>\n",
       "      <td>F03E1C1F</td>\n",
       "      <td>Feeling This Way</td>\n",
       "      <td>Polina Griffith</td>\n",
       "      <td>dance</td>\n",
       "      <td>Moscow</td>\n",
       "      <td>20:47:49</td>\n",
       "      <td>Wednesday</td>\n",
       "    </tr>\n",
       "    <tr>\n",
       "      <td>8</td>\n",
       "      <td>8FA1D3BE</td>\n",
       "      <td>И вновь продолжается бой</td>\n",
       "      <td>unknown</td>\n",
       "      <td>ruspop</td>\n",
       "      <td>Moscow</td>\n",
       "      <td>09:17:40</td>\n",
       "      <td>Friday</td>\n",
       "    </tr>\n",
       "  </tbody>\n",
       "</table>\n",
       "</div>"
      ],
      "text/plain": [
       "    user_id                        track            artist   genre    city  \\\n",
       "1  55204538  Delayed Because of Accident  Andreas Rönnberg    rock  Moscow   \n",
       "4  E2DC1FAE                  Soul People        Space Echo   dance  Moscow   \n",
       "6  4CB90AA5                         True      Roman Messer   dance  Moscow   \n",
       "7  F03E1C1F             Feeling This Way   Polina Griffith   dance  Moscow   \n",
       "8  8FA1D3BE     И вновь продолжается бой           unknown  ruspop  Moscow   \n",
       "\n",
       "       time        day  \n",
       "1  14:07:09     Friday  \n",
       "4  08:34:34     Monday  \n",
       "6  13:00:07  Wednesday  \n",
       "7  20:47:49  Wednesday  \n",
       "8  09:17:40     Friday  "
      ]
     },
     "execution_count": 28,
     "metadata": {},
     "output_type": "execute_result"
    }
   ],
   "source": [
    "moscow_general = df[df['city'] == 'Moscow']\n",
    "moscow_general.head()\n",
    "# получение таблицы moscow_general из тех строк таблицы df, \n",
    "# для которых значение в столбце 'city' равно 'Moscow'\n"
   ]
  },
  {
   "cell_type": "code",
   "execution_count": 29,
   "metadata": {
    "id": "ORaVRKto_Zcu",
    "scrolled": true
   },
   "outputs": [
    {
     "data": {
      "text/html": [
       "<div>\n",
       "<style scoped>\n",
       "    .dataframe tbody tr th:only-of-type {\n",
       "        vertical-align: middle;\n",
       "    }\n",
       "\n",
       "    .dataframe tbody tr th {\n",
       "        vertical-align: top;\n",
       "    }\n",
       "\n",
       "    .dataframe thead th {\n",
       "        text-align: right;\n",
       "    }\n",
       "</style>\n",
       "<table border=\"1\" class=\"dataframe\">\n",
       "  <thead>\n",
       "    <tr style=\"text-align: right;\">\n",
       "      <th></th>\n",
       "      <th>user_id</th>\n",
       "      <th>track</th>\n",
       "      <th>artist</th>\n",
       "      <th>genre</th>\n",
       "      <th>city</th>\n",
       "      <th>time</th>\n",
       "      <th>day</th>\n",
       "    </tr>\n",
       "  </thead>\n",
       "  <tbody>\n",
       "    <tr>\n",
       "      <td>0</td>\n",
       "      <td>FFB692EC</td>\n",
       "      <td>Kamigata To Boots</td>\n",
       "      <td>The Mass Missile</td>\n",
       "      <td>rock</td>\n",
       "      <td>Saint-Petersburg</td>\n",
       "      <td>20:28:33</td>\n",
       "      <td>Wednesday</td>\n",
       "    </tr>\n",
       "    <tr>\n",
       "      <td>2</td>\n",
       "      <td>20EC38</td>\n",
       "      <td>Funiculì funiculà</td>\n",
       "      <td>Mario Lanza</td>\n",
       "      <td>pop</td>\n",
       "      <td>Saint-Petersburg</td>\n",
       "      <td>20:58:07</td>\n",
       "      <td>Wednesday</td>\n",
       "    </tr>\n",
       "    <tr>\n",
       "      <td>3</td>\n",
       "      <td>A3DD03C9</td>\n",
       "      <td>Dragons in the Sunset</td>\n",
       "      <td>Fire + Ice</td>\n",
       "      <td>folk</td>\n",
       "      <td>Saint-Petersburg</td>\n",
       "      <td>08:37:09</td>\n",
       "      <td>Monday</td>\n",
       "    </tr>\n",
       "    <tr>\n",
       "      <td>5</td>\n",
       "      <td>842029A1</td>\n",
       "      <td>Преданная</td>\n",
       "      <td>IMPERVTOR</td>\n",
       "      <td>rusrap</td>\n",
       "      <td>Saint-Petersburg</td>\n",
       "      <td>13:09:41</td>\n",
       "      <td>Friday</td>\n",
       "    </tr>\n",
       "    <tr>\n",
       "      <td>9</td>\n",
       "      <td>E772D5C0</td>\n",
       "      <td>Pessimist</td>\n",
       "      <td>unknown</td>\n",
       "      <td>dance</td>\n",
       "      <td>Saint-Petersburg</td>\n",
       "      <td>21:20:49</td>\n",
       "      <td>Wednesday</td>\n",
       "    </tr>\n",
       "  </tbody>\n",
       "</table>\n",
       "</div>"
      ],
      "text/plain": [
       "    user_id                  track            artist   genre  \\\n",
       "0  FFB692EC      Kamigata To Boots  The Mass Missile    rock   \n",
       "2    20EC38      Funiculì funiculà       Mario Lanza     pop   \n",
       "3  A3DD03C9  Dragons in the Sunset        Fire + Ice    folk   \n",
       "5  842029A1              Преданная         IMPERVTOR  rusrap   \n",
       "9  E772D5C0              Pessimist           unknown   dance   \n",
       "\n",
       "               city      time        day  \n",
       "0  Saint-Petersburg  20:28:33  Wednesday  \n",
       "2  Saint-Petersburg  20:58:07  Wednesday  \n",
       "3  Saint-Petersburg  08:37:09     Monday  \n",
       "5  Saint-Petersburg  13:09:41     Friday  \n",
       "9  Saint-Petersburg  21:20:49  Wednesday  "
      ]
     },
     "execution_count": 29,
     "metadata": {},
     "output_type": "execute_result"
    }
   ],
   "source": [
    "spb_general = df[df['city'] == 'Saint-Petersburg']\n",
    "spb_general.head()\n",
    "# получение таблицы spb_general из тех строк таблицы df,\n",
    "# для которых значение в столбце 'city' равно 'Saint-Petersburg'\n"
   ]
  },
  {
   "cell_type": "code",
   "execution_count": 30,
   "metadata": {
    "id": "laJT9BYl_Zcu"
   },
   "outputs": [],
   "source": [
    "def genre_weekday(table, day, time1, time2):\n",
    "    genre_df = table[table['day'] == day]\n",
    "    genre_df = genre_df[genre_df['time'] > time1]\n",
    "    genre_df = genre_df[genre_df['time'] < time2]\n",
    "    genre_df_count = genre_df.groupby('genre')['genre'].count()\n",
    "    genre_df_sorted = genre_df_count.sort_values(ascending=False)\n",
    "    return genre_df_sorted.head(10)\n",
    "    \n",
    "    \n",
    "  "
   ]
  },
  {
   "cell_type": "markdown",
   "metadata": {
    "id": "la2s2_PF_Zcu"
   },
   "source": [
    "Cравните результаты функции `genre_weekday()` для Москвы и Санкт-Петербурга в понедельник утром (с 7:00 до 11:00) и в пятницу вечером (с 17:00 до 23:00):"
   ]
  },
  {
   "cell_type": "code",
   "execution_count": 31,
   "metadata": {
    "id": "yz7itPUQ_Zcu",
    "scrolled": true
   },
   "outputs": [
    {
     "data": {
      "text/plain": [
       "genre\n",
       "pop            781\n",
       "dance          549\n",
       "electronic     480\n",
       "rock           474\n",
       "hiphop         286\n",
       "ruspop         186\n",
       "world          181\n",
       "rusrap         175\n",
       "alternative    164\n",
       "unknown        161\n",
       "Name: genre, dtype: int64"
      ]
     },
     "execution_count": 31,
     "metadata": {},
     "output_type": "execute_result"
    }
   ],
   "source": [
    "genre_weekday(moscow_general, 'Monday', '07:00', '11:00')# вызов функции для утра понедельника в Москве (вместо df — таблица moscow_general)\n"
   ]
  },
  {
   "cell_type": "code",
   "execution_count": 32,
   "metadata": {
    "id": "kwUcHPdy_Zcu"
   },
   "outputs": [
    {
     "data": {
      "text/plain": [
       "genre\n",
       "pop            218\n",
       "dance          182\n",
       "rock           162\n",
       "electronic     147\n",
       "hiphop          80\n",
       "ruspop          64\n",
       "alternative     58\n",
       "rusrap          55\n",
       "jazz            44\n",
       "classical       40\n",
       "Name: genre, dtype: int64"
      ]
     },
     "execution_count": 32,
     "metadata": {},
     "output_type": "execute_result"
    }
   ],
   "source": [
    "genre_weekday(spb_general, 'Monday', '07:00', '11:00')# вызов функции для утра понедельника в Петербурге "
   ]
  },
  {
   "cell_type": "code",
   "execution_count": 33,
   "metadata": {
    "id": "EzXVRE1o_Zcu"
   },
   "outputs": [
    {
     "data": {
      "text/plain": [
       "genre\n",
       "pop            713\n",
       "rock           517\n",
       "dance          495\n",
       "electronic     482\n",
       "hiphop         273\n",
       "world          208\n",
       "ruspop         170\n",
       "alternative    163\n",
       "classical      163\n",
       "rusrap         142\n",
       "Name: genre, dtype: int64"
      ]
     },
     "execution_count": 33,
     "metadata": {},
     "output_type": "execute_result"
    }
   ],
   "source": [
    "genre_weekday(moscow_general, 'Friday', '17:00', '23:00')# вызов функции для вечера пятницы в Москве"
   ]
  },
  {
   "cell_type": "code",
   "execution_count": 34,
   "metadata": {
    "id": "JZaEKu5v_Zcu",
    "scrolled": true
   },
   "outputs": [
    {
     "data": {
      "text/plain": [
       "genre\n",
       "pop            256\n",
       "rock           216\n",
       "electronic     216\n",
       "dance          210\n",
       "hiphop          97\n",
       "alternative     63\n",
       "jazz            61\n",
       "classical       60\n",
       "rusrap          59\n",
       "world           54\n",
       "Name: genre, dtype: int64"
      ]
     },
     "execution_count": 34,
     "metadata": {},
     "output_type": "execute_result"
    }
   ],
   "source": [
    "genre_weekday(spb_general, 'Friday', '17:00', '23:00')# вызов функции для вечера пятницы в Петербурге"
   ]
  },
  {
   "cell_type": "markdown",
   "metadata": {
    "id": "wrCe4MNX_Zcu"
   },
   "source": [
    "**Выводы**\n",
    "\n",
    "Если сравнить топ-10 жанров в понедельник утром, можно сделать такие выводы:\n",
    "\n",
    "1. В Москве и Петербурге слушают похожую музыку. Единственное отличие — в московский рейтинг вошёл жанр “world”, а в петербургский — джаз и классика.\n",
    "\n",
    "2. В Москве пропущенных значений оказалось так много, что значение `'unknown'` заняло десятое место среди самых популярных жанров. Значит, пропущенные значения занимают существенную долю в данных и угрожают достоверности исследования.\n",
    "\n",
    "Вечер пятницы не меняет эту картину. Некоторые жанры поднимаются немного выше, другие спускаются, но в целом топ-10 остаётся тем же самым.\n",
    "\n",
    "Таким образом, вторая гипотеза подтвердилась лишь частично:\n",
    "* Пользователи слушают похожую музыку в начале недели и в конце.\n",
    "* Разница между Москвой и Петербургом не слишком выражена. В Москве чаще слушают русскую популярную музыку, в Петербурге — джаз.\n",
    "\n",
    "Однако пропуски в данных ставят под сомнение этот результат. В Москве их так много, что рейтинг топ-10 мог бы выглядеть иначе, если бы не утерянные  данные о жанрах."
   ]
  },
  {
   "cell_type": "markdown",
   "metadata": {
    "id": "JolODAqr_Zcu"
   },
   "source": [
    "### Жанровые предпочтения в Москве и Петербурге\n",
    "\n",
    "Гипотеза: Петербург — столица рэпа, музыку этого жанра там слушают чаще, чем в Москве.  В Москве преобладает поп-музыка."
   ]
  },
  {
   "cell_type": "code",
   "execution_count": 35,
   "metadata": {
    "id": "r19lIPke_Zcu"
   },
   "outputs": [],
   "source": [
    "#moscow_genres = moscow_general.groupby('genre').count().sort_values(by = 'genre', ascending = False) - неверный код \n",
    "moscow_genres = moscow_general.groupby('genre')['track'].count().sort_values(ascending=False)\n",
    " "
   ]
  },
  {
   "cell_type": "markdown",
   "metadata": {
    "id": "6kMuomxTiIr8"
   },
   "source": [
    "Выведите на экран первые десять строк `moscow_genres`:"
   ]
  },
  {
   "cell_type": "code",
   "execution_count": 36,
   "metadata": {
    "id": "WhCSooF8_Zcv"
   },
   "outputs": [
    {
     "data": {
      "text/plain": [
       "genre\n",
       "pop            5892\n",
       "dance          4435\n",
       "rock           3965\n",
       "electronic     3786\n",
       "hiphop         2096\n",
       "classical      1616\n",
       "world          1432\n",
       "alternative    1379\n",
       "ruspop         1372\n",
       "rusrap         1161\n",
       "Name: track, dtype: int64"
      ]
     },
     "execution_count": 36,
     "metadata": {},
     "output_type": "execute_result"
    }
   ],
   "source": [
    "moscow_genres.head(10)# просмотр первых 10 строк moscow_genres"
   ]
  },
  {
   "cell_type": "code",
   "execution_count": 37,
   "metadata": {
    "id": "gluLIpE7_Zcv"
   },
   "outputs": [],
   "source": [
    "spb_genres = spb_general.groupby('genre')['track'].count().sort_values(ascending=False)\n"
   ]
  },
  {
   "cell_type": "code",
   "execution_count": 38,
   "metadata": {
    "id": "uaGJHjVU_Zcv"
   },
   "outputs": [
    {
     "data": {
      "text/plain": [
       "genre\n",
       "pop            2431\n",
       "dance          1932\n",
       "rock           1879\n",
       "electronic     1736\n",
       "hiphop          960\n",
       "alternative     649\n",
       "classical       646\n",
       "rusrap          564\n",
       "ruspop          538\n",
       "world           515\n",
       "Name: track, dtype: int64"
      ]
     },
     "execution_count": 38,
     "metadata": {},
     "output_type": "execute_result"
    }
   ],
   "source": [
    "spb_genres.head(10)# просмотр первых 10 строк spb_genres"
   ]
  },
  {
   "cell_type": "markdown",
   "metadata": {
    "id": "RY51YJYu_Zcv"
   },
   "source": [
    "**Выводы**"
   ]
  },
  {
   "cell_type": "markdown",
   "metadata": {
    "id": "nVhnJEm__Zcv"
   },
   "source": [
    "Гипотеза частично подтвердилась:\n",
    "* Поп-музыка — самый популярный жанр в Москве, как и предполагала гипотеза. Более того, в топ-10 жанров встречается близкий жанр — русская популярная музыка.\n",
    "* Вопреки ожиданиям, рэп одинаково популярен в Москве и Петербурге. \n"
   ]
  },
  {
   "cell_type": "markdown",
   "metadata": {
    "id": "ykKQ0N65_Zcv"
   },
   "source": [
    "## Итоги "
   ]
  },
  {
   "cell_type": "markdown",
   "metadata": {
    "id": "tjUwbHb3_Zcv"
   },
   "source": [
    "Проверены три гипотезы и установлено:\n",
    "\n",
    "1. День недели по-разному влияет на активность пользователей в Москве и Петербурге. \n",
    "\n",
    "Первая гипотеза полностью подтвердилась.\n",
    "\n",
    "2. Музыкальные предпочтения не сильно меняются в течение недели в городах. Небольшие различия заметны в начале недели, по понедельникам:\n",
    "* в Москве слушают музыку жанра “world”,\n",
    "* в Петербурге — джаз и классику.\n",
    "\n",
    "Таким образом, вторая гипотеза подтвердилась лишь отчасти. Этот результат мог оказаться иным, если бы не пропуски в данных.\n",
    "\n",
    "3. Во вкусах пользователей Москвы и Петербурга больше общего чем различий. Вопреки ожиданиям, предпочтения жанров в Петербурге напоминают московские.\n",
    "\n",
    "Третья гипотеза не подтвердилась. Если различия в предпочтениях и существуют, на основной массе пользователей они незаметны.\n"
   ]
  }
 ],
 "metadata": {
  "ExecuteTimeLog": [
   {
    "duration": 403,
    "start_time": "2022-02-02T19:32:21.003Z"
   },
   {
    "duration": 277,
    "start_time": "2022-02-02T19:36:48.468Z"
   },
   {
    "duration": 248,
    "start_time": "2022-02-02T19:39:54.989Z"
   },
   {
    "duration": 541,
    "start_time": "2022-02-02T19:40:16.572Z"
   },
   {
    "duration": 264,
    "start_time": "2022-02-02T19:43:08.551Z"
   },
   {
    "duration": 799,
    "start_time": "2022-02-02T19:43:24.423Z"
   },
   {
    "duration": 149,
    "start_time": "2022-02-02T19:43:28.335Z"
   },
   {
    "duration": 171,
    "start_time": "2022-02-02T19:43:42.751Z"
   },
   {
    "duration": 39,
    "start_time": "2022-02-02T19:45:16.943Z"
   },
   {
    "duration": 4,
    "start_time": "2022-02-02T19:47:26.117Z"
   },
   {
    "duration": 277,
    "start_time": "2022-02-02T19:49:27.284Z"
   },
   {
    "duration": 21,
    "start_time": "2022-02-02T19:50:09.875Z"
   },
   {
    "duration": 18,
    "start_time": "2022-02-02T19:50:13.012Z"
   },
   {
    "duration": 4,
    "start_time": "2022-02-02T19:50:28.499Z"
   },
   {
    "duration": 25,
    "start_time": "2022-02-02T20:09:13.033Z"
   },
   {
    "duration": 296,
    "start_time": "2022-02-03T18:57:05.191Z"
   },
   {
    "duration": -700,
    "start_time": "2022-02-03T18:57:40.892Z"
   },
   {
    "duration": -694,
    "start_time": "2022-02-03T18:57:53.781Z"
   },
   {
    "duration": 7652,
    "start_time": "2022-02-03T18:58:13.499Z"
   },
   {
    "duration": 6529,
    "start_time": "2022-02-03T19:04:33.175Z"
   },
   {
    "duration": 33,
    "start_time": "2022-02-03T19:10:11.612Z"
   },
   {
    "duration": 13290,
    "start_time": "2022-02-03T19:10:15.732Z"
   },
   {
    "duration": 86,
    "start_time": "2022-02-03T19:12:52.562Z"
   },
   {
    "duration": 387,
    "start_time": "2022-02-03T19:14:37.595Z"
   },
   {
    "duration": 73,
    "start_time": "2022-02-03T19:15:03.770Z"
   },
   {
    "duration": 88,
    "start_time": "2022-02-03T19:18:24.247Z"
   },
   {
    "duration": 78,
    "start_time": "2022-02-03T19:18:26.608Z"
   },
   {
    "duration": 63,
    "start_time": "2022-02-03T19:18:32.524Z"
   },
   {
    "duration": 7,
    "start_time": "2022-02-03T19:20:54.331Z"
   },
   {
    "duration": 6,
    "start_time": "2022-02-03T19:36:54.243Z"
   },
   {
    "duration": 8295,
    "start_time": "2022-02-03T19:37:57.511Z"
   },
   {
    "duration": -734,
    "start_time": "2022-02-03T19:38:06.543Z"
   },
   {
    "duration": 7,
    "start_time": "2022-02-03T19:38:15.074Z"
   },
   {
    "duration": 6675,
    "start_time": "2022-02-03T19:42:08.499Z"
   },
   {
    "duration": 6,
    "start_time": "2022-02-03T19:42:23.451Z"
   },
   {
    "duration": 923,
    "start_time": "2022-02-03T19:52:33.722Z"
   },
   {
    "duration": 148,
    "start_time": "2022-02-03T19:52:35.577Z"
   },
   {
    "duration": 159,
    "start_time": "2022-02-03T19:52:37.388Z"
   },
   {
    "duration": 25,
    "start_time": "2022-02-03T19:52:40.150Z"
   },
   {
    "duration": 4,
    "start_time": "2022-02-03T19:52:43.557Z"
   },
   {
    "duration": 21,
    "start_time": "2022-02-03T19:52:45.445Z"
   },
   {
    "duration": 4,
    "start_time": "2022-02-03T19:52:46.869Z"
   },
   {
    "duration": 26,
    "start_time": "2022-02-03T19:52:48.092Z"
   },
   {
    "duration": 7156,
    "start_time": "2022-02-03T19:52:50.721Z"
   },
   {
    "duration": -711,
    "start_time": "2022-02-03T19:52:58.591Z"
   },
   {
    "duration": 6722,
    "start_time": "2022-02-03T19:53:10.179Z"
   },
   {
    "duration": 3,
    "start_time": "2022-02-03T19:53:30.269Z"
   },
   {
    "duration": 153,
    "start_time": "2022-02-03T19:53:31.841Z"
   },
   {
    "duration": 156,
    "start_time": "2022-02-03T19:53:32.608Z"
   },
   {
    "duration": 25,
    "start_time": "2022-02-03T19:53:33.111Z"
   },
   {
    "duration": 4,
    "start_time": "2022-02-03T19:53:34.109Z"
   },
   {
    "duration": 13,
    "start_time": "2022-02-03T19:53:34.962Z"
   },
   {
    "duration": 3,
    "start_time": "2022-02-03T19:53:35.912Z"
   },
   {
    "duration": 25,
    "start_time": "2022-02-03T19:53:36.345Z"
   },
   {
    "duration": 6926,
    "start_time": "2022-02-03T19:53:37.199Z"
   },
   {
    "duration": -728,
    "start_time": "2022-02-03T19:53:44.855Z"
   },
   {
    "duration": -738,
    "start_time": "2022-02-03T19:53:44.866Z"
   },
   {
    "duration": -742,
    "start_time": "2022-02-03T19:53:44.871Z"
   },
   {
    "duration": -747,
    "start_time": "2022-02-03T19:53:44.877Z"
   },
   {
    "duration": 7,
    "start_time": "2022-02-03T19:53:44.294Z"
   },
   {
    "duration": 6723,
    "start_time": "2022-02-03T19:53:46.419Z"
   },
   {
    "duration": -712,
    "start_time": "2022-02-03T19:53:53.857Z"
   },
   {
    "duration": -712,
    "start_time": "2022-02-03T19:53:53.859Z"
   },
   {
    "duration": -713,
    "start_time": "2022-02-03T19:53:53.862Z"
   },
   {
    "duration": 3,
    "start_time": "2022-02-03T19:53:54.007Z"
   },
   {
    "duration": 3,
    "start_time": "2022-02-03T19:54:01.155Z"
   },
   {
    "duration": 159,
    "start_time": "2022-02-03T19:54:04.332Z"
   },
   {
    "duration": 153,
    "start_time": "2022-02-03T19:54:04.758Z"
   },
   {
    "duration": 27,
    "start_time": "2022-02-03T19:54:05.119Z"
   },
   {
    "duration": 4,
    "start_time": "2022-02-03T19:54:06.154Z"
   },
   {
    "duration": 15,
    "start_time": "2022-02-03T19:54:06.526Z"
   },
   {
    "duration": 3,
    "start_time": "2022-02-03T19:54:06.935Z"
   },
   {
    "duration": 24,
    "start_time": "2022-02-03T19:54:07.306Z"
   },
   {
    "duration": 7410,
    "start_time": "2022-02-03T19:54:08.053Z"
   },
   {
    "duration": -707,
    "start_time": "2022-02-03T19:54:16.179Z"
   },
   {
    "duration": -708,
    "start_time": "2022-02-03T19:54:16.181Z"
   },
   {
    "duration": -709,
    "start_time": "2022-02-03T19:54:16.184Z"
   },
   {
    "duration": -710,
    "start_time": "2022-02-03T19:54:16.186Z"
   },
   {
    "duration": -712,
    "start_time": "2022-02-03T19:54:16.189Z"
   },
   {
    "duration": -713,
    "start_time": "2022-02-03T19:54:16.191Z"
   },
   {
    "duration": -714,
    "start_time": "2022-02-03T19:54:16.193Z"
   },
   {
    "duration": -715,
    "start_time": "2022-02-03T19:54:16.195Z"
   },
   {
    "duration": -715,
    "start_time": "2022-02-03T19:54:16.197Z"
   },
   {
    "duration": -716,
    "start_time": "2022-02-03T19:54:16.199Z"
   },
   {
    "duration": 3,
    "start_time": "2022-02-03T19:54:16.026Z"
   },
   {
    "duration": 3,
    "start_time": "2022-02-03T19:54:16.489Z"
   },
   {
    "duration": 2,
    "start_time": "2022-02-03T19:54:16.797Z"
   },
   {
    "duration": 3,
    "start_time": "2022-02-03T19:54:17.049Z"
   },
   {
    "duration": 3,
    "start_time": "2022-02-03T19:54:17.304Z"
   },
   {
    "duration": 3,
    "start_time": "2022-02-03T19:54:17.565Z"
   },
   {
    "duration": 3,
    "start_time": "2022-02-03T19:54:18.202Z"
   },
   {
    "duration": 3,
    "start_time": "2022-02-03T19:54:20.106Z"
   },
   {
    "duration": 2,
    "start_time": "2022-02-03T19:54:20.459Z"
   },
   {
    "duration": 3,
    "start_time": "2022-02-03T19:54:20.995Z"
   },
   {
    "duration": 3,
    "start_time": "2022-02-03T19:54:21.510Z"
   },
   {
    "duration": 2,
    "start_time": "2022-02-03T19:54:21.764Z"
   },
   {
    "duration": 2,
    "start_time": "2022-02-03T19:54:21.997Z"
   },
   {
    "duration": 3,
    "start_time": "2022-02-03T19:54:22.222Z"
   },
   {
    "duration": 3,
    "start_time": "2022-02-03T19:54:23.746Z"
   },
   {
    "duration": 3,
    "start_time": "2022-02-03T19:54:24.178Z"
   },
   {
    "duration": 3,
    "start_time": "2022-02-03T19:54:24.607Z"
   },
   {
    "duration": 3,
    "start_time": "2022-02-03T19:54:25.035Z"
   },
   {
    "duration": 3,
    "start_time": "2022-02-03T19:54:38.543Z"
   },
   {
    "duration": 321,
    "start_time": "2022-02-03T19:57:04.934Z"
   },
   {
    "duration": 631,
    "start_time": "2022-02-03T19:57:12.804Z"
   },
   {
    "duration": 3,
    "start_time": "2022-02-03T19:57:19.786Z"
   },
   {
    "duration": 159,
    "start_time": "2022-02-03T19:57:20.247Z"
   },
   {
    "duration": 160,
    "start_time": "2022-02-03T19:57:20.691Z"
   },
   {
    "duration": 26,
    "start_time": "2022-02-03T19:57:21.121Z"
   },
   {
    "duration": 4,
    "start_time": "2022-02-03T19:57:22.053Z"
   },
   {
    "duration": 24,
    "start_time": "2022-02-03T19:57:22.425Z"
   },
   {
    "duration": 4,
    "start_time": "2022-02-03T19:57:22.807Z"
   },
   {
    "duration": 25,
    "start_time": "2022-02-03T19:57:23.178Z"
   },
   {
    "duration": 3,
    "start_time": "2022-02-03T19:57:41.277Z"
   },
   {
    "duration": 3,
    "start_time": "2022-02-03T19:57:54.625Z"
   },
   {
    "duration": 154,
    "start_time": "2022-02-03T19:57:55.145Z"
   },
   {
    "duration": 161,
    "start_time": "2022-02-03T19:57:55.574Z"
   },
   {
    "duration": 26,
    "start_time": "2022-02-03T19:57:55.991Z"
   },
   {
    "duration": 4,
    "start_time": "2022-02-03T19:57:56.962Z"
   },
   {
    "duration": 17,
    "start_time": "2022-02-03T19:57:57.327Z"
   },
   {
    "duration": 5,
    "start_time": "2022-02-03T19:57:57.677Z"
   },
   {
    "duration": 32,
    "start_time": "2022-02-03T19:57:58.042Z"
   },
   {
    "duration": 6652,
    "start_time": "2022-02-03T19:57:58.736Z"
   },
   {
    "duration": -740,
    "start_time": "2022-02-03T19:58:06.131Z"
   },
   {
    "duration": -742,
    "start_time": "2022-02-03T19:58:06.134Z"
   },
   {
    "duration": -743,
    "start_time": "2022-02-03T19:58:06.136Z"
   },
   {
    "duration": -744,
    "start_time": "2022-02-03T19:58:06.138Z"
   },
   {
    "duration": -746,
    "start_time": "2022-02-03T19:58:06.141Z"
   },
   {
    "duration": -747,
    "start_time": "2022-02-03T19:58:06.144Z"
   },
   {
    "duration": -748,
    "start_time": "2022-02-03T19:58:06.146Z"
   },
   {
    "duration": -750,
    "start_time": "2022-02-03T19:58:06.149Z"
   },
   {
    "duration": -752,
    "start_time": "2022-02-03T19:58:06.152Z"
   },
   {
    "duration": -754,
    "start_time": "2022-02-03T19:58:06.155Z"
   },
   {
    "duration": -756,
    "start_time": "2022-02-03T19:58:06.158Z"
   },
   {
    "duration": -758,
    "start_time": "2022-02-03T19:58:06.161Z"
   },
   {
    "duration": -768,
    "start_time": "2022-02-03T19:58:06.172Z"
   },
   {
    "duration": -773,
    "start_time": "2022-02-03T19:58:06.178Z"
   },
   {
    "duration": -774,
    "start_time": "2022-02-03T19:58:06.180Z"
   },
   {
    "duration": -776,
    "start_time": "2022-02-03T19:58:06.183Z"
   },
   {
    "duration": -776,
    "start_time": "2022-02-03T19:58:06.185Z"
   },
   {
    "duration": 2,
    "start_time": "2022-02-03T19:58:06.731Z"
   },
   {
    "duration": 3,
    "start_time": "2022-02-03T19:58:06.924Z"
   },
   {
    "duration": 3,
    "start_time": "2022-02-03T19:58:07.404Z"
   },
   {
    "duration": 3,
    "start_time": "2022-02-03T19:58:07.824Z"
   },
   {
    "duration": 4,
    "start_time": "2022-02-03T19:58:08.030Z"
   },
   {
    "duration": 3,
    "start_time": "2022-02-03T19:58:08.274Z"
   },
   {
    "duration": 3,
    "start_time": "2022-02-03T19:58:08.499Z"
   },
   {
    "duration": 3,
    "start_time": "2022-02-03T19:58:09.360Z"
   },
   {
    "duration": 3,
    "start_time": "2022-02-03T19:58:09.774Z"
   },
   {
    "duration": 3,
    "start_time": "2022-02-03T19:58:10.148Z"
   },
   {
    "duration": 3,
    "start_time": "2022-02-03T19:58:10.560Z"
   },
   {
    "duration": 3,
    "start_time": "2022-02-03T19:58:24.448Z"
   },
   {
    "duration": 579,
    "start_time": "2022-02-03T19:58:36.361Z"
   },
   {
    "duration": 3,
    "start_time": "2022-02-03T19:58:42.300Z"
   },
   {
    "duration": 161,
    "start_time": "2022-02-03T19:58:44.843Z"
   },
   {
    "duration": 645,
    "start_time": "2022-02-03T19:58:57.884Z"
   },
   {
    "duration": 3,
    "start_time": "2022-02-03T19:59:01.790Z"
   },
   {
    "duration": 629,
    "start_time": "2022-02-03T19:59:08.719Z"
   },
   {
    "duration": 158,
    "start_time": "2022-02-03T19:59:10.717Z"
   },
   {
    "duration": 173,
    "start_time": "2022-02-03T19:59:12.593Z"
   },
   {
    "duration": 25,
    "start_time": "2022-02-03T19:59:15.867Z"
   },
   {
    "duration": 4,
    "start_time": "2022-02-03T19:59:19.955Z"
   },
   {
    "duration": 24,
    "start_time": "2022-02-03T19:59:23.178Z"
   },
   {
    "duration": 4,
    "start_time": "2022-02-03T19:59:24.722Z"
   },
   {
    "duration": 24,
    "start_time": "2022-02-03T19:59:27.986Z"
   },
   {
    "duration": 6621,
    "start_time": "2022-02-03T19:59:38.168Z"
   },
   {
    "duration": 7083,
    "start_time": "2022-02-03T20:03:11.533Z"
   },
   {
    "duration": 21,
    "start_time": "2022-02-03T20:03:34.944Z"
   },
   {
    "duration": 29,
    "start_time": "2022-02-03T20:03:49.796Z"
   },
   {
    "duration": 32,
    "start_time": "2022-02-03T20:03:55.160Z"
   },
   {
    "duration": 62,
    "start_time": "2022-02-03T20:04:06.313Z"
   },
   {
    "duration": 619,
    "start_time": "2022-02-03T20:04:28.116Z"
   },
   {
    "duration": 166,
    "start_time": "2022-02-03T20:04:29.898Z"
   },
   {
    "duration": 191,
    "start_time": "2022-02-03T20:04:31.032Z"
   },
   {
    "duration": 28,
    "start_time": "2022-02-03T20:04:32.224Z"
   },
   {
    "duration": 5,
    "start_time": "2022-02-03T20:04:35.090Z"
   },
   {
    "duration": 24,
    "start_time": "2022-02-03T20:04:36.182Z"
   },
   {
    "duration": 4,
    "start_time": "2022-02-03T20:04:37.162Z"
   },
   {
    "duration": 23,
    "start_time": "2022-02-03T20:04:38.019Z"
   },
   {
    "duration": 27,
    "start_time": "2022-02-03T20:04:40.277Z"
   },
   {
    "duration": 30,
    "start_time": "2022-02-03T20:04:41.284Z"
   },
   {
    "duration": 62,
    "start_time": "2022-02-03T20:04:46.083Z"
   },
   {
    "duration": 69,
    "start_time": "2022-02-03T20:04:47.934Z"
   },
   {
    "duration": 58,
    "start_time": "2022-02-03T20:04:49.167Z"
   },
   {
    "duration": 8,
    "start_time": "2022-02-03T20:04:53.484Z"
   },
   {
    "duration": 6949,
    "start_time": "2022-02-03T20:05:01.212Z"
   },
   {
    "duration": 19,
    "start_time": "2022-02-03T20:06:08.745Z"
   },
   {
    "duration": 17,
    "start_time": "2022-02-03T20:06:12.644Z"
   },
   {
    "duration": 7,
    "start_time": "2022-02-03T20:06:17.703Z"
   },
   {
    "duration": 109,
    "start_time": "2022-02-03T20:09:52.560Z"
   },
   {
    "duration": 126,
    "start_time": "2022-02-03T20:10:05.151Z"
   },
   {
    "duration": 46,
    "start_time": "2022-02-03T20:10:32.087Z"
   },
   {
    "duration": 46,
    "start_time": "2022-02-03T20:10:53.517Z"
   },
   {
    "duration": 283,
    "start_time": "2022-02-03T20:11:52.022Z"
   },
   {
    "duration": 37,
    "start_time": "2022-02-03T20:12:04.557Z"
   },
   {
    "duration": 4,
    "start_time": "2022-02-03T20:18:53.288Z"
   },
   {
    "duration": 24,
    "start_time": "2022-02-03T20:19:17.121Z"
   },
   {
    "duration": 16,
    "start_time": "2022-02-03T20:19:45.161Z"
   },
   {
    "duration": 18,
    "start_time": "2022-02-03T20:20:05.112Z"
   },
   {
    "duration": 16,
    "start_time": "2022-02-03T20:20:16.994Z"
   },
   {
    "duration": 20,
    "start_time": "2022-02-03T20:20:34.233Z"
   },
   {
    "duration": 16,
    "start_time": "2022-02-03T20:20:53.416Z"
   },
   {
    "duration": 8,
    "start_time": "2022-02-03T20:26:46.554Z"
   },
   {
    "duration": 5,
    "start_time": "2022-02-03T20:26:51.756Z"
   },
   {
    "duration": 5,
    "start_time": "2022-02-03T20:26:54.114Z"
   },
   {
    "duration": 5,
    "start_time": "2022-02-03T20:26:59.742Z"
   },
   {
    "duration": 5,
    "start_time": "2022-02-03T20:27:03.416Z"
   },
   {
    "duration": 6,
    "start_time": "2022-02-03T20:27:05.012Z"
   },
   {
    "duration": 9,
    "start_time": "2022-02-03T20:27:18.965Z"
   },
   {
    "duration": 246,
    "start_time": "2022-02-05T10:40:22.751Z"
   },
   {
    "duration": 200,
    "start_time": "2022-02-05T10:43:13.940Z"
   },
   {
    "duration": 196,
    "start_time": "2022-02-05T10:44:22.999Z"
   },
   {
    "duration": 194,
    "start_time": "2022-02-05T10:44:51.015Z"
   },
   {
    "duration": 205,
    "start_time": "2022-02-05T10:45:20.599Z"
   },
   {
    "duration": 516,
    "start_time": "2022-02-05T10:45:34.767Z"
   },
   {
    "duration": 511,
    "start_time": "2022-02-05T10:45:48.165Z"
   },
   {
    "duration": 132,
    "start_time": "2022-02-05T10:45:49.883Z"
   },
   {
    "duration": 136,
    "start_time": "2022-02-05T10:45:50.919Z"
   },
   {
    "duration": 23,
    "start_time": "2022-02-05T10:45:52.257Z"
   },
   {
    "duration": 3,
    "start_time": "2022-02-05T10:45:54.721Z"
   },
   {
    "duration": 20,
    "start_time": "2022-02-05T10:45:56.124Z"
   },
   {
    "duration": 3,
    "start_time": "2022-02-05T10:45:57.426Z"
   },
   {
    "duration": 21,
    "start_time": "2022-02-05T10:45:58.587Z"
   },
   {
    "duration": 19,
    "start_time": "2022-02-05T10:46:00.535Z"
   },
   {
    "duration": 28,
    "start_time": "2022-02-05T10:46:01.192Z"
   },
   {
    "duration": 53,
    "start_time": "2022-02-05T10:46:02.500Z"
   },
   {
    "duration": 58,
    "start_time": "2022-02-05T10:46:03.566Z"
   },
   {
    "duration": 45,
    "start_time": "2022-02-05T10:46:04.539Z"
   },
   {
    "duration": 6,
    "start_time": "2022-02-05T10:46:06.154Z"
   },
   {
    "duration": 17,
    "start_time": "2022-02-05T10:46:07.844Z"
   },
   {
    "duration": 6,
    "start_time": "2022-02-05T10:46:08.972Z"
   },
   {
    "duration": 33,
    "start_time": "2022-02-05T10:46:11.704Z"
   },
   {
    "duration": 31,
    "start_time": "2022-02-05T10:46:12.597Z"
   },
   {
    "duration": 4,
    "start_time": "2022-02-05T10:46:14.201Z"
   },
   {
    "duration": 16,
    "start_time": "2022-02-05T10:46:15.296Z"
   },
   {
    "duration": 14,
    "start_time": "2022-02-05T10:46:15.768Z"
   },
   {
    "duration": 15,
    "start_time": "2022-02-05T10:46:16.241Z"
   },
   {
    "duration": 14,
    "start_time": "2022-02-05T10:46:16.735Z"
   },
   {
    "duration": 15,
    "start_time": "2022-02-05T10:46:17.108Z"
   },
   {
    "duration": 14,
    "start_time": "2022-02-05T10:46:17.441Z"
   },
   {
    "duration": 7,
    "start_time": "2022-02-05T10:46:18.069Z"
   },
   {
    "duration": 17,
    "start_time": "2022-02-05T10:46:20.617Z"
   },
   {
    "duration": 16,
    "start_time": "2022-02-05T10:46:21.488Z"
   },
   {
    "duration": 5,
    "start_time": "2022-02-05T10:49:55.590Z"
   },
   {
    "duration": 4,
    "start_time": "2022-02-05T10:50:09.326Z"
   },
   {
    "duration": 20,
    "start_time": "2022-02-05T10:52:51.903Z"
   },
   {
    "duration": 14,
    "start_time": "2022-02-05T10:53:25.477Z"
   },
   {
    "duration": 16,
    "start_time": "2022-02-05T10:54:02.693Z"
   },
   {
    "duration": 13,
    "start_time": "2022-02-05T10:54:29.211Z"
   },
   {
    "duration": 254,
    "start_time": "2022-02-05T11:03:09.319Z"
   },
   {
    "duration": 20,
    "start_time": "2022-02-05T11:03:44.470Z"
   },
   {
    "duration": 219,
    "start_time": "2022-02-05T11:04:30.125Z"
   },
   {
    "duration": 4,
    "start_time": "2022-02-05T11:04:41.598Z"
   },
   {
    "duration": 9,
    "start_time": "2022-02-05T11:05:00.518Z"
   },
   {
    "duration": 5,
    "start_time": "2022-02-05T11:07:47.125Z"
   },
   {
    "duration": 9,
    "start_time": "2022-02-05T11:07:51.533Z"
   },
   {
    "duration": 184,
    "start_time": "2022-02-05T11:09:17.147Z"
   },
   {
    "duration": 14,
    "start_time": "2022-02-05T11:09:29.269Z"
   },
   {
    "duration": 9,
    "start_time": "2022-02-05T11:10:07.281Z"
   },
   {
    "duration": 9,
    "start_time": "2022-02-05T11:10:12.585Z"
   },
   {
    "duration": 9,
    "start_time": "2022-02-05T11:11:07.681Z"
   },
   {
    "duration": 9,
    "start_time": "2022-02-05T11:11:19.489Z"
   },
   {
    "duration": 8,
    "start_time": "2022-02-05T11:11:22.216Z"
   },
   {
    "duration": 8,
    "start_time": "2022-02-05T11:11:28.970Z"
   },
   {
    "duration": 9,
    "start_time": "2022-02-05T11:11:45.105Z"
   },
   {
    "duration": 313,
    "start_time": "2022-02-13T14:17:06.380Z"
   },
   {
    "duration": 260,
    "start_time": "2022-02-13T14:17:30.604Z"
   },
   {
    "duration": 789,
    "start_time": "2022-02-13T14:17:48.273Z"
   },
   {
    "duration": 4,
    "start_time": "2022-02-13T14:17:50.689Z"
   },
   {
    "duration": 4,
    "start_time": "2022-02-13T14:18:02.878Z"
   },
   {
    "duration": 323,
    "start_time": "2022-02-13T14:22:26.407Z"
   },
   {
    "duration": 256,
    "start_time": "2022-02-13T14:24:36.149Z"
   },
   {
    "duration": 263,
    "start_time": "2022-02-13T14:24:40.791Z"
   },
   {
    "duration": 825,
    "start_time": "2022-02-13T14:25:08.504Z"
   },
   {
    "duration": 202,
    "start_time": "2022-02-13T14:25:12.254Z"
   },
   {
    "duration": 95,
    "start_time": "2022-02-13T14:40:13.778Z"
   },
   {
    "duration": 63,
    "start_time": "2022-02-13T14:41:22.502Z"
   },
   {
    "duration": 62,
    "start_time": "2022-02-13T14:57:46.805Z"
   },
   {
    "duration": 17,
    "start_time": "2022-02-13T15:03:54.230Z"
   },
   {
    "duration": 295,
    "start_time": "2022-02-13T15:22:25.955Z"
   },
   {
    "duration": 266,
    "start_time": "2022-02-13T15:23:24.983Z"
   },
   {
    "duration": 4,
    "start_time": "2022-02-13T15:24:50.978Z"
   },
   {
    "duration": 4,
    "start_time": "2022-02-13T15:25:39.387Z"
   },
   {
    "duration": 210,
    "start_time": "2022-02-13T15:25:41.698Z"
   },
   {
    "duration": 220,
    "start_time": "2022-02-13T15:25:44.371Z"
   },
   {
    "duration": 37,
    "start_time": "2022-02-13T15:25:48.786Z"
   },
   {
    "duration": 895,
    "start_time": "2022-02-13T15:26:05.160Z"
   },
   {
    "duration": 208,
    "start_time": "2022-02-13T15:26:07.957Z"
   },
   {
    "duration": 202,
    "start_time": "2022-02-13T15:26:09.804Z"
   },
   {
    "duration": 34,
    "start_time": "2022-02-13T15:26:12.186Z"
   },
   {
    "duration": 5,
    "start_time": "2022-02-13T15:26:16.364Z"
   },
   {
    "duration": 32,
    "start_time": "2022-02-13T15:26:18.202Z"
   },
   {
    "duration": 5,
    "start_time": "2022-02-13T15:26:20.156Z"
   },
   {
    "duration": 32,
    "start_time": "2022-02-13T15:26:21.842Z"
   },
   {
    "duration": 25,
    "start_time": "2022-02-13T15:26:24.589Z"
   },
   {
    "duration": 46,
    "start_time": "2022-02-13T15:26:25.942Z"
   },
   {
    "duration": 102,
    "start_time": "2022-02-13T15:26:27.258Z"
   },
   {
    "duration": 103,
    "start_time": "2022-02-13T15:26:29.022Z"
   },
   {
    "duration": 80,
    "start_time": "2022-02-13T15:26:32.289Z"
   },
   {
    "duration": 60,
    "start_time": "2022-02-13T15:26:34.353Z"
   },
   {
    "duration": 26,
    "start_time": "2022-02-13T15:26:43.350Z"
   },
   {
    "duration": 65,
    "start_time": "2022-02-13T15:26:45.110Z"
   },
   {
    "duration": 16,
    "start_time": "2022-02-13T15:27:01.991Z"
   },
   {
    "duration": 48,
    "start_time": "2022-02-13T15:27:06.341Z"
   },
   {
    "duration": 16,
    "start_time": "2022-02-13T15:27:15.379Z"
   },
   {
    "duration": 6,
    "start_time": "2022-02-13T15:27:22.109Z"
   },
   {
    "duration": 21,
    "start_time": "2022-02-13T15:27:24.457Z"
   },
   {
    "duration": 21,
    "start_time": "2022-02-13T15:27:25.037Z"
   },
   {
    "duration": 20,
    "start_time": "2022-02-13T15:27:25.730Z"
   },
   {
    "duration": 19,
    "start_time": "2022-02-13T15:27:28.289Z"
   },
   {
    "duration": 23,
    "start_time": "2022-02-13T15:27:29.034Z"
   },
   {
    "duration": 19,
    "start_time": "2022-02-13T15:27:29.960Z"
   },
   {
    "duration": 10,
    "start_time": "2022-02-13T15:27:32.323Z"
   },
   {
    "duration": 27,
    "start_time": "2022-02-13T15:27:39.890Z"
   },
   {
    "duration": 29,
    "start_time": "2022-02-13T15:27:41.421Z"
   },
   {
    "duration": 5,
    "start_time": "2022-02-13T15:27:44.984Z"
   },
   {
    "duration": 25,
    "start_time": "2022-02-13T15:27:46.242Z"
   },
   {
    "duration": 18,
    "start_time": "2022-02-13T15:27:47.090Z"
   },
   {
    "duration": 24,
    "start_time": "2022-02-13T15:27:47.733Z"
   },
   {
    "duration": 18,
    "start_time": "2022-02-13T15:27:49.878Z"
   },
   {
    "duration": 14,
    "start_time": "2022-02-13T15:27:55.416Z"
   },
   {
    "duration": 7,
    "start_time": "2022-02-13T15:28:02.639Z"
   },
   {
    "duration": 10,
    "start_time": "2022-02-13T15:28:07.138Z"
   },
   {
    "duration": 7,
    "start_time": "2022-02-13T15:28:12.412Z"
   },
   {
    "duration": 10,
    "start_time": "2022-02-13T15:31:26.857Z"
   },
   {
    "duration": 826,
    "start_time": "2022-02-13T15:32:21.744Z"
   },
   {
    "duration": 184,
    "start_time": "2022-02-13T15:32:23.552Z"
   },
   {
    "duration": 206,
    "start_time": "2022-02-13T15:32:25.734Z"
   },
   {
    "duration": 34,
    "start_time": "2022-02-13T15:32:27.903Z"
   },
   {
    "duration": 6,
    "start_time": "2022-02-13T15:32:32.021Z"
   },
   {
    "duration": 28,
    "start_time": "2022-02-13T15:32:33.673Z"
   },
   {
    "duration": 5,
    "start_time": "2022-02-13T15:32:35.244Z"
   },
   {
    "duration": 34,
    "start_time": "2022-02-13T15:32:36.929Z"
   },
   {
    "duration": 25,
    "start_time": "2022-02-13T15:32:39.701Z"
   },
   {
    "duration": 40,
    "start_time": "2022-02-13T15:32:40.738Z"
   },
   {
    "duration": 92,
    "start_time": "2022-02-13T15:32:41.875Z"
   },
   {
    "duration": 101,
    "start_time": "2022-02-13T15:32:43.556Z"
   },
   {
    "duration": 83,
    "start_time": "2022-02-13T15:32:45.156Z"
   },
   {
    "duration": 63,
    "start_time": "2022-02-13T15:32:46.771Z"
   },
   {
    "duration": 25,
    "start_time": "2022-02-13T15:32:52.327Z"
   },
   {
    "duration": 60,
    "start_time": "2022-02-13T15:32:53.972Z"
   },
   {
    "duration": 22,
    "start_time": "2022-02-13T15:33:04.847Z"
   },
   {
    "duration": 51,
    "start_time": "2022-02-13T15:33:05.486Z"
   },
   {
    "duration": 17,
    "start_time": "2022-02-13T15:33:07.368Z"
   },
   {
    "duration": 5,
    "start_time": "2022-02-13T15:33:14.716Z"
   },
   {
    "duration": 34,
    "start_time": "2022-02-13T15:33:16.874Z"
   },
   {
    "duration": 21,
    "start_time": "2022-02-13T15:33:17.268Z"
   },
   {
    "duration": 24,
    "start_time": "2022-02-13T15:33:17.748Z"
   },
   {
    "duration": 18,
    "start_time": "2022-02-13T15:33:18.184Z"
   },
   {
    "duration": 26,
    "start_time": "2022-02-13T15:33:18.654Z"
   },
   {
    "duration": 31,
    "start_time": "2022-02-13T15:33:19.119Z"
   },
   {
    "duration": 12,
    "start_time": "2022-02-13T15:33:20.889Z"
   },
   {
    "duration": 28,
    "start_time": "2022-02-13T15:33:23.201Z"
   },
   {
    "duration": 26,
    "start_time": "2022-02-13T15:33:24.637Z"
   },
   {
    "duration": 8,
    "start_time": "2022-02-13T15:33:27.459Z"
   },
   {
    "duration": 24,
    "start_time": "2022-02-13T15:33:28.931Z"
   },
   {
    "duration": 17,
    "start_time": "2022-02-13T15:33:30.809Z"
   },
   {
    "duration": 28,
    "start_time": "2022-02-13T15:33:31.419Z"
   },
   {
    "duration": 17,
    "start_time": "2022-02-13T15:33:31.909Z"
   },
   {
    "duration": 13,
    "start_time": "2022-02-13T15:33:40.929Z"
   },
   {
    "duration": 8,
    "start_time": "2022-02-13T15:33:43.911Z"
   },
   {
    "duration": 10,
    "start_time": "2022-02-13T15:33:46.385Z"
   },
   {
    "duration": 7,
    "start_time": "2022-02-13T15:33:49.216Z"
   }
  ],
  "colab": {
   "collapsed_sections": [
    "E0vqbgi9ay0H",
    "VUC88oWjTJw2"
   ],
   "name": "yandex_music_project_2021.2.ipynb",
   "provenance": []
  },
  "kernelspec": {
   "display_name": "Python 3 (ipykernel)",
   "language": "python",
   "name": "python3"
  },
  "language_info": {
   "codemirror_mode": {
    "name": "ipython",
    "version": 3
   },
   "file_extension": ".py",
   "mimetype": "text/x-python",
   "name": "python",
   "nbconvert_exporter": "python",
   "pygments_lexer": "ipython3",
   "version": "3.9.7"
  },
  "toc": {
   "base_numbering": 1,
   "nav_menu": {},
   "number_sections": true,
   "sideBar": true,
   "skip_h1_title": true,
   "title_cell": "Table of Contents",
   "title_sidebar": "Contents",
   "toc_cell": false,
   "toc_position": {},
   "toc_section_display": true,
   "toc_window_display": true
  }
 },
 "nbformat": 4,
 "nbformat_minor": 1
}
