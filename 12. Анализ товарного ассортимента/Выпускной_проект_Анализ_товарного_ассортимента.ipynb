{
 "cells": [
  {
   "cell_type": "markdown",
   "metadata": {},
   "source": [
    "<b><font size=5><center>Выпускной проект.<br> Анализ товарного ассортимента интернет-магазина товаров для дома и быта «Пока все ещё тут».</center></font></b>"
   ]
  },
  {
   "cell_type": "markdown",
   "metadata": {},
   "source": [
    "Описание проекта.\n",
    "Для анализа дана выгрузка ассортимента интернет-магазина товаров для дома и быта \"Пока все тут\".\n",
    "Менеджеру проекта, который отвечает за актуальность товароного ассортимента необходимо:  \n",
    "- определить какие товары являются основными, какие дополнительными;  \n",
    "- предложить варианты по доп. товарам для увеличения продаж;  \n",
    "- оптимизация закупок товара.   \n",
    "\n",
    "\n",
    "Описание данных:  \n",
    "- `date` — дата заказа;\n",
    "- `customer_id` — идентификатор покупателя;\n",
    "- `order_id` — идентификатор заказа;\n",
    "- `product` — наименование товара;\n",
    "- `quantity` — количество товара в заказе;\n",
    "- `price` — цена товара."
   ]
  },
  {
   "cell_type": "markdown",
   "metadata": {},
   "source": [
    "## Загрузка данных "
   ]
  },
  {
   "cell_type": "code",
   "execution_count": 1,
   "metadata": {},
   "outputs": [],
   "source": [
    "#импорт библиотек \n",
    "import pandas as pd\n",
    "import numpy as np\n",
    "from IPython import display\n",
    "\n",
    "import warnings\n",
    "from pandas.core.common import SettingWithCopyWarning\n",
    "warnings.simplefilter(action=\"ignore\", category=SettingWithCopyWarning)\n",
    "warnings.filterwarnings(\"ignore\", category=FutureWarning)\n",
    "\n",
    "from pymystem3 import Mystem\n",
    "from collections import Counter\n",
    "\n",
    "from scipy import stats as st\n",
    "\n",
    "import matplotlib.pyplot as plt\n",
    "import seaborn as sns"
   ]
  },
  {
   "cell_type": "code",
   "execution_count": 2,
   "metadata": {},
   "outputs": [],
   "source": [
    "df = pd.read_csv('https://code.s3.yandex.net/datasets/ecommerce_dataset.csv')"
   ]
  },
  {
   "cell_type": "code",
   "execution_count": 3,
   "metadata": {},
   "outputs": [
    {
     "data": {
      "text/html": [
       "<div>\n",
       "<style scoped>\n",
       "    .dataframe tbody tr th:only-of-type {\n",
       "        vertical-align: middle;\n",
       "    }\n",
       "\n",
       "    .dataframe tbody tr th {\n",
       "        vertical-align: top;\n",
       "    }\n",
       "\n",
       "    .dataframe thead th {\n",
       "        text-align: right;\n",
       "    }\n",
       "</style>\n",
       "<table border=\"1\" class=\"dataframe\">\n",
       "  <thead>\n",
       "    <tr style=\"text-align: right;\">\n",
       "      <th></th>\n",
       "      <th>date</th>\n",
       "      <th>customer_id</th>\n",
       "      <th>order_id</th>\n",
       "      <th>product</th>\n",
       "      <th>quantity</th>\n",
       "      <th>price</th>\n",
       "    </tr>\n",
       "  </thead>\n",
       "  <tbody>\n",
       "    <tr>\n",
       "      <th>0</th>\n",
       "      <td>2018100100</td>\n",
       "      <td>ee47d746-6d2f-4d3c-9622-c31412542920</td>\n",
       "      <td>68477</td>\n",
       "      <td>Комнатное растение в горшке Алое Вера, d12, h30</td>\n",
       "      <td>1</td>\n",
       "      <td>142.0</td>\n",
       "    </tr>\n",
       "    <tr>\n",
       "      <th>1</th>\n",
       "      <td>2018100100</td>\n",
       "      <td>ee47d746-6d2f-4d3c-9622-c31412542920</td>\n",
       "      <td>68477</td>\n",
       "      <td>Комнатное растение в горшке Кофе Арабика, d12,...</td>\n",
       "      <td>1</td>\n",
       "      <td>194.0</td>\n",
       "    </tr>\n",
       "    <tr>\n",
       "      <th>2</th>\n",
       "      <td>2018100100</td>\n",
       "      <td>ee47d746-6d2f-4d3c-9622-c31412542920</td>\n",
       "      <td>68477</td>\n",
       "      <td>Радермахера d-12 см h-20 см</td>\n",
       "      <td>1</td>\n",
       "      <td>112.0</td>\n",
       "    </tr>\n",
       "    <tr>\n",
       "      <th>3</th>\n",
       "      <td>2018100100</td>\n",
       "      <td>ee47d746-6d2f-4d3c-9622-c31412542920</td>\n",
       "      <td>68477</td>\n",
       "      <td>Хризолидокарпус Лутесценс d-9 см</td>\n",
       "      <td>1</td>\n",
       "      <td>179.0</td>\n",
       "    </tr>\n",
       "    <tr>\n",
       "      <th>4</th>\n",
       "      <td>2018100100</td>\n",
       "      <td>ee47d746-6d2f-4d3c-9622-c31412542920</td>\n",
       "      <td>68477</td>\n",
       "      <td>Циперус Зумула d-12 см h-25 см</td>\n",
       "      <td>1</td>\n",
       "      <td>112.0</td>\n",
       "    </tr>\n",
       "  </tbody>\n",
       "</table>\n",
       "</div>"
      ],
      "text/plain": [
       "         date                           customer_id  order_id  \\\n",
       "0  2018100100  ee47d746-6d2f-4d3c-9622-c31412542920     68477   \n",
       "1  2018100100  ee47d746-6d2f-4d3c-9622-c31412542920     68477   \n",
       "2  2018100100  ee47d746-6d2f-4d3c-9622-c31412542920     68477   \n",
       "3  2018100100  ee47d746-6d2f-4d3c-9622-c31412542920     68477   \n",
       "4  2018100100  ee47d746-6d2f-4d3c-9622-c31412542920     68477   \n",
       "\n",
       "                                             product  quantity  price  \n",
       "0    Комнатное растение в горшке Алое Вера, d12, h30         1  142.0  \n",
       "1  Комнатное растение в горшке Кофе Арабика, d12,...         1  194.0  \n",
       "2                        Радермахера d-12 см h-20 см         1  112.0  \n",
       "3                   Хризолидокарпус Лутесценс d-9 см         1  179.0  \n",
       "4                     Циперус Зумула d-12 см h-25 см         1  112.0  "
      ]
     },
     "execution_count": 3,
     "metadata": {},
     "output_type": "execute_result"
    }
   ],
   "source": [
    "#предпросмотр \n",
    "df.head()"
   ]
  },
  {
   "cell_type": "code",
   "execution_count": 4,
   "metadata": {},
   "outputs": [
    {
     "name": "stdout",
     "output_type": "stream",
     "text": [
      "<class 'pandas.core.frame.DataFrame'>\n",
      "RangeIndex: 6737 entries, 0 to 6736\n",
      "Data columns (total 6 columns):\n",
      " #   Column       Non-Null Count  Dtype  \n",
      "---  ------       --------------  -----  \n",
      " 0   date         6737 non-null   int64  \n",
      " 1   customer_id  6737 non-null   object \n",
      " 2   order_id     6737 non-null   int64  \n",
      " 3   product      6737 non-null   object \n",
      " 4   quantity     6737 non-null   int64  \n",
      " 5   price        6737 non-null   float64\n",
      "dtypes: float64(1), int64(3), object(2)\n",
      "memory usage: 315.9+ KB\n"
     ]
    }
   ],
   "source": [
    "df.info()"
   ]
  },
  {
   "cell_type": "markdown",
   "metadata": {},
   "source": [
    "Данные для анализа состоят из 6737 строк и 6 столбцов. При предварительном просторе определила необходимость изменения типа данных, приведения наименования продуктов к нижнему регистру. "
   ]
  },
  {
   "cell_type": "markdown",
   "metadata": {},
   "source": [
    "## Подготовка данных"
   ]
  },
  {
   "cell_type": "code",
   "execution_count": 5,
   "metadata": {},
   "outputs": [],
   "source": [
    "#преобразование типа данных \n",
    "df['date'] = pd.to_datetime(df['date'], format='%Y%m%d%H')"
   ]
  },
  {
   "cell_type": "code",
   "execution_count": 6,
   "metadata": {},
   "outputs": [
    {
     "data": {
      "text/plain": [
       "date           0\n",
       "customer_id    0\n",
       "order_id       0\n",
       "product        0\n",
       "quantity       0\n",
       "price          0\n",
       "dtype: int64"
      ]
     },
     "execution_count": 6,
     "metadata": {},
     "output_type": "execute_result"
    }
   ],
   "source": [
    "#просмотр пропусков\n",
    "df.isna().sum()"
   ]
  },
  {
   "cell_type": "code",
   "execution_count": 7,
   "metadata": {},
   "outputs": [
    {
     "data": {
      "text/plain": [
       "0"
      ]
     },
     "execution_count": 7,
     "metadata": {},
     "output_type": "execute_result"
    }
   ],
   "source": [
    "#просмотр дубликатов\n",
    "df.duplicated().sum()"
   ]
  },
  {
   "cell_type": "code",
   "execution_count": 8,
   "metadata": {},
   "outputs": [],
   "source": [
    "#приведение к нижнему регистру\n",
    "df['product'] = df['product'].str.lower()"
   ]
  },
  {
   "cell_type": "code",
   "execution_count": 9,
   "metadata": {},
   "outputs": [
    {
     "data": {
      "text/html": [
       "<div>\n",
       "<style scoped>\n",
       "    .dataframe tbody tr th:only-of-type {\n",
       "        vertical-align: middle;\n",
       "    }\n",
       "\n",
       "    .dataframe tbody tr th {\n",
       "        vertical-align: top;\n",
       "    }\n",
       "\n",
       "    .dataframe thead th {\n",
       "        text-align: right;\n",
       "    }\n",
       "</style>\n",
       "<table border=\"1\" class=\"dataframe\">\n",
       "  <thead>\n",
       "    <tr style=\"text-align: right;\">\n",
       "      <th></th>\n",
       "      <th>order_id</th>\n",
       "      <th>quantity</th>\n",
       "      <th>price</th>\n",
       "    </tr>\n",
       "  </thead>\n",
       "  <tbody>\n",
       "    <tr>\n",
       "      <th>count</th>\n",
       "      <td>6737.000000</td>\n",
       "      <td>6737.000000</td>\n",
       "      <td>6737.000000</td>\n",
       "    </tr>\n",
       "    <tr>\n",
       "      <th>mean</th>\n",
       "      <td>43128.948345</td>\n",
       "      <td>2.501559</td>\n",
       "      <td>462.028499</td>\n",
       "    </tr>\n",
       "    <tr>\n",
       "      <th>std</th>\n",
       "      <td>27899.414662</td>\n",
       "      <td>15.266478</td>\n",
       "      <td>871.296064</td>\n",
       "    </tr>\n",
       "    <tr>\n",
       "      <th>min</th>\n",
       "      <td>12624.000000</td>\n",
       "      <td>1.000000</td>\n",
       "      <td>9.000000</td>\n",
       "    </tr>\n",
       "    <tr>\n",
       "      <th>25%</th>\n",
       "      <td>14827.000000</td>\n",
       "      <td>1.000000</td>\n",
       "      <td>101.000000</td>\n",
       "    </tr>\n",
       "    <tr>\n",
       "      <th>50%</th>\n",
       "      <td>68503.000000</td>\n",
       "      <td>1.000000</td>\n",
       "      <td>135.000000</td>\n",
       "    </tr>\n",
       "    <tr>\n",
       "      <th>75%</th>\n",
       "      <td>70504.000000</td>\n",
       "      <td>1.000000</td>\n",
       "      <td>398.000000</td>\n",
       "    </tr>\n",
       "    <tr>\n",
       "      <th>max</th>\n",
       "      <td>73164.000000</td>\n",
       "      <td>1000.000000</td>\n",
       "      <td>14917.000000</td>\n",
       "    </tr>\n",
       "  </tbody>\n",
       "</table>\n",
       "</div>"
      ],
      "text/plain": [
       "           order_id     quantity         price\n",
       "count   6737.000000  6737.000000   6737.000000\n",
       "mean   43128.948345     2.501559    462.028499\n",
       "std    27899.414662    15.266478    871.296064\n",
       "min    12624.000000     1.000000      9.000000\n",
       "25%    14827.000000     1.000000    101.000000\n",
       "50%    68503.000000     1.000000    135.000000\n",
       "75%    70504.000000     1.000000    398.000000\n",
       "max    73164.000000  1000.000000  14917.000000"
      ]
     },
     "execution_count": 9,
     "metadata": {},
     "output_type": "execute_result"
    }
   ],
   "source": [
    "df.describe()"
   ]
  },
  {
   "cell_type": "code",
   "execution_count": 10,
   "metadata": {},
   "outputs": [
    {
     "data": {
      "text/plain": [
       "count                    6737\n",
       "unique                   2606\n",
       "top       2019-04-27 16:00:00\n",
       "freq                       51\n",
       "first     2018-10-01 00:00:00\n",
       "last      2019-10-31 16:00:00\n",
       "Name: date, dtype: object"
      ]
     },
     "execution_count": 10,
     "metadata": {},
     "output_type": "execute_result"
    }
   ],
   "source": [
    "df['date'].describe()"
   ]
  },
  {
   "cell_type": "code",
   "execution_count": 11,
   "metadata": {},
   "outputs": [
    {
     "name": "stdout",
     "output_type": "stream",
     "text": [
      "Всего по идентификатору покупателей: 2451\n",
      "Всего по идентификатору заказа: 2784\n",
      "Всего товаров: 2341\n"
     ]
    }
   ],
   "source": [
    "print('Всего по идентификатору покупателей:',len(df['customer_id'].unique()))\n",
    "print('Всего по идентификатору заказа:',len(df['order_id'].unique()))\n",
    "print('Всего товаров:',len(df['product'].unique()))"
   ]
  },
  {
   "cell_type": "code",
   "execution_count": 12,
   "metadata": {},
   "outputs": [],
   "source": [
    "df['month'] = df['date'].dt.month"
   ]
  },
  {
   "cell_type": "code",
   "execution_count": 13,
   "metadata": {},
   "outputs": [],
   "source": [
    "df['year'] = df['date'].dt.year"
   ]
  },
  {
   "cell_type": "code",
   "execution_count": 14,
   "metadata": {
    "scrolled": false
   },
   "outputs": [
    {
     "data": {
      "text/html": [
       "<div>\n",
       "<style scoped>\n",
       "    .dataframe tbody tr th:only-of-type {\n",
       "        vertical-align: middle;\n",
       "    }\n",
       "\n",
       "    .dataframe tbody tr th {\n",
       "        vertical-align: top;\n",
       "    }\n",
       "\n",
       "    .dataframe thead th {\n",
       "        text-align: right;\n",
       "    }\n",
       "</style>\n",
       "<table border=\"1\" class=\"dataframe\">\n",
       "  <thead>\n",
       "    <tr style=\"text-align: right;\">\n",
       "      <th></th>\n",
       "      <th>date</th>\n",
       "      <th>customer_id</th>\n",
       "      <th>order_id</th>\n",
       "      <th>product</th>\n",
       "      <th>quantity</th>\n",
       "      <th>price</th>\n",
       "      <th>month</th>\n",
       "      <th>year</th>\n",
       "    </tr>\n",
       "  </thead>\n",
       "  <tbody>\n",
       "    <tr>\n",
       "      <th>0</th>\n",
       "      <td>2018-10-01</td>\n",
       "      <td>ee47d746-6d2f-4d3c-9622-c31412542920</td>\n",
       "      <td>68477</td>\n",
       "      <td>комнатное растение в горшке алое вера, d12, h30</td>\n",
       "      <td>1</td>\n",
       "      <td>142.0</td>\n",
       "      <td>10</td>\n",
       "      <td>2018</td>\n",
       "    </tr>\n",
       "    <tr>\n",
       "      <th>1</th>\n",
       "      <td>2018-10-01</td>\n",
       "      <td>ee47d746-6d2f-4d3c-9622-c31412542920</td>\n",
       "      <td>68477</td>\n",
       "      <td>комнатное растение в горшке кофе арабика, d12,...</td>\n",
       "      <td>1</td>\n",
       "      <td>194.0</td>\n",
       "      <td>10</td>\n",
       "      <td>2018</td>\n",
       "    </tr>\n",
       "    <tr>\n",
       "      <th>2</th>\n",
       "      <td>2018-10-01</td>\n",
       "      <td>ee47d746-6d2f-4d3c-9622-c31412542920</td>\n",
       "      <td>68477</td>\n",
       "      <td>радермахера d-12 см h-20 см</td>\n",
       "      <td>1</td>\n",
       "      <td>112.0</td>\n",
       "      <td>10</td>\n",
       "      <td>2018</td>\n",
       "    </tr>\n",
       "    <tr>\n",
       "      <th>3</th>\n",
       "      <td>2018-10-01</td>\n",
       "      <td>ee47d746-6d2f-4d3c-9622-c31412542920</td>\n",
       "      <td>68477</td>\n",
       "      <td>хризолидокарпус лутесценс d-9 см</td>\n",
       "      <td>1</td>\n",
       "      <td>179.0</td>\n",
       "      <td>10</td>\n",
       "      <td>2018</td>\n",
       "    </tr>\n",
       "    <tr>\n",
       "      <th>4</th>\n",
       "      <td>2018-10-01</td>\n",
       "      <td>ee47d746-6d2f-4d3c-9622-c31412542920</td>\n",
       "      <td>68477</td>\n",
       "      <td>циперус зумула d-12 см h-25 см</td>\n",
       "      <td>1</td>\n",
       "      <td>112.0</td>\n",
       "      <td>10</td>\n",
       "      <td>2018</td>\n",
       "    </tr>\n",
       "  </tbody>\n",
       "</table>\n",
       "</div>"
      ],
      "text/plain": [
       "        date                           customer_id  order_id  \\\n",
       "0 2018-10-01  ee47d746-6d2f-4d3c-9622-c31412542920     68477   \n",
       "1 2018-10-01  ee47d746-6d2f-4d3c-9622-c31412542920     68477   \n",
       "2 2018-10-01  ee47d746-6d2f-4d3c-9622-c31412542920     68477   \n",
       "3 2018-10-01  ee47d746-6d2f-4d3c-9622-c31412542920     68477   \n",
       "4 2018-10-01  ee47d746-6d2f-4d3c-9622-c31412542920     68477   \n",
       "\n",
       "                                             product  quantity  price  month  \\\n",
       "0    комнатное растение в горшке алое вера, d12, h30         1  142.0     10   \n",
       "1  комнатное растение в горшке кофе арабика, d12,...         1  194.0     10   \n",
       "2                        радермахера d-12 см h-20 см         1  112.0     10   \n",
       "3                   хризолидокарпус лутесценс d-9 см         1  179.0     10   \n",
       "4                     циперус зумула d-12 см h-25 см         1  112.0     10   \n",
       "\n",
       "   year  \n",
       "0  2018  \n",
       "1  2018  \n",
       "2  2018  \n",
       "3  2018  \n",
       "4  2018  "
      ]
     },
     "execution_count": 14,
     "metadata": {},
     "output_type": "execute_result"
    }
   ],
   "source": [
    "df.head()"
   ]
  },
  {
   "cell_type": "code",
   "execution_count": 15,
   "metadata": {
    "scrolled": false
   },
   "outputs": [
    {
     "data": {
      "text/plain": [
       "count    6737.000000\n",
       "mean        2.501559\n",
       "std        15.266478\n",
       "min         1.000000\n",
       "25%         1.000000\n",
       "50%         1.000000\n",
       "75%         1.000000\n",
       "max      1000.000000\n",
       "Name: quantity, dtype: float64"
      ]
     },
     "execution_count": 15,
     "metadata": {},
     "output_type": "execute_result"
    }
   ],
   "source": [
    "#информация о данных в столбце quantity\n",
    "df['quantity'].describe()"
   ]
  },
  {
   "cell_type": "markdown",
   "metadata": {},
   "source": [
    "Видим большой разброс ( стандартное отклонение в 15 шт.), выбросы в 1000 шт. Среднее отличается от мединанного значения. \n",
    "Смротрим более подробно, чтобы принять решение. "
   ]
  },
  {
   "cell_type": "code",
   "execution_count": 16,
   "metadata": {
    "scrolled": false
   },
   "outputs": [
    {
     "data": {
      "text/plain": [
       "5456    1000\n",
       "5071     334\n",
       "3961     300\n",
       "1158     200\n",
       "568      170\n",
       "211      150\n",
       "212      150\n",
       "267      150\n",
       "2431     150\n",
       "266      150\n",
       "586      140\n",
       "6535     100\n",
       "6707     100\n",
       "1103     100\n",
       "1555     100\n",
       "13        96\n",
       "6367      80\n",
       "4082      70\n",
       "6567      65\n",
       "160       64\n",
       "Name: quantity, dtype: int64"
      ]
     },
     "execution_count": 16,
     "metadata": {},
     "output_type": "execute_result"
    }
   ],
   "source": [
    "df['quantity'].sort_values(ascending = False).head(20)"
   ]
  },
  {
   "cell_type": "code",
   "execution_count": 17,
   "metadata": {
    "scrolled": true
   },
   "outputs": [
    {
     "data": {
      "text/html": [
       "<div>\n",
       "<style scoped>\n",
       "    .dataframe tbody tr th:only-of-type {\n",
       "        vertical-align: middle;\n",
       "    }\n",
       "\n",
       "    .dataframe tbody tr th {\n",
       "        vertical-align: top;\n",
       "    }\n",
       "\n",
       "    .dataframe thead th {\n",
       "        text-align: right;\n",
       "    }\n",
       "</style>\n",
       "<table border=\"1\" class=\"dataframe\">\n",
       "  <thead>\n",
       "    <tr style=\"text-align: right;\">\n",
       "      <th></th>\n",
       "      <th>date</th>\n",
       "      <th>customer_id</th>\n",
       "      <th>order_id</th>\n",
       "      <th>product</th>\n",
       "      <th>quantity</th>\n",
       "      <th>price</th>\n",
       "      <th>month</th>\n",
       "      <th>year</th>\n",
       "    </tr>\n",
       "  </thead>\n",
       "  <tbody>\n",
       "    <tr>\n",
       "      <th>5456</th>\n",
       "      <td>2019-06-18 15:00:00</td>\n",
       "      <td>312e9a3e-5fca-43ff-a6a1-892d2b2d5ba6</td>\n",
       "      <td>71743</td>\n",
       "      <td>вантуз с деревянной ручкой d14 см красный, bur...</td>\n",
       "      <td>1000</td>\n",
       "      <td>675.0</td>\n",
       "      <td>6</td>\n",
       "      <td>2019</td>\n",
       "    </tr>\n",
       "  </tbody>\n",
       "</table>\n",
       "</div>"
      ],
      "text/plain": [
       "                    date                           customer_id  order_id  \\\n",
       "5456 2019-06-18 15:00:00  312e9a3e-5fca-43ff-a6a1-892d2b2d5ba6     71743   \n",
       "\n",
       "                                                product  quantity  price  \\\n",
       "5456  вантуз с деревянной ручкой d14 см красный, bur...      1000  675.0   \n",
       "\n",
       "      month  year  \n",
       "5456      6  2019  "
      ]
     },
     "execution_count": 17,
     "metadata": {},
     "output_type": "execute_result"
    }
   ],
   "source": [
    "df.query('quantity == 1000') "
   ]
  },
  {
   "cell_type": "code",
   "execution_count": 18,
   "metadata": {
    "scrolled": true
   },
   "outputs": [
    {
     "data": {
      "text/plain": [
       "array(['крючок одежный 2-х рожковый серый металлик с полимерным покрытием *тонар*, 1110027',\n",
       "       'крепеж для пружины дверной, 1107055',\n",
       "       'пружина дверная 240 мм оцинкованная (д-19 мм) без крепления, 1107014',\n",
       "       'муляж яблоко 9 см красное',\n",
       "       'щетка для посуды *оля*, мультипласт 1807010',\n",
       "       'ручка-скоба рс-100 белая *трибатрон*, 1108035',\n",
       "       'щетка для мытья посуды колибри м5202 большая',\n",
       "       'плечики пластмассовые размер 52 - 54 тула 1205158',\n",
       "       'насадка на валик вмм-200/60 белый искусственный мех, 0703011',\n",
       "       'вешалки мягкие для деликатных вещей 3 шт шоколад',\n",
       "       'вантуз с деревянной ручкой d14 см красный, burstenmann, 0522/0000',\n",
       "       'универсальный нож webber из нержавеющей стали русские мотивы 12,7 см с деревянной ручкой ве-2252d',\n",
       "       'крепеж для пружины дверной оцинкованный, 1107054',\n",
       "       'шпингалет 80 мм белый с пружиной, 1102188'], dtype=object)"
      ]
     },
     "execution_count": 18,
     "metadata": {},
     "output_type": "execute_result"
    }
   ],
   "source": [
    "#информация о товарах \n",
    "df.query('quantity >= 70')['product'].unique()"
   ]
  },
  {
   "cell_type": "code",
   "execution_count": 19,
   "metadata": {
    "scrolled": false
   },
   "outputs": [
    {
     "data": {
      "text/html": [
       "<div>\n",
       "<style scoped>\n",
       "    .dataframe tbody tr th:only-of-type {\n",
       "        vertical-align: middle;\n",
       "    }\n",
       "\n",
       "    .dataframe tbody tr th {\n",
       "        vertical-align: top;\n",
       "    }\n",
       "\n",
       "    .dataframe thead th {\n",
       "        text-align: right;\n",
       "    }\n",
       "</style>\n",
       "<table border=\"1\" class=\"dataframe\">\n",
       "  <thead>\n",
       "    <tr style=\"text-align: right;\">\n",
       "      <th></th>\n",
       "      <th></th>\n",
       "      <th></th>\n",
       "      <th></th>\n",
       "      <th></th>\n",
       "      <th>price</th>\n",
       "    </tr>\n",
       "    <tr>\n",
       "      <th>customer_id</th>\n",
       "      <th>order_id</th>\n",
       "      <th>month</th>\n",
       "      <th>quantity</th>\n",
       "      <th>product</th>\n",
       "      <th></th>\n",
       "    </tr>\n",
       "  </thead>\n",
       "  <tbody>\n",
       "    <tr>\n",
       "      <th>018fb729-3525-4314-8e4d-1982b1062f9f</th>\n",
       "      <th>73110</th>\n",
       "      <th>10</th>\n",
       "      <th>100</th>\n",
       "      <th>шпингалет 80 мм белый с пружиной, 1102188</th>\n",
       "      <td>44.0</td>\n",
       "    </tr>\n",
       "    <tr>\n",
       "      <th>0948b0c2-990b-4a11-b835-69ac4714b21d</th>\n",
       "      <th>68486</th>\n",
       "      <th>10</th>\n",
       "      <th>96</th>\n",
       "      <th>крючок одежный 2-х рожковый серый металлик с полимерным покрытием *тонар*, 1110027</th>\n",
       "      <td>38.0</td>\n",
       "    </tr>\n",
       "    <tr>\n",
       "      <th>0c5aaa88-e346-4f87-8f7a-ad8cbc04e965</th>\n",
       "      <th>68831</th>\n",
       "      <th>11</th>\n",
       "      <th>140</th>\n",
       "      <th>муляж яблоко 9 см красное</th>\n",
       "      <td>59.0</td>\n",
       "    </tr>\n",
       "    <tr>\n",
       "      <th>146cd9bf-a95c-4afb-915b-5f6684b17444</th>\n",
       "      <th>71668</th>\n",
       "      <th>6</th>\n",
       "      <th>334</th>\n",
       "      <th>вешалки мягкие для деликатных вещей 3 шт шоколад</th>\n",
       "      <td>148.0</td>\n",
       "    </tr>\n",
       "    <tr>\n",
       "      <th>312e9a3e-5fca-43ff-a6a1-892d2b2d5ba6</th>\n",
       "      <th>71743</th>\n",
       "      <th>6</th>\n",
       "      <th>1000</th>\n",
       "      <th>вантуз с деревянной ручкой d14 см красный, burstenmann, 0522/0000</th>\n",
       "      <td>675.0</td>\n",
       "    </tr>\n",
       "    <tr>\n",
       "      <th>5d189e88-d4d6-4eac-ab43-fa65a3c4d106</th>\n",
       "      <th>71478</th>\n",
       "      <th>5</th>\n",
       "      <th>300</th>\n",
       "      <th>муляж яблоко 9 см красное</th>\n",
       "      <td>51.0</td>\n",
       "    </tr>\n",
       "    <tr>\n",
       "      <th>685d3d84-aebb-485b-8e59-344b3df8b3d3</th>\n",
       "      <th>70841</th>\n",
       "      <th>3</th>\n",
       "      <th>150</th>\n",
       "      <th>плечики пластмассовые размер 52 - 54 тула 1205158</th>\n",
       "      <td>20.0</td>\n",
       "    </tr>\n",
       "    <tr>\n",
       "      <th>7d255526-fcc2-4f79-b28a-217d7d2373a8</th>\n",
       "      <th>69206</th>\n",
       "      <th>12</th>\n",
       "      <th>100</th>\n",
       "      <th>щетка для посуды *оля*, мультипласт 1807010</th>\n",
       "      <td>26.0</td>\n",
       "    </tr>\n",
       "    <tr>\n",
       "      <th>8eabcaca-e8c8-4eee-9079-4ff5f612273a</th>\n",
       "      <th>69893</th>\n",
       "      <th>1</th>\n",
       "      <th>100</th>\n",
       "      <th>щетка для мытья посуды колибри м5202 большая</th>\n",
       "      <td>34.0</td>\n",
       "    </tr>\n",
       "    <tr>\n",
       "      <th>a984c5b7-ff7e-4647-b84e-ef0b85a2762d</th>\n",
       "      <th>69289</th>\n",
       "      <th>12</th>\n",
       "      <th>200</th>\n",
       "      <th>ручка-скоба рс-100 белая *трибатрон*, 1108035</th>\n",
       "      <td>29.0</td>\n",
       "    </tr>\n",
       "    <tr>\n",
       "      <th>aa42dc38-780f-4b50-9a65-83b6fa64e766</th>\n",
       "      <th>68815</th>\n",
       "      <th>11</th>\n",
       "      <th>170</th>\n",
       "      <th>муляж яблоко 9 см красное</th>\n",
       "      <td>51.0</td>\n",
       "    </tr>\n",
       "    <tr>\n",
       "      <th rowspan=\"2\" valign=\"top\">cd09ea73-d9ce-48c3-b4c5-018113735e80</th>\n",
       "      <th rowspan=\"2\" valign=\"top\">68611</th>\n",
       "      <th rowspan=\"2\" valign=\"top\">10</th>\n",
       "      <th rowspan=\"2\" valign=\"top\">150</th>\n",
       "      <th>крепеж для пружины дверной, 1107055</th>\n",
       "      <td>38.0</td>\n",
       "    </tr>\n",
       "    <tr>\n",
       "      <th>пружина дверная 240 мм оцинкованная (д-19 мм) без крепления, 1107014</th>\n",
       "      <td>76.0</td>\n",
       "    </tr>\n",
       "    <tr>\n",
       "      <th>d933280e-5372-448f-be44-b269c8bafc2a</th>\n",
       "      <th>72885</th>\n",
       "      <th>10</th>\n",
       "      <th>100</th>\n",
       "      <th>крепеж для пружины дверной оцинкованный, 1107054</th>\n",
       "      <td>19.0</td>\n",
       "    </tr>\n",
       "    <tr>\n",
       "      <th>de95510f-3558-4c42-97dc-98cc4215c278</th>\n",
       "      <th>72698</th>\n",
       "      <th>9</th>\n",
       "      <th>80</th>\n",
       "      <th>универсальный нож webber из нержавеющей стали русские мотивы 12,7 см с деревянной ручкой ве-2252d</th>\n",
       "      <td>45.0</td>\n",
       "    </tr>\n",
       "    <tr>\n",
       "      <th>f9d19e1d-9414-485b-9d8d-02bc196a88e8</th>\n",
       "      <th>71539</th>\n",
       "      <th>5</th>\n",
       "      <th>70</th>\n",
       "      <th>насадка на валик вмм-200/60 белый искусственный мех, 0703011</th>\n",
       "      <td>22.0</td>\n",
       "    </tr>\n",
       "  </tbody>\n",
       "</table>\n",
       "</div>"
      ],
      "text/plain": [
       "                                                                                                                 price\n",
       "customer_id                          order_id month quantity product                                                  \n",
       "018fb729-3525-4314-8e4d-1982b1062f9f 73110    10    100      шпингалет 80 мм белый с пружиной, 1102188            44.0\n",
       "0948b0c2-990b-4a11-b835-69ac4714b21d 68486    10    96       крючок одежный 2-х рожковый серый металлик с по...   38.0\n",
       "0c5aaa88-e346-4f87-8f7a-ad8cbc04e965 68831    11    140      муляж яблоко 9 см красное                            59.0\n",
       "146cd9bf-a95c-4afb-915b-5f6684b17444 71668    6     334      вешалки мягкие для деликатных вещей 3 шт шоколад    148.0\n",
       "312e9a3e-5fca-43ff-a6a1-892d2b2d5ba6 71743    6     1000     вантуз с деревянной ручкой d14 см красный, burs...  675.0\n",
       "5d189e88-d4d6-4eac-ab43-fa65a3c4d106 71478    5     300      муляж яблоко 9 см красное                            51.0\n",
       "685d3d84-aebb-485b-8e59-344b3df8b3d3 70841    3     150      плечики пластмассовые размер 52 - 54 тула 1205158    20.0\n",
       "7d255526-fcc2-4f79-b28a-217d7d2373a8 69206    12    100      щетка для посуды *оля*, мультипласт 1807010          26.0\n",
       "8eabcaca-e8c8-4eee-9079-4ff5f612273a 69893    1     100      щетка для мытья посуды колибри м5202 большая         34.0\n",
       "a984c5b7-ff7e-4647-b84e-ef0b85a2762d 69289    12    200      ручка-скоба рс-100 белая *трибатрон*, 1108035        29.0\n",
       "aa42dc38-780f-4b50-9a65-83b6fa64e766 68815    11    170      муляж яблоко 9 см красное                            51.0\n",
       "cd09ea73-d9ce-48c3-b4c5-018113735e80 68611    10    150      крепеж для пружины дверной, 1107055                  38.0\n",
       "                                                             пружина дверная 240 мм оцинкованная (д-19 мм) б...   76.0\n",
       "d933280e-5372-448f-be44-b269c8bafc2a 72885    10    100      крепеж для пружины дверной оцинкованный, 1107054     19.0\n",
       "de95510f-3558-4c42-97dc-98cc4215c278 72698    9     80       универсальный нож webber из нержавеющей стали р...   45.0\n",
       "f9d19e1d-9414-485b-9d8d-02bc196a88e8 71539    5     70       насадка на валик вмм-200/60 белый искусственный...   22.0"
      ]
     },
     "execution_count": 19,
     "metadata": {},
     "output_type": "execute_result"
    }
   ],
   "source": [
    "df.query('quantity >= 70').pivot_table(index=['customer_id','order_id', 'month', 'quantity', 'product'],  aggfunc= {'price': np.sum})"
   ]
  },
  {
   "cell_type": "markdown",
   "metadata": {},
   "source": [
    "Рассмотрев покупки с количеством более 70 товаров, предполагаю, что это категория покупатилей с пометкой \"оптовик\". К такому выводу пришла потому, что рассмотрев заказы по product и по customer_id увидела, это разные заказчики, а товар для личного пользования, приобретен в слишком большом количестве.  Для разграничения будет введен новый столбец с категорией покупателя. Не исключила их выгрузки потому, что планирую отдельно по категориям предложить врианты увеличения продаж при помощи доп. товаров или скидочной ститемы. "
   ]
  },
  {
   "cell_type": "code",
   "execution_count": 20,
   "metadata": {
    "scrolled": true
   },
   "outputs": [
    {
     "data": {
      "image/png": "[encoded data removed]",
      "text/plain": [
       "<Figure size 432x288 with 1 Axes>"
      ]
     },
     "metadata": {
      "needs_background": "light"
     },
     "output_type": "display_data"
    }
   ],
   "source": [
    "df_retail = df.query('quantity < 70')\n",
    "\n",
    "x_values = pd.Series(range(0, len(df_retail)))\n",
    "\n",
    "plt.scatter(x_values, df_retail['quantity']) \n",
    "\n",
    "plt.title('Распределение числа заказов по пользователям')\n",
    "plt.xlabel('Число пользователей')\n",
    "plt.ylabel('Число заказов, шт')\n",
    "plt.show()"
   ]
  },
  {
   "cell_type": "markdown",
   "metadata": {},
   "source": [
    "Исключив оптовых покупателей, видим, что выбросы есть, но больше всего покупок до 10 ед. товара. "
   ]
  },
  {
   "cell_type": "code",
   "execution_count": 21,
   "metadata": {},
   "outputs": [],
   "source": [
    "#функция для категоризации покупателей, где опт - оптовые продажи, розница - розничные продажи \n",
    "def category_of_buyers(row):\n",
    "    if row['quantity'] >= 70:\n",
    "        return 'опт'\n",
    "    elif row['quantity'] < 70:\n",
    "        return 'розница'\n",
    "    \n",
    "\n",
    "df['category_of_buyers'] = df.apply(category_of_buyers, axis = 1) \n"
   ]
  },
  {
   "cell_type": "markdown",
   "metadata": {},
   "source": [
    "Работа с товарами. "
   ]
  },
  {
   "cell_type": "code",
   "execution_count": 22,
   "metadata": {
    "scrolled": false
   },
   "outputs": [
    {
     "data": {
      "text/plain": [
       "['комнатный растение в горшок алый вера, d12, h30',\n",
       " 'комнатный растение в горшок кофе арабика, d12, h25',\n",
       " 'радермахер d-12 см h-20 см',\n",
       " 'хризолидокарпус лутесценс d-9 см',\n",
       " 'циперус зумул d-12 см h-25 см',\n",
       " 'шеффлер лузеан d-9 см',\n",
       " 'юкка нитчатый d-12 см h-25-35 см',\n",
       " 'настенный сушилка для белье gimi brio super 100',\n",
       " 'таз пластмассовый 21,0 л круглый \"водолей\" с614, 1404056',\n",
       " 'чехол для гладильный доска colombo persia beige 130х50 см из хлопок 5379',\n",
       " 'вешалка для брюки металлический с резиновый покрытие 26 см цвет: синий, attribute, ahs331',\n",
       " 'сушилка для белье потолочный zalger lift basic 1520 200 см, 10 м',\n",
       " 'чехол eurogold clean basic хлопок для доска 120х38-120х42 см c42',\n",
       " 'крючок одежный 2-х рожковый серый металлик с полимерный покрытие *тонар*, 1110027',\n",
       " 'корзина мягкий пластиковый 17 л, м-пластика, m2880',\n",
       " 'мини-сковорода marmiton \"сердце\" с антипригарный покрытие 12 см, lg17085',\n",
       " 'сковорода алюминиевый с антипригарный покрытие marble alpenkok d = 26 см ak-0039a/26n',\n",
       " 'стеклянный крышка для сковорода alpenkok 26 см ak-26gl',\n",
       " 'сушилка для белье напольный colombo star 18, 3679',\n",
       " 'доска гладильный eurogold professional 130х48 см металлический сетка 35748w',\n",
       " 'чехол для гладильный доска festival 137x60 см из хлопок 4738',\n",
       " 'сумка-тележка 2-х колесный gimi argo синий',\n",
       " 'многолетний растение тимьян-чабрец розовый объем 0,5 л',\n",
       " 'рассада зелень для кухня базилик тонус, кассета по 6шт',\n",
       " 'рассада зелень для кухня мелисса в горшок диам. 9 см',\n",
       " 'муляж \"райский яблочко зеленый\" 2 шт полиуретан, d 3 см',\n",
       " 'муляж банан, желтый, 21 см, полиуретан, fancy fair/ff xj210',\n",
       " 'муляж виноград 14 см цвет в ассортимент',\n",
       " 'муляж гранат 9см, красный, fancy fair, sl90, красный',\n",
       " 'муляж груша мини 2 шт, желтый 4 см',\n",
       " 'муляж груша, желтый, 9,5 см, полиуретан, fancy fair/ff li95-03',\n",
       " 'муляж зеленый яблоко полиуретан d-6 см',\n",
       " 'муляж клубника 1 шт полиуретан d-6 см',\n",
       " 'муляж клубника на магнит',\n",
       " 'муляж красный яблоко мини полиуретан d-6 см',\n",
       " 'муляж лимон, желтый, 9 см, полиуретан, fancy fair/ff nm90',\n",
       " 'муляж мандарин, оранжевый, 8 см, полиуретан, fancy fair/ff jz80',\n",
       " 'муляж перец, зеленый, 10 см, полиуретан, fancy fair/ff gp8',\n",
       " 'муляж перец, красный, 10 см, полиуретан, fancy fair/ff rp8',\n",
       " 'муляж персик мини полиуретан d-6 см',\n",
       " 'муляж томат, оранжевый, 9 см, полиуретан, fancy fair/ff t9',\n",
       " 'муляж черешня 3см 10 шт., желтый, fancy fair, scr30/10, желтый',\n",
       " 'щетка-сметка 3-х рядная деревянный 450 мм (плоский ручка), поиск риф 1801095',\n",
       " 'щетка-сметка 4-х рядная деревянный 300 мм (фигурный ручка) ворс 5,5 см 1801096',\n",
       " 'сумка для тележка большой комбинированный 45*30*25, 1209021',\n",
       " 'тарелка обеденный лимон фиц 25см, g9547, luminarc, франция',\n",
       " 'вилка столовая ripple сталь 3 мм, 3 шт, attribute, acr013',\n",
       " 'ложка столовая ripple сталь 3 мм, 3 шт, attribute, acr023',\n",
       " 'ложка чайная ripple сталь 2,5 мм, 3 шт, attribute, acr033',\n",
       " 'нож столовый ripple 80 г 2 шт, attribute, acr042',\n",
       " 'герань домашний (пеларгония зональный) цвести d12, h25-30, коралловый, полумахровый',\n",
       " 'ерш для туалет с подставка malibu фарфор 47х12,5 см белый, spirella, 1001768',\n",
       " 'пеларгония зональный диам. 12 см малиновый с красный полумахровый',\n",
       " 'пеларгония зональный диам. 12 см сиреневый-красный простой',\n",
       " 'пеларгония зональный диам. 12 см сиреневый полумахровый',\n",
       " 'пеларгония зональный диам. 12 см сиреневый простой',\n",
       " 'сушилка для белье настенный zalger prima 510-720 веревочный 7 линия 25 м',\n",
       " 'котел алюминиевый 70,0 л без крышка балезино, хозлэнд, 1502050',\n",
       " 'суккулент микс d-5 см',\n",
       " 'эхеверие перл фон нюрнберг d-7 см',\n",
       " 'набор прищепок большой пластиковый rozenbal пиноккио 10 шт r102312',\n",
       " 'сушилка для белье attribute прима 11 м синий напольный adp410',\n",
       " 'коврик придверный 45х75см. с рельефный рисунок \"welcome\", коричневый, cr005',\n",
       " 'коврик bacchetta magicstop 0,3x1,5 м бежевый для сушка посуда 2289',\n",
       " 'корзина для гладить белье natural style, 45 л, 27*38*59 см, коричневый, d 00708-213, curver 00708-213',\n",
       " 'корзина пластиковый для белье 60л. с крышка бежевый 1860/2, виолета',\n",
       " 'сушилка для белье потолочно-настенный gimi lift 200',\n",
       " 'подкладка под чехол zalger 520140 135х50 см поролон',\n",
       " 'набор кружка для пиво гамбург 2шт 500мл, h5072, luminarc, россия',\n",
       " 'коврик интерьерный для кухня village street floral из пвх прямоугольный 50х107 см, apache, 4663',\n",
       " 'дозатор для мыло hausmann белый hm-b0194r-2',\n",
       " 'ерш унитазный с подставка wc \"стандарт\", мультипласт 1712010',\n",
       " 'нож для чистка овощ webber из нержавеющий сталь 12х6,8х1,5 см ве-5275',\n",
       " 'подкладка под чехол zalger 520114 135х50 см войлок',\n",
       " 'эвкалипт гунни d-17 см h-60 см',\n",
       " 'муляж виноград, желтый, 24 см, полиуретан, fancy fair/g60-y',\n",
       " 'муляж виноград, зеленый, 26 см, полиуретан, fancy fair/g85-g',\n",
       " 'муляж виноград, черный, 26 см, полиуретан, fancy fair/g85-b',\n",
       " 'муляж вишня, вишневый, 3 см, 10 шт, полиуретан, fancy fair/ff cr30/10',\n",
       " 'муляж груша, желтый, 9,5 см, полиуретан, fancy fair/ff li95-01',\n",
       " 'муляж персик, оранжевый, 9 см, полиуретан, fancy fair/ff tz90',\n",
       " 'набор фужер luminarc дампьер сильвер для вино 260 мл 6 шт h7939',\n",
       " 'цветок искусственный гвоздик тканевый красный 50 см',\n",
       " 'ерш унитазный с деревянный ручка , ваир 1712012',\n",
       " 'сумка-тележка хозяйственный gimi market желтый',\n",
       " 'герань домашний (пеларгония зональный) цвести , d12, h25-30, красный, махровый',\n",
       " 'мусорный контейнер в ванная комната bowl-shiny полистирол 14х16 см белый, spirella, 1014964',\n",
       " 'сумка-тележка хозяйственный andersen scala shopper plus, elba, черный 133-051-80',\n",
       " 'сумка-тележка хозяйственный rolser jet cuadro mh joy серо-желтый, jet019 marengo joy',\n",
       " 'плед флисовый 100% полиэстер 185х240 см бежевый, wellness, wp184-айленд_2',\n",
       " 'скатерть династия 100% полиэфир прямоугольный 350х180 см сливочный, wellness, wt355-династия*02',\n",
       " 'рассада зелень для кухня лаванда в кассета по 6 шт',\n",
       " 'рассада зелень для кухня розмарин в кассета по 6 шт',\n",
       " 'рассада зелень для кухня тимьян в кассета по 6 шт',\n",
       " 'герань домашний (пеларгония зональный) цвести d12, h25-30, лососевый, махровый',\n",
       " 'коврик хлопковый 40х60 см цвет в ассортимент 6194',\n",
       " 'коврик хлопковый 45х75 см цвет в ассортимент 6195',\n",
       " 'сушилка для белье на батарея, сб5-45, ника',\n",
       " 'таз пластмассовый 24,0 л пищевой круглый (иж), 1404006',\n",
       " 'кувшин пластмассовый с крышка \"кумган\" 2,0 л 1408003',\n",
       " 'муляж перец чили в связка, зеленый, 60 см, полиуретан, fancy fair/ff gp60',\n",
       " 'адиантум лиза d-12 см',\n",
       " 'герань домашний (пеларгония зональный) цвести d12, h25-30, белый, махровый',\n",
       " 'ковер придверный \"multy rus\" 120х180см., коричневый, рр214/07034',\n",
       " 'перчатка латексный № 3 для дом утолщенный, rozenbal, r105628',\n",
       " 'стремянка алюминиевый hailo 4302-301 livingstep comfort plus 2 ступенчатый алюминиевый',\n",
       " 'пеларгония зональный диам. 12 см темнорозовый полумахровый',\n",
       " 'сумка-тележка хозяйственный gimi market синий',\n",
       " 'гладильный доска gimi jean green line 107х30 см',\n",
       " 'лестница-стремянка dogrular ufuk оцинковывать 7-ми ступенчатый',\n",
       " 'толкушка для картофель из нержавеющий сталь proline, leifheit, 03032',\n",
       " 'тележка багажный delta тбр-20 коричневый с оранжевый грузоподъемность 25 кг сумка и 50 кг каркас россия',\n",
       " 'готовый скатерть ажурный dia rose круглый д.152 белый, 5173, towa co., ltd',\n",
       " 'сушилка для белье напольный gimi modular 3 lux silver',\n",
       " 'искусственный цветок роза маргарита пластик 58 см',\n",
       " 'простыня на резинка односпальный wellness rm90-арктик 100% хлопок, 90х200 см, белый',\n",
       " 'сумка-тележка хозяйственный gimi bella синий',\n",
       " 'чайник эмалированный \"алый мак\" со свисток 2,5 л. есть-25001/11',\n",
       " 'ерш для бутылка из натуральный волокно и металл 23 см кремовый, burstenmann, 0473/0003',\n",
       " 'таз пластмассовый 18,0 л квадратный (тп-18) \"пластхозторг\", 1404042',\n",
       " 'таз пластмассовый 15,0 л пищевой овальный \"ekko\" 2775, 1404032',\n",
       " 'таз пластмассовый 18,0 л пищевой (иж), 1404047',\n",
       " 'таз пластмассовый 20,0 л пищевой (минеральный вода), 1404045',\n",
       " 'набор вешалка для костюм 45см 4шт цвет: кремовый, attribute, ahp224',\n",
       " 'таз пластмассовый 20,0 л пищевой овальный \"ekko\" 2776, 1404043',\n",
       " 'штора текстильный для ванна и душа полиэстер, \"разноцветный пузырек\" 180х200см, розовый/желтый/белый, dscn4061',\n",
       " 'сушилка для белье потолочно-настенный gimi lift 220, 5030',\n",
       " 'настенный сушилка для белье gimi brio super 60',\n",
       " 'сушилка для белье потолочный лиана 2,2 м 1703010',\n",
       " 'банка со стеклянный крышка, color series, круглый, 10*10*12 см, 300 мл valiant, jp-s300',\n",
       " 'банка со стеклянный крышка, color series, круглый, 7*7,6*12,5 см, 280 мл valiant, jp-s280',\n",
       " 'стяжка оконный с болт ст-55 цинк, 1108354',\n",
       " 'сумка-тележка 3-х колесный gimi tris floral синий',\n",
       " 'сушилка для белье потолочный лиана люкс 140, лдн-т',\n",
       " 'крючок одежный тройной латунь (б-47), 1110182',\n",
       " 'набор ковер для ванный комната, \"офелия\", 40х50/50х80см., серый/бежевый, ntbm50804050-26-190',\n",
       " 'сушилка для белье виолета ricko 5м rk-5/100 настенный',\n",
       " 'комплект для ванный и туалет dasch 50х80 см и 55х55 см tl-2-e лавр бежевый 5755',\n",
       " 'тележка багажный delta тбр-20 синий грузоподъемность 25 кг сумка и 50 кг каркас россия',\n",
       " 'сумка-тележка хозяйственный andersen scala shopper, elba, черный 112-051-80',\n",
       " 'муляж апельсин 8 см полиуретан',\n",
       " 'муляж яблоко зеленый 9 см полиуретан',\n",
       " 'сумка-тележка хозяйственный welfull daisy, черный 100-002-80',\n",
       " 'кампануть махровый двухцветный d-10 см',\n",
       " 'пеларгония душистый d-13 см',\n",
       " 'сушилка для белье gimi alablock',\n",
       " 'тележка багажный delta тбр-22 синий грузоподъемность 20 кг сумка и 50 кг каркас россия',\n",
       " 'пеларгония зональный диам. 12 см красный махровый',\n",
       " 'пеларгония зональный диам. 12 см ярко красный махровый',\n",
       " 'пеларгония зональный махровый белый',\n",
       " 'герань домашний (пеларгония зональный) цвести d12, h25-30, малиновый с красный, полумахровый',\n",
       " 'декоративный композиция искуственный цветок букет роза три цветок, цвет в ассортимент 85 см',\n",
       " 'искусственный цветок роза бархатный с закрывать бутон 72 см цвет в ассортимент',\n",
       " 'сумка-тележка хозяйственный rolser jet c. capri joy синий, jet017 azul joy',\n",
       " 'противень прямоугольный алюминиевый 340х240х25 см эксперт, scovo, сэ-052, /1503028',\n",
       " 'сушилка для белье потолочно-настенный gimi lift 180',\n",
       " 'герань домашний (пеларгония зональный) цвести d12, h25-30, малиновый, махровый',\n",
       " 'калатея микс d-12 см',\n",
       " 'коврик придверный влаговпитывать ребристый из полимерный материал 90х120 см серый, vortex, k041',\n",
       " 'нолина в цветной керамика d-7 см',\n",
       " 'плечики пластмассовый (размер 48 - 54 ) \"мп\", 1205160',\n",
       " 'подушка декоративный флисовый 100% полиэстер 40*40 см синий клетка, wellness, wp44-атланта_34',\n",
       " 'полотенце кухонный мила* mix, 100% хлопок 170 г/м2, 38х63,5 см, цвет в ассортимент, wellness, 4630005366090',\n",
       " 'хлорофитум d-13 см',\n",
       " 'цикламен d-13 см',\n",
       " 'пеларгония зональный диам. 12 см розовый полумахровый',\n",
       " 'пеларгония зональный диам. 12 см розовый с малиновый полумахровый',\n",
       " 'пеларгония зональный диам. 12 см розовый-малиновый простой',\n",
       " 'пеларгония зональный махровый лососевый',\n",
       " 'крепеж для пружина дверной, 1107055',\n",
       " 'пружина дверной 240 мм оцинковывать (д-19 мм) без крепление, 1107014',\n",
       " 'глоксиния d-13 см',\n",
       " 'азалия индик биколор d-12 см',\n",
       " 'гортензия микс d-12 см',\n",
       " 'хризантема космо микс d-12 см',\n",
       " 'сушилка для белье потолочный лиана 1,6 м 1703005',\n",
       " 'муляж тыква d-8 см',\n",
       " 'сушилка для белье на батарея, сб5-65, ника',\n",
       " 'герань домашний (пеларгония зональный) цвести d12, h25-30, розовый с малиновый, полумахровый',\n",
       " 'герань домашний (пеларгония зональный) цвести d12, h25-30, розовый, махровый',\n",
       " 'герань домашний (пеларгония зональный) цвести d12, h25-30, розовый-красный, полумахровый',\n",
       " 'герань домашний (пеларгония зональный) цвести d12, h25-30, розовый-малиновый, простой',\n",
       " 'герань домашний (пеларгония зональный) цвести d12, h25-30, сиреневый-красный, простой',\n",
       " 'герань домашний (пеларгония зональный) цвести d12, h25-30, сиреневый, простой',\n",
       " 'герань домашний (пеларгония зональный) цвести d12, h25-30, темнорозовый, полумахровый',\n",
       " 'герань домашний (пеларгония зональный) цвести d12, h25-30, ярко красный, махровый',\n",
       " 'коврик интерьерный для кухня tuscan wine из пвх прямоугольный 45х75 см, apache, 4660',\n",
       " 'петля приварной гаражный d 14х90 мм с шар, 1103003',\n",
       " 'сушилка для белье gimi lampo',\n",
       " 'гладильный доска ника верона 1 чехол одри 122х42 см дв1о',\n",
       " 'стеклянный крышка для сковорода alpenkok 24 см ak-24gl',\n",
       " 'стеклянный крышка для сковорода alpenkok 28 см ak-28gl',\n",
       " 'салфетка protec textil lino 30х43 см серый 6226',\n",
       " 'чехол eurogold clean metallic металлизированый с поролон для доска 110х30-114x34 см c34f3m',\n",
       " 'вкладыш для хранение посуда 2 шт d-38 cm marmiton, lg17056',\n",
       " 'миксер delta lux dl-5068 серо-голубой 400 вт 4 насадка 5 скоростной режим турбореживать',\n",
       " 'коврик влаговпитывающий индия 50*80 см зигзаг серый 6204',\n",
       " 'кофр для хранение медикамент hausmann 9 отделение 30x22x12 см 4w-107',\n",
       " 'стиральный биопорошок bonsai концентрировать для белый белье россия 4607974420573',\n",
       " 'чистить крем для трудновыводимый пятно mama lemon stain remover 500 гр индонезия 8998866106207',\n",
       " 'сушилка для белье потолочно-настенный gimi lift 240, 5031',\n",
       " 'tepмокружка avex recharge 500 мл голубой avex0681',\n",
       " 'чехол для гладильный доска zalger 520135 140х50 см хлопок поролон для доска 135х45 см',\n",
       " 'щетка для смахивание пыль 60 см разноцветный, burstenmann, 0528/0000',\n",
       " 'мирт d-20 см h-25 см',\n",
       " 'цветущий комнатный растение хризантема диаметр горшок 18 см',\n",
       " 'сушилка для белье потолочный лиана 1,7 м 1703006',\n",
       " 'чайник эмалированный metalloni со свисток и керамический ручка \"французский шарм\" 2,5 л em-250x1/28',\n",
       " 'чехол для гладильный доска zalger 520138 140х50 см металлизированный с поролон для доска 135х45 см',\n",
       " 'штора для ванный комната diamante 240х200 см бежевый, bacchetta, 4800',\n",
       " 'стремянка colombo leonardo 3 ступень g300a03w черый 3649',\n",
       " 'таз пластмассовый со стиральный доска (иж), 1404021',\n",
       " 'щетка для посуда *мила* sv3182 1807009',\n",
       " 'щетка-утюжок с ручка миди, standart, york, g1126',\n",
       " 'светильник настольный 17 led лампа, светодиодный сенсорный, с диммер 26-0004/w черный, perfectolight',\n",
       " 'герань домашний (пеларгония зональный) цвести d12, h25-30, белый, полумахровый',\n",
       " 'муляж лимон желтый 9 см полиуретан',\n",
       " 'кориандр в кассета 6 шт',\n",
       " 'рассада зелень для кухня базилик арарат, кассета по 6шт',\n",
       " 'рассада зелень для кухня петрушка универсал, кассета по 6шт',\n",
       " 'рассада зелень для кухня шалфей в горшок диам. 9 см',\n",
       " 'чехол для одежда eva 60х95 см eve4214',\n",
       " 'чехол для одежда hausmann розовый принт 60х100 см hm-ea1104',\n",
       " 'чехол для платье из неткать материал 60*135 см белый, hausmann, 2b-360135',\n",
       " 'сушилка для белье потолочный лиана 2,4 м 1703011',\n",
       " 'герань домашний (пеларгония зональный) цвести d12, h25-30, малиновый розовый, простой',\n",
       " 'сушилка для белье gimi jolly 18',\n",
       " 'жидкий мыло vestar хозяйственный 750 мл россия 4620757212370',\n",
       " 'ковер придверный \"лапша\" 60х90см коричневый',\n",
       " 'коврик резиновый ажурный iron grill 45х75 см 6207',\n",
       " 'пена для ванна vestar хвойный пихта 900 мл россия 4620757212424',\n",
       " 'тележка хозяйственный складной, тх0253, 50 кг, пэмби',\n",
       " 'таз пластмассовый 10,0 л круглый (350х170) \"м- пластик\" м2506, 1404091',\n",
       " 'таз пластмассовый 13,0 л пищевой с мерка (минеральный вода), 1404028',\n",
       " 'таз пластмассовый 14,0 л пищевой (иж), 1404079',\n",
       " 'таз пластмассовый 15,0 л пищевой (минеральный вода), 1404038',\n",
       " 'таз пластмассовый 16,0 л круглый с12129, 1404034',\n",
       " 'таз пластмассовый 16,0 л пищевой с ручка (с203/303) \"полимербыт\", 1404039',\n",
       " 'таз пластмассовый 40,0 л пищевой овальный (иж), 1404094',\n",
       " 'сумка-тележка 2-х колесный складной gimi flexi зеленый',\n",
       " 'гладильный доска ника haushalt m hm 122х40 см',\n",
       " 'подрукавник складной ника п',\n",
       " 'штора со встроенный кольцо под штанга для ванна и душа жаккард, полиамидный покрытие, 180х200, аквамарин, hsc/st04/aquamarin',\n",
       " 'штора со встроенный кольцо под штанга для ванна и душа жаккард, полиамидный покрытие, 180х200, голубой, hsc/st12/blue',\n",
       " 'чехол для гладильный доска zalger 520125 140х58 см хлопок войлок для доска до 135х53 см',\n",
       " 'штора со встроенный кольцо под штанга для ванна и душа жаккард, полиамидный покрытие, 180х200, бежевый, hsc/st05/beige',\n",
       " 'штора со встроенный кольцо под штанга для ванна и душа жаккард, полиамидный покрытие, 180х200, белый, hsc/st04/white',\n",
       " 'иссоп лекарственный d-9 см',\n",
       " 'сантолина d-9 см',\n",
       " 'сушилка для белье attribute мини 2,5 м навесный adm125',\n",
       " 'аспарагус d-12 см h-30 см',\n",
       " 'афеляндра скуаррос дания микс в кашпо с автополив',\n",
       " 'тележка багажный delta тбр-15 цвет в ассортимент грузоподъемность 30 кг россия',\n",
       " 'набор свереть по дерево из 8 шт, 3-10 мм *888* 6867540, 0512261',\n",
       " 'сверло-фреза, 6 мм, нитрид титан *888* 6862060, 0512262',\n",
       " 'сверло-фреза, 8 мм, нитрид титан *888* 6862080, 0512263',\n",
       " 'пеларгония зональный диам. 12 см лососевый махровый',\n",
       " 'гладильный доска дсп \"бэлль-юниор2\", 112*34,5, бю2, ника',\n",
       " 'контейнер для овощ полимербыт 3-х секционный лоток 9 л 4312600',\n",
       " 'сушилка для белье лиана люкс 130 см потолочный',\n",
       " 'стремянка алюминиевый 5 ступень, са5, ника',\n",
       " 'чехол для гладильный доска universal 160х60 см, attribute, abu004',\n",
       " 'гладильный доска sarayli orion 130x44 см',\n",
       " 'мусорный контейнер hailo profiline solid 14 0514-089 14 л белый',\n",
       " 'гладильный доска перф металл \"ника 10+\", 122*40, н10+, ника',\n",
       " 'сушилка для белье rainbow color напольный из хромировать сталь 201,5х55х93 см, gimi',\n",
       " 'зубной паста zact с эффект отбеливание кофейный и никотиновый налет 150 г 8806325-603849',\n",
       " 'зубной паста zact lion smokers toothpaste 100 г 8850002805040',\n",
       " 'зубной паста zact lion whitening toothpaste 100 г 8850002805064',\n",
       " 'нож для тонкий нарезка alpenkok из нержавеющий сталь пилообразный \"comfort\" 12,7 см синий ak-2082',\n",
       " 'антуриум андрианум блэк d-12 см',\n",
       " 'комнатный растение в горшок аспарагус мейер, d12, h30',\n",
       " 'молодило микс d-9 см',\n",
       " 'фиалка d-11 см',\n",
       " 'таз пластмассовый 32,0 л с ручка \"полимербыт\" с202, 1404052',\n",
       " 'таз пластмассовый строительный круглый 65 л, 1404076',\n",
       " 'гладильный доска-стремянка 95х33 см, 848n, dasch',\n",
       " 'гербера d-13 см',\n",
       " 'душица обыкновенный d-9 см',\n",
       " 'мелисса лекарственный d-9 см',\n",
       " 'роза кордан красный мерседес d-10 см',\n",
       " 'роза кордан красный d-10 см',\n",
       " 'фиалка карнавал d-12 см',\n",
       " 'хризантема белый кристалл d-15 см',\n",
       " 'хризантема красный тобаго d-15 см',\n",
       " 'сушилка для белье потолочный лиана 2,0 м 1703009',\n",
       " 'тележка хозяйственный складной, тх0252, 30 кг, пэмби',\n",
       " 'карниз алюминиевый телескопический для штора spirella / спирелла magic, хром, 125-220 см, 1050767',\n",
       " 'штора для ванный комната cannetto 240х200 см коричневый, bacchetta, 4061',\n",
       " 'веник сорго с деревянный ручка с 4-мя шов, rozenbal, r206204',\n",
       " 'пеларгония зональный диам. 12 см малиновый-красный простой',\n",
       " 'муляж гранат 9 см красный',\n",
       " 'гладильный доска sarayli new elegant 125x45 см',\n",
       " 'салфетка protec textil polyline 30х43 см аметист белый 6230',\n",
       " 'лестница-стремянка dogrular ufuk al алюминевый 6-ти ступенчатый',\n",
       " 'ерш для унитаз spirella venise с подставка керамический 4007036',\n",
       " 'контейнер для мусор flip bin curver 25 л красный 02171-547-00',\n",
       " 'контейнер для мусор flip bin curver 25 л оранжевый 02171-535-00',\n",
       " 'стремянка металлический 4 ступень, см4, ника',\n",
       " 'швабра многофункциональный, rozenbal, r212522',\n",
       " 'ящик для хранение textilebox curver 5,7 л 34x20x13 см прозрачный 03003-001-00',\n",
       " 'щетка палубный 215х80х20 мм 6-рядная без черенок угловой держатель 58 1801088',\n",
       " 'гладильный доска перф металл \"эльза премиум\", 122*40, элп, ника',\n",
       " 'скатерть лувр 100% полиэфир овальный 300х150 см салатовый wellness wto305-лувр*18',\n",
       " 'подголовник для ванный комната из пвх 25х34 синий, bacchetta, 1620',\n",
       " 'гладильный доска фанера \"стелла премиум 2\", 122*38, стп2, ника',\n",
       " 'пеларгония зональный диам. 12 см белый махровый',\n",
       " 'пеларгония зональный диам. 12 см коралловый полумахровый',\n",
       " 'пеларгония розоцветный ред розебуд молодой растение',\n",
       " 'сумка-тележка хозяйственный rolser jet joy синий, jet001 azul joy',\n",
       " 'банка с металлический крышка, color series, круглый, 11*11*12 см, 960 мл valiant, jk-d960',\n",
       " 'банка с металлический крышка, color series, круглый, 11*11*17 см, 1350 мл valiant, jk-c1350',\n",
       " 'ведро для мусор hailo 0516-570 16 л, бежевый',\n",
       " 'штора текстильный для ванна и душа полиэстер, \"бамбук\" 180х200см, зеленый/белый, dscn3579',\n",
       " 'вешалка деревянный с расширять плечики и перекладина 44,5х23 см см серый japanese black valiant jb-19708',\n",
       " 'вешалка для блузка 41 см черный attribute ahm791',\n",
       " 'вешалка с закруглять плечики без перекладина с противоскользящий покрытие valiant 226b10 черный',\n",
       " 'гладильный доска sarayli tamara 125x42 см',\n",
       " 'коврик влаговпитывающий ребристый 50х80 см стандарт черный 5877',\n",
       " 'коврик влаговпитывающий ребристый 60х90 см стандарт зеленый 5884',\n",
       " 'коврик придверный грязеулавливающий резиновый finger 40х60',\n",
       " 'короб стеллажный с крышка большой, 30*40*25 см, expedition valiant, ex-box-lm',\n",
       " 'короб стеллажный с крышка малый, 28*30*16 см, expedition valiant, ex-box-ls',\n",
       " 'коробка для хранение на молния из синтетический волокно hausmann, 35,5х20,5х13,5 см, зеленый, bb211-3',\n",
       " 'набор вешалка мягкий тканевый с перекладина 38х15 см 2 шт валиант / valiant val 7054sb',\n",
       " 'наматрасник wellness wm180, 100% хлопок, 180х200 см, стеганый белый, 4607101067749',\n",
       " 'наматрицник-чехол natures стебель бамбук сб-н-1-1 односпальный, бамбуковый, 90х200 см, молочный',\n",
       " 'насадка для швабра многофункциональный из микрофибры, rozenbal, r810001',\n",
       " 'перчатка латексный 10 шт размер s, r105816, rozenbal',\n",
       " 'сушилка для белье напольный gimi tempo super',\n",
       " 'таз пластмассовый 6,0 л пищевой квадратный \"тюльпан\" пц2950, 1404003',\n",
       " 'швабра многофункциональный rozenbal r212522-1',\n",
       " 'швабра сальса треугольный мини, y8110',\n",
       " 'щетка для посуда из искусственный волокно и пластмасса 20 см белый, burstenmann, 0703/0065',\n",
       " 'тарелка обеденный luminarc грин форест 26 см h7239',\n",
       " 'рассада зелень для кухня лаванда в горшок диам. 9 см',\n",
       " 'рассада зелень для кухня розмарин в горшок диам. 9 см',\n",
       " 'рассада зелень для кухня тимьян в горшок диам. 9 см',\n",
       " 'коврик придверный, полукруглый из резина и кокос, 40х68 см, format mezzaluna, розетт, коричневый, php srl, 20657',\n",
       " 'ножеточка универсальный \"рыбка\" 1519028',\n",
       " 'вешалка-плечики без эссенция цвет темно-розовый fwm-002/quartz pink',\n",
       " 'искусственный цветок пластиковый мак 3 бутон 48 см',\n",
       " 'искусственный цветок ромашка пластик 45 см',\n",
       " 'цветок искусственный гвоздик пластиковый одиночный в ассортимент 50 см',\n",
       " 'цветок искусственный мак 45 см пластик',\n",
       " 'цветок искусственный мак 55 см пластик',\n",
       " 'цветок искусственный нарцисс одиночный в ассортимент 35 см',\n",
       " 'цветок искусственный роза алый бархатный раскрытый бутон 63 см',\n",
       " 'цветок искусственный ромашка 3 цветок 50 см пластик',\n",
       " 'цветок искусственный тюльпан 45 см пластик цвет в ассортимент',\n",
       " 'цветок искусственный тюльпан в ассортимент одиночный 63 см',\n",
       " 'салфетка камушек транспарент 30*40 см 5187 dasch',\n",
       " 'тележка багажный delta тбр-22 коричневый грузоподъемность 20 кг сумка и 50 кг каркас россия',\n",
       " 'гладильный доска colombo avantgard 120х40 см',\n",
       " 'бегония ампельный, диам. 12 см',\n",
       " 'рассада пеларгония (герань) зональный блу айза mix смесь объем 0,5 л',\n",
       " 'хризантема корейский смесь окраска объем 0,75 л',\n",
       " 'многолетний растение душица-орегано розовый объем 0,5 л',\n",
       " 'пеларгония зональный диам. 12 см белый полумахровый',\n",
       " 'чехол для гладильный доска с дизайн venezia 140х55 см из хлопок',\n",
       " 'настольный гладильный доска фанера, 85*30, нд, ника',\n",
       " 'кувшин пластмассовый с крышка 2,0 л, (s-751) \"пластхозторг\" 1408004',\n",
       " 'розмарин d-12 см',\n",
       " 'сидение в ванна раздвижной, белый, св5, ника',\n",
       " 'сушилка для белье gimi extension',\n",
       " 'масленка коровка с крышка 17см, 73115, luminarc, франция',\n",
       " 'плечики пластмассовый размер 52 - 54 тула 1205158',\n",
       " 'сушилка для белье eurogold stabilo 18 напольный 0503 se',\n",
       " 'стремянка бытовой framar slimmy 3 ступень',\n",
       " 'сумка-тележка 2-х колесный gimi argo фуксия',\n",
       " 'подрукавник gimi planet для гладильный доска',\n",
       " 'чехол для гладильный доска i love gimi l из полиэстер и хлопок 136*58 см, gimi',\n",
       " 'штора для ванный комната quadretto 240х200 см белый, bacchetta, 4062',\n",
       " 'утюг электрический с керамический покрытие delta lux dl-350 зеленый, 2200 вт , россия',\n",
       " 'чехол для гладильный доска attribute metal 140х60 см abm106',\n",
       " 'муляж яблоко 9 см красный',\n",
       " 'гладильный доска attribute хоми топ 124х40 см синий abh010',\n",
       " 'чехол для гладильный доска metal 135х53 см, attribute, abm105',\n",
       " 'корыто оцинковывать 45 л бесшовный, 1301031',\n",
       " 'тележка багажный delta тбр-20 черный с серый грузоподъемность 25 кг сумка 50 кг каркас россия',\n",
       " 'штора для ванный комната 182х182 см пвх meiwa, krackle прозрачный 5911',\n",
       " 'холодный сварка mastix 55г для труба и батарея, 1205197',\n",
       " 'холодный сварка mastix 55г универсальный, 1205037',\n",
       " 'гладильный доска ника бэлль 106,5х29 см б',\n",
       " 'муляж вишня 3 см 10 шт полиуретан',\n",
       " 'муляж груша желтый 9,5 см полиуретан',\n",
       " 'муляж мандарин оранжевый 8 см полиуретан',\n",
       " 'муляж перец чили в связка, красный, 60 см, полиуретан, fancy fair/ff rp60',\n",
       " 'муляж чеснок в связка 60 см полиуретан',\n",
       " 'сервировочный салфетка пвх 26х41 см ванда 6001',\n",
       " 'коврик противоскользящий кружевной 88х38 см прозрачный 5528',\n",
       " 'штора для ванный комната bacchetta city текстильный 180х200 см 6023',\n",
       " 'гладильный доска ника стелла классик 1 122х34,5 см стк1',\n",
       " 'штора для ванный комната bacchetta dama текстильный 180х200 см 3655',\n",
       " 'салатник luminarc кутюр 16 см h3386',\n",
       " 'салатник luminarc кутюр 27 см h3529',\n",
       " 'тарелка десертный кутюр 20,5 см j2402 luminarc',\n",
       " 'тарелка суповой кутюр 22,5 см j2397 luminarc',\n",
       " 'коврик придверный полипропиленовый с пвх step in traditional 90х150 см коричневый',\n",
       " 'сумка-тележка хозяйственный andersen scala shopper plus, lini, синий 133-108-90',\n",
       " 'гладильный доска ника sophy корица hsk 123х46 см',\n",
       " 'коврик противоскользящий пузырек 70х38 см прозрачный 5523',\n",
       " 'чехол для гладильный доска универсальный с поролон 2, 1290 х 500, чп2, ника',\n",
       " 'сумка-тележка хозяйственный gimi argo голубой',\n",
       " 'муляж ананас светло-коричневый 10 см полиуретан',\n",
       " 'муляж баклажан 18 см',\n",
       " 'муляж банан желтый 21 см полиуретан',\n",
       " 'муляж груша мини 2 шт желтый 4 см',\n",
       " 'муляж манго оранжевый 13 см полиуретан',\n",
       " 'муляж морковь 16 см',\n",
       " 'муляж персик 9 см полиуретан',\n",
       " 'муляж тыква d-20 см',\n",
       " 'муляж черешня 10 штука d 2,5 см, цвет в ассортимент',\n",
       " 'сумка-тележка хозяйственный rolser bab010 negro joy-1800 черный',\n",
       " 'чехол для гладильный доска zalger 520133 120х40 см хлопок поролон для доска 115х35 см',\n",
       " 'сумка-тележка 2-х колесный gimi galaxy черный',\n",
       " 'сковорода scovo эксперт дема сэ-040 для блин алюминиевый с антипригарный покрытие, 25 см, 1503020',\n",
       " 'герань домашний (пеларгония зональный) цвести , d12, h25-30, лососевый, полумахровый',\n",
       " 'коврик придверный с дизайн, из резина и кокос aberdeen welcome 45x76, 4395',\n",
       " 'коврик придверный redstone mix из полиэстер и перерабатывать резина 60х91 см серо-коричневый, apache, 4651',\n",
       " 'коврик придверный stonehedge grey из полиэстер и перерабатывать резина 60х91 см серый, apache, 4652',\n",
       " 'сумка-тележка хозяйственный rolser imx005 marengo logic dos+2 серый',\n",
       " 'банка стеклянный steel touch 1700 мл, attribute, abs017',\n",
       " 'тарелка десертный стоунмания оранж 20,5 см h3557 luminarc',\n",
       " 'тарелка обеденный стоунмания оранж 25 см h3556 luminarc',\n",
       " 'тарелка суповой стоунмания оранж 20 см h3558 luminarc',\n",
       " 'скатерть из пвх meiwa fplus-plain sarasa az be овальный 152х228 см бежевый 5789',\n",
       " 'муляж вишня на магнит',\n",
       " 'сумка-тележка 2-х колесный складной gimi flexi серый',\n",
       " 'сумка-тележка 2-х колесный gimi ideal синий',\n",
       " 'шнур резиновый для тележка 110 см, 1209002',\n",
       " 'шнур резиновый для тележка 80 см, 1209001',\n",
       " 'рассада зелень для кухня душица в горшок диам. 9 см',\n",
       " 'сумка-тележка хозяйственный rolser mou041 malva rd6 сиреневый',\n",
       " 'таз пластмассовый строительный прямоугольный 80 л, 1404085',\n",
       " 'урна уличный \"гео\", hobbyka/хоббик, 59*37,5см, сталь',\n",
       " 'скатерть азалия 88% полиэфир 12% хлопок прямоугольный 350х150 см персиковый wellness mc355-азалия*05',\n",
       " 'сумка-тележка хозяйственный gimi bella серый',\n",
       " 'чайный набор luminarc рейнбоу 220 мл j5978',\n",
       " 'штора для ванный текстильная180х200 quadretto белый, bacchetta, 3003',\n",
       " 'пеларгония зональный диам. 12 см малиновый махровый',\n",
       " 'пеларгония зональный диам. 12 см розовый махровый',\n",
       " 'пеларгония зональный розоцветный ред розебад (red rosebud)',\n",
       " 'набор эмалированный салатник metalloni ветка рябина em-00003a/31 12,14,16 см',\n",
       " 'мыло жидкий reffil mama utimate облепиха 500 мл россия 8809193042321',\n",
       " 'набор вешалка мягкий тканевый с перекладина и клипса 48х23 см 2 шт валиант / valiant val 7057gc',\n",
       " 'стремянка 5 ступенчатый hailo 8925-901 l9 алюминиевый',\n",
       " 'антуриум андрианум ванилла d-12 см',\n",
       " 'рыбочистка металлический, 1216396',\n",
       " 'сидение для унитаз росспласт ажур белый рп-813',\n",
       " 'коврик придверный attribute nature кокосовый 60x40 см amc015',\n",
       " 'овощеварка алюминиевый scovo мт-045, хозлэнд, 1502079',\n",
       " 'сметка с совок престиж, york, g6207',\n",
       " 'коврик придверный, полипропилен, 40х70 см, kokarda, спать кот, бежевый, php srl, 20734',\n",
       " 'муляж баклажан мини 2 шт',\n",
       " 'муляж гранат мини 4 шт',\n",
       " 'муляж перец чили мини 2 шт, красный 7 см',\n",
       " 'чехол для гладильный доска basic 120х40 см, attribute, abb004',\n",
       " 'халат вафельный виктория_3-42 , 100% хлопок 265 g/m2, размер 52-54, салатовый, wellness, 2000000168616',\n",
       " 'измерительный алюминиевый угольник, 20*30 см, truper, e-8x12/14386',\n",
       " 'линейка, длина 30 см, truper, rgl-30/14387',\n",
       " 'сумка-тележка хозяйственный gimi ideal серый (tortora)',\n",
       " 'набор фужер для вино аллюр 6шт 250мл, g5747, luminarc, франция',\n",
       " 'набор фужер для вино маскарад 6шт 250мл, g5544, luminarc, франция',\n",
       " 'сушилка для белье лиана люкс 190 см потолочный',\n",
       " 'сушилка для белье leifheit 81570 pegasus 150 87х157х55 см',\n",
       " 'сумка-тележка хозяйственный rolser bab008 marengo joy-1800 серый',\n",
       " 'чехол для гладильный доска leifheit beach and bubbles 130x45 см 71596',\n",
       " 'терка webber из нержавеющий сталь ве-048 4 грань 20 см с красный ручка',\n",
       " 'терка webber из нержавеющий сталь ве-054 6 грань 21 см',\n",
       " 'вилка столовая better цветной горох bt-c2003e-td1/d1',\n",
       " 'контейнер для приготовление 2-х яйцо глазунья полимербыт c452',\n",
       " 'кружка 350 мл rosario радуга керамический коричневый ф13-005l',\n",
       " 'кружка для чай ягода клубника 250 мл 1606-д',\n",
       " 'кружка luminarc лили флауэр 320 мл j8565-1',\n",
       " 'ложка обувной металлический красить 43 см с крючок, 1205156',\n",
       " 'лопатка attribute bamboo agb110',\n",
       " 'лопатка c прорезь attribute bamboo agb111',\n",
       " 'набор фужер для красный вино 235 мл, 6 шт., серия касабланка, 51258b',\n",
       " 'набор фужер для шампанский френч брассери 6шт 170мл, h9452, luminarc, франция',\n",
       " 'полотенце махровый гармония, 100% хлопок 335 г/м2, 32х70 см, wellness, 4630005362832',\n",
       " 'салфетка махровый радуга в разноцветный полоска, 100% хлопок 312 г/м2, 31х31 см, wellness, 4630005360012',\n",
       " 'салфетница металлический webber с хромированный покрытие 14,7*4*9 см be-0293',\n",
       " 'стакан низкий лабиринт 250 мл для напиток 05с1262',\n",
       " 'стакан пластмассовый 300 мл, конус. (к-308) \"пластхозторг\" 1535027',\n",
       " 'столовый ложка better цветной горох bt-c2003e-td2/d1',\n",
       " 'чайный ложка better цветной горох bt-c2003e-td3/d1',\n",
       " 'цветок искусственный крокус 20 см',\n",
       " 'цветок искусственный гербера, 45см',\n",
       " 'ковер придверный имитация трава 60х90см , цвет серый',\n",
       " 'тележка багажный delta тбр-23 грузоподъемность 50 кг россия',\n",
       " 'тарелка десертный ирис d3700 luminarc',\n",
       " 'гладильный доска attribute teflonix 130х46 см abt142',\n",
       " 'коврик для ванный комната gobi полиэстер 120х70 см темно-зеленый, spirella, 1012778',\n",
       " 'альбук спиралиса фризлый-сизл d-12 см',\n",
       " 'коврик sochi 50х80 см коричневый 5801',\n",
       " 'овощечистка с плавать лезвие comfortline из нержавеющий сталь и пластика 11 см белый, leifheit, 03151',\n",
       " 'бальзамин новогвинейский d-13 см',\n",
       " 'бегония клубневой d-13 см',\n",
       " 'крассула оват d-10 см',\n",
       " 'гладильный доска ника bruna m hbm 122х40 см',\n",
       " 'артемизия (полынь горький) d-9 см',\n",
       " 'пеларгония зональный махровый микс d-12 см',\n",
       " 'герань домашний (пеларгония зональный) цвести d12, h25-30, красный-розовый, простой',\n",
       " 'насадка к швабра flexinett пластик + микрофибра, rozenbal, r212585',\n",
       " 'средство для удаление известковый налет с поверхность сантехнический прибор decs антикальций 500 мл россия 4660015923266',\n",
       " 'фиалка микс d-9 см',\n",
       " 'коврик ворсовый для ванный комната orthospa river rocks grey из микрофибры и пвх прямоугольный 50х85 см серый-белый, apache, 4666',\n",
       " 'вешалка напольный atlant 90х42 см vatl-1 светлый степанов',\n",
       " 'сумка-тележка 2-х колесный gimi galaxy голубой',\n",
       " 'тележка хозяйственный ролл с крыло, attribute, att101',\n",
       " 'бензин для зажигалка, 1205214',\n",
       " 'скатерть прямоугольный ажурный imperial 140х200 см бежевый с тесненый рисунок towa co 5174',\n",
       " 'паста для полировка \"гои\" 25 гр',\n",
       " 'цветок искусственный гортензия, 58 см, цвет в ассортимент',\n",
       " 'гладильный доска ника дсп эконом 106,5х29 эк1',\n",
       " 'сумка-тележка хозяйственный gimi argo салатовый',\n",
       " 'сумка-тележка хозяйственный gimi easy go синий',\n",
       " 'петля-стрела пс-286 мм (рыбинск), 1104019',\n",
       " 'сушилка для белье лиана люкс 120 см потолочный',\n",
       " 'скатерть из пвх meiwa fplus-171 az wh/be овальный 132х178 см белый-бежевый 5785',\n",
       " 'подголовник для ванный комната из пвх 25х34 mickey, bacchetta, 4811',\n",
       " 'сушилка для белье потолочный zalger lift comfort 520 180 см 9 м',\n",
       " 'лаванда d-9 см',\n",
       " 'мята d-9 см',\n",
       " 'сушилка для белье виолета fh color lux 22 м белый вл867',\n",
       " 'муляж виноград зеленый 26 см полиуретан',\n",
       " 'чайник электрический пластиковый василиса t7-1100 белый с голубой 1100 вт 1 л',\n",
       " 'вешалка-стойка № 9 дерево зми медный антик внп 211 м',\n",
       " 'стремянка металлический 3 ступень, см3, ника',\n",
       " 'муляж виноград желтый 24 см полиуретан',\n",
       " 'муляж желудь 2 шт',\n",
       " 'муляж яблоко, оранжевый, 8,5 см, полиуретан',\n",
       " 'сумка-тележка gimi argo синий',\n",
       " 'каланхое каландив белый d-7 см',\n",
       " 'примула акаулис микс d-10 см',\n",
       " 'держатель для туалетный бумага с373 \"полимербыт\" 1713006',\n",
       " 'ерш унитазный с подставка wc \"люкс\", мультипласт, 1712007',\n",
       " 'пробка для ванна резиновый (д-40 мм) 1206155',\n",
       " 'штора для ванный с кольцо rl-0071 мыльный пузырь 180х180 см',\n",
       " 'чехол для гладильный доска zalger 520116 130х46 см хлопок для доска 125х42 см',\n",
       " 'чехол для гладильный доска zalger 520124 140х58 см хлопок для доска до 135х53 см',\n",
       " 'измельчитель овощ ручной шк-4 деревянный, 3 нож, 1516020',\n",
       " 'сумка-тележка delta тбр-20 синий грузоподъемность 25 кг сумка и 50 кг каркас россия',\n",
       " 'коврик придверный из резина и кокос, 40х68 см, format classic, соломка, коричневый, php srl, 20135',\n",
       " 'лоток для холодец эмалированный 1,5 л с пластмассовый крышка с рисунок с-2508кп/4 стэм 1506085',\n",
       " 'сумка-тележка gimi easy go красный',\n",
       " 'вешалка-плечики 3 шт без эссенция цвет светло-бирюзовый fwm-002/aruba blue',\n",
       " 'вешалка мягкий для деликатный вещь 3 шт желтый',\n",
       " 'губка спираль металлический eurohouse 2 шт eh3599',\n",
       " 'перчатка латексный 10 шт, р-р м, r105817, rozenbal',\n",
       " 'перчатка резиновый универсальный centi, р-р m, york, g9212',\n",
       " 'чехол для одежда большой 137х60х10 см светло-бежевый валиант / valiant tr-107h',\n",
       " 'чехол для одежда eva 150x65 см mhe017',\n",
       " 'ерш унитазный пластмассовый, ваир 1712002',\n",
       " 'кофр для хранение hausmann подкроватный 80х40х15 см 2b-28040',\n",
       " 'сумка-тележка gimi argo красный',\n",
       " 'салфетка protec textil lino 30х43 см шоколад 6222',\n",
       " 'корзина для белье infinity curver 59 л белый 04754-n23-00',\n",
       " 'пробка для ванна резиновый с цепочка 1206157',\n",
       " 'сушилка мультя 10м (1002010520027), attribute, adm110',\n",
       " 'чехол для гладильный доска zalger 520111 см металлизированный с поролон для доска 120х42 см',\n",
       " 'салатник романтик гарден 17 см j7900 luminarc',\n",
       " 'фен дорожный delta dl-0904 бордовый с черный 2 режим мощность 1400 вт россия',\n",
       " 'чайник электрический аксинья кс-1003 корпус из жаропрочный стекло черный 2200 вт 1,8 л',\n",
       " 'штора для ванный и душа текстильный, 180х200см, \"цветок\", голубой, hsp394-b',\n",
       " 'штора для ванный комната пвх 180х180 см водоросль, 5919',\n",
       " 'вешалка настенный ника вн3 3 крючок медный антик',\n",
       " 'вешалка самоклеять на 4 крючок 1110008',\n",
       " 'штора для ванный и душа текстильный, 180х200см.\"лилия\", бежевый/белый с розовый цветок, h125',\n",
       " 'салатник аморить браун 16,5 см j2113 luminarc',\n",
       " 'салатник колорама рэд 17 см j7772 luminarc',\n",
       " 'салатник рапсоди оранж 16,5 см h8728 luminarc',\n",
       " 'салатник luminarc арти грин 16,5 см j1392',\n",
       " 'салатник luminarc арти пинк 16,5 см l2857',\n",
       " 'салатник luminarc арти пурпл 16 см g9834',\n",
       " 'салатник luminarc арти пурпл 16,5 см l2858',\n",
       " 'салатник luminarc amбиантэ анис 16 см l6415',\n",
       " 'салатник luminarc amбиантэ оранж 16 см l6417',\n",
       " 'кружка для чай сердечко 250 мл дсг55029146',\n",
       " 'дендробиум санки полар файр 1 ствол d-12 см',\n",
       " 'герань домашний (пеларгония зональный) цвести d12, h25-30, красный, простой',\n",
       " 'калоцефалус брауни крашеный осенний микс d-10 см',\n",
       " 'коврик придверный apache 45х76 см flagstone 5415',\n",
       " 'антижир posh one magnum 828 мл россия 4580390-927058',\n",
       " 'каллун гарден герлс трехцветный d-12 см h-27 см',\n",
       " 'капсикум сальса оранжевый d-10 см',\n",
       " 'кофр малый жесткий 28*30*16 см леопард валиант / valiant lb301',\n",
       " 'мимоза стыдливый d-9 см',\n",
       " 'набор кухонный полотенце 100% хлопок 200г/м2 46*71 см 2 шт, wellness, мелис_3',\n",
       " 'соланум d-10 см',\n",
       " 'универсальный средство на основа хлор ддля чистка сантехника и другой поверхность decs universal 750 мл россия 4660015923228',\n",
       " 'мантоварка алюминиевый 6,0 л 3 сетка белый калитва, хозлэнд, 1502074',\n",
       " 'гладильный доска ника lora fashion hlf 123х46 см',\n",
       " 'пеларгония зональный простой цвет фуксия',\n",
       " 'рассада зелень для кухня мелисса в кассета по 6 шт',\n",
       " 'гладильный доска ника blues 124х46 см 5757',\n",
       " 'ложка обувной металлический красить 220, 1205155',\n",
       " 'плечики пластмассовый размер 48 - 54 мп 1205160',\n",
       " 'ролик для чистка одежда *clear line* (20 слой), 1205060',\n",
       " 'сменный блок для ролик 2 шт (r160071), rozenbal, r510100',\n",
       " 'таз пластмассовый 4,5 л пищевой \"косметь\" (ангора) 1404092',\n",
       " 'герань домашний (пеларгония зональный) цвести d12, h25-30, ярко розовый, полумахровый',\n",
       " 'пеларгония d-13 см с топпер на день учитель в подарочный упаковка',\n",
       " 'роза патио белый d-12 см h-30',\n",
       " 'роза патио красный d-12 см h-30',\n",
       " 'роза патио оранжевый d-12 см h-30',\n",
       " 'стремянка 5 ступенчатый hailo 8150-507 l50 алюминиевый с крючок на красный ручка',\n",
       " 'набор бокал император 3 шт 170 мл 06707 e5181 luminarc франция',\n",
       " 'набор стакан для виски 300 мл 6 шт серия карат 52885в',\n",
       " 'термометр на окно уличный на липучка т-5 h-20 см 1210035',\n",
       " 'термометр уличный оконный тб 202 h-20 см 1210036',\n",
       " 'ящик почтовый металлический с ушко для навесный замок домик 1205251',\n",
       " 'сушилка для белье напольный gimi mito, алюминий',\n",
       " 'гладильный доска ника верона 1 чехол ретро 122х42 см дв1р',\n",
       " 'бархатцы веселый полянка 0,3 г 4660010777505',\n",
       " 'косметь очаровашка 0,05 г 4660010779578',\n",
       " 'морковь детский сладость 2 г 4660010775921',\n",
       " 'настурция драгоценность вишневый-розовый 1 г 4660010773316',\n",
       " 'огурец засолочный 0,3 г 4660010776102',\n",
       " 'пеларгония зональный розоцветный ред розебад',\n",
       " 'петуния каскад смесь махровый 10 шт 4660010772784',\n",
       " 'сумка-тележка хозяйственный rolser jet joy черный, jet010 negro joy',\n",
       " 'шило с пластмассовый ручка утолщать с крючок, 1205083',\n",
       " 'герань домашний (пеларгония зональный) цвести d12, h25-30, красный, полумахровый',\n",
       " 'тарелка обеденный мунлайт 25 см h7253 luminarc',\n",
       " 'скатерть прямоугольный ажурный marine 132х177 см бежевый с тесненый рисунок towa co 4022',\n",
       " 'сушилка для белье ника сб2б 20 м',\n",
       " 'сушилка для белье ника сб1 18 м',\n",
       " 'вешалка деревянный с расширять плечики и перекладина 44,5х23 см см белый japanese white valiant jw-19708',\n",
       " 'вешалка для брюки attribute classic 38 см ahn271',\n",
       " 'набор вешалка для костюм 45 см 4 шт цвет кремовый attribute ahp224',\n",
       " 'набор вешалка универсальный attribute siluet cream 45 см 4 шт ahp224',\n",
       " 'банка из стекло для сыпучий продукт круглый с пластмассовый крышка и цветной вкладка 1,0л 10мр-0001',\n",
       " 'корзина для белье knit 57 л темно-коричневый, curver, 03676-x59-00',\n",
       " 'сумка-тележка twin стальной каркас 56 л синий, gimi',\n",
       " 'гладильный доска ника стелла классик 2 122х34,5 см стк2',\n",
       " 'тарелка десертный воларэ блэк 22,5 см g9399 luminarc',\n",
       " 'сушилка для белье потолочный лиана 1,5 м 1703004',\n",
       " 'сушилка для белье gimi dinamik 30',\n",
       " 'таз пластмассовый 6,0 л пищевой м2511, 1404015',\n",
       " 'таз пластмассовый 8,0 л пищевой (минеральный вода), 1404009',\n",
       " 'ковш пластмассовый полимербыт с215, 1,5 л 1406006',\n",
       " 'гладильный доска-стремянка dasch 95х33 см 848n',\n",
       " 'гладильный доска ника николь 9 122х40 см',\n",
       " 'кухонный ножницы webber из нержавеющий сталь с орехокол ве-5208',\n",
       " 'набор нож attribute chef 5 предмет akf522',\n",
       " 'нож кухонный для мясо с пластмассовый ручка 305 х 175 мм, \"русский линия\" (нх-36м), метиз 1519003',\n",
       " 'нож кухонный для овощ с деревянный ручка 318 х 200 мм, \"гурман\" (нх-14м), метиз 1519009',\n",
       " 'нож кухонный универсальный с пластмассовый ручка 285 х 150 мм, \"русский линия\" (нх-38м) метиз 1519022',\n",
       " 'рыбочистка с деревянный ручка с нож 1518024',\n",
       " 'тарелка десертный мок браун 19 см h7013 luminarc',\n",
       " 'кисточка силиконовый для выпечка мятный 21х4 см be-1440s webber',\n",
       " 'кисточка силиконовый для выпечка персиковый 21х4 см be-1440s webber',\n",
       " 'скребок кондитерский webber be-0368 лавандовый',\n",
       " 'средство для мытье пол decs bleach лимон 1000 мл россия 4660015923273',\n",
       " 'комод эльфпласт виола 3-х секционный коричневый 339',\n",
       " 'корзина для белье виолета ротанг 2350/2 угловой с крышка 60 л бежевый',\n",
       " 'сушилка для белье на ванна ника сб4',\n",
       " 'картофелемялка металлический круглый с деревянный ручка 1531002',\n",
       " 'сушилка для белье потолочный лиана 1,8 м 1703007',\n",
       " 'салатник воларэ блэк 16 см g9403 luminarc',\n",
       " 'тарелка суповой воларэ блэк 23 см g9402 luminarc',\n",
       " 'ароматизированный средство дудаление известковый налет и ржавчина decs wc гель лимон 750 мл россия 4660015923235',\n",
       " 'бальзам для мытье посуда mama ultimate ecosoda 1000 мл россия 044684',\n",
       " 'средство для мытье пол ecomatic green cleaner 1000 мл испания 126109',\n",
       " 'стремянка бытовой zalger 111-5 алюминиевый 5 ступенька',\n",
       " 'банка стеклянный с крышка attribute fleur 1350 мл abf100g',\n",
       " 'банка стеклянный с крышка attribute fleur 650 мл abf135w',\n",
       " 'коврик кухонный apache olive oil sideboard 56х86 см 5062',\n",
       " 'штора для ванный 180х200 см, rigone бежевый',\n",
       " 'алиссум (лобулярий) снежный одежда 0,2 г 4650091480302',\n",
       " 'гвоздик турецкий роковый страсть 0,05 г 4660010773231',\n",
       " 'годеция рембранд 0,1 г 4650091480128',\n",
       " 'календула пинк сюрпрайз 0,5 г 4650091480203',\n",
       " 'капуста декоративный смесь 0,1 г 4650091480234',\n",
       " 'кореопсис толла 0,1 г 4650091480258',\n",
       " 'косметь клюквенный клик 0,1 г 4660010770421',\n",
       " 'косметь кэнди страйп 0,3 г 4650091480272',\n",
       " 'лапчатка огненный пламень 0,02 г 4650091480616',\n",
       " 'львиный зев волшебный ковер 0,05 г 4660010779639',\n",
       " 'пеларгония зональный диам. 12 см розовый-красный полумахровый',\n",
       " 'флокс друммонд смесь 0,1 г 4650091480401',\n",
       " 'цинерария серебряный пыль 0,1 г 4660010770797',\n",
       " 'эшшольция карминный король 0,5 г 4660010770193',\n",
       " 'жестяной банка новый паста микс п-90*90h171v140-01014',\n",
       " 'кружка нордик 380мл прозрачный h8502 luminarc франция',\n",
       " 'чайник электрический аксинья кс-1002 корпус из жаропрочный стекло белый 2000 вт 1,8 л',\n",
       " 'гладильный доска scab stiro lux 122х38 см',\n",
       " 'рассекатель пламень на газовый плита с ручка, an8032',\n",
       " 'ополаскиватель для посудомоечный машина ludwik 750 мл польша 5900861242715',\n",
       " 'сетка для глажение ява ртк26 45х65 см, 1200023',\n",
       " 'сковорода алюминиевый с антипригарный покрытие marble alpenkok d = 22 см ak-0037a/22n',\n",
       " 'щетка для посуда *оля*, мультипласт 1807010',\n",
       " 'чайник электрический василиса т33-2000 нержавеющий сталь красный 2000 вт 2 л',\n",
       " 'покрывало жаккард шенилл birhome valentin 240х260 см наволочка 50х70 см 2 шт 9234567089661',\n",
       " 'вешалка гардеробная радуга 2 зми черный внп 299 ч',\n",
       " 'ковер придверный ekspo 90х150 см черный рр114/01019',\n",
       " 'набор форма для кекс webber из нержавеющий сталь 6 шт 7,5*3,4 см be-4343/6',\n",
       " 'банка стеклянный wooden touch 1700 мл, attribute, abb017',\n",
       " 'корзина для белье пластмассовый 45 л угловой с299 1704006',\n",
       " 'весы напольный электронный soehnle pino white, 63747',\n",
       " 'лестница-стремянка dogrular ufuk оцинковывать 4-х ступенчатый',\n",
       " 'диффенбахий d-12 см с топпер на день учитель в подарочный упаковка',\n",
       " 'комплект постельный белье wellness platinum r185-авеню пододеяльник 180х214 см простыня 200х214 см 2 наволочка 50х70 см',\n",
       " 'покрывало жаккард karna стеганый kalven 260x260 см наволочка 50х70 см 2 шт 8681914002162',\n",
       " 'вилка столовая better цветок bt-c2003e-td1/d3',\n",
       " 'бальзамин новогвинейский d-13 см цвет фуксия',\n",
       " 'чехол для гладильный доска zalger 520132 114х37 см бязь для доска 110х32 см',\n",
       " 'фаленопсис королевский голубой 1 ствол d-12 см',\n",
       " 'сумка-тележка хозяйственный rolser rg saquet, синий, saq002 azul convert',\n",
       " 'подставка для обувь резиновый attribute 80x40 см amc080',\n",
       " 'сушилка для белье потолочный лиана люкс 160 см ллп-160',\n",
       " 'вешалка-сушилка gimi paco',\n",
       " 'коврик bacchetta противоскользящий в душевая кабина 55х55 см бежевый 4819',\n",
       " 'штора для ванный комната 240х200 fragmmento бежевый текстильный 240х200 см 6041',\n",
       " 'штора для ванный комната пвх sfera 240х200 см серый, bacchetta, 4833',\n",
       " 'миска пластмассовый круглый пластхозторг s-706, 0,8 л 1535005',\n",
       " 'гладильный доска ника белль классик 1 122х34,5 см бк1',\n",
       " 'кружка прозрачный 250 мл h8437 luminarc франция',\n",
       " 'одеяло silver line 195*215 100% микрофибра 100% микроволокно 17т-0034/2',\n",
       " 'сушилка для белье на батарея ника сб6-65 двухъярусный',\n",
       " 'подсолнечник низкорослый d-13 см',\n",
       " 'ручка-скоба рс-100 белый *трибатрон*, 1108035',\n",
       " 'пуансетия d-12 см с топпер на день учитель в подарочный упаковка',\n",
       " 'лоток для холодец эмалированный 1,5 л с пластмассовый крышка без рисунок с-2508кп стэм 1506084',\n",
       " 'гладильный доска eurogold professional 130х48 см 35748w',\n",
       " 'сушилка для белье напольный colombo alpina 40mt st194/4cf',\n",
       " 'пресс для чеснок attribute western agw050',\n",
       " 'сушилка для белье потолочный лиана люкс 250 см ллп-250',\n",
       " 'тарелка обеденный кашимый пурпл 25 см g9324 luminarc',\n",
       " 'сумка-тележка 3-х колесный gimi tris красный',\n",
       " 'коврик придверный хлопковый 60х180 см мультиколор, helex, с05',\n",
       " 'лестница-стремянка примус оцинковывать металл 7 ступень, 1,55 м , 1203048',\n",
       " 'щетка-сметка с пластиковый ручка лаура sv3020',\n",
       " 'термостакан webber be-6030 кофе 450 мл',\n",
       " 'гиностемма укоренять черенок 1 шт',\n",
       " 'сумка-тележка хозяйственный andersen treppensteiger scala shopper, hera, черный 119-004-80',\n",
       " 'ель канадский коника ртк 303 горшок 9 л нидерланды',\n",
       " 'кипарисовик лавсон элвуди ртк 106 горшок 9 л нидерланды',\n",
       " 'коврик противоскользящий камешек с ракушка овальный 69х39 см голубой 5520',\n",
       " 'аптение d-10 см h-10 см',\n",
       " 'сушилка для белье потолочный лиана люкс 170 см ллп-170',\n",
       " 'коврик придверный каучуковый 45х75 см черный, helex, p01',\n",
       " 'антуриум андрианум фиорино d-15 см',\n",
       " 'сушилка для белье потолочно-настенный gimi lift 240 5031',\n",
       " 'банка рондо элиз 1л, g8487, luminarc, китай',\n",
       " 'сушилка для белье attribute прима 18 м синий adp618',\n",
       " 'весы напольный механический дельта d-2017 130 кг, 1205224',\n",
       " 'таз пластмассовый 12,0 л пищевой (минеральный вода), 1404022',\n",
       " 'роза палас белый d-17 см h-50 см h-20',\n",
       " 'ковер придверный ekspo 90х150 см коричневый рр120/1',\n",
       " 'сушилка для белье gimi mito алюминий',\n",
       " 'новогодний дерево ель канадский коника ртк 343 d-9 см',\n",
       " 'гладильный доска ника эльза премиум 122х40 см элп',\n",
       " 'новогодний дерево ель сербский d-21 см h-60 см',\n",
       " 'чехол для одежда малый 100х60х10 см светло-бежевый валиант / valiant tr-106h',\n",
       " 'новогодний дерево ель канадский коника в красный ведерко 3 л h-40 см',\n",
       " 'мыльница пластмассовый на ванна м2221 1702010',\n",
       " 'подголовник bacchetta 25х34 см quadrifoglio 4809',\n",
       " 'сушилка для белье gimi modular 3 lux silver',\n",
       " 'коврик dasch для ванный комната 50х80 см tl-90 листопад зеленый 5730',\n",
       " 'сушилка для белье напольный ника сб9/а цвет аквамарин/белый',\n",
       " 'пеларгония грандифлора махровый микс d-12 см',\n",
       " 'муляж мандарин мини на магнит',\n",
       " 'салфетка protec textil lino 30х43 см натура 6223',\n",
       " 'мыло ручной работа свинюшка в грязюшко 90 г',\n",
       " 'гладильный доска leifheit airboard compact m plus 120х38 см малиновый 71630',\n",
       " 'сушилка для белье на ванна leifheit adria 72708',\n",
       " 'крючок одежный двойной усиленный алюминиевый (дюраль), 1110015',\n",
       " 'гладильный доска ника бэлль-юниор1 112х34,5 см бю1',\n",
       " 'чехол для одежда hausmann со стенка из пвх и ручка 60х140 см синий hm-701402ng',\n",
       " 'набор бокал для пиво cervoise 4 шт 320мл g3775 luminarc франция',\n",
       " 'защитный экран подставка и дуршлаг webber 3 в 1 цвет: зеленый d = 28,5 см из силикон be-0341s',\n",
       " \"многофункциональный инструмент 25 функция, plb025l 7'/pt00234\",\n",
       " 'роза мини розовый d-7 см h-10',\n",
       " 'коврик в ванна 36х71 см, розовый',\n",
       " 'стремянка-табурет алюминиевый hailo l90 step-ke 4442-701 2х2 ступень',\n",
       " 'пуансеттия d-12 см красный с розовый',\n",
       " 'коврик противоскользящий пузырек 70х38 см бирюзовый 5526',\n",
       " 'пуансеттия d-12 см белый',\n",
       " 'петля рояльный оксид 545 мм, 1103066',\n",
       " 'тележка багажный delta тбр-21 черный грузоподъемность 25 кг для сумка и 50 кг для каркас россия',\n",
       " 'новогодний дерево ель сербский d-27 см h-200 см',\n",
       " 'цветущий комнатный растение бегония элатиор, цвет в ассортимент',\n",
       " 'чайный ложка 6 предмет вена счв107',\n",
       " 'нож для мясорубка (супер) лепесток 1512016',\n",
       " 'крассула d-17 см h-40 см',\n",
       " 'тарелка суповой ирис 21 см j1299 luminarc',\n",
       " 'комплект махровый салфетка топ_2, 100% хлопок 266 г/м2, 28х42 см, 2 шт, цвет в ассортимент, wellness, 4630005364393',\n",
       " 'набор столовый прибор 24 предмет oasis domenik dm9634',\n",
       " 'пуансеттия d-15 см розовый',\n",
       " 'набор столовый прибор 24 предмет saint germain domenik dm9638',\n",
       " 'коврик ворсовый для ванный комната orthospa river rocks natural из микрофибры и пвх прямоугольный 50х85 см серо-коричневый, apac',\n",
       " 'кольцо для штора виолета 12 шт пластик 1212/60',\n",
       " 'скатерть сидней 100% полиэфир овальный 300х150 см сиреневый wellness wto305-сидней*81',\n",
       " 'кувшин luminarc виктория 1,8 л с крышка j8130',\n",
       " 'пуансеттия d-15 см красный',\n",
       " 'набор столовый прибор 24 предмет farandole domenik dm9635',\n",
       " 'сумка-тележка 3-х колесный gimi tris черный',\n",
       " 'чехол для одежда объемный hausmann с овальный окно пвх и ручка 60х140х10 см черный hm-701403ag',\n",
       " 'коврик ворсовый пвх придверный multy 60х180 см коричневый',\n",
       " 'чайный набор сельма 220мл, g9434, luminarc, франция',\n",
       " 'вешалка напольный twist складной 45*35 vrtw-1 светлый степанов',\n",
       " 'скатерть towa co ажурный presea прямоуголный 120х150 см сепия 5514',\n",
       " 'вантуз черный с пластиковый ручка малый д-100 (маг), 1206002',\n",
       " 'вешалка с закруглять плечики перекладина и крючок с противоскользящий покрытие valiant 213r11 черный',\n",
       " 'термокружок alpenkok ak-04010a синий 400 мл',\n",
       " 'чехол для гладильный доска универсальный с поролон антипригарный, чпа, ника',\n",
       " 'сушилка для белье потолочный лиана люкс 180 см ллп-180',\n",
       " 'плед флисовый 200х150 см wellness wplny152-зима_4 100 % полиэстер',\n",
       " 'сумка-тележка хозяйственный rolser bab010 rojo joy-1800 красный',\n",
       " 'гладильный доска ника loreta golf hl 123х46 см',\n",
       " 'фоторамка alparaisa на 7 фотография бронзовый 43х42,5 см с31-017',\n",
       " 'этажерка 2 для обувь узкий 4 полк, медный, эт2, ника',\n",
       " 'тарелка десертный бамбук 20 см j0276 luminarc',\n",
       " 'скатерть джулия 64% хлопок 36% полиэфир прямоугольный 350х150 см золотой с голубой wellness mt355-джулия*16',\n",
       " 'сервировочный салфетка пвх 26х41 см капучино 6163',\n",
       " 'гладильный доска attribute teflonix 135х46 см оранжевый abt044',\n",
       " 'чайник эмалированный metalloni со свисток и керамический ручка французский шарм 2,5 л em-250x1/28',\n",
       " 'новогодний дерево ель канадский коника в декоративный контейнер 1 л h-20 см',\n",
       " 'таз пластмассовый 30,0 л пищевой овальный (иж), 1404055',\n",
       " 'сушилка для белье напольный colombo alpina 30mt st194/3cf',\n",
       " 'шнур резиновый для тележка 200 см белый, 1209004',\n",
       " 'термос со стеклянный колба 1,2 л 21013',\n",
       " 'скиммия японский рубелла d-19 см h-40 см',\n",
       " 'лестница-стремянка dogrular ufuk оцинковывать 8-ми ступенчатый',\n",
       " 'аспарагус спренжери d-12 см',\n",
       " 'сумка-тележка хозяйственный rolser jet claudia joy черный, jet006 negro joy',\n",
       " 'доска разделочный alparaisa стеклянный завтрак 20х30 см rd0030-st',\n",
       " 'чайный набор 220 мл карин ромашка, g1988, luminarc, оаэ',\n",
       " 'штора для ванный комната bacchetta fragmmento бежевый текстильный 180х200 см 6034',\n",
       " 'тарелка суповой luminarc океан эклипсы 20,5 см l5079',\n",
       " 'гладильный доска ника бест 122х40 см нб',\n",
       " 'розмарин d-9 см',\n",
       " 'пуансеттия d-23 см белый',\n",
       " 'набор бокал для шампанское леди даймонд 6 шт 150 мл g5208 luminarc франция',\n",
       " 'коврик придверный пористый из полимерный материал 60х90 см коричневый, vortex, d022',\n",
       " 'гладильный доска dogrular домин 125х42 см 223708',\n",
       " 'сумка-тележка хозяйственный rolser rg saquet, черный, saq002 negro convert',\n",
       " 'сумка хозяйственный на колесо, 1209020',\n",
       " 'скатерть 350х180 см wellness wt358-лувр*02 100% полиэстер',\n",
       " 'роза кордан белый d-10 см h-20',\n",
       " 'сушилка для белье meliconi miss stendy',\n",
       " 'кружка бамбук 320 мл g0688 luminarc франция',\n",
       " 'комод эльфпласт № 3 алфавит оранжевый 301о',\n",
       " 'скатерть арлета 50% полиэфир 50% хлопок овальный 350х175 см светло-бежевый wellness mlo357-арлета*17',\n",
       " 'корыто оцинковывать 45 л бесшовный, 1303007',\n",
       " 'сумка-тележка хозяйственный gimi brava',\n",
       " 'сушилка для белье напольный colombo bella 20 м st387',\n",
       " 'штора для ванный комната 240х200 sintra бежевый текстильный 240х200 см 6039',\n",
       " 'кондиционер для белье sandokkaebi soft aroma aqua blue свежесть океан флакон 2100 мл корея 8801353-003494',\n",
       " 'фарфоровый кружка rosario бабочка 550 мл ф16-013l',\n",
       " 'термокружок alpenkok ak-04009a красный 400 мл',\n",
       " 'пуансеттия d-12 см красный',\n",
       " 'сумка-тележка хозяйственный rolser pack gloria logic rg серый, pac036 marengo logic rg',\n",
       " 'вешалка металлический valiant с четыре разъемный перекладина противоскользящий покрытие 35*30 см 18b30',\n",
       " 'корзина пластиковый для белье 40л. с крышка белый 1840/06, виолета',\n",
       " 'стремянка бытовой framar slimmy 4 ступень',\n",
       " 'вешалка настенный ника вп6с с полка 6 крючок серебро',\n",
       " 'термос 1л svb-1000h',\n",
       " 'вешалка гардеробная радуга 1 зми белый серебро внп 298 бс',\n",
       " 'стремянка framar major tech 4 алюминиевый 4-х ступенчатый 4126',\n",
       " 'плед флисовый 150х130 см wellness wplny135-зима_10 100 % полиэстер',\n",
       " 'вилка столовая 3 шт тяжелый серия сапфир свweddel-2',\n",
       " 'коврик придверный хлопковый 60х140 см мультиколор, helex, с04',\n",
       " 'скатерть виниловый тисненый с ажурный кайма 137х182 см водонепроницаемый тд5-0077',\n",
       " 'электроштопор qwerty белый 4,5?23,4 см на батарейка 4хаа 71000',\n",
       " 'коврик придверный полиэстер, 46х76 см, drifted nature, изменчивость, mohawk, 5007',\n",
       " 'коврик придверный alpine wrought iron из полиэстер и перерабатывать резина 45x76 см, apache, 4649',\n",
       " 'стремянка eurogold colour 2х ступенчатый с противоскользящий покрытие, сталь 2022r/2122r',\n",
       " 'тарелка обеденный luminarc океан эклипсы 24 см l5078',\n",
       " 'коврик для ванный комната, 50*80*1,4 см, мягкий основа, expedition history valiant, exp-h-58',\n",
       " 'настенный сушилка для белье gimi brio super 120',\n",
       " 'сумка-тележка хозяйственный gimi rolling thermo синий',\n",
       " 'чайник эмалированный со свисток 2,5л есть-25001/17',\n",
       " 'коврик противоскользящий 69х39 см овальный черепаха 5538',\n",
       " 'комплект для мытье пол из нержавеющий сталь и пластика clean twist mop зеленый: швабра-моп + ведро 20 л с механизм отжим, l',\n",
       " 'корзина для белье виолета с крышка ротанг 40 л латт 1840/20',\n",
       " 'простыня вафельный 200х180 см wellness rw180-01 100% хлопок',\n",
       " 'набор вешалка деревянный 3 шт с перекладина 44,5х23х1,2 см лиловый romantic valiant rm-16601s',\n",
       " 'декоративный композиция искуственный цветок букет подсолнух 115 см три бутон',\n",
       " 'сковорода scovo дема мт-029 алюминиевый без крышка с металический ручка, 20 см',\n",
       " 'столовый нож ripple 80 г 2 шт attribute acr042',\n",
       " 'вешалка valiant для брюки и юбка металлический 30*10.5 см 121b11',\n",
       " 'чехол для одежда hausmann розовый принт 60х100х104',\n",
       " 'пеларгония зональный диам. 12 см красный махровый',\n",
       " 'пеларгония зональный розоцветный маргарита лососевый 5-7 лист',\n",
       " 'блюдце утро эклипсы, j3261, luminarc, франция',\n",
       " 'скатерть ажурный d-ia rose круглый д.152 белый 5173 towa co. ltd-',\n",
       " 'штора для ванный 180х200 см, rigone зеленый',\n",
       " 'контейнер для свч полимербыт премиум 1,2 л 4356200',\n",
       " 'сушилка для белье напольный ника сб1г 18 м белый-голубой',\n",
       " 'фиттоний скелетон d-9 см',\n",
       " 'скатерть беатрис 50% полиэфир 50% хлопок прямоугольный 300х145 см светло-коричневый wellness ml304-беатрис*20',\n",
       " 'чехол eurogold clean metallic металлизированый с поролон для доска 120х38-120х42 см c42f3m',\n",
       " 'роза кустовой ред лейс 60 см кения плантация waridi limited 10 штука в упаковка',\n",
       " 'чехол для одежда hausmann со стенка из пвх и ручка 60х100 см ag',\n",
       " 'гладильный доска dogrular томрис 120x38 см',\n",
       " 'гладильный доска ника бэлль-юниор2 112х34,5 см бю2',\n",
       " 'полка qwerty лондон белый 27х27х10 см и 23х23х10 см 72000',\n",
       " 'тимьян d-9 см',\n",
       " 'бульонница luminarc мистигря 500 мл j8770',\n",
       " 'сушилка для белье напольный ника сбп1/с 18 м',\n",
       " 'нож для овощ и мясо (5024) 1518004',\n",
       " 'алоэ вера d-12 см h-25 см',\n",
       " 'гладильный доска nika haushalt тефлон золотой 122х40 см hp1t/g',\n",
       " 'жестяной банка гусь 0,8 л 11х9,9 см ц99h110v080-01339',\n",
       " 'пеларгония зональный диам. 12 см красный-розовый простой',\n",
       " 'комнатный растение в горшок сциндапсус зеленый подвесной горшок, d15-16, h30',\n",
       " 'сушилка для белье напольный ника сб3б 10 м белый',\n",
       " 'роза одноголовый родос 70 см кения плантация subati flowers limited 10 штука в упаковка',\n",
       " 'сумка-тележка gimi italo blue синий',\n",
       " 'щетка для мытье посуда колибри м5202 больший',\n",
       " 'миксер василиса ва-506 белый с красный/малиновый 180 вт 7 скоростной режим',\n",
       " 'сушилка для белье напольный ника сб3 10 м',\n",
       " 'ключница картина w-12 замок 35х30 см',\n",
       " 'разделочный доска attribute granite 20х30 см abx111',\n",
       " 'штора для ванный spirella / спирелла tex porto, белый, текстиль с гидрофобный пропитка, 180*200 см, 1033938',\n",
       " 'тарелка обеденный стелла шоколад 25 см j1762 luminarc',\n",
       " 'чайник электрический василиса т30-2000 нержавеющий сталь черный c красный 2000 вт 1,8 л',\n",
       " 'аптение d-12 см h-15 см',\n",
       " 'мантоварка-пароварка webber be-81 нержавеющий сталь d=30 см',\n",
       " 'складной картонный коробка для хранение 30х20х15 см с уголок белый hm-9741-3 hausmann',\n",
       " 'спатифиллум шопен d-12 см',\n",
       " 'чехол для гладильный доска colombo клубок пряжа серый/розовый 140х55 см из хлопок 5550',\n",
       " 'контейнер герметичный прямоугольный виолета 092/051 500 мл дымчатый',\n",
       " 'набор вешалка пластмассовый rozenbal r181900',\n",
       " 'искусственный цветок пластиковый нарцисс 3 бутон королевский 46 см',\n",
       " 'емкость для соус с ложка pasabahce 200 мл ots131505-000',\n",
       " 'фикус каучуконосный эластик абиджан d-12 см h-30 см',\n",
       " 'тарелка суповой luminarc мариса оранж 20 см j7687',\n",
       " 'защитный соль для посудомоечный машина ludwik 1,5 кг польша 5900861242227',\n",
       " 'таз пластмассовый 16,0 л пищевой круглый м2507, 1404037',\n",
       " 'гипоаллергенный концентрированный гель для стирка белье vpk для деликатный ткань 2,5 л корея 8809473130144',\n",
       " 'коврик придверный с дизайн, из резина и кокос 58,5*89 gothic iron slice / готический узор, 4468',\n",
       " 'муляж ананас 21 см',\n",
       " 'сидение для ванна пластмассовый м1552 1714003',\n",
       " 'скатерть 150х120 см wellness wt125-куэн 100% полиэстер',\n",
       " 'сумка-тележка 2-х колесный gimi argo черный',\n",
       " 'коврик кухонный apache coffee chef 45x75 см 5420',\n",
       " 'вешалка-перекладина valiant металлический двойной с антискользящий покрытие 50320',\n",
       " 'скатерть муза 100% полиэфир овальный 180х150 см сливочный с цветок, wellness, wto185-муза*04',\n",
       " 'кружка мерный 11600 1 л',\n",
       " 'штора для ванный spirella / спирелла tex rings, текстиль с гидрофобный пропитка, серо-черный, 180*200 см, 1015184',\n",
       " 'сушилка для белье лиана люкс 110 см потолочный',\n",
       " 'фиалка d-9 см белый махровый',\n",
       " 'штора для ванный spirella / спирелла tex shine текстиль с гидрофобный пропитка, шампань, 180*200 см, 1015640',\n",
       " 'модульный стеклянный банка 1,1л, 298264, brabantia,',\n",
       " 'сушилка для белье zalger simfony 1255-90 одноуровневый с крыло 20 м',\n",
       " 'контейнер для мусор пластиковый 50 л 40,7х30,6х72,7 см ролл топ серый, curver, d 03977-856',\n",
       " 'сушилка для белье настенный ника сн90 серебро 90 см',\n",
       " 'сушилка для белье потолочный лиана люкс 200 см ллп-200',\n",
       " 'перчатка fabrikators для чистка овощ детский оранжевый ko2pu',\n",
       " 'термостакан webber ве-6031 чай 450 мл',\n",
       " 'сумка-тележка хозяйственный rolser imx001 negro convert rg черный',\n",
       " 'столовый ложка attribute fortress 2 шт acf622',\n",
       " 'сушилка для белье hausmann hermes de luxe 20 м 03-010c-1',\n",
       " 'подставка для нож alpenkok круглый из пластика 11*22 см красный ak-202st',\n",
       " 'лестница стремянка зми конек медный антик тс 277',\n",
       " 'чайный набор luminarc лили флауэр 6 шт 320 мл j8565',\n",
       " 'весы напольный edition feet механический',\n",
       " 'петля рояльный цинк 960 мм, 1103055',\n",
       " 'банка стеклянный с металлический крышка и краник attribute grape 3,8 л abs038',\n",
       " 'карниз для ванный комната виолета раздвижной 210 см с кольцо белый 2110/6',\n",
       " 'чехол для гладильный доска i love gimi m из полиэстер и хлопок 132*48 см, gimi',\n",
       " 'азалия индик фиолетовый d-10 см h-20',\n",
       " 'пеларгония зональный махровый белый взрослый растение',\n",
       " 'пеларгония розебудный emma укоренять черенок',\n",
       " 'пеларгония розебудный mary укоренять черенок',\n",
       " 'пеларгония розебудный prins nikolai укоренять черенок',\n",
       " 'полка qwerty берлин черный 44х24х10 см 40х20х10 см 36х16х10 см 72008',\n",
       " 'штора для ванный комната пвх 180х180 см ракушка бежевый, 5923',\n",
       " 'крючок проволочный 75 мм латунь, 1110136',\n",
       " 'цветок искусственный тюльпан 40 см пластик цвет в ассортимент',\n",
       " 'просеиватель для мука d27см., rsb',\n",
       " 'мусорный контейнер hailo bigbin swing 45 0845-010 45 л хром',\n",
       " 'пеларгония toscana angeleyes amarillo burgundy укоренять черенок',\n",
       " 'пеларгония toscana angeleyes amarillo rosato укоренять черенок',\n",
       " 'пеларгония розебудный queen ingrid укоренять черенок',\n",
       " 'пеларгония розебудный red pandora укоренять черенок',\n",
       " 'пеларгония toscana angeleyes bicolor укоренять черенок',\n",
       " 'скатерть meiwa fplus-plain sarasa az be прямоугольная152х228 см бежевый 5140 meiwa',\n",
       " 'кастрюля чугунный 24 см, красный, 3.6 л, pyrex, sc5ac24/5141',\n",
       " 'сидение для гладильный доска leifheit niveau, 71325',\n",
       " 'штора для ванный 180х200 см, rigone розовый',\n",
       " 'весы настольный электронный delta ксе-01 белый 5кг',\n",
       " 'крючок проволочный 125 мм медь, 1110132',\n",
       " 'гладильный доска ника верона 1 чехол мужчина с роза 122х42 см дв1м',\n",
       " 'средство для мытье посуда vestar гранат 1000 мл россия 4620757211700',\n",
       " 'декоративный коробка stockholm xl classico 30*25*40 см d 04711-d41 curver 04711-d41',\n",
       " 'толкушка деревянный ( бук ) 1530018',\n",
       " 'махровый полотенце 70х35 см wellness exclusive 1дсж1_йот_1-67 100% хлопок',\n",
       " 'вешалка ника комфорт 6 напольный серебро вк6с',\n",
       " 'швабра для пол с отжим и фиксатор микрофибра, r212608, rozenbal',\n",
       " 'искусственный лиана плющ 2,4 м',\n",
       " 'кодонант укоренять черенок 1 шт',\n",
       " 'коврик придверный php srl 40х68 см format tour 21717 добро пожаловать 6008',\n",
       " 'гладильный доска белль-юниор1 34,5х112см дсп 1200006',\n",
       " 'кофр для хранение hausmann средний 36х36х30 2 шт. 4c-202',\n",
       " ...]"
      ]
     },
     "execution_count": 22,
     "metadata": {},
     "output_type": "execute_result"
    }
   ],
   "source": [
    "#загрузка библиотеки\n",
    "from pymystem3 import Mystem\n",
    "m = Mystem()\n",
    "#делаем список \n",
    "product_list = df['product'].unique()\n",
    "\n",
    "# каждую строчку лемматизируем \n",
    "lemmas = []\n",
    "for i in product_list:\n",
    "    result = ''.join(m.lemmatize(i)).strip()\n",
    "    lemmas.append(result)\n",
    "lemmas"
   ]
  },
  {
   "cell_type": "code",
   "execution_count": 23,
   "metadata": {},
   "outputs": [
    {
     "data": {
      "text/plain": [
       "2341"
      ]
     },
     "execution_count": 23,
     "metadata": {},
     "output_type": "execute_result"
    }
   ],
   "source": [
    "len(lemmas)"
   ]
  },
  {
   "cell_type": "code",
   "execution_count": 24,
   "metadata": {},
   "outputs": [],
   "source": [
    "# создание списков для распределения по категориям \n",
    "plants =  ['рассада', 'растение', 'аквилегия', 'алиссум', 'анемон', 'антуриум', 'арбуз', 'астра', 'бадан', 'бакоп', 'барвинок', 'бегония',\n",
    "         'бузульник', 'вербейник', 'вербена', 'виола','гайлардий','георгин', 'гипсофил', 'гортензия', 'девичий', 'дендробиум', \n",
    "         'дыня', 'ель', 'календула', 'калибрахоа', 'камнеломка', 'кипарисовик', 'клен', 'клубника', 'колокольчик', 'кореопсис',\n",
    "         'котовник', 'лапчатка', 'лен', 'лилейник', 'лобелия', 'лаванда', 'многолетний', 'монарда', 'настурция', 'нивянник', \n",
    "         'осина','папоротник', 'пеларгония', 'петуния', 'пикник', 'пиретрум', 'платикодон',  'ранункулус', 'роза', 'рудбекия', \n",
    "         'седум', 'солидаго', 'томат', 'тюльпан', 'уличный', 'физостегия', 'флокс', 'фуксия', 'хоста', 'хризантема', 'цинния', \n",
    "         'черенок', 'энотера', 'эхинацея','юкка', 'ясколка', 'радермахера', 'хризолидокарпус', 'd-', 'd-5', 'd-7', 'd-9', \n",
    "         'D10', 'd-10', 'd-11', 'D12', 'D12,', 'd12', 'd-12', 'd-13', 'd-14', 'd-15', 'космея',\n",
    "         'd-17', 'd-18', 'd-19', 'd-20', 'd-21', 'D23', 'd-23', 'кориандр', 'укроп', 'базилик', 'салат', 'петрушка', 'огурец', \n",
    "        'морковь', 'вигна','эшшольция', 'шалфей', 'любисток', 'цинерария', 'годеция', 'примула', 'вероника', 'пуансеттия',\n",
    "        'горох', 'земляника', 'капуста', 'змееголовник', 'гайлардия', 'валериана', 'незабудка', 'тимьян', 'маттиола', \n",
    "        'лаватера', 'смолевка', 'хризолидокарпус']\n",
    "\n",
    "dacha = ['автополив', 'бензин', 'бак', 'веник', 'веревка', 'гвоздик', 'зола', 'кассета', 'кашпо', 'корыто', 'мусор', \n",
    "         'мусорный', 'настурция', 'пикник', 'пьезозажигалка', 'садовый', 'сумка-тележка','тележка',\n",
    "         'уличный', 'урна', 'урна-пепельница', 'хозяйственный', 'шнур', 'шпагат', 'щетка-сметка', 'сумка']\n",
    "\n",
    "house = [ 'ванна', 'ванная', 'ванный', 'вантуз', 'ваза', 'ведро', 'весы', 'вешалка', 'вешалка-перекладина', \n",
    "         'вешалка-плечики', 'вешалка-стойка', 'вешалка-сушилка', 'вещь', 'гладильный', 'глажение', 'засор', \n",
    "         'зубной', 'известковый', 'искусственный', 'искуственный', 'калла', 'ключница', 'ковер', 'коврик', 'ковш', \n",
    "         'комнатный', 'кондиционер', 'корзина', 'коробка', 'кофр', 'крючок', 'комод','лавр', 'лоток', 'мыло', 'мыло-скраб', \n",
    "         'муляж', 'наволочка', 'наматрацник', 'наматрицник-чехол', 'наматрасник', 'насадка', 'насадка-моп', 'одеяло', \n",
    "         'окномойка', 'отбеливатель', 'перчатка', 'плед', 'плечики', 'подголовник', 'пододеяльник', 'подрукавник', \n",
    "         'подушка', 'покрывало', 'пол', 'полимербыт', 'полировка', 'полотенце', 'постельный', 'прищепок', 'простыня', \n",
    "         'пыль', 'пятно', 'радиаторный', 'ролик', 'салфетка', 'сантехника', 'светильник', 'обувница', 'совок', 'стиральный', \n",
    "         'стирка', 'сушилка', 'таз', 'ткань', 'тряпка', 'тряпкодержатель', 'туалет', 'туалетный', 'увлажнять', 'унитаз', \n",
    "         'унитазный', 'утюг', 'фен', 'фоторамка','халат', 'хранение', 'цикламен,', 'чехол', 'швабра', 'пуф', \n",
    "         'щетка', 'щетка-утюжок', 'шило', 'штора', 'этажерка', 'гладильная', 'ёрш', 'вешалки', 'перчатки', 'набор', \n",
    "         'декоративная', 'сиденье', 'рукав', 'дозатор', 'пена', 'штанга', 'покрытие', 'ящик', 'паста', 'ковёр', 'крем', \n",
    "         'искусственная', 'мешок', 'мыльница', 'кольца', 'сметка', 'средство', 'отжим', 'решетка', 'маска', 'сетка']\n",
    "\n",
    "kitchen = ['антижир', 'банка', 'бидон', 'блюдо', 'блюдце', 'бокал', 'бульонница', 'бутылка', 'бутылочный', 'венчик',\n",
    "           'вилка', 'выпечка', 'герметичный', 'губка', 'измельчитель', 'картофелемялка', 'кастрюля', 'кекс',\n",
    "           'кипятильник', 'кондитерский', 'кружка', 'крышка', 'кухонный', 'лопатка', 'ложка', 'мантоварка',\n",
    "           'мантоварка-пароварка', 'миксер', 'мини-сковорода', 'миска', 'мука', 'нож', 'ножеточка', 'овощеварка',\n",
    "           'овощечистка', 'овсянница', 'орехоколка', 'отделитель', 'плита', 'половник', 'посуда', 'посудомоечный',\n",
    "           'пресс', 'продукт', 'противень', 'разделочный', 'рыбочистка', 'салатник', 'салфетница', 'сахарница', 'свч',\n",
    "           'сито', 'скалка', 'скатерть', 'сковорода', 'соковарка', 'соковыжималка', 'сотейник', 'стакан', 'столовый',\n",
    "           'тарелка', 'терка', 'термокружок', 'термос', 'термостакан', 'толкушка', 'тортница', 'фужер', 'хлебница',\n",
    "           'чайник', 'чайный', 'электроштопор', 'яйцо', 'котел', 'кувшин', 'салфеток', 'пакет', 'разделочная', 'кисточка',\n",
    "           'посуды', 'форма', 'салфетки', 'емкость']\n",
    "\n",
    "accessories = ['болт', 'вентиляционный', 'инструмент', 'карниз',  'крепеж', 'лестница-стремянка', 'линейка',\n",
    "             'мебельный', 'напильник', 'петля', 'петля-стрела', 'подставка', 'скребок', 'полк', 'полка', 'пробка', \n",
    "             'сварка', 'сверло', 'сверло-фреза,', 'свереть', 'стеллаж', 'стремянка', 'стремянка-табурет', 'строительный',\n",
    "             'уголок', 'угольник', 'угольник,', 'фиксатор-шар', 'форточный', 'шпингалет', 'штангенциркуль', 'основание', \n",
    "             'стяжки', 'стремянки', 'ручка-скоба', 'фал']"
   ]
  },
  {
   "cell_type": "code",
   "execution_count": 25,
   "metadata": {},
   "outputs": [],
   "source": [
    "# функция для распределения по категориям\n",
    "def classify_product(lemmas):\n",
    "    for item in plants:\n",
    "        if item in lemmas:\n",
    "            return 'растения'\n",
    "    for item in dacha:\n",
    "        if item in lemmas:\n",
    "            return 'товары для дачи'\n",
    "    for item in house:\n",
    "        if item in lemmas:\n",
    "            return 'товары для дома'\n",
    "    for item in kitchen:\n",
    "        if item in lemmas:\n",
    "            return 'товары для кухни'\n",
    "    for item in accessories:\n",
    "        if item in lemmas:\n",
    "            return 'товары для ремонта/строительства'    \n",
    "    return 'нет данных о категории'\n"
   ]
  },
  {
   "cell_type": "code",
   "execution_count": 26,
   "metadata": {},
   "outputs": [],
   "source": [
    "#добавляем столбец\n",
    "df['product_category'] = df['product'].apply(classify_product)"
   ]
  },
  {
   "cell_type": "code",
   "execution_count": 27,
   "metadata": {},
   "outputs": [
    {
     "data": {
      "text/html": [
       "<div>\n",
       "<style scoped>\n",
       "    .dataframe tbody tr th:only-of-type {\n",
       "        vertical-align: middle;\n",
       "    }\n",
       "\n",
       "    .dataframe tbody tr th {\n",
       "        vertical-align: top;\n",
       "    }\n",
       "\n",
       "    .dataframe thead th {\n",
       "        text-align: right;\n",
       "    }\n",
       "</style>\n",
       "<table border=\"1\" class=\"dataframe\">\n",
       "  <thead>\n",
       "    <tr style=\"text-align: right;\">\n",
       "      <th></th>\n",
       "      <th>date</th>\n",
       "      <th>customer_id</th>\n",
       "      <th>order_id</th>\n",
       "      <th>product</th>\n",
       "      <th>quantity</th>\n",
       "      <th>price</th>\n",
       "      <th>month</th>\n",
       "      <th>year</th>\n",
       "      <th>category_of_buyers</th>\n",
       "    </tr>\n",
       "    <tr>\n",
       "      <th>product_category</th>\n",
       "      <th></th>\n",
       "      <th></th>\n",
       "      <th></th>\n",
       "      <th></th>\n",
       "      <th></th>\n",
       "      <th></th>\n",
       "      <th></th>\n",
       "      <th></th>\n",
       "      <th></th>\n",
       "    </tr>\n",
       "  </thead>\n",
       "  <tbody>\n",
       "    <tr>\n",
       "      <th>растения</th>\n",
       "      <td>4561</td>\n",
       "      <td>4561</td>\n",
       "      <td>4561</td>\n",
       "      <td>4561</td>\n",
       "      <td>4561</td>\n",
       "      <td>4561</td>\n",
       "      <td>4561</td>\n",
       "      <td>4561</td>\n",
       "      <td>4561</td>\n",
       "    </tr>\n",
       "    <tr>\n",
       "      <th>товары для дачи</th>\n",
       "      <td>530</td>\n",
       "      <td>530</td>\n",
       "      <td>530</td>\n",
       "      <td>530</td>\n",
       "      <td>530</td>\n",
       "      <td>530</td>\n",
       "      <td>530</td>\n",
       "      <td>530</td>\n",
       "      <td>530</td>\n",
       "    </tr>\n",
       "    <tr>\n",
       "      <th>товары для дома</th>\n",
       "      <td>1263</td>\n",
       "      <td>1263</td>\n",
       "      <td>1263</td>\n",
       "      <td>1263</td>\n",
       "      <td>1263</td>\n",
       "      <td>1263</td>\n",
       "      <td>1263</td>\n",
       "      <td>1263</td>\n",
       "      <td>1263</td>\n",
       "    </tr>\n",
       "    <tr>\n",
       "      <th>товары для кухни</th>\n",
       "      <td>281</td>\n",
       "      <td>281</td>\n",
       "      <td>281</td>\n",
       "      <td>281</td>\n",
       "      <td>281</td>\n",
       "      <td>281</td>\n",
       "      <td>281</td>\n",
       "      <td>281</td>\n",
       "      <td>281</td>\n",
       "    </tr>\n",
       "    <tr>\n",
       "      <th>товары для ремонта/строительства</th>\n",
       "      <td>102</td>\n",
       "      <td>102</td>\n",
       "      <td>102</td>\n",
       "      <td>102</td>\n",
       "      <td>102</td>\n",
       "      <td>102</td>\n",
       "      <td>102</td>\n",
       "      <td>102</td>\n",
       "      <td>102</td>\n",
       "    </tr>\n",
       "  </tbody>\n",
       "</table>\n",
       "</div>"
      ],
      "text/plain": [
       "                                  date  customer_id  order_id  product  \\\n",
       "product_category                                                         \n",
       "растения                          4561         4561      4561     4561   \n",
       "товары для дачи                    530          530       530      530   \n",
       "товары для дома                   1263         1263      1263     1263   \n",
       "товары для кухни                   281          281       281      281   \n",
       "товары для ремонта/строительства   102          102       102      102   \n",
       "\n",
       "                                  quantity  price  month  year  \\\n",
       "product_category                                                 \n",
       "растения                              4561   4561   4561  4561   \n",
       "товары для дачи                        530    530    530   530   \n",
       "товары для дома                       1263   1263   1263  1263   \n",
       "товары для кухни                       281    281    281   281   \n",
       "товары для ремонта/строительства       102    102    102   102   \n",
       "\n",
       "                                  category_of_buyers  \n",
       "product_category                                      \n",
       "растения                                        4561  \n",
       "товары для дачи                                  530  \n",
       "товары для дома                                 1263  \n",
       "товары для кухни                                 281  \n",
       "товары для ремонта/строительства                 102  "
      ]
     },
     "execution_count": 27,
     "metadata": {},
     "output_type": "execute_result"
    }
   ],
   "source": [
    "df.groupby('product_category').count()"
   ]
  },
  {
   "cell_type": "code",
   "execution_count": 28,
   "metadata": {
    "scrolled": false
   },
   "outputs": [
    {
     "data": {
      "text/plain": [
       "date                  0\n",
       "customer_id           0\n",
       "order_id              0\n",
       "product               0\n",
       "quantity              0\n",
       "price                 0\n",
       "month                 0\n",
       "year                  0\n",
       "category_of_buyers    0\n",
       "product_category      0\n",
       "dtype: int64"
      ]
     },
     "execution_count": 28,
     "metadata": {},
     "output_type": "execute_result"
    }
   ],
   "source": [
    "df.query('product_category == \"нет данных о категории\"').count()"
   ]
  },
  {
   "cell_type": "code",
   "execution_count": 29,
   "metadata": {
    "scrolled": false
   },
   "outputs": [
    {
     "data": {
      "text/plain": [
       "customer_id\n",
       "1d6c8c1f-a799-4418-9af2-1ded47d7a85c    888\n",
       "db77c238-3c80-4032-9e3c-c30a43f4a650    203\n",
       "c971fb21-d54c-4134-938f-16b62ee86d3b    144\n",
       "3d5fef90-4a65-4a7e-84cf-010eba7b038d     90\n",
       "42d3cb27-6519-4627-9b4a-5aa8ee600203     63\n",
       "57cc80a2-2610-4eef-9457-e7c3bf0c72f0     60\n",
       "d3b9ffea-d143-4747-8d59-74ab843d1ad6     51\n",
       "9f1e7d7d-ff10-4eb1-b596-1cbf8075aa3f     50\n",
       "0184f535-b60a-4914-a982-231e3f615206     47\n",
       "4d93d3f6-8b24-403b-a74b-f5173e40d7db     47\n",
       "760aa067-90c3-4794-b7a9-a8831197388b     36\n",
       "3ee43256-af7d-4036-90d4-eeefa1afc767     34\n",
       "2a0acc09-e343-4f92-b5c0-f598ef2b07d4     31\n",
       "a3394ff2-4cd2-4332-9f6c-2668ac608fbc     30\n",
       "1420716a-02ef-426f-828d-fddcb0e1f532     30\n",
       "603e92a4-fc7f-4203-9ca5-103da5b008ac     29\n",
       "e58284ef-20d2-42dd-879d-fdd6bd653f3f     28\n",
       "4f424a7c-3563-4316-b21f-1a65601226b2     27\n",
       "7e0fb269-d55f-4e36-bcc4-24968b70e009     26\n",
       "7d5d5657-5fdc-40d1-b7b6-bb04ede92b53     26\n",
       "Name: order_id, dtype: int64"
      ]
     },
     "execution_count": 29,
     "metadata": {},
     "output_type": "execute_result"
    }
   ],
   "source": [
    "#просмотр по заказам\n",
    "df.groupby('customer_id')['order_id'].count().sort_values(ascending = False).head(20)"
   ]
  },
  {
   "cell_type": "code",
   "execution_count": 30,
   "metadata": {
    "scrolled": false
   },
   "outputs": [
    {
     "data": {
      "text/html": [
       "<div>\n",
       "<style scoped>\n",
       "    .dataframe tbody tr th:only-of-type {\n",
       "        vertical-align: middle;\n",
       "    }\n",
       "\n",
       "    .dataframe tbody tr th {\n",
       "        vertical-align: top;\n",
       "    }\n",
       "\n",
       "    .dataframe thead th {\n",
       "        text-align: right;\n",
       "    }\n",
       "</style>\n",
       "<table border=\"1\" class=\"dataframe\">\n",
       "  <thead>\n",
       "    <tr style=\"text-align: right;\">\n",
       "      <th></th>\n",
       "      <th></th>\n",
       "      <th></th>\n",
       "      <th></th>\n",
       "      <th>date</th>\n",
       "      <th>quantity</th>\n",
       "      <th>price</th>\n",
       "      <th>month</th>\n",
       "      <th>year</th>\n",
       "      <th>product_category</th>\n",
       "    </tr>\n",
       "    <tr>\n",
       "      <th>customer_id</th>\n",
       "      <th>order_id</th>\n",
       "      <th>product</th>\n",
       "      <th>category_of_buyers</th>\n",
       "      <th></th>\n",
       "      <th></th>\n",
       "      <th></th>\n",
       "      <th></th>\n",
       "      <th></th>\n",
       "      <th></th>\n",
       "    </tr>\n",
       "  </thead>\n",
       "  <tbody>\n",
       "    <tr>\n",
       "      <th rowspan=\"5\" valign=\"top\">1d6c8c1f-a799-4418-9af2-1ded47d7a85c</th>\n",
       "      <th rowspan=\"5\" valign=\"top\">14833</th>\n",
       "      <th>рассада кабачка сорт аэронавт, кассета по 6шт</th>\n",
       "      <th>розница</th>\n",
       "      <td>74</td>\n",
       "      <td>74</td>\n",
       "      <td>74</td>\n",
       "      <td>74</td>\n",
       "      <td>74</td>\n",
       "      <td>74</td>\n",
       "    </tr>\n",
       "    <tr>\n",
       "      <th>рассада кабачка сорт белогор кассета 6 шт e6</th>\n",
       "      <th>розница</th>\n",
       "      <td>74</td>\n",
       "      <td>74</td>\n",
       "      <td>74</td>\n",
       "      <td>74</td>\n",
       "      <td>74</td>\n",
       "      <td>74</td>\n",
       "    </tr>\n",
       "    <tr>\n",
       "      <th>рассада кабачка сорт горный, кассета по 6шт</th>\n",
       "      <th>розница</th>\n",
       "      <td>74</td>\n",
       "      <td>74</td>\n",
       "      <td>74</td>\n",
       "      <td>74</td>\n",
       "      <td>74</td>\n",
       "      <td>74</td>\n",
       "    </tr>\n",
       "    <tr>\n",
       "      <th>рассада кабачка сорт зебра кассета 6 шт e6</th>\n",
       "      <th>розница</th>\n",
       "      <td>74</td>\n",
       "      <td>74</td>\n",
       "      <td>74</td>\n",
       "      <td>74</td>\n",
       "      <td>74</td>\n",
       "      <td>74</td>\n",
       "    </tr>\n",
       "    <tr>\n",
       "      <th>рассада кабачка сорт золотинка кассета 6 шт e6</th>\n",
       "      <th>розница</th>\n",
       "      <td>74</td>\n",
       "      <td>74</td>\n",
       "      <td>74</td>\n",
       "      <td>74</td>\n",
       "      <td>74</td>\n",
       "      <td>74</td>\n",
       "    </tr>\n",
       "  </tbody>\n",
       "</table>\n",
       "</div>"
      ],
      "text/plain": [
       "                                                                                                                 date  \\\n",
       "customer_id                          order_id product                                        category_of_buyers         \n",
       "1d6c8c1f-a799-4418-9af2-1ded47d7a85c 14833    рассада кабачка сорт аэронавт, кассета по 6шт  розница               74   \n",
       "                                              рассада кабачка сорт белогор кассета 6 шт e6   розница               74   \n",
       "                                              рассада кабачка сорт горный, кассета по 6шт    розница               74   \n",
       "                                              рассада кабачка сорт зебра кассета 6 шт e6     розница               74   \n",
       "                                              рассада кабачка сорт золотинка кассета 6 шт e6 розница               74   \n",
       "\n",
       "                                                                                                                 quantity  \\\n",
       "customer_id                          order_id product                                        category_of_buyers             \n",
       "1d6c8c1f-a799-4418-9af2-1ded47d7a85c 14833    рассада кабачка сорт аэронавт, кассета по 6шт  розница                   74   \n",
       "                                              рассада кабачка сорт белогор кассета 6 шт e6   розница                   74   \n",
       "                                              рассада кабачка сорт горный, кассета по 6шт    розница                   74   \n",
       "                                              рассада кабачка сорт зебра кассета 6 шт e6     розница                   74   \n",
       "                                              рассада кабачка сорт золотинка кассета 6 шт e6 розница                   74   \n",
       "\n",
       "                                                                                                                 price  \\\n",
       "customer_id                          order_id product                                        category_of_buyers          \n",
       "1d6c8c1f-a799-4418-9af2-1ded47d7a85c 14833    рассада кабачка сорт аэронавт, кассета по 6шт  розница                74   \n",
       "                                              рассада кабачка сорт белогор кассета 6 шт e6   розница                74   \n",
       "                                              рассада кабачка сорт горный, кассета по 6шт    розница                74   \n",
       "                                              рассада кабачка сорт зебра кассета 6 шт e6     розница                74   \n",
       "                                              рассада кабачка сорт золотинка кассета 6 шт e6 розница                74   \n",
       "\n",
       "                                                                                                                 month  \\\n",
       "customer_id                          order_id product                                        category_of_buyers          \n",
       "1d6c8c1f-a799-4418-9af2-1ded47d7a85c 14833    рассада кабачка сорт аэронавт, кассета по 6шт  розница                74   \n",
       "                                              рассада кабачка сорт белогор кассета 6 шт e6   розница                74   \n",
       "                                              рассада кабачка сорт горный, кассета по 6шт    розница                74   \n",
       "                                              рассада кабачка сорт зебра кассета 6 шт e6     розница                74   \n",
       "                                              рассада кабачка сорт золотинка кассета 6 шт e6 розница                74   \n",
       "\n",
       "                                                                                                                 year  \\\n",
       "customer_id                          order_id product                                        category_of_buyers         \n",
       "1d6c8c1f-a799-4418-9af2-1ded47d7a85c 14833    рассада кабачка сорт аэронавт, кассета по 6шт  розница               74   \n",
       "                                              рассада кабачка сорт белогор кассета 6 шт e6   розница               74   \n",
       "                                              рассада кабачка сорт горный, кассета по 6шт    розница               74   \n",
       "                                              рассада кабачка сорт зебра кассета 6 шт e6     розница               74   \n",
       "                                              рассада кабачка сорт золотинка кассета 6 шт e6 розница               74   \n",
       "\n",
       "                                                                                                                 product_category  \n",
       "customer_id                          order_id product                                        category_of_buyers                    \n",
       "1d6c8c1f-a799-4418-9af2-1ded47d7a85c 14833    рассада кабачка сорт аэронавт, кассета по 6шт  розница                           74  \n",
       "                                              рассада кабачка сорт белогор кассета 6 шт e6   розница                           74  \n",
       "                                              рассада кабачка сорт горный, кассета по 6шт    розница                           74  \n",
       "                                              рассада кабачка сорт зебра кассета 6 шт e6     розница                           74  \n",
       "                                              рассада кабачка сорт золотинка кассета 6 шт e6 розница                           74  "
      ]
     },
     "execution_count": 30,
     "metadata": {},
     "output_type": "execute_result"
    }
   ],
   "source": [
    "df.query('customer_id == \"1d6c8c1f-a799-4418-9af2-1ded47d7a85c\"').groupby(['customer_id', 'order_id', 'product', 'category_of_buyers']).count().sort_values('date', ascending=False).head()\n"
   ]
  },
  {
   "cell_type": "code",
   "execution_count": 31,
   "metadata": {
    "scrolled": false
   },
   "outputs": [
    {
     "data": {
      "text/plain": [
       "count                     888\n",
       "unique                     74\n",
       "top       2019-06-04 13:00:00\n",
       "freq                       12\n",
       "first     2019-05-31 12:00:00\n",
       "last      2019-06-22 06:00:00\n",
       "Name: date, dtype: object"
      ]
     },
     "execution_count": 31,
     "metadata": {},
     "output_type": "execute_result"
    }
   ],
   "source": [
    "customer_id_c30a43f4a650 = df.query('customer_id == \"1d6c8c1f-a799-4418-9af2-1ded47d7a85c\"')\n",
    "customer_id_c30a43f4a650['date'].describe()"
   ]
  },
  {
   "cell_type": "code",
   "execution_count": 32,
   "metadata": {
    "scrolled": true
   },
   "outputs": [
    {
     "data": {
      "text/html": [
       "<div>\n",
       "<style scoped>\n",
       "    .dataframe tbody tr th:only-of-type {\n",
       "        vertical-align: middle;\n",
       "    }\n",
       "\n",
       "    .dataframe tbody tr th {\n",
       "        vertical-align: top;\n",
       "    }\n",
       "\n",
       "    .dataframe thead th {\n",
       "        text-align: right;\n",
       "    }\n",
       "</style>\n",
       "<table border=\"1\" class=\"dataframe\">\n",
       "  <thead>\n",
       "    <tr style=\"text-align: right;\">\n",
       "      <th></th>\n",
       "      <th></th>\n",
       "      <th></th>\n",
       "      <th></th>\n",
       "      <th>date</th>\n",
       "      <th>quantity</th>\n",
       "      <th>price</th>\n",
       "      <th>month</th>\n",
       "      <th>year</th>\n",
       "      <th>product_category</th>\n",
       "    </tr>\n",
       "    <tr>\n",
       "      <th>customer_id</th>\n",
       "      <th>order_id</th>\n",
       "      <th>product</th>\n",
       "      <th>category_of_buyers</th>\n",
       "      <th></th>\n",
       "      <th></th>\n",
       "      <th></th>\n",
       "      <th></th>\n",
       "      <th></th>\n",
       "      <th></th>\n",
       "    </tr>\n",
       "  </thead>\n",
       "  <tbody>\n",
       "    <tr>\n",
       "      <th rowspan=\"5\" valign=\"top\">db77c238-3c80-4032-9e3c-c30a43f4a650</th>\n",
       "      <th rowspan=\"5\" valign=\"top\">14835</th>\n",
       "      <th>бакопа ампельная махровая белая махровая объем 0,5 л</th>\n",
       "      <th>розница</th>\n",
       "      <td>7</td>\n",
       "      <td>7</td>\n",
       "      <td>7</td>\n",
       "      <td>7</td>\n",
       "      <td>7</td>\n",
       "      <td>7</td>\n",
       "    </tr>\n",
       "    <tr>\n",
       "      <th>калибрахоа aloha double purple сиреневая махровая объем 0,5 л</th>\n",
       "      <th>розница</th>\n",
       "      <td>7</td>\n",
       "      <td>7</td>\n",
       "      <td>7</td>\n",
       "      <td>7</td>\n",
       "      <td>7</td>\n",
       "      <td>7</td>\n",
       "    </tr>\n",
       "    <tr>\n",
       "      <th>петуния махровая рассада однолетних цветов в кассете по 10 шт</th>\n",
       "      <th>розница</th>\n",
       "      <td>7</td>\n",
       "      <td>7</td>\n",
       "      <td>7</td>\n",
       "      <td>7</td>\n",
       "      <td>7</td>\n",
       "      <td>7</td>\n",
       "    </tr>\n",
       "    <tr>\n",
       "      <th>петуния surfinia doble white белая махровая объем 0,5 л</th>\n",
       "      <th>розница</th>\n",
       "      <td>7</td>\n",
       "      <td>7</td>\n",
       "      <td>7</td>\n",
       "      <td>7</td>\n",
       "      <td>7</td>\n",
       "      <td>7</td>\n",
       "    </tr>\n",
       "    <tr>\n",
       "      <th>петуния surfinia doble lilac светло-сиреневая махровая объем 0,5 л</th>\n",
       "      <th>розница</th>\n",
       "      <td>7</td>\n",
       "      <td>7</td>\n",
       "      <td>7</td>\n",
       "      <td>7</td>\n",
       "      <td>7</td>\n",
       "      <td>7</td>\n",
       "    </tr>\n",
       "  </tbody>\n",
       "</table>\n",
       "</div>"
      ],
      "text/plain": [
       "                                                                                                                     date  \\\n",
       "customer_id                          order_id product                                            category_of_buyers         \n",
       "db77c238-3c80-4032-9e3c-c30a43f4a650 14835    бакопа ампельная махровая белая махровая объем ... розница                7   \n",
       "                                              калибрахоа aloha double purple сиреневая махров... розница                7   \n",
       "                                              петуния махровая рассада однолетних цветов в ка... розница                7   \n",
       "                                              петуния surfinia doble white белая махровая объ... розница                7   \n",
       "                                              петуния surfinia doble lilac светло-сиреневая м... розница                7   \n",
       "\n",
       "                                                                                                                     quantity  \\\n",
       "customer_id                          order_id product                                            category_of_buyers             \n",
       "db77c238-3c80-4032-9e3c-c30a43f4a650 14835    бакопа ампельная махровая белая махровая объем ... розница                    7   \n",
       "                                              калибрахоа aloha double purple сиреневая махров... розница                    7   \n",
       "                                              петуния махровая рассада однолетних цветов в ка... розница                    7   \n",
       "                                              петуния surfinia doble white белая махровая объ... розница                    7   \n",
       "                                              петуния surfinia doble lilac светло-сиреневая м... розница                    7   \n",
       "\n",
       "                                                                                                                     price  \\\n",
       "customer_id                          order_id product                                            category_of_buyers          \n",
       "db77c238-3c80-4032-9e3c-c30a43f4a650 14835    бакопа ампельная махровая белая махровая объем ... розница                 7   \n",
       "                                              калибрахоа aloha double purple сиреневая махров... розница                 7   \n",
       "                                              петуния махровая рассада однолетних цветов в ка... розница                 7   \n",
       "                                              петуния surfinia doble white белая махровая объ... розница                 7   \n",
       "                                              петуния surfinia doble lilac светло-сиреневая м... розница                 7   \n",
       "\n",
       "                                                                                                                     month  \\\n",
       "customer_id                          order_id product                                            category_of_buyers          \n",
       "db77c238-3c80-4032-9e3c-c30a43f4a650 14835    бакопа ампельная махровая белая махровая объем ... розница                 7   \n",
       "                                              калибрахоа aloha double purple сиреневая махров... розница                 7   \n",
       "                                              петуния махровая рассада однолетних цветов в ка... розница                 7   \n",
       "                                              петуния surfinia doble white белая махровая объ... розница                 7   \n",
       "                                              петуния surfinia doble lilac светло-сиреневая м... розница                 7   \n",
       "\n",
       "                                                                                                                     year  \\\n",
       "customer_id                          order_id product                                            category_of_buyers         \n",
       "db77c238-3c80-4032-9e3c-c30a43f4a650 14835    бакопа ампельная махровая белая махровая объем ... розница                7   \n",
       "                                              калибрахоа aloha double purple сиреневая махров... розница                7   \n",
       "                                              петуния махровая рассада однолетних цветов в ка... розница                7   \n",
       "                                              петуния surfinia doble white белая махровая объ... розница                7   \n",
       "                                              петуния surfinia doble lilac светло-сиреневая м... розница                7   \n",
       "\n",
       "                                                                                                                     product_category  \n",
       "customer_id                          order_id product                                            category_of_buyers                    \n",
       "db77c238-3c80-4032-9e3c-c30a43f4a650 14835    бакопа ампельная махровая белая махровая объем ... розница                            7  \n",
       "                                              калибрахоа aloha double purple сиреневая махров... розница                            7  \n",
       "                                              петуния махровая рассада однолетних цветов в ка... розница                            7  \n",
       "                                              петуния surfinia doble white белая махровая объ... розница                            7  \n",
       "                                              петуния surfinia doble lilac светло-сиреневая м... розница                            7  "
      ]
     },
     "execution_count": 32,
     "metadata": {},
     "output_type": "execute_result"
    }
   ],
   "source": [
    "df.query('customer_id == \"db77c238-3c80-4032-9e3c-c30a43f4a650\"').groupby(['customer_id', 'order_id', 'product', 'category_of_buyers']).count().sort_values('date', ascending=False).head()\n"
   ]
  },
  {
   "cell_type": "code",
   "execution_count": 33,
   "metadata": {
    "scrolled": true
   },
   "outputs": [
    {
     "data": {
      "text/plain": [
       "count                     203\n",
       "unique                      7\n",
       "top       2019-06-08 08:00:00\n",
       "freq                       29\n",
       "first     2019-05-31 22:00:00\n",
       "last      2019-06-08 08:00:00\n",
       "Name: date, dtype: object"
      ]
     },
     "execution_count": 33,
     "metadata": {},
     "output_type": "execute_result"
    }
   ],
   "source": [
    "customer_id_1ded47d7a85c = df.query('customer_id == \"db77c238-3c80-4032-9e3c-c30a43f4a650\"')\n",
    "customer_id_1ded47d7a85c['date'].describe()"
   ]
  },
  {
   "cell_type": "code",
   "execution_count": 34,
   "metadata": {
    "scrolled": true
   },
   "outputs": [
    {
     "data": {
      "text/html": [
       "<div>\n",
       "<style scoped>\n",
       "    .dataframe tbody tr th:only-of-type {\n",
       "        vertical-align: middle;\n",
       "    }\n",
       "\n",
       "    .dataframe tbody tr th {\n",
       "        vertical-align: top;\n",
       "    }\n",
       "\n",
       "    .dataframe thead th {\n",
       "        text-align: right;\n",
       "    }\n",
       "</style>\n",
       "<table border=\"1\" class=\"dataframe\">\n",
       "  <thead>\n",
       "    <tr style=\"text-align: right;\">\n",
       "      <th></th>\n",
       "      <th></th>\n",
       "      <th></th>\n",
       "      <th></th>\n",
       "      <th>date</th>\n",
       "      <th>quantity</th>\n",
       "      <th>price</th>\n",
       "      <th>month</th>\n",
       "      <th>year</th>\n",
       "      <th>product_category</th>\n",
       "    </tr>\n",
       "    <tr>\n",
       "      <th>customer_id</th>\n",
       "      <th>order_id</th>\n",
       "      <th>product</th>\n",
       "      <th>category_of_buyers</th>\n",
       "      <th></th>\n",
       "      <th></th>\n",
       "      <th></th>\n",
       "      <th></th>\n",
       "      <th></th>\n",
       "      <th></th>\n",
       "    </tr>\n",
       "  </thead>\n",
       "  <tbody>\n",
       "    <tr>\n",
       "      <th rowspan=\"5\" valign=\"top\">c971fb21-d54c-4134-938f-16b62ee86d3b</th>\n",
       "      <th>70140</th>\n",
       "      <th>контейнер для мусора доминик curver 25 л серебристый 05322-877</th>\n",
       "      <th>розница</th>\n",
       "      <td>2</td>\n",
       "      <td>2</td>\n",
       "      <td>2</td>\n",
       "      <td>2</td>\n",
       "      <td>2</td>\n",
       "      <td>2</td>\n",
       "    </tr>\n",
       "    <tr>\n",
       "      <th>68480</th>\n",
       "      <th>чехол для гладильной доски colombo persia beige 130х50 см из хлопка 5379</th>\n",
       "      <th>розница</th>\n",
       "      <td>1</td>\n",
       "      <td>1</td>\n",
       "      <td>1</td>\n",
       "      <td>1</td>\n",
       "      <td>1</td>\n",
       "      <td>1</td>\n",
       "    </tr>\n",
       "    <tr>\n",
       "      <th>69639</th>\n",
       "      <th>герань домашняя (пеларгония зональная) цветущая , d12, h25-30, красная, махровая</th>\n",
       "      <th>розница</th>\n",
       "      <td>1</td>\n",
       "      <td>1</td>\n",
       "      <td>1</td>\n",
       "      <td>1</td>\n",
       "      <td>1</td>\n",
       "      <td>1</td>\n",
       "    </tr>\n",
       "    <tr>\n",
       "      <th>69561</th>\n",
       "      <th>таз пластмассовый 30,0 л пищевой овальный (иж), 1404055</th>\n",
       "      <th>розница</th>\n",
       "      <td>1</td>\n",
       "      <td>1</td>\n",
       "      <td>1</td>\n",
       "      <td>1</td>\n",
       "      <td>1</td>\n",
       "      <td>1</td>\n",
       "    </tr>\n",
       "    <tr>\n",
       "      <th>69566</th>\n",
       "      <th>шнур резиновый для тележки 200 см белый, 1209004</th>\n",
       "      <th>розница</th>\n",
       "      <td>1</td>\n",
       "      <td>1</td>\n",
       "      <td>1</td>\n",
       "      <td>1</td>\n",
       "      <td>1</td>\n",
       "      <td>1</td>\n",
       "    </tr>\n",
       "  </tbody>\n",
       "</table>\n",
       "</div>"
      ],
      "text/plain": [
       "                                                                                                                     date  \\\n",
       "customer_id                          order_id product                                            category_of_buyers         \n",
       "c971fb21-d54c-4134-938f-16b62ee86d3b 70140    контейнер для мусора доминик curver 25 л серебр... розница                2   \n",
       "                                     68480    чехол для гладильной доски colombo persia beige... розница                1   \n",
       "                                     69639    герань домашняя (пеларгония зональная) цветущая... розница                1   \n",
       "                                     69561    таз пластмассовый 30,0 л пищевой овальный (иж),... розница                1   \n",
       "                                     69566    шнур резиновый для тележки 200 см белый, 1209004   розница                1   \n",
       "\n",
       "                                                                                                                     quantity  \\\n",
       "customer_id                          order_id product                                            category_of_buyers             \n",
       "c971fb21-d54c-4134-938f-16b62ee86d3b 70140    контейнер для мусора доминик curver 25 л серебр... розница                    2   \n",
       "                                     68480    чехол для гладильной доски colombo persia beige... розница                    1   \n",
       "                                     69639    герань домашняя (пеларгония зональная) цветущая... розница                    1   \n",
       "                                     69561    таз пластмассовый 30,0 л пищевой овальный (иж),... розница                    1   \n",
       "                                     69566    шнур резиновый для тележки 200 см белый, 1209004   розница                    1   \n",
       "\n",
       "                                                                                                                     price  \\\n",
       "customer_id                          order_id product                                            category_of_buyers          \n",
       "c971fb21-d54c-4134-938f-16b62ee86d3b 70140    контейнер для мусора доминик curver 25 л серебр... розница                 2   \n",
       "                                     68480    чехол для гладильной доски colombo persia beige... розница                 1   \n",
       "                                     69639    герань домашняя (пеларгония зональная) цветущая... розница                 1   \n",
       "                                     69561    таз пластмассовый 30,0 л пищевой овальный (иж),... розница                 1   \n",
       "                                     69566    шнур резиновый для тележки 200 см белый, 1209004   розница                 1   \n",
       "\n",
       "                                                                                                                     month  \\\n",
       "customer_id                          order_id product                                            category_of_buyers          \n",
       "c971fb21-d54c-4134-938f-16b62ee86d3b 70140    контейнер для мусора доминик curver 25 л серебр... розница                 2   \n",
       "                                     68480    чехол для гладильной доски colombo persia beige... розница                 1   \n",
       "                                     69639    герань домашняя (пеларгония зональная) цветущая... розница                 1   \n",
       "                                     69561    таз пластмассовый 30,0 л пищевой овальный (иж),... розница                 1   \n",
       "                                     69566    шнур резиновый для тележки 200 см белый, 1209004   розница                 1   \n",
       "\n",
       "                                                                                                                     year  \\\n",
       "customer_id                          order_id product                                            category_of_buyers         \n",
       "c971fb21-d54c-4134-938f-16b62ee86d3b 70140    контейнер для мусора доминик curver 25 л серебр... розница                2   \n",
       "                                     68480    чехол для гладильной доски colombo persia beige... розница                1   \n",
       "                                     69639    герань домашняя (пеларгония зональная) цветущая... розница                1   \n",
       "                                     69561    таз пластмассовый 30,0 л пищевой овальный (иж),... розница                1   \n",
       "                                     69566    шнур резиновый для тележки 200 см белый, 1209004   розница                1   \n",
       "\n",
       "                                                                                                                     product_category  \n",
       "customer_id                          order_id product                                            category_of_buyers                    \n",
       "c971fb21-d54c-4134-938f-16b62ee86d3b 70140    контейнер для мусора доминик curver 25 л серебр... розница                            2  \n",
       "                                     68480    чехол для гладильной доски colombo persia beige... розница                            1  \n",
       "                                     69639    герань домашняя (пеларгония зональная) цветущая... розница                            1  \n",
       "                                     69561    таз пластмассовый 30,0 л пищевой овальный (иж),... розница                            1  \n",
       "                                     69566    шнур резиновый для тележки 200 см белый, 1209004   розница                            1  "
      ]
     },
     "execution_count": 34,
     "metadata": {},
     "output_type": "execute_result"
    }
   ],
   "source": [
    "df.query('customer_id == \"c971fb21-d54c-4134-938f-16b62ee86d3b\"').groupby(['customer_id', 'order_id', 'product', 'category_of_buyers']).count().sort_values('date', ascending=False).head()\n"
   ]
  },
  {
   "cell_type": "code",
   "execution_count": 35,
   "metadata": {},
   "outputs": [
    {
     "data": {
      "text/plain": [
       "1886"
      ]
     },
     "execution_count": 35,
     "metadata": {},
     "output_type": "execute_result"
    }
   ],
   "source": [
    "df[['customer_id', 'order_id', 'product']].duplicated().sum()"
   ]
  },
  {
   "cell_type": "code",
   "execution_count": 36,
   "metadata": {},
   "outputs": [
    {
     "data": {
      "text/plain": [
       "0"
      ]
     },
     "execution_count": 36,
     "metadata": {},
     "output_type": "execute_result"
    }
   ],
   "source": [
    "df = (df.loc[df[['customer_id', 'order_id', 'product']].duplicated(keep='first') != True].reset_index(drop=True))\n",
    "df[['customer_id', 'order_id', 'product']].duplicated(keep='first').sum()"
   ]
  },
  {
   "cell_type": "markdown",
   "metadata": {},
   "source": [
    "C order_id - 14833 странная ситуация, с одной стороны в выгрузке нет статуса заказа, однозначно утверждать, что изменения статуса заказа я не могу. Такая же ситуация с order_id - 14835, позиции и количество в заказе совпадаю. Буду считать, что это скрытые дубликаты. Таких позиций 1 886. "
   ]
  },
  {
   "cell_type": "code",
   "execution_count": 37,
   "metadata": {},
   "outputs": [
    {
     "data": {
      "text/html": [
       "<div>\n",
       "<style scoped>\n",
       "    .dataframe tbody tr th:only-of-type {\n",
       "        vertical-align: middle;\n",
       "    }\n",
       "\n",
       "    .dataframe tbody tr th {\n",
       "        vertical-align: top;\n",
       "    }\n",
       "\n",
       "    .dataframe thead th {\n",
       "        text-align: right;\n",
       "    }\n",
       "</style>\n",
       "<table border=\"1\" class=\"dataframe\">\n",
       "  <thead>\n",
       "    <tr style=\"text-align: right;\">\n",
       "      <th></th>\n",
       "      <th>date</th>\n",
       "      <th>customer_id</th>\n",
       "      <th>order_id</th>\n",
       "      <th>product</th>\n",
       "      <th>quantity</th>\n",
       "      <th>price</th>\n",
       "      <th>month</th>\n",
       "      <th>year</th>\n",
       "      <th>category_of_buyers</th>\n",
       "      <th>product_category</th>\n",
       "    </tr>\n",
       "  </thead>\n",
       "  <tbody>\n",
       "    <tr>\n",
       "      <th>0</th>\n",
       "      <td>2018-10-01</td>\n",
       "      <td>ee47d746-6d2f-4d3c-9622-c31412542920</td>\n",
       "      <td>68477</td>\n",
       "      <td>комнатное растение в горшке алое вера, d12, h30</td>\n",
       "      <td>1</td>\n",
       "      <td>142.0</td>\n",
       "      <td>10</td>\n",
       "      <td>2018</td>\n",
       "      <td>розница</td>\n",
       "      <td>растения</td>\n",
       "    </tr>\n",
       "    <tr>\n",
       "      <th>1</th>\n",
       "      <td>2018-10-01</td>\n",
       "      <td>ee47d746-6d2f-4d3c-9622-c31412542920</td>\n",
       "      <td>68477</td>\n",
       "      <td>комнатное растение в горшке кофе арабика, d12,...</td>\n",
       "      <td>1</td>\n",
       "      <td>194.0</td>\n",
       "      <td>10</td>\n",
       "      <td>2018</td>\n",
       "      <td>розница</td>\n",
       "      <td>растения</td>\n",
       "    </tr>\n",
       "    <tr>\n",
       "      <th>2</th>\n",
       "      <td>2018-10-01</td>\n",
       "      <td>ee47d746-6d2f-4d3c-9622-c31412542920</td>\n",
       "      <td>68477</td>\n",
       "      <td>радермахера d-12 см h-20 см</td>\n",
       "      <td>1</td>\n",
       "      <td>112.0</td>\n",
       "      <td>10</td>\n",
       "      <td>2018</td>\n",
       "      <td>розница</td>\n",
       "      <td>растения</td>\n",
       "    </tr>\n",
       "    <tr>\n",
       "      <th>3</th>\n",
       "      <td>2018-10-01</td>\n",
       "      <td>ee47d746-6d2f-4d3c-9622-c31412542920</td>\n",
       "      <td>68477</td>\n",
       "      <td>хризолидокарпус лутесценс d-9 см</td>\n",
       "      <td>1</td>\n",
       "      <td>179.0</td>\n",
       "      <td>10</td>\n",
       "      <td>2018</td>\n",
       "      <td>розница</td>\n",
       "      <td>растения</td>\n",
       "    </tr>\n",
       "    <tr>\n",
       "      <th>4</th>\n",
       "      <td>2018-10-01</td>\n",
       "      <td>ee47d746-6d2f-4d3c-9622-c31412542920</td>\n",
       "      <td>68477</td>\n",
       "      <td>циперус зумула d-12 см h-25 см</td>\n",
       "      <td>1</td>\n",
       "      <td>112.0</td>\n",
       "      <td>10</td>\n",
       "      <td>2018</td>\n",
       "      <td>розница</td>\n",
       "      <td>растения</td>\n",
       "    </tr>\n",
       "  </tbody>\n",
       "</table>\n",
       "</div>"
      ],
      "text/plain": [
       "        date                           customer_id  order_id  \\\n",
       "0 2018-10-01  ee47d746-6d2f-4d3c-9622-c31412542920     68477   \n",
       "1 2018-10-01  ee47d746-6d2f-4d3c-9622-c31412542920     68477   \n",
       "2 2018-10-01  ee47d746-6d2f-4d3c-9622-c31412542920     68477   \n",
       "3 2018-10-01  ee47d746-6d2f-4d3c-9622-c31412542920     68477   \n",
       "4 2018-10-01  ee47d746-6d2f-4d3c-9622-c31412542920     68477   \n",
       "\n",
       "                                             product  quantity  price  month  \\\n",
       "0    комнатное растение в горшке алое вера, d12, h30         1  142.0     10   \n",
       "1  комнатное растение в горшке кофе арабика, d12,...         1  194.0     10   \n",
       "2                        радермахера d-12 см h-20 см         1  112.0     10   \n",
       "3                   хризолидокарпус лутесценс d-9 см         1  179.0     10   \n",
       "4                     циперус зумула d-12 см h-25 см         1  112.0     10   \n",
       "\n",
       "   year category_of_buyers product_category  \n",
       "0  2018            розница         растения  \n",
       "1  2018            розница         растения  \n",
       "2  2018            розница         растения  \n",
       "3  2018            розница         растения  \n",
       "4  2018            розница         растения  "
      ]
     },
     "execution_count": 37,
     "metadata": {},
     "output_type": "execute_result"
    }
   ],
   "source": [
    "#просмотр результата\n",
    "df.head()"
   ]
  },
  {
   "cell_type": "markdown",
   "metadata": {},
   "source": [
    "Перед этапом анализа данные были скорректированы: \n",
    "- пропущенные значения и дубликаты не найдены;  \n",
    "- изменен тип данных столбца date;\n",
    "- столбец product приведен к нижнему регистру;  \n",
    "- добавлен столбец month и year;  \n",
    "- товары были объединины в категории в столбце product_category ( 'растения', 'товары для дачи', 'товары для дома','товары для кухни', 'товары для ремонта/строительства');  \n",
    "- добавлен столбец с категорией покупателей, где опт - оптовые продажи (от 70 ед.), розница - розничные (менее 70 ед.). Сделано это для того, чтобы не исключать и рассмотреть варианты работы и дохода от разных категорий покупателей;\n",
    "- были обнаружены скрытые дубликаты (в размере 1886), принято решение их удалить.  \n",
    "\n",
    "\n",
    "Было определено:  \n",
    "- данные представлены за период с 2018-10-01 по 2019-10-31;   \n",
    "- Всего по идентификатору покупателей: 2 451;  \n",
    "- Всего по идентификатору заказа: 2 784, заказов более, чем покупателей, значит некоторые покупатели заказывают не в \n",
    "первый раз;  \n",
    "- Всего товаров: 2 341;  \n",
    "  \n"
   ]
  },
  {
   "cell_type": "markdown",
   "metadata": {},
   "source": [
    "## Исследовательский анализ данных"
   ]
  },
  {
   "cell_type": "markdown",
   "metadata": {},
   "source": [
    "### Анализ категорий товаров "
   ]
  },
  {
   "cell_type": "code",
   "execution_count": 38,
   "metadata": {
    "scrolled": true
   },
   "outputs": [
    {
     "name": "stdout",
     "output_type": "stream",
     "text": [
      "Всего за период продано на:  4130611.0 у.е.\n",
      "В том числе за 2018 продано на: 1067774.0 у.е.\n",
      "В том числе за 2019 продано на: 3062837.0 у.е.\n",
      "Сумма розничных продаж составляет: 3335511.0 у.е.\n",
      "Сумма оптовых продаж составляет: 795100.0 у.е.\n"
     ]
    }
   ],
   "source": [
    "#создаем столбец для расчета суммарной стоимости покупок\n",
    "df['total_sales'] = df['quantity']*df['price']\n",
    "print('Всего за период продано на: ', df['total_sales'].sum(), 'у.е.')\n",
    "print('В том числе за 2018 продано на:', df.loc[df['year'] == 2018]['total_sales'].sum(), 'у.е.')\n",
    "print('В том числе за 2019 продано на:', df.loc[df['year'] == 2019]['total_sales'].sum(), 'у.е.')\n",
    "print('Сумма розничных продаж составляет:', df.loc[df['category_of_buyers'] == 'розница']['total_sales'].sum(), 'у.е.')\n",
    "print('Сумма оптовых продаж составляет:', df.loc[df['category_of_buyers'] == 'опт']['total_sales'].sum(), 'у.е.')"
   ]
  },
  {
   "cell_type": "markdown",
   "metadata": {},
   "source": [
    "Всего за анализируемы период продано на сумму 4 130 611.0 у.е., где за 2018 продано на - 1 067 774.0 у.е., а  за 2019 - 3 062 837.0 у.е. Сумма розничных продаж всего составляет: 3 335 511.0 у.е., а сумма оптовых продаж составляет: 795 100.0 у.е.\n"
   ]
  },
  {
   "cell_type": "markdown",
   "metadata": {},
   "source": [
    "#### Анализ розничных продаж"
   ]
  },
  {
   "cell_type": "code",
   "execution_count": 39,
   "metadata": {
    "scrolled": false
   },
   "outputs": [
    {
     "data": {
      "text/plain": [
       "product_category\n",
       "товары для дома                     1147846.0\n",
       "растения                            1072642.0\n",
       "товары для дачи                      831341.0\n",
       "товары для кухни                     160115.0\n",
       "товары для ремонта/строительства     123567.0\n",
       "Name: total_sales, dtype: float64"
      ]
     },
     "execution_count": 39,
     "metadata": {},
     "output_type": "execute_result"
    }
   ],
   "source": [
    "#исключаем опт\n",
    "retail_only = df.query('category_of_buyers != \"опт\"')\n",
    "retail_only.groupby('product_category')['total_sales'].sum().sort_values(ascending = False)"
   ]
  },
  {
   "cell_type": "code",
   "execution_count": 40,
   "metadata": {},
   "outputs": [],
   "source": [
    "retail_only['avg_price'] = retail_only['total_sales'] / retail_only['quantity']"
   ]
  },
  {
   "cell_type": "code",
   "execution_count": 41,
   "metadata": {
    "scrolled": false
   },
   "outputs": [
    {
     "data": {
      "image/png": "[encoded data removed]",
      "text/plain": [
       "<Figure size 720x360 with 1 Axes>"
      ]
     },
     "metadata": {
      "needs_background": "light"
     },
     "output_type": "display_data"
    }
   ],
   "source": [
    "retail_only.groupby('product_category')['total_sales'].sum().sort_values(ascending = False).plot(kind='bar',figsize=(10, 5), grid=True, ec='blue')\n",
    "plt.ylabel('Продажи, (млн. у.е.)')\n",
    "plt.xlabel('Категории товара')\n",
    "plt.show()"
   ]
  },
  {
   "cell_type": "code",
   "execution_count": 42,
   "metadata": {
    "scrolled": false
   },
   "outputs": [
    {
     "data": {
      "image/png": "[encoded data removed]",
      "text/plain": [
       "<Figure size 1440x720 with 1 Axes>"
      ]
     },
     "metadata": {
      "needs_background": "light"
     },
     "output_type": "display_data"
    }
   ],
   "source": [
    "plt.figure(figsize=(20,10)) \n",
    "box_genre = sns.boxplot(x=\"product_category\", y=\"total_sales\", data= retail_only, \n",
    "                      palette=\"Set1\")\n",
    "box_genre.set(ylim=(0,50000))\n",
    "plt.ylabel('Продажи, у.е.')\n",
    "plt.xlabel('Категории')\n",
    "plt.title('Boxplot по категориям товаров')\n",
    "plt.show()"
   ]
  },
  {
   "cell_type": "code",
   "execution_count": 43,
   "metadata": {
    "scrolled": false
   },
   "outputs": [
    {
     "data": {
      "image/png": "[encoded data removed]",
      "text/plain": [
       "<Figure size 1440x720 with 1 Axes>"
      ]
     },
     "metadata": {
      "needs_background": "light"
     },
     "output_type": "display_data"
    }
   ],
   "source": [
    "plt.figure(figsize=(20,10))   \n",
    "box_genre = sns.boxplot(x=\"product_category\", y=\"total_sales\", data= retail_only, \n",
    "                      palette=\"Set1\")\n",
    "box_genre.set(ylim=(0,10000))\n",
    "plt.ylabel('Продажи, у.е.')\n",
    "plt.xlabel('Категории')\n",
    "plt.title('Boxplot по категориям товаров')\n",
    "plt.show()"
   ]
  },
  {
   "cell_type": "code",
   "execution_count": 44,
   "metadata": {
    "scrolled": true
   },
   "outputs": [
    {
     "data": {
      "image/png": "[encoded data removed]",
      "text/plain": [
       "<Figure size 1080x360 with 1 Axes>"
      ]
     },
     "metadata": {
      "needs_background": "light"
     },
     "output_type": "display_data"
    }
   ],
   "source": [
    "retail_only.query('product_category == \"растения\"').groupby('date')['total_sales'].sum().sort_values(ascending = False).plot(grid=True, figsize=(15, 5))\n",
    "plt.title('Продажи по категории товаров \"растения\"')\n",
    "plt.ylabel('Продажи, у.е.')\n",
    "plt.xlabel('Период')\n",
    "plt.show()"
   ]
  },
  {
   "cell_type": "code",
   "execution_count": 45,
   "metadata": {
    "scrolled": false
   },
   "outputs": [
    {
     "data": {
      "image/png": "[encoded data removed]",
      "text/plain": [
       "<Figure size 1080x360 with 1 Axes>"
      ]
     },
     "metadata": {
      "needs_background": "light"
     },
     "output_type": "display_data"
    }
   ],
   "source": [
    "retail_only.query('product_category == \"товары для дома\"').groupby('date')['total_sales'].sum().sort_values(ascending = False).plot(grid=True, figsize=(15, 5))\n",
    "plt.title('Продажи по категории товаров \"товары для дома\"')\n",
    "plt.ylabel('Продажи, у.е.')\n",
    "plt.xlabel('Периоды')\n",
    "plt.show()"
   ]
  },
  {
   "cell_type": "code",
   "execution_count": 46,
   "metadata": {
    "scrolled": true
   },
   "outputs": [
    {
     "data": {
      "image/png": "[encoded data removed]",
      "text/plain": [
       "<Figure size 1080x360 with 1 Axes>"
      ]
     },
     "metadata": {
      "needs_background": "light"
     },
     "output_type": "display_data"
    }
   ],
   "source": [
    "retail_only.query('product_category == \"товары для дачи\"').groupby('date')['total_sales'].sum().sort_values(ascending = False).plot(grid=True, figsize=(15, 5))\n",
    "plt.title('Продажи по категории товаров \"товары для дачи\"')\n",
    "plt.ylabel('Продажи, у.е.')\n",
    "plt.xlabel('Период')\n",
    "plt.show()"
   ]
  },
  {
   "cell_type": "code",
   "execution_count": 47,
   "metadata": {
    "scrolled": false
   },
   "outputs": [
    {
     "data": {
      "image/png": "[encoded data removed]",
      "text/plain": [
       "<Figure size 1080x360 with 1 Axes>"
      ]
     },
     "metadata": {
      "needs_background": "light"
     },
     "output_type": "display_data"
    }
   ],
   "source": [
    "retail_only.query('product_category == \"товары для кухни\"').groupby('date')['total_sales'].sum().sort_values(ascending = False).plot(grid=True, figsize=(15, 5))\n",
    "plt.title('Продажи по категории товаров \"товары для кухни\"')\n",
    "plt.ylabel('Продажи, у.е.')\n",
    "plt.xlabel('Период')\n",
    "plt.show()"
   ]
  },
  {
   "cell_type": "code",
   "execution_count": 48,
   "metadata": {
    "scrolled": true
   },
   "outputs": [
    {
     "data": {
      "image/png": "[encoded data removed]",
      "text/plain": [
       "<Figure size 1080x360 with 1 Axes>"
      ]
     },
     "metadata": {
      "needs_background": "light"
     },
     "output_type": "display_data"
    }
   ],
   "source": [
    "retail_only.query('product_category == \"товары для ремонта/строительства\"').groupby('date')['total_sales'].sum().sort_values(ascending = False).plot(grid=True, figsize=(15, 5))\n",
    "plt.title('Продажи по категории товаров \"товары для ремонта/строительства\"')\n",
    "plt.ylabel('Продажи, у.е.')\n",
    "plt.xlabel('Период')\n",
    "plt.show()"
   ]
  },
  {
   "cell_type": "markdown",
   "metadata": {},
   "source": [
    "По розничным продажам по сумме продаж лидирует категория товары для дома  ( 1 147 846.0 у.е.), далее растения (1 072 642.0 у.е.), замыкает по сумме  товары для ремонта/строительства (123 567.0). В то же время наблюдаются сильные выбросы по катерии растения, с явным меньшим средним. Далее необходимо просмотреть выбросы и средний чек. "
   ]
  },
  {
   "cell_type": "code",
   "execution_count": 49,
   "metadata": {
    "scrolled": false
   },
   "outputs": [
    {
     "data": {
      "text/html": [
       "<div>\n",
       "<style scoped>\n",
       "    .dataframe tbody tr th:only-of-type {\n",
       "        vertical-align: middle;\n",
       "    }\n",
       "\n",
       "    .dataframe tbody tr th {\n",
       "        vertical-align: top;\n",
       "    }\n",
       "\n",
       "    .dataframe thead th {\n",
       "        text-align: right;\n",
       "    }\n",
       "</style>\n",
       "<table border=\"1\" class=\"dataframe\">\n",
       "  <thead>\n",
       "    <tr style=\"text-align: right;\">\n",
       "      <th></th>\n",
       "      <th>Продано всего</th>\n",
       "      <th>Количество</th>\n",
       "      <th>Средний чек</th>\n",
       "    </tr>\n",
       "    <tr>\n",
       "      <th>product_category</th>\n",
       "      <th></th>\n",
       "      <th></th>\n",
       "      <th></th>\n",
       "    </tr>\n",
       "  </thead>\n",
       "  <tbody>\n",
       "    <tr>\n",
       "      <th>товары для дачи</th>\n",
       "      <td>831341.0</td>\n",
       "      <td>413</td>\n",
       "      <td>2012.932203</td>\n",
       "    </tr>\n",
       "    <tr>\n",
       "      <th>товары для ремонта/строительства</th>\n",
       "      <td>123567.0</td>\n",
       "      <td>80</td>\n",
       "      <td>1544.587500</td>\n",
       "    </tr>\n",
       "    <tr>\n",
       "      <th>товары для дома</th>\n",
       "      <td>1147846.0</td>\n",
       "      <td>1068</td>\n",
       "      <td>1074.762172</td>\n",
       "    </tr>\n",
       "    <tr>\n",
       "      <th>товары для кухни</th>\n",
       "      <td>160115.0</td>\n",
       "      <td>243</td>\n",
       "      <td>658.909465</td>\n",
       "    </tr>\n",
       "    <tr>\n",
       "      <th>растения</th>\n",
       "      <td>1072642.0</td>\n",
       "      <td>3031</td>\n",
       "      <td>353.890465</td>\n",
       "    </tr>\n",
       "  </tbody>\n",
       "</table>\n",
       "</div>"
      ],
      "text/plain": [
       "                                  Продано всего  Количество  Средний чек\n",
       "product_category                                                        \n",
       "товары для дачи                        831341.0         413  2012.932203\n",
       "товары для ремонта/строительства       123567.0          80  1544.587500\n",
       "товары для дома                       1147846.0        1068  1074.762172\n",
       "товары для кухни                       160115.0         243   658.909465\n",
       "растения                              1072642.0        3031   353.890465"
      ]
     },
     "execution_count": 49,
     "metadata": {},
     "output_type": "execute_result"
    }
   ],
   "source": [
    "pivot_avg_price = retail_only.pivot_table(index=['product_category'], values = 'total_sales', aggfunc = ['sum', 'count', 'mean'])\n",
    "pivot_avg_price.columns = ['Продано всего', 'Количество', 'Средний чек']\n",
    "pivot_avg_price = pivot_avg_price.sort_values(by = ['Средний чек'], ascending = False)  \n",
    "pivot_avg_price"
   ]
  },
  {
   "cell_type": "markdown",
   "metadata": {},
   "source": [
    "Для определения границы, отсекающей аномальные заказы по стоимости, посчитаем 90-й, 95-й и 99-й перцентили."
   ]
  },
  {
   "cell_type": "code",
   "execution_count": 50,
   "metadata": {},
   "outputs": [],
   "source": [
    "# Функция определения 90-го, 95-го и 99-го перцентилей\n",
    "def percentile(df, column):\n",
    "    perc90 = np.percentile(df[column], 90)\n",
    "    perc95 = np.percentile(df[column], 95)\n",
    "    perc99 = np.percentile(df[column], 99)\n",
    "    print('90-й, 95-й и 99-й перцентили равны: {:.1f}, {:.1f}, {:.1f}.'.format(perc90, perc95, perc99))"
   ]
  },
  {
   "cell_type": "code",
   "execution_count": 51,
   "metadata": {
    "scrolled": true
   },
   "outputs": [
    {
     "name": "stdout",
     "output_type": "stream",
     "text": [
      "Показатели стоимости:\n",
      "90-й, 95-й и 99-й перцентили равны: 1649.0, 2774.0, 6051.9.\n"
     ]
    }
   ],
   "source": [
    "print('Показатели стоимости:')\n",
    "percentile(retail_only, 'total_sales')"
   ]
  },
  {
   "cell_type": "markdown",
   "metadata": {},
   "source": [
    "Не более 1% заказов дороже 6 051.9 ден.ед.; не более 5% - дороже 2 774.0 ден.ед. И 10% заказов было совершено на сумму свыше 1 649.0 ден.ед.\n",
    "Таким образом, свыше 7 000 ден.ед. - это нижняя граница аномальной стоимости заказов"
   ]
  },
  {
   "cell_type": "markdown",
   "metadata": {},
   "source": [
    "#### Анализ оптовых продаж"
   ]
  },
  {
   "cell_type": "code",
   "execution_count": 52,
   "metadata": {},
   "outputs": [
    {
     "data": {
      "text/plain": [
       "product_category\n",
       "товары для дома                     772750.0\n",
       "товары для ремонта/строительства     13050.0\n",
       "растения                              5700.0\n",
       "товары для кухни                      3600.0\n",
       "Name: total_sales, dtype: float64"
      ]
     },
     "execution_count": 52,
     "metadata": {},
     "output_type": "execute_result"
    }
   ],
   "source": [
    "#исключаем розницу\n",
    "wholesale_only = df.query('category_of_buyers != \"розница\"')\n",
    "wholesale_only.groupby('product_category')['total_sales'].sum().sort_values(ascending = False)"
   ]
  },
  {
   "cell_type": "code",
   "execution_count": 53,
   "metadata": {
    "scrolled": false
   },
   "outputs": [
    {
     "data": {
      "image/png": "[encoded data removed]",
      "text/plain": [
       "<Figure size 720x360 with 1 Axes>"
      ]
     },
     "metadata": {
      "needs_background": "light"
     },
     "output_type": "display_data"
    }
   ],
   "source": [
    "wholesale_only.groupby('product_category')['total_sales'].sum().sort_values(ascending = False).plot(kind='bar',figsize=(10, 5), grid=True, ec='blue')\n",
    "plt.ylabel('Продажи, (у.е.)')\n",
    "plt.xlabel('Категории товара')\n",
    "plt.show()"
   ]
  },
  {
   "cell_type": "code",
   "execution_count": 54,
   "metadata": {
    "scrolled": false
   },
   "outputs": [
    {
     "data": {
      "image/png": "[encoded data removed]",
      "text/plain": [
       "<Figure size 1080x360 with 1 Axes>"
      ]
     },
     "metadata": {
      "needs_background": "light"
     },
     "output_type": "display_data"
    }
   ],
   "source": [
    "wholesale_only.query('product_category == \"товары для дома\"').groupby('date')['total_sales'].sum().sort_values(ascending = False).plot(grid=True, figsize=(15, 5))\n",
    "plt.title('Продажи по категории товаров \"товары для дома\"')\n",
    "plt.ylabel('Продажи, у.е.')\n",
    "plt.xlabel('Период')\n",
    "plt.show()"
   ]
  },
  {
   "cell_type": "code",
   "execution_count": 55,
   "metadata": {
    "scrolled": true
   },
   "outputs": [
    {
     "data": {
      "image/png": "[encoded data removed]",
      "text/plain": [
       "<Figure size 1080x360 with 1 Axes>"
      ]
     },
     "metadata": {
      "needs_background": "light"
     },
     "output_type": "display_data"
    }
   ],
   "source": [
    "wholesale_only.query('product_category == \"товары для ремонта/строительства\"').groupby('date')['total_sales'].sum().sort_values(ascending = False).plot(grid=True, figsize=(15, 5))\n",
    "plt.title('Продажи по категории товаров \"товары для ремонта/строительства\"')\n",
    "plt.ylabel('Продажи, у.е.')\n",
    "plt.xlabel('Период')\n",
    "plt.show()"
   ]
  },
  {
   "cell_type": "code",
   "execution_count": 56,
   "metadata": {
    "scrolled": true
   },
   "outputs": [
    {
     "data": {
      "text/plain": [
       "order_id\n",
       "71743    675000.0\n",
       "71668     49432.0\n",
       "71478     15300.0\n",
       "68815      8670.0\n",
       "68611      8550.0\n",
       "68831      8260.0\n",
       "69289      5800.0\n",
       "73110      4400.0\n",
       "68486      3648.0\n",
       "72698      3600.0\n",
       "69893      3400.0\n",
       "70841      3000.0\n",
       "69206      2600.0\n",
       "72885      1900.0\n",
       "71539      1540.0\n",
       "Name: total_sales, dtype: float64"
      ]
     },
     "execution_count": 56,
     "metadata": {},
     "output_type": "execute_result"
    }
   ],
   "source": [
    "wholesale_only.groupby('order_id')['total_sales'].sum().sort_values(ascending = False).head(20)"
   ]
  },
  {
   "cell_type": "code",
   "execution_count": 57,
   "metadata": {
    "scrolled": true
   },
   "outputs": [
    {
     "data": {
      "text/html": [
       "<div>\n",
       "<style scoped>\n",
       "    .dataframe tbody tr th:only-of-type {\n",
       "        vertical-align: middle;\n",
       "    }\n",
       "\n",
       "    .dataframe tbody tr th {\n",
       "        vertical-align: top;\n",
       "    }\n",
       "\n",
       "    .dataframe thead th {\n",
       "        text-align: right;\n",
       "    }\n",
       "</style>\n",
       "<table border=\"1\" class=\"dataframe\">\n",
       "  <thead>\n",
       "    <tr style=\"text-align: right;\">\n",
       "      <th></th>\n",
       "      <th>date</th>\n",
       "      <th>customer_id</th>\n",
       "      <th>order_id</th>\n",
       "      <th>product</th>\n",
       "      <th>quantity</th>\n",
       "      <th>price</th>\n",
       "      <th>month</th>\n",
       "      <th>year</th>\n",
       "      <th>category_of_buyers</th>\n",
       "      <th>product_category</th>\n",
       "      <th>total_sales</th>\n",
       "    </tr>\n",
       "  </thead>\n",
       "  <tbody>\n",
       "    <tr>\n",
       "      <th>3819</th>\n",
       "      <td>2019-06-18 15:00:00</td>\n",
       "      <td>312e9a3e-5fca-43ff-a6a1-892d2b2d5ba6</td>\n",
       "      <td>71743</td>\n",
       "      <td>вантуз с деревянной ручкой d14 см красный, bur...</td>\n",
       "      <td>1000</td>\n",
       "      <td>675.0</td>\n",
       "      <td>6</td>\n",
       "      <td>2019</td>\n",
       "      <td>опт</td>\n",
       "      <td>товары для дома</td>\n",
       "      <td>675000.0</td>\n",
       "    </tr>\n",
       "  </tbody>\n",
       "</table>\n",
       "</div>"
      ],
      "text/plain": [
       "                    date                           customer_id  order_id  \\\n",
       "3819 2019-06-18 15:00:00  312e9a3e-5fca-43ff-a6a1-892d2b2d5ba6     71743   \n",
       "\n",
       "                                                product  quantity  price  \\\n",
       "3819  вантуз с деревянной ручкой d14 см красный, bur...      1000  675.0   \n",
       "\n",
       "      month  year category_of_buyers product_category  total_sales  \n",
       "3819      6  2019                опт  товары для дома     675000.0  "
      ]
     },
     "execution_count": 57,
     "metadata": {},
     "output_type": "execute_result"
    }
   ],
   "source": [
    "wholesale_only.query('order_id == 71743')"
   ]
  },
  {
   "cell_type": "code",
   "execution_count": 58,
   "metadata": {},
   "outputs": [
    {
     "name": "stdout",
     "output_type": "stream",
     "text": [
      "Показатели стоимости:\n",
      "90-й, 95-й и 99-й перцентили равны: 32366.0, 205824.0, 581164.8.\n"
     ]
    }
   ],
   "source": [
    "print('Показатели стоимости:')\n",
    "percentile(wholesale_only, 'total_sales')"
   ]
  },
  {
   "cell_type": "markdown",
   "metadata": {},
   "source": [
    "Не более 1% заказов дороже 581 164.8 ден.ед.; не более 5% - дороже 205 824.0 ден.ед. И 10% заказов было совершено на сумму свыше 32 366.0 ден.ед. "
   ]
  },
  {
   "cell_type": "code",
   "execution_count": 59,
   "metadata": {},
   "outputs": [
    {
     "data": {
      "text/html": [
       "<div>\n",
       "<style scoped>\n",
       "    .dataframe tbody tr th:only-of-type {\n",
       "        vertical-align: middle;\n",
       "    }\n",
       "\n",
       "    .dataframe tbody tr th {\n",
       "        vertical-align: top;\n",
       "    }\n",
       "\n",
       "    .dataframe thead th {\n",
       "        text-align: right;\n",
       "    }\n",
       "</style>\n",
       "<table border=\"1\" class=\"dataframe\">\n",
       "  <thead>\n",
       "    <tr style=\"text-align: right;\">\n",
       "      <th></th>\n",
       "      <th>Продано всего</th>\n",
       "      <th>Количество</th>\n",
       "      <th>Средний чек</th>\n",
       "    </tr>\n",
       "    <tr>\n",
       "      <th>product_category</th>\n",
       "      <th></th>\n",
       "      <th></th>\n",
       "      <th></th>\n",
       "    </tr>\n",
       "  </thead>\n",
       "  <tbody>\n",
       "    <tr>\n",
       "      <th>товары для дома</th>\n",
       "      <td>97750.0</td>\n",
       "      <td>10</td>\n",
       "      <td>9775.0</td>\n",
       "    </tr>\n",
       "    <tr>\n",
       "      <th>растения</th>\n",
       "      <td>5700.0</td>\n",
       "      <td>1</td>\n",
       "      <td>5700.0</td>\n",
       "    </tr>\n",
       "    <tr>\n",
       "      <th>товары для ремонта/строительства</th>\n",
       "      <td>13050.0</td>\n",
       "      <td>3</td>\n",
       "      <td>4350.0</td>\n",
       "    </tr>\n",
       "    <tr>\n",
       "      <th>товары для кухни</th>\n",
       "      <td>3600.0</td>\n",
       "      <td>1</td>\n",
       "      <td>3600.0</td>\n",
       "    </tr>\n",
       "  </tbody>\n",
       "</table>\n",
       "</div>"
      ],
      "text/plain": [
       "                                  Продано всего  Количество  Средний чек\n",
       "product_category                                                        \n",
       "товары для дома                         97750.0          10       9775.0\n",
       "растения                                 5700.0           1       5700.0\n",
       "товары для ремонта/строительства        13050.0           3       4350.0\n",
       "товары для кухни                         3600.0           1       3600.0"
      ]
     },
     "execution_count": 59,
     "metadata": {},
     "output_type": "execute_result"
    }
   ],
   "source": [
    "#исключим аномалию с вантузом\n",
    "pivot_avg_price_wholesale = wholesale_only.query('total_sales < 675000').pivot_table(index=['product_category'], values = 'total_sales', aggfunc = ['sum', 'count', 'mean'])\n",
    "pivot_avg_price_wholesale.columns = ['Продано всего', 'Количество', 'Средний чек']\n",
    "pivot_avg_price_wholesale = pivot_avg_price_wholesale.sort_values(by = ['Средний чек'], ascending = False)  \n",
    "pivot_avg_price_wholesale"
   ]
  },
  {
   "cell_type": "markdown",
   "metadata": {},
   "source": [
    "Проанализировав товары по категориям, определила, что  по розничным продажам (по сумме продаж) лидирует категория - товары для дома ( 1 147 846.0 у.е.), далее растения (1 072 642.0 у.е.), замыкает - товары для ремонта/строительства (123 567.0).\n",
    "При этом средний чек выше всего по категории  товары для дачи и составляет 2 012.93 у.е., далее идет категория - товары для ремонта/строительства\t 1 544.58, замыкает  товары по категории - растения\t353.89.  \n",
    "\n",
    "По оптовым продажам наблюдается исключительная аномалия, влияющая на срезний чек и продажи по категориям. Искключив эту аномалию, все равно наблюдаем, что лидирует категория товары для дома с средним чеком - 9 775.0 у.е. Делать выводы по категория  растения и товары для кухни невозможно т.к. наблюдений недостаточно. Но есть возможность улучшить положение и разработать план работы по увеличению объема продаж по напарвлению \"опт\"."
   ]
  },
  {
   "cell_type": "markdown",
   "metadata": {},
   "source": [
    "## Статистический анализ данных"
   ]
  },
  {
   "cell_type": "markdown",
   "metadata": {},
   "source": [
    "Сформулируем гипотезы:\n",
    "\n",
    "Н0 - Статистически значимых различий в среднем чеке заказа между группами нет.  \n",
    "Н1 - Статистически значимых различий в в среднем чеке заказа между группами есть.\n",
    "\n",
    "Пороговое значение alpha примем за 5% (критическое значение для теста, т.е. максимально допускается, что не более чем 5%-ая вероятность ошибки)"
   ]
  },
  {
   "cell_type": "code",
   "execution_count": 60,
   "metadata": {},
   "outputs": [
    {
     "data": {
      "text/html": [
       "<div>\n",
       "<style scoped>\n",
       "    .dataframe tbody tr th:only-of-type {\n",
       "        vertical-align: middle;\n",
       "    }\n",
       "\n",
       "    .dataframe tbody tr th {\n",
       "        vertical-align: top;\n",
       "    }\n",
       "\n",
       "    .dataframe thead th {\n",
       "        text-align: right;\n",
       "    }\n",
       "</style>\n",
       "<table border=\"1\" class=\"dataframe\">\n",
       "  <thead>\n",
       "    <tr style=\"text-align: right;\">\n",
       "      <th></th>\n",
       "      <th>Продано всего</th>\n",
       "      <th>Количество</th>\n",
       "      <th>Средний чек</th>\n",
       "    </tr>\n",
       "    <tr>\n",
       "      <th>product_category</th>\n",
       "      <th></th>\n",
       "      <th></th>\n",
       "      <th></th>\n",
       "    </tr>\n",
       "  </thead>\n",
       "  <tbody>\n",
       "    <tr>\n",
       "      <th>товары для дачи</th>\n",
       "      <td>831341.0</td>\n",
       "      <td>413</td>\n",
       "      <td>2012.932203</td>\n",
       "    </tr>\n",
       "    <tr>\n",
       "      <th>товары для ремонта/строительства</th>\n",
       "      <td>123567.0</td>\n",
       "      <td>80</td>\n",
       "      <td>1544.587500</td>\n",
       "    </tr>\n",
       "    <tr>\n",
       "      <th>товары для дома</th>\n",
       "      <td>1147846.0</td>\n",
       "      <td>1068</td>\n",
       "      <td>1074.762172</td>\n",
       "    </tr>\n",
       "    <tr>\n",
       "      <th>товары для кухни</th>\n",
       "      <td>160115.0</td>\n",
       "      <td>243</td>\n",
       "      <td>658.909465</td>\n",
       "    </tr>\n",
       "    <tr>\n",
       "      <th>растения</th>\n",
       "      <td>1072642.0</td>\n",
       "      <td>3031</td>\n",
       "      <td>353.890465</td>\n",
       "    </tr>\n",
       "  </tbody>\n",
       "</table>\n",
       "</div>"
      ],
      "text/plain": [
       "                                  Продано всего  Количество  Средний чек\n",
       "product_category                                                        \n",
       "товары для дачи                        831341.0         413  2012.932203\n",
       "товары для ремонта/строительства       123567.0          80  1544.587500\n",
       "товары для дома                       1147846.0        1068  1074.762172\n",
       "товары для кухни                       160115.0         243   658.909465\n",
       "растения                              1072642.0        3031   353.890465"
      ]
     },
     "execution_count": 60,
     "metadata": {},
     "output_type": "execute_result"
    }
   ],
   "source": [
    "#ручное сравнение среднего значение чека\n",
    "pivot_avg_price"
   ]
  },
  {
   "cell_type": "code",
   "execution_count": 61,
   "metadata": {},
   "outputs": [],
   "source": [
    "# функция для определения p-value\n",
    "def test (df, column):\n",
    "    alpha = .05 # критический уровень статистической значимости\n",
    "# выделение групп\n",
    "    plants = retail_only.query('product_category == \"растения\"')\n",
    "    house = retail_only.query('product_category == \"товары для дома\"')\n",
    "    kitchen = retail_only.query('product_category == \"товары для кухни\"')\n",
    "    repair = retail_only.query('product_category == \"товары для ремонта/строительства\"')\n",
    "    dacha = retail_only.query('product_category == \"товары для дачи\"')\n",
    "#применим функцию st.ttest_ind\n",
    "    plants_house_results = st.ttest_ind(plants['total_sales'],house['total_sales'])\n",
    "    plants_kitchen_results = st.ttest_ind(plants['total_sales'],kitchen['total_sales'])\n",
    "    plants_repair_results = st.ttest_ind(plants['total_sales'],repair['total_sales'])\n",
    "    plants_dacha_results = st.ttest_ind(plants['total_sales'],dacha['total_sales'])\n",
    "    house_repair_results = st.ttest_ind(house['total_sales'],repair['total_sales'])\n",
    "    house_kitchen_results = st.ttest_ind(house['total_sales'],kitchen['total_sales'])\n",
    "    house_dachan_results = st.ttest_ind(house['total_sales'],dacha['total_sales'])\n",
    "    dachan_repair_results = st.ttest_ind(dacha['total_sales'],repair['total_sales'])\n",
    "    dachan_kitchen_results = st.ttest_ind(dacha['total_sales'],kitchen['total_sales'])\n",
    "    \n",
    "   \n",
    "    \n",
    "    test = pd.DataFrame({'Сравниваемые группы': ['Растения и Товары для дома', \n",
    "                                           'Растения и Товары для кухни', \n",
    "                                           'Растения и Товары для ремонта/строительства',\n",
    "                                           'Растения и Товары для дачи',\n",
    "                                           'Товары для дома и Товары для ремонта/строительства',\n",
    "                                           'Товары для дома и Товары для кухни', \n",
    "                                           'Товары для дома и товары для дачи',\n",
    "                                           'Товары для дачи и Товары для ремонта/строительства',\n",
    "                                           'Товары для дачи и Товары для кухни'],\n",
    "                                'p-value': [plants_house_results.pvalue,\n",
    "                                           plants_kitchen_results.pvalue,\n",
    "                                           plants_repair_results.pvalue,\n",
    "                                           plants_dacha_results.pvalue,\n",
    "                                           house_repair_results.pvalue,\n",
    "                                           house_kitchen_results.pvalue,\n",
    "                                           house_dachan_results.pvalue,\n",
    "                                           dachan_repair_results.pvalue,\n",
    "                                           dachan_kitchen_results.pvalue]})\n",
    "    \n",
    "    test['p-value'] = round(test['p-value'], 5)\n",
    "    test = test.set_index('Сравниваемые группы')\n",
    "    return test\n"
   ]
  },
  {
   "cell_type": "code",
   "execution_count": 62,
   "metadata": {
    "scrolled": false
   },
   "outputs": [
    {
     "data": {
      "text/html": [
       "<div>\n",
       "<style scoped>\n",
       "    .dataframe tbody tr th:only-of-type {\n",
       "        vertical-align: middle;\n",
       "    }\n",
       "\n",
       "    .dataframe tbody tr th {\n",
       "        vertical-align: top;\n",
       "    }\n",
       "\n",
       "    .dataframe thead th {\n",
       "        text-align: right;\n",
       "    }\n",
       "</style>\n",
       "<table border=\"1\" class=\"dataframe\">\n",
       "  <thead>\n",
       "    <tr style=\"text-align: right;\">\n",
       "      <th></th>\n",
       "      <th>p-value</th>\n",
       "    </tr>\n",
       "    <tr>\n",
       "      <th>Сравниваемые группы</th>\n",
       "      <th></th>\n",
       "    </tr>\n",
       "  </thead>\n",
       "  <tbody>\n",
       "    <tr>\n",
       "      <th>Растения и Товары для дома</th>\n",
       "      <td>0.00000</td>\n",
       "    </tr>\n",
       "    <tr>\n",
       "      <th>Растения и Товары для кухни</th>\n",
       "      <td>0.00003</td>\n",
       "    </tr>\n",
       "    <tr>\n",
       "      <th>Растения и Товары для ремонта/строительства</th>\n",
       "      <td>0.00000</td>\n",
       "    </tr>\n",
       "    <tr>\n",
       "      <th>Растения и Товары для дачи</th>\n",
       "      <td>0.00000</td>\n",
       "    </tr>\n",
       "    <tr>\n",
       "      <th>Товары для дома и Товары для ремонта/строительства</th>\n",
       "      <td>0.01272</td>\n",
       "    </tr>\n",
       "    <tr>\n",
       "      <th>Товары для дома и Товары для кухни</th>\n",
       "      <td>0.00011</td>\n",
       "    </tr>\n",
       "    <tr>\n",
       "      <th>Товары для дома и товары для дачи</th>\n",
       "      <td>0.00000</td>\n",
       "    </tr>\n",
       "    <tr>\n",
       "      <th>Товары для дачи и Товары для ремонта/строительства</th>\n",
       "      <td>0.13482</td>\n",
       "    </tr>\n",
       "    <tr>\n",
       "      <th>Товары для дачи и Товары для кухни</th>\n",
       "      <td>0.00000</td>\n",
       "    </tr>\n",
       "  </tbody>\n",
       "</table>\n",
       "</div>"
      ],
      "text/plain": [
       "                                                    p-value\n",
       "Сравниваемые группы                                        \n",
       "Растения и Товары для дома                          0.00000\n",
       "Растения и Товары для кухни                         0.00003\n",
       "Растения и Товары для ремонта/строительства         0.00000\n",
       "Растения и Товары для дачи                          0.00000\n",
       "Товары для дома и Товары для ремонта/строительства  0.01272\n",
       "Товары для дома и Товары для кухни                  0.00011\n",
       "Товары для дома и товары для дачи                   0.00000\n",
       "Товары для дачи и Товары для ремонта/строительства  0.13482\n",
       "Товары для дачи и Товары для кухни                  0.00000"
      ]
     },
     "execution_count": 62,
     "metadata": {},
     "output_type": "execute_result"
    }
   ],
   "source": [
    "test (retail_only, 'total_sales')"
   ]
  },
  {
   "cell_type": "markdown",
   "metadata": {},
   "source": [
    "Значение p-value для среднего чека при разных вариациях сравнений  товарных групп в большинстве близко к нулю, кроме значения p-value для Товары для дачи и Товары для ремонта/строительства (p-value равен 0.13482б, что выше 0,05). Это значит, мы можем отвергнуть нулевую гипотезу и считать, что в среднем чеке есть различия для разных товарных групп, кроме Товары для дачи и Товары для ремонта/строительства. \n",
    "\n"
   ]
  },
  {
   "cell_type": "markdown",
   "metadata": {},
   "source": [
    "Сформулируем гипотезы:\n",
    "\n",
    "Н0 - Статистически значимых различий в среднем чеке по группам товаров в октябре 2018 и 2019 нет.  \n",
    "Н1 - Статистически значимых различий в среднем чеке по группам товаров в октябре 2018 и 2019 есть.\n",
    "\n",
    "Пороговое значение alpha примем за 5% (критическое значение для теста, т.е. максимально допускается, что не более чем 5%-ая вероятность ошибки)"
   ]
  },
  {
   "cell_type": "code",
   "execution_count": 63,
   "metadata": {},
   "outputs": [],
   "source": [
    "october_by_year = retail_only.query('month == 10')"
   ]
  },
  {
   "cell_type": "code",
   "execution_count": 64,
   "metadata": {},
   "outputs": [],
   "source": [
    "october_2018_plants = october_by_year.query('product_category == \"растения\" and year == 2018')\n",
    "october_2018_house = october_by_year.query('product_category == \"товары для дома\" and year == 2018')\n",
    "october_2018_kitchen = october_by_year.query('product_category == \"товары для кухни\" and year == 2018')\n",
    "october_2018_repair = october_by_year.query('product_category == \"товары для ремонта/строительства\" and year == 2018')\n",
    "october_2018_dacha = october_by_year.query('product_category == \"товары для дачи\" and year == 2018')\n",
    "october_2019_plants = october_by_year.query('product_category == \"растения\" and year == 2019')\n",
    "october_2019_house = october_by_year.query('product_category == \"товары для дома\" and year == 2019')\n",
    "october_2019_kitchen = october_by_year.query('product_category == \"товары для кухни\" and year == 2019')\n",
    "october_2019_repair = october_by_year.query('product_category == \"товары для ремонта/строительства\" and year == 2019')\n",
    "october_2019_dacha = october_by_year.query('product_category == \"товары для дачи\" and year == 2019') "
   ]
  },
  {
   "cell_type": "code",
   "execution_count": 65,
   "metadata": {},
   "outputs": [
    {
     "name": "stdout",
     "output_type": "stream",
     "text": [
      "Сравниваемые группы товаров Растения в октябре 2018 и октябре 2019\n",
      "p-значение: 0.0010375432159034372\n",
      "Отвергаем нулевую гипотезу\n",
      "------------------------------------------------\n",
      "Сравниваемые группы товаров Товары для кухни в октябре 2018 и октябре 2019\n",
      "p-значение: 0.34335255057605585\n",
      "Не получилось отвергнуть нулевую гипотезу\n",
      "------------------------------------------------\n",
      "Сравниваемые группы товаров Товары для ремонта/строительства в октябре 2018 и октябре 2019\n",
      "p-значение: 0.6531192834042955\n",
      "Не получилось отвергнуть нулевую гипотезу\n",
      "------------------------------------------------\n",
      "Сравниваемые группы товаров Товары для дома в октябре 2018 и октябре 2019\n",
      "p-значение: 0.1271588178374512\n",
      "Не получилось отвергнуть нулевую гипотезу\n",
      "------------------------------------------------\n",
      "Сравниваемые группы товаров Товары для дачи в октябре 2018 и октябре 2019\n",
      "p-значение: 0.5771823359872599\n",
      "Не получилось отвергнуть нулевую гипотезу\n"
     ]
    }
   ],
   "source": [
    "alpha = .05 # критический уровень статистической значимости\n",
    "plants_year = st.ttest_ind(october_2018_plants['total_sales'],october_2019_plants['total_sales'])\n",
    "\n",
    "print('Сравниваемые группы товаров Растения в октябре 2018 и октябре 2019')\n",
    "print('p-значение:', plants_year.pvalue)\n",
    "\n",
    "if (plants_year.pvalue < alpha):\n",
    "    print(\"Отвергаем нулевую гипотезу\")\n",
    "else:\n",
    "    print(\"Не получилось отвергнуть нулевую гипотезу\")\n",
    "\n",
    "print('------------------------------------------------')\n",
    "   \n",
    "kitchen_year = st.ttest_ind(october_2018_kitchen['total_sales'],october_2019_kitchen['total_sales'])\n",
    "   \n",
    "print('Сравниваемые группы товаров Товары для кухни в октябре 2018 и октябре 2019')\n",
    "print('p-значение:', kitchen_year.pvalue)\n",
    "\n",
    "if (kitchen_year.pvalue < alpha):\n",
    "    print(\"Отвергаем нулевую гипотезу\")\n",
    "else:\n",
    "    print(\"Не получилось отвергнуть нулевую гипотезу\")\n",
    "    \n",
    "print('------------------------------------------------')\n",
    "\n",
    "  \n",
    "repair_year = st.ttest_ind(october_2018_repair['total_sales'],october_2019_repair['total_sales'])\n",
    "   \n",
    "print('Сравниваемые группы товаров Товары для ремонта/строительства в октябре 2018 и октябре 2019')\n",
    "print('p-значение:', repair_year.pvalue)\n",
    "\n",
    "if (repair_year.pvalue < alpha):\n",
    "    print(\"Отвергаем нулевую гипотезу\")\n",
    "else:\n",
    "    print(\"Не получилось отвергнуть нулевую гипотезу\")\n",
    "    \n",
    "print('------------------------------------------------')\n",
    "\n",
    "house_year = st.ttest_ind(october_2018_house['total_sales'],october_2019_house['total_sales'])\n",
    "\n",
    "print('Сравниваемые группы товаров Товары для дома в октябре 2018 и октябре 2019')\n",
    "print('p-значение:', house_year.pvalue)\n",
    "\n",
    "if (house_year.pvalue < alpha):\n",
    "    print(\"Отвергаем нулевую гипотезу\")\n",
    "else:\n",
    "    print(\"Не получилось отвергнуть нулевую гипотезу\")\n",
    "    \n",
    "print('------------------------------------------------')\n",
    "\n",
    "dacha_year = st.ttest_ind(october_2018_dacha['total_sales'],october_2019_dacha['total_sales'])\n",
    "\n",
    "print('Сравниваемые группы товаров Товары для дачи в октябре 2018 и октябре 2019')\n",
    "print('p-значение:', dacha_year.pvalue)\n",
    "\n",
    "if (dacha_year.pvalue < alpha):\n",
    "    print(\"Отвергаем нулевую гипотезу\")\n",
    "else:\n",
    "    print(\"Не получилось отвергнуть нулевую гипотезу\")"
   ]
  },
  {
   "cell_type": "markdown",
   "metadata": {},
   "source": [
    "Значение p-value для среднего чека по группам товаров в октябре 2018 и октябре 2019 в большинстве случаев выше 0,05. Это значит, мы не можем отвергнуть нулевую гипотезу и считать, что статистически значимых различий в среднем чеке по группам товаров в октябре 2018 и 2019 нет.\n"
   ]
  },
  {
   "cell_type": "markdown",
   "metadata": {},
   "source": [
    "## Вывод "
   ]
  },
  {
   "cell_type": "markdown",
   "metadata": {},
   "source": [
    "Была проанализирована выгрузка ассортимента интернет-магазина товаров для дома и быта \"Пока все тут\".  \n",
    "Данные для анализа состояли из 6737 строк и 6 столбцов за период с 2018-10-01 по 2019-10-31. Всего по идентификатору покупателей: 2 451, всего товаров: 2 341 шт. Количество заказов - 2 784. Всего за период продано на:  4 130 611.0 у.е., в том числе за 2018 продано на: 1 067 774.0 у.е., а  в за 2019  на-  3 062 837.0 у.е.\n",
    "На этапе подготовки данных пропущенных значений и полных дубликатов найдено не было, но были выявлены скрытые дубликаты (в размере 1886). Так как в выгрузке отстутвует статус заказов, то пердположить, что это изменение статуса заказа затруднительно и было принято решение исключить их из анализа.  \n",
    "Дополнительно, для удобства анализа товарам была определена категория: \n",
    "\n",
    "- 'растения',  \n",
    "- 'товары для дачи',  \n",
    "- 'товары для дома',  \n",
    "- 'товары для кухни',  \n",
    "- 'товары для ремонта/строительства'.  \n",
    "\n",
    "Так в категорию  'растения' были отнесенты товары типа - рассада, семена, домашние цветы и проч. К категории 'товары для дачи' были отнесены - автополив, удобрения, тележки и проч. К категории 'товары для дома' - постельное белье, ванные пренадлежности, средства для чистки и проч. К 'товары для кухни' - посуда, столовые принадлежности и проч. К 'товары для ремонта/строительства' - инструменты, приборы, детали и проч.  \n",
    "\n",
    "Также было принято решение разделить клиентов на розничные продажи - \"розница\" (до 70 единиц товара в заказе)  и оптовые продажи - \"опт\" (более 70 единиц товара в заказе). Так сумма розничных продаж составляет: 3 335 511.0 у.е., а оптовых продаж - 795 100.0 у.е.\n",
    "Явно преобладает в магазине розница, но для развития и увеличения продаж стоит рассмотреть и развивать напарвление оптовых продаж. \n",
    "    \n",
    "В розничных продажах по категориям, определено, по количеству больше всего продано  из категории растения (3 031 позиций на сумму 1 072 642 у.е.),  в то же время средний чек ниже всего - 353.89 у.е. Видим, что средний чек выше всего в категории - товары для дачи - 2 012.93 у.е., а всего продано на 831 341.0 у.е. Т.е. категории товаров можно разделить на товары с высокой, средней и низкой доходностью. Так товары для дачи и товары для ремонта/строительства - товары с высокой доходностью, товары для дома - товары с средней доходностью, товары для кухни и растения - товары с низкой дохоностью.  \n",
    "\n",
    "По оптовы продажам по категориям недостаточно наблюдений, данное напарвление преставлено  крайне мало. Сумма оптовых продаж составляет: 795 100.0 у.е., это 19% от общих продаж, при этом количество по категорим было минимальное. По оптовым продажам наблюдается исключительная аномалия, влияющая на срезний чек и продажи по категориям. Искключив эту аномалию, все равно наблюдаем, что лидирует категория товары для дома с средним чеком - 9 775.0 у.е.\n",
    " \n",
    "В рамках исследования был проведн статистический анализ данных, были сформулируем гипотезы:\n",
    "\n",
    "Н0 - Статистически значимых различий в среднем чеке заказа между группами нет.  \n",
    "Н1 - Статистически значимых различий в в среднем чеке заказа между группами есть.\n",
    "Было определно, что значение p-value для среднего чека при разных вариациях сравнений товарных групп (по розничным продажам) в большинстве близко к нулю, кроме значения p-value для Товары для дачи и Товары для ремонта/строительства (p-value равен 0.13482б, что выше 0,05). Это значит, мы можем отвергнуть нулевую гипотезу и считать, что в среднем чеке есть различия для разных товарных групп, кроме Товары для дачи и Товары для ремонта/строительства.\n",
    "\n",
    "Сформулируем гипотезы:  \n",
    "Н0 - Статистически значимых различий в среднем чеке по группам товаров в октябре 2018 и 2019 нет.  \n",
    "Н1 - Статистически значимых различий в среднем чеке по группам товаров в октябре 2018 и 2019 есть.  \n",
    "Значение p-value для среднего чека по группам товаров в октябре 2018 и октябре 2019 в большинстве случаев выше 0,05. Это значит, мы не можем отвергнуть нулевую гипотезу и считать, что статистически значимых различий в среднем чеке по группам товаров в октябре 2018 и 2019 нет.\n"
   ]
  },
  {
   "cell_type": "markdown",
   "metadata": {},
   "source": [
    "## Рекомендации "
   ]
  },
  {
   "cell_type": "markdown",
   "metadata": {},
   "source": [
    "По результатам анализа рекомендации:  \n",
    "- Считаю, что делить товары на основные и дополнительные не совсем целесообразно. Предлагаю рассмотреть возможность определния для клиента Целевой категории (основной запрос, потребность), а к целевой категории предлагать подбора рекомендуемых дополнительных товаров из вспомогательной категории. Т.е. одна категория может быть дополнительной для другой. Например, \n",
    "если клиент рассмтривает товар из категории 'растения', то дополнительным для него могут быть товары для дачи ( садовые инструменты, горшки для рассады, грунт для рассады). Так мы можем отталкиваться от основного запроса - целевой категории - 'растения' и предлагать товары из вспомогательной категории - 'товары для дачи'. Появляется перспектива \"миксовать\", \"разбавляя\" заказ с товарами низкой доходности, товарами с высокой доходности.  \n",
    "- Развите напарвленения оптовых продаж. Рассмотреть возможность доп. бонусов/скидочной системы по категория с высокой доходностью.  \n",
    "-Ориентрироваться на платёжеспособности покупателя (если он не интересуется дорогими товарами), предлагать ему товары с меньшей доходностью к товарам, которые он покупает, в рамках той же категории.\n",
    "\n",
    " \n",
    "\n",
    "\n",
    "\n",
    "\n",
    "\n"
   ]
  }
 ],
 "metadata": {
  "ExecuteTimeLog": [
   {
    "duration": 102,
    "start_time": "2022-07-22T12:47:36.684Z"
   },
   {
    "duration": 1565,
    "start_time": "2022-07-22T12:48:31.047Z"
   },
   {
    "duration": 4,
    "start_time": "2022-07-22T12:48:50.106Z"
   },
   {
    "duration": 99,
    "start_time": "2022-07-22T12:50:12.182Z"
   },
   {
    "duration": 18,
    "start_time": "2022-07-22T12:50:50.052Z"
   },
   {
    "duration": 19,
    "start_time": "2022-07-22T12:51:00.372Z"
   },
   {
    "duration": 24,
    "start_time": "2022-07-22T12:51:07.711Z"
   },
   {
    "duration": 12,
    "start_time": "2022-07-22T12:56:15.774Z"
   },
   {
    "duration": 7,
    "start_time": "2022-07-22T12:56:41.761Z"
   },
   {
    "duration": 12,
    "start_time": "2022-07-22T12:56:57.152Z"
   },
   {
    "duration": 15,
    "start_time": "2022-07-22T12:57:25.977Z"
   },
   {
    "duration": 11,
    "start_time": "2022-07-22T12:57:38.451Z"
   },
   {
    "duration": 17,
    "start_time": "2022-07-22T12:57:54.422Z"
   },
   {
    "duration": 10,
    "start_time": "2022-07-22T12:58:04.960Z"
   },
   {
    "duration": 145,
    "start_time": "2022-07-22T13:01:30.851Z"
   },
   {
    "duration": 5,
    "start_time": "2022-07-22T13:05:29.953Z"
   },
   {
    "duration": 5,
    "start_time": "2022-07-22T13:06:28.466Z"
   },
   {
    "duration": 18,
    "start_time": "2022-07-22T13:07:08.539Z"
   },
   {
    "duration": 12,
    "start_time": "2022-07-22T13:12:14.804Z"
   },
   {
    "duration": 10,
    "start_time": "2022-07-22T13:14:05.063Z"
   },
   {
    "duration": 13,
    "start_time": "2022-07-22T13:14:27.683Z"
   },
   {
    "duration": 15,
    "start_time": "2022-07-22T13:14:51.349Z"
   },
   {
    "duration": 14,
    "start_time": "2022-07-22T13:15:07.393Z"
   },
   {
    "duration": 10,
    "start_time": "2022-07-22T13:15:10.658Z"
   },
   {
    "duration": 19,
    "start_time": "2022-07-22T13:16:38.229Z"
   },
   {
    "duration": 12,
    "start_time": "2022-07-22T13:16:55.970Z"
   },
   {
    "duration": 24,
    "start_time": "2022-07-22T13:17:24.137Z"
   },
   {
    "duration": 10,
    "start_time": "2022-07-22T13:17:39.803Z"
   },
   {
    "duration": 10,
    "start_time": "2022-07-22T13:23:23.783Z"
   },
   {
    "duration": 13,
    "start_time": "2022-07-22T13:26:11.004Z"
   },
   {
    "duration": 32,
    "start_time": "2022-07-22T13:26:38.858Z"
   },
   {
    "duration": 99,
    "start_time": "2022-07-22T13:26:54.475Z"
   },
   {
    "duration": 107,
    "start_time": "2022-07-22T13:27:20.255Z"
   },
   {
    "duration": 84,
    "start_time": "2022-07-22T13:28:51.752Z"
   },
   {
    "duration": 104,
    "start_time": "2022-07-22T13:28:56.305Z"
   },
   {
    "duration": 54,
    "start_time": "2022-07-22T13:31:20.688Z"
   },
   {
    "duration": 32,
    "start_time": "2022-07-22T13:31:34.375Z"
   },
   {
    "duration": 45,
    "start_time": "2022-07-22T13:32:04.803Z"
   },
   {
    "duration": 13,
    "start_time": "2022-07-22T13:34:07.503Z"
   },
   {
    "duration": 12,
    "start_time": "2022-07-22T13:34:24.813Z"
   },
   {
    "duration": 14,
    "start_time": "2022-07-22T13:35:07.462Z"
   },
   {
    "duration": 12,
    "start_time": "2022-07-22T13:35:23.798Z"
   },
   {
    "duration": 10,
    "start_time": "2022-07-22T13:35:52.296Z"
   },
   {
    "duration": 26,
    "start_time": "2022-07-22T13:36:30.496Z"
   },
   {
    "duration": 86,
    "start_time": "2022-07-22T13:37:50.011Z"
   },
   {
    "duration": 18,
    "start_time": "2022-07-22T13:38:23.458Z"
   },
   {
    "duration": 10,
    "start_time": "2022-07-22T13:40:19.810Z"
   },
   {
    "duration": 26,
    "start_time": "2022-07-22T13:40:41.458Z"
   },
   {
    "duration": 11,
    "start_time": "2022-07-22T13:55:25.901Z"
   },
   {
    "duration": 38,
    "start_time": "2022-07-22T13:55:39.939Z"
   },
   {
    "duration": 13,
    "start_time": "2022-07-22T13:57:30.565Z"
   },
   {
    "duration": 9,
    "start_time": "2022-07-22T13:58:16.451Z"
   },
   {
    "duration": 13,
    "start_time": "2022-07-22T13:58:47.766Z"
   },
   {
    "duration": 9,
    "start_time": "2022-07-22T13:58:57.086Z"
   },
   {
    "duration": 10,
    "start_time": "2022-07-22T13:59:01.377Z"
   },
   {
    "duration": 46,
    "start_time": "2022-07-22T13:59:13.550Z"
   },
   {
    "duration": 63,
    "start_time": "2022-07-22T14:00:27.802Z"
   },
   {
    "duration": 68,
    "start_time": "2022-07-22T14:00:50.098Z"
   },
   {
    "duration": 37,
    "start_time": "2022-07-22T14:01:43.491Z"
   },
   {
    "duration": 45,
    "start_time": "2022-07-22T14:02:15.784Z"
   },
   {
    "duration": 54,
    "start_time": "2022-07-22T14:02:39.189Z"
   },
   {
    "duration": 15,
    "start_time": "2022-07-22T14:02:58.680Z"
   },
   {
    "duration": 41,
    "start_time": "2022-07-22T14:03:52.375Z"
   },
   {
    "duration": 1321,
    "start_time": "2022-07-22T14:04:04.007Z"
   },
   {
    "duration": 73,
    "start_time": "2022-07-22T14:04:05.330Z"
   },
   {
    "duration": 12,
    "start_time": "2022-07-22T14:04:05.405Z"
   },
   {
    "duration": 18,
    "start_time": "2022-07-22T14:04:05.419Z"
   },
   {
    "duration": 34,
    "start_time": "2022-07-22T14:04:05.444Z"
   },
   {
    "duration": 7,
    "start_time": "2022-07-22T14:04:05.480Z"
   },
   {
    "duration": 19,
    "start_time": "2022-07-22T14:04:05.489Z"
   },
   {
    "duration": 10,
    "start_time": "2022-07-22T14:04:05.510Z"
   },
   {
    "duration": 44,
    "start_time": "2022-07-22T14:04:05.521Z"
   },
   {
    "duration": 8,
    "start_time": "2022-07-22T14:04:05.568Z"
   },
   {
    "duration": 15,
    "start_time": "2022-07-22T14:04:05.578Z"
   },
   {
    "duration": 6,
    "start_time": "2022-07-22T14:04:05.595Z"
   },
   {
    "duration": 15,
    "start_time": "2022-07-22T14:04:05.603Z"
   },
   {
    "duration": 44,
    "start_time": "2022-07-22T14:04:05.620Z"
   },
   {
    "duration": 66,
    "start_time": "2022-07-22T14:04:05.666Z"
   },
   {
    "duration": 37,
    "start_time": "2022-07-22T14:04:05.734Z"
   },
   {
    "duration": 14,
    "start_time": "2022-07-22T14:04:45.193Z"
   },
   {
    "duration": 1271,
    "start_time": "2022-07-22T14:13:07.719Z"
   },
   {
    "duration": 104,
    "start_time": "2022-07-22T14:13:08.993Z"
   },
   {
    "duration": 16,
    "start_time": "2022-07-22T14:13:09.099Z"
   },
   {
    "duration": 46,
    "start_time": "2022-07-22T14:13:09.117Z"
   },
   {
    "duration": 13,
    "start_time": "2022-07-22T14:13:09.166Z"
   },
   {
    "duration": 9,
    "start_time": "2022-07-22T14:13:09.181Z"
   },
   {
    "duration": 26,
    "start_time": "2022-07-22T14:13:09.192Z"
   },
   {
    "duration": 18,
    "start_time": "2022-07-22T14:13:09.220Z"
   },
   {
    "duration": 48,
    "start_time": "2022-07-22T14:13:09.246Z"
   },
   {
    "duration": 11,
    "start_time": "2022-07-22T14:13:09.295Z"
   },
   {
    "duration": 7,
    "start_time": "2022-07-22T14:13:09.308Z"
   },
   {
    "duration": 11,
    "start_time": "2022-07-22T14:13:09.317Z"
   },
   {
    "duration": 40,
    "start_time": "2022-07-22T14:13:09.330Z"
   },
   {
    "duration": 27,
    "start_time": "2022-07-22T14:13:09.372Z"
   },
   {
    "duration": 125,
    "start_time": "2022-07-22T14:13:09.401Z"
   },
   {
    "duration": 0,
    "start_time": "2022-07-22T14:13:09.531Z"
   },
   {
    "duration": 0,
    "start_time": "2022-07-22T14:13:09.532Z"
   },
   {
    "duration": 0,
    "start_time": "2022-07-22T14:13:09.533Z"
   },
   {
    "duration": 0,
    "start_time": "2022-07-22T14:13:09.534Z"
   },
   {
    "duration": 1975,
    "start_time": "2022-07-22T14:23:00.517Z"
   },
   {
    "duration": 4,
    "start_time": "2022-07-22T14:24:15.452Z"
   },
   {
    "duration": 4,
    "start_time": "2022-07-22T14:33:50.444Z"
   },
   {
    "duration": 63,
    "start_time": "2022-07-22T14:34:14.365Z"
   },
   {
    "duration": 1665,
    "start_time": "2022-07-22T14:39:02.004Z"
   },
   {
    "duration": 1555,
    "start_time": "2022-07-22T14:40:12.550Z"
   },
   {
    "duration": 1736,
    "start_time": "2022-07-22T14:40:22.693Z"
   },
   {
    "duration": 1589,
    "start_time": "2022-07-22T14:40:34.898Z"
   },
   {
    "duration": 1629,
    "start_time": "2022-07-22T14:53:12.864Z"
   },
   {
    "duration": 96,
    "start_time": "2022-07-22T14:56:06.665Z"
   },
   {
    "duration": 1548,
    "start_time": "2022-07-22T14:56:15.351Z"
   },
   {
    "duration": 1593,
    "start_time": "2022-07-22T15:01:18.499Z"
   },
   {
    "duration": 1641,
    "start_time": "2022-07-22T15:01:33.547Z"
   },
   {
    "duration": 2353,
    "start_time": "2022-07-22T15:31:43.315Z"
   },
   {
    "duration": 1514,
    "start_time": "2022-07-22T15:33:49.882Z"
   },
   {
    "duration": 1518,
    "start_time": "2022-07-22T15:34:02.661Z"
   },
   {
    "duration": 1515,
    "start_time": "2022-07-22T15:34:49.835Z"
   },
   {
    "duration": 19,
    "start_time": "2022-07-22T15:38:59.690Z"
   },
   {
    "duration": 4,
    "start_time": "2022-07-22T15:45:13.473Z"
   },
   {
    "duration": 12,
    "start_time": "2022-07-22T15:55:11.139Z"
   },
   {
    "duration": 845,
    "start_time": "2022-07-22T15:59:50.500Z"
   },
   {
    "duration": 819,
    "start_time": "2022-07-22T15:59:58.637Z"
   },
   {
    "duration": 1305,
    "start_time": "2022-07-22T16:00:43.883Z"
   },
   {
    "duration": 87,
    "start_time": "2022-07-22T16:00:45.191Z"
   },
   {
    "duration": 20,
    "start_time": "2022-07-22T16:00:45.280Z"
   },
   {
    "duration": 18,
    "start_time": "2022-07-22T16:00:45.302Z"
   },
   {
    "duration": 19,
    "start_time": "2022-07-22T16:00:45.323Z"
   },
   {
    "duration": 15,
    "start_time": "2022-07-22T16:00:45.344Z"
   },
   {
    "duration": 13,
    "start_time": "2022-07-22T16:00:45.361Z"
   },
   {
    "duration": 15,
    "start_time": "2022-07-22T16:00:45.377Z"
   },
   {
    "duration": 39,
    "start_time": "2022-07-22T16:00:45.394Z"
   },
   {
    "duration": 21,
    "start_time": "2022-07-22T16:00:45.437Z"
   },
   {
    "duration": 42,
    "start_time": "2022-07-22T16:00:45.460Z"
   },
   {
    "duration": 52,
    "start_time": "2022-07-22T16:00:45.505Z"
   },
   {
    "duration": 28,
    "start_time": "2022-07-22T16:00:45.559Z"
   },
   {
    "duration": 1676,
    "start_time": "2022-07-22T16:00:45.591Z"
   },
   {
    "duration": 4,
    "start_time": "2022-07-22T16:00:47.270Z"
   },
   {
    "duration": 13,
    "start_time": "2022-07-22T16:00:47.276Z"
   },
   {
    "duration": 34,
    "start_time": "2022-07-22T16:00:47.290Z"
   },
   {
    "duration": 135,
    "start_time": "2022-07-22T16:00:47.336Z"
   },
   {
    "duration": 0,
    "start_time": "2022-07-22T16:00:47.474Z"
   },
   {
    "duration": 0,
    "start_time": "2022-07-22T16:00:47.475Z"
   },
   {
    "duration": 0,
    "start_time": "2022-07-22T16:00:47.476Z"
   },
   {
    "duration": 1304,
    "start_time": "2022-07-22T16:01:49.905Z"
   },
   {
    "duration": 93,
    "start_time": "2022-07-22T16:01:51.211Z"
   },
   {
    "duration": 15,
    "start_time": "2022-07-22T16:01:51.306Z"
   },
   {
    "duration": 41,
    "start_time": "2022-07-22T16:01:51.331Z"
   },
   {
    "duration": 20,
    "start_time": "2022-07-22T16:01:51.375Z"
   },
   {
    "duration": 10,
    "start_time": "2022-07-22T16:01:51.397Z"
   },
   {
    "duration": 43,
    "start_time": "2022-07-22T16:01:51.409Z"
   },
   {
    "duration": 23,
    "start_time": "2022-07-22T16:01:51.455Z"
   },
   {
    "duration": 13,
    "start_time": "2022-07-22T16:01:51.480Z"
   },
   {
    "duration": 20,
    "start_time": "2022-07-22T16:01:51.495Z"
   },
   {
    "duration": 49,
    "start_time": "2022-07-22T16:01:51.518Z"
   },
   {
    "duration": 6,
    "start_time": "2022-07-22T16:01:51.570Z"
   },
   {
    "duration": 18,
    "start_time": "2022-07-22T16:01:51.578Z"
   },
   {
    "duration": 1954,
    "start_time": "2022-07-22T16:01:51.599Z"
   },
   {
    "duration": 5,
    "start_time": "2022-07-22T16:01:53.555Z"
   },
   {
    "duration": 139,
    "start_time": "2022-07-22T16:01:53.562Z"
   },
   {
    "duration": 0,
    "start_time": "2022-07-22T16:01:53.703Z"
   },
   {
    "duration": 0,
    "start_time": "2022-07-22T16:01:53.704Z"
   },
   {
    "duration": 0,
    "start_time": "2022-07-22T16:01:53.705Z"
   },
   {
    "duration": 0,
    "start_time": "2022-07-22T16:01:53.707Z"
   },
   {
    "duration": 0,
    "start_time": "2022-07-22T16:01:53.707Z"
   },
   {
    "duration": 0,
    "start_time": "2022-07-22T16:01:53.708Z"
   },
   {
    "duration": 0,
    "start_time": "2022-07-22T16:01:53.723Z"
   },
   {
    "duration": 10,
    "start_time": "2022-07-22T16:02:22.389Z"
   },
   {
    "duration": 2214,
    "start_time": "2022-07-22T16:02:32.082Z"
   },
   {
    "duration": 15,
    "start_time": "2022-07-22T16:02:54.293Z"
   },
   {
    "duration": 11,
    "start_time": "2022-07-22T16:04:21.387Z"
   },
   {
    "duration": 12,
    "start_time": "2022-07-22T16:05:09.535Z"
   },
   {
    "duration": 11,
    "start_time": "2022-07-22T16:05:15.675Z"
   },
   {
    "duration": 65,
    "start_time": "2022-07-22T16:05:31.749Z"
   },
   {
    "duration": 63,
    "start_time": "2022-07-22T16:05:38.677Z"
   },
   {
    "duration": 14,
    "start_time": "2022-07-22T16:05:48.686Z"
   },
   {
    "duration": 1252,
    "start_time": "2022-07-22T16:10:18.713Z"
   },
   {
    "duration": 157,
    "start_time": "2022-07-22T16:10:19.967Z"
   },
   {
    "duration": 18,
    "start_time": "2022-07-22T16:10:20.127Z"
   },
   {
    "duration": 31,
    "start_time": "2022-07-22T16:10:20.148Z"
   },
   {
    "duration": 26,
    "start_time": "2022-07-22T16:10:20.180Z"
   },
   {
    "duration": 20,
    "start_time": "2022-07-22T16:10:20.208Z"
   },
   {
    "duration": 21,
    "start_time": "2022-07-22T16:10:20.230Z"
   },
   {
    "duration": 27,
    "start_time": "2022-07-22T16:10:20.253Z"
   },
   {
    "duration": 14,
    "start_time": "2022-07-22T16:10:20.282Z"
   },
   {
    "duration": 12,
    "start_time": "2022-07-22T16:10:20.298Z"
   },
   {
    "duration": 4,
    "start_time": "2022-07-22T16:10:20.312Z"
   },
   {
    "duration": 14,
    "start_time": "2022-07-22T16:10:20.318Z"
   },
   {
    "duration": 19,
    "start_time": "2022-07-22T16:10:20.334Z"
   },
   {
    "duration": 1540,
    "start_time": "2022-07-22T16:10:20.354Z"
   },
   {
    "duration": 4,
    "start_time": "2022-07-22T16:10:21.896Z"
   },
   {
    "duration": 22,
    "start_time": "2022-07-22T16:10:21.902Z"
   },
   {
    "duration": 14,
    "start_time": "2022-07-22T16:10:21.927Z"
   },
   {
    "duration": 217,
    "start_time": "2022-07-22T16:10:21.944Z"
   },
   {
    "duration": 0,
    "start_time": "2022-07-22T16:10:22.162Z"
   },
   {
    "duration": 0,
    "start_time": "2022-07-22T16:10:22.164Z"
   },
   {
    "duration": 0,
    "start_time": "2022-07-22T16:10:22.166Z"
   },
   {
    "duration": 0,
    "start_time": "2022-07-22T16:10:22.168Z"
   },
   {
    "duration": 0,
    "start_time": "2022-07-22T16:10:22.169Z"
   },
   {
    "duration": 64,
    "start_time": "2022-07-22T16:12:33.448Z"
   },
   {
    "duration": 17,
    "start_time": "2022-07-22T16:12:40.544Z"
   },
   {
    "duration": 20,
    "start_time": "2022-07-22T16:13:30.648Z"
   },
   {
    "duration": 1163,
    "start_time": "2022-07-22T16:16:46.742Z"
   },
   {
    "duration": 77,
    "start_time": "2022-07-22T16:16:47.907Z"
   },
   {
    "duration": 18,
    "start_time": "2022-07-22T16:16:47.986Z"
   },
   {
    "duration": 15,
    "start_time": "2022-07-22T16:16:48.007Z"
   },
   {
    "duration": 13,
    "start_time": "2022-07-22T16:16:48.023Z"
   },
   {
    "duration": 13,
    "start_time": "2022-07-22T16:16:48.037Z"
   },
   {
    "duration": 10,
    "start_time": "2022-07-22T16:16:48.052Z"
   },
   {
    "duration": 11,
    "start_time": "2022-07-22T16:16:48.064Z"
   },
   {
    "duration": 19,
    "start_time": "2022-07-22T16:16:48.077Z"
   },
   {
    "duration": 35,
    "start_time": "2022-07-22T16:16:48.099Z"
   },
   {
    "duration": 23,
    "start_time": "2022-07-22T16:16:48.135Z"
   },
   {
    "duration": 12,
    "start_time": "2022-07-22T16:16:48.161Z"
   },
   {
    "duration": 19,
    "start_time": "2022-07-22T16:16:48.175Z"
   },
   {
    "duration": 1478,
    "start_time": "2022-07-22T16:16:48.196Z"
   },
   {
    "duration": 5,
    "start_time": "2022-07-22T16:16:49.676Z"
   },
   {
    "duration": 11,
    "start_time": "2022-07-22T16:16:49.683Z"
   },
   {
    "duration": 43,
    "start_time": "2022-07-22T16:16:49.696Z"
   },
   {
    "duration": 64,
    "start_time": "2022-07-22T16:16:49.741Z"
   },
   {
    "duration": 12,
    "start_time": "2022-07-22T16:16:49.807Z"
   },
   {
    "duration": 30,
    "start_time": "2022-07-22T16:16:49.821Z"
   },
   {
    "duration": 114,
    "start_time": "2022-07-22T16:16:49.853Z"
   },
   {
    "duration": 0,
    "start_time": "2022-07-22T16:16:49.969Z"
   },
   {
    "duration": 0,
    "start_time": "2022-07-22T16:16:49.970Z"
   },
   {
    "duration": 0,
    "start_time": "2022-07-22T16:16:49.971Z"
   },
   {
    "duration": 22,
    "start_time": "2022-07-22T16:17:56.393Z"
   },
   {
    "duration": 1223,
    "start_time": "2022-07-22T16:19:34.540Z"
   },
   {
    "duration": 58,
    "start_time": "2022-07-22T16:19:35.765Z"
   },
   {
    "duration": 13,
    "start_time": "2022-07-22T16:19:35.825Z"
   },
   {
    "duration": 15,
    "start_time": "2022-07-22T16:19:35.840Z"
   },
   {
    "duration": 14,
    "start_time": "2022-07-22T16:19:35.857Z"
   },
   {
    "duration": 16,
    "start_time": "2022-07-22T16:19:35.872Z"
   },
   {
    "duration": 12,
    "start_time": "2022-07-22T16:19:35.890Z"
   },
   {
    "duration": 10,
    "start_time": "2022-07-22T16:19:35.922Z"
   },
   {
    "duration": 44,
    "start_time": "2022-07-22T16:19:35.934Z"
   },
   {
    "duration": 11,
    "start_time": "2022-07-22T16:19:35.980Z"
   },
   {
    "duration": 9,
    "start_time": "2022-07-22T16:19:35.994Z"
   },
   {
    "duration": 21,
    "start_time": "2022-07-22T16:19:36.005Z"
   },
   {
    "duration": 15,
    "start_time": "2022-07-22T16:19:36.028Z"
   },
   {
    "duration": 1461,
    "start_time": "2022-07-22T16:19:36.046Z"
   },
   {
    "duration": 15,
    "start_time": "2022-07-22T16:19:37.509Z"
   },
   {
    "duration": 13,
    "start_time": "2022-07-22T16:19:37.526Z"
   },
   {
    "duration": 14,
    "start_time": "2022-07-22T16:19:37.540Z"
   },
   {
    "duration": 66,
    "start_time": "2022-07-22T16:19:37.556Z"
   },
   {
    "duration": 13,
    "start_time": "2022-07-22T16:19:37.624Z"
   },
   {
    "duration": 17,
    "start_time": "2022-07-22T16:19:37.638Z"
   },
   {
    "duration": 22,
    "start_time": "2022-07-22T16:19:37.657Z"
   },
   {
    "duration": 143,
    "start_time": "2022-07-22T16:19:37.680Z"
   },
   {
    "duration": 0,
    "start_time": "2022-07-22T16:19:37.824Z"
   },
   {
    "duration": 0,
    "start_time": "2022-07-22T16:19:37.825Z"
   },
   {
    "duration": 0,
    "start_time": "2022-07-22T16:19:37.827Z"
   },
   {
    "duration": 0,
    "start_time": "2022-07-22T16:19:37.828Z"
   },
   {
    "duration": 1222,
    "start_time": "2022-07-22T16:23:01.935Z"
   },
   {
    "duration": 84,
    "start_time": "2022-07-22T16:23:03.160Z"
   },
   {
    "duration": 21,
    "start_time": "2022-07-22T16:23:03.247Z"
   },
   {
    "duration": 19,
    "start_time": "2022-07-22T16:23:03.270Z"
   },
   {
    "duration": 14,
    "start_time": "2022-07-22T16:23:03.292Z"
   },
   {
    "duration": 8,
    "start_time": "2022-07-22T16:23:03.322Z"
   },
   {
    "duration": 13,
    "start_time": "2022-07-22T16:23:03.332Z"
   },
   {
    "duration": 28,
    "start_time": "2022-07-22T16:23:03.346Z"
   },
   {
    "duration": 32,
    "start_time": "2022-07-22T16:23:03.377Z"
   },
   {
    "duration": 13,
    "start_time": "2022-07-22T16:23:03.411Z"
   },
   {
    "duration": 6,
    "start_time": "2022-07-22T16:23:03.426Z"
   },
   {
    "duration": 11,
    "start_time": "2022-07-22T16:23:03.434Z"
   },
   {
    "duration": 23,
    "start_time": "2022-07-22T16:23:03.447Z"
   },
   {
    "duration": 1578,
    "start_time": "2022-07-22T16:23:03.474Z"
   },
   {
    "duration": 5,
    "start_time": "2022-07-22T16:23:05.054Z"
   },
   {
    "duration": 14,
    "start_time": "2022-07-22T16:23:05.061Z"
   },
   {
    "duration": 12,
    "start_time": "2022-07-22T16:23:05.077Z"
   },
   {
    "duration": 78,
    "start_time": "2022-07-22T16:23:05.091Z"
   },
   {
    "duration": 12,
    "start_time": "2022-07-22T16:23:05.171Z"
   },
   {
    "duration": 19,
    "start_time": "2022-07-22T16:23:05.185Z"
   },
   {
    "duration": 36,
    "start_time": "2022-07-22T16:23:05.206Z"
   },
   {
    "duration": 121,
    "start_time": "2022-07-22T16:23:05.244Z"
   },
   {
    "duration": 0,
    "start_time": "2022-07-22T16:23:05.367Z"
   },
   {
    "duration": 0,
    "start_time": "2022-07-22T16:23:05.368Z"
   },
   {
    "duration": 0,
    "start_time": "2022-07-22T16:23:05.369Z"
   },
   {
    "duration": 0,
    "start_time": "2022-07-22T16:23:05.370Z"
   },
   {
    "duration": 1276,
    "start_time": "2022-07-22T16:25:32.307Z"
   },
   {
    "duration": 73,
    "start_time": "2022-07-22T16:25:33.585Z"
   },
   {
    "duration": 13,
    "start_time": "2022-07-22T16:25:33.661Z"
   },
   {
    "duration": 12,
    "start_time": "2022-07-22T16:25:33.677Z"
   },
   {
    "duration": 12,
    "start_time": "2022-07-22T16:25:33.690Z"
   },
   {
    "duration": 32,
    "start_time": "2022-07-22T16:25:33.703Z"
   },
   {
    "duration": 19,
    "start_time": "2022-07-22T16:25:33.737Z"
   },
   {
    "duration": 10,
    "start_time": "2022-07-22T16:25:33.757Z"
   },
   {
    "duration": 11,
    "start_time": "2022-07-22T16:25:33.769Z"
   },
   {
    "duration": 8,
    "start_time": "2022-07-22T16:25:33.781Z"
   },
   {
    "duration": 8,
    "start_time": "2022-07-22T16:25:33.791Z"
   },
   {
    "duration": 5,
    "start_time": "2022-07-22T16:25:33.823Z"
   },
   {
    "duration": 23,
    "start_time": "2022-07-22T16:25:33.831Z"
   },
   {
    "duration": 1550,
    "start_time": "2022-07-22T16:25:33.855Z"
   },
   {
    "duration": 17,
    "start_time": "2022-07-22T16:25:35.407Z"
   },
   {
    "duration": 22,
    "start_time": "2022-07-22T16:25:35.427Z"
   },
   {
    "duration": 36,
    "start_time": "2022-07-22T16:25:35.451Z"
   },
   {
    "duration": 73,
    "start_time": "2022-07-22T16:25:35.489Z"
   },
   {
    "duration": 12,
    "start_time": "2022-07-22T16:25:35.564Z"
   },
   {
    "duration": 17,
    "start_time": "2022-07-22T16:25:35.578Z"
   },
   {
    "duration": 43,
    "start_time": "2022-07-22T16:25:35.597Z"
   },
   {
    "duration": 123,
    "start_time": "2022-07-22T16:25:35.642Z"
   },
   {
    "duration": 0,
    "start_time": "2022-07-22T16:25:35.767Z"
   },
   {
    "duration": 0,
    "start_time": "2022-07-22T16:25:35.768Z"
   },
   {
    "duration": 0,
    "start_time": "2022-07-22T16:25:35.769Z"
   },
   {
    "duration": 0,
    "start_time": "2022-07-22T16:25:35.770Z"
   },
   {
    "duration": 1353,
    "start_time": "2022-07-22T16:27:23.720Z"
   },
   {
    "duration": 75,
    "start_time": "2022-07-22T16:27:25.075Z"
   },
   {
    "duration": 13,
    "start_time": "2022-07-22T16:27:25.152Z"
   },
   {
    "duration": 16,
    "start_time": "2022-07-22T16:27:25.167Z"
   },
   {
    "duration": 20,
    "start_time": "2022-07-22T16:27:25.185Z"
   },
   {
    "duration": 17,
    "start_time": "2022-07-22T16:27:25.206Z"
   },
   {
    "duration": 26,
    "start_time": "2022-07-22T16:27:25.226Z"
   },
   {
    "duration": 9,
    "start_time": "2022-07-22T16:27:25.254Z"
   },
   {
    "duration": 19,
    "start_time": "2022-07-22T16:27:25.265Z"
   },
   {
    "duration": 18,
    "start_time": "2022-07-22T16:27:25.285Z"
   },
   {
    "duration": 4,
    "start_time": "2022-07-22T16:27:25.306Z"
   },
   {
    "duration": 14,
    "start_time": "2022-07-22T16:27:25.311Z"
   },
   {
    "duration": 18,
    "start_time": "2022-07-22T16:27:25.328Z"
   },
   {
    "duration": 1629,
    "start_time": "2022-07-22T16:27:25.350Z"
   },
   {
    "duration": 4,
    "start_time": "2022-07-22T16:27:26.982Z"
   },
   {
    "duration": 35,
    "start_time": "2022-07-22T16:27:26.989Z"
   },
   {
    "duration": 26,
    "start_time": "2022-07-22T16:27:27.027Z"
   },
   {
    "duration": 87,
    "start_time": "2022-07-22T16:27:27.055Z"
   },
   {
    "duration": 17,
    "start_time": "2022-07-22T16:27:27.144Z"
   },
   {
    "duration": 26,
    "start_time": "2022-07-22T16:27:27.164Z"
   },
   {
    "duration": 31,
    "start_time": "2022-07-22T16:27:27.192Z"
   },
   {
    "duration": 128,
    "start_time": "2022-07-22T16:27:27.225Z"
   },
   {
    "duration": 0,
    "start_time": "2022-07-22T16:27:27.355Z"
   },
   {
    "duration": 0,
    "start_time": "2022-07-22T16:27:27.356Z"
   },
   {
    "duration": 0,
    "start_time": "2022-07-22T16:27:27.358Z"
   },
   {
    "duration": 0,
    "start_time": "2022-07-22T16:27:27.360Z"
   },
   {
    "duration": 1269,
    "start_time": "2022-07-22T16:30:21.689Z"
   },
   {
    "duration": 115,
    "start_time": "2022-07-22T16:30:22.961Z"
   },
   {
    "duration": 13,
    "start_time": "2022-07-22T16:30:23.078Z"
   },
   {
    "duration": 14,
    "start_time": "2022-07-22T16:30:23.093Z"
   },
   {
    "duration": 22,
    "start_time": "2022-07-22T16:30:23.110Z"
   },
   {
    "duration": 46,
    "start_time": "2022-07-22T16:30:23.136Z"
   },
   {
    "duration": 47,
    "start_time": "2022-07-22T16:30:23.185Z"
   },
   {
    "duration": 34,
    "start_time": "2022-07-22T16:30:23.234Z"
   },
   {
    "duration": 25,
    "start_time": "2022-07-22T16:30:23.270Z"
   },
   {
    "duration": 9,
    "start_time": "2022-07-22T16:30:23.297Z"
   },
   {
    "duration": 40,
    "start_time": "2022-07-22T16:30:23.308Z"
   },
   {
    "duration": 26,
    "start_time": "2022-07-22T16:30:23.350Z"
   },
   {
    "duration": 39,
    "start_time": "2022-07-22T16:30:23.378Z"
   },
   {
    "duration": 1738,
    "start_time": "2022-07-22T16:30:23.420Z"
   },
   {
    "duration": 5,
    "start_time": "2022-07-22T16:30:25.160Z"
   },
   {
    "duration": 14,
    "start_time": "2022-07-22T16:30:25.167Z"
   },
   {
    "duration": 10,
    "start_time": "2022-07-22T16:30:25.183Z"
   },
   {
    "duration": 89,
    "start_time": "2022-07-22T16:30:25.195Z"
   },
   {
    "duration": 13,
    "start_time": "2022-07-22T16:30:25.286Z"
   },
   {
    "duration": 24,
    "start_time": "2022-07-22T16:30:25.301Z"
   },
   {
    "duration": 48,
    "start_time": "2022-07-22T16:30:25.327Z"
   },
   {
    "duration": 126,
    "start_time": "2022-07-22T16:30:25.377Z"
   },
   {
    "duration": 0,
    "start_time": "2022-07-22T16:30:25.505Z"
   },
   {
    "duration": 0,
    "start_time": "2022-07-22T16:30:25.506Z"
   },
   {
    "duration": 0,
    "start_time": "2022-07-22T16:30:25.507Z"
   },
   {
    "duration": 0,
    "start_time": "2022-07-22T16:30:25.508Z"
   },
   {
    "duration": 1145,
    "start_time": "2022-07-22T16:32:58.070Z"
   },
   {
    "duration": 76,
    "start_time": "2022-07-22T16:32:59.217Z"
   },
   {
    "duration": 14,
    "start_time": "2022-07-22T16:32:59.295Z"
   },
   {
    "duration": 18,
    "start_time": "2022-07-22T16:32:59.310Z"
   },
   {
    "duration": 13,
    "start_time": "2022-07-22T16:32:59.332Z"
   },
   {
    "duration": 12,
    "start_time": "2022-07-22T16:32:59.347Z"
   },
   {
    "duration": 13,
    "start_time": "2022-07-22T16:32:59.361Z"
   },
   {
    "duration": 10,
    "start_time": "2022-07-22T16:32:59.375Z"
   },
   {
    "duration": 13,
    "start_time": "2022-07-22T16:32:59.387Z"
   },
   {
    "duration": 42,
    "start_time": "2022-07-22T16:32:59.402Z"
   },
   {
    "duration": 5,
    "start_time": "2022-07-22T16:32:59.446Z"
   },
   {
    "duration": 8,
    "start_time": "2022-07-22T16:32:59.452Z"
   },
   {
    "duration": 16,
    "start_time": "2022-07-22T16:32:59.461Z"
   },
   {
    "duration": 1634,
    "start_time": "2022-07-22T16:32:59.480Z"
   },
   {
    "duration": 14,
    "start_time": "2022-07-22T16:33:01.123Z"
   },
   {
    "duration": 19,
    "start_time": "2022-07-22T16:33:01.141Z"
   },
   {
    "duration": 29,
    "start_time": "2022-07-22T16:33:01.162Z"
   },
   {
    "duration": 76,
    "start_time": "2022-07-22T16:33:01.193Z"
   },
   {
    "duration": 12,
    "start_time": "2022-07-22T16:33:01.271Z"
   },
   {
    "duration": 31,
    "start_time": "2022-07-22T16:33:01.285Z"
   },
   {
    "duration": 40,
    "start_time": "2022-07-22T16:33:01.318Z"
   },
   {
    "duration": 159,
    "start_time": "2022-07-22T16:33:01.360Z"
   },
   {
    "duration": 1,
    "start_time": "2022-07-22T16:33:01.522Z"
   },
   {
    "duration": 0,
    "start_time": "2022-07-22T16:33:01.524Z"
   },
   {
    "duration": 0,
    "start_time": "2022-07-22T16:33:01.525Z"
   },
   {
    "duration": 0,
    "start_time": "2022-07-22T16:33:01.525Z"
   },
   {
    "duration": 1183,
    "start_time": "2022-07-22T16:48:25.218Z"
   },
   {
    "duration": 81,
    "start_time": "2022-07-22T16:48:26.403Z"
   },
   {
    "duration": 15,
    "start_time": "2022-07-22T16:48:26.486Z"
   },
   {
    "duration": 14,
    "start_time": "2022-07-22T16:48:26.503Z"
   },
   {
    "duration": 12,
    "start_time": "2022-07-22T16:48:26.519Z"
   },
   {
    "duration": 11,
    "start_time": "2022-07-22T16:48:26.532Z"
   },
   {
    "duration": 15,
    "start_time": "2022-07-22T16:48:26.544Z"
   },
   {
    "duration": 11,
    "start_time": "2022-07-22T16:48:26.560Z"
   },
   {
    "duration": 13,
    "start_time": "2022-07-22T16:48:26.573Z"
   },
   {
    "duration": 36,
    "start_time": "2022-07-22T16:48:26.590Z"
   },
   {
    "duration": 6,
    "start_time": "2022-07-22T16:48:26.628Z"
   },
   {
    "duration": 6,
    "start_time": "2022-07-22T16:48:26.635Z"
   },
   {
    "duration": 13,
    "start_time": "2022-07-22T16:48:26.643Z"
   },
   {
    "duration": 1501,
    "start_time": "2022-07-22T16:48:26.658Z"
   },
   {
    "duration": 5,
    "start_time": "2022-07-22T16:48:28.161Z"
   },
   {
    "duration": 16,
    "start_time": "2022-07-22T16:48:28.167Z"
   },
   {
    "duration": 8,
    "start_time": "2022-07-22T16:48:28.185Z"
   },
   {
    "duration": 74,
    "start_time": "2022-07-22T16:48:28.195Z"
   },
   {
    "duration": 12,
    "start_time": "2022-07-22T16:48:28.271Z"
   },
   {
    "duration": 15,
    "start_time": "2022-07-22T16:48:28.284Z"
   },
   {
    "duration": 36,
    "start_time": "2022-07-22T16:48:28.301Z"
   },
   {
    "duration": 112,
    "start_time": "2022-07-22T16:48:28.339Z"
   },
   {
    "duration": 0,
    "start_time": "2022-07-22T16:48:28.452Z"
   },
   {
    "duration": 0,
    "start_time": "2022-07-22T16:48:28.454Z"
   },
   {
    "duration": 0,
    "start_time": "2022-07-22T16:48:28.455Z"
   },
   {
    "duration": 0,
    "start_time": "2022-07-22T16:48:28.456Z"
   },
   {
    "duration": 1231,
    "start_time": "2022-07-22T16:50:17.866Z"
   },
   {
    "duration": 77,
    "start_time": "2022-07-22T16:50:19.099Z"
   },
   {
    "duration": 15,
    "start_time": "2022-07-22T16:50:19.179Z"
   },
   {
    "duration": 12,
    "start_time": "2022-07-22T16:50:19.196Z"
   },
   {
    "duration": 16,
    "start_time": "2022-07-22T16:50:19.210Z"
   },
   {
    "duration": 16,
    "start_time": "2022-07-22T16:50:19.228Z"
   },
   {
    "duration": 13,
    "start_time": "2022-07-22T16:50:19.246Z"
   },
   {
    "duration": 9,
    "start_time": "2022-07-22T16:50:19.261Z"
   },
   {
    "duration": 17,
    "start_time": "2022-07-22T16:50:19.272Z"
   },
   {
    "duration": 9,
    "start_time": "2022-07-22T16:50:19.290Z"
   },
   {
    "duration": 21,
    "start_time": "2022-07-22T16:50:19.301Z"
   },
   {
    "duration": 11,
    "start_time": "2022-07-22T16:50:19.325Z"
   },
   {
    "duration": 17,
    "start_time": "2022-07-22T16:50:19.339Z"
   },
   {
    "duration": 1520,
    "start_time": "2022-07-22T16:50:19.358Z"
   },
   {
    "duration": 5,
    "start_time": "2022-07-22T16:50:20.881Z"
   },
   {
    "duration": 39,
    "start_time": "2022-07-22T16:50:20.889Z"
   },
   {
    "duration": 27,
    "start_time": "2022-07-22T16:50:20.930Z"
   },
   {
    "duration": 64,
    "start_time": "2022-07-22T16:50:20.959Z"
   },
   {
    "duration": 17,
    "start_time": "2022-07-22T16:50:21.026Z"
   },
   {
    "duration": 19,
    "start_time": "2022-07-22T16:50:21.046Z"
   },
   {
    "duration": 22,
    "start_time": "2022-07-22T16:50:21.067Z"
   },
   {
    "duration": 134,
    "start_time": "2022-07-22T16:50:21.091Z"
   },
   {
    "duration": 0,
    "start_time": "2022-07-22T16:50:21.228Z"
   },
   {
    "duration": 0,
    "start_time": "2022-07-22T16:50:21.229Z"
   },
   {
    "duration": 1,
    "start_time": "2022-07-22T16:50:21.230Z"
   },
   {
    "duration": 0,
    "start_time": "2022-07-22T16:50:21.232Z"
   },
   {
    "duration": 1207,
    "start_time": "2022-07-22T16:52:55.359Z"
   },
   {
    "duration": 74,
    "start_time": "2022-07-22T16:52:56.568Z"
   },
   {
    "duration": 13,
    "start_time": "2022-07-22T16:52:56.644Z"
   },
   {
    "duration": 11,
    "start_time": "2022-07-22T16:52:56.659Z"
   },
   {
    "duration": 17,
    "start_time": "2022-07-22T16:52:56.672Z"
   },
   {
    "duration": 10,
    "start_time": "2022-07-22T16:52:56.690Z"
   },
   {
    "duration": 29,
    "start_time": "2022-07-22T16:52:56.702Z"
   },
   {
    "duration": 16,
    "start_time": "2022-07-22T16:52:56.733Z"
   },
   {
    "duration": 14,
    "start_time": "2022-07-22T16:52:56.750Z"
   },
   {
    "duration": 14,
    "start_time": "2022-07-22T16:52:56.767Z"
   },
   {
    "duration": 6,
    "start_time": "2022-07-22T16:52:56.782Z"
   },
   {
    "duration": 11,
    "start_time": "2022-07-22T16:52:56.790Z"
   },
   {
    "duration": 30,
    "start_time": "2022-07-22T16:52:56.803Z"
   },
   {
    "duration": 1558,
    "start_time": "2022-07-22T16:52:56.836Z"
   },
   {
    "duration": 5,
    "start_time": "2022-07-22T16:52:58.396Z"
   },
   {
    "duration": 34,
    "start_time": "2022-07-22T16:52:58.403Z"
   },
   {
    "duration": 17,
    "start_time": "2022-07-22T16:52:58.440Z"
   },
   {
    "duration": 65,
    "start_time": "2022-07-22T16:52:58.458Z"
   },
   {
    "duration": 13,
    "start_time": "2022-07-22T16:52:58.525Z"
   },
   {
    "duration": 24,
    "start_time": "2022-07-22T16:52:58.541Z"
   },
   {
    "duration": 28,
    "start_time": "2022-07-22T16:52:58.566Z"
   },
   {
    "duration": 122,
    "start_time": "2022-07-22T16:52:58.595Z"
   },
   {
    "duration": 0,
    "start_time": "2022-07-22T16:52:58.718Z"
   },
   {
    "duration": 0,
    "start_time": "2022-07-22T16:52:58.723Z"
   },
   {
    "duration": 0,
    "start_time": "2022-07-22T16:52:58.724Z"
   },
   {
    "duration": 0,
    "start_time": "2022-07-22T16:52:58.725Z"
   },
   {
    "duration": 1168,
    "start_time": "2022-07-22T16:54:31.930Z"
   },
   {
    "duration": 69,
    "start_time": "2022-07-22T16:54:33.100Z"
   },
   {
    "duration": 15,
    "start_time": "2022-07-22T16:54:33.171Z"
   },
   {
    "duration": 18,
    "start_time": "2022-07-22T16:54:33.188Z"
   },
   {
    "duration": 12,
    "start_time": "2022-07-22T16:54:33.209Z"
   },
   {
    "duration": 10,
    "start_time": "2022-07-22T16:54:33.223Z"
   },
   {
    "duration": 11,
    "start_time": "2022-07-22T16:54:33.235Z"
   },
   {
    "duration": 17,
    "start_time": "2022-07-22T16:54:33.248Z"
   },
   {
    "duration": 16,
    "start_time": "2022-07-22T16:54:33.267Z"
   },
   {
    "duration": 11,
    "start_time": "2022-07-22T16:54:33.284Z"
   },
   {
    "duration": 29,
    "start_time": "2022-07-22T16:54:33.296Z"
   },
   {
    "duration": 7,
    "start_time": "2022-07-22T16:54:33.327Z"
   },
   {
    "duration": 15,
    "start_time": "2022-07-22T16:54:33.336Z"
   },
   {
    "duration": 1479,
    "start_time": "2022-07-22T16:54:33.354Z"
   },
   {
    "duration": 4,
    "start_time": "2022-07-22T16:54:34.835Z"
   },
   {
    "duration": 13,
    "start_time": "2022-07-22T16:54:34.841Z"
   },
   {
    "duration": 9,
    "start_time": "2022-07-22T16:54:34.856Z"
   },
   {
    "duration": 79,
    "start_time": "2022-07-22T16:54:34.867Z"
   },
   {
    "duration": 15,
    "start_time": "2022-07-22T16:54:34.949Z"
   },
   {
    "duration": 18,
    "start_time": "2022-07-22T16:54:34.966Z"
   },
   {
    "duration": 19,
    "start_time": "2022-07-22T16:54:34.986Z"
   },
   {
    "duration": 105,
    "start_time": "2022-07-22T16:54:35.023Z"
   },
   {
    "duration": 0,
    "start_time": "2022-07-22T16:54:35.130Z"
   },
   {
    "duration": 0,
    "start_time": "2022-07-22T16:54:35.131Z"
   },
   {
    "duration": 0,
    "start_time": "2022-07-22T16:54:35.133Z"
   },
   {
    "duration": 0,
    "start_time": "2022-07-22T16:54:35.134Z"
   },
   {
    "duration": 1216,
    "start_time": "2022-07-22T16:57:02.560Z"
   },
   {
    "duration": 86,
    "start_time": "2022-07-22T16:57:03.779Z"
   },
   {
    "duration": 14,
    "start_time": "2022-07-22T16:57:03.867Z"
   },
   {
    "duration": 34,
    "start_time": "2022-07-22T16:57:03.883Z"
   },
   {
    "duration": 33,
    "start_time": "2022-07-22T16:57:03.920Z"
   },
   {
    "duration": 19,
    "start_time": "2022-07-22T16:57:03.955Z"
   },
   {
    "duration": 23,
    "start_time": "2022-07-22T16:57:03.976Z"
   },
   {
    "duration": 12,
    "start_time": "2022-07-22T16:57:04.003Z"
   },
   {
    "duration": 16,
    "start_time": "2022-07-22T16:57:04.017Z"
   },
   {
    "duration": 20,
    "start_time": "2022-07-22T16:57:04.035Z"
   },
   {
    "duration": 10,
    "start_time": "2022-07-22T16:57:04.057Z"
   },
   {
    "duration": 22,
    "start_time": "2022-07-22T16:57:04.069Z"
   },
   {
    "duration": 23,
    "start_time": "2022-07-22T16:57:04.093Z"
   },
   {
    "duration": 1455,
    "start_time": "2022-07-22T16:57:04.119Z"
   },
   {
    "duration": 4,
    "start_time": "2022-07-22T16:57:05.576Z"
   },
   {
    "duration": 14,
    "start_time": "2022-07-22T16:57:05.582Z"
   },
   {
    "duration": 29,
    "start_time": "2022-07-22T16:57:05.597Z"
   },
   {
    "duration": 69,
    "start_time": "2022-07-22T16:57:05.628Z"
   },
   {
    "duration": 14,
    "start_time": "2022-07-22T16:57:05.699Z"
   },
   {
    "duration": 19,
    "start_time": "2022-07-22T16:57:05.715Z"
   },
   {
    "duration": 19,
    "start_time": "2022-07-22T16:57:05.736Z"
   },
   {
    "duration": 110,
    "start_time": "2022-07-22T16:57:05.757Z"
   },
   {
    "duration": 0,
    "start_time": "2022-07-22T16:57:05.869Z"
   },
   {
    "duration": 0,
    "start_time": "2022-07-22T16:57:05.870Z"
   },
   {
    "duration": 0,
    "start_time": "2022-07-22T16:57:05.872Z"
   },
   {
    "duration": 0,
    "start_time": "2022-07-22T16:57:05.873Z"
   },
   {
    "duration": 1171,
    "start_time": "2022-07-22T16:59:22.237Z"
   },
   {
    "duration": 71,
    "start_time": "2022-07-22T16:59:23.410Z"
   },
   {
    "duration": 12,
    "start_time": "2022-07-22T16:59:23.483Z"
   },
   {
    "duration": 12,
    "start_time": "2022-07-22T16:59:23.497Z"
   },
   {
    "duration": 13,
    "start_time": "2022-07-22T16:59:23.512Z"
   },
   {
    "duration": 10,
    "start_time": "2022-07-22T16:59:23.527Z"
   },
   {
    "duration": 11,
    "start_time": "2022-07-22T16:59:23.538Z"
   },
   {
    "duration": 8,
    "start_time": "2022-07-22T16:59:23.551Z"
   },
   {
    "duration": 10,
    "start_time": "2022-07-22T16:59:23.561Z"
   },
   {
    "duration": 8,
    "start_time": "2022-07-22T16:59:23.573Z"
   },
   {
    "duration": 4,
    "start_time": "2022-07-22T16:59:23.583Z"
   },
   {
    "duration": 5,
    "start_time": "2022-07-22T16:59:23.588Z"
   },
   {
    "duration": 37,
    "start_time": "2022-07-22T16:59:23.595Z"
   },
   {
    "duration": 1461,
    "start_time": "2022-07-22T16:59:23.636Z"
   },
   {
    "duration": 5,
    "start_time": "2022-07-22T16:59:25.100Z"
   },
   {
    "duration": 15,
    "start_time": "2022-07-22T16:59:25.122Z"
   },
   {
    "duration": 23,
    "start_time": "2022-07-22T16:59:25.139Z"
   },
   {
    "duration": 65,
    "start_time": "2022-07-22T16:59:25.164Z"
   },
   {
    "duration": 12,
    "start_time": "2022-07-22T16:59:25.230Z"
   },
   {
    "duration": 20,
    "start_time": "2022-07-22T16:59:25.244Z"
   },
   {
    "duration": 16,
    "start_time": "2022-07-22T16:59:25.266Z"
   },
   {
    "duration": 131,
    "start_time": "2022-07-22T16:59:25.283Z"
   },
   {
    "duration": 0,
    "start_time": "2022-07-22T16:59:25.416Z"
   },
   {
    "duration": 0,
    "start_time": "2022-07-22T16:59:25.423Z"
   },
   {
    "duration": 0,
    "start_time": "2022-07-22T16:59:25.425Z"
   },
   {
    "duration": 0,
    "start_time": "2022-07-22T16:59:25.427Z"
   },
   {
    "duration": 1197,
    "start_time": "2022-07-22T17:01:05.659Z"
   },
   {
    "duration": 70,
    "start_time": "2022-07-22T17:01:06.858Z"
   },
   {
    "duration": 14,
    "start_time": "2022-07-22T17:01:06.931Z"
   },
   {
    "duration": 13,
    "start_time": "2022-07-22T17:01:06.947Z"
   },
   {
    "duration": 20,
    "start_time": "2022-07-22T17:01:06.962Z"
   },
   {
    "duration": 19,
    "start_time": "2022-07-22T17:01:06.984Z"
   },
   {
    "duration": 17,
    "start_time": "2022-07-22T17:01:07.005Z"
   },
   {
    "duration": 10,
    "start_time": "2022-07-22T17:01:07.024Z"
   },
   {
    "duration": 28,
    "start_time": "2022-07-22T17:01:07.036Z"
   },
   {
    "duration": 10,
    "start_time": "2022-07-22T17:01:07.067Z"
   },
   {
    "duration": 17,
    "start_time": "2022-07-22T17:01:07.079Z"
   },
   {
    "duration": 9,
    "start_time": "2022-07-22T17:01:07.098Z"
   },
   {
    "duration": 20,
    "start_time": "2022-07-22T17:01:07.109Z"
   },
   {
    "duration": 1579,
    "start_time": "2022-07-22T17:01:07.131Z"
   },
   {
    "duration": 11,
    "start_time": "2022-07-22T17:01:08.712Z"
   },
   {
    "duration": 16,
    "start_time": "2022-07-22T17:01:08.725Z"
   },
   {
    "duration": 14,
    "start_time": "2022-07-22T17:01:08.743Z"
   },
   {
    "duration": 83,
    "start_time": "2022-07-22T17:01:08.759Z"
   },
   {
    "duration": 12,
    "start_time": "2022-07-22T17:01:08.844Z"
   },
   {
    "duration": 24,
    "start_time": "2022-07-22T17:01:08.858Z"
   },
   {
    "duration": 17,
    "start_time": "2022-07-22T17:01:08.884Z"
   },
   {
    "duration": 118,
    "start_time": "2022-07-22T17:01:08.923Z"
   },
   {
    "duration": 0,
    "start_time": "2022-07-22T17:01:09.043Z"
   },
   {
    "duration": 0,
    "start_time": "2022-07-22T17:01:09.045Z"
   },
   {
    "duration": 0,
    "start_time": "2022-07-22T17:01:09.046Z"
   },
   {
    "duration": 0,
    "start_time": "2022-07-22T17:01:09.048Z"
   },
   {
    "duration": 1287,
    "start_time": "2022-07-22T17:02:13.762Z"
   },
   {
    "duration": 61,
    "start_time": "2022-07-22T17:02:15.051Z"
   },
   {
    "duration": 14,
    "start_time": "2022-07-22T17:02:15.113Z"
   },
   {
    "duration": 14,
    "start_time": "2022-07-22T17:02:15.129Z"
   },
   {
    "duration": 14,
    "start_time": "2022-07-22T17:02:15.147Z"
   },
   {
    "duration": 7,
    "start_time": "2022-07-22T17:02:15.163Z"
   },
   {
    "duration": 14,
    "start_time": "2022-07-22T17:02:15.171Z"
   },
   {
    "duration": 15,
    "start_time": "2022-07-22T17:02:15.186Z"
   },
   {
    "duration": 12,
    "start_time": "2022-07-22T17:02:15.230Z"
   },
   {
    "duration": 24,
    "start_time": "2022-07-22T17:02:15.244Z"
   },
   {
    "duration": 18,
    "start_time": "2022-07-22T17:02:15.270Z"
   },
   {
    "duration": 40,
    "start_time": "2022-07-22T17:02:15.290Z"
   },
   {
    "duration": 31,
    "start_time": "2022-07-22T17:02:15.332Z"
   },
   {
    "duration": 1575,
    "start_time": "2022-07-22T17:02:15.366Z"
   },
   {
    "duration": 5,
    "start_time": "2022-07-22T17:02:16.943Z"
   },
   {
    "duration": 30,
    "start_time": "2022-07-22T17:02:16.950Z"
   },
   {
    "duration": 45,
    "start_time": "2022-07-22T17:02:16.982Z"
   },
   {
    "duration": 85,
    "start_time": "2022-07-22T17:02:17.029Z"
   },
   {
    "duration": 14,
    "start_time": "2022-07-22T17:02:17.116Z"
   },
   {
    "duration": 39,
    "start_time": "2022-07-22T17:02:17.133Z"
   },
   {
    "duration": 24,
    "start_time": "2022-07-22T17:02:17.173Z"
   },
   {
    "duration": 142,
    "start_time": "2022-07-22T17:02:17.199Z"
   },
   {
    "duration": 0,
    "start_time": "2022-07-22T17:02:17.343Z"
   },
   {
    "duration": 0,
    "start_time": "2022-07-22T17:02:17.345Z"
   },
   {
    "duration": 0,
    "start_time": "2022-07-22T17:02:17.346Z"
   },
   {
    "duration": 0,
    "start_time": "2022-07-22T17:02:17.347Z"
   },
   {
    "duration": 1219,
    "start_time": "2022-07-22T17:02:58.911Z"
   },
   {
    "duration": 79,
    "start_time": "2022-07-22T17:03:00.133Z"
   },
   {
    "duration": 14,
    "start_time": "2022-07-22T17:03:00.214Z"
   },
   {
    "duration": 22,
    "start_time": "2022-07-22T17:03:00.231Z"
   },
   {
    "duration": 20,
    "start_time": "2022-07-22T17:03:00.255Z"
   },
   {
    "duration": 18,
    "start_time": "2022-07-22T17:03:00.277Z"
   },
   {
    "duration": 16,
    "start_time": "2022-07-22T17:03:00.297Z"
   },
   {
    "duration": 9,
    "start_time": "2022-07-22T17:03:00.315Z"
   },
   {
    "duration": 35,
    "start_time": "2022-07-22T17:03:00.327Z"
   },
   {
    "duration": 21,
    "start_time": "2022-07-22T17:03:00.366Z"
   },
   {
    "duration": 15,
    "start_time": "2022-07-22T17:03:00.389Z"
   },
   {
    "duration": 26,
    "start_time": "2022-07-22T17:03:00.406Z"
   },
   {
    "duration": 42,
    "start_time": "2022-07-22T17:03:00.434Z"
   },
   {
    "duration": 1576,
    "start_time": "2022-07-22T17:03:00.479Z"
   },
   {
    "duration": 4,
    "start_time": "2022-07-22T17:03:02.058Z"
   },
   {
    "duration": 22,
    "start_time": "2022-07-22T17:03:02.063Z"
   },
   {
    "duration": 11,
    "start_time": "2022-07-22T17:03:02.087Z"
   },
   {
    "duration": 77,
    "start_time": "2022-07-22T17:03:02.100Z"
   },
   {
    "duration": 12,
    "start_time": "2022-07-22T17:03:02.178Z"
   },
   {
    "duration": 79,
    "start_time": "2022-07-22T17:03:02.192Z"
   },
   {
    "duration": 11,
    "start_time": "2022-07-22T17:03:02.272Z"
   },
   {
    "duration": 114,
    "start_time": "2022-07-22T17:03:02.285Z"
   },
   {
    "duration": 0,
    "start_time": "2022-07-22T17:03:02.401Z"
   },
   {
    "duration": 0,
    "start_time": "2022-07-22T17:03:02.402Z"
   },
   {
    "duration": 0,
    "start_time": "2022-07-22T17:03:02.403Z"
   },
   {
    "duration": 0,
    "start_time": "2022-07-22T17:03:02.404Z"
   },
   {
    "duration": 12,
    "start_time": "2022-07-22T17:03:31.734Z"
   },
   {
    "duration": 43,
    "start_time": "2022-07-22T17:05:51.062Z"
   },
   {
    "duration": 14,
    "start_time": "2022-07-22T17:06:07.659Z"
   },
   {
    "duration": 1242,
    "start_time": "2022-07-22T17:10:45.786Z"
   },
   {
    "duration": 177,
    "start_time": "2022-07-22T17:10:47.031Z"
   },
   {
    "duration": 15,
    "start_time": "2022-07-22T17:10:47.210Z"
   },
   {
    "duration": 36,
    "start_time": "2022-07-22T17:10:47.228Z"
   },
   {
    "duration": 52,
    "start_time": "2022-07-22T17:10:47.268Z"
   },
   {
    "duration": 57,
    "start_time": "2022-07-22T17:10:47.323Z"
   },
   {
    "duration": 44,
    "start_time": "2022-07-22T17:10:47.382Z"
   },
   {
    "duration": 43,
    "start_time": "2022-07-22T17:10:47.428Z"
   },
   {
    "duration": 42,
    "start_time": "2022-07-22T17:10:47.473Z"
   },
   {
    "duration": 32,
    "start_time": "2022-07-22T17:10:47.519Z"
   },
   {
    "duration": 24,
    "start_time": "2022-07-22T17:10:47.553Z"
   },
   {
    "duration": 29,
    "start_time": "2022-07-22T17:10:47.578Z"
   },
   {
    "duration": 35,
    "start_time": "2022-07-22T17:10:47.609Z"
   },
   {
    "duration": 1660,
    "start_time": "2022-07-22T17:10:47.646Z"
   },
   {
    "duration": 25,
    "start_time": "2022-07-22T17:10:49.308Z"
   },
   {
    "duration": 30,
    "start_time": "2022-07-22T17:10:49.336Z"
   },
   {
    "duration": 21,
    "start_time": "2022-07-22T17:10:49.368Z"
   },
   {
    "duration": 92,
    "start_time": "2022-07-22T17:10:49.391Z"
   },
   {
    "duration": 14,
    "start_time": "2022-07-22T17:10:49.486Z"
   },
   {
    "duration": 31,
    "start_time": "2022-07-22T17:10:49.501Z"
   },
   {
    "duration": 21,
    "start_time": "2022-07-22T17:10:49.534Z"
   },
   {
    "duration": 50,
    "start_time": "2022-07-22T17:10:49.557Z"
   },
   {
    "duration": 19,
    "start_time": "2022-07-22T17:10:49.609Z"
   },
   {
    "duration": 117,
    "start_time": "2022-07-22T17:10:49.630Z"
   },
   {
    "duration": 0,
    "start_time": "2022-07-22T17:10:49.750Z"
   },
   {
    "duration": 0,
    "start_time": "2022-07-22T17:10:49.752Z"
   },
   {
    "duration": 0,
    "start_time": "2022-07-22T17:10:49.753Z"
   },
   {
    "duration": 0,
    "start_time": "2022-07-22T17:10:49.755Z"
   },
   {
    "duration": 9,
    "start_time": "2022-07-22T17:11:59.680Z"
   },
   {
    "duration": 14,
    "start_time": "2022-07-22T17:12:05.335Z"
   },
   {
    "duration": 25,
    "start_time": "2022-07-22T17:12:22.737Z"
   },
   {
    "duration": 15,
    "start_time": "2022-07-22T17:32:10.358Z"
   },
   {
    "duration": 20,
    "start_time": "2022-07-22T17:32:38.596Z"
   },
   {
    "duration": 22,
    "start_time": "2022-07-22T17:33:16.655Z"
   },
   {
    "duration": 15,
    "start_time": "2022-07-22T17:34:46.280Z"
   },
   {
    "duration": 12,
    "start_time": "2022-07-22T17:34:53.861Z"
   },
   {
    "duration": 39,
    "start_time": "2022-07-22T17:36:57.725Z"
   },
   {
    "duration": 1382,
    "start_time": "2022-07-22T17:37:04.133Z"
   },
   {
    "duration": 74,
    "start_time": "2022-07-22T17:37:05.518Z"
   },
   {
    "duration": 14,
    "start_time": "2022-07-22T17:37:05.594Z"
   },
   {
    "duration": 33,
    "start_time": "2022-07-22T17:37:05.610Z"
   },
   {
    "duration": 25,
    "start_time": "2022-07-22T17:37:05.646Z"
   },
   {
    "duration": 16,
    "start_time": "2022-07-22T17:37:05.673Z"
   },
   {
    "duration": 17,
    "start_time": "2022-07-22T17:37:05.691Z"
   },
   {
    "duration": 23,
    "start_time": "2022-07-22T17:37:05.710Z"
   },
   {
    "duration": 22,
    "start_time": "2022-07-22T17:37:05.735Z"
   },
   {
    "duration": 15,
    "start_time": "2022-07-22T17:37:05.760Z"
   },
   {
    "duration": 9,
    "start_time": "2022-07-22T17:37:05.776Z"
   },
   {
    "duration": 9,
    "start_time": "2022-07-22T17:37:05.787Z"
   },
   {
    "duration": 21,
    "start_time": "2022-07-22T17:37:05.797Z"
   },
   {
    "duration": 1648,
    "start_time": "2022-07-22T17:37:05.819Z"
   },
   {
    "duration": 5,
    "start_time": "2022-07-22T17:37:07.469Z"
   },
   {
    "duration": 16,
    "start_time": "2022-07-22T17:37:07.476Z"
   },
   {
    "duration": 34,
    "start_time": "2022-07-22T17:37:07.493Z"
   },
   {
    "duration": 80,
    "start_time": "2022-07-22T17:37:07.529Z"
   },
   {
    "duration": 14,
    "start_time": "2022-07-22T17:37:07.611Z"
   },
   {
    "duration": 28,
    "start_time": "2022-07-22T17:37:07.628Z"
   },
   {
    "duration": 11,
    "start_time": "2022-07-22T17:37:07.658Z"
   },
   {
    "duration": 60,
    "start_time": "2022-07-22T17:37:07.671Z"
   },
   {
    "duration": 15,
    "start_time": "2022-07-22T17:37:07.733Z"
   },
   {
    "duration": 33,
    "start_time": "2022-07-22T17:37:07.750Z"
   },
   {
    "duration": 4,
    "start_time": "2022-07-22T17:41:31.480Z"
   },
   {
    "duration": 4,
    "start_time": "2022-07-22T17:41:53.257Z"
   },
   {
    "duration": 27,
    "start_time": "2022-07-22T17:42:06.889Z"
   },
   {
    "duration": 37,
    "start_time": "2022-07-22T17:42:16.371Z"
   },
   {
    "duration": 52,
    "start_time": "2022-07-22T17:42:42.099Z"
   },
   {
    "duration": 34,
    "start_time": "2022-07-22T17:44:49.665Z"
   },
   {
    "duration": 1567,
    "start_time": "2022-07-23T11:41:25.681Z"
   },
   {
    "duration": 188,
    "start_time": "2022-07-23T11:41:27.250Z"
   },
   {
    "duration": 13,
    "start_time": "2022-07-23T11:41:27.440Z"
   },
   {
    "duration": 11,
    "start_time": "2022-07-23T11:41:27.455Z"
   },
   {
    "duration": 12,
    "start_time": "2022-07-23T11:41:27.468Z"
   },
   {
    "duration": 6,
    "start_time": "2022-07-23T11:41:27.481Z"
   },
   {
    "duration": 22,
    "start_time": "2022-07-23T11:41:27.489Z"
   },
   {
    "duration": 11,
    "start_time": "2022-07-23T11:41:27.513Z"
   },
   {
    "duration": 10,
    "start_time": "2022-07-23T11:41:27.526Z"
   },
   {
    "duration": 9,
    "start_time": "2022-07-23T11:41:27.538Z"
   },
   {
    "duration": 4,
    "start_time": "2022-07-23T11:41:27.549Z"
   },
   {
    "duration": 5,
    "start_time": "2022-07-23T11:41:27.554Z"
   },
   {
    "duration": 44,
    "start_time": "2022-07-23T11:41:27.561Z"
   },
   {
    "duration": 1425,
    "start_time": "2022-07-23T11:41:27.609Z"
   },
   {
    "duration": 4,
    "start_time": "2022-07-23T11:41:29.036Z"
   },
   {
    "duration": 22,
    "start_time": "2022-07-23T11:41:29.043Z"
   },
   {
    "duration": 11,
    "start_time": "2022-07-23T11:41:29.068Z"
   },
   {
    "duration": 80,
    "start_time": "2022-07-23T11:41:29.081Z"
   },
   {
    "duration": 12,
    "start_time": "2022-07-23T11:41:29.163Z"
   },
   {
    "duration": 20,
    "start_time": "2022-07-23T11:41:29.176Z"
   },
   {
    "duration": 10,
    "start_time": "2022-07-23T11:41:29.205Z"
   },
   {
    "duration": 41,
    "start_time": "2022-07-23T11:41:29.217Z"
   },
   {
    "duration": 12,
    "start_time": "2022-07-23T11:41:29.260Z"
   },
   {
    "duration": 37,
    "start_time": "2022-07-23T11:41:29.273Z"
   },
   {
    "duration": 33,
    "start_time": "2022-07-23T11:41:29.312Z"
   },
   {
    "duration": 563,
    "start_time": "2022-07-23T11:41:29.347Z"
   },
   {
    "duration": 121,
    "start_time": "2022-07-23T11:41:29.912Z"
   },
   {
    "duration": 0,
    "start_time": "2022-07-23T11:41:30.035Z"
   },
   {
    "duration": 0,
    "start_time": "2022-07-23T11:41:30.036Z"
   },
   {
    "duration": 0,
    "start_time": "2022-07-23T11:41:30.037Z"
   },
   {
    "duration": 0,
    "start_time": "2022-07-23T11:41:30.039Z"
   },
   {
    "duration": 1349,
    "start_time": "2022-07-23T11:49:15.932Z"
   },
   {
    "duration": 114,
    "start_time": "2022-07-23T11:49:17.284Z"
   },
   {
    "duration": 20,
    "start_time": "2022-07-23T11:49:17.400Z"
   },
   {
    "duration": 25,
    "start_time": "2022-07-23T11:49:17.427Z"
   },
   {
    "duration": 13,
    "start_time": "2022-07-23T11:49:17.455Z"
   },
   {
    "duration": 14,
    "start_time": "2022-07-23T11:49:17.471Z"
   },
   {
    "duration": 22,
    "start_time": "2022-07-23T11:49:17.488Z"
   },
   {
    "duration": 20,
    "start_time": "2022-07-23T11:49:17.512Z"
   },
   {
    "duration": 16,
    "start_time": "2022-07-23T11:49:17.534Z"
   },
   {
    "duration": 9,
    "start_time": "2022-07-23T11:49:17.552Z"
   },
   {
    "duration": 11,
    "start_time": "2022-07-23T11:49:17.562Z"
   },
   {
    "duration": 14,
    "start_time": "2022-07-23T11:49:17.575Z"
   },
   {
    "duration": 20,
    "start_time": "2022-07-23T11:49:17.608Z"
   },
   {
    "duration": 13,
    "start_time": "2022-07-23T11:49:17.631Z"
   },
   {
    "duration": 137,
    "start_time": "2022-07-23T11:49:17.646Z"
   },
   {
    "duration": 0,
    "start_time": "2022-07-23T11:49:17.785Z"
   },
   {
    "duration": 0,
    "start_time": "2022-07-23T11:49:17.786Z"
   },
   {
    "duration": 0,
    "start_time": "2022-07-23T11:49:17.788Z"
   },
   {
    "duration": 0,
    "start_time": "2022-07-23T11:49:17.790Z"
   },
   {
    "duration": 0,
    "start_time": "2022-07-23T11:49:17.791Z"
   },
   {
    "duration": 0,
    "start_time": "2022-07-23T11:49:17.793Z"
   },
   {
    "duration": 0,
    "start_time": "2022-07-23T11:49:17.809Z"
   },
   {
    "duration": 0,
    "start_time": "2022-07-23T11:49:17.811Z"
   },
   {
    "duration": 0,
    "start_time": "2022-07-23T11:49:17.817Z"
   },
   {
    "duration": 0,
    "start_time": "2022-07-23T11:49:17.818Z"
   },
   {
    "duration": 0,
    "start_time": "2022-07-23T11:49:17.818Z"
   },
   {
    "duration": 0,
    "start_time": "2022-07-23T11:49:17.819Z"
   },
   {
    "duration": 212,
    "start_time": "2022-07-23T12:11:39.647Z"
   },
   {
    "duration": 171,
    "start_time": "2022-07-23T12:12:39.346Z"
   },
   {
    "duration": 140,
    "start_time": "2022-07-23T12:13:07.995Z"
   },
   {
    "duration": 128,
    "start_time": "2022-07-23T12:13:21.330Z"
   },
   {
    "duration": 118,
    "start_time": "2022-07-23T12:13:28.147Z"
   },
   {
    "duration": 146,
    "start_time": "2022-07-23T12:13:53.157Z"
   },
   {
    "duration": 114,
    "start_time": "2022-07-23T12:13:58.421Z"
   },
   {
    "duration": 128,
    "start_time": "2022-07-23T12:14:03.712Z"
   },
   {
    "duration": 136,
    "start_time": "2022-07-23T12:14:19.484Z"
   },
   {
    "duration": 208,
    "start_time": "2022-07-23T12:14:39.729Z"
   },
   {
    "duration": 18,
    "start_time": "2022-07-23T12:15:53.305Z"
   },
   {
    "duration": 55,
    "start_time": "2022-07-23T12:16:11.599Z"
   },
   {
    "duration": 24,
    "start_time": "2022-07-23T12:16:14.104Z"
   },
   {
    "duration": 25,
    "start_time": "2022-07-23T12:20:47.495Z"
   },
   {
    "duration": 3312,
    "start_time": "2022-07-23T12:22:16.360Z"
   },
   {
    "duration": 13,
    "start_time": "2022-07-23T12:24:43.384Z"
   },
   {
    "duration": 38,
    "start_time": "2022-07-23T12:27:28.961Z"
   },
   {
    "duration": 29,
    "start_time": "2022-07-23T12:27:38.898Z"
   },
   {
    "duration": 33,
    "start_time": "2022-07-23T12:28:07.359Z"
   },
   {
    "duration": 12,
    "start_time": "2022-07-23T12:28:08.866Z"
   },
   {
    "duration": 44,
    "start_time": "2022-07-23T12:28:22.440Z"
   },
   {
    "duration": 20,
    "start_time": "2022-07-23T12:29:04.434Z"
   },
   {
    "duration": 21,
    "start_time": "2022-07-23T12:29:13.249Z"
   },
   {
    "duration": 33,
    "start_time": "2022-07-23T12:29:33.091Z"
   },
   {
    "duration": 1325,
    "start_time": "2022-07-23T12:30:30.105Z"
   },
   {
    "duration": 104,
    "start_time": "2022-07-23T12:30:31.432Z"
   },
   {
    "duration": 13,
    "start_time": "2022-07-23T12:30:31.538Z"
   },
   {
    "duration": 29,
    "start_time": "2022-07-23T12:30:31.553Z"
   },
   {
    "duration": 37,
    "start_time": "2022-07-23T12:30:31.584Z"
   },
   {
    "duration": 9,
    "start_time": "2022-07-23T12:30:31.626Z"
   },
   {
    "duration": 21,
    "start_time": "2022-07-23T12:30:31.637Z"
   },
   {
    "duration": 13,
    "start_time": "2022-07-23T12:30:31.661Z"
   },
   {
    "duration": 25,
    "start_time": "2022-07-23T12:30:31.676Z"
   },
   {
    "duration": 23,
    "start_time": "2022-07-23T12:30:31.705Z"
   },
   {
    "duration": 9,
    "start_time": "2022-07-23T12:30:31.731Z"
   },
   {
    "duration": 21,
    "start_time": "2022-07-23T12:30:31.742Z"
   },
   {
    "duration": 29,
    "start_time": "2022-07-23T12:30:31.765Z"
   },
   {
    "duration": 46,
    "start_time": "2022-07-23T12:30:31.797Z"
   },
   {
    "duration": 16,
    "start_time": "2022-07-23T12:30:31.845Z"
   },
   {
    "duration": 131,
    "start_time": "2022-07-23T12:30:31.863Z"
   },
   {
    "duration": 0,
    "start_time": "2022-07-23T12:30:31.996Z"
   },
   {
    "duration": 0,
    "start_time": "2022-07-23T12:30:31.997Z"
   },
   {
    "duration": 0,
    "start_time": "2022-07-23T12:30:31.999Z"
   },
   {
    "duration": 0,
    "start_time": "2022-07-23T12:30:32.004Z"
   },
   {
    "duration": 0,
    "start_time": "2022-07-23T12:30:32.005Z"
   },
   {
    "duration": 0,
    "start_time": "2022-07-23T12:30:32.007Z"
   },
   {
    "duration": 0,
    "start_time": "2022-07-23T12:30:32.009Z"
   },
   {
    "duration": 0,
    "start_time": "2022-07-23T12:30:32.011Z"
   },
   {
    "duration": 1,
    "start_time": "2022-07-23T12:30:32.013Z"
   },
   {
    "duration": 0,
    "start_time": "2022-07-23T12:30:32.015Z"
   },
   {
    "duration": 1,
    "start_time": "2022-07-23T12:30:32.017Z"
   },
   {
    "duration": 0,
    "start_time": "2022-07-23T12:30:32.019Z"
   },
   {
    "duration": 0,
    "start_time": "2022-07-23T12:30:32.021Z"
   },
   {
    "duration": 0,
    "start_time": "2022-07-23T12:30:32.023Z"
   },
   {
    "duration": 0,
    "start_time": "2022-07-23T12:30:32.025Z"
   },
   {
    "duration": 0,
    "start_time": "2022-07-23T12:30:32.027Z"
   },
   {
    "duration": 0,
    "start_time": "2022-07-23T12:30:32.028Z"
   },
   {
    "duration": 0,
    "start_time": "2022-07-23T12:30:32.029Z"
   },
   {
    "duration": 11,
    "start_time": "2022-07-23T12:31:52.992Z"
   },
   {
    "duration": 9,
    "start_time": "2022-07-23T12:32:50.383Z"
   },
   {
    "duration": 75,
    "start_time": "2022-07-23T12:33:34.549Z"
   },
   {
    "duration": 7,
    "start_time": "2022-07-23T12:33:42.197Z"
   },
   {
    "duration": 6,
    "start_time": "2022-07-23T12:33:58.587Z"
   },
   {
    "duration": 6,
    "start_time": "2022-07-23T12:34:10.590Z"
   },
   {
    "duration": 14,
    "start_time": "2022-07-23T12:37:20.462Z"
   },
   {
    "duration": 8,
    "start_time": "2022-07-23T12:38:26.933Z"
   },
   {
    "duration": 8,
    "start_time": "2022-07-23T12:44:42.183Z"
   },
   {
    "duration": 47,
    "start_time": "2022-07-23T12:46:10.339Z"
   },
   {
    "duration": 61,
    "start_time": "2022-07-23T12:46:26.764Z"
   },
   {
    "duration": 52,
    "start_time": "2022-07-23T12:46:48.742Z"
   },
   {
    "duration": 65,
    "start_time": "2022-07-23T12:47:13.010Z"
   },
   {
    "duration": 79,
    "start_time": "2022-07-23T12:47:41.092Z"
   },
   {
    "duration": 52,
    "start_time": "2022-07-23T12:47:48.956Z"
   },
   {
    "duration": 14,
    "start_time": "2022-07-23T12:48:16.633Z"
   },
   {
    "duration": 54,
    "start_time": "2022-07-23T12:48:25.909Z"
   },
   {
    "duration": 49,
    "start_time": "2022-07-23T12:48:41.982Z"
   },
   {
    "duration": 8,
    "start_time": "2022-07-23T12:50:11.477Z"
   },
   {
    "duration": 12,
    "start_time": "2022-07-23T12:50:15.660Z"
   },
   {
    "duration": 41,
    "start_time": "2022-07-23T12:50:41.922Z"
   },
   {
    "duration": 13,
    "start_time": "2022-07-23T12:50:54.726Z"
   },
   {
    "duration": 6,
    "start_time": "2022-07-23T12:52:20.687Z"
   },
   {
    "duration": 10,
    "start_time": "2022-07-23T12:55:22.068Z"
   },
   {
    "duration": 1502,
    "start_time": "2022-07-23T12:55:55.403Z"
   },
   {
    "duration": 8,
    "start_time": "2022-07-23T12:56:02.529Z"
   },
   {
    "duration": 36,
    "start_time": "2022-07-23T12:57:45.084Z"
   },
   {
    "duration": 18,
    "start_time": "2022-07-23T12:58:26.099Z"
   },
   {
    "duration": 21,
    "start_time": "2022-07-23T12:59:35.827Z"
   },
   {
    "duration": 16,
    "start_time": "2022-07-23T13:00:01.237Z"
   },
   {
    "duration": 23,
    "start_time": "2022-07-23T13:00:29.182Z"
   },
   {
    "duration": 12,
    "start_time": "2022-07-23T13:01:29.658Z"
   },
   {
    "duration": 12,
    "start_time": "2022-07-23T13:01:46.459Z"
   },
   {
    "duration": 25,
    "start_time": "2022-07-23T13:02:01.445Z"
   },
   {
    "duration": 8,
    "start_time": "2022-07-23T13:02:12.589Z"
   },
   {
    "duration": 1332,
    "start_time": "2022-07-23T13:02:25.944Z"
   },
   {
    "duration": 215,
    "start_time": "2022-07-23T13:02:27.278Z"
   },
   {
    "duration": 19,
    "start_time": "2022-07-23T13:02:27.494Z"
   },
   {
    "duration": 20,
    "start_time": "2022-07-23T13:02:27.515Z"
   },
   {
    "duration": 11,
    "start_time": "2022-07-23T13:02:27.538Z"
   },
   {
    "duration": 9,
    "start_time": "2022-07-23T13:02:27.551Z"
   },
   {
    "duration": 12,
    "start_time": "2022-07-23T13:02:27.562Z"
   },
   {
    "duration": 34,
    "start_time": "2022-07-23T13:02:27.575Z"
   },
   {
    "duration": 14,
    "start_time": "2022-07-23T13:02:27.611Z"
   },
   {
    "duration": 9,
    "start_time": "2022-07-23T13:02:27.628Z"
   },
   {
    "duration": 4,
    "start_time": "2022-07-23T13:02:27.638Z"
   },
   {
    "duration": 6,
    "start_time": "2022-07-23T13:02:27.643Z"
   },
   {
    "duration": 10,
    "start_time": "2022-07-23T13:02:27.651Z"
   },
   {
    "duration": 44,
    "start_time": "2022-07-23T13:02:27.664Z"
   },
   {
    "duration": 9,
    "start_time": "2022-07-23T13:02:27.709Z"
   },
   {
    "duration": 16,
    "start_time": "2022-07-23T13:02:27.719Z"
   },
   {
    "duration": 14,
    "start_time": "2022-07-23T13:02:27.737Z"
   },
   {
    "duration": 10,
    "start_time": "2022-07-23T13:02:27.753Z"
   },
   {
    "duration": 57,
    "start_time": "2022-07-23T13:02:27.765Z"
   },
   {
    "duration": 34,
    "start_time": "2022-07-23T13:02:27.824Z"
   },
   {
    "duration": 131,
    "start_time": "2022-07-23T13:02:27.859Z"
   },
   {
    "duration": 0,
    "start_time": "2022-07-23T13:02:27.992Z"
   },
   {
    "duration": 0,
    "start_time": "2022-07-23T13:02:27.993Z"
   },
   {
    "duration": 0,
    "start_time": "2022-07-23T13:02:27.994Z"
   },
   {
    "duration": 0,
    "start_time": "2022-07-23T13:02:27.995Z"
   },
   {
    "duration": 0,
    "start_time": "2022-07-23T13:02:28.008Z"
   },
   {
    "duration": 0,
    "start_time": "2022-07-23T13:02:28.013Z"
   },
   {
    "duration": 0,
    "start_time": "2022-07-23T13:02:28.019Z"
   },
   {
    "duration": 0,
    "start_time": "2022-07-23T13:02:28.023Z"
   },
   {
    "duration": 0,
    "start_time": "2022-07-23T13:02:28.026Z"
   },
   {
    "duration": 0,
    "start_time": "2022-07-23T13:02:28.028Z"
   },
   {
    "duration": 0,
    "start_time": "2022-07-23T13:02:28.030Z"
   },
   {
    "duration": 0,
    "start_time": "2022-07-23T13:02:28.032Z"
   },
   {
    "duration": 0,
    "start_time": "2022-07-23T13:02:28.033Z"
   },
   {
    "duration": 0,
    "start_time": "2022-07-23T13:02:28.034Z"
   },
   {
    "duration": 0,
    "start_time": "2022-07-23T13:02:28.036Z"
   },
   {
    "duration": 0,
    "start_time": "2022-07-23T13:02:28.037Z"
   },
   {
    "duration": 0,
    "start_time": "2022-07-23T13:02:28.039Z"
   },
   {
    "duration": 22,
    "start_time": "2022-07-23T13:12:06.156Z"
   },
   {
    "duration": 30,
    "start_time": "2022-07-23T13:12:41.596Z"
   },
   {
    "duration": 8,
    "start_time": "2022-07-23T13:13:01.533Z"
   },
   {
    "duration": 15,
    "start_time": "2022-07-23T13:13:14.061Z"
   },
   {
    "duration": 27,
    "start_time": "2022-07-23T13:13:30.749Z"
   },
   {
    "duration": 8,
    "start_time": "2022-07-23T13:13:45.534Z"
   },
   {
    "duration": 13,
    "start_time": "2022-07-23T13:14:25.950Z"
   },
   {
    "duration": 12,
    "start_time": "2022-07-23T13:14:44.648Z"
   },
   {
    "duration": 7,
    "start_time": "2022-07-23T13:15:32.309Z"
   },
   {
    "duration": 17,
    "start_time": "2022-07-23T13:15:41.996Z"
   },
   {
    "duration": 9,
    "start_time": "2022-07-23T13:16:14.994Z"
   },
   {
    "duration": 21,
    "start_time": "2022-07-23T13:16:25.544Z"
   },
   {
    "duration": 5,
    "start_time": "2022-07-23T13:18:25.369Z"
   },
   {
    "duration": 8,
    "start_time": "2022-07-23T13:18:52.173Z"
   },
   {
    "duration": 37,
    "start_time": "2022-07-23T13:18:57.496Z"
   },
   {
    "duration": 17,
    "start_time": "2022-07-23T13:20:11.059Z"
   },
   {
    "duration": 18,
    "start_time": "2022-07-23T13:20:58.124Z"
   },
   {
    "duration": 10,
    "start_time": "2022-07-23T13:21:01.768Z"
   },
   {
    "duration": 1296,
    "start_time": "2022-07-23T13:21:28.677Z"
   },
   {
    "duration": 101,
    "start_time": "2022-07-23T13:21:29.975Z"
   },
   {
    "duration": 15,
    "start_time": "2022-07-23T13:21:30.077Z"
   },
   {
    "duration": 18,
    "start_time": "2022-07-23T13:21:30.095Z"
   },
   {
    "duration": 49,
    "start_time": "2022-07-23T13:21:30.115Z"
   },
   {
    "duration": 26,
    "start_time": "2022-07-23T13:21:30.166Z"
   },
   {
    "duration": 54,
    "start_time": "2022-07-23T13:21:30.194Z"
   },
   {
    "duration": 17,
    "start_time": "2022-07-23T13:21:30.249Z"
   },
   {
    "duration": 20,
    "start_time": "2022-07-23T13:21:30.268Z"
   },
   {
    "duration": 9,
    "start_time": "2022-07-23T13:21:30.291Z"
   },
   {
    "duration": 18,
    "start_time": "2022-07-23T13:21:30.302Z"
   },
   {
    "duration": 10,
    "start_time": "2022-07-23T13:21:30.322Z"
   },
   {
    "duration": 16,
    "start_time": "2022-07-23T13:21:30.335Z"
   },
   {
    "duration": 26,
    "start_time": "2022-07-23T13:21:30.353Z"
   },
   {
    "duration": 20,
    "start_time": "2022-07-23T13:21:30.381Z"
   },
   {
    "duration": 27,
    "start_time": "2022-07-23T13:21:30.403Z"
   },
   {
    "duration": 27,
    "start_time": "2022-07-23T13:21:30.433Z"
   },
   {
    "duration": 40,
    "start_time": "2022-07-23T13:21:30.462Z"
   },
   {
    "duration": 28,
    "start_time": "2022-07-23T13:21:30.504Z"
   },
   {
    "duration": 27,
    "start_time": "2022-07-23T13:21:30.534Z"
   },
   {
    "duration": 9,
    "start_time": "2022-07-23T13:21:30.564Z"
   },
   {
    "duration": 127,
    "start_time": "2022-07-23T13:21:30.574Z"
   },
   {
    "duration": 0,
    "start_time": "2022-07-23T13:21:30.709Z"
   },
   {
    "duration": 0,
    "start_time": "2022-07-23T13:21:30.711Z"
   },
   {
    "duration": 0,
    "start_time": "2022-07-23T13:21:30.713Z"
   },
   {
    "duration": 0,
    "start_time": "2022-07-23T13:21:30.715Z"
   },
   {
    "duration": 0,
    "start_time": "2022-07-23T13:21:30.717Z"
   },
   {
    "duration": 0,
    "start_time": "2022-07-23T13:21:30.718Z"
   },
   {
    "duration": 0,
    "start_time": "2022-07-23T13:21:30.719Z"
   },
   {
    "duration": 0,
    "start_time": "2022-07-23T13:21:30.720Z"
   },
   {
    "duration": 0,
    "start_time": "2022-07-23T13:21:30.722Z"
   },
   {
    "duration": 0,
    "start_time": "2022-07-23T13:21:30.723Z"
   },
   {
    "duration": 0,
    "start_time": "2022-07-23T13:21:30.724Z"
   },
   {
    "duration": 0,
    "start_time": "2022-07-23T13:21:30.725Z"
   },
   {
    "duration": 0,
    "start_time": "2022-07-23T13:21:30.727Z"
   },
   {
    "duration": 0,
    "start_time": "2022-07-23T13:21:30.728Z"
   },
   {
    "duration": 0,
    "start_time": "2022-07-23T13:21:30.730Z"
   },
   {
    "duration": 0,
    "start_time": "2022-07-23T13:21:30.732Z"
   },
   {
    "duration": 0,
    "start_time": "2022-07-23T13:21:30.733Z"
   },
   {
    "duration": 136,
    "start_time": "2022-07-23T13:24:51.144Z"
   },
   {
    "duration": 185,
    "start_time": "2022-07-23T13:24:55.385Z"
   },
   {
    "duration": 1140,
    "start_time": "2022-07-23T13:33:29.664Z"
   },
   {
    "duration": 89,
    "start_time": "2022-07-23T13:33:30.806Z"
   },
   {
    "duration": 14,
    "start_time": "2022-07-23T13:33:30.897Z"
   },
   {
    "duration": 69,
    "start_time": "2022-07-23T13:33:30.913Z"
   },
   {
    "duration": 70,
    "start_time": "2022-07-23T13:33:30.984Z"
   },
   {
    "duration": 22,
    "start_time": "2022-07-23T13:33:31.056Z"
   },
   {
    "duration": 34,
    "start_time": "2022-07-23T13:33:31.081Z"
   },
   {
    "duration": 39,
    "start_time": "2022-07-23T13:33:31.117Z"
   },
   {
    "duration": 54,
    "start_time": "2022-07-23T13:33:31.159Z"
   },
   {
    "duration": 28,
    "start_time": "2022-07-23T13:33:31.215Z"
   },
   {
    "duration": 30,
    "start_time": "2022-07-23T13:33:31.245Z"
   },
   {
    "duration": 35,
    "start_time": "2022-07-23T13:33:31.277Z"
   },
   {
    "duration": 38,
    "start_time": "2022-07-23T13:33:31.314Z"
   },
   {
    "duration": 20,
    "start_time": "2022-07-23T13:33:31.356Z"
   },
   {
    "duration": 35,
    "start_time": "2022-07-23T13:33:31.378Z"
   },
   {
    "duration": 27,
    "start_time": "2022-07-23T13:33:31.415Z"
   },
   {
    "duration": 36,
    "start_time": "2022-07-23T13:33:31.444Z"
   },
   {
    "duration": 50,
    "start_time": "2022-07-23T13:33:31.482Z"
   },
   {
    "duration": 28,
    "start_time": "2022-07-23T13:33:31.534Z"
   },
   {
    "duration": 40,
    "start_time": "2022-07-23T13:33:31.564Z"
   },
   {
    "duration": 23,
    "start_time": "2022-07-23T13:33:31.605Z"
   },
   {
    "duration": 178,
    "start_time": "2022-07-23T13:33:31.630Z"
   },
   {
    "duration": 1405,
    "start_time": "2022-07-23T13:33:31.809Z"
   },
   {
    "duration": 4,
    "start_time": "2022-07-23T13:33:33.216Z"
   },
   {
    "duration": 13,
    "start_time": "2022-07-23T13:33:33.222Z"
   },
   {
    "duration": 14,
    "start_time": "2022-07-23T13:33:33.236Z"
   },
   {
    "duration": 70,
    "start_time": "2022-07-23T13:33:33.251Z"
   },
   {
    "duration": 12,
    "start_time": "2022-07-23T13:33:33.323Z"
   },
   {
    "duration": 15,
    "start_time": "2022-07-23T13:33:33.337Z"
   },
   {
    "duration": 8,
    "start_time": "2022-07-23T13:33:33.354Z"
   },
   {
    "duration": 60,
    "start_time": "2022-07-23T13:33:33.364Z"
   },
   {
    "duration": 11,
    "start_time": "2022-07-23T13:33:33.425Z"
   },
   {
    "duration": 39,
    "start_time": "2022-07-23T13:33:33.437Z"
   },
   {
    "duration": 117,
    "start_time": "2022-07-23T13:33:33.478Z"
   },
   {
    "duration": 81,
    "start_time": "2022-07-23T13:38:25.152Z"
   },
   {
    "duration": 4,
    "start_time": "2022-07-23T13:38:40.853Z"
   },
   {
    "duration": 310,
    "start_time": "2022-07-23T13:39:10.669Z"
   },
   {
    "duration": 315,
    "start_time": "2022-07-23T13:39:27.678Z"
   },
   {
    "duration": 78,
    "start_time": "2022-07-23T13:50:43.377Z"
   },
   {
    "duration": 76,
    "start_time": "2022-07-23T13:50:55.446Z"
   },
   {
    "duration": 94,
    "start_time": "2022-07-23T14:03:56.254Z"
   },
   {
    "duration": 101,
    "start_time": "2022-07-23T14:04:16.579Z"
   },
   {
    "duration": 95,
    "start_time": "2022-07-23T14:04:43.342Z"
   },
   {
    "duration": 321,
    "start_time": "2022-07-23T14:11:36.579Z"
   },
   {
    "duration": 41,
    "start_time": "2022-07-23T14:20:20.791Z"
   },
   {
    "duration": 4,
    "start_time": "2022-07-23T14:24:46.149Z"
   },
   {
    "duration": 10,
    "start_time": "2022-07-23T14:24:56.971Z"
   },
   {
    "duration": 80,
    "start_time": "2022-07-23T14:25:10.566Z"
   },
   {
    "duration": 20,
    "start_time": "2022-07-23T14:25:32.897Z"
   },
   {
    "duration": 121,
    "start_time": "2022-07-23T14:29:03.762Z"
   },
   {
    "duration": 1183,
    "start_time": "2022-07-23T14:29:10.884Z"
   },
   {
    "duration": 183,
    "start_time": "2022-07-23T14:29:12.069Z"
   },
   {
    "duration": 12,
    "start_time": "2022-07-23T14:29:12.254Z"
   },
   {
    "duration": 12,
    "start_time": "2022-07-23T14:29:12.268Z"
   },
   {
    "duration": 16,
    "start_time": "2022-07-23T14:29:12.281Z"
   },
   {
    "duration": 7,
    "start_time": "2022-07-23T14:29:12.299Z"
   },
   {
    "duration": 11,
    "start_time": "2022-07-23T14:29:12.308Z"
   },
   {
    "duration": 9,
    "start_time": "2022-07-23T14:29:12.321Z"
   },
   {
    "duration": 10,
    "start_time": "2022-07-23T14:29:12.331Z"
   },
   {
    "duration": 7,
    "start_time": "2022-07-23T14:29:12.344Z"
   },
   {
    "duration": 5,
    "start_time": "2022-07-23T14:29:12.352Z"
   },
   {
    "duration": 5,
    "start_time": "2022-07-23T14:29:12.359Z"
   },
   {
    "duration": 40,
    "start_time": "2022-07-23T14:29:12.365Z"
   },
   {
    "duration": 9,
    "start_time": "2022-07-23T14:29:12.407Z"
   },
   {
    "duration": 6,
    "start_time": "2022-07-23T14:29:12.417Z"
   },
   {
    "duration": 13,
    "start_time": "2022-07-23T14:29:12.424Z"
   },
   {
    "duration": 9,
    "start_time": "2022-07-23T14:29:12.438Z"
   },
   {
    "duration": 21,
    "start_time": "2022-07-23T14:29:12.449Z"
   },
   {
    "duration": 81,
    "start_time": "2022-07-23T14:29:12.503Z"
   },
   {
    "duration": 235,
    "start_time": "2022-07-23T14:29:12.586Z"
   },
   {
    "duration": 0,
    "start_time": "2022-07-23T14:29:12.823Z"
   },
   {
    "duration": 0,
    "start_time": "2022-07-23T14:29:12.824Z"
   },
   {
    "duration": 0,
    "start_time": "2022-07-23T14:29:12.826Z"
   },
   {
    "duration": 0,
    "start_time": "2022-07-23T14:29:12.827Z"
   },
   {
    "duration": 0,
    "start_time": "2022-07-23T14:29:12.828Z"
   },
   {
    "duration": 0,
    "start_time": "2022-07-23T14:29:12.829Z"
   },
   {
    "duration": 0,
    "start_time": "2022-07-23T14:29:12.830Z"
   },
   {
    "duration": 0,
    "start_time": "2022-07-23T14:29:12.831Z"
   },
   {
    "duration": 0,
    "start_time": "2022-07-23T14:29:12.832Z"
   },
   {
    "duration": 0,
    "start_time": "2022-07-23T14:29:12.834Z"
   },
   {
    "duration": 0,
    "start_time": "2022-07-23T14:29:12.834Z"
   },
   {
    "duration": 0,
    "start_time": "2022-07-23T14:29:12.835Z"
   },
   {
    "duration": 0,
    "start_time": "2022-07-23T14:29:12.836Z"
   },
   {
    "duration": 0,
    "start_time": "2022-07-23T14:29:12.837Z"
   },
   {
    "duration": 322,
    "start_time": "2022-07-23T14:29:54.083Z"
   },
   {
    "duration": 1243,
    "start_time": "2022-07-23T14:37:54.880Z"
   },
   {
    "duration": 126,
    "start_time": "2022-07-23T14:37:56.126Z"
   },
   {
    "duration": 15,
    "start_time": "2022-07-23T14:37:56.254Z"
   },
   {
    "duration": 12,
    "start_time": "2022-07-23T14:37:56.271Z"
   },
   {
    "duration": 15,
    "start_time": "2022-07-23T14:37:56.286Z"
   },
   {
    "duration": 19,
    "start_time": "2022-07-23T14:37:56.303Z"
   },
   {
    "duration": 34,
    "start_time": "2022-07-23T14:37:56.325Z"
   },
   {
    "duration": 12,
    "start_time": "2022-07-23T14:37:56.360Z"
   },
   {
    "duration": 29,
    "start_time": "2022-07-23T14:37:56.373Z"
   },
   {
    "duration": 34,
    "start_time": "2022-07-23T14:37:56.410Z"
   },
   {
    "duration": 27,
    "start_time": "2022-07-23T14:37:56.445Z"
   },
   {
    "duration": 29,
    "start_time": "2022-07-23T14:37:56.474Z"
   },
   {
    "duration": 31,
    "start_time": "2022-07-23T14:37:56.505Z"
   },
   {
    "duration": 66,
    "start_time": "2022-07-23T14:37:56.540Z"
   },
   {
    "duration": 42,
    "start_time": "2022-07-23T14:37:56.609Z"
   },
   {
    "duration": 48,
    "start_time": "2022-07-23T14:37:56.653Z"
   },
   {
    "duration": 46,
    "start_time": "2022-07-23T14:37:56.703Z"
   },
   {
    "duration": 71,
    "start_time": "2022-07-23T14:37:56.751Z"
   },
   {
    "duration": 36,
    "start_time": "2022-07-23T14:37:56.825Z"
   },
   {
    "duration": 90,
    "start_time": "2022-07-23T14:37:56.862Z"
   },
   {
    "duration": 1527,
    "start_time": "2022-07-23T14:37:56.954Z"
   },
   {
    "duration": 10,
    "start_time": "2022-07-23T14:37:58.483Z"
   },
   {
    "duration": 33,
    "start_time": "2022-07-23T14:37:58.496Z"
   },
   {
    "duration": 9,
    "start_time": "2022-07-23T14:37:58.531Z"
   },
   {
    "duration": 62,
    "start_time": "2022-07-23T14:37:58.542Z"
   },
   {
    "duration": 14,
    "start_time": "2022-07-23T14:37:58.605Z"
   },
   {
    "duration": 29,
    "start_time": "2022-07-23T14:37:58.621Z"
   },
   {
    "duration": 16,
    "start_time": "2022-07-23T14:37:58.652Z"
   },
   {
    "duration": 11,
    "start_time": "2022-07-23T14:37:58.670Z"
   },
   {
    "duration": 64,
    "start_time": "2022-07-23T14:37:58.683Z"
   },
   {
    "duration": 10,
    "start_time": "2022-07-23T14:37:58.749Z"
   },
   {
    "duration": 20,
    "start_time": "2022-07-23T14:37:58.761Z"
   },
   {
    "duration": 139,
    "start_time": "2022-07-23T14:37:58.805Z"
   },
   {
    "duration": 194,
    "start_time": "2022-07-23T14:40:57.806Z"
   },
   {
    "duration": 1234,
    "start_time": "2022-07-23T14:41:38.198Z"
   },
   {
    "duration": 84,
    "start_time": "2022-07-23T14:41:39.434Z"
   },
   {
    "duration": 16,
    "start_time": "2022-07-23T14:41:39.522Z"
   },
   {
    "duration": 25,
    "start_time": "2022-07-23T14:41:39.539Z"
   },
   {
    "duration": 13,
    "start_time": "2022-07-23T14:41:39.566Z"
   },
   {
    "duration": 13,
    "start_time": "2022-07-23T14:41:39.580Z"
   },
   {
    "duration": 24,
    "start_time": "2022-07-23T14:41:39.594Z"
   },
   {
    "duration": 14,
    "start_time": "2022-07-23T14:41:39.620Z"
   },
   {
    "duration": 11,
    "start_time": "2022-07-23T14:41:39.636Z"
   },
   {
    "duration": 11,
    "start_time": "2022-07-23T14:41:39.649Z"
   },
   {
    "duration": 5,
    "start_time": "2022-07-23T14:41:39.662Z"
   },
   {
    "duration": 39,
    "start_time": "2022-07-23T14:41:39.669Z"
   },
   {
    "duration": 19,
    "start_time": "2022-07-23T14:41:39.710Z"
   },
   {
    "duration": 9,
    "start_time": "2022-07-23T14:41:39.732Z"
   },
   {
    "duration": 5,
    "start_time": "2022-07-23T14:41:39.742Z"
   },
   {
    "duration": 12,
    "start_time": "2022-07-23T14:41:39.749Z"
   },
   {
    "duration": 6,
    "start_time": "2022-07-23T14:41:39.763Z"
   },
   {
    "duration": 45,
    "start_time": "2022-07-23T14:41:39.771Z"
   },
   {
    "duration": 189,
    "start_time": "2022-07-23T14:41:39.819Z"
   },
   {
    "duration": 100,
    "start_time": "2022-07-23T14:41:40.010Z"
   },
   {
    "duration": 1621,
    "start_time": "2022-07-23T14:41:40.112Z"
   },
   {
    "duration": 5,
    "start_time": "2022-07-23T14:41:41.735Z"
   },
   {
    "duration": 14,
    "start_time": "2022-07-23T14:41:41.741Z"
   },
   {
    "duration": 10,
    "start_time": "2022-07-23T14:41:41.757Z"
   },
   {
    "duration": 82,
    "start_time": "2022-07-23T14:41:41.769Z"
   },
   {
    "duration": 14,
    "start_time": "2022-07-23T14:41:41.853Z"
   },
   {
    "duration": 36,
    "start_time": "2022-07-23T14:41:41.870Z"
   },
   {
    "duration": 20,
    "start_time": "2022-07-23T14:41:41.909Z"
   },
   {
    "duration": 8,
    "start_time": "2022-07-23T14:41:41.931Z"
   },
   {
    "duration": 38,
    "start_time": "2022-07-23T14:41:41.940Z"
   },
   {
    "duration": 42,
    "start_time": "2022-07-23T14:41:41.980Z"
   },
   {
    "duration": 23,
    "start_time": "2022-07-23T14:41:42.025Z"
   },
   {
    "duration": 163,
    "start_time": "2022-07-23T14:41:42.051Z"
   },
   {
    "duration": 12,
    "start_time": "2022-07-23T14:49:13.682Z"
   },
   {
    "duration": 1254,
    "start_time": "2022-07-23T14:50:44.352Z"
   },
   {
    "duration": 90,
    "start_time": "2022-07-23T14:50:45.609Z"
   },
   {
    "duration": 13,
    "start_time": "2022-07-23T14:50:45.701Z"
   },
   {
    "duration": 12,
    "start_time": "2022-07-23T14:50:45.716Z"
   },
   {
    "duration": 13,
    "start_time": "2022-07-23T14:50:45.731Z"
   },
   {
    "duration": 10,
    "start_time": "2022-07-23T14:50:45.746Z"
   },
   {
    "duration": 46,
    "start_time": "2022-07-23T14:50:45.758Z"
   },
   {
    "duration": 10,
    "start_time": "2022-07-23T14:50:45.806Z"
   },
   {
    "duration": 11,
    "start_time": "2022-07-23T14:50:45.817Z"
   },
   {
    "duration": 8,
    "start_time": "2022-07-23T14:50:45.831Z"
   },
   {
    "duration": 4,
    "start_time": "2022-07-23T14:50:45.841Z"
   },
   {
    "duration": 10,
    "start_time": "2022-07-23T14:50:45.847Z"
   },
   {
    "duration": 14,
    "start_time": "2022-07-23T14:50:45.859Z"
   },
   {
    "duration": 37,
    "start_time": "2022-07-23T14:50:45.875Z"
   },
   {
    "duration": 9,
    "start_time": "2022-07-23T14:50:45.914Z"
   },
   {
    "duration": 15,
    "start_time": "2022-07-23T14:50:45.924Z"
   },
   {
    "duration": 7,
    "start_time": "2022-07-23T14:50:45.941Z"
   },
   {
    "duration": 54,
    "start_time": "2022-07-23T14:50:45.950Z"
   },
   {
    "duration": 185,
    "start_time": "2022-07-23T14:50:46.006Z"
   },
   {
    "duration": 97,
    "start_time": "2022-07-23T14:50:46.192Z"
   },
   {
    "duration": 1439,
    "start_time": "2022-07-23T14:50:46.291Z"
   },
   {
    "duration": 4,
    "start_time": "2022-07-23T14:50:47.731Z"
   },
   {
    "duration": 14,
    "start_time": "2022-07-23T14:50:47.737Z"
   },
   {
    "duration": 9,
    "start_time": "2022-07-23T14:50:47.752Z"
   },
   {
    "duration": 79,
    "start_time": "2022-07-23T14:50:47.763Z"
   },
   {
    "duration": 12,
    "start_time": "2022-07-23T14:50:47.844Z"
   },
   {
    "duration": 23,
    "start_time": "2022-07-23T14:50:47.858Z"
   },
   {
    "duration": 27,
    "start_time": "2022-07-23T14:50:47.882Z"
   },
   {
    "duration": 8,
    "start_time": "2022-07-23T14:50:47.911Z"
   },
   {
    "duration": 13,
    "start_time": "2022-07-23T14:50:47.921Z"
   },
   {
    "duration": 139,
    "start_time": "2022-07-23T14:50:47.935Z"
   },
   {
    "duration": 46,
    "start_time": "2022-07-23T14:52:38.116Z"
   },
   {
    "duration": 5,
    "start_time": "2022-07-23T14:55:07.085Z"
   },
   {
    "duration": 35,
    "start_time": "2022-07-23T14:55:35.023Z"
   },
   {
    "duration": 27,
    "start_time": "2022-07-23T15:00:14.798Z"
   },
   {
    "duration": 1402,
    "start_time": "2022-07-23T15:00:35.219Z"
   },
   {
    "duration": 113,
    "start_time": "2022-07-23T15:00:36.624Z"
   },
   {
    "duration": 17,
    "start_time": "2022-07-23T15:00:36.740Z"
   },
   {
    "duration": 18,
    "start_time": "2022-07-23T15:00:36.760Z"
   },
   {
    "duration": 33,
    "start_time": "2022-07-23T15:00:36.781Z"
   },
   {
    "duration": 13,
    "start_time": "2022-07-23T15:00:36.816Z"
   },
   {
    "duration": 11,
    "start_time": "2022-07-23T15:00:36.831Z"
   },
   {
    "duration": 12,
    "start_time": "2022-07-23T15:00:36.844Z"
   },
   {
    "duration": 62,
    "start_time": "2022-07-23T15:00:36.858Z"
   },
   {
    "duration": 19,
    "start_time": "2022-07-23T15:00:36.922Z"
   },
   {
    "duration": 17,
    "start_time": "2022-07-23T15:00:36.943Z"
   },
   {
    "duration": 7,
    "start_time": "2022-07-23T15:00:36.963Z"
   },
   {
    "duration": 35,
    "start_time": "2022-07-23T15:00:36.973Z"
   },
   {
    "duration": 25,
    "start_time": "2022-07-23T15:00:37.015Z"
   },
   {
    "duration": 13,
    "start_time": "2022-07-23T15:00:37.043Z"
   },
   {
    "duration": 7,
    "start_time": "2022-07-23T15:00:37.057Z"
   },
   {
    "duration": 46,
    "start_time": "2022-07-23T15:00:37.066Z"
   },
   {
    "duration": 14,
    "start_time": "2022-07-23T15:00:37.115Z"
   },
   {
    "duration": 27,
    "start_time": "2022-07-23T15:00:37.133Z"
   },
   {
    "duration": 232,
    "start_time": "2022-07-23T15:00:37.162Z"
   },
   {
    "duration": 108,
    "start_time": "2022-07-23T15:00:37.396Z"
   },
   {
    "duration": 1555,
    "start_time": "2022-07-23T15:00:37.506Z"
   },
   {
    "duration": 4,
    "start_time": "2022-07-23T15:00:39.063Z"
   },
   {
    "duration": 14,
    "start_time": "2022-07-23T15:00:39.068Z"
   },
   {
    "duration": 22,
    "start_time": "2022-07-23T15:00:39.083Z"
   },
   {
    "duration": 61,
    "start_time": "2022-07-23T15:00:39.107Z"
   },
   {
    "duration": 13,
    "start_time": "2022-07-23T15:00:39.169Z"
   },
   {
    "duration": 36,
    "start_time": "2022-07-23T15:00:39.184Z"
   },
   {
    "duration": 14,
    "start_time": "2022-07-23T15:00:39.222Z"
   },
   {
    "duration": 7,
    "start_time": "2022-07-23T15:00:39.238Z"
   },
   {
    "duration": 16,
    "start_time": "2022-07-23T15:00:39.247Z"
   },
   {
    "duration": 5,
    "start_time": "2022-07-23T15:00:39.264Z"
   },
   {
    "duration": 60,
    "start_time": "2022-07-23T15:00:39.271Z"
   },
   {
    "duration": 13,
    "start_time": "2022-07-23T15:10:47.386Z"
   },
   {
    "duration": 36,
    "start_time": "2022-07-23T15:11:19.190Z"
   },
   {
    "duration": 44,
    "start_time": "2022-07-23T15:14:36.627Z"
   },
   {
    "duration": 5,
    "start_time": "2022-07-23T15:15:46.160Z"
   },
   {
    "duration": 9,
    "start_time": "2022-07-23T15:16:28.670Z"
   },
   {
    "duration": 108,
    "start_time": "2022-07-23T15:17:09.882Z"
   },
   {
    "duration": 143,
    "start_time": "2022-07-23T15:17:14.097Z"
   },
   {
    "duration": 15,
    "start_time": "2022-07-23T15:17:46.851Z"
   },
   {
    "duration": 13,
    "start_time": "2022-07-23T15:17:57.931Z"
   },
   {
    "duration": 11,
    "start_time": "2022-07-23T15:18:08.725Z"
   },
   {
    "duration": 9,
    "start_time": "2022-07-23T15:18:52.461Z"
   },
   {
    "duration": 10,
    "start_time": "2022-07-23T15:20:29.376Z"
   },
   {
    "duration": 11,
    "start_time": "2022-07-23T15:20:36.061Z"
   },
   {
    "duration": 12,
    "start_time": "2022-07-23T15:20:41.849Z"
   },
   {
    "duration": 38,
    "start_time": "2022-07-23T15:21:16.166Z"
   },
   {
    "duration": 33,
    "start_time": "2022-07-23T15:21:27.117Z"
   },
   {
    "duration": 75,
    "start_time": "2022-07-23T15:26:23.415Z"
   },
   {
    "duration": 18,
    "start_time": "2022-07-23T15:26:50.392Z"
   },
   {
    "duration": 14,
    "start_time": "2022-07-23T15:27:18.283Z"
   },
   {
    "duration": 2975,
    "start_time": "2022-07-23T15:27:32.809Z"
   },
   {
    "duration": 2983,
    "start_time": "2022-07-23T15:27:40.803Z"
   },
   {
    "duration": 309,
    "start_time": "2022-07-23T15:29:04.410Z"
   },
   {
    "duration": 317,
    "start_time": "2022-07-23T15:29:58.996Z"
   },
   {
    "duration": 1560,
    "start_time": "2022-07-24T07:24:45.730Z"
   },
   {
    "duration": 230,
    "start_time": "2022-07-24T07:24:47.292Z"
   },
   {
    "duration": 15,
    "start_time": "2022-07-24T07:24:47.529Z"
   },
   {
    "duration": 19,
    "start_time": "2022-07-24T07:24:47.546Z"
   },
   {
    "duration": 13,
    "start_time": "2022-07-24T07:24:47.569Z"
   },
   {
    "duration": 38,
    "start_time": "2022-07-24T07:24:47.584Z"
   },
   {
    "duration": 14,
    "start_time": "2022-07-24T07:24:47.624Z"
   },
   {
    "duration": 15,
    "start_time": "2022-07-24T07:24:47.641Z"
   },
   {
    "duration": 24,
    "start_time": "2022-07-24T07:24:47.658Z"
   },
   {
    "duration": 34,
    "start_time": "2022-07-24T07:24:47.684Z"
   },
   {
    "duration": 11,
    "start_time": "2022-07-24T07:24:47.722Z"
   },
   {
    "duration": 7,
    "start_time": "2022-07-24T07:24:47.735Z"
   },
   {
    "duration": 7,
    "start_time": "2022-07-24T07:24:47.744Z"
   },
   {
    "duration": 26,
    "start_time": "2022-07-24T07:24:47.756Z"
   },
   {
    "duration": 29,
    "start_time": "2022-07-24T07:24:47.785Z"
   },
   {
    "duration": 23,
    "start_time": "2022-07-24T07:24:47.819Z"
   },
   {
    "duration": 28,
    "start_time": "2022-07-24T07:24:47.845Z"
   },
   {
    "duration": 15,
    "start_time": "2022-07-24T07:24:47.876Z"
   },
   {
    "duration": 57,
    "start_time": "2022-07-24T07:24:47.893Z"
   },
   {
    "duration": 210,
    "start_time": "2022-07-24T07:24:47.952Z"
   },
   {
    "duration": 110,
    "start_time": "2022-07-24T07:24:48.164Z"
   },
   {
    "duration": 1787,
    "start_time": "2022-07-24T07:24:48.276Z"
   },
   {
    "duration": 7,
    "start_time": "2022-07-24T07:24:50.066Z"
   },
   {
    "duration": 18,
    "start_time": "2022-07-24T07:24:50.075Z"
   },
   {
    "duration": 28,
    "start_time": "2022-07-24T07:24:50.095Z"
   },
   {
    "duration": 72,
    "start_time": "2022-07-24T07:24:50.126Z"
   },
   {
    "duration": 22,
    "start_time": "2022-07-24T07:24:50.200Z"
   },
   {
    "duration": 29,
    "start_time": "2022-07-24T07:24:50.226Z"
   },
   {
    "duration": 22,
    "start_time": "2022-07-24T07:24:50.258Z"
   },
   {
    "duration": 10,
    "start_time": "2022-07-24T07:24:50.282Z"
   },
   {
    "duration": 36,
    "start_time": "2022-07-24T07:24:50.294Z"
   },
   {
    "duration": 14,
    "start_time": "2022-07-24T07:24:50.332Z"
   },
   {
    "duration": 184,
    "start_time": "2022-07-24T07:24:50.348Z"
   },
   {
    "duration": 0,
    "start_time": "2022-07-24T07:24:50.535Z"
   },
   {
    "duration": 0,
    "start_time": "2022-07-24T07:24:50.536Z"
   },
   {
    "duration": 0,
    "start_time": "2022-07-24T07:24:50.537Z"
   },
   {
    "duration": 0,
    "start_time": "2022-07-24T07:24:50.539Z"
   },
   {
    "duration": 0,
    "start_time": "2022-07-24T07:24:50.540Z"
   },
   {
    "duration": 20,
    "start_time": "2022-07-24T07:25:06.441Z"
   },
   {
    "duration": 8,
    "start_time": "2022-07-24T07:27:00.171Z"
   },
   {
    "duration": 1321,
    "start_time": "2022-07-24T07:27:40.830Z"
   },
   {
    "duration": 7,
    "start_time": "2022-07-24T07:27:46.472Z"
   },
   {
    "duration": 11,
    "start_time": "2022-07-24T07:28:40.464Z"
   },
   {
    "duration": 10,
    "start_time": "2022-07-24T07:28:52.563Z"
   },
   {
    "duration": 9,
    "start_time": "2022-07-24T07:29:14.598Z"
   },
   {
    "duration": 321,
    "start_time": "2022-07-24T07:35:45.181Z"
   },
   {
    "duration": 189,
    "start_time": "2022-07-24T07:35:55.850Z"
   },
   {
    "duration": 216,
    "start_time": "2022-07-24T07:36:12.272Z"
   },
   {
    "duration": 16,
    "start_time": "2022-07-24T07:45:51.977Z"
   },
   {
    "duration": 46,
    "start_time": "2022-07-24T07:47:33.861Z"
   },
   {
    "duration": 73,
    "start_time": "2022-07-24T07:51:01.758Z"
   },
   {
    "duration": 1196,
    "start_time": "2022-07-24T07:51:24.885Z"
   },
   {
    "duration": 1862,
    "start_time": "2022-07-24T07:53:01.356Z"
   },
   {
    "duration": 147,
    "start_time": "2022-07-24T07:53:15.651Z"
   },
   {
    "duration": 125,
    "start_time": "2022-07-24T07:54:00.185Z"
   },
   {
    "duration": 26,
    "start_time": "2022-07-24T07:54:20.898Z"
   },
   {
    "duration": 123,
    "start_time": "2022-07-24T07:54:32.227Z"
   },
   {
    "duration": 21,
    "start_time": "2022-07-24T07:55:18.760Z"
   },
   {
    "duration": 214,
    "start_time": "2022-07-24T07:56:25.673Z"
   },
   {
    "duration": 138,
    "start_time": "2022-07-24T07:58:12.606Z"
   },
   {
    "duration": 30,
    "start_time": "2022-07-24T08:08:50.702Z"
   },
   {
    "duration": 326,
    "start_time": "2022-07-24T08:09:08.285Z"
   },
   {
    "duration": 31,
    "start_time": "2022-07-24T08:11:51.030Z"
   },
   {
    "duration": 5,
    "start_time": "2022-07-24T08:14:32.493Z"
   },
   {
    "duration": 358,
    "start_time": "2022-07-24T08:14:36.167Z"
   },
   {
    "duration": 729,
    "start_time": "2022-07-24T08:17:12.908Z"
   },
   {
    "duration": 11,
    "start_time": "2022-07-24T08:17:24.623Z"
   },
   {
    "duration": 1815,
    "start_time": "2022-07-24T08:20:26.085Z"
   },
   {
    "duration": 1695,
    "start_time": "2022-07-24T08:24:51.449Z"
   },
   {
    "duration": 35,
    "start_time": "2022-07-24T08:25:35.893Z"
   },
   {
    "duration": 13,
    "start_time": "2022-07-24T08:26:05.735Z"
   },
   {
    "duration": 12,
    "start_time": "2022-07-24T08:27:36.399Z"
   },
   {
    "duration": 12,
    "start_time": "2022-07-24T08:28:05.527Z"
   },
   {
    "duration": 203,
    "start_time": "2022-07-24T08:28:46.845Z"
   },
   {
    "duration": 535,
    "start_time": "2022-07-24T08:29:56.832Z"
   },
   {
    "duration": 630,
    "start_time": "2022-07-24T08:30:19.000Z"
   },
   {
    "duration": 28,
    "start_time": "2022-07-24T08:32:25.086Z"
   },
   {
    "duration": 301,
    "start_time": "2022-07-24T08:33:35.145Z"
   },
   {
    "duration": 187962,
    "start_time": "2022-07-24T08:34:38.053Z"
   },
   {
    "duration": 40,
    "start_time": "2022-07-24T08:37:48.120Z"
   },
   {
    "duration": 95,
    "start_time": "2022-07-24T08:38:05.416Z"
   },
   {
    "duration": 20,
    "start_time": "2022-07-24T08:38:17.724Z"
   },
   {
    "duration": 22,
    "start_time": "2022-07-24T08:38:43.254Z"
   },
   {
    "duration": 13,
    "start_time": "2022-07-24T08:38:47.266Z"
   },
   {
    "duration": 1269,
    "start_time": "2022-07-24T08:38:59.151Z"
   },
   {
    "duration": 192,
    "start_time": "2022-07-24T08:39:00.423Z"
   },
   {
    "duration": 15,
    "start_time": "2022-07-24T08:39:00.617Z"
   },
   {
    "duration": 15,
    "start_time": "2022-07-24T08:39:00.634Z"
   },
   {
    "duration": 20,
    "start_time": "2022-07-24T08:39:00.653Z"
   },
   {
    "duration": 33,
    "start_time": "2022-07-24T08:39:00.676Z"
   },
   {
    "duration": 17,
    "start_time": "2022-07-24T08:39:00.711Z"
   },
   {
    "duration": 18,
    "start_time": "2022-07-24T08:39:00.730Z"
   },
   {
    "duration": 32,
    "start_time": "2022-07-24T08:39:00.750Z"
   },
   {
    "duration": 10,
    "start_time": "2022-07-24T08:39:00.783Z"
   },
   {
    "duration": 26,
    "start_time": "2022-07-24T08:39:00.796Z"
   },
   {
    "duration": 4,
    "start_time": "2022-07-24T08:39:00.824Z"
   },
   {
    "duration": 23,
    "start_time": "2022-07-24T08:39:00.830Z"
   },
   {
    "duration": 20,
    "start_time": "2022-07-24T08:39:00.859Z"
   },
   {
    "duration": 30,
    "start_time": "2022-07-24T08:39:00.881Z"
   },
   {
    "duration": 9,
    "start_time": "2022-07-24T08:39:00.913Z"
   },
   {
    "duration": 24,
    "start_time": "2022-07-24T08:39:00.924Z"
   },
   {
    "duration": 21,
    "start_time": "2022-07-24T08:39:00.950Z"
   },
   {
    "duration": 47,
    "start_time": "2022-07-24T08:39:00.973Z"
   },
   {
    "duration": 197,
    "start_time": "2022-07-24T08:39:01.022Z"
   },
   {
    "duration": 95,
    "start_time": "2022-07-24T08:39:01.221Z"
   },
   {
    "duration": 1819,
    "start_time": "2022-07-24T08:39:01.318Z"
   },
   {
    "duration": 5,
    "start_time": "2022-07-24T08:39:03.140Z"
   },
   {
    "duration": 15,
    "start_time": "2022-07-24T08:39:03.148Z"
   },
   {
    "duration": 12,
    "start_time": "2022-07-24T08:39:03.166Z"
   },
   {
    "duration": 88,
    "start_time": "2022-07-24T08:39:03.181Z"
   },
   {
    "duration": 15,
    "start_time": "2022-07-24T08:39:03.271Z"
   },
   {
    "duration": 40,
    "start_time": "2022-07-24T08:39:03.288Z"
   },
   {
    "duration": 16,
    "start_time": "2022-07-24T08:39:03.331Z"
   },
   {
    "duration": 9,
    "start_time": "2022-07-24T08:39:03.349Z"
   },
   {
    "duration": 17,
    "start_time": "2022-07-24T08:39:03.359Z"
   },
   {
    "duration": 33,
    "start_time": "2022-07-24T08:39:03.378Z"
   },
   {
    "duration": 129,
    "start_time": "2022-07-24T08:39:03.414Z"
   },
   {
    "duration": 0,
    "start_time": "2022-07-24T08:39:03.545Z"
   },
   {
    "duration": 0,
    "start_time": "2022-07-24T08:39:03.546Z"
   },
   {
    "duration": 0,
    "start_time": "2022-07-24T08:39:03.547Z"
   },
   {
    "duration": 0,
    "start_time": "2022-07-24T08:39:03.549Z"
   },
   {
    "duration": 0,
    "start_time": "2022-07-24T08:39:03.550Z"
   },
   {
    "duration": 0,
    "start_time": "2022-07-24T08:39:03.551Z"
   },
   {
    "duration": 38,
    "start_time": "2022-07-24T08:39:16.054Z"
   },
   {
    "duration": 32,
    "start_time": "2022-07-24T08:39:51.101Z"
   },
   {
    "duration": 7,
    "start_time": "2022-07-24T08:40:59.612Z"
   },
   {
    "duration": 36,
    "start_time": "2022-07-24T08:41:21.440Z"
   },
   {
    "duration": 29,
    "start_time": "2022-07-24T08:41:37.098Z"
   },
   {
    "duration": 35,
    "start_time": "2022-07-24T08:45:43.434Z"
   },
   {
    "duration": 34,
    "start_time": "2022-07-24T08:46:30.165Z"
   },
   {
    "duration": 21,
    "start_time": "2022-07-24T08:47:07.441Z"
   },
   {
    "duration": 12,
    "start_time": "2022-07-24T08:49:15.924Z"
   },
   {
    "duration": 28,
    "start_time": "2022-07-24T08:49:28.449Z"
   },
   {
    "duration": 33,
    "start_time": "2022-07-24T08:50:26.160Z"
   },
   {
    "duration": 150,
    "start_time": "2022-07-24T08:51:05.809Z"
   },
   {
    "duration": 199,
    "start_time": "2022-07-24T08:51:39.105Z"
   },
   {
    "duration": 226,
    "start_time": "2022-07-24T08:51:56.557Z"
   },
   {
    "duration": 246,
    "start_time": "2022-07-24T08:52:58.242Z"
   },
   {
    "duration": 26,
    "start_time": "2022-07-24T08:57:07.548Z"
   },
   {
    "duration": 16,
    "start_time": "2022-07-24T08:57:13.947Z"
   },
   {
    "duration": 76,
    "start_time": "2022-07-24T08:58:24.389Z"
   },
   {
    "duration": 4,
    "start_time": "2022-07-24T08:58:42.712Z"
   },
   {
    "duration": 96,
    "start_time": "2022-07-24T08:58:55.234Z"
   },
   {
    "duration": 7,
    "start_time": "2022-07-24T08:59:26.903Z"
   },
   {
    "duration": 6,
    "start_time": "2022-07-24T08:59:34.085Z"
   },
   {
    "duration": 9,
    "start_time": "2022-07-24T09:00:42.727Z"
   },
   {
    "duration": 10,
    "start_time": "2022-07-24T09:01:06.205Z"
   },
   {
    "duration": 78,
    "start_time": "2022-07-24T09:01:43.900Z"
   },
   {
    "duration": 935,
    "start_time": "2022-07-24T09:02:05.250Z"
   },
   {
    "duration": 27,
    "start_time": "2022-07-24T09:03:27.914Z"
   },
   {
    "duration": 9,
    "start_time": "2022-07-24T09:07:23.746Z"
   },
   {
    "duration": 11,
    "start_time": "2022-07-24T09:07:28.811Z"
   },
   {
    "duration": 8,
    "start_time": "2022-07-24T09:08:15.776Z"
   },
   {
    "duration": 9,
    "start_time": "2022-07-24T09:08:24.915Z"
   },
   {
    "duration": 13,
    "start_time": "2022-07-24T09:09:50.582Z"
   },
   {
    "duration": 12,
    "start_time": "2022-07-24T09:10:15.350Z"
   },
   {
    "duration": 14,
    "start_time": "2022-07-24T09:11:31.045Z"
   },
   {
    "duration": 8,
    "start_time": "2022-07-24T09:11:58.973Z"
   },
   {
    "duration": 10,
    "start_time": "2022-07-24T09:15:03.599Z"
   },
   {
    "duration": 178,
    "start_time": "2022-07-24T09:16:12.353Z"
   },
   {
    "duration": 8,
    "start_time": "2022-07-24T09:16:40.173Z"
   },
   {
    "duration": 219,
    "start_time": "2022-07-24T09:17:06.407Z"
   },
   {
    "duration": 192,
    "start_time": "2022-07-24T09:17:23.152Z"
   },
   {
    "duration": 265,
    "start_time": "2022-07-24T09:17:29.514Z"
   },
   {
    "duration": 200,
    "start_time": "2022-07-24T09:18:15.229Z"
   },
   {
    "duration": 172,
    "start_time": "2022-07-24T09:18:21.477Z"
   },
   {
    "duration": 201,
    "start_time": "2022-07-24T09:19:05.227Z"
   },
   {
    "duration": 1199,
    "start_time": "2022-07-24T09:19:33.260Z"
   },
   {
    "duration": 87,
    "start_time": "2022-07-24T09:19:34.461Z"
   },
   {
    "duration": 15,
    "start_time": "2022-07-24T09:19:34.550Z"
   },
   {
    "duration": 14,
    "start_time": "2022-07-24T09:19:34.567Z"
   },
   {
    "duration": 12,
    "start_time": "2022-07-24T09:19:34.583Z"
   },
   {
    "duration": 9,
    "start_time": "2022-07-24T09:19:34.609Z"
   },
   {
    "duration": 14,
    "start_time": "2022-07-24T09:19:34.619Z"
   },
   {
    "duration": 11,
    "start_time": "2022-07-24T09:19:34.635Z"
   },
   {
    "duration": 24,
    "start_time": "2022-07-24T09:19:34.648Z"
   },
   {
    "duration": 43,
    "start_time": "2022-07-24T09:19:34.676Z"
   },
   {
    "duration": 12,
    "start_time": "2022-07-24T09:19:34.721Z"
   },
   {
    "duration": 5,
    "start_time": "2022-07-24T09:19:34.735Z"
   },
   {
    "duration": 6,
    "start_time": "2022-07-24T09:19:34.742Z"
   },
   {
    "duration": 12,
    "start_time": "2022-07-24T09:19:34.750Z"
   },
   {
    "duration": 10,
    "start_time": "2022-07-24T09:19:34.764Z"
   },
   {
    "duration": 6,
    "start_time": "2022-07-24T09:19:34.810Z"
   },
   {
    "duration": 15,
    "start_time": "2022-07-24T09:19:34.818Z"
   },
   {
    "duration": 8,
    "start_time": "2022-07-24T09:19:34.835Z"
   },
   {
    "duration": 26,
    "start_time": "2022-07-24T09:19:34.845Z"
   },
   {
    "duration": 213,
    "start_time": "2022-07-24T09:19:34.873Z"
   },
   {
    "duration": 96,
    "start_time": "2022-07-24T09:19:35.088Z"
   },
   {
    "duration": 1587,
    "start_time": "2022-07-24T09:19:35.186Z"
   },
   {
    "duration": 5,
    "start_time": "2022-07-24T09:19:36.775Z"
   },
   {
    "duration": 32,
    "start_time": "2022-07-24T09:19:36.782Z"
   },
   {
    "duration": 8,
    "start_time": "2022-07-24T09:19:36.816Z"
   },
   {
    "duration": 66,
    "start_time": "2022-07-24T09:19:36.826Z"
   },
   {
    "duration": 28,
    "start_time": "2022-07-24T09:19:36.894Z"
   },
   {
    "duration": 20,
    "start_time": "2022-07-24T09:19:36.926Z"
   },
   {
    "duration": 16,
    "start_time": "2022-07-24T09:19:36.947Z"
   },
   {
    "duration": 9,
    "start_time": "2022-07-24T09:19:36.965Z"
   },
   {
    "duration": 42,
    "start_time": "2022-07-24T09:19:36.976Z"
   },
   {
    "duration": 31,
    "start_time": "2022-07-24T09:19:37.020Z"
   },
   {
    "duration": 138,
    "start_time": "2022-07-24T09:19:37.053Z"
   },
   {
    "duration": 0,
    "start_time": "2022-07-24T09:19:37.193Z"
   },
   {
    "duration": 0,
    "start_time": "2022-07-24T09:19:37.194Z"
   },
   {
    "duration": 0,
    "start_time": "2022-07-24T09:19:37.195Z"
   },
   {
    "duration": 0,
    "start_time": "2022-07-24T09:19:37.197Z"
   },
   {
    "duration": 1,
    "start_time": "2022-07-24T09:19:37.210Z"
   },
   {
    "duration": 0,
    "start_time": "2022-07-24T09:19:37.212Z"
   },
   {
    "duration": 0,
    "start_time": "2022-07-24T09:19:37.213Z"
   },
   {
    "duration": 0,
    "start_time": "2022-07-24T09:19:37.214Z"
   },
   {
    "duration": 0,
    "start_time": "2022-07-24T09:19:37.215Z"
   },
   {
    "duration": 0,
    "start_time": "2022-07-24T09:19:37.216Z"
   },
   {
    "duration": 0,
    "start_time": "2022-07-24T09:19:37.217Z"
   },
   {
    "duration": 0,
    "start_time": "2022-07-24T09:19:37.218Z"
   },
   {
    "duration": 0,
    "start_time": "2022-07-24T09:19:37.220Z"
   },
   {
    "duration": 0,
    "start_time": "2022-07-24T09:19:37.221Z"
   },
   {
    "duration": 16,
    "start_time": "2022-07-24T09:21:52.491Z"
   },
   {
    "duration": 211,
    "start_time": "2022-07-24T09:21:57.992Z"
   },
   {
    "duration": 8,
    "start_time": "2022-07-24T09:23:14.958Z"
   },
   {
    "duration": 76,
    "start_time": "2022-07-24T09:24:09.602Z"
   },
   {
    "duration": 7,
    "start_time": "2022-07-24T09:24:13.342Z"
   },
   {
    "duration": 49,
    "start_time": "2022-07-24T18:38:49.620Z"
   },
   {
    "duration": 1324,
    "start_time": "2022-07-24T18:38:56.060Z"
   },
   {
    "duration": 193,
    "start_time": "2022-07-24T18:38:57.386Z"
   },
   {
    "duration": 13,
    "start_time": "2022-07-24T18:38:57.581Z"
   },
   {
    "duration": 19,
    "start_time": "2022-07-24T18:38:57.596Z"
   },
   {
    "duration": 18,
    "start_time": "2022-07-24T18:38:57.617Z"
   },
   {
    "duration": 16,
    "start_time": "2022-07-24T18:38:57.636Z"
   },
   {
    "duration": 14,
    "start_time": "2022-07-24T18:38:57.653Z"
   },
   {
    "duration": 11,
    "start_time": "2022-07-24T18:38:57.668Z"
   },
   {
    "duration": 26,
    "start_time": "2022-07-24T18:38:57.680Z"
   },
   {
    "duration": 8,
    "start_time": "2022-07-24T18:38:57.707Z"
   },
   {
    "duration": 20,
    "start_time": "2022-07-24T18:38:57.717Z"
   },
   {
    "duration": 5,
    "start_time": "2022-07-24T18:38:57.739Z"
   },
   {
    "duration": 26,
    "start_time": "2022-07-24T18:38:57.745Z"
   },
   {
    "duration": 35,
    "start_time": "2022-07-24T18:38:57.774Z"
   },
   {
    "duration": 26,
    "start_time": "2022-07-24T18:38:57.810Z"
   },
   {
    "duration": 14,
    "start_time": "2022-07-24T18:38:57.837Z"
   },
   {
    "duration": 25,
    "start_time": "2022-07-24T18:38:57.853Z"
   },
   {
    "duration": 7,
    "start_time": "2022-07-24T18:38:57.879Z"
   },
   {
    "duration": 32,
    "start_time": "2022-07-24T18:38:57.888Z"
   },
   {
    "duration": 173,
    "start_time": "2022-07-24T18:38:57.922Z"
   },
   {
    "duration": 81,
    "start_time": "2022-07-24T18:38:58.097Z"
   },
   {
    "duration": 1381,
    "start_time": "2022-07-24T18:38:58.179Z"
   },
   {
    "duration": 5,
    "start_time": "2022-07-24T18:38:59.561Z"
   },
   {
    "duration": 13,
    "start_time": "2022-07-24T18:38:59.568Z"
   },
   {
    "duration": 9,
    "start_time": "2022-07-24T18:38:59.582Z"
   },
   {
    "duration": 58,
    "start_time": "2022-07-24T18:38:59.593Z"
   },
   {
    "duration": 12,
    "start_time": "2022-07-24T18:38:59.663Z"
   },
   {
    "duration": 25,
    "start_time": "2022-07-24T18:38:59.676Z"
   },
   {
    "duration": 24,
    "start_time": "2022-07-24T18:38:59.702Z"
   },
   {
    "duration": 9,
    "start_time": "2022-07-24T18:38:59.727Z"
   },
   {
    "duration": 26,
    "start_time": "2022-07-24T18:38:59.737Z"
   },
   {
    "duration": 9,
    "start_time": "2022-07-24T18:38:59.764Z"
   },
   {
    "duration": 13,
    "start_time": "2022-07-24T18:38:59.775Z"
   },
   {
    "duration": 179,
    "start_time": "2022-07-24T18:38:59.790Z"
   },
   {
    "duration": 8,
    "start_time": "2022-07-24T18:38:59.971Z"
   },
   {
    "duration": 32,
    "start_time": "2022-07-24T18:38:59.980Z"
   },
   {
    "duration": 22,
    "start_time": "2022-07-24T18:39:00.014Z"
   },
   {
    "duration": 207,
    "start_time": "2022-07-24T18:39:00.038Z"
   },
   {
    "duration": 34,
    "start_time": "2022-07-24T18:39:00.247Z"
   },
   {
    "duration": 26,
    "start_time": "2022-07-24T18:39:00.283Z"
   },
   {
    "duration": 126,
    "start_time": "2022-07-24T18:39:00.313Z"
   },
   {
    "duration": 0,
    "start_time": "2022-07-24T18:39:00.441Z"
   },
   {
    "duration": 0,
    "start_time": "2022-07-24T18:39:00.443Z"
   },
   {
    "duration": 0,
    "start_time": "2022-07-24T18:39:00.445Z"
   },
   {
    "duration": 0,
    "start_time": "2022-07-24T18:39:00.446Z"
   },
   {
    "duration": 0,
    "start_time": "2022-07-24T18:39:00.448Z"
   },
   {
    "duration": 7,
    "start_time": "2022-07-24T18:39:23.093Z"
   },
   {
    "duration": 8,
    "start_time": "2022-07-24T18:39:32.277Z"
   },
   {
    "duration": 11,
    "start_time": "2022-07-24T18:40:14.026Z"
   },
   {
    "duration": 14,
    "start_time": "2022-07-24T18:48:37.453Z"
   },
   {
    "duration": 14,
    "start_time": "2022-07-24T18:49:27.834Z"
   },
   {
    "duration": 11,
    "start_time": "2022-07-24T18:52:05.575Z"
   },
   {
    "duration": 11,
    "start_time": "2022-07-24T18:54:40.248Z"
   },
   {
    "duration": 11,
    "start_time": "2022-07-24T18:54:50.556Z"
   },
   {
    "duration": 12,
    "start_time": "2022-07-24T18:55:10.906Z"
   },
   {
    "duration": 246,
    "start_time": "2022-07-24T18:56:07.354Z"
   },
   {
    "duration": 26,
    "start_time": "2022-07-24T18:56:52.736Z"
   },
   {
    "duration": 192,
    "start_time": "2022-07-24T18:57:23.611Z"
   },
   {
    "duration": 185,
    "start_time": "2022-07-24T19:01:16.324Z"
   },
   {
    "duration": 278,
    "start_time": "2022-07-24T19:01:27.207Z"
   },
   {
    "duration": 171,
    "start_time": "2022-07-24T19:01:57.740Z"
   },
   {
    "duration": 187,
    "start_time": "2022-07-24T19:02:03.900Z"
   },
   {
    "duration": 221,
    "start_time": "2022-07-24T19:02:16.364Z"
   },
   {
    "duration": 224,
    "start_time": "2022-07-24T19:02:52.410Z"
   },
   {
    "duration": 194,
    "start_time": "2022-07-24T19:02:59.242Z"
   },
   {
    "duration": 272,
    "start_time": "2022-07-24T19:04:31.228Z"
   },
   {
    "duration": 282,
    "start_time": "2022-07-24T19:04:51.652Z"
   },
   {
    "duration": 272,
    "start_time": "2022-07-24T19:04:57.815Z"
   },
   {
    "duration": 292,
    "start_time": "2022-07-24T19:05:07.122Z"
   },
   {
    "duration": 5,
    "start_time": "2022-07-24T19:07:43.757Z"
   },
   {
    "duration": 54,
    "start_time": "2022-07-24T19:09:19.603Z"
   },
   {
    "duration": 46,
    "start_time": "2022-07-24T19:13:31.025Z"
   },
   {
    "duration": 58,
    "start_time": "2022-07-24T19:13:43.905Z"
   },
   {
    "duration": 6,
    "start_time": "2022-07-24T19:14:39.930Z"
   },
   {
    "duration": 7,
    "start_time": "2022-07-24T19:14:42.438Z"
   },
   {
    "duration": 59,
    "start_time": "2022-07-24T19:14:44.773Z"
   },
   {
    "duration": 276,
    "start_time": "2022-07-24T19:15:26.214Z"
   },
   {
    "duration": 18,
    "start_time": "2022-07-24T19:15:47.626Z"
   },
   {
    "duration": 1118,
    "start_time": "2022-07-24T19:16:06.567Z"
   },
   {
    "duration": 62,
    "start_time": "2022-07-24T19:16:07.687Z"
   },
   {
    "duration": 12,
    "start_time": "2022-07-24T19:16:07.750Z"
   },
   {
    "duration": 17,
    "start_time": "2022-07-24T19:16:07.764Z"
   },
   {
    "duration": 25,
    "start_time": "2022-07-24T19:16:07.783Z"
   },
   {
    "duration": 15,
    "start_time": "2022-07-24T19:16:07.809Z"
   },
   {
    "duration": 30,
    "start_time": "2022-07-24T19:16:07.826Z"
   },
   {
    "duration": 8,
    "start_time": "2022-07-24T19:16:07.858Z"
   },
   {
    "duration": 21,
    "start_time": "2022-07-24T19:16:07.868Z"
   },
   {
    "duration": 16,
    "start_time": "2022-07-24T19:16:07.892Z"
   },
   {
    "duration": 12,
    "start_time": "2022-07-24T19:16:07.909Z"
   },
   {
    "duration": 21,
    "start_time": "2022-07-24T19:16:07.923Z"
   },
   {
    "duration": 20,
    "start_time": "2022-07-24T19:16:07.946Z"
   },
   {
    "duration": 29,
    "start_time": "2022-07-24T19:16:07.967Z"
   },
   {
    "duration": 40,
    "start_time": "2022-07-24T19:16:07.998Z"
   },
   {
    "duration": 19,
    "start_time": "2022-07-24T19:16:08.040Z"
   },
   {
    "duration": 17,
    "start_time": "2022-07-24T19:16:08.060Z"
   },
   {
    "duration": 38,
    "start_time": "2022-07-24T19:16:08.079Z"
   },
   {
    "duration": 42,
    "start_time": "2022-07-24T19:16:08.118Z"
   },
   {
    "duration": 151,
    "start_time": "2022-07-24T19:16:08.161Z"
   },
   {
    "duration": 78,
    "start_time": "2022-07-24T19:16:08.314Z"
   },
   {
    "duration": 1338,
    "start_time": "2022-07-24T19:16:08.394Z"
   },
   {
    "duration": 4,
    "start_time": "2022-07-24T19:16:09.734Z"
   },
   {
    "duration": 34,
    "start_time": "2022-07-24T19:16:09.739Z"
   },
   {
    "duration": 10,
    "start_time": "2022-07-24T19:16:09.774Z"
   },
   {
    "duration": 61,
    "start_time": "2022-07-24T19:16:09.785Z"
   },
   {
    "duration": 16,
    "start_time": "2022-07-24T19:16:09.848Z"
   },
   {
    "duration": 19,
    "start_time": "2022-07-24T19:16:09.868Z"
   },
   {
    "duration": 14,
    "start_time": "2022-07-24T19:16:09.889Z"
   },
   {
    "duration": 8,
    "start_time": "2022-07-24T19:16:09.904Z"
   },
   {
    "duration": 13,
    "start_time": "2022-07-24T19:16:09.914Z"
   },
   {
    "duration": 49,
    "start_time": "2022-07-24T19:16:09.928Z"
   },
   {
    "duration": 10,
    "start_time": "2022-07-24T19:16:09.979Z"
   },
   {
    "duration": 206,
    "start_time": "2022-07-24T19:16:09.991Z"
   },
   {
    "duration": 194,
    "start_time": "2022-07-24T19:16:10.198Z"
   },
   {
    "duration": 122,
    "start_time": "2022-07-24T19:16:10.394Z"
   },
   {
    "duration": 0,
    "start_time": "2022-07-24T19:16:10.518Z"
   },
   {
    "duration": 0,
    "start_time": "2022-07-24T19:16:10.519Z"
   },
   {
    "duration": 0,
    "start_time": "2022-07-24T19:16:10.520Z"
   },
   {
    "duration": 0,
    "start_time": "2022-07-24T19:16:10.521Z"
   },
   {
    "duration": 0,
    "start_time": "2022-07-24T19:16:10.521Z"
   },
   {
    "duration": 0,
    "start_time": "2022-07-24T19:16:10.522Z"
   },
   {
    "duration": 0,
    "start_time": "2022-07-24T19:16:10.524Z"
   },
   {
    "duration": 0,
    "start_time": "2022-07-24T19:16:10.525Z"
   },
   {
    "duration": 0,
    "start_time": "2022-07-24T19:16:10.526Z"
   },
   {
    "duration": 0,
    "start_time": "2022-07-24T19:16:10.527Z"
   },
   {
    "duration": 0,
    "start_time": "2022-07-24T19:16:10.528Z"
   },
   {
    "duration": 0,
    "start_time": "2022-07-24T19:16:10.529Z"
   },
   {
    "duration": 0,
    "start_time": "2022-07-24T19:16:10.530Z"
   },
   {
    "duration": 348,
    "start_time": "2022-07-24T19:16:33.692Z"
   },
   {
    "duration": 244,
    "start_time": "2022-07-24T19:16:45.083Z"
   },
   {
    "duration": 264,
    "start_time": "2022-07-24T19:17:49.383Z"
   },
   {
    "duration": 18,
    "start_time": "2022-07-24T19:20:26.792Z"
   },
   {
    "duration": 505,
    "start_time": "2022-07-24T19:21:10.327Z"
   },
   {
    "duration": 1492,
    "start_time": "2022-07-24T19:21:44.440Z"
   },
   {
    "duration": 194,
    "start_time": "2022-07-24T19:22:01.361Z"
   },
   {
    "duration": 177,
    "start_time": "2022-07-24T19:23:22.055Z"
   },
   {
    "duration": 200,
    "start_time": "2022-07-24T19:23:30.430Z"
   },
   {
    "duration": 194,
    "start_time": "2022-07-24T19:23:50.536Z"
   },
   {
    "duration": 233,
    "start_time": "2022-07-24T19:24:07.254Z"
   },
   {
    "duration": 238,
    "start_time": "2022-07-24T19:24:33.952Z"
   },
   {
    "duration": 237,
    "start_time": "2022-07-24T19:24:48.698Z"
   },
   {
    "duration": 263,
    "start_time": "2022-07-24T19:24:55.524Z"
   },
   {
    "duration": 282,
    "start_time": "2022-07-24T19:25:08.723Z"
   },
   {
    "duration": 332,
    "start_time": "2022-07-24T19:25:13.108Z"
   },
   {
    "duration": 257,
    "start_time": "2022-07-24T19:25:19.810Z"
   },
   {
    "duration": 269,
    "start_time": "2022-07-24T19:25:23.942Z"
   },
   {
    "duration": 244,
    "start_time": "2022-07-24T19:25:27.811Z"
   },
   {
    "duration": 271,
    "start_time": "2022-07-24T19:25:32.260Z"
   },
   {
    "duration": 245,
    "start_time": "2022-07-24T19:25:40.874Z"
   },
   {
    "duration": 252,
    "start_time": "2022-07-24T19:26:17.895Z"
   },
   {
    "duration": 237,
    "start_time": "2022-07-24T19:26:54.377Z"
   },
   {
    "duration": 224,
    "start_time": "2022-07-24T19:30:06.570Z"
   },
   {
    "duration": 224,
    "start_time": "2022-07-24T19:30:20.125Z"
   },
   {
    "duration": 1168,
    "start_time": "2022-07-24T19:30:57.449Z"
   },
   {
    "duration": 64,
    "start_time": "2022-07-24T19:30:58.619Z"
   },
   {
    "duration": 14,
    "start_time": "2022-07-24T19:30:58.685Z"
   },
   {
    "duration": 15,
    "start_time": "2022-07-24T19:30:58.701Z"
   },
   {
    "duration": 12,
    "start_time": "2022-07-24T19:30:58.718Z"
   },
   {
    "duration": 8,
    "start_time": "2022-07-24T19:30:58.731Z"
   },
   {
    "duration": 31,
    "start_time": "2022-07-24T19:30:58.741Z"
   },
   {
    "duration": 9,
    "start_time": "2022-07-24T19:30:58.774Z"
   },
   {
    "duration": 23,
    "start_time": "2022-07-24T19:30:58.785Z"
   },
   {
    "duration": 8,
    "start_time": "2022-07-24T19:30:58.810Z"
   },
   {
    "duration": 8,
    "start_time": "2022-07-24T19:30:58.820Z"
   },
   {
    "duration": 37,
    "start_time": "2022-07-24T19:30:58.829Z"
   },
   {
    "duration": 6,
    "start_time": "2022-07-24T19:30:58.868Z"
   },
   {
    "duration": 12,
    "start_time": "2022-07-24T19:30:58.875Z"
   },
   {
    "duration": 10,
    "start_time": "2022-07-24T19:30:58.888Z"
   },
   {
    "duration": 9,
    "start_time": "2022-07-24T19:30:58.899Z"
   },
   {
    "duration": 19,
    "start_time": "2022-07-24T19:30:58.910Z"
   },
   {
    "duration": 7,
    "start_time": "2022-07-24T19:30:58.931Z"
   },
   {
    "duration": 22,
    "start_time": "2022-07-24T19:30:58.964Z"
   },
   {
    "duration": 182,
    "start_time": "2022-07-24T19:30:58.988Z"
   },
   {
    "duration": 75,
    "start_time": "2022-07-24T19:30:59.172Z"
   },
   {
    "duration": 1379,
    "start_time": "2022-07-24T19:30:59.249Z"
   },
   {
    "duration": 5,
    "start_time": "2022-07-24T19:31:00.630Z"
   },
   {
    "duration": 30,
    "start_time": "2022-07-24T19:31:00.638Z"
   },
   {
    "duration": 53,
    "start_time": "2022-07-24T19:31:00.670Z"
   },
   {
    "duration": 95,
    "start_time": "2022-07-24T19:31:00.725Z"
   },
   {
    "duration": 12,
    "start_time": "2022-07-24T19:31:00.822Z"
   },
   {
    "duration": 37,
    "start_time": "2022-07-24T19:31:00.838Z"
   },
   {
    "duration": 38,
    "start_time": "2022-07-24T19:31:00.877Z"
   },
   {
    "duration": 13,
    "start_time": "2022-07-24T19:31:00.917Z"
   },
   {
    "duration": 20,
    "start_time": "2022-07-24T19:31:00.932Z"
   },
   {
    "duration": 32,
    "start_time": "2022-07-24T19:31:00.954Z"
   },
   {
    "duration": 27,
    "start_time": "2022-07-24T19:31:00.988Z"
   },
   {
    "duration": 182,
    "start_time": "2022-07-24T19:31:01.017Z"
   },
   {
    "duration": 276,
    "start_time": "2022-07-24T19:31:01.201Z"
   },
   {
    "duration": 252,
    "start_time": "2022-07-24T19:31:01.480Z"
   },
   {
    "duration": 360,
    "start_time": "2022-07-24T19:31:01.735Z"
   },
   {
    "duration": 290,
    "start_time": "2022-07-24T19:31:02.097Z"
   },
   {
    "duration": 26,
    "start_time": "2022-07-24T19:31:02.389Z"
   },
   {
    "duration": 48,
    "start_time": "2022-07-24T19:31:02.417Z"
   },
   {
    "duration": 23,
    "start_time": "2022-07-24T19:31:02.467Z"
   },
   {
    "duration": 390,
    "start_time": "2022-07-24T19:31:02.492Z"
   },
   {
    "duration": 25,
    "start_time": "2022-07-24T19:31:02.884Z"
   },
   {
    "duration": 27,
    "start_time": "2022-07-24T19:31:02.910Z"
   },
   {
    "duration": 130,
    "start_time": "2022-07-24T19:31:02.939Z"
   },
   {
    "duration": 0,
    "start_time": "2022-07-24T19:31:03.072Z"
   },
   {
    "duration": 0,
    "start_time": "2022-07-24T19:31:03.073Z"
   },
   {
    "duration": 0,
    "start_time": "2022-07-24T19:31:03.075Z"
   },
   {
    "duration": 0,
    "start_time": "2022-07-24T19:31:03.076Z"
   },
   {
    "duration": 0,
    "start_time": "2022-07-24T19:31:03.077Z"
   },
   {
    "duration": 1234,
    "start_time": "2022-07-25T18:20:10.398Z"
   },
   {
    "duration": 64,
    "start_time": "2022-07-25T18:20:11.635Z"
   },
   {
    "duration": 12,
    "start_time": "2022-07-25T18:20:11.700Z"
   },
   {
    "duration": 11,
    "start_time": "2022-07-25T18:20:11.714Z"
   },
   {
    "duration": 13,
    "start_time": "2022-07-25T18:20:11.727Z"
   },
   {
    "duration": 8,
    "start_time": "2022-07-25T18:20:11.741Z"
   },
   {
    "duration": 14,
    "start_time": "2022-07-25T18:20:11.750Z"
   },
   {
    "duration": 9,
    "start_time": "2022-07-25T18:20:11.765Z"
   },
   {
    "duration": 20,
    "start_time": "2022-07-25T18:20:11.775Z"
   },
   {
    "duration": 9,
    "start_time": "2022-07-25T18:20:11.797Z"
   },
   {
    "duration": 9,
    "start_time": "2022-07-25T18:20:11.807Z"
   },
   {
    "duration": 4,
    "start_time": "2022-07-25T18:20:11.817Z"
   },
   {
    "duration": 6,
    "start_time": "2022-07-25T18:20:11.823Z"
   },
   {
    "duration": 44,
    "start_time": "2022-07-25T18:20:11.830Z"
   },
   {
    "duration": 10,
    "start_time": "2022-07-25T18:20:11.876Z"
   },
   {
    "duration": 8,
    "start_time": "2022-07-25T18:20:11.887Z"
   },
   {
    "duration": 17,
    "start_time": "2022-07-25T18:20:11.897Z"
   },
   {
    "duration": 11,
    "start_time": "2022-07-25T18:20:11.915Z"
   },
   {
    "duration": 39,
    "start_time": "2022-07-25T18:20:11.927Z"
   },
   {
    "duration": 178,
    "start_time": "2022-07-25T18:20:11.968Z"
   },
   {
    "duration": 85,
    "start_time": "2022-07-25T18:20:12.148Z"
   },
   {
    "duration": 1350,
    "start_time": "2022-07-25T18:20:12.235Z"
   },
   {
    "duration": 4,
    "start_time": "2022-07-25T18:20:13.587Z"
   },
   {
    "duration": 12,
    "start_time": "2022-07-25T18:20:13.593Z"
   },
   {
    "duration": 8,
    "start_time": "2022-07-25T18:20:13.607Z"
   },
   {
    "duration": 75,
    "start_time": "2022-07-25T18:20:13.616Z"
   },
   {
    "duration": 12,
    "start_time": "2022-07-25T18:20:13.693Z"
   },
   {
    "duration": 19,
    "start_time": "2022-07-25T18:20:13.708Z"
   },
   {
    "duration": 16,
    "start_time": "2022-07-25T18:20:13.728Z"
   },
   {
    "duration": 25,
    "start_time": "2022-07-25T18:20:13.745Z"
   },
   {
    "duration": 14,
    "start_time": "2022-07-25T18:20:13.771Z"
   },
   {
    "duration": 14,
    "start_time": "2022-07-25T18:20:13.786Z"
   },
   {
    "duration": 10,
    "start_time": "2022-07-25T18:20:13.802Z"
   },
   {
    "duration": 189,
    "start_time": "2022-07-25T18:20:13.813Z"
   },
   {
    "duration": 254,
    "start_time": "2022-07-25T18:20:14.004Z"
   },
   {
    "duration": 255,
    "start_time": "2022-07-25T18:20:14.260Z"
   },
   {
    "duration": 219,
    "start_time": "2022-07-25T18:20:14.517Z"
   },
   {
    "duration": 34,
    "start_time": "2022-07-25T18:20:14.738Z"
   },
   {
    "duration": 27,
    "start_time": "2022-07-25T18:20:14.774Z"
   },
   {
    "duration": 22,
    "start_time": "2022-07-25T18:20:14.802Z"
   },
   {
    "duration": 213,
    "start_time": "2022-07-25T18:20:14.826Z"
   },
   {
    "duration": 34,
    "start_time": "2022-07-25T18:20:15.041Z"
   },
   {
    "duration": 25,
    "start_time": "2022-07-25T18:20:15.077Z"
   },
   {
    "duration": 268,
    "start_time": "2022-07-25T18:20:15.104Z"
   },
   {
    "duration": 118,
    "start_time": "2022-07-25T18:20:15.374Z"
   },
   {
    "duration": 0,
    "start_time": "2022-07-25T18:20:15.494Z"
   },
   {
    "duration": 0,
    "start_time": "2022-07-25T18:20:15.496Z"
   },
   {
    "duration": 0,
    "start_time": "2022-07-25T18:20:15.497Z"
   },
   {
    "duration": 0,
    "start_time": "2022-07-25T18:20:15.499Z"
   },
   {
    "duration": 0,
    "start_time": "2022-07-25T18:20:15.500Z"
   },
   {
    "duration": 1146,
    "start_time": "2022-07-25T18:27:44.029Z"
   },
   {
    "duration": 79,
    "start_time": "2022-07-25T18:27:45.177Z"
   },
   {
    "duration": 12,
    "start_time": "2022-07-25T18:27:45.258Z"
   },
   {
    "duration": 12,
    "start_time": "2022-07-25T18:27:45.271Z"
   },
   {
    "duration": 13,
    "start_time": "2022-07-25T18:27:45.285Z"
   },
   {
    "duration": 18,
    "start_time": "2022-07-25T18:27:45.300Z"
   },
   {
    "duration": 15,
    "start_time": "2022-07-25T18:27:45.320Z"
   },
   {
    "duration": 8,
    "start_time": "2022-07-25T18:27:45.337Z"
   },
   {
    "duration": 21,
    "start_time": "2022-07-25T18:27:45.346Z"
   },
   {
    "duration": 8,
    "start_time": "2022-07-25T18:27:45.368Z"
   },
   {
    "duration": 10,
    "start_time": "2022-07-25T18:27:45.377Z"
   },
   {
    "duration": 4,
    "start_time": "2022-07-25T18:27:45.389Z"
   },
   {
    "duration": 7,
    "start_time": "2022-07-25T18:27:45.394Z"
   },
   {
    "duration": 17,
    "start_time": "2022-07-25T18:27:45.404Z"
   },
   {
    "duration": 9,
    "start_time": "2022-07-25T18:27:45.423Z"
   },
   {
    "duration": 34,
    "start_time": "2022-07-25T18:27:45.434Z"
   },
   {
    "duration": 12,
    "start_time": "2022-07-25T18:27:45.470Z"
   },
   {
    "duration": 11,
    "start_time": "2022-07-25T18:27:45.484Z"
   },
   {
    "duration": 31,
    "start_time": "2022-07-25T18:27:45.496Z"
   },
   {
    "duration": 160,
    "start_time": "2022-07-25T18:27:45.528Z"
   },
   {
    "duration": 88,
    "start_time": "2022-07-25T18:27:45.690Z"
   },
   {
    "duration": 1304,
    "start_time": "2022-07-25T18:27:45.780Z"
   },
   {
    "duration": 5,
    "start_time": "2022-07-25T18:27:47.086Z"
   },
   {
    "duration": 14,
    "start_time": "2022-07-25T18:27:47.092Z"
   },
   {
    "duration": 10,
    "start_time": "2022-07-25T18:27:47.107Z"
   },
   {
    "duration": 78,
    "start_time": "2022-07-25T18:27:47.119Z"
   },
   {
    "duration": 13,
    "start_time": "2022-07-25T18:27:47.199Z"
   },
   {
    "duration": 23,
    "start_time": "2022-07-25T18:27:47.213Z"
   },
   {
    "duration": 31,
    "start_time": "2022-07-25T18:27:47.238Z"
   },
   {
    "duration": 7,
    "start_time": "2022-07-25T18:27:47.270Z"
   },
   {
    "duration": 23,
    "start_time": "2022-07-25T18:27:47.278Z"
   },
   {
    "duration": 16,
    "start_time": "2022-07-25T18:27:47.302Z"
   },
   {
    "duration": 10,
    "start_time": "2022-07-25T18:27:47.319Z"
   },
   {
    "duration": 191,
    "start_time": "2022-07-25T18:27:47.331Z"
   },
   {
    "duration": 232,
    "start_time": "2022-07-25T18:27:47.524Z"
   },
   {
    "duration": 264,
    "start_time": "2022-07-25T18:27:47.757Z"
   },
   {
    "duration": 169,
    "start_time": "2022-07-25T18:27:48.023Z"
   },
   {
    "duration": 25,
    "start_time": "2022-07-25T18:27:48.194Z"
   },
   {
    "duration": 43,
    "start_time": "2022-07-25T18:27:48.221Z"
   },
   {
    "duration": 21,
    "start_time": "2022-07-25T18:27:48.266Z"
   },
   {
    "duration": 199,
    "start_time": "2022-07-25T18:27:48.291Z"
   },
   {
    "duration": 25,
    "start_time": "2022-07-25T18:27:48.492Z"
   },
   {
    "duration": 44,
    "start_time": "2022-07-25T18:27:48.519Z"
   },
   {
    "duration": 340,
    "start_time": "2022-07-25T18:27:48.565Z"
   },
   {
    "duration": 108,
    "start_time": "2022-07-25T18:27:48.907Z"
   },
   {
    "duration": 0,
    "start_time": "2022-07-25T18:27:49.016Z"
   },
   {
    "duration": 0,
    "start_time": "2022-07-25T18:27:49.017Z"
   },
   {
    "duration": 0,
    "start_time": "2022-07-25T18:27:49.018Z"
   },
   {
    "duration": 0,
    "start_time": "2022-07-25T18:27:49.019Z"
   },
   {
    "duration": 0,
    "start_time": "2022-07-25T18:27:49.021Z"
   },
   {
    "duration": 232,
    "start_time": "2022-07-25T18:28:12.875Z"
   },
   {
    "duration": 291,
    "start_time": "2022-07-25T18:28:43.859Z"
   },
   {
    "duration": 287,
    "start_time": "2022-07-25T18:29:27.560Z"
   },
   {
    "duration": 271,
    "start_time": "2022-07-25T18:30:26.160Z"
   },
   {
    "duration": 267,
    "start_time": "2022-07-25T18:30:34.064Z"
   },
   {
    "duration": 283,
    "start_time": "2022-07-25T18:31:12.320Z"
   },
   {
    "duration": 283,
    "start_time": "2022-07-25T18:32:08.095Z"
   },
   {
    "duration": 4,
    "start_time": "2022-07-25T18:37:18.467Z"
   },
   {
    "duration": 14,
    "start_time": "2022-07-25T18:44:25.243Z"
   },
   {
    "duration": 16,
    "start_time": "2022-07-25T18:48:12.473Z"
   },
   {
    "duration": 16,
    "start_time": "2022-07-25T18:48:31.751Z"
   },
   {
    "duration": 31,
    "start_time": "2022-07-25T18:52:43.166Z"
   },
   {
    "duration": 14,
    "start_time": "2022-07-25T18:52:51.114Z"
   },
   {
    "duration": 18,
    "start_time": "2022-07-25T18:52:58.917Z"
   },
   {
    "duration": 26,
    "start_time": "2022-07-25T18:56:39.783Z"
   },
   {
    "duration": 25,
    "start_time": "2022-07-25T18:57:51.047Z"
   },
   {
    "duration": 4,
    "start_time": "2022-07-25T18:59:49.850Z"
   },
   {
    "duration": 9,
    "start_time": "2022-07-25T19:00:52.983Z"
   },
   {
    "duration": 4,
    "start_time": "2022-07-25T19:01:54.435Z"
   },
   {
    "duration": 4,
    "start_time": "2022-07-25T19:02:15.169Z"
   },
   {
    "duration": 9,
    "start_time": "2022-07-25T19:13:12.036Z"
   },
   {
    "duration": 10,
    "start_time": "2022-07-25T19:13:50.528Z"
   },
   {
    "duration": 7,
    "start_time": "2022-07-25T19:15:47.696Z"
   },
   {
    "duration": 9,
    "start_time": "2022-07-25T19:16:04.553Z"
   },
   {
    "duration": 21,
    "start_time": "2022-07-25T19:16:54.734Z"
   },
   {
    "duration": 52,
    "start_time": "2022-07-25T19:20:00.884Z"
   },
   {
    "duration": 45,
    "start_time": "2022-07-25T19:20:07.483Z"
   },
   {
    "duration": 51,
    "start_time": "2022-07-25T19:20:39.801Z"
   },
   {
    "duration": 24,
    "start_time": "2022-07-25T19:21:34.969Z"
   },
   {
    "duration": 21,
    "start_time": "2022-07-25T19:21:51.613Z"
   },
   {
    "duration": 26,
    "start_time": "2022-07-25T19:23:04.774Z"
   },
   {
    "duration": 70,
    "start_time": "2022-07-25T19:30:08.699Z"
   },
   {
    "duration": 124,
    "start_time": "2022-07-25T19:30:16.460Z"
   },
   {
    "duration": 308,
    "start_time": "2022-07-25T19:30:25.748Z"
   },
   {
    "duration": 263,
    "start_time": "2022-07-25T19:31:01.339Z"
   },
   {
    "duration": 22,
    "start_time": "2022-07-25T19:31:48.766Z"
   },
   {
    "duration": 81,
    "start_time": "2022-07-25T19:33:36.635Z"
   },
   {
    "duration": 15,
    "start_time": "2022-07-25T19:33:40.091Z"
   },
   {
    "duration": 10,
    "start_time": "2022-07-25T19:33:57.643Z"
   },
   {
    "duration": 9,
    "start_time": "2022-07-25T19:34:37.261Z"
   },
   {
    "duration": 15,
    "start_time": "2022-07-25T19:35:35.756Z"
   },
   {
    "duration": 11,
    "start_time": "2022-07-25T19:35:45.156Z"
   },
   {
    "duration": 17,
    "start_time": "2022-07-25T19:42:14.598Z"
   },
   {
    "duration": 11,
    "start_time": "2022-07-25T19:43:00.289Z"
   },
   {
    "duration": 17,
    "start_time": "2022-07-25T19:43:55.204Z"
   },
   {
    "duration": 10,
    "start_time": "2022-07-25T19:50:40.171Z"
   },
   {
    "duration": 17,
    "start_time": "2022-07-25T19:54:47.855Z"
   },
   {
    "duration": 19,
    "start_time": "2022-07-25T19:55:20.412Z"
   },
   {
    "duration": 16,
    "start_time": "2022-07-25T19:55:56.640Z"
   },
   {
    "duration": 16,
    "start_time": "2022-07-25T19:56:07.713Z"
   },
   {
    "duration": 9,
    "start_time": "2022-07-25T19:58:05.936Z"
   },
   {
    "duration": 9,
    "start_time": "2022-07-25T19:59:40.062Z"
   },
   {
    "duration": 16,
    "start_time": "2022-07-25T19:59:57.245Z"
   },
   {
    "duration": 18,
    "start_time": "2022-07-25T20:00:17.336Z"
   },
   {
    "duration": 13,
    "start_time": "2022-07-25T20:00:23.909Z"
   },
   {
    "duration": 1152,
    "start_time": "2022-07-25T20:00:38.043Z"
   },
   {
    "duration": 62,
    "start_time": "2022-07-25T20:00:39.197Z"
   },
   {
    "duration": 13,
    "start_time": "2022-07-25T20:00:39.261Z"
   },
   {
    "duration": 14,
    "start_time": "2022-07-25T20:00:39.275Z"
   },
   {
    "duration": 15,
    "start_time": "2022-07-25T20:00:39.291Z"
   },
   {
    "duration": 11,
    "start_time": "2022-07-25T20:00:39.307Z"
   },
   {
    "duration": 12,
    "start_time": "2022-07-25T20:00:39.319Z"
   },
   {
    "duration": 8,
    "start_time": "2022-07-25T20:00:39.333Z"
   },
   {
    "duration": 29,
    "start_time": "2022-07-25T20:00:39.342Z"
   },
   {
    "duration": 9,
    "start_time": "2022-07-25T20:00:39.372Z"
   },
   {
    "duration": 17,
    "start_time": "2022-07-25T20:00:39.383Z"
   },
   {
    "duration": 23,
    "start_time": "2022-07-25T20:00:39.402Z"
   },
   {
    "duration": 6,
    "start_time": "2022-07-25T20:00:39.426Z"
   },
   {
    "duration": 10,
    "start_time": "2022-07-25T20:00:39.435Z"
   },
   {
    "duration": 18,
    "start_time": "2022-07-25T20:00:39.447Z"
   },
   {
    "duration": 6,
    "start_time": "2022-07-25T20:00:39.467Z"
   },
   {
    "duration": 20,
    "start_time": "2022-07-25T20:00:39.474Z"
   },
   {
    "duration": 10,
    "start_time": "2022-07-25T20:00:39.496Z"
   },
   {
    "duration": 29,
    "start_time": "2022-07-25T20:00:39.507Z"
   },
   {
    "duration": 185,
    "start_time": "2022-07-25T20:00:39.537Z"
   },
   {
    "duration": 84,
    "start_time": "2022-07-25T20:00:39.724Z"
   },
   {
    "duration": 1393,
    "start_time": "2022-07-25T20:00:39.810Z"
   },
   {
    "duration": 6,
    "start_time": "2022-07-25T20:00:41.205Z"
   },
   {
    "duration": 15,
    "start_time": "2022-07-25T20:00:41.213Z"
   },
   {
    "duration": 9,
    "start_time": "2022-07-25T20:00:41.230Z"
   },
   {
    "duration": 54,
    "start_time": "2022-07-25T20:00:41.264Z"
   },
   {
    "duration": 14,
    "start_time": "2022-07-25T20:00:41.320Z"
   },
   {
    "duration": 27,
    "start_time": "2022-07-25T20:00:41.336Z"
   },
   {
    "duration": 8,
    "start_time": "2022-07-25T20:00:41.366Z"
   },
   {
    "duration": 29,
    "start_time": "2022-07-25T20:00:41.376Z"
   },
   {
    "duration": 10,
    "start_time": "2022-07-25T20:00:41.407Z"
   },
   {
    "duration": 49,
    "start_time": "2022-07-25T20:00:41.419Z"
   },
   {
    "duration": 15,
    "start_time": "2022-07-25T20:00:41.470Z"
   },
   {
    "duration": 27,
    "start_time": "2022-07-25T20:00:41.487Z"
   },
   {
    "duration": 14,
    "start_time": "2022-07-25T20:00:41.516Z"
   },
   {
    "duration": 46,
    "start_time": "2022-07-25T20:00:41.532Z"
   },
   {
    "duration": 17,
    "start_time": "2022-07-25T20:00:41.580Z"
   },
   {
    "duration": 17,
    "start_time": "2022-07-25T20:00:41.598Z"
   },
   {
    "duration": 11,
    "start_time": "2022-07-25T20:00:41.617Z"
   },
   {
    "duration": 189,
    "start_time": "2022-07-25T20:00:41.630Z"
   },
   {
    "duration": 236,
    "start_time": "2022-07-25T20:00:41.825Z"
   },
   {
    "duration": 233,
    "start_time": "2022-07-25T20:00:42.064Z"
   },
   {
    "duration": 284,
    "start_time": "2022-07-25T20:00:42.299Z"
   },
   {
    "duration": 250,
    "start_time": "2022-07-25T20:00:42.585Z"
   },
   {
    "duration": 314,
    "start_time": "2022-07-25T20:00:42.838Z"
   },
   {
    "duration": 225,
    "start_time": "2022-07-25T20:00:43.154Z"
   },
   {
    "duration": 219,
    "start_time": "2022-07-25T20:00:43.381Z"
   },
   {
    "duration": 4,
    "start_time": "2022-07-25T20:00:43.602Z"
   },
   {
    "duration": 12,
    "start_time": "2022-07-25T20:00:43.608Z"
   },
   {
    "duration": 12,
    "start_time": "2022-07-25T20:00:43.621Z"
   },
   {
    "duration": 4,
    "start_time": "2022-07-25T20:00:43.635Z"
   },
   {
    "duration": 44,
    "start_time": "2022-07-25T20:00:43.640Z"
   },
   {
    "duration": 27,
    "start_time": "2022-07-25T20:00:43.685Z"
   },
   {
    "duration": 28,
    "start_time": "2022-07-25T20:00:43.713Z"
   },
   {
    "duration": 45,
    "start_time": "2022-07-25T20:00:43.742Z"
   },
   {
    "duration": 199,
    "start_time": "2022-07-25T20:00:43.789Z"
   },
   {
    "duration": 24,
    "start_time": "2022-07-25T20:00:43.990Z"
   },
   {
    "duration": 25,
    "start_time": "2022-07-25T20:00:44.016Z"
   },
   {
    "duration": 275,
    "start_time": "2022-07-25T20:00:44.042Z"
   },
   {
    "duration": 118,
    "start_time": "2022-07-25T20:00:44.319Z"
   },
   {
    "duration": 0,
    "start_time": "2022-07-25T20:00:44.439Z"
   },
   {
    "duration": 0,
    "start_time": "2022-07-25T20:00:44.440Z"
   },
   {
    "duration": 0,
    "start_time": "2022-07-25T20:00:44.441Z"
   },
   {
    "duration": 0,
    "start_time": "2022-07-25T20:00:44.442Z"
   },
   {
    "duration": 0,
    "start_time": "2022-07-25T20:00:44.443Z"
   },
   {
    "duration": 1277,
    "start_time": "2022-07-26T18:59:52.643Z"
   },
   {
    "duration": 140,
    "start_time": "2022-07-26T18:59:53.922Z"
   },
   {
    "duration": 13,
    "start_time": "2022-07-26T18:59:54.064Z"
   },
   {
    "duration": 12,
    "start_time": "2022-07-26T18:59:54.079Z"
   },
   {
    "duration": 13,
    "start_time": "2022-07-26T18:59:54.093Z"
   },
   {
    "duration": 6,
    "start_time": "2022-07-26T18:59:54.108Z"
   },
   {
    "duration": 12,
    "start_time": "2022-07-26T18:59:54.134Z"
   },
   {
    "duration": 9,
    "start_time": "2022-07-26T18:59:54.147Z"
   },
   {
    "duration": 30,
    "start_time": "2022-07-26T18:59:54.158Z"
   },
   {
    "duration": 11,
    "start_time": "2022-07-26T18:59:54.190Z"
   },
   {
    "duration": 34,
    "start_time": "2022-07-26T18:59:54.203Z"
   },
   {
    "duration": 4,
    "start_time": "2022-07-26T18:59:54.239Z"
   },
   {
    "duration": 16,
    "start_time": "2022-07-26T18:59:54.244Z"
   },
   {
    "duration": 15,
    "start_time": "2022-07-26T18:59:54.263Z"
   },
   {
    "duration": 10,
    "start_time": "2022-07-26T18:59:54.280Z"
   },
   {
    "duration": 9,
    "start_time": "2022-07-26T18:59:54.291Z"
   },
   {
    "duration": 16,
    "start_time": "2022-07-26T18:59:54.302Z"
   },
   {
    "duration": 17,
    "start_time": "2022-07-26T18:59:54.320Z"
   },
   {
    "duration": 27,
    "start_time": "2022-07-26T18:59:54.338Z"
   },
   {
    "duration": 170,
    "start_time": "2022-07-26T18:59:54.367Z"
   },
   {
    "duration": 96,
    "start_time": "2022-07-26T18:59:54.538Z"
   },
   {
    "duration": 1226,
    "start_time": "2022-07-26T18:59:54.635Z"
   },
   {
    "duration": 5,
    "start_time": "2022-07-26T18:59:55.862Z"
   },
   {
    "duration": 14,
    "start_time": "2022-07-26T18:59:55.868Z"
   },
   {
    "duration": 5,
    "start_time": "2022-07-26T18:59:55.884Z"
   },
   {
    "duration": 81,
    "start_time": "2022-07-26T18:59:55.890Z"
   },
   {
    "duration": 13,
    "start_time": "2022-07-26T18:59:55.973Z"
   },
   {
    "duration": 8,
    "start_time": "2022-07-26T18:59:55.988Z"
   },
   {
    "duration": 11,
    "start_time": "2022-07-26T18:59:55.997Z"
   },
   {
    "duration": 43,
    "start_time": "2022-07-26T18:59:56.009Z"
   },
   {
    "duration": 10,
    "start_time": "2022-07-26T18:59:56.054Z"
   },
   {
    "duration": 23,
    "start_time": "2022-07-26T18:59:56.066Z"
   },
   {
    "duration": 10,
    "start_time": "2022-07-26T18:59:56.090Z"
   },
   {
    "duration": 38,
    "start_time": "2022-07-26T18:59:56.102Z"
   },
   {
    "duration": 9,
    "start_time": "2022-07-26T18:59:56.141Z"
   },
   {
    "duration": 15,
    "start_time": "2022-07-26T18:59:56.151Z"
   },
   {
    "duration": 11,
    "start_time": "2022-07-26T18:59:56.168Z"
   },
   {
    "duration": 18,
    "start_time": "2022-07-26T18:59:56.180Z"
   },
   {
    "duration": 39,
    "start_time": "2022-07-26T18:59:56.200Z"
   },
   {
    "duration": 181,
    "start_time": "2022-07-26T18:59:56.241Z"
   },
   {
    "duration": 239,
    "start_time": "2022-07-26T18:59:56.426Z"
   },
   {
    "duration": 242,
    "start_time": "2022-07-26T18:59:56.667Z"
   },
   {
    "duration": 264,
    "start_time": "2022-07-26T18:59:56.910Z"
   },
   {
    "duration": 196,
    "start_time": "2022-07-26T18:59:57.175Z"
   },
   {
    "duration": 269,
    "start_time": "2022-07-26T18:59:57.372Z"
   },
   {
    "duration": 201,
    "start_time": "2022-07-26T18:59:57.642Z"
   },
   {
    "duration": 216,
    "start_time": "2022-07-26T18:59:57.845Z"
   },
   {
    "duration": 27,
    "start_time": "2022-07-26T18:59:58.062Z"
   },
   {
    "duration": 272,
    "start_time": "2022-07-26T18:59:58.091Z"
   },
   {
    "duration": 122,
    "start_time": "2022-07-26T18:59:58.365Z"
   },
   {
    "duration": 0,
    "start_time": "2022-07-26T18:59:58.489Z"
   },
   {
    "duration": 0,
    "start_time": "2022-07-26T18:59:58.490Z"
   },
   {
    "duration": 0,
    "start_time": "2022-07-26T18:59:58.491Z"
   },
   {
    "duration": 0,
    "start_time": "2022-07-26T18:59:58.492Z"
   },
   {
    "duration": 0,
    "start_time": "2022-07-26T18:59:58.493Z"
   },
   {
    "duration": 3,
    "start_time": "2022-07-26T19:08:01.366Z"
   },
   {
    "duration": 5,
    "start_time": "2022-07-26T19:08:32.110Z"
   },
   {
    "duration": 9,
    "start_time": "2022-07-26T19:24:30.268Z"
   },
   {
    "duration": 166,
    "start_time": "2022-07-26T19:25:07.414Z"
   },
   {
    "duration": 214,
    "start_time": "2022-07-26T19:28:12.748Z"
   },
   {
    "duration": 232,
    "start_time": "2022-07-26T19:28:41.343Z"
   },
   {
    "duration": 243,
    "start_time": "2022-07-26T19:32:04.908Z"
   },
   {
    "duration": 238,
    "start_time": "2022-07-26T19:33:03.290Z"
   },
   {
    "duration": 8,
    "start_time": "2022-07-26T19:34:23.869Z"
   },
   {
    "duration": 5,
    "start_time": "2022-07-26T19:34:49.626Z"
   },
   {
    "duration": 8,
    "start_time": "2022-07-26T19:35:00.763Z"
   },
   {
    "duration": 41,
    "start_time": "2022-07-26T19:36:47.042Z"
   },
   {
    "duration": 13,
    "start_time": "2022-07-26T19:37:03.486Z"
   },
   {
    "duration": 5,
    "start_time": "2022-07-26T19:41:08.209Z"
   },
   {
    "duration": 25,
    "start_time": "2022-07-26T19:43:31.120Z"
   },
   {
    "duration": 31,
    "start_time": "2022-07-26T19:45:46.983Z"
   },
   {
    "duration": 34,
    "start_time": "2022-07-26T19:46:13.604Z"
   },
   {
    "duration": 3,
    "start_time": "2022-07-26T19:50:24.753Z"
   },
   {
    "duration": 4,
    "start_time": "2022-07-26T19:50:29.822Z"
   },
   {
    "duration": 1112,
    "start_time": "2022-07-26T19:50:59.644Z"
   },
   {
    "duration": 89,
    "start_time": "2022-07-26T19:51:00.758Z"
   },
   {
    "duration": 12,
    "start_time": "2022-07-26T19:51:00.849Z"
   },
   {
    "duration": 19,
    "start_time": "2022-07-26T19:51:00.864Z"
   },
   {
    "duration": 38,
    "start_time": "2022-07-26T19:51:00.885Z"
   },
   {
    "duration": 17,
    "start_time": "2022-07-26T19:51:00.924Z"
   },
   {
    "duration": 20,
    "start_time": "2022-07-26T19:51:00.942Z"
   },
   {
    "duration": 23,
    "start_time": "2022-07-26T19:51:00.963Z"
   },
   {
    "duration": 22,
    "start_time": "2022-07-26T19:51:00.988Z"
   },
   {
    "duration": 12,
    "start_time": "2022-07-26T19:51:01.012Z"
   },
   {
    "duration": 10,
    "start_time": "2022-07-26T19:51:01.026Z"
   },
   {
    "duration": 13,
    "start_time": "2022-07-26T19:51:01.038Z"
   },
   {
    "duration": 22,
    "start_time": "2022-07-26T19:51:01.053Z"
   },
   {
    "duration": 23,
    "start_time": "2022-07-26T19:51:01.076Z"
   },
   {
    "duration": 38,
    "start_time": "2022-07-26T19:51:01.102Z"
   },
   {
    "duration": 18,
    "start_time": "2022-07-26T19:51:01.141Z"
   },
   {
    "duration": 15,
    "start_time": "2022-07-26T19:51:01.161Z"
   },
   {
    "duration": 18,
    "start_time": "2022-07-26T19:51:01.178Z"
   },
   {
    "duration": 42,
    "start_time": "2022-07-26T19:51:01.198Z"
   },
   {
    "duration": 168,
    "start_time": "2022-07-26T19:51:01.241Z"
   },
   {
    "duration": 87,
    "start_time": "2022-07-26T19:51:01.410Z"
   },
   {
    "duration": 1303,
    "start_time": "2022-07-26T19:51:01.499Z"
   },
   {
    "duration": 4,
    "start_time": "2022-07-26T19:51:02.804Z"
   },
   {
    "duration": 27,
    "start_time": "2022-07-26T19:51:02.810Z"
   },
   {
    "duration": 10,
    "start_time": "2022-07-26T19:51:02.839Z"
   },
   {
    "duration": 69,
    "start_time": "2022-07-26T19:51:02.851Z"
   },
   {
    "duration": 20,
    "start_time": "2022-07-26T19:51:02.922Z"
   },
   {
    "duration": 8,
    "start_time": "2022-07-26T19:51:02.947Z"
   },
   {
    "duration": 25,
    "start_time": "2022-07-26T19:51:02.956Z"
   },
   {
    "duration": 16,
    "start_time": "2022-07-26T19:51:02.983Z"
   },
   {
    "duration": 10,
    "start_time": "2022-07-26T19:51:03.001Z"
   },
   {
    "duration": 16,
    "start_time": "2022-07-26T19:51:03.034Z"
   },
   {
    "duration": 9,
    "start_time": "2022-07-26T19:51:03.052Z"
   },
   {
    "duration": 17,
    "start_time": "2022-07-26T19:51:03.062Z"
   },
   {
    "duration": 10,
    "start_time": "2022-07-26T19:51:03.081Z"
   },
   {
    "duration": 50,
    "start_time": "2022-07-26T19:51:03.092Z"
   },
   {
    "duration": 11,
    "start_time": "2022-07-26T19:51:03.144Z"
   },
   {
    "duration": 15,
    "start_time": "2022-07-26T19:51:03.156Z"
   },
   {
    "duration": 11,
    "start_time": "2022-07-26T19:51:03.173Z"
   },
   {
    "duration": 193,
    "start_time": "2022-07-26T19:51:03.186Z"
   },
   {
    "duration": 233,
    "start_time": "2022-07-26T19:51:03.381Z"
   },
   {
    "duration": 237,
    "start_time": "2022-07-26T19:51:03.616Z"
   },
   {
    "duration": 262,
    "start_time": "2022-07-26T19:51:03.855Z"
   },
   {
    "duration": 196,
    "start_time": "2022-07-26T19:51:04.119Z"
   },
   {
    "duration": 267,
    "start_time": "2022-07-26T19:51:04.316Z"
   },
   {
    "duration": 195,
    "start_time": "2022-07-26T19:51:04.585Z"
   },
   {
    "duration": 206,
    "start_time": "2022-07-26T19:51:04.781Z"
   },
   {
    "duration": 23,
    "start_time": "2022-07-26T19:51:04.988Z"
   },
   {
    "duration": 20,
    "start_time": "2022-07-26T19:51:05.013Z"
   },
   {
    "duration": 4,
    "start_time": "2022-07-26T19:51:05.035Z"
   },
   {
    "duration": 10,
    "start_time": "2022-07-26T19:51:05.041Z"
   },
   {
    "duration": 164,
    "start_time": "2022-07-26T19:51:05.053Z"
   },
   {
    "duration": 194,
    "start_time": "2022-07-26T19:51:05.219Z"
   },
   {
    "duration": 189,
    "start_time": "2022-07-26T19:51:05.415Z"
   },
   {
    "duration": 7,
    "start_time": "2022-07-26T19:51:05.606Z"
   },
   {
    "duration": 34,
    "start_time": "2022-07-26T19:51:05.614Z"
   },
   {
    "duration": 5,
    "start_time": "2022-07-26T19:51:05.650Z"
   },
   {
    "duration": 25,
    "start_time": "2022-07-26T19:51:05.657Z"
   },
   {
    "duration": 1391,
    "start_time": "2022-07-27T17:47:16.852Z"
   },
   {
    "duration": 128,
    "start_time": "2022-07-27T17:47:18.246Z"
   },
   {
    "duration": 13,
    "start_time": "2022-07-27T17:47:18.376Z"
   },
   {
    "duration": 24,
    "start_time": "2022-07-27T17:47:18.392Z"
   },
   {
    "duration": 14,
    "start_time": "2022-07-27T17:47:18.418Z"
   },
   {
    "duration": 15,
    "start_time": "2022-07-27T17:47:18.434Z"
   },
   {
    "duration": 25,
    "start_time": "2022-07-27T17:47:18.450Z"
   },
   {
    "duration": 9,
    "start_time": "2022-07-27T17:47:18.476Z"
   },
   {
    "duration": 26,
    "start_time": "2022-07-27T17:47:18.487Z"
   },
   {
    "duration": 11,
    "start_time": "2022-07-27T17:47:18.517Z"
   },
   {
    "duration": 12,
    "start_time": "2022-07-27T17:47:18.529Z"
   },
   {
    "duration": 3,
    "start_time": "2022-07-27T17:47:18.543Z"
   },
   {
    "duration": 11,
    "start_time": "2022-07-27T17:47:18.548Z"
   },
   {
    "duration": 16,
    "start_time": "2022-07-27T17:47:18.561Z"
   },
   {
    "duration": 29,
    "start_time": "2022-07-27T17:47:18.579Z"
   },
   {
    "duration": 16,
    "start_time": "2022-07-27T17:47:18.609Z"
   },
   {
    "duration": 14,
    "start_time": "2022-07-27T17:47:18.627Z"
   },
   {
    "duration": 17,
    "start_time": "2022-07-27T17:47:18.643Z"
   },
   {
    "duration": 50,
    "start_time": "2022-07-27T17:47:18.661Z"
   },
   {
    "duration": 172,
    "start_time": "2022-07-27T17:47:18.717Z"
   },
   {
    "duration": 89,
    "start_time": "2022-07-27T17:47:18.899Z"
   },
   {
    "duration": 1373,
    "start_time": "2022-07-27T17:47:18.990Z"
   },
   {
    "duration": 5,
    "start_time": "2022-07-27T17:47:20.365Z"
   },
   {
    "duration": 15,
    "start_time": "2022-07-27T17:47:20.371Z"
   },
   {
    "duration": 31,
    "start_time": "2022-07-27T17:47:20.388Z"
   },
   {
    "duration": 72,
    "start_time": "2022-07-27T17:47:20.421Z"
   },
   {
    "duration": 22,
    "start_time": "2022-07-27T17:47:20.494Z"
   },
   {
    "duration": 9,
    "start_time": "2022-07-27T17:47:20.521Z"
   },
   {
    "duration": 12,
    "start_time": "2022-07-27T17:47:20.532Z"
   },
   {
    "duration": 21,
    "start_time": "2022-07-27T17:47:20.546Z"
   },
   {
    "duration": 42,
    "start_time": "2022-07-27T17:47:20.569Z"
   },
   {
    "duration": 30,
    "start_time": "2022-07-27T17:47:20.613Z"
   },
   {
    "duration": 10,
    "start_time": "2022-07-27T17:47:20.645Z"
   },
   {
    "duration": 19,
    "start_time": "2022-07-27T17:47:20.656Z"
   },
   {
    "duration": 23,
    "start_time": "2022-07-27T17:47:20.677Z"
   },
   {
    "duration": 19,
    "start_time": "2022-07-27T17:47:20.701Z"
   },
   {
    "duration": 19,
    "start_time": "2022-07-27T17:47:20.721Z"
   },
   {
    "duration": 25,
    "start_time": "2022-07-27T17:47:20.742Z"
   },
   {
    "duration": 11,
    "start_time": "2022-07-27T17:47:20.769Z"
   },
   {
    "duration": 196,
    "start_time": "2022-07-27T17:47:20.782Z"
   },
   {
    "duration": 254,
    "start_time": "2022-07-27T17:47:20.980Z"
   },
   {
    "duration": 256,
    "start_time": "2022-07-27T17:47:21.236Z"
   },
   {
    "duration": 277,
    "start_time": "2022-07-27T17:47:21.494Z"
   },
   {
    "duration": 222,
    "start_time": "2022-07-27T17:47:21.773Z"
   },
   {
    "duration": 315,
    "start_time": "2022-07-27T17:47:22.000Z"
   },
   {
    "duration": 210,
    "start_time": "2022-07-27T17:47:22.317Z"
   },
   {
    "duration": 241,
    "start_time": "2022-07-27T17:47:22.529Z"
   },
   {
    "duration": 43,
    "start_time": "2022-07-27T17:47:22.772Z"
   },
   {
    "duration": 5,
    "start_time": "2022-07-27T17:47:22.819Z"
   },
   {
    "duration": 9,
    "start_time": "2022-07-27T17:47:22.826Z"
   },
   {
    "duration": 11,
    "start_time": "2022-07-27T17:47:22.837Z"
   },
   {
    "duration": 186,
    "start_time": "2022-07-27T17:47:22.850Z"
   },
   {
    "duration": 207,
    "start_time": "2022-07-27T17:47:23.038Z"
   },
   {
    "duration": 216,
    "start_time": "2022-07-27T17:47:23.248Z"
   },
   {
    "duration": 10,
    "start_time": "2022-07-27T17:47:23.466Z"
   },
   {
    "duration": 42,
    "start_time": "2022-07-27T17:47:23.478Z"
   },
   {
    "duration": 17,
    "start_time": "2022-07-27T17:47:23.523Z"
   },
   {
    "duration": 36,
    "start_time": "2022-07-27T17:47:23.541Z"
   },
   {
    "duration": 35,
    "start_time": "2022-07-27T17:47:23.579Z"
   },
   {
    "duration": 18,
    "start_time": "2022-07-27T17:47:23.617Z"
   },
   {
    "duration": 16,
    "start_time": "2022-07-27T18:02:31.030Z"
   },
   {
    "duration": 7,
    "start_time": "2022-07-27T18:06:56.346Z"
   },
   {
    "duration": 66,
    "start_time": "2022-07-27T18:07:49.498Z"
   },
   {
    "duration": 58,
    "start_time": "2022-07-27T18:08:07.593Z"
   },
   {
    "duration": 54,
    "start_time": "2022-07-27T18:09:02.467Z"
   },
   {
    "duration": 110,
    "start_time": "2022-07-27T18:12:00.310Z"
   },
   {
    "duration": 54,
    "start_time": "2022-07-27T18:12:18.560Z"
   },
   {
    "duration": 6,
    "start_time": "2022-07-27T18:12:26.925Z"
   },
   {
    "duration": 52,
    "start_time": "2022-07-27T18:12:29.421Z"
   },
   {
    "duration": 7,
    "start_time": "2022-07-27T18:13:10.578Z"
   },
   {
    "duration": 48,
    "start_time": "2022-07-27T18:13:13.403Z"
   },
   {
    "duration": 10,
    "start_time": "2022-07-27T18:54:57.621Z"
   },
   {
    "duration": 12,
    "start_time": "2022-07-27T18:57:28.948Z"
   },
   {
    "duration": 4,
    "start_time": "2022-07-27T19:00:57.943Z"
   },
   {
    "duration": 14,
    "start_time": "2022-07-27T19:01:06.470Z"
   },
   {
    "duration": 115,
    "start_time": "2022-07-27T19:01:35.220Z"
   },
   {
    "duration": 133,
    "start_time": "2022-07-27T19:02:03.939Z"
   },
   {
    "duration": 11,
    "start_time": "2022-07-27T19:02:49.297Z"
   },
   {
    "duration": 68,
    "start_time": "2022-07-27T19:02:51.416Z"
   },
   {
    "duration": 8,
    "start_time": "2022-07-27T19:10:30.015Z"
   },
   {
    "duration": 11,
    "start_time": "2022-07-27T19:10:46.088Z"
   },
   {
    "duration": 26,
    "start_time": "2022-07-27T19:11:13.220Z"
   },
   {
    "duration": 53,
    "start_time": "2022-07-27T19:11:18.883Z"
   },
   {
    "duration": 48,
    "start_time": "2022-07-27T19:11:25.826Z"
   },
   {
    "duration": 7,
    "start_time": "2022-07-27T19:15:58.533Z"
   },
   {
    "duration": 27,
    "start_time": "2022-07-27T19:16:14.369Z"
   },
   {
    "duration": 6,
    "start_time": "2022-07-27T19:16:25.702Z"
   },
   {
    "duration": 46,
    "start_time": "2022-07-27T19:18:21.009Z"
   },
   {
    "duration": 9,
    "start_time": "2022-07-27T19:18:29.563Z"
   },
   {
    "duration": 9,
    "start_time": "2022-07-27T19:21:14.489Z"
   },
   {
    "duration": 8,
    "start_time": "2022-07-27T19:21:16.378Z"
   },
   {
    "duration": 5,
    "start_time": "2022-07-27T19:23:13.624Z"
   },
   {
    "duration": 8,
    "start_time": "2022-07-27T19:28:40.946Z"
   },
   {
    "duration": 1186,
    "start_time": "2022-07-27T19:29:48.833Z"
   },
   {
    "duration": 64,
    "start_time": "2022-07-27T19:29:50.021Z"
   },
   {
    "duration": 14,
    "start_time": "2022-07-27T19:29:50.086Z"
   },
   {
    "duration": 19,
    "start_time": "2022-07-27T19:29:50.102Z"
   },
   {
    "duration": 17,
    "start_time": "2022-07-27T19:29:50.122Z"
   },
   {
    "duration": 14,
    "start_time": "2022-07-27T19:29:50.140Z"
   },
   {
    "duration": 17,
    "start_time": "2022-07-27T19:29:50.156Z"
   },
   {
    "duration": 10,
    "start_time": "2022-07-27T19:29:50.174Z"
   },
   {
    "duration": 22,
    "start_time": "2022-07-27T19:29:50.185Z"
   },
   {
    "duration": 7,
    "start_time": "2022-07-27T19:29:50.210Z"
   },
   {
    "duration": 9,
    "start_time": "2022-07-27T19:29:50.219Z"
   },
   {
    "duration": 4,
    "start_time": "2022-07-27T19:29:50.229Z"
   },
   {
    "duration": 11,
    "start_time": "2022-07-27T19:29:50.234Z"
   },
   {
    "duration": 14,
    "start_time": "2022-07-27T19:29:50.247Z"
   },
   {
    "duration": 10,
    "start_time": "2022-07-27T19:29:50.263Z"
   },
   {
    "duration": 6,
    "start_time": "2022-07-27T19:29:50.298Z"
   },
   {
    "duration": 15,
    "start_time": "2022-07-27T19:29:50.305Z"
   },
   {
    "duration": 8,
    "start_time": "2022-07-27T19:29:50.322Z"
   },
   {
    "duration": 23,
    "start_time": "2022-07-27T19:29:50.331Z"
   },
   {
    "duration": 184,
    "start_time": "2022-07-27T19:29:50.356Z"
   },
   {
    "duration": 98,
    "start_time": "2022-07-27T19:29:50.542Z"
   },
   {
    "duration": 1277,
    "start_time": "2022-07-27T19:29:50.642Z"
   },
   {
    "duration": 4,
    "start_time": "2022-07-27T19:29:51.921Z"
   },
   {
    "duration": 14,
    "start_time": "2022-07-27T19:29:51.927Z"
   },
   {
    "duration": 8,
    "start_time": "2022-07-27T19:29:51.943Z"
   },
   {
    "duration": 81,
    "start_time": "2022-07-27T19:29:51.953Z"
   },
   {
    "duration": 15,
    "start_time": "2022-07-27T19:29:52.037Z"
   },
   {
    "duration": 8,
    "start_time": "2022-07-27T19:29:52.056Z"
   },
   {
    "duration": 18,
    "start_time": "2022-07-27T19:29:52.065Z"
   },
   {
    "duration": 28,
    "start_time": "2022-07-27T19:29:52.084Z"
   },
   {
    "duration": 10,
    "start_time": "2022-07-27T19:29:52.114Z"
   },
   {
    "duration": 23,
    "start_time": "2022-07-27T19:29:52.125Z"
   },
   {
    "duration": 10,
    "start_time": "2022-07-27T19:29:52.149Z"
   },
   {
    "duration": 43,
    "start_time": "2022-07-27T19:29:52.160Z"
   },
   {
    "duration": 8,
    "start_time": "2022-07-27T19:29:52.205Z"
   },
   {
    "duration": 19,
    "start_time": "2022-07-27T19:29:52.215Z"
   },
   {
    "duration": 11,
    "start_time": "2022-07-27T19:29:52.235Z"
   },
   {
    "duration": 19,
    "start_time": "2022-07-27T19:29:52.248Z"
   },
   {
    "duration": 35,
    "start_time": "2022-07-27T19:29:52.269Z"
   },
   {
    "duration": 13,
    "start_time": "2022-07-27T19:29:52.306Z"
   },
   {
    "duration": 171,
    "start_time": "2022-07-27T19:29:52.320Z"
   },
   {
    "duration": 258,
    "start_time": "2022-07-27T19:29:52.493Z"
   },
   {
    "duration": 261,
    "start_time": "2022-07-27T19:29:52.753Z"
   },
   {
    "duration": 284,
    "start_time": "2022-07-27T19:29:53.016Z"
   },
   {
    "duration": 224,
    "start_time": "2022-07-27T19:29:53.302Z"
   },
   {
    "duration": 301,
    "start_time": "2022-07-27T19:29:53.527Z"
   },
   {
    "duration": 212,
    "start_time": "2022-07-27T19:29:53.829Z"
   },
   {
    "duration": 213,
    "start_time": "2022-07-27T19:29:54.043Z"
   },
   {
    "duration": 26,
    "start_time": "2022-07-27T19:29:54.257Z"
   },
   {
    "duration": 3,
    "start_time": "2022-07-27T19:29:54.299Z"
   },
   {
    "duration": 23,
    "start_time": "2022-07-27T19:29:54.304Z"
   },
   {
    "duration": 14,
    "start_time": "2022-07-27T19:29:54.329Z"
   },
   {
    "duration": 212,
    "start_time": "2022-07-27T19:29:54.345Z"
   },
   {
    "duration": 215,
    "start_time": "2022-07-27T19:29:54.559Z"
   },
   {
    "duration": 207,
    "start_time": "2022-07-27T19:29:54.775Z"
   },
   {
    "duration": 15,
    "start_time": "2022-07-27T19:29:54.984Z"
   },
   {
    "duration": 18,
    "start_time": "2022-07-27T19:29:55.002Z"
   },
   {
    "duration": 6,
    "start_time": "2022-07-27T19:29:55.022Z"
   },
   {
    "duration": 28,
    "start_time": "2022-07-27T19:29:55.030Z"
   },
   {
    "duration": 8,
    "start_time": "2022-07-27T19:29:55.060Z"
   },
   {
    "duration": 35,
    "start_time": "2022-07-27T19:29:55.070Z"
   },
   {
    "duration": 9,
    "start_time": "2022-07-27T19:29:55.107Z"
   },
   {
    "duration": 135,
    "start_time": "2022-07-27T19:29:55.118Z"
   },
   {
    "duration": 0,
    "start_time": "2022-07-27T19:29:55.255Z"
   },
   {
    "duration": 0,
    "start_time": "2022-07-27T19:29:55.257Z"
   },
   {
    "duration": 0,
    "start_time": "2022-07-27T19:29:55.258Z"
   },
   {
    "duration": 0,
    "start_time": "2022-07-27T19:29:55.260Z"
   },
   {
    "duration": 14,
    "start_time": "2022-07-27T19:34:49.149Z"
   },
   {
    "duration": 5,
    "start_time": "2022-07-27T19:36:44.070Z"
   },
   {
    "duration": 5,
    "start_time": "2022-07-27T19:38:08.155Z"
   },
   {
    "duration": 10,
    "start_time": "2022-07-27T19:46:02.646Z"
   },
   {
    "duration": 67,
    "start_time": "2022-07-27T19:46:05.776Z"
   },
   {
    "duration": 5,
    "start_time": "2022-07-27T19:53:39.627Z"
   },
   {
    "duration": 5,
    "start_time": "2022-07-27T19:54:36.689Z"
   },
   {
    "duration": 5,
    "start_time": "2022-07-27T19:58:27.456Z"
   },
   {
    "duration": 5,
    "start_time": "2022-07-27T20:00:09.708Z"
   },
   {
    "duration": 5,
    "start_time": "2022-07-27T20:00:37.081Z"
   },
   {
    "duration": 6,
    "start_time": "2022-07-27T20:24:10.732Z"
   },
   {
    "duration": 22,
    "start_time": "2022-07-27T20:25:13.513Z"
   },
   {
    "duration": 53,
    "start_time": "2022-07-27T20:38:38.672Z"
   },
   {
    "duration": 52,
    "start_time": "2022-07-27T20:38:49.115Z"
   },
   {
    "duration": 7,
    "start_time": "2022-07-27T20:39:28.449Z"
   },
   {
    "duration": 28,
    "start_time": "2022-07-27T20:39:31.694Z"
   },
   {
    "duration": 7,
    "start_time": "2022-07-27T20:39:55.822Z"
   },
   {
    "duration": 23,
    "start_time": "2022-07-27T20:39:58.311Z"
   },
   {
    "duration": 8,
    "start_time": "2022-07-27T20:41:13.719Z"
   },
   {
    "duration": 22,
    "start_time": "2022-07-27T20:41:16.220Z"
   },
   {
    "duration": 7,
    "start_time": "2022-07-27T20:41:48.195Z"
   },
   {
    "duration": 19,
    "start_time": "2022-07-27T20:41:55.870Z"
   },
   {
    "duration": 8,
    "start_time": "2022-07-27T20:43:51.027Z"
   },
   {
    "duration": 7,
    "start_time": "2022-07-27T20:44:21.628Z"
   },
   {
    "duration": 22,
    "start_time": "2022-07-27T20:44:23.881Z"
   },
   {
    "duration": 4,
    "start_time": "2022-07-27T21:00:31.461Z"
   },
   {
    "duration": 7,
    "start_time": "2022-07-27T21:02:02.568Z"
   },
   {
    "duration": 35,
    "start_time": "2022-07-27T21:02:04.488Z"
   },
   {
    "duration": 7,
    "start_time": "2022-07-27T21:02:21.994Z"
   },
   {
    "duration": 24,
    "start_time": "2022-07-27T21:02:24.036Z"
   },
   {
    "duration": 8,
    "start_time": "2022-07-27T21:02:41.418Z"
   },
   {
    "duration": 19,
    "start_time": "2022-07-27T21:02:45.045Z"
   },
   {
    "duration": 13,
    "start_time": "2022-07-27T21:13:45.284Z"
   },
   {
    "duration": 57,
    "start_time": "2022-07-27T21:14:36.966Z"
   },
   {
    "duration": 8,
    "start_time": "2022-07-27T21:14:49.856Z"
   },
   {
    "duration": 26,
    "start_time": "2022-07-27T21:18:41.021Z"
   },
   {
    "duration": 47,
    "start_time": "2022-07-27T21:20:48.393Z"
   },
   {
    "duration": 46,
    "start_time": "2022-07-27T21:20:54.373Z"
   },
   {
    "duration": 36,
    "start_time": "2022-07-27T21:21:14.898Z"
   },
   {
    "duration": 34,
    "start_time": "2022-07-27T21:21:51.573Z"
   },
   {
    "duration": 24,
    "start_time": "2022-07-27T21:22:47.511Z"
   },
   {
    "duration": 10,
    "start_time": "2022-07-27T21:23:25.607Z"
   },
   {
    "duration": 9,
    "start_time": "2022-07-27T21:23:35.074Z"
   },
   {
    "duration": 10,
    "start_time": "2022-07-27T21:23:41.105Z"
   },
   {
    "duration": 23,
    "start_time": "2022-07-27T21:24:08.999Z"
   },
   {
    "duration": 6,
    "start_time": "2022-07-27T21:42:26.425Z"
   },
   {
    "duration": 41,
    "start_time": "2022-07-27T21:43:01.573Z"
   },
   {
    "duration": 6,
    "start_time": "2022-07-27T21:45:32.766Z"
   },
   {
    "duration": 7,
    "start_time": "2022-07-27T21:47:15.754Z"
   },
   {
    "duration": 41,
    "start_time": "2022-07-27T21:47:18.242Z"
   },
   {
    "duration": 42,
    "start_time": "2022-07-27T21:47:30.104Z"
   },
   {
    "duration": 24,
    "start_time": "2022-07-27T21:48:29.662Z"
   },
   {
    "duration": 5,
    "start_time": "2022-07-27T21:48:41.992Z"
   },
   {
    "duration": 40,
    "start_time": "2022-07-27T21:48:55.815Z"
   },
   {
    "duration": 6,
    "start_time": "2022-07-27T21:51:55.654Z"
   },
   {
    "duration": 41,
    "start_time": "2022-07-27T21:51:57.759Z"
   },
   {
    "duration": 10,
    "start_time": "2022-07-27T21:52:21.485Z"
   },
   {
    "duration": 46,
    "start_time": "2022-07-27T21:52:24.267Z"
   },
   {
    "duration": 7,
    "start_time": "2022-07-27T21:52:40.490Z"
   },
   {
    "duration": 7,
    "start_time": "2022-07-27T21:52:47.646Z"
   },
   {
    "duration": 43,
    "start_time": "2022-07-27T21:52:49.520Z"
   },
   {
    "duration": 7,
    "start_time": "2022-07-27T21:53:00.627Z"
   },
   {
    "duration": 37,
    "start_time": "2022-07-27T21:53:02.884Z"
   },
   {
    "duration": 6,
    "start_time": "2022-07-27T21:53:31.280Z"
   },
   {
    "duration": 38,
    "start_time": "2022-07-27T21:53:33.318Z"
   },
   {
    "duration": 7,
    "start_time": "2022-07-27T21:54:37.885Z"
   },
   {
    "duration": 7,
    "start_time": "2022-07-27T21:54:41.617Z"
   },
   {
    "duration": 38,
    "start_time": "2022-07-27T21:54:43.302Z"
   },
   {
    "duration": 7,
    "start_time": "2022-07-27T21:54:58.956Z"
   },
   {
    "duration": 36,
    "start_time": "2022-07-27T21:55:01.827Z"
   },
   {
    "duration": 7,
    "start_time": "2022-07-27T21:55:26.520Z"
   },
   {
    "duration": 35,
    "start_time": "2022-07-27T21:55:28.477Z"
   },
   {
    "duration": 8,
    "start_time": "2022-07-27T21:56:40.552Z"
   },
   {
    "duration": 45,
    "start_time": "2022-07-27T21:56:43.877Z"
   },
   {
    "duration": 8,
    "start_time": "2022-07-27T21:57:08.855Z"
   },
   {
    "duration": 42,
    "start_time": "2022-07-27T21:57:10.821Z"
   },
   {
    "duration": 8,
    "start_time": "2022-07-27T21:58:32.109Z"
   },
   {
    "duration": 42,
    "start_time": "2022-07-27T21:58:34.187Z"
   },
   {
    "duration": 60,
    "start_time": "2022-07-27T21:59:11.598Z"
   },
   {
    "duration": 7,
    "start_time": "2022-07-27T21:59:44.966Z"
   },
   {
    "duration": 40,
    "start_time": "2022-07-27T21:59:46.897Z"
   },
   {
    "duration": 7,
    "start_time": "2022-07-27T22:00:07.085Z"
   },
   {
    "duration": 39,
    "start_time": "2022-07-27T22:00:09.688Z"
   },
   {
    "duration": 7,
    "start_time": "2022-07-27T22:00:22.816Z"
   },
   {
    "duration": 36,
    "start_time": "2022-07-27T22:00:26.199Z"
   },
   {
    "duration": 39,
    "start_time": "2022-07-27T22:00:39.646Z"
   },
   {
    "duration": 7,
    "start_time": "2022-07-27T22:00:42.208Z"
   },
   {
    "duration": 38,
    "start_time": "2022-07-27T22:00:44.220Z"
   },
   {
    "duration": 7,
    "start_time": "2022-07-27T22:04:29.611Z"
   },
   {
    "duration": 37,
    "start_time": "2022-07-27T22:04:31.869Z"
   },
   {
    "duration": 7,
    "start_time": "2022-07-27T22:04:53.907Z"
   },
   {
    "duration": 1091,
    "start_time": "2022-07-27T22:10:45.238Z"
   },
   {
    "duration": 72,
    "start_time": "2022-07-27T22:10:46.331Z"
   },
   {
    "duration": 13,
    "start_time": "2022-07-27T22:10:46.404Z"
   },
   {
    "duration": 23,
    "start_time": "2022-07-27T22:10:46.419Z"
   },
   {
    "duration": 22,
    "start_time": "2022-07-27T22:10:46.445Z"
   },
   {
    "duration": 11,
    "start_time": "2022-07-27T22:10:46.468Z"
   },
   {
    "duration": 12,
    "start_time": "2022-07-27T22:10:46.480Z"
   },
   {
    "duration": 23,
    "start_time": "2022-07-27T22:10:46.494Z"
   },
   {
    "duration": 46,
    "start_time": "2022-07-27T22:10:46.519Z"
   },
   {
    "duration": 19,
    "start_time": "2022-07-27T22:10:46.566Z"
   },
   {
    "duration": 14,
    "start_time": "2022-07-27T22:10:46.587Z"
   },
   {
    "duration": 3,
    "start_time": "2022-07-27T22:10:46.603Z"
   },
   {
    "duration": 26,
    "start_time": "2022-07-27T22:10:46.607Z"
   },
   {
    "duration": 14,
    "start_time": "2022-07-27T22:10:46.636Z"
   },
   {
    "duration": 23,
    "start_time": "2022-07-27T22:10:46.652Z"
   },
   {
    "duration": 19,
    "start_time": "2022-07-27T22:10:46.676Z"
   },
   {
    "duration": 32,
    "start_time": "2022-07-27T22:10:46.696Z"
   },
   {
    "duration": 30,
    "start_time": "2022-07-27T22:10:46.729Z"
   },
   {
    "duration": 37,
    "start_time": "2022-07-27T22:10:46.760Z"
   },
   {
    "duration": 171,
    "start_time": "2022-07-27T22:10:46.799Z"
   },
   {
    "duration": 90,
    "start_time": "2022-07-27T22:10:46.972Z"
   },
   {
    "duration": 1272,
    "start_time": "2022-07-27T22:10:47.063Z"
   },
   {
    "duration": 4,
    "start_time": "2022-07-27T22:10:48.337Z"
   },
   {
    "duration": 13,
    "start_time": "2022-07-27T22:10:48.343Z"
   },
   {
    "duration": 47,
    "start_time": "2022-07-27T22:10:48.357Z"
   },
   {
    "duration": 87,
    "start_time": "2022-07-27T22:10:48.405Z"
   },
   {
    "duration": 14,
    "start_time": "2022-07-27T22:10:48.494Z"
   },
   {
    "duration": 23,
    "start_time": "2022-07-27T22:10:48.510Z"
   },
   {
    "duration": 16,
    "start_time": "2022-07-27T22:10:48.535Z"
   },
   {
    "duration": 41,
    "start_time": "2022-07-27T22:10:48.553Z"
   },
   {
    "duration": 18,
    "start_time": "2022-07-27T22:10:48.595Z"
   },
   {
    "duration": 39,
    "start_time": "2022-07-27T22:10:48.615Z"
   },
   {
    "duration": 20,
    "start_time": "2022-07-27T22:10:48.655Z"
   },
   {
    "duration": 32,
    "start_time": "2022-07-27T22:10:48.677Z"
   },
   {
    "duration": 22,
    "start_time": "2022-07-27T22:10:48.711Z"
   },
   {
    "duration": 26,
    "start_time": "2022-07-27T22:10:48.734Z"
   },
   {
    "duration": 27,
    "start_time": "2022-07-27T22:10:48.762Z"
   },
   {
    "duration": 19,
    "start_time": "2022-07-27T22:10:48.791Z"
   },
   {
    "duration": 23,
    "start_time": "2022-07-27T22:10:48.811Z"
   },
   {
    "duration": 7,
    "start_time": "2022-07-27T22:10:48.835Z"
   },
   {
    "duration": 189,
    "start_time": "2022-07-27T22:10:48.845Z"
   },
   {
    "duration": 239,
    "start_time": "2022-07-27T22:10:49.036Z"
   },
   {
    "duration": 244,
    "start_time": "2022-07-27T22:10:49.277Z"
   },
   {
    "duration": 266,
    "start_time": "2022-07-27T22:10:49.522Z"
   },
   {
    "duration": 209,
    "start_time": "2022-07-27T22:10:49.790Z"
   },
   {
    "duration": 284,
    "start_time": "2022-07-27T22:10:50.001Z"
   },
   {
    "duration": 208,
    "start_time": "2022-07-27T22:10:50.287Z"
   },
   {
    "duration": 215,
    "start_time": "2022-07-27T22:10:50.498Z"
   },
   {
    "duration": 26,
    "start_time": "2022-07-27T22:10:50.715Z"
   },
   {
    "duration": 3,
    "start_time": "2022-07-27T22:10:50.743Z"
   },
   {
    "duration": 10,
    "start_time": "2022-07-27T22:10:50.748Z"
   },
   {
    "duration": 10,
    "start_time": "2022-07-27T22:10:50.760Z"
   },
   {
    "duration": 164,
    "start_time": "2022-07-27T22:10:50.797Z"
   },
   {
    "duration": 201,
    "start_time": "2022-07-27T22:10:50.963Z"
   },
   {
    "duration": 197,
    "start_time": "2022-07-27T22:10:51.166Z"
   },
   {
    "duration": 8,
    "start_time": "2022-07-27T22:10:51.365Z"
   },
   {
    "duration": 32,
    "start_time": "2022-07-27T22:10:51.375Z"
   },
   {
    "duration": 6,
    "start_time": "2022-07-27T22:10:51.409Z"
   },
   {
    "duration": 34,
    "start_time": "2022-07-27T22:10:51.417Z"
   },
   {
    "duration": 9,
    "start_time": "2022-07-27T22:10:51.453Z"
   },
   {
    "duration": 9,
    "start_time": "2022-07-27T22:10:51.464Z"
   },
   {
    "duration": 42,
    "start_time": "2022-07-27T22:10:51.474Z"
   },
   {
    "duration": 5,
    "start_time": "2022-07-27T22:10:51.518Z"
   },
   {
    "duration": 124,
    "start_time": "2022-07-27T22:10:51.525Z"
   },
   {
    "duration": 0,
    "start_time": "2022-07-27T22:10:51.651Z"
   },
   {
    "duration": 0,
    "start_time": "2022-07-27T22:10:51.653Z"
   },
   {
    "duration": 0,
    "start_time": "2022-07-27T22:10:51.654Z"
   },
   {
    "duration": 6,
    "start_time": "2022-07-27T22:11:43.246Z"
   },
   {
    "duration": 38,
    "start_time": "2022-07-27T22:11:46.005Z"
   },
   {
    "duration": 7,
    "start_time": "2022-07-27T22:11:58.161Z"
   },
   {
    "duration": 39,
    "start_time": "2022-07-27T22:12:00.067Z"
   },
   {
    "duration": 7,
    "start_time": "2022-07-27T22:12:16.820Z"
   },
   {
    "duration": 32,
    "start_time": "2022-07-27T22:12:18.885Z"
   },
   {
    "duration": 9,
    "start_time": "2022-07-27T22:12:52.557Z"
   },
   {
    "duration": 39,
    "start_time": "2022-07-27T22:12:54.552Z"
   },
   {
    "duration": 7,
    "start_time": "2022-07-27T22:19:20.863Z"
   },
   {
    "duration": 36,
    "start_time": "2022-07-27T22:19:22.625Z"
   },
   {
    "duration": 6,
    "start_time": "2022-07-27T22:19:29.770Z"
   },
   {
    "duration": 32,
    "start_time": "2022-07-27T22:19:31.932Z"
   },
   {
    "duration": 51,
    "start_time": "2022-07-27T22:20:55.305Z"
   },
   {
    "duration": 6,
    "start_time": "2022-07-27T22:21:03.394Z"
   },
   {
    "duration": 35,
    "start_time": "2022-07-27T22:21:06.799Z"
   },
   {
    "duration": 6,
    "start_time": "2022-07-27T22:26:16.011Z"
   },
   {
    "duration": 77,
    "start_time": "2022-07-27T22:26:18.107Z"
   },
   {
    "duration": 7,
    "start_time": "2022-07-27T22:27:15.845Z"
   },
   {
    "duration": 39,
    "start_time": "2022-07-27T22:27:17.691Z"
   },
   {
    "duration": 7,
    "start_time": "2022-07-27T22:27:58.712Z"
   },
   {
    "duration": 35,
    "start_time": "2022-07-27T22:28:00.963Z"
   },
   {
    "duration": 9,
    "start_time": "2022-07-27T22:28:08.549Z"
   },
   {
    "duration": 7,
    "start_time": "2022-07-27T22:28:10.714Z"
   },
   {
    "duration": 31,
    "start_time": "2022-07-27T22:28:12.864Z"
   },
   {
    "duration": 14,
    "start_time": "2022-07-27T22:33:07.373Z"
   },
   {
    "duration": 9,
    "start_time": "2022-07-27T22:34:33.767Z"
   },
   {
    "duration": 9,
    "start_time": "2022-07-27T22:34:48.105Z"
   },
   {
    "duration": 12,
    "start_time": "2022-07-27T22:34:59.418Z"
   },
   {
    "duration": 10,
    "start_time": "2022-07-27T22:35:23.469Z"
   },
   {
    "duration": 121,
    "start_time": "2022-07-27T22:41:09.830Z"
   },
   {
    "duration": 27,
    "start_time": "2022-07-27T22:41:26.991Z"
   },
   {
    "duration": 27,
    "start_time": "2022-07-27T22:41:52.863Z"
   },
   {
    "duration": 5,
    "start_time": "2022-07-27T22:43:12.229Z"
   },
   {
    "duration": 4,
    "start_time": "2022-07-27T22:44:23.948Z"
   },
   {
    "duration": 5,
    "start_time": "2022-07-27T22:44:26.073Z"
   },
   {
    "duration": 5,
    "start_time": "2022-07-27T22:44:59.208Z"
   },
   {
    "duration": 5,
    "start_time": "2022-07-27T22:46:02.611Z"
   },
   {
    "duration": 8,
    "start_time": "2022-07-27T22:48:02.641Z"
   },
   {
    "duration": 14,
    "start_time": "2022-07-27T22:50:24.462Z"
   },
   {
    "duration": 44,
    "start_time": "2022-07-28T19:38:59.241Z"
   },
   {
    "duration": 1227,
    "start_time": "2022-07-28T19:39:05.395Z"
   },
   {
    "duration": 148,
    "start_time": "2022-07-28T19:39:06.624Z"
   },
   {
    "duration": 13,
    "start_time": "2022-07-28T19:39:06.773Z"
   },
   {
    "duration": 11,
    "start_time": "2022-07-28T19:39:06.788Z"
   },
   {
    "duration": 19,
    "start_time": "2022-07-28T19:39:06.800Z"
   },
   {
    "duration": 6,
    "start_time": "2022-07-28T19:39:06.820Z"
   },
   {
    "duration": 9,
    "start_time": "2022-07-28T19:39:06.827Z"
   },
   {
    "duration": 8,
    "start_time": "2022-07-28T19:39:06.837Z"
   },
   {
    "duration": 47,
    "start_time": "2022-07-28T19:39:06.846Z"
   },
   {
    "duration": 7,
    "start_time": "2022-07-28T19:39:06.896Z"
   },
   {
    "duration": 8,
    "start_time": "2022-07-28T19:39:06.904Z"
   },
   {
    "duration": 3,
    "start_time": "2022-07-28T19:39:06.913Z"
   },
   {
    "duration": 7,
    "start_time": "2022-07-28T19:39:06.917Z"
   },
   {
    "duration": 11,
    "start_time": "2022-07-28T19:39:06.925Z"
   },
   {
    "duration": 8,
    "start_time": "2022-07-28T19:39:06.938Z"
   },
   {
    "duration": 30,
    "start_time": "2022-07-28T19:39:06.947Z"
   },
   {
    "duration": 15,
    "start_time": "2022-07-28T19:39:06.978Z"
   },
   {
    "duration": 6,
    "start_time": "2022-07-28T19:39:06.994Z"
   },
   {
    "duration": 20,
    "start_time": "2022-07-28T19:39:07.001Z"
   },
   {
    "duration": 158,
    "start_time": "2022-07-28T19:39:07.023Z"
   },
   {
    "duration": 70,
    "start_time": "2022-07-28T19:39:07.182Z"
   },
   {
    "duration": 1267,
    "start_time": "2022-07-28T19:39:07.253Z"
   },
   {
    "duration": 4,
    "start_time": "2022-07-28T19:39:08.522Z"
   },
   {
    "duration": 11,
    "start_time": "2022-07-28T19:39:08.527Z"
   },
   {
    "duration": 7,
    "start_time": "2022-07-28T19:39:08.540Z"
   },
   {
    "duration": 67,
    "start_time": "2022-07-28T19:39:08.548Z"
   },
   {
    "duration": 12,
    "start_time": "2022-07-28T19:39:08.617Z"
   },
   {
    "duration": 7,
    "start_time": "2022-07-28T19:39:08.632Z"
   },
   {
    "duration": 8,
    "start_time": "2022-07-28T19:39:08.640Z"
   },
   {
    "duration": 31,
    "start_time": "2022-07-28T19:39:08.650Z"
   },
   {
    "duration": 9,
    "start_time": "2022-07-28T19:39:08.682Z"
   },
   {
    "duration": 13,
    "start_time": "2022-07-28T19:39:08.692Z"
   },
   {
    "duration": 8,
    "start_time": "2022-07-28T19:39:08.706Z"
   },
   {
    "duration": 16,
    "start_time": "2022-07-28T19:39:08.716Z"
   },
   {
    "duration": 27,
    "start_time": "2022-07-28T19:39:08.734Z"
   },
   {
    "duration": 0,
    "start_time": "2022-07-28T19:39:08.763Z"
   },
   {
    "duration": 0,
    "start_time": "2022-07-28T19:39:08.764Z"
   },
   {
    "duration": 0,
    "start_time": "2022-07-28T19:39:08.773Z"
   },
   {
    "duration": 0,
    "start_time": "2022-07-28T19:39:08.774Z"
   },
   {
    "duration": 0,
    "start_time": "2022-07-28T19:39:08.776Z"
   },
   {
    "duration": 0,
    "start_time": "2022-07-28T19:39:08.777Z"
   },
   {
    "duration": 0,
    "start_time": "2022-07-28T19:39:08.778Z"
   },
   {
    "duration": 0,
    "start_time": "2022-07-28T19:39:08.780Z"
   },
   {
    "duration": 0,
    "start_time": "2022-07-28T19:39:08.780Z"
   },
   {
    "duration": 0,
    "start_time": "2022-07-28T19:39:08.782Z"
   },
   {
    "duration": 0,
    "start_time": "2022-07-28T19:39:08.783Z"
   },
   {
    "duration": 0,
    "start_time": "2022-07-28T19:39:08.783Z"
   },
   {
    "duration": 0,
    "start_time": "2022-07-28T19:39:08.784Z"
   },
   {
    "duration": 0,
    "start_time": "2022-07-28T19:39:08.786Z"
   },
   {
    "duration": 0,
    "start_time": "2022-07-28T19:39:08.787Z"
   },
   {
    "duration": 0,
    "start_time": "2022-07-28T19:39:08.788Z"
   },
   {
    "duration": 0,
    "start_time": "2022-07-28T19:39:08.789Z"
   },
   {
    "duration": 0,
    "start_time": "2022-07-28T19:39:08.790Z"
   },
   {
    "duration": 0,
    "start_time": "2022-07-28T19:39:08.791Z"
   },
   {
    "duration": 0,
    "start_time": "2022-07-28T19:39:08.793Z"
   },
   {
    "duration": 0,
    "start_time": "2022-07-28T19:39:08.794Z"
   },
   {
    "duration": 0,
    "start_time": "2022-07-28T19:39:08.795Z"
   },
   {
    "duration": 0,
    "start_time": "2022-07-28T19:39:08.796Z"
   },
   {
    "duration": 0,
    "start_time": "2022-07-28T19:39:08.797Z"
   },
   {
    "duration": 0,
    "start_time": "2022-07-28T19:39:08.798Z"
   },
   {
    "duration": 0,
    "start_time": "2022-07-28T19:39:08.800Z"
   },
   {
    "duration": 0,
    "start_time": "2022-07-28T19:39:08.801Z"
   },
   {
    "duration": 0,
    "start_time": "2022-07-28T19:39:08.802Z"
   },
   {
    "duration": 0,
    "start_time": "2022-07-28T19:39:08.803Z"
   },
   {
    "duration": 0,
    "start_time": "2022-07-28T19:39:08.804Z"
   },
   {
    "duration": 56,
    "start_time": "2022-07-28T19:39:34.948Z"
   },
   {
    "duration": 48,
    "start_time": "2022-07-28T19:39:54.946Z"
   },
   {
    "duration": 12,
    "start_time": "2022-07-28T19:40:06.621Z"
   },
   {
    "duration": 9,
    "start_time": "2022-07-28T19:40:11.698Z"
   },
   {
    "duration": 10,
    "start_time": "2022-07-28T19:41:02.951Z"
   },
   {
    "duration": 9,
    "start_time": "2022-07-28T19:41:09.682Z"
   },
   {
    "duration": 10,
    "start_time": "2022-07-28T19:41:14.020Z"
   },
   {
    "duration": 1021,
    "start_time": "2022-07-28T19:43:43.214Z"
   },
   {
    "duration": 53,
    "start_time": "2022-07-28T19:43:44.237Z"
   },
   {
    "duration": 11,
    "start_time": "2022-07-28T19:43:44.292Z"
   },
   {
    "duration": 11,
    "start_time": "2022-07-28T19:43:44.305Z"
   },
   {
    "duration": 11,
    "start_time": "2022-07-28T19:43:44.317Z"
   },
   {
    "duration": 6,
    "start_time": "2022-07-28T19:43:44.330Z"
   },
   {
    "duration": 9,
    "start_time": "2022-07-28T19:43:44.338Z"
   },
   {
    "duration": 30,
    "start_time": "2022-07-28T19:43:44.348Z"
   },
   {
    "duration": 16,
    "start_time": "2022-07-28T19:43:44.380Z"
   },
   {
    "duration": 8,
    "start_time": "2022-07-28T19:43:44.398Z"
   },
   {
    "duration": 7,
    "start_time": "2022-07-28T19:43:44.408Z"
   },
   {
    "duration": 7,
    "start_time": "2022-07-28T19:43:44.416Z"
   },
   {
    "duration": 4,
    "start_time": "2022-07-28T19:43:44.424Z"
   },
   {
    "duration": 10,
    "start_time": "2022-07-28T19:43:44.429Z"
   },
   {
    "duration": 33,
    "start_time": "2022-07-28T19:43:44.441Z"
   },
   {
    "duration": 5,
    "start_time": "2022-07-28T19:43:44.475Z"
   },
   {
    "duration": 13,
    "start_time": "2022-07-28T19:43:44.481Z"
   },
   {
    "duration": 6,
    "start_time": "2022-07-28T19:43:44.495Z"
   },
   {
    "duration": 18,
    "start_time": "2022-07-28T19:43:44.502Z"
   },
   {
    "duration": 164,
    "start_time": "2022-07-28T19:43:44.522Z"
   },
   {
    "duration": 70,
    "start_time": "2022-07-28T19:43:44.688Z"
   },
   {
    "duration": 1237,
    "start_time": "2022-07-28T19:43:44.760Z"
   },
   {
    "duration": 4,
    "start_time": "2022-07-28T19:43:46.000Z"
   },
   {
    "duration": 11,
    "start_time": "2022-07-28T19:43:46.006Z"
   },
   {
    "duration": 7,
    "start_time": "2022-07-28T19:43:46.019Z"
   },
   {
    "duration": 70,
    "start_time": "2022-07-28T19:43:46.027Z"
   },
   {
    "duration": 13,
    "start_time": "2022-07-28T19:43:46.098Z"
   },
   {
    "duration": 7,
    "start_time": "2022-07-28T19:43:46.114Z"
   },
   {
    "duration": 9,
    "start_time": "2022-07-28T19:43:46.122Z"
   },
   {
    "duration": 13,
    "start_time": "2022-07-28T19:43:46.133Z"
   },
   {
    "duration": 31,
    "start_time": "2022-07-28T19:43:46.148Z"
   },
   {
    "duration": 13,
    "start_time": "2022-07-28T19:43:46.180Z"
   },
   {
    "duration": 10,
    "start_time": "2022-07-28T19:43:46.194Z"
   },
   {
    "duration": 12,
    "start_time": "2022-07-28T19:43:46.205Z"
   },
   {
    "duration": 8,
    "start_time": "2022-07-28T19:43:46.218Z"
   },
   {
    "duration": 12,
    "start_time": "2022-07-28T19:43:46.227Z"
   },
   {
    "duration": 41,
    "start_time": "2022-07-28T19:43:46.240Z"
   },
   {
    "duration": 13,
    "start_time": "2022-07-28T19:43:46.282Z"
   },
   {
    "duration": 8,
    "start_time": "2022-07-28T19:43:46.296Z"
   },
   {
    "duration": 4,
    "start_time": "2022-07-28T19:43:46.306Z"
   },
   {
    "duration": 161,
    "start_time": "2022-07-28T19:43:46.312Z"
   },
   {
    "duration": 205,
    "start_time": "2022-07-28T19:43:46.474Z"
   },
   {
    "duration": 210,
    "start_time": "2022-07-28T19:43:46.681Z"
   },
   {
    "duration": 235,
    "start_time": "2022-07-28T19:43:46.893Z"
   },
   {
    "duration": 170,
    "start_time": "2022-07-28T19:43:47.129Z"
   },
   {
    "duration": 247,
    "start_time": "2022-07-28T19:43:47.301Z"
   },
   {
    "duration": 173,
    "start_time": "2022-07-28T19:43:47.549Z"
   },
   {
    "duration": 189,
    "start_time": "2022-07-28T19:43:47.723Z"
   },
   {
    "duration": 24,
    "start_time": "2022-07-28T19:43:47.914Z"
   },
   {
    "duration": 3,
    "start_time": "2022-07-28T19:43:47.940Z"
   },
   {
    "duration": 10,
    "start_time": "2022-07-28T19:43:47.944Z"
   },
   {
    "duration": 24,
    "start_time": "2022-07-28T19:43:47.956Z"
   },
   {
    "duration": 164,
    "start_time": "2022-07-28T19:43:47.982Z"
   },
   {
    "duration": 168,
    "start_time": "2022-07-28T19:43:48.147Z"
   },
   {
    "duration": 169,
    "start_time": "2022-07-28T19:43:48.316Z"
   },
   {
    "duration": 6,
    "start_time": "2022-07-28T19:43:48.487Z"
   },
   {
    "duration": 15,
    "start_time": "2022-07-28T19:43:48.494Z"
   },
   {
    "duration": 8,
    "start_time": "2022-07-28T19:43:48.510Z"
   },
   {
    "duration": 29,
    "start_time": "2022-07-28T19:43:48.520Z"
   },
   {
    "duration": 6,
    "start_time": "2022-07-28T19:43:48.550Z"
   },
   {
    "duration": 18,
    "start_time": "2022-07-28T19:43:48.557Z"
   },
   {
    "duration": 24,
    "start_time": "2022-07-28T19:43:48.576Z"
   },
   {
    "duration": 93,
    "start_time": "2022-07-28T19:43:48.601Z"
   },
   {
    "duration": 0,
    "start_time": "2022-07-28T19:43:48.696Z"
   },
   {
    "duration": 21,
    "start_time": "2022-07-28T20:49:09.967Z"
   },
   {
    "duration": 12,
    "start_time": "2022-07-28T20:49:55.019Z"
   },
   {
    "duration": 1054,
    "start_time": "2022-07-28T20:50:09.730Z"
   },
   {
    "duration": 131,
    "start_time": "2022-07-28T20:50:10.786Z"
   },
   {
    "duration": 12,
    "start_time": "2022-07-28T20:50:10.919Z"
   },
   {
    "duration": 17,
    "start_time": "2022-07-28T20:50:10.932Z"
   },
   {
    "duration": 17,
    "start_time": "2022-07-28T20:50:10.951Z"
   },
   {
    "duration": 18,
    "start_time": "2022-07-28T20:50:10.970Z"
   },
   {
    "duration": 14,
    "start_time": "2022-07-28T20:50:10.990Z"
   },
   {
    "duration": 14,
    "start_time": "2022-07-28T20:50:11.006Z"
   },
   {
    "duration": 26,
    "start_time": "2022-07-28T20:50:11.021Z"
   },
   {
    "duration": 7,
    "start_time": "2022-07-28T20:50:11.049Z"
   },
   {
    "duration": 16,
    "start_time": "2022-07-28T20:50:11.058Z"
   },
   {
    "duration": 4,
    "start_time": "2022-07-28T20:50:11.075Z"
   },
   {
    "duration": 28,
    "start_time": "2022-07-28T20:50:11.080Z"
   },
   {
    "duration": 15,
    "start_time": "2022-07-28T20:50:11.111Z"
   },
   {
    "duration": 18,
    "start_time": "2022-07-28T20:50:11.127Z"
   },
   {
    "duration": 11,
    "start_time": "2022-07-28T20:50:11.147Z"
   },
   {
    "duration": 23,
    "start_time": "2022-07-28T20:50:11.160Z"
   },
   {
    "duration": 9,
    "start_time": "2022-07-28T20:50:11.185Z"
   },
   {
    "duration": 24,
    "start_time": "2022-07-28T20:50:11.195Z"
   },
   {
    "duration": 158,
    "start_time": "2022-07-28T20:50:11.221Z"
   },
   {
    "duration": 94,
    "start_time": "2022-07-28T20:50:11.380Z"
   },
   {
    "duration": 1437,
    "start_time": "2022-07-28T20:50:11.476Z"
   },
   {
    "duration": 5,
    "start_time": "2022-07-28T20:50:12.915Z"
   },
   {
    "duration": 12,
    "start_time": "2022-07-28T20:50:12.921Z"
   },
   {
    "duration": 40,
    "start_time": "2022-07-28T20:50:12.935Z"
   },
   {
    "duration": 63,
    "start_time": "2022-07-28T20:50:12.977Z"
   },
   {
    "duration": 14,
    "start_time": "2022-07-28T20:50:13.042Z"
   },
   {
    "duration": 8,
    "start_time": "2022-07-28T20:50:13.057Z"
   },
   {
    "duration": 10,
    "start_time": "2022-07-28T20:50:13.072Z"
   },
   {
    "duration": 28,
    "start_time": "2022-07-28T20:50:13.084Z"
   },
   {
    "duration": 10,
    "start_time": "2022-07-28T20:50:13.114Z"
   },
   {
    "duration": 20,
    "start_time": "2022-07-28T20:50:13.125Z"
   },
   {
    "duration": 12,
    "start_time": "2022-07-28T20:50:13.147Z"
   },
   {
    "duration": 31,
    "start_time": "2022-07-28T20:50:13.161Z"
   },
   {
    "duration": 10,
    "start_time": "2022-07-28T20:50:13.193Z"
   },
   {
    "duration": 16,
    "start_time": "2022-07-28T20:50:13.204Z"
   },
   {
    "duration": 12,
    "start_time": "2022-07-28T20:50:13.221Z"
   },
   {
    "duration": 14,
    "start_time": "2022-07-28T20:50:13.273Z"
   },
   {
    "duration": 10,
    "start_time": "2022-07-28T20:50:13.289Z"
   },
   {
    "duration": 11,
    "start_time": "2022-07-28T20:50:13.300Z"
   },
   {
    "duration": 183,
    "start_time": "2022-07-28T20:50:13.314Z"
   },
   {
    "duration": 221,
    "start_time": "2022-07-28T20:50:13.499Z"
   },
   {
    "duration": 219,
    "start_time": "2022-07-28T20:50:13.722Z"
   },
   {
    "duration": 246,
    "start_time": "2022-07-28T20:50:13.943Z"
   },
   {
    "duration": 225,
    "start_time": "2022-07-28T20:50:14.190Z"
   },
   {
    "duration": 285,
    "start_time": "2022-07-28T20:50:14.417Z"
   },
   {
    "duration": 192,
    "start_time": "2022-07-28T20:50:14.704Z"
   },
   {
    "duration": 211,
    "start_time": "2022-07-28T20:50:14.897Z"
   },
   {
    "duration": 25,
    "start_time": "2022-07-28T20:50:15.110Z"
   },
   {
    "duration": 3,
    "start_time": "2022-07-28T20:50:15.137Z"
   },
   {
    "duration": 13,
    "start_time": "2022-07-28T20:50:15.142Z"
   },
   {
    "duration": 27,
    "start_time": "2022-07-28T20:50:15.156Z"
   },
   {
    "duration": 160,
    "start_time": "2022-07-28T20:50:15.185Z"
   },
   {
    "duration": 199,
    "start_time": "2022-07-28T20:50:15.347Z"
   },
   {
    "duration": 206,
    "start_time": "2022-07-28T20:50:15.548Z"
   },
   {
    "duration": 7,
    "start_time": "2022-07-28T20:50:15.756Z"
   },
   {
    "duration": 17,
    "start_time": "2022-07-28T20:50:15.774Z"
   },
   {
    "duration": 19,
    "start_time": "2022-07-28T20:50:15.793Z"
   },
   {
    "duration": 35,
    "start_time": "2022-07-28T20:50:15.813Z"
   },
   {
    "duration": 11,
    "start_time": "2022-07-28T20:50:15.850Z"
   },
   {
    "duration": 8,
    "start_time": "2022-07-28T20:50:15.863Z"
   },
   {
    "duration": 31,
    "start_time": "2022-07-28T20:50:15.872Z"
   },
   {
    "duration": 4,
    "start_time": "2022-07-28T20:50:15.905Z"
   },
   {
    "duration": 38,
    "start_time": "2022-07-28T20:50:15.911Z"
   },
   {
    "duration": 23,
    "start_time": "2022-07-28T20:50:15.951Z"
   }
  ],
  "kernelspec": {
   "display_name": "Python 3 (ipykernel)",
   "language": "python",
   "name": "python3"
  },
  "language_info": {
   "codemirror_mode": {
    "name": "ipython",
    "version": 3
   },
   "file_extension": ".py",
   "mimetype": "text/x-python",
   "name": "python",
   "nbconvert_exporter": "python",
   "pygments_lexer": "ipython3",
   "version": "3.9.7"
  },
  "toc": {
   "base_numbering": 1,
   "nav_menu": {},
   "number_sections": true,
   "sideBar": true,
   "skip_h1_title": true,
   "title_cell": "Table of Contents",
   "title_sidebar": "Contents",
   "toc_cell": false,
   "toc_position": {
    "height": "calc(100% - 180px)",
    "left": "10px",
    "top": "150px",
    "width": "165px"
   },
   "toc_section_display": true,
   "toc_window_display": true
  }
 },
 "nbformat": 4,
 "nbformat_minor": 2
}
