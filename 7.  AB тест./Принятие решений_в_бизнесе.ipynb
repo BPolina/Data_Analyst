{
 "cells": [
  {
   "cell_type": "markdown",
   "metadata": {},
   "source": [
    "# Принятие решений в бизнесе"
   ]
  },
  {
   "cell_type": "markdown",
   "metadata": {},
   "source": [
    "Описание:  Имеются гипотезы для увеличения выручки интернет-магазина, подготовленные совместно с отделом маркетинга.  \n",
    "Цель:  \n",
    "При помощи A/B-тест и проанализировать результаты предложенных гипотиз по  увеличению выручки.\n",
    "\n",
    "Задачи:  \n",
    "Проанализировать данные,  \n",
    "Приоритизировать гипотезы,  \n",
    "Анализ А/В теста.  \n",
    "\n",
    "Данные:\n",
    "\n",
    "Таблица hypothesis \n",
    "\n",
    "Hypothesis — краткое описание гипотезы;  \n",
    "Reach — охват пользователей по 10-балльной шкале;  \n",
    "Impact — влияние на пользователей по 10-балльной шкале;  \n",
    "Confidence — уверенность в гипотезе по 10-балльной шкале;  \n",
    "Efforts — затраты ресурсов на проверку гипотезы по 10-балльной шкале. Чем больше значение Efforts, тем дороже проверка гипотезы.  \n",
    " \n",
    "Таблица orders\n",
    "\n",
    "transactionId — идентификатор заказа;  \n",
    "visitorId — идентификатор пользователя, совершившего заказ;  \n",
    "date — дата, когда был совершён заказ;  \n",
    "revenue — выручка заказа;  \n",
    "group — группа A/B-теста, в которую попал заказ.  \n",
    "\n",
    "Таблица visitors  \n",
    "\n",
    "date — дата;  \n",
    "group — группа A/B-теста;  \n",
    "visitors — количество пользователей в указанную дату в указанной группе A/B-теста  \n",
    "\n",
    " \n"
   ]
  },
  {
   "cell_type": "markdown",
   "metadata": {},
   "source": [
    "## Просмотр и подготовка данных."
   ]
  },
  {
   "cell_type": "code",
   "execution_count": 2,
   "metadata": {},
   "outputs": [],
   "source": [
    "# импорт библиотек\n",
    "import pandas as pd\n",
    "import numpy as np\n",
    "from matplotlib import pyplot as plt\n",
    "\n",
    "import math\n",
    "from scipy import stats\n",
    "\n",
    "from datetime import timedelta\n",
    "import datetime as dt\n",
    "\n",
    "from statsmodels.stats.proportion import proportions_ztest\n",
    "import warnings\n",
    "\n"
   ]
  },
  {
   "cell_type": "code",
   "execution_count": 3,
   "metadata": {},
   "outputs": [],
   "source": [
    "# загрузка данных \n",
    "df_hypothesis = pd.read_csv('/datasets/hypothesis.csv') "
   ]
  },
  {
   "cell_type": "code",
   "execution_count": 4,
   "metadata": {
    "scrolled": false
   },
   "outputs": [
    {
     "data": {
      "text/html": [
       "<div>\n",
       "<style scoped>\n",
       "    .dataframe tbody tr th:only-of-type {\n",
       "        vertical-align: middle;\n",
       "    }\n",
       "\n",
       "    .dataframe tbody tr th {\n",
       "        vertical-align: top;\n",
       "    }\n",
       "\n",
       "    .dataframe thead th {\n",
       "        text-align: right;\n",
       "    }\n",
       "</style>\n",
       "<table border=\"1\" class=\"dataframe\">\n",
       "  <thead>\n",
       "    <tr style=\"text-align: right;\">\n",
       "      <th></th>\n",
       "      <th>Hypothesis</th>\n",
       "      <th>Reach</th>\n",
       "      <th>Impact</th>\n",
       "      <th>Confidence</th>\n",
       "      <th>Efforts</th>\n",
       "    </tr>\n",
       "  </thead>\n",
       "  <tbody>\n",
       "    <tr>\n",
       "      <th>0</th>\n",
       "      <td>Добавить два новых канала привлечения трафика,...</td>\n",
       "      <td>3</td>\n",
       "      <td>10</td>\n",
       "      <td>8</td>\n",
       "      <td>6</td>\n",
       "    </tr>\n",
       "    <tr>\n",
       "      <th>1</th>\n",
       "      <td>Запустить собственную службу доставки, что сок...</td>\n",
       "      <td>2</td>\n",
       "      <td>5</td>\n",
       "      <td>4</td>\n",
       "      <td>10</td>\n",
       "    </tr>\n",
       "    <tr>\n",
       "      <th>2</th>\n",
       "      <td>Добавить блоки рекомендаций товаров на сайт ин...</td>\n",
       "      <td>8</td>\n",
       "      <td>3</td>\n",
       "      <td>7</td>\n",
       "      <td>3</td>\n",
       "    </tr>\n",
       "    <tr>\n",
       "      <th>3</th>\n",
       "      <td>Изменить структура категорий, что увеличит кон...</td>\n",
       "      <td>8</td>\n",
       "      <td>3</td>\n",
       "      <td>3</td>\n",
       "      <td>8</td>\n",
       "    </tr>\n",
       "    <tr>\n",
       "      <th>4</th>\n",
       "      <td>Изменить цвет фона главной страницы, чтобы уве...</td>\n",
       "      <td>3</td>\n",
       "      <td>1</td>\n",
       "      <td>1</td>\n",
       "      <td>1</td>\n",
       "    </tr>\n",
       "    <tr>\n",
       "      <th>5</th>\n",
       "      <td>Добавить страницу отзывов клиентов о магазине,...</td>\n",
       "      <td>3</td>\n",
       "      <td>2</td>\n",
       "      <td>2</td>\n",
       "      <td>3</td>\n",
       "    </tr>\n",
       "    <tr>\n",
       "      <th>6</th>\n",
       "      <td>Показать на главной странице баннеры с актуаль...</td>\n",
       "      <td>5</td>\n",
       "      <td>3</td>\n",
       "      <td>8</td>\n",
       "      <td>3</td>\n",
       "    </tr>\n",
       "    <tr>\n",
       "      <th>7</th>\n",
       "      <td>Добавить форму подписки на все основные страни...</td>\n",
       "      <td>10</td>\n",
       "      <td>7</td>\n",
       "      <td>8</td>\n",
       "      <td>5</td>\n",
       "    </tr>\n",
       "    <tr>\n",
       "      <th>8</th>\n",
       "      <td>Запустить акцию, дающую скидку на товар в день...</td>\n",
       "      <td>1</td>\n",
       "      <td>9</td>\n",
       "      <td>9</td>\n",
       "      <td>5</td>\n",
       "    </tr>\n",
       "  </tbody>\n",
       "</table>\n",
       "</div>"
      ],
      "text/plain": [
       "                                          Hypothesis  Reach  Impact  \\\n",
       "0  Добавить два новых канала привлечения трафика,...      3      10   \n",
       "1  Запустить собственную службу доставки, что сок...      2       5   \n",
       "2  Добавить блоки рекомендаций товаров на сайт ин...      8       3   \n",
       "3  Изменить структура категорий, что увеличит кон...      8       3   \n",
       "4  Изменить цвет фона главной страницы, чтобы уве...      3       1   \n",
       "5  Добавить страницу отзывов клиентов о магазине,...      3       2   \n",
       "6  Показать на главной странице баннеры с актуаль...      5       3   \n",
       "7  Добавить форму подписки на все основные страни...     10       7   \n",
       "8  Запустить акцию, дающую скидку на товар в день...      1       9   \n",
       "\n",
       "   Confidence  Efforts  \n",
       "0           8        6  \n",
       "1           4       10  \n",
       "2           7        3  \n",
       "3           3        8  \n",
       "4           1        1  \n",
       "5           2        3  \n",
       "6           8        3  \n",
       "7           8        5  \n",
       "8           9        5  "
      ]
     },
     "execution_count": 4,
     "metadata": {},
     "output_type": "execute_result"
    }
   ],
   "source": [
    "df_hypothesis"
   ]
  },
  {
   "cell_type": "code",
   "execution_count": 5,
   "metadata": {},
   "outputs": [],
   "source": [
    "df_orders = pd.read_csv('/datasets/orders.csv')"
   ]
  },
  {
   "cell_type": "code",
   "execution_count": 6,
   "metadata": {
    "scrolled": true
   },
   "outputs": [
    {
     "data": {
      "text/html": [
       "<div>\n",
       "<style scoped>\n",
       "    .dataframe tbody tr th:only-of-type {\n",
       "        vertical-align: middle;\n",
       "    }\n",
       "\n",
       "    .dataframe tbody tr th {\n",
       "        vertical-align: top;\n",
       "    }\n",
       "\n",
       "    .dataframe thead th {\n",
       "        text-align: right;\n",
       "    }\n",
       "</style>\n",
       "<table border=\"1\" class=\"dataframe\">\n",
       "  <thead>\n",
       "    <tr style=\"text-align: right;\">\n",
       "      <th></th>\n",
       "      <th>transactionId</th>\n",
       "      <th>visitorId</th>\n",
       "      <th>date</th>\n",
       "      <th>revenue</th>\n",
       "      <th>group</th>\n",
       "    </tr>\n",
       "  </thead>\n",
       "  <tbody>\n",
       "    <tr>\n",
       "      <th>0</th>\n",
       "      <td>3667963787</td>\n",
       "      <td>3312258926</td>\n",
       "      <td>2019-08-15</td>\n",
       "      <td>1650</td>\n",
       "      <td>B</td>\n",
       "    </tr>\n",
       "    <tr>\n",
       "      <th>1</th>\n",
       "      <td>2804400009</td>\n",
       "      <td>3642806036</td>\n",
       "      <td>2019-08-15</td>\n",
       "      <td>730</td>\n",
       "      <td>B</td>\n",
       "    </tr>\n",
       "    <tr>\n",
       "      <th>2</th>\n",
       "      <td>2961555356</td>\n",
       "      <td>4069496402</td>\n",
       "      <td>2019-08-15</td>\n",
       "      <td>400</td>\n",
       "      <td>A</td>\n",
       "    </tr>\n",
       "    <tr>\n",
       "      <th>3</th>\n",
       "      <td>3797467345</td>\n",
       "      <td>1196621759</td>\n",
       "      <td>2019-08-15</td>\n",
       "      <td>9759</td>\n",
       "      <td>B</td>\n",
       "    </tr>\n",
       "    <tr>\n",
       "      <th>4</th>\n",
       "      <td>2282983706</td>\n",
       "      <td>2322279887</td>\n",
       "      <td>2019-08-15</td>\n",
       "      <td>2308</td>\n",
       "      <td>B</td>\n",
       "    </tr>\n",
       "  </tbody>\n",
       "</table>\n",
       "</div>"
      ],
      "text/plain": [
       "   transactionId   visitorId        date  revenue group\n",
       "0     3667963787  3312258926  2019-08-15     1650     B\n",
       "1     2804400009  3642806036  2019-08-15      730     B\n",
       "2     2961555356  4069496402  2019-08-15      400     A\n",
       "3     3797467345  1196621759  2019-08-15     9759     B\n",
       "4     2282983706  2322279887  2019-08-15     2308     B"
      ]
     },
     "execution_count": 6,
     "metadata": {},
     "output_type": "execute_result"
    }
   ],
   "source": [
    "df_orders.head(5)"
   ]
  },
  {
   "cell_type": "code",
   "execution_count": 7,
   "metadata": {},
   "outputs": [
    {
     "name": "stdout",
     "output_type": "stream",
     "text": [
      "<class 'pandas.core.frame.DataFrame'>\n",
      "RangeIndex: 1197 entries, 0 to 1196\n",
      "Data columns (total 5 columns):\n",
      " #   Column         Non-Null Count  Dtype \n",
      "---  ------         --------------  ----- \n",
      " 0   transactionId  1197 non-null   int64 \n",
      " 1   visitorId      1197 non-null   int64 \n",
      " 2   date           1197 non-null   object\n",
      " 3   revenue        1197 non-null   int64 \n",
      " 4   group          1197 non-null   object\n",
      "dtypes: int64(3), object(2)\n",
      "memory usage: 46.9+ KB\n"
     ]
    }
   ],
   "source": [
    "df_orders.info()"
   ]
  },
  {
   "cell_type": "code",
   "execution_count": 8,
   "metadata": {},
   "outputs": [],
   "source": [
    "df_visitors = pd.read_csv('/datasets/visitors.csv')"
   ]
  },
  {
   "cell_type": "code",
   "execution_count": 9,
   "metadata": {
    "scrolled": false
   },
   "outputs": [
    {
     "data": {
      "text/html": [
       "<div>\n",
       "<style scoped>\n",
       "    .dataframe tbody tr th:only-of-type {\n",
       "        vertical-align: middle;\n",
       "    }\n",
       "\n",
       "    .dataframe tbody tr th {\n",
       "        vertical-align: top;\n",
       "    }\n",
       "\n",
       "    .dataframe thead th {\n",
       "        text-align: right;\n",
       "    }\n",
       "</style>\n",
       "<table border=\"1\" class=\"dataframe\">\n",
       "  <thead>\n",
       "    <tr style=\"text-align: right;\">\n",
       "      <th></th>\n",
       "      <th>date</th>\n",
       "      <th>group</th>\n",
       "      <th>visitors</th>\n",
       "    </tr>\n",
       "  </thead>\n",
       "  <tbody>\n",
       "    <tr>\n",
       "      <th>0</th>\n",
       "      <td>2019-08-01</td>\n",
       "      <td>A</td>\n",
       "      <td>719</td>\n",
       "    </tr>\n",
       "    <tr>\n",
       "      <th>1</th>\n",
       "      <td>2019-08-02</td>\n",
       "      <td>A</td>\n",
       "      <td>619</td>\n",
       "    </tr>\n",
       "    <tr>\n",
       "      <th>2</th>\n",
       "      <td>2019-08-03</td>\n",
       "      <td>A</td>\n",
       "      <td>507</td>\n",
       "    </tr>\n",
       "    <tr>\n",
       "      <th>3</th>\n",
       "      <td>2019-08-04</td>\n",
       "      <td>A</td>\n",
       "      <td>717</td>\n",
       "    </tr>\n",
       "    <tr>\n",
       "      <th>4</th>\n",
       "      <td>2019-08-05</td>\n",
       "      <td>A</td>\n",
       "      <td>756</td>\n",
       "    </tr>\n",
       "  </tbody>\n",
       "</table>\n",
       "</div>"
      ],
      "text/plain": [
       "         date group  visitors\n",
       "0  2019-08-01     A       719\n",
       "1  2019-08-02     A       619\n",
       "2  2019-08-03     A       507\n",
       "3  2019-08-04     A       717\n",
       "4  2019-08-05     A       756"
      ]
     },
     "execution_count": 9,
     "metadata": {},
     "output_type": "execute_result"
    }
   ],
   "source": [
    "df_visitors.head(5)"
   ]
  },
  {
   "cell_type": "code",
   "execution_count": 10,
   "metadata": {
    "scrolled": true
   },
   "outputs": [
    {
     "name": "stdout",
     "output_type": "stream",
     "text": [
      "<class 'pandas.core.frame.DataFrame'>\n",
      "RangeIndex: 62 entries, 0 to 61\n",
      "Data columns (total 3 columns):\n",
      " #   Column    Non-Null Count  Dtype \n",
      "---  ------    --------------  ----- \n",
      " 0   date      62 non-null     object\n",
      " 1   group     62 non-null     object\n",
      " 2   visitors  62 non-null     int64 \n",
      "dtypes: int64(1), object(2)\n",
      "memory usage: 1.6+ KB\n"
     ]
    }
   ],
   "source": [
    "df_visitors.info()"
   ]
  },
  {
   "cell_type": "code",
   "execution_count": 11,
   "metadata": {},
   "outputs": [
    {
     "data": {
      "text/plain": [
       "date        0.0\n",
       "group       0.0\n",
       "visitors    0.0\n",
       "dtype: float64"
      ]
     },
     "execution_count": 11,
     "metadata": {},
     "output_type": "execute_result"
    }
   ],
   "source": [
    "round((df_visitors.isna().mean()*100),2)"
   ]
  },
  {
   "cell_type": "code",
   "execution_count": 12,
   "metadata": {},
   "outputs": [
    {
     "data": {
      "text/plain": [
       "transactionId    0.0\n",
       "visitorId        0.0\n",
       "date             0.0\n",
       "revenue          0.0\n",
       "group            0.0\n",
       "dtype: float64"
      ]
     },
     "execution_count": 12,
     "metadata": {},
     "output_type": "execute_result"
    }
   ],
   "source": [
    "round((df_orders.isna().mean()*100),2)"
   ]
  },
  {
   "cell_type": "code",
   "execution_count": 13,
   "metadata": {},
   "outputs": [
    {
     "data": {
      "text/plain": [
       "0"
      ]
     },
     "execution_count": 13,
     "metadata": {},
     "output_type": "execute_result"
    }
   ],
   "source": [
    "df_orders.duplicated().sum()"
   ]
  },
  {
   "cell_type": "code",
   "execution_count": 14,
   "metadata": {},
   "outputs": [
    {
     "data": {
      "text/plain": [
       "0"
      ]
     },
     "execution_count": 14,
     "metadata": {},
     "output_type": "execute_result"
    }
   ],
   "source": [
    "df_visitors.duplicated().sum()"
   ]
  },
  {
   "cell_type": "markdown",
   "metadata": {},
   "source": [
    "При первично просмотре определено, что необходимо:  \n",
    "- изменить заголовки в таблице - df_hypothesis,  \n",
    "- изменить тип данных. \n"
   ]
  },
  {
   "cell_type": "markdown",
   "metadata": {},
   "source": [
    "## Предработка данных."
   ]
  },
  {
   "cell_type": "code",
   "execution_count": 15,
   "metadata": {},
   "outputs": [],
   "source": [
    "#заголовки - все строчные\n",
    "df_hypothesis.columns = df_hypothesis.columns.str.lower() "
   ]
  },
  {
   "cell_type": "code",
   "execution_count": 16,
   "metadata": {},
   "outputs": [],
   "source": [
    "df_orders['date'] = df_orders['date'].map(lambda x: dt.datetime.strptime(x, '%Y-%m-%d'))"
   ]
  },
  {
   "cell_type": "code",
   "execution_count": 17,
   "metadata": {},
   "outputs": [],
   "source": [
    "df_visitors['date'] = df_visitors['date'].map(lambda x: dt.datetime.strptime(x, '%Y-%m-%d'))"
   ]
  },
  {
   "cell_type": "code",
   "execution_count": 18,
   "metadata": {},
   "outputs": [
    {
     "name": "stdout",
     "output_type": "stream",
     "text": [
      "<class 'pandas.core.frame.DataFrame'>\n",
      "RangeIndex: 62 entries, 0 to 61\n",
      "Data columns (total 3 columns):\n",
      " #   Column    Non-Null Count  Dtype         \n",
      "---  ------    --------------  -----         \n",
      " 0   date      62 non-null     datetime64[ns]\n",
      " 1   group     62 non-null     object        \n",
      " 2   visitors  62 non-null     int64         \n",
      "dtypes: datetime64[ns](1), int64(1), object(1)\n",
      "memory usage: 1.6+ KB\n",
      "<class 'pandas.core.frame.DataFrame'>\n",
      "RangeIndex: 1197 entries, 0 to 1196\n",
      "Data columns (total 5 columns):\n",
      " #   Column         Non-Null Count  Dtype         \n",
      "---  ------         --------------  -----         \n",
      " 0   transactionId  1197 non-null   int64         \n",
      " 1   visitorId      1197 non-null   int64         \n",
      " 2   date           1197 non-null   datetime64[ns]\n",
      " 3   revenue        1197 non-null   int64         \n",
      " 4   group          1197 non-null   object        \n",
      "dtypes: datetime64[ns](1), int64(3), object(1)\n",
      "memory usage: 46.9+ KB\n"
     ]
    }
   ],
   "source": [
    "df_visitors.info()\n",
    "df_orders.info()"
   ]
  },
  {
   "cell_type": "markdown",
   "metadata": {},
   "source": [
    "##  Приоритизация гипотез."
   ]
  },
  {
   "cell_type": "markdown",
   "metadata": {},
   "source": [
    "Примените фреймворк ICE для приоритизации гипотез. Отсортируйте их по убыванию приоритета."
   ]
  },
  {
   "cell_type": "code",
   "execution_count": 19,
   "metadata": {
    "scrolled": true
   },
   "outputs": [],
   "source": [
    "df_hypothesis['ICE'] = ((df_hypothesis['impact'] * df_hypothesis['confidence']) / df_hypothesis['efforts']).round(2)\n"
   ]
  },
  {
   "cell_type": "code",
   "execution_count": 20,
   "metadata": {},
   "outputs": [
    {
     "data": {
      "text/html": [
       "<div>\n",
       "<style scoped>\n",
       "    .dataframe tbody tr th:only-of-type {\n",
       "        vertical-align: middle;\n",
       "    }\n",
       "\n",
       "    .dataframe tbody tr th {\n",
       "        vertical-align: top;\n",
       "    }\n",
       "\n",
       "    .dataframe thead th {\n",
       "        text-align: right;\n",
       "    }\n",
       "</style>\n",
       "<table border=\"1\" class=\"dataframe\">\n",
       "  <thead>\n",
       "    <tr style=\"text-align: right;\">\n",
       "      <th></th>\n",
       "      <th>hypothesis</th>\n",
       "      <th>ICE</th>\n",
       "    </tr>\n",
       "  </thead>\n",
       "  <tbody>\n",
       "    <tr>\n",
       "      <th>8</th>\n",
       "      <td>Запустить акцию, дающую скидку на товар в день рождения</td>\n",
       "      <td>16.20</td>\n",
       "    </tr>\n",
       "    <tr>\n",
       "      <th>0</th>\n",
       "      <td>Добавить два новых канала привлечения трафика, что позволит привлекать на 30% больше пользователей</td>\n",
       "      <td>13.33</td>\n",
       "    </tr>\n",
       "    <tr>\n",
       "      <th>7</th>\n",
       "      <td>Добавить форму подписки на все основные страницы, чтобы собрать базу клиентов для email-рассылок</td>\n",
       "      <td>11.20</td>\n",
       "    </tr>\n",
       "    <tr>\n",
       "      <th>6</th>\n",
       "      <td>Показать на главной странице баннеры с актуальными акциями и распродажами, чтобы увеличить конверсию</td>\n",
       "      <td>8.00</td>\n",
       "    </tr>\n",
       "    <tr>\n",
       "      <th>2</th>\n",
       "      <td>Добавить блоки рекомендаций товаров на сайт интернет магазина, чтобы повысить конверсию и средний чек заказа</td>\n",
       "      <td>7.00</td>\n",
       "    </tr>\n",
       "    <tr>\n",
       "      <th>1</th>\n",
       "      <td>Запустить собственную службу доставки, что сократит срок доставки заказов</td>\n",
       "      <td>2.00</td>\n",
       "    </tr>\n",
       "    <tr>\n",
       "      <th>5</th>\n",
       "      <td>Добавить страницу отзывов клиентов о магазине, что позволит увеличить количество заказов</td>\n",
       "      <td>1.33</td>\n",
       "    </tr>\n",
       "    <tr>\n",
       "      <th>3</th>\n",
       "      <td>Изменить структура категорий, что увеличит конверсию, т.к. пользователи быстрее найдут нужный товар</td>\n",
       "      <td>1.12</td>\n",
       "    </tr>\n",
       "    <tr>\n",
       "      <th>4</th>\n",
       "      <td>Изменить цвет фона главной страницы, чтобы увеличить вовлеченность пользователей</td>\n",
       "      <td>1.00</td>\n",
       "    </tr>\n",
       "  </tbody>\n",
       "</table>\n",
       "</div>"
      ],
      "text/plain": [
       "                                                                                                     hypothesis  \\\n",
       "8                                                       Запустить акцию, дающую скидку на товар в день рождения   \n",
       "0            Добавить два новых канала привлечения трафика, что позволит привлекать на 30% больше пользователей   \n",
       "7              Добавить форму подписки на все основные страницы, чтобы собрать базу клиентов для email-рассылок   \n",
       "6          Показать на главной странице баннеры с актуальными акциями и распродажами, чтобы увеличить конверсию   \n",
       "2  Добавить блоки рекомендаций товаров на сайт интернет магазина, чтобы повысить конверсию и средний чек заказа   \n",
       "1                                     Запустить собственную службу доставки, что сократит срок доставки заказов   \n",
       "5                      Добавить страницу отзывов клиентов о магазине, что позволит увеличить количество заказов   \n",
       "3           Изменить структура категорий, что увеличит конверсию, т.к. пользователи быстрее найдут нужный товар   \n",
       "4                              Изменить цвет фона главной страницы, чтобы увеличить вовлеченность пользователей   \n",
       "\n",
       "     ICE  \n",
       "8  16.20  \n",
       "0  13.33  \n",
       "7  11.20  \n",
       "6   8.00  \n",
       "2   7.00  \n",
       "1   2.00  \n",
       "5   1.33  \n",
       "3   1.12  \n",
       "4   1.00  "
      ]
     },
     "execution_count": 20,
     "metadata": {},
     "output_type": "execute_result"
    }
   ],
   "source": [
    "pd.options.display.max_colwidth = 150\n",
    "df_hypothesis[['hypothesis', 'ICE']].sort_values(by='ICE', ascending=False)"
   ]
  },
  {
   "cell_type": "markdown",
   "metadata": {},
   "source": [
    "Наиболее перспективные гипотезы по ICE - это  \"Запустить акцию, дающую скидку на товар в день рождения\", \"Добавить два новых канала привлечения трафика, что позволит привлекать на 30% больше пользователей\", \"Добавить форму подписки на все основные страницы, чтобы собрать базу клиентов для email-рассылок\"."
   ]
  },
  {
   "cell_type": "markdown",
   "metadata": {},
   "source": [
    "Примените фреймворк RICE для приоритизации гипотез. Отсортируйте их по убыванию приоритета."
   ]
  },
  {
   "cell_type": "code",
   "execution_count": 21,
   "metadata": {
    "scrolled": true
   },
   "outputs": [
    {
     "data": {
      "text/html": [
       "<div>\n",
       "<style scoped>\n",
       "    .dataframe tbody tr th:only-of-type {\n",
       "        vertical-align: middle;\n",
       "    }\n",
       "\n",
       "    .dataframe tbody tr th {\n",
       "        vertical-align: top;\n",
       "    }\n",
       "\n",
       "    .dataframe thead th {\n",
       "        text-align: right;\n",
       "    }\n",
       "</style>\n",
       "<table border=\"1\" class=\"dataframe\">\n",
       "  <thead>\n",
       "    <tr style=\"text-align: right;\">\n",
       "      <th></th>\n",
       "      <th>hypothesis</th>\n",
       "      <th>RICE</th>\n",
       "    </tr>\n",
       "  </thead>\n",
       "  <tbody>\n",
       "    <tr>\n",
       "      <th>7</th>\n",
       "      <td>Добавить форму подписки на все основные страницы, чтобы собрать базу клиентов для email-рассылок</td>\n",
       "      <td>112.0</td>\n",
       "    </tr>\n",
       "    <tr>\n",
       "      <th>2</th>\n",
       "      <td>Добавить блоки рекомендаций товаров на сайт интернет магазина, чтобы повысить конверсию и средний чек заказа</td>\n",
       "      <td>56.0</td>\n",
       "    </tr>\n",
       "    <tr>\n",
       "      <th>0</th>\n",
       "      <td>Добавить два новых канала привлечения трафика, что позволит привлекать на 30% больше пользователей</td>\n",
       "      <td>40.0</td>\n",
       "    </tr>\n",
       "    <tr>\n",
       "      <th>6</th>\n",
       "      <td>Показать на главной странице баннеры с актуальными акциями и распродажами, чтобы увеличить конверсию</td>\n",
       "      <td>40.0</td>\n",
       "    </tr>\n",
       "    <tr>\n",
       "      <th>8</th>\n",
       "      <td>Запустить акцию, дающую скидку на товар в день рождения</td>\n",
       "      <td>16.2</td>\n",
       "    </tr>\n",
       "    <tr>\n",
       "      <th>3</th>\n",
       "      <td>Изменить структура категорий, что увеличит конверсию, т.к. пользователи быстрее найдут нужный товар</td>\n",
       "      <td>9.0</td>\n",
       "    </tr>\n",
       "    <tr>\n",
       "      <th>1</th>\n",
       "      <td>Запустить собственную службу доставки, что сократит срок доставки заказов</td>\n",
       "      <td>4.0</td>\n",
       "    </tr>\n",
       "    <tr>\n",
       "      <th>5</th>\n",
       "      <td>Добавить страницу отзывов клиентов о магазине, что позволит увеличить количество заказов</td>\n",
       "      <td>4.0</td>\n",
       "    </tr>\n",
       "    <tr>\n",
       "      <th>4</th>\n",
       "      <td>Изменить цвет фона главной страницы, чтобы увеличить вовлеченность пользователей</td>\n",
       "      <td>3.0</td>\n",
       "    </tr>\n",
       "  </tbody>\n",
       "</table>\n",
       "</div>"
      ],
      "text/plain": [
       "                                                                                                     hypothesis  \\\n",
       "7              Добавить форму подписки на все основные страницы, чтобы собрать базу клиентов для email-рассылок   \n",
       "2  Добавить блоки рекомендаций товаров на сайт интернет магазина, чтобы повысить конверсию и средний чек заказа   \n",
       "0            Добавить два новых канала привлечения трафика, что позволит привлекать на 30% больше пользователей   \n",
       "6          Показать на главной странице баннеры с актуальными акциями и распродажами, чтобы увеличить конверсию   \n",
       "8                                                       Запустить акцию, дающую скидку на товар в день рождения   \n",
       "3           Изменить структура категорий, что увеличит конверсию, т.к. пользователи быстрее найдут нужный товар   \n",
       "1                                     Запустить собственную службу доставки, что сократит срок доставки заказов   \n",
       "5                      Добавить страницу отзывов клиентов о магазине, что позволит увеличить количество заказов   \n",
       "4                              Изменить цвет фона главной страницы, чтобы увеличить вовлеченность пользователей   \n",
       "\n",
       "    RICE  \n",
       "7  112.0  \n",
       "2   56.0  \n",
       "0   40.0  \n",
       "6   40.0  \n",
       "8   16.2  \n",
       "3    9.0  \n",
       "1    4.0  \n",
       "5    4.0  \n",
       "4    3.0  "
      ]
     },
     "execution_count": 21,
     "metadata": {},
     "output_type": "execute_result"
    }
   ],
   "source": [
    "df_hypothesis['RICE'] = ((df_hypothesis['reach']*df_hypothesis['impact']*df_hypothesis['confidence']) / df_hypothesis['efforts']).round(2)\n",
    "\n",
    "df_hypothesis[['hypothesis', 'RICE']].sort_values(by='RICE', ascending=False)"
   ]
  },
  {
   "cell_type": "code",
   "execution_count": 22,
   "metadata": {
    "scrolled": true
   },
   "outputs": [
    {
     "data": {
      "text/html": [
       "<div>\n",
       "<style scoped>\n",
       "    .dataframe tbody tr th:only-of-type {\n",
       "        vertical-align: middle;\n",
       "    }\n",
       "\n",
       "    .dataframe tbody tr th {\n",
       "        vertical-align: top;\n",
       "    }\n",
       "\n",
       "    .dataframe thead th {\n",
       "        text-align: right;\n",
       "    }\n",
       "</style>\n",
       "<table border=\"1\" class=\"dataframe\">\n",
       "  <thead>\n",
       "    <tr style=\"text-align: right;\">\n",
       "      <th></th>\n",
       "      <th>hypothesis</th>\n",
       "      <th>ICE</th>\n",
       "      <th>RICE</th>\n",
       "    </tr>\n",
       "  </thead>\n",
       "  <tbody>\n",
       "    <tr>\n",
       "      <th>8</th>\n",
       "      <td>Запустить акцию, дающую скидку на товар в день рождения</td>\n",
       "      <td>16.20</td>\n",
       "      <td>16.2</td>\n",
       "    </tr>\n",
       "    <tr>\n",
       "      <th>0</th>\n",
       "      <td>Добавить два новых канала привлечения трафика, что позволит привлекать на 30% больше пользователей</td>\n",
       "      <td>13.33</td>\n",
       "      <td>40.0</td>\n",
       "    </tr>\n",
       "    <tr>\n",
       "      <th>7</th>\n",
       "      <td>Добавить форму подписки на все основные страницы, чтобы собрать базу клиентов для email-рассылок</td>\n",
       "      <td>11.20</td>\n",
       "      <td>112.0</td>\n",
       "    </tr>\n",
       "    <tr>\n",
       "      <th>6</th>\n",
       "      <td>Показать на главной странице баннеры с актуальными акциями и распродажами, чтобы увеличить конверсию</td>\n",
       "      <td>8.00</td>\n",
       "      <td>40.0</td>\n",
       "    </tr>\n",
       "    <tr>\n",
       "      <th>2</th>\n",
       "      <td>Добавить блоки рекомендаций товаров на сайт интернет магазина, чтобы повысить конверсию и средний чек заказа</td>\n",
       "      <td>7.00</td>\n",
       "      <td>56.0</td>\n",
       "    </tr>\n",
       "    <tr>\n",
       "      <th>1</th>\n",
       "      <td>Запустить собственную службу доставки, что сократит срок доставки заказов</td>\n",
       "      <td>2.00</td>\n",
       "      <td>4.0</td>\n",
       "    </tr>\n",
       "    <tr>\n",
       "      <th>5</th>\n",
       "      <td>Добавить страницу отзывов клиентов о магазине, что позволит увеличить количество заказов</td>\n",
       "      <td>1.33</td>\n",
       "      <td>4.0</td>\n",
       "    </tr>\n",
       "    <tr>\n",
       "      <th>3</th>\n",
       "      <td>Изменить структура категорий, что увеличит конверсию, т.к. пользователи быстрее найдут нужный товар</td>\n",
       "      <td>1.12</td>\n",
       "      <td>9.0</td>\n",
       "    </tr>\n",
       "    <tr>\n",
       "      <th>4</th>\n",
       "      <td>Изменить цвет фона главной страницы, чтобы увеличить вовлеченность пользователей</td>\n",
       "      <td>1.00</td>\n",
       "      <td>3.0</td>\n",
       "    </tr>\n",
       "  </tbody>\n",
       "</table>\n",
       "</div>"
      ],
      "text/plain": [
       "                                                                                                     hypothesis  \\\n",
       "8                                                       Запустить акцию, дающую скидку на товар в день рождения   \n",
       "0            Добавить два новых канала привлечения трафика, что позволит привлекать на 30% больше пользователей   \n",
       "7              Добавить форму подписки на все основные страницы, чтобы собрать базу клиентов для email-рассылок   \n",
       "6          Показать на главной странице баннеры с актуальными акциями и распродажами, чтобы увеличить конверсию   \n",
       "2  Добавить блоки рекомендаций товаров на сайт интернет магазина, чтобы повысить конверсию и средний чек заказа   \n",
       "1                                     Запустить собственную службу доставки, что сократит срок доставки заказов   \n",
       "5                      Добавить страницу отзывов клиентов о магазине, что позволит увеличить количество заказов   \n",
       "3           Изменить структура категорий, что увеличит конверсию, т.к. пользователи быстрее найдут нужный товар   \n",
       "4                              Изменить цвет фона главной страницы, чтобы увеличить вовлеченность пользователей   \n",
       "\n",
       "     ICE   RICE  \n",
       "8  16.20   16.2  \n",
       "0  13.33   40.0  \n",
       "7  11.20  112.0  \n",
       "6   8.00   40.0  \n",
       "2   7.00   56.0  \n",
       "1   2.00    4.0  \n",
       "5   1.33    4.0  \n",
       "3   1.12    9.0  \n",
       "4   1.00    3.0  "
      ]
     },
     "execution_count": 22,
     "metadata": {},
     "output_type": "execute_result"
    }
   ],
   "source": [
    "df_hypothesis[['hypothesis', 'ICE', 'RICE']].sort_values(by='ICE', ascending=False)"
   ]
  },
  {
   "cell_type": "markdown",
   "metadata": {},
   "source": [
    "Наиболее перспективные гипотезы по RICE - \"Добавить форму подписки на все основные страницы, чтобы собрать базу клиентов для email-рассылок\", \"Добавить блоки рекомендаций товаров на сайт интернет магазина, чтобы повысить конверсию и средний чек заказа\", \"Добавить два новых канала привлечения трафика, что позволит привлекать на 30% больше пользователей\". "
   ]
  },
  {
   "cell_type": "markdown",
   "metadata": {},
   "source": [
    "При пеменении RICE вместо ICE мы видим несоответствие по приоритизация гипотез. Те гипотезы, которые мы считали наиболее перспективными по ICE, далеко не самые перспективные по RICE. Но все же гипотеза \"Добавить форму подписки на все основные страницы, чтобы собрать базу клиентов для email-рассылок\", находится в тройке лучших по RICE (на первом месте) по ICE (на третьем месте). На мой взгляд так произошло потому, что при расчете RICE учитывается показатель reach (охват пользователей), который в значистельной степени вляет на результат.\n",
    "\n",
    "Изучен файл с 9 гипотезами по увеличению выручки интернет-магазина с указанными параметрами Reach, Impact, Confidence, Effort.\n",
    "\n",
    "Применен фреймворк ICE для приоритизации гипотез. Наиболее перспективные гипотезы по ICE - это гипотезы \"Запустить акцию, дающую скидку на товар в день рождения\", \"Добавить два новых канала привлечения трафика, что позволит привлекать на 30% больше пользователей\", \"Добавить форму подписки на все основные страницы, чтобы собрать базу клиентов для email-рассылок\".\n",
    "\n",
    "Применен фреймворк RICE для приоритизации гипотез. Наиболее перспективные гипотезы по RICE - \"Добавить форму подписки на все основные страницы, чтобы собрать базу клиентов для email-рассылок\", \"Добавить блоки рекомендаций товаров на сайт интернет магазина, чтобы повысить конверсию и средний чек заказа\", \"Добавить два новых канала привлечения трафика, что позволит привлекать на 30% больше пользователей\".\n",
    "\n",
    "Гипотеза \"Добавить форму подписки на все основные страницы, чтобы собрать базу клиентов для email-рассылок\", находится в тройке лучших по RICE (на первом месте) по ICE (на третьем месте)"
   ]
  },
  {
   "cell_type": "markdown",
   "metadata": {},
   "source": [
    "##  Анализ A/B-теста."
   ]
  },
  {
   "cell_type": "code",
   "execution_count": 23,
   "metadata": {
    "scrolled": true
   },
   "outputs": [
    {
     "data": {
      "text/plain": [
       "4256040402    11\n",
       "2458001652    11\n",
       "2378935119     9\n",
       "2038680547     8\n",
       "199603092      5\n",
       "              ..\n",
       "2406916810     1\n",
       "1255412427     1\n",
       "3866069709     1\n",
       "54447517       1\n",
       "3013339133     1\n",
       "Name: visitorId, Length: 1031, dtype: int64"
      ]
     },
     "execution_count": 23,
     "metadata": {},
     "output_type": "execute_result"
    }
   ],
   "source": [
    "df_orders['visitorId'].value_counts() #смотрим по количеству заказов \n",
    "\n",
    "#transactionId — идентификатор заказа;\n",
    "#visitorId — идентификатор пользователя, совершившего заказ;"
   ]
  },
  {
   "cell_type": "code",
   "execution_count": 24,
   "metadata": {},
   "outputs": [
    {
     "data": {
      "text/plain": [
       "1197"
      ]
     },
     "execution_count": 24,
     "metadata": {},
     "output_type": "execute_result"
    }
   ],
   "source": [
    "df_orders['visitorId'].count()"
   ]
  },
  {
   "cell_type": "code",
   "execution_count": 25,
   "metadata": {},
   "outputs": [
    {
     "data": {
      "text/plain": [
       "1197"
      ]
     },
     "execution_count": 25,
     "metadata": {},
     "output_type": "execute_result"
    }
   ],
   "source": [
    "df_orders['transactionId'].count()"
   ]
  },
  {
   "cell_type": "markdown",
   "metadata": {},
   "source": [
    "В представленных данных с заказами фигурирует 1031 уникальных пользователя. Самое большое число заказов по покупателю - 11. Всего записей также 1197."
   ]
  },
  {
   "cell_type": "code",
   "execution_count": 26,
   "metadata": {
    "scrolled": false
   },
   "outputs": [
    {
     "data": {
      "text/plain": [
       "2019-08-05    48\n",
       "2019-08-12    47\n",
       "2019-08-14    47\n",
       "2019-08-15    46\n",
       "2019-08-06    46\n",
       "2019-08-01    45\n",
       "2019-08-28    45\n",
       "2019-08-02    44\n",
       "2019-08-27    44\n",
       "2019-08-08    43\n",
       "2019-08-19    43\n",
       "2019-08-29    42\n",
       "2019-08-07    42\n",
       "2019-08-26    41\n",
       "2019-08-22    41\n",
       "2019-08-09    41\n",
       "2019-08-03    40\n",
       "2019-08-23    40\n",
       "2019-08-10    39\n",
       "2019-08-16    38\n",
       "2019-08-21    37\n",
       "2019-08-30    35\n",
       "2019-08-13    35\n",
       "2019-08-04    33\n",
       "2019-08-20    32\n",
       "2019-08-31    32\n",
       "2019-08-24    31\n",
       "2019-08-18    26\n",
       "2019-08-11    26\n",
       "2019-08-17    24\n",
       "2019-08-25    24\n",
       "Name: date, dtype: int64"
      ]
     },
     "execution_count": 26,
     "metadata": {},
     "output_type": "execute_result"
    }
   ],
   "source": [
    "df_orders['date'].value_counts()"
   ]
  },
  {
   "cell_type": "code",
   "execution_count": 96,
   "metadata": {
    "scrolled": false
   },
   "outputs": [
    {
     "name": "stderr",
     "output_type": "stream",
     "text": [
      "/tmp/ipykernel_24/2857408867.py:1: FutureWarning: Treating datetime data as categorical rather than numeric in `.describe` is deprecated and will be removed in a future version of pandas. Specify `datetime_is_numeric=True` to silence this warning and adopt the future behavior now.\n",
      "  df_orders['date'].describe()\n"
     ]
    },
    {
     "data": {
      "text/plain": [
       "count                    1197\n",
       "unique                     31\n",
       "top       2019-08-05 00:00:00\n",
       "freq                       48\n",
       "first     2019-08-01 00:00:00\n",
       "last      2019-08-31 00:00:00\n",
       "Name: date, dtype: object"
      ]
     },
     "execution_count": 96,
     "metadata": {},
     "output_type": "execute_result"
    }
   ],
   "source": [
    "df_orders['date'].describe()\n"
   ]
  },
  {
   "cell_type": "markdown",
   "metadata": {},
   "source": [
    "Представлены заказы за август 2019 года. 1197 строк всего, из них уникальных - 31. В дату 2019-08-05 было совершено самое большое число заказов - 48."
   ]
  },
  {
   "cell_type": "code",
   "execution_count": 28,
   "metadata": {
    "scrolled": false
   },
   "outputs": [
    {
     "data": {
      "text/plain": [
       "B    640\n",
       "A    557\n",
       "Name: group, dtype: int64"
      ]
     },
     "execution_count": 28,
     "metadata": {},
     "output_type": "execute_result"
    }
   ],
   "source": [
    "df_orders['group'].value_counts()"
   ]
  },
  {
   "cell_type": "markdown",
   "metadata": {},
   "source": [
    "В колонке с группами у нас неравное число участников: в  А - 557 человек, в  B - 640."
   ]
  },
  {
   "cell_type": "code",
   "execution_count": 29,
   "metadata": {},
   "outputs": [
    {
     "data": {
      "text/plain": [
       "group    58\n",
       "dtype: int64"
      ]
     },
     "execution_count": 29,
     "metadata": {},
     "output_type": "execute_result"
    }
   ],
   "source": [
    "double = df_orders.pivot_table(index='visitorId', values='group', aggfunc='nunique')\n",
    "double.reset_index()\n",
    "double.query('group > 1').count()"
   ]
  },
  {
   "cell_type": "markdown",
   "metadata": {},
   "source": [
    "58 пользователей попадает в обе группы. Это 5% от общего числа. На мой взгляд удаление не скажется на результатах тестов. Оставляю. "
   ]
  },
  {
   "cell_type": "markdown",
   "metadata": {},
   "source": [
    "### График кумулятивной выручки по группам. "
   ]
  },
  {
   "cell_type": "code",
   "execution_count": 30,
   "metadata": {},
   "outputs": [],
   "source": [
    "# создаем массив уникальных пар значений дат и групп теста\n",
    "datesGroups = df_orders[['date','group']].drop_duplicates() "
   ]
  },
  {
   "cell_type": "code",
   "execution_count": 31,
   "metadata": {},
   "outputs": [
    {
     "data": {
      "text/html": [
       "<div>\n",
       "<style scoped>\n",
       "    .dataframe tbody tr th:only-of-type {\n",
       "        vertical-align: middle;\n",
       "    }\n",
       "\n",
       "    .dataframe tbody tr th {\n",
       "        vertical-align: top;\n",
       "    }\n",
       "\n",
       "    .dataframe thead th {\n",
       "        text-align: right;\n",
       "    }\n",
       "</style>\n",
       "<table border=\"1\" class=\"dataframe\">\n",
       "  <thead>\n",
       "    <tr style=\"text-align: right;\">\n",
       "      <th></th>\n",
       "      <th>date</th>\n",
       "      <th>group</th>\n",
       "    </tr>\n",
       "  </thead>\n",
       "  <tbody>\n",
       "    <tr>\n",
       "      <th>0</th>\n",
       "      <td>2019-08-15</td>\n",
       "      <td>B</td>\n",
       "    </tr>\n",
       "    <tr>\n",
       "      <th>2</th>\n",
       "      <td>2019-08-15</td>\n",
       "      <td>A</td>\n",
       "    </tr>\n",
       "    <tr>\n",
       "      <th>45</th>\n",
       "      <td>2019-08-16</td>\n",
       "      <td>A</td>\n",
       "    </tr>\n",
       "    <tr>\n",
       "      <th>47</th>\n",
       "      <td>2019-08-16</td>\n",
       "      <td>B</td>\n",
       "    </tr>\n",
       "    <tr>\n",
       "      <th>55</th>\n",
       "      <td>2019-08-01</td>\n",
       "      <td>A</td>\n",
       "    </tr>\n",
       "  </tbody>\n",
       "</table>\n",
       "</div>"
      ],
      "text/plain": [
       "         date group\n",
       "0  2019-08-15     B\n",
       "2  2019-08-15     A\n",
       "45 2019-08-16     A\n",
       "47 2019-08-16     B\n",
       "55 2019-08-01     A"
      ]
     },
     "execution_count": 31,
     "metadata": {},
     "output_type": "execute_result"
    }
   ],
   "source": [
    "datesGroups.head()"
   ]
  },
  {
   "cell_type": "code",
   "execution_count": 32,
   "metadata": {},
   "outputs": [],
   "source": [
    "# получаем агрегированные кумулятивные по дням данные о заказах \n",
    "ordersAggregated = datesGroups.apply(\n",
    "    lambda x: df_orders[\n",
    "        np.logical_and(\n",
    "            df_orders['date'] <= x['date'], df_orders['group'] == x['group']\n",
    "        )\n",
    "    ].agg(\n",
    "        {\n",
    "            'date': 'max',\n",
    "            'group': 'max',\n",
    "            'transactionId': pd.Series.nunique,\n",
    "            'visitorId': pd.Series.nunique,\n",
    "            'revenue': 'sum',\n",
    "        }\n",
    "    ),\n",
    "    axis=1,\n",
    ").sort_values(by=['date', 'group'])"
   ]
  },
  {
   "cell_type": "code",
   "execution_count": 33,
   "metadata": {},
   "outputs": [
    {
     "data": {
      "text/html": [
       "<div>\n",
       "<style scoped>\n",
       "    .dataframe tbody tr th:only-of-type {\n",
       "        vertical-align: middle;\n",
       "    }\n",
       "\n",
       "    .dataframe tbody tr th {\n",
       "        vertical-align: top;\n",
       "    }\n",
       "\n",
       "    .dataframe thead th {\n",
       "        text-align: right;\n",
       "    }\n",
       "</style>\n",
       "<table border=\"1\" class=\"dataframe\">\n",
       "  <thead>\n",
       "    <tr style=\"text-align: right;\">\n",
       "      <th></th>\n",
       "      <th>date</th>\n",
       "      <th>group</th>\n",
       "      <th>transactionId</th>\n",
       "      <th>visitorId</th>\n",
       "      <th>revenue</th>\n",
       "    </tr>\n",
       "  </thead>\n",
       "  <tbody>\n",
       "    <tr>\n",
       "      <th>55</th>\n",
       "      <td>2019-08-01</td>\n",
       "      <td>A</td>\n",
       "      <td>24</td>\n",
       "      <td>20</td>\n",
       "      <td>148579</td>\n",
       "    </tr>\n",
       "    <tr>\n",
       "      <th>66</th>\n",
       "      <td>2019-08-01</td>\n",
       "      <td>B</td>\n",
       "      <td>21</td>\n",
       "      <td>20</td>\n",
       "      <td>101217</td>\n",
       "    </tr>\n",
       "    <tr>\n",
       "      <th>175</th>\n",
       "      <td>2019-08-02</td>\n",
       "      <td>A</td>\n",
       "      <td>44</td>\n",
       "      <td>38</td>\n",
       "      <td>242401</td>\n",
       "    </tr>\n",
       "    <tr>\n",
       "      <th>173</th>\n",
       "      <td>2019-08-02</td>\n",
       "      <td>B</td>\n",
       "      <td>45</td>\n",
       "      <td>43</td>\n",
       "      <td>266748</td>\n",
       "    </tr>\n",
       "    <tr>\n",
       "      <th>291</th>\n",
       "      <td>2019-08-03</td>\n",
       "      <td>A</td>\n",
       "      <td>68</td>\n",
       "      <td>62</td>\n",
       "      <td>354874</td>\n",
       "    </tr>\n",
       "  </tbody>\n",
       "</table>\n",
       "</div>"
      ],
      "text/plain": [
       "          date group  transactionId  visitorId  revenue\n",
       "55  2019-08-01     A             24         20   148579\n",
       "66  2019-08-01     B             21         20   101217\n",
       "175 2019-08-02     A             44         38   242401\n",
       "173 2019-08-02     B             45         43   266748\n",
       "291 2019-08-03     A             68         62   354874"
      ]
     },
     "execution_count": 33,
     "metadata": {},
     "output_type": "execute_result"
    }
   ],
   "source": [
    "ordersAggregated.head()"
   ]
  },
  {
   "cell_type": "code",
   "execution_count": 34,
   "metadata": {},
   "outputs": [],
   "source": [
    "# получаем агрегированные кумулятивные по дням данные о посетителях интернет-магазина \n",
    "visitorsAggregated = datesGroups.apply(lambda x: df_visitors[np.logical_and(df_visitors['date'] <= x['date'], df_visitors['group'] == x['group'])].agg({'date' : 'max', 'group' : 'max', 'visitors' : 'sum'}), axis=1).sort_values(by=['date','group'])\n"
   ]
  },
  {
   "cell_type": "code",
   "execution_count": 35,
   "metadata": {},
   "outputs": [
    {
     "data": {
      "text/html": [
       "<div>\n",
       "<style scoped>\n",
       "    .dataframe tbody tr th:only-of-type {\n",
       "        vertical-align: middle;\n",
       "    }\n",
       "\n",
       "    .dataframe tbody tr th {\n",
       "        vertical-align: top;\n",
       "    }\n",
       "\n",
       "    .dataframe thead th {\n",
       "        text-align: right;\n",
       "    }\n",
       "</style>\n",
       "<table border=\"1\" class=\"dataframe\">\n",
       "  <thead>\n",
       "    <tr style=\"text-align: right;\">\n",
       "      <th></th>\n",
       "      <th>date</th>\n",
       "      <th>group</th>\n",
       "      <th>visitors</th>\n",
       "    </tr>\n",
       "  </thead>\n",
       "  <tbody>\n",
       "    <tr>\n",
       "      <th>55</th>\n",
       "      <td>2019-08-01</td>\n",
       "      <td>A</td>\n",
       "      <td>719</td>\n",
       "    </tr>\n",
       "    <tr>\n",
       "      <th>66</th>\n",
       "      <td>2019-08-01</td>\n",
       "      <td>B</td>\n",
       "      <td>713</td>\n",
       "    </tr>\n",
       "    <tr>\n",
       "      <th>175</th>\n",
       "      <td>2019-08-02</td>\n",
       "      <td>A</td>\n",
       "      <td>1338</td>\n",
       "    </tr>\n",
       "    <tr>\n",
       "      <th>173</th>\n",
       "      <td>2019-08-02</td>\n",
       "      <td>B</td>\n",
       "      <td>1294</td>\n",
       "    </tr>\n",
       "    <tr>\n",
       "      <th>291</th>\n",
       "      <td>2019-08-03</td>\n",
       "      <td>A</td>\n",
       "      <td>1845</td>\n",
       "    </tr>\n",
       "  </tbody>\n",
       "</table>\n",
       "</div>"
      ],
      "text/plain": [
       "          date group  visitors\n",
       "55  2019-08-01     A       719\n",
       "66  2019-08-01     B       713\n",
       "175 2019-08-02     A      1338\n",
       "173 2019-08-02     B      1294\n",
       "291 2019-08-03     A      1845"
      ]
     },
     "execution_count": 35,
     "metadata": {},
     "output_type": "execute_result"
    }
   ],
   "source": [
    "visitorsAggregated.head()"
   ]
  },
  {
   "cell_type": "code",
   "execution_count": 36,
   "metadata": {},
   "outputs": [],
   "source": [
    "# объединяем кумулятивные данные в одной таблице и присваиваем ее столбцам понятные названия\n",
    "cumulativeData = ordersAggregated.merge(visitorsAggregated, left_on=['date', 'group'], right_on=['date', 'group'])\n",
    "cumulativeData.columns = ['date', 'group', 'orders', 'buyers', 'revenue', 'visitors']"
   ]
  },
  {
   "cell_type": "code",
   "execution_count": 37,
   "metadata": {},
   "outputs": [
    {
     "data": {
      "text/html": [
       "<div>\n",
       "<style scoped>\n",
       "    .dataframe tbody tr th:only-of-type {\n",
       "        vertical-align: middle;\n",
       "    }\n",
       "\n",
       "    .dataframe tbody tr th {\n",
       "        vertical-align: top;\n",
       "    }\n",
       "\n",
       "    .dataframe thead th {\n",
       "        text-align: right;\n",
       "    }\n",
       "</style>\n",
       "<table border=\"1\" class=\"dataframe\">\n",
       "  <thead>\n",
       "    <tr style=\"text-align: right;\">\n",
       "      <th></th>\n",
       "      <th>date</th>\n",
       "      <th>group</th>\n",
       "      <th>orders</th>\n",
       "      <th>buyers</th>\n",
       "      <th>revenue</th>\n",
       "      <th>visitors</th>\n",
       "    </tr>\n",
       "  </thead>\n",
       "  <tbody>\n",
       "    <tr>\n",
       "      <th>0</th>\n",
       "      <td>2019-08-01</td>\n",
       "      <td>A</td>\n",
       "      <td>24</td>\n",
       "      <td>20</td>\n",
       "      <td>148579</td>\n",
       "      <td>719</td>\n",
       "    </tr>\n",
       "    <tr>\n",
       "      <th>1</th>\n",
       "      <td>2019-08-01</td>\n",
       "      <td>B</td>\n",
       "      <td>21</td>\n",
       "      <td>20</td>\n",
       "      <td>101217</td>\n",
       "      <td>713</td>\n",
       "    </tr>\n",
       "    <tr>\n",
       "      <th>2</th>\n",
       "      <td>2019-08-02</td>\n",
       "      <td>A</td>\n",
       "      <td>44</td>\n",
       "      <td>38</td>\n",
       "      <td>242401</td>\n",
       "      <td>1338</td>\n",
       "    </tr>\n",
       "    <tr>\n",
       "      <th>3</th>\n",
       "      <td>2019-08-02</td>\n",
       "      <td>B</td>\n",
       "      <td>45</td>\n",
       "      <td>43</td>\n",
       "      <td>266748</td>\n",
       "      <td>1294</td>\n",
       "    </tr>\n",
       "    <tr>\n",
       "      <th>4</th>\n",
       "      <td>2019-08-03</td>\n",
       "      <td>A</td>\n",
       "      <td>68</td>\n",
       "      <td>62</td>\n",
       "      <td>354874</td>\n",
       "      <td>1845</td>\n",
       "    </tr>\n",
       "  </tbody>\n",
       "</table>\n",
       "</div>"
      ],
      "text/plain": [
       "        date group  orders  buyers  revenue  visitors\n",
       "0 2019-08-01     A      24      20   148579       719\n",
       "1 2019-08-01     B      21      20   101217       713\n",
       "2 2019-08-02     A      44      38   242401      1338\n",
       "3 2019-08-02     B      45      43   266748      1294\n",
       "4 2019-08-03     A      68      62   354874      1845"
      ]
     },
     "execution_count": 37,
     "metadata": {},
     "output_type": "execute_result"
    }
   ],
   "source": [
    "cumulativeData.head()"
   ]
  },
  {
   "cell_type": "code",
   "execution_count": 38,
   "metadata": {},
   "outputs": [
    {
     "data": {
      "text/html": [
       "<div>\n",
       "<style scoped>\n",
       "    .dataframe tbody tr th:only-of-type {\n",
       "        vertical-align: middle;\n",
       "    }\n",
       "\n",
       "    .dataframe tbody tr th {\n",
       "        vertical-align: top;\n",
       "    }\n",
       "\n",
       "    .dataframe thead th {\n",
       "        text-align: right;\n",
       "    }\n",
       "</style>\n",
       "<table border=\"1\" class=\"dataframe\">\n",
       "  <thead>\n",
       "    <tr style=\"text-align: right;\">\n",
       "      <th></th>\n",
       "      <th>date</th>\n",
       "      <th>revenue</th>\n",
       "      <th>orders</th>\n",
       "    </tr>\n",
       "  </thead>\n",
       "  <tbody>\n",
       "    <tr>\n",
       "      <th>0</th>\n",
       "      <td>2019-08-01</td>\n",
       "      <td>148579</td>\n",
       "      <td>24</td>\n",
       "    </tr>\n",
       "    <tr>\n",
       "      <th>2</th>\n",
       "      <td>2019-08-02</td>\n",
       "      <td>242401</td>\n",
       "      <td>44</td>\n",
       "    </tr>\n",
       "    <tr>\n",
       "      <th>4</th>\n",
       "      <td>2019-08-03</td>\n",
       "      <td>354874</td>\n",
       "      <td>68</td>\n",
       "    </tr>\n",
       "    <tr>\n",
       "      <th>6</th>\n",
       "      <td>2019-08-04</td>\n",
       "      <td>425699</td>\n",
       "      <td>84</td>\n",
       "    </tr>\n",
       "    <tr>\n",
       "      <th>8</th>\n",
       "      <td>2019-08-05</td>\n",
       "      <td>549917</td>\n",
       "      <td>109</td>\n",
       "    </tr>\n",
       "  </tbody>\n",
       "</table>\n",
       "</div>"
      ],
      "text/plain": [
       "        date  revenue  orders\n",
       "0 2019-08-01   148579      24\n",
       "2 2019-08-02   242401      44\n",
       "4 2019-08-03   354874      68\n",
       "6 2019-08-04   425699      84\n",
       "8 2019-08-05   549917     109"
      ]
     },
     "execution_count": 38,
     "metadata": {},
     "output_type": "execute_result"
    }
   ],
   "source": [
    "cumulativeRevenueA = cumulativeData[cumulativeData['group']=='A'][['date','revenue', 'orders']]\n",
    "cumulativeRevenueA.head()"
   ]
  },
  {
   "cell_type": "code",
   "execution_count": 39,
   "metadata": {},
   "outputs": [
    {
     "data": {
      "text/html": [
       "<div>\n",
       "<style scoped>\n",
       "    .dataframe tbody tr th:only-of-type {\n",
       "        vertical-align: middle;\n",
       "    }\n",
       "\n",
       "    .dataframe tbody tr th {\n",
       "        vertical-align: top;\n",
       "    }\n",
       "\n",
       "    .dataframe thead th {\n",
       "        text-align: right;\n",
       "    }\n",
       "</style>\n",
       "<table border=\"1\" class=\"dataframe\">\n",
       "  <thead>\n",
       "    <tr style=\"text-align: right;\">\n",
       "      <th></th>\n",
       "      <th>date</th>\n",
       "      <th>revenue</th>\n",
       "      <th>orders</th>\n",
       "    </tr>\n",
       "  </thead>\n",
       "  <tbody>\n",
       "    <tr>\n",
       "      <th>1</th>\n",
       "      <td>2019-08-01</td>\n",
       "      <td>101217</td>\n",
       "      <td>21</td>\n",
       "    </tr>\n",
       "    <tr>\n",
       "      <th>3</th>\n",
       "      <td>2019-08-02</td>\n",
       "      <td>266748</td>\n",
       "      <td>45</td>\n",
       "    </tr>\n",
       "    <tr>\n",
       "      <th>5</th>\n",
       "      <td>2019-08-03</td>\n",
       "      <td>380996</td>\n",
       "      <td>61</td>\n",
       "    </tr>\n",
       "    <tr>\n",
       "      <th>7</th>\n",
       "      <td>2019-08-04</td>\n",
       "      <td>489567</td>\n",
       "      <td>78</td>\n",
       "    </tr>\n",
       "    <tr>\n",
       "      <th>9</th>\n",
       "      <td>2019-08-05</td>\n",
       "      <td>581995</td>\n",
       "      <td>101</td>\n",
       "    </tr>\n",
       "  </tbody>\n",
       "</table>\n",
       "</div>"
      ],
      "text/plain": [
       "        date  revenue  orders\n",
       "1 2019-08-01   101217      21\n",
       "3 2019-08-02   266748      45\n",
       "5 2019-08-03   380996      61\n",
       "7 2019-08-04   489567      78\n",
       "9 2019-08-05   581995     101"
      ]
     },
     "execution_count": 39,
     "metadata": {},
     "output_type": "execute_result"
    }
   ],
   "source": [
    "cumulativeRevenueB = cumulativeData[cumulativeData['group']=='B'][['date','revenue', 'orders']]\n",
    "cumulativeRevenueB.head()"
   ]
  },
  {
   "cell_type": "code",
   "execution_count": 40,
   "metadata": {},
   "outputs": [
    {
     "data": {
      "image/png": "[encoded data removed]",
      "text/plain": [
       "<Figure size 432x288 with 1 Axes>"
      ]
     },
     "metadata": {
      "needs_background": "light"
     },
     "output_type": "display_data"
    }
   ],
   "source": [
    "# Строим график выручки группы А\n",
    "plt.plot(cumulativeRevenueA['date'], cumulativeRevenueA['revenue'], label='A')\n",
    "\n",
    "# Строим график выручки группы B\n",
    "plt.plot(cumulativeRevenueB['date'], cumulativeRevenueB['revenue'], label='B')\n",
    "\n",
    "plt.xticks(rotation=45)\n",
    "plt.legend() \n",
    "plt.title('Кумулятивная выручка по группам')\n",
    "plt.xlabel('Дата, день')\n",
    "plt.ylabel('Выручка, руб')\n",
    "\n",
    "\n",
    "plt.show()"
   ]
  },
  {
   "cell_type": "markdown",
   "metadata": {},
   "source": [
    "Выручка почти равномерно увеличивается в течение всего теста. В начале сегмент B пошел вверх и лидировал, далее, в середине августе, видим довольно резкий скачок сегмента B. Это возможно увеличение числа заказов, либо о появлении очень дорогих заказов в выборке."
   ]
  },
  {
   "cell_type": "markdown",
   "metadata": {},
   "source": [
    "###  График кумулятивного среднего чека по группам."
   ]
  },
  {
   "cell_type": "code",
   "execution_count": 41,
   "metadata": {},
   "outputs": [
    {
     "data": {
      "text/plain": [
       "<matplotlib.legend.Legend at 0x7ff1f618b550>"
      ]
     },
     "execution_count": 41,
     "metadata": {},
     "output_type": "execute_result"
    },
    {
     "data": {
      "image/png": "[encoded data removed]",
      "text/plain": [
       "<Figure size 432x288 with 1 Axes>"
      ]
     },
     "metadata": {
      "needs_background": "light"
     },
     "output_type": "display_data"
    }
   ],
   "source": [
    "plt.plot(cumulativeRevenueA['date'], cumulativeRevenueA['revenue']/cumulativeRevenueA['orders'], label='A')\n",
    "plt.plot(cumulativeRevenueB['date'], cumulativeRevenueB['revenue']/cumulativeRevenueB['orders'], label='B')\n",
    "plt.xticks(rotation=45)\n",
    "plt.title('Кумулятивный средний чек по группам')\n",
    "plt.xlabel('Дата, день')\n",
    "plt.ylabel('Средний чек, руб')\n",
    "plt.legend() "
   ]
  },
  {
   "cell_type": "markdown",
   "metadata": {},
   "source": [
    "Кумулятивное значение среднего чека нестабильно. После 17 августа со средним чеком сегмента В что-то случилось, и он резко увеличился(стал свыше 10000). Пик для семента А пришелся на 13 августа (7000-8000), после чего немного снизился."
   ]
  },
  {
   "cell_type": "markdown",
   "metadata": {},
   "source": [
    "### График относительного изменения кумулятивного среднего чека группы B к группе A. "
   ]
  },
  {
   "cell_type": "code",
   "execution_count": 42,
   "metadata": {},
   "outputs": [],
   "source": [
    "# собираем данные в одном датафрейме\n",
    "mergedCumulativeRevenue = cumulativeRevenueA.merge(\n",
    "    cumulativeRevenueB, left_on='date', right_on='date', how='left', suffixes=['A', 'B'])"
   ]
  },
  {
   "cell_type": "code",
   "execution_count": 43,
   "metadata": {},
   "outputs": [
    {
     "data": {
      "text/plain": [
       "Text(0, 0.5, 'Отношение средних чеков')"
      ]
     },
     "execution_count": 43,
     "metadata": {},
     "output_type": "execute_result"
    },
    {
     "data": {
      "image/png": "[encoded data removed]",
      "text/plain": [
       "<Figure size 432x288 with 1 Axes>"
      ]
     },
     "metadata": {
      "needs_background": "light"
     },
     "output_type": "display_data"
    }
   ],
   "source": [
    "# cтроим отношение средних чеков\n",
    "plt.plot(mergedCumulativeRevenue['date'], (mergedCumulativeRevenue['revenueB']/mergedCumulativeRevenue['ordersB'])/(mergedCumulativeRevenue['revenueA']/mergedCumulativeRevenue['ordersA'])-1)\n",
    "# добавляем ось X\n",
    "plt.axhline(y=0, color='black', linestyle='--') \n",
    "plt.xticks(rotation=45)\n",
    "plt.title('Относительное изменение кумулятивного среднего чека группы B к группе A')\n",
    "plt.xlabel('Дата, день')\n",
    "plt.ylabel('Отношение средних чеков')"
   ]
  },
  {
   "cell_type": "markdown",
   "metadata": {},
   "source": [
    "Результаты теста значительно и резко менялись в несколько дат. Вероятно, в эти дни были соверешены большие заказы."
   ]
  },
  {
   "cell_type": "markdown",
   "metadata": {},
   "source": [
    "### График кумулятивной конверсии по группам."
   ]
  },
  {
   "cell_type": "code",
   "execution_count": 44,
   "metadata": {},
   "outputs": [
    {
     "data": {
      "text/html": [
       "<div>\n",
       "<style scoped>\n",
       "    .dataframe tbody tr th:only-of-type {\n",
       "        vertical-align: middle;\n",
       "    }\n",
       "\n",
       "    .dataframe tbody tr th {\n",
       "        vertical-align: top;\n",
       "    }\n",
       "\n",
       "    .dataframe thead th {\n",
       "        text-align: right;\n",
       "    }\n",
       "</style>\n",
       "<table border=\"1\" class=\"dataframe\">\n",
       "  <thead>\n",
       "    <tr style=\"text-align: right;\">\n",
       "      <th></th>\n",
       "      <th>date</th>\n",
       "      <th>group</th>\n",
       "      <th>orders</th>\n",
       "      <th>buyers</th>\n",
       "      <th>revenue</th>\n",
       "      <th>visitors</th>\n",
       "      <th>conversion</th>\n",
       "    </tr>\n",
       "  </thead>\n",
       "  <tbody>\n",
       "    <tr>\n",
       "      <th>0</th>\n",
       "      <td>2019-08-01</td>\n",
       "      <td>A</td>\n",
       "      <td>24</td>\n",
       "      <td>20</td>\n",
       "      <td>148579</td>\n",
       "      <td>719</td>\n",
       "      <td>0.033380</td>\n",
       "    </tr>\n",
       "    <tr>\n",
       "      <th>1</th>\n",
       "      <td>2019-08-01</td>\n",
       "      <td>B</td>\n",
       "      <td>21</td>\n",
       "      <td>20</td>\n",
       "      <td>101217</td>\n",
       "      <td>713</td>\n",
       "      <td>0.029453</td>\n",
       "    </tr>\n",
       "    <tr>\n",
       "      <th>2</th>\n",
       "      <td>2019-08-02</td>\n",
       "      <td>A</td>\n",
       "      <td>44</td>\n",
       "      <td>38</td>\n",
       "      <td>242401</td>\n",
       "      <td>1338</td>\n",
       "      <td>0.032885</td>\n",
       "    </tr>\n",
       "    <tr>\n",
       "      <th>3</th>\n",
       "      <td>2019-08-02</td>\n",
       "      <td>B</td>\n",
       "      <td>45</td>\n",
       "      <td>43</td>\n",
       "      <td>266748</td>\n",
       "      <td>1294</td>\n",
       "      <td>0.034776</td>\n",
       "    </tr>\n",
       "    <tr>\n",
       "      <th>4</th>\n",
       "      <td>2019-08-03</td>\n",
       "      <td>A</td>\n",
       "      <td>68</td>\n",
       "      <td>62</td>\n",
       "      <td>354874</td>\n",
       "      <td>1845</td>\n",
       "      <td>0.036856</td>\n",
       "    </tr>\n",
       "  </tbody>\n",
       "</table>\n",
       "</div>"
      ],
      "text/plain": [
       "        date group  orders  buyers  revenue  visitors  conversion\n",
       "0 2019-08-01     A      24      20   148579       719    0.033380\n",
       "1 2019-08-01     B      21      20   101217       713    0.029453\n",
       "2 2019-08-02     A      44      38   242401      1338    0.032885\n",
       "3 2019-08-02     B      45      43   266748      1294    0.034776\n",
       "4 2019-08-03     A      68      62   354874      1845    0.036856"
      ]
     },
     "execution_count": 44,
     "metadata": {},
     "output_type": "execute_result"
    }
   ],
   "source": [
    "# считаем кумулятивную конверсию\n",
    "cumulativeData['conversion'] = cumulativeData['orders']/cumulativeData['visitors']\n",
    "cumulativeData.head()"
   ]
  },
  {
   "cell_type": "code",
   "execution_count": 45,
   "metadata": {},
   "outputs": [],
   "source": [
    "# отделяем данные по группе A\n",
    "cumulativeDataA = cumulativeData[cumulativeData['group']=='A']\n",
    " \n",
    "# отделяем данные по группе B\n",
    "cumulativeDataB = cumulativeData[cumulativeData['group']=='B']"
   ]
  },
  {
   "cell_type": "code",
   "execution_count": 46,
   "metadata": {},
   "outputs": [
    {
     "data": {
      "text/plain": [
       "Text(0, 0.5, 'Конверсия')"
      ]
     },
     "execution_count": 46,
     "metadata": {},
     "output_type": "execute_result"
    },
    {
     "data": {
      "image/png": "[encoded data removed]",
      "text/plain": [
       "<Figure size 432x288 with 1 Axes>"
      ]
     },
     "metadata": {
      "needs_background": "light"
     },
     "output_type": "display_data"
    }
   ],
   "source": [
    "plt.plot(cumulativeDataA['date'], cumulativeDataA['conversion'], label='A')\n",
    "plt.plot(cumulativeDataB['date'], cumulativeDataB['conversion'], label='B')\n",
    "plt.legend()\n",
    "plt.xticks(rotation=45)\n",
    "plt.title(\"Кумулятивная конверсия по группам\")\n",
    "plt.xlabel('Дата, день')\n",
    "plt.ylabel('Конверсия')"
   ]
  },
  {
   "cell_type": "markdown",
   "metadata": {},
   "source": [
    "В начале теста по графикам мы видим, что сегмент А имел большую конверсию, чем сегмент В, но далее мы видим резкую смену позиций. Пересечение сегментов на уровне 0.032, а делее увеличение по сегменту В, до максимума - 0.036 и снижение сегмента А до 0.029."
   ]
  },
  {
   "cell_type": "markdown",
   "metadata": {},
   "source": [
    "### График относительного изменения кумулятивной конверсии группы B к группе A. "
   ]
  },
  {
   "cell_type": "code",
   "execution_count": 47,
   "metadata": {},
   "outputs": [
    {
     "data": {
      "text/html": [
       "<div>\n",
       "<style scoped>\n",
       "    .dataframe tbody tr th:only-of-type {\n",
       "        vertical-align: middle;\n",
       "    }\n",
       "\n",
       "    .dataframe tbody tr th {\n",
       "        vertical-align: top;\n",
       "    }\n",
       "\n",
       "    .dataframe thead th {\n",
       "        text-align: right;\n",
       "    }\n",
       "</style>\n",
       "<table border=\"1\" class=\"dataframe\">\n",
       "  <thead>\n",
       "    <tr style=\"text-align: right;\">\n",
       "      <th></th>\n",
       "      <th>date</th>\n",
       "      <th>conversionA</th>\n",
       "      <th>conversionB</th>\n",
       "    </tr>\n",
       "  </thead>\n",
       "  <tbody>\n",
       "    <tr>\n",
       "      <th>0</th>\n",
       "      <td>2019-08-01</td>\n",
       "      <td>0.033380</td>\n",
       "      <td>0.029453</td>\n",
       "    </tr>\n",
       "    <tr>\n",
       "      <th>1</th>\n",
       "      <td>2019-08-02</td>\n",
       "      <td>0.032885</td>\n",
       "      <td>0.034776</td>\n",
       "    </tr>\n",
       "    <tr>\n",
       "      <th>2</th>\n",
       "      <td>2019-08-03</td>\n",
       "      <td>0.036856</td>\n",
       "      <td>0.033833</td>\n",
       "    </tr>\n",
       "    <tr>\n",
       "      <th>3</th>\n",
       "      <td>2019-08-04</td>\n",
       "      <td>0.032787</td>\n",
       "      <td>0.030315</td>\n",
       "    </tr>\n",
       "    <tr>\n",
       "      <th>4</th>\n",
       "      <td>2019-08-05</td>\n",
       "      <td>0.032851</td>\n",
       "      <td>0.030793</td>\n",
       "    </tr>\n",
       "  </tbody>\n",
       "</table>\n",
       "</div>"
      ],
      "text/plain": [
       "        date  conversionA  conversionB\n",
       "0 2019-08-01     0.033380     0.029453\n",
       "1 2019-08-02     0.032885     0.034776\n",
       "2 2019-08-03     0.036856     0.033833\n",
       "3 2019-08-04     0.032787     0.030315\n",
       "4 2019-08-05     0.032851     0.030793"
      ]
     },
     "execution_count": 47,
     "metadata": {},
     "output_type": "execute_result"
    }
   ],
   "source": [
    "mergedCumulativeConversions = cumulativeDataA[['date','conversion']].merge(\n",
    "    cumulativeDataB[['date','conversion']], left_on='date', right_on='date', how='left', suffixes=['A', 'B'])\n",
    "\n",
    "mergedCumulativeConversions.head()"
   ]
  },
  {
   "cell_type": "code",
   "execution_count": 48,
   "metadata": {},
   "outputs": [
    {
     "data": {
      "image/png": "[encoded data removed]",
      "text/plain": [
       "<Figure size 576x432 with 1 Axes>"
      ]
     },
     "metadata": {
      "needs_background": "light"
     },
     "output_type": "display_data"
    }
   ],
   "source": [
    "plt.figure(figsize=(8,6))\n",
    "plt.plot(\n",
    "    mergedCumulativeConversions['date'], \n",
    "    mergedCumulativeConversions['conversionB']/mergedCumulativeConversions['conversionA']-1, \n",
    "    label=\"Относительный прирост конверсии группы B относительно группы A\"\n",
    ")\n",
    "plt.legend()\n",
    "plt.xlabel('Дата, день')\n",
    "plt.ylabel('Значение прироста')\n",
    "\n",
    "plt.xticks(rotation=45)\n",
    "\n",
    "# линия оси X чёрного цвета  \n",
    "plt.axhline(y=0, color='black', linestyle='--')\n",
    "# линия оси X серого цвета  \n",
    "plt.axhline(y=0.2, color='grey', linestyle='--')\n",
    " \n",
    "plt.show()\n",
    " \n"
   ]
  },
  {
   "cell_type": "markdown",
   "metadata": {},
   "source": [
    "В начале теста группа B проигрывала группе A, затем видим резкий подъем. В период с 7 по 15 августа набладается прирост до уровня 0.22, а после чего стала немного падать до уровня 0.1, но все равно остается в выигрышной позиции по по сравнению с группой А. В целом отношение конверсии ещё не установилось, и сейчас делать какие-либо выводы по тесту нельзя."
   ]
  },
  {
   "cell_type": "markdown",
   "metadata": {},
   "source": [
    "### Точечный график количества заказов по пользователям."
   ]
  },
  {
   "cell_type": "code",
   "execution_count": 49,
   "metadata": {},
   "outputs": [
    {
     "data": {
      "text/html": [
       "<div>\n",
       "<style scoped>\n",
       "    .dataframe tbody tr th:only-of-type {\n",
       "        vertical-align: middle;\n",
       "    }\n",
       "\n",
       "    .dataframe tbody tr th {\n",
       "        vertical-align: top;\n",
       "    }\n",
       "\n",
       "    .dataframe thead th {\n",
       "        text-align: right;\n",
       "    }\n",
       "</style>\n",
       "<table border=\"1\" class=\"dataframe\">\n",
       "  <thead>\n",
       "    <tr style=\"text-align: right;\">\n",
       "      <th></th>\n",
       "      <th>transactionId</th>\n",
       "      <th>visitorId</th>\n",
       "      <th>date</th>\n",
       "      <th>revenue</th>\n",
       "      <th>group</th>\n",
       "    </tr>\n",
       "  </thead>\n",
       "  <tbody>\n",
       "    <tr>\n",
       "      <th>0</th>\n",
       "      <td>3667963787</td>\n",
       "      <td>3312258926</td>\n",
       "      <td>2019-08-15</td>\n",
       "      <td>1650</td>\n",
       "      <td>B</td>\n",
       "    </tr>\n",
       "    <tr>\n",
       "      <th>1</th>\n",
       "      <td>2804400009</td>\n",
       "      <td>3642806036</td>\n",
       "      <td>2019-08-15</td>\n",
       "      <td>730</td>\n",
       "      <td>B</td>\n",
       "    </tr>\n",
       "    <tr>\n",
       "      <th>2</th>\n",
       "      <td>2961555356</td>\n",
       "      <td>4069496402</td>\n",
       "      <td>2019-08-15</td>\n",
       "      <td>400</td>\n",
       "      <td>A</td>\n",
       "    </tr>\n",
       "    <tr>\n",
       "      <th>3</th>\n",
       "      <td>3797467345</td>\n",
       "      <td>1196621759</td>\n",
       "      <td>2019-08-15</td>\n",
       "      <td>9759</td>\n",
       "      <td>B</td>\n",
       "    </tr>\n",
       "    <tr>\n",
       "      <th>4</th>\n",
       "      <td>2282983706</td>\n",
       "      <td>2322279887</td>\n",
       "      <td>2019-08-15</td>\n",
       "      <td>2308</td>\n",
       "      <td>B</td>\n",
       "    </tr>\n",
       "  </tbody>\n",
       "</table>\n",
       "</div>"
      ],
      "text/plain": [
       "   transactionId   visitorId       date  revenue group\n",
       "0     3667963787  3312258926 2019-08-15     1650     B\n",
       "1     2804400009  3642806036 2019-08-15      730     B\n",
       "2     2961555356  4069496402 2019-08-15      400     A\n",
       "3     3797467345  1196621759 2019-08-15     9759     B\n",
       "4     2282983706  2322279887 2019-08-15     2308     B"
      ]
     },
     "execution_count": 49,
     "metadata": {},
     "output_type": "execute_result"
    }
   ],
   "source": [
    "df_orders.head()\n",
    "#transactionId — идентификатор заказа;\n",
    "#visitorId — идентификатор пользователя, совершившего заказ;"
   ]
  },
  {
   "cell_type": "code",
   "execution_count": 50,
   "metadata": {},
   "outputs": [
    {
     "data": {
      "text/html": [
       "<div>\n",
       "<style scoped>\n",
       "    .dataframe tbody tr th:only-of-type {\n",
       "        vertical-align: middle;\n",
       "    }\n",
       "\n",
       "    .dataframe tbody tr th {\n",
       "        vertical-align: top;\n",
       "    }\n",
       "\n",
       "    .dataframe thead th {\n",
       "        text-align: right;\n",
       "    }\n",
       "</style>\n",
       "<table border=\"1\" class=\"dataframe\">\n",
       "  <thead>\n",
       "    <tr style=\"text-align: right;\">\n",
       "      <th></th>\n",
       "      <th>visitorId</th>\n",
       "      <th>orders</th>\n",
       "    </tr>\n",
       "  </thead>\n",
       "  <tbody>\n",
       "    <tr>\n",
       "      <th>1023</th>\n",
       "      <td>4256040402</td>\n",
       "      <td>11</td>\n",
       "    </tr>\n",
       "    <tr>\n",
       "      <th>591</th>\n",
       "      <td>2458001652</td>\n",
       "      <td>11</td>\n",
       "    </tr>\n",
       "    <tr>\n",
       "      <th>569</th>\n",
       "      <td>2378935119</td>\n",
       "      <td>9</td>\n",
       "    </tr>\n",
       "    <tr>\n",
       "      <th>487</th>\n",
       "      <td>2038680547</td>\n",
       "      <td>8</td>\n",
       "    </tr>\n",
       "    <tr>\n",
       "      <th>44</th>\n",
       "      <td>199603092</td>\n",
       "      <td>5</td>\n",
       "    </tr>\n",
       "    <tr>\n",
       "      <th>744</th>\n",
       "      <td>3062433592</td>\n",
       "      <td>5</td>\n",
       "    </tr>\n",
       "    <tr>\n",
       "      <th>55</th>\n",
       "      <td>237748145</td>\n",
       "      <td>5</td>\n",
       "    </tr>\n",
       "    <tr>\n",
       "      <th>917</th>\n",
       "      <td>3803269165</td>\n",
       "      <td>5</td>\n",
       "    </tr>\n",
       "    <tr>\n",
       "      <th>299</th>\n",
       "      <td>1230306981</td>\n",
       "      <td>5</td>\n",
       "    </tr>\n",
       "    <tr>\n",
       "      <th>897</th>\n",
       "      <td>3717692402</td>\n",
       "      <td>5</td>\n",
       "    </tr>\n",
       "  </tbody>\n",
       "</table>\n",
       "</div>"
      ],
      "text/plain": [
       "       visitorId  orders\n",
       "1023  4256040402      11\n",
       "591   2458001652      11\n",
       "569   2378935119       9\n",
       "487   2038680547       8\n",
       "44     199603092       5\n",
       "744   3062433592       5\n",
       "55     237748145       5\n",
       "917   3803269165       5\n",
       "299   1230306981       5\n",
       "897   3717692402       5"
      ]
     },
     "execution_count": 50,
     "metadata": {},
     "output_type": "execute_result"
    }
   ],
   "source": [
    "#число заказов по пользователям\n",
    "ordersByUsers = (\n",
    "    df_orders.drop(['group', 'revenue', 'date'], axis=1)\n",
    "    .groupby('visitorId', as_index=False)\n",
    "    .agg({'transactionId': pd.Series.nunique})\n",
    ")\n",
    "\n",
    "ordersByUsers.columns = ['visitorId', 'orders']\n",
    "\n",
    "ordersByUsers.sort_values(by='orders', ascending=False).head(10)"
   ]
  },
  {
   "cell_type": "code",
   "execution_count": 51,
   "metadata": {},
   "outputs": [
    {
     "data": {
      "image/png": "[encoded data removed]",
      "text/plain": [
       "<Figure size 432x288 with 1 Axes>"
      ]
     },
     "metadata": {
      "needs_background": "light"
     },
     "output_type": "display_data"
    }
   ],
   "source": [
    "x_values = pd.Series(range(0, len(ordersByUsers)))\n",
    "\n",
    "plt.scatter(x_values, ordersByUsers['orders']) \n",
    "\n",
    "plt.title('Распределение числа заказов по пользователям')\n",
    "plt.xlabel('Число пользователей, чел')\n",
    "plt.ylabel('Число заказов, шт')\n",
    "plt.show()"
   ]
  },
  {
   "cell_type": "markdown",
   "metadata": {},
   "source": [
    "Видим, что максимальное количество заказов достигает - 11 от двух пользователей. Случаи заказов более двух раз не так уж и много. Больше всего по одному - два заказа."
   ]
  },
  {
   "cell_type": "markdown",
   "metadata": {},
   "source": [
    "### Посчитайте 95-й и 99-й перцентили количества заказов на пользователя. Выберите границу для определения аномальных пользователей."
   ]
  },
  {
   "cell_type": "code",
   "execution_count": 52,
   "metadata": {},
   "outputs": [
    {
     "name": "stdout",
     "output_type": "stream",
     "text": [
      "[2. 4.]\n"
     ]
    }
   ],
   "source": [
    "# Метод np.percentile('column', [percentile1, percentile2, percentile3]) находит перцентили.\n",
    "print(np.percentile(ordersByUsers['orders'], [95, 99]))"
   ]
  },
  {
   "cell_type": "markdown",
   "metadata": {},
   "source": [
    "Не более 5% пользователей совершали больше двух заказов. И не более 1% пользователей - больше четырех заказов."
   ]
  },
  {
   "cell_type": "markdown",
   "metadata": {},
   "source": [
    "### Точечный график стоимостей заказов. "
   ]
  },
  {
   "cell_type": "code",
   "execution_count": 53,
   "metadata": {
    "scrolled": true
   },
   "outputs": [
    {
     "data": {
      "image/png": "[encoded data removed]",
      "text/plain": [
       "<Figure size 432x288 with 1 Axes>"
      ]
     },
     "metadata": {
      "needs_background": "light"
     },
     "output_type": "display_data"
    }
   ],
   "source": [
    "x_values = pd.Series(range(0, len(df_orders['revenue'])))\n",
    "\n",
    "plt.scatter(x_values, df_orders['revenue']) \n",
    "\n",
    "plt.title('Распределение стоимости заказов')\n",
    "plt.xlabel('Число пользователей, чел')\n",
    "plt.ylabel('Стоимость заказов, руб')\n",
    "plt.axis([0, 1200, 0, 130000])\n",
    "\n",
    "plt.show()"
   ]
  },
  {
   "cell_type": "markdown",
   "metadata": {},
   "source": [
    "Видим, что есть заказы аномально дорогостоящие - около 100 000. В целом к аномальным можно отнести заказы выше 40 000."
   ]
  },
  {
   "cell_type": "markdown",
   "metadata": {},
   "source": [
    "### Посчитайте 95-й и 99-й перцентили стоимости заказов. Выберите границу для определения аномальных заказов."
   ]
  },
  {
   "cell_type": "code",
   "execution_count": 54,
   "metadata": {},
   "outputs": [
    {
     "name": "stdout",
     "output_type": "stream",
     "text": [
      "[28000.  58233.2]\n"
     ]
    }
   ],
   "source": [
    "print(np.percentile(df_orders['revenue'], [95, 99]))"
   ]
  },
  {
   "cell_type": "code",
   "execution_count": 55,
   "metadata": {},
   "outputs": [
    {
     "data": {
      "text/html": [
       "<div>\n",
       "<style scoped>\n",
       "    .dataframe tbody tr th:only-of-type {\n",
       "        vertical-align: middle;\n",
       "    }\n",
       "\n",
       "    .dataframe tbody tr th {\n",
       "        vertical-align: top;\n",
       "    }\n",
       "\n",
       "    .dataframe thead th {\n",
       "        text-align: right;\n",
       "    }\n",
       "</style>\n",
       "<table border=\"1\" class=\"dataframe\">\n",
       "  <thead>\n",
       "    <tr style=\"text-align: right;\">\n",
       "      <th></th>\n",
       "      <th>transactionId</th>\n",
       "      <th>visitorId</th>\n",
       "      <th>date</th>\n",
       "      <th>revenue</th>\n",
       "      <th>group</th>\n",
       "    </tr>\n",
       "  </thead>\n",
       "  <tbody>\n",
       "    <tr>\n",
       "      <th>0</th>\n",
       "      <td>3667963787</td>\n",
       "      <td>3312258926</td>\n",
       "      <td>2019-08-15</td>\n",
       "      <td>1650</td>\n",
       "      <td>B</td>\n",
       "    </tr>\n",
       "    <tr>\n",
       "      <th>1</th>\n",
       "      <td>2804400009</td>\n",
       "      <td>3642806036</td>\n",
       "      <td>2019-08-15</td>\n",
       "      <td>730</td>\n",
       "      <td>B</td>\n",
       "    </tr>\n",
       "    <tr>\n",
       "      <th>2</th>\n",
       "      <td>2961555356</td>\n",
       "      <td>4069496402</td>\n",
       "      <td>2019-08-15</td>\n",
       "      <td>400</td>\n",
       "      <td>A</td>\n",
       "    </tr>\n",
       "    <tr>\n",
       "      <th>3</th>\n",
       "      <td>3797467345</td>\n",
       "      <td>1196621759</td>\n",
       "      <td>2019-08-15</td>\n",
       "      <td>9759</td>\n",
       "      <td>B</td>\n",
       "    </tr>\n",
       "    <tr>\n",
       "      <th>4</th>\n",
       "      <td>2282983706</td>\n",
       "      <td>2322279887</td>\n",
       "      <td>2019-08-15</td>\n",
       "      <td>2308</td>\n",
       "      <td>B</td>\n",
       "    </tr>\n",
       "    <tr>\n",
       "      <th>...</th>\n",
       "      <td>...</td>\n",
       "      <td>...</td>\n",
       "      <td>...</td>\n",
       "      <td>...</td>\n",
       "      <td>...</td>\n",
       "    </tr>\n",
       "    <tr>\n",
       "      <th>1192</th>\n",
       "      <td>2662137336</td>\n",
       "      <td>3733762160</td>\n",
       "      <td>2019-08-14</td>\n",
       "      <td>6490</td>\n",
       "      <td>B</td>\n",
       "    </tr>\n",
       "    <tr>\n",
       "      <th>1193</th>\n",
       "      <td>2203539145</td>\n",
       "      <td>370388673</td>\n",
       "      <td>2019-08-14</td>\n",
       "      <td>3190</td>\n",
       "      <td>A</td>\n",
       "    </tr>\n",
       "    <tr>\n",
       "      <th>1194</th>\n",
       "      <td>1807773912</td>\n",
       "      <td>573423106</td>\n",
       "      <td>2019-08-14</td>\n",
       "      <td>10550</td>\n",
       "      <td>A</td>\n",
       "    </tr>\n",
       "    <tr>\n",
       "      <th>1195</th>\n",
       "      <td>1947021204</td>\n",
       "      <td>1614305549</td>\n",
       "      <td>2019-08-14</td>\n",
       "      <td>100</td>\n",
       "      <td>A</td>\n",
       "    </tr>\n",
       "    <tr>\n",
       "      <th>1196</th>\n",
       "      <td>3936777065</td>\n",
       "      <td>2108080724</td>\n",
       "      <td>2019-08-15</td>\n",
       "      <td>202740</td>\n",
       "      <td>B</td>\n",
       "    </tr>\n",
       "  </tbody>\n",
       "</table>\n",
       "<p>1197 rows × 5 columns</p>\n",
       "</div>"
      ],
      "text/plain": [
       "      transactionId   visitorId       date  revenue group\n",
       "0        3667963787  3312258926 2019-08-15     1650     B\n",
       "1        2804400009  3642806036 2019-08-15      730     B\n",
       "2        2961555356  4069496402 2019-08-15      400     A\n",
       "3        3797467345  1196621759 2019-08-15     9759     B\n",
       "4        2282983706  2322279887 2019-08-15     2308     B\n",
       "...             ...         ...        ...      ...   ...\n",
       "1192     2662137336  3733762160 2019-08-14     6490     B\n",
       "1193     2203539145   370388673 2019-08-14     3190     A\n",
       "1194     1807773912   573423106 2019-08-14    10550     A\n",
       "1195     1947021204  1614305549 2019-08-14      100     A\n",
       "1196     3936777065  2108080724 2019-08-15   202740     B\n",
       "\n",
       "[1197 rows x 5 columns]"
      ]
     },
     "execution_count": 55,
     "metadata": {},
     "output_type": "execute_result"
    }
   ],
   "source": [
    "df_orders"
   ]
  },
  {
   "cell_type": "code",
   "execution_count": 56,
   "metadata": {
    "scrolled": true
   },
   "outputs": [
    {
     "data": {
      "text/plain": [
       "(100.0, 59000.0)"
      ]
     },
     "execution_count": 56,
     "metadata": {},
     "output_type": "execute_result"
    },
    {
     "data": {
      "image/png": "[encoded data removed]",
      "text/plain": [
       "<Figure size 432x288 with 1 Axes>"
      ]
     },
     "metadata": {
      "needs_background": "light"
     },
     "output_type": "display_data"
    }
   ],
   "source": [
    "df_orders.boxplot(column='revenue')\n",
    "plt.ylim(100, 59000)"
   ]
  },
  {
   "cell_type": "code",
   "execution_count": 57,
   "metadata": {},
   "outputs": [
    {
     "data": {
      "image/png": "[encoded data removed]",
      "text/plain": [
       "<Figure size 432x288 with 1 Axes>"
      ]
     },
     "metadata": {
      "needs_background": "light"
     },
     "output_type": "display_data"
    }
   ],
   "source": [
    "x_values = pd.Series(range(0, len(df_orders['revenue'])))\n",
    "\n",
    "plt.scatter(x_values, df_orders['revenue']) \n",
    "\n",
    "plt.title('Распределение стоимости заказов')\n",
    "plt.xlabel('Число пользователей, чел')\n",
    "plt.ylabel('Стоимость заказов, руб')\n",
    "plt.axis([0, 100, 0, 59000])\n",
    "\n",
    "plt.show()"
   ]
  },
  {
   "cell_type": "markdown",
   "metadata": {},
   "source": [
    "Не более, чем у 5% заказов чек дороже 28000. И не больше, чем у 1% заказов чек дороже 58233 т.р."
   ]
  },
  {
   "cell_type": "markdown",
   "metadata": {},
   "source": [
    "### Статистическая значимость различий в конверсии между группами по «сырым» данным.  "
   ]
  },
  {
   "cell_type": "code",
   "execution_count": 58,
   "metadata": {},
   "outputs": [
    {
     "data": {
      "text/html": [
       "<div>\n",
       "<style scoped>\n",
       "    .dataframe tbody tr th:only-of-type {\n",
       "        vertical-align: middle;\n",
       "    }\n",
       "\n",
       "    .dataframe tbody tr th {\n",
       "        vertical-align: top;\n",
       "    }\n",
       "\n",
       "    .dataframe thead th {\n",
       "        text-align: right;\n",
       "    }\n",
       "</style>\n",
       "<table border=\"1\" class=\"dataframe\">\n",
       "  <thead>\n",
       "    <tr style=\"text-align: right;\">\n",
       "      <th></th>\n",
       "      <th>transactionId</th>\n",
       "      <th>visitorId</th>\n",
       "      <th>date</th>\n",
       "      <th>revenue</th>\n",
       "      <th>group</th>\n",
       "    </tr>\n",
       "  </thead>\n",
       "  <tbody>\n",
       "    <tr>\n",
       "      <th>0</th>\n",
       "      <td>3667963787</td>\n",
       "      <td>3312258926</td>\n",
       "      <td>2019-08-15</td>\n",
       "      <td>1650</td>\n",
       "      <td>B</td>\n",
       "    </tr>\n",
       "    <tr>\n",
       "      <th>1</th>\n",
       "      <td>2804400009</td>\n",
       "      <td>3642806036</td>\n",
       "      <td>2019-08-15</td>\n",
       "      <td>730</td>\n",
       "      <td>B</td>\n",
       "    </tr>\n",
       "    <tr>\n",
       "      <th>2</th>\n",
       "      <td>2961555356</td>\n",
       "      <td>4069496402</td>\n",
       "      <td>2019-08-15</td>\n",
       "      <td>400</td>\n",
       "      <td>A</td>\n",
       "    </tr>\n",
       "    <tr>\n",
       "      <th>3</th>\n",
       "      <td>3797467345</td>\n",
       "      <td>1196621759</td>\n",
       "      <td>2019-08-15</td>\n",
       "      <td>9759</td>\n",
       "      <td>B</td>\n",
       "    </tr>\n",
       "    <tr>\n",
       "      <th>4</th>\n",
       "      <td>2282983706</td>\n",
       "      <td>2322279887</td>\n",
       "      <td>2019-08-15</td>\n",
       "      <td>2308</td>\n",
       "      <td>B</td>\n",
       "    </tr>\n",
       "  </tbody>\n",
       "</table>\n",
       "</div>"
      ],
      "text/plain": [
       "   transactionId   visitorId       date  revenue group\n",
       "0     3667963787  3312258926 2019-08-15     1650     B\n",
       "1     2804400009  3642806036 2019-08-15      730     B\n",
       "2     2961555356  4069496402 2019-08-15      400     A\n",
       "3     3797467345  1196621759 2019-08-15     9759     B\n",
       "4     2282983706  2322279887 2019-08-15     2308     B"
      ]
     },
     "execution_count": 58,
     "metadata": {},
     "output_type": "execute_result"
    }
   ],
   "source": [
    "df_orders.head()"
   ]
  },
  {
   "cell_type": "code",
   "execution_count": 59,
   "metadata": {},
   "outputs": [
    {
     "data": {
      "text/html": [
       "<div>\n",
       "<style scoped>\n",
       "    .dataframe tbody tr th:only-of-type {\n",
       "        vertical-align: middle;\n",
       "    }\n",
       "\n",
       "    .dataframe tbody tr th {\n",
       "        vertical-align: top;\n",
       "    }\n",
       "\n",
       "    .dataframe thead th {\n",
       "        text-align: right;\n",
       "    }\n",
       "</style>\n",
       "<table border=\"1\" class=\"dataframe\">\n",
       "  <thead>\n",
       "    <tr style=\"text-align: right;\">\n",
       "      <th></th>\n",
       "      <th>date</th>\n",
       "      <th>visitorsPerDateA</th>\n",
       "    </tr>\n",
       "  </thead>\n",
       "  <tbody>\n",
       "    <tr>\n",
       "      <th>0</th>\n",
       "      <td>2019-08-01</td>\n",
       "      <td>719</td>\n",
       "    </tr>\n",
       "    <tr>\n",
       "      <th>1</th>\n",
       "      <td>2019-08-02</td>\n",
       "      <td>619</td>\n",
       "    </tr>\n",
       "    <tr>\n",
       "      <th>2</th>\n",
       "      <td>2019-08-03</td>\n",
       "      <td>507</td>\n",
       "    </tr>\n",
       "    <tr>\n",
       "      <th>3</th>\n",
       "      <td>2019-08-04</td>\n",
       "      <td>717</td>\n",
       "    </tr>\n",
       "    <tr>\n",
       "      <th>4</th>\n",
       "      <td>2019-08-05</td>\n",
       "      <td>756</td>\n",
       "    </tr>\n",
       "  </tbody>\n",
       "</table>\n",
       "</div>"
      ],
      "text/plain": [
       "        date  visitorsPerDateA\n",
       "0 2019-08-01               719\n",
       "1 2019-08-02               619\n",
       "2 2019-08-03               507\n",
       "3 2019-08-04               717\n",
       "4 2019-08-05               756"
      ]
     },
     "execution_count": 59,
     "metadata": {},
     "output_type": "execute_result"
    }
   ],
   "source": [
    "# по дням данные о посетителях группы А\n",
    "visitorsADaily = df_visitors[df_visitors['group'] == 'A'][['date', 'visitors']]\n",
    "visitorsADaily.columns = ['date', 'visitorsPerDateA']\n",
    "visitorsADaily.head()"
   ]
  },
  {
   "cell_type": "code",
   "execution_count": 60,
   "metadata": {},
   "outputs": [
    {
     "data": {
      "text/html": [
       "<div>\n",
       "<style scoped>\n",
       "    .dataframe tbody tr th:only-of-type {\n",
       "        vertical-align: middle;\n",
       "    }\n",
       "\n",
       "    .dataframe tbody tr th {\n",
       "        vertical-align: top;\n",
       "    }\n",
       "\n",
       "    .dataframe thead th {\n",
       "        text-align: right;\n",
       "    }\n",
       "</style>\n",
       "<table border=\"1\" class=\"dataframe\">\n",
       "  <thead>\n",
       "    <tr style=\"text-align: right;\">\n",
       "      <th></th>\n",
       "      <th>date</th>\n",
       "      <th>visitorsCummulativeA</th>\n",
       "    </tr>\n",
       "  </thead>\n",
       "  <tbody>\n",
       "    <tr>\n",
       "      <th>0</th>\n",
       "      <td>2019-08-01</td>\n",
       "      <td>719</td>\n",
       "    </tr>\n",
       "    <tr>\n",
       "      <th>1</th>\n",
       "      <td>2019-08-02</td>\n",
       "      <td>1338</td>\n",
       "    </tr>\n",
       "    <tr>\n",
       "      <th>2</th>\n",
       "      <td>2019-08-03</td>\n",
       "      <td>1845</td>\n",
       "    </tr>\n",
       "    <tr>\n",
       "      <th>3</th>\n",
       "      <td>2019-08-04</td>\n",
       "      <td>2562</td>\n",
       "    </tr>\n",
       "    <tr>\n",
       "      <th>4</th>\n",
       "      <td>2019-08-05</td>\n",
       "      <td>3318</td>\n",
       "    </tr>\n",
       "  </tbody>\n",
       "</table>\n",
       "</div>"
      ],
      "text/plain": [
       "        date  visitorsCummulativeA\n",
       "0 2019-08-01                   719\n",
       "1 2019-08-02                  1338\n",
       "2 2019-08-03                  1845\n",
       "3 2019-08-04                  2562\n",
       "4 2019-08-05                  3318"
      ]
     },
     "execution_count": 60,
     "metadata": {},
     "output_type": "execute_result"
    }
   ],
   "source": [
    "# кумулятивные данные о посетителях группы А\n",
    "visitorsACummulative = visitorsADaily.apply(\n",
    "    lambda x: visitorsADaily[visitorsADaily['date'] <= x['date']].agg(\n",
    "        {'date': 'max', 'visitorsPerDateA': 'sum'}\n",
    "    ),\n",
    "    axis=1,\n",
    ")\n",
    "visitorsACummulative.columns = ['date', 'visitorsCummulativeA']\n",
    "visitorsACummulative.head()"
   ]
  },
  {
   "cell_type": "code",
   "execution_count": 61,
   "metadata": {},
   "outputs": [],
   "source": [
    "#  по дням данные о посетителях группы В\n",
    "visitorsBDaily = df_visitors[df_visitors['group'] == 'B'][['date', 'visitors']]\n",
    "visitorsBDaily.columns = ['date', 'visitorsPerDateB']"
   ]
  },
  {
   "cell_type": "code",
   "execution_count": 62,
   "metadata": {},
   "outputs": [
    {
     "data": {
      "text/html": [
       "<div>\n",
       "<style scoped>\n",
       "    .dataframe tbody tr th:only-of-type {\n",
       "        vertical-align: middle;\n",
       "    }\n",
       "\n",
       "    .dataframe tbody tr th {\n",
       "        vertical-align: top;\n",
       "    }\n",
       "\n",
       "    .dataframe thead th {\n",
       "        text-align: right;\n",
       "    }\n",
       "</style>\n",
       "<table border=\"1\" class=\"dataframe\">\n",
       "  <thead>\n",
       "    <tr style=\"text-align: right;\">\n",
       "      <th></th>\n",
       "      <th>date</th>\n",
       "      <th>visitorsCummulativeB</th>\n",
       "    </tr>\n",
       "  </thead>\n",
       "  <tbody>\n",
       "    <tr>\n",
       "      <th>31</th>\n",
       "      <td>2019-08-01</td>\n",
       "      <td>713</td>\n",
       "    </tr>\n",
       "    <tr>\n",
       "      <th>32</th>\n",
       "      <td>2019-08-02</td>\n",
       "      <td>1294</td>\n",
       "    </tr>\n",
       "    <tr>\n",
       "      <th>33</th>\n",
       "      <td>2019-08-03</td>\n",
       "      <td>1803</td>\n",
       "    </tr>\n",
       "    <tr>\n",
       "      <th>34</th>\n",
       "      <td>2019-08-04</td>\n",
       "      <td>2573</td>\n",
       "    </tr>\n",
       "    <tr>\n",
       "      <th>35</th>\n",
       "      <td>2019-08-05</td>\n",
       "      <td>3280</td>\n",
       "    </tr>\n",
       "  </tbody>\n",
       "</table>\n",
       "</div>"
      ],
      "text/plain": [
       "         date  visitorsCummulativeB\n",
       "31 2019-08-01                   713\n",
       "32 2019-08-02                  1294\n",
       "33 2019-08-03                  1803\n",
       "34 2019-08-04                  2573\n",
       "35 2019-08-05                  3280"
      ]
     },
     "execution_count": 62,
     "metadata": {},
     "output_type": "execute_result"
    }
   ],
   "source": [
    "# кумулятивные данные о посетителях группы В\n",
    "visitorsBCummulative = visitorsBDaily.apply(\n",
    "    lambda x: visitorsBDaily[visitorsBDaily['date'] <= x['date']].agg(\n",
    "        {'date': 'max', 'visitorsPerDateB': 'sum'}\n",
    "    ),\n",
    "    axis=1,\n",
    ")\n",
    "visitorsBCummulative.columns = ['date', 'visitorsCummulativeB']\n",
    "visitorsBCummulative.head()"
   ]
  },
  {
   "cell_type": "code",
   "execution_count": 63,
   "metadata": {},
   "outputs": [
    {
     "data": {
      "text/html": [
       "<div>\n",
       "<style scoped>\n",
       "    .dataframe tbody tr th:only-of-type {\n",
       "        vertical-align: middle;\n",
       "    }\n",
       "\n",
       "    .dataframe tbody tr th {\n",
       "        vertical-align: top;\n",
       "    }\n",
       "\n",
       "    .dataframe thead th {\n",
       "        text-align: right;\n",
       "    }\n",
       "</style>\n",
       "<table border=\"1\" class=\"dataframe\">\n",
       "  <thead>\n",
       "    <tr style=\"text-align: right;\">\n",
       "      <th></th>\n",
       "      <th>date</th>\n",
       "      <th>ordersPerDateA</th>\n",
       "      <th>revenuePerDateA</th>\n",
       "    </tr>\n",
       "  </thead>\n",
       "  <tbody>\n",
       "    <tr>\n",
       "      <th>0</th>\n",
       "      <td>2019-08-01</td>\n",
       "      <td>24</td>\n",
       "      <td>148579</td>\n",
       "    </tr>\n",
       "    <tr>\n",
       "      <th>1</th>\n",
       "      <td>2019-08-02</td>\n",
       "      <td>20</td>\n",
       "      <td>93822</td>\n",
       "    </tr>\n",
       "    <tr>\n",
       "      <th>2</th>\n",
       "      <td>2019-08-03</td>\n",
       "      <td>24</td>\n",
       "      <td>112473</td>\n",
       "    </tr>\n",
       "    <tr>\n",
       "      <th>3</th>\n",
       "      <td>2019-08-04</td>\n",
       "      <td>16</td>\n",
       "      <td>70825</td>\n",
       "    </tr>\n",
       "    <tr>\n",
       "      <th>4</th>\n",
       "      <td>2019-08-05</td>\n",
       "      <td>25</td>\n",
       "      <td>124218</td>\n",
       "    </tr>\n",
       "  </tbody>\n",
       "</table>\n",
       "</div>"
      ],
      "text/plain": [
       "        date  ordersPerDateA  revenuePerDateA\n",
       "0 2019-08-01              24           148579\n",
       "1 2019-08-02              20            93822\n",
       "2 2019-08-03              24           112473\n",
       "3 2019-08-04              16            70825\n",
       "4 2019-08-05              25           124218"
      ]
     },
     "execution_count": 63,
     "metadata": {},
     "output_type": "execute_result"
    }
   ],
   "source": [
    "# агрегированные данные по дням о заказах и выручке группы А \n",
    "ordersADaily = (\n",
    "    df_orders[df_orders['group'] == 'A'][['date', 'transactionId', 'visitorId', 'revenue']]\n",
    "    .groupby('date', as_index=False)\n",
    "    .agg({'transactionId': pd.Series.nunique, 'revenue': 'sum'})\n",
    ")\n",
    "ordersADaily.columns = ['date', 'ordersPerDateA', 'revenuePerDateA']\n",
    "ordersADaily.head()\n",
    "\n",
    "#transactionId — идентификатор заказа;\n",
    "#visitorId — идентификатор пользователя, совершившего заказ;"
   ]
  },
  {
   "cell_type": "code",
   "execution_count": 64,
   "metadata": {},
   "outputs": [
    {
     "data": {
      "text/html": [
       "<div>\n",
       "<style scoped>\n",
       "    .dataframe tbody tr th:only-of-type {\n",
       "        vertical-align: middle;\n",
       "    }\n",
       "\n",
       "    .dataframe tbody tr th {\n",
       "        vertical-align: top;\n",
       "    }\n",
       "\n",
       "    .dataframe thead th {\n",
       "        text-align: right;\n",
       "    }\n",
       "</style>\n",
       "<table border=\"1\" class=\"dataframe\">\n",
       "  <thead>\n",
       "    <tr style=\"text-align: right;\">\n",
       "      <th></th>\n",
       "      <th>date</th>\n",
       "      <th>ordersCummulativeA</th>\n",
       "      <th>revenueCummulativeA</th>\n",
       "    </tr>\n",
       "  </thead>\n",
       "  <tbody>\n",
       "    <tr>\n",
       "      <th>0</th>\n",
       "      <td>2019-08-01</td>\n",
       "      <td>24</td>\n",
       "      <td>148579</td>\n",
       "    </tr>\n",
       "    <tr>\n",
       "      <th>1</th>\n",
       "      <td>2019-08-02</td>\n",
       "      <td>44</td>\n",
       "      <td>242401</td>\n",
       "    </tr>\n",
       "    <tr>\n",
       "      <th>2</th>\n",
       "      <td>2019-08-03</td>\n",
       "      <td>68</td>\n",
       "      <td>354874</td>\n",
       "    </tr>\n",
       "    <tr>\n",
       "      <th>3</th>\n",
       "      <td>2019-08-04</td>\n",
       "      <td>84</td>\n",
       "      <td>425699</td>\n",
       "    </tr>\n",
       "    <tr>\n",
       "      <th>4</th>\n",
       "      <td>2019-08-05</td>\n",
       "      <td>109</td>\n",
       "      <td>549917</td>\n",
       "    </tr>\n",
       "  </tbody>\n",
       "</table>\n",
       "</div>"
      ],
      "text/plain": [
       "        date  ordersCummulativeA  revenueCummulativeA\n",
       "0 2019-08-01                  24               148579\n",
       "1 2019-08-02                  44               242401\n",
       "2 2019-08-03                  68               354874\n",
       "3 2019-08-04                  84               425699\n",
       "4 2019-08-05                 109               549917"
      ]
     },
     "execution_count": 64,
     "metadata": {},
     "output_type": "execute_result"
    }
   ],
   "source": [
    "# кумулятивные данные по дням о заказах и выручке группы А \n",
    "ordersACummulative = ordersADaily.apply(\n",
    "    lambda x: ordersADaily[ordersADaily['date'] <= x['date']].agg(\n",
    "        {'date': 'max', 'ordersPerDateA': 'sum', 'revenuePerDateA': 'sum'}\n",
    "    ),\n",
    "    axis=1,\n",
    ").sort_values(by=['date'])\n",
    "\n",
    "ordersACummulative.columns = [\n",
    "    'date',\n",
    "    'ordersCummulativeA',\n",
    "    'revenueCummulativeA',\n",
    "]\n",
    "\n",
    "ordersACummulative.head()"
   ]
  },
  {
   "cell_type": "code",
   "execution_count": 65,
   "metadata": {},
   "outputs": [
    {
     "data": {
      "text/html": [
       "<div>\n",
       "<style scoped>\n",
       "    .dataframe tbody tr th:only-of-type {\n",
       "        vertical-align: middle;\n",
       "    }\n",
       "\n",
       "    .dataframe tbody tr th {\n",
       "        vertical-align: top;\n",
       "    }\n",
       "\n",
       "    .dataframe thead th {\n",
       "        text-align: right;\n",
       "    }\n",
       "</style>\n",
       "<table border=\"1\" class=\"dataframe\">\n",
       "  <thead>\n",
       "    <tr style=\"text-align: right;\">\n",
       "      <th></th>\n",
       "      <th>date</th>\n",
       "      <th>ordersPerDateB</th>\n",
       "      <th>revenuePerDateB</th>\n",
       "    </tr>\n",
       "  </thead>\n",
       "  <tbody>\n",
       "    <tr>\n",
       "      <th>0</th>\n",
       "      <td>2019-08-01</td>\n",
       "      <td>21</td>\n",
       "      <td>101217</td>\n",
       "    </tr>\n",
       "    <tr>\n",
       "      <th>1</th>\n",
       "      <td>2019-08-02</td>\n",
       "      <td>24</td>\n",
       "      <td>165531</td>\n",
       "    </tr>\n",
       "    <tr>\n",
       "      <th>2</th>\n",
       "      <td>2019-08-03</td>\n",
       "      <td>16</td>\n",
       "      <td>114248</td>\n",
       "    </tr>\n",
       "    <tr>\n",
       "      <th>3</th>\n",
       "      <td>2019-08-04</td>\n",
       "      <td>17</td>\n",
       "      <td>108571</td>\n",
       "    </tr>\n",
       "    <tr>\n",
       "      <th>4</th>\n",
       "      <td>2019-08-05</td>\n",
       "      <td>23</td>\n",
       "      <td>92428</td>\n",
       "    </tr>\n",
       "  </tbody>\n",
       "</table>\n",
       "</div>"
      ],
      "text/plain": [
       "        date  ordersPerDateB  revenuePerDateB\n",
       "0 2019-08-01              21           101217\n",
       "1 2019-08-02              24           165531\n",
       "2 2019-08-03              16           114248\n",
       "3 2019-08-04              17           108571\n",
       "4 2019-08-05              23            92428"
      ]
     },
     "execution_count": 65,
     "metadata": {},
     "output_type": "execute_result"
    }
   ],
   "source": [
    "# агрегированные данные по дням о заказах и выручке группы В\n",
    "ordersBDaily = (\n",
    "    df_orders[df_orders['group'] == 'B'][['date', 'transactionId', 'visitorId', 'revenue']]\n",
    "    .groupby('date', as_index=False)\n",
    "    .agg({'transactionId': pd.Series.nunique, 'revenue': 'sum'})\n",
    ")\n",
    "ordersBDaily.columns = ['date', 'ordersPerDateB', 'revenuePerDateB']\n",
    "ordersBDaily.head()"
   ]
  },
  {
   "cell_type": "code",
   "execution_count": 66,
   "metadata": {},
   "outputs": [
    {
     "data": {
      "text/html": [
       "<div>\n",
       "<style scoped>\n",
       "    .dataframe tbody tr th:only-of-type {\n",
       "        vertical-align: middle;\n",
       "    }\n",
       "\n",
       "    .dataframe tbody tr th {\n",
       "        vertical-align: top;\n",
       "    }\n",
       "\n",
       "    .dataframe thead th {\n",
       "        text-align: right;\n",
       "    }\n",
       "</style>\n",
       "<table border=\"1\" class=\"dataframe\">\n",
       "  <thead>\n",
       "    <tr style=\"text-align: right;\">\n",
       "      <th></th>\n",
       "      <th>date</th>\n",
       "      <th>ordersCummulativeB</th>\n",
       "      <th>revenueCummulativeB</th>\n",
       "    </tr>\n",
       "  </thead>\n",
       "  <tbody>\n",
       "    <tr>\n",
       "      <th>0</th>\n",
       "      <td>2019-08-01</td>\n",
       "      <td>21</td>\n",
       "      <td>101217</td>\n",
       "    </tr>\n",
       "    <tr>\n",
       "      <th>1</th>\n",
       "      <td>2019-08-02</td>\n",
       "      <td>45</td>\n",
       "      <td>266748</td>\n",
       "    </tr>\n",
       "    <tr>\n",
       "      <th>2</th>\n",
       "      <td>2019-08-03</td>\n",
       "      <td>61</td>\n",
       "      <td>380996</td>\n",
       "    </tr>\n",
       "    <tr>\n",
       "      <th>3</th>\n",
       "      <td>2019-08-04</td>\n",
       "      <td>78</td>\n",
       "      <td>489567</td>\n",
       "    </tr>\n",
       "    <tr>\n",
       "      <th>4</th>\n",
       "      <td>2019-08-05</td>\n",
       "      <td>101</td>\n",
       "      <td>581995</td>\n",
       "    </tr>\n",
       "  </tbody>\n",
       "</table>\n",
       "</div>"
      ],
      "text/plain": [
       "        date  ordersCummulativeB  revenueCummulativeB\n",
       "0 2019-08-01                  21               101217\n",
       "1 2019-08-02                  45               266748\n",
       "2 2019-08-03                  61               380996\n",
       "3 2019-08-04                  78               489567\n",
       "4 2019-08-05                 101               581995"
      ]
     },
     "execution_count": 66,
     "metadata": {},
     "output_type": "execute_result"
    }
   ],
   "source": [
    "# кумулятивные данные по дням о заказах и выручке группы В\n",
    "ordersBCummulative = ordersBDaily.apply(\n",
    "    lambda x: ordersBDaily[ordersBDaily['date'] <= x['date']].agg(\n",
    "        {'date': 'max', 'ordersPerDateB': 'sum', 'revenuePerDateB': 'sum'}\n",
    "    ),\n",
    "    axis=1,\n",
    ").sort_values(by=['date'])\n",
    "\n",
    "ordersBCummulative.columns = [\n",
    "    'date',\n",
    "    'ordersCummulativeB',\n",
    "    'revenueCummulativeB',\n",
    "]\n",
    "ordersBCummulative.head()"
   ]
  },
  {
   "cell_type": "code",
   "execution_count": 67,
   "metadata": {},
   "outputs": [],
   "source": [
    "\n",
    "data = (\n",
    "    ordersADaily.merge(\n",
    "        ordersBDaily, left_on='date', right_on='date', how='left'\n",
    "    )\n",
    "    .merge(ordersACummulative, left_on='date', right_on='date', how='left')\n",
    "    .merge(ordersBCummulative, left_on='date', right_on='date', how='left')\n",
    "    .merge(visitorsADaily, left_on='date', right_on='date', how='left')\n",
    "    .merge(visitorsBDaily, left_on='date', right_on='date', how='left')\n",
    "    .merge(visitorsACummulative, left_on='date', right_on='date', how='left')\n",
    "    .merge(visitorsBCummulative, left_on='date', right_on='date', how='left')\n",
    ")\n"
   ]
  },
  {
   "cell_type": "code",
   "execution_count": 68,
   "metadata": {},
   "outputs": [
    {
     "data": {
      "text/html": [
       "<div>\n",
       "<style scoped>\n",
       "    .dataframe tbody tr th:only-of-type {\n",
       "        vertical-align: middle;\n",
       "    }\n",
       "\n",
       "    .dataframe tbody tr th {\n",
       "        vertical-align: top;\n",
       "    }\n",
       "\n",
       "    .dataframe thead th {\n",
       "        text-align: right;\n",
       "    }\n",
       "</style>\n",
       "<table border=\"1\" class=\"dataframe\">\n",
       "  <thead>\n",
       "    <tr style=\"text-align: right;\">\n",
       "      <th></th>\n",
       "      <th>visitorId</th>\n",
       "      <th>orders</th>\n",
       "    </tr>\n",
       "  </thead>\n",
       "  <tbody>\n",
       "    <tr>\n",
       "      <th>0</th>\n",
       "      <td>8300375</td>\n",
       "      <td>1</td>\n",
       "    </tr>\n",
       "    <tr>\n",
       "      <th>1</th>\n",
       "      <td>11685486</td>\n",
       "      <td>1</td>\n",
       "    </tr>\n",
       "    <tr>\n",
       "      <th>2</th>\n",
       "      <td>54447517</td>\n",
       "      <td>1</td>\n",
       "    </tr>\n",
       "    <tr>\n",
       "      <th>3</th>\n",
       "      <td>66685450</td>\n",
       "      <td>1</td>\n",
       "    </tr>\n",
       "    <tr>\n",
       "      <th>4</th>\n",
       "      <td>78758296</td>\n",
       "      <td>1</td>\n",
       "    </tr>\n",
       "  </tbody>\n",
       "</table>\n",
       "</div>"
      ],
      "text/plain": [
       "   visitorId  orders\n",
       "0    8300375       1\n",
       "1   11685486       1\n",
       "2   54447517       1\n",
       "3   66685450       1\n",
       "4   78758296       1"
      ]
     },
     "execution_count": 68,
     "metadata": {},
     "output_type": "execute_result"
    }
   ],
   "source": [
    "# данные по одному заказу в группе А\n",
    "ordersByUsersA = (\n",
    "    df_orders[df_orders['group'] == 'A']\n",
    "    .groupby('visitorId', as_index=False)\n",
    "    .agg({'transactionId': pd.Series.nunique})\n",
    ")\n",
    "ordersByUsersA.columns = ['visitorId', 'orders']\n",
    "ordersByUsersA.head()"
   ]
  },
  {
   "cell_type": "code",
   "execution_count": 69,
   "metadata": {},
   "outputs": [
    {
     "data": {
      "text/html": [
       "<div>\n",
       "<style scoped>\n",
       "    .dataframe tbody tr th:only-of-type {\n",
       "        vertical-align: middle;\n",
       "    }\n",
       "\n",
       "    .dataframe tbody tr th {\n",
       "        vertical-align: top;\n",
       "    }\n",
       "\n",
       "    .dataframe thead th {\n",
       "        text-align: right;\n",
       "    }\n",
       "</style>\n",
       "<table border=\"1\" class=\"dataframe\">\n",
       "  <thead>\n",
       "    <tr style=\"text-align: right;\">\n",
       "      <th></th>\n",
       "      <th>visitorId</th>\n",
       "      <th>orders</th>\n",
       "    </tr>\n",
       "  </thead>\n",
       "  <tbody>\n",
       "    <tr>\n",
       "      <th>0</th>\n",
       "      <td>5114589</td>\n",
       "      <td>1</td>\n",
       "    </tr>\n",
       "    <tr>\n",
       "      <th>1</th>\n",
       "      <td>6958315</td>\n",
       "      <td>1</td>\n",
       "    </tr>\n",
       "    <tr>\n",
       "      <th>2</th>\n",
       "      <td>8300375</td>\n",
       "      <td>1</td>\n",
       "    </tr>\n",
       "    <tr>\n",
       "      <th>3</th>\n",
       "      <td>39475350</td>\n",
       "      <td>1</td>\n",
       "    </tr>\n",
       "    <tr>\n",
       "      <th>4</th>\n",
       "      <td>47206413</td>\n",
       "      <td>1</td>\n",
       "    </tr>\n",
       "  </tbody>\n",
       "</table>\n",
       "</div>"
      ],
      "text/plain": [
       "   visitorId  orders\n",
       "0    5114589       1\n",
       "1    6958315       1\n",
       "2    8300375       1\n",
       "3   39475350       1\n",
       "4   47206413       1"
      ]
     },
     "execution_count": 69,
     "metadata": {},
     "output_type": "execute_result"
    }
   ],
   "source": [
    "# данные по одному заказу в группе В\n",
    "ordersByUsersB = (\n",
    "    df_orders[df_orders['group'] == 'B']\n",
    "    .groupby('visitorId', as_index=False)\n",
    "    .agg({'transactionId': pd.Series.nunique})\n",
    ")\n",
    "ordersByUsersB.columns = ['visitorId', 'orders']\n",
    "ordersByUsersB.head()"
   ]
  },
  {
   "cell_type": "code",
   "execution_count": 70,
   "metadata": {},
   "outputs": [
    {
     "data": {
      "text/plain": [
       "18736"
      ]
     },
     "execution_count": 70,
     "metadata": {},
     "output_type": "execute_result"
    }
   ],
   "source": [
    "#sampleA выборка, где каждый элемент — число заказов определённого пользователя, в том числе ноль. \n",
    "\n",
    "sampleA = pd.concat(\n",
    "    [\n",
    "        ordersByUsersA['orders'],\n",
    "        pd.Series(\n",
    "            0,\n",
    "            index=np.arange(\n",
    "                data['visitorsPerDateA'].sum() - len(ordersByUsersA['orders'])\n",
    "            ),\n",
    "            name='orders',\n",
    "        ),\n",
    "    ],\n",
    "    axis=0,\n",
    ")\n",
    "sampleA.count()"
   ]
  },
  {
   "cell_type": "code",
   "execution_count": 71,
   "metadata": {},
   "outputs": [
    {
     "data": {
      "text/plain": [
       "18916"
      ]
     },
     "execution_count": 71,
     "metadata": {},
     "output_type": "execute_result"
    }
   ],
   "source": [
    "sampleB = pd.concat(\n",
    "    [\n",
    "        ordersByUsersB['orders'],\n",
    "        pd.Series(\n",
    "            0,\n",
    "            index=np.arange(\n",
    "                data['visitorsPerDateB'].sum() - len(ordersByUsersB['orders'])\n",
    "            ),\n",
    "            name='orders',\n",
    "        ),\n",
    "    ],\n",
    "    axis=0,\n",
    ")\n",
    "sampleB.count()"
   ]
  },
  {
   "cell_type": "markdown",
   "metadata": {},
   "source": [
    "Гипотезы:\n",
    "\n",
    "Н0 - Статистически значимых различий в конверсии между группами по сырым данным нет.\n",
    "\n",
    "Н1 - Статистически значимых различий в конверсии между группами по сырым данным есть."
   ]
  },
  {
   "cell_type": "code",
   "execution_count": 72,
   "metadata": {},
   "outputs": [
    {
     "name": "stdout",
     "output_type": "stream",
     "text": [
      "P-value по конверсии до очистки данных: 0.017\n"
     ]
    }
   ],
   "source": [
    "p_val_conversion = (stats.mannwhitneyu(sampleA, sampleB,alternative = 'two-sided')[1]).round(5)\n",
    "\n",
    "print(\"P-value по конверсии до очистки данных: {0:.3f}\".format(p_val_conversion))\n"
   ]
  },
  {
   "cell_type": "code",
   "execution_count": 73,
   "metadata": {},
   "outputs": [
    {
     "name": "stdout",
     "output_type": "stream",
     "text": [
      "Относительный прирост конверсии группы B: 0.138\n"
     ]
    }
   ],
   "source": [
    "relative_increase_conversion = sampleB.mean() / sampleA.mean() - 1\n",
    "print(\"Относительный прирост конверсии группы B: {0:.3f}\".format(relative_increase_conversion))"
   ]
  },
  {
   "cell_type": "code",
   "execution_count": 74,
   "metadata": {},
   "outputs": [
    {
     "name": "stdout",
     "output_type": "stream",
     "text": [
      "Отвергаем нулевую гипотезу\n"
     ]
    }
   ],
   "source": [
    "alpha = .05\n",
    "\n",
    "if (p_val_conversion < alpha):\n",
    "    print(\"Отвергаем нулевую гипотезу\")\n",
    "else:\n",
    "    print(\"Не получилось отвергнуть нулевую гипотезу\")"
   ]
  },
  {
   "cell_type": "markdown",
   "metadata": {},
   "source": [
    "P-value значительно меньше 0.05 (критического значение для теста, т.е. максимально допускается, что не более чем 5%-ая вероятность ошибки) поэтому нулевую гипотезу отвергаем. Анализ \"сырых\" данных показывает, что в конверсии между группами есть статистически значимые различия. Относительный прирост конверсии группы B составляет около 13%"
   ]
  },
  {
   "cell_type": "markdown",
   "metadata": {},
   "source": [
    "### Статистическая значимость различий в среднем чеке заказа между группами по «сырым» данным.  "
   ]
  },
  {
   "cell_type": "markdown",
   "metadata": {},
   "source": [
    "Гипотезы: \n",
    "\n",
    "Н0 - Статистически значимых различий в в среднем чеке заказа между группами по сырым данным нет.\n",
    "\n",
    "Н1 - Статистически значимых различий в в среднем чеке заказа между группами по сырым данным есть."
   ]
  },
  {
   "cell_type": "code",
   "execution_count": 75,
   "metadata": {},
   "outputs": [],
   "source": [
    "revenue_A = df_orders[df_orders['group']=='A']['revenue']"
   ]
  },
  {
   "cell_type": "code",
   "execution_count": 76,
   "metadata": {},
   "outputs": [],
   "source": [
    "\n",
    "revenue_B = df_orders[df_orders['group']=='B']['revenue']"
   ]
  },
  {
   "cell_type": "code",
   "execution_count": 77,
   "metadata": {},
   "outputs": [
    {
     "name": "stdout",
     "output_type": "stream",
     "text": [
      "P-value по среднему чеку до очистки данных: 0.729\n"
     ]
    }
   ],
   "source": [
    "p_val_avg_check = (stats.mannwhitneyu(revenue_A, revenue_B,alternative = 'two-sided')[1]).round(3)\n",
    "\n",
    "print('P-value по среднему чеку до очистки данных: {}'.format(p_val_avg_check))"
   ]
  },
  {
   "cell_type": "code",
   "execution_count": 78,
   "metadata": {},
   "outputs": [
    {
     "name": "stdout",
     "output_type": "stream",
     "text": [
      "Относительный прирост среднего чека группы B к среднему чеку группы А до очистки данных: 0.26\n"
     ]
    }
   ],
   "source": [
    "\n",
    "relative_increase_avg_check = revenue_B.mean() / revenue_A.mean() - 1\n",
    "\n",
    "print('Относительный прирост среднего чека группы B к среднему чеку группы А до очистки данных: {:.2f}'.format(relative_increase_avg_check))"
   ]
  },
  {
   "cell_type": "code",
   "execution_count": 79,
   "metadata": {},
   "outputs": [
    {
     "name": "stdout",
     "output_type": "stream",
     "text": [
      "Не получилось отвергнуть нулевую гипотезу\n"
     ]
    }
   ],
   "source": [
    "alpha = .05\n",
    "\n",
    "if (p_val_avg_check < alpha):\n",
    "    print(\"Отвергаем нулевую гипотезу\")\n",
    "else:\n",
    "    print(\"Не получилось отвергнуть нулевую гипотезу\")"
   ]
  },
  {
   "cell_type": "markdown",
   "metadata": {},
   "source": [
    "P-value больше 0.05 - статистически значимых различий в среднем чеке заказа между группами по «сырым» данным нет. "
   ]
  },
  {
   "cell_type": "markdown",
   "metadata": {},
   "source": [
    "### Статистическая значимость различий в конверсии между группами по «очищенным» данным.  "
   ]
  },
  {
   "cell_type": "markdown",
   "metadata": {},
   "source": [
    "Было определено, что 95-й и 99-й перцентили средних чеков равны 28000 и 58233.2 рублям.\n",
    "95-й и 99-й перцентили числа заказов на одного пользователя равны 2 и 4 заказам на пользователя.\n",
    "Из этого обозначим, что аномалиями будут те пользователи, которые совершили 4 заказа и более, или совершил заказ на сумму свыше 30 000 рублей."
   ]
  },
  {
   "cell_type": "code",
   "execution_count": 81,
   "metadata": {},
   "outputs": [],
   "source": [
    "#переменная со значением перцентиля\n",
    "df_orders_orders_percentile = int(np.percentile(ordersByUsers['orders'], [98]))"
   ]
  },
  {
   "cell_type": "code",
   "execution_count": 82,
   "metadata": {},
   "outputs": [],
   "source": [
    "usersWithManyOrders = pd.concat(\n",
    "    [\n",
    "        ordersByUsersA[ordersByUsersA['orders'] > df_orders_orders_percentile]['visitorId'],\n",
    "        ordersByUsersB[ordersByUsersB['orders'] > df_orders_orders_percentile]['visitorId'],\n",
    "    ],\n",
    "    axis=0,\n",
    ")"
   ]
  },
  {
   "cell_type": "code",
   "execution_count": 83,
   "metadata": {
    "scrolled": true
   },
   "outputs": [
    {
     "name": "stdout",
     "output_type": "stream",
     "text": [
      "[28000.]\n"
     ]
    }
   ],
   "source": [
    "print(np.percentile(df_orders['revenue'], [95]))"
   ]
  },
  {
   "cell_type": "code",
   "execution_count": 84,
   "metadata": {},
   "outputs": [],
   "source": [
    "#переменная со значением перцентиля\n",
    "df_orders_revenue_percentile = int(np.percentile(df_orders['revenue'], [95]))"
   ]
  },
  {
   "cell_type": "code",
   "execution_count": 85,
   "metadata": {},
   "outputs": [],
   "source": [
    "usersWithExpensiveOrders = df_orders[df_orders['revenue'] > df_orders_revenue_percentile]['visitorId']\n",
    "\n",
    "#transactionId — идентификатор заказа;\n",
    "#visitorId — идентификатор пользователя, совершившего заказ;"
   ]
  },
  {
   "cell_type": "code",
   "execution_count": 86,
   "metadata": {},
   "outputs": [
    {
     "data": {
      "text/plain": [
       "1099    148427295\n",
       "18      199603092\n",
       "928     204675465\n",
       "23      237748145\n",
       "684     358944393\n",
       "Name: visitorId, dtype: int64"
      ]
     },
     "execution_count": 86,
     "metadata": {},
     "output_type": "execute_result"
    }
   ],
   "source": [
    "abnormalUsers = (\n",
    "    pd.concat([usersWithManyOrders, usersWithExpensiveOrders], axis=0)\n",
    "    .drop_duplicates()\n",
    "    .sort_values()\n",
    ")\n",
    "abnormalUsers.head()"
   ]
  },
  {
   "cell_type": "markdown",
   "metadata": {},
   "source": [
    "Гипотезы\n",
    "\n",
    "Н0 - Статистически значимых различий в конверси между группами с «очищенными» данным нет.\n",
    "\n",
    "Н1 - Статистически значимых различий в конверси между группами с «очищенными» данным есть."
   ]
  },
  {
   "cell_type": "code",
   "execution_count": 87,
   "metadata": {},
   "outputs": [],
   "source": [
    "sampleAFiltered = pd.concat(\n",
    "    [\n",
    "        ordersByUsersA[\n",
    "            np.logical_not(ordersByUsersA['visitorId'].isin(abnormalUsers))\n",
    "        ]['orders'],\n",
    "        pd.Series(\n",
    "            0,\n",
    "            index=np.arange(\n",
    "                data['visitorsPerDateA'].sum() - len(ordersByUsersA['orders'])\n",
    "            ),\n",
    "            name='orders',\n",
    "        ),\n",
    "    ],\n",
    "    axis=0,\n",
    ")"
   ]
  },
  {
   "cell_type": "code",
   "execution_count": 88,
   "metadata": {},
   "outputs": [],
   "source": [
    "sampleBFiltered = pd.concat(\n",
    "    [\n",
    "        ordersByUsersB[\n",
    "            np.logical_not(ordersByUsersB['visitorId'].isin(abnormalUsers))\n",
    "        ]['orders'],\n",
    "        pd.Series(\n",
    "            0,\n",
    "            index=np.arange(\n",
    "                data['visitorsPerDateB'].sum() - len(ordersByUsersB['orders'])\n",
    "            ),\n",
    "            name='orders',\n",
    "        ),\n",
    "    ],\n",
    "    axis=0,\n",
    ")"
   ]
  },
  {
   "cell_type": "code",
   "execution_count": 89,
   "metadata": {},
   "outputs": [
    {
     "name": "stdout",
     "output_type": "stream",
     "text": [
      "P-value по конверсии после очистки данных: 0.01794\n"
     ]
    }
   ],
   "source": [
    "p_val_conversion_clean = (stats.mannwhitneyu(sampleAFiltered, sampleBFiltered, alternative = 'two-sided')[1]).round(5)\n",
    "\n",
    "print('P-value по конверсии после очистки данных: {}'.format(p_val_conversion_clean))"
   ]
  },
  {
   "cell_type": "code",
   "execution_count": 90,
   "metadata": {},
   "outputs": [
    {
     "name": "stdout",
     "output_type": "stream",
     "text": [
      "Относительный прирост конверсии группы B к конверсии группы А после очистки данных: 0.15\n"
     ]
    }
   ],
   "source": [
    " relative_increase_conversion_clean = sampleBFiltered.mean()/sampleAFiltered.mean()-1\n",
    "\n",
    "print('Относительный прирост конверсии группы B к конверсии группы А после очистки данных: {:.2f}'.format(relative_increase_conversion_clean))"
   ]
  },
  {
   "cell_type": "code",
   "execution_count": 91,
   "metadata": {},
   "outputs": [
    {
     "name": "stdout",
     "output_type": "stream",
     "text": [
      "Отвергаем нулевую гипотезу\n"
     ]
    }
   ],
   "source": [
    "alpha = .05\n",
    "\n",
    "if (p_val_conversion_clean < alpha):\n",
    "    print(\"Отвергаем нулевую гипотезу\")\n",
    "else:\n",
    "    print(\"Не получилось отвергнуть нулевую гипотезу\")"
   ]
  },
  {
   "cell_type": "markdown",
   "metadata": {},
   "source": [
    "Как и в случае с сырыми данными, статистическая значимость достигнута. Отвергаем нулевую гипотезу. Сегмент B лучше сегмента А. "
   ]
  },
  {
   "cell_type": "markdown",
   "metadata": {},
   "source": [
    "### Статистическая значимость различий в среднем чеке заказа между группами по «очищенным» данным. "
   ]
  },
  {
   "cell_type": "markdown",
   "metadata": {},
   "source": [
    "Гипотезы:\n",
    "\n",
    "Н0 - Статистически значимых различий в в среднем чеке заказа между группами по очищенным данным нет.\n",
    "\n",
    "Н1 - Статистически значимых различий в в среднем чеке заказа между группами по очищенным данным есть."
   ]
  },
  {
   "cell_type": "code",
   "execution_count": 92,
   "metadata": {},
   "outputs": [],
   "source": [
    "#фильтр аномальных пользователей\n",
    "sampleAFiltered_revenue = df_orders[\n",
    "                np.logical_and(\n",
    "                    df_orders['group'] == 'A',\n",
    "                    np.logical_not(df_orders['visitorId'].isin(abnormalUsers)),\n",
    "                )\n",
    "            ]['revenue']\n",
    "\n",
    "sampleBFiltered_revenue = df_orders[\n",
    "                np.logical_and(\n",
    "                    df_orders['group'] == 'B',\n",
    "                    np.logical_not(df_orders['visitorId'].isin(abnormalUsers)),\n",
    "                )\n",
    "            ]['revenue']"
   ]
  },
  {
   "cell_type": "code",
   "execution_count": 93,
   "metadata": {},
   "outputs": [
    {
     "name": "stdout",
     "output_type": "stream",
     "text": [
      "P-value по среднему чеку по отчищенным данным: 0.977\n"
     ]
    }
   ],
   "source": [
    "p_val_avg_check_clean = (stats.mannwhitneyu(\n",
    "    sampleAFiltered_revenue, \n",
    "    sampleBFiltered_revenue, \n",
    "    alternative = 'two-sided')[1]).round(5)\n",
    "\n",
    "print('P-value по среднему чеку по отчищенным данным: {:.3f}'.format(p_val_avg_check_clean))"
   ]
  },
  {
   "cell_type": "code",
   "execution_count": 94,
   "metadata": {},
   "outputs": [
    {
     "name": "stdout",
     "output_type": "stream",
     "text": [
      "Прирост среднего чека группы B к среднему чеку группы А по отчищенным данным: -0.02\n"
     ]
    }
   ],
   "source": [
    "relative_increase_avg_check_clean = sampleBFiltered_revenue.mean()/sampleAFiltered_revenue.mean()-1\n",
    "\n",
    "print('Прирост среднего чека группы B к среднему чеку группы А по отчищенным данным: {:.2f}'.format(relative_increase_avg_check_clean))"
   ]
  },
  {
   "cell_type": "code",
   "execution_count": 95,
   "metadata": {},
   "outputs": [
    {
     "name": "stdout",
     "output_type": "stream",
     "text": [
      "Не получилось отвергнуть нулевую гипотезу\n"
     ]
    }
   ],
   "source": [
    "alpha = .05\n",
    "\n",
    "if (p_val_avg_check_clean < alpha):\n",
    "    print(\"Отвергаем нулевую гипотезу\")\n",
    "else:\n",
    "    print(\"Не получилось отвергнуть нулевую гипотезу\")"
   ]
  },
  {
   "cell_type": "markdown",
   "metadata": {},
   "source": [
    "Статистической значимости различия между средними чеками не появилось. P-value увеличился до 0.958"
   ]
  },
  {
   "cell_type": "markdown",
   "metadata": {},
   "source": [
    "### Принятие решения по результатам теста."
   ]
  },
  {
   "cell_type": "markdown",
   "metadata": {},
   "source": [
    "Опираясь на полученные результаты тестов, пришла к выводу, что стоит зафиксировать победу группы В. Группа B статистически значимо лучше группы A по метрике конверсии, но различий в средних чеках нет. Цель проекта стоит в эффективности гипотезы по увеличению выручки, т.к. коверсия влияет на выручку, а конверсия в случае группы В значимо увеличилась, то и выручка увеличилась тоже. Даже с учетом того, что средний чек остался без изменений. \n"
   ]
  },
  {
   "cell_type": "markdown",
   "metadata": {},
   "source": [
    "##  Вывод  "
   ]
  },
  {
   "cell_type": "markdown",
   "metadata": {},
   "source": [
    "В процессе работы над проектом были изучены предстваленные гипотезы и выполнена их  приоритизация с помощью ICE и RICE. Где было определено, что по ICE приоритетная гипотиза - \"Запустить акцию, дающую скидку на товар в день рождения\", а  по RICE - \"Добавить форму подписки на все основные страницы, чтобы собрать базу клиентов для email-рассылок\". В топ обоих методов вошла гипотеза  \"Добавить форму подписки на все основные страницы, чтобы собрать базу клиентов для email-рассылок\", находится в тройке лучших по RICE (на первом месте) по ICE (на третьем месте)\n",
    "\n",
    "\n",
    "\n",
    "Далее были изучены заказы за август 2019 года. где максимальное число заказов на покумателя составило - 11, а максимальная сумма заказа составила около 100 000 руб. \n",
    "- Кумулятивная выручка почти равномерно увеличивается в течение всего теста. С самого начала и на протяжении теста  сегмент B лидировал. В середине августа видим довольно резкий скачок сегмента B. Это может сигнализировать о всплесках числа заказов, либо о появлении очень дорогих заказов в выборке. \n",
    "- Кумулятивное значение среднего чека довольно нестабильно. Видно, что с середины августа со средним чеком сегмента В что-то произошло, и он резко увеличился (стал свыше 10000). Пик для семента А пришелся на 13 августа (7000-8000), после чего немного снизился до 6500.\n",
    "- Кумулятивная конверсия по дням по группам показала, что в начале сегмент А имел большую конверсию, но после чуть упал и выровнялся до уровня 0.03. Сегмент B наоборот начал с 0.03 и стабилизировася на значении 0.035.\n",
    "- Различие кумулятивной конверсии группы B к группе A показало, что в начале теста группа B проигрывала группе A, затем видим резкий подъем. В период с 7 по 15 августа набладается прирост до уровня 0.22, а после чего стала немного падать до уровня 0.1, но все равно остается в выигрышной позиции по по сравнению с группой А. \n",
    "\n",
    "В последующем, были изучены статистическая значимость различий в среднем чеке и конверсии по \"сырым\" и очищенным данным.\n",
    "\n",
    "-  в конверсии между группами по \"сырым\" данным есть статистически значимые различия. Относительный прирост конверсии группы B к конверсии группы А равен 13%.\n",
    "-  статистически значимых различий в среднем чеке заказа между группами по «сырым» данным нет. Относительное различие среднего чека между группами всего 2.6%.\n",
    "\n",
    "После отчистки от аномалий, а к аномалиям я отнесла дорогие заказы (свыше 30 тыс. ) и  большое количество заказов (более 4). \n",
    "\n",
    "- статистическая значимость в конверсии между группами достигнута. Сегмент B лучше сегмента А. Относительный прирост конверсии группы B к А стал равен 15%.\n",
    "- статистической значимости различия между средними чеками не появилось. P-value увеличился до 0.958, а разница между сегментами стала -0.02.\n",
    "\n",
    "По результатам теста было принято решение остановить проверку и признать победу группы В. Группа B статистически значимо лучше группы A по метрике конверсии, но различий в средних чеках нет. Цель проекта стоит в эффективности гипотезы по увеличению выручки, т.к. коверсия влияет на выручку, а  конверсия в случае группы В значимо увеличилась, то и выручка увеличилась тоже. Даже с учетом того, что средний чек остался без изменений.\n",
    "\n"
   ]
  }
 ],
 "metadata": {
  "ExecuteTimeLog": [
   {
    "duration": 365,
    "start_time": "2022-05-09T16:39:30.061Z"
   },
   {
    "duration": 65,
    "start_time": "2022-05-09T16:39:32.378Z"
   },
   {
    "duration": 8,
    "start_time": "2022-05-09T16:39:51.438Z"
   },
   {
    "duration": 491,
    "start_time": "2022-05-09T16:41:10.382Z"
   },
   {
    "duration": 12,
    "start_time": "2022-05-09T16:41:12.143Z"
   },
   {
    "duration": 13,
    "start_time": "2022-05-09T16:41:14.001Z"
   },
   {
    "duration": 13,
    "start_time": "2022-05-09T16:41:32.024Z"
   },
   {
    "duration": 19,
    "start_time": "2022-05-09T16:43:25.100Z"
   },
   {
    "duration": 7,
    "start_time": "2022-05-09T16:43:40.374Z"
   },
   {
    "duration": 20,
    "start_time": "2022-05-09T16:44:25.520Z"
   },
   {
    "duration": 7,
    "start_time": "2022-05-09T16:44:36.906Z"
   },
   {
    "duration": 124,
    "start_time": "2022-05-09T16:46:24.964Z"
   },
   {
    "duration": 12,
    "start_time": "2022-05-09T17:37:58.202Z"
   },
   {
    "duration": 10,
    "start_time": "2022-05-09T17:38:24.380Z"
   },
   {
    "duration": 3,
    "start_time": "2022-05-09T17:43:46.187Z"
   },
   {
    "duration": 54,
    "start_time": "2022-05-11T19:00:50.369Z"
   },
   {
    "duration": 949,
    "start_time": "2022-05-11T19:00:57.609Z"
   },
   {
    "duration": 16,
    "start_time": "2022-05-11T19:00:58.560Z"
   },
   {
    "duration": 15,
    "start_time": "2022-05-11T19:00:58.578Z"
   },
   {
    "duration": 57,
    "start_time": "2022-05-11T19:00:58.596Z"
   },
   {
    "duration": 9,
    "start_time": "2022-05-11T19:00:58.655Z"
   },
   {
    "duration": 23,
    "start_time": "2022-05-11T19:00:58.666Z"
   },
   {
    "duration": 19,
    "start_time": "2022-05-11T19:00:58.692Z"
   },
   {
    "duration": 10,
    "start_time": "2022-05-11T19:00:58.714Z"
   },
   {
    "duration": 23,
    "start_time": "2022-05-11T19:00:58.726Z"
   },
   {
    "duration": 10,
    "start_time": "2022-05-11T19:00:58.752Z"
   },
   {
    "duration": 115,
    "start_time": "2022-05-11T19:00:58.763Z"
   },
   {
    "duration": 7,
    "start_time": "2022-05-11T19:01:20.918Z"
   },
   {
    "duration": 7,
    "start_time": "2022-05-11T19:01:47.855Z"
   },
   {
    "duration": 935,
    "start_time": "2022-05-11T19:02:45.461Z"
   },
   {
    "duration": 16,
    "start_time": "2022-05-11T19:02:46.399Z"
   },
   {
    "duration": 24,
    "start_time": "2022-05-11T19:02:46.417Z"
   },
   {
    "duration": 46,
    "start_time": "2022-05-11T19:02:46.443Z"
   },
   {
    "duration": 9,
    "start_time": "2022-05-11T19:02:46.491Z"
   },
   {
    "duration": 15,
    "start_time": "2022-05-11T19:02:46.502Z"
   },
   {
    "duration": 22,
    "start_time": "2022-05-11T19:02:46.520Z"
   },
   {
    "duration": 8,
    "start_time": "2022-05-11T19:02:46.544Z"
   },
   {
    "duration": 14,
    "start_time": "2022-05-11T19:02:46.554Z"
   },
   {
    "duration": 14,
    "start_time": "2022-05-11T19:02:46.570Z"
   },
   {
    "duration": 11,
    "start_time": "2022-05-11T19:02:46.586Z"
   },
   {
    "duration": 15,
    "start_time": "2022-05-11T19:02:46.599Z"
   },
   {
    "duration": 6,
    "start_time": "2022-05-11T19:03:10.213Z"
   },
   {
    "duration": 6,
    "start_time": "2022-05-11T19:03:19.793Z"
   },
   {
    "duration": 14,
    "start_time": "2022-05-11T19:11:06.305Z"
   },
   {
    "duration": 6,
    "start_time": "2022-05-11T19:11:27.507Z"
   },
   {
    "duration": 25,
    "start_time": "2022-05-11T19:11:55.107Z"
   },
   {
    "duration": 1333,
    "start_time": "2022-05-15T13:35:58.573Z"
   },
   {
    "duration": 1143,
    "start_time": "2022-05-15T13:36:06.150Z"
   },
   {
    "duration": 17,
    "start_time": "2022-05-15T13:36:07.295Z"
   },
   {
    "duration": 12,
    "start_time": "2022-05-15T13:36:07.313Z"
   },
   {
    "duration": 21,
    "start_time": "2022-05-15T13:36:07.328Z"
   },
   {
    "duration": 10,
    "start_time": "2022-05-15T13:36:07.350Z"
   },
   {
    "duration": 12,
    "start_time": "2022-05-15T13:36:07.362Z"
   },
   {
    "duration": 17,
    "start_time": "2022-05-15T13:36:07.376Z"
   },
   {
    "duration": 8,
    "start_time": "2022-05-15T13:36:07.394Z"
   },
   {
    "duration": 11,
    "start_time": "2022-05-15T13:36:07.403Z"
   },
   {
    "duration": 8,
    "start_time": "2022-05-15T13:36:07.416Z"
   },
   {
    "duration": 7,
    "start_time": "2022-05-15T13:36:07.443Z"
   },
   {
    "duration": 9,
    "start_time": "2022-05-15T13:36:07.452Z"
   },
   {
    "duration": 10,
    "start_time": "2022-05-15T13:36:07.463Z"
   },
   {
    "duration": 4,
    "start_time": "2022-05-15T13:36:07.475Z"
   },
   {
    "duration": 15,
    "start_time": "2022-05-15T13:36:07.480Z"
   },
   {
    "duration": 8,
    "start_time": "2022-05-15T13:36:07.497Z"
   },
   {
    "duration": 45,
    "start_time": "2022-05-15T13:36:07.507Z"
   },
   {
    "duration": 15,
    "start_time": "2022-05-15T13:36:43.767Z"
   },
   {
    "duration": 11,
    "start_time": "2022-05-15T13:37:24.561Z"
   },
   {
    "duration": 10,
    "start_time": "2022-05-15T13:37:36.210Z"
   },
   {
    "duration": 157,
    "start_time": "2022-05-15T13:37:46.348Z"
   },
   {
    "duration": 6,
    "start_time": "2022-05-15T13:38:34.465Z"
   },
   {
    "duration": 7,
    "start_time": "2022-05-15T13:38:40.115Z"
   },
   {
    "duration": 175,
    "start_time": "2022-05-15T13:38:47.136Z"
   },
   {
    "duration": 8,
    "start_time": "2022-05-15T13:38:56.123Z"
   },
   {
    "duration": 111,
    "start_time": "2022-05-15T13:39:06.078Z"
   },
   {
    "duration": 7,
    "start_time": "2022-05-15T13:39:13.212Z"
   },
   {
    "duration": 7,
    "start_time": "2022-05-15T13:39:20.214Z"
   },
   {
    "duration": 9,
    "start_time": "2022-05-15T13:39:26.233Z"
   },
   {
    "duration": 10,
    "start_time": "2022-05-15T13:39:32.587Z"
   },
   {
    "duration": 8,
    "start_time": "2022-05-15T13:39:39.083Z"
   },
   {
    "duration": 413,
    "start_time": "2022-05-15T13:39:47.547Z"
   },
   {
    "duration": 169,
    "start_time": "2022-05-15T13:40:16.361Z"
   },
   {
    "duration": 7,
    "start_time": "2022-05-15T13:40:43.893Z"
   },
   {
    "duration": 256,
    "start_time": "2022-05-15T13:40:50.278Z"
   },
   {
    "duration": 11,
    "start_time": "2022-05-15T13:41:19.689Z"
   },
   {
    "duration": 5,
    "start_time": "2022-05-15T13:41:28.048Z"
   },
   {
    "duration": 177,
    "start_time": "2022-05-15T13:41:34.705Z"
   },
   {
    "duration": 13,
    "start_time": "2022-05-15T13:42:05.098Z"
   },
   {
    "duration": 403,
    "start_time": "2022-05-15T13:42:11.752Z"
   },
   {
    "duration": 8,
    "start_time": "2022-05-15T13:42:48.754Z"
   },
   {
    "duration": 136,
    "start_time": "2022-05-15T13:42:57.534Z"
   },
   {
    "duration": 128,
    "start_time": "2022-05-15T13:43:05.020Z"
   },
   {
    "duration": 5,
    "start_time": "2022-05-15T13:43:36.097Z"
   },
   {
    "duration": 184,
    "start_time": "2022-05-15T13:44:04.266Z"
   },
   {
    "duration": 5,
    "start_time": "2022-05-15T13:44:35.922Z"
   },
   {
    "duration": 8,
    "start_time": "2022-05-15T13:45:09.414Z"
   },
   {
    "duration": 10,
    "start_time": "2022-05-15T13:45:18.570Z"
   },
   {
    "duration": 48,
    "start_time": "2022-05-15T13:45:25.926Z"
   },
   {
    "duration": 5,
    "start_time": "2022-05-15T13:45:32.426Z"
   },
   {
    "duration": 50,
    "start_time": "2022-05-15T13:45:38.680Z"
   },
   {
    "duration": 19,
    "start_time": "2022-05-15T13:45:45.414Z"
   },
   {
    "duration": 63,
    "start_time": "2022-05-15T13:45:51.852Z"
   },
   {
    "duration": 19,
    "start_time": "2022-05-15T13:45:58.816Z"
   },
   {
    "duration": 54,
    "start_time": "2022-05-15T13:46:09.060Z"
   },
   {
    "duration": 21,
    "start_time": "2022-05-15T13:46:16.448Z"
   },
   {
    "duration": 67,
    "start_time": "2022-05-15T13:46:23.384Z"
   },
   {
    "duration": 74,
    "start_time": "2022-05-15T13:46:29.513Z"
   },
   {
    "duration": 7,
    "start_time": "2022-05-15T13:46:36.101Z"
   },
   {
    "duration": 8,
    "start_time": "2022-05-15T13:46:47.432Z"
   },
   {
    "duration": 36,
    "start_time": "2022-05-15T13:47:30.203Z"
   },
   {
    "duration": 4,
    "start_time": "2022-05-15T13:47:37.031Z"
   },
   {
    "duration": 4,
    "start_time": "2022-05-15T13:47:45.210Z"
   },
   {
    "duration": 8,
    "start_time": "2022-05-15T13:51:45.048Z"
   },
   {
    "duration": 4,
    "start_time": "2022-05-15T13:52:00.023Z"
   },
   {
    "duration": 5,
    "start_time": "2022-05-15T13:52:09.679Z"
   },
   {
    "duration": 6,
    "start_time": "2022-05-15T13:52:15.922Z"
   },
   {
    "duration": 4,
    "start_time": "2022-05-15T13:52:30.260Z"
   },
   {
    "duration": 4,
    "start_time": "2022-05-15T13:52:39.304Z"
   },
   {
    "duration": 2310,
    "start_time": "2022-05-15T14:11:17.423Z"
   },
   {
    "duration": 6,
    "start_time": "2022-05-15T14:11:59.881Z"
   },
   {
    "duration": 4,
    "start_time": "2022-05-15T14:12:57.656Z"
   },
   {
    "duration": 7,
    "start_time": "2022-05-15T14:13:11.983Z"
   },
   {
    "duration": 5,
    "start_time": "2022-05-15T14:14:17.956Z"
   },
   {
    "duration": 2802,
    "start_time": "2022-05-15T14:14:20.290Z"
   },
   {
    "duration": 1174,
    "start_time": "2022-05-15T14:14:43.204Z"
   },
   {
    "duration": 11,
    "start_time": "2022-05-15T14:14:44.380Z"
   },
   {
    "duration": 28,
    "start_time": "2022-05-15T14:14:44.392Z"
   },
   {
    "duration": 71,
    "start_time": "2022-05-15T14:14:44.421Z"
   },
   {
    "duration": 32,
    "start_time": "2022-05-15T14:14:44.494Z"
   },
   {
    "duration": 36,
    "start_time": "2022-05-15T14:14:44.527Z"
   },
   {
    "duration": 49,
    "start_time": "2022-05-15T14:14:44.565Z"
   },
   {
    "duration": 12,
    "start_time": "2022-05-15T14:14:44.615Z"
   },
   {
    "duration": 11,
    "start_time": "2022-05-15T14:14:44.629Z"
   },
   {
    "duration": 18,
    "start_time": "2022-05-15T14:14:44.650Z"
   },
   {
    "duration": 8,
    "start_time": "2022-05-15T14:14:44.670Z"
   },
   {
    "duration": 9,
    "start_time": "2022-05-15T14:14:44.679Z"
   },
   {
    "duration": 5,
    "start_time": "2022-05-15T14:14:44.690Z"
   },
   {
    "duration": 4,
    "start_time": "2022-05-15T14:14:44.697Z"
   },
   {
    "duration": 18,
    "start_time": "2022-05-15T14:14:44.703Z"
   },
   {
    "duration": 10,
    "start_time": "2022-05-15T14:14:44.723Z"
   },
   {
    "duration": 38,
    "start_time": "2022-05-15T14:14:44.735Z"
   },
   {
    "duration": 11,
    "start_time": "2022-05-15T14:14:44.775Z"
   },
   {
    "duration": 11,
    "start_time": "2022-05-15T14:14:44.787Z"
   },
   {
    "duration": 12,
    "start_time": "2022-05-15T14:14:44.800Z"
   },
   {
    "duration": 7,
    "start_time": "2022-05-15T14:14:44.813Z"
   },
   {
    "duration": 29,
    "start_time": "2022-05-15T14:14:44.821Z"
   },
   {
    "duration": 246,
    "start_time": "2022-05-15T14:14:44.852Z"
   },
   {
    "duration": 8,
    "start_time": "2022-05-15T14:14:45.099Z"
   },
   {
    "duration": 121,
    "start_time": "2022-05-15T14:14:45.109Z"
   },
   {
    "duration": 15,
    "start_time": "2022-05-15T14:14:45.231Z"
   },
   {
    "duration": 13,
    "start_time": "2022-05-15T14:14:45.248Z"
   },
   {
    "duration": 9,
    "start_time": "2022-05-15T14:14:45.265Z"
   },
   {
    "duration": 10,
    "start_time": "2022-05-15T14:14:45.275Z"
   },
   {
    "duration": 11,
    "start_time": "2022-05-15T14:14:45.287Z"
   },
   {
    "duration": 271,
    "start_time": "2022-05-15T14:14:45.299Z"
   },
   {
    "duration": 188,
    "start_time": "2022-05-15T14:14:45.571Z"
   },
   {
    "duration": 6,
    "start_time": "2022-05-15T14:14:45.761Z"
   },
   {
    "duration": 285,
    "start_time": "2022-05-15T14:14:45.769Z"
   },
   {
    "duration": 11,
    "start_time": "2022-05-15T14:14:46.057Z"
   },
   {
    "duration": 8,
    "start_time": "2022-05-15T14:14:46.070Z"
   },
   {
    "duration": 208,
    "start_time": "2022-05-15T14:14:46.080Z"
   },
   {
    "duration": 14,
    "start_time": "2022-05-15T14:14:46.290Z"
   },
   {
    "duration": 450,
    "start_time": "2022-05-15T14:14:46.306Z"
   },
   {
    "duration": 0,
    "start_time": "2022-05-15T14:14:46.757Z"
   },
   {
    "duration": 0,
    "start_time": "2022-05-15T14:14:46.760Z"
   },
   {
    "duration": 0,
    "start_time": "2022-05-15T14:14:46.761Z"
   },
   {
    "duration": 0,
    "start_time": "2022-05-15T14:14:46.762Z"
   },
   {
    "duration": 0,
    "start_time": "2022-05-15T14:14:46.763Z"
   },
   {
    "duration": 0,
    "start_time": "2022-05-15T14:14:46.764Z"
   },
   {
    "duration": 0,
    "start_time": "2022-05-15T14:14:46.766Z"
   },
   {
    "duration": 0,
    "start_time": "2022-05-15T14:14:46.767Z"
   },
   {
    "duration": 0,
    "start_time": "2022-05-15T14:14:46.768Z"
   },
   {
    "duration": 0,
    "start_time": "2022-05-15T14:14:46.769Z"
   },
   {
    "duration": 0,
    "start_time": "2022-05-15T14:14:46.770Z"
   },
   {
    "duration": 0,
    "start_time": "2022-05-15T14:14:46.771Z"
   },
   {
    "duration": 0,
    "start_time": "2022-05-15T14:14:46.772Z"
   },
   {
    "duration": 0,
    "start_time": "2022-05-15T14:14:46.773Z"
   },
   {
    "duration": 0,
    "start_time": "2022-05-15T14:14:46.774Z"
   },
   {
    "duration": 0,
    "start_time": "2022-05-15T14:14:46.775Z"
   },
   {
    "duration": 0,
    "start_time": "2022-05-15T14:14:46.776Z"
   },
   {
    "duration": 0,
    "start_time": "2022-05-15T14:14:46.777Z"
   },
   {
    "duration": 0,
    "start_time": "2022-05-15T14:14:46.778Z"
   },
   {
    "duration": 0,
    "start_time": "2022-05-15T14:14:46.779Z"
   },
   {
    "duration": 0,
    "start_time": "2022-05-15T14:14:46.780Z"
   },
   {
    "duration": 0,
    "start_time": "2022-05-15T14:14:46.781Z"
   },
   {
    "duration": 0,
    "start_time": "2022-05-15T14:14:46.782Z"
   },
   {
    "duration": 0,
    "start_time": "2022-05-15T14:14:46.783Z"
   },
   {
    "duration": 0,
    "start_time": "2022-05-15T14:14:46.784Z"
   },
   {
    "duration": 0,
    "start_time": "2022-05-15T14:14:46.785Z"
   },
   {
    "duration": 0,
    "start_time": "2022-05-15T14:14:46.786Z"
   },
   {
    "duration": 0,
    "start_time": "2022-05-15T14:14:46.787Z"
   },
   {
    "duration": 0,
    "start_time": "2022-05-15T14:14:46.788Z"
   },
   {
    "duration": 0,
    "start_time": "2022-05-15T14:14:46.789Z"
   },
   {
    "duration": 0,
    "start_time": "2022-05-15T14:14:46.790Z"
   },
   {
    "duration": 8,
    "start_time": "2022-05-15T14:14:53.806Z"
   },
   {
    "duration": 147,
    "start_time": "2022-05-15T14:14:54.024Z"
   },
   {
    "duration": 121,
    "start_time": "2022-05-15T14:14:54.221Z"
   },
   {
    "duration": 4,
    "start_time": "2022-05-15T14:14:54.936Z"
   },
   {
    "duration": 133,
    "start_time": "2022-05-15T14:14:55.479Z"
   },
   {
    "duration": 4,
    "start_time": "2022-05-15T14:14:56.020Z"
   },
   {
    "duration": 10,
    "start_time": "2022-05-15T14:14:56.535Z"
   },
   {
    "duration": 9,
    "start_time": "2022-05-15T14:14:56.712Z"
   },
   {
    "duration": 51,
    "start_time": "2022-05-15T14:14:56.889Z"
   },
   {
    "duration": 5,
    "start_time": "2022-05-15T14:14:57.065Z"
   },
   {
    "duration": 53,
    "start_time": "2022-05-15T14:14:57.241Z"
   },
   {
    "duration": 18,
    "start_time": "2022-05-15T14:14:57.415Z"
   },
   {
    "duration": 63,
    "start_time": "2022-05-15T14:14:57.610Z"
   },
   {
    "duration": 19,
    "start_time": "2022-05-15T14:14:57.776Z"
   },
   {
    "duration": 53,
    "start_time": "2022-05-15T14:14:57.969Z"
   },
   {
    "duration": 20,
    "start_time": "2022-05-15T14:14:58.156Z"
   },
   {
    "duration": 66,
    "start_time": "2022-05-15T14:14:58.356Z"
   },
   {
    "duration": 82,
    "start_time": "2022-05-15T14:14:58.534Z"
   },
   {
    "duration": 7,
    "start_time": "2022-05-15T14:14:58.703Z"
   },
   {
    "duration": 7,
    "start_time": "2022-05-15T14:14:58.899Z"
   },
   {
    "duration": 24,
    "start_time": "2022-05-15T14:14:59.361Z"
   },
   {
    "duration": 4,
    "start_time": "2022-05-15T14:14:59.861Z"
   },
   {
    "duration": 4,
    "start_time": "2022-05-15T14:15:00.356Z"
   },
   {
    "duration": 4,
    "start_time": "2022-05-15T14:15:01.324Z"
   },
   {
    "duration": 4,
    "start_time": "2022-05-15T14:15:01.485Z"
   },
   {
    "duration": 6,
    "start_time": "2022-05-15T14:15:01.684Z"
   },
   {
    "duration": 4,
    "start_time": "2022-05-15T14:15:01.892Z"
   },
   {
    "duration": 3,
    "start_time": "2022-05-15T14:15:02.030Z"
   },
   {
    "duration": 2980,
    "start_time": "2022-05-15T14:15:02.755Z"
   },
   {
    "duration": 0,
    "start_time": "2022-05-15T14:15:05.737Z"
   },
   {
    "duration": 0,
    "start_time": "2022-05-15T14:15:05.738Z"
   },
   {
    "duration": 5,
    "start_time": "2022-05-15T14:20:20.160Z"
   },
   {
    "duration": 4,
    "start_time": "2022-05-15T14:20:22.688Z"
   },
   {
    "duration": 8,
    "start_time": "2022-05-15T14:20:24.476Z"
   },
   {
    "duration": 2788,
    "start_time": "2022-05-15T15:14:49.986Z"
   },
   {
    "duration": 9,
    "start_time": "2022-05-15T15:15:17.042Z"
   },
   {
    "duration": 6,
    "start_time": "2022-05-15T15:15:35.465Z"
   },
   {
    "duration": 9,
    "start_time": "2022-05-15T15:15:59.570Z"
   },
   {
    "duration": 6,
    "start_time": "2022-05-15T15:16:49.060Z"
   },
   {
    "duration": 6,
    "start_time": "2022-05-15T15:16:50.831Z"
   },
   {
    "duration": 23,
    "start_time": "2022-05-15T15:16:53.758Z"
   },
   {
    "duration": 4,
    "start_time": "2022-05-15T15:17:04.509Z"
   },
   {
    "duration": 4,
    "start_time": "2022-05-15T15:17:13.601Z"
   },
   {
    "duration": 12,
    "start_time": "2022-05-15T15:22:06.859Z"
   },
   {
    "duration": 10,
    "start_time": "2022-05-15T15:22:18.697Z"
   },
   {
    "duration": 6,
    "start_time": "2022-05-15T15:22:46.814Z"
   },
   {
    "duration": 6,
    "start_time": "2022-05-15T15:23:12.325Z"
   },
   {
    "duration": 5,
    "start_time": "2022-05-15T15:23:43.856Z"
   },
   {
    "duration": 3,
    "start_time": "2022-05-15T15:23:54.407Z"
   },
   {
    "duration": 3,
    "start_time": "2022-05-15T15:24:19.768Z"
   },
   {
    "duration": 301,
    "start_time": "2022-05-15T15:27:26.877Z"
   },
   {
    "duration": 1151,
    "start_time": "2022-05-15T15:29:03.765Z"
   },
   {
    "duration": 11,
    "start_time": "2022-05-15T15:29:04.918Z"
   },
   {
    "duration": 11,
    "start_time": "2022-05-15T15:29:04.931Z"
   },
   {
    "duration": 31,
    "start_time": "2022-05-15T15:29:04.948Z"
   },
   {
    "duration": 9,
    "start_time": "2022-05-15T15:29:04.981Z"
   },
   {
    "duration": 26,
    "start_time": "2022-05-15T15:29:04.992Z"
   },
   {
    "duration": 15,
    "start_time": "2022-05-15T15:29:05.020Z"
   },
   {
    "duration": 13,
    "start_time": "2022-05-15T15:29:05.036Z"
   },
   {
    "duration": 25,
    "start_time": "2022-05-15T15:29:05.051Z"
   },
   {
    "duration": 8,
    "start_time": "2022-05-15T15:29:05.079Z"
   },
   {
    "duration": 7,
    "start_time": "2022-05-15T15:29:05.089Z"
   },
   {
    "duration": 8,
    "start_time": "2022-05-15T15:29:05.097Z"
   },
   {
    "duration": 8,
    "start_time": "2022-05-15T15:29:05.106Z"
   },
   {
    "duration": 5,
    "start_time": "2022-05-15T15:29:05.116Z"
   },
   {
    "duration": 29,
    "start_time": "2022-05-15T15:29:05.123Z"
   },
   {
    "duration": 5,
    "start_time": "2022-05-15T15:29:05.154Z"
   },
   {
    "duration": 19,
    "start_time": "2022-05-15T15:29:05.160Z"
   },
   {
    "duration": 9,
    "start_time": "2022-05-15T15:29:05.181Z"
   },
   {
    "duration": 13,
    "start_time": "2022-05-15T15:29:05.192Z"
   },
   {
    "duration": 24,
    "start_time": "2022-05-15T15:29:05.207Z"
   },
   {
    "duration": 29,
    "start_time": "2022-05-15T15:29:05.233Z"
   },
   {
    "duration": 26,
    "start_time": "2022-05-15T15:29:05.263Z"
   },
   {
    "duration": 214,
    "start_time": "2022-05-15T15:29:05.291Z"
   },
   {
    "duration": 8,
    "start_time": "2022-05-15T15:29:05.507Z"
   },
   {
    "duration": 167,
    "start_time": "2022-05-15T15:29:05.517Z"
   },
   {
    "duration": 8,
    "start_time": "2022-05-15T15:29:05.686Z"
   },
   {
    "duration": 34,
    "start_time": "2022-05-15T15:29:05.696Z"
   },
   {
    "duration": 45,
    "start_time": "2022-05-15T15:29:05.734Z"
   },
   {
    "duration": 26,
    "start_time": "2022-05-15T15:29:05.781Z"
   },
   {
    "duration": 21,
    "start_time": "2022-05-15T15:29:05.809Z"
   },
   {
    "duration": 302,
    "start_time": "2022-05-15T15:29:05.832Z"
   },
   {
    "duration": 180,
    "start_time": "2022-05-15T15:29:06.136Z"
   },
   {
    "duration": 6,
    "start_time": "2022-05-15T15:29:06.318Z"
   },
   {
    "duration": 329,
    "start_time": "2022-05-15T15:29:06.325Z"
   },
   {
    "duration": 12,
    "start_time": "2022-05-15T15:29:06.656Z"
   },
   {
    "duration": 20,
    "start_time": "2022-05-15T15:29:06.670Z"
   },
   {
    "duration": 221,
    "start_time": "2022-05-15T15:29:06.691Z"
   },
   {
    "duration": 14,
    "start_time": "2022-05-15T15:29:06.914Z"
   },
   {
    "duration": 339,
    "start_time": "2022-05-15T15:29:06.929Z"
   },
   {
    "duration": 8,
    "start_time": "2022-05-15T15:29:07.271Z"
   },
   {
    "duration": 133,
    "start_time": "2022-05-15T15:29:07.281Z"
   },
   {
    "duration": 123,
    "start_time": "2022-05-15T15:29:07.416Z"
   },
   {
    "duration": 9,
    "start_time": "2022-05-15T15:29:07.540Z"
   },
   {
    "duration": 151,
    "start_time": "2022-05-15T15:29:07.550Z"
   },
   {
    "duration": 5,
    "start_time": "2022-05-15T15:29:07.702Z"
   },
   {
    "duration": 29,
    "start_time": "2022-05-15T15:29:07.708Z"
   },
   {
    "duration": 40,
    "start_time": "2022-05-15T15:29:07.739Z"
   },
   {
    "duration": 56,
    "start_time": "2022-05-15T15:29:07.781Z"
   },
   {
    "duration": 49,
    "start_time": "2022-05-15T15:29:07.839Z"
   },
   {
    "duration": 75,
    "start_time": "2022-05-15T15:29:07.889Z"
   },
   {
    "duration": 31,
    "start_time": "2022-05-15T15:29:07.966Z"
   },
   {
    "duration": 71,
    "start_time": "2022-05-15T15:29:07.998Z"
   },
   {
    "duration": 23,
    "start_time": "2022-05-15T15:29:08.071Z"
   },
   {
    "duration": 73,
    "start_time": "2022-05-15T15:29:08.095Z"
   },
   {
    "duration": 30,
    "start_time": "2022-05-15T15:29:08.170Z"
   },
   {
    "duration": 84,
    "start_time": "2022-05-15T15:29:08.202Z"
   },
   {
    "duration": 84,
    "start_time": "2022-05-15T15:29:08.288Z"
   },
   {
    "duration": 6,
    "start_time": "2022-05-15T15:29:08.374Z"
   },
   {
    "duration": 26,
    "start_time": "2022-05-15T15:29:08.381Z"
   },
   {
    "duration": 38,
    "start_time": "2022-05-15T15:29:08.409Z"
   },
   {
    "duration": 6,
    "start_time": "2022-05-15T15:29:08.449Z"
   },
   {
    "duration": 22,
    "start_time": "2022-05-15T15:29:08.457Z"
   },
   {
    "duration": 25,
    "start_time": "2022-05-15T15:29:08.481Z"
   },
   {
    "duration": 17,
    "start_time": "2022-05-15T15:29:08.508Z"
   },
   {
    "duration": 41,
    "start_time": "2022-05-15T15:29:08.526Z"
   },
   {
    "duration": 13,
    "start_time": "2022-05-15T15:29:08.568Z"
   },
   {
    "duration": 41,
    "start_time": "2022-05-15T15:29:08.582Z"
   },
   {
    "duration": 33,
    "start_time": "2022-05-15T15:29:08.624Z"
   },
   {
    "duration": 26,
    "start_time": "2022-05-15T15:29:08.659Z"
   },
   {
    "duration": 26,
    "start_time": "2022-05-15T15:29:08.687Z"
   },
   {
    "duration": 22,
    "start_time": "2022-05-15T15:29:08.715Z"
   },
   {
    "duration": 37,
    "start_time": "2022-05-15T15:29:08.738Z"
   },
   {
    "duration": 37,
    "start_time": "2022-05-15T15:29:08.777Z"
   },
   {
    "duration": 8,
    "start_time": "2022-05-15T15:29:08.817Z"
   },
   {
    "duration": 36,
    "start_time": "2022-05-15T15:29:08.827Z"
   },
   {
    "duration": 29,
    "start_time": "2022-05-15T15:29:08.865Z"
   },
   {
    "duration": 19,
    "start_time": "2022-05-15T15:29:08.896Z"
   },
   {
    "duration": 41,
    "start_time": "2022-05-15T15:29:08.917Z"
   },
   {
    "duration": 23,
    "start_time": "2022-05-15T15:29:08.960Z"
   },
   {
    "duration": 500,
    "start_time": "2022-05-15T15:34:18.837Z"
   },
   {
    "duration": 158,
    "start_time": "2022-05-15T15:34:53.427Z"
   },
   {
    "duration": 399,
    "start_time": "2022-05-15T15:34:57.601Z"
   },
   {
    "duration": 5,
    "start_time": "2022-05-15T15:49:05.906Z"
   },
   {
    "duration": 329,
    "start_time": "2022-05-15T15:49:11.936Z"
   },
   {
    "duration": 329,
    "start_time": "2022-05-15T15:50:03.609Z"
   },
   {
    "duration": 306,
    "start_time": "2022-05-15T15:50:27.003Z"
   },
   {
    "duration": 1176,
    "start_time": "2022-05-15T15:50:54.358Z"
   },
   {
    "duration": 23,
    "start_time": "2022-05-15T15:50:55.536Z"
   },
   {
    "duration": 27,
    "start_time": "2022-05-15T15:50:55.560Z"
   },
   {
    "duration": 47,
    "start_time": "2022-05-15T15:50:55.590Z"
   },
   {
    "duration": 24,
    "start_time": "2022-05-15T15:50:55.639Z"
   },
   {
    "duration": 35,
    "start_time": "2022-05-15T15:50:55.664Z"
   },
   {
    "duration": 25,
    "start_time": "2022-05-15T15:50:55.700Z"
   },
   {
    "duration": 34,
    "start_time": "2022-05-15T15:50:55.727Z"
   },
   {
    "duration": 15,
    "start_time": "2022-05-15T15:50:55.764Z"
   },
   {
    "duration": 26,
    "start_time": "2022-05-15T15:50:55.782Z"
   },
   {
    "duration": 22,
    "start_time": "2022-05-15T15:50:55.810Z"
   },
   {
    "duration": 25,
    "start_time": "2022-05-15T15:50:55.834Z"
   },
   {
    "duration": 26,
    "start_time": "2022-05-15T15:50:55.861Z"
   },
   {
    "duration": 24,
    "start_time": "2022-05-15T15:50:55.889Z"
   },
   {
    "duration": 37,
    "start_time": "2022-05-15T15:50:55.914Z"
   },
   {
    "duration": 28,
    "start_time": "2022-05-15T15:50:55.954Z"
   },
   {
    "duration": 34,
    "start_time": "2022-05-15T15:50:55.984Z"
   },
   {
    "duration": 45,
    "start_time": "2022-05-15T15:50:56.020Z"
   },
   {
    "duration": 37,
    "start_time": "2022-05-15T15:50:56.066Z"
   },
   {
    "duration": 36,
    "start_time": "2022-05-15T15:50:56.105Z"
   },
   {
    "duration": 27,
    "start_time": "2022-05-15T15:50:56.144Z"
   },
   {
    "duration": 15,
    "start_time": "2022-05-15T15:50:56.172Z"
   },
   {
    "duration": 212,
    "start_time": "2022-05-15T15:50:56.189Z"
   },
   {
    "duration": 8,
    "start_time": "2022-05-15T15:50:56.402Z"
   },
   {
    "duration": 143,
    "start_time": "2022-05-15T15:50:56.412Z"
   },
   {
    "duration": 37,
    "start_time": "2022-05-15T15:50:56.557Z"
   },
   {
    "duration": 15,
    "start_time": "2022-05-15T15:50:56.595Z"
   },
   {
    "duration": 17,
    "start_time": "2022-05-15T15:50:56.615Z"
   },
   {
    "duration": 33,
    "start_time": "2022-05-15T15:50:56.634Z"
   },
   {
    "duration": 25,
    "start_time": "2022-05-15T15:50:56.669Z"
   },
   {
    "duration": 287,
    "start_time": "2022-05-15T15:50:56.695Z"
   },
   {
    "duration": 202,
    "start_time": "2022-05-15T15:50:56.985Z"
   },
   {
    "duration": 6,
    "start_time": "2022-05-15T15:50:57.190Z"
   },
   {
    "duration": 310,
    "start_time": "2022-05-15T15:50:57.198Z"
   },
   {
    "duration": 10,
    "start_time": "2022-05-15T15:50:57.511Z"
   },
   {
    "duration": 24,
    "start_time": "2022-05-15T15:50:57.523Z"
   },
   {
    "duration": 242,
    "start_time": "2022-05-15T15:50:57.549Z"
   },
   {
    "duration": 13,
    "start_time": "2022-05-15T15:50:57.793Z"
   },
   {
    "duration": 348,
    "start_time": "2022-05-15T15:50:57.808Z"
   },
   {
    "duration": 9,
    "start_time": "2022-05-15T15:50:58.158Z"
   },
   {
    "duration": 145,
    "start_time": "2022-05-15T15:50:58.169Z"
   },
   {
    "duration": 141,
    "start_time": "2022-05-15T15:50:58.316Z"
   },
   {
    "duration": 4,
    "start_time": "2022-05-15T15:50:58.459Z"
   },
   {
    "duration": 147,
    "start_time": "2022-05-15T15:50:58.464Z"
   },
   {
    "duration": 4,
    "start_time": "2022-05-15T15:50:58.613Z"
   },
   {
    "duration": 33,
    "start_time": "2022-05-15T15:50:58.619Z"
   },
   {
    "duration": 31,
    "start_time": "2022-05-15T15:50:58.654Z"
   },
   {
    "duration": 79,
    "start_time": "2022-05-15T15:50:58.687Z"
   },
   {
    "duration": 18,
    "start_time": "2022-05-15T15:50:58.768Z"
   },
   {
    "duration": 77,
    "start_time": "2022-05-15T15:50:58.787Z"
   },
   {
    "duration": 41,
    "start_time": "2022-05-15T15:50:58.866Z"
   },
   {
    "duration": 58,
    "start_time": "2022-05-15T15:50:58.908Z"
   },
   {
    "duration": 38,
    "start_time": "2022-05-15T15:50:58.968Z"
   },
   {
    "duration": 60,
    "start_time": "2022-05-15T15:50:59.008Z"
   },
   {
    "duration": 52,
    "start_time": "2022-05-15T15:50:59.070Z"
   },
   {
    "duration": 96,
    "start_time": "2022-05-15T15:50:59.124Z"
   },
   {
    "duration": 89,
    "start_time": "2022-05-15T15:50:59.222Z"
   },
   {
    "duration": 8,
    "start_time": "2022-05-15T15:50:59.314Z"
   },
   {
    "duration": 36,
    "start_time": "2022-05-15T15:50:59.324Z"
   },
   {
    "duration": 43,
    "start_time": "2022-05-15T15:50:59.361Z"
   },
   {
    "duration": 8,
    "start_time": "2022-05-15T15:50:59.405Z"
   },
   {
    "duration": 17,
    "start_time": "2022-05-15T15:50:59.415Z"
   },
   {
    "duration": 40,
    "start_time": "2022-05-15T15:50:59.434Z"
   },
   {
    "duration": 30,
    "start_time": "2022-05-15T15:50:59.476Z"
   },
   {
    "duration": 22,
    "start_time": "2022-05-15T15:50:59.508Z"
   },
   {
    "duration": 35,
    "start_time": "2022-05-15T15:50:59.532Z"
   },
   {
    "duration": 14,
    "start_time": "2022-05-15T15:50:59.569Z"
   },
   {
    "duration": 29,
    "start_time": "2022-05-15T15:50:59.585Z"
   },
   {
    "duration": 35,
    "start_time": "2022-05-15T15:50:59.616Z"
   },
   {
    "duration": 20,
    "start_time": "2022-05-15T15:50:59.653Z"
   },
   {
    "duration": 30,
    "start_time": "2022-05-15T15:50:59.674Z"
   },
   {
    "duration": 16,
    "start_time": "2022-05-15T15:50:59.706Z"
   },
   {
    "duration": 46,
    "start_time": "2022-05-15T15:50:59.723Z"
   },
   {
    "duration": 22,
    "start_time": "2022-05-15T15:50:59.771Z"
   },
   {
    "duration": 32,
    "start_time": "2022-05-15T15:50:59.795Z"
   },
   {
    "duration": 44,
    "start_time": "2022-05-15T15:50:59.829Z"
   },
   {
    "duration": 30,
    "start_time": "2022-05-15T15:50:59.875Z"
   },
   {
    "duration": 22,
    "start_time": "2022-05-15T15:50:59.907Z"
   },
   {
    "duration": 15,
    "start_time": "2022-05-15T15:50:59.931Z"
   },
   {
    "duration": 1222,
    "start_time": "2022-05-15T16:46:36.081Z"
   },
   {
    "duration": 16,
    "start_time": "2022-05-15T16:46:37.305Z"
   },
   {
    "duration": 11,
    "start_time": "2022-05-15T16:46:37.323Z"
   },
   {
    "duration": 21,
    "start_time": "2022-05-15T16:46:37.335Z"
   },
   {
    "duration": 10,
    "start_time": "2022-05-15T16:46:37.357Z"
   },
   {
    "duration": 11,
    "start_time": "2022-05-15T16:46:37.369Z"
   },
   {
    "duration": 12,
    "start_time": "2022-05-15T16:46:37.382Z"
   },
   {
    "duration": 6,
    "start_time": "2022-05-15T16:46:37.395Z"
   },
   {
    "duration": 19,
    "start_time": "2022-05-15T16:46:37.403Z"
   },
   {
    "duration": 12,
    "start_time": "2022-05-15T16:46:37.425Z"
   },
   {
    "duration": 6,
    "start_time": "2022-05-15T16:46:37.443Z"
   },
   {
    "duration": 11,
    "start_time": "2022-05-15T16:46:37.451Z"
   },
   {
    "duration": 5,
    "start_time": "2022-05-15T16:46:37.463Z"
   },
   {
    "duration": 5,
    "start_time": "2022-05-15T16:46:37.470Z"
   },
   {
    "duration": 20,
    "start_time": "2022-05-15T16:46:37.477Z"
   },
   {
    "duration": 9,
    "start_time": "2022-05-15T16:46:37.499Z"
   },
   {
    "duration": 40,
    "start_time": "2022-05-15T16:46:37.509Z"
   },
   {
    "duration": 14,
    "start_time": "2022-05-15T16:46:37.551Z"
   },
   {
    "duration": 11,
    "start_time": "2022-05-15T16:46:37.567Z"
   },
   {
    "duration": 12,
    "start_time": "2022-05-15T16:46:37.580Z"
   },
   {
    "duration": 10,
    "start_time": "2022-05-15T16:46:37.594Z"
   },
   {
    "duration": 12,
    "start_time": "2022-05-15T16:46:37.606Z"
   },
   {
    "duration": 278,
    "start_time": "2022-05-15T16:46:37.619Z"
   },
   {
    "duration": 11,
    "start_time": "2022-05-15T16:46:37.899Z"
   },
   {
    "duration": 122,
    "start_time": "2022-05-15T16:46:37.912Z"
   },
   {
    "duration": 13,
    "start_time": "2022-05-15T16:46:38.036Z"
   },
   {
    "duration": 12,
    "start_time": "2022-05-15T16:46:38.051Z"
   },
   {
    "duration": 11,
    "start_time": "2022-05-15T16:46:38.068Z"
   },
   {
    "duration": 12,
    "start_time": "2022-05-15T16:46:38.081Z"
   },
   {
    "duration": 11,
    "start_time": "2022-05-15T16:46:38.095Z"
   },
   {
    "duration": 308,
    "start_time": "2022-05-15T16:46:38.108Z"
   },
   {
    "duration": 224,
    "start_time": "2022-05-15T16:46:38.418Z"
   },
   {
    "duration": 7,
    "start_time": "2022-05-15T16:46:38.645Z"
   },
   {
    "duration": 298,
    "start_time": "2022-05-15T16:46:38.654Z"
   },
   {
    "duration": 15,
    "start_time": "2022-05-15T16:46:38.954Z"
   },
   {
    "duration": 13,
    "start_time": "2022-05-15T16:46:38.971Z"
   },
   {
    "duration": 209,
    "start_time": "2022-05-15T16:46:38.986Z"
   },
   {
    "duration": 15,
    "start_time": "2022-05-15T16:46:39.197Z"
   },
   {
    "duration": 392,
    "start_time": "2022-05-15T16:46:39.215Z"
   },
   {
    "duration": 9,
    "start_time": "2022-05-15T16:46:39.609Z"
   },
   {
    "duration": 150,
    "start_time": "2022-05-15T16:46:39.620Z"
   },
   {
    "duration": 132,
    "start_time": "2022-05-15T16:46:39.772Z"
   },
   {
    "duration": 4,
    "start_time": "2022-05-15T16:46:39.906Z"
   },
   {
    "duration": 167,
    "start_time": "2022-05-15T16:46:39.912Z"
   },
   {
    "duration": 4,
    "start_time": "2022-05-15T16:46:40.081Z"
   },
   {
    "duration": 28,
    "start_time": "2022-05-15T16:46:40.087Z"
   },
   {
    "duration": 18,
    "start_time": "2022-05-15T16:46:40.117Z"
   },
   {
    "duration": 71,
    "start_time": "2022-05-15T16:46:40.136Z"
   },
   {
    "duration": 11,
    "start_time": "2022-05-15T16:46:40.209Z"
   },
   {
    "duration": 52,
    "start_time": "2022-05-15T16:46:40.221Z"
   },
   {
    "duration": 26,
    "start_time": "2022-05-15T16:46:40.275Z"
   },
   {
    "duration": 69,
    "start_time": "2022-05-15T16:46:40.303Z"
   },
   {
    "duration": 28,
    "start_time": "2022-05-15T16:46:40.374Z"
   },
   {
    "duration": 80,
    "start_time": "2022-05-15T16:46:40.404Z"
   },
   {
    "duration": 30,
    "start_time": "2022-05-15T16:46:40.486Z"
   },
   {
    "duration": 105,
    "start_time": "2022-05-15T16:46:40.517Z"
   },
   {
    "duration": 128,
    "start_time": "2022-05-15T16:46:40.624Z"
   },
   {
    "duration": 7,
    "start_time": "2022-05-15T16:46:40.753Z"
   },
   {
    "duration": 14,
    "start_time": "2022-05-15T16:46:40.761Z"
   },
   {
    "duration": 29,
    "start_time": "2022-05-15T16:46:40.777Z"
   },
   {
    "duration": 5,
    "start_time": "2022-05-15T16:46:40.808Z"
   },
   {
    "duration": 4,
    "start_time": "2022-05-15T16:46:40.815Z"
   },
   {
    "duration": 4,
    "start_time": "2022-05-15T16:46:40.844Z"
   },
   {
    "duration": 7,
    "start_time": "2022-05-15T16:46:40.850Z"
   },
   {
    "duration": 11,
    "start_time": "2022-05-15T16:46:40.858Z"
   },
   {
    "duration": 4,
    "start_time": "2022-05-15T16:46:40.871Z"
   },
   {
    "duration": 5,
    "start_time": "2022-05-15T16:46:40.877Z"
   },
   {
    "duration": 8,
    "start_time": "2022-05-15T16:46:40.884Z"
   },
   {
    "duration": 10,
    "start_time": "2022-05-15T16:46:40.893Z"
   },
   {
    "duration": 8,
    "start_time": "2022-05-15T16:46:40.905Z"
   },
   {
    "duration": 28,
    "start_time": "2022-05-15T16:46:40.915Z"
   },
   {
    "duration": 6,
    "start_time": "2022-05-15T16:46:40.945Z"
   },
   {
    "duration": 36,
    "start_time": "2022-05-15T16:46:40.953Z"
   },
   {
    "duration": 5,
    "start_time": "2022-05-15T16:46:40.991Z"
   },
   {
    "duration": 9,
    "start_time": "2022-05-15T16:46:40.998Z"
   },
   {
    "duration": 36,
    "start_time": "2022-05-15T16:46:41.009Z"
   },
   {
    "duration": 6,
    "start_time": "2022-05-15T16:46:41.047Z"
   },
   {
    "duration": 9,
    "start_time": "2022-05-15T16:46:41.055Z"
   },
   {
    "duration": 9,
    "start_time": "2022-05-15T16:46:41.066Z"
   },
   {
    "duration": 1863,
    "start_time": "2022-05-16T18:54:28.874Z"
   },
   {
    "duration": 19,
    "start_time": "2022-05-16T18:54:30.742Z"
   },
   {
    "duration": 19,
    "start_time": "2022-05-16T18:54:30.763Z"
   },
   {
    "duration": 23,
    "start_time": "2022-05-16T18:54:30.786Z"
   },
   {
    "duration": 16,
    "start_time": "2022-05-16T18:54:30.812Z"
   },
   {
    "duration": 48,
    "start_time": "2022-05-16T18:54:30.831Z"
   },
   {
    "duration": 39,
    "start_time": "2022-05-16T18:54:30.881Z"
   },
   {
    "duration": 36,
    "start_time": "2022-05-16T18:54:30.924Z"
   },
   {
    "duration": 59,
    "start_time": "2022-05-16T18:54:30.963Z"
   },
   {
    "duration": 69,
    "start_time": "2022-05-16T18:54:31.029Z"
   },
   {
    "duration": 14,
    "start_time": "2022-05-16T18:54:31.101Z"
   },
   {
    "duration": 25,
    "start_time": "2022-05-16T18:54:31.117Z"
   },
   {
    "duration": 18,
    "start_time": "2022-05-16T18:54:31.145Z"
   },
   {
    "duration": 20,
    "start_time": "2022-05-16T18:54:31.165Z"
   },
   {
    "duration": 26,
    "start_time": "2022-05-16T18:54:31.187Z"
   },
   {
    "duration": 20,
    "start_time": "2022-05-16T18:54:31.216Z"
   },
   {
    "duration": 53,
    "start_time": "2022-05-16T18:54:31.238Z"
   },
   {
    "duration": 23,
    "start_time": "2022-05-16T18:54:31.294Z"
   },
   {
    "duration": 31,
    "start_time": "2022-05-16T18:54:31.320Z"
   },
   {
    "duration": 27,
    "start_time": "2022-05-16T18:54:31.353Z"
   },
   {
    "duration": 32,
    "start_time": "2022-05-16T18:54:31.383Z"
   },
   {
    "duration": 26,
    "start_time": "2022-05-16T18:54:31.418Z"
   },
   {
    "duration": 328,
    "start_time": "2022-05-16T18:54:31.447Z"
   },
   {
    "duration": 13,
    "start_time": "2022-05-16T18:54:31.777Z"
   },
   {
    "duration": 217,
    "start_time": "2022-05-16T18:54:31.792Z"
   },
   {
    "duration": 46,
    "start_time": "2022-05-16T18:54:32.011Z"
   },
   {
    "duration": 9,
    "start_time": "2022-05-16T18:54:32.060Z"
   },
   {
    "duration": 14,
    "start_time": "2022-05-16T18:54:32.075Z"
   },
   {
    "duration": 16,
    "start_time": "2022-05-16T18:54:32.092Z"
   },
   {
    "duration": 46,
    "start_time": "2022-05-16T18:54:32.110Z"
   },
   {
    "duration": 814,
    "start_time": "2022-05-16T18:54:32.158Z"
   },
   {
    "duration": 598,
    "start_time": "2022-05-16T18:54:32.975Z"
   },
   {
    "duration": 8,
    "start_time": "2022-05-16T18:54:33.576Z"
   },
   {
    "duration": 866,
    "start_time": "2022-05-16T18:54:33.586Z"
   },
   {
    "duration": 15,
    "start_time": "2022-05-16T18:54:34.455Z"
   },
   {
    "duration": 32,
    "start_time": "2022-05-16T18:54:34.472Z"
   },
   {
    "duration": 611,
    "start_time": "2022-05-16T18:54:34.506Z"
   },
   {
    "duration": 48,
    "start_time": "2022-05-16T18:54:35.119Z"
   },
   {
    "duration": 481,
    "start_time": "2022-05-16T18:54:35.170Z"
   },
   {
    "duration": 12,
    "start_time": "2022-05-16T18:54:35.654Z"
   },
   {
    "duration": 365,
    "start_time": "2022-05-16T18:54:35.669Z"
   },
   {
    "duration": 307,
    "start_time": "2022-05-16T18:54:36.037Z"
   },
   {
    "duration": 7,
    "start_time": "2022-05-16T18:54:36.351Z"
   },
   {
    "duration": 247,
    "start_time": "2022-05-16T18:54:36.360Z"
   },
   {
    "duration": 5,
    "start_time": "2022-05-16T18:54:36.610Z"
   },
   {
    "duration": 36,
    "start_time": "2022-05-16T18:54:36.617Z"
   },
   {
    "duration": 13,
    "start_time": "2022-05-16T18:54:36.656Z"
   },
   {
    "duration": 182,
    "start_time": "2022-05-16T18:54:36.671Z"
   },
   {
    "duration": 9,
    "start_time": "2022-05-16T18:54:36.855Z"
   },
   {
    "duration": 131,
    "start_time": "2022-05-16T18:54:36.866Z"
   },
   {
    "duration": 43,
    "start_time": "2022-05-16T18:54:37.000Z"
   },
   {
    "duration": 97,
    "start_time": "2022-05-16T18:54:37.046Z"
   },
   {
    "duration": 31,
    "start_time": "2022-05-16T18:54:37.151Z"
   },
   {
    "duration": 110,
    "start_time": "2022-05-16T18:54:37.185Z"
   },
   {
    "duration": 63,
    "start_time": "2022-05-16T18:54:37.298Z"
   },
   {
    "duration": 238,
    "start_time": "2022-05-16T18:54:37.364Z"
   },
   {
    "duration": 236,
    "start_time": "2022-05-16T18:54:37.605Z"
   },
   {
    "duration": 16,
    "start_time": "2022-05-16T18:54:37.844Z"
   },
   {
    "duration": 19,
    "start_time": "2022-05-16T18:54:37.862Z"
   },
   {
    "duration": 74,
    "start_time": "2022-05-16T18:54:37.884Z"
   },
   {
    "duration": 7,
    "start_time": "2022-05-16T18:54:37.961Z"
   },
   {
    "duration": 26,
    "start_time": "2022-05-16T18:54:37.971Z"
   },
   {
    "duration": 15,
    "start_time": "2022-05-16T18:54:37.999Z"
   },
   {
    "duration": 9,
    "start_time": "2022-05-16T18:54:38.016Z"
   },
   {
    "duration": 29,
    "start_time": "2022-05-16T18:54:38.027Z"
   },
   {
    "duration": 6,
    "start_time": "2022-05-16T18:54:38.059Z"
   },
   {
    "duration": 9,
    "start_time": "2022-05-16T18:54:38.067Z"
   },
   {
    "duration": 25,
    "start_time": "2022-05-16T18:54:38.080Z"
   },
   {
    "duration": 17,
    "start_time": "2022-05-16T18:54:38.108Z"
   },
   {
    "duration": 38,
    "start_time": "2022-05-16T18:54:38.128Z"
   },
   {
    "duration": 16,
    "start_time": "2022-05-16T18:54:38.169Z"
   },
   {
    "duration": 17,
    "start_time": "2022-05-16T18:54:38.188Z"
   },
   {
    "duration": 62,
    "start_time": "2022-05-16T18:54:38.208Z"
   },
   {
    "duration": 7,
    "start_time": "2022-05-16T18:54:38.273Z"
   },
   {
    "duration": 32,
    "start_time": "2022-05-16T18:54:38.283Z"
   },
   {
    "duration": 36,
    "start_time": "2022-05-16T18:54:38.317Z"
   },
   {
    "duration": 32,
    "start_time": "2022-05-16T18:54:38.356Z"
   },
   {
    "duration": 20,
    "start_time": "2022-05-16T18:54:38.391Z"
   },
   {
    "duration": 23,
    "start_time": "2022-05-16T18:54:38.413Z"
   },
   {
    "duration": 80,
    "start_time": "2022-05-18T15:10:16.975Z"
   },
   {
    "duration": 1455,
    "start_time": "2022-05-18T15:10:29.158Z"
   },
   {
    "duration": 77,
    "start_time": "2022-05-18T15:10:30.615Z"
   },
   {
    "duration": 12,
    "start_time": "2022-05-18T15:10:30.694Z"
   },
   {
    "duration": 96,
    "start_time": "2022-05-18T15:10:30.708Z"
   },
   {
    "duration": 10,
    "start_time": "2022-05-18T15:10:30.805Z"
   },
   {
    "duration": 41,
    "start_time": "2022-05-18T15:10:30.817Z"
   },
   {
    "duration": 82,
    "start_time": "2022-05-18T15:10:30.860Z"
   },
   {
    "duration": 9,
    "start_time": "2022-05-18T15:10:30.944Z"
   },
   {
    "duration": 22,
    "start_time": "2022-05-18T15:10:30.956Z"
   },
   {
    "duration": 28,
    "start_time": "2022-05-18T15:10:30.982Z"
   },
   {
    "duration": 17,
    "start_time": "2022-05-18T15:10:31.012Z"
   },
   {
    "duration": 28,
    "start_time": "2022-05-18T15:10:31.031Z"
   },
   {
    "duration": 21,
    "start_time": "2022-05-18T15:10:31.060Z"
   },
   {
    "duration": 23,
    "start_time": "2022-05-18T15:10:31.083Z"
   },
   {
    "duration": 24,
    "start_time": "2022-05-18T15:10:31.108Z"
   },
   {
    "duration": 25,
    "start_time": "2022-05-18T15:10:31.134Z"
   },
   {
    "duration": 48,
    "start_time": "2022-05-18T15:10:31.161Z"
   },
   {
    "duration": 127,
    "start_time": "2022-05-18T15:10:31.211Z"
   },
   {
    "duration": 0,
    "start_time": "2022-05-18T15:10:31.342Z"
   },
   {
    "duration": 0,
    "start_time": "2022-05-18T15:10:31.345Z"
   },
   {
    "duration": 0,
    "start_time": "2022-05-18T15:10:31.346Z"
   },
   {
    "duration": 0,
    "start_time": "2022-05-18T15:10:31.347Z"
   },
   {
    "duration": 0,
    "start_time": "2022-05-18T15:10:31.349Z"
   },
   {
    "duration": 0,
    "start_time": "2022-05-18T15:10:31.350Z"
   },
   {
    "duration": 0,
    "start_time": "2022-05-18T15:10:31.351Z"
   },
   {
    "duration": 0,
    "start_time": "2022-05-18T15:10:31.352Z"
   },
   {
    "duration": 0,
    "start_time": "2022-05-18T15:10:31.353Z"
   },
   {
    "duration": 0,
    "start_time": "2022-05-18T15:10:31.354Z"
   },
   {
    "duration": 0,
    "start_time": "2022-05-18T15:10:31.355Z"
   },
   {
    "duration": 0,
    "start_time": "2022-05-18T15:10:31.356Z"
   },
   {
    "duration": 0,
    "start_time": "2022-05-18T15:10:31.375Z"
   },
   {
    "duration": 0,
    "start_time": "2022-05-18T15:10:31.376Z"
   },
   {
    "duration": 0,
    "start_time": "2022-05-18T15:10:31.378Z"
   },
   {
    "duration": 0,
    "start_time": "2022-05-18T15:10:31.379Z"
   },
   {
    "duration": 0,
    "start_time": "2022-05-18T15:10:31.380Z"
   },
   {
    "duration": 0,
    "start_time": "2022-05-18T15:10:31.382Z"
   },
   {
    "duration": 0,
    "start_time": "2022-05-18T15:10:31.383Z"
   },
   {
    "duration": 0,
    "start_time": "2022-05-18T15:10:31.385Z"
   },
   {
    "duration": 0,
    "start_time": "2022-05-18T15:10:31.386Z"
   },
   {
    "duration": 0,
    "start_time": "2022-05-18T15:10:31.387Z"
   },
   {
    "duration": 0,
    "start_time": "2022-05-18T15:10:31.392Z"
   },
   {
    "duration": 0,
    "start_time": "2022-05-18T15:10:31.393Z"
   },
   {
    "duration": 0,
    "start_time": "2022-05-18T15:10:31.394Z"
   },
   {
    "duration": 0,
    "start_time": "2022-05-18T15:10:31.395Z"
   },
   {
    "duration": 0,
    "start_time": "2022-05-18T15:10:31.396Z"
   },
   {
    "duration": 0,
    "start_time": "2022-05-18T15:10:31.401Z"
   },
   {
    "duration": 0,
    "start_time": "2022-05-18T15:10:31.402Z"
   },
   {
    "duration": 0,
    "start_time": "2022-05-18T15:10:31.402Z"
   },
   {
    "duration": 0,
    "start_time": "2022-05-18T15:10:31.403Z"
   },
   {
    "duration": 0,
    "start_time": "2022-05-18T15:10:31.405Z"
   },
   {
    "duration": 0,
    "start_time": "2022-05-18T15:10:31.407Z"
   },
   {
    "duration": 0,
    "start_time": "2022-05-18T15:10:31.409Z"
   },
   {
    "duration": 0,
    "start_time": "2022-05-18T15:10:31.411Z"
   },
   {
    "duration": 0,
    "start_time": "2022-05-18T15:10:31.412Z"
   },
   {
    "duration": 0,
    "start_time": "2022-05-18T15:10:31.413Z"
   },
   {
    "duration": 0,
    "start_time": "2022-05-18T15:10:31.414Z"
   },
   {
    "duration": 0,
    "start_time": "2022-05-18T15:10:31.416Z"
   },
   {
    "duration": 0,
    "start_time": "2022-05-18T15:10:31.417Z"
   },
   {
    "duration": 0,
    "start_time": "2022-05-18T15:10:31.475Z"
   },
   {
    "duration": 0,
    "start_time": "2022-05-18T15:10:31.476Z"
   },
   {
    "duration": 0,
    "start_time": "2022-05-18T15:10:31.478Z"
   },
   {
    "duration": 0,
    "start_time": "2022-05-18T15:10:31.479Z"
   },
   {
    "duration": 0,
    "start_time": "2022-05-18T15:10:31.481Z"
   },
   {
    "duration": 0,
    "start_time": "2022-05-18T15:10:31.482Z"
   },
   {
    "duration": 0,
    "start_time": "2022-05-18T15:10:31.484Z"
   },
   {
    "duration": 0,
    "start_time": "2022-05-18T15:10:31.486Z"
   },
   {
    "duration": 0,
    "start_time": "2022-05-18T15:10:31.487Z"
   },
   {
    "duration": 0,
    "start_time": "2022-05-18T15:10:31.488Z"
   },
   {
    "duration": 0,
    "start_time": "2022-05-18T15:10:31.489Z"
   },
   {
    "duration": 0,
    "start_time": "2022-05-18T15:10:31.490Z"
   },
   {
    "duration": 1,
    "start_time": "2022-05-18T15:10:31.491Z"
   },
   {
    "duration": 0,
    "start_time": "2022-05-18T15:10:31.493Z"
   },
   {
    "duration": 0,
    "start_time": "2022-05-18T15:10:31.494Z"
   },
   {
    "duration": 0,
    "start_time": "2022-05-18T15:10:31.495Z"
   },
   {
    "duration": 0,
    "start_time": "2022-05-18T15:10:31.496Z"
   },
   {
    "duration": 0,
    "start_time": "2022-05-18T15:10:31.498Z"
   },
   {
    "duration": 0,
    "start_time": "2022-05-18T15:10:31.499Z"
   },
   {
    "duration": 0,
    "start_time": "2022-05-18T15:10:31.500Z"
   },
   {
    "duration": 0,
    "start_time": "2022-05-18T15:10:31.501Z"
   },
   {
    "duration": 15,
    "start_time": "2022-05-18T15:11:17.621Z"
   },
   {
    "duration": 5,
    "start_time": "2022-05-18T15:18:18.059Z"
   },
   {
    "duration": 4,
    "start_time": "2022-05-18T15:21:07.326Z"
   },
   {
    "duration": 14,
    "start_time": "2022-05-18T15:21:15.693Z"
   },
   {
    "duration": 13,
    "start_time": "2022-05-18T15:21:35.959Z"
   },
   {
    "duration": 11,
    "start_time": "2022-05-18T15:21:36.528Z"
   },
   {
    "duration": 47,
    "start_time": "2022-05-18T15:22:18.992Z"
   },
   {
    "duration": 59,
    "start_time": "2022-05-18T15:22:20.634Z"
   },
   {
    "duration": 13,
    "start_time": "2022-05-18T15:27:32.584Z"
   },
   {
    "duration": 8,
    "start_time": "2022-05-18T15:27:41.322Z"
   },
   {
    "duration": 5,
    "start_time": "2022-05-18T15:28:51.582Z"
   },
   {
    "duration": 5,
    "start_time": "2022-05-18T15:29:11.722Z"
   },
   {
    "duration": 8,
    "start_time": "2022-05-18T15:32:07.704Z"
   },
   {
    "duration": 10,
    "start_time": "2022-05-18T15:32:25.146Z"
   },
   {
    "duration": 239,
    "start_time": "2022-05-18T15:35:12.572Z"
   },
   {
    "duration": 701,
    "start_time": "2022-05-18T15:35:20.804Z"
   },
   {
    "duration": 270,
    "start_time": "2022-05-18T15:35:35.068Z"
   },
   {
    "duration": 6,
    "start_time": "2022-05-18T15:36:21.667Z"
   },
   {
    "duration": 10,
    "start_time": "2022-05-18T15:36:31.332Z"
   },
   {
    "duration": 7,
    "start_time": "2022-05-18T15:37:14.079Z"
   },
   {
    "duration": 9,
    "start_time": "2022-05-18T15:40:55.935Z"
   },
   {
    "duration": 9,
    "start_time": "2022-05-18T15:41:04.872Z"
   },
   {
    "duration": 8,
    "start_time": "2022-05-18T15:41:12.595Z"
   },
   {
    "duration": 7,
    "start_time": "2022-05-18T15:42:05.718Z"
   },
   {
    "duration": 7,
    "start_time": "2022-05-18T15:42:25.772Z"
   },
   {
    "duration": 8,
    "start_time": "2022-05-18T15:44:14.924Z"
   },
   {
    "duration": 8,
    "start_time": "2022-05-18T15:44:55.688Z"
   },
   {
    "duration": 10,
    "start_time": "2022-05-18T15:46:58.439Z"
   },
   {
    "duration": 10,
    "start_time": "2022-05-18T15:47:15.213Z"
   },
   {
    "duration": 14,
    "start_time": "2022-05-18T15:48:28.145Z"
   },
   {
    "duration": 37,
    "start_time": "2022-05-18T15:49:31.601Z"
   },
   {
    "duration": 19,
    "start_time": "2022-05-18T15:49:52.309Z"
   },
   {
    "duration": 17,
    "start_time": "2022-05-18T15:49:57.973Z"
   },
   {
    "duration": 17,
    "start_time": "2022-05-18T15:51:21.579Z"
   },
   {
    "duration": 16,
    "start_time": "2022-05-18T15:51:26.236Z"
   },
   {
    "duration": 19,
    "start_time": "2022-05-18T15:51:39.918Z"
   },
   {
    "duration": 9,
    "start_time": "2022-05-18T15:59:32.187Z"
   },
   {
    "duration": 11,
    "start_time": "2022-05-18T15:59:32.790Z"
   },
   {
    "duration": 223,
    "start_time": "2022-05-18T15:59:33.472Z"
   },
   {
    "duration": 13,
    "start_time": "2022-05-18T15:59:34.178Z"
   },
   {
    "duration": 174,
    "start_time": "2022-05-18T15:59:34.702Z"
   },
   {
    "duration": 9,
    "start_time": "2022-05-18T15:59:35.358Z"
   },
   {
    "duration": 8,
    "start_time": "2022-05-18T15:59:36.006Z"
   },
   {
    "duration": 11,
    "start_time": "2022-05-18T15:59:36.977Z"
   },
   {
    "duration": 13,
    "start_time": "2022-05-18T15:59:37.705Z"
   },
   {
    "duration": 11,
    "start_time": "2022-05-18T15:59:38.424Z"
   },
   {
    "duration": 799,
    "start_time": "2022-05-18T15:59:54.849Z"
   },
   {
    "duration": 212,
    "start_time": "2022-05-18T16:00:13.574Z"
   },
   {
    "duration": 243,
    "start_time": "2022-05-18T16:00:28.317Z"
   },
   {
    "duration": 10,
    "start_time": "2022-05-18T16:00:30.681Z"
   },
   {
    "duration": 397,
    "start_time": "2022-05-18T16:00:31.294Z"
   },
   {
    "duration": 16,
    "start_time": "2022-05-18T16:00:34.014Z"
   },
   {
    "duration": 5,
    "start_time": "2022-05-18T16:00:34.639Z"
   },
   {
    "duration": 281,
    "start_time": "2022-05-18T16:00:35.328Z"
   },
   {
    "duration": 22,
    "start_time": "2022-05-18T16:00:38.181Z"
   },
   {
    "duration": 349,
    "start_time": "2022-05-18T16:00:38.807Z"
   },
   {
    "duration": 14,
    "start_time": "2022-05-18T16:00:41.462Z"
   },
   {
    "duration": 167,
    "start_time": "2022-05-18T16:00:42.116Z"
   },
   {
    "duration": 194,
    "start_time": "2022-05-18T16:00:43.088Z"
   },
   {
    "duration": 4,
    "start_time": "2022-05-18T16:00:45.357Z"
   },
   {
    "duration": 158,
    "start_time": "2022-05-18T16:00:47.854Z"
   },
   {
    "duration": 5,
    "start_time": "2022-05-18T16:00:50.020Z"
   },
   {
    "duration": 166,
    "start_time": "2022-05-18T16:04:34.356Z"
   },
   {
    "duration": 158,
    "start_time": "2022-05-18T16:04:46.452Z"
   },
   {
    "duration": 99,
    "start_time": "2022-05-18T16:05:02.435Z"
   },
   {
    "duration": 268,
    "start_time": "2022-05-18T16:05:13.127Z"
   },
   {
    "duration": 7,
    "start_time": "2022-05-18T16:05:47.821Z"
   },
   {
    "duration": 17,
    "start_time": "2022-05-18T16:06:00.436Z"
   },
   {
    "duration": 43,
    "start_time": "2022-05-18T16:07:12.594Z"
   },
   {
    "duration": 50,
    "start_time": "2022-05-18T16:07:24.682Z"
   },
   {
    "duration": 7,
    "start_time": "2022-05-18T16:07:32.434Z"
   },
   {
    "duration": 106,
    "start_time": "2022-05-18T16:07:37.204Z"
   },
   {
    "duration": 147,
    "start_time": "2022-05-18T16:09:03.602Z"
   },
   {
    "duration": 143,
    "start_time": "2022-05-18T16:10:22.474Z"
   },
   {
    "duration": 123,
    "start_time": "2022-05-18T16:10:35.130Z"
   },
   {
    "duration": 10,
    "start_time": "2022-05-18T16:11:35.548Z"
   },
   {
    "duration": 15,
    "start_time": "2022-05-18T16:11:35.772Z"
   },
   {
    "duration": 72,
    "start_time": "2022-05-18T16:11:36.349Z"
   },
   {
    "duration": 6,
    "start_time": "2022-05-18T16:11:36.933Z"
   },
   {
    "duration": 89,
    "start_time": "2022-05-18T16:11:37.325Z"
   },
   {
    "duration": 21,
    "start_time": "2022-05-18T16:11:37.816Z"
   },
   {
    "duration": 57,
    "start_time": "2022-05-18T16:11:38.395Z"
   },
   {
    "duration": 20,
    "start_time": "2022-05-18T16:11:38.823Z"
   },
   {
    "duration": 68,
    "start_time": "2022-05-18T16:11:39.277Z"
   },
   {
    "duration": 31,
    "start_time": "2022-05-18T16:11:39.844Z"
   },
   {
    "duration": 86,
    "start_time": "2022-05-18T16:12:04.831Z"
   },
   {
    "duration": 123,
    "start_time": "2022-05-18T16:12:09.331Z"
   },
   {
    "duration": 8,
    "start_time": "2022-05-18T16:12:12.268Z"
   },
   {
    "duration": 9,
    "start_time": "2022-05-18T16:12:13.014Z"
   },
   {
    "duration": 31,
    "start_time": "2022-05-18T16:14:30.319Z"
   },
   {
    "duration": 5,
    "start_time": "2022-05-18T16:14:31.467Z"
   },
   {
    "duration": 5,
    "start_time": "2022-05-18T16:14:32.392Z"
   },
   {
    "duration": 5,
    "start_time": "2022-05-18T16:28:38.366Z"
   },
   {
    "duration": 7,
    "start_time": "2022-05-18T16:28:38.869Z"
   },
   {
    "duration": 8,
    "start_time": "2022-05-18T16:28:39.461Z"
   },
   {
    "duration": 6,
    "start_time": "2022-05-18T16:28:40.194Z"
   },
   {
    "duration": 4,
    "start_time": "2022-05-18T16:28:40.938Z"
   },
   {
    "duration": 4,
    "start_time": "2022-05-18T16:41:07.026Z"
   },
   {
    "duration": 5,
    "start_time": "2022-05-18T16:41:17.918Z"
   },
   {
    "duration": 1392,
    "start_time": "2022-05-19T06:40:19.431Z"
   },
   {
    "duration": 36,
    "start_time": "2022-05-19T06:40:20.825Z"
   },
   {
    "duration": 11,
    "start_time": "2022-05-19T06:40:20.863Z"
   },
   {
    "duration": 40,
    "start_time": "2022-05-19T06:40:20.875Z"
   },
   {
    "duration": 8,
    "start_time": "2022-05-19T06:40:20.918Z"
   },
   {
    "duration": 12,
    "start_time": "2022-05-19T06:40:20.928Z"
   },
   {
    "duration": 38,
    "start_time": "2022-05-19T06:40:20.942Z"
   },
   {
    "duration": 7,
    "start_time": "2022-05-19T06:40:20.982Z"
   },
   {
    "duration": 16,
    "start_time": "2022-05-19T06:40:20.991Z"
   },
   {
    "duration": 11,
    "start_time": "2022-05-19T06:40:21.008Z"
   },
   {
    "duration": 8,
    "start_time": "2022-05-19T06:40:21.021Z"
   },
   {
    "duration": 8,
    "start_time": "2022-05-19T06:40:21.030Z"
   },
   {
    "duration": 6,
    "start_time": "2022-05-19T06:40:21.039Z"
   },
   {
    "duration": 18,
    "start_time": "2022-05-19T06:40:21.048Z"
   },
   {
    "duration": 16,
    "start_time": "2022-05-19T06:40:21.068Z"
   },
   {
    "duration": 7,
    "start_time": "2022-05-19T06:40:21.085Z"
   },
   {
    "duration": 20,
    "start_time": "2022-05-19T06:40:21.094Z"
   },
   {
    "duration": 5,
    "start_time": "2022-05-19T06:40:21.116Z"
   },
   {
    "duration": 14,
    "start_time": "2022-05-19T06:40:21.122Z"
   },
   {
    "duration": 37,
    "start_time": "2022-05-19T06:40:21.138Z"
   },
   {
    "duration": 15,
    "start_time": "2022-05-19T06:40:21.177Z"
   },
   {
    "duration": 10,
    "start_time": "2022-05-19T06:40:21.194Z"
   },
   {
    "duration": 4,
    "start_time": "2022-05-19T06:40:21.206Z"
   },
   {
    "duration": 7,
    "start_time": "2022-05-19T06:40:21.211Z"
   },
   {
    "duration": 10,
    "start_time": "2022-05-19T06:40:21.220Z"
   },
   {
    "duration": 42,
    "start_time": "2022-05-19T06:40:21.232Z"
   },
   {
    "duration": 6,
    "start_time": "2022-05-19T06:40:21.276Z"
   },
   {
    "duration": 25,
    "start_time": "2022-05-19T06:40:21.284Z"
   },
   {
    "duration": 6,
    "start_time": "2022-05-19T06:40:21.310Z"
   },
   {
    "duration": 20,
    "start_time": "2022-05-19T06:40:21.318Z"
   },
   {
    "duration": 206,
    "start_time": "2022-05-19T06:40:21.340Z"
   },
   {
    "duration": 9,
    "start_time": "2022-05-19T06:40:21.548Z"
   },
   {
    "duration": 137,
    "start_time": "2022-05-19T06:40:21.564Z"
   },
   {
    "duration": 12,
    "start_time": "2022-05-19T06:40:21.703Z"
   },
   {
    "duration": 11,
    "start_time": "2022-05-19T06:40:21.717Z"
   },
   {
    "duration": 12,
    "start_time": "2022-05-19T06:40:21.730Z"
   },
   {
    "duration": 27,
    "start_time": "2022-05-19T06:40:21.743Z"
   },
   {
    "duration": 15,
    "start_time": "2022-05-19T06:40:21.771Z"
   },
   {
    "duration": 331,
    "start_time": "2022-05-19T06:40:21.788Z"
   },
   {
    "duration": 278,
    "start_time": "2022-05-19T06:40:22.121Z"
   },
   {
    "duration": 5,
    "start_time": "2022-05-19T06:40:22.404Z"
   },
   {
    "duration": 338,
    "start_time": "2022-05-19T06:40:22.411Z"
   },
   {
    "duration": 14,
    "start_time": "2022-05-19T06:40:22.751Z"
   },
   {
    "duration": 7,
    "start_time": "2022-05-19T06:40:22.767Z"
   },
   {
    "duration": 264,
    "start_time": "2022-05-19T06:40:22.776Z"
   },
   {
    "duration": 24,
    "start_time": "2022-05-19T06:40:23.042Z"
   },
   {
    "duration": 329,
    "start_time": "2022-05-19T06:40:23.067Z"
   },
   {
    "duration": 8,
    "start_time": "2022-05-19T06:40:23.398Z"
   },
   {
    "duration": 142,
    "start_time": "2022-05-19T06:40:23.408Z"
   },
   {
    "duration": 147,
    "start_time": "2022-05-19T06:40:23.552Z"
   },
   {
    "duration": 4,
    "start_time": "2022-05-19T06:40:23.702Z"
   },
   {
    "duration": 161,
    "start_time": "2022-05-19T06:40:23.708Z"
   },
   {
    "duration": 5,
    "start_time": "2022-05-19T06:40:23.871Z"
   },
   {
    "duration": 22,
    "start_time": "2022-05-19T06:40:23.878Z"
   },
   {
    "duration": 118,
    "start_time": "2022-05-19T06:40:23.902Z"
   },
   {
    "duration": 137,
    "start_time": "2022-05-19T06:40:24.021Z"
   },
   {
    "duration": 8,
    "start_time": "2022-05-19T06:40:24.164Z"
   },
   {
    "duration": 14,
    "start_time": "2022-05-19T06:40:24.174Z"
   },
   {
    "duration": 52,
    "start_time": "2022-05-19T06:40:24.189Z"
   },
   {
    "duration": 23,
    "start_time": "2022-05-19T06:40:24.242Z"
   },
   {
    "duration": 54,
    "start_time": "2022-05-19T06:40:24.266Z"
   },
   {
    "duration": 19,
    "start_time": "2022-05-19T06:40:24.322Z"
   },
   {
    "duration": 73,
    "start_time": "2022-05-19T06:40:24.343Z"
   },
   {
    "duration": 20,
    "start_time": "2022-05-19T06:40:24.418Z"
   },
   {
    "duration": 86,
    "start_time": "2022-05-19T06:40:24.439Z"
   },
   {
    "duration": 20,
    "start_time": "2022-05-19T06:40:24.527Z"
   },
   {
    "duration": 82,
    "start_time": "2022-05-19T06:40:24.564Z"
   },
   {
    "duration": 119,
    "start_time": "2022-05-19T06:40:24.647Z"
   },
   {
    "duration": 7,
    "start_time": "2022-05-19T06:40:24.768Z"
   },
   {
    "duration": 7,
    "start_time": "2022-05-19T06:40:24.776Z"
   },
   {
    "duration": 30,
    "start_time": "2022-05-19T06:40:24.784Z"
   },
   {
    "duration": 4,
    "start_time": "2022-05-19T06:40:24.816Z"
   },
   {
    "duration": 5,
    "start_time": "2022-05-19T06:40:24.822Z"
   },
   {
    "duration": 42,
    "start_time": "2022-05-19T06:40:24.828Z"
   },
   {
    "duration": 6,
    "start_time": "2022-05-19T06:40:24.871Z"
   },
   {
    "duration": 9,
    "start_time": "2022-05-19T06:40:24.879Z"
   },
   {
    "duration": 12,
    "start_time": "2022-05-19T06:40:24.889Z"
   },
   {
    "duration": 8,
    "start_time": "2022-05-19T06:40:24.903Z"
   },
   {
    "duration": 8,
    "start_time": "2022-05-19T06:40:24.913Z"
   },
   {
    "duration": 151,
    "start_time": "2022-05-19T06:40:24.923Z"
   },
   {
    "duration": 0,
    "start_time": "2022-05-19T06:40:25.076Z"
   },
   {
    "duration": 0,
    "start_time": "2022-05-19T06:40:25.077Z"
   },
   {
    "duration": 0,
    "start_time": "2022-05-19T06:40:25.078Z"
   },
   {
    "duration": 0,
    "start_time": "2022-05-19T06:40:25.079Z"
   },
   {
    "duration": 0,
    "start_time": "2022-05-19T06:40:25.080Z"
   },
   {
    "duration": 0,
    "start_time": "2022-05-19T06:40:25.081Z"
   },
   {
    "duration": 0,
    "start_time": "2022-05-19T06:40:25.083Z"
   },
   {
    "duration": 0,
    "start_time": "2022-05-19T06:40:25.084Z"
   },
   {
    "duration": 0,
    "start_time": "2022-05-19T06:40:25.085Z"
   },
   {
    "duration": 0,
    "start_time": "2022-05-19T06:40:25.086Z"
   },
   {
    "duration": 0,
    "start_time": "2022-05-19T06:40:25.088Z"
   },
   {
    "duration": 0,
    "start_time": "2022-05-19T06:40:25.089Z"
   },
   {
    "duration": 0,
    "start_time": "2022-05-19T06:40:25.090Z"
   },
   {
    "duration": 14,
    "start_time": "2022-05-19T06:40:53.659Z"
   },
   {
    "duration": 11,
    "start_time": "2022-05-19T06:42:18.612Z"
   },
   {
    "duration": 4,
    "start_time": "2022-05-19T06:44:00.508Z"
   },
   {
    "duration": 5,
    "start_time": "2022-05-19T06:44:31.508Z"
   },
   {
    "duration": 5,
    "start_time": "2022-05-19T06:44:35.199Z"
   },
   {
    "duration": 5,
    "start_time": "2022-05-19T06:45:10.533Z"
   },
   {
    "duration": 15,
    "start_time": "2022-05-19T06:45:10.943Z"
   },
   {
    "duration": 15,
    "start_time": "2022-05-19T06:45:54.908Z"
   },
   {
    "duration": 7,
    "start_time": "2022-05-19T06:46:24.511Z"
   },
   {
    "duration": 4,
    "start_time": "2022-05-19T06:47:29.853Z"
   },
   {
    "duration": 4,
    "start_time": "2022-05-19T06:47:58.668Z"
   },
   {
    "duration": 14,
    "start_time": "2022-05-19T06:48:11.657Z"
   },
   {
    "duration": 13,
    "start_time": "2022-05-19T06:57:43.466Z"
   },
   {
    "duration": 5,
    "start_time": "2022-05-19T06:58:17.275Z"
   },
   {
    "duration": 4,
    "start_time": "2022-05-19T06:58:22.060Z"
   },
   {
    "duration": 5,
    "start_time": "2022-05-19T06:58:37.019Z"
   },
   {
    "duration": 3,
    "start_time": "2022-05-19T06:58:44.201Z"
   },
   {
    "duration": 12,
    "start_time": "2022-05-19T06:58:46.546Z"
   },
   {
    "duration": 1202,
    "start_time": "2022-05-19T07:00:58.176Z"
   },
   {
    "duration": 16,
    "start_time": "2022-05-19T07:00:59.380Z"
   },
   {
    "duration": 11,
    "start_time": "2022-05-19T07:00:59.397Z"
   },
   {
    "duration": 21,
    "start_time": "2022-05-19T07:00:59.410Z"
   },
   {
    "duration": 8,
    "start_time": "2022-05-19T07:00:59.433Z"
   },
   {
    "duration": 15,
    "start_time": "2022-05-19T07:00:59.442Z"
   },
   {
    "duration": 23,
    "start_time": "2022-05-19T07:00:59.458Z"
   },
   {
    "duration": 8,
    "start_time": "2022-05-19T07:00:59.482Z"
   },
   {
    "duration": 15,
    "start_time": "2022-05-19T07:00:59.492Z"
   },
   {
    "duration": 14,
    "start_time": "2022-05-19T07:00:59.510Z"
   },
   {
    "duration": 7,
    "start_time": "2022-05-19T07:00:59.526Z"
   },
   {
    "duration": 8,
    "start_time": "2022-05-19T07:00:59.535Z"
   },
   {
    "duration": 5,
    "start_time": "2022-05-19T07:00:59.545Z"
   },
   {
    "duration": 3,
    "start_time": "2022-05-19T07:00:59.565Z"
   },
   {
    "duration": 16,
    "start_time": "2022-05-19T07:00:59.570Z"
   },
   {
    "duration": 9,
    "start_time": "2022-05-19T07:00:59.588Z"
   },
   {
    "duration": 23,
    "start_time": "2022-05-19T07:00:59.598Z"
   },
   {
    "duration": 6,
    "start_time": "2022-05-19T07:00:59.623Z"
   },
   {
    "duration": 12,
    "start_time": "2022-05-19T07:00:59.631Z"
   },
   {
    "duration": 30,
    "start_time": "2022-05-19T07:00:59.645Z"
   },
   {
    "duration": 11,
    "start_time": "2022-05-19T07:00:59.677Z"
   },
   {
    "duration": 13,
    "start_time": "2022-05-19T07:00:59.690Z"
   },
   {
    "duration": 9,
    "start_time": "2022-05-19T07:00:59.704Z"
   },
   {
    "duration": 6,
    "start_time": "2022-05-19T07:00:59.714Z"
   },
   {
    "duration": 7,
    "start_time": "2022-05-19T07:00:59.722Z"
   },
   {
    "duration": 35,
    "start_time": "2022-05-19T07:00:59.731Z"
   },
   {
    "duration": 6,
    "start_time": "2022-05-19T07:00:59.767Z"
   },
   {
    "duration": 15,
    "start_time": "2022-05-19T07:00:59.777Z"
   },
   {
    "duration": 5,
    "start_time": "2022-05-19T07:00:59.793Z"
   },
   {
    "duration": 9,
    "start_time": "2022-05-19T07:00:59.800Z"
   },
   {
    "duration": 231,
    "start_time": "2022-05-19T07:00:59.811Z"
   },
   {
    "duration": 8,
    "start_time": "2022-05-19T07:01:00.044Z"
   },
   {
    "duration": 153,
    "start_time": "2022-05-19T07:01:00.054Z"
   },
   {
    "duration": 8,
    "start_time": "2022-05-19T07:01:00.209Z"
   },
   {
    "duration": 23,
    "start_time": "2022-05-19T07:01:00.219Z"
   },
   {
    "duration": 26,
    "start_time": "2022-05-19T07:01:00.244Z"
   },
   {
    "duration": 39,
    "start_time": "2022-05-19T07:01:00.271Z"
   },
   {
    "duration": 19,
    "start_time": "2022-05-19T07:01:00.312Z"
   },
   {
    "duration": 359,
    "start_time": "2022-05-19T07:01:00.333Z"
   },
   {
    "duration": 302,
    "start_time": "2022-05-19T07:01:00.694Z"
   },
   {
    "duration": 7,
    "start_time": "2022-05-19T07:01:00.998Z"
   },
   {
    "duration": 374,
    "start_time": "2022-05-19T07:01:01.006Z"
   },
   {
    "duration": 12,
    "start_time": "2022-05-19T07:01:01.382Z"
   },
   {
    "duration": 48,
    "start_time": "2022-05-19T07:01:01.396Z"
   },
   {
    "duration": 243,
    "start_time": "2022-05-19T07:01:01.446Z"
   },
   {
    "duration": 14,
    "start_time": "2022-05-19T07:01:01.690Z"
   },
   {
    "duration": 346,
    "start_time": "2022-05-19T07:01:01.706Z"
   },
   {
    "duration": 13,
    "start_time": "2022-05-19T07:01:02.054Z"
   },
   {
    "duration": 149,
    "start_time": "2022-05-19T07:01:02.068Z"
   },
   {
    "duration": 155,
    "start_time": "2022-05-19T07:01:02.219Z"
   },
   {
    "duration": 4,
    "start_time": "2022-05-19T07:01:02.376Z"
   },
   {
    "duration": 164,
    "start_time": "2022-05-19T07:01:02.382Z"
   },
   {
    "duration": 5,
    "start_time": "2022-05-19T07:01:02.548Z"
   },
   {
    "duration": 25,
    "start_time": "2022-05-19T07:01:02.566Z"
   },
   {
    "duration": 119,
    "start_time": "2022-05-19T07:01:02.593Z"
   },
   {
    "duration": 145,
    "start_time": "2022-05-19T07:01:02.714Z"
   },
   {
    "duration": 9,
    "start_time": "2022-05-19T07:01:02.865Z"
   },
   {
    "duration": 15,
    "start_time": "2022-05-19T07:01:02.876Z"
   },
   {
    "duration": 73,
    "start_time": "2022-05-19T07:01:02.892Z"
   },
   {
    "duration": 5,
    "start_time": "2022-05-19T07:01:02.967Z"
   },
   {
    "duration": 61,
    "start_time": "2022-05-19T07:01:02.974Z"
   },
   {
    "duration": 32,
    "start_time": "2022-05-19T07:01:03.037Z"
   },
   {
    "duration": 60,
    "start_time": "2022-05-19T07:01:03.071Z"
   },
   {
    "duration": 44,
    "start_time": "2022-05-19T07:01:03.133Z"
   },
   {
    "duration": 58,
    "start_time": "2022-05-19T07:01:03.180Z"
   },
   {
    "duration": 44,
    "start_time": "2022-05-19T07:01:03.240Z"
   },
   {
    "duration": 88,
    "start_time": "2022-05-19T07:01:03.286Z"
   },
   {
    "duration": 92,
    "start_time": "2022-05-19T07:01:03.376Z"
   },
   {
    "duration": 7,
    "start_time": "2022-05-19T07:01:03.470Z"
   },
   {
    "duration": 12,
    "start_time": "2022-05-19T07:01:03.478Z"
   },
   {
    "duration": 31,
    "start_time": "2022-05-19T07:01:03.492Z"
   },
   {
    "duration": 5,
    "start_time": "2022-05-19T07:01:03.524Z"
   },
   {
    "duration": 34,
    "start_time": "2022-05-19T07:01:03.530Z"
   },
   {
    "duration": 11,
    "start_time": "2022-05-19T07:01:03.566Z"
   },
   {
    "duration": 9,
    "start_time": "2022-05-19T07:01:03.579Z"
   },
   {
    "duration": 8,
    "start_time": "2022-05-19T07:01:03.590Z"
   },
   {
    "duration": 12,
    "start_time": "2022-05-19T07:01:03.601Z"
   },
   {
    "duration": 7,
    "start_time": "2022-05-19T07:01:03.615Z"
   },
   {
    "duration": 6,
    "start_time": "2022-05-19T07:01:03.624Z"
   },
   {
    "duration": 9,
    "start_time": "2022-05-19T07:01:03.632Z"
   },
   {
    "duration": 25,
    "start_time": "2022-05-19T07:01:03.643Z"
   },
   {
    "duration": 11,
    "start_time": "2022-05-19T07:01:03.674Z"
   },
   {
    "duration": 127,
    "start_time": "2022-05-19T07:01:03.687Z"
   },
   {
    "duration": 0,
    "start_time": "2022-05-19T07:01:03.815Z"
   },
   {
    "duration": 0,
    "start_time": "2022-05-19T07:01:03.817Z"
   },
   {
    "duration": 0,
    "start_time": "2022-05-19T07:01:03.818Z"
   },
   {
    "duration": 0,
    "start_time": "2022-05-19T07:01:03.819Z"
   },
   {
    "duration": 0,
    "start_time": "2022-05-19T07:01:03.820Z"
   },
   {
    "duration": 0,
    "start_time": "2022-05-19T07:01:03.821Z"
   },
   {
    "duration": 0,
    "start_time": "2022-05-19T07:01:03.822Z"
   },
   {
    "duration": 0,
    "start_time": "2022-05-19T07:01:03.823Z"
   },
   {
    "duration": 0,
    "start_time": "2022-05-19T07:01:03.824Z"
   },
   {
    "duration": 0,
    "start_time": "2022-05-19T07:01:03.825Z"
   },
   {
    "duration": 0,
    "start_time": "2022-05-19T07:01:03.826Z"
   },
   {
    "duration": 6,
    "start_time": "2022-05-19T07:03:39.481Z"
   },
   {
    "duration": 6,
    "start_time": "2022-05-19T07:03:43.287Z"
   },
   {
    "duration": 4,
    "start_time": "2022-05-19T07:03:43.935Z"
   },
   {
    "duration": 18,
    "start_time": "2022-05-19T07:03:44.742Z"
   },
   {
    "duration": 13,
    "start_time": "2022-05-19T07:04:14.487Z"
   },
   {
    "duration": 9,
    "start_time": "2022-05-19T07:05:18.478Z"
   },
   {
    "duration": 73,
    "start_time": "2022-05-19T07:06:44.712Z"
   },
   {
    "duration": 1231,
    "start_time": "2022-05-19T07:07:04.059Z"
   },
   {
    "duration": 16,
    "start_time": "2022-05-19T07:07:05.293Z"
   },
   {
    "duration": 12,
    "start_time": "2022-05-19T07:07:05.311Z"
   },
   {
    "duration": 21,
    "start_time": "2022-05-19T07:07:05.325Z"
   },
   {
    "duration": 8,
    "start_time": "2022-05-19T07:07:05.348Z"
   },
   {
    "duration": 13,
    "start_time": "2022-05-19T07:07:05.358Z"
   },
   {
    "duration": 14,
    "start_time": "2022-05-19T07:07:05.373Z"
   },
   {
    "duration": 8,
    "start_time": "2022-05-19T07:07:05.389Z"
   },
   {
    "duration": 24,
    "start_time": "2022-05-19T07:07:05.398Z"
   },
   {
    "duration": 11,
    "start_time": "2022-05-19T07:07:05.425Z"
   },
   {
    "duration": 7,
    "start_time": "2022-05-19T07:07:05.437Z"
   },
   {
    "duration": 19,
    "start_time": "2022-05-19T07:07:05.446Z"
   },
   {
    "duration": 6,
    "start_time": "2022-05-19T07:07:05.466Z"
   },
   {
    "duration": 7,
    "start_time": "2022-05-19T07:07:05.474Z"
   },
   {
    "duration": 17,
    "start_time": "2022-05-19T07:07:05.483Z"
   },
   {
    "duration": 10,
    "start_time": "2022-05-19T07:07:05.502Z"
   },
   {
    "duration": 26,
    "start_time": "2022-05-19T07:07:05.514Z"
   },
   {
    "duration": 9,
    "start_time": "2022-05-19T07:07:05.542Z"
   },
   {
    "duration": 15,
    "start_time": "2022-05-19T07:07:05.553Z"
   },
   {
    "duration": 17,
    "start_time": "2022-05-19T07:07:05.570Z"
   },
   {
    "duration": 15,
    "start_time": "2022-05-19T07:07:05.588Z"
   },
   {
    "duration": 14,
    "start_time": "2022-05-19T07:07:05.605Z"
   },
   {
    "duration": 5,
    "start_time": "2022-05-19T07:07:05.621Z"
   },
   {
    "duration": 9,
    "start_time": "2022-05-19T07:07:05.628Z"
   },
   {
    "duration": 31,
    "start_time": "2022-05-19T07:07:05.639Z"
   },
   {
    "duration": 11,
    "start_time": "2022-05-19T07:07:05.672Z"
   },
   {
    "duration": 6,
    "start_time": "2022-05-19T07:07:05.685Z"
   },
   {
    "duration": 16,
    "start_time": "2022-05-19T07:07:05.695Z"
   },
   {
    "duration": 6,
    "start_time": "2022-05-19T07:07:05.712Z"
   },
   {
    "duration": 47,
    "start_time": "2022-05-19T07:07:05.719Z"
   },
   {
    "duration": 211,
    "start_time": "2022-05-19T07:07:05.768Z"
   },
   {
    "duration": 10,
    "start_time": "2022-05-19T07:07:05.981Z"
   },
   {
    "duration": 141,
    "start_time": "2022-05-19T07:07:05.992Z"
   },
   {
    "duration": 8,
    "start_time": "2022-05-19T07:07:06.135Z"
   },
   {
    "duration": 22,
    "start_time": "2022-05-19T07:07:06.145Z"
   },
   {
    "duration": 22,
    "start_time": "2022-05-19T07:07:06.169Z"
   },
   {
    "duration": 16,
    "start_time": "2022-05-19T07:07:06.192Z"
   },
   {
    "duration": 11,
    "start_time": "2022-05-19T07:07:06.210Z"
   },
   {
    "duration": 344,
    "start_time": "2022-05-19T07:07:06.223Z"
   },
   {
    "duration": 294,
    "start_time": "2022-05-19T07:07:06.569Z"
   },
   {
    "duration": 7,
    "start_time": "2022-05-19T07:07:06.864Z"
   },
   {
    "duration": 320,
    "start_time": "2022-05-19T07:07:06.872Z"
   },
   {
    "duration": 12,
    "start_time": "2022-05-19T07:07:07.194Z"
   },
   {
    "duration": 7,
    "start_time": "2022-05-19T07:07:07.207Z"
   },
   {
    "duration": 248,
    "start_time": "2022-05-19T07:07:07.216Z"
   },
   {
    "duration": 16,
    "start_time": "2022-05-19T07:07:07.466Z"
   },
   {
    "duration": 331,
    "start_time": "2022-05-19T07:07:07.484Z"
   },
   {
    "duration": 9,
    "start_time": "2022-05-19T07:07:07.817Z"
   },
   {
    "duration": 146,
    "start_time": "2022-05-19T07:07:07.827Z"
   },
   {
    "duration": 157,
    "start_time": "2022-05-19T07:07:07.975Z"
   },
   {
    "duration": 5,
    "start_time": "2022-05-19T07:07:08.133Z"
   },
   {
    "duration": 161,
    "start_time": "2022-05-19T07:07:08.140Z"
   },
   {
    "duration": 4,
    "start_time": "2022-05-19T07:07:08.303Z"
   },
   {
    "duration": 22,
    "start_time": "2022-05-19T07:07:08.309Z"
   },
   {
    "duration": 116,
    "start_time": "2022-05-19T07:07:08.332Z"
   },
   {
    "duration": 148,
    "start_time": "2022-05-19T07:07:08.449Z"
   },
   {
    "duration": 9,
    "start_time": "2022-05-19T07:07:08.599Z"
   },
   {
    "duration": 14,
    "start_time": "2022-05-19T07:07:08.610Z"
   },
   {
    "duration": 72,
    "start_time": "2022-05-19T07:07:08.626Z"
   },
   {
    "duration": 9,
    "start_time": "2022-05-19T07:07:08.699Z"
   },
   {
    "duration": 63,
    "start_time": "2022-05-19T07:07:08.710Z"
   },
   {
    "duration": 24,
    "start_time": "2022-05-19T07:07:08.775Z"
   },
   {
    "duration": 69,
    "start_time": "2022-05-19T07:07:08.800Z"
   },
   {
    "duration": 24,
    "start_time": "2022-05-19T07:07:08.871Z"
   },
   {
    "duration": 89,
    "start_time": "2022-05-19T07:07:08.897Z"
   },
   {
    "duration": 134,
    "start_time": "2022-05-19T07:07:08.988Z"
   },
   {
    "duration": 113,
    "start_time": "2022-05-19T07:07:09.124Z"
   },
   {
    "duration": 120,
    "start_time": "2022-05-19T07:07:09.239Z"
   },
   {
    "duration": 0,
    "start_time": "2022-05-19T07:07:09.361Z"
   },
   {
    "duration": 0,
    "start_time": "2022-05-19T07:07:09.365Z"
   },
   {
    "duration": 0,
    "start_time": "2022-05-19T07:07:09.366Z"
   },
   {
    "duration": 0,
    "start_time": "2022-05-19T07:07:09.367Z"
   },
   {
    "duration": 0,
    "start_time": "2022-05-19T07:07:09.368Z"
   },
   {
    "duration": 0,
    "start_time": "2022-05-19T07:07:09.370Z"
   },
   {
    "duration": 0,
    "start_time": "2022-05-19T07:07:09.371Z"
   },
   {
    "duration": 0,
    "start_time": "2022-05-19T07:07:09.372Z"
   },
   {
    "duration": 0,
    "start_time": "2022-05-19T07:07:09.373Z"
   },
   {
    "duration": 0,
    "start_time": "2022-05-19T07:07:09.375Z"
   },
   {
    "duration": 0,
    "start_time": "2022-05-19T07:07:09.377Z"
   },
   {
    "duration": 0,
    "start_time": "2022-05-19T07:07:09.378Z"
   },
   {
    "duration": 0,
    "start_time": "2022-05-19T07:07:09.380Z"
   },
   {
    "duration": 0,
    "start_time": "2022-05-19T07:07:09.381Z"
   },
   {
    "duration": 0,
    "start_time": "2022-05-19T07:07:09.383Z"
   },
   {
    "duration": 0,
    "start_time": "2022-05-19T07:07:09.384Z"
   },
   {
    "duration": 0,
    "start_time": "2022-05-19T07:07:09.386Z"
   },
   {
    "duration": 0,
    "start_time": "2022-05-19T07:07:09.387Z"
   },
   {
    "duration": 0,
    "start_time": "2022-05-19T07:07:09.389Z"
   },
   {
    "duration": 0,
    "start_time": "2022-05-19T07:07:09.391Z"
   },
   {
    "duration": 0,
    "start_time": "2022-05-19T07:07:09.392Z"
   },
   {
    "duration": 0,
    "start_time": "2022-05-19T07:07:09.393Z"
   },
   {
    "duration": 0,
    "start_time": "2022-05-19T07:07:09.395Z"
   },
   {
    "duration": 0,
    "start_time": "2022-05-19T07:07:09.397Z"
   },
   {
    "duration": 0,
    "start_time": "2022-05-19T07:07:09.399Z"
   },
   {
    "duration": 0,
    "start_time": "2022-05-19T07:07:09.401Z"
   },
   {
    "duration": 1174,
    "start_time": "2022-05-19T07:08:49.623Z"
   },
   {
    "duration": 15,
    "start_time": "2022-05-19T07:08:50.799Z"
   },
   {
    "duration": 11,
    "start_time": "2022-05-19T07:08:50.816Z"
   },
   {
    "duration": 28,
    "start_time": "2022-05-19T07:08:50.829Z"
   },
   {
    "duration": 9,
    "start_time": "2022-05-19T07:08:50.859Z"
   },
   {
    "duration": 17,
    "start_time": "2022-05-19T07:08:50.870Z"
   },
   {
    "duration": 12,
    "start_time": "2022-05-19T07:08:50.889Z"
   },
   {
    "duration": 10,
    "start_time": "2022-05-19T07:08:50.903Z"
   },
   {
    "duration": 14,
    "start_time": "2022-05-19T07:08:50.915Z"
   },
   {
    "duration": 10,
    "start_time": "2022-05-19T07:08:50.932Z"
   },
   {
    "duration": 27,
    "start_time": "2022-05-19T07:08:50.944Z"
   },
   {
    "duration": 9,
    "start_time": "2022-05-19T07:08:50.973Z"
   },
   {
    "duration": 8,
    "start_time": "2022-05-19T07:08:50.984Z"
   },
   {
    "duration": 4,
    "start_time": "2022-05-19T07:08:50.994Z"
   },
   {
    "duration": 19,
    "start_time": "2022-05-19T07:08:51.000Z"
   },
   {
    "duration": 7,
    "start_time": "2022-05-19T07:08:51.021Z"
   },
   {
    "duration": 40,
    "start_time": "2022-05-19T07:08:51.029Z"
   },
   {
    "duration": 5,
    "start_time": "2022-05-19T07:08:51.071Z"
   },
   {
    "duration": 16,
    "start_time": "2022-05-19T07:08:51.079Z"
   },
   {
    "duration": 18,
    "start_time": "2022-05-19T07:08:51.097Z"
   },
   {
    "duration": 17,
    "start_time": "2022-05-19T07:08:51.116Z"
   },
   {
    "duration": 10,
    "start_time": "2022-05-19T07:08:51.135Z"
   },
   {
    "duration": 5,
    "start_time": "2022-05-19T07:08:51.164Z"
   },
   {
    "duration": 12,
    "start_time": "2022-05-19T07:08:51.171Z"
   },
   {
    "duration": 9,
    "start_time": "2022-05-19T07:08:51.185Z"
   },
   {
    "duration": 17,
    "start_time": "2022-05-19T07:08:51.196Z"
   },
   {
    "duration": 6,
    "start_time": "2022-05-19T07:08:51.215Z"
   },
   {
    "duration": 15,
    "start_time": "2022-05-19T07:08:51.226Z"
   },
   {
    "duration": 5,
    "start_time": "2022-05-19T07:08:51.264Z"
   },
   {
    "duration": 10,
    "start_time": "2022-05-19T07:08:51.271Z"
   },
   {
    "duration": 212,
    "start_time": "2022-05-19T07:08:51.283Z"
   },
   {
    "duration": 8,
    "start_time": "2022-05-19T07:08:51.496Z"
   },
   {
    "duration": 140,
    "start_time": "2022-05-19T07:08:51.506Z"
   },
   {
    "duration": 17,
    "start_time": "2022-05-19T07:08:51.647Z"
   },
   {
    "duration": 7,
    "start_time": "2022-05-19T07:08:51.666Z"
   },
   {
    "duration": 11,
    "start_time": "2022-05-19T07:08:51.675Z"
   },
   {
    "duration": 11,
    "start_time": "2022-05-19T07:08:51.688Z"
   },
   {
    "duration": 14,
    "start_time": "2022-05-19T07:08:51.701Z"
   },
   {
    "duration": 347,
    "start_time": "2022-05-19T07:08:51.717Z"
   },
   {
    "duration": 299,
    "start_time": "2022-05-19T07:08:52.066Z"
   },
   {
    "duration": 6,
    "start_time": "2022-05-19T07:08:52.367Z"
   },
   {
    "duration": 323,
    "start_time": "2022-05-19T07:08:52.375Z"
   },
   {
    "duration": 12,
    "start_time": "2022-05-19T07:08:52.700Z"
   },
   {
    "duration": 21,
    "start_time": "2022-05-19T07:08:52.714Z"
   },
   {
    "duration": 254,
    "start_time": "2022-05-19T07:08:52.737Z"
   },
   {
    "duration": 16,
    "start_time": "2022-05-19T07:08:52.993Z"
   },
   {
    "duration": 365,
    "start_time": "2022-05-19T07:08:53.011Z"
   },
   {
    "duration": 9,
    "start_time": "2022-05-19T07:08:53.378Z"
   },
   {
    "duration": 160,
    "start_time": "2022-05-19T07:08:53.388Z"
   },
   {
    "duration": 162,
    "start_time": "2022-05-19T07:08:53.550Z"
   },
   {
    "duration": 4,
    "start_time": "2022-05-19T07:08:53.714Z"
   },
   {
    "duration": 176,
    "start_time": "2022-05-19T07:08:53.720Z"
   },
   {
    "duration": 4,
    "start_time": "2022-05-19T07:08:53.898Z"
   },
   {
    "duration": 17,
    "start_time": "2022-05-19T07:08:53.904Z"
   },
   {
    "duration": 120,
    "start_time": "2022-05-19T07:08:53.923Z"
   },
   {
    "duration": 155,
    "start_time": "2022-05-19T07:08:54.045Z"
   },
   {
    "duration": 10,
    "start_time": "2022-05-19T07:08:54.202Z"
   },
   {
    "duration": 22,
    "start_time": "2022-05-19T07:08:54.214Z"
   },
   {
    "duration": 67,
    "start_time": "2022-05-19T07:08:54.238Z"
   },
   {
    "duration": 20,
    "start_time": "2022-05-19T07:08:54.307Z"
   },
   {
    "duration": 86,
    "start_time": "2022-05-19T07:08:54.329Z"
   },
   {
    "duration": 24,
    "start_time": "2022-05-19T07:08:54.417Z"
   },
   {
    "duration": 71,
    "start_time": "2022-05-19T07:08:54.443Z"
   },
   {
    "duration": 20,
    "start_time": "2022-05-19T07:08:54.516Z"
   },
   {
    "duration": 93,
    "start_time": "2022-05-19T07:08:54.538Z"
   },
   {
    "duration": 29,
    "start_time": "2022-05-19T07:08:54.633Z"
   },
   {
    "duration": 83,
    "start_time": "2022-05-19T07:08:54.664Z"
   },
   {
    "duration": 116,
    "start_time": "2022-05-19T07:08:54.749Z"
   },
   {
    "duration": 6,
    "start_time": "2022-05-19T07:08:54.868Z"
   },
   {
    "duration": 15,
    "start_time": "2022-05-19T07:08:54.876Z"
   },
   {
    "duration": 37,
    "start_time": "2022-05-19T07:08:54.892Z"
   },
   {
    "duration": 4,
    "start_time": "2022-05-19T07:08:54.931Z"
   },
   {
    "duration": 6,
    "start_time": "2022-05-19T07:08:54.938Z"
   },
   {
    "duration": 5,
    "start_time": "2022-05-19T07:08:54.965Z"
   },
   {
    "duration": 9,
    "start_time": "2022-05-19T07:08:54.972Z"
   },
   {
    "duration": 8,
    "start_time": "2022-05-19T07:08:54.983Z"
   },
   {
    "duration": 6,
    "start_time": "2022-05-19T07:08:54.993Z"
   },
   {
    "duration": 12,
    "start_time": "2022-05-19T07:08:55.001Z"
   },
   {
    "duration": 13,
    "start_time": "2022-05-19T07:08:55.015Z"
   },
   {
    "duration": 20,
    "start_time": "2022-05-19T07:08:55.029Z"
   },
   {
    "duration": 3,
    "start_time": "2022-05-19T07:08:55.065Z"
   },
   {
    "duration": 128,
    "start_time": "2022-05-19T07:08:55.073Z"
   },
   {
    "duration": 0,
    "start_time": "2022-05-19T07:08:55.203Z"
   },
   {
    "duration": 0,
    "start_time": "2022-05-19T07:08:55.204Z"
   },
   {
    "duration": 0,
    "start_time": "2022-05-19T07:08:55.205Z"
   },
   {
    "duration": 0,
    "start_time": "2022-05-19T07:08:55.206Z"
   },
   {
    "duration": 0,
    "start_time": "2022-05-19T07:08:55.208Z"
   },
   {
    "duration": 0,
    "start_time": "2022-05-19T07:08:55.208Z"
   },
   {
    "duration": 0,
    "start_time": "2022-05-19T07:08:55.209Z"
   },
   {
    "duration": 0,
    "start_time": "2022-05-19T07:08:55.210Z"
   },
   {
    "duration": 0,
    "start_time": "2022-05-19T07:08:55.211Z"
   },
   {
    "duration": 0,
    "start_time": "2022-05-19T07:08:55.212Z"
   },
   {
    "duration": 0,
    "start_time": "2022-05-19T07:08:55.214Z"
   },
   {
    "duration": 0,
    "start_time": "2022-05-19T07:08:55.216Z"
   },
   {
    "duration": 0,
    "start_time": "2022-05-19T07:08:55.217Z"
   },
   {
    "duration": 14,
    "start_time": "2022-05-19T07:11:11.802Z"
   },
   {
    "duration": 16,
    "start_time": "2022-05-19T07:12:08.280Z"
   },
   {
    "duration": 17,
    "start_time": "2022-05-19T07:27:19.999Z"
   },
   {
    "duration": 9,
    "start_time": "2022-05-19T07:27:24.136Z"
   },
   {
    "duration": 12,
    "start_time": "2022-05-19T07:27:31.938Z"
   },
   {
    "duration": 5,
    "start_time": "2022-05-19T07:28:22.711Z"
   },
   {
    "duration": 4,
    "start_time": "2022-05-19T07:28:34.027Z"
   },
   {
    "duration": 13,
    "start_time": "2022-05-19T07:28:48.611Z"
   },
   {
    "duration": 14,
    "start_time": "2022-05-19T07:32:12.727Z"
   },
   {
    "duration": 13,
    "start_time": "2022-05-19T07:32:20.501Z"
   },
   {
    "duration": 19,
    "start_time": "2022-05-19T07:32:42.920Z"
   },
   {
    "duration": 1203,
    "start_time": "2022-05-19T07:33:27.626Z"
   },
   {
    "duration": 18,
    "start_time": "2022-05-19T07:33:28.831Z"
   },
   {
    "duration": 26,
    "start_time": "2022-05-19T07:33:28.851Z"
   },
   {
    "duration": 22,
    "start_time": "2022-05-19T07:33:28.880Z"
   },
   {
    "duration": 12,
    "start_time": "2022-05-19T07:33:28.905Z"
   },
   {
    "duration": 24,
    "start_time": "2022-05-19T07:33:28.919Z"
   },
   {
    "duration": 16,
    "start_time": "2022-05-19T07:33:28.946Z"
   },
   {
    "duration": 10,
    "start_time": "2022-05-19T07:33:28.965Z"
   },
   {
    "duration": 18,
    "start_time": "2022-05-19T07:33:28.978Z"
   },
   {
    "duration": 11,
    "start_time": "2022-05-19T07:33:29.001Z"
   },
   {
    "duration": 11,
    "start_time": "2022-05-19T07:33:29.014Z"
   },
   {
    "duration": 42,
    "start_time": "2022-05-19T07:33:29.027Z"
   },
   {
    "duration": 7,
    "start_time": "2022-05-19T07:33:29.071Z"
   },
   {
    "duration": 15,
    "start_time": "2022-05-19T07:33:29.080Z"
   },
   {
    "duration": 23,
    "start_time": "2022-05-19T07:33:29.097Z"
   },
   {
    "duration": 10,
    "start_time": "2022-05-19T07:33:29.123Z"
   },
   {
    "duration": 44,
    "start_time": "2022-05-19T07:33:29.135Z"
   },
   {
    "duration": 5,
    "start_time": "2022-05-19T07:33:29.181Z"
   },
   {
    "duration": 12,
    "start_time": "2022-05-19T07:33:29.188Z"
   },
   {
    "duration": 16,
    "start_time": "2022-05-19T07:33:29.202Z"
   },
   {
    "duration": 14,
    "start_time": "2022-05-19T07:33:29.220Z"
   },
   {
    "duration": 31,
    "start_time": "2022-05-19T07:33:29.235Z"
   },
   {
    "duration": 9,
    "start_time": "2022-05-19T07:33:29.267Z"
   },
   {
    "duration": 10,
    "start_time": "2022-05-19T07:33:29.278Z"
   },
   {
    "duration": 10,
    "start_time": "2022-05-19T07:33:29.289Z"
   },
   {
    "duration": 11,
    "start_time": "2022-05-19T07:33:29.301Z"
   },
   {
    "duration": 7,
    "start_time": "2022-05-19T07:33:29.315Z"
   },
   {
    "duration": 49,
    "start_time": "2022-05-19T07:33:29.327Z"
   },
   {
    "duration": 5,
    "start_time": "2022-05-19T07:33:29.379Z"
   },
   {
    "duration": 16,
    "start_time": "2022-05-19T07:33:29.386Z"
   },
   {
    "duration": 210,
    "start_time": "2022-05-19T07:33:29.404Z"
   },
   {
    "duration": 8,
    "start_time": "2022-05-19T07:33:29.616Z"
   },
   {
    "duration": 142,
    "start_time": "2022-05-19T07:33:29.626Z"
   },
   {
    "duration": 10,
    "start_time": "2022-05-19T07:33:29.770Z"
   },
   {
    "duration": 8,
    "start_time": "2022-05-19T07:33:29.782Z"
   },
   {
    "duration": 16,
    "start_time": "2022-05-19T07:33:29.792Z"
   },
   {
    "duration": 12,
    "start_time": "2022-05-19T07:33:29.809Z"
   },
   {
    "duration": 10,
    "start_time": "2022-05-19T07:33:29.823Z"
   },
   {
    "duration": 376,
    "start_time": "2022-05-19T07:33:29.834Z"
   },
   {
    "duration": 299,
    "start_time": "2022-05-19T07:33:30.212Z"
   },
   {
    "duration": 6,
    "start_time": "2022-05-19T07:33:30.513Z"
   },
   {
    "duration": 386,
    "start_time": "2022-05-19T07:33:30.521Z"
   },
   {
    "duration": 13,
    "start_time": "2022-05-19T07:33:30.909Z"
   },
   {
    "duration": 43,
    "start_time": "2022-05-19T07:33:30.924Z"
   },
   {
    "duration": 259,
    "start_time": "2022-05-19T07:33:30.969Z"
   },
   {
    "duration": 15,
    "start_time": "2022-05-19T07:33:31.230Z"
   },
   {
    "duration": 365,
    "start_time": "2022-05-19T07:33:31.247Z"
   },
   {
    "duration": 9,
    "start_time": "2022-05-19T07:33:31.614Z"
   },
   {
    "duration": 182,
    "start_time": "2022-05-19T07:33:31.625Z"
   },
   {
    "duration": 165,
    "start_time": "2022-05-19T07:33:31.809Z"
   },
   {
    "duration": 5,
    "start_time": "2022-05-19T07:33:31.976Z"
   },
   {
    "duration": 194,
    "start_time": "2022-05-19T07:33:31.984Z"
   },
   {
    "duration": 5,
    "start_time": "2022-05-19T07:33:32.180Z"
   },
   {
    "duration": 39,
    "start_time": "2022-05-19T07:33:32.187Z"
   },
   {
    "duration": 121,
    "start_time": "2022-05-19T07:33:32.227Z"
   },
   {
    "duration": 155,
    "start_time": "2022-05-19T07:33:32.351Z"
   },
   {
    "duration": 9,
    "start_time": "2022-05-19T07:33:32.508Z"
   },
   {
    "duration": 19,
    "start_time": "2022-05-19T07:33:32.519Z"
   },
   {
    "duration": 77,
    "start_time": "2022-05-19T07:33:32.540Z"
   },
   {
    "duration": 28,
    "start_time": "2022-05-19T07:33:32.619Z"
   },
   {
    "duration": 68,
    "start_time": "2022-05-19T07:33:32.648Z"
   },
   {
    "duration": 36,
    "start_time": "2022-05-19T07:33:32.718Z"
   },
   {
    "duration": 68,
    "start_time": "2022-05-19T07:33:32.756Z"
   },
   {
    "duration": 38,
    "start_time": "2022-05-19T07:33:32.826Z"
   },
   {
    "duration": 63,
    "start_time": "2022-05-19T07:33:32.867Z"
   },
   {
    "duration": 43,
    "start_time": "2022-05-19T07:33:32.932Z"
   },
   {
    "duration": 105,
    "start_time": "2022-05-19T07:33:32.977Z"
   },
   {
    "duration": 99,
    "start_time": "2022-05-19T07:33:33.084Z"
   },
   {
    "duration": 7,
    "start_time": "2022-05-19T07:33:33.185Z"
   },
   {
    "duration": 11,
    "start_time": "2022-05-19T07:33:33.193Z"
   },
   {
    "duration": 36,
    "start_time": "2022-05-19T07:33:33.206Z"
   },
   {
    "duration": 4,
    "start_time": "2022-05-19T07:33:33.244Z"
   },
   {
    "duration": 4,
    "start_time": "2022-05-19T07:33:33.265Z"
   },
   {
    "duration": 16,
    "start_time": "2022-05-19T07:33:33.271Z"
   },
   {
    "duration": 24,
    "start_time": "2022-05-19T07:33:33.289Z"
   },
   {
    "duration": 14,
    "start_time": "2022-05-19T07:33:33.315Z"
   },
   {
    "duration": 24,
    "start_time": "2022-05-19T07:33:33.331Z"
   },
   {
    "duration": 15,
    "start_time": "2022-05-19T07:33:33.357Z"
   },
   {
    "duration": 16,
    "start_time": "2022-05-19T07:33:33.374Z"
   },
   {
    "duration": 18,
    "start_time": "2022-05-19T07:33:33.392Z"
   },
   {
    "duration": 132,
    "start_time": "2022-05-19T07:33:33.412Z"
   },
   {
    "duration": 0,
    "start_time": "2022-05-19T07:33:33.546Z"
   },
   {
    "duration": 0,
    "start_time": "2022-05-19T07:33:33.548Z"
   },
   {
    "duration": 0,
    "start_time": "2022-05-19T07:33:33.549Z"
   },
   {
    "duration": 0,
    "start_time": "2022-05-19T07:33:33.551Z"
   },
   {
    "duration": 0,
    "start_time": "2022-05-19T07:33:33.551Z"
   },
   {
    "duration": 0,
    "start_time": "2022-05-19T07:33:33.552Z"
   },
   {
    "duration": 0,
    "start_time": "2022-05-19T07:33:33.553Z"
   },
   {
    "duration": 0,
    "start_time": "2022-05-19T07:33:33.566Z"
   },
   {
    "duration": 0,
    "start_time": "2022-05-19T07:33:33.567Z"
   },
   {
    "duration": 0,
    "start_time": "2022-05-19T07:33:33.568Z"
   },
   {
    "duration": 0,
    "start_time": "2022-05-19T07:33:33.569Z"
   },
   {
    "duration": 0,
    "start_time": "2022-05-19T07:33:33.570Z"
   },
   {
    "duration": 0,
    "start_time": "2022-05-19T07:33:33.571Z"
   },
   {
    "duration": 1360,
    "start_time": "2022-05-19T10:23:53.620Z"
   },
   {
    "duration": 33,
    "start_time": "2022-05-19T10:23:54.982Z"
   },
   {
    "duration": 12,
    "start_time": "2022-05-19T10:23:55.017Z"
   },
   {
    "duration": 43,
    "start_time": "2022-05-19T10:23:55.031Z"
   },
   {
    "duration": 8,
    "start_time": "2022-05-19T10:23:55.075Z"
   },
   {
    "duration": 16,
    "start_time": "2022-05-19T10:23:55.084Z"
   },
   {
    "duration": 37,
    "start_time": "2022-05-19T10:23:55.101Z"
   },
   {
    "duration": 7,
    "start_time": "2022-05-19T10:23:55.140Z"
   },
   {
    "duration": 23,
    "start_time": "2022-05-19T10:23:55.148Z"
   },
   {
    "duration": 21,
    "start_time": "2022-05-19T10:23:55.176Z"
   },
   {
    "duration": 13,
    "start_time": "2022-05-19T10:23:55.199Z"
   },
   {
    "duration": 16,
    "start_time": "2022-05-19T10:23:55.214Z"
   },
   {
    "duration": 10,
    "start_time": "2022-05-19T10:23:55.232Z"
   },
   {
    "duration": 8,
    "start_time": "2022-05-19T10:23:55.244Z"
   },
   {
    "duration": 23,
    "start_time": "2022-05-19T10:23:55.254Z"
   },
   {
    "duration": 21,
    "start_time": "2022-05-19T10:23:55.279Z"
   },
   {
    "duration": 31,
    "start_time": "2022-05-19T10:23:55.302Z"
   },
   {
    "duration": 20,
    "start_time": "2022-05-19T10:23:55.335Z"
   },
   {
    "duration": 16,
    "start_time": "2022-05-19T10:23:55.358Z"
   },
   {
    "duration": 18,
    "start_time": "2022-05-19T10:23:55.377Z"
   },
   {
    "duration": 25,
    "start_time": "2022-05-19T10:23:55.396Z"
   },
   {
    "duration": 15,
    "start_time": "2022-05-19T10:23:55.423Z"
   },
   {
    "duration": 7,
    "start_time": "2022-05-19T10:23:55.441Z"
   },
   {
    "duration": 11,
    "start_time": "2022-05-19T10:23:55.452Z"
   },
   {
    "duration": 11,
    "start_time": "2022-05-19T10:23:55.465Z"
   },
   {
    "duration": 13,
    "start_time": "2022-05-19T10:23:55.478Z"
   },
   {
    "duration": 8,
    "start_time": "2022-05-19T10:23:55.492Z"
   },
   {
    "duration": 18,
    "start_time": "2022-05-19T10:23:55.504Z"
   },
   {
    "duration": 5,
    "start_time": "2022-05-19T10:23:55.523Z"
   },
   {
    "duration": 25,
    "start_time": "2022-05-19T10:23:55.530Z"
   },
   {
    "duration": 195,
    "start_time": "2022-05-19T10:23:55.557Z"
   },
   {
    "duration": 8,
    "start_time": "2022-05-19T10:23:55.754Z"
   },
   {
    "duration": 149,
    "start_time": "2022-05-19T10:23:55.763Z"
   },
   {
    "duration": 9,
    "start_time": "2022-05-19T10:23:55.913Z"
   },
   {
    "duration": 14,
    "start_time": "2022-05-19T10:23:55.924Z"
   },
   {
    "duration": 27,
    "start_time": "2022-05-19T10:23:55.940Z"
   },
   {
    "duration": 15,
    "start_time": "2022-05-19T10:23:55.969Z"
   },
   {
    "duration": 16,
    "start_time": "2022-05-19T10:23:55.985Z"
   },
   {
    "duration": 327,
    "start_time": "2022-05-19T10:23:56.003Z"
   },
   {
    "duration": 263,
    "start_time": "2022-05-19T10:23:56.332Z"
   },
   {
    "duration": 8,
    "start_time": "2022-05-19T10:23:56.597Z"
   },
   {
    "duration": 381,
    "start_time": "2022-05-19T10:23:56.606Z"
   },
   {
    "duration": 12,
    "start_time": "2022-05-19T10:23:56.989Z"
   },
   {
    "duration": 19,
    "start_time": "2022-05-19T10:23:57.002Z"
   },
   {
    "duration": 225,
    "start_time": "2022-05-19T10:23:57.023Z"
   },
   {
    "duration": 15,
    "start_time": "2022-05-19T10:23:57.249Z"
   },
   {
    "duration": 318,
    "start_time": "2022-05-19T10:23:57.265Z"
   },
   {
    "duration": 8,
    "start_time": "2022-05-19T10:23:57.585Z"
   },
   {
    "duration": 128,
    "start_time": "2022-05-19T10:23:57.595Z"
   },
   {
    "duration": 134,
    "start_time": "2022-05-19T10:23:57.724Z"
   },
   {
    "duration": 4,
    "start_time": "2022-05-19T10:23:57.859Z"
   },
   {
    "duration": 150,
    "start_time": "2022-05-19T10:23:57.865Z"
   },
   {
    "duration": 7,
    "start_time": "2022-05-19T10:23:58.019Z"
   },
   {
    "duration": 24,
    "start_time": "2022-05-19T10:23:58.029Z"
   },
   {
    "duration": 119,
    "start_time": "2022-05-19T10:23:58.055Z"
   },
   {
    "duration": 151,
    "start_time": "2022-05-19T10:23:58.175Z"
   },
   {
    "duration": 9,
    "start_time": "2022-05-19T10:23:58.327Z"
   },
   {
    "duration": 17,
    "start_time": "2022-05-19T10:23:58.337Z"
   },
   {
    "duration": 49,
    "start_time": "2022-05-19T10:23:58.356Z"
   },
   {
    "duration": 6,
    "start_time": "2022-05-19T10:23:58.407Z"
   },
   {
    "duration": 74,
    "start_time": "2022-05-19T10:23:58.414Z"
   },
   {
    "duration": 30,
    "start_time": "2022-05-19T10:23:58.491Z"
   },
   {
    "duration": 94,
    "start_time": "2022-05-19T10:23:58.523Z"
   },
   {
    "duration": 34,
    "start_time": "2022-05-19T10:23:58.619Z"
   },
   {
    "duration": 52,
    "start_time": "2022-05-19T10:23:58.655Z"
   },
   {
    "duration": 43,
    "start_time": "2022-05-19T10:23:58.709Z"
   },
   {
    "duration": 75,
    "start_time": "2022-05-19T10:23:58.754Z"
   },
   {
    "duration": 97,
    "start_time": "2022-05-19T10:23:58.831Z"
   },
   {
    "duration": 23,
    "start_time": "2022-05-19T10:23:58.930Z"
   },
   {
    "duration": 11,
    "start_time": "2022-05-19T10:23:58.955Z"
   },
   {
    "duration": 35,
    "start_time": "2022-05-19T10:23:58.968Z"
   },
   {
    "duration": 4,
    "start_time": "2022-05-19T10:23:59.005Z"
   },
   {
    "duration": 10,
    "start_time": "2022-05-19T10:23:59.010Z"
   },
   {
    "duration": 8,
    "start_time": "2022-05-19T10:23:59.021Z"
   },
   {
    "duration": 23,
    "start_time": "2022-05-19T10:23:59.030Z"
   },
   {
    "duration": 8,
    "start_time": "2022-05-19T10:23:59.054Z"
   },
   {
    "duration": 6,
    "start_time": "2022-05-19T10:23:59.064Z"
   },
   {
    "duration": 6,
    "start_time": "2022-05-19T10:23:59.072Z"
   },
   {
    "duration": 9,
    "start_time": "2022-05-19T10:23:59.080Z"
   },
   {
    "duration": 5,
    "start_time": "2022-05-19T10:23:59.090Z"
   },
   {
    "duration": 133,
    "start_time": "2022-05-19T10:23:59.097Z"
   },
   {
    "duration": 0,
    "start_time": "2022-05-19T10:23:59.232Z"
   },
   {
    "duration": 0,
    "start_time": "2022-05-19T10:23:59.233Z"
   },
   {
    "duration": 0,
    "start_time": "2022-05-19T10:23:59.234Z"
   },
   {
    "duration": 0,
    "start_time": "2022-05-19T10:23:59.235Z"
   },
   {
    "duration": 0,
    "start_time": "2022-05-19T10:23:59.236Z"
   },
   {
    "duration": 0,
    "start_time": "2022-05-19T10:23:59.237Z"
   },
   {
    "duration": 0,
    "start_time": "2022-05-19T10:23:59.239Z"
   },
   {
    "duration": 0,
    "start_time": "2022-05-19T10:23:59.239Z"
   },
   {
    "duration": 0,
    "start_time": "2022-05-19T10:23:59.240Z"
   },
   {
    "duration": 0,
    "start_time": "2022-05-19T10:23:59.241Z"
   },
   {
    "duration": 0,
    "start_time": "2022-05-19T10:23:59.241Z"
   },
   {
    "duration": 0,
    "start_time": "2022-05-19T10:23:59.242Z"
   },
   {
    "duration": 0,
    "start_time": "2022-05-19T10:23:59.252Z"
   },
   {
    "duration": 8,
    "start_time": "2022-05-19T10:25:27.735Z"
   },
   {
    "duration": 7,
    "start_time": "2022-05-19T10:27:05.202Z"
   },
   {
    "duration": 3,
    "start_time": "2022-05-19T10:27:48.613Z"
   },
   {
    "duration": 6,
    "start_time": "2022-05-19T10:28:51.954Z"
   },
   {
    "duration": 5,
    "start_time": "2022-05-19T10:29:21.708Z"
   },
   {
    "duration": 4,
    "start_time": "2022-05-19T10:29:33.034Z"
   },
   {
    "duration": 4,
    "start_time": "2022-05-19T10:29:38.658Z"
   },
   {
    "duration": 6,
    "start_time": "2022-05-19T10:29:39.153Z"
   },
   {
    "duration": 1069,
    "start_time": "2022-05-19T10:29:59.300Z"
   },
   {
    "duration": 17,
    "start_time": "2022-05-19T10:30:00.372Z"
   },
   {
    "duration": 20,
    "start_time": "2022-05-19T10:30:00.390Z"
   },
   {
    "duration": 37,
    "start_time": "2022-05-19T10:30:00.412Z"
   },
   {
    "duration": 10,
    "start_time": "2022-05-19T10:30:00.451Z"
   },
   {
    "duration": 87,
    "start_time": "2022-05-19T10:30:00.464Z"
   },
   {
    "duration": 22,
    "start_time": "2022-05-19T10:30:00.553Z"
   },
   {
    "duration": 15,
    "start_time": "2022-05-19T10:30:00.578Z"
   },
   {
    "duration": 29,
    "start_time": "2022-05-19T10:30:00.595Z"
   },
   {
    "duration": 18,
    "start_time": "2022-05-19T10:30:00.626Z"
   },
   {
    "duration": 15,
    "start_time": "2022-05-19T10:30:00.646Z"
   },
   {
    "duration": 27,
    "start_time": "2022-05-19T10:30:00.663Z"
   },
   {
    "duration": 37,
    "start_time": "2022-05-19T10:30:00.692Z"
   },
   {
    "duration": 18,
    "start_time": "2022-05-19T10:30:00.732Z"
   },
   {
    "duration": 36,
    "start_time": "2022-05-19T10:30:00.751Z"
   },
   {
    "duration": 32,
    "start_time": "2022-05-19T10:30:00.789Z"
   },
   {
    "duration": 38,
    "start_time": "2022-05-19T10:30:00.823Z"
   },
   {
    "duration": 28,
    "start_time": "2022-05-19T10:30:00.863Z"
   },
   {
    "duration": 39,
    "start_time": "2022-05-19T10:30:00.892Z"
   },
   {
    "duration": 49,
    "start_time": "2022-05-19T10:30:00.933Z"
   },
   {
    "duration": 56,
    "start_time": "2022-05-19T10:30:00.983Z"
   },
   {
    "duration": 23,
    "start_time": "2022-05-19T10:30:01.041Z"
   },
   {
    "duration": 30,
    "start_time": "2022-05-19T10:30:01.066Z"
   },
   {
    "duration": 83,
    "start_time": "2022-05-19T10:30:01.097Z"
   },
   {
    "duration": 66,
    "start_time": "2022-05-19T10:30:01.181Z"
   },
   {
    "duration": 45,
    "start_time": "2022-05-19T10:30:01.249Z"
   },
   {
    "duration": 42,
    "start_time": "2022-05-19T10:30:01.296Z"
   },
   {
    "duration": 46,
    "start_time": "2022-05-19T10:30:01.341Z"
   },
   {
    "duration": 39,
    "start_time": "2022-05-19T10:30:01.389Z"
   },
   {
    "duration": 17,
    "start_time": "2022-05-19T10:30:01.430Z"
   },
   {
    "duration": 278,
    "start_time": "2022-05-19T10:30:01.449Z"
   },
   {
    "duration": 9,
    "start_time": "2022-05-19T10:30:01.728Z"
   },
   {
    "duration": 157,
    "start_time": "2022-05-19T10:30:01.739Z"
   },
   {
    "duration": 30,
    "start_time": "2022-05-19T10:30:01.898Z"
   },
   {
    "duration": 14,
    "start_time": "2022-05-19T10:30:01.930Z"
   },
   {
    "duration": 35,
    "start_time": "2022-05-19T10:30:01.946Z"
   },
   {
    "duration": 70,
    "start_time": "2022-05-19T10:30:01.983Z"
   },
   {
    "duration": 56,
    "start_time": "2022-05-19T10:30:02.055Z"
   },
   {
    "duration": 352,
    "start_time": "2022-05-19T10:30:02.113Z"
   },
   {
    "duration": 294,
    "start_time": "2022-05-19T10:30:02.467Z"
   },
   {
    "duration": 5,
    "start_time": "2022-05-19T10:30:02.767Z"
   },
   {
    "duration": 322,
    "start_time": "2022-05-19T10:30:02.774Z"
   },
   {
    "duration": 11,
    "start_time": "2022-05-19T10:30:03.098Z"
   },
   {
    "duration": 11,
    "start_time": "2022-05-19T10:30:03.110Z"
   },
   {
    "duration": 214,
    "start_time": "2022-05-19T10:30:03.123Z"
   },
   {
    "duration": 18,
    "start_time": "2022-05-19T10:30:03.339Z"
   },
   {
    "duration": 365,
    "start_time": "2022-05-19T10:30:03.358Z"
   },
   {
    "duration": 8,
    "start_time": "2022-05-19T10:30:03.725Z"
   },
   {
    "duration": 160,
    "start_time": "2022-05-19T10:30:03.734Z"
   },
   {
    "duration": 148,
    "start_time": "2022-05-19T10:30:03.895Z"
   },
   {
    "duration": 4,
    "start_time": "2022-05-19T10:30:04.045Z"
   },
   {
    "duration": 160,
    "start_time": "2022-05-19T10:30:04.052Z"
   },
   {
    "duration": 4,
    "start_time": "2022-05-19T10:30:04.213Z"
   },
   {
    "duration": 17,
    "start_time": "2022-05-19T10:30:04.219Z"
   },
   {
    "duration": 107,
    "start_time": "2022-05-19T10:30:04.252Z"
   },
   {
    "duration": 139,
    "start_time": "2022-05-19T10:30:04.361Z"
   },
   {
    "duration": 9,
    "start_time": "2022-05-19T10:30:04.502Z"
   },
   {
    "duration": 10,
    "start_time": "2022-05-19T10:30:04.513Z"
   },
   {
    "duration": 72,
    "start_time": "2022-05-19T10:30:04.524Z"
   },
   {
    "duration": 14,
    "start_time": "2022-05-19T10:30:04.597Z"
   },
   {
    "duration": 52,
    "start_time": "2022-05-19T10:30:04.623Z"
   },
   {
    "duration": 59,
    "start_time": "2022-05-19T10:30:04.677Z"
   },
   {
    "duration": 61,
    "start_time": "2022-05-19T10:30:04.737Z"
   },
   {
    "duration": 26,
    "start_time": "2022-05-19T10:30:04.799Z"
   },
   {
    "duration": 57,
    "start_time": "2022-05-19T10:30:04.827Z"
   },
   {
    "duration": 22,
    "start_time": "2022-05-19T10:30:04.886Z"
   },
   {
    "duration": 77,
    "start_time": "2022-05-19T10:30:04.910Z"
   },
   {
    "duration": 92,
    "start_time": "2022-05-19T10:30:04.989Z"
   },
   {
    "duration": 6,
    "start_time": "2022-05-19T10:30:05.083Z"
   },
   {
    "duration": 8,
    "start_time": "2022-05-19T10:30:05.091Z"
   },
   {
    "duration": 51,
    "start_time": "2022-05-19T10:30:05.101Z"
   },
   {
    "duration": 6,
    "start_time": "2022-05-19T10:30:05.153Z"
   },
   {
    "duration": 7,
    "start_time": "2022-05-19T10:30:05.161Z"
   },
   {
    "duration": 16,
    "start_time": "2022-05-19T10:30:05.170Z"
   },
   {
    "duration": 18,
    "start_time": "2022-05-19T10:30:05.189Z"
   },
   {
    "duration": 18,
    "start_time": "2022-05-19T10:30:05.210Z"
   },
   {
    "duration": 12,
    "start_time": "2022-05-19T10:30:05.230Z"
   },
   {
    "duration": 15,
    "start_time": "2022-05-19T10:30:05.244Z"
   },
   {
    "duration": 14,
    "start_time": "2022-05-19T10:30:05.261Z"
   },
   {
    "duration": 10,
    "start_time": "2022-05-19T10:30:05.277Z"
   },
   {
    "duration": 15,
    "start_time": "2022-05-19T10:30:05.289Z"
   },
   {
    "duration": 17,
    "start_time": "2022-05-19T10:30:05.306Z"
   },
   {
    "duration": 10,
    "start_time": "2022-05-19T10:30:05.326Z"
   },
   {
    "duration": 16,
    "start_time": "2022-05-19T10:30:05.338Z"
   },
   {
    "duration": 20,
    "start_time": "2022-05-19T10:30:05.356Z"
   },
   {
    "duration": 27,
    "start_time": "2022-05-19T10:30:05.378Z"
   },
   {
    "duration": 18,
    "start_time": "2022-05-19T10:30:05.407Z"
   },
   {
    "duration": 30,
    "start_time": "2022-05-19T10:30:05.427Z"
   },
   {
    "duration": 4,
    "start_time": "2022-05-19T10:30:05.459Z"
   },
   {
    "duration": 8,
    "start_time": "2022-05-19T10:30:05.465Z"
   },
   {
    "duration": 27,
    "start_time": "2022-05-19T10:30:05.475Z"
   },
   {
    "duration": 16,
    "start_time": "2022-05-19T10:30:05.503Z"
   },
   {
    "duration": 18,
    "start_time": "2022-05-19T10:30:05.520Z"
   },
   {
    "duration": 15,
    "start_time": "2022-05-19T10:30:05.539Z"
   },
   {
    "duration": 1041,
    "start_time": "2022-05-19T10:46:16.104Z"
   },
   {
    "duration": 15,
    "start_time": "2022-05-19T10:46:17.147Z"
   },
   {
    "duration": 12,
    "start_time": "2022-05-19T10:46:17.163Z"
   },
   {
    "duration": 21,
    "start_time": "2022-05-19T10:46:17.177Z"
   },
   {
    "duration": 7,
    "start_time": "2022-05-19T10:46:17.199Z"
   },
   {
    "duration": 16,
    "start_time": "2022-05-19T10:46:17.207Z"
   },
   {
    "duration": 13,
    "start_time": "2022-05-19T10:46:17.224Z"
   },
   {
    "duration": 6,
    "start_time": "2022-05-19T10:46:17.239Z"
   },
   {
    "duration": 13,
    "start_time": "2022-05-19T10:46:17.246Z"
   },
   {
    "duration": 8,
    "start_time": "2022-05-19T10:46:17.261Z"
   },
   {
    "duration": 8,
    "start_time": "2022-05-19T10:46:17.270Z"
   },
   {
    "duration": 8,
    "start_time": "2022-05-19T10:46:17.279Z"
   },
   {
    "duration": 4,
    "start_time": "2022-05-19T10:46:17.288Z"
   },
   {
    "duration": 6,
    "start_time": "2022-05-19T10:46:17.294Z"
   },
   {
    "duration": 13,
    "start_time": "2022-05-19T10:46:17.302Z"
   },
   {
    "duration": 6,
    "start_time": "2022-05-19T10:46:17.317Z"
   },
   {
    "duration": 38,
    "start_time": "2022-05-19T10:46:17.324Z"
   },
   {
    "duration": 4,
    "start_time": "2022-05-19T10:46:17.364Z"
   },
   {
    "duration": 13,
    "start_time": "2022-05-19T10:46:17.370Z"
   },
   {
    "duration": 11,
    "start_time": "2022-05-19T10:46:17.385Z"
   },
   {
    "duration": 12,
    "start_time": "2022-05-19T10:46:17.398Z"
   },
   {
    "duration": 9,
    "start_time": "2022-05-19T10:46:17.411Z"
   },
   {
    "duration": 8,
    "start_time": "2022-05-19T10:46:17.421Z"
   },
   {
    "duration": 4,
    "start_time": "2022-05-19T10:46:17.452Z"
   },
   {
    "duration": 8,
    "start_time": "2022-05-19T10:46:17.457Z"
   },
   {
    "duration": 9,
    "start_time": "2022-05-19T10:46:17.466Z"
   },
   {
    "duration": 6,
    "start_time": "2022-05-19T10:46:17.476Z"
   },
   {
    "duration": 14,
    "start_time": "2022-05-19T10:46:17.485Z"
   },
   {
    "duration": 5,
    "start_time": "2022-05-19T10:46:17.500Z"
   },
   {
    "duration": 9,
    "start_time": "2022-05-19T10:46:17.507Z"
   },
   {
    "duration": 215,
    "start_time": "2022-05-19T10:46:17.517Z"
   },
   {
    "duration": 7,
    "start_time": "2022-05-19T10:46:17.734Z"
   },
   {
    "duration": 136,
    "start_time": "2022-05-19T10:46:17.743Z"
   },
   {
    "duration": 9,
    "start_time": "2022-05-19T10:46:17.880Z"
   },
   {
    "duration": 8,
    "start_time": "2022-05-19T10:46:17.891Z"
   },
   {
    "duration": 22,
    "start_time": "2022-05-19T10:46:17.900Z"
   },
   {
    "duration": 23,
    "start_time": "2022-05-19T10:46:17.924Z"
   },
   {
    "duration": 13,
    "start_time": "2022-05-19T10:46:17.948Z"
   },
   {
    "duration": 317,
    "start_time": "2022-05-19T10:46:17.962Z"
   },
   {
    "duration": 262,
    "start_time": "2022-05-19T10:46:18.280Z"
   },
   {
    "duration": 11,
    "start_time": "2022-05-19T10:46:18.544Z"
   },
   {
    "duration": 304,
    "start_time": "2022-05-19T10:46:18.557Z"
   },
   {
    "duration": 10,
    "start_time": "2022-05-19T10:46:18.863Z"
   },
   {
    "duration": 7,
    "start_time": "2022-05-19T10:46:18.875Z"
   },
   {
    "duration": 222,
    "start_time": "2022-05-19T10:46:18.884Z"
   },
   {
    "duration": 15,
    "start_time": "2022-05-19T10:46:19.108Z"
   },
   {
    "duration": 340,
    "start_time": "2022-05-19T10:46:19.124Z"
   },
   {
    "duration": 7,
    "start_time": "2022-05-19T10:46:19.466Z"
   },
   {
    "duration": 125,
    "start_time": "2022-05-19T10:46:19.475Z"
   },
   {
    "duration": 147,
    "start_time": "2022-05-19T10:46:19.601Z"
   },
   {
    "duration": 5,
    "start_time": "2022-05-19T10:46:19.750Z"
   },
   {
    "duration": 164,
    "start_time": "2022-05-19T10:46:19.757Z"
   },
   {
    "duration": 4,
    "start_time": "2022-05-19T10:46:19.923Z"
   },
   {
    "duration": 24,
    "start_time": "2022-05-19T10:46:19.929Z"
   },
   {
    "duration": 123,
    "start_time": "2022-05-19T10:46:19.955Z"
   },
   {
    "duration": 145,
    "start_time": "2022-05-19T10:46:20.080Z"
   },
   {
    "duration": 8,
    "start_time": "2022-05-19T10:46:20.227Z"
   },
   {
    "duration": 24,
    "start_time": "2022-05-19T10:46:20.237Z"
   },
   {
    "duration": 56,
    "start_time": "2022-05-19T10:46:20.262Z"
   },
   {
    "duration": 8,
    "start_time": "2022-05-19T10:46:20.319Z"
   },
   {
    "duration": 62,
    "start_time": "2022-05-19T10:46:20.328Z"
   },
   {
    "duration": 20,
    "start_time": "2022-05-19T10:46:20.391Z"
   },
   {
    "duration": 75,
    "start_time": "2022-05-19T10:46:20.413Z"
   },
   {
    "duration": 20,
    "start_time": "2022-05-19T10:46:20.490Z"
   },
   {
    "duration": 67,
    "start_time": "2022-05-19T10:46:20.511Z"
   },
   {
    "duration": 25,
    "start_time": "2022-05-19T10:46:20.579Z"
   },
   {
    "duration": 89,
    "start_time": "2022-05-19T10:46:20.606Z"
   },
   {
    "duration": 97,
    "start_time": "2022-05-19T10:46:20.697Z"
   },
   {
    "duration": 6,
    "start_time": "2022-05-19T10:46:20.796Z"
   },
   {
    "duration": 9,
    "start_time": "2022-05-19T10:46:20.804Z"
   },
   {
    "duration": 53,
    "start_time": "2022-05-19T10:46:20.815Z"
   },
   {
    "duration": 4,
    "start_time": "2022-05-19T10:46:20.870Z"
   },
   {
    "duration": 11,
    "start_time": "2022-05-19T10:46:20.875Z"
   },
   {
    "duration": 7,
    "start_time": "2022-05-19T10:46:20.887Z"
   },
   {
    "duration": 9,
    "start_time": "2022-05-19T10:46:20.895Z"
   },
   {
    "duration": 8,
    "start_time": "2022-05-19T10:46:20.905Z"
   },
   {
    "duration": 5,
    "start_time": "2022-05-19T10:46:20.914Z"
   },
   {
    "duration": 7,
    "start_time": "2022-05-19T10:46:20.921Z"
   },
   {
    "duration": 5,
    "start_time": "2022-05-19T10:46:20.951Z"
   },
   {
    "duration": 11,
    "start_time": "2022-05-19T10:46:20.958Z"
   },
   {
    "duration": 14,
    "start_time": "2022-05-19T10:46:20.970Z"
   },
   {
    "duration": 4,
    "start_time": "2022-05-19T10:46:20.991Z"
   },
   {
    "duration": 10,
    "start_time": "2022-05-19T10:46:20.998Z"
   },
   {
    "duration": 9,
    "start_time": "2022-05-19T10:46:21.010Z"
   },
   {
    "duration": 13,
    "start_time": "2022-05-19T10:46:21.021Z"
   },
   {
    "duration": 20,
    "start_time": "2022-05-19T10:46:21.036Z"
   },
   {
    "duration": 8,
    "start_time": "2022-05-19T10:46:21.057Z"
   },
   {
    "duration": 43,
    "start_time": "2022-05-19T10:46:21.066Z"
   },
   {
    "duration": 4,
    "start_time": "2022-05-19T10:46:21.111Z"
   },
   {
    "duration": 9,
    "start_time": "2022-05-19T10:46:21.117Z"
   },
   {
    "duration": 9,
    "start_time": "2022-05-19T10:46:21.127Z"
   },
   {
    "duration": 18,
    "start_time": "2022-05-19T10:46:21.138Z"
   },
   {
    "duration": 7,
    "start_time": "2022-05-19T10:46:21.158Z"
   },
   {
    "duration": 11,
    "start_time": "2022-05-19T10:46:21.167Z"
   },
   {
    "duration": 57,
    "start_time": "2022-05-20T03:12:01.126Z"
   },
   {
    "duration": 1459,
    "start_time": "2022-05-20T03:12:04.560Z"
   },
   {
    "duration": 40,
    "start_time": "2022-05-20T03:12:06.022Z"
   },
   {
    "duration": 12,
    "start_time": "2022-05-20T03:12:06.063Z"
   },
   {
    "duration": 67,
    "start_time": "2022-05-20T03:12:06.078Z"
   },
   {
    "duration": 8,
    "start_time": "2022-05-20T03:12:06.147Z"
   },
   {
    "duration": 30,
    "start_time": "2022-05-20T03:12:06.157Z"
   },
   {
    "duration": 41,
    "start_time": "2022-05-20T03:12:06.189Z"
   },
   {
    "duration": 8,
    "start_time": "2022-05-20T03:12:06.231Z"
   },
   {
    "duration": 17,
    "start_time": "2022-05-20T03:12:06.241Z"
   },
   {
    "duration": 23,
    "start_time": "2022-05-20T03:12:06.260Z"
   },
   {
    "duration": 11,
    "start_time": "2022-05-20T03:12:06.284Z"
   },
   {
    "duration": 12,
    "start_time": "2022-05-20T03:12:06.297Z"
   },
   {
    "duration": 13,
    "start_time": "2022-05-20T03:12:06.311Z"
   },
   {
    "duration": 10,
    "start_time": "2022-05-20T03:12:06.326Z"
   },
   {
    "duration": 18,
    "start_time": "2022-05-20T03:12:06.338Z"
   },
   {
    "duration": 6,
    "start_time": "2022-05-20T03:12:06.357Z"
   },
   {
    "duration": 19,
    "start_time": "2022-05-20T03:12:06.365Z"
   },
   {
    "duration": 7,
    "start_time": "2022-05-20T03:12:06.387Z"
   },
   {
    "duration": 15,
    "start_time": "2022-05-20T03:12:06.395Z"
   },
   {
    "duration": 25,
    "start_time": "2022-05-20T03:12:06.412Z"
   },
   {
    "duration": 14,
    "start_time": "2022-05-20T03:12:06.439Z"
   },
   {
    "duration": 9,
    "start_time": "2022-05-20T03:12:06.455Z"
   },
   {
    "duration": 7,
    "start_time": "2022-05-20T03:12:06.466Z"
   },
   {
    "duration": 12,
    "start_time": "2022-05-20T03:12:06.475Z"
   },
   {
    "duration": 17,
    "start_time": "2022-05-20T03:12:06.493Z"
   },
   {
    "duration": 21,
    "start_time": "2022-05-20T03:12:06.511Z"
   },
   {
    "duration": 5,
    "start_time": "2022-05-20T03:12:06.534Z"
   },
   {
    "duration": 14,
    "start_time": "2022-05-20T03:12:06.544Z"
   },
   {
    "duration": 5,
    "start_time": "2022-05-20T03:12:06.559Z"
   },
   {
    "duration": 12,
    "start_time": "2022-05-20T03:12:06.566Z"
   },
   {
    "duration": 216,
    "start_time": "2022-05-20T03:12:06.579Z"
   },
   {
    "duration": 8,
    "start_time": "2022-05-20T03:12:06.797Z"
   },
   {
    "duration": 140,
    "start_time": "2022-05-20T03:12:06.807Z"
   },
   {
    "duration": 12,
    "start_time": "2022-05-20T03:12:06.949Z"
   },
   {
    "duration": 11,
    "start_time": "2022-05-20T03:12:06.962Z"
   },
   {
    "duration": 14,
    "start_time": "2022-05-20T03:12:06.975Z"
   },
   {
    "duration": 17,
    "start_time": "2022-05-20T03:12:06.991Z"
   },
   {
    "duration": 25,
    "start_time": "2022-05-20T03:12:07.026Z"
   },
   {
    "duration": 320,
    "start_time": "2022-05-20T03:12:07.053Z"
   },
   {
    "duration": 301,
    "start_time": "2022-05-20T03:12:07.375Z"
   },
   {
    "duration": 7,
    "start_time": "2022-05-20T03:12:07.678Z"
   },
   {
    "duration": 379,
    "start_time": "2022-05-20T03:12:07.687Z"
   },
   {
    "duration": 14,
    "start_time": "2022-05-20T03:12:08.067Z"
   },
   {
    "duration": 13,
    "start_time": "2022-05-20T03:12:08.084Z"
   },
   {
    "duration": 242,
    "start_time": "2022-05-20T03:12:08.099Z"
   },
   {
    "duration": 13,
    "start_time": "2022-05-20T03:12:08.343Z"
   },
   {
    "duration": 311,
    "start_time": "2022-05-20T03:12:08.358Z"
   },
   {
    "duration": 8,
    "start_time": "2022-05-20T03:12:08.671Z"
   },
   {
    "duration": 138,
    "start_time": "2022-05-20T03:12:08.680Z"
   },
   {
    "duration": 154,
    "start_time": "2022-05-20T03:12:08.819Z"
   },
   {
    "duration": 4,
    "start_time": "2022-05-20T03:12:09.027Z"
   },
   {
    "duration": 400,
    "start_time": "2022-05-20T03:12:09.033Z"
   },
   {
    "duration": 5,
    "start_time": "2022-05-20T03:12:09.434Z"
   },
   {
    "duration": 17,
    "start_time": "2022-05-20T03:12:09.441Z"
   },
   {
    "duration": 272,
    "start_time": "2022-05-20T03:12:09.459Z"
   },
   {
    "duration": 327,
    "start_time": "2022-05-20T03:12:09.733Z"
   },
   {
    "duration": 65,
    "start_time": "2022-05-20T03:12:10.062Z"
   },
   {
    "duration": 12,
    "start_time": "2022-05-20T03:12:10.129Z"
   },
   {
    "duration": 103,
    "start_time": "2022-05-20T03:12:10.142Z"
   },
   {
    "duration": 16,
    "start_time": "2022-05-20T03:12:10.247Z"
   },
   {
    "duration": 108,
    "start_time": "2022-05-20T03:12:10.265Z"
   },
   {
    "duration": 28,
    "start_time": "2022-05-20T03:12:10.427Z"
   },
   {
    "duration": 172,
    "start_time": "2022-05-20T03:12:10.457Z"
   },
   {
    "duration": 21,
    "start_time": "2022-05-20T03:12:10.631Z"
   },
   {
    "duration": 175,
    "start_time": "2022-05-20T03:12:10.655Z"
   },
   {
    "duration": 24,
    "start_time": "2022-05-20T03:12:10.831Z"
   },
   {
    "duration": 183,
    "start_time": "2022-05-20T03:12:10.857Z"
   },
   {
    "duration": 122,
    "start_time": "2022-05-20T03:12:11.042Z"
   },
   {
    "duration": 6,
    "start_time": "2022-05-20T03:12:11.166Z"
   },
   {
    "duration": 13,
    "start_time": "2022-05-20T03:12:11.174Z"
   },
   {
    "duration": 44,
    "start_time": "2022-05-20T03:12:11.189Z"
   },
   {
    "duration": 4,
    "start_time": "2022-05-20T03:12:11.235Z"
   },
   {
    "duration": 6,
    "start_time": "2022-05-20T03:12:11.241Z"
   },
   {
    "duration": 7,
    "start_time": "2022-05-20T03:12:11.249Z"
   },
   {
    "duration": 8,
    "start_time": "2022-05-20T03:12:11.258Z"
   },
   {
    "duration": 8,
    "start_time": "2022-05-20T03:12:11.268Z"
   },
   {
    "duration": 5,
    "start_time": "2022-05-20T03:12:11.278Z"
   },
   {
    "duration": 8,
    "start_time": "2022-05-20T03:12:11.284Z"
   },
   {
    "duration": 33,
    "start_time": "2022-05-20T03:12:11.293Z"
   },
   {
    "duration": 5,
    "start_time": "2022-05-20T03:12:11.328Z"
   },
   {
    "duration": 11,
    "start_time": "2022-05-20T03:12:11.335Z"
   },
   {
    "duration": 11,
    "start_time": "2022-05-20T03:12:11.352Z"
   },
   {
    "duration": 15,
    "start_time": "2022-05-20T03:12:11.364Z"
   },
   {
    "duration": 13,
    "start_time": "2022-05-20T03:12:11.382Z"
   },
   {
    "duration": 17,
    "start_time": "2022-05-20T03:12:11.397Z"
   },
   {
    "duration": 17,
    "start_time": "2022-05-20T03:12:11.416Z"
   },
   {
    "duration": 19,
    "start_time": "2022-05-20T03:12:11.435Z"
   },
   {
    "duration": 40,
    "start_time": "2022-05-20T03:12:11.456Z"
   },
   {
    "duration": 4,
    "start_time": "2022-05-20T03:12:11.497Z"
   },
   {
    "duration": 9,
    "start_time": "2022-05-20T03:12:11.503Z"
   },
   {
    "duration": 10,
    "start_time": "2022-05-20T03:12:11.514Z"
   },
   {
    "duration": 10,
    "start_time": "2022-05-20T03:12:11.525Z"
   },
   {
    "duration": 6,
    "start_time": "2022-05-20T03:12:11.537Z"
   },
   {
    "duration": 14,
    "start_time": "2022-05-20T03:12:11.545Z"
   },
   {
    "duration": 8,
    "start_time": "2022-05-20T03:12:18.264Z"
   },
   {
    "duration": 12,
    "start_time": "2022-05-20T03:13:25.325Z"
   },
   {
    "duration": 5,
    "start_time": "2022-05-20T03:23:04.830Z"
   },
   {
    "duration": 6,
    "start_time": "2022-05-20T03:23:25.061Z"
   }
  ],
  "kernelspec": {
   "display_name": "Python 3 (ipykernel)",
   "language": "python",
   "name": "python3"
  },
  "language_info": {
   "codemirror_mode": {
    "name": "ipython",
    "version": 3
   },
   "file_extension": ".py",
   "mimetype": "text/x-python",
   "name": "python",
   "nbconvert_exporter": "python",
   "pygments_lexer": "ipython3",
   "version": "3.9.7"
  },
  "toc": {
   "base_numbering": 1,
   "nav_menu": {},
   "number_sections": true,
   "sideBar": true,
   "skip_h1_title": true,
   "title_cell": "Table of Contents",
   "title_sidebar": "Contents",
   "toc_cell": false,
   "toc_position": {
    "height": "calc(100% - 180px)",
    "left": "10px",
    "top": "150px",
    "width": "339.903px"
   },
   "toc_section_display": true,
   "toc_window_display": true
  }
 },
 "nbformat": 4,
 "nbformat_minor": 2
}
