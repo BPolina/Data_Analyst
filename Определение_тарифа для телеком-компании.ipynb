{
 "cells": [
  {
   "cell_type": "markdown",
   "metadata": {},
   "source": [
    "#  Определение перспективного тарифа для телеком-компании"
   ]
  },
  {
   "cell_type": "markdown",
   "metadata": {},
   "source": [
    "Дана выборка клиетнов компании «Мегалайна»: кто они, откуда, каким тарифом пользуются, сколько звонков и сообщений каждый отправил за 2018 год.\n",
    "\n",
    "Цель работы - определить какой тариф лучше.\n",
    "\n",
    "Тариф «Смарт»   \n",
    "Ежемесячная плата: 550 рублей   \n",
    "Включено 500 минут разговора, 50 сообщений и 15 Гб интернет-трафика   \n",
    "Стоимость услуг сверх тарифного пакета: минута разговора: 3 рубля сообщение: 3 рубля 1 Гб интернет-трафика: 200 рублей\n",
    "\n",
    "Тариф «Ультра»  \n",
    "Ежемесячная плата: 1950 рублей   \n",
    "Включено 3000 минут разговора, 1000 сообщений и 30 Гб интернет-трафика   \n",
    "Стоимость услуг сверх тарифного пакета: минута разговора: 1 рубль сообщение: 1 рубль 1 Гб интернет-трафика: 150 рублей\n",
    "\n",
    "Задачи:  \n",
    "- Знакомство с данными.  \n",
    "- Анализ данных выборки.  \n",
    "- Анализ поведения клиентов.  \n",
    "\n",
    "\n",
    "Важные примечания:   \n",
    "«Мегалайн» всегда округляет секунды до минут, а мегабайты — до гигабайт. Каждый звонок округляется отдельно: даже если он длился всего 1 секунду, будет засчитан как 1 минута.\n",
    "\n",
    "\n",
    "\n",
    "Для веб-трафика отдельные сессии не считаются. Вместо этого общая сумма за месяц округляется в бо́льшую сторону. Если абонент использует 1025 мегабайт в этом месяце, с него возьмут плату за 2 гигабайта."
   ]
  },
  {
   "cell_type": "markdown",
   "metadata": {},
   "source": [
    "## Выгрузка, знакомство с данными "
   ]
  },
  {
   "cell_type": "code",
   "execution_count": 1,
   "metadata": {},
   "outputs": [],
   "source": [
    "import pandas as pd\n",
    "from scipy import stats as st\n",
    "import numpy as np\n"
   ]
  },
  {
   "cell_type": "code",
   "execution_count": 2,
   "metadata": {
    "scrolled": true
   },
   "outputs": [
    {
     "name": "stdout",
     "output_type": "stream",
     "text": [
      "<class 'pandas.core.frame.DataFrame'>\n",
      "RangeIndex: 202607 entries, 0 to 202606\n",
      "Data columns (total 4 columns):\n",
      " #   Column     Non-Null Count   Dtype  \n",
      "---  ------     --------------   -----  \n",
      " 0   id         202607 non-null  object \n",
      " 1   call_date  202607 non-null  object \n",
      " 2   duration   202607 non-null  float64\n",
      " 3   user_id    202607 non-null  int64  \n",
      "dtypes: float64(1), int64(1), object(2)\n",
      "memory usage: 6.2+ MB\n"
     ]
    }
   ],
   "source": [
    "calls =pd.read_csv('/datasets/calls.csv', sep=',') #обзор таблицы звонки \n",
    "calls.info()"
   ]
  },
  {
   "cell_type": "code",
   "execution_count": 3,
   "metadata": {},
   "outputs": [
    {
     "data": {
      "text/html": [
       "<div>\n",
       "<style scoped>\n",
       "    .dataframe tbody tr th:only-of-type {\n",
       "        vertical-align: middle;\n",
       "    }\n",
       "\n",
       "    .dataframe tbody tr th {\n",
       "        vertical-align: top;\n",
       "    }\n",
       "\n",
       "    .dataframe thead th {\n",
       "        text-align: right;\n",
       "    }\n",
       "</style>\n",
       "<table border=\"1\" class=\"dataframe\">\n",
       "  <thead>\n",
       "    <tr style=\"text-align: right;\">\n",
       "      <th></th>\n",
       "      <th>id</th>\n",
       "      <th>call_date</th>\n",
       "      <th>duration</th>\n",
       "      <th>user_id</th>\n",
       "    </tr>\n",
       "  </thead>\n",
       "  <tbody>\n",
       "    <tr>\n",
       "      <th>0</th>\n",
       "      <td>1000_0</td>\n",
       "      <td>2018-07-25</td>\n",
       "      <td>0.00</td>\n",
       "      <td>1000</td>\n",
       "    </tr>\n",
       "    <tr>\n",
       "      <th>1</th>\n",
       "      <td>1000_1</td>\n",
       "      <td>2018-08-17</td>\n",
       "      <td>0.00</td>\n",
       "      <td>1000</td>\n",
       "    </tr>\n",
       "    <tr>\n",
       "      <th>2</th>\n",
       "      <td>1000_2</td>\n",
       "      <td>2018-06-11</td>\n",
       "      <td>2.85</td>\n",
       "      <td>1000</td>\n",
       "    </tr>\n",
       "    <tr>\n",
       "      <th>3</th>\n",
       "      <td>1000_3</td>\n",
       "      <td>2018-09-21</td>\n",
       "      <td>13.80</td>\n",
       "      <td>1000</td>\n",
       "    </tr>\n",
       "    <tr>\n",
       "      <th>4</th>\n",
       "      <td>1000_4</td>\n",
       "      <td>2018-12-15</td>\n",
       "      <td>5.18</td>\n",
       "      <td>1000</td>\n",
       "    </tr>\n",
       "  </tbody>\n",
       "</table>\n",
       "</div>"
      ],
      "text/plain": [
       "       id   call_date  duration  user_id\n",
       "0  1000_0  2018-07-25      0.00     1000\n",
       "1  1000_1  2018-08-17      0.00     1000\n",
       "2  1000_2  2018-06-11      2.85     1000\n",
       "3  1000_3  2018-09-21     13.80     1000\n",
       "4  1000_4  2018-12-15      5.18     1000"
      ]
     },
     "execution_count": 3,
     "metadata": {},
     "output_type": "execute_result"
    }
   ],
   "source": [
    "calls.head()"
   ]
  },
  {
   "cell_type": "code",
   "execution_count": 4,
   "metadata": {
    "scrolled": true
   },
   "outputs": [
    {
     "name": "stdout",
     "output_type": "stream",
     "text": [
      "<class 'pandas.core.frame.DataFrame'>\n",
      "RangeIndex: 149396 entries, 0 to 149395\n",
      "Data columns (total 5 columns):\n",
      " #   Column        Non-Null Count   Dtype  \n",
      "---  ------        --------------   -----  \n",
      " 0   Unnamed: 0    149396 non-null  int64  \n",
      " 1   id            149396 non-null  object \n",
      " 2   mb_used       149396 non-null  float64\n",
      " 3   session_date  149396 non-null  object \n",
      " 4   user_id       149396 non-null  int64  \n",
      "dtypes: float64(1), int64(2), object(2)\n",
      "memory usage: 5.7+ MB\n"
     ]
    }
   ],
   "source": [
    "internet = pd.read_csv('/datasets/internet.csv', sep=',')\n",
    "internet.info()"
   ]
  },
  {
   "cell_type": "code",
   "execution_count": 5,
   "metadata": {
    "scrolled": true
   },
   "outputs": [
    {
     "data": {
      "text/html": [
       "<div>\n",
       "<style scoped>\n",
       "    .dataframe tbody tr th:only-of-type {\n",
       "        vertical-align: middle;\n",
       "    }\n",
       "\n",
       "    .dataframe tbody tr th {\n",
       "        vertical-align: top;\n",
       "    }\n",
       "\n",
       "    .dataframe thead th {\n",
       "        text-align: right;\n",
       "    }\n",
       "</style>\n",
       "<table border=\"1\" class=\"dataframe\">\n",
       "  <thead>\n",
       "    <tr style=\"text-align: right;\">\n",
       "      <th></th>\n",
       "      <th>Unnamed: 0</th>\n",
       "      <th>id</th>\n",
       "      <th>mb_used</th>\n",
       "      <th>session_date</th>\n",
       "      <th>user_id</th>\n",
       "    </tr>\n",
       "  </thead>\n",
       "  <tbody>\n",
       "    <tr>\n",
       "      <th>0</th>\n",
       "      <td>0</td>\n",
       "      <td>1000_0</td>\n",
       "      <td>112.95</td>\n",
       "      <td>2018-11-25</td>\n",
       "      <td>1000</td>\n",
       "    </tr>\n",
       "    <tr>\n",
       "      <th>1</th>\n",
       "      <td>1</td>\n",
       "      <td>1000_1</td>\n",
       "      <td>1052.81</td>\n",
       "      <td>2018-09-07</td>\n",
       "      <td>1000</td>\n",
       "    </tr>\n",
       "    <tr>\n",
       "      <th>2</th>\n",
       "      <td>2</td>\n",
       "      <td>1000_2</td>\n",
       "      <td>1197.26</td>\n",
       "      <td>2018-06-25</td>\n",
       "      <td>1000</td>\n",
       "    </tr>\n",
       "    <tr>\n",
       "      <th>3</th>\n",
       "      <td>3</td>\n",
       "      <td>1000_3</td>\n",
       "      <td>550.27</td>\n",
       "      <td>2018-08-22</td>\n",
       "      <td>1000</td>\n",
       "    </tr>\n",
       "    <tr>\n",
       "      <th>4</th>\n",
       "      <td>4</td>\n",
       "      <td>1000_4</td>\n",
       "      <td>302.56</td>\n",
       "      <td>2018-09-24</td>\n",
       "      <td>1000</td>\n",
       "    </tr>\n",
       "  </tbody>\n",
       "</table>\n",
       "</div>"
      ],
      "text/plain": [
       "   Unnamed: 0      id  mb_used session_date  user_id\n",
       "0           0  1000_0   112.95   2018-11-25     1000\n",
       "1           1  1000_1  1052.81   2018-09-07     1000\n",
       "2           2  1000_2  1197.26   2018-06-25     1000\n",
       "3           3  1000_3   550.27   2018-08-22     1000\n",
       "4           4  1000_4   302.56   2018-09-24     1000"
      ]
     },
     "execution_count": 5,
     "metadata": {},
     "output_type": "execute_result"
    }
   ],
   "source": [
    "internet.head()"
   ]
  },
  {
   "cell_type": "code",
   "execution_count": 6,
   "metadata": {
    "scrolled": true
   },
   "outputs": [
    {
     "name": "stdout",
     "output_type": "stream",
     "text": [
      "<class 'pandas.core.frame.DataFrame'>\n",
      "RangeIndex: 123036 entries, 0 to 123035\n",
      "Data columns (total 3 columns):\n",
      " #   Column        Non-Null Count   Dtype \n",
      "---  ------        --------------   ----- \n",
      " 0   id            123036 non-null  object\n",
      " 1   message_date  123036 non-null  object\n",
      " 2   user_id       123036 non-null  int64 \n",
      "dtypes: int64(1), object(2)\n",
      "memory usage: 2.8+ MB\n"
     ]
    }
   ],
   "source": [
    "messages = pd.read_csv('/datasets/messages.csv', sep=',')\n",
    "messages.info()"
   ]
  },
  {
   "cell_type": "code",
   "execution_count": 7,
   "metadata": {
    "scrolled": true
   },
   "outputs": [
    {
     "data": {
      "text/html": [
       "<div>\n",
       "<style scoped>\n",
       "    .dataframe tbody tr th:only-of-type {\n",
       "        vertical-align: middle;\n",
       "    }\n",
       "\n",
       "    .dataframe tbody tr th {\n",
       "        vertical-align: top;\n",
       "    }\n",
       "\n",
       "    .dataframe thead th {\n",
       "        text-align: right;\n",
       "    }\n",
       "</style>\n",
       "<table border=\"1\" class=\"dataframe\">\n",
       "  <thead>\n",
       "    <tr style=\"text-align: right;\">\n",
       "      <th></th>\n",
       "      <th>id</th>\n",
       "      <th>message_date</th>\n",
       "      <th>user_id</th>\n",
       "    </tr>\n",
       "  </thead>\n",
       "  <tbody>\n",
       "    <tr>\n",
       "      <th>0</th>\n",
       "      <td>1000_0</td>\n",
       "      <td>2018-06-27</td>\n",
       "      <td>1000</td>\n",
       "    </tr>\n",
       "    <tr>\n",
       "      <th>1</th>\n",
       "      <td>1000_1</td>\n",
       "      <td>2018-10-08</td>\n",
       "      <td>1000</td>\n",
       "    </tr>\n",
       "    <tr>\n",
       "      <th>2</th>\n",
       "      <td>1000_2</td>\n",
       "      <td>2018-08-04</td>\n",
       "      <td>1000</td>\n",
       "    </tr>\n",
       "    <tr>\n",
       "      <th>3</th>\n",
       "      <td>1000_3</td>\n",
       "      <td>2018-06-16</td>\n",
       "      <td>1000</td>\n",
       "    </tr>\n",
       "    <tr>\n",
       "      <th>4</th>\n",
       "      <td>1000_4</td>\n",
       "      <td>2018-12-05</td>\n",
       "      <td>1000</td>\n",
       "    </tr>\n",
       "  </tbody>\n",
       "</table>\n",
       "</div>"
      ],
      "text/plain": [
       "       id message_date  user_id\n",
       "0  1000_0   2018-06-27     1000\n",
       "1  1000_1   2018-10-08     1000\n",
       "2  1000_2   2018-08-04     1000\n",
       "3  1000_3   2018-06-16     1000\n",
       "4  1000_4   2018-12-05     1000"
      ]
     },
     "execution_count": 7,
     "metadata": {},
     "output_type": "execute_result"
    }
   ],
   "source": [
    "messages.head()"
   ]
  },
  {
   "cell_type": "code",
   "execution_count": 8,
   "metadata": {
    "scrolled": true
   },
   "outputs": [
    {
     "name": "stdout",
     "output_type": "stream",
     "text": [
      "<class 'pandas.core.frame.DataFrame'>\n",
      "RangeIndex: 2 entries, 0 to 1\n",
      "Data columns (total 8 columns):\n",
      " #   Column                 Non-Null Count  Dtype \n",
      "---  ------                 --------------  ----- \n",
      " 0   messages_included      2 non-null      int64 \n",
      " 1   mb_per_month_included  2 non-null      int64 \n",
      " 2   minutes_included       2 non-null      int64 \n",
      " 3   rub_monthly_fee        2 non-null      int64 \n",
      " 4   rub_per_gb             2 non-null      int64 \n",
      " 5   rub_per_message        2 non-null      int64 \n",
      " 6   rub_per_minute         2 non-null      int64 \n",
      " 7   tariff_name            2 non-null      object\n",
      "dtypes: int64(7), object(1)\n",
      "memory usage: 256.0+ bytes\n"
     ]
    }
   ],
   "source": [
    "tariffs = pd.read_csv('/datasets/tariffs.csv', sep=',')\n",
    "tariffs.info()"
   ]
  },
  {
   "cell_type": "code",
   "execution_count": 9,
   "metadata": {
    "scrolled": true
   },
   "outputs": [
    {
     "data": {
      "text/html": [
       "<div>\n",
       "<style scoped>\n",
       "    .dataframe tbody tr th:only-of-type {\n",
       "        vertical-align: middle;\n",
       "    }\n",
       "\n",
       "    .dataframe tbody tr th {\n",
       "        vertical-align: top;\n",
       "    }\n",
       "\n",
       "    .dataframe thead th {\n",
       "        text-align: right;\n",
       "    }\n",
       "</style>\n",
       "<table border=\"1\" class=\"dataframe\">\n",
       "  <thead>\n",
       "    <tr style=\"text-align: right;\">\n",
       "      <th></th>\n",
       "      <th>messages_included</th>\n",
       "      <th>mb_per_month_included</th>\n",
       "      <th>minutes_included</th>\n",
       "      <th>rub_monthly_fee</th>\n",
       "      <th>rub_per_gb</th>\n",
       "      <th>rub_per_message</th>\n",
       "      <th>rub_per_minute</th>\n",
       "      <th>tariff_name</th>\n",
       "    </tr>\n",
       "  </thead>\n",
       "  <tbody>\n",
       "    <tr>\n",
       "      <th>0</th>\n",
       "      <td>50</td>\n",
       "      <td>15360</td>\n",
       "      <td>500</td>\n",
       "      <td>550</td>\n",
       "      <td>200</td>\n",
       "      <td>3</td>\n",
       "      <td>3</td>\n",
       "      <td>smart</td>\n",
       "    </tr>\n",
       "    <tr>\n",
       "      <th>1</th>\n",
       "      <td>1000</td>\n",
       "      <td>30720</td>\n",
       "      <td>3000</td>\n",
       "      <td>1950</td>\n",
       "      <td>150</td>\n",
       "      <td>1</td>\n",
       "      <td>1</td>\n",
       "      <td>ultra</td>\n",
       "    </tr>\n",
       "  </tbody>\n",
       "</table>\n",
       "</div>"
      ],
      "text/plain": [
       "   messages_included  mb_per_month_included  minutes_included  \\\n",
       "0                 50                  15360               500   \n",
       "1               1000                  30720              3000   \n",
       "\n",
       "   rub_monthly_fee  rub_per_gb  rub_per_message  rub_per_minute tariff_name  \n",
       "0              550         200                3               3       smart  \n",
       "1             1950         150                1               1       ultra  "
      ]
     },
     "execution_count": 9,
     "metadata": {},
     "output_type": "execute_result"
    }
   ],
   "source": [
    "tariffs.head()"
   ]
  },
  {
   "cell_type": "code",
   "execution_count": 10,
   "metadata": {
    "scrolled": true
   },
   "outputs": [
    {
     "name": "stdout",
     "output_type": "stream",
     "text": [
      "<class 'pandas.core.frame.DataFrame'>\n",
      "RangeIndex: 500 entries, 0 to 499\n",
      "Data columns (total 8 columns):\n",
      " #   Column      Non-Null Count  Dtype \n",
      "---  ------      --------------  ----- \n",
      " 0   user_id     500 non-null    int64 \n",
      " 1   age         500 non-null    int64 \n",
      " 2   churn_date  38 non-null     object\n",
      " 3   city        500 non-null    object\n",
      " 4   first_name  500 non-null    object\n",
      " 5   last_name   500 non-null    object\n",
      " 6   reg_date    500 non-null    object\n",
      " 7   tariff      500 non-null    object\n",
      "dtypes: int64(2), object(6)\n",
      "memory usage: 31.4+ KB\n"
     ]
    }
   ],
   "source": [
    "users = pd.read_csv('/datasets/users.csv', sep=',')\n",
    "users.info()"
   ]
  },
  {
   "cell_type": "code",
   "execution_count": 11,
   "metadata": {},
   "outputs": [
    {
     "data": {
      "text/plain": [
       "user_id         0\n",
       "age             0\n",
       "churn_date    462\n",
       "city            0\n",
       "first_name      0\n",
       "last_name       0\n",
       "reg_date        0\n",
       "tariff          0\n",
       "dtype: int64"
      ]
     },
     "execution_count": 11,
     "metadata": {},
     "output_type": "execute_result"
    }
   ],
   "source": [
    "users.isna().sum()"
   ]
  },
  {
   "cell_type": "code",
   "execution_count": 12,
   "metadata": {},
   "outputs": [
    {
     "data": {
      "text/html": [
       "<div>\n",
       "<style scoped>\n",
       "    .dataframe tbody tr th:only-of-type {\n",
       "        vertical-align: middle;\n",
       "    }\n",
       "\n",
       "    .dataframe tbody tr th {\n",
       "        vertical-align: top;\n",
       "    }\n",
       "\n",
       "    .dataframe thead th {\n",
       "        text-align: right;\n",
       "    }\n",
       "</style>\n",
       "<table border=\"1\" class=\"dataframe\">\n",
       "  <thead>\n",
       "    <tr style=\"text-align: right;\">\n",
       "      <th></th>\n",
       "      <th>user_id</th>\n",
       "      <th>age</th>\n",
       "      <th>churn_date</th>\n",
       "      <th>city</th>\n",
       "      <th>first_name</th>\n",
       "      <th>last_name</th>\n",
       "      <th>reg_date</th>\n",
       "      <th>tariff</th>\n",
       "    </tr>\n",
       "  </thead>\n",
       "  <tbody>\n",
       "    <tr>\n",
       "      <th>0</th>\n",
       "      <td>1000</td>\n",
       "      <td>52</td>\n",
       "      <td>NaN</td>\n",
       "      <td>Краснодар</td>\n",
       "      <td>Рафаил</td>\n",
       "      <td>Верещагин</td>\n",
       "      <td>2018-05-25</td>\n",
       "      <td>ultra</td>\n",
       "    </tr>\n",
       "    <tr>\n",
       "      <th>1</th>\n",
       "      <td>1001</td>\n",
       "      <td>41</td>\n",
       "      <td>NaN</td>\n",
       "      <td>Москва</td>\n",
       "      <td>Иван</td>\n",
       "      <td>Ежов</td>\n",
       "      <td>2018-11-01</td>\n",
       "      <td>smart</td>\n",
       "    </tr>\n",
       "    <tr>\n",
       "      <th>2</th>\n",
       "      <td>1002</td>\n",
       "      <td>59</td>\n",
       "      <td>NaN</td>\n",
       "      <td>Стерлитамак</td>\n",
       "      <td>Евгений</td>\n",
       "      <td>Абрамович</td>\n",
       "      <td>2018-06-17</td>\n",
       "      <td>smart</td>\n",
       "    </tr>\n",
       "    <tr>\n",
       "      <th>3</th>\n",
       "      <td>1003</td>\n",
       "      <td>23</td>\n",
       "      <td>NaN</td>\n",
       "      <td>Москва</td>\n",
       "      <td>Белла</td>\n",
       "      <td>Белякова</td>\n",
       "      <td>2018-08-17</td>\n",
       "      <td>ultra</td>\n",
       "    </tr>\n",
       "    <tr>\n",
       "      <th>4</th>\n",
       "      <td>1004</td>\n",
       "      <td>68</td>\n",
       "      <td>NaN</td>\n",
       "      <td>Новокузнецк</td>\n",
       "      <td>Татьяна</td>\n",
       "      <td>Авдеенко</td>\n",
       "      <td>2018-05-14</td>\n",
       "      <td>ultra</td>\n",
       "    </tr>\n",
       "  </tbody>\n",
       "</table>\n",
       "</div>"
      ],
      "text/plain": [
       "   user_id  age churn_date         city first_name  last_name    reg_date  \\\n",
       "0     1000   52        NaN    Краснодар     Рафаил  Верещагин  2018-05-25   \n",
       "1     1001   41        NaN       Москва       Иван       Ежов  2018-11-01   \n",
       "2     1002   59        NaN  Стерлитамак    Евгений  Абрамович  2018-06-17   \n",
       "3     1003   23        NaN       Москва      Белла   Белякова  2018-08-17   \n",
       "4     1004   68        NaN  Новокузнецк    Татьяна   Авдеенко  2018-05-14   \n",
       "\n",
       "  tariff  \n",
       "0  ultra  \n",
       "1  smart  \n",
       "2  smart  \n",
       "3  ultra  \n",
       "4  ultra  "
      ]
     },
     "execution_count": 12,
     "metadata": {},
     "output_type": "execute_result"
    }
   ],
   "source": [
    "users.head()\n"
   ]
  },
  {
   "cell_type": "markdown",
   "metadata": {},
   "source": [
    "Выводы  \n",
    "\n",
    "В таблице callse 202 607 строк и 4 столбца, пропущенных значений нет. Звонки с нулевой продолжительностью - не ошибочны, это значит, что звонок пропущен. Выявлено, что:   \n",
    "1.В таблице calls в duration нужно значения в секундном выражении округлить в большую сторону, т.к. по условиям компании если звонок длился всего 1 секунду, будет засчитан как 1 минута. Данные должны быть цельночисленными.  \n",
    "2.Изменить формат времени, выделить месяц.\n",
    "\n",
    "В таблице internrt 149 396 строк и 5 столбцов, пропущенных значений нет. Выявлено, что:  \n",
    "1.Изменить формат времени, выделить месяц.\n",
    "\n",
    "В таблице messages 123 036 строки и 3 столбца.  \n",
    "1.Изменить формат времени, выделить месяц.\n",
    "\n",
    "В таблице users 500  строк и 8 столбцов. Выявлено, что:  \n",
    "1.Изменить формат времени, выделить месяц.  \n",
    "2.Имеются пропущенные значения  в столбце churn_date - 462, но данные пропуски не являются ошибочными, это значит,тариф ещё действовал на момент выгрузки данных."
   ]
  },
  {
   "cell_type": "markdown",
   "metadata": {},
   "source": [
    "## Подготовка данных"
   ]
  },
  {
   "cell_type": "code",
   "execution_count": 13,
   "metadata": {},
   "outputs": [],
   "source": [
    "#преобразование файлов \n",
    "calls['duration'] = np.ceil(calls['duration']) #округление\n",
    "calls['duration'] = calls['duration'].astype('int') #изменение типа \n"
   ]
  },
  {
   "cell_type": "code",
   "execution_count": 14,
   "metadata": {},
   "outputs": [],
   "source": [
    "#добавление столбца месяц во все таблицы\n",
    "calls['month'] = pd.to_datetime(calls['call_date']).dt.month \n",
    "messages['month'] = pd.to_datetime(messages['message_date']).dt.month\n",
    "internet['month'] = pd.to_datetime(internet['session_date']).dt.month\n"
   ]
  },
  {
   "cell_type": "code",
   "execution_count": 15,
   "metadata": {},
   "outputs": [],
   "source": [
    "#проработка таблицы звонки, добавление количества звноков, длительности по месяцам\n",
    "calls = calls.pivot_table(index=['user_id', 'month'],\n",
    "                            values='duration',\n",
    "                            aggfunc=('sum', 'count')).reset_index()\n",
    "calls.columns = ['user_id', 'month', 'call_numbers', 'duration']"
   ]
  },
  {
   "cell_type": "code",
   "execution_count": 16,
   "metadata": {
    "scrolled": false
   },
   "outputs": [
    {
     "data": {
      "text/html": [
       "<div>\n",
       "<style scoped>\n",
       "    .dataframe tbody tr th:only-of-type {\n",
       "        vertical-align: middle;\n",
       "    }\n",
       "\n",
       "    .dataframe tbody tr th {\n",
       "        vertical-align: top;\n",
       "    }\n",
       "\n",
       "    .dataframe thead th {\n",
       "        text-align: right;\n",
       "    }\n",
       "</style>\n",
       "<table border=\"1\" class=\"dataframe\">\n",
       "  <thead>\n",
       "    <tr style=\"text-align: right;\">\n",
       "      <th></th>\n",
       "      <th>user_id</th>\n",
       "      <th>month</th>\n",
       "      <th>call_numbers</th>\n",
       "      <th>duration</th>\n",
       "    </tr>\n",
       "  </thead>\n",
       "  <tbody>\n",
       "    <tr>\n",
       "      <th>0</th>\n",
       "      <td>1000</td>\n",
       "      <td>5</td>\n",
       "      <td>22</td>\n",
       "      <td>159</td>\n",
       "    </tr>\n",
       "    <tr>\n",
       "      <th>1</th>\n",
       "      <td>1000</td>\n",
       "      <td>6</td>\n",
       "      <td>43</td>\n",
       "      <td>172</td>\n",
       "    </tr>\n",
       "    <tr>\n",
       "      <th>2</th>\n",
       "      <td>1000</td>\n",
       "      <td>7</td>\n",
       "      <td>47</td>\n",
       "      <td>340</td>\n",
       "    </tr>\n",
       "    <tr>\n",
       "      <th>3</th>\n",
       "      <td>1000</td>\n",
       "      <td>8</td>\n",
       "      <td>52</td>\n",
       "      <td>408</td>\n",
       "    </tr>\n",
       "    <tr>\n",
       "      <th>4</th>\n",
       "      <td>1000</td>\n",
       "      <td>9</td>\n",
       "      <td>58</td>\n",
       "      <td>466</td>\n",
       "    </tr>\n",
       "  </tbody>\n",
       "</table>\n",
       "</div>"
      ],
      "text/plain": [
       "   user_id  month  call_numbers  duration\n",
       "0     1000      5            22       159\n",
       "1     1000      6            43       172\n",
       "2     1000      7            47       340\n",
       "3     1000      8            52       408\n",
       "4     1000      9            58       466"
      ]
     },
     "execution_count": 16,
     "metadata": {},
     "output_type": "execute_result"
    }
   ],
   "source": [
    "calls.head(5)"
   ]
  },
  {
   "cell_type": "code",
   "execution_count": 17,
   "metadata": {},
   "outputs": [],
   "source": [
    "#проработка таблицы сообщений, добавление количества сообщений\n",
    "messages = messages.pivot_table(index=['user_id', 'month'],\n",
    "                               values='id',\n",
    "                               aggfunc=('count')).reset_index()\n",
    "\n",
    "messages.columns = ['user_id', 'month', 'message_numbers']"
   ]
  },
  {
   "cell_type": "code",
   "execution_count": 18,
   "metadata": {
    "scrolled": true
   },
   "outputs": [
    {
     "data": {
      "text/html": [
       "<div>\n",
       "<style scoped>\n",
       "    .dataframe tbody tr th:only-of-type {\n",
       "        vertical-align: middle;\n",
       "    }\n",
       "\n",
       "    .dataframe tbody tr th {\n",
       "        vertical-align: top;\n",
       "    }\n",
       "\n",
       "    .dataframe thead th {\n",
       "        text-align: right;\n",
       "    }\n",
       "</style>\n",
       "<table border=\"1\" class=\"dataframe\">\n",
       "  <thead>\n",
       "    <tr style=\"text-align: right;\">\n",
       "      <th></th>\n",
       "      <th>user_id</th>\n",
       "      <th>month</th>\n",
       "      <th>message_numbers</th>\n",
       "    </tr>\n",
       "  </thead>\n",
       "  <tbody>\n",
       "    <tr>\n",
       "      <th>0</th>\n",
       "      <td>1000</td>\n",
       "      <td>5</td>\n",
       "      <td>22</td>\n",
       "    </tr>\n",
       "    <tr>\n",
       "      <th>1</th>\n",
       "      <td>1000</td>\n",
       "      <td>6</td>\n",
       "      <td>60</td>\n",
       "    </tr>\n",
       "    <tr>\n",
       "      <th>2</th>\n",
       "      <td>1000</td>\n",
       "      <td>7</td>\n",
       "      <td>75</td>\n",
       "    </tr>\n",
       "    <tr>\n",
       "      <th>3</th>\n",
       "      <td>1000</td>\n",
       "      <td>8</td>\n",
       "      <td>81</td>\n",
       "    </tr>\n",
       "    <tr>\n",
       "      <th>4</th>\n",
       "      <td>1000</td>\n",
       "      <td>9</td>\n",
       "      <td>57</td>\n",
       "    </tr>\n",
       "  </tbody>\n",
       "</table>\n",
       "</div>"
      ],
      "text/plain": [
       "   user_id  month  message_numbers\n",
       "0     1000      5               22\n",
       "1     1000      6               60\n",
       "2     1000      7               75\n",
       "3     1000      8               81\n",
       "4     1000      9               57"
      ]
     },
     "execution_count": 18,
     "metadata": {},
     "output_type": "execute_result"
    }
   ],
   "source": [
    "messages.head(5)"
   ]
  },
  {
   "cell_type": "code",
   "execution_count": 19,
   "metadata": {},
   "outputs": [
    {
     "data": {
      "text/html": [
       "<div>\n",
       "<style scoped>\n",
       "    .dataframe tbody tr th:only-of-type {\n",
       "        vertical-align: middle;\n",
       "    }\n",
       "\n",
       "    .dataframe tbody tr th {\n",
       "        vertical-align: top;\n",
       "    }\n",
       "\n",
       "    .dataframe thead th {\n",
       "        text-align: right;\n",
       "    }\n",
       "</style>\n",
       "<table border=\"1\" class=\"dataframe\">\n",
       "  <thead>\n",
       "    <tr style=\"text-align: right;\">\n",
       "      <th></th>\n",
       "      <th>Unnamed: 0</th>\n",
       "      <th>id</th>\n",
       "      <th>mb_used</th>\n",
       "      <th>session_date</th>\n",
       "      <th>user_id</th>\n",
       "      <th>month</th>\n",
       "    </tr>\n",
       "  </thead>\n",
       "  <tbody>\n",
       "    <tr>\n",
       "      <th>0</th>\n",
       "      <td>0</td>\n",
       "      <td>1000_0</td>\n",
       "      <td>112.95</td>\n",
       "      <td>2018-11-25</td>\n",
       "      <td>1000</td>\n",
       "      <td>11</td>\n",
       "    </tr>\n",
       "    <tr>\n",
       "      <th>1</th>\n",
       "      <td>1</td>\n",
       "      <td>1000_1</td>\n",
       "      <td>1052.81</td>\n",
       "      <td>2018-09-07</td>\n",
       "      <td>1000</td>\n",
       "      <td>9</td>\n",
       "    </tr>\n",
       "    <tr>\n",
       "      <th>2</th>\n",
       "      <td>2</td>\n",
       "      <td>1000_2</td>\n",
       "      <td>1197.26</td>\n",
       "      <td>2018-06-25</td>\n",
       "      <td>1000</td>\n",
       "      <td>6</td>\n",
       "    </tr>\n",
       "    <tr>\n",
       "      <th>3</th>\n",
       "      <td>3</td>\n",
       "      <td>1000_3</td>\n",
       "      <td>550.27</td>\n",
       "      <td>2018-08-22</td>\n",
       "      <td>1000</td>\n",
       "      <td>8</td>\n",
       "    </tr>\n",
       "    <tr>\n",
       "      <th>4</th>\n",
       "      <td>4</td>\n",
       "      <td>1000_4</td>\n",
       "      <td>302.56</td>\n",
       "      <td>2018-09-24</td>\n",
       "      <td>1000</td>\n",
       "      <td>9</td>\n",
       "    </tr>\n",
       "    <tr>\n",
       "      <th>...</th>\n",
       "      <td>...</td>\n",
       "      <td>...</td>\n",
       "      <td>...</td>\n",
       "      <td>...</td>\n",
       "      <td>...</td>\n",
       "      <td>...</td>\n",
       "    </tr>\n",
       "    <tr>\n",
       "      <th>149391</th>\n",
       "      <td>149391</td>\n",
       "      <td>1499_152</td>\n",
       "      <td>318.90</td>\n",
       "      <td>2018-10-03</td>\n",
       "      <td>1499</td>\n",
       "      <td>10</td>\n",
       "    </tr>\n",
       "    <tr>\n",
       "      <th>149392</th>\n",
       "      <td>149392</td>\n",
       "      <td>1499_153</td>\n",
       "      <td>490.13</td>\n",
       "      <td>2018-12-14</td>\n",
       "      <td>1499</td>\n",
       "      <td>12</td>\n",
       "    </tr>\n",
       "    <tr>\n",
       "      <th>149393</th>\n",
       "      <td>149393</td>\n",
       "      <td>1499_154</td>\n",
       "      <td>0.00</td>\n",
       "      <td>2018-10-27</td>\n",
       "      <td>1499</td>\n",
       "      <td>10</td>\n",
       "    </tr>\n",
       "    <tr>\n",
       "      <th>149394</th>\n",
       "      <td>149394</td>\n",
       "      <td>1499_155</td>\n",
       "      <td>1246.32</td>\n",
       "      <td>2018-11-26</td>\n",
       "      <td>1499</td>\n",
       "      <td>11</td>\n",
       "    </tr>\n",
       "    <tr>\n",
       "      <th>149395</th>\n",
       "      <td>149395</td>\n",
       "      <td>1499_156</td>\n",
       "      <td>544.37</td>\n",
       "      <td>2018-10-26</td>\n",
       "      <td>1499</td>\n",
       "      <td>10</td>\n",
       "    </tr>\n",
       "  </tbody>\n",
       "</table>\n",
       "<p>149396 rows × 6 columns</p>\n",
       "</div>"
      ],
      "text/plain": [
       "        Unnamed: 0        id  mb_used session_date  user_id  month\n",
       "0                0    1000_0   112.95   2018-11-25     1000     11\n",
       "1                1    1000_1  1052.81   2018-09-07     1000      9\n",
       "2                2    1000_2  1197.26   2018-06-25     1000      6\n",
       "3                3    1000_3   550.27   2018-08-22     1000      8\n",
       "4                4    1000_4   302.56   2018-09-24     1000      9\n",
       "...            ...       ...      ...          ...      ...    ...\n",
       "149391      149391  1499_152   318.90   2018-10-03     1499     10\n",
       "149392      149392  1499_153   490.13   2018-12-14     1499     12\n",
       "149393      149393  1499_154     0.00   2018-10-27     1499     10\n",
       "149394      149394  1499_155  1246.32   2018-11-26     1499     11\n",
       "149395      149395  1499_156   544.37   2018-10-26     1499     10\n",
       "\n",
       "[149396 rows x 6 columns]"
      ]
     },
     "execution_count": 19,
     "metadata": {},
     "output_type": "execute_result"
    }
   ],
   "source": [
    "internet"
   ]
  },
  {
   "cell_type": "code",
   "execution_count": 20,
   "metadata": {},
   "outputs": [],
   "source": [
    "internet = internet.pivot_table(index=['user_id', 'month'],\n",
    "                               values='mb_used',\n",
    "                               aggfunc=('sum')).reset_index()\n",
    "internet.columns = ['user_id', 'month', 'mb_used']"
   ]
  },
  {
   "cell_type": "code",
   "execution_count": 21,
   "metadata": {},
   "outputs": [
    {
     "data": {
      "text/html": [
       "<div>\n",
       "<style scoped>\n",
       "    .dataframe tbody tr th:only-of-type {\n",
       "        vertical-align: middle;\n",
       "    }\n",
       "\n",
       "    .dataframe tbody tr th {\n",
       "        vertical-align: top;\n",
       "    }\n",
       "\n",
       "    .dataframe thead th {\n",
       "        text-align: right;\n",
       "    }\n",
       "</style>\n",
       "<table border=\"1\" class=\"dataframe\">\n",
       "  <thead>\n",
       "    <tr style=\"text-align: right;\">\n",
       "      <th></th>\n",
       "      <th>user_id</th>\n",
       "      <th>month</th>\n",
       "      <th>mb_used</th>\n",
       "    </tr>\n",
       "  </thead>\n",
       "  <tbody>\n",
       "    <tr>\n",
       "      <th>0</th>\n",
       "      <td>1000</td>\n",
       "      <td>5</td>\n",
       "      <td>2253.49</td>\n",
       "    </tr>\n",
       "    <tr>\n",
       "      <th>1</th>\n",
       "      <td>1000</td>\n",
       "      <td>6</td>\n",
       "      <td>23233.77</td>\n",
       "    </tr>\n",
       "    <tr>\n",
       "      <th>2</th>\n",
       "      <td>1000</td>\n",
       "      <td>7</td>\n",
       "      <td>14003.64</td>\n",
       "    </tr>\n",
       "    <tr>\n",
       "      <th>3</th>\n",
       "      <td>1000</td>\n",
       "      <td>8</td>\n",
       "      <td>14055.93</td>\n",
       "    </tr>\n",
       "    <tr>\n",
       "      <th>4</th>\n",
       "      <td>1000</td>\n",
       "      <td>9</td>\n",
       "      <td>14568.91</td>\n",
       "    </tr>\n",
       "  </tbody>\n",
       "</table>\n",
       "</div>"
      ],
      "text/plain": [
       "   user_id  month   mb_used\n",
       "0     1000      5   2253.49\n",
       "1     1000      6  23233.77\n",
       "2     1000      7  14003.64\n",
       "3     1000      8  14055.93\n",
       "4     1000      9  14568.91"
      ]
     },
     "execution_count": 21,
     "metadata": {},
     "output_type": "execute_result"
    }
   ],
   "source": [
    "internet.head(5)"
   ]
  },
  {
   "cell_type": "markdown",
   "metadata": {},
   "source": [
    "internet['gb_used'] = (internet['mb_used'] / 1024) #создаем столбец, переводим Мб в Гб для расчета  \n"
   ]
  },
  {
   "cell_type": "code",
   "execution_count": 22,
   "metadata": {},
   "outputs": [],
   "source": [
    "#округление internet['gb_used'] = np.ceil(internet['gb_used']) \n",
    "internet['mb_used'] = internet['mb_used'].astype('int') #изменение типа "
   ]
  },
  {
   "cell_type": "code",
   "execution_count": 23,
   "metadata": {
    "scrolled": true
   },
   "outputs": [
    {
     "name": "stdout",
     "output_type": "stream",
     "text": [
      "<class 'pandas.core.frame.DataFrame'>\n",
      "RangeIndex: 3174 entries, 0 to 3173\n",
      "Data columns (total 4 columns):\n",
      " #   Column        Non-Null Count  Dtype\n",
      "---  ------        --------------  -----\n",
      " 0   user_id       3174 non-null   int64\n",
      " 1   month         3174 non-null   int64\n",
      " 2   call_numbers  3174 non-null   int64\n",
      " 3   duration      3174 non-null   int64\n",
      "dtypes: int64(4)\n",
      "memory usage: 99.3 KB\n",
      "<class 'pandas.core.frame.DataFrame'>\n",
      "RangeIndex: 2717 entries, 0 to 2716\n",
      "Data columns (total 3 columns):\n",
      " #   Column           Non-Null Count  Dtype\n",
      "---  ------           --------------  -----\n",
      " 0   user_id          2717 non-null   int64\n",
      " 1   month            2717 non-null   int64\n",
      " 2   message_numbers  2717 non-null   int64\n",
      "dtypes: int64(3)\n",
      "memory usage: 63.8 KB\n",
      "<class 'pandas.core.frame.DataFrame'>\n",
      "RangeIndex: 3203 entries, 0 to 3202\n",
      "Data columns (total 3 columns):\n",
      " #   Column   Non-Null Count  Dtype\n",
      "---  ------   --------------  -----\n",
      " 0   user_id  3203 non-null   int64\n",
      " 1   month    3203 non-null   int64\n",
      " 2   mb_used  3203 non-null   int64\n",
      "dtypes: int64(3)\n",
      "memory usage: 75.2 KB\n"
     ]
    }
   ],
   "source": [
    "calls.info()\n",
    "messages.info()\n",
    "internet.info()"
   ]
  },
  {
   "cell_type": "code",
   "execution_count": 24,
   "metadata": {},
   "outputs": [
    {
     "data": {
      "text/html": [
       "<div>\n",
       "<style scoped>\n",
       "    .dataframe tbody tr th:only-of-type {\n",
       "        vertical-align: middle;\n",
       "    }\n",
       "\n",
       "    .dataframe tbody tr th {\n",
       "        vertical-align: top;\n",
       "    }\n",
       "\n",
       "    .dataframe thead th {\n",
       "        text-align: right;\n",
       "    }\n",
       "</style>\n",
       "<table border=\"1\" class=\"dataframe\">\n",
       "  <thead>\n",
       "    <tr style=\"text-align: right;\">\n",
       "      <th></th>\n",
       "      <th>user_id</th>\n",
       "      <th>month</th>\n",
       "      <th>call_numbers</th>\n",
       "      <th>duration</th>\n",
       "      <th>mb_used</th>\n",
       "      <th>message_numbers</th>\n",
       "      <th>age</th>\n",
       "      <th>churn_date</th>\n",
       "      <th>city</th>\n",
       "      <th>first_name</th>\n",
       "      <th>...</th>\n",
       "      <th>reg_date</th>\n",
       "      <th>tariff</th>\n",
       "      <th>messages_included</th>\n",
       "      <th>mb_per_month_included</th>\n",
       "      <th>minutes_included</th>\n",
       "      <th>rub_monthly_fee</th>\n",
       "      <th>rub_per_gb</th>\n",
       "      <th>rub_per_message</th>\n",
       "      <th>rub_per_minute</th>\n",
       "      <th>tariff_name</th>\n",
       "    </tr>\n",
       "  </thead>\n",
       "  <tbody>\n",
       "    <tr>\n",
       "      <th>0</th>\n",
       "      <td>1000</td>\n",
       "      <td>5</td>\n",
       "      <td>22.0</td>\n",
       "      <td>159.0</td>\n",
       "      <td>2253.0</td>\n",
       "      <td>22.0</td>\n",
       "      <td>52</td>\n",
       "      <td>NaN</td>\n",
       "      <td>Краснодар</td>\n",
       "      <td>Рафаил</td>\n",
       "      <td>...</td>\n",
       "      <td>2018-05-25</td>\n",
       "      <td>ultra</td>\n",
       "      <td>1000</td>\n",
       "      <td>30720</td>\n",
       "      <td>3000</td>\n",
       "      <td>1950</td>\n",
       "      <td>150</td>\n",
       "      <td>1</td>\n",
       "      <td>1</td>\n",
       "      <td>ultra</td>\n",
       "    </tr>\n",
       "    <tr>\n",
       "      <th>1</th>\n",
       "      <td>1000</td>\n",
       "      <td>6</td>\n",
       "      <td>43.0</td>\n",
       "      <td>172.0</td>\n",
       "      <td>23233.0</td>\n",
       "      <td>60.0</td>\n",
       "      <td>52</td>\n",
       "      <td>NaN</td>\n",
       "      <td>Краснодар</td>\n",
       "      <td>Рафаил</td>\n",
       "      <td>...</td>\n",
       "      <td>2018-05-25</td>\n",
       "      <td>ultra</td>\n",
       "      <td>1000</td>\n",
       "      <td>30720</td>\n",
       "      <td>3000</td>\n",
       "      <td>1950</td>\n",
       "      <td>150</td>\n",
       "      <td>1</td>\n",
       "      <td>1</td>\n",
       "      <td>ultra</td>\n",
       "    </tr>\n",
       "    <tr>\n",
       "      <th>2</th>\n",
       "      <td>1000</td>\n",
       "      <td>7</td>\n",
       "      <td>47.0</td>\n",
       "      <td>340.0</td>\n",
       "      <td>14003.0</td>\n",
       "      <td>75.0</td>\n",
       "      <td>52</td>\n",
       "      <td>NaN</td>\n",
       "      <td>Краснодар</td>\n",
       "      <td>Рафаил</td>\n",
       "      <td>...</td>\n",
       "      <td>2018-05-25</td>\n",
       "      <td>ultra</td>\n",
       "      <td>1000</td>\n",
       "      <td>30720</td>\n",
       "      <td>3000</td>\n",
       "      <td>1950</td>\n",
       "      <td>150</td>\n",
       "      <td>1</td>\n",
       "      <td>1</td>\n",
       "      <td>ultra</td>\n",
       "    </tr>\n",
       "    <tr>\n",
       "      <th>3</th>\n",
       "      <td>1000</td>\n",
       "      <td>8</td>\n",
       "      <td>52.0</td>\n",
       "      <td>408.0</td>\n",
       "      <td>14055.0</td>\n",
       "      <td>81.0</td>\n",
       "      <td>52</td>\n",
       "      <td>NaN</td>\n",
       "      <td>Краснодар</td>\n",
       "      <td>Рафаил</td>\n",
       "      <td>...</td>\n",
       "      <td>2018-05-25</td>\n",
       "      <td>ultra</td>\n",
       "      <td>1000</td>\n",
       "      <td>30720</td>\n",
       "      <td>3000</td>\n",
       "      <td>1950</td>\n",
       "      <td>150</td>\n",
       "      <td>1</td>\n",
       "      <td>1</td>\n",
       "      <td>ultra</td>\n",
       "    </tr>\n",
       "    <tr>\n",
       "      <th>4</th>\n",
       "      <td>1000</td>\n",
       "      <td>9</td>\n",
       "      <td>58.0</td>\n",
       "      <td>466.0</td>\n",
       "      <td>14568.0</td>\n",
       "      <td>57.0</td>\n",
       "      <td>52</td>\n",
       "      <td>NaN</td>\n",
       "      <td>Краснодар</td>\n",
       "      <td>Рафаил</td>\n",
       "      <td>...</td>\n",
       "      <td>2018-05-25</td>\n",
       "      <td>ultra</td>\n",
       "      <td>1000</td>\n",
       "      <td>30720</td>\n",
       "      <td>3000</td>\n",
       "      <td>1950</td>\n",
       "      <td>150</td>\n",
       "      <td>1</td>\n",
       "      <td>1</td>\n",
       "      <td>ultra</td>\n",
       "    </tr>\n",
       "  </tbody>\n",
       "</table>\n",
       "<p>5 rows × 21 columns</p>\n",
       "</div>"
      ],
      "text/plain": [
       "   user_id  month  call_numbers  duration  mb_used  message_numbers  age  \\\n",
       "0     1000      5          22.0     159.0   2253.0             22.0   52   \n",
       "1     1000      6          43.0     172.0  23233.0             60.0   52   \n",
       "2     1000      7          47.0     340.0  14003.0             75.0   52   \n",
       "3     1000      8          52.0     408.0  14055.0             81.0   52   \n",
       "4     1000      9          58.0     466.0  14568.0             57.0   52   \n",
       "\n",
       "  churn_date       city first_name  ...    reg_date tariff messages_included  \\\n",
       "0        NaN  Краснодар     Рафаил  ...  2018-05-25  ultra              1000   \n",
       "1        NaN  Краснодар     Рафаил  ...  2018-05-25  ultra              1000   \n",
       "2        NaN  Краснодар     Рафаил  ...  2018-05-25  ultra              1000   \n",
       "3        NaN  Краснодар     Рафаил  ...  2018-05-25  ultra              1000   \n",
       "4        NaN  Краснодар     Рафаил  ...  2018-05-25  ultra              1000   \n",
       "\n",
       "   mb_per_month_included  minutes_included  rub_monthly_fee  rub_per_gb  \\\n",
       "0                  30720              3000             1950         150   \n",
       "1                  30720              3000             1950         150   \n",
       "2                  30720              3000             1950         150   \n",
       "3                  30720              3000             1950         150   \n",
       "4                  30720              3000             1950         150   \n",
       "\n",
       "   rub_per_message  rub_per_minute  tariff_name  \n",
       "0                1               1        ultra  \n",
       "1                1               1        ultra  \n",
       "2                1               1        ultra  \n",
       "3                1               1        ultra  \n",
       "4                1               1        ultra  \n",
       "\n",
       "[5 rows x 21 columns]"
      ]
     },
     "execution_count": 24,
     "metadata": {},
     "output_type": "execute_result"
    }
   ],
   "source": [
    "#группировка таблицы звонков calls = calls.groupby(['user_id', 'month']).agg({'duration': 'sum'}).reset_index() \n",
    "\n",
    "#группировка таблицы интернет internet = internet.groupby(['user_id', 'month']).agg({'gb_used': 'sum'}).reset_index()\n",
    "\n",
    "#группировка таблицы сообщений messages = messages.groupby(['user_id', 'month']).agg({'id': 'count'}).rename(columns = {'id': 'messages'}).reset_index()\n",
    "\n",
    "#объединение таблиц\n",
    "report = calls.merge(internet, on = ['user_id', 'month'], how = 'outer')\\\n",
    "              .merge(messages, on = ['user_id', 'month'], how = 'outer').fillna(0)\n",
    "report = report.merge(users, on = 'user_id', how = 'left').merge(tariffs, left_on = 'tariff', \n",
    "                                                                 right_on = 'tariff_name', how = 'left')\n",
    "report.head(5)\n",
    "\n",
    "\n",
    "\n"
   ]
  },
  {
   "cell_type": "code",
   "execution_count": 25,
   "metadata": {},
   "outputs": [],
   "source": [
    "# Перевод использованного интернет-трафика из мегабайт в гигабайты + округление\n",
    "report['gb_used'] = np.ceil(report['mb_used'] / 1024)\n"
   ]
  },
  {
   "cell_type": "code",
   "execution_count": 26,
   "metadata": {},
   "outputs": [],
   "source": [
    "#функция для расчета затрат помесячно по каждому пользователю.\n",
    "def revenue(row):\n",
    "    min_left = 0\n",
    "    gb_left = 0\n",
    "    mess_left = 0\n",
    "    if (row['duration'] - row['minutes_included']) > 0:\n",
    "        min_left = (row['duration'] - row['minutes_included']) * row['rub_per_minute']\n",
    "    if (row['gb_used'] - (row['mb_per_month_included']/ 1024)) > 0:\n",
    "        gb_left = (row['gb_used'] - (row['mb_per_month_included'] / 1024))* row['rub_per_gb']\n",
    "    if (row['message_numbers'] - row['messages_included']) > 0:\n",
    "        mess_left = (row['message_numbers'] - row['messages_included']) * row['rub_per_message']\n",
    "    result = min_left + gb_left+mess_left + row['rub_monthly_fee']\n",
    "    return result\n",
    "report['revenue_per_month'] = report.apply(revenue, axis=1)\n"
   ]
  },
  {
   "cell_type": "code",
   "execution_count": 27,
   "metadata": {
    "scrolled": true
   },
   "outputs": [
    {
     "data": {
      "text/plain": [
       "tariff\n",
       "smart    2875351.0\n",
       "ultra    2039100.0\n",
       "Name: revenue_per_month, dtype: float64"
      ]
     },
     "execution_count": 27,
     "metadata": {},
     "output_type": "execute_result"
    }
   ],
   "source": [
    "report.groupby('tariff')['revenue_per_month'].sum()"
   ]
  },
  {
   "cell_type": "markdown",
   "metadata": {},
   "source": [
    "## Анализ данных"
   ]
  },
  {
   "cell_type": "markdown",
   "metadata": {},
   "source": [
    "### Описание поведения клиентов оператора"
   ]
  },
  {
   "cell_type": "code",
   "execution_count": 28,
   "metadata": {
    "scrolled": false
   },
   "outputs": [
    {
     "data": {
      "text/plain": [
       "tariff\n",
       "smart    2229\n",
       "ultra     985\n",
       "Name: tariff, dtype: int64"
      ]
     },
     "execution_count": 28,
     "metadata": {},
     "output_type": "execute_result"
    }
   ],
   "source": [
    "report.groupby('tariff')['tariff'].count()"
   ]
  },
  {
   "cell_type": "code",
   "execution_count": 29,
   "metadata": {
    "scrolled": true
   },
   "outputs": [
    {
     "data": {
      "text/html": [
       "<div>\n",
       "<style scoped>\n",
       "    .dataframe tbody tr th:only-of-type {\n",
       "        vertical-align: middle;\n",
       "    }\n",
       "\n",
       "    .dataframe tbody tr th {\n",
       "        vertical-align: top;\n",
       "    }\n",
       "\n",
       "    .dataframe thead th {\n",
       "        text-align: right;\n",
       "    }\n",
       "</style>\n",
       "<table border=\"1\" class=\"dataframe\">\n",
       "  <thead>\n",
       "    <tr style=\"text-align: right;\">\n",
       "      <th></th>\n",
       "      <th>user_id</th>\n",
       "      <th>month</th>\n",
       "      <th>call_numbers</th>\n",
       "      <th>duration</th>\n",
       "      <th>mb_used</th>\n",
       "      <th>message_numbers</th>\n",
       "      <th>age</th>\n",
       "      <th>messages_included</th>\n",
       "      <th>mb_per_month_included</th>\n",
       "      <th>minutes_included</th>\n",
       "      <th>rub_monthly_fee</th>\n",
       "      <th>rub_per_gb</th>\n",
       "      <th>rub_per_message</th>\n",
       "      <th>rub_per_minute</th>\n",
       "      <th>gb_used</th>\n",
       "      <th>revenue_per_month</th>\n",
       "    </tr>\n",
       "  </thead>\n",
       "  <tbody>\n",
       "    <tr>\n",
       "      <th>count</th>\n",
       "      <td>3214.000000</td>\n",
       "      <td>3214.000000</td>\n",
       "      <td>3214.000000</td>\n",
       "      <td>3214.000000</td>\n",
       "      <td>3214.000000</td>\n",
       "      <td>3214.000000</td>\n",
       "      <td>3214.000000</td>\n",
       "      <td>3214.000000</td>\n",
       "      <td>3214.000000</td>\n",
       "      <td>3214.000000</td>\n",
       "      <td>3214.000000</td>\n",
       "      <td>3214.000000</td>\n",
       "      <td>3214.000000</td>\n",
       "      <td>3214.000000</td>\n",
       "      <td>3214.000000</td>\n",
       "      <td>3214.000000</td>\n",
       "    </tr>\n",
       "    <tr>\n",
       "      <th>mean</th>\n",
       "      <td>1251.590230</td>\n",
       "      <td>8.317362</td>\n",
       "      <td>63.038892</td>\n",
       "      <td>451.244866</td>\n",
       "      <td>17207.112943</td>\n",
       "      <td>38.281269</td>\n",
       "      <td>46.641568</td>\n",
       "      <td>341.148102</td>\n",
       "      <td>20067.405103</td>\n",
       "      <td>1266.179216</td>\n",
       "      <td>979.060361</td>\n",
       "      <td>184.676416</td>\n",
       "      <td>2.387057</td>\n",
       "      <td>2.387057</td>\n",
       "      <td>17.299004</td>\n",
       "      <td>1529.076229</td>\n",
       "    </tr>\n",
       "    <tr>\n",
       "      <th>std</th>\n",
       "      <td>144.659172</td>\n",
       "      <td>2.905413</td>\n",
       "      <td>33.236368</td>\n",
       "      <td>241.909978</td>\n",
       "      <td>7570.964206</td>\n",
       "      <td>36.148326</td>\n",
       "      <td>16.586109</td>\n",
       "      <td>438.044726</td>\n",
       "      <td>7082.491569</td>\n",
       "      <td>1152.749279</td>\n",
       "      <td>645.539596</td>\n",
       "      <td>23.054986</td>\n",
       "      <td>0.922199</td>\n",
       "      <td>0.922199</td>\n",
       "      <td>7.400584</td>\n",
       "      <td>798.251091</td>\n",
       "    </tr>\n",
       "    <tr>\n",
       "      <th>min</th>\n",
       "      <td>1000.000000</td>\n",
       "      <td>1.000000</td>\n",
       "      <td>0.000000</td>\n",
       "      <td>0.000000</td>\n",
       "      <td>0.000000</td>\n",
       "      <td>0.000000</td>\n",
       "      <td>18.000000</td>\n",
       "      <td>50.000000</td>\n",
       "      <td>15360.000000</td>\n",
       "      <td>500.000000</td>\n",
       "      <td>550.000000</td>\n",
       "      <td>150.000000</td>\n",
       "      <td>1.000000</td>\n",
       "      <td>1.000000</td>\n",
       "      <td>0.000000</td>\n",
       "      <td>550.000000</td>\n",
       "    </tr>\n",
       "    <tr>\n",
       "      <th>25%</th>\n",
       "      <td>1125.000000</td>\n",
       "      <td>6.000000</td>\n",
       "      <td>40.000000</td>\n",
       "      <td>282.000000</td>\n",
       "      <td>12491.250000</td>\n",
       "      <td>9.000000</td>\n",
       "      <td>32.000000</td>\n",
       "      <td>50.000000</td>\n",
       "      <td>15360.000000</td>\n",
       "      <td>500.000000</td>\n",
       "      <td>550.000000</td>\n",
       "      <td>150.000000</td>\n",
       "      <td>1.000000</td>\n",
       "      <td>1.000000</td>\n",
       "      <td>13.000000</td>\n",
       "      <td>750.000000</td>\n",
       "    </tr>\n",
       "    <tr>\n",
       "      <th>50%</th>\n",
       "      <td>1253.000000</td>\n",
       "      <td>9.000000</td>\n",
       "      <td>62.000000</td>\n",
       "      <td>443.000000</td>\n",
       "      <td>16942.500000</td>\n",
       "      <td>30.000000</td>\n",
       "      <td>46.000000</td>\n",
       "      <td>50.000000</td>\n",
       "      <td>15360.000000</td>\n",
       "      <td>500.000000</td>\n",
       "      <td>550.000000</td>\n",
       "      <td>200.000000</td>\n",
       "      <td>3.000000</td>\n",
       "      <td>3.000000</td>\n",
       "      <td>17.000000</td>\n",
       "      <td>1653.500000</td>\n",
       "    </tr>\n",
       "    <tr>\n",
       "      <th>75%</th>\n",
       "      <td>1378.750000</td>\n",
       "      <td>11.000000</td>\n",
       "      <td>82.000000</td>\n",
       "      <td>589.000000</td>\n",
       "      <td>21424.000000</td>\n",
       "      <td>57.000000</td>\n",
       "      <td>62.000000</td>\n",
       "      <td>1000.000000</td>\n",
       "      <td>30720.000000</td>\n",
       "      <td>3000.000000</td>\n",
       "      <td>1950.000000</td>\n",
       "      <td>200.000000</td>\n",
       "      <td>3.000000</td>\n",
       "      <td>3.000000</td>\n",
       "      <td>21.000000</td>\n",
       "      <td>1950.000000</td>\n",
       "    </tr>\n",
       "    <tr>\n",
       "      <th>max</th>\n",
       "      <td>1499.000000</td>\n",
       "      <td>12.000000</td>\n",
       "      <td>244.000000</td>\n",
       "      <td>1673.000000</td>\n",
       "      <td>49745.000000</td>\n",
       "      <td>224.000000</td>\n",
       "      <td>75.000000</td>\n",
       "      <td>1000.000000</td>\n",
       "      <td>30720.000000</td>\n",
       "      <td>3000.000000</td>\n",
       "      <td>1950.000000</td>\n",
       "      <td>200.000000</td>\n",
       "      <td>3.000000</td>\n",
       "      <td>3.000000</td>\n",
       "      <td>49.000000</td>\n",
       "      <td>6770.000000</td>\n",
       "    </tr>\n",
       "  </tbody>\n",
       "</table>\n",
       "</div>"
      ],
      "text/plain": [
       "           user_id        month  call_numbers     duration       mb_used  \\\n",
       "count  3214.000000  3214.000000   3214.000000  3214.000000   3214.000000   \n",
       "mean   1251.590230     8.317362     63.038892   451.244866  17207.112943   \n",
       "std     144.659172     2.905413     33.236368   241.909978   7570.964206   \n",
       "min    1000.000000     1.000000      0.000000     0.000000      0.000000   \n",
       "25%    1125.000000     6.000000     40.000000   282.000000  12491.250000   \n",
       "50%    1253.000000     9.000000     62.000000   443.000000  16942.500000   \n",
       "75%    1378.750000    11.000000     82.000000   589.000000  21424.000000   \n",
       "max    1499.000000    12.000000    244.000000  1673.000000  49745.000000   \n",
       "\n",
       "       message_numbers          age  messages_included  mb_per_month_included  \\\n",
       "count      3214.000000  3214.000000        3214.000000            3214.000000   \n",
       "mean         38.281269    46.641568         341.148102           20067.405103   \n",
       "std          36.148326    16.586109         438.044726            7082.491569   \n",
       "min           0.000000    18.000000          50.000000           15360.000000   \n",
       "25%           9.000000    32.000000          50.000000           15360.000000   \n",
       "50%          30.000000    46.000000          50.000000           15360.000000   \n",
       "75%          57.000000    62.000000        1000.000000           30720.000000   \n",
       "max         224.000000    75.000000        1000.000000           30720.000000   \n",
       "\n",
       "       minutes_included  rub_monthly_fee   rub_per_gb  rub_per_message  \\\n",
       "count       3214.000000      3214.000000  3214.000000      3214.000000   \n",
       "mean        1266.179216       979.060361   184.676416         2.387057   \n",
       "std         1152.749279       645.539596    23.054986         0.922199   \n",
       "min          500.000000       550.000000   150.000000         1.000000   \n",
       "25%          500.000000       550.000000   150.000000         1.000000   \n",
       "50%          500.000000       550.000000   200.000000         3.000000   \n",
       "75%         3000.000000      1950.000000   200.000000         3.000000   \n",
       "max         3000.000000      1950.000000   200.000000         3.000000   \n",
       "\n",
       "       rub_per_minute      gb_used  revenue_per_month  \n",
       "count     3214.000000  3214.000000        3214.000000  \n",
       "mean         2.387057    17.299004        1529.076229  \n",
       "std          0.922199     7.400584         798.251091  \n",
       "min          1.000000     0.000000         550.000000  \n",
       "25%          1.000000    13.000000         750.000000  \n",
       "50%          3.000000    17.000000        1653.500000  \n",
       "75%          3.000000    21.000000        1950.000000  \n",
       "max          3.000000    49.000000        6770.000000  "
      ]
     },
     "execution_count": 29,
     "metadata": {},
     "output_type": "execute_result"
    }
   ],
   "source": [
    "report.describe()"
   ]
  },
  {
   "cell_type": "markdown",
   "metadata": {},
   "source": [
    "В выборке преобладают преставители тарифа smart, т.е. он популярнее. \n",
    "Возраст самый разнообразный от 18 до 100, но средний возраст - 46. \n",
    "Есть пользователи, которые не звонят, не используют сообщения или интернет \n"
   ]
  },
  {
   "cell_type": "code",
   "execution_count": 30,
   "metadata": {},
   "outputs": [],
   "source": [
    "tariff_using = report.pivot_table(index='tariff', values=['duration', \n",
    "                                                        'message_numbers', \n",
    "                                                        'gb_used', 'rub_monthly_fee',\n",
    "                                                        'revenue_per_month'],aggfunc = 'sum')"
   ]
  },
  {
   "cell_type": "code",
   "execution_count": 31,
   "metadata": {
    "scrolled": false
   },
   "outputs": [
    {
     "data": {
      "text/html": [
       "<div>\n",
       "<style scoped>\n",
       "    .dataframe tbody tr th:only-of-type {\n",
       "        vertical-align: middle;\n",
       "    }\n",
       "\n",
       "    .dataframe tbody tr th {\n",
       "        vertical-align: top;\n",
       "    }\n",
       "\n",
       "    .dataframe thead th {\n",
       "        text-align: right;\n",
       "    }\n",
       "</style>\n",
       "<table border=\"1\" class=\"dataframe\">\n",
       "  <thead>\n",
       "    <tr style=\"text-align: right;\">\n",
       "      <th></th>\n",
       "      <th>duration</th>\n",
       "      <th>gb_used</th>\n",
       "      <th>message_numbers</th>\n",
       "      <th>revenue_per_month</th>\n",
       "      <th>rub_monthly_fee</th>\n",
       "    </tr>\n",
       "    <tr>\n",
       "      <th>tariff</th>\n",
       "      <th></th>\n",
       "      <th></th>\n",
       "      <th></th>\n",
       "      <th></th>\n",
       "      <th></th>\n",
       "    </tr>\n",
       "  </thead>\n",
       "  <tbody>\n",
       "    <tr>\n",
       "      <th>smart</th>\n",
       "      <td>931577.0</td>\n",
       "      <td>36397.0</td>\n",
       "      <td>74413.0</td>\n",
       "      <td>2875351.0</td>\n",
       "      <td>1225950</td>\n",
       "    </tr>\n",
       "    <tr>\n",
       "      <th>ultra</th>\n",
       "      <td>518724.0</td>\n",
       "      <td>19202.0</td>\n",
       "      <td>48623.0</td>\n",
       "      <td>2039100.0</td>\n",
       "      <td>1920750</td>\n",
       "    </tr>\n",
       "  </tbody>\n",
       "</table>\n",
       "</div>"
      ],
      "text/plain": [
       "        duration  gb_used  message_numbers  revenue_per_month  rub_monthly_fee\n",
       "tariff                                                                        \n",
       "smart   931577.0  36397.0          74413.0          2875351.0          1225950\n",
       "ultra   518724.0  19202.0          48623.0          2039100.0          1920750"
      ]
     },
     "execution_count": 31,
     "metadata": {},
     "output_type": "execute_result"
    }
   ],
   "source": [
    "tariff_using"
   ]
  },
  {
   "cell_type": "code",
   "execution_count": 32,
   "metadata": {},
   "outputs": [],
   "source": [
    "tariff_using = report.pivot_table(index='tariff', values=['duration', \n",
    "                                                        'message_numbers', \n",
    "                                                        'gb_used', 'rub_monthly_fee',\n",
    "                                                        'revenue_per_month'],aggfunc = 'mean')"
   ]
  },
  {
   "cell_type": "code",
   "execution_count": 33,
   "metadata": {},
   "outputs": [
    {
     "data": {
      "text/html": [
       "<div>\n",
       "<style scoped>\n",
       "    .dataframe tbody tr th:only-of-type {\n",
       "        vertical-align: middle;\n",
       "    }\n",
       "\n",
       "    .dataframe tbody tr th {\n",
       "        vertical-align: top;\n",
       "    }\n",
       "\n",
       "    .dataframe thead th {\n",
       "        text-align: right;\n",
       "    }\n",
       "</style>\n",
       "<table border=\"1\" class=\"dataframe\">\n",
       "  <thead>\n",
       "    <tr style=\"text-align: right;\">\n",
       "      <th></th>\n",
       "      <th>duration</th>\n",
       "      <th>gb_used</th>\n",
       "      <th>message_numbers</th>\n",
       "      <th>revenue_per_month</th>\n",
       "      <th>rub_monthly_fee</th>\n",
       "    </tr>\n",
       "    <tr>\n",
       "      <th>tariff</th>\n",
       "      <th></th>\n",
       "      <th></th>\n",
       "      <th></th>\n",
       "      <th></th>\n",
       "      <th></th>\n",
       "    </tr>\n",
       "  </thead>\n",
       "  <tbody>\n",
       "    <tr>\n",
       "      <th>smart</th>\n",
       "      <td>417.934948</td>\n",
       "      <td>16.328847</td>\n",
       "      <td>33.384029</td>\n",
       "      <td>1289.973531</td>\n",
       "      <td>550</td>\n",
       "    </tr>\n",
       "    <tr>\n",
       "      <th>ultra</th>\n",
       "      <td>526.623350</td>\n",
       "      <td>19.494416</td>\n",
       "      <td>49.363452</td>\n",
       "      <td>2070.152284</td>\n",
       "      <td>1950</td>\n",
       "    </tr>\n",
       "  </tbody>\n",
       "</table>\n",
       "</div>"
      ],
      "text/plain": [
       "          duration    gb_used  message_numbers  revenue_per_month  \\\n",
       "tariff                                                              \n",
       "smart   417.934948  16.328847        33.384029        1289.973531   \n",
       "ultra   526.623350  19.494416        49.363452        2070.152284   \n",
       "\n",
       "        rub_monthly_fee  \n",
       "tariff                   \n",
       "smart               550  \n",
       "ultra              1950  "
      ]
     },
     "execution_count": 33,
     "metadata": {},
     "output_type": "execute_result"
    }
   ],
   "source": [
    "tariff_using"
   ]
  },
  {
   "cell_type": "markdown",
   "metadata": {},
   "source": [
    "Абоненты тарифа smart более активны, что обусловлено их количеством (smart - 2229, ultra - 985). Рассмотрев средние данные по каждой активности пользователя видим, что несмотря на количество пользователей в среднее по звонкам, сообщениям и трафику цифры отличаются не координально, но траты за месяц вырастают у пользователей тарифа ultra в 2 раза. "
   ]
  },
  {
   "cell_type": "code",
   "execution_count": 34,
   "metadata": {},
   "outputs": [],
   "source": [
    "def city (row):\n",
    "    if row['city'] == 'Москва':\n",
    "        return 'Москва'\n",
    "    else:\n",
    "        return 'Другой регион'\n",
    "\n",
    "report['revenue_city'] = report.apply(city, axis = 1) \n",
    "\n",
    " "
   ]
  },
  {
   "cell_type": "code",
   "execution_count": 35,
   "metadata": {},
   "outputs": [],
   "source": [
    "income_by_city = report.pivot_table(index='revenue_city', \n",
    "                                    values=['duration','message_numbers', 'gb_used', 'rub_monthly_fee', 'revenue_per_month'],\n",
    "                                    aggfunc = 'sum').sort_values(by = 'revenue_per_month', ascending = False)"
   ]
  },
  {
   "cell_type": "code",
   "execution_count": 36,
   "metadata": {
    "scrolled": true
   },
   "outputs": [
    {
     "data": {
      "text/html": [
       "<div>\n",
       "<style scoped>\n",
       "    .dataframe tbody tr th:only-of-type {\n",
       "        vertical-align: middle;\n",
       "    }\n",
       "\n",
       "    .dataframe tbody tr th {\n",
       "        vertical-align: top;\n",
       "    }\n",
       "\n",
       "    .dataframe thead th {\n",
       "        text-align: right;\n",
       "    }\n",
       "</style>\n",
       "<table border=\"1\" class=\"dataframe\">\n",
       "  <thead>\n",
       "    <tr style=\"text-align: right;\">\n",
       "      <th></th>\n",
       "      <th>duration</th>\n",
       "      <th>gb_used</th>\n",
       "      <th>message_numbers</th>\n",
       "      <th>revenue_per_month</th>\n",
       "      <th>rub_monthly_fee</th>\n",
       "    </tr>\n",
       "    <tr>\n",
       "      <th>revenue_city</th>\n",
       "      <th></th>\n",
       "      <th></th>\n",
       "      <th></th>\n",
       "      <th></th>\n",
       "      <th></th>\n",
       "    </tr>\n",
       "  </thead>\n",
       "  <tbody>\n",
       "    <tr>\n",
       "      <th>Другой регион</th>\n",
       "      <td>1163650.0</td>\n",
       "      <td>44570.0</td>\n",
       "      <td>99893.0</td>\n",
       "      <td>3969409.0</td>\n",
       "      <td>2495650</td>\n",
       "    </tr>\n",
       "    <tr>\n",
       "      <th>Москва</th>\n",
       "      <td>286651.0</td>\n",
       "      <td>11029.0</td>\n",
       "      <td>23143.0</td>\n",
       "      <td>945042.0</td>\n",
       "      <td>651050</td>\n",
       "    </tr>\n",
       "  </tbody>\n",
       "</table>\n",
       "</div>"
      ],
      "text/plain": [
       "                duration  gb_used  message_numbers  revenue_per_month  \\\n",
       "revenue_city                                                            \n",
       "Другой регион  1163650.0  44570.0          99893.0          3969409.0   \n",
       "Москва          286651.0  11029.0          23143.0           945042.0   \n",
       "\n",
       "               rub_monthly_fee  \n",
       "revenue_city                    \n",
       "Другой регион          2495650  \n",
       "Москва                  651050  "
      ]
     },
     "execution_count": 36,
     "metadata": {},
     "output_type": "execute_result"
    }
   ],
   "source": [
    "income_by_city "
   ]
  },
  {
   "cell_type": "code",
   "execution_count": 37,
   "metadata": {},
   "outputs": [
    {
     "data": {
      "text/plain": [
       "revenue_city\n",
       "Другой регион    2603\n",
       "Москва            611\n",
       "Name: revenue_city, dtype: int64"
      ]
     },
     "execution_count": 37,
     "metadata": {},
     "output_type": "execute_result"
    }
   ],
   "source": [
    "report.groupby('revenue_city')['revenue_city'].count()"
   ]
  },
  {
   "cell_type": "markdown",
   "metadata": {},
   "source": [
    "Больше всего представителей из других регионов,доход также больше с регионов. "
   ]
  },
  {
   "cell_type": "markdown",
   "metadata": {},
   "source": [
    "### Расчет среднего количества, дисперсии и стандартного отклонения"
   ]
  },
  {
   "cell_type": "markdown",
   "metadata": {},
   "source": [
    "Как было обозначено выше, тариф smart популяренее - 2 229 пользователей, ultra - 985 пользователей. \n"
   ]
  },
  {
   "cell_type": "markdown",
   "metadata": {},
   "source": [
    "Обзор минут "
   ]
  },
  {
   "cell_type": "code",
   "execution_count": 38,
   "metadata": {},
   "outputs": [],
   "source": [
    "smart_tariff = report.query(\"tariff == 'smart'\") #разделение данных по тарифам \n",
    "ultra_tariff = report.query(\"tariff == 'ultra'\")"
   ]
  },
  {
   "cell_type": "code",
   "execution_count": 39,
   "metadata": {
    "scrolled": true
   },
   "outputs": [
    {
     "data": {
      "text/plain": [
       "count    2229.000000\n",
       "mean      417.934948\n",
       "std       190.313730\n",
       "min         0.000000\n",
       "25%       282.000000\n",
       "50%       422.000000\n",
       "75%       545.000000\n",
       "max      1435.000000\n",
       "Name: duration, dtype: float64"
      ]
     },
     "execution_count": 39,
     "metadata": {},
     "output_type": "execute_result"
    }
   ],
   "source": [
    "smart_tariff['duration'].describe() # обзор минут по тарифам, , стандартное отклонение 190,31"
   ]
  },
  {
   "cell_type": "code",
   "execution_count": 40,
   "metadata": {
    "scrolled": true
   },
   "outputs": [
    {
     "data": {
      "text/plain": [
       "count     985.000000\n",
       "mean      526.623350\n",
       "std       317.606098\n",
       "min         0.000000\n",
       "25%       284.000000\n",
       "50%       518.000000\n",
       "75%       752.000000\n",
       "max      1673.000000\n",
       "Name: duration, dtype: float64"
      ]
     },
     "execution_count": 40,
     "metadata": {},
     "output_type": "execute_result"
    }
   ],
   "source": [
    "ultra_tariff['duration'].describe() # обзор минут по тарифам, стандартное отклонение 317,60 "
   ]
  },
  {
   "cell_type": "code",
   "execution_count": 41,
   "metadata": {},
   "outputs": [],
   "source": [
    "var_smart_minutes = np.var(smart_tariff['duration']) #дисперсия \n",
    "var_ultra_minutes = np.var(ultra_tariff['duration'])"
   ]
  },
  {
   "cell_type": "code",
   "execution_count": 42,
   "metadata": {},
   "outputs": [
    {
     "data": {
      "text/plain": [
       "36203.06665209469"
      ]
     },
     "execution_count": 42,
     "metadata": {},
     "output_type": "execute_result"
    }
   ],
   "source": [
    "var_smart_minutes"
   ]
  },
  {
   "cell_type": "code",
   "execution_count": 43,
   "metadata": {},
   "outputs": [
    {
     "data": {
      "text/plain": [
       "100771.2236172022"
      ]
     },
     "execution_count": 43,
     "metadata": {},
     "output_type": "execute_result"
    }
   ],
   "source": [
    "var_ultra_minutes"
   ]
  },
  {
   "cell_type": "code",
   "execution_count": 44,
   "metadata": {
    "scrolled": true
   },
   "outputs": [
    {
     "data": {
      "image/png": "[encoded data removed]",
      "text/plain": [
       "<Figure size 432x288 with 1 Axes>"
      ]
     },
     "metadata": {
      "needs_background": "light"
     },
     "output_type": "display_data"
    }
   ],
   "source": [
    "import matplotlib.pyplot as plt\n",
    "plt.title('Сравнение минут в разных тарифах')\n",
    "plt.hist(smart_tariff['duration'], bins=40, label='Смарт', density=True)\n",
    "plt.hist(ultra_tariff['duration'], bins=40, label='Ультра', alpha=0.6, density=True)\n",
    "plt.legend(loc='upper right')\n",
    "plt.show()"
   ]
  },
  {
   "cell_type": "markdown",
   "metadata": {},
   "source": [
    "Из графиков видно, что среднее значение у тарифов отличается (смарт - 417, ультра - 526 ).  \n",
    "Наблюдаем нормальное распределение:  \n",
    "- квартили тарифа ультра 1-й -282, медиана - 422,  3-й - 545\n",
    "- квартили тарифа смарт 1-й -284, медиана - 518,  3-й - 752  \n",
    "\n",
    "Можно расситать оптимальное для тарифа:  \n",
    "Для тарифа ультра расчитаем: 526 (среднее значение) + 317 (стандартное отклонение)*3 =  = 1477 минут разговора для пользователей ультра, при округлении 1 500 минут.  \n",
    "\n",
    "Для тарифа смарт расчитаем: 417 (среднее значение) + 190 (стандартное отклонение)*3 = 987 минут разговора для пользователей смарта, при округлении - 1000 минут. "
   ]
  },
  {
   "cell_type": "markdown",
   "metadata": {},
   "source": [
    "Обзор сообщений "
   ]
  },
  {
   "cell_type": "code",
   "execution_count": 45,
   "metadata": {},
   "outputs": [
    {
     "data": {
      "text/plain": [
       "count    2229.000000\n",
       "mean       33.384029\n",
       "std        28.227876\n",
       "min         0.000000\n",
       "25%        10.000000\n",
       "50%        28.000000\n",
       "75%        51.000000\n",
       "max       143.000000\n",
       "Name: message_numbers, dtype: float64"
      ]
     },
     "execution_count": 45,
     "metadata": {},
     "output_type": "execute_result"
    }
   ],
   "source": [
    "smart_tariff['message_numbers'].describe()"
   ]
  },
  {
   "cell_type": "code",
   "execution_count": 46,
   "metadata": {
    "scrolled": false
   },
   "outputs": [
    {
     "data": {
      "text/plain": [
       "count    985.000000\n",
       "mean      49.363452\n",
       "std       47.804457\n",
       "min        0.000000\n",
       "25%        6.000000\n",
       "50%       38.000000\n",
       "75%       79.000000\n",
       "max      224.000000\n",
       "Name: message_numbers, dtype: float64"
      ]
     },
     "execution_count": 46,
     "metadata": {},
     "output_type": "execute_result"
    }
   ],
   "source": [
    "ultra_tariff['message_numbers'].describe()"
   ]
  },
  {
   "cell_type": "code",
   "execution_count": 47,
   "metadata": {},
   "outputs": [],
   "source": [
    "var_smart_messages = np.var(smart_tariff['message_numbers'])\n",
    "var_ultra_messages = np.var(ultra_tariff['message_numbers'])"
   ]
  },
  {
   "cell_type": "code",
   "execution_count": 48,
   "metadata": {},
   "outputs": [
    {
     "data": {
      "text/plain": [
       "796.455482917076"
      ]
     },
     "execution_count": 48,
     "metadata": {},
     "output_type": "execute_result"
    }
   ],
   "source": [
    "var_smart_messages"
   ]
  },
  {
   "cell_type": "code",
   "execution_count": 49,
   "metadata": {},
   "outputs": [
    {
     "data": {
      "text/plain": [
       "2282.946075394882"
      ]
     },
     "execution_count": 49,
     "metadata": {},
     "output_type": "execute_result"
    }
   ],
   "source": [
    "var_ultra_messages"
   ]
  },
  {
   "cell_type": "code",
   "execution_count": 50,
   "metadata": {},
   "outputs": [
    {
     "data": {
      "image/png": "[encoded data removed]",
      "text/plain": [
       "<Figure size 432x288 with 1 Axes>"
      ]
     },
     "metadata": {
      "needs_background": "light"
     },
     "output_type": "display_data"
    }
   ],
   "source": [
    "plt.title('Сравнение  сообщений в разных тарифах')\n",
    "plt.hist(smart_tariff['message_numbers'], bins=40, label='Смарт', density=True)\n",
    "plt.hist(ultra_tariff['message_numbers'], bins=40, label='Ультра', alpha=0.6, density=True)\n",
    "plt.legend(loc='upper right')\n",
    "plt.show()"
   ]
  },
  {
   "cell_type": "markdown",
   "metadata": {},
   "source": [
    "По графикам оба распределения смещены влево.  Разброс намного больш у тарифа ультра, что допустмо тарифом, но максимального, допустимого лимита не превышает и даже не  приближается к нему. \n",
    "\n",
    "Можно расситать оптимальное для тарифа: \n",
    "\n",
    "для пользователей тарифа ультра можно установить в 49 (среднее значение) + 47 (стандартное отклонение)*3 = 190 ,округляем до 200.\n",
    "\n",
    "для пользователей смарт: 33 (среднее значение) + 28 (стандартное отклонение)*3  = 116, округляем до 120\n",
    " "
   ]
  },
  {
   "cell_type": "markdown",
   "metadata": {},
   "source": [
    "Обзр интерент-трафика"
   ]
  },
  {
   "cell_type": "code",
   "execution_count": 51,
   "metadata": {
    "scrolled": false
   },
   "outputs": [
    {
     "data": {
      "text/plain": [
       "count    2229.000000\n",
       "mean       16.328847\n",
       "std         5.747061\n",
       "min         0.000000\n",
       "25%        13.000000\n",
       "50%        17.000000\n",
       "75%        20.000000\n",
       "max        38.000000\n",
       "Name: gb_used, dtype: float64"
      ]
     },
     "execution_count": 51,
     "metadata": {},
     "output_type": "execute_result"
    }
   ],
   "source": [
    "smart_tariff['gb_used'].describe()"
   ]
  },
  {
   "cell_type": "code",
   "execution_count": 52,
   "metadata": {
    "scrolled": true
   },
   "outputs": [
    {
     "data": {
      "text/plain": [
       "count    985.000000\n",
       "mean      19.494416\n",
       "std        9.853511\n",
       "min        0.000000\n",
       "25%       12.000000\n",
       "50%       19.000000\n",
       "75%       27.000000\n",
       "max       49.000000\n",
       "Name: gb_used, dtype: float64"
      ]
     },
     "execution_count": 52,
     "metadata": {},
     "output_type": "execute_result"
    }
   ],
   "source": [
    "ultra_tariff['gb_used'].describe()"
   ]
  },
  {
   "cell_type": "code",
   "execution_count": 53,
   "metadata": {},
   "outputs": [],
   "source": [
    "var_smart_gb_used = np.var(smart_tariff['gb_used'])\n",
    "var_ultra_gb_used = np.var(ultra_tariff['gb_used'])"
   ]
  },
  {
   "cell_type": "code",
   "execution_count": 54,
   "metadata": {},
   "outputs": [
    {
     "data": {
      "text/plain": [
       "33.013887454837445"
      ]
     },
     "execution_count": 54,
     "metadata": {},
     "output_type": "execute_result"
    }
   ],
   "source": [
    "var_smart_gb_used"
   ]
  },
  {
   "cell_type": "code",
   "execution_count": 55,
   "metadata": {},
   "outputs": [
    {
     "data": {
      "text/plain": [
       "96.99311602978692"
      ]
     },
     "execution_count": 55,
     "metadata": {},
     "output_type": "execute_result"
    }
   ],
   "source": [
    "var_ultra_gb_used"
   ]
  },
  {
   "cell_type": "code",
   "execution_count": 56,
   "metadata": {
    "scrolled": true
   },
   "outputs": [
    {
     "data": {
      "image/png": "[encoded data removed]",
      "text/plain": [
       "<Figure size 432x288 with 1 Axes>"
      ]
     },
     "metadata": {
      "needs_background": "light"
     },
     "output_type": "display_data"
    }
   ],
   "source": [
    "plt.title('Сравнение интернет-трафика в разных тарифах')\n",
    "plt.hist(smart_tariff['gb_used'], bins=50, label='Смарт', density=True)\n",
    "plt.hist(ultra_tariff['gb_used'], bins=50, label='Ультра', density=True, alpha=0.6)\n",
    "plt.legend(loc='upper right')\n",
    "plt.show()"
   ]
  },
  {
   "cell_type": "markdown",
   "metadata": {},
   "source": [
    "Распределение по графикам каждого тарифа - является нормальны.\n",
    " \n",
    "квартили тарифа ультра 1-й -12, медиана - 19, 3-й - 27  \n",
    "квартили тарифа смарт 1-й -13, медиана - 17, 3-й - 20\n",
    "\n",
    "\n",
    "В среднем пользователи не укладываются в лимит обоих тарифов.  \n",
    "Оптимальный расчет интренет-трафика:  \n",
    "\n",
    "ультра: 19 (среднее значение) + 9 (стандартное отклонение)*3 = 46 Гб (по тарифу 30 Гб интернет-трафика)  \n",
    "смарт: 16 (среднее значение) + 5 (стандартное отклонение)*3 = 31 Гб  ( по тарифу 15 Гб интернет-трафика)\n",
    "\n",
    "\n",
    "Что является выше заявленных в тарифе лимитов "
   ]
  },
  {
   "cell_type": "markdown",
   "metadata": {},
   "source": [
    "Из анализа результатов выявлено, тарифы допустипо изменить по количеству предлагаемых лимитов, уменьшить или увеличить. \n"
   ]
  },
  {
   "cell_type": "markdown",
   "metadata": {},
   "source": [
    "### Проверка гипотиз \n"
   ]
  },
  {
   "cell_type": "markdown",
   "metadata": {},
   "source": [
    "- Нулевая гипотеза H₀: Средняя выручка пользователей тарифов «Ультра» и «Смарт» не различается\n",
    "- Альтернативная гипотеза H₁: Средняя выручка пользователей тарифов «Ультра» и «Смарт» различается"
   ]
  },
  {
   "cell_type": "code",
   "execution_count": 57,
   "metadata": {},
   "outputs": [
    {
     "data": {
      "text/plain": [
       "1289.9735307312696"
      ]
     },
     "execution_count": 57,
     "metadata": {},
     "output_type": "execute_result"
    }
   ],
   "source": [
    "smart_tariff['revenue_per_month'].mean()\n"
   ]
  },
  {
   "cell_type": "code",
   "execution_count": 58,
   "metadata": {},
   "outputs": [
    {
     "data": {
      "text/plain": [
       "2070.1522842639592"
      ]
     },
     "execution_count": 58,
     "metadata": {},
     "output_type": "execute_result"
    }
   ],
   "source": [
    "ultra_tariff['revenue_per_month'].mean()"
   ]
  },
  {
   "cell_type": "code",
   "execution_count": 59,
   "metadata": {},
   "outputs": [
    {
     "name": "stdout",
     "output_type": "stream",
     "text": [
      "p-значение: 1.4229814360764067e-160\n",
      "Отвергаем нулевую гипотезу\n"
     ]
    }
   ],
   "source": [
    "alpha = .05\n",
    "\n",
    "results = st.ttest_ind(\n",
    "    smart_tariff['revenue_per_month'], \n",
    "    ultra_tariff['revenue_per_month'])\n",
    "\n",
    "print('p-значение:', results.pvalue)\n",
    "\n",
    "if (results.pvalue < alpha):\n",
    "    print(\"Отвергаем нулевую гипотезу\")\n",
    "else:\n",
    "    print(\"Не получилось отвергнуть нулевую гипотезу\")"
   ]
  },
  {
   "cell_type": "markdown",
   "metadata": {},
   "source": [
    "Средняя выручка тарифов отличается"
   ]
  },
  {
   "cell_type": "markdown",
   "metadata": {},
   "source": [
    "- Нулевая гипотеза H₀: Средняя выручка пользователей из Москвы не отличается от выручки пользователей из других регионов\n",
    "- Альтернативная гипотеза H₁: Средняя выручка пользователей из Москвы отличается от выручки пользователей из других регионов"
   ]
  },
  {
   "cell_type": "code",
   "execution_count": 60,
   "metadata": {
    "scrolled": true
   },
   "outputs": [
    {
     "data": {
      "text/plain": [
       "1546.7135842880523"
      ]
     },
     "execution_count": 60,
     "metadata": {},
     "output_type": "execute_result"
    }
   ],
   "source": [
    "report.query(\"revenue_city == 'Москва'\")['revenue_per_month'].mean()"
   ]
  },
  {
   "cell_type": "code",
   "execution_count": 61,
   "metadata": {},
   "outputs": [
    {
     "data": {
      "text/plain": [
       "1524.9362274298885"
      ]
     },
     "execution_count": 61,
     "metadata": {},
     "output_type": "execute_result"
    }
   ],
   "source": [
    "report.query(\"revenue_city == 'Другой регион'\")['revenue_per_month'].mean()"
   ]
  },
  {
   "cell_type": "code",
   "execution_count": 62,
   "metadata": {},
   "outputs": [
    {
     "name": "stdout",
     "output_type": "stream",
     "text": [
      "p-значение: 0.5440152911670224\n",
      "Не получилось отвергнуть нулевую гипотезу\n"
     ]
    }
   ],
   "source": [
    "moscow_revenue = report.query(\"revenue_city == 'Москва'\")['revenue_per_month']\n",
    "other_cities_revenue = report.query(\"revenue_city == 'Другой регион'\")['revenue_per_month']\n",
    "\n",
    "alpha = .05\n",
    "\n",
    "results = st.ttest_ind(moscow_revenue, other_cities_revenue)\n",
    "\n",
    "print('p-значение:', results.pvalue)\n",
    "\n",
    "if (results.pvalue < alpha):\n",
    "    print(\"Отвергаем нулевую гипотезу\")\n",
    "else:\n",
    "    print(\"Не получилось отвергнуть нулевую гипотезу\")\n"
   ]
  },
  {
   "cell_type": "markdown",
   "metadata": {},
   "source": [
    "Средняя выручка пользователей из Москвы имеет незначительную разницу от средней выручки пользователей других регионов, поэтому можем считать что выручка пользователей из Москвы не отличается от выручки пользователей из других регионов"
   ]
  },
  {
   "cell_type": "markdown",
   "metadata": {},
   "source": [
    "## Вывод "
   ]
  },
  {
   "cell_type": "markdown",
   "metadata": {},
   "source": [
    "Рассмотрев выборку клиетнов компании «Мегалайна»: кто они, откуда, каким тарифом пользуются, сколько звонков и сообщений каждый отправил за 2018 год, пришла к выводам, что в выборке преобладают преставители тарифа smart, т.е. он популярнее(smart  - 2 229 пользователей, ultra - 985 пользователей), возрасть в выборке самый разнообразный от 18 до 100, но средний - 46. Выявлены пользователи, которые не звонят, не используют сообщения или интернет. Больше всего предаставителей из других региов из Москвы меньше. \n",
    "\n",
    "При анализе выявлено, что пользователи в рамках тарифа по некоторым параметрам не укладываются (интернет-трафик), а по некоторым не достигают заданного лимита. Для смарт оптимальным будет - 1000 минут, 120 сообщений, 46 Гб.\n",
    "Для ультра оптимальным будет - 1500 минут, 200 сообщений и 31 Гб. \n",
    "В большинстве выручка по обоим тарифам за счет интерне-трафика. \n",
    "\n",
    "\n",
    "В результате были выдвинуты гипотизы:  \n",
    "•\tсредняя выручка пользователей тарифов «Ультра» и «Смарт» различаются;  \n",
    "•\tсредняя выручка пользователей из Москвы отличается от выручки пользователей из других регионов.  \n",
    "\n",
    "В результате проведенных Т тестов, определено, что средняя выручка у тарифов отличается и  у тарифа ультра средняя выручка больше, несмотря на гораздо меньшее количество пользователей.  \n",
    "Также выявлено, что средняя выручка пользователей из Москвы не отличается от выручки пользователей из других регионов"
   ]
  }
 ],
 "metadata": {
  "ExecuteTimeLog": [
   {
    "duration": 1551,
    "start_time": "2022-03-27T12:06:29.432Z"
   },
   {
    "duration": 171,
    "start_time": "2022-03-27T12:07:15.553Z"
   },
   {
    "duration": 12,
    "start_time": "2022-03-27T12:07:44.673Z"
   },
   {
    "duration": 144,
    "start_time": "2022-03-27T12:08:17.017Z"
   },
   {
    "duration": 8,
    "start_time": "2022-03-27T12:08:27.168Z"
   },
   {
    "duration": 98,
    "start_time": "2022-03-27T12:09:11.639Z"
   },
   {
    "duration": 8,
    "start_time": "2022-03-27T12:09:24.488Z"
   },
   {
    "duration": 26,
    "start_time": "2022-03-27T12:09:52.968Z"
   },
   {
    "duration": 11,
    "start_time": "2022-03-27T12:10:02.671Z"
   },
   {
    "duration": 43,
    "start_time": "2022-03-27T12:10:22.048Z"
   },
   {
    "duration": 8,
    "start_time": "2022-03-27T12:10:30.231Z"
   },
   {
    "duration": 17,
    "start_time": "2022-03-27T12:10:39.088Z"
   },
   {
    "duration": 5,
    "start_time": "2022-03-27T12:15:18.594Z"
   },
   {
    "duration": 32,
    "start_time": "2022-03-27T12:16:20.001Z"
   },
   {
    "duration": 34,
    "start_time": "2022-03-27T12:16:22.156Z"
   },
   {
    "duration": 33,
    "start_time": "2022-03-27T12:16:35.203Z"
   },
   {
    "duration": 1198,
    "start_time": "2022-03-27T12:20:46.559Z"
   },
   {
    "duration": 156,
    "start_time": "2022-03-27T12:20:47.759Z"
   },
   {
    "duration": 12,
    "start_time": "2022-03-27T12:20:47.917Z"
   },
   {
    "duration": 140,
    "start_time": "2022-03-27T12:20:47.931Z"
   },
   {
    "duration": 9,
    "start_time": "2022-03-27T12:20:48.073Z"
   },
   {
    "duration": 96,
    "start_time": "2022-03-27T12:20:48.084Z"
   },
   {
    "duration": 8,
    "start_time": "2022-03-27T12:20:48.182Z"
   },
   {
    "duration": 27,
    "start_time": "2022-03-27T12:20:48.191Z"
   },
   {
    "duration": 9,
    "start_time": "2022-03-27T12:20:48.220Z"
   },
   {
    "duration": 37,
    "start_time": "2022-03-27T12:20:48.231Z"
   },
   {
    "duration": 6,
    "start_time": "2022-03-27T12:20:48.270Z"
   },
   {
    "duration": 13,
    "start_time": "2022-03-27T12:20:48.277Z"
   },
   {
    "duration": 7,
    "start_time": "2022-03-27T12:20:48.291Z"
   },
   {
    "duration": 35,
    "start_time": "2022-03-27T12:20:48.300Z"
   },
   {
    "duration": 46,
    "start_time": "2022-03-27T12:20:48.337Z"
   },
   {
    "duration": 92,
    "start_time": "2022-03-27T12:21:40.967Z"
   },
   {
    "duration": 78,
    "start_time": "2022-03-27T12:22:16.333Z"
   },
   {
    "duration": 39,
    "start_time": "2022-03-27T12:23:21.517Z"
   },
   {
    "duration": 48,
    "start_time": "2022-03-27T12:37:00.151Z"
   },
   {
    "duration": 6,
    "start_time": "2022-03-27T12:37:11.442Z"
   },
   {
    "duration": 1308,
    "start_time": "2022-03-27T12:37:26.990Z"
   },
   {
    "duration": 196,
    "start_time": "2022-03-27T12:37:28.300Z"
   },
   {
    "duration": 12,
    "start_time": "2022-03-27T12:37:28.497Z"
   },
   {
    "duration": 165,
    "start_time": "2022-03-27T12:37:28.512Z"
   },
   {
    "duration": 8,
    "start_time": "2022-03-27T12:37:28.679Z"
   },
   {
    "duration": 109,
    "start_time": "2022-03-27T12:37:28.689Z"
   },
   {
    "duration": 7,
    "start_time": "2022-03-27T12:37:28.799Z"
   },
   {
    "duration": 20,
    "start_time": "2022-03-27T12:37:28.807Z"
   },
   {
    "duration": 8,
    "start_time": "2022-03-27T12:37:28.828Z"
   },
   {
    "duration": 24,
    "start_time": "2022-03-27T12:37:28.838Z"
   },
   {
    "duration": 9,
    "start_time": "2022-03-27T12:37:28.864Z"
   },
   {
    "duration": 16,
    "start_time": "2022-03-27T12:37:28.875Z"
   },
   {
    "duration": 12,
    "start_time": "2022-03-27T12:37:28.893Z"
   },
   {
    "duration": 79,
    "start_time": "2022-03-27T12:37:28.907Z"
   },
   {
    "duration": 82,
    "start_time": "2022-03-27T12:37:28.988Z"
   },
   {
    "duration": 7,
    "start_time": "2022-03-27T12:37:29.072Z"
   },
   {
    "duration": 39,
    "start_time": "2022-03-27T12:37:29.080Z"
   },
   {
    "duration": 83,
    "start_time": "2022-03-27T12:46:04.230Z"
   },
   {
    "duration": 109,
    "start_time": "2022-03-27T12:57:16.093Z"
   },
   {
    "duration": 40,
    "start_time": "2022-03-27T12:57:46.632Z"
   },
   {
    "duration": 12,
    "start_time": "2022-03-27T12:57:56.990Z"
   },
   {
    "duration": 23,
    "start_time": "2022-03-27T13:35:46.785Z"
   },
   {
    "duration": 33,
    "start_time": "2022-03-27T13:36:00.219Z"
   },
   {
    "duration": 1320,
    "start_time": "2022-03-27T13:36:30.337Z"
   },
   {
    "duration": 239,
    "start_time": "2022-03-27T13:36:31.660Z"
   },
   {
    "duration": 16,
    "start_time": "2022-03-27T13:36:31.901Z"
   },
   {
    "duration": 167,
    "start_time": "2022-03-27T13:36:31.920Z"
   },
   {
    "duration": 10,
    "start_time": "2022-03-27T13:36:32.089Z"
   },
   {
    "duration": 113,
    "start_time": "2022-03-27T13:36:32.101Z"
   },
   {
    "duration": 8,
    "start_time": "2022-03-27T13:36:32.217Z"
   },
   {
    "duration": 25,
    "start_time": "2022-03-27T13:36:32.228Z"
   },
   {
    "duration": 15,
    "start_time": "2022-03-27T13:36:32.255Z"
   },
   {
    "duration": 27,
    "start_time": "2022-03-27T13:36:32.273Z"
   },
   {
    "duration": 7,
    "start_time": "2022-03-27T13:36:32.302Z"
   },
   {
    "duration": 16,
    "start_time": "2022-03-27T13:36:32.311Z"
   },
   {
    "duration": 11,
    "start_time": "2022-03-27T13:36:32.329Z"
   },
   {
    "duration": 126,
    "start_time": "2022-03-27T13:36:32.342Z"
   },
   {
    "duration": 117,
    "start_time": "2022-03-27T13:36:32.471Z"
   },
   {
    "duration": 7,
    "start_time": "2022-03-27T13:36:32.590Z"
   },
   {
    "duration": 67,
    "start_time": "2022-03-27T13:36:32.599Z"
   },
   {
    "duration": 80,
    "start_time": "2022-03-27T13:36:32.668Z"
   },
   {
    "duration": 21,
    "start_time": "2022-03-27T13:36:32.749Z"
   },
   {
    "duration": 148,
    "start_time": "2022-03-27T13:43:33.307Z"
   },
   {
    "duration": 229,
    "start_time": "2022-03-27T13:43:59.235Z"
   },
   {
    "duration": 146,
    "start_time": "2022-03-27T13:45:20.065Z"
   },
   {
    "duration": 12,
    "start_time": "2022-03-27T13:45:27.937Z"
   },
   {
    "duration": 31,
    "start_time": "2022-03-27T13:45:51.267Z"
   },
   {
    "duration": 2348,
    "start_time": "2022-03-27T13:47:33.417Z"
   },
   {
    "duration": 2511,
    "start_time": "2022-03-27T13:59:45.307Z"
   },
   {
    "duration": 8,
    "start_time": "2022-03-27T14:04:51.734Z"
   },
   {
    "duration": 8,
    "start_time": "2022-03-27T14:05:16.807Z"
   },
   {
    "duration": 8,
    "start_time": "2022-03-27T14:05:37.236Z"
   },
   {
    "duration": 7,
    "start_time": "2022-03-27T14:05:59.550Z"
   },
   {
    "duration": 7,
    "start_time": "2022-03-27T14:06:20.204Z"
   },
   {
    "duration": 9,
    "start_time": "2022-03-27T14:11:29.770Z"
   },
   {
    "duration": 9,
    "start_time": "2022-03-27T14:11:51.226Z"
   },
   {
    "duration": 9,
    "start_time": "2022-03-27T14:12:40.259Z"
   },
   {
    "duration": 8,
    "start_time": "2022-03-27T14:14:15.248Z"
   },
   {
    "duration": 7,
    "start_time": "2022-03-27T14:14:29.280Z"
   },
   {
    "duration": 1161,
    "start_time": "2022-03-27T14:14:46.280Z"
   },
   {
    "duration": 173,
    "start_time": "2022-03-27T14:14:47.443Z"
   },
   {
    "duration": 11,
    "start_time": "2022-03-27T14:14:47.618Z"
   },
   {
    "duration": 163,
    "start_time": "2022-03-27T14:14:47.631Z"
   },
   {
    "duration": 9,
    "start_time": "2022-03-27T14:14:47.796Z"
   },
   {
    "duration": 114,
    "start_time": "2022-03-27T14:14:47.807Z"
   },
   {
    "duration": 7,
    "start_time": "2022-03-27T14:14:47.923Z"
   },
   {
    "duration": 19,
    "start_time": "2022-03-27T14:14:47.931Z"
   },
   {
    "duration": 16,
    "start_time": "2022-03-27T14:14:47.952Z"
   },
   {
    "duration": 22,
    "start_time": "2022-03-27T14:14:47.969Z"
   },
   {
    "duration": 7,
    "start_time": "2022-03-27T14:14:47.993Z"
   },
   {
    "duration": 9,
    "start_time": "2022-03-27T14:14:48.003Z"
   },
   {
    "duration": 8,
    "start_time": "2022-03-27T14:14:48.014Z"
   },
   {
    "duration": 124,
    "start_time": "2022-03-27T14:14:48.025Z"
   },
   {
    "duration": 0,
    "start_time": "2022-03-27T14:14:48.151Z"
   },
   {
    "duration": 0,
    "start_time": "2022-03-27T14:14:48.163Z"
   },
   {
    "duration": 0,
    "start_time": "2022-03-27T14:14:48.164Z"
   },
   {
    "duration": 0,
    "start_time": "2022-03-27T14:14:48.165Z"
   },
   {
    "duration": 0,
    "start_time": "2022-03-27T14:14:48.166Z"
   },
   {
    "duration": 0,
    "start_time": "2022-03-27T14:14:48.167Z"
   },
   {
    "duration": 0,
    "start_time": "2022-03-27T14:14:48.168Z"
   },
   {
    "duration": 0,
    "start_time": "2022-03-27T14:14:48.169Z"
   },
   {
    "duration": 0,
    "start_time": "2022-03-27T14:14:48.170Z"
   },
   {
    "duration": 1499,
    "start_time": "2022-03-27T14:15:47.818Z"
   },
   {
    "duration": 243,
    "start_time": "2022-03-27T14:15:49.320Z"
   },
   {
    "duration": 12,
    "start_time": "2022-03-27T14:15:49.565Z"
   },
   {
    "duration": 154,
    "start_time": "2022-03-27T14:15:49.580Z"
   },
   {
    "duration": 19,
    "start_time": "2022-03-27T14:15:49.736Z"
   },
   {
    "duration": 151,
    "start_time": "2022-03-27T14:15:49.757Z"
   },
   {
    "duration": 9,
    "start_time": "2022-03-27T14:15:49.910Z"
   },
   {
    "duration": 22,
    "start_time": "2022-03-27T14:15:49.921Z"
   },
   {
    "duration": 18,
    "start_time": "2022-03-27T14:15:49.945Z"
   },
   {
    "duration": 26,
    "start_time": "2022-03-27T14:15:49.967Z"
   },
   {
    "duration": 7,
    "start_time": "2022-03-27T14:15:49.995Z"
   },
   {
    "duration": 12,
    "start_time": "2022-03-27T14:15:50.004Z"
   },
   {
    "duration": 8,
    "start_time": "2022-03-27T14:15:50.018Z"
   },
   {
    "duration": 37,
    "start_time": "2022-03-27T14:15:50.027Z"
   },
   {
    "duration": 115,
    "start_time": "2022-03-27T14:15:50.066Z"
   },
   {
    "duration": 31,
    "start_time": "2022-03-27T14:15:50.184Z"
   },
   {
    "duration": 9,
    "start_time": "2022-03-27T14:15:50.217Z"
   },
   {
    "duration": 91,
    "start_time": "2022-03-27T14:15:50.228Z"
   },
   {
    "duration": 10,
    "start_time": "2022-03-27T14:16:38.405Z"
   },
   {
    "duration": 89,
    "start_time": "2022-03-27T14:23:32.240Z"
   },
   {
    "duration": 2267,
    "start_time": "2022-03-27T14:24:22.127Z"
   },
   {
    "duration": 70,
    "start_time": "2022-03-27T14:30:48.485Z"
   },
   {
    "duration": 4,
    "start_time": "2022-03-27T14:31:04.686Z"
   },
   {
    "duration": 221,
    "start_time": "2022-03-27T14:31:04.693Z"
   },
   {
    "duration": 11,
    "start_time": "2022-03-27T14:31:04.917Z"
   },
   {
    "duration": 188,
    "start_time": "2022-03-27T14:31:04.930Z"
   },
   {
    "duration": 11,
    "start_time": "2022-03-27T14:31:05.120Z"
   },
   {
    "duration": 139,
    "start_time": "2022-03-27T14:31:05.133Z"
   },
   {
    "duration": 10,
    "start_time": "2022-03-27T14:31:05.274Z"
   },
   {
    "duration": 23,
    "start_time": "2022-03-27T14:31:05.286Z"
   },
   {
    "duration": 10,
    "start_time": "2022-03-27T14:31:05.311Z"
   },
   {
    "duration": 52,
    "start_time": "2022-03-27T14:31:05.326Z"
   },
   {
    "duration": 9,
    "start_time": "2022-03-27T14:31:05.380Z"
   },
   {
    "duration": 18,
    "start_time": "2022-03-27T14:31:05.391Z"
   },
   {
    "duration": 11,
    "start_time": "2022-03-27T14:31:05.411Z"
   },
   {
    "duration": 175,
    "start_time": "2022-03-27T14:31:05.424Z"
   },
   {
    "duration": 6,
    "start_time": "2022-03-27T14:31:05.601Z"
   },
   {
    "duration": 91,
    "start_time": "2022-03-27T14:31:05.609Z"
   },
   {
    "duration": 119,
    "start_time": "2022-03-27T14:31:05.703Z"
   },
   {
    "duration": 135,
    "start_time": "2022-03-27T14:31:05.824Z"
   },
   {
    "duration": 41,
    "start_time": "2022-03-27T14:31:20.299Z"
   },
   {
    "duration": 1210,
    "start_time": "2022-03-27T15:12:57.867Z"
   },
   {
    "duration": 159,
    "start_time": "2022-03-27T15:12:59.079Z"
   },
   {
    "duration": 12,
    "start_time": "2022-03-27T15:12:59.239Z"
   },
   {
    "duration": 151,
    "start_time": "2022-03-27T15:12:59.253Z"
   },
   {
    "duration": 8,
    "start_time": "2022-03-27T15:12:59.408Z"
   },
   {
    "duration": 111,
    "start_time": "2022-03-27T15:12:59.418Z"
   },
   {
    "duration": 7,
    "start_time": "2022-03-27T15:12:59.531Z"
   },
   {
    "duration": 22,
    "start_time": "2022-03-27T15:12:59.540Z"
   },
   {
    "duration": 8,
    "start_time": "2022-03-27T15:12:59.564Z"
   },
   {
    "duration": 24,
    "start_time": "2022-03-27T15:12:59.574Z"
   },
   {
    "duration": 15,
    "start_time": "2022-03-27T15:12:59.600Z"
   },
   {
    "duration": 12,
    "start_time": "2022-03-27T15:12:59.616Z"
   },
   {
    "duration": 11,
    "start_time": "2022-03-27T15:12:59.630Z"
   },
   {
    "duration": 122,
    "start_time": "2022-03-27T15:12:59.644Z"
   },
   {
    "duration": 6,
    "start_time": "2022-03-27T15:12:59.767Z"
   },
   {
    "duration": 6,
    "start_time": "2022-03-27T15:12:59.774Z"
   },
   {
    "duration": 66,
    "start_time": "2022-03-27T15:12:59.781Z"
   },
   {
    "duration": 86,
    "start_time": "2022-03-27T15:12:59.849Z"
   },
   {
    "duration": 85,
    "start_time": "2022-03-27T15:12:59.937Z"
   },
   {
    "duration": 26,
    "start_time": "2022-03-27T15:13:00.024Z"
   },
   {
    "duration": 1141,
    "start_time": "2022-03-27T15:14:02.982Z"
   },
   {
    "duration": 163,
    "start_time": "2022-03-27T15:14:04.125Z"
   },
   {
    "duration": 12,
    "start_time": "2022-03-27T15:14:04.290Z"
   },
   {
    "duration": 146,
    "start_time": "2022-03-27T15:14:04.309Z"
   },
   {
    "duration": 9,
    "start_time": "2022-03-27T15:14:04.458Z"
   },
   {
    "duration": 108,
    "start_time": "2022-03-27T15:14:04.468Z"
   },
   {
    "duration": 7,
    "start_time": "2022-03-27T15:14:04.578Z"
   },
   {
    "duration": 22,
    "start_time": "2022-03-27T15:14:04.586Z"
   },
   {
    "duration": 8,
    "start_time": "2022-03-27T15:14:04.610Z"
   },
   {
    "duration": 25,
    "start_time": "2022-03-27T15:14:04.619Z"
   },
   {
    "duration": 6,
    "start_time": "2022-03-27T15:14:04.646Z"
   },
   {
    "duration": 12,
    "start_time": "2022-03-27T15:14:04.653Z"
   },
   {
    "duration": 8,
    "start_time": "2022-03-27T15:14:04.667Z"
   },
   {
    "duration": 141,
    "start_time": "2022-03-27T15:14:04.678Z"
   },
   {
    "duration": 7,
    "start_time": "2022-03-27T15:14:04.821Z"
   },
   {
    "duration": 6,
    "start_time": "2022-03-27T15:14:04.829Z"
   },
   {
    "duration": 79,
    "start_time": "2022-03-27T15:14:04.836Z"
   },
   {
    "duration": 79,
    "start_time": "2022-03-27T15:14:04.917Z"
   },
   {
    "duration": 1092,
    "start_time": "2022-03-27T15:14:04.997Z"
   },
   {
    "duration": 0,
    "start_time": "2022-03-27T15:14:06.090Z"
   },
   {
    "duration": 78,
    "start_time": "2022-03-27T15:14:42.558Z"
   },
   {
    "duration": 27,
    "start_time": "2022-03-27T15:14:47.253Z"
   },
   {
    "duration": 10,
    "start_time": "2022-03-27T15:35:17.768Z"
   },
   {
    "duration": 10,
    "start_time": "2022-03-27T15:36:18.352Z"
   },
   {
    "duration": 10,
    "start_time": "2022-03-27T15:37:54.334Z"
   },
   {
    "duration": 11,
    "start_time": "2022-03-27T15:38:24.175Z"
   },
   {
    "duration": 855,
    "start_time": "2022-03-27T15:38:29.737Z"
   },
   {
    "duration": 178,
    "start_time": "2022-03-27T15:38:30.595Z"
   },
   {
    "duration": 16,
    "start_time": "2022-03-27T15:38:30.774Z"
   },
   {
    "duration": 154,
    "start_time": "2022-03-27T15:38:30.791Z"
   },
   {
    "duration": 10,
    "start_time": "2022-03-27T15:38:30.947Z"
   },
   {
    "duration": 109,
    "start_time": "2022-03-27T15:38:30.958Z"
   },
   {
    "duration": 8,
    "start_time": "2022-03-27T15:38:31.069Z"
   },
   {
    "duration": 22,
    "start_time": "2022-03-27T15:38:31.078Z"
   },
   {
    "duration": 13,
    "start_time": "2022-03-27T15:38:31.101Z"
   },
   {
    "duration": 37,
    "start_time": "2022-03-27T15:38:31.116Z"
   },
   {
    "duration": 6,
    "start_time": "2022-03-27T15:38:31.154Z"
   },
   {
    "duration": 12,
    "start_time": "2022-03-27T15:38:31.162Z"
   },
   {
    "duration": 14,
    "start_time": "2022-03-27T15:38:31.176Z"
   },
   {
    "duration": 119,
    "start_time": "2022-03-27T15:38:31.193Z"
   },
   {
    "duration": 7,
    "start_time": "2022-03-27T15:38:31.314Z"
   },
   {
    "duration": 9,
    "start_time": "2022-03-27T15:38:31.322Z"
   },
   {
    "duration": 64,
    "start_time": "2022-03-27T15:38:31.333Z"
   },
   {
    "duration": 90,
    "start_time": "2022-03-27T15:38:31.399Z"
   },
   {
    "duration": 92,
    "start_time": "2022-03-27T15:38:31.490Z"
   },
   {
    "duration": 46,
    "start_time": "2022-03-27T15:38:31.584Z"
   },
   {
    "duration": 392,
    "start_time": "2022-03-27T15:38:31.632Z"
   },
   {
    "duration": 23,
    "start_time": "2022-03-27T15:39:01.224Z"
   },
   {
    "duration": 15,
    "start_time": "2022-03-27T15:39:35.031Z"
   },
   {
    "duration": 944,
    "start_time": "2022-03-27T15:41:19.431Z"
   },
   {
    "duration": 48,
    "start_time": "2022-03-27T15:41:54.319Z"
   },
   {
    "duration": 52,
    "start_time": "2022-03-27T15:53:06.164Z"
   },
   {
    "duration": 831,
    "start_time": "2022-03-27T15:53:15.514Z"
   },
   {
    "duration": 178,
    "start_time": "2022-03-27T15:53:16.347Z"
   },
   {
    "duration": 15,
    "start_time": "2022-03-27T15:53:16.526Z"
   },
   {
    "duration": 164,
    "start_time": "2022-03-27T15:53:16.543Z"
   },
   {
    "duration": 14,
    "start_time": "2022-03-27T15:53:16.711Z"
   },
   {
    "duration": 108,
    "start_time": "2022-03-27T15:53:16.727Z"
   },
   {
    "duration": 8,
    "start_time": "2022-03-27T15:53:16.836Z"
   },
   {
    "duration": 20,
    "start_time": "2022-03-27T15:53:16.846Z"
   },
   {
    "duration": 8,
    "start_time": "2022-03-27T15:53:16.867Z"
   },
   {
    "duration": 26,
    "start_time": "2022-03-27T15:53:16.878Z"
   },
   {
    "duration": 15,
    "start_time": "2022-03-27T15:53:16.906Z"
   },
   {
    "duration": 14,
    "start_time": "2022-03-27T15:53:16.922Z"
   },
   {
    "duration": 10,
    "start_time": "2022-03-27T15:53:16.938Z"
   },
   {
    "duration": 131,
    "start_time": "2022-03-27T15:53:16.949Z"
   },
   {
    "duration": 7,
    "start_time": "2022-03-27T15:53:17.082Z"
   },
   {
    "duration": 27,
    "start_time": "2022-03-27T15:53:17.090Z"
   },
   {
    "duration": 63,
    "start_time": "2022-03-27T15:53:17.119Z"
   },
   {
    "duration": 96,
    "start_time": "2022-03-27T15:53:17.184Z"
   },
   {
    "duration": 99,
    "start_time": "2022-03-27T15:53:17.282Z"
   },
   {
    "duration": 7,
    "start_time": "2022-03-27T15:53:17.383Z"
   },
   {
    "duration": 14,
    "start_time": "2022-03-27T15:54:18.991Z"
   },
   {
    "duration": 22,
    "start_time": "2022-03-27T15:56:10.621Z"
   },
   {
    "duration": 86,
    "start_time": "2022-03-27T15:57:33.718Z"
   },
   {
    "duration": 14,
    "start_time": "2022-03-27T15:57:44.700Z"
   },
   {
    "duration": 12,
    "start_time": "2022-03-27T15:58:01.973Z"
   },
   {
    "duration": 14,
    "start_time": "2022-03-27T15:58:05.220Z"
   },
   {
    "duration": 3,
    "start_time": "2022-03-27T16:00:56.769Z"
   },
   {
    "duration": 12,
    "start_time": "2022-03-27T16:01:11.466Z"
   },
   {
    "duration": 13,
    "start_time": "2022-03-27T16:01:18.306Z"
   },
   {
    "duration": 45,
    "start_time": "2022-03-27T16:15:25.332Z"
   },
   {
    "duration": 826,
    "start_time": "2022-03-27T16:15:37.189Z"
   },
   {
    "duration": 173,
    "start_time": "2022-03-27T16:15:38.017Z"
   },
   {
    "duration": 13,
    "start_time": "2022-03-27T16:15:38.192Z"
   },
   {
    "duration": 167,
    "start_time": "2022-03-27T16:15:38.207Z"
   },
   {
    "duration": 9,
    "start_time": "2022-03-27T16:15:38.376Z"
   },
   {
    "duration": 123,
    "start_time": "2022-03-27T16:15:38.386Z"
   },
   {
    "duration": 7,
    "start_time": "2022-03-27T16:15:38.511Z"
   },
   {
    "duration": 23,
    "start_time": "2022-03-27T16:15:38.520Z"
   },
   {
    "duration": 7,
    "start_time": "2022-03-27T16:15:38.545Z"
   },
   {
    "duration": 45,
    "start_time": "2022-03-27T16:15:38.554Z"
   },
   {
    "duration": 5,
    "start_time": "2022-03-27T16:15:38.600Z"
   },
   {
    "duration": 10,
    "start_time": "2022-03-27T16:15:38.607Z"
   },
   {
    "duration": 8,
    "start_time": "2022-03-27T16:15:38.618Z"
   },
   {
    "duration": 119,
    "start_time": "2022-03-27T16:15:38.629Z"
   },
   {
    "duration": 9,
    "start_time": "2022-03-27T16:15:38.750Z"
   },
   {
    "duration": 5,
    "start_time": "2022-03-27T16:15:38.760Z"
   },
   {
    "duration": 68,
    "start_time": "2022-03-27T16:15:38.766Z"
   },
   {
    "duration": 81,
    "start_time": "2022-03-27T16:15:38.835Z"
   },
   {
    "duration": 72,
    "start_time": "2022-03-27T16:15:38.918Z"
   },
   {
    "duration": 26,
    "start_time": "2022-03-27T16:15:38.991Z"
   },
   {
    "duration": 10,
    "start_time": "2022-03-27T16:15:39.019Z"
   },
   {
    "duration": 13,
    "start_time": "2022-03-27T16:15:39.030Z"
   },
   {
    "duration": 11,
    "start_time": "2022-03-27T16:15:39.044Z"
   },
   {
    "duration": 7,
    "start_time": "2022-03-27T16:15:39.057Z"
   },
   {
    "duration": 10,
    "start_time": "2022-03-27T16:16:00.948Z"
   },
   {
    "duration": 9,
    "start_time": "2022-03-27T16:16:07.197Z"
   },
   {
    "duration": 12,
    "start_time": "2022-03-27T16:19:33.122Z"
   },
   {
    "duration": 10,
    "start_time": "2022-03-27T16:20:39.479Z"
   },
   {
    "duration": 15,
    "start_time": "2022-03-27T16:20:53.387Z"
   },
   {
    "duration": 10,
    "start_time": "2022-03-27T16:21:14.743Z"
   },
   {
    "duration": 21,
    "start_time": "2022-03-27T16:21:16.531Z"
   },
   {
    "duration": 10,
    "start_time": "2022-03-27T16:21:53.189Z"
   },
   {
    "duration": 12,
    "start_time": "2022-03-27T16:21:55.250Z"
   },
   {
    "duration": 17,
    "start_time": "2022-03-27T16:22:18.802Z"
   },
   {
    "duration": 29,
    "start_time": "2022-03-27T16:22:20.683Z"
   },
   {
    "duration": 20,
    "start_time": "2022-03-27T16:25:01.129Z"
   },
   {
    "duration": 11,
    "start_time": "2022-03-27T16:30:09.024Z"
   },
   {
    "duration": 165,
    "start_time": "2022-03-27T16:31:40.715Z"
   },
   {
    "duration": 4,
    "start_time": "2022-03-27T16:34:56.875Z"
   },
   {
    "duration": 16,
    "start_time": "2022-03-27T16:35:02.908Z"
   },
   {
    "duration": 21,
    "start_time": "2022-03-27T16:35:13.587Z"
   },
   {
    "duration": 17,
    "start_time": "2022-03-27T16:35:24.561Z"
   },
   {
    "duration": 49,
    "start_time": "2022-03-27T16:36:43.474Z"
   },
   {
    "duration": 20,
    "start_time": "2022-03-27T16:37:25.416Z"
   },
   {
    "duration": 192,
    "start_time": "2022-03-27T16:38:49.673Z"
   },
   {
    "duration": 213,
    "start_time": "2022-03-27T16:39:03.112Z"
   },
   {
    "duration": 325,
    "start_time": "2022-03-27T16:39:09.929Z"
   },
   {
    "duration": 183,
    "start_time": "2022-03-27T16:39:16.448Z"
   },
   {
    "duration": 10,
    "start_time": "2022-03-27T16:39:37.649Z"
   },
   {
    "duration": 13,
    "start_time": "2022-03-27T16:39:37.661Z"
   },
   {
    "duration": 895,
    "start_time": "2022-03-27T16:39:42.419Z"
   },
   {
    "duration": 175,
    "start_time": "2022-03-27T16:39:43.316Z"
   },
   {
    "duration": 19,
    "start_time": "2022-03-27T16:39:43.493Z"
   },
   {
    "duration": 233,
    "start_time": "2022-03-27T16:39:43.514Z"
   },
   {
    "duration": 7,
    "start_time": "2022-03-27T16:39:43.750Z"
   },
   {
    "duration": 107,
    "start_time": "2022-03-27T16:39:43.759Z"
   },
   {
    "duration": 7,
    "start_time": "2022-03-27T16:39:43.868Z"
   },
   {
    "duration": 28,
    "start_time": "2022-03-27T16:39:43.877Z"
   },
   {
    "duration": 8,
    "start_time": "2022-03-27T16:39:43.906Z"
   },
   {
    "duration": 35,
    "start_time": "2022-03-27T16:39:43.916Z"
   },
   {
    "duration": 6,
    "start_time": "2022-03-27T16:39:43.953Z"
   },
   {
    "duration": 10,
    "start_time": "2022-03-27T16:39:43.961Z"
   },
   {
    "duration": 14,
    "start_time": "2022-03-27T16:39:43.972Z"
   },
   {
    "duration": 120,
    "start_time": "2022-03-27T16:39:44.002Z"
   },
   {
    "duration": 11,
    "start_time": "2022-03-27T16:39:44.123Z"
   },
   {
    "duration": 8,
    "start_time": "2022-03-27T16:39:44.137Z"
   },
   {
    "duration": 80,
    "start_time": "2022-03-27T16:39:44.147Z"
   },
   {
    "duration": 86,
    "start_time": "2022-03-27T16:39:44.229Z"
   },
   {
    "duration": 135,
    "start_time": "2022-03-27T16:39:44.317Z"
   },
   {
    "duration": 14,
    "start_time": "2022-03-27T16:39:44.454Z"
   },
   {
    "duration": 31,
    "start_time": "2022-03-27T16:39:44.470Z"
   },
   {
    "duration": 12,
    "start_time": "2022-03-27T16:39:44.503Z"
   },
   {
    "duration": 25,
    "start_time": "2022-03-27T16:39:44.517Z"
   },
   {
    "duration": 374,
    "start_time": "2022-03-27T16:39:44.544Z"
   },
   {
    "duration": 0,
    "start_time": "2022-03-27T16:39:44.920Z"
   },
   {
    "duration": 9,
    "start_time": "2022-03-27T16:40:49.489Z"
   },
   {
    "duration": 9,
    "start_time": "2022-03-27T16:40:52.137Z"
   },
   {
    "duration": 11,
    "start_time": "2022-03-27T16:43:06.056Z"
   },
   {
    "duration": 12,
    "start_time": "2022-03-27T16:43:07.552Z"
   },
   {
    "duration": 4739,
    "start_time": "2022-03-27T16:44:23.800Z"
   },
   {
    "duration": 7,
    "start_time": "2022-03-27T16:45:13.566Z"
   },
   {
    "duration": 7,
    "start_time": "2022-03-27T16:46:17.477Z"
   },
   {
    "duration": 858,
    "start_time": "2022-03-27T16:46:50.462Z"
   },
   {
    "duration": 185,
    "start_time": "2022-03-27T16:46:51.323Z"
   },
   {
    "duration": 19,
    "start_time": "2022-03-27T16:46:51.510Z"
   },
   {
    "duration": 151,
    "start_time": "2022-03-27T16:46:51.531Z"
   },
   {
    "duration": 16,
    "start_time": "2022-03-27T16:46:51.685Z"
   },
   {
    "duration": 100,
    "start_time": "2022-03-27T16:46:51.703Z"
   },
   {
    "duration": 8,
    "start_time": "2022-03-27T16:46:51.805Z"
   },
   {
    "duration": 29,
    "start_time": "2022-03-27T16:46:51.814Z"
   },
   {
    "duration": 13,
    "start_time": "2022-03-27T16:46:51.845Z"
   },
   {
    "duration": 64,
    "start_time": "2022-03-27T16:46:51.859Z"
   },
   {
    "duration": 6,
    "start_time": "2022-03-27T16:46:51.924Z"
   },
   {
    "duration": 11,
    "start_time": "2022-03-27T16:46:51.931Z"
   },
   {
    "duration": 8,
    "start_time": "2022-03-27T16:46:51.943Z"
   },
   {
    "duration": 119,
    "start_time": "2022-03-27T16:46:51.954Z"
   },
   {
    "duration": 14,
    "start_time": "2022-03-27T16:46:52.074Z"
   },
   {
    "duration": 11,
    "start_time": "2022-03-27T16:46:52.090Z"
   },
   {
    "duration": 56,
    "start_time": "2022-03-27T16:46:52.102Z"
   },
   {
    "duration": 161,
    "start_time": "2022-03-27T16:46:52.159Z"
   },
   {
    "duration": 162,
    "start_time": "2022-03-27T16:46:52.321Z"
   },
   {
    "duration": 17,
    "start_time": "2022-03-27T16:46:52.486Z"
   },
   {
    "duration": 11,
    "start_time": "2022-03-27T16:46:52.505Z"
   },
   {
    "duration": 10,
    "start_time": "2022-03-27T16:46:52.517Z"
   },
   {
    "duration": 12,
    "start_time": "2022-03-27T16:46:52.528Z"
   },
   {
    "duration": 17,
    "start_time": "2022-03-27T16:46:52.542Z"
   },
   {
    "duration": 46,
    "start_time": "2022-03-27T16:46:52.561Z"
   },
   {
    "duration": 18,
    "start_time": "2022-03-27T16:47:12.798Z"
   },
   {
    "duration": 242,
    "start_time": "2022-03-27T16:53:40.634Z"
   },
   {
    "duration": 188,
    "start_time": "2022-03-27T16:53:50.098Z"
   },
   {
    "duration": 198,
    "start_time": "2022-03-27T16:54:00.842Z"
   },
   {
    "duration": 224,
    "start_time": "2022-03-27T16:54:13.659Z"
   },
   {
    "duration": 831,
    "start_time": "2022-03-27T16:54:29.850Z"
   },
   {
    "duration": 183,
    "start_time": "2022-03-27T16:54:30.683Z"
   },
   {
    "duration": 15,
    "start_time": "2022-03-27T16:54:30.867Z"
   },
   {
    "duration": 147,
    "start_time": "2022-03-27T16:54:30.883Z"
   },
   {
    "duration": 13,
    "start_time": "2022-03-27T16:54:31.032Z"
   },
   {
    "duration": 169,
    "start_time": "2022-03-27T16:54:31.047Z"
   },
   {
    "duration": 11,
    "start_time": "2022-03-27T16:54:31.219Z"
   },
   {
    "duration": 36,
    "start_time": "2022-03-27T16:54:31.233Z"
   },
   {
    "duration": 11,
    "start_time": "2022-03-27T16:54:31.271Z"
   },
   {
    "duration": 65,
    "start_time": "2022-03-27T16:54:31.284Z"
   },
   {
    "duration": 8,
    "start_time": "2022-03-27T16:54:31.352Z"
   },
   {
    "duration": 17,
    "start_time": "2022-03-27T16:54:31.362Z"
   },
   {
    "duration": 10,
    "start_time": "2022-03-27T16:54:31.381Z"
   },
   {
    "duration": 166,
    "start_time": "2022-03-27T16:54:31.396Z"
   },
   {
    "duration": 9,
    "start_time": "2022-03-27T16:54:31.565Z"
   },
   {
    "duration": 5,
    "start_time": "2022-03-27T16:54:31.576Z"
   },
   {
    "duration": 69,
    "start_time": "2022-03-27T16:54:31.582Z"
   },
   {
    "duration": 85,
    "start_time": "2022-03-27T16:54:31.653Z"
   },
   {
    "duration": 104,
    "start_time": "2022-03-27T16:54:31.740Z"
   },
   {
    "duration": 6,
    "start_time": "2022-03-27T16:54:31.846Z"
   },
   {
    "duration": 12,
    "start_time": "2022-03-27T16:54:31.854Z"
   },
   {
    "duration": 15,
    "start_time": "2022-03-27T16:54:31.868Z"
   },
   {
    "duration": 9,
    "start_time": "2022-03-27T16:54:31.884Z"
   },
   {
    "duration": 8,
    "start_time": "2022-03-27T16:54:31.894Z"
   },
   {
    "duration": 510,
    "start_time": "2022-03-27T16:54:31.903Z"
   },
   {
    "duration": 206,
    "start_time": "2022-03-27T16:55:11.307Z"
   },
   {
    "duration": 204,
    "start_time": "2022-03-27T16:57:31.323Z"
   },
   {
    "duration": 199,
    "start_time": "2022-03-27T16:57:53.411Z"
   },
   {
    "duration": 216,
    "start_time": "2022-03-27T16:58:00.812Z"
   },
   {
    "duration": 1178,
    "start_time": "2022-03-27T16:58:11.570Z"
   },
   {
    "duration": 207,
    "start_time": "2022-03-27T16:58:12.751Z"
   },
   {
    "duration": 22,
    "start_time": "2022-03-27T16:58:12.960Z"
   },
   {
    "duration": 194,
    "start_time": "2022-03-27T16:58:12.986Z"
   },
   {
    "duration": 10,
    "start_time": "2022-03-27T16:58:13.184Z"
   },
   {
    "duration": 114,
    "start_time": "2022-03-27T16:58:13.196Z"
   },
   {
    "duration": 9,
    "start_time": "2022-03-27T16:58:13.312Z"
   },
   {
    "duration": 24,
    "start_time": "2022-03-27T16:58:13.324Z"
   },
   {
    "duration": 10,
    "start_time": "2022-03-27T16:58:13.350Z"
   },
   {
    "duration": 61,
    "start_time": "2022-03-27T16:58:13.363Z"
   },
   {
    "duration": 18,
    "start_time": "2022-03-27T16:58:13.426Z"
   },
   {
    "duration": 20,
    "start_time": "2022-03-27T16:58:13.446Z"
   },
   {
    "duration": 9,
    "start_time": "2022-03-27T16:58:13.468Z"
   },
   {
    "duration": 152,
    "start_time": "2022-03-27T16:58:13.480Z"
   },
   {
    "duration": 10,
    "start_time": "2022-03-27T16:58:13.634Z"
   },
   {
    "duration": 6,
    "start_time": "2022-03-27T16:58:13.646Z"
   },
   {
    "duration": 82,
    "start_time": "2022-03-27T16:58:13.654Z"
   },
   {
    "duration": 95,
    "start_time": "2022-03-27T16:58:13.738Z"
   },
   {
    "duration": 96,
    "start_time": "2022-03-27T16:58:13.836Z"
   },
   {
    "duration": 9,
    "start_time": "2022-03-27T16:58:13.934Z"
   },
   {
    "duration": 13,
    "start_time": "2022-03-27T16:58:13.945Z"
   },
   {
    "duration": 17,
    "start_time": "2022-03-27T16:58:13.960Z"
   },
   {
    "duration": 16,
    "start_time": "2022-03-27T16:58:14.002Z"
   },
   {
    "duration": 20,
    "start_time": "2022-03-27T16:58:14.021Z"
   },
   {
    "duration": 197,
    "start_time": "2022-03-27T16:58:14.043Z"
   },
   {
    "duration": 19,
    "start_time": "2022-03-27T17:01:49.960Z"
   },
   {
    "duration": 6,
    "start_time": "2022-03-27T17:02:48.447Z"
   },
   {
    "duration": 79,
    "start_time": "2022-03-27T17:03:33.639Z"
   },
   {
    "duration": 17,
    "start_time": "2022-03-27T17:04:56.126Z"
   },
   {
    "duration": 13,
    "start_time": "2022-03-27T17:05:17.149Z"
   },
   {
    "duration": 5,
    "start_time": "2022-03-27T17:05:51.765Z"
   },
   {
    "duration": 10,
    "start_time": "2022-03-27T17:08:17.763Z"
   },
   {
    "duration": 214,
    "start_time": "2022-03-27T17:09:55.764Z"
   },
   {
    "duration": 21,
    "start_time": "2022-03-27T17:10:00.154Z"
   },
   {
    "duration": 23,
    "start_time": "2022-03-27T17:10:16.157Z"
   },
   {
    "duration": 8,
    "start_time": "2022-03-27T17:10:38.243Z"
   },
   {
    "duration": 20,
    "start_time": "2022-03-27T17:11:00.246Z"
   },
   {
    "duration": 6,
    "start_time": "2022-03-27T17:13:27.601Z"
   },
   {
    "duration": 12,
    "start_time": "2022-03-27T17:13:36.330Z"
   },
   {
    "duration": 21,
    "start_time": "2022-03-27T17:14:08.353Z"
   },
   {
    "duration": 40,
    "start_time": "2022-03-27T17:15:25.592Z"
   },
   {
    "duration": 22,
    "start_time": "2022-03-27T17:16:46.058Z"
   },
   {
    "duration": 36,
    "start_time": "2022-03-27T17:33:16.341Z"
   },
   {
    "duration": 31,
    "start_time": "2022-03-27T17:33:23.517Z"
   },
   {
    "duration": 15,
    "start_time": "2022-03-27T17:35:10.518Z"
   },
   {
    "duration": 14,
    "start_time": "2022-03-27T17:35:17.477Z"
   },
   {
    "duration": 15,
    "start_time": "2022-03-27T17:36:24.188Z"
   },
   {
    "duration": 9,
    "start_time": "2022-03-27T17:36:26.684Z"
   },
   {
    "duration": 9,
    "start_time": "2022-03-27T17:36:45.259Z"
   },
   {
    "duration": 8,
    "start_time": "2022-03-27T17:36:47.476Z"
   },
   {
    "duration": 11,
    "start_time": "2022-03-27T17:38:31.083Z"
   },
   {
    "duration": 10,
    "start_time": "2022-03-27T17:38:33.236Z"
   },
   {
    "duration": 214,
    "start_time": "2022-03-27T17:39:33.394Z"
   },
   {
    "duration": 16,
    "start_time": "2022-03-27T17:39:43.074Z"
   },
   {
    "duration": 10,
    "start_time": "2022-03-27T17:39:44.937Z"
   },
   {
    "duration": 12,
    "start_time": "2022-03-27T17:43:26.592Z"
   },
   {
    "duration": 11,
    "start_time": "2022-03-27T17:43:28.750Z"
   },
   {
    "duration": 26,
    "start_time": "2022-03-27T17:44:19.424Z"
   },
   {
    "duration": 23,
    "start_time": "2022-03-27T17:44:21.496Z"
   },
   {
    "duration": 13,
    "start_time": "2022-03-27T17:45:37.431Z"
   },
   {
    "duration": 10,
    "start_time": "2022-03-27T17:45:39.190Z"
   },
   {
    "duration": 11,
    "start_time": "2022-03-27T17:54:58.627Z"
   },
   {
    "duration": 29,
    "start_time": "2022-03-27T17:55:04.882Z"
   },
   {
    "duration": 7,
    "start_time": "2022-03-27T17:55:54.161Z"
   },
   {
    "duration": 8,
    "start_time": "2022-03-27T17:56:19.896Z"
   },
   {
    "duration": 9,
    "start_time": "2022-03-27T18:01:05.517Z"
   },
   {
    "duration": 10,
    "start_time": "2022-03-27T18:03:14.516Z"
   },
   {
    "duration": 721,
    "start_time": "2022-03-27T18:03:26.861Z"
   },
   {
    "duration": 1258,
    "start_time": "2022-03-27T18:04:15.020Z"
   },
   {
    "duration": 842,
    "start_time": "2022-03-27T18:04:41.587Z"
   },
   {
    "duration": 827,
    "start_time": "2022-03-27T18:08:19.562Z"
   },
   {
    "duration": 3233,
    "start_time": "2022-03-27T18:10:06.176Z"
   },
   {
    "duration": 6,
    "start_time": "2022-03-27T18:10:22.882Z"
   },
   {
    "duration": 5,
    "start_time": "2022-03-27T18:10:25.025Z"
   },
   {
    "duration": 9,
    "start_time": "2022-03-27T18:14:10.566Z"
   },
   {
    "duration": 8,
    "start_time": "2022-03-27T18:14:23.997Z"
   },
   {
    "duration": 188,
    "start_time": "2022-03-27T18:15:43.949Z"
   },
   {
    "duration": 3783,
    "start_time": "2022-03-27T18:15:59.900Z"
   },
   {
    "duration": 10,
    "start_time": "2022-03-27T18:16:16.773Z"
   },
   {
    "duration": 9,
    "start_time": "2022-03-27T18:16:26.372Z"
   },
   {
    "duration": 285,
    "start_time": "2022-03-27T18:17:44.436Z"
   },
   {
    "duration": 239,
    "start_time": "2022-03-27T18:18:23.004Z"
   },
   {
    "duration": 1323,
    "start_time": "2022-03-28T17:06:57.804Z"
   },
   {
    "duration": 1732,
    "start_time": "2022-03-28T17:06:59.129Z"
   },
   {
    "duration": 36,
    "start_time": "2022-03-28T17:07:00.864Z"
   },
   {
    "duration": 252,
    "start_time": "2022-03-28T17:07:00.902Z"
   },
   {
    "duration": 29,
    "start_time": "2022-03-28T17:07:01.159Z"
   },
   {
    "duration": 158,
    "start_time": "2022-03-28T17:07:01.191Z"
   },
   {
    "duration": 15,
    "start_time": "2022-03-28T17:07:01.351Z"
   },
   {
    "duration": 27,
    "start_time": "2022-03-28T17:07:01.384Z"
   },
   {
    "duration": 20,
    "start_time": "2022-03-28T17:07:01.414Z"
   },
   {
    "duration": 94,
    "start_time": "2022-03-28T17:07:01.437Z"
   },
   {
    "duration": 12,
    "start_time": "2022-03-28T17:07:01.533Z"
   },
   {
    "duration": 34,
    "start_time": "2022-03-28T17:07:01.548Z"
   },
   {
    "duration": 41,
    "start_time": "2022-03-28T17:07:01.585Z"
   },
   {
    "duration": 204,
    "start_time": "2022-03-28T17:07:01.631Z"
   },
   {
    "duration": 17,
    "start_time": "2022-03-28T17:07:01.837Z"
   },
   {
    "duration": 9,
    "start_time": "2022-03-28T17:07:01.857Z"
   },
   {
    "duration": 141,
    "start_time": "2022-03-28T17:07:01.868Z"
   },
   {
    "duration": 190,
    "start_time": "2022-03-28T17:07:02.011Z"
   },
   {
    "duration": 155,
    "start_time": "2022-03-28T17:07:02.204Z"
   },
   {
    "duration": 10,
    "start_time": "2022-03-28T17:07:02.361Z"
   },
   {
    "duration": 76,
    "start_time": "2022-03-28T17:07:02.373Z"
   },
   {
    "duration": 38,
    "start_time": "2022-03-28T17:07:02.451Z"
   },
   {
    "duration": 32,
    "start_time": "2022-03-28T17:07:02.492Z"
   },
   {
    "duration": 59,
    "start_time": "2022-03-28T17:07:02.527Z"
   },
   {
    "duration": 20,
    "start_time": "2022-03-28T17:07:02.588Z"
   },
   {
    "duration": 29,
    "start_time": "2022-03-28T17:07:02.611Z"
   },
   {
    "duration": 22,
    "start_time": "2022-03-28T17:07:02.642Z"
   },
   {
    "duration": 22,
    "start_time": "2022-03-28T17:07:02.665Z"
   },
   {
    "duration": 31,
    "start_time": "2022-03-28T17:07:02.690Z"
   },
   {
    "duration": 1072,
    "start_time": "2022-03-28T17:07:02.723Z"
   },
   {
    "duration": 14,
    "start_time": "2022-03-28T17:07:03.798Z"
   },
   {
    "duration": 16,
    "start_time": "2022-03-28T17:07:03.815Z"
   },
   {
    "duration": 382,
    "start_time": "2022-03-28T17:07:03.833Z"
   },
   {
    "duration": 13,
    "start_time": "2022-03-28T17:07:04.217Z"
   },
   {
    "duration": 12,
    "start_time": "2022-03-28T17:07:04.232Z"
   },
   {
    "duration": 444,
    "start_time": "2022-03-28T17:07:04.246Z"
   },
   {
    "duration": 5,
    "start_time": "2022-03-28T17:15:24.457Z"
   },
   {
    "duration": 6,
    "start_time": "2022-03-28T17:15:31.625Z"
   },
   {
    "duration": 6,
    "start_time": "2022-03-28T17:15:40.089Z"
   },
   {
    "duration": 6,
    "start_time": "2022-03-28T17:17:09.192Z"
   },
   {
    "duration": 7,
    "start_time": "2022-03-28T17:17:16.456Z"
   },
   {
    "duration": 5,
    "start_time": "2022-03-28T17:17:22.376Z"
   },
   {
    "duration": 12,
    "start_time": "2022-03-28T17:18:14.759Z"
   },
   {
    "duration": 4,
    "start_time": "2022-03-28T17:19:30.632Z"
   },
   {
    "duration": 146,
    "start_time": "2022-03-28T17:20:01.054Z"
   },
   {
    "duration": 5,
    "start_time": "2022-03-28T17:20:03.135Z"
   },
   {
    "duration": 6,
    "start_time": "2022-03-28T17:20:05.030Z"
   },
   {
    "duration": 6,
    "start_time": "2022-03-28T17:20:24.749Z"
   },
   {
    "duration": 1107,
    "start_time": "2022-03-28T18:37:46.075Z"
   },
   {
    "duration": 258,
    "start_time": "2022-03-28T18:37:47.185Z"
   },
   {
    "duration": 23,
    "start_time": "2022-03-28T18:37:47.446Z"
   },
   {
    "duration": 207,
    "start_time": "2022-03-28T18:37:47.484Z"
   },
   {
    "duration": 14,
    "start_time": "2022-03-28T18:37:47.695Z"
   },
   {
    "duration": 146,
    "start_time": "2022-03-28T18:37:47.712Z"
   },
   {
    "duration": 23,
    "start_time": "2022-03-28T18:37:47.861Z"
   },
   {
    "duration": 23,
    "start_time": "2022-03-28T18:37:47.886Z"
   },
   {
    "duration": 12,
    "start_time": "2022-03-28T18:37:47.912Z"
   },
   {
    "duration": 66,
    "start_time": "2022-03-28T18:37:47.927Z"
   },
   {
    "duration": 9,
    "start_time": "2022-03-28T18:37:47.996Z"
   },
   {
    "duration": 28,
    "start_time": "2022-03-28T18:37:48.007Z"
   },
   {
    "duration": 12,
    "start_time": "2022-03-28T18:37:48.037Z"
   },
   {
    "duration": 185,
    "start_time": "2022-03-28T18:37:48.054Z"
   },
   {
    "duration": 11,
    "start_time": "2022-03-28T18:37:48.241Z"
   },
   {
    "duration": 8,
    "start_time": "2022-03-28T18:37:48.254Z"
   },
   {
    "duration": 94,
    "start_time": "2022-03-28T18:37:48.264Z"
   },
   {
    "duration": 142,
    "start_time": "2022-03-28T18:37:48.360Z"
   },
   {
    "duration": 149,
    "start_time": "2022-03-28T18:37:48.505Z"
   },
   {
    "duration": 9,
    "start_time": "2022-03-28T18:37:48.656Z"
   },
   {
    "duration": 92,
    "start_time": "2022-03-28T18:37:48.667Z"
   },
   {
    "duration": 22,
    "start_time": "2022-03-28T18:37:48.761Z"
   },
   {
    "duration": 12,
    "start_time": "2022-03-28T18:37:48.786Z"
   },
   {
    "duration": 55,
    "start_time": "2022-03-28T18:37:48.801Z"
   },
   {
    "duration": 38,
    "start_time": "2022-03-28T18:37:48.858Z"
   },
   {
    "duration": 37,
    "start_time": "2022-03-28T18:37:48.899Z"
   },
   {
    "duration": 19,
    "start_time": "2022-03-28T18:37:48.938Z"
   },
   {
    "duration": 20,
    "start_time": "2022-03-28T18:37:48.959Z"
   },
   {
    "duration": 36,
    "start_time": "2022-03-28T18:37:48.982Z"
   },
   {
    "duration": 11,
    "start_time": "2022-03-28T18:37:49.020Z"
   },
   {
    "duration": 10,
    "start_time": "2022-03-28T18:37:49.034Z"
   },
   {
    "duration": 9,
    "start_time": "2022-03-28T18:37:49.046Z"
   },
   {
    "duration": 877,
    "start_time": "2022-03-28T18:37:49.058Z"
   },
   {
    "duration": 13,
    "start_time": "2022-03-28T18:37:49.937Z"
   },
   {
    "duration": 38,
    "start_time": "2022-03-28T18:37:49.951Z"
   },
   {
    "duration": 5,
    "start_time": "2022-03-28T18:37:49.992Z"
   },
   {
    "duration": 12,
    "start_time": "2022-03-28T18:37:49.999Z"
   },
   {
    "duration": 15,
    "start_time": "2022-03-28T18:37:50.013Z"
   },
   {
    "duration": 466,
    "start_time": "2022-03-28T18:37:50.030Z"
   },
   {
    "duration": 11,
    "start_time": "2022-03-28T18:37:50.498Z"
   },
   {
    "duration": 11,
    "start_time": "2022-03-28T18:37:50.514Z"
   },
   {
    "duration": 11,
    "start_time": "2022-03-28T18:37:50.528Z"
   },
   {
    "duration": 45,
    "start_time": "2022-03-28T18:37:50.542Z"
   },
   {
    "duration": 8,
    "start_time": "2022-03-28T18:37:50.589Z"
   },
   {
    "duration": 714,
    "start_time": "2022-03-28T18:37:50.600Z"
   },
   {
    "duration": 1140,
    "start_time": "2022-03-28T18:49:48.657Z"
   },
   {
    "duration": 205,
    "start_time": "2022-03-28T18:49:49.800Z"
   },
   {
    "duration": 19,
    "start_time": "2022-03-28T18:49:50.007Z"
   },
   {
    "duration": 184,
    "start_time": "2022-03-28T18:49:50.028Z"
   },
   {
    "duration": 11,
    "start_time": "2022-03-28T18:49:50.214Z"
   },
   {
    "duration": 123,
    "start_time": "2022-03-28T18:49:50.227Z"
   },
   {
    "duration": 8,
    "start_time": "2022-03-28T18:49:50.352Z"
   },
   {
    "duration": 21,
    "start_time": "2022-03-28T18:49:50.362Z"
   },
   {
    "duration": 19,
    "start_time": "2022-03-28T18:49:50.385Z"
   },
   {
    "duration": 27,
    "start_time": "2022-03-28T18:49:50.406Z"
   },
   {
    "duration": 7,
    "start_time": "2022-03-28T18:49:50.435Z"
   },
   {
    "duration": 12,
    "start_time": "2022-03-28T18:49:50.443Z"
   },
   {
    "duration": 11,
    "start_time": "2022-03-28T18:49:50.457Z"
   },
   {
    "duration": 146,
    "start_time": "2022-03-28T18:49:50.471Z"
   },
   {
    "duration": 9,
    "start_time": "2022-03-28T18:49:50.619Z"
   },
   {
    "duration": 6,
    "start_time": "2022-03-28T18:49:50.630Z"
   },
   {
    "duration": 85,
    "start_time": "2022-03-28T18:49:50.638Z"
   },
   {
    "duration": 95,
    "start_time": "2022-03-28T18:49:50.725Z"
   },
   {
    "duration": 92,
    "start_time": "2022-03-28T18:49:50.823Z"
   },
   {
    "duration": 7,
    "start_time": "2022-03-28T18:49:50.917Z"
   },
   {
    "duration": 53,
    "start_time": "2022-03-28T18:49:50.925Z"
   },
   {
    "duration": 34,
    "start_time": "2022-03-28T18:49:50.981Z"
   },
   {
    "duration": 15,
    "start_time": "2022-03-28T18:49:51.018Z"
   },
   {
    "duration": 36,
    "start_time": "2022-03-28T18:49:51.035Z"
   },
   {
    "duration": 31,
    "start_time": "2022-03-28T18:49:51.073Z"
   },
   {
    "duration": 11,
    "start_time": "2022-03-28T18:49:51.106Z"
   },
   {
    "duration": 14,
    "start_time": "2022-03-28T18:49:51.119Z"
   },
   {
    "duration": 9,
    "start_time": "2022-03-28T18:49:51.135Z"
   },
   {
    "duration": 11,
    "start_time": "2022-03-28T18:49:51.146Z"
   },
   {
    "duration": 9,
    "start_time": "2022-03-28T18:49:51.160Z"
   },
   {
    "duration": 43,
    "start_time": "2022-03-28T18:49:51.171Z"
   },
   {
    "duration": 6,
    "start_time": "2022-03-28T18:49:51.217Z"
   },
   {
    "duration": 726,
    "start_time": "2022-03-28T18:49:51.225Z"
   },
   {
    "duration": 12,
    "start_time": "2022-03-28T18:49:51.953Z"
   },
   {
    "duration": 10,
    "start_time": "2022-03-28T18:49:51.966Z"
   },
   {
    "duration": 5,
    "start_time": "2022-03-28T18:49:52.000Z"
   },
   {
    "duration": 10,
    "start_time": "2022-03-28T18:49:52.008Z"
   },
   {
    "duration": 6,
    "start_time": "2022-03-28T18:49:52.020Z"
   },
   {
    "duration": 235,
    "start_time": "2022-03-28T18:49:52.028Z"
   },
   {
    "duration": 10,
    "start_time": "2022-03-28T18:49:52.266Z"
   },
   {
    "duration": 27,
    "start_time": "2022-03-28T18:49:52.281Z"
   },
   {
    "duration": 9,
    "start_time": "2022-03-28T18:49:52.311Z"
   },
   {
    "duration": 13,
    "start_time": "2022-03-28T18:49:52.322Z"
   },
   {
    "duration": 9,
    "start_time": "2022-03-28T18:49:52.337Z"
   },
   {
    "duration": 275,
    "start_time": "2022-03-28T18:49:52.348Z"
   },
   {
    "duration": 7,
    "start_time": "2022-03-28T19:23:16.023Z"
   },
   {
    "duration": 6,
    "start_time": "2022-03-28T19:23:23.597Z"
   },
   {
    "duration": 31,
    "start_time": "2022-03-28T19:24:43.678Z"
   },
   {
    "duration": 952,
    "start_time": "2022-03-28T19:29:10.802Z"
   },
   {
    "duration": 188,
    "start_time": "2022-03-28T19:29:11.759Z"
   },
   {
    "duration": 16,
    "start_time": "2022-03-28T19:29:11.948Z"
   },
   {
    "duration": 179,
    "start_time": "2022-03-28T19:29:11.967Z"
   },
   {
    "duration": 9,
    "start_time": "2022-03-28T19:29:12.148Z"
   },
   {
    "duration": 125,
    "start_time": "2022-03-28T19:29:12.159Z"
   },
   {
    "duration": 15,
    "start_time": "2022-03-28T19:29:12.287Z"
   },
   {
    "duration": 19,
    "start_time": "2022-03-28T19:29:12.305Z"
   },
   {
    "duration": 10,
    "start_time": "2022-03-28T19:29:12.326Z"
   },
   {
    "duration": 28,
    "start_time": "2022-03-28T19:29:12.340Z"
   },
   {
    "duration": 32,
    "start_time": "2022-03-28T19:29:12.370Z"
   },
   {
    "duration": 12,
    "start_time": "2022-03-28T19:29:12.404Z"
   },
   {
    "duration": 18,
    "start_time": "2022-03-28T19:29:12.418Z"
   },
   {
    "duration": 148,
    "start_time": "2022-03-28T19:29:12.439Z"
   },
   {
    "duration": 18,
    "start_time": "2022-03-28T19:29:12.588Z"
   },
   {
    "duration": 7,
    "start_time": "2022-03-28T19:29:12.608Z"
   },
   {
    "duration": 127,
    "start_time": "2022-03-28T19:29:12.617Z"
   },
   {
    "duration": 144,
    "start_time": "2022-03-28T19:29:12.746Z"
   },
   {
    "duration": 136,
    "start_time": "2022-03-28T19:29:12.901Z"
   },
   {
    "duration": 8,
    "start_time": "2022-03-28T19:29:13.039Z"
   },
   {
    "duration": 77,
    "start_time": "2022-03-28T19:29:13.049Z"
   },
   {
    "duration": 15,
    "start_time": "2022-03-28T19:29:13.128Z"
   },
   {
    "duration": 25,
    "start_time": "2022-03-28T19:29:13.146Z"
   },
   {
    "duration": 41,
    "start_time": "2022-03-28T19:29:13.174Z"
   },
   {
    "duration": 14,
    "start_time": "2022-03-28T19:29:13.218Z"
   },
   {
    "duration": 10,
    "start_time": "2022-03-28T19:29:13.234Z"
   },
   {
    "duration": 13,
    "start_time": "2022-03-28T19:29:13.246Z"
   },
   {
    "duration": 11,
    "start_time": "2022-03-28T19:29:13.263Z"
   },
   {
    "duration": 34,
    "start_time": "2022-03-28T19:29:13.276Z"
   },
   {
    "duration": 5,
    "start_time": "2022-03-28T19:29:13.312Z"
   },
   {
    "duration": 9,
    "start_time": "2022-03-28T19:29:13.319Z"
   },
   {
    "duration": 14,
    "start_time": "2022-03-28T19:29:13.330Z"
   },
   {
    "duration": 558,
    "start_time": "2022-03-28T19:29:13.346Z"
   },
   {
    "duration": 22,
    "start_time": "2022-03-28T19:29:13.906Z"
   },
   {
    "duration": 10,
    "start_time": "2022-03-28T19:29:13.930Z"
   },
   {
    "duration": 6,
    "start_time": "2022-03-28T19:29:13.942Z"
   },
   {
    "duration": 8,
    "start_time": "2022-03-28T19:29:13.950Z"
   },
   {
    "duration": 9,
    "start_time": "2022-03-28T19:29:13.959Z"
   },
   {
    "duration": 236,
    "start_time": "2022-03-28T19:29:13.970Z"
   },
   {
    "duration": 10,
    "start_time": "2022-03-28T19:29:14.208Z"
   },
   {
    "duration": 14,
    "start_time": "2022-03-28T19:29:14.219Z"
   },
   {
    "duration": 9,
    "start_time": "2022-03-28T19:29:14.234Z"
   },
   {
    "duration": 16,
    "start_time": "2022-03-28T19:29:14.244Z"
   },
   {
    "duration": 6,
    "start_time": "2022-03-28T19:29:14.262Z"
   },
   {
    "duration": 274,
    "start_time": "2022-03-28T19:29:14.269Z"
   },
   {
    "duration": 5,
    "start_time": "2022-03-28T19:29:14.545Z"
   },
   {
    "duration": 8,
    "start_time": "2022-03-28T19:29:14.552Z"
   },
   {
    "duration": 5,
    "start_time": "2022-03-28T19:29:39.937Z"
   },
   {
    "duration": 6,
    "start_time": "2022-03-28T19:29:40.009Z"
   },
   {
    "duration": 4,
    "start_time": "2022-03-28T19:29:54.729Z"
   },
   {
    "duration": 215,
    "start_time": "2022-03-28T19:29:54.736Z"
   },
   {
    "duration": 9,
    "start_time": "2022-03-28T19:29:54.953Z"
   },
   {
    "duration": 166,
    "start_time": "2022-03-28T19:29:54.964Z"
   },
   {
    "duration": 10,
    "start_time": "2022-03-28T19:29:55.132Z"
   },
   {
    "duration": 131,
    "start_time": "2022-03-28T19:29:55.144Z"
   },
   {
    "duration": 9,
    "start_time": "2022-03-28T19:29:55.277Z"
   },
   {
    "duration": 21,
    "start_time": "2022-03-28T19:29:55.300Z"
   },
   {
    "duration": 11,
    "start_time": "2022-03-28T19:29:55.323Z"
   },
   {
    "duration": 32,
    "start_time": "2022-03-28T19:29:55.336Z"
   },
   {
    "duration": 8,
    "start_time": "2022-03-28T19:29:55.371Z"
   },
   {
    "duration": 32,
    "start_time": "2022-03-28T19:29:55.380Z"
   },
   {
    "duration": 10,
    "start_time": "2022-03-28T19:29:55.413Z"
   },
   {
    "duration": 199,
    "start_time": "2022-03-28T19:29:55.425Z"
   },
   {
    "duration": 5,
    "start_time": "2022-03-28T19:29:55.626Z"
   },
   {
    "duration": 9,
    "start_time": "2022-03-28T19:29:55.633Z"
   },
   {
    "duration": 82,
    "start_time": "2022-03-28T19:29:55.644Z"
   },
   {
    "duration": 97,
    "start_time": "2022-03-28T19:29:55.729Z"
   },
   {
    "duration": 98,
    "start_time": "2022-03-28T19:29:55.828Z"
   },
   {
    "duration": 8,
    "start_time": "2022-03-28T19:29:55.928Z"
   },
   {
    "duration": 47,
    "start_time": "2022-03-28T19:29:55.938Z"
   },
   {
    "duration": 12,
    "start_time": "2022-03-28T19:29:56.002Z"
   },
   {
    "duration": 10,
    "start_time": "2022-03-28T19:29:56.016Z"
   },
   {
    "duration": 38,
    "start_time": "2022-03-28T19:29:56.028Z"
   },
   {
    "duration": 41,
    "start_time": "2022-03-28T19:29:56.068Z"
   },
   {
    "duration": 11,
    "start_time": "2022-03-28T19:29:56.110Z"
   },
   {
    "duration": 14,
    "start_time": "2022-03-28T19:29:56.123Z"
   },
   {
    "duration": 9,
    "start_time": "2022-03-28T19:29:56.139Z"
   },
   {
    "duration": 13,
    "start_time": "2022-03-28T19:29:56.150Z"
   },
   {
    "duration": 5,
    "start_time": "2022-03-28T19:29:56.164Z"
   },
   {
    "duration": 4,
    "start_time": "2022-03-28T19:29:56.202Z"
   },
   {
    "duration": 7,
    "start_time": "2022-03-28T19:29:56.208Z"
   },
   {
    "duration": 254,
    "start_time": "2022-03-28T19:29:56.218Z"
   },
   {
    "duration": 10,
    "start_time": "2022-03-28T19:29:56.474Z"
   },
   {
    "duration": 12,
    "start_time": "2022-03-28T19:29:56.500Z"
   },
   {
    "duration": 5,
    "start_time": "2022-03-28T19:29:56.514Z"
   },
   {
    "duration": 10,
    "start_time": "2022-03-28T19:29:56.521Z"
   },
   {
    "duration": 8,
    "start_time": "2022-03-28T19:29:56.533Z"
   },
   {
    "duration": 246,
    "start_time": "2022-03-28T19:29:56.543Z"
   },
   {
    "duration": 18,
    "start_time": "2022-03-28T19:29:56.790Z"
   },
   {
    "duration": 12,
    "start_time": "2022-03-28T19:29:56.810Z"
   },
   {
    "duration": 6,
    "start_time": "2022-03-28T19:29:56.824Z"
   },
   {
    "duration": 8,
    "start_time": "2022-03-28T19:29:56.832Z"
   },
   {
    "duration": 18,
    "start_time": "2022-03-28T19:29:56.842Z"
   },
   {
    "duration": 362,
    "start_time": "2022-03-28T19:29:56.862Z"
   },
   {
    "duration": 6,
    "start_time": "2022-03-28T19:29:57.227Z"
   },
   {
    "duration": 8,
    "start_time": "2022-03-28T19:29:57.235Z"
   },
   {
    "duration": 10,
    "start_time": "2022-03-28T19:29:57.245Z"
   },
   {
    "duration": 30,
    "start_time": "2022-03-28T19:31:34.427Z"
   },
   {
    "duration": 15,
    "start_time": "2022-03-28T19:31:34.493Z"
   },
   {
    "duration": 920,
    "start_time": "2022-03-28T19:31:43.043Z"
   },
   {
    "duration": 196,
    "start_time": "2022-03-28T19:31:43.966Z"
   },
   {
    "duration": 18,
    "start_time": "2022-03-28T19:31:44.165Z"
   },
   {
    "duration": 187,
    "start_time": "2022-03-28T19:31:44.186Z"
   },
   {
    "duration": 10,
    "start_time": "2022-03-28T19:31:44.376Z"
   },
   {
    "duration": 109,
    "start_time": "2022-03-28T19:31:44.401Z"
   },
   {
    "duration": 9,
    "start_time": "2022-03-28T19:31:44.512Z"
   },
   {
    "duration": 22,
    "start_time": "2022-03-28T19:31:44.523Z"
   },
   {
    "duration": 11,
    "start_time": "2022-03-28T19:31:44.547Z"
   },
   {
    "duration": 46,
    "start_time": "2022-03-28T19:31:44.560Z"
   },
   {
    "duration": 8,
    "start_time": "2022-03-28T19:31:44.608Z"
   },
   {
    "duration": 16,
    "start_time": "2022-03-28T19:31:44.618Z"
   },
   {
    "duration": 13,
    "start_time": "2022-03-28T19:31:44.636Z"
   },
   {
    "duration": 218,
    "start_time": "2022-03-28T19:31:44.653Z"
   },
   {
    "duration": 9,
    "start_time": "2022-03-28T19:31:44.873Z"
   },
   {
    "duration": 20,
    "start_time": "2022-03-28T19:31:44.884Z"
   },
   {
    "duration": 68,
    "start_time": "2022-03-28T19:31:44.906Z"
   },
   {
    "duration": 116,
    "start_time": "2022-03-28T19:31:44.976Z"
   },
   {
    "duration": 87,
    "start_time": "2022-03-28T19:31:45.100Z"
   },
   {
    "duration": 15,
    "start_time": "2022-03-28T19:31:45.189Z"
   },
   {
    "duration": 52,
    "start_time": "2022-03-28T19:31:45.206Z"
   },
   {
    "duration": 14,
    "start_time": "2022-03-28T19:31:45.260Z"
   },
   {
    "duration": 31,
    "start_time": "2022-03-28T19:31:45.276Z"
   },
   {
    "duration": 33,
    "start_time": "2022-03-28T19:31:45.309Z"
   },
   {
    "duration": 14,
    "start_time": "2022-03-28T19:31:45.344Z"
   },
   {
    "duration": 41,
    "start_time": "2022-03-28T19:31:45.360Z"
   },
   {
    "duration": 13,
    "start_time": "2022-03-28T19:31:45.404Z"
   },
   {
    "duration": 12,
    "start_time": "2022-03-28T19:31:45.420Z"
   },
   {
    "duration": 10,
    "start_time": "2022-03-28T19:31:45.435Z"
   },
   {
    "duration": 5,
    "start_time": "2022-03-28T19:31:45.446Z"
   },
   {
    "duration": 13,
    "start_time": "2022-03-28T19:31:45.453Z"
   },
   {
    "duration": 44,
    "start_time": "2022-03-28T19:31:45.468Z"
   },
   {
    "duration": 558,
    "start_time": "2022-03-28T19:31:45.514Z"
   },
   {
    "duration": 10,
    "start_time": "2022-03-28T19:31:46.074Z"
   },
   {
    "duration": 22,
    "start_time": "2022-03-28T19:31:46.085Z"
   },
   {
    "duration": 5,
    "start_time": "2022-03-28T19:31:46.109Z"
   },
   {
    "duration": 13,
    "start_time": "2022-03-28T19:31:46.115Z"
   },
   {
    "duration": 5,
    "start_time": "2022-03-28T19:31:46.130Z"
   },
   {
    "duration": 247,
    "start_time": "2022-03-28T19:31:46.137Z"
   },
   {
    "duration": 16,
    "start_time": "2022-03-28T19:31:46.386Z"
   },
   {
    "duration": 12,
    "start_time": "2022-03-28T19:31:46.407Z"
   },
   {
    "duration": 11,
    "start_time": "2022-03-28T19:31:46.421Z"
   },
   {
    "duration": 10,
    "start_time": "2022-03-28T19:31:46.434Z"
   },
   {
    "duration": 7,
    "start_time": "2022-03-28T19:31:46.446Z"
   },
   {
    "duration": 393,
    "start_time": "2022-03-28T19:31:46.455Z"
   },
   {
    "duration": 6,
    "start_time": "2022-03-28T19:31:46.851Z"
   },
   {
    "duration": 9,
    "start_time": "2022-03-28T19:31:46.858Z"
   },
   {
    "duration": 6,
    "start_time": "2022-03-28T19:31:46.869Z"
   },
   {
    "duration": 105,
    "start_time": "2022-03-28T19:33:51.820Z"
   },
   {
    "duration": 11,
    "start_time": "2022-03-28T19:35:05.668Z"
   },
   {
    "duration": 32,
    "start_time": "2022-03-28T19:37:44.201Z"
   },
   {
    "duration": 9,
    "start_time": "2022-03-28T19:38:26.473Z"
   },
   {
    "duration": 8,
    "start_time": "2022-03-28T19:38:56.913Z"
   },
   {
    "duration": 13,
    "start_time": "2022-03-28T19:39:45.912Z"
   },
   {
    "duration": 145,
    "start_time": "2022-03-28T19:45:08.654Z"
   },
   {
    "duration": 9,
    "start_time": "2022-03-28T19:55:58.280Z"
   },
   {
    "duration": 9,
    "start_time": "2022-03-28T19:56:12.301Z"
   },
   {
    "duration": 949,
    "start_time": "2022-03-28T19:56:17.861Z"
   },
   {
    "duration": 283,
    "start_time": "2022-03-28T19:56:18.812Z"
   },
   {
    "duration": 19,
    "start_time": "2022-03-28T19:56:19.101Z"
   },
   {
    "duration": 188,
    "start_time": "2022-03-28T19:56:19.123Z"
   },
   {
    "duration": 10,
    "start_time": "2022-03-28T19:56:19.314Z"
   },
   {
    "duration": 175,
    "start_time": "2022-03-28T19:56:19.327Z"
   },
   {
    "duration": 11,
    "start_time": "2022-03-28T19:56:19.505Z"
   },
   {
    "duration": 23,
    "start_time": "2022-03-28T19:56:19.518Z"
   },
   {
    "duration": 12,
    "start_time": "2022-03-28T19:56:19.543Z"
   },
   {
    "duration": 48,
    "start_time": "2022-03-28T19:56:19.559Z"
   },
   {
    "duration": 8,
    "start_time": "2022-03-28T19:56:19.610Z"
   },
   {
    "duration": 13,
    "start_time": "2022-03-28T19:56:19.620Z"
   },
   {
    "duration": 12,
    "start_time": "2022-03-28T19:56:19.635Z"
   },
   {
    "duration": 156,
    "start_time": "2022-03-28T19:56:19.650Z"
   },
   {
    "duration": 8,
    "start_time": "2022-03-28T19:56:19.808Z"
   },
   {
    "duration": 7,
    "start_time": "2022-03-28T19:56:19.818Z"
   },
   {
    "duration": 83,
    "start_time": "2022-03-28T19:56:19.827Z"
   },
   {
    "duration": 102,
    "start_time": "2022-03-28T19:56:19.911Z"
   },
   {
    "duration": 100,
    "start_time": "2022-03-28T19:56:20.016Z"
   },
   {
    "duration": 9,
    "start_time": "2022-03-28T19:56:20.119Z"
   },
   {
    "duration": 88,
    "start_time": "2022-03-28T19:56:20.130Z"
   },
   {
    "duration": 20,
    "start_time": "2022-03-28T19:56:20.220Z"
   },
   {
    "duration": 14,
    "start_time": "2022-03-28T19:56:20.242Z"
   },
   {
    "duration": 68,
    "start_time": "2022-03-28T19:56:20.258Z"
   },
   {
    "duration": 17,
    "start_time": "2022-03-28T19:56:20.328Z"
   },
   {
    "duration": 10,
    "start_time": "2022-03-28T19:56:20.347Z"
   },
   {
    "duration": 118,
    "start_time": "2022-03-28T19:56:20.360Z"
   },
   {
    "duration": 0,
    "start_time": "2022-03-28T19:56:20.481Z"
   },
   {
    "duration": 0,
    "start_time": "2022-03-28T19:56:20.482Z"
   },
   {
    "duration": 0,
    "start_time": "2022-03-28T19:56:20.484Z"
   },
   {
    "duration": 0,
    "start_time": "2022-03-28T19:56:20.485Z"
   },
   {
    "duration": 0,
    "start_time": "2022-03-28T19:56:20.505Z"
   },
   {
    "duration": 0,
    "start_time": "2022-03-28T19:56:20.506Z"
   },
   {
    "duration": 0,
    "start_time": "2022-03-28T19:56:20.508Z"
   },
   {
    "duration": 0,
    "start_time": "2022-03-28T19:56:20.509Z"
   },
   {
    "duration": 0,
    "start_time": "2022-03-28T19:56:20.510Z"
   },
   {
    "duration": 0,
    "start_time": "2022-03-28T19:56:20.512Z"
   },
   {
    "duration": 0,
    "start_time": "2022-03-28T19:56:20.513Z"
   },
   {
    "duration": 0,
    "start_time": "2022-03-28T19:56:20.514Z"
   },
   {
    "duration": 0,
    "start_time": "2022-03-28T19:56:20.515Z"
   },
   {
    "duration": 0,
    "start_time": "2022-03-28T19:56:20.516Z"
   },
   {
    "duration": 0,
    "start_time": "2022-03-28T19:56:20.517Z"
   },
   {
    "duration": 0,
    "start_time": "2022-03-28T19:56:20.518Z"
   },
   {
    "duration": 0,
    "start_time": "2022-03-28T19:56:20.519Z"
   },
   {
    "duration": 0,
    "start_time": "2022-03-28T19:56:20.520Z"
   },
   {
    "duration": 0,
    "start_time": "2022-03-28T19:56:20.521Z"
   },
   {
    "duration": 0,
    "start_time": "2022-03-28T19:56:20.523Z"
   },
   {
    "duration": 0,
    "start_time": "2022-03-28T19:56:20.524Z"
   },
   {
    "duration": 0,
    "start_time": "2022-03-28T19:56:20.526Z"
   },
   {
    "duration": 0,
    "start_time": "2022-03-28T19:56:20.527Z"
   },
   {
    "duration": 0,
    "start_time": "2022-03-28T19:56:20.528Z"
   },
   {
    "duration": 0,
    "start_time": "2022-03-28T19:56:20.530Z"
   },
   {
    "duration": 20,
    "start_time": "2022-03-28T19:56:46.975Z"
   },
   {
    "duration": 11,
    "start_time": "2022-03-28T19:57:30.246Z"
   },
   {
    "duration": 901,
    "start_time": "2022-03-28T19:58:04.648Z"
   },
   {
    "duration": 201,
    "start_time": "2022-03-28T19:58:05.551Z"
   },
   {
    "duration": 17,
    "start_time": "2022-03-28T19:58:05.754Z"
   },
   {
    "duration": 181,
    "start_time": "2022-03-28T19:58:05.774Z"
   },
   {
    "duration": 10,
    "start_time": "2022-03-28T19:58:05.957Z"
   },
   {
    "duration": 116,
    "start_time": "2022-03-28T19:58:05.969Z"
   },
   {
    "duration": 16,
    "start_time": "2022-03-28T19:58:06.087Z"
   },
   {
    "duration": 23,
    "start_time": "2022-03-28T19:58:06.104Z"
   },
   {
    "duration": 12,
    "start_time": "2022-03-28T19:58:06.130Z"
   },
   {
    "duration": 30,
    "start_time": "2022-03-28T19:58:06.146Z"
   },
   {
    "duration": 8,
    "start_time": "2022-03-28T19:58:06.178Z"
   },
   {
    "duration": 17,
    "start_time": "2022-03-28T19:58:06.201Z"
   },
   {
    "duration": 11,
    "start_time": "2022-03-28T19:58:06.220Z"
   },
   {
    "duration": 147,
    "start_time": "2022-03-28T19:58:06.233Z"
   },
   {
    "duration": 19,
    "start_time": "2022-03-28T19:58:06.382Z"
   },
   {
    "duration": 7,
    "start_time": "2022-03-28T19:58:06.403Z"
   },
   {
    "duration": 121,
    "start_time": "2022-03-28T19:58:06.413Z"
   },
   {
    "duration": 97,
    "start_time": "2022-03-28T19:58:06.537Z"
   },
   {
    "duration": 103,
    "start_time": "2022-03-28T19:58:06.636Z"
   },
   {
    "duration": 7,
    "start_time": "2022-03-28T19:58:06.741Z"
   },
   {
    "duration": 79,
    "start_time": "2022-03-28T19:58:06.751Z"
   },
   {
    "duration": 17,
    "start_time": "2022-03-28T19:58:06.833Z"
   },
   {
    "duration": 21,
    "start_time": "2022-03-28T19:58:06.852Z"
   },
   {
    "duration": 55,
    "start_time": "2022-03-28T19:58:06.877Z"
   },
   {
    "duration": 18,
    "start_time": "2022-03-28T19:58:06.934Z"
   },
   {
    "duration": 14,
    "start_time": "2022-03-28T19:58:06.954Z"
   },
   {
    "duration": 36,
    "start_time": "2022-03-28T19:58:06.970Z"
   },
   {
    "duration": 10,
    "start_time": "2022-03-28T19:58:07.011Z"
   },
   {
    "duration": 11,
    "start_time": "2022-03-28T19:58:07.024Z"
   },
   {
    "duration": 5,
    "start_time": "2022-03-28T19:58:07.038Z"
   },
   {
    "duration": 9,
    "start_time": "2022-03-28T19:58:07.045Z"
   },
   {
    "duration": 6,
    "start_time": "2022-03-28T19:58:07.056Z"
   },
   {
    "duration": 804,
    "start_time": "2022-03-28T19:58:07.102Z"
   },
   {
    "duration": 10,
    "start_time": "2022-03-28T19:58:07.909Z"
   },
   {
    "duration": 11,
    "start_time": "2022-03-28T19:58:07.922Z"
   },
   {
    "duration": 7,
    "start_time": "2022-03-28T19:58:07.934Z"
   },
   {
    "duration": 11,
    "start_time": "2022-03-28T19:58:07.943Z"
   },
   {
    "duration": 9,
    "start_time": "2022-03-28T19:58:07.956Z"
   },
   {
    "duration": 371,
    "start_time": "2022-03-28T19:58:08.002Z"
   },
   {
    "duration": 12,
    "start_time": "2022-03-28T19:58:08.375Z"
   },
   {
    "duration": 12,
    "start_time": "2022-03-28T19:58:08.402Z"
   },
   {
    "duration": 8,
    "start_time": "2022-03-28T19:58:08.417Z"
   },
   {
    "duration": 7,
    "start_time": "2022-03-28T19:58:08.427Z"
   },
   {
    "duration": 11,
    "start_time": "2022-03-28T19:58:08.436Z"
   },
   {
    "duration": 442,
    "start_time": "2022-03-28T19:58:08.450Z"
   },
   {
    "duration": 7,
    "start_time": "2022-03-28T19:58:08.900Z"
   },
   {
    "duration": 11,
    "start_time": "2022-03-28T19:58:08.909Z"
   },
   {
    "duration": 10,
    "start_time": "2022-03-28T19:58:08.922Z"
   },
   {
    "duration": 14,
    "start_time": "2022-03-28T19:58:08.934Z"
   },
   {
    "duration": 16,
    "start_time": "2022-03-28T19:58:08.951Z"
   },
   {
    "duration": 44,
    "start_time": "2022-03-28T19:58:08.969Z"
   },
   {
    "duration": 168,
    "start_time": "2022-03-28T19:59:01.347Z"
   },
   {
    "duration": 46,
    "start_time": "2022-03-28T19:59:28.505Z"
   },
   {
    "duration": 1172,
    "start_time": "2022-03-28T20:00:24.878Z"
   },
   {
    "duration": 279,
    "start_time": "2022-03-28T20:00:26.053Z"
   },
   {
    "duration": 24,
    "start_time": "2022-03-28T20:00:26.334Z"
   },
   {
    "duration": 184,
    "start_time": "2022-03-28T20:00:26.360Z"
   },
   {
    "duration": 9,
    "start_time": "2022-03-28T20:00:26.547Z"
   },
   {
    "duration": 124,
    "start_time": "2022-03-28T20:00:26.558Z"
   },
   {
    "duration": 19,
    "start_time": "2022-03-28T20:00:26.684Z"
   },
   {
    "duration": 26,
    "start_time": "2022-03-28T20:00:26.705Z"
   },
   {
    "duration": 11,
    "start_time": "2022-03-28T20:00:26.733Z"
   },
   {
    "duration": 34,
    "start_time": "2022-03-28T20:00:26.745Z"
   },
   {
    "duration": 8,
    "start_time": "2022-03-28T20:00:26.781Z"
   },
   {
    "duration": 20,
    "start_time": "2022-03-28T20:00:26.792Z"
   },
   {
    "duration": 11,
    "start_time": "2022-03-28T20:00:26.814Z"
   },
   {
    "duration": 148,
    "start_time": "2022-03-28T20:00:26.829Z"
   },
   {
    "duration": 9,
    "start_time": "2022-03-28T20:00:26.979Z"
   },
   {
    "duration": 16,
    "start_time": "2022-03-28T20:00:26.990Z"
   },
   {
    "duration": 65,
    "start_time": "2022-03-28T20:00:27.008Z"
   },
   {
    "duration": 102,
    "start_time": "2022-03-28T20:00:27.075Z"
   },
   {
    "duration": 99,
    "start_time": "2022-03-28T20:00:27.180Z"
   },
   {
    "duration": 20,
    "start_time": "2022-03-28T20:00:27.281Z"
   },
   {
    "duration": 65,
    "start_time": "2022-03-28T20:00:27.303Z"
   },
   {
    "duration": 33,
    "start_time": "2022-03-28T20:00:27.370Z"
   },
   {
    "duration": 13,
    "start_time": "2022-03-28T20:00:27.406Z"
   },
   {
    "duration": 46,
    "start_time": "2022-03-28T20:00:27.421Z"
   },
   {
    "duration": 35,
    "start_time": "2022-03-28T20:00:27.470Z"
   },
   {
    "duration": 10,
    "start_time": "2022-03-28T20:00:27.508Z"
   },
   {
    "duration": 9,
    "start_time": "2022-03-28T20:00:27.520Z"
   },
   {
    "duration": 13,
    "start_time": "2022-03-28T20:00:27.531Z"
   },
   {
    "duration": 10,
    "start_time": "2022-03-28T20:00:27.546Z"
   },
   {
    "duration": 43,
    "start_time": "2022-03-28T20:00:27.558Z"
   },
   {
    "duration": 4,
    "start_time": "2022-03-28T20:00:27.603Z"
   },
   {
    "duration": 23,
    "start_time": "2022-03-28T20:00:27.610Z"
   },
   {
    "duration": 10,
    "start_time": "2022-03-28T20:00:27.635Z"
   },
   {
    "duration": 811,
    "start_time": "2022-03-28T20:00:27.647Z"
   },
   {
    "duration": 13,
    "start_time": "2022-03-28T20:00:28.460Z"
   },
   {
    "duration": 30,
    "start_time": "2022-03-28T20:00:28.475Z"
   },
   {
    "duration": 5,
    "start_time": "2022-03-28T20:00:28.508Z"
   },
   {
    "duration": 9,
    "start_time": "2022-03-28T20:00:28.515Z"
   },
   {
    "duration": 7,
    "start_time": "2022-03-28T20:00:28.527Z"
   },
   {
    "duration": 253,
    "start_time": "2022-03-28T20:00:28.536Z"
   },
   {
    "duration": 14,
    "start_time": "2022-03-28T20:00:28.793Z"
   },
   {
    "duration": 10,
    "start_time": "2022-03-28T20:00:28.809Z"
   },
   {
    "duration": 6,
    "start_time": "2022-03-28T20:00:28.821Z"
   },
   {
    "duration": 6,
    "start_time": "2022-03-28T20:00:28.829Z"
   },
   {
    "duration": 7,
    "start_time": "2022-03-28T20:00:28.838Z"
   },
   {
    "duration": 300,
    "start_time": "2022-03-28T20:00:28.847Z"
   },
   {
    "duration": 5,
    "start_time": "2022-03-28T20:00:29.149Z"
   },
   {
    "duration": 10,
    "start_time": "2022-03-28T20:00:29.156Z"
   },
   {
    "duration": 9,
    "start_time": "2022-03-28T20:00:29.168Z"
   },
   {
    "duration": 30,
    "start_time": "2022-03-28T20:00:29.178Z"
   },
   {
    "duration": 16,
    "start_time": "2022-03-28T20:00:29.210Z"
   },
   {
    "duration": 19,
    "start_time": "2022-03-28T20:00:29.228Z"
   },
   {
    "duration": 7,
    "start_time": "2022-03-28T20:00:57.196Z"
   },
   {
    "duration": 1137,
    "start_time": "2022-03-28T20:01:06.315Z"
   },
   {
    "duration": 278,
    "start_time": "2022-03-28T20:01:07.455Z"
   },
   {
    "duration": 20,
    "start_time": "2022-03-28T20:01:07.736Z"
   },
   {
    "duration": 172,
    "start_time": "2022-03-28T20:01:07.758Z"
   },
   {
    "duration": 10,
    "start_time": "2022-03-28T20:01:07.933Z"
   },
   {
    "duration": 124,
    "start_time": "2022-03-28T20:01:07.944Z"
   },
   {
    "duration": 10,
    "start_time": "2022-03-28T20:01:08.070Z"
   },
   {
    "duration": 29,
    "start_time": "2022-03-28T20:01:08.082Z"
   },
   {
    "duration": 13,
    "start_time": "2022-03-28T20:01:08.114Z"
   },
   {
    "duration": 34,
    "start_time": "2022-03-28T20:01:08.130Z"
   },
   {
    "duration": 8,
    "start_time": "2022-03-28T20:01:08.167Z"
   },
   {
    "duration": 31,
    "start_time": "2022-03-28T20:01:08.177Z"
   },
   {
    "duration": 10,
    "start_time": "2022-03-28T20:01:08.210Z"
   },
   {
    "duration": 148,
    "start_time": "2022-03-28T20:01:08.224Z"
   },
   {
    "duration": 9,
    "start_time": "2022-03-28T20:01:08.374Z"
   },
   {
    "duration": 7,
    "start_time": "2022-03-28T20:01:08.385Z"
   },
   {
    "duration": 78,
    "start_time": "2022-03-28T20:01:08.394Z"
   },
   {
    "duration": 102,
    "start_time": "2022-03-28T20:01:08.474Z"
   },
   {
    "duration": 107,
    "start_time": "2022-03-28T20:01:08.578Z"
   },
   {
    "duration": 15,
    "start_time": "2022-03-28T20:01:08.688Z"
   },
   {
    "duration": 49,
    "start_time": "2022-03-28T20:01:08.706Z"
   },
   {
    "duration": 14,
    "start_time": "2022-03-28T20:01:08.757Z"
   },
   {
    "duration": 46,
    "start_time": "2022-03-28T20:01:08.773Z"
   },
   {
    "duration": 35,
    "start_time": "2022-03-28T20:01:08.821Z"
   },
   {
    "duration": 15,
    "start_time": "2022-03-28T20:01:08.858Z"
   },
   {
    "duration": 25,
    "start_time": "2022-03-28T20:01:08.875Z"
   },
   {
    "duration": 8,
    "start_time": "2022-03-28T20:01:08.902Z"
   },
   {
    "duration": 12,
    "start_time": "2022-03-28T20:01:08.911Z"
   },
   {
    "duration": 10,
    "start_time": "2022-03-28T20:01:08.925Z"
   },
   {
    "duration": 14,
    "start_time": "2022-03-28T20:01:08.936Z"
   },
   {
    "duration": 87,
    "start_time": "2022-03-28T20:01:08.953Z"
   },
   {
    "duration": 11,
    "start_time": "2022-03-28T20:01:09.043Z"
   },
   {
    "duration": 8,
    "start_time": "2022-03-28T20:01:09.056Z"
   },
   {
    "duration": 565,
    "start_time": "2022-03-28T20:01:09.066Z"
   },
   {
    "duration": 9,
    "start_time": "2022-03-28T20:01:09.633Z"
   },
   {
    "duration": 12,
    "start_time": "2022-03-28T20:01:09.644Z"
   },
   {
    "duration": 32,
    "start_time": "2022-03-28T20:01:09.657Z"
   },
   {
    "duration": 11,
    "start_time": "2022-03-28T20:01:09.691Z"
   },
   {
    "duration": 11,
    "start_time": "2022-03-28T20:01:09.704Z"
   },
   {
    "duration": 235,
    "start_time": "2022-03-28T20:01:09.717Z"
   },
   {
    "duration": 10,
    "start_time": "2022-03-28T20:01:09.956Z"
   },
   {
    "duration": 11,
    "start_time": "2022-03-28T20:01:09.969Z"
   },
   {
    "duration": 9,
    "start_time": "2022-03-28T20:01:10.002Z"
   },
   {
    "duration": 10,
    "start_time": "2022-03-28T20:01:10.013Z"
   },
   {
    "duration": 7,
    "start_time": "2022-03-28T20:01:10.025Z"
   },
   {
    "duration": 426,
    "start_time": "2022-03-28T20:01:10.034Z"
   },
   {
    "duration": 7,
    "start_time": "2022-03-28T20:01:10.465Z"
   },
   {
    "duration": 6,
    "start_time": "2022-03-28T20:01:10.475Z"
   },
   {
    "duration": 6,
    "start_time": "2022-03-28T20:01:10.502Z"
   },
   {
    "duration": 11,
    "start_time": "2022-03-28T20:01:10.510Z"
   },
   {
    "duration": 12,
    "start_time": "2022-03-28T20:01:10.524Z"
   },
   {
    "duration": 15,
    "start_time": "2022-03-28T20:01:10.538Z"
   },
   {
    "duration": 31,
    "start_time": "2022-03-28T20:13:38.652Z"
   },
   {
    "duration": 873,
    "start_time": "2022-03-28T20:18:53.679Z"
   },
   {
    "duration": 193,
    "start_time": "2022-03-28T20:18:54.554Z"
   },
   {
    "duration": 17,
    "start_time": "2022-03-28T20:18:54.749Z"
   },
   {
    "duration": 163,
    "start_time": "2022-03-28T20:18:54.770Z"
   },
   {
    "duration": 11,
    "start_time": "2022-03-28T20:18:54.935Z"
   },
   {
    "duration": 121,
    "start_time": "2022-03-28T20:18:54.947Z"
   },
   {
    "duration": 8,
    "start_time": "2022-03-28T20:18:55.070Z"
   },
   {
    "duration": 27,
    "start_time": "2022-03-28T20:18:55.080Z"
   },
   {
    "duration": 8,
    "start_time": "2022-03-28T20:18:55.109Z"
   },
   {
    "duration": 26,
    "start_time": "2022-03-28T20:18:55.120Z"
   },
   {
    "duration": 6,
    "start_time": "2022-03-28T20:18:55.149Z"
   },
   {
    "duration": 12,
    "start_time": "2022-03-28T20:18:55.156Z"
   },
   {
    "duration": 11,
    "start_time": "2022-03-28T20:18:55.170Z"
   },
   {
    "duration": 131,
    "start_time": "2022-03-28T20:18:55.202Z"
   },
   {
    "duration": 9,
    "start_time": "2022-03-28T20:18:55.335Z"
   },
   {
    "duration": 7,
    "start_time": "2022-03-28T20:18:55.346Z"
   },
   {
    "duration": 82,
    "start_time": "2022-03-28T20:18:55.355Z"
   },
   {
    "duration": 90,
    "start_time": "2022-03-28T20:18:55.439Z"
   },
   {
    "duration": 88,
    "start_time": "2022-03-28T20:18:55.530Z"
   },
   {
    "duration": 6,
    "start_time": "2022-03-28T20:18:55.620Z"
   },
   {
    "duration": 49,
    "start_time": "2022-03-28T20:18:55.628Z"
   },
   {
    "duration": 30,
    "start_time": "2022-03-28T20:18:55.679Z"
   },
   {
    "duration": 10,
    "start_time": "2022-03-28T20:18:55.710Z"
   },
   {
    "duration": 28,
    "start_time": "2022-03-28T20:18:55.722Z"
   },
   {
    "duration": 15,
    "start_time": "2022-03-28T20:18:55.752Z"
   },
   {
    "duration": 40,
    "start_time": "2022-03-28T20:18:55.769Z"
   },
   {
    "duration": 9,
    "start_time": "2022-03-28T20:18:55.811Z"
   },
   {
    "duration": 10,
    "start_time": "2022-03-28T20:18:55.825Z"
   },
   {
    "duration": 9,
    "start_time": "2022-03-28T20:18:55.837Z"
   },
   {
    "duration": 9,
    "start_time": "2022-03-28T20:18:55.848Z"
   },
   {
    "duration": 43,
    "start_time": "2022-03-28T20:18:55.860Z"
   },
   {
    "duration": 7,
    "start_time": "2022-03-28T20:18:55.905Z"
   },
   {
    "duration": 5,
    "start_time": "2022-03-28T20:18:55.914Z"
   },
   {
    "duration": 561,
    "start_time": "2022-03-28T20:18:55.920Z"
   },
   {
    "duration": 9,
    "start_time": "2022-03-28T20:18:56.483Z"
   },
   {
    "duration": 9,
    "start_time": "2022-03-28T20:18:56.501Z"
   },
   {
    "duration": 4,
    "start_time": "2022-03-28T20:18:56.512Z"
   },
   {
    "duration": 7,
    "start_time": "2022-03-28T20:18:56.518Z"
   },
   {
    "duration": 6,
    "start_time": "2022-03-28T20:18:56.527Z"
   },
   {
    "duration": 246,
    "start_time": "2022-03-28T20:18:56.535Z"
   },
   {
    "duration": 8,
    "start_time": "2022-03-28T20:18:56.783Z"
   },
   {
    "duration": 9,
    "start_time": "2022-03-28T20:18:56.801Z"
   },
   {
    "duration": 5,
    "start_time": "2022-03-28T20:18:56.812Z"
   },
   {
    "duration": 7,
    "start_time": "2022-03-28T20:18:56.819Z"
   },
   {
    "duration": 6,
    "start_time": "2022-03-28T20:18:56.828Z"
   },
   {
    "duration": 268,
    "start_time": "2022-03-28T20:18:56.836Z"
   },
   {
    "duration": 5,
    "start_time": "2022-03-28T20:18:57.106Z"
   },
   {
    "duration": 9,
    "start_time": "2022-03-28T20:18:57.113Z"
   },
   {
    "duration": 7,
    "start_time": "2022-03-28T20:18:57.124Z"
   },
   {
    "duration": 11,
    "start_time": "2022-03-28T20:18:57.132Z"
   },
   {
    "duration": 10,
    "start_time": "2022-03-28T20:18:57.145Z"
   },
   {
    "duration": 47,
    "start_time": "2022-03-28T20:18:57.157Z"
   },
   {
    "duration": 858,
    "start_time": "2022-04-08T14:56:39.742Z"
   },
   {
    "duration": 180,
    "start_time": "2022-04-08T14:56:40.602Z"
   },
   {
    "duration": 14,
    "start_time": "2022-04-08T14:56:40.784Z"
   },
   {
    "duration": 236,
    "start_time": "2022-04-08T14:56:40.800Z"
   },
   {
    "duration": 8,
    "start_time": "2022-04-08T14:56:41.039Z"
   },
   {
    "duration": 106,
    "start_time": "2022-04-08T14:56:41.049Z"
   },
   {
    "duration": 7,
    "start_time": "2022-04-08T14:56:41.157Z"
   },
   {
    "duration": 25,
    "start_time": "2022-04-08T14:56:41.166Z"
   },
   {
    "duration": 8,
    "start_time": "2022-04-08T14:56:41.192Z"
   },
   {
    "duration": 35,
    "start_time": "2022-04-08T14:56:41.202Z"
   },
   {
    "duration": 6,
    "start_time": "2022-04-08T14:56:41.239Z"
   },
   {
    "duration": 14,
    "start_time": "2022-04-08T14:56:41.246Z"
   },
   {
    "duration": 8,
    "start_time": "2022-04-08T14:56:41.262Z"
   },
   {
    "duration": 179,
    "start_time": "2022-04-08T14:56:41.281Z"
   },
   {
    "duration": 9,
    "start_time": "2022-04-08T14:56:41.462Z"
   },
   {
    "duration": 11,
    "start_time": "2022-04-08T14:56:41.473Z"
   },
   {
    "duration": 59,
    "start_time": "2022-04-08T14:56:41.486Z"
   },
   {
    "duration": 94,
    "start_time": "2022-04-08T14:56:41.547Z"
   },
   {
    "duration": 90,
    "start_time": "2022-04-08T14:56:41.642Z"
   },
   {
    "duration": 9,
    "start_time": "2022-04-08T14:56:41.734Z"
   },
   {
    "duration": 48,
    "start_time": "2022-04-08T14:56:41.744Z"
   },
   {
    "duration": 12,
    "start_time": "2022-04-08T14:56:41.794Z"
   },
   {
    "duration": 11,
    "start_time": "2022-04-08T14:56:41.808Z"
   },
   {
    "duration": 36,
    "start_time": "2022-04-08T14:56:41.821Z"
   },
   {
    "duration": 35,
    "start_time": "2022-04-08T14:56:41.858Z"
   },
   {
    "duration": 9,
    "start_time": "2022-04-08T14:56:41.895Z"
   },
   {
    "duration": 12,
    "start_time": "2022-04-08T14:56:41.906Z"
   },
   {
    "duration": 16,
    "start_time": "2022-04-08T14:56:41.922Z"
   },
   {
    "duration": 8,
    "start_time": "2022-04-08T14:56:41.940Z"
   },
   {
    "duration": 13,
    "start_time": "2022-04-08T14:56:41.950Z"
   },
   {
    "duration": 17,
    "start_time": "2022-04-08T14:56:41.965Z"
   },
   {
    "duration": 5,
    "start_time": "2022-04-08T14:56:41.984Z"
   },
   {
    "duration": 5,
    "start_time": "2022-04-08T14:56:41.990Z"
   },
   {
    "duration": 526,
    "start_time": "2022-04-08T14:56:41.997Z"
   },
   {
    "duration": 8,
    "start_time": "2022-04-08T14:56:42.524Z"
   },
   {
    "duration": 9,
    "start_time": "2022-04-08T14:56:42.533Z"
   },
   {
    "duration": 4,
    "start_time": "2022-04-08T14:56:42.543Z"
   },
   {
    "duration": 6,
    "start_time": "2022-04-08T14:56:42.549Z"
   },
   {
    "duration": 26,
    "start_time": "2022-04-08T14:56:42.556Z"
   },
   {
    "duration": 201,
    "start_time": "2022-04-08T14:56:42.584Z"
   },
   {
    "duration": 8,
    "start_time": "2022-04-08T14:56:42.786Z"
   },
   {
    "duration": 8,
    "start_time": "2022-04-08T14:56:42.795Z"
   },
   {
    "duration": 4,
    "start_time": "2022-04-08T14:56:42.805Z"
   },
   {
    "duration": 6,
    "start_time": "2022-04-08T14:56:42.810Z"
   },
   {
    "duration": 5,
    "start_time": "2022-04-08T14:56:42.817Z"
   },
   {
    "duration": 245,
    "start_time": "2022-04-08T14:56:42.823Z"
   },
   {
    "duration": 4,
    "start_time": "2022-04-08T14:56:43.070Z"
   },
   {
    "duration": 4,
    "start_time": "2022-04-08T14:56:43.081Z"
   },
   {
    "duration": 5,
    "start_time": "2022-04-08T14:56:43.087Z"
   },
   {
    "duration": 12,
    "start_time": "2022-04-08T14:56:43.093Z"
   },
   {
    "duration": 7,
    "start_time": "2022-04-08T14:56:43.107Z"
   },
   {
    "duration": 10,
    "start_time": "2022-04-08T14:56:43.115Z"
   },
   {
    "duration": 9,
    "start_time": "2022-04-08T15:02:35.622Z"
   },
   {
    "duration": 787,
    "start_time": "2022-04-09T13:38:41.404Z"
   },
   {
    "duration": 173,
    "start_time": "2022-04-09T13:38:42.193Z"
   },
   {
    "duration": 24,
    "start_time": "2022-04-09T13:38:42.368Z"
   },
   {
    "duration": 236,
    "start_time": "2022-04-09T13:38:42.396Z"
   },
   {
    "duration": 22,
    "start_time": "2022-04-09T13:38:42.635Z"
   },
   {
    "duration": 150,
    "start_time": "2022-04-09T13:38:42.659Z"
   },
   {
    "duration": 6,
    "start_time": "2022-04-09T13:38:42.811Z"
   },
   {
    "duration": 24,
    "start_time": "2022-04-09T13:38:42.819Z"
   },
   {
    "duration": 14,
    "start_time": "2022-04-09T13:38:42.845Z"
   },
   {
    "duration": 44,
    "start_time": "2022-04-09T13:38:42.861Z"
   },
   {
    "duration": 12,
    "start_time": "2022-04-09T13:38:42.906Z"
   },
   {
    "duration": 18,
    "start_time": "2022-04-09T13:38:42.919Z"
   },
   {
    "duration": 26,
    "start_time": "2022-04-09T13:38:42.939Z"
   },
   {
    "duration": 128,
    "start_time": "2022-04-09T13:38:42.967Z"
   },
   {
    "duration": 13,
    "start_time": "2022-04-09T13:38:43.097Z"
   },
   {
    "duration": 13,
    "start_time": "2022-04-09T13:38:43.111Z"
   },
   {
    "duration": 62,
    "start_time": "2022-04-09T13:38:43.126Z"
   },
   {
    "duration": 83,
    "start_time": "2022-04-09T13:38:43.190Z"
   },
   {
    "duration": 83,
    "start_time": "2022-04-09T13:38:43.275Z"
   },
   {
    "duration": 8,
    "start_time": "2022-04-09T13:38:43.359Z"
   },
   {
    "duration": 51,
    "start_time": "2022-04-09T13:38:43.369Z"
   },
   {
    "duration": 12,
    "start_time": "2022-04-09T13:38:43.421Z"
   },
   {
    "duration": 23,
    "start_time": "2022-04-09T13:38:43.434Z"
   },
   {
    "duration": 38,
    "start_time": "2022-04-09T13:38:43.458Z"
   },
   {
    "duration": 11,
    "start_time": "2022-04-09T13:38:43.498Z"
   },
   {
    "duration": 24,
    "start_time": "2022-04-09T13:38:43.510Z"
   },
   {
    "duration": 31,
    "start_time": "2022-04-09T13:38:43.536Z"
   },
   {
    "duration": 15,
    "start_time": "2022-04-09T13:38:43.571Z"
   },
   {
    "duration": 26,
    "start_time": "2022-04-09T13:38:43.587Z"
   },
   {
    "duration": 27,
    "start_time": "2022-04-09T13:38:43.615Z"
   },
   {
    "duration": 20,
    "start_time": "2022-04-09T13:38:43.644Z"
   },
   {
    "duration": 20,
    "start_time": "2022-04-09T13:38:43.666Z"
   },
   {
    "duration": 15,
    "start_time": "2022-04-09T13:38:43.688Z"
   },
   {
    "duration": 669,
    "start_time": "2022-04-09T13:38:43.704Z"
   },
   {
    "duration": 9,
    "start_time": "2022-04-09T13:38:44.375Z"
   },
   {
    "duration": 25,
    "start_time": "2022-04-09T13:38:44.386Z"
   },
   {
    "duration": 13,
    "start_time": "2022-04-09T13:38:44.413Z"
   },
   {
    "duration": 29,
    "start_time": "2022-04-09T13:38:44.427Z"
   },
   {
    "duration": 22,
    "start_time": "2022-04-09T13:38:44.458Z"
   },
   {
    "duration": 196,
    "start_time": "2022-04-09T13:38:44.482Z"
   },
   {
    "duration": 9,
    "start_time": "2022-04-09T13:38:44.679Z"
   },
   {
    "duration": 9,
    "start_time": "2022-04-09T13:38:44.689Z"
   },
   {
    "duration": 5,
    "start_time": "2022-04-09T13:38:44.699Z"
   },
   {
    "duration": 5,
    "start_time": "2022-04-09T13:38:44.706Z"
   },
   {
    "duration": 9,
    "start_time": "2022-04-09T13:38:44.712Z"
   },
   {
    "duration": 257,
    "start_time": "2022-04-09T13:38:44.722Z"
   },
   {
    "duration": 5,
    "start_time": "2022-04-09T13:38:44.981Z"
   },
   {
    "duration": 8,
    "start_time": "2022-04-09T13:38:44.988Z"
   },
   {
    "duration": 16,
    "start_time": "2022-04-09T13:38:44.998Z"
   },
   {
    "duration": 45,
    "start_time": "2022-04-09T13:38:45.017Z"
   },
   {
    "duration": 10,
    "start_time": "2022-04-09T13:38:45.065Z"
   },
   {
    "duration": 13,
    "start_time": "2022-04-09T13:38:45.077Z"
   },
   {
    "duration": 96,
    "start_time": "2022-04-09T13:56:13.109Z"
   },
   {
    "duration": 562,
    "start_time": "2022-04-09T13:56:26.365Z"
   },
   {
    "duration": 877,
    "start_time": "2022-04-09T13:56:42.516Z"
   },
   {
    "duration": 171,
    "start_time": "2022-04-09T13:56:43.395Z"
   },
   {
    "duration": 14,
    "start_time": "2022-04-09T13:56:43.568Z"
   },
   {
    "duration": 159,
    "start_time": "2022-04-09T13:56:43.585Z"
   },
   {
    "duration": 13,
    "start_time": "2022-04-09T13:56:43.746Z"
   },
   {
    "duration": 97,
    "start_time": "2022-04-09T13:56:43.761Z"
   },
   {
    "duration": 6,
    "start_time": "2022-04-09T13:56:43.860Z"
   },
   {
    "duration": 19,
    "start_time": "2022-04-09T13:56:43.868Z"
   },
   {
    "duration": 8,
    "start_time": "2022-04-09T13:56:43.889Z"
   },
   {
    "duration": 24,
    "start_time": "2022-04-09T13:56:43.900Z"
   },
   {
    "duration": 5,
    "start_time": "2022-04-09T13:56:43.926Z"
   },
   {
    "duration": 30,
    "start_time": "2022-04-09T13:56:43.933Z"
   },
   {
    "duration": 8,
    "start_time": "2022-04-09T13:56:43.964Z"
   },
   {
    "duration": 126,
    "start_time": "2022-04-09T13:56:43.974Z"
   },
   {
    "duration": 701,
    "start_time": "2022-04-09T13:56:44.102Z"
   },
   {
    "duration": 0,
    "start_time": "2022-04-09T13:56:44.806Z"
   },
   {
    "duration": 0,
    "start_time": "2022-04-09T13:56:44.807Z"
   },
   {
    "duration": 0,
    "start_time": "2022-04-09T13:56:44.808Z"
   },
   {
    "duration": 0,
    "start_time": "2022-04-09T13:56:44.809Z"
   },
   {
    "duration": 0,
    "start_time": "2022-04-09T13:56:44.810Z"
   },
   {
    "duration": 0,
    "start_time": "2022-04-09T13:56:44.811Z"
   },
   {
    "duration": 0,
    "start_time": "2022-04-09T13:56:44.812Z"
   },
   {
    "duration": 0,
    "start_time": "2022-04-09T13:56:44.812Z"
   },
   {
    "duration": 0,
    "start_time": "2022-04-09T13:56:44.813Z"
   },
   {
    "duration": 0,
    "start_time": "2022-04-09T13:56:44.814Z"
   },
   {
    "duration": 0,
    "start_time": "2022-04-09T13:56:44.815Z"
   },
   {
    "duration": 1,
    "start_time": "2022-04-09T13:56:44.816Z"
   },
   {
    "duration": 0,
    "start_time": "2022-04-09T13:56:44.817Z"
   },
   {
    "duration": 0,
    "start_time": "2022-04-09T13:56:44.818Z"
   },
   {
    "duration": 0,
    "start_time": "2022-04-09T13:56:44.819Z"
   },
   {
    "duration": 0,
    "start_time": "2022-04-09T13:56:44.820Z"
   },
   {
    "duration": 0,
    "start_time": "2022-04-09T13:56:44.821Z"
   },
   {
    "duration": 0,
    "start_time": "2022-04-09T13:56:44.821Z"
   },
   {
    "duration": 0,
    "start_time": "2022-04-09T13:56:44.822Z"
   },
   {
    "duration": 0,
    "start_time": "2022-04-09T13:56:44.823Z"
   },
   {
    "duration": 0,
    "start_time": "2022-04-09T13:56:44.824Z"
   },
   {
    "duration": 0,
    "start_time": "2022-04-09T13:56:44.825Z"
   },
   {
    "duration": 0,
    "start_time": "2022-04-09T13:56:44.826Z"
   },
   {
    "duration": 0,
    "start_time": "2022-04-09T13:56:44.827Z"
   },
   {
    "duration": 0,
    "start_time": "2022-04-09T13:56:44.827Z"
   },
   {
    "duration": 0,
    "start_time": "2022-04-09T13:56:44.828Z"
   },
   {
    "duration": 0,
    "start_time": "2022-04-09T13:56:44.829Z"
   },
   {
    "duration": 0,
    "start_time": "2022-04-09T13:56:44.830Z"
   },
   {
    "duration": 0,
    "start_time": "2022-04-09T13:56:44.831Z"
   },
   {
    "duration": 0,
    "start_time": "2022-04-09T13:56:44.832Z"
   },
   {
    "duration": 0,
    "start_time": "2022-04-09T13:56:44.832Z"
   },
   {
    "duration": 0,
    "start_time": "2022-04-09T13:56:44.833Z"
   },
   {
    "duration": 0,
    "start_time": "2022-04-09T13:56:44.834Z"
   },
   {
    "duration": 0,
    "start_time": "2022-04-09T13:56:44.836Z"
   },
   {
    "duration": 0,
    "start_time": "2022-04-09T13:56:44.837Z"
   },
   {
    "duration": 0,
    "start_time": "2022-04-09T13:56:44.837Z"
   },
   {
    "duration": 0,
    "start_time": "2022-04-09T13:56:44.839Z"
   },
   {
    "duration": 0,
    "start_time": "2022-04-09T13:56:44.839Z"
   },
   {
    "duration": 11,
    "start_time": "2022-04-09T13:57:39.308Z"
   },
   {
    "duration": 18,
    "start_time": "2022-04-09T13:58:36.104Z"
   },
   {
    "duration": 12,
    "start_time": "2022-04-09T13:58:51.456Z"
   },
   {
    "duration": 17,
    "start_time": "2022-04-09T13:59:21.496Z"
   },
   {
    "duration": 11,
    "start_time": "2022-04-09T13:59:24.573Z"
   },
   {
    "duration": 716,
    "start_time": "2022-04-09T13:59:58.663Z"
   },
   {
    "duration": 612,
    "start_time": "2022-04-09T14:14:07.092Z"
   },
   {
    "duration": 8,
    "start_time": "2022-04-09T14:25:10.901Z"
   },
   {
    "duration": 8,
    "start_time": "2022-04-09T14:26:04.349Z"
   },
   {
    "duration": 8,
    "start_time": "2022-04-09T14:27:05.497Z"
   },
   {
    "duration": 199,
    "start_time": "2022-04-09T14:27:48.053Z"
   },
   {
    "duration": 42,
    "start_time": "2022-04-09T14:27:53.664Z"
   },
   {
    "duration": 11,
    "start_time": "2022-04-09T14:27:57.976Z"
   },
   {
    "duration": 10,
    "start_time": "2022-04-09T14:29:24.650Z"
   },
   {
    "duration": 10,
    "start_time": "2022-04-09T14:29:58.815Z"
   },
   {
    "duration": 11,
    "start_time": "2022-04-09T14:30:08.041Z"
   },
   {
    "duration": 857,
    "start_time": "2022-04-09T14:30:40.511Z"
   },
   {
    "duration": 167,
    "start_time": "2022-04-09T14:30:41.370Z"
   },
   {
    "duration": 24,
    "start_time": "2022-04-09T14:30:41.539Z"
   },
   {
    "duration": 239,
    "start_time": "2022-04-09T14:30:41.565Z"
   },
   {
    "duration": 8,
    "start_time": "2022-04-09T14:30:41.807Z"
   },
   {
    "duration": 103,
    "start_time": "2022-04-09T14:30:41.816Z"
   },
   {
    "duration": 7,
    "start_time": "2022-04-09T14:30:41.920Z"
   },
   {
    "duration": 22,
    "start_time": "2022-04-09T14:30:41.929Z"
   },
   {
    "duration": 11,
    "start_time": "2022-04-09T14:30:41.952Z"
   },
   {
    "duration": 24,
    "start_time": "2022-04-09T14:30:41.964Z"
   },
   {
    "duration": 5,
    "start_time": "2022-04-09T14:30:41.990Z"
   },
   {
    "duration": 12,
    "start_time": "2022-04-09T14:30:41.997Z"
   },
   {
    "duration": 10,
    "start_time": "2022-04-09T14:30:42.011Z"
   },
   {
    "duration": 126,
    "start_time": "2022-04-09T14:30:42.024Z"
   },
   {
    "duration": 41,
    "start_time": "2022-04-09T14:30:42.151Z"
   },
   {
    "duration": 11,
    "start_time": "2022-04-09T14:30:42.193Z"
   },
   {
    "duration": 5,
    "start_time": "2022-04-09T14:30:42.206Z"
   },
   {
    "duration": 5,
    "start_time": "2022-04-09T14:30:42.213Z"
   },
   {
    "duration": 61,
    "start_time": "2022-04-09T14:30:42.220Z"
   },
   {
    "duration": 100,
    "start_time": "2022-04-09T14:30:42.283Z"
   },
   {
    "duration": 0,
    "start_time": "2022-04-09T14:30:42.386Z"
   },
   {
    "duration": 0,
    "start_time": "2022-04-09T14:30:42.387Z"
   },
   {
    "duration": 0,
    "start_time": "2022-04-09T14:30:42.388Z"
   },
   {
    "duration": 0,
    "start_time": "2022-04-09T14:30:42.390Z"
   },
   {
    "duration": 0,
    "start_time": "2022-04-09T14:30:42.391Z"
   },
   {
    "duration": 0,
    "start_time": "2022-04-09T14:30:42.392Z"
   },
   {
    "duration": 0,
    "start_time": "2022-04-09T14:30:42.393Z"
   },
   {
    "duration": 0,
    "start_time": "2022-04-09T14:30:42.394Z"
   },
   {
    "duration": 0,
    "start_time": "2022-04-09T14:30:42.395Z"
   },
   {
    "duration": 0,
    "start_time": "2022-04-09T14:30:42.396Z"
   },
   {
    "duration": 0,
    "start_time": "2022-04-09T14:30:42.397Z"
   },
   {
    "duration": 0,
    "start_time": "2022-04-09T14:30:42.398Z"
   },
   {
    "duration": 0,
    "start_time": "2022-04-09T14:30:42.400Z"
   },
   {
    "duration": 0,
    "start_time": "2022-04-09T14:30:42.401Z"
   },
   {
    "duration": 0,
    "start_time": "2022-04-09T14:30:42.401Z"
   },
   {
    "duration": 0,
    "start_time": "2022-04-09T14:30:42.402Z"
   },
   {
    "duration": 0,
    "start_time": "2022-04-09T14:30:42.404Z"
   },
   {
    "duration": 0,
    "start_time": "2022-04-09T14:30:42.405Z"
   },
   {
    "duration": 0,
    "start_time": "2022-04-09T14:30:42.406Z"
   },
   {
    "duration": 0,
    "start_time": "2022-04-09T14:30:42.407Z"
   },
   {
    "duration": 0,
    "start_time": "2022-04-09T14:30:42.408Z"
   },
   {
    "duration": 0,
    "start_time": "2022-04-09T14:30:42.409Z"
   },
   {
    "duration": 0,
    "start_time": "2022-04-09T14:30:42.410Z"
   },
   {
    "duration": 0,
    "start_time": "2022-04-09T14:30:42.411Z"
   },
   {
    "duration": 0,
    "start_time": "2022-04-09T14:30:42.412Z"
   },
   {
    "duration": 0,
    "start_time": "2022-04-09T14:30:42.458Z"
   },
   {
    "duration": 0,
    "start_time": "2022-04-09T14:30:42.460Z"
   },
   {
    "duration": 0,
    "start_time": "2022-04-09T14:30:42.461Z"
   },
   {
    "duration": 0,
    "start_time": "2022-04-09T14:30:42.462Z"
   },
   {
    "duration": 0,
    "start_time": "2022-04-09T14:30:42.463Z"
   },
   {
    "duration": 0,
    "start_time": "2022-04-09T14:30:42.464Z"
   },
   {
    "duration": 0,
    "start_time": "2022-04-09T14:30:42.465Z"
   },
   {
    "duration": 0,
    "start_time": "2022-04-09T14:30:42.467Z"
   },
   {
    "duration": 0,
    "start_time": "2022-04-09T14:30:42.468Z"
   },
   {
    "duration": 943,
    "start_time": "2022-04-09T14:31:50.553Z"
   },
   {
    "duration": 175,
    "start_time": "2022-04-09T14:31:51.498Z"
   },
   {
    "duration": 18,
    "start_time": "2022-04-09T14:31:51.675Z"
   },
   {
    "duration": 146,
    "start_time": "2022-04-09T14:31:51.694Z"
   },
   {
    "duration": 8,
    "start_time": "2022-04-09T14:31:51.842Z"
   },
   {
    "duration": 98,
    "start_time": "2022-04-09T14:31:51.857Z"
   },
   {
    "duration": 6,
    "start_time": "2022-04-09T14:31:51.957Z"
   },
   {
    "duration": 20,
    "start_time": "2022-04-09T14:31:51.965Z"
   },
   {
    "duration": 7,
    "start_time": "2022-04-09T14:31:51.986Z"
   },
   {
    "duration": 23,
    "start_time": "2022-04-09T14:31:51.995Z"
   },
   {
    "duration": 5,
    "start_time": "2022-04-09T14:31:52.019Z"
   },
   {
    "duration": 10,
    "start_time": "2022-04-09T14:31:52.026Z"
   },
   {
    "duration": 23,
    "start_time": "2022-04-09T14:31:52.037Z"
   },
   {
    "duration": 169,
    "start_time": "2022-04-09T14:31:52.062Z"
   },
   {
    "duration": 688,
    "start_time": "2022-04-09T14:31:52.233Z"
   },
   {
    "duration": 1,
    "start_time": "2022-04-09T14:31:52.924Z"
   },
   {
    "duration": 0,
    "start_time": "2022-04-09T14:31:52.926Z"
   },
   {
    "duration": 0,
    "start_time": "2022-04-09T14:31:52.927Z"
   },
   {
    "duration": 0,
    "start_time": "2022-04-09T14:31:52.928Z"
   },
   {
    "duration": 0,
    "start_time": "2022-04-09T14:31:52.929Z"
   },
   {
    "duration": 0,
    "start_time": "2022-04-09T14:31:52.930Z"
   },
   {
    "duration": 0,
    "start_time": "2022-04-09T14:31:52.932Z"
   },
   {
    "duration": 0,
    "start_time": "2022-04-09T14:31:52.933Z"
   },
   {
    "duration": 0,
    "start_time": "2022-04-09T14:31:52.934Z"
   },
   {
    "duration": 0,
    "start_time": "2022-04-09T14:31:52.935Z"
   },
   {
    "duration": 0,
    "start_time": "2022-04-09T14:31:52.936Z"
   },
   {
    "duration": 0,
    "start_time": "2022-04-09T14:31:52.937Z"
   },
   {
    "duration": 0,
    "start_time": "2022-04-09T14:31:52.938Z"
   },
   {
    "duration": 0,
    "start_time": "2022-04-09T14:31:52.940Z"
   },
   {
    "duration": 0,
    "start_time": "2022-04-09T14:31:52.941Z"
   },
   {
    "duration": 0,
    "start_time": "2022-04-09T14:31:52.942Z"
   },
   {
    "duration": 0,
    "start_time": "2022-04-09T14:31:52.943Z"
   },
   {
    "duration": 0,
    "start_time": "2022-04-09T14:31:52.944Z"
   },
   {
    "duration": 0,
    "start_time": "2022-04-09T14:31:52.945Z"
   },
   {
    "duration": 0,
    "start_time": "2022-04-09T14:31:52.946Z"
   },
   {
    "duration": 0,
    "start_time": "2022-04-09T14:31:52.948Z"
   },
   {
    "duration": 0,
    "start_time": "2022-04-09T14:31:52.949Z"
   },
   {
    "duration": 0,
    "start_time": "2022-04-09T14:31:52.950Z"
   },
   {
    "duration": 0,
    "start_time": "2022-04-09T14:31:52.952Z"
   },
   {
    "duration": 0,
    "start_time": "2022-04-09T14:31:52.953Z"
   },
   {
    "duration": 0,
    "start_time": "2022-04-09T14:31:52.954Z"
   },
   {
    "duration": 0,
    "start_time": "2022-04-09T14:31:52.956Z"
   },
   {
    "duration": 0,
    "start_time": "2022-04-09T14:31:52.957Z"
   },
   {
    "duration": 0,
    "start_time": "2022-04-09T14:31:52.959Z"
   },
   {
    "duration": 0,
    "start_time": "2022-04-09T14:31:52.960Z"
   },
   {
    "duration": 0,
    "start_time": "2022-04-09T14:31:52.961Z"
   },
   {
    "duration": 0,
    "start_time": "2022-04-09T14:31:52.962Z"
   },
   {
    "duration": 0,
    "start_time": "2022-04-09T14:31:52.963Z"
   },
   {
    "duration": 0,
    "start_time": "2022-04-09T14:31:52.964Z"
   },
   {
    "duration": 0,
    "start_time": "2022-04-09T14:31:52.965Z"
   },
   {
    "duration": 0,
    "start_time": "2022-04-09T14:31:52.967Z"
   },
   {
    "duration": 0,
    "start_time": "2022-04-09T14:31:52.968Z"
   },
   {
    "duration": 0,
    "start_time": "2022-04-09T14:31:52.969Z"
   },
   {
    "duration": 0,
    "start_time": "2022-04-09T14:31:52.970Z"
   },
   {
    "duration": 12,
    "start_time": "2022-04-09T14:33:27.600Z"
   },
   {
    "duration": 11,
    "start_time": "2022-04-09T14:33:36.238Z"
   },
   {
    "duration": 11,
    "start_time": "2022-04-09T14:33:47.019Z"
   },
   {
    "duration": 822,
    "start_time": "2022-04-09T14:33:56.057Z"
   },
   {
    "duration": 162,
    "start_time": "2022-04-09T14:33:56.881Z"
   },
   {
    "duration": 21,
    "start_time": "2022-04-09T14:33:57.045Z"
   },
   {
    "duration": 146,
    "start_time": "2022-04-09T14:33:57.068Z"
   },
   {
    "duration": 8,
    "start_time": "2022-04-09T14:33:57.217Z"
   },
   {
    "duration": 103,
    "start_time": "2022-04-09T14:33:57.226Z"
   },
   {
    "duration": 8,
    "start_time": "2022-04-09T14:33:57.330Z"
   },
   {
    "duration": 33,
    "start_time": "2022-04-09T14:33:57.340Z"
   },
   {
    "duration": 9,
    "start_time": "2022-04-09T14:33:57.375Z"
   },
   {
    "duration": 29,
    "start_time": "2022-04-09T14:33:57.386Z"
   },
   {
    "duration": 6,
    "start_time": "2022-04-09T14:33:57.416Z"
   },
   {
    "duration": 12,
    "start_time": "2022-04-09T14:33:57.424Z"
   },
   {
    "duration": 9,
    "start_time": "2022-04-09T14:33:57.438Z"
   },
   {
    "duration": 111,
    "start_time": "2022-04-09T14:33:57.457Z"
   },
   {
    "duration": 39,
    "start_time": "2022-04-09T14:33:57.570Z"
   },
   {
    "duration": 11,
    "start_time": "2022-04-09T14:33:57.611Z"
   },
   {
    "duration": 9,
    "start_time": "2022-04-09T14:33:57.623Z"
   },
   {
    "duration": 11,
    "start_time": "2022-04-09T14:33:57.633Z"
   },
   {
    "duration": 48,
    "start_time": "2022-04-09T14:33:57.645Z"
   },
   {
    "duration": 99,
    "start_time": "2022-04-09T14:33:57.695Z"
   },
   {
    "duration": 0,
    "start_time": "2022-04-09T14:33:57.796Z"
   },
   {
    "duration": 0,
    "start_time": "2022-04-09T14:33:57.798Z"
   },
   {
    "duration": 0,
    "start_time": "2022-04-09T14:33:57.799Z"
   },
   {
    "duration": 0,
    "start_time": "2022-04-09T14:33:57.800Z"
   },
   {
    "duration": 0,
    "start_time": "2022-04-09T14:33:57.802Z"
   },
   {
    "duration": 0,
    "start_time": "2022-04-09T14:33:57.803Z"
   },
   {
    "duration": 0,
    "start_time": "2022-04-09T14:33:57.804Z"
   },
   {
    "duration": 0,
    "start_time": "2022-04-09T14:33:57.805Z"
   },
   {
    "duration": 0,
    "start_time": "2022-04-09T14:33:57.807Z"
   },
   {
    "duration": 0,
    "start_time": "2022-04-09T14:33:57.808Z"
   },
   {
    "duration": 0,
    "start_time": "2022-04-09T14:33:57.809Z"
   },
   {
    "duration": 0,
    "start_time": "2022-04-09T14:33:57.811Z"
   },
   {
    "duration": 0,
    "start_time": "2022-04-09T14:33:57.812Z"
   },
   {
    "duration": 0,
    "start_time": "2022-04-09T14:33:57.813Z"
   },
   {
    "duration": 0,
    "start_time": "2022-04-09T14:33:57.815Z"
   },
   {
    "duration": 0,
    "start_time": "2022-04-09T14:33:57.816Z"
   },
   {
    "duration": 0,
    "start_time": "2022-04-09T14:33:57.818Z"
   },
   {
    "duration": 0,
    "start_time": "2022-04-09T14:33:57.819Z"
   },
   {
    "duration": 0,
    "start_time": "2022-04-09T14:33:57.821Z"
   },
   {
    "duration": 0,
    "start_time": "2022-04-09T14:33:57.859Z"
   },
   {
    "duration": 0,
    "start_time": "2022-04-09T14:33:57.860Z"
   },
   {
    "duration": 0,
    "start_time": "2022-04-09T14:33:57.861Z"
   },
   {
    "duration": 0,
    "start_time": "2022-04-09T14:33:57.863Z"
   },
   {
    "duration": 0,
    "start_time": "2022-04-09T14:33:57.864Z"
   },
   {
    "duration": 0,
    "start_time": "2022-04-09T14:33:57.865Z"
   },
   {
    "duration": 0,
    "start_time": "2022-04-09T14:33:57.867Z"
   },
   {
    "duration": 0,
    "start_time": "2022-04-09T14:33:57.868Z"
   },
   {
    "duration": 0,
    "start_time": "2022-04-09T14:33:57.869Z"
   },
   {
    "duration": 0,
    "start_time": "2022-04-09T14:33:57.871Z"
   },
   {
    "duration": 0,
    "start_time": "2022-04-09T14:33:57.872Z"
   },
   {
    "duration": 0,
    "start_time": "2022-04-09T14:33:57.873Z"
   },
   {
    "duration": 0,
    "start_time": "2022-04-09T14:33:57.875Z"
   },
   {
    "duration": 0,
    "start_time": "2022-04-09T14:33:57.876Z"
   },
   {
    "duration": 0,
    "start_time": "2022-04-09T14:33:57.877Z"
   },
   {
    "duration": 7,
    "start_time": "2022-04-09T14:35:31.783Z"
   },
   {
    "duration": 10,
    "start_time": "2022-04-09T14:36:55.250Z"
   },
   {
    "duration": 29,
    "start_time": "2022-04-09T14:37:50.675Z"
   },
   {
    "duration": 12,
    "start_time": "2022-04-09T14:38:01.438Z"
   },
   {
    "duration": 6,
    "start_time": "2022-04-09T14:40:15.725Z"
   },
   {
    "duration": 15,
    "start_time": "2022-04-09T14:41:35.317Z"
   },
   {
    "duration": 1040,
    "start_time": "2022-04-09T14:42:31.141Z"
   },
   {
    "duration": 245,
    "start_time": "2022-04-09T14:42:32.184Z"
   },
   {
    "duration": 27,
    "start_time": "2022-04-09T14:42:32.431Z"
   },
   {
    "duration": 139,
    "start_time": "2022-04-09T14:42:32.460Z"
   },
   {
    "duration": 10,
    "start_time": "2022-04-09T14:42:32.601Z"
   },
   {
    "duration": 100,
    "start_time": "2022-04-09T14:42:32.613Z"
   },
   {
    "duration": 6,
    "start_time": "2022-04-09T14:42:32.714Z"
   },
   {
    "duration": 18,
    "start_time": "2022-04-09T14:42:32.722Z"
   },
   {
    "duration": 19,
    "start_time": "2022-04-09T14:42:32.742Z"
   },
   {
    "duration": 23,
    "start_time": "2022-04-09T14:42:32.763Z"
   },
   {
    "duration": 6,
    "start_time": "2022-04-09T14:42:32.788Z"
   },
   {
    "duration": 15,
    "start_time": "2022-04-09T14:42:32.795Z"
   },
   {
    "duration": 16,
    "start_time": "2022-04-09T14:42:32.812Z"
   },
   {
    "duration": 110,
    "start_time": "2022-04-09T14:42:32.830Z"
   },
   {
    "duration": 44,
    "start_time": "2022-04-09T14:42:32.942Z"
   },
   {
    "duration": 7,
    "start_time": "2022-04-09T14:42:32.988Z"
   },
   {
    "duration": 35,
    "start_time": "2022-04-09T14:42:32.997Z"
   },
   {
    "duration": 7,
    "start_time": "2022-04-09T14:42:33.034Z"
   },
   {
    "duration": 17,
    "start_time": "2022-04-09T14:42:33.057Z"
   },
   {
    "duration": 5,
    "start_time": "2022-04-09T14:42:33.075Z"
   },
   {
    "duration": 0,
    "start_time": "2022-04-09T14:42:33.082Z"
   },
   {
    "duration": 0,
    "start_time": "2022-04-09T14:42:33.083Z"
   },
   {
    "duration": 0,
    "start_time": "2022-04-09T14:42:33.084Z"
   },
   {
    "duration": 0,
    "start_time": "2022-04-09T14:42:33.085Z"
   },
   {
    "duration": 0,
    "start_time": "2022-04-09T14:42:33.087Z"
   },
   {
    "duration": 0,
    "start_time": "2022-04-09T14:42:33.087Z"
   },
   {
    "duration": 0,
    "start_time": "2022-04-09T14:42:33.089Z"
   },
   {
    "duration": 0,
    "start_time": "2022-04-09T14:42:33.090Z"
   },
   {
    "duration": 0,
    "start_time": "2022-04-09T14:42:33.091Z"
   },
   {
    "duration": 0,
    "start_time": "2022-04-09T14:42:33.093Z"
   },
   {
    "duration": 0,
    "start_time": "2022-04-09T14:42:33.094Z"
   },
   {
    "duration": 0,
    "start_time": "2022-04-09T14:42:33.095Z"
   },
   {
    "duration": 0,
    "start_time": "2022-04-09T14:42:33.096Z"
   },
   {
    "duration": 0,
    "start_time": "2022-04-09T14:42:33.097Z"
   },
   {
    "duration": 1,
    "start_time": "2022-04-09T14:42:33.098Z"
   },
   {
    "duration": 0,
    "start_time": "2022-04-09T14:42:33.099Z"
   },
   {
    "duration": 0,
    "start_time": "2022-04-09T14:42:33.101Z"
   },
   {
    "duration": 0,
    "start_time": "2022-04-09T14:42:33.102Z"
   },
   {
    "duration": 0,
    "start_time": "2022-04-09T14:42:33.103Z"
   },
   {
    "duration": 0,
    "start_time": "2022-04-09T14:42:33.104Z"
   },
   {
    "duration": 0,
    "start_time": "2022-04-09T14:42:33.105Z"
   },
   {
    "duration": 0,
    "start_time": "2022-04-09T14:42:33.106Z"
   },
   {
    "duration": 0,
    "start_time": "2022-04-09T14:42:33.108Z"
   },
   {
    "duration": 0,
    "start_time": "2022-04-09T14:42:33.158Z"
   },
   {
    "duration": 0,
    "start_time": "2022-04-09T14:42:33.159Z"
   },
   {
    "duration": 0,
    "start_time": "2022-04-09T14:42:33.160Z"
   },
   {
    "duration": 0,
    "start_time": "2022-04-09T14:42:33.161Z"
   },
   {
    "duration": 0,
    "start_time": "2022-04-09T14:42:33.162Z"
   },
   {
    "duration": 0,
    "start_time": "2022-04-09T14:42:33.163Z"
   },
   {
    "duration": 0,
    "start_time": "2022-04-09T14:42:33.164Z"
   },
   {
    "duration": 0,
    "start_time": "2022-04-09T14:42:33.165Z"
   },
   {
    "duration": 0,
    "start_time": "2022-04-09T14:42:33.166Z"
   },
   {
    "duration": 0,
    "start_time": "2022-04-09T14:42:33.167Z"
   },
   {
    "duration": 0,
    "start_time": "2022-04-09T14:42:33.168Z"
   },
   {
    "duration": 0,
    "start_time": "2022-04-09T14:42:33.169Z"
   },
   {
    "duration": 0,
    "start_time": "2022-04-09T14:42:33.170Z"
   },
   {
    "duration": 0,
    "start_time": "2022-04-09T14:42:33.171Z"
   },
   {
    "duration": 0,
    "start_time": "2022-04-09T14:42:33.172Z"
   },
   {
    "duration": 104,
    "start_time": "2022-04-09T14:47:49.148Z"
   },
   {
    "duration": 15,
    "start_time": "2022-04-09T14:47:56.459Z"
   },
   {
    "duration": 7,
    "start_time": "2022-04-09T14:48:15.319Z"
   },
   {
    "duration": 23,
    "start_time": "2022-04-09T14:54:34.995Z"
   },
   {
    "duration": 956,
    "start_time": "2022-04-09T14:55:16.326Z"
   },
   {
    "duration": 231,
    "start_time": "2022-04-09T14:55:17.284Z"
   },
   {
    "duration": 18,
    "start_time": "2022-04-09T14:55:17.517Z"
   },
   {
    "duration": 204,
    "start_time": "2022-04-09T14:55:17.537Z"
   },
   {
    "duration": 21,
    "start_time": "2022-04-09T14:55:17.743Z"
   },
   {
    "duration": 112,
    "start_time": "2022-04-09T14:55:17.765Z"
   },
   {
    "duration": 8,
    "start_time": "2022-04-09T14:55:17.879Z"
   },
   {
    "duration": 19,
    "start_time": "2022-04-09T14:55:17.888Z"
   },
   {
    "duration": 9,
    "start_time": "2022-04-09T14:55:17.909Z"
   },
   {
    "duration": 27,
    "start_time": "2022-04-09T14:55:17.921Z"
   },
   {
    "duration": 16,
    "start_time": "2022-04-09T14:55:17.950Z"
   },
   {
    "duration": 17,
    "start_time": "2022-04-09T14:55:17.968Z"
   },
   {
    "duration": 9,
    "start_time": "2022-04-09T14:55:17.987Z"
   },
   {
    "duration": 179,
    "start_time": "2022-04-09T14:55:17.998Z"
   },
   {
    "duration": 54,
    "start_time": "2022-04-09T14:55:18.179Z"
   },
   {
    "duration": 6,
    "start_time": "2022-04-09T14:55:18.235Z"
   },
   {
    "duration": 33,
    "start_time": "2022-04-09T14:55:18.257Z"
   },
   {
    "duration": 9,
    "start_time": "2022-04-09T14:55:18.294Z"
   },
   {
    "duration": 16,
    "start_time": "2022-04-09T14:55:18.304Z"
   },
   {
    "duration": 40,
    "start_time": "2022-04-09T14:55:18.322Z"
   },
   {
    "duration": 11,
    "start_time": "2022-04-09T14:55:18.364Z"
   },
   {
    "duration": 2405,
    "start_time": "2022-04-09T14:55:18.377Z"
   },
   {
    "duration": 0,
    "start_time": "2022-04-09T14:55:20.784Z"
   },
   {
    "duration": 0,
    "start_time": "2022-04-09T14:55:20.785Z"
   },
   {
    "duration": 0,
    "start_time": "2022-04-09T14:55:20.786Z"
   },
   {
    "duration": 0,
    "start_time": "2022-04-09T14:55:20.787Z"
   },
   {
    "duration": 0,
    "start_time": "2022-04-09T14:55:20.788Z"
   },
   {
    "duration": 0,
    "start_time": "2022-04-09T14:55:20.789Z"
   },
   {
    "duration": 0,
    "start_time": "2022-04-09T14:55:20.790Z"
   },
   {
    "duration": 0,
    "start_time": "2022-04-09T14:55:20.791Z"
   },
   {
    "duration": 0,
    "start_time": "2022-04-09T14:55:20.792Z"
   },
   {
    "duration": 0,
    "start_time": "2022-04-09T14:55:20.793Z"
   },
   {
    "duration": 0,
    "start_time": "2022-04-09T14:55:20.794Z"
   },
   {
    "duration": 0,
    "start_time": "2022-04-09T14:55:20.795Z"
   },
   {
    "duration": 0,
    "start_time": "2022-04-09T14:55:20.796Z"
   },
   {
    "duration": 0,
    "start_time": "2022-04-09T14:55:20.796Z"
   },
   {
    "duration": 0,
    "start_time": "2022-04-09T14:55:20.797Z"
   },
   {
    "duration": 0,
    "start_time": "2022-04-09T14:55:20.798Z"
   },
   {
    "duration": 0,
    "start_time": "2022-04-09T14:55:20.799Z"
   },
   {
    "duration": 0,
    "start_time": "2022-04-09T14:55:20.800Z"
   },
   {
    "duration": 0,
    "start_time": "2022-04-09T14:55:20.800Z"
   },
   {
    "duration": 0,
    "start_time": "2022-04-09T14:55:20.801Z"
   },
   {
    "duration": 0,
    "start_time": "2022-04-09T14:55:20.802Z"
   },
   {
    "duration": 0,
    "start_time": "2022-04-09T14:55:20.803Z"
   },
   {
    "duration": 0,
    "start_time": "2022-04-09T14:55:20.804Z"
   },
   {
    "duration": 0,
    "start_time": "2022-04-09T14:55:20.805Z"
   },
   {
    "duration": 0,
    "start_time": "2022-04-09T14:55:20.806Z"
   },
   {
    "duration": 0,
    "start_time": "2022-04-09T14:55:20.807Z"
   },
   {
    "duration": 0,
    "start_time": "2022-04-09T14:55:20.808Z"
   },
   {
    "duration": 0,
    "start_time": "2022-04-09T14:55:20.809Z"
   },
   {
    "duration": 0,
    "start_time": "2022-04-09T14:55:20.810Z"
   },
   {
    "duration": 0,
    "start_time": "2022-04-09T14:55:20.811Z"
   },
   {
    "duration": 0,
    "start_time": "2022-04-09T14:55:20.812Z"
   },
   {
    "duration": 0,
    "start_time": "2022-04-09T14:55:20.813Z"
   },
   {
    "duration": 0,
    "start_time": "2022-04-09T14:55:20.814Z"
   },
   {
    "duration": 0,
    "start_time": "2022-04-09T14:55:20.815Z"
   },
   {
    "duration": 0,
    "start_time": "2022-04-09T14:55:20.816Z"
   },
   {
    "duration": 0,
    "start_time": "2022-04-09T14:55:20.817Z"
   },
   {
    "duration": 4,
    "start_time": "2022-04-09T14:55:44.345Z"
   },
   {
    "duration": 20,
    "start_time": "2022-04-09T14:55:50.592Z"
   },
   {
    "duration": 14,
    "start_time": "2022-04-09T14:56:01.382Z"
   },
   {
    "duration": 24,
    "start_time": "2022-04-09T14:58:05.678Z"
   },
   {
    "duration": 39,
    "start_time": "2022-04-09T15:00:23.389Z"
   },
   {
    "duration": 32,
    "start_time": "2022-04-09T15:01:41.992Z"
   },
   {
    "duration": 138,
    "start_time": "2022-04-09T15:04:04.003Z"
   },
   {
    "duration": 861,
    "start_time": "2022-04-09T15:11:59.967Z"
   },
   {
    "duration": 192,
    "start_time": "2022-04-09T15:12:00.830Z"
   },
   {
    "duration": 15,
    "start_time": "2022-04-09T15:12:01.023Z"
   },
   {
    "duration": 177,
    "start_time": "2022-04-09T15:12:01.040Z"
   },
   {
    "duration": 9,
    "start_time": "2022-04-09T15:12:01.219Z"
   },
   {
    "duration": 119,
    "start_time": "2022-04-09T15:12:01.230Z"
   },
   {
    "duration": 12,
    "start_time": "2022-04-09T15:12:01.351Z"
   },
   {
    "duration": 37,
    "start_time": "2022-04-09T15:12:01.365Z"
   },
   {
    "duration": 8,
    "start_time": "2022-04-09T15:12:01.404Z"
   },
   {
    "duration": 34,
    "start_time": "2022-04-09T15:12:01.416Z"
   },
   {
    "duration": 7,
    "start_time": "2022-04-09T15:12:01.452Z"
   },
   {
    "duration": 24,
    "start_time": "2022-04-09T15:12:01.465Z"
   },
   {
    "duration": 29,
    "start_time": "2022-04-09T15:12:01.491Z"
   },
   {
    "duration": 185,
    "start_time": "2022-04-09T15:12:01.522Z"
   },
   {
    "duration": 54,
    "start_time": "2022-04-09T15:12:01.710Z"
   },
   {
    "duration": 10,
    "start_time": "2022-04-09T15:12:01.766Z"
   },
   {
    "duration": 38,
    "start_time": "2022-04-09T15:12:01.778Z"
   },
   {
    "duration": 26,
    "start_time": "2022-04-09T15:12:01.818Z"
   },
   {
    "duration": 51,
    "start_time": "2022-04-09T15:12:01.845Z"
   },
   {
    "duration": 50,
    "start_time": "2022-04-09T15:12:01.898Z"
   },
   {
    "duration": 39,
    "start_time": "2022-04-09T15:12:01.950Z"
   },
   {
    "duration": 40,
    "start_time": "2022-04-09T15:12:01.991Z"
   },
   {
    "duration": 38,
    "start_time": "2022-04-09T15:12:02.033Z"
   },
   {
    "duration": 38,
    "start_time": "2022-04-09T15:12:02.073Z"
   },
   {
    "duration": 2262,
    "start_time": "2022-04-09T15:12:02.113Z"
   },
   {
    "duration": 0,
    "start_time": "2022-04-09T15:12:04.378Z"
   },
   {
    "duration": 0,
    "start_time": "2022-04-09T15:12:04.380Z"
   },
   {
    "duration": 0,
    "start_time": "2022-04-09T15:12:04.380Z"
   },
   {
    "duration": 0,
    "start_time": "2022-04-09T15:12:04.382Z"
   },
   {
    "duration": 0,
    "start_time": "2022-04-09T15:12:04.383Z"
   },
   {
    "duration": 0,
    "start_time": "2022-04-09T15:12:04.384Z"
   },
   {
    "duration": 0,
    "start_time": "2022-04-09T15:12:04.385Z"
   },
   {
    "duration": 0,
    "start_time": "2022-04-09T15:12:04.386Z"
   },
   {
    "duration": 0,
    "start_time": "2022-04-09T15:12:04.386Z"
   },
   {
    "duration": 0,
    "start_time": "2022-04-09T15:12:04.387Z"
   },
   {
    "duration": 0,
    "start_time": "2022-04-09T15:12:04.388Z"
   },
   {
    "duration": 0,
    "start_time": "2022-04-09T15:12:04.389Z"
   },
   {
    "duration": 0,
    "start_time": "2022-04-09T15:12:04.390Z"
   },
   {
    "duration": 0,
    "start_time": "2022-04-09T15:12:04.391Z"
   },
   {
    "duration": 0,
    "start_time": "2022-04-09T15:12:04.392Z"
   },
   {
    "duration": 0,
    "start_time": "2022-04-09T15:12:04.393Z"
   },
   {
    "duration": 0,
    "start_time": "2022-04-09T15:12:04.394Z"
   },
   {
    "duration": 0,
    "start_time": "2022-04-09T15:12:04.394Z"
   },
   {
    "duration": 0,
    "start_time": "2022-04-09T15:12:04.396Z"
   },
   {
    "duration": 0,
    "start_time": "2022-04-09T15:12:04.397Z"
   },
   {
    "duration": 0,
    "start_time": "2022-04-09T15:12:04.397Z"
   },
   {
    "duration": 0,
    "start_time": "2022-04-09T15:12:04.398Z"
   },
   {
    "duration": 0,
    "start_time": "2022-04-09T15:12:04.399Z"
   },
   {
    "duration": 0,
    "start_time": "2022-04-09T15:12:04.400Z"
   },
   {
    "duration": 0,
    "start_time": "2022-04-09T15:12:04.402Z"
   },
   {
    "duration": 0,
    "start_time": "2022-04-09T15:12:04.403Z"
   },
   {
    "duration": 0,
    "start_time": "2022-04-09T15:12:04.404Z"
   },
   {
    "duration": 0,
    "start_time": "2022-04-09T15:12:04.405Z"
   },
   {
    "duration": 0,
    "start_time": "2022-04-09T15:12:04.406Z"
   },
   {
    "duration": 0,
    "start_time": "2022-04-09T15:12:04.407Z"
   },
   {
    "duration": 0,
    "start_time": "2022-04-09T15:12:04.408Z"
   },
   {
    "duration": 0,
    "start_time": "2022-04-09T15:12:04.409Z"
   },
   {
    "duration": 0,
    "start_time": "2022-04-09T15:12:04.410Z"
   },
   {
    "duration": 2301,
    "start_time": "2022-04-09T15:16:57.134Z"
   },
   {
    "duration": 2195,
    "start_time": "2022-04-09T15:18:04.629Z"
   },
   {
    "duration": 2208,
    "start_time": "2022-04-09T15:18:26.352Z"
   },
   {
    "duration": 87,
    "start_time": "2022-04-09T15:18:50.027Z"
   },
   {
    "duration": 30,
    "start_time": "2022-04-09T15:19:23.655Z"
   },
   {
    "duration": 18,
    "start_time": "2022-04-09T15:19:49.814Z"
   },
   {
    "duration": 885,
    "start_time": "2022-04-09T15:24:41.035Z"
   },
   {
    "duration": 245,
    "start_time": "2022-04-09T15:24:41.922Z"
   },
   {
    "duration": 20,
    "start_time": "2022-04-09T15:24:42.169Z"
   },
   {
    "duration": 219,
    "start_time": "2022-04-09T15:24:42.191Z"
   },
   {
    "duration": 9,
    "start_time": "2022-04-09T15:24:42.412Z"
   },
   {
    "duration": 104,
    "start_time": "2022-04-09T15:24:42.423Z"
   },
   {
    "duration": 7,
    "start_time": "2022-04-09T15:24:42.528Z"
   },
   {
    "duration": 24,
    "start_time": "2022-04-09T15:24:42.537Z"
   },
   {
    "duration": 8,
    "start_time": "2022-04-09T15:24:42.563Z"
   },
   {
    "duration": 24,
    "start_time": "2022-04-09T15:24:42.574Z"
   },
   {
    "duration": 7,
    "start_time": "2022-04-09T15:24:42.600Z"
   },
   {
    "duration": 11,
    "start_time": "2022-04-09T15:24:42.608Z"
   },
   {
    "duration": 10,
    "start_time": "2022-04-09T15:24:42.621Z"
   },
   {
    "duration": 136,
    "start_time": "2022-04-09T15:24:42.633Z"
   },
   {
    "duration": 39,
    "start_time": "2022-04-09T15:24:42.771Z"
   },
   {
    "duration": 9,
    "start_time": "2022-04-09T15:24:42.812Z"
   },
   {
    "duration": 50,
    "start_time": "2022-04-09T15:24:42.823Z"
   },
   {
    "duration": 7,
    "start_time": "2022-04-09T15:24:42.875Z"
   },
   {
    "duration": 16,
    "start_time": "2022-04-09T15:24:42.884Z"
   },
   {
    "duration": 33,
    "start_time": "2022-04-09T15:24:42.902Z"
   },
   {
    "duration": 27,
    "start_time": "2022-04-09T15:24:42.936Z"
   },
   {
    "duration": 6,
    "start_time": "2022-04-09T15:24:42.965Z"
   },
   {
    "duration": 25,
    "start_time": "2022-04-09T15:24:42.972Z"
   },
   {
    "duration": 35,
    "start_time": "2022-04-09T15:24:42.999Z"
   },
   {
    "duration": 26,
    "start_time": "2022-04-09T15:24:43.035Z"
   },
   {
    "duration": 85,
    "start_time": "2022-04-09T15:24:43.063Z"
   },
   {
    "duration": 20,
    "start_time": "2022-04-09T15:24:43.158Z"
   },
   {
    "duration": 6,
    "start_time": "2022-04-09T15:24:43.182Z"
   },
   {
    "duration": 69,
    "start_time": "2022-04-09T15:24:43.190Z"
   },
   {
    "duration": 98,
    "start_time": "2022-04-09T15:24:43.261Z"
   },
   {
    "duration": 0,
    "start_time": "2022-04-09T15:24:43.361Z"
   },
   {
    "duration": 0,
    "start_time": "2022-04-09T15:24:43.362Z"
   },
   {
    "duration": 0,
    "start_time": "2022-04-09T15:24:43.363Z"
   },
   {
    "duration": 0,
    "start_time": "2022-04-09T15:24:43.364Z"
   },
   {
    "duration": 0,
    "start_time": "2022-04-09T15:24:43.365Z"
   },
   {
    "duration": 0,
    "start_time": "2022-04-09T15:24:43.366Z"
   },
   {
    "duration": 0,
    "start_time": "2022-04-09T15:24:43.367Z"
   },
   {
    "duration": 0,
    "start_time": "2022-04-09T15:24:43.368Z"
   },
   {
    "duration": 0,
    "start_time": "2022-04-09T15:24:43.369Z"
   },
   {
    "duration": 0,
    "start_time": "2022-04-09T15:24:43.370Z"
   },
   {
    "duration": 0,
    "start_time": "2022-04-09T15:24:43.371Z"
   },
   {
    "duration": 0,
    "start_time": "2022-04-09T15:24:43.372Z"
   },
   {
    "duration": 0,
    "start_time": "2022-04-09T15:24:43.374Z"
   },
   {
    "duration": 0,
    "start_time": "2022-04-09T15:24:43.375Z"
   },
   {
    "duration": 0,
    "start_time": "2022-04-09T15:24:43.376Z"
   },
   {
    "duration": 0,
    "start_time": "2022-04-09T15:24:43.377Z"
   },
   {
    "duration": 0,
    "start_time": "2022-04-09T15:24:43.378Z"
   },
   {
    "duration": 0,
    "start_time": "2022-04-09T15:24:43.379Z"
   },
   {
    "duration": 0,
    "start_time": "2022-04-09T15:24:43.380Z"
   },
   {
    "duration": 0,
    "start_time": "2022-04-09T15:24:43.381Z"
   },
   {
    "duration": 0,
    "start_time": "2022-04-09T15:24:43.382Z"
   },
   {
    "duration": 0,
    "start_time": "2022-04-09T15:24:43.383Z"
   },
   {
    "duration": 0,
    "start_time": "2022-04-09T15:24:43.384Z"
   },
   {
    "duration": 0,
    "start_time": "2022-04-09T15:24:43.385Z"
   },
   {
    "duration": 0,
    "start_time": "2022-04-09T15:24:43.387Z"
   },
   {
    "duration": 0,
    "start_time": "2022-04-09T15:24:43.390Z"
   },
   {
    "duration": 0,
    "start_time": "2022-04-09T15:24:43.391Z"
   },
   {
    "duration": 0,
    "start_time": "2022-04-09T15:24:43.392Z"
   },
   {
    "duration": 0,
    "start_time": "2022-04-09T15:24:43.393Z"
   },
   {
    "duration": 0,
    "start_time": "2022-04-09T15:24:43.394Z"
   },
   {
    "duration": 78,
    "start_time": "2022-04-09T15:30:11.342Z"
   },
   {
    "duration": 975,
    "start_time": "2022-04-09T15:38:28.419Z"
   },
   {
    "duration": 177,
    "start_time": "2022-04-09T15:38:29.396Z"
   },
   {
    "duration": 15,
    "start_time": "2022-04-09T15:38:29.575Z"
   },
   {
    "duration": 154,
    "start_time": "2022-04-09T15:38:29.592Z"
   },
   {
    "duration": 13,
    "start_time": "2022-04-09T15:38:29.748Z"
   },
   {
    "duration": 104,
    "start_time": "2022-04-09T15:38:29.762Z"
   },
   {
    "duration": 7,
    "start_time": "2022-04-09T15:38:29.867Z"
   },
   {
    "duration": 18,
    "start_time": "2022-04-09T15:38:29.876Z"
   },
   {
    "duration": 7,
    "start_time": "2022-04-09T15:38:29.896Z"
   },
   {
    "duration": 24,
    "start_time": "2022-04-09T15:38:29.906Z"
   },
   {
    "duration": 6,
    "start_time": "2022-04-09T15:38:29.931Z"
   },
   {
    "duration": 21,
    "start_time": "2022-04-09T15:38:29.938Z"
   },
   {
    "duration": 6,
    "start_time": "2022-04-09T15:38:29.960Z"
   },
   {
    "duration": 125,
    "start_time": "2022-04-09T15:38:29.967Z"
   },
   {
    "duration": 38,
    "start_time": "2022-04-09T15:38:30.093Z"
   },
   {
    "duration": 7,
    "start_time": "2022-04-09T15:38:30.132Z"
   },
   {
    "duration": 48,
    "start_time": "2022-04-09T15:38:30.141Z"
   },
   {
    "duration": 8,
    "start_time": "2022-04-09T15:38:30.190Z"
   },
   {
    "duration": 15,
    "start_time": "2022-04-09T15:38:30.199Z"
   },
   {
    "duration": 42,
    "start_time": "2022-04-09T15:38:30.216Z"
   },
   {
    "duration": 7,
    "start_time": "2022-04-09T15:38:30.259Z"
   },
   {
    "duration": 6,
    "start_time": "2022-04-09T15:38:30.268Z"
   },
   {
    "duration": 23,
    "start_time": "2022-04-09T15:38:30.275Z"
   },
   {
    "duration": 30,
    "start_time": "2022-04-09T15:38:30.300Z"
   },
   {
    "duration": 27,
    "start_time": "2022-04-09T15:38:30.331Z"
   },
   {
    "duration": 85,
    "start_time": "2022-04-09T15:38:30.360Z"
   },
   {
    "duration": 24,
    "start_time": "2022-04-09T15:38:30.447Z"
   },
   {
    "duration": 6,
    "start_time": "2022-04-09T15:38:30.475Z"
   },
   {
    "duration": 64,
    "start_time": "2022-04-09T15:38:30.482Z"
   },
   {
    "duration": 85,
    "start_time": "2022-04-09T15:38:30.547Z"
   },
   {
    "duration": 0,
    "start_time": "2022-04-09T15:38:30.633Z"
   },
   {
    "duration": 0,
    "start_time": "2022-04-09T15:38:30.634Z"
   },
   {
    "duration": 0,
    "start_time": "2022-04-09T15:38:30.635Z"
   },
   {
    "duration": 0,
    "start_time": "2022-04-09T15:38:30.636Z"
   },
   {
    "duration": 0,
    "start_time": "2022-04-09T15:38:30.637Z"
   },
   {
    "duration": 0,
    "start_time": "2022-04-09T15:38:30.638Z"
   },
   {
    "duration": 0,
    "start_time": "2022-04-09T15:38:30.639Z"
   },
   {
    "duration": 0,
    "start_time": "2022-04-09T15:38:30.640Z"
   },
   {
    "duration": 0,
    "start_time": "2022-04-09T15:38:30.640Z"
   },
   {
    "duration": 0,
    "start_time": "2022-04-09T15:38:30.658Z"
   },
   {
    "duration": 0,
    "start_time": "2022-04-09T15:38:30.659Z"
   },
   {
    "duration": 0,
    "start_time": "2022-04-09T15:38:30.660Z"
   },
   {
    "duration": 0,
    "start_time": "2022-04-09T15:38:30.660Z"
   },
   {
    "duration": 1,
    "start_time": "2022-04-09T15:38:30.661Z"
   },
   {
    "duration": 0,
    "start_time": "2022-04-09T15:38:30.662Z"
   },
   {
    "duration": 0,
    "start_time": "2022-04-09T15:38:30.664Z"
   },
   {
    "duration": 0,
    "start_time": "2022-04-09T15:38:30.665Z"
   },
   {
    "duration": 0,
    "start_time": "2022-04-09T15:38:30.666Z"
   },
   {
    "duration": 0,
    "start_time": "2022-04-09T15:38:30.667Z"
   },
   {
    "duration": 0,
    "start_time": "2022-04-09T15:38:30.668Z"
   },
   {
    "duration": 0,
    "start_time": "2022-04-09T15:38:30.669Z"
   },
   {
    "duration": 0,
    "start_time": "2022-04-09T15:38:30.670Z"
   },
   {
    "duration": 0,
    "start_time": "2022-04-09T15:38:30.671Z"
   },
   {
    "duration": 0,
    "start_time": "2022-04-09T15:38:30.672Z"
   },
   {
    "duration": 0,
    "start_time": "2022-04-09T15:38:30.673Z"
   },
   {
    "duration": 0,
    "start_time": "2022-04-09T15:38:30.674Z"
   },
   {
    "duration": 0,
    "start_time": "2022-04-09T15:38:30.675Z"
   },
   {
    "duration": 0,
    "start_time": "2022-04-09T15:38:30.676Z"
   },
   {
    "duration": 0,
    "start_time": "2022-04-09T15:38:30.677Z"
   },
   {
    "duration": 0,
    "start_time": "2022-04-09T15:38:30.678Z"
   },
   {
    "duration": 4,
    "start_time": "2022-04-09T15:40:57.900Z"
   },
   {
    "duration": 852,
    "start_time": "2022-04-09T15:41:21.067Z"
   },
   {
    "duration": 163,
    "start_time": "2022-04-09T15:41:21.921Z"
   },
   {
    "duration": 13,
    "start_time": "2022-04-09T15:41:22.085Z"
   },
   {
    "duration": 144,
    "start_time": "2022-04-09T15:41:22.100Z"
   },
   {
    "duration": 13,
    "start_time": "2022-04-09T15:41:22.246Z"
   },
   {
    "duration": 99,
    "start_time": "2022-04-09T15:41:22.260Z"
   },
   {
    "duration": 6,
    "start_time": "2022-04-09T15:41:22.361Z"
   },
   {
    "duration": 22,
    "start_time": "2022-04-09T15:41:22.369Z"
   },
   {
    "duration": 6,
    "start_time": "2022-04-09T15:41:22.393Z"
   },
   {
    "duration": 25,
    "start_time": "2022-04-09T15:41:22.401Z"
   },
   {
    "duration": 5,
    "start_time": "2022-04-09T15:41:22.428Z"
   },
   {
    "duration": 24,
    "start_time": "2022-04-09T15:41:22.434Z"
   },
   {
    "duration": 7,
    "start_time": "2022-04-09T15:41:22.459Z"
   },
   {
    "duration": 121,
    "start_time": "2022-04-09T15:41:22.468Z"
   },
   {
    "duration": 40,
    "start_time": "2022-04-09T15:41:22.591Z"
   },
   {
    "duration": 6,
    "start_time": "2022-04-09T15:41:22.633Z"
   },
   {
    "duration": 46,
    "start_time": "2022-04-09T15:41:22.640Z"
   },
   {
    "duration": 6,
    "start_time": "2022-04-09T15:41:22.688Z"
   },
   {
    "duration": 18,
    "start_time": "2022-04-09T15:41:22.696Z"
   },
   {
    "duration": 42,
    "start_time": "2022-04-09T15:41:22.716Z"
   },
   {
    "duration": 7,
    "start_time": "2022-04-09T15:41:22.759Z"
   },
   {
    "duration": 5,
    "start_time": "2022-04-09T15:41:22.768Z"
   },
   {
    "duration": 21,
    "start_time": "2022-04-09T15:41:22.775Z"
   },
   {
    "duration": 30,
    "start_time": "2022-04-09T15:41:22.798Z"
   },
   {
    "duration": 4,
    "start_time": "2022-04-09T15:41:22.829Z"
   },
   {
    "duration": 95,
    "start_time": "2022-04-09T15:41:22.834Z"
   },
   {
    "duration": 30,
    "start_time": "2022-04-09T15:41:22.931Z"
   },
   {
    "duration": 6,
    "start_time": "2022-04-09T15:41:22.965Z"
   },
   {
    "duration": 46,
    "start_time": "2022-04-09T15:41:22.972Z"
   },
   {
    "duration": 149,
    "start_time": "2022-04-09T15:41:23.019Z"
   },
   {
    "duration": 0,
    "start_time": "2022-04-09T15:41:23.170Z"
   },
   {
    "duration": 0,
    "start_time": "2022-04-09T15:41:23.171Z"
   },
   {
    "duration": 0,
    "start_time": "2022-04-09T15:41:23.172Z"
   },
   {
    "duration": 0,
    "start_time": "2022-04-09T15:41:23.174Z"
   },
   {
    "duration": 0,
    "start_time": "2022-04-09T15:41:23.175Z"
   },
   {
    "duration": 0,
    "start_time": "2022-04-09T15:41:23.177Z"
   },
   {
    "duration": 0,
    "start_time": "2022-04-09T15:41:23.178Z"
   },
   {
    "duration": 0,
    "start_time": "2022-04-09T15:41:23.179Z"
   },
   {
    "duration": 0,
    "start_time": "2022-04-09T15:41:23.180Z"
   },
   {
    "duration": 0,
    "start_time": "2022-04-09T15:41:23.181Z"
   },
   {
    "duration": 0,
    "start_time": "2022-04-09T15:41:23.182Z"
   },
   {
    "duration": 0,
    "start_time": "2022-04-09T15:41:23.183Z"
   },
   {
    "duration": 0,
    "start_time": "2022-04-09T15:41:23.184Z"
   },
   {
    "duration": 0,
    "start_time": "2022-04-09T15:41:23.186Z"
   },
   {
    "duration": 0,
    "start_time": "2022-04-09T15:41:23.187Z"
   },
   {
    "duration": 0,
    "start_time": "2022-04-09T15:41:23.189Z"
   },
   {
    "duration": 0,
    "start_time": "2022-04-09T15:41:23.190Z"
   },
   {
    "duration": 0,
    "start_time": "2022-04-09T15:41:23.191Z"
   },
   {
    "duration": 0,
    "start_time": "2022-04-09T15:41:23.192Z"
   },
   {
    "duration": 0,
    "start_time": "2022-04-09T15:41:23.194Z"
   },
   {
    "duration": 0,
    "start_time": "2022-04-09T15:41:23.195Z"
   },
   {
    "duration": 0,
    "start_time": "2022-04-09T15:41:23.196Z"
   },
   {
    "duration": 0,
    "start_time": "2022-04-09T15:41:23.198Z"
   },
   {
    "duration": 0,
    "start_time": "2022-04-09T15:41:23.199Z"
   },
   {
    "duration": 0,
    "start_time": "2022-04-09T15:41:23.200Z"
   },
   {
    "duration": 0,
    "start_time": "2022-04-09T15:41:23.259Z"
   },
   {
    "duration": 0,
    "start_time": "2022-04-09T15:41:23.260Z"
   },
   {
    "duration": 0,
    "start_time": "2022-04-09T15:41:23.262Z"
   },
   {
    "duration": 0,
    "start_time": "2022-04-09T15:41:23.263Z"
   },
   {
    "duration": 0,
    "start_time": "2022-04-09T15:41:23.264Z"
   },
   {
    "duration": 79,
    "start_time": "2022-04-09T15:42:00.168Z"
   },
   {
    "duration": 19,
    "start_time": "2022-04-09T15:42:04.470Z"
   },
   {
    "duration": 143,
    "start_time": "2022-04-09T15:42:51.099Z"
   },
   {
    "duration": 152,
    "start_time": "2022-04-09T15:42:59.089Z"
   },
   {
    "duration": 908,
    "start_time": "2022-04-09T15:43:03.474Z"
   },
   {
    "duration": 179,
    "start_time": "2022-04-09T15:43:04.384Z"
   },
   {
    "duration": 15,
    "start_time": "2022-04-09T15:43:04.565Z"
   },
   {
    "duration": 161,
    "start_time": "2022-04-09T15:43:04.583Z"
   },
   {
    "duration": 13,
    "start_time": "2022-04-09T15:43:04.746Z"
   },
   {
    "duration": 105,
    "start_time": "2022-04-09T15:43:04.761Z"
   },
   {
    "duration": 8,
    "start_time": "2022-04-09T15:43:04.868Z"
   },
   {
    "duration": 19,
    "start_time": "2022-04-09T15:43:04.877Z"
   },
   {
    "duration": 10,
    "start_time": "2022-04-09T15:43:04.898Z"
   },
   {
    "duration": 24,
    "start_time": "2022-04-09T15:43:04.910Z"
   },
   {
    "duration": 24,
    "start_time": "2022-04-09T15:43:04.935Z"
   },
   {
    "duration": 15,
    "start_time": "2022-04-09T15:43:04.961Z"
   },
   {
    "duration": 8,
    "start_time": "2022-04-09T15:43:04.978Z"
   },
   {
    "duration": 142,
    "start_time": "2022-04-09T15:43:04.988Z"
   },
   {
    "duration": 51,
    "start_time": "2022-04-09T15:43:05.132Z"
   },
   {
    "duration": 9,
    "start_time": "2022-04-09T15:43:05.185Z"
   },
   {
    "duration": 31,
    "start_time": "2022-04-09T15:43:05.196Z"
   },
   {
    "duration": 7,
    "start_time": "2022-04-09T15:43:05.229Z"
   },
   {
    "duration": 32,
    "start_time": "2022-04-09T15:43:05.238Z"
   },
   {
    "duration": 27,
    "start_time": "2022-04-09T15:43:05.271Z"
   },
   {
    "duration": 7,
    "start_time": "2022-04-09T15:43:05.300Z"
   },
   {
    "duration": 11,
    "start_time": "2022-04-09T15:43:05.309Z"
   },
   {
    "duration": 46,
    "start_time": "2022-04-09T15:43:05.322Z"
   },
   {
    "duration": 54,
    "start_time": "2022-04-09T15:43:05.370Z"
   },
   {
    "duration": 6,
    "start_time": "2022-04-09T15:43:05.426Z"
   },
   {
    "duration": 148,
    "start_time": "2022-04-09T15:43:05.434Z"
   },
   {
    "duration": 27,
    "start_time": "2022-04-09T15:43:05.584Z"
   },
   {
    "duration": 16,
    "start_time": "2022-04-09T15:43:05.616Z"
   },
   {
    "duration": 76,
    "start_time": "2022-04-09T15:43:05.634Z"
   },
   {
    "duration": 140,
    "start_time": "2022-04-09T15:43:05.712Z"
   },
   {
    "duration": 0,
    "start_time": "2022-04-09T15:43:05.857Z"
   },
   {
    "duration": 0,
    "start_time": "2022-04-09T15:43:05.859Z"
   },
   {
    "duration": 0,
    "start_time": "2022-04-09T15:43:05.860Z"
   },
   {
    "duration": 0,
    "start_time": "2022-04-09T15:43:05.861Z"
   },
   {
    "duration": 0,
    "start_time": "2022-04-09T15:43:05.862Z"
   },
   {
    "duration": 0,
    "start_time": "2022-04-09T15:43:05.864Z"
   },
   {
    "duration": 0,
    "start_time": "2022-04-09T15:43:05.865Z"
   },
   {
    "duration": 0,
    "start_time": "2022-04-09T15:43:05.866Z"
   },
   {
    "duration": 0,
    "start_time": "2022-04-09T15:43:05.867Z"
   },
   {
    "duration": 0,
    "start_time": "2022-04-09T15:43:05.868Z"
   },
   {
    "duration": 0,
    "start_time": "2022-04-09T15:43:05.870Z"
   },
   {
    "duration": 0,
    "start_time": "2022-04-09T15:43:05.871Z"
   },
   {
    "duration": 0,
    "start_time": "2022-04-09T15:43:05.872Z"
   },
   {
    "duration": 0,
    "start_time": "2022-04-09T15:43:05.873Z"
   },
   {
    "duration": 0,
    "start_time": "2022-04-09T15:43:05.875Z"
   },
   {
    "duration": 0,
    "start_time": "2022-04-09T15:43:05.876Z"
   },
   {
    "duration": 0,
    "start_time": "2022-04-09T15:43:05.877Z"
   },
   {
    "duration": 0,
    "start_time": "2022-04-09T15:43:05.878Z"
   },
   {
    "duration": 1,
    "start_time": "2022-04-09T15:43:05.879Z"
   },
   {
    "duration": 0,
    "start_time": "2022-04-09T15:43:05.881Z"
   },
   {
    "duration": 0,
    "start_time": "2022-04-09T15:43:05.882Z"
   },
   {
    "duration": 0,
    "start_time": "2022-04-09T15:43:05.883Z"
   },
   {
    "duration": 1,
    "start_time": "2022-04-09T15:43:05.884Z"
   },
   {
    "duration": 0,
    "start_time": "2022-04-09T15:43:05.886Z"
   },
   {
    "duration": 0,
    "start_time": "2022-04-09T15:43:05.887Z"
   },
   {
    "duration": 0,
    "start_time": "2022-04-09T15:43:05.888Z"
   },
   {
    "duration": 0,
    "start_time": "2022-04-09T15:43:05.890Z"
   },
   {
    "duration": 0,
    "start_time": "2022-04-09T15:43:05.891Z"
   },
   {
    "duration": 0,
    "start_time": "2022-04-09T15:43:05.892Z"
   },
   {
    "duration": 0,
    "start_time": "2022-04-09T15:43:05.892Z"
   },
   {
    "duration": 11,
    "start_time": "2022-04-09T15:45:12.961Z"
   },
   {
    "duration": 8,
    "start_time": "2022-04-09T15:45:17.348Z"
   },
   {
    "duration": 133,
    "start_time": "2022-04-09T15:46:07.477Z"
   },
   {
    "duration": 18,
    "start_time": "2022-04-09T15:46:23.617Z"
   },
   {
    "duration": 13,
    "start_time": "2022-04-09T15:46:27.201Z"
   },
   {
    "duration": 889,
    "start_time": "2022-04-09T15:47:03.602Z"
   },
   {
    "duration": 167,
    "start_time": "2022-04-09T15:47:04.493Z"
   },
   {
    "duration": 15,
    "start_time": "2022-04-09T15:47:04.662Z"
   },
   {
    "duration": 156,
    "start_time": "2022-04-09T15:47:04.680Z"
   },
   {
    "duration": 8,
    "start_time": "2022-04-09T15:47:04.838Z"
   },
   {
    "duration": 106,
    "start_time": "2022-04-09T15:47:04.848Z"
   },
   {
    "duration": 7,
    "start_time": "2022-04-09T15:47:04.957Z"
   },
   {
    "duration": 18,
    "start_time": "2022-04-09T15:47:04.966Z"
   },
   {
    "duration": 7,
    "start_time": "2022-04-09T15:47:04.986Z"
   },
   {
    "duration": 25,
    "start_time": "2022-04-09T15:47:04.995Z"
   },
   {
    "duration": 6,
    "start_time": "2022-04-09T15:47:05.022Z"
   },
   {
    "duration": 29,
    "start_time": "2022-04-09T15:47:05.029Z"
   },
   {
    "duration": 7,
    "start_time": "2022-04-09T15:47:05.060Z"
   },
   {
    "duration": 126,
    "start_time": "2022-04-09T15:47:05.069Z"
   },
   {
    "duration": 41,
    "start_time": "2022-04-09T15:47:05.197Z"
   },
   {
    "duration": 19,
    "start_time": "2022-04-09T15:47:05.240Z"
   },
   {
    "duration": 28,
    "start_time": "2022-04-09T15:47:05.261Z"
   },
   {
    "duration": 8,
    "start_time": "2022-04-09T15:47:05.291Z"
   },
   {
    "duration": 14,
    "start_time": "2022-04-09T15:47:05.301Z"
   },
   {
    "duration": 50,
    "start_time": "2022-04-09T15:47:05.317Z"
   },
   {
    "duration": 8,
    "start_time": "2022-04-09T15:47:05.369Z"
   },
   {
    "duration": 11,
    "start_time": "2022-04-09T15:47:05.378Z"
   },
   {
    "duration": 26,
    "start_time": "2022-04-09T15:47:05.390Z"
   },
   {
    "duration": 44,
    "start_time": "2022-04-09T15:47:05.418Z"
   },
   {
    "duration": 5,
    "start_time": "2022-04-09T15:47:05.464Z"
   },
   {
    "duration": 94,
    "start_time": "2022-04-09T15:47:05.470Z"
   },
   {
    "duration": 19,
    "start_time": "2022-04-09T15:47:05.566Z"
   },
   {
    "duration": 7,
    "start_time": "2022-04-09T15:47:05.590Z"
   },
   {
    "duration": 70,
    "start_time": "2022-04-09T15:47:05.599Z"
   },
   {
    "duration": 19,
    "start_time": "2022-04-09T15:47:05.671Z"
   },
   {
    "duration": 15,
    "start_time": "2022-04-09T15:47:05.692Z"
   },
   {
    "duration": 50,
    "start_time": "2022-04-09T15:47:05.708Z"
   },
   {
    "duration": 89,
    "start_time": "2022-04-09T15:47:05.760Z"
   },
   {
    "duration": 0,
    "start_time": "2022-04-09T15:47:05.858Z"
   },
   {
    "duration": 0,
    "start_time": "2022-04-09T15:47:05.859Z"
   },
   {
    "duration": 0,
    "start_time": "2022-04-09T15:47:05.860Z"
   },
   {
    "duration": 0,
    "start_time": "2022-04-09T15:47:05.861Z"
   },
   {
    "duration": 0,
    "start_time": "2022-04-09T15:47:05.862Z"
   },
   {
    "duration": 0,
    "start_time": "2022-04-09T15:47:05.863Z"
   },
   {
    "duration": 0,
    "start_time": "2022-04-09T15:47:05.864Z"
   },
   {
    "duration": 0,
    "start_time": "2022-04-09T15:47:05.865Z"
   },
   {
    "duration": 0,
    "start_time": "2022-04-09T15:47:05.866Z"
   },
   {
    "duration": 0,
    "start_time": "2022-04-09T15:47:05.866Z"
   },
   {
    "duration": 0,
    "start_time": "2022-04-09T15:47:05.867Z"
   },
   {
    "duration": 0,
    "start_time": "2022-04-09T15:47:05.869Z"
   },
   {
    "duration": 0,
    "start_time": "2022-04-09T15:47:05.870Z"
   },
   {
    "duration": 0,
    "start_time": "2022-04-09T15:47:05.871Z"
   },
   {
    "duration": 0,
    "start_time": "2022-04-09T15:47:05.872Z"
   },
   {
    "duration": 0,
    "start_time": "2022-04-09T15:47:05.873Z"
   },
   {
    "duration": 0,
    "start_time": "2022-04-09T15:47:05.874Z"
   },
   {
    "duration": 0,
    "start_time": "2022-04-09T15:47:05.875Z"
   },
   {
    "duration": 0,
    "start_time": "2022-04-09T15:47:05.876Z"
   },
   {
    "duration": 0,
    "start_time": "2022-04-09T15:47:05.877Z"
   },
   {
    "duration": 0,
    "start_time": "2022-04-09T15:47:05.878Z"
   },
   {
    "duration": 0,
    "start_time": "2022-04-09T15:47:05.879Z"
   },
   {
    "duration": 0,
    "start_time": "2022-04-09T15:47:05.880Z"
   },
   {
    "duration": 0,
    "start_time": "2022-04-09T15:47:05.881Z"
   },
   {
    "duration": 0,
    "start_time": "2022-04-09T15:47:05.882Z"
   },
   {
    "duration": 0,
    "start_time": "2022-04-09T15:47:05.883Z"
   },
   {
    "duration": 0,
    "start_time": "2022-04-09T15:47:05.884Z"
   },
   {
    "duration": 13,
    "start_time": "2022-04-09T15:48:17.424Z"
   },
   {
    "duration": 8,
    "start_time": "2022-04-09T15:48:21.395Z"
   },
   {
    "duration": 11,
    "start_time": "2022-04-09T15:48:31.937Z"
   },
   {
    "duration": 8,
    "start_time": "2022-04-09T15:48:46.749Z"
   },
   {
    "duration": 11,
    "start_time": "2022-04-09T16:09:09.505Z"
   },
   {
    "duration": 9,
    "start_time": "2022-04-09T16:09:13.194Z"
   },
   {
    "duration": 7,
    "start_time": "2022-04-09T16:09:19.348Z"
   },
   {
    "duration": 923,
    "start_time": "2022-04-09T16:09:32.555Z"
   },
   {
    "duration": 181,
    "start_time": "2022-04-09T16:09:33.480Z"
   },
   {
    "duration": 15,
    "start_time": "2022-04-09T16:09:33.663Z"
   },
   {
    "duration": 161,
    "start_time": "2022-04-09T16:09:33.680Z"
   },
   {
    "duration": 21,
    "start_time": "2022-04-09T16:09:33.843Z"
   },
   {
    "duration": 99,
    "start_time": "2022-04-09T16:09:33.866Z"
   },
   {
    "duration": 7,
    "start_time": "2022-04-09T16:09:33.967Z"
   },
   {
    "duration": 19,
    "start_time": "2022-04-09T16:09:33.976Z"
   },
   {
    "duration": 8,
    "start_time": "2022-04-09T16:09:33.997Z"
   },
   {
    "duration": 26,
    "start_time": "2022-04-09T16:09:34.008Z"
   },
   {
    "duration": 6,
    "start_time": "2022-04-09T16:09:34.036Z"
   },
   {
    "duration": 11,
    "start_time": "2022-04-09T16:09:34.058Z"
   },
   {
    "duration": 10,
    "start_time": "2022-04-09T16:09:34.070Z"
   },
   {
    "duration": 129,
    "start_time": "2022-04-09T16:09:34.082Z"
   },
   {
    "duration": 37,
    "start_time": "2022-04-09T16:09:34.213Z"
   },
   {
    "duration": 11,
    "start_time": "2022-04-09T16:09:34.252Z"
   },
   {
    "duration": 27,
    "start_time": "2022-04-09T16:09:34.265Z"
   },
   {
    "duration": 6,
    "start_time": "2022-04-09T16:09:34.294Z"
   },
   {
    "duration": 15,
    "start_time": "2022-04-09T16:09:34.302Z"
   },
   {
    "duration": 48,
    "start_time": "2022-04-09T16:09:34.319Z"
   },
   {
    "duration": 7,
    "start_time": "2022-04-09T16:09:34.368Z"
   },
   {
    "duration": 5,
    "start_time": "2022-04-09T16:09:34.377Z"
   },
   {
    "duration": 24,
    "start_time": "2022-04-09T16:09:34.384Z"
   },
   {
    "duration": 49,
    "start_time": "2022-04-09T16:09:34.410Z"
   },
   {
    "duration": 5,
    "start_time": "2022-04-09T16:09:34.461Z"
   },
   {
    "duration": 97,
    "start_time": "2022-04-09T16:09:34.467Z"
   },
   {
    "duration": 20,
    "start_time": "2022-04-09T16:09:34.566Z"
   },
   {
    "duration": 7,
    "start_time": "2022-04-09T16:09:34.591Z"
   },
   {
    "duration": 63,
    "start_time": "2022-04-09T16:09:34.600Z"
   },
   {
    "duration": 10,
    "start_time": "2022-04-09T16:09:34.665Z"
   },
   {
    "duration": 8,
    "start_time": "2022-04-09T16:09:34.677Z"
   },
   {
    "duration": 16,
    "start_time": "2022-04-09T16:09:34.686Z"
   },
   {
    "duration": 9,
    "start_time": "2022-04-09T16:09:34.704Z"
   },
   {
    "duration": 43,
    "start_time": "2022-04-09T16:09:34.715Z"
   },
   {
    "duration": 11,
    "start_time": "2022-04-09T16:09:34.760Z"
   },
   {
    "duration": 8,
    "start_time": "2022-04-09T16:09:34.773Z"
   },
   {
    "duration": 6,
    "start_time": "2022-04-09T16:09:34.783Z"
   },
   {
    "duration": 8,
    "start_time": "2022-04-09T16:09:34.791Z"
   },
   {
    "duration": 13,
    "start_time": "2022-04-09T16:09:34.801Z"
   },
   {
    "duration": 7,
    "start_time": "2022-04-09T16:09:34.815Z"
   },
   {
    "duration": 9,
    "start_time": "2022-04-09T16:09:34.823Z"
   },
   {
    "duration": 26,
    "start_time": "2022-04-09T16:09:34.833Z"
   },
   {
    "duration": 7,
    "start_time": "2022-04-09T16:09:34.860Z"
   },
   {
    "duration": 498,
    "start_time": "2022-04-09T16:09:34.869Z"
   },
   {
    "duration": 2303,
    "start_time": "2022-04-09T16:09:35.369Z"
   },
   {
    "duration": 0,
    "start_time": "2022-04-09T16:09:37.673Z"
   },
   {
    "duration": 0,
    "start_time": "2022-04-09T16:09:37.674Z"
   },
   {
    "duration": 0,
    "start_time": "2022-04-09T16:09:37.675Z"
   },
   {
    "duration": 0,
    "start_time": "2022-04-09T16:09:37.677Z"
   },
   {
    "duration": 0,
    "start_time": "2022-04-09T16:09:37.678Z"
   },
   {
    "duration": 0,
    "start_time": "2022-04-09T16:09:37.679Z"
   },
   {
    "duration": 0,
    "start_time": "2022-04-09T16:09:37.681Z"
   },
   {
    "duration": 0,
    "start_time": "2022-04-09T16:09:37.681Z"
   },
   {
    "duration": 1,
    "start_time": "2022-04-09T16:09:37.682Z"
   },
   {
    "duration": 0,
    "start_time": "2022-04-09T16:09:37.683Z"
   },
   {
    "duration": 0,
    "start_time": "2022-04-09T16:09:37.685Z"
   },
   {
    "duration": 1,
    "start_time": "2022-04-09T16:09:37.685Z"
   },
   {
    "duration": 0,
    "start_time": "2022-04-09T16:09:37.687Z"
   },
   {
    "duration": 0,
    "start_time": "2022-04-09T16:09:37.688Z"
   },
   {
    "duration": 0,
    "start_time": "2022-04-09T16:09:37.688Z"
   },
   {
    "duration": 0,
    "start_time": "2022-04-09T16:09:37.689Z"
   },
   {
    "duration": 0,
    "start_time": "2022-04-09T16:09:37.690Z"
   },
   {
    "duration": 9,
    "start_time": "2022-04-09T16:10:04.814Z"
   },
   {
    "duration": 8,
    "start_time": "2022-04-09T16:10:11.398Z"
   },
   {
    "duration": 2116,
    "start_time": "2022-04-09T16:10:14.965Z"
   },
   {
    "duration": 4,
    "start_time": "2022-04-09T16:10:18.706Z"
   },
   {
    "duration": 3,
    "start_time": "2022-04-09T16:10:23.004Z"
   },
   {
    "duration": 4,
    "start_time": "2022-04-09T16:10:24.050Z"
   },
   {
    "duration": 202,
    "start_time": "2022-04-09T16:10:31.249Z"
   },
   {
    "duration": 8,
    "start_time": "2022-04-09T16:10:53.660Z"
   },
   {
    "duration": 9,
    "start_time": "2022-04-09T16:10:55.201Z"
   },
   {
    "duration": 3,
    "start_time": "2022-04-09T16:10:56.835Z"
   },
   {
    "duration": 4,
    "start_time": "2022-04-09T16:10:58.186Z"
   },
   {
    "duration": 4,
    "start_time": "2022-04-09T16:10:59.097Z"
   },
   {
    "duration": 222,
    "start_time": "2022-04-09T16:11:00.412Z"
   },
   {
    "duration": 5,
    "start_time": "2022-04-09T16:51:07.432Z"
   },
   {
    "duration": 5,
    "start_time": "2022-04-09T16:51:08.753Z"
   },
   {
    "duration": 5,
    "start_time": "2022-04-09T16:51:10.279Z"
   },
   {
    "duration": 8,
    "start_time": "2022-04-09T16:51:36.063Z"
   },
   {
    "duration": 8,
    "start_time": "2022-04-09T16:51:37.034Z"
   },
   {
    "duration": 12,
    "start_time": "2022-04-09T16:51:37.850Z"
   },
   {
    "duration": 829,
    "start_time": "2022-04-09T17:11:44.371Z"
   },
   {
    "duration": 175,
    "start_time": "2022-04-09T17:11:45.203Z"
   },
   {
    "duration": 24,
    "start_time": "2022-04-09T17:11:45.380Z"
   },
   {
    "duration": 264,
    "start_time": "2022-04-09T17:11:45.406Z"
   },
   {
    "duration": 9,
    "start_time": "2022-04-09T17:11:45.673Z"
   },
   {
    "duration": 105,
    "start_time": "2022-04-09T17:11:45.684Z"
   },
   {
    "duration": 8,
    "start_time": "2022-04-09T17:11:45.791Z"
   },
   {
    "duration": 18,
    "start_time": "2022-04-09T17:11:45.801Z"
   },
   {
    "duration": 9,
    "start_time": "2022-04-09T17:11:45.821Z"
   },
   {
    "duration": 36,
    "start_time": "2022-04-09T17:11:45.831Z"
   },
   {
    "duration": 6,
    "start_time": "2022-04-09T17:11:45.869Z"
   },
   {
    "duration": 11,
    "start_time": "2022-04-09T17:11:45.877Z"
   },
   {
    "duration": 11,
    "start_time": "2022-04-09T17:11:45.890Z"
   },
   {
    "duration": 139,
    "start_time": "2022-04-09T17:11:45.905Z"
   },
   {
    "duration": 45,
    "start_time": "2022-04-09T17:11:46.046Z"
   },
   {
    "duration": 7,
    "start_time": "2022-04-09T17:11:46.093Z"
   },
   {
    "duration": 30,
    "start_time": "2022-04-09T17:11:46.102Z"
   },
   {
    "duration": 7,
    "start_time": "2022-04-09T17:11:46.134Z"
   },
   {
    "duration": 24,
    "start_time": "2022-04-09T17:11:46.157Z"
   },
   {
    "duration": 33,
    "start_time": "2022-04-09T17:11:46.183Z"
   },
   {
    "duration": 7,
    "start_time": "2022-04-09T17:11:46.218Z"
   },
   {
    "duration": 7,
    "start_time": "2022-04-09T17:11:46.226Z"
   },
   {
    "duration": 23,
    "start_time": "2022-04-09T17:11:46.258Z"
   },
   {
    "duration": 36,
    "start_time": "2022-04-09T17:11:46.283Z"
   },
   {
    "duration": 4,
    "start_time": "2022-04-09T17:11:46.321Z"
   },
   {
    "duration": 100,
    "start_time": "2022-04-09T17:11:46.327Z"
   },
   {
    "duration": 32,
    "start_time": "2022-04-09T17:11:46.428Z"
   },
   {
    "duration": 8,
    "start_time": "2022-04-09T17:11:46.462Z"
   },
   {
    "duration": 49,
    "start_time": "2022-04-09T17:11:46.471Z"
   },
   {
    "duration": 11,
    "start_time": "2022-04-09T17:11:46.521Z"
   },
   {
    "duration": 36,
    "start_time": "2022-04-09T17:11:46.534Z"
   },
   {
    "duration": 14,
    "start_time": "2022-04-09T17:11:46.572Z"
   },
   {
    "duration": 15,
    "start_time": "2022-04-09T17:11:46.589Z"
   },
   {
    "duration": 44,
    "start_time": "2022-04-09T17:11:46.606Z"
   },
   {
    "duration": 12,
    "start_time": "2022-04-09T17:11:46.657Z"
   },
   {
    "duration": 13,
    "start_time": "2022-04-09T17:11:46.671Z"
   },
   {
    "duration": 8,
    "start_time": "2022-04-09T17:11:46.686Z"
   },
   {
    "duration": 11,
    "start_time": "2022-04-09T17:11:46.696Z"
   },
   {
    "duration": 9,
    "start_time": "2022-04-09T17:11:46.709Z"
   },
   {
    "duration": 45,
    "start_time": "2022-04-09T17:11:46.720Z"
   },
   {
    "duration": 7,
    "start_time": "2022-04-09T17:11:46.770Z"
   },
   {
    "duration": 7,
    "start_time": "2022-04-09T17:11:46.778Z"
   },
   {
    "duration": 6,
    "start_time": "2022-04-09T17:11:46.786Z"
   },
   {
    "duration": 706,
    "start_time": "2022-04-09T17:11:46.794Z"
   },
   {
    "duration": 10,
    "start_time": "2022-04-09T17:11:47.502Z"
   },
   {
    "duration": 12,
    "start_time": "2022-04-09T17:11:47.514Z"
   },
   {
    "duration": 4,
    "start_time": "2022-04-09T17:11:47.528Z"
   },
   {
    "duration": 26,
    "start_time": "2022-04-09T17:11:47.533Z"
   },
   {
    "duration": 5,
    "start_time": "2022-04-09T17:11:47.561Z"
   },
   {
    "duration": 301,
    "start_time": "2022-04-09T17:11:47.568Z"
   },
   {
    "duration": 10,
    "start_time": "2022-04-09T17:11:47.871Z"
   },
   {
    "duration": 9,
    "start_time": "2022-04-09T17:11:47.883Z"
   },
   {
    "duration": 4,
    "start_time": "2022-04-09T17:11:47.894Z"
   },
   {
    "duration": 8,
    "start_time": "2022-04-09T17:11:47.900Z"
   },
   {
    "duration": 5,
    "start_time": "2022-04-09T17:11:47.910Z"
   },
   {
    "duration": 374,
    "start_time": "2022-04-09T17:11:47.917Z"
   },
   {
    "duration": 5,
    "start_time": "2022-04-09T17:11:48.293Z"
   },
   {
    "duration": 9,
    "start_time": "2022-04-09T17:11:48.300Z"
   },
   {
    "duration": 7,
    "start_time": "2022-04-09T17:11:48.311Z"
   },
   {
    "duration": 15,
    "start_time": "2022-04-09T17:11:48.319Z"
   },
   {
    "duration": 26,
    "start_time": "2022-04-09T17:11:48.336Z"
   },
   {
    "duration": 12,
    "start_time": "2022-04-09T17:11:48.364Z"
   },
   {
    "duration": 775,
    "start_time": "2022-04-10T08:27:58.049Z"
   },
   {
    "duration": 165,
    "start_time": "2022-04-10T08:27:58.826Z"
   },
   {
    "duration": 17,
    "start_time": "2022-04-10T08:27:58.992Z"
   },
   {
    "duration": 156,
    "start_time": "2022-04-10T08:27:59.010Z"
   },
   {
    "duration": 8,
    "start_time": "2022-04-10T08:27:59.168Z"
   },
   {
    "duration": 111,
    "start_time": "2022-04-10T08:27:59.178Z"
   },
   {
    "duration": 7,
    "start_time": "2022-04-10T08:27:59.291Z"
   },
   {
    "duration": 30,
    "start_time": "2022-04-10T08:27:59.300Z"
   },
   {
    "duration": 7,
    "start_time": "2022-04-10T08:27:59.332Z"
   },
   {
    "duration": 37,
    "start_time": "2022-04-10T08:27:59.342Z"
   },
   {
    "duration": 5,
    "start_time": "2022-04-10T08:27:59.381Z"
   },
   {
    "duration": 27,
    "start_time": "2022-04-10T08:27:59.388Z"
   },
   {
    "duration": 26,
    "start_time": "2022-04-10T08:27:59.417Z"
   },
   {
    "duration": 105,
    "start_time": "2022-04-10T08:27:59.444Z"
   },
   {
    "duration": 38,
    "start_time": "2022-04-10T08:27:59.550Z"
   },
   {
    "duration": 15,
    "start_time": "2022-04-10T08:27:59.589Z"
   },
   {
    "duration": 27,
    "start_time": "2022-04-10T08:27:59.606Z"
   },
   {
    "duration": 6,
    "start_time": "2022-04-10T08:27:59.635Z"
   },
   {
    "duration": 19,
    "start_time": "2022-04-10T08:27:59.643Z"
   },
   {
    "duration": 49,
    "start_time": "2022-04-10T08:27:59.664Z"
   },
   {
    "duration": 8,
    "start_time": "2022-04-10T08:27:59.714Z"
   },
   {
    "duration": 9,
    "start_time": "2022-04-10T08:27:59.724Z"
   },
   {
    "duration": 24,
    "start_time": "2022-04-10T08:27:59.734Z"
   },
   {
    "duration": 48,
    "start_time": "2022-04-10T08:27:59.760Z"
   },
   {
    "duration": 4,
    "start_time": "2022-04-10T08:27:59.810Z"
   },
   {
    "duration": 88,
    "start_time": "2022-04-10T08:27:59.815Z"
   },
   {
    "duration": 21,
    "start_time": "2022-04-10T08:27:59.904Z"
   },
   {
    "duration": 6,
    "start_time": "2022-04-10T08:27:59.929Z"
   },
   {
    "duration": 65,
    "start_time": "2022-04-10T08:27:59.937Z"
   },
   {
    "duration": 12,
    "start_time": "2022-04-10T08:28:00.004Z"
   },
   {
    "duration": 18,
    "start_time": "2022-04-10T08:28:00.018Z"
   },
   {
    "duration": 13,
    "start_time": "2022-04-10T08:28:00.038Z"
   },
   {
    "duration": 8,
    "start_time": "2022-04-10T08:28:00.053Z"
   },
   {
    "duration": 45,
    "start_time": "2022-04-10T08:28:00.063Z"
   },
   {
    "duration": 12,
    "start_time": "2022-04-10T08:28:00.109Z"
   },
   {
    "duration": 13,
    "start_time": "2022-04-10T08:28:00.122Z"
   },
   {
    "duration": 7,
    "start_time": "2022-04-10T08:28:00.137Z"
   },
   {
    "duration": 14,
    "start_time": "2022-04-10T08:28:00.146Z"
   },
   {
    "duration": 7,
    "start_time": "2022-04-10T08:28:00.162Z"
   },
   {
    "duration": 32,
    "start_time": "2022-04-10T08:28:00.170Z"
   },
   {
    "duration": 4,
    "start_time": "2022-04-10T08:28:00.203Z"
   },
   {
    "duration": 9,
    "start_time": "2022-04-10T08:28:00.209Z"
   },
   {
    "duration": 11,
    "start_time": "2022-04-10T08:28:00.219Z"
   },
   {
    "duration": 551,
    "start_time": "2022-04-10T08:28:00.232Z"
   },
   {
    "duration": 9,
    "start_time": "2022-04-10T08:28:00.784Z"
   },
   {
    "duration": 16,
    "start_time": "2022-04-10T08:28:00.801Z"
   },
   {
    "duration": 12,
    "start_time": "2022-04-10T08:28:00.819Z"
   },
   {
    "duration": 9,
    "start_time": "2022-04-10T08:28:00.833Z"
   },
   {
    "duration": 12,
    "start_time": "2022-04-10T08:28:00.844Z"
   },
   {
    "duration": 207,
    "start_time": "2022-04-10T08:28:00.858Z"
   },
   {
    "duration": 7,
    "start_time": "2022-04-10T08:28:01.067Z"
   },
   {
    "duration": 18,
    "start_time": "2022-04-10T08:28:01.076Z"
   },
   {
    "duration": 24,
    "start_time": "2022-04-10T08:28:01.096Z"
   },
   {
    "duration": 40,
    "start_time": "2022-04-10T08:28:01.122Z"
   },
   {
    "duration": 63,
    "start_time": "2022-04-10T08:28:01.164Z"
   },
   {
    "duration": 239,
    "start_time": "2022-04-10T08:28:01.229Z"
   },
   {
    "duration": 6,
    "start_time": "2022-04-10T08:28:01.470Z"
   },
   {
    "duration": 16,
    "start_time": "2022-04-10T08:28:01.478Z"
   },
   {
    "duration": 21,
    "start_time": "2022-04-10T08:28:01.495Z"
   },
   {
    "duration": 19,
    "start_time": "2022-04-10T08:28:01.517Z"
   },
   {
    "duration": 11,
    "start_time": "2022-04-10T08:28:01.537Z"
   },
   {
    "duration": 28,
    "start_time": "2022-04-10T08:28:01.550Z"
   },
   {
    "duration": 10,
    "start_time": "2022-04-10T08:29:43.173Z"
   },
   {
    "duration": 866,
    "start_time": "2022-04-10T18:36:28.608Z"
   },
   {
    "duration": 175,
    "start_time": "2022-04-10T18:36:29.476Z"
   },
   {
    "duration": 16,
    "start_time": "2022-04-10T18:36:29.653Z"
   },
   {
    "duration": 154,
    "start_time": "2022-04-10T18:36:29.672Z"
   },
   {
    "duration": 11,
    "start_time": "2022-04-10T18:36:29.827Z"
   },
   {
    "duration": 106,
    "start_time": "2022-04-10T18:36:29.839Z"
   },
   {
    "duration": 7,
    "start_time": "2022-04-10T18:36:29.947Z"
   },
   {
    "duration": 24,
    "start_time": "2022-04-10T18:36:29.956Z"
   },
   {
    "duration": 8,
    "start_time": "2022-04-10T18:36:29.981Z"
   },
   {
    "duration": 37,
    "start_time": "2022-04-10T18:36:29.992Z"
   },
   {
    "duration": 6,
    "start_time": "2022-04-10T18:36:30.031Z"
   },
   {
    "duration": 17,
    "start_time": "2022-04-10T18:36:30.038Z"
   },
   {
    "duration": 14,
    "start_time": "2022-04-10T18:36:30.056Z"
   },
   {
    "duration": 134,
    "start_time": "2022-04-10T18:36:30.072Z"
   },
   {
    "duration": 47,
    "start_time": "2022-04-10T18:36:30.208Z"
   },
   {
    "duration": 7,
    "start_time": "2022-04-10T18:36:30.257Z"
   },
   {
    "duration": 42,
    "start_time": "2022-04-10T18:36:30.266Z"
   },
   {
    "duration": 7,
    "start_time": "2022-04-10T18:36:30.310Z"
   },
   {
    "duration": 32,
    "start_time": "2022-04-10T18:36:30.318Z"
   },
   {
    "duration": 35,
    "start_time": "2022-04-10T18:36:30.351Z"
   },
   {
    "duration": 8,
    "start_time": "2022-04-10T18:36:30.387Z"
   },
   {
    "duration": 9,
    "start_time": "2022-04-10T18:36:30.396Z"
   },
   {
    "duration": 35,
    "start_time": "2022-04-10T18:36:30.407Z"
   },
   {
    "duration": 34,
    "start_time": "2022-04-10T18:36:30.443Z"
   },
   {
    "duration": 4,
    "start_time": "2022-04-10T18:36:30.479Z"
   },
   {
    "duration": 119,
    "start_time": "2022-04-10T18:36:30.485Z"
   },
   {
    "duration": 31,
    "start_time": "2022-04-10T18:36:30.605Z"
   },
   {
    "duration": 7,
    "start_time": "2022-04-10T18:36:30.640Z"
   },
   {
    "duration": 57,
    "start_time": "2022-04-10T18:36:30.649Z"
   },
   {
    "duration": 30,
    "start_time": "2022-04-10T18:36:30.707Z"
   },
   {
    "duration": 9,
    "start_time": "2022-04-10T18:36:30.739Z"
   },
   {
    "duration": 14,
    "start_time": "2022-04-10T18:36:30.749Z"
   },
   {
    "duration": 9,
    "start_time": "2022-04-10T18:36:30.765Z"
   },
   {
    "duration": 35,
    "start_time": "2022-04-10T18:36:30.775Z"
   },
   {
    "duration": 30,
    "start_time": "2022-04-10T18:36:30.812Z"
   },
   {
    "duration": 9,
    "start_time": "2022-04-10T18:36:30.844Z"
   },
   {
    "duration": 13,
    "start_time": "2022-04-10T18:36:30.854Z"
   },
   {
    "duration": 20,
    "start_time": "2022-04-10T18:36:30.869Z"
   },
   {
    "duration": 13,
    "start_time": "2022-04-10T18:36:30.891Z"
   },
   {
    "duration": 8,
    "start_time": "2022-04-10T18:36:30.906Z"
   },
   {
    "duration": 5,
    "start_time": "2022-04-10T18:36:30.931Z"
   },
   {
    "duration": 17,
    "start_time": "2022-04-10T18:36:30.937Z"
   },
   {
    "duration": 7,
    "start_time": "2022-04-10T18:36:30.956Z"
   },
   {
    "duration": 760,
    "start_time": "2022-04-10T18:36:30.965Z"
   },
   {
    "duration": 14,
    "start_time": "2022-04-10T18:36:31.726Z"
   },
   {
    "duration": 16,
    "start_time": "2022-04-10T18:36:31.741Z"
   },
   {
    "duration": 11,
    "start_time": "2022-04-10T18:36:31.759Z"
   },
   {
    "duration": 21,
    "start_time": "2022-04-10T18:36:31.772Z"
   },
   {
    "duration": 14,
    "start_time": "2022-04-10T18:36:31.795Z"
   },
   {
    "duration": 263,
    "start_time": "2022-04-10T18:36:31.810Z"
   },
   {
    "duration": 9,
    "start_time": "2022-04-10T18:36:32.075Z"
   },
   {
    "duration": 11,
    "start_time": "2022-04-10T18:36:32.085Z"
   },
   {
    "duration": 5,
    "start_time": "2022-04-10T18:36:32.098Z"
   },
   {
    "duration": 7,
    "start_time": "2022-04-10T18:36:32.132Z"
   },
   {
    "duration": 18,
    "start_time": "2022-04-10T18:36:32.142Z"
   },
   {
    "duration": 319,
    "start_time": "2022-04-10T18:36:32.163Z"
   },
   {
    "duration": 4,
    "start_time": "2022-04-10T18:36:32.484Z"
   },
   {
    "duration": 9,
    "start_time": "2022-04-10T18:36:32.490Z"
   },
   {
    "duration": 11,
    "start_time": "2022-04-10T18:36:32.501Z"
   },
   {
    "duration": 26,
    "start_time": "2022-04-10T18:36:32.514Z"
   },
   {
    "duration": 12,
    "start_time": "2022-04-10T18:36:32.542Z"
   },
   {
    "duration": 16,
    "start_time": "2022-04-10T18:36:32.556Z"
   },
   {
    "duration": 103,
    "start_time": "2022-04-10T18:57:01.359Z"
   },
   {
    "duration": 2756,
    "start_time": "2022-04-10T18:57:12.062Z"
   },
   {
    "duration": 9,
    "start_time": "2022-04-10T18:57:46.138Z"
   },
   {
    "duration": 891,
    "start_time": "2022-04-10T18:57:55.098Z"
   },
   {
    "duration": 202,
    "start_time": "2022-04-10T18:57:55.991Z"
   },
   {
    "duration": 16,
    "start_time": "2022-04-10T18:57:56.195Z"
   },
   {
    "duration": 161,
    "start_time": "2022-04-10T18:57:56.213Z"
   },
   {
    "duration": 9,
    "start_time": "2022-04-10T18:57:56.375Z"
   },
   {
    "duration": 112,
    "start_time": "2022-04-10T18:57:56.386Z"
   },
   {
    "duration": 8,
    "start_time": "2022-04-10T18:57:56.499Z"
   },
   {
    "duration": 31,
    "start_time": "2022-04-10T18:57:56.509Z"
   },
   {
    "duration": 12,
    "start_time": "2022-04-10T18:57:56.543Z"
   },
   {
    "duration": 37,
    "start_time": "2022-04-10T18:57:56.559Z"
   },
   {
    "duration": 6,
    "start_time": "2022-04-10T18:57:56.598Z"
   },
   {
    "duration": 13,
    "start_time": "2022-04-10T18:57:56.606Z"
   },
   {
    "duration": 12,
    "start_time": "2022-04-10T18:57:56.621Z"
   },
   {
    "duration": 121,
    "start_time": "2022-04-10T18:57:56.635Z"
   },
   {
    "duration": 43,
    "start_time": "2022-04-10T18:57:56.757Z"
   },
   {
    "duration": 7,
    "start_time": "2022-04-10T18:57:56.801Z"
   },
   {
    "duration": 27,
    "start_time": "2022-04-10T18:57:56.831Z"
   },
   {
    "duration": 7,
    "start_time": "2022-04-10T18:57:56.860Z"
   },
   {
    "duration": 22,
    "start_time": "2022-04-10T18:57:56.869Z"
   },
   {
    "duration": 49,
    "start_time": "2022-04-10T18:57:56.893Z"
   },
   {
    "duration": 7,
    "start_time": "2022-04-10T18:57:56.944Z"
   },
   {
    "duration": 5,
    "start_time": "2022-04-10T18:57:56.953Z"
   },
   {
    "duration": 26,
    "start_time": "2022-04-10T18:57:56.960Z"
   },
   {
    "duration": 58,
    "start_time": "2022-04-10T18:57:56.988Z"
   },
   {
    "duration": 4,
    "start_time": "2022-04-10T18:57:57.048Z"
   },
   {
    "duration": 101,
    "start_time": "2022-04-10T18:57:57.054Z"
   },
   {
    "duration": 0,
    "start_time": "2022-04-10T18:57:57.158Z"
   },
   {
    "duration": 0,
    "start_time": "2022-04-10T18:57:57.160Z"
   },
   {
    "duration": 0,
    "start_time": "2022-04-10T18:57:57.161Z"
   },
   {
    "duration": 0,
    "start_time": "2022-04-10T18:57:57.162Z"
   },
   {
    "duration": 0,
    "start_time": "2022-04-10T18:57:57.164Z"
   },
   {
    "duration": 0,
    "start_time": "2022-04-10T18:57:57.164Z"
   },
   {
    "duration": 0,
    "start_time": "2022-04-10T18:57:57.165Z"
   },
   {
    "duration": 0,
    "start_time": "2022-04-10T18:57:57.166Z"
   },
   {
    "duration": 0,
    "start_time": "2022-04-10T18:57:57.168Z"
   },
   {
    "duration": 0,
    "start_time": "2022-04-10T18:57:57.169Z"
   },
   {
    "duration": 0,
    "start_time": "2022-04-10T18:57:57.170Z"
   },
   {
    "duration": 0,
    "start_time": "2022-04-10T18:57:57.170Z"
   },
   {
    "duration": 0,
    "start_time": "2022-04-10T18:57:57.171Z"
   },
   {
    "duration": 0,
    "start_time": "2022-04-10T18:57:57.172Z"
   },
   {
    "duration": 0,
    "start_time": "2022-04-10T18:57:57.173Z"
   },
   {
    "duration": 0,
    "start_time": "2022-04-10T18:57:57.174Z"
   },
   {
    "duration": 0,
    "start_time": "2022-04-10T18:57:57.175Z"
   },
   {
    "duration": 0,
    "start_time": "2022-04-10T18:57:57.176Z"
   },
   {
    "duration": 0,
    "start_time": "2022-04-10T18:57:57.177Z"
   },
   {
    "duration": 0,
    "start_time": "2022-04-10T18:57:57.178Z"
   },
   {
    "duration": 0,
    "start_time": "2022-04-10T18:57:57.179Z"
   },
   {
    "duration": 0,
    "start_time": "2022-04-10T18:57:57.180Z"
   },
   {
    "duration": 0,
    "start_time": "2022-04-10T18:57:57.181Z"
   },
   {
    "duration": 0,
    "start_time": "2022-04-10T18:57:57.182Z"
   },
   {
    "duration": 0,
    "start_time": "2022-04-10T18:57:57.183Z"
   },
   {
    "duration": 0,
    "start_time": "2022-04-10T18:57:57.184Z"
   },
   {
    "duration": 0,
    "start_time": "2022-04-10T18:57:57.185Z"
   },
   {
    "duration": 0,
    "start_time": "2022-04-10T18:57:57.233Z"
   },
   {
    "duration": 0,
    "start_time": "2022-04-10T18:57:57.234Z"
   },
   {
    "duration": 0,
    "start_time": "2022-04-10T18:57:57.235Z"
   },
   {
    "duration": 0,
    "start_time": "2022-04-10T18:57:57.236Z"
   },
   {
    "duration": 0,
    "start_time": "2022-04-10T18:57:57.237Z"
   },
   {
    "duration": 0,
    "start_time": "2022-04-10T18:57:57.238Z"
   },
   {
    "duration": 0,
    "start_time": "2022-04-10T18:57:57.239Z"
   },
   {
    "duration": 0,
    "start_time": "2022-04-10T18:57:57.240Z"
   },
   {
    "duration": 0,
    "start_time": "2022-04-10T18:57:57.241Z"
   },
   {
    "duration": 0,
    "start_time": "2022-04-10T18:57:57.242Z"
   },
   {
    "duration": 0,
    "start_time": "2022-04-10T18:57:57.243Z"
   },
   {
    "duration": 32,
    "start_time": "2022-04-10T18:58:25.946Z"
   },
   {
    "duration": 6,
    "start_time": "2022-04-10T18:59:15.299Z"
   },
   {
    "duration": 167,
    "start_time": "2022-04-10T19:27:43.254Z"
   },
   {
    "duration": 184,
    "start_time": "2022-04-10T19:28:00.428Z"
   },
   {
    "duration": 171,
    "start_time": "2022-04-10T19:29:26.608Z"
   },
   {
    "duration": 175,
    "start_time": "2022-04-10T19:29:46.326Z"
   },
   {
    "duration": 177,
    "start_time": "2022-04-10T19:30:12.938Z"
   },
   {
    "duration": 169,
    "start_time": "2022-04-10T19:31:06.058Z"
   },
   {
    "duration": 159,
    "start_time": "2022-04-10T19:31:36.869Z"
   },
   {
    "duration": 173,
    "start_time": "2022-04-10T19:31:49.644Z"
   },
   {
    "duration": 156,
    "start_time": "2022-04-10T19:32:48.021Z"
   },
   {
    "duration": 169,
    "start_time": "2022-04-10T19:34:17.307Z"
   },
   {
    "duration": 169,
    "start_time": "2022-04-10T19:34:35.029Z"
   },
   {
    "duration": 190,
    "start_time": "2022-04-10T19:36:42.563Z"
   },
   {
    "duration": 927,
    "start_time": "2022-04-10T19:36:53.300Z"
   },
   {
    "duration": 190,
    "start_time": "2022-04-10T19:36:54.231Z"
   },
   {
    "duration": 17,
    "start_time": "2022-04-10T19:36:54.423Z"
   },
   {
    "duration": 162,
    "start_time": "2022-04-10T19:36:54.443Z"
   },
   {
    "duration": 9,
    "start_time": "2022-04-10T19:36:54.607Z"
   },
   {
    "duration": 119,
    "start_time": "2022-04-10T19:36:54.618Z"
   },
   {
    "duration": 8,
    "start_time": "2022-04-10T19:36:54.739Z"
   },
   {
    "duration": 24,
    "start_time": "2022-04-10T19:36:54.749Z"
   },
   {
    "duration": 10,
    "start_time": "2022-04-10T19:36:54.775Z"
   },
   {
    "duration": 34,
    "start_time": "2022-04-10T19:36:54.789Z"
   },
   {
    "duration": 6,
    "start_time": "2022-04-10T19:36:54.825Z"
   },
   {
    "duration": 15,
    "start_time": "2022-04-10T19:36:54.833Z"
   },
   {
    "duration": 13,
    "start_time": "2022-04-10T19:36:54.849Z"
   },
   {
    "duration": 128,
    "start_time": "2022-04-10T19:36:54.864Z"
   },
   {
    "duration": 54,
    "start_time": "2022-04-10T19:36:54.994Z"
   },
   {
    "duration": 8,
    "start_time": "2022-04-10T19:36:55.049Z"
   },
   {
    "duration": 36,
    "start_time": "2022-04-10T19:36:55.059Z"
   },
   {
    "duration": 8,
    "start_time": "2022-04-10T19:36:55.097Z"
   },
   {
    "duration": 38,
    "start_time": "2022-04-10T19:36:55.107Z"
   },
   {
    "duration": 32,
    "start_time": "2022-04-10T19:36:55.146Z"
   },
   {
    "duration": 7,
    "start_time": "2022-04-10T19:36:55.180Z"
   },
   {
    "duration": 6,
    "start_time": "2022-04-10T19:36:55.189Z"
   },
   {
    "duration": 51,
    "start_time": "2022-04-10T19:36:55.197Z"
   },
   {
    "duration": 34,
    "start_time": "2022-04-10T19:36:55.250Z"
   },
   {
    "duration": 4,
    "start_time": "2022-04-10T19:36:55.286Z"
   },
   {
    "duration": 177,
    "start_time": "2022-04-10T19:36:55.292Z"
   },
   {
    "duration": 0,
    "start_time": "2022-04-10T19:36:55.471Z"
   },
   {
    "duration": 0,
    "start_time": "2022-04-10T19:36:55.472Z"
   },
   {
    "duration": 0,
    "start_time": "2022-04-10T19:36:55.473Z"
   },
   {
    "duration": 0,
    "start_time": "2022-04-10T19:36:55.475Z"
   },
   {
    "duration": 0,
    "start_time": "2022-04-10T19:36:55.476Z"
   },
   {
    "duration": 0,
    "start_time": "2022-04-10T19:36:55.477Z"
   },
   {
    "duration": 0,
    "start_time": "2022-04-10T19:36:55.478Z"
   },
   {
    "duration": 0,
    "start_time": "2022-04-10T19:36:55.480Z"
   },
   {
    "duration": 0,
    "start_time": "2022-04-10T19:36:55.481Z"
   },
   {
    "duration": 0,
    "start_time": "2022-04-10T19:36:55.482Z"
   },
   {
    "duration": 0,
    "start_time": "2022-04-10T19:36:55.484Z"
   },
   {
    "duration": 0,
    "start_time": "2022-04-10T19:36:55.485Z"
   },
   {
    "duration": 0,
    "start_time": "2022-04-10T19:36:55.487Z"
   },
   {
    "duration": 0,
    "start_time": "2022-04-10T19:36:55.488Z"
   },
   {
    "duration": 0,
    "start_time": "2022-04-10T19:36:55.490Z"
   },
   {
    "duration": 0,
    "start_time": "2022-04-10T19:36:55.491Z"
   },
   {
    "duration": 0,
    "start_time": "2022-04-10T19:36:55.493Z"
   },
   {
    "duration": 0,
    "start_time": "2022-04-10T19:36:55.494Z"
   },
   {
    "duration": 0,
    "start_time": "2022-04-10T19:36:55.496Z"
   },
   {
    "duration": 0,
    "start_time": "2022-04-10T19:36:55.497Z"
   },
   {
    "duration": 0,
    "start_time": "2022-04-10T19:36:55.499Z"
   },
   {
    "duration": 0,
    "start_time": "2022-04-10T19:36:55.500Z"
   },
   {
    "duration": 0,
    "start_time": "2022-04-10T19:36:55.502Z"
   },
   {
    "duration": 0,
    "start_time": "2022-04-10T19:36:55.503Z"
   },
   {
    "duration": 0,
    "start_time": "2022-04-10T19:36:55.505Z"
   },
   {
    "duration": 0,
    "start_time": "2022-04-10T19:36:55.507Z"
   },
   {
    "duration": 0,
    "start_time": "2022-04-10T19:36:55.532Z"
   },
   {
    "duration": 0,
    "start_time": "2022-04-10T19:36:55.533Z"
   },
   {
    "duration": 0,
    "start_time": "2022-04-10T19:36:55.535Z"
   },
   {
    "duration": 0,
    "start_time": "2022-04-10T19:36:55.536Z"
   },
   {
    "duration": 0,
    "start_time": "2022-04-10T19:36:55.537Z"
   },
   {
    "duration": 0,
    "start_time": "2022-04-10T19:36:55.538Z"
   },
   {
    "duration": 1,
    "start_time": "2022-04-10T19:36:55.539Z"
   },
   {
    "duration": 0,
    "start_time": "2022-04-10T19:36:55.541Z"
   },
   {
    "duration": 0,
    "start_time": "2022-04-10T19:36:55.542Z"
   },
   {
    "duration": 0,
    "start_time": "2022-04-10T19:36:55.543Z"
   },
   {
    "duration": 101,
    "start_time": "2022-04-10T19:38:01.762Z"
   },
   {
    "duration": 195,
    "start_time": "2022-04-10T19:39:02.333Z"
   },
   {
    "duration": 174,
    "start_time": "2022-04-10T19:39:34.693Z"
   },
   {
    "duration": 86,
    "start_time": "2022-04-10T19:40:01.629Z"
   },
   {
    "duration": 5,
    "start_time": "2022-04-10T19:41:09.447Z"
   },
   {
    "duration": 181,
    "start_time": "2022-04-10T19:42:54.557Z"
   },
   {
    "duration": 160,
    "start_time": "2022-04-10T19:43:17.365Z"
   },
   {
    "duration": 6,
    "start_time": "2022-04-10T19:43:58.275Z"
   },
   {
    "duration": 7,
    "start_time": "2022-04-10T19:44:53.783Z"
   },
   {
    "duration": 7,
    "start_time": "2022-04-10T19:47:42.542Z"
   },
   {
    "duration": 99,
    "start_time": "2022-04-10T19:50:24.757Z"
   },
   {
    "duration": 828,
    "start_time": "2022-04-10T19:50:39.357Z"
   },
   {
    "duration": 186,
    "start_time": "2022-04-10T19:50:40.187Z"
   },
   {
    "duration": 17,
    "start_time": "2022-04-10T19:50:40.374Z"
   },
   {
    "duration": 165,
    "start_time": "2022-04-10T19:50:40.393Z"
   },
   {
    "duration": 9,
    "start_time": "2022-04-10T19:50:40.560Z"
   },
   {
    "duration": 110,
    "start_time": "2022-04-10T19:50:40.571Z"
   },
   {
    "duration": 7,
    "start_time": "2022-04-10T19:50:40.683Z"
   },
   {
    "duration": 24,
    "start_time": "2022-04-10T19:50:40.692Z"
   },
   {
    "duration": 17,
    "start_time": "2022-04-10T19:50:40.718Z"
   },
   {
    "duration": 35,
    "start_time": "2022-04-10T19:50:40.738Z"
   },
   {
    "duration": 6,
    "start_time": "2022-04-10T19:50:40.775Z"
   },
   {
    "duration": 13,
    "start_time": "2022-04-10T19:50:40.782Z"
   },
   {
    "duration": 12,
    "start_time": "2022-04-10T19:50:40.797Z"
   },
   {
    "duration": 154,
    "start_time": "2022-04-10T19:50:40.811Z"
   },
   {
    "duration": 42,
    "start_time": "2022-04-10T19:50:40.967Z"
   },
   {
    "duration": 7,
    "start_time": "2022-04-10T19:50:41.011Z"
   },
   {
    "duration": 36,
    "start_time": "2022-04-10T19:50:41.019Z"
   },
   {
    "duration": 6,
    "start_time": "2022-04-10T19:50:41.057Z"
   },
   {
    "duration": 19,
    "start_time": "2022-04-10T19:50:41.065Z"
   },
   {
    "duration": 27,
    "start_time": "2022-04-10T19:50:41.086Z"
   },
   {
    "duration": 8,
    "start_time": "2022-04-10T19:50:41.115Z"
   },
   {
    "duration": 4,
    "start_time": "2022-04-10T19:50:41.132Z"
   },
   {
    "duration": 29,
    "start_time": "2022-04-10T19:50:41.138Z"
   },
   {
    "duration": 37,
    "start_time": "2022-04-10T19:50:41.169Z"
   },
   {
    "duration": 4,
    "start_time": "2022-04-10T19:50:41.208Z"
   },
   {
    "duration": 112,
    "start_time": "2022-04-10T19:50:41.214Z"
   },
   {
    "duration": 0,
    "start_time": "2022-04-10T19:50:41.331Z"
   },
   {
    "duration": 0,
    "start_time": "2022-04-10T19:50:41.333Z"
   },
   {
    "duration": 0,
    "start_time": "2022-04-10T19:50:41.334Z"
   },
   {
    "duration": 0,
    "start_time": "2022-04-10T19:50:41.335Z"
   },
   {
    "duration": 0,
    "start_time": "2022-04-10T19:50:41.336Z"
   },
   {
    "duration": 0,
    "start_time": "2022-04-10T19:50:41.337Z"
   },
   {
    "duration": 0,
    "start_time": "2022-04-10T19:50:41.338Z"
   },
   {
    "duration": 0,
    "start_time": "2022-04-10T19:50:41.339Z"
   },
   {
    "duration": 0,
    "start_time": "2022-04-10T19:50:41.340Z"
   },
   {
    "duration": 0,
    "start_time": "2022-04-10T19:50:41.341Z"
   },
   {
    "duration": 0,
    "start_time": "2022-04-10T19:50:41.342Z"
   },
   {
    "duration": 0,
    "start_time": "2022-04-10T19:50:41.343Z"
   },
   {
    "duration": 0,
    "start_time": "2022-04-10T19:50:41.344Z"
   },
   {
    "duration": 0,
    "start_time": "2022-04-10T19:50:41.346Z"
   },
   {
    "duration": 0,
    "start_time": "2022-04-10T19:50:41.346Z"
   },
   {
    "duration": 0,
    "start_time": "2022-04-10T19:50:41.348Z"
   },
   {
    "duration": 0,
    "start_time": "2022-04-10T19:50:41.349Z"
   },
   {
    "duration": 0,
    "start_time": "2022-04-10T19:50:41.351Z"
   },
   {
    "duration": 0,
    "start_time": "2022-04-10T19:50:41.352Z"
   },
   {
    "duration": 0,
    "start_time": "2022-04-10T19:50:41.353Z"
   },
   {
    "duration": 0,
    "start_time": "2022-04-10T19:50:41.354Z"
   },
   {
    "duration": 0,
    "start_time": "2022-04-10T19:50:41.355Z"
   },
   {
    "duration": 0,
    "start_time": "2022-04-10T19:50:41.356Z"
   },
   {
    "duration": 0,
    "start_time": "2022-04-10T19:50:41.356Z"
   },
   {
    "duration": 0,
    "start_time": "2022-04-10T19:50:41.357Z"
   },
   {
    "duration": 0,
    "start_time": "2022-04-10T19:50:41.359Z"
   },
   {
    "duration": 0,
    "start_time": "2022-04-10T19:50:41.360Z"
   },
   {
    "duration": 0,
    "start_time": "2022-04-10T19:50:41.361Z"
   },
   {
    "duration": 0,
    "start_time": "2022-04-10T19:50:41.362Z"
   },
   {
    "duration": 0,
    "start_time": "2022-04-10T19:50:41.363Z"
   },
   {
    "duration": 0,
    "start_time": "2022-04-10T19:50:41.364Z"
   },
   {
    "duration": 0,
    "start_time": "2022-04-10T19:50:41.365Z"
   },
   {
    "duration": 0,
    "start_time": "2022-04-10T19:50:41.366Z"
   },
   {
    "duration": 0,
    "start_time": "2022-04-10T19:50:41.367Z"
   },
   {
    "duration": 0,
    "start_time": "2022-04-10T19:50:41.368Z"
   },
   {
    "duration": 0,
    "start_time": "2022-04-10T19:50:41.369Z"
   },
   {
    "duration": 0,
    "start_time": "2022-04-10T19:50:41.371Z"
   },
   {
    "duration": 0,
    "start_time": "2022-04-10T19:50:41.372Z"
   },
   {
    "duration": 83,
    "start_time": "2022-04-10T19:51:38.178Z"
   },
   {
    "duration": 6,
    "start_time": "2022-04-10T19:51:44.521Z"
   },
   {
    "duration": 7,
    "start_time": "2022-04-10T19:51:46.769Z"
   },
   {
    "duration": 7,
    "start_time": "2022-04-10T19:51:48.752Z"
   },
   {
    "duration": 156,
    "start_time": "2022-04-10T20:05:59.214Z"
   },
   {
    "duration": 889,
    "start_time": "2022-04-10T20:06:09.636Z"
   },
   {
    "duration": 208,
    "start_time": "2022-04-10T20:06:10.528Z"
   },
   {
    "duration": 17,
    "start_time": "2022-04-10T20:06:10.738Z"
   },
   {
    "duration": 184,
    "start_time": "2022-04-10T20:06:10.757Z"
   },
   {
    "duration": 10,
    "start_time": "2022-04-10T20:06:10.943Z"
   },
   {
    "duration": 133,
    "start_time": "2022-04-10T20:06:10.955Z"
   },
   {
    "duration": 8,
    "start_time": "2022-04-10T20:06:11.090Z"
   },
   {
    "duration": 35,
    "start_time": "2022-04-10T20:06:11.100Z"
   },
   {
    "duration": 9,
    "start_time": "2022-04-10T20:06:11.137Z"
   },
   {
    "duration": 44,
    "start_time": "2022-04-10T20:06:11.149Z"
   },
   {
    "duration": 6,
    "start_time": "2022-04-10T20:06:11.195Z"
   },
   {
    "duration": 15,
    "start_time": "2022-04-10T20:06:11.203Z"
   },
   {
    "duration": 10,
    "start_time": "2022-04-10T20:06:11.220Z"
   },
   {
    "duration": 129,
    "start_time": "2022-04-10T20:06:11.232Z"
   },
   {
    "duration": 45,
    "start_time": "2022-04-10T20:06:11.362Z"
   },
   {
    "duration": 23,
    "start_time": "2022-04-10T20:06:11.409Z"
   },
   {
    "duration": 34,
    "start_time": "2022-04-10T20:06:11.433Z"
   },
   {
    "duration": 7,
    "start_time": "2022-04-10T20:06:11.469Z"
   },
   {
    "duration": 19,
    "start_time": "2022-04-10T20:06:11.478Z"
   },
   {
    "duration": 58,
    "start_time": "2022-04-10T20:06:11.499Z"
   },
   {
    "duration": 8,
    "start_time": "2022-04-10T20:06:11.558Z"
   },
   {
    "duration": 7,
    "start_time": "2022-04-10T20:06:11.568Z"
   },
   {
    "duration": 27,
    "start_time": "2022-04-10T20:06:11.576Z"
   },
   {
    "duration": 57,
    "start_time": "2022-04-10T20:06:11.604Z"
   },
   {
    "duration": 4,
    "start_time": "2022-04-10T20:06:11.663Z"
   },
   {
    "duration": 100,
    "start_time": "2022-04-10T20:06:11.669Z"
   },
   {
    "duration": 6,
    "start_time": "2022-04-10T20:06:11.771Z"
   },
   {
    "duration": 185,
    "start_time": "2022-04-10T20:06:11.781Z"
   },
   {
    "duration": 0,
    "start_time": "2022-04-10T20:06:11.968Z"
   },
   {
    "duration": 0,
    "start_time": "2022-04-10T20:06:11.969Z"
   },
   {
    "duration": 0,
    "start_time": "2022-04-10T20:06:11.970Z"
   },
   {
    "duration": 0,
    "start_time": "2022-04-10T20:06:11.971Z"
   },
   {
    "duration": 0,
    "start_time": "2022-04-10T20:06:11.972Z"
   },
   {
    "duration": 0,
    "start_time": "2022-04-10T20:06:11.973Z"
   },
   {
    "duration": 0,
    "start_time": "2022-04-10T20:06:11.974Z"
   },
   {
    "duration": 0,
    "start_time": "2022-04-10T20:06:11.975Z"
   },
   {
    "duration": 0,
    "start_time": "2022-04-10T20:06:11.976Z"
   },
   {
    "duration": 0,
    "start_time": "2022-04-10T20:06:11.977Z"
   },
   {
    "duration": 0,
    "start_time": "2022-04-10T20:06:11.978Z"
   },
   {
    "duration": 0,
    "start_time": "2022-04-10T20:06:11.979Z"
   },
   {
    "duration": 0,
    "start_time": "2022-04-10T20:06:11.980Z"
   },
   {
    "duration": 0,
    "start_time": "2022-04-10T20:06:11.981Z"
   },
   {
    "duration": 0,
    "start_time": "2022-04-10T20:06:11.982Z"
   },
   {
    "duration": 0,
    "start_time": "2022-04-10T20:06:11.983Z"
   },
   {
    "duration": 0,
    "start_time": "2022-04-10T20:06:11.984Z"
   },
   {
    "duration": 0,
    "start_time": "2022-04-10T20:06:11.985Z"
   },
   {
    "duration": 0,
    "start_time": "2022-04-10T20:06:11.986Z"
   },
   {
    "duration": 0,
    "start_time": "2022-04-10T20:06:11.987Z"
   },
   {
    "duration": 0,
    "start_time": "2022-04-10T20:06:11.989Z"
   },
   {
    "duration": 0,
    "start_time": "2022-04-10T20:06:11.990Z"
   },
   {
    "duration": 0,
    "start_time": "2022-04-10T20:06:11.991Z"
   },
   {
    "duration": 0,
    "start_time": "2022-04-10T20:06:11.992Z"
   },
   {
    "duration": 0,
    "start_time": "2022-04-10T20:06:11.993Z"
   },
   {
    "duration": 0,
    "start_time": "2022-04-10T20:06:11.995Z"
   },
   {
    "duration": 0,
    "start_time": "2022-04-10T20:06:11.996Z"
   },
   {
    "duration": 0,
    "start_time": "2022-04-10T20:06:11.997Z"
   },
   {
    "duration": 1,
    "start_time": "2022-04-10T20:06:11.998Z"
   },
   {
    "duration": 0,
    "start_time": "2022-04-10T20:06:12.000Z"
   },
   {
    "duration": 0,
    "start_time": "2022-04-10T20:06:12.001Z"
   },
   {
    "duration": 0,
    "start_time": "2022-04-10T20:06:12.003Z"
   },
   {
    "duration": 0,
    "start_time": "2022-04-10T20:06:12.004Z"
   },
   {
    "duration": 0,
    "start_time": "2022-04-10T20:06:12.005Z"
   },
   {
    "duration": 0,
    "start_time": "2022-04-10T20:06:12.032Z"
   },
   {
    "duration": 7,
    "start_time": "2022-04-10T20:06:29.741Z"
   },
   {
    "duration": 57,
    "start_time": "2022-04-10T20:06:32.260Z"
   },
   {
    "duration": 14,
    "start_time": "2022-04-10T20:06:42.102Z"
   },
   {
    "duration": 9,
    "start_time": "2022-04-10T20:06:43.396Z"
   },
   {
    "duration": 13,
    "start_time": "2022-04-10T20:06:58.553Z"
   },
   {
    "duration": 9,
    "start_time": "2022-04-10T20:06:59.480Z"
   },
   {
    "duration": 30,
    "start_time": "2022-04-10T20:07:02.731Z"
   },
   {
    "duration": 13,
    "start_time": "2022-04-10T20:07:03.279Z"
   },
   {
    "duration": 11,
    "start_time": "2022-04-10T20:07:03.665Z"
   },
   {
    "duration": 7,
    "start_time": "2022-04-10T20:07:04.110Z"
   },
   {
    "duration": 12,
    "start_time": "2022-04-10T20:07:05.655Z"
   },
   {
    "duration": 10,
    "start_time": "2022-04-10T20:07:05.966Z"
   },
   {
    "duration": 10,
    "start_time": "2022-04-10T20:07:06.237Z"
   },
   {
    "duration": 4,
    "start_time": "2022-04-10T20:07:06.523Z"
   },
   {
    "duration": 4,
    "start_time": "2022-04-10T20:07:07.046Z"
   },
   {
    "duration": 5,
    "start_time": "2022-04-10T20:07:07.632Z"
   },
   {
    "duration": 572,
    "start_time": "2022-04-10T20:07:08.230Z"
   },
   {
    "duration": 10,
    "start_time": "2022-04-10T20:07:09.787Z"
   },
   {
    "duration": 9,
    "start_time": "2022-04-10T20:07:10.448Z"
   },
   {
    "duration": 5,
    "start_time": "2022-04-10T20:07:10.833Z"
   },
   {
    "duration": 5,
    "start_time": "2022-04-10T20:07:11.324Z"
   },
   {
    "duration": 5,
    "start_time": "2022-04-10T20:07:11.624Z"
   },
   {
    "duration": 240,
    "start_time": "2022-04-10T20:07:11.849Z"
   },
   {
    "duration": 9,
    "start_time": "2022-04-10T20:07:13.360Z"
   },
   {
    "duration": 9,
    "start_time": "2022-04-10T20:07:13.672Z"
   },
   {
    "duration": 4,
    "start_time": "2022-04-10T20:07:14.236Z"
   },
   {
    "duration": 4,
    "start_time": "2022-04-10T20:07:14.946Z"
   },
   {
    "duration": 5,
    "start_time": "2022-04-10T20:07:15.270Z"
   },
   {
    "duration": 280,
    "start_time": "2022-04-10T20:07:15.820Z"
   },
   {
    "duration": 885,
    "start_time": "2022-04-10T20:07:26.395Z"
   },
   {
    "duration": 188,
    "start_time": "2022-04-10T20:07:27.282Z"
   },
   {
    "duration": 16,
    "start_time": "2022-04-10T20:07:27.472Z"
   },
   {
    "duration": 166,
    "start_time": "2022-04-10T20:07:27.489Z"
   },
   {
    "duration": 9,
    "start_time": "2022-04-10T20:07:27.657Z"
   },
   {
    "duration": 109,
    "start_time": "2022-04-10T20:07:27.668Z"
   },
   {
    "duration": 7,
    "start_time": "2022-04-10T20:07:27.779Z"
   },
   {
    "duration": 24,
    "start_time": "2022-04-10T20:07:27.788Z"
   },
   {
    "duration": 8,
    "start_time": "2022-04-10T20:07:27.814Z"
   },
   {
    "duration": 34,
    "start_time": "2022-04-10T20:07:27.832Z"
   },
   {
    "duration": 6,
    "start_time": "2022-04-10T20:07:27.868Z"
   },
   {
    "duration": 15,
    "start_time": "2022-04-10T20:07:27.876Z"
   },
   {
    "duration": 10,
    "start_time": "2022-04-10T20:07:27.893Z"
   },
   {
    "duration": 120,
    "start_time": "2022-04-10T20:07:27.907Z"
   },
   {
    "duration": 43,
    "start_time": "2022-04-10T20:07:28.028Z"
   },
   {
    "duration": 8,
    "start_time": "2022-04-10T20:07:28.072Z"
   },
   {
    "duration": 50,
    "start_time": "2022-04-10T20:07:28.082Z"
   },
   {
    "duration": 9,
    "start_time": "2022-04-10T20:07:28.134Z"
   },
   {
    "duration": 16,
    "start_time": "2022-04-10T20:07:28.145Z"
   },
   {
    "duration": 26,
    "start_time": "2022-04-10T20:07:28.163Z"
   },
   {
    "duration": 8,
    "start_time": "2022-04-10T20:07:28.191Z"
   },
   {
    "duration": 4,
    "start_time": "2022-04-10T20:07:28.232Z"
   },
   {
    "duration": 26,
    "start_time": "2022-04-10T20:07:28.238Z"
   },
   {
    "duration": 34,
    "start_time": "2022-04-10T20:07:28.266Z"
   },
   {
    "duration": 4,
    "start_time": "2022-04-10T20:07:28.302Z"
   },
   {
    "duration": 79,
    "start_time": "2022-04-10T20:07:28.332Z"
   },
   {
    "duration": 20,
    "start_time": "2022-04-10T20:07:28.413Z"
   },
   {
    "duration": 7,
    "start_time": "2022-04-10T20:07:28.434Z"
   },
   {
    "duration": 52,
    "start_time": "2022-04-10T20:07:28.443Z"
   },
   {
    "duration": 37,
    "start_time": "2022-04-10T20:07:28.497Z"
   },
   {
    "duration": 9,
    "start_time": "2022-04-10T20:07:28.536Z"
   },
   {
    "duration": 13,
    "start_time": "2022-04-10T20:07:28.547Z"
   },
   {
    "duration": 8,
    "start_time": "2022-04-10T20:07:28.562Z"
   },
   {
    "duration": 28,
    "start_time": "2022-04-10T20:07:28.572Z"
   },
   {
    "duration": 40,
    "start_time": "2022-04-10T20:07:28.602Z"
   },
   {
    "duration": 9,
    "start_time": "2022-04-10T20:07:28.643Z"
   },
   {
    "duration": 9,
    "start_time": "2022-04-10T20:07:28.654Z"
   },
   {
    "duration": 9,
    "start_time": "2022-04-10T20:07:28.665Z"
   },
   {
    "duration": 10,
    "start_time": "2022-04-10T20:07:28.676Z"
   },
   {
    "duration": 11,
    "start_time": "2022-04-10T20:07:28.688Z"
   },
   {
    "duration": 5,
    "start_time": "2022-04-10T20:07:28.732Z"
   },
   {
    "duration": 7,
    "start_time": "2022-04-10T20:07:28.738Z"
   },
   {
    "duration": 7,
    "start_time": "2022-04-10T20:07:28.747Z"
   },
   {
    "duration": 563,
    "start_time": "2022-04-10T20:07:28.755Z"
   },
   {
    "duration": 12,
    "start_time": "2022-04-10T20:07:29.320Z"
   },
   {
    "duration": 8,
    "start_time": "2022-04-10T20:07:29.334Z"
   },
   {
    "duration": 6,
    "start_time": "2022-04-10T20:07:29.344Z"
   },
   {
    "duration": 6,
    "start_time": "2022-04-10T20:07:29.352Z"
   },
   {
    "duration": 6,
    "start_time": "2022-04-10T20:07:29.360Z"
   },
   {
    "duration": 270,
    "start_time": "2022-04-10T20:07:29.367Z"
   },
   {
    "duration": 9,
    "start_time": "2022-04-10T20:07:29.639Z"
   },
   {
    "duration": 9,
    "start_time": "2022-04-10T20:07:29.649Z"
   },
   {
    "duration": 4,
    "start_time": "2022-04-10T20:07:29.660Z"
   },
   {
    "duration": 5,
    "start_time": "2022-04-10T20:07:29.666Z"
   },
   {
    "duration": 9,
    "start_time": "2022-04-10T20:07:29.672Z"
   },
   {
    "duration": 301,
    "start_time": "2022-04-10T20:07:29.683Z"
   },
   {
    "duration": 4,
    "start_time": "2022-04-10T20:07:29.986Z"
   },
   {
    "duration": 18,
    "start_time": "2022-04-10T20:07:29.992Z"
   },
   {
    "duration": 9,
    "start_time": "2022-04-10T20:07:30.012Z"
   },
   {
    "duration": 12,
    "start_time": "2022-04-10T20:07:30.032Z"
   },
   {
    "duration": 11,
    "start_time": "2022-04-10T20:07:30.046Z"
   },
   {
    "duration": 13,
    "start_time": "2022-04-10T20:07:30.059Z"
   },
   {
    "duration": 224,
    "start_time": "2022-04-10T20:10:21.035Z"
   },
   {
    "duration": 795,
    "start_time": "2022-04-11T05:43:43.392Z"
   },
   {
    "duration": 168,
    "start_time": "2022-04-11T05:43:44.189Z"
   },
   {
    "duration": 17,
    "start_time": "2022-04-11T05:43:44.358Z"
   },
   {
    "duration": 135,
    "start_time": "2022-04-11T05:43:44.377Z"
   },
   {
    "duration": 8,
    "start_time": "2022-04-11T05:43:44.513Z"
   },
   {
    "duration": 93,
    "start_time": "2022-04-11T05:43:44.523Z"
   },
   {
    "duration": 8,
    "start_time": "2022-04-11T05:43:44.617Z"
   },
   {
    "duration": 17,
    "start_time": "2022-04-11T05:43:44.627Z"
   },
   {
    "duration": 8,
    "start_time": "2022-04-11T05:43:44.645Z"
   },
   {
    "duration": 24,
    "start_time": "2022-04-11T05:43:44.670Z"
   },
   {
    "duration": 6,
    "start_time": "2022-04-11T05:43:44.695Z"
   },
   {
    "duration": 14,
    "start_time": "2022-04-11T05:43:44.703Z"
   },
   {
    "duration": 10,
    "start_time": "2022-04-11T05:43:44.718Z"
   },
   {
    "duration": 112,
    "start_time": "2022-04-11T05:43:44.730Z"
   },
   {
    "duration": 45,
    "start_time": "2022-04-11T05:43:44.843Z"
   },
   {
    "duration": 6,
    "start_time": "2022-04-11T05:43:44.890Z"
   },
   {
    "duration": 24,
    "start_time": "2022-04-11T05:43:44.898Z"
   },
   {
    "duration": 6,
    "start_time": "2022-04-11T05:43:44.923Z"
   },
   {
    "duration": 13,
    "start_time": "2022-04-11T05:43:44.931Z"
   },
   {
    "duration": 40,
    "start_time": "2022-04-11T05:43:44.946Z"
   },
   {
    "duration": 6,
    "start_time": "2022-04-11T05:43:44.988Z"
   },
   {
    "duration": 5,
    "start_time": "2022-04-11T05:43:44.996Z"
   },
   {
    "duration": 33,
    "start_time": "2022-04-11T05:43:45.002Z"
   },
   {
    "duration": 43,
    "start_time": "2022-04-11T05:43:45.037Z"
   },
   {
    "duration": 4,
    "start_time": "2022-04-11T05:43:45.081Z"
   },
   {
    "duration": 84,
    "start_time": "2022-04-11T05:43:45.087Z"
   },
   {
    "duration": 6,
    "start_time": "2022-04-11T05:43:45.172Z"
   },
   {
    "duration": 5,
    "start_time": "2022-04-11T05:43:45.182Z"
   },
   {
    "duration": 46,
    "start_time": "2022-04-11T05:43:45.189Z"
   },
   {
    "duration": 36,
    "start_time": "2022-04-11T05:43:45.236Z"
   },
   {
    "duration": 8,
    "start_time": "2022-04-11T05:43:45.274Z"
   },
   {
    "duration": 11,
    "start_time": "2022-04-11T05:43:45.284Z"
   },
   {
    "duration": 8,
    "start_time": "2022-04-11T05:43:45.297Z"
   },
   {
    "duration": 32,
    "start_time": "2022-04-11T05:43:45.306Z"
   },
   {
    "duration": 11,
    "start_time": "2022-04-11T05:43:45.339Z"
   },
   {
    "duration": 23,
    "start_time": "2022-04-11T05:43:45.352Z"
   },
   {
    "duration": 18,
    "start_time": "2022-04-11T05:43:45.377Z"
   },
   {
    "duration": 27,
    "start_time": "2022-04-11T05:43:45.397Z"
   },
   {
    "duration": 24,
    "start_time": "2022-04-11T05:43:45.426Z"
   },
   {
    "duration": 21,
    "start_time": "2022-04-11T05:43:45.452Z"
   },
   {
    "duration": 4,
    "start_time": "2022-04-11T05:43:45.475Z"
   },
   {
    "duration": 13,
    "start_time": "2022-04-11T05:43:45.480Z"
   },
   {
    "duration": 4,
    "start_time": "2022-04-11T05:43:45.495Z"
   },
   {
    "duration": 614,
    "start_time": "2022-04-11T05:43:45.500Z"
   },
   {
    "duration": 9,
    "start_time": "2022-04-11T05:43:46.115Z"
   },
   {
    "duration": 12,
    "start_time": "2022-04-11T05:43:46.125Z"
   },
   {
    "duration": 9,
    "start_time": "2022-04-11T05:43:46.138Z"
   },
   {
    "duration": 6,
    "start_time": "2022-04-11T05:43:46.148Z"
   },
   {
    "duration": 3,
    "start_time": "2022-04-11T05:43:46.171Z"
   },
   {
    "duration": 205,
    "start_time": "2022-04-11T05:43:46.175Z"
   },
   {
    "duration": 7,
    "start_time": "2022-04-11T05:43:46.382Z"
   },
   {
    "duration": 10,
    "start_time": "2022-04-11T05:43:46.391Z"
   },
   {
    "duration": 7,
    "start_time": "2022-04-11T05:43:46.402Z"
   },
   {
    "duration": 8,
    "start_time": "2022-04-11T05:43:46.410Z"
   },
   {
    "duration": 7,
    "start_time": "2022-04-11T05:43:46.420Z"
   },
   {
    "duration": 233,
    "start_time": "2022-04-11T05:43:46.428Z"
   },
   {
    "duration": 11,
    "start_time": "2022-04-11T05:43:46.662Z"
   },
   {
    "duration": 8,
    "start_time": "2022-04-11T05:43:46.675Z"
   },
   {
    "duration": 6,
    "start_time": "2022-04-11T05:43:46.685Z"
   },
   {
    "duration": 9,
    "start_time": "2022-04-11T05:43:46.693Z"
   },
   {
    "duration": 9,
    "start_time": "2022-04-11T05:43:46.703Z"
   },
   {
    "duration": 9,
    "start_time": "2022-04-11T05:43:46.713Z"
   },
   {
    "duration": 6,
    "start_time": "2022-04-11T05:44:35.473Z"
   },
   {
    "duration": 6,
    "start_time": "2022-04-11T05:44:40.468Z"
   },
   {
    "duration": 2059,
    "start_time": "2022-04-11T05:46:13.898Z"
   },
   {
    "duration": 11,
    "start_time": "2022-04-11T05:46:28.446Z"
   },
   {
    "duration": 21,
    "start_time": "2022-04-11T05:46:57.915Z"
   },
   {
    "duration": 23,
    "start_time": "2022-04-11T05:48:13.265Z"
   },
   {
    "duration": 30,
    "start_time": "2022-04-11T05:50:46.787Z"
   },
   {
    "duration": 90,
    "start_time": "2022-04-11T06:20:31.588Z"
   },
   {
    "duration": 9,
    "start_time": "2022-04-11T06:20:36.876Z"
   },
   {
    "duration": 771,
    "start_time": "2022-04-11T06:22:14.199Z"
   },
   {
    "duration": 146,
    "start_time": "2022-04-11T06:22:14.972Z"
   },
   {
    "duration": 14,
    "start_time": "2022-04-11T06:22:15.122Z"
   },
   {
    "duration": 133,
    "start_time": "2022-04-11T06:22:15.137Z"
   },
   {
    "duration": 8,
    "start_time": "2022-04-11T06:22:15.272Z"
   },
   {
    "duration": 89,
    "start_time": "2022-04-11T06:22:15.281Z"
   },
   {
    "duration": 7,
    "start_time": "2022-04-11T06:22:15.372Z"
   },
   {
    "duration": 17,
    "start_time": "2022-04-11T06:22:15.380Z"
   },
   {
    "duration": 7,
    "start_time": "2022-04-11T06:22:15.399Z"
   },
   {
    "duration": 23,
    "start_time": "2022-04-11T06:22:15.407Z"
   },
   {
    "duration": 5,
    "start_time": "2022-04-11T06:22:15.432Z"
   },
   {
    "duration": 11,
    "start_time": "2022-04-11T06:22:15.438Z"
   },
   {
    "duration": 20,
    "start_time": "2022-04-11T06:22:15.450Z"
   },
   {
    "duration": 102,
    "start_time": "2022-04-11T06:22:15.472Z"
   },
   {
    "duration": 35,
    "start_time": "2022-04-11T06:22:15.576Z"
   },
   {
    "duration": 6,
    "start_time": "2022-04-11T06:22:15.613Z"
   },
   {
    "duration": 25,
    "start_time": "2022-04-11T06:22:15.620Z"
   },
   {
    "duration": 6,
    "start_time": "2022-04-11T06:22:15.646Z"
   },
   {
    "duration": 12,
    "start_time": "2022-04-11T06:22:15.671Z"
   },
   {
    "duration": 28,
    "start_time": "2022-04-11T06:22:15.684Z"
   },
   {
    "duration": 6,
    "start_time": "2022-04-11T06:22:15.713Z"
   },
   {
    "duration": 5,
    "start_time": "2022-04-11T06:22:15.720Z"
   },
   {
    "duration": 20,
    "start_time": "2022-04-11T06:22:15.726Z"
   },
   {
    "duration": 50,
    "start_time": "2022-04-11T06:22:15.748Z"
   },
   {
    "duration": 3,
    "start_time": "2022-04-11T06:22:15.800Z"
   },
   {
    "duration": 107,
    "start_time": "2022-04-11T06:22:15.805Z"
   },
   {
    "duration": 6,
    "start_time": "2022-04-11T06:22:15.916Z"
   },
   {
    "duration": 7,
    "start_time": "2022-04-11T06:22:15.923Z"
   },
   {
    "duration": 58,
    "start_time": "2022-04-11T06:22:15.932Z"
   },
   {
    "duration": 10,
    "start_time": "2022-04-11T06:22:15.992Z"
   },
   {
    "duration": 8,
    "start_time": "2022-04-11T06:22:16.003Z"
   },
   {
    "duration": 11,
    "start_time": "2022-04-11T06:22:16.012Z"
   },
   {
    "duration": 8,
    "start_time": "2022-04-11T06:22:16.024Z"
   },
   {
    "duration": 52,
    "start_time": "2022-04-11T06:22:16.034Z"
   },
   {
    "duration": 12,
    "start_time": "2022-04-11T06:22:16.088Z"
   },
   {
    "duration": 8,
    "start_time": "2022-04-11T06:22:16.101Z"
   },
   {
    "duration": 6,
    "start_time": "2022-04-11T06:22:16.111Z"
   },
   {
    "duration": 8,
    "start_time": "2022-04-11T06:22:16.119Z"
   },
   {
    "duration": 9,
    "start_time": "2022-04-11T06:22:16.128Z"
   },
   {
    "duration": 37,
    "start_time": "2022-04-11T06:22:16.138Z"
   },
   {
    "duration": 5,
    "start_time": "2022-04-11T06:22:16.177Z"
   },
   {
    "duration": 6,
    "start_time": "2022-04-11T06:22:16.183Z"
   },
   {
    "duration": 6,
    "start_time": "2022-04-11T06:22:16.190Z"
   },
   {
    "duration": 435,
    "start_time": "2022-04-11T06:22:16.197Z"
   },
   {
    "duration": 9,
    "start_time": "2022-04-11T06:22:16.634Z"
   },
   {
    "duration": 8,
    "start_time": "2022-04-11T06:22:16.645Z"
   },
   {
    "duration": 3,
    "start_time": "2022-04-11T06:22:16.670Z"
   },
   {
    "duration": 6,
    "start_time": "2022-04-11T06:22:16.675Z"
   },
   {
    "duration": 6,
    "start_time": "2022-04-11T06:22:16.682Z"
   },
   {
    "duration": 202,
    "start_time": "2022-04-11T06:22:16.689Z"
   },
   {
    "duration": 8,
    "start_time": "2022-04-11T06:22:16.893Z"
   },
   {
    "duration": 6,
    "start_time": "2022-04-11T06:22:16.903Z"
   },
   {
    "duration": 5,
    "start_time": "2022-04-11T06:22:16.910Z"
   },
   {
    "duration": 4,
    "start_time": "2022-04-11T06:22:16.916Z"
   },
   {
    "duration": 4,
    "start_time": "2022-04-11T06:22:16.922Z"
   },
   {
    "duration": 234,
    "start_time": "2022-04-11T06:22:16.928Z"
   },
   {
    "duration": 8,
    "start_time": "2022-04-11T06:22:17.163Z"
   },
   {
    "duration": 4,
    "start_time": "2022-04-11T06:22:17.172Z"
   },
   {
    "duration": 7,
    "start_time": "2022-04-11T06:22:17.178Z"
   },
   {
    "duration": 8,
    "start_time": "2022-04-11T06:22:17.187Z"
   },
   {
    "duration": 6,
    "start_time": "2022-04-11T06:22:17.197Z"
   },
   {
    "duration": 10,
    "start_time": "2022-04-11T06:22:17.204Z"
   }
  ],
  "kernelspec": {
   "display_name": "Python 3 (ipykernel)",
   "language": "python",
   "name": "python3"
  },
  "language_info": {
   "codemirror_mode": {
    "name": "ipython",
    "version": 3
   },
   "file_extension": ".py",
   "mimetype": "text/x-python",
   "name": "python",
   "nbconvert_exporter": "python",
   "pygments_lexer": "ipython3",
   "version": "3.9.7"
  },
  "toc": {
   "base_numbering": 1,
   "nav_menu": {},
   "number_sections": true,
   "sideBar": true,
   "skip_h1_title": true,
   "title_cell": "Table of Contents",
   "title_sidebar": "Contents",
   "toc_cell": false,
   "toc_position": {
    "height": "calc(100% - 180px)",
    "left": "10px",
    "top": "150px",
    "width": "165px"
   },
   "toc_section_display": true,
   "toc_window_display": true
  }
 },
 "nbformat": 4,
 "nbformat_minor": 2
}
