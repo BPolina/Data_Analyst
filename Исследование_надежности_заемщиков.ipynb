{
 "cells": [
  {
   "cell_type": "markdown",
   "id": "733d9737",
   "metadata": {},
   "source": [
    "# Исследование надежности заемщиков."
   ]
  },
  {
   "cell_type": "markdown",
   "id": "1f9bf946",
   "metadata": {},
   "source": [
    "Цель проекта - определить какие факторы влияют на погашение кредита в срок. \n",
    "\n",
    "Задачи проекта: \n",
    "1. Изучить данные банка  - статистику о платежеспособности клиентов.\n",
    "2. Проработать данные.\n",
    "3. Подтвердить или опровергнуть:\n",
    "\n",
    "•   Есть ли зависимость между количеством детей и возвратом кредита в срок?\n",
    "\n",
    "•\tЕсть ли зависимость между семейным положением и возвратом кредита в срок?\n",
    "\n",
    "•\tЕсть ли зависимость между уровнем дохода и возвратом кредита в срок?\n",
    "\n",
    "•\tКак разные цели кредита влияют на его возврат в срок?"
   ]
  },
  {
   "cell_type": "markdown",
   "id": "041803aa",
   "metadata": {},
   "source": [
    "### Шаг 1. Обзор данных"
   ]
  },
  {
   "cell_type": "markdown",
   "id": "b15f9200",
   "metadata": {},
   "source": [
    "Открытие данных и прочтение информации из выгрузки. "
   ]
  },
  {
   "cell_type": "code",
   "execution_count": 1,
   "id": "ec50eb09",
   "metadata": {
    "scrolled": true
   },
   "outputs": [
    {
     "name": "stdout",
     "output_type": "stream",
     "text": [
      "<class 'pandas.core.frame.DataFrame'>\n",
      "RangeIndex: 21525 entries, 0 to 21524\n",
      "Data columns (total 12 columns):\n",
      "children            21525 non-null int64\n",
      "days_employed       19351 non-null float64\n",
      "dob_years           21525 non-null int64\n",
      "education           21525 non-null object\n",
      "education_id        21525 non-null int64\n",
      "family_status       21525 non-null object\n",
      "family_status_id    21525 non-null int64\n",
      "gender              21525 non-null object\n",
      "income_type         21525 non-null object\n",
      "debt                21525 non-null int64\n",
      "total_income        19351 non-null float64\n",
      "purpose             21525 non-null object\n",
      "dtypes: float64(2), int64(5), object(5)\n",
      "memory usage: 2.0+ MB\n"
     ]
    }
   ],
   "source": [
    "import pandas as pd\n",
    "data = pd.read_csv('/datasets/data.csv')\n",
    "data.info()"
   ]
  },
  {
   "cell_type": "code",
   "execution_count": 2,
   "id": "1bc77e6a",
   "metadata": {},
   "outputs": [
    {
     "data": {
      "text/html": [
       "<div>\n",
       "<style scoped>\n",
       "    .dataframe tbody tr th:only-of-type {\n",
       "        vertical-align: middle;\n",
       "    }\n",
       "\n",
       "    .dataframe tbody tr th {\n",
       "        vertical-align: top;\n",
       "    }\n",
       "\n",
       "    .dataframe thead th {\n",
       "        text-align: right;\n",
       "    }\n",
       "</style>\n",
       "<table border=\"1\" class=\"dataframe\">\n",
       "  <thead>\n",
       "    <tr style=\"text-align: right;\">\n",
       "      <th></th>\n",
       "      <th>children</th>\n",
       "      <th>days_employed</th>\n",
       "      <th>dob_years</th>\n",
       "      <th>education</th>\n",
       "      <th>education_id</th>\n",
       "      <th>family_status</th>\n",
       "      <th>family_status_id</th>\n",
       "      <th>gender</th>\n",
       "      <th>income_type</th>\n",
       "      <th>debt</th>\n",
       "      <th>total_income</th>\n",
       "      <th>purpose</th>\n",
       "    </tr>\n",
       "  </thead>\n",
       "  <tbody>\n",
       "    <tr>\n",
       "      <td>0</td>\n",
       "      <td>1</td>\n",
       "      <td>-8437.673028</td>\n",
       "      <td>42</td>\n",
       "      <td>высшее</td>\n",
       "      <td>0</td>\n",
       "      <td>женат / замужем</td>\n",
       "      <td>0</td>\n",
       "      <td>F</td>\n",
       "      <td>сотрудник</td>\n",
       "      <td>0</td>\n",
       "      <td>253875.639453</td>\n",
       "      <td>покупка жилья</td>\n",
       "    </tr>\n",
       "    <tr>\n",
       "      <td>1</td>\n",
       "      <td>1</td>\n",
       "      <td>-4024.803754</td>\n",
       "      <td>36</td>\n",
       "      <td>среднее</td>\n",
       "      <td>1</td>\n",
       "      <td>женат / замужем</td>\n",
       "      <td>0</td>\n",
       "      <td>F</td>\n",
       "      <td>сотрудник</td>\n",
       "      <td>0</td>\n",
       "      <td>112080.014102</td>\n",
       "      <td>приобретение автомобиля</td>\n",
       "    </tr>\n",
       "    <tr>\n",
       "      <td>2</td>\n",
       "      <td>0</td>\n",
       "      <td>-5623.422610</td>\n",
       "      <td>33</td>\n",
       "      <td>Среднее</td>\n",
       "      <td>1</td>\n",
       "      <td>женат / замужем</td>\n",
       "      <td>0</td>\n",
       "      <td>M</td>\n",
       "      <td>сотрудник</td>\n",
       "      <td>0</td>\n",
       "      <td>145885.952297</td>\n",
       "      <td>покупка жилья</td>\n",
       "    </tr>\n",
       "    <tr>\n",
       "      <td>3</td>\n",
       "      <td>3</td>\n",
       "      <td>-4124.747207</td>\n",
       "      <td>32</td>\n",
       "      <td>среднее</td>\n",
       "      <td>1</td>\n",
       "      <td>женат / замужем</td>\n",
       "      <td>0</td>\n",
       "      <td>M</td>\n",
       "      <td>сотрудник</td>\n",
       "      <td>0</td>\n",
       "      <td>267628.550329</td>\n",
       "      <td>дополнительное образование</td>\n",
       "    </tr>\n",
       "    <tr>\n",
       "      <td>4</td>\n",
       "      <td>0</td>\n",
       "      <td>340266.072047</td>\n",
       "      <td>53</td>\n",
       "      <td>среднее</td>\n",
       "      <td>1</td>\n",
       "      <td>гражданский брак</td>\n",
       "      <td>1</td>\n",
       "      <td>F</td>\n",
       "      <td>пенсионер</td>\n",
       "      <td>0</td>\n",
       "      <td>158616.077870</td>\n",
       "      <td>сыграть свадьбу</td>\n",
       "    </tr>\n",
       "  </tbody>\n",
       "</table>\n",
       "</div>"
      ],
      "text/plain": [
       "   children  days_employed  dob_years education  education_id  \\\n",
       "0         1   -8437.673028         42    высшее             0   \n",
       "1         1   -4024.803754         36   среднее             1   \n",
       "2         0   -5623.422610         33   Среднее             1   \n",
       "3         3   -4124.747207         32   среднее             1   \n",
       "4         0  340266.072047         53   среднее             1   \n",
       "\n",
       "      family_status  family_status_id gender income_type  debt   total_income  \\\n",
       "0   женат / замужем                 0      F   сотрудник     0  253875.639453   \n",
       "1   женат / замужем                 0      F   сотрудник     0  112080.014102   \n",
       "2   женат / замужем                 0      M   сотрудник     0  145885.952297   \n",
       "3   женат / замужем                 0      M   сотрудник     0  267628.550329   \n",
       "4  гражданский брак                 1      F   пенсионер     0  158616.077870   \n",
       "\n",
       "                      purpose  \n",
       "0               покупка жилья  \n",
       "1     приобретение автомобиля  \n",
       "2               покупка жилья  \n",
       "3  дополнительное образование  \n",
       "4             сыграть свадьбу  "
      ]
     },
     "execution_count": 2,
     "metadata": {},
     "output_type": "execute_result"
    }
   ],
   "source": [
    "data.head(5)"
   ]
  },
  {
   "cell_type": "markdown",
   "id": "b8b674e1",
   "metadata": {},
   "source": [
    "Файл содежит 21525 записей, 12 колонок с разным типом данных. Заголовки написаны по правилам, изменение не требуется. \n",
    "Имеются пропуски данных в снескольких столбцах: days_employed (общий трудовой стаж в днях) - 2174, total_income(ежемесячный доход) - 2174.\n"
   ]
  },
  {
   "cell_type": "markdown",
   "id": "42c273d8",
   "metadata": {},
   "source": [
    "Данные c пропущенными значениями в двух столбцах относятся к количественным. Работа с пропусками в подобных случаях отличается от работы с пропусками в категориальных переменных. Как правило пропуски количественных переменнх заполняют характерными значениями по выборке. "
   ]
  },
  {
   "cell_type": "markdown",
   "id": "453e71e1",
   "metadata": {},
   "source": [
    "### Шаг 2.1 Заполнение пропусков"
   ]
  },
  {
   "cell_type": "markdown",
   "id": "3d2de6b8",
   "metadata": {},
   "source": [
    "Для определения метода замены пропусков применяем методы описательной статистики. Минимум, максимум, среднее и медиану. \n",
    "Помимо этого проверяем другие столбцы на аномалии.  "
   ]
  },
  {
   "cell_type": "code",
   "execution_count": 3,
   "id": "99d5fa0f",
   "metadata": {
    "scrolled": false
   },
   "outputs": [
    {
     "data": {
      "text/plain": [
       "-18388.949900568383"
      ]
     },
     "execution_count": 3,
     "metadata": {},
     "output_type": "execute_result"
    }
   ],
   "source": [
    "data['days_employed'].min() #минимальный стажи"
   ]
  },
  {
   "cell_type": "markdown",
   "id": "14f4375e",
   "metadata": {},
   "source": [
    "Подробнее смотрим возникшую аномалию"
   ]
  },
  {
   "cell_type": "code",
   "execution_count": 4,
   "id": "7615b553",
   "metadata": {
    "scrolled": false
   },
   "outputs": [
    {
     "data": {
      "text/html": [
       "<div>\n",
       "<style scoped>\n",
       "    .dataframe tbody tr th:only-of-type {\n",
       "        vertical-align: middle;\n",
       "    }\n",
       "\n",
       "    .dataframe tbody tr th {\n",
       "        vertical-align: top;\n",
       "    }\n",
       "\n",
       "    .dataframe thead th {\n",
       "        text-align: right;\n",
       "    }\n",
       "</style>\n",
       "<table border=\"1\" class=\"dataframe\">\n",
       "  <thead>\n",
       "    <tr style=\"text-align: right;\">\n",
       "      <th></th>\n",
       "      <th>children</th>\n",
       "      <th>days_employed</th>\n",
       "      <th>dob_years</th>\n",
       "      <th>education</th>\n",
       "      <th>education_id</th>\n",
       "      <th>family_status</th>\n",
       "      <th>family_status_id</th>\n",
       "      <th>gender</th>\n",
       "      <th>income_type</th>\n",
       "      <th>debt</th>\n",
       "      <th>total_income</th>\n",
       "      <th>purpose</th>\n",
       "    </tr>\n",
       "  </thead>\n",
       "  <tbody>\n",
       "    <tr>\n",
       "      <td>16335</td>\n",
       "      <td>1</td>\n",
       "      <td>-18388.949901</td>\n",
       "      <td>61</td>\n",
       "      <td>среднее</td>\n",
       "      <td>1</td>\n",
       "      <td>женат / замужем</td>\n",
       "      <td>0</td>\n",
       "      <td>F</td>\n",
       "      <td>сотрудник</td>\n",
       "      <td>0</td>\n",
       "      <td>186178.934089</td>\n",
       "      <td>операции с недвижимостью</td>\n",
       "    </tr>\n",
       "  </tbody>\n",
       "</table>\n",
       "</div>"
      ],
      "text/plain": [
       "       children  days_employed  dob_years education  education_id  \\\n",
       "16335         1  -18388.949901         61   среднее             1   \n",
       "\n",
       "         family_status  family_status_id gender income_type  debt  \\\n",
       "16335  женат / замужем                 0      F   сотрудник     0   \n",
       "\n",
       "        total_income                   purpose  \n",
       "16335  186178.934089  операции с недвижимостью  "
      ]
     },
     "execution_count": 4,
     "metadata": {},
     "output_type": "execute_result"
    }
   ],
   "source": [
    "data.loc[data['days_employed'] == data['days_employed'].min()]"
   ]
  },
  {
   "cell_type": "code",
   "execution_count": 5,
   "id": "a2fd59c5",
   "metadata": {
    "scrolled": true
   },
   "outputs": [
    {
     "data": {
      "text/plain": [
       "401755.40047533"
      ]
     },
     "execution_count": 5,
     "metadata": {},
     "output_type": "execute_result"
    }
   ],
   "source": [
    "data['days_employed'].max() #максимальный стаж"
   ]
  },
  {
   "cell_type": "markdown",
   "id": "cbe5f2a5",
   "metadata": {},
   "source": [
    "Подробнее смотрим возникшую аномалию по всем параметрам таблицы"
   ]
  },
  {
   "cell_type": "code",
   "execution_count": 6,
   "id": "734ac758",
   "metadata": {
    "scrolled": true
   },
   "outputs": [
    {
     "data": {
      "text/html": [
       "<div>\n",
       "<style scoped>\n",
       "    .dataframe tbody tr th:only-of-type {\n",
       "        vertical-align: middle;\n",
       "    }\n",
       "\n",
       "    .dataframe tbody tr th {\n",
       "        vertical-align: top;\n",
       "    }\n",
       "\n",
       "    .dataframe thead th {\n",
       "        text-align: right;\n",
       "    }\n",
       "</style>\n",
       "<table border=\"1\" class=\"dataframe\">\n",
       "  <thead>\n",
       "    <tr style=\"text-align: right;\">\n",
       "      <th></th>\n",
       "      <th>children</th>\n",
       "      <th>days_employed</th>\n",
       "      <th>dob_years</th>\n",
       "      <th>education</th>\n",
       "      <th>education_id</th>\n",
       "      <th>family_status</th>\n",
       "      <th>family_status_id</th>\n",
       "      <th>gender</th>\n",
       "      <th>income_type</th>\n",
       "      <th>debt</th>\n",
       "      <th>total_income</th>\n",
       "      <th>purpose</th>\n",
       "    </tr>\n",
       "  </thead>\n",
       "  <tbody>\n",
       "    <tr>\n",
       "      <td>6954</td>\n",
       "      <td>0</td>\n",
       "      <td>401755.400475</td>\n",
       "      <td>56</td>\n",
       "      <td>среднее</td>\n",
       "      <td>1</td>\n",
       "      <td>вдовец / вдова</td>\n",
       "      <td>2</td>\n",
       "      <td>F</td>\n",
       "      <td>пенсионер</td>\n",
       "      <td>0</td>\n",
       "      <td>176278.441171</td>\n",
       "      <td>ремонт жилью</td>\n",
       "    </tr>\n",
       "  </tbody>\n",
       "</table>\n",
       "</div>"
      ],
      "text/plain": [
       "      children  days_employed  dob_years education  education_id  \\\n",
       "6954         0  401755.400475         56   среднее             1   \n",
       "\n",
       "       family_status  family_status_id gender income_type  debt  \\\n",
       "6954  вдовец / вдова                 2      F   пенсионер     0   \n",
       "\n",
       "       total_income       purpose  \n",
       "6954  176278.441171  ремонт жилью  "
      ]
     },
     "execution_count": 6,
     "metadata": {},
     "output_type": "execute_result"
    }
   ],
   "source": [
    "data.loc[data['days_employed'] == data['days_employed'].max()]"
   ]
  },
  {
   "cell_type": "code",
   "execution_count": 7,
   "id": "4b0f8f97",
   "metadata": {},
   "outputs": [
    {
     "data": {
      "text/plain": [
       "63046.49766147338"
      ]
     },
     "execution_count": 7,
     "metadata": {},
     "output_type": "execute_result"
    }
   ],
   "source": [
    "data['days_employed'].mean() #среднее значение "
   ]
  },
  {
   "cell_type": "code",
   "execution_count": 8,
   "id": "47aa9df4",
   "metadata": {
    "scrolled": true
   },
   "outputs": [
    {
     "data": {
      "text/plain": [
       "-1203.369528770489"
      ]
     },
     "execution_count": 8,
     "metadata": {},
     "output_type": "execute_result"
    }
   ],
   "source": [
    "data['days_employed'].median() #медиана"
   ]
  },
  {
   "cell_type": "markdown",
   "id": "77d03138",
   "metadata": {},
   "source": [
    "Медианное значение по столбцу days_employed - отрицательное, что не характерно для данного показателя. Возможно, отрицательные значения возникли из-за разницы в учетных системах. Предположим, что трудовой стаж мужчины:47 лет (с 18 по 65). В год - количество рабочих дней примерно  - 247 дней. При переводе в часы получается 92 879 часов (47 лет * 247 раб. дней * 8 часовой день ). У женщин: 37 лет, 9 139 рабочих дней и 73 112 раб. часа.  \n",
    "Тогда часть данных отражена в часах, а часть данных в днях. Например максимальное значение соответсвует 401 755 / 11 609 = 34,58 года, трудовой стаж женщин - 37 лет (данные в меньшую сторону могут быть обусловлены местом работы, выход на пенсию ранее, ну или это данные до реформы в пенсинной системе).\n",
    "\n",
    "Поскольку предстоит проработка трудового стажа, на мой вгляд, сначала необходимо взглянуть на столбец возраста клиента, выявить в нем аномалии. Т.к. трудовой стаж напрмую зависит от возраста клиента. "
   ]
  },
  {
   "cell_type": "code",
   "execution_count": 9,
   "id": "7283d9ed",
   "metadata": {},
   "outputs": [],
   "source": [
    "for old in data['dob_years'].unique(): # цикла замены 0 значений по медиане возраста\n",
    "    median = data.loc[data['dob_years'] == old, 'dob_years'].median() \n",
    "    data.loc[(data['days_employed'].isna()) & (data['days_employed'] == old), 'days_employed'] = median"
   ]
  },
  {
   "cell_type": "code",
   "execution_count": 10,
   "id": "86e30b32",
   "metadata": {
    "scrolled": true
   },
   "outputs": [
    {
     "data": {
      "text/plain": [
       "income_type\n",
       "безработный        38.0\n",
       "в декрете          39.0\n",
       "госслужащий        40.0\n",
       "компаньон          39.0\n",
       "пенсионер          60.0\n",
       "предприниматель    42.5\n",
       "сотрудник          39.0\n",
       "студент            22.0\n",
       "Name: dob_years, dtype: float64"
      ]
     },
     "execution_count": 10,
     "metadata": {},
     "output_type": "execute_result"
    }
   ],
   "source": [
    "data.groupby('income_type')['dob_years'].median()"
   ]
  },
  {
   "cell_type": "markdown",
   "id": "f2c7000f",
   "metadata": {},
   "source": [
    "После проработки столбца с возрастом клиентов, прорабатывем данные с пропусками по  трудовому стажу. Применяя функцию abs() - \n",
    "для избавления от отрицательных значений. Применяя расчеты по средним данным ((11609+9139)/2) трудовому стажу для мужчин и женщин в днях."
   ]
  },
  {
   "cell_type": "code",
   "execution_count": 11,
   "id": "47ab3179",
   "metadata": {},
   "outputs": [],
   "source": [
    "data['days_employed'] = data['days_employed'].apply(abs) # значения по модулю, избавление от отрицательных значений \n",
    "data.loc[data['days_employed'].isna(), 'days_employed'] = data['days_employed'] > 10374 / 24\n"
   ]
  },
  {
   "cell_type": "code",
   "execution_count": 12,
   "id": "d8f23093",
   "metadata": {},
   "outputs": [
    {
     "data": {
      "text/plain": [
       "0"
      ]
     },
     "execution_count": 12,
     "metadata": {},
     "output_type": "execute_result"
    }
   ],
   "source": [
    "data['days_employed'].isna().sum() #проверка пустых значение "
   ]
  },
  {
   "cell_type": "markdown",
   "id": "e5b8eef3",
   "metadata": {},
   "source": [
    "прорабтка данных по столбцу доходы клиентов, а именно работа с пропусками. Просмотр данных описательной статистики. "
   ]
  },
  {
   "cell_type": "code",
   "execution_count": 13,
   "id": "7d644c54",
   "metadata": {},
   "outputs": [
    {
     "data": {
      "text/plain": [
       "20667.26379327158"
      ]
     },
     "execution_count": 13,
     "metadata": {},
     "output_type": "execute_result"
    }
   ],
   "source": [
    "data['total_income'].min() #минимальный доход "
   ]
  },
  {
   "cell_type": "code",
   "execution_count": 14,
   "id": "040a1954",
   "metadata": {},
   "outputs": [
    {
     "data": {
      "text/plain": [
       "2265604.028722744"
      ]
     },
     "execution_count": 14,
     "metadata": {},
     "output_type": "execute_result"
    }
   ],
   "source": [
    "data['total_income'].max() #максимальный доход"
   ]
  },
  {
   "cell_type": "code",
   "execution_count": 15,
   "id": "3eb6defa",
   "metadata": {},
   "outputs": [
    {
     "data": {
      "text/plain": [
       "167422.30220817294"
      ]
     },
     "execution_count": 15,
     "metadata": {},
     "output_type": "execute_result"
    }
   ],
   "source": [
    "data['total_income'].mean() #средний доход"
   ]
  },
  {
   "cell_type": "code",
   "execution_count": 16,
   "id": "6571576e",
   "metadata": {
    "scrolled": true
   },
   "outputs": [
    {
     "data": {
      "text/plain": [
       "145017.93753253992"
      ]
     },
     "execution_count": 16,
     "metadata": {},
     "output_type": "execute_result"
    }
   ],
   "source": [
    "data['total_income'].median() #медиана по доходу "
   ]
  },
  {
   "cell_type": "code",
   "execution_count": 17,
   "id": "54bf2667",
   "metadata": {},
   "outputs": [
    {
     "data": {
      "text/plain": [
       "income_type\n",
       "безработный        131339.751676\n",
       "в декрете           53829.130729\n",
       "госслужащий        150447.935283\n",
       "компаньон          172357.950966\n",
       "пенсионер          118514.486412\n",
       "предприниматель    499163.144947\n",
       "сотрудник          142594.396847\n",
       "студент             98201.625314\n",
       "Name: total_income, dtype: float64"
      ]
     },
     "execution_count": 17,
     "metadata": {},
     "output_type": "execute_result"
    }
   ],
   "source": [
    "data.groupby('income_type')['total_income'].median()"
   ]
  },
  {
   "cell_type": "markdown",
   "id": "c6b22bb1",
   "metadata": {},
   "source": [
    "Простой заменой по среднему  - пропуски в столбце total_income нельзя, т.к. большой разрыв между минимальным и максимальным значением, а среднее значение не соответсвует медиане. Мединное значение по всему столбцу не целесобразно брать, так как медиана предпринимателя далека от медианы пенсионера. Поэтому замена пропусков в столбце total_income необходимо заменить медианой по типу занятости.     "
   ]
  },
  {
   "cell_type": "code",
   "execution_count": 18,
   "id": "3744f3fe",
   "metadata": {},
   "outputs": [],
   "source": [
    "for income in data['income_type'].unique():  #при помощи цикла замена значений 0 по медиане дохода столбца тип занятости \n",
    "    median = data.loc[data['income_type'] == income, 'total_income'].median() \n",
    "    data.loc[(data['total_income'].isna()) & (data['income_type'] == income), 'total_income'] = median "
   ]
  },
  {
   "cell_type": "markdown",
   "id": "03f05de5",
   "metadata": {},
   "source": [
    "Работа с аномалиями столбца количество детей. В данных столбца имеются логические ошибки, - 1 ребенка не может быть. Дети/ребенок есть или детей нет. Предположительно, -1 указано случайно или это тире. "
   ]
  },
  {
   "cell_type": "code",
   "execution_count": 19,
   "id": "08371699",
   "metadata": {},
   "outputs": [],
   "source": [
    "data['children'] = data['children'].replace(-1, 1) #замена количества -1 детей на 1"
   ]
  },
  {
   "cell_type": "code",
   "execution_count": 20,
   "id": "85f13e36",
   "metadata": {
    "scrolled": true
   },
   "outputs": [
    {
     "data": {
      "text/plain": [
       "20"
      ]
     },
     "execution_count": 20,
     "metadata": {},
     "output_type": "execute_result"
    }
   ],
   "source": [
    "data['children'].max() #максимальное количество детей "
   ]
  },
  {
   "cell_type": "markdown",
   "id": "f6d6b6b8",
   "metadata": {},
   "source": [
    "Предположительно это опечатка, расположение клавиш находится рядом, оформлена замена на 2 ребенка. "
   ]
  },
  {
   "cell_type": "code",
   "execution_count": 21,
   "id": "4158e037",
   "metadata": {},
   "outputs": [],
   "source": [
    "data['children'] = data['children'].replace(20, 2) #замена количества 20 детей на 2 "
   ]
  },
  {
   "cell_type": "markdown",
   "id": "f25f348b",
   "metadata": {},
   "source": [
    "### Шаг 2.2 Проверка данных на аномалии и исправления."
   ]
  },
  {
   "cell_type": "markdown",
   "id": "e78f2273",
   "metadata": {},
   "source": [
    "Проверка данных частично была оформлена при заполнении пропусков, а именно, были устранены аномалии возрасту с 0 значениями, стажу - с \"-\" значением, количеству детей - с значением - 1 и 20. "
   ]
  },
  {
   "cell_type": "markdown",
   "id": "7ce069ce",
   "metadata": {},
   "source": [
    "Просмотр столбца - пол, выявлена одна аноммалия, которая при удалении не повлияет на результаты. "
   ]
  },
  {
   "cell_type": "code",
   "execution_count": 22,
   "id": "9a87823a",
   "metadata": {},
   "outputs": [
    {
     "data": {
      "text/plain": [
       "array(['F', 'M', 'XNA'], dtype=object)"
      ]
     },
     "execution_count": 22,
     "metadata": {},
     "output_type": "execute_result"
    }
   ],
   "source": [
    "data['gender'].unique() "
   ]
  },
  {
   "cell_type": "code",
   "execution_count": 23,
   "id": "787b26f8",
   "metadata": {
    "scrolled": true
   },
   "outputs": [
    {
     "data": {
      "text/html": [
       "<div>\n",
       "<style scoped>\n",
       "    .dataframe tbody tr th:only-of-type {\n",
       "        vertical-align: middle;\n",
       "    }\n",
       "\n",
       "    .dataframe tbody tr th {\n",
       "        vertical-align: top;\n",
       "    }\n",
       "\n",
       "    .dataframe thead th {\n",
       "        text-align: right;\n",
       "    }\n",
       "</style>\n",
       "<table border=\"1\" class=\"dataframe\">\n",
       "  <thead>\n",
       "    <tr style=\"text-align: right;\">\n",
       "      <th></th>\n",
       "      <th>children</th>\n",
       "      <th>days_employed</th>\n",
       "      <th>dob_years</th>\n",
       "      <th>education</th>\n",
       "      <th>education_id</th>\n",
       "      <th>family_status</th>\n",
       "      <th>family_status_id</th>\n",
       "      <th>income_type</th>\n",
       "      <th>debt</th>\n",
       "      <th>total_income</th>\n",
       "      <th>purpose</th>\n",
       "    </tr>\n",
       "    <tr>\n",
       "      <th>gender</th>\n",
       "      <th></th>\n",
       "      <th></th>\n",
       "      <th></th>\n",
       "      <th></th>\n",
       "      <th></th>\n",
       "      <th></th>\n",
       "      <th></th>\n",
       "      <th></th>\n",
       "      <th></th>\n",
       "      <th></th>\n",
       "      <th></th>\n",
       "    </tr>\n",
       "  </thead>\n",
       "  <tbody>\n",
       "    <tr>\n",
       "      <td>F</td>\n",
       "      <td>14236</td>\n",
       "      <td>14236</td>\n",
       "      <td>14236</td>\n",
       "      <td>14236</td>\n",
       "      <td>14236</td>\n",
       "      <td>14236</td>\n",
       "      <td>14236</td>\n",
       "      <td>14236</td>\n",
       "      <td>14236</td>\n",
       "      <td>14236</td>\n",
       "      <td>14236</td>\n",
       "    </tr>\n",
       "    <tr>\n",
       "      <td>M</td>\n",
       "      <td>7288</td>\n",
       "      <td>7288</td>\n",
       "      <td>7288</td>\n",
       "      <td>7288</td>\n",
       "      <td>7288</td>\n",
       "      <td>7288</td>\n",
       "      <td>7288</td>\n",
       "      <td>7288</td>\n",
       "      <td>7288</td>\n",
       "      <td>7288</td>\n",
       "      <td>7288</td>\n",
       "    </tr>\n",
       "    <tr>\n",
       "      <td>XNA</td>\n",
       "      <td>1</td>\n",
       "      <td>1</td>\n",
       "      <td>1</td>\n",
       "      <td>1</td>\n",
       "      <td>1</td>\n",
       "      <td>1</td>\n",
       "      <td>1</td>\n",
       "      <td>1</td>\n",
       "      <td>1</td>\n",
       "      <td>1</td>\n",
       "      <td>1</td>\n",
       "    </tr>\n",
       "  </tbody>\n",
       "</table>\n",
       "</div>"
      ],
      "text/plain": [
       "        children  days_employed  dob_years  education  education_id  \\\n",
       "gender                                                                \n",
       "F          14236          14236      14236      14236         14236   \n",
       "M           7288           7288       7288       7288          7288   \n",
       "XNA            1              1          1          1             1   \n",
       "\n",
       "        family_status  family_status_id  income_type   debt  total_income  \\\n",
       "gender                                                                      \n",
       "F               14236             14236        14236  14236         14236   \n",
       "M                7288              7288         7288   7288          7288   \n",
       "XNA                 1                 1            1      1             1   \n",
       "\n",
       "        purpose  \n",
       "gender           \n",
       "F         14236  \n",
       "M          7288  \n",
       "XNA           1  "
      ]
     },
     "execution_count": 23,
     "metadata": {},
     "output_type": "execute_result"
    }
   ],
   "source": [
    "data.groupby('gender').count()"
   ]
  },
  {
   "cell_type": "code",
   "execution_count": 24,
   "id": "c5b45ad1",
   "metadata": {
    "scrolled": true
   },
   "outputs": [
    {
     "data": {
      "text/plain": [
       "10701    XNA\n",
       "Name: gender, dtype: object"
      ]
     },
     "execution_count": 24,
     "metadata": {},
     "output_type": "execute_result"
    }
   ],
   "source": [
    "data.loc[data['gender'] == 'XNA']['gender'] #находим строкув которой находится значение "
   ]
  },
  {
   "cell_type": "code",
   "execution_count": 25,
   "id": "705e7d38",
   "metadata": {},
   "outputs": [],
   "source": [
    "data = data.drop(index=[10701])#удаляем строчку"
   ]
  },
  {
   "cell_type": "code",
   "execution_count": 26,
   "id": "d89e77ab",
   "metadata": {},
   "outputs": [
    {
     "data": {
      "text/plain": [
       "array(['F', 'M'], dtype=object)"
      ]
     },
     "execution_count": 26,
     "metadata": {},
     "output_type": "execute_result"
    }
   ],
   "source": [
    "data['gender'].unique() #проверка строчку"
   ]
  },
  {
   "cell_type": "code",
   "execution_count": 27,
   "id": "46ef5ac8",
   "metadata": {
    "scrolled": false
   },
   "outputs": [
    {
     "data": {
      "text/plain": [
       "array(['женат / замужем', 'гражданский брак', 'вдовец / вдова',\n",
       "       'в разводе', 'Не женат / не замужем'], dtype=object)"
      ]
     },
     "execution_count": 27,
     "metadata": {},
     "output_type": "execute_result"
    }
   ],
   "source": [
    "data['family_status'].unique() #проверяем даннные по семейному статусу "
   ]
  },
  {
   "cell_type": "code",
   "execution_count": 28,
   "id": "83077338",
   "metadata": {
    "scrolled": false
   },
   "outputs": [
    {
     "data": {
      "text/plain": [
       "24       4\n",
       "29       4\n",
       "36       4\n",
       "38       4\n",
       "40       4\n",
       "        ..\n",
       "21480    4\n",
       "21488    4\n",
       "21500    4\n",
       "21512    4\n",
       "21514    4\n",
       "Name: family_status_id, Length: 2813, dtype: int64"
      ]
     },
     "execution_count": 28,
     "metadata": {},
     "output_type": "execute_result"
    }
   ],
   "source": [
    "data.loc[data['family_status'] == 'Не женат / не замужем']['family_status_id'] #находим строкув которой находится значение "
   ]
  },
  {
   "cell_type": "code",
   "execution_count": 29,
   "id": "214ecd23",
   "metadata": {},
   "outputs": [
    {
     "data": {
      "text/plain": [
       "array([0, 1, 2, 3, 4])"
      ]
     },
     "execution_count": 29,
     "metadata": {},
     "output_type": "execute_result"
    }
   ],
   "source": [
    "data['family_status_id'].unique()"
   ]
  },
  {
   "cell_type": "markdown",
   "id": "f275bc3c",
   "metadata": {},
   "source": [
    "### Шаг 2.3. Изменение типов данных."
   ]
  },
  {
   "cell_type": "markdown",
   "id": "fce82a7d",
   "metadata": {},
   "source": [
    "После замены пустых значений столбцы days_employed приобрел тип данных - object. Что в дальнейшем может привести к неожиданным результатам или неправильному результату. Для дальнейшего анализа нужно преобазовать тип."
   ]
  },
  {
   "cell_type": "code",
   "execution_count": 30,
   "id": "744d57c6",
   "metadata": {
    "scrolled": true
   },
   "outputs": [
    {
     "data": {
      "text/plain": [
       "children              int64\n",
       "days_employed        object\n",
       "dob_years             int64\n",
       "education            object\n",
       "education_id          int64\n",
       "family_status        object\n",
       "family_status_id      int64\n",
       "gender               object\n",
       "income_type          object\n",
       "debt                  int64\n",
       "total_income        float64\n",
       "purpose              object\n",
       "dtype: object"
      ]
     },
     "execution_count": 30,
     "metadata": {},
     "output_type": "execute_result"
    }
   ],
   "source": [
    "data.dtypes"
   ]
  },
  {
   "cell_type": "code",
   "execution_count": 31,
   "id": "f21e690d",
   "metadata": {},
   "outputs": [],
   "source": [
    "data['days_employed'] = data['days_employed'].astype('int') #преобразование через astype "
   ]
  },
  {
   "cell_type": "code",
   "execution_count": 32,
   "id": "09b9f8d0",
   "metadata": {},
   "outputs": [],
   "source": [
    "data['total_income'] = data['total_income'].astype('int') #преобразование через astype "
   ]
  },
  {
   "cell_type": "code",
   "execution_count": 33,
   "id": "23986dc6",
   "metadata": {},
   "outputs": [
    {
     "data": {
      "text/plain": [
       "children             int64\n",
       "days_employed        int64\n",
       "dob_years            int64\n",
       "education           object\n",
       "education_id         int64\n",
       "family_status       object\n",
       "family_status_id     int64\n",
       "gender              object\n",
       "income_type         object\n",
       "debt                 int64\n",
       "total_income         int64\n",
       "purpose             object\n",
       "dtype: object"
      ]
     },
     "execution_count": 33,
     "metadata": {},
     "output_type": "execute_result"
    }
   ],
   "source": [
    "data.dtypes #проверка результата "
   ]
  },
  {
   "cell_type": "markdown",
   "id": "1ba1cff5",
   "metadata": {},
   "source": [
    "### Шаг 2.4. Удаление дубликатов."
   ]
  },
  {
   "cell_type": "markdown",
   "id": "090c69f1",
   "metadata": {},
   "source": [
    "При проверке других столбцов были выявлены неявные дублика (регистр) "
   ]
  },
  {
   "cell_type": "code",
   "execution_count": 34,
   "id": "7145e69b",
   "metadata": {
    "scrolled": false
   },
   "outputs": [
    {
     "data": {
      "text/plain": [
       "array(['высшее', 'среднее', 'Среднее', 'СРЕДНЕЕ', 'ВЫСШЕЕ',\n",
       "       'неоконченное высшее', 'начальное', 'Высшее',\n",
       "       'НЕОКОНЧЕННОЕ ВЫСШЕЕ', 'Неоконченное высшее', 'НАЧАЛЬНОЕ',\n",
       "       'Начальное', 'Ученая степень', 'УЧЕНАЯ СТЕПЕНЬ', 'ученая степень'],\n",
       "      dtype=object)"
      ]
     },
     "execution_count": 34,
     "metadata": {},
     "output_type": "execute_result"
    }
   ],
   "source": [
    "data['education'].unique()#просмотр уникальных значений "
   ]
  },
  {
   "cell_type": "markdown",
   "id": "fbe834ca",
   "metadata": {},
   "source": [
    "def replace_wrong_education(wrong_education, correct_education):# Функция для замены неявных дубликатов\n",
    "    mhfor index in wrong_education:\n",
    "        data['education'] = data['education'].replace(wrong_education, correct_education)  \n",
    "        \n",
    "duplicates  = ['ВЫСШЕЕ', 'Высшее']#выбраны неявные дубликаты \n",
    "correct_name = 'высшее'#единственное значение\n",
    "\n",
    "replace_wrong_education(duplicates, correct_name)\n",
    "\n",
    "duplicates  = ['СРЕДНЕЕ', 'Среднее']\n",
    "correct_name = 'среднее'\n",
    "\n",
    "replace_wrong_education(duplicates, correct_name)\n",
    "\n",
    "duplicates  = ['НАЧАЛЬНОЕ', 'Начальное']\n",
    "correct_name = 'начальное'\n",
    "\n",
    "replace_wrong_education(duplicates, correct_name)\n",
    "\n",
    "\n",
    "duplicates  = ['НЕОКОНЧЕННОЕ ВЫСШЕЕ', 'Неоконченное высшее']\n",
    "correct_name = 'неоконченное высшее'\n",
    "\n",
    "replace_wrong_education(duplicates, correct_name)\n",
    "\n",
    "duplicates  = ['УЧЕНАЯ СТЕПЕНЬ', 'Ученая степень']\n",
    "correct_name = 'ученая степень'\n",
    "\n",
    "replace_wrong_education(duplicates, correct_name)"
   ]
  },
  {
   "cell_type": "code",
   "execution_count": 35,
   "id": "7df7078d",
   "metadata": {},
   "outputs": [],
   "source": [
    "data['education'] = data['education'].str.lower()"
   ]
  },
  {
   "cell_type": "code",
   "execution_count": 36,
   "id": "93c01c26",
   "metadata": {},
   "outputs": [
    {
     "data": {
      "text/plain": [
       "array(['высшее', 'среднее', 'неоконченное высшее', 'начальное',\n",
       "       'ученая степень'], dtype=object)"
      ]
     },
     "execution_count": 36,
     "metadata": {},
     "output_type": "execute_result"
    }
   ],
   "source": [
    "data['education'].unique()#проверка "
   ]
  },
  {
   "cell_type": "code",
   "execution_count": 37,
   "id": "b3f83a1b",
   "metadata": {
    "scrolled": true
   },
   "outputs": [
    {
     "data": {
      "text/plain": [
       "array(['покупка жилья', 'приобретение автомобиля',\n",
       "       'дополнительное образование', 'сыграть свадьбу',\n",
       "       'операции с жильем', 'образование', 'на проведение свадьбы',\n",
       "       'покупка жилья для семьи', 'покупка недвижимости',\n",
       "       'покупка коммерческой недвижимости', 'покупка жилой недвижимости',\n",
       "       'строительство собственной недвижимости', 'недвижимость',\n",
       "       'строительство недвижимости', 'на покупку подержанного автомобиля',\n",
       "       'на покупку своего автомобиля',\n",
       "       'операции с коммерческой недвижимостью',\n",
       "       'строительство жилой недвижимости', 'жилье',\n",
       "       'операции со своей недвижимостью', 'автомобили',\n",
       "       'заняться образованием', 'сделка с подержанным автомобилем',\n",
       "       'получение образования', 'автомобиль', 'свадьба',\n",
       "       'получение дополнительного образования', 'покупка своего жилья',\n",
       "       'операции с недвижимостью', 'получение высшего образования',\n",
       "       'свой автомобиль', 'сделка с автомобилем',\n",
       "       'профильное образование', 'высшее образование',\n",
       "       'покупка жилья для сдачи', 'на покупку автомобиля', 'ремонт жилью',\n",
       "       'заняться высшим образованием'], dtype=object)"
      ]
     },
     "execution_count": 37,
     "metadata": {},
     "output_type": "execute_result"
    }
   ],
   "source": [
    "data['purpose'].unique() #просмотр уникальных значений "
   ]
  },
  {
   "cell_type": "markdown",
   "id": "40fbe9da",
   "metadata": {},
   "source": [
    "В данных по столбцу purpose  много однокренных слов, слов и выражений описывающих одно и то же. Возможно, при заявке на кредит нет введенной формы и каждый человек заполняет по образцу. Для упрощения, неявные дубликаты можно обединить.  "
   ]
  },
  {
   "cell_type": "code",
   "execution_count": 38,
   "id": "9ccd4f72",
   "metadata": {},
   "outputs": [],
   "source": [
    "def purpose_category (cell):\n",
    "    if  'авто' in cell:\n",
    "        return 'операции с автомобилем'\n",
    "    elif 'недвиж' in cell or 'жиль' in cell:\n",
    "        return 'операции с недвижимостью'\n",
    "    elif 'свадьб' in cell:\n",
    "        return 'проведение свадьбы'\n",
    "    elif 'образо' in cell:\n",
    "        return 'получение образования'\n",
    "\n",
    "data['purpose_category'] = data['purpose'].apply(purpose_category)"
   ]
  },
  {
   "cell_type": "code",
   "execution_count": 39,
   "id": "dfa939bd",
   "metadata": {},
   "outputs": [
    {
     "data": {
      "text/html": [
       "<div>\n",
       "<style scoped>\n",
       "    .dataframe tbody tr th:only-of-type {\n",
       "        vertical-align: middle;\n",
       "    }\n",
       "\n",
       "    .dataframe tbody tr th {\n",
       "        vertical-align: top;\n",
       "    }\n",
       "\n",
       "    .dataframe thead th {\n",
       "        text-align: right;\n",
       "    }\n",
       "</style>\n",
       "<table border=\"1\" class=\"dataframe\">\n",
       "  <thead>\n",
       "    <tr style=\"text-align: right;\">\n",
       "      <th></th>\n",
       "      <th>purpose</th>\n",
       "      <th>purpose_category</th>\n",
       "    </tr>\n",
       "  </thead>\n",
       "  <tbody>\n",
       "    <tr>\n",
       "      <td>0</td>\n",
       "      <td>покупка жилья</td>\n",
       "      <td>операции с недвижимостью</td>\n",
       "    </tr>\n",
       "    <tr>\n",
       "      <td>1</td>\n",
       "      <td>приобретение автомобиля</td>\n",
       "      <td>операции с автомобилем</td>\n",
       "    </tr>\n",
       "    <tr>\n",
       "      <td>2</td>\n",
       "      <td>покупка жилья</td>\n",
       "      <td>операции с недвижимостью</td>\n",
       "    </tr>\n",
       "    <tr>\n",
       "      <td>3</td>\n",
       "      <td>дополнительное образование</td>\n",
       "      <td>получение образования</td>\n",
       "    </tr>\n",
       "    <tr>\n",
       "      <td>4</td>\n",
       "      <td>сыграть свадьбу</td>\n",
       "      <td>проведение свадьбы</td>\n",
       "    </tr>\n",
       "    <tr>\n",
       "      <td>5</td>\n",
       "      <td>покупка жилья</td>\n",
       "      <td>операции с недвижимостью</td>\n",
       "    </tr>\n",
       "    <tr>\n",
       "      <td>6</td>\n",
       "      <td>операции с жильем</td>\n",
       "      <td>операции с недвижимостью</td>\n",
       "    </tr>\n",
       "    <tr>\n",
       "      <td>7</td>\n",
       "      <td>образование</td>\n",
       "      <td>получение образования</td>\n",
       "    </tr>\n",
       "    <tr>\n",
       "      <td>8</td>\n",
       "      <td>на проведение свадьбы</td>\n",
       "      <td>проведение свадьбы</td>\n",
       "    </tr>\n",
       "    <tr>\n",
       "      <td>9</td>\n",
       "      <td>покупка жилья для семьи</td>\n",
       "      <td>операции с недвижимостью</td>\n",
       "    </tr>\n",
       "  </tbody>\n",
       "</table>\n",
       "</div>"
      ],
      "text/plain": [
       "                      purpose          purpose_category\n",
       "0               покупка жилья  операции с недвижимостью\n",
       "1     приобретение автомобиля    операции с автомобилем\n",
       "2               покупка жилья  операции с недвижимостью\n",
       "3  дополнительное образование     получение образования\n",
       "4             сыграть свадьбу        проведение свадьбы\n",
       "5               покупка жилья  операции с недвижимостью\n",
       "6           операции с жильем  операции с недвижимостью\n",
       "7                 образование     получение образования\n",
       "8       на проведение свадьбы        проведение свадьбы\n",
       "9     покупка жилья для семьи  операции с недвижимостью"
      ]
     },
     "execution_count": 39,
     "metadata": {},
     "output_type": "execute_result"
    }
   ],
   "source": [
    "data[['purpose', 'purpose_category']].head(10)"
   ]
  },
  {
   "cell_type": "code",
   "execution_count": 40,
   "id": "fb2acb63",
   "metadata": {},
   "outputs": [
    {
     "data": {
      "text/plain": [
       "71"
      ]
     },
     "execution_count": 40,
     "metadata": {},
     "output_type": "execute_result"
    }
   ],
   "source": [
    "data.duplicated().sum() #нашла количество дубликатов"
   ]
  },
  {
   "cell_type": "code",
   "execution_count": 41,
   "id": "d70634fa",
   "metadata": {
    "scrolled": true
   },
   "outputs": [
    {
     "data": {
      "text/html": [
       "<div>\n",
       "<style scoped>\n",
       "    .dataframe tbody tr th:only-of-type {\n",
       "        vertical-align: middle;\n",
       "    }\n",
       "\n",
       "    .dataframe tbody tr th {\n",
       "        vertical-align: top;\n",
       "    }\n",
       "\n",
       "    .dataframe thead th {\n",
       "        text-align: right;\n",
       "    }\n",
       "</style>\n",
       "<table border=\"1\" class=\"dataframe\">\n",
       "  <thead>\n",
       "    <tr style=\"text-align: right;\">\n",
       "      <th></th>\n",
       "      <th>children</th>\n",
       "      <th>days_employed</th>\n",
       "      <th>dob_years</th>\n",
       "      <th>education</th>\n",
       "      <th>education_id</th>\n",
       "      <th>family_status</th>\n",
       "      <th>family_status_id</th>\n",
       "      <th>gender</th>\n",
       "      <th>income_type</th>\n",
       "      <th>debt</th>\n",
       "      <th>total_income</th>\n",
       "      <th>purpose</th>\n",
       "      <th>purpose_category</th>\n",
       "    </tr>\n",
       "  </thead>\n",
       "  <tbody>\n",
       "    <tr>\n",
       "      <td>2849</td>\n",
       "      <td>0</td>\n",
       "      <td>0</td>\n",
       "      <td>41</td>\n",
       "      <td>среднее</td>\n",
       "      <td>1</td>\n",
       "      <td>женат / замужем</td>\n",
       "      <td>0</td>\n",
       "      <td>F</td>\n",
       "      <td>сотрудник</td>\n",
       "      <td>0</td>\n",
       "      <td>142594</td>\n",
       "      <td>покупка жилья для семьи</td>\n",
       "      <td>операции с недвижимостью</td>\n",
       "    </tr>\n",
       "    <tr>\n",
       "      <td>3290</td>\n",
       "      <td>0</td>\n",
       "      <td>0</td>\n",
       "      <td>58</td>\n",
       "      <td>среднее</td>\n",
       "      <td>1</td>\n",
       "      <td>гражданский брак</td>\n",
       "      <td>1</td>\n",
       "      <td>F</td>\n",
       "      <td>пенсионер</td>\n",
       "      <td>0</td>\n",
       "      <td>118514</td>\n",
       "      <td>сыграть свадьбу</td>\n",
       "      <td>проведение свадьбы</td>\n",
       "    </tr>\n",
       "    <tr>\n",
       "      <td>4182</td>\n",
       "      <td>1</td>\n",
       "      <td>0</td>\n",
       "      <td>34</td>\n",
       "      <td>высшее</td>\n",
       "      <td>0</td>\n",
       "      <td>гражданский брак</td>\n",
       "      <td>1</td>\n",
       "      <td>F</td>\n",
       "      <td>сотрудник</td>\n",
       "      <td>0</td>\n",
       "      <td>142594</td>\n",
       "      <td>свадьба</td>\n",
       "      <td>проведение свадьбы</td>\n",
       "    </tr>\n",
       "    <tr>\n",
       "      <td>4851</td>\n",
       "      <td>0</td>\n",
       "      <td>0</td>\n",
       "      <td>60</td>\n",
       "      <td>среднее</td>\n",
       "      <td>1</td>\n",
       "      <td>гражданский брак</td>\n",
       "      <td>1</td>\n",
       "      <td>F</td>\n",
       "      <td>пенсионер</td>\n",
       "      <td>0</td>\n",
       "      <td>118514</td>\n",
       "      <td>свадьба</td>\n",
       "      <td>проведение свадьбы</td>\n",
       "    </tr>\n",
       "    <tr>\n",
       "      <td>5557</td>\n",
       "      <td>0</td>\n",
       "      <td>0</td>\n",
       "      <td>58</td>\n",
       "      <td>среднее</td>\n",
       "      <td>1</td>\n",
       "      <td>гражданский брак</td>\n",
       "      <td>1</td>\n",
       "      <td>F</td>\n",
       "      <td>пенсионер</td>\n",
       "      <td>0</td>\n",
       "      <td>118514</td>\n",
       "      <td>сыграть свадьбу</td>\n",
       "      <td>проведение свадьбы</td>\n",
       "    </tr>\n",
       "    <tr>\n",
       "      <td>...</td>\n",
       "      <td>...</td>\n",
       "      <td>...</td>\n",
       "      <td>...</td>\n",
       "      <td>...</td>\n",
       "      <td>...</td>\n",
       "      <td>...</td>\n",
       "      <td>...</td>\n",
       "      <td>...</td>\n",
       "      <td>...</td>\n",
       "      <td>...</td>\n",
       "      <td>...</td>\n",
       "      <td>...</td>\n",
       "      <td>...</td>\n",
       "    </tr>\n",
       "    <tr>\n",
       "      <td>20702</td>\n",
       "      <td>0</td>\n",
       "      <td>0</td>\n",
       "      <td>64</td>\n",
       "      <td>среднее</td>\n",
       "      <td>1</td>\n",
       "      <td>женат / замужем</td>\n",
       "      <td>0</td>\n",
       "      <td>F</td>\n",
       "      <td>пенсионер</td>\n",
       "      <td>0</td>\n",
       "      <td>118514</td>\n",
       "      <td>дополнительное образование</td>\n",
       "      <td>получение образования</td>\n",
       "    </tr>\n",
       "    <tr>\n",
       "      <td>21032</td>\n",
       "      <td>0</td>\n",
       "      <td>0</td>\n",
       "      <td>60</td>\n",
       "      <td>среднее</td>\n",
       "      <td>1</td>\n",
       "      <td>женат / замужем</td>\n",
       "      <td>0</td>\n",
       "      <td>F</td>\n",
       "      <td>пенсионер</td>\n",
       "      <td>0</td>\n",
       "      <td>118514</td>\n",
       "      <td>заняться образованием</td>\n",
       "      <td>получение образования</td>\n",
       "    </tr>\n",
       "    <tr>\n",
       "      <td>21132</td>\n",
       "      <td>0</td>\n",
       "      <td>0</td>\n",
       "      <td>47</td>\n",
       "      <td>среднее</td>\n",
       "      <td>1</td>\n",
       "      <td>женат / замужем</td>\n",
       "      <td>0</td>\n",
       "      <td>F</td>\n",
       "      <td>сотрудник</td>\n",
       "      <td>0</td>\n",
       "      <td>142594</td>\n",
       "      <td>ремонт жилью</td>\n",
       "      <td>операции с недвижимостью</td>\n",
       "    </tr>\n",
       "    <tr>\n",
       "      <td>21281</td>\n",
       "      <td>1</td>\n",
       "      <td>0</td>\n",
       "      <td>30</td>\n",
       "      <td>высшее</td>\n",
       "      <td>0</td>\n",
       "      <td>женат / замужем</td>\n",
       "      <td>0</td>\n",
       "      <td>F</td>\n",
       "      <td>сотрудник</td>\n",
       "      <td>0</td>\n",
       "      <td>142594</td>\n",
       "      <td>покупка коммерческой недвижимости</td>\n",
       "      <td>операции с недвижимостью</td>\n",
       "    </tr>\n",
       "    <tr>\n",
       "      <td>21415</td>\n",
       "      <td>0</td>\n",
       "      <td>0</td>\n",
       "      <td>54</td>\n",
       "      <td>среднее</td>\n",
       "      <td>1</td>\n",
       "      <td>женат / замужем</td>\n",
       "      <td>0</td>\n",
       "      <td>F</td>\n",
       "      <td>пенсионер</td>\n",
       "      <td>0</td>\n",
       "      <td>118514</td>\n",
       "      <td>операции с жильем</td>\n",
       "      <td>операции с недвижимостью</td>\n",
       "    </tr>\n",
       "  </tbody>\n",
       "</table>\n",
       "<p>71 rows × 13 columns</p>\n",
       "</div>"
      ],
      "text/plain": [
       "       children  days_employed  dob_years education  education_id  \\\n",
       "2849          0              0         41   среднее             1   \n",
       "3290          0              0         58   среднее             1   \n",
       "4182          1              0         34    высшее             0   \n",
       "4851          0              0         60   среднее             1   \n",
       "5557          0              0         58   среднее             1   \n",
       "...         ...            ...        ...       ...           ...   \n",
       "20702         0              0         64   среднее             1   \n",
       "21032         0              0         60   среднее             1   \n",
       "21132         0              0         47   среднее             1   \n",
       "21281         1              0         30    высшее             0   \n",
       "21415         0              0         54   среднее             1   \n",
       "\n",
       "          family_status  family_status_id gender income_type  debt  \\\n",
       "2849    женат / замужем                 0      F   сотрудник     0   \n",
       "3290   гражданский брак                 1      F   пенсионер     0   \n",
       "4182   гражданский брак                 1      F   сотрудник     0   \n",
       "4851   гражданский брак                 1      F   пенсионер     0   \n",
       "5557   гражданский брак                 1      F   пенсионер     0   \n",
       "...                 ...               ...    ...         ...   ...   \n",
       "20702   женат / замужем                 0      F   пенсионер     0   \n",
       "21032   женат / замужем                 0      F   пенсионер     0   \n",
       "21132   женат / замужем                 0      F   сотрудник     0   \n",
       "21281   женат / замужем                 0      F   сотрудник     0   \n",
       "21415   женат / замужем                 0      F   пенсионер     0   \n",
       "\n",
       "       total_income                            purpose  \\\n",
       "2849         142594            покупка жилья для семьи   \n",
       "3290         118514                    сыграть свадьбу   \n",
       "4182         142594                            свадьба   \n",
       "4851         118514                            свадьба   \n",
       "5557         118514                    сыграть свадьбу   \n",
       "...             ...                                ...   \n",
       "20702        118514         дополнительное образование   \n",
       "21032        118514              заняться образованием   \n",
       "21132        142594                       ремонт жилью   \n",
       "21281        142594  покупка коммерческой недвижимости   \n",
       "21415        118514                  операции с жильем   \n",
       "\n",
       "               purpose_category  \n",
       "2849   операции с недвижимостью  \n",
       "3290         проведение свадьбы  \n",
       "4182         проведение свадьбы  \n",
       "4851         проведение свадьбы  \n",
       "5557         проведение свадьбы  \n",
       "...                         ...  \n",
       "20702     получение образования  \n",
       "21032     получение образования  \n",
       "21132  операции с недвижимостью  \n",
       "21281  операции с недвижимостью  \n",
       "21415  операции с недвижимостью  \n",
       "\n",
       "[71 rows x 13 columns]"
      ]
     },
     "execution_count": 41,
     "metadata": {},
     "output_type": "execute_result"
    }
   ],
   "source": [
    "data[data.duplicated()] #нашла предпросмотр"
   ]
  },
  {
   "cell_type": "code",
   "execution_count": 42,
   "id": "181e4df6",
   "metadata": {
    "scrolled": true
   },
   "outputs": [],
   "source": [
    "data = data.drop_duplicates()#удаление"
   ]
  },
  {
   "cell_type": "code",
   "execution_count": 43,
   "id": "5484b81b",
   "metadata": {},
   "outputs": [
    {
     "data": {
      "text/plain": [
       "0"
      ]
     },
     "execution_count": 43,
     "metadata": {},
     "output_type": "execute_result"
    }
   ],
   "source": [
    "data.duplicated().sum()#нпроверка"
   ]
  },
  {
   "cell_type": "markdown",
   "id": "f4fb1da5",
   "metadata": {},
   "source": [
    "### Шаг 2.5. Категоризация данных."
   ]
  },
  {
   "cell_type": "markdown",
   "id": "eda0807a",
   "metadata": {},
   "source": [
    "Определение зависимости между количеством детей и возвратом кредита в срок."
   ]
  },
  {
   "cell_type": "code",
   "execution_count": 44,
   "id": "1430d777",
   "metadata": {
    "scrolled": false
   },
   "outputs": [
    {
     "data": {
      "text/html": [
       "<style  type=\"text/css\" >\n",
       "</style><table id=\"T_a86e6744_9e2e_11ec_bde5_02420a393150\" ><thead>    <tr>        <th class=\"blank level0\" ></th>        <th class=\"col_heading level0 col0\" >Задолженность</th>        <th class=\"col_heading level0 col1\" >Всего</th>        <th class=\"col_heading level0 col2\" >%</th>    </tr>    <tr>        <th class=\"index_name level0\" >children</th>        <th class=\"blank\" ></th>        <th class=\"blank\" ></th>        <th class=\"blank\" ></th>    </tr></thead><tbody>\n",
       "                <tr>\n",
       "                        <th id=\"T_a86e6744_9e2e_11ec_bde5_02420a393150level0_row0\" class=\"row_heading level0 row0\" >0</th>\n",
       "                        <td id=\"T_a86e6744_9e2e_11ec_bde5_02420a393150row0_col0\" class=\"data row0 col0\" >1063</td>\n",
       "                        <td id=\"T_a86e6744_9e2e_11ec_bde5_02420a393150row0_col1\" class=\"data row0 col1\" >14090</td>\n",
       "                        <td id=\"T_a86e6744_9e2e_11ec_bde5_02420a393150row0_col2\" class=\"data row0 col2\" >7.54%</td>\n",
       "            </tr>\n",
       "            <tr>\n",
       "                        <th id=\"T_a86e6744_9e2e_11ec_bde5_02420a393150level0_row1\" class=\"row_heading level0 row1\" >1</th>\n",
       "                        <td id=\"T_a86e6744_9e2e_11ec_bde5_02420a393150row1_col0\" class=\"data row1 col0\" >445</td>\n",
       "                        <td id=\"T_a86e6744_9e2e_11ec_bde5_02420a393150row1_col1\" class=\"data row1 col1\" >4855</td>\n",
       "                        <td id=\"T_a86e6744_9e2e_11ec_bde5_02420a393150row1_col2\" class=\"data row1 col2\" >9.17%</td>\n",
       "            </tr>\n",
       "            <tr>\n",
       "                        <th id=\"T_a86e6744_9e2e_11ec_bde5_02420a393150level0_row2\" class=\"row_heading level0 row2\" >2</th>\n",
       "                        <td id=\"T_a86e6744_9e2e_11ec_bde5_02420a393150row2_col0\" class=\"data row2 col0\" >202</td>\n",
       "                        <td id=\"T_a86e6744_9e2e_11ec_bde5_02420a393150row2_col1\" class=\"data row2 col1\" >2128</td>\n",
       "                        <td id=\"T_a86e6744_9e2e_11ec_bde5_02420a393150row2_col2\" class=\"data row2 col2\" >9.49%</td>\n",
       "            </tr>\n",
       "            <tr>\n",
       "                        <th id=\"T_a86e6744_9e2e_11ec_bde5_02420a393150level0_row3\" class=\"row_heading level0 row3\" >3</th>\n",
       "                        <td id=\"T_a86e6744_9e2e_11ec_bde5_02420a393150row3_col0\" class=\"data row3 col0\" >27</td>\n",
       "                        <td id=\"T_a86e6744_9e2e_11ec_bde5_02420a393150row3_col1\" class=\"data row3 col1\" >330</td>\n",
       "                        <td id=\"T_a86e6744_9e2e_11ec_bde5_02420a393150row3_col2\" class=\"data row3 col2\" >8.18%</td>\n",
       "            </tr>\n",
       "            <tr>\n",
       "                        <th id=\"T_a86e6744_9e2e_11ec_bde5_02420a393150level0_row4\" class=\"row_heading level0 row4\" >4</th>\n",
       "                        <td id=\"T_a86e6744_9e2e_11ec_bde5_02420a393150row4_col0\" class=\"data row4 col0\" >4</td>\n",
       "                        <td id=\"T_a86e6744_9e2e_11ec_bde5_02420a393150row4_col1\" class=\"data row4 col1\" >41</td>\n",
       "                        <td id=\"T_a86e6744_9e2e_11ec_bde5_02420a393150row4_col2\" class=\"data row4 col2\" >9.76%</td>\n",
       "            </tr>\n",
       "            <tr>\n",
       "                        <th id=\"T_a86e6744_9e2e_11ec_bde5_02420a393150level0_row5\" class=\"row_heading level0 row5\" >5</th>\n",
       "                        <td id=\"T_a86e6744_9e2e_11ec_bde5_02420a393150row5_col0\" class=\"data row5 col0\" >0</td>\n",
       "                        <td id=\"T_a86e6744_9e2e_11ec_bde5_02420a393150row5_col1\" class=\"data row5 col1\" >9</td>\n",
       "                        <td id=\"T_a86e6744_9e2e_11ec_bde5_02420a393150row5_col2\" class=\"data row5 col2\" >0.00%</td>\n",
       "            </tr>\n",
       "    </tbody></table>"
      ],
      "text/plain": [
       "<pandas.io.formats.style.Styler at 0x7f17ed5357d0>"
      ]
     },
     "metadata": {},
     "output_type": "display_data"
    }
   ],
   "source": [
    "children_report = data.pivot_table(index = ['children'], values = 'debt', aggfunc = ['sum', 'count', 'mean']) \n",
    "#создание сводной таблицы для просмотра даннх в сокращенном виде по заданному столбцу\n",
    "children_report.columns = ['Задолженность', 'Всего', '%']#создание заголовков для таблицы \n",
    "children_report = children_report.sort_values(by = ['Всего'], ascending = False) #фильтация\n",
    "display(children_report.style.format({'%':'{:.2%}'})) #редактирование формата"
   ]
  },
  {
   "cell_type": "markdown",
   "id": "9c10d760",
   "metadata": {},
   "source": [
    "Определение зависимости между семейным положением и возвратом кредита в срок. При проверкеданных установлено, что статусы женат / замужем - 0, гражданский брак - 1, вдовец / вдова - 2, в разводе - 3, Не женат / не замужем - 4"
   ]
  },
  {
   "cell_type": "code",
   "execution_count": 45,
   "id": "c1755417",
   "metadata": {
    "scrolled": true
   },
   "outputs": [
    {
     "data": {
      "text/html": [
       "<style  type=\"text/css\" >\n",
       "</style><table id=\"T_a8761994_9e2e_11ec_bde5_02420a393150\" ><thead>    <tr>        <th class=\"blank level0\" ></th>        <th class=\"col_heading level0 col0\" >Задолженность</th>        <th class=\"col_heading level0 col1\" >Всего</th>        <th class=\"col_heading level0 col2\" >%</th>    </tr>    <tr>        <th class=\"index_name level0\" >family_status_id</th>        <th class=\"blank\" ></th>        <th class=\"blank\" ></th>        <th class=\"blank\" ></th>    </tr></thead><tbody>\n",
       "                <tr>\n",
       "                        <th id=\"T_a8761994_9e2e_11ec_bde5_02420a393150level0_row0\" class=\"row_heading level0 row0\" >0</th>\n",
       "                        <td id=\"T_a8761994_9e2e_11ec_bde5_02420a393150row0_col0\" class=\"data row0 col0\" >931</td>\n",
       "                        <td id=\"T_a8761994_9e2e_11ec_bde5_02420a393150row0_col1\" class=\"data row0 col1\" >12339</td>\n",
       "                        <td id=\"T_a8761994_9e2e_11ec_bde5_02420a393150row0_col2\" class=\"data row0 col2\" >7.55%</td>\n",
       "            </tr>\n",
       "            <tr>\n",
       "                        <th id=\"T_a8761994_9e2e_11ec_bde5_02420a393150level0_row1\" class=\"row_heading level0 row1\" >1</th>\n",
       "                        <td id=\"T_a8761994_9e2e_11ec_bde5_02420a393150row1_col0\" class=\"data row1 col0\" >388</td>\n",
       "                        <td id=\"T_a8761994_9e2e_11ec_bde5_02420a393150row1_col1\" class=\"data row1 col1\" >4150</td>\n",
       "                        <td id=\"T_a8761994_9e2e_11ec_bde5_02420a393150row1_col2\" class=\"data row1 col2\" >9.35%</td>\n",
       "            </tr>\n",
       "            <tr>\n",
       "                        <th id=\"T_a8761994_9e2e_11ec_bde5_02420a393150level0_row2\" class=\"row_heading level0 row2\" >2</th>\n",
       "                        <td id=\"T_a8761994_9e2e_11ec_bde5_02420a393150row2_col0\" class=\"data row2 col0\" >63</td>\n",
       "                        <td id=\"T_a8761994_9e2e_11ec_bde5_02420a393150row2_col1\" class=\"data row2 col1\" >959</td>\n",
       "                        <td id=\"T_a8761994_9e2e_11ec_bde5_02420a393150row2_col2\" class=\"data row2 col2\" >6.57%</td>\n",
       "            </tr>\n",
       "            <tr>\n",
       "                        <th id=\"T_a8761994_9e2e_11ec_bde5_02420a393150level0_row3\" class=\"row_heading level0 row3\" >3</th>\n",
       "                        <td id=\"T_a8761994_9e2e_11ec_bde5_02420a393150row3_col0\" class=\"data row3 col0\" >85</td>\n",
       "                        <td id=\"T_a8761994_9e2e_11ec_bde5_02420a393150row3_col1\" class=\"data row3 col1\" >1195</td>\n",
       "                        <td id=\"T_a8761994_9e2e_11ec_bde5_02420a393150row3_col2\" class=\"data row3 col2\" >7.11%</td>\n",
       "            </tr>\n",
       "            <tr>\n",
       "                        <th id=\"T_a8761994_9e2e_11ec_bde5_02420a393150level0_row4\" class=\"row_heading level0 row4\" >4</th>\n",
       "                        <td id=\"T_a8761994_9e2e_11ec_bde5_02420a393150row4_col0\" class=\"data row4 col0\" >274</td>\n",
       "                        <td id=\"T_a8761994_9e2e_11ec_bde5_02420a393150row4_col1\" class=\"data row4 col1\" >2810</td>\n",
       "                        <td id=\"T_a8761994_9e2e_11ec_bde5_02420a393150row4_col2\" class=\"data row4 col2\" >9.75%</td>\n",
       "            </tr>\n",
       "    </tbody></table>"
      ],
      "text/plain": [
       "<pandas.io.formats.style.Styler at 0x7f17ece535d0>"
      ]
     },
     "metadata": {},
     "output_type": "display_data"
    }
   ],
   "source": [
    "family_status_id_report = data.pivot_table(index = ['family_status_id'], values = 'debt', aggfunc = ['sum', 'count', 'mean'])\n",
    "family_status_id_report.columns = ['Задолженность', 'Всего', '%']\n",
    "family_status_id_report = family_status_id_report.sort_values(by = ['family_status_id'], ascending = True)\n",
    "display(family_status_id_report.style.format({'%':'{:.2%}'}))"
   ]
  },
  {
   "cell_type": "code",
   "execution_count": 46,
   "id": "41527785",
   "metadata": {},
   "outputs": [
    {
     "data": {
      "text/html": [
       "<div>\n",
       "<style scoped>\n",
       "    .dataframe tbody tr th:only-of-type {\n",
       "        vertical-align: middle;\n",
       "    }\n",
       "\n",
       "    .dataframe tbody tr th {\n",
       "        vertical-align: top;\n",
       "    }\n",
       "\n",
       "    .dataframe thead th {\n",
       "        text-align: right;\n",
       "    }\n",
       "</style>\n",
       "<table border=\"1\" class=\"dataframe\">\n",
       "  <thead>\n",
       "    <tr style=\"text-align: right;\">\n",
       "      <th></th>\n",
       "      <th>children</th>\n",
       "      <th>days_employed</th>\n",
       "      <th>dob_years</th>\n",
       "      <th>education</th>\n",
       "      <th>education_id</th>\n",
       "      <th>family_status_id</th>\n",
       "      <th>gender</th>\n",
       "      <th>income_type</th>\n",
       "      <th>debt</th>\n",
       "      <th>total_income</th>\n",
       "      <th>purpose</th>\n",
       "      <th>purpose_category</th>\n",
       "    </tr>\n",
       "    <tr>\n",
       "      <th>family_status</th>\n",
       "      <th></th>\n",
       "      <th></th>\n",
       "      <th></th>\n",
       "      <th></th>\n",
       "      <th></th>\n",
       "      <th></th>\n",
       "      <th></th>\n",
       "      <th></th>\n",
       "      <th></th>\n",
       "      <th></th>\n",
       "      <th></th>\n",
       "      <th></th>\n",
       "    </tr>\n",
       "  </thead>\n",
       "  <tbody>\n",
       "    <tr>\n",
       "      <td>Не женат / не замужем</td>\n",
       "      <td>2810</td>\n",
       "      <td>2810</td>\n",
       "      <td>2810</td>\n",
       "      <td>2810</td>\n",
       "      <td>2810</td>\n",
       "      <td>2810</td>\n",
       "      <td>2810</td>\n",
       "      <td>2810</td>\n",
       "      <td>2810</td>\n",
       "      <td>2810</td>\n",
       "      <td>2810</td>\n",
       "      <td>2810</td>\n",
       "    </tr>\n",
       "    <tr>\n",
       "      <td>в разводе</td>\n",
       "      <td>1195</td>\n",
       "      <td>1195</td>\n",
       "      <td>1195</td>\n",
       "      <td>1195</td>\n",
       "      <td>1195</td>\n",
       "      <td>1195</td>\n",
       "      <td>1195</td>\n",
       "      <td>1195</td>\n",
       "      <td>1195</td>\n",
       "      <td>1195</td>\n",
       "      <td>1195</td>\n",
       "      <td>1195</td>\n",
       "    </tr>\n",
       "    <tr>\n",
       "      <td>вдовец / вдова</td>\n",
       "      <td>959</td>\n",
       "      <td>959</td>\n",
       "      <td>959</td>\n",
       "      <td>959</td>\n",
       "      <td>959</td>\n",
       "      <td>959</td>\n",
       "      <td>959</td>\n",
       "      <td>959</td>\n",
       "      <td>959</td>\n",
       "      <td>959</td>\n",
       "      <td>959</td>\n",
       "      <td>959</td>\n",
       "    </tr>\n",
       "    <tr>\n",
       "      <td>гражданский брак</td>\n",
       "      <td>4150</td>\n",
       "      <td>4150</td>\n",
       "      <td>4150</td>\n",
       "      <td>4150</td>\n",
       "      <td>4150</td>\n",
       "      <td>4150</td>\n",
       "      <td>4150</td>\n",
       "      <td>4150</td>\n",
       "      <td>4150</td>\n",
       "      <td>4150</td>\n",
       "      <td>4150</td>\n",
       "      <td>4150</td>\n",
       "    </tr>\n",
       "    <tr>\n",
       "      <td>женат / замужем</td>\n",
       "      <td>12339</td>\n",
       "      <td>12339</td>\n",
       "      <td>12339</td>\n",
       "      <td>12339</td>\n",
       "      <td>12339</td>\n",
       "      <td>12339</td>\n",
       "      <td>12339</td>\n",
       "      <td>12339</td>\n",
       "      <td>12339</td>\n",
       "      <td>12339</td>\n",
       "      <td>12339</td>\n",
       "      <td>12339</td>\n",
       "    </tr>\n",
       "  </tbody>\n",
       "</table>\n",
       "</div>"
      ],
      "text/plain": [
       "                       children  days_employed  dob_years  education  \\\n",
       "family_status                                                          \n",
       "Не женат / не замужем      2810           2810       2810       2810   \n",
       "в разводе                  1195           1195       1195       1195   \n",
       "вдовец / вдова              959            959        959        959   \n",
       "гражданский брак           4150           4150       4150       4150   \n",
       "женат / замужем           12339          12339      12339      12339   \n",
       "\n",
       "                       education_id  family_status_id  gender  income_type  \\\n",
       "family_status                                                                \n",
       "Не женат / не замужем          2810              2810    2810         2810   \n",
       "в разводе                      1195              1195    1195         1195   \n",
       "вдовец / вдова                  959               959     959          959   \n",
       "гражданский брак               4150              4150    4150         4150   \n",
       "женат / замужем               12339             12339   12339        12339   \n",
       "\n",
       "                        debt  total_income  purpose  purpose_category  \n",
       "family_status                                                          \n",
       "Не женат / не замужем   2810          2810     2810              2810  \n",
       "в разводе               1195          1195     1195              1195  \n",
       "вдовец / вдова           959           959      959               959  \n",
       "гражданский брак        4150          4150     4150              4150  \n",
       "женат / замужем        12339         12339    12339             12339  "
      ]
     },
     "execution_count": 46,
     "metadata": {},
     "output_type": "execute_result"
    }
   ],
   "source": [
    "data.groupby('family_status').count()#просмотр "
   ]
  },
  {
   "cell_type": "markdown",
   "id": "af533235",
   "metadata": {},
   "source": [
    "Определение зависимости между целю кредита возврат в срок."
   ]
  },
  {
   "cell_type": "code",
   "execution_count": 47,
   "id": "10e866a5",
   "metadata": {
    "scrolled": true
   },
   "outputs": [
    {
     "data": {
      "text/html": [
       "<style  type=\"text/css\" >\n",
       "</style><table id=\"T_a885d08c_9e2e_11ec_bde5_02420a393150\" ><thead>    <tr>        <th class=\"blank level0\" ></th>        <th class=\"col_heading level0 col0\" >Задолженность</th>        <th class=\"col_heading level0 col1\" >Всего</th>        <th class=\"col_heading level0 col2\" >%</th>    </tr>    <tr>        <th class=\"index_name level0\" >purpose_category</th>        <th class=\"blank\" ></th>        <th class=\"blank\" ></th>        <th class=\"blank\" ></th>    </tr></thead><tbody>\n",
       "                <tr>\n",
       "                        <th id=\"T_a885d08c_9e2e_11ec_bde5_02420a393150level0_row0\" class=\"row_heading level0 row0\" >операции с недвижимостью</th>\n",
       "                        <td id=\"T_a885d08c_9e2e_11ec_bde5_02420a393150row0_col0\" class=\"data row0 col0\" >782</td>\n",
       "                        <td id=\"T_a885d08c_9e2e_11ec_bde5_02420a393150row0_col1\" class=\"data row0 col1\" >10810</td>\n",
       "                        <td id=\"T_a885d08c_9e2e_11ec_bde5_02420a393150row0_col2\" class=\"data row0 col2\" >7.23%</td>\n",
       "            </tr>\n",
       "            <tr>\n",
       "                        <th id=\"T_a885d08c_9e2e_11ec_bde5_02420a393150level0_row1\" class=\"row_heading level0 row1\" >операции с автомобилем</th>\n",
       "                        <td id=\"T_a885d08c_9e2e_11ec_bde5_02420a393150row1_col0\" class=\"data row1 col0\" >403</td>\n",
       "                        <td id=\"T_a885d08c_9e2e_11ec_bde5_02420a393150row1_col1\" class=\"data row1 col1\" >4306</td>\n",
       "                        <td id=\"T_a885d08c_9e2e_11ec_bde5_02420a393150row1_col2\" class=\"data row1 col2\" >9.36%</td>\n",
       "            </tr>\n",
       "            <tr>\n",
       "                        <th id=\"T_a885d08c_9e2e_11ec_bde5_02420a393150level0_row2\" class=\"row_heading level0 row2\" >получение образования</th>\n",
       "                        <td id=\"T_a885d08c_9e2e_11ec_bde5_02420a393150row2_col0\" class=\"data row2 col0\" >370</td>\n",
       "                        <td id=\"T_a885d08c_9e2e_11ec_bde5_02420a393150row2_col1\" class=\"data row2 col1\" >4013</td>\n",
       "                        <td id=\"T_a885d08c_9e2e_11ec_bde5_02420a393150row2_col2\" class=\"data row2 col2\" >9.22%</td>\n",
       "            </tr>\n",
       "            <tr>\n",
       "                        <th id=\"T_a885d08c_9e2e_11ec_bde5_02420a393150level0_row3\" class=\"row_heading level0 row3\" >проведение свадьбы</th>\n",
       "                        <td id=\"T_a885d08c_9e2e_11ec_bde5_02420a393150row3_col0\" class=\"data row3 col0\" >186</td>\n",
       "                        <td id=\"T_a885d08c_9e2e_11ec_bde5_02420a393150row3_col1\" class=\"data row3 col1\" >2324</td>\n",
       "                        <td id=\"T_a885d08c_9e2e_11ec_bde5_02420a393150row3_col2\" class=\"data row3 col2\" >8.00%</td>\n",
       "            </tr>\n",
       "    </tbody></table>"
      ],
      "text/plain": [
       "<pandas.io.formats.style.Styler at 0x7f17ec3f7bd0>"
      ]
     },
     "metadata": {},
     "output_type": "display_data"
    }
   ],
   "source": [
    "new_purpose_report = data.pivot_table(index = ['purpose_category'], values = 'debt', aggfunc = ['sum', 'count', 'mean'])\n",
    "new_purpose_report.columns = ['Задолженность', 'Всего', '%']\n",
    "new_purpose_report = new_purpose_report.sort_values(by = ['Задолженность'], ascending = False)\n",
    "display(new_purpose_report.style.format({'%':'{:.2%}'}))"
   ]
  },
  {
   "cell_type": "markdown",
   "id": "a3545e57",
   "metadata": {},
   "source": [
    "Определение зависимости между уровнем дохода и возвратом кредита в срок."
   ]
  },
  {
   "cell_type": "code",
   "execution_count": 48,
   "id": "2c24c741",
   "metadata": {},
   "outputs": [],
   "source": [
    "def total_income_category(income):\n",
    "    \n",
    "#условие:\n",
    "        #0–30000 — 'E';\n",
    "        #30001–50000 — 'D';\n",
    "        #50001–200000 — 'C';\n",
    "        #200001–1000000 — 'B';\n",
    "        #1000001 и выше — 'A'. \n",
    "      \n",
    "    if income >= 0 and income <= 30000:\n",
    "        return 'E'\n",
    "    elif income >= 30001 and income <= 50000:\n",
    "        return 'D'\n",
    "    elif income >= 50001 and income <= 200000:\n",
    "        return 'C'\n",
    "    elif income >= 200001 and income <= 1000000:\n",
    "        return 'B'\n",
    "    else:\n",
    "        return 'A'\n",
    "    \n",
    "data['total_income_category'] = data['total_income'].apply(total_income_category)"
   ]
  },
  {
   "cell_type": "code",
   "execution_count": 49,
   "id": "4299cabc",
   "metadata": {
    "scrolled": true
   },
   "outputs": [
    {
     "data": {
      "text/html": [
       "<div>\n",
       "<style scoped>\n",
       "    .dataframe tbody tr th:only-of-type {\n",
       "        vertical-align: middle;\n",
       "    }\n",
       "\n",
       "    .dataframe tbody tr th {\n",
       "        vertical-align: top;\n",
       "    }\n",
       "\n",
       "    .dataframe thead th {\n",
       "        text-align: right;\n",
       "    }\n",
       "</style>\n",
       "<table border=\"1\" class=\"dataframe\">\n",
       "  <thead>\n",
       "    <tr style=\"text-align: right;\">\n",
       "      <th></th>\n",
       "      <th>children</th>\n",
       "      <th>days_employed</th>\n",
       "      <th>dob_years</th>\n",
       "      <th>education</th>\n",
       "      <th>education_id</th>\n",
       "      <th>family_status</th>\n",
       "      <th>family_status_id</th>\n",
       "      <th>gender</th>\n",
       "      <th>income_type</th>\n",
       "      <th>debt</th>\n",
       "      <th>total_income</th>\n",
       "      <th>purpose</th>\n",
       "      <th>purpose_category</th>\n",
       "      <th>total_income_category</th>\n",
       "    </tr>\n",
       "  </thead>\n",
       "  <tbody>\n",
       "    <tr>\n",
       "      <td>0</td>\n",
       "      <td>1</td>\n",
       "      <td>8437</td>\n",
       "      <td>42</td>\n",
       "      <td>высшее</td>\n",
       "      <td>0</td>\n",
       "      <td>женат / замужем</td>\n",
       "      <td>0</td>\n",
       "      <td>F</td>\n",
       "      <td>сотрудник</td>\n",
       "      <td>0</td>\n",
       "      <td>253875</td>\n",
       "      <td>покупка жилья</td>\n",
       "      <td>операции с недвижимостью</td>\n",
       "      <td>B</td>\n",
       "    </tr>\n",
       "    <tr>\n",
       "      <td>1</td>\n",
       "      <td>1</td>\n",
       "      <td>4024</td>\n",
       "      <td>36</td>\n",
       "      <td>среднее</td>\n",
       "      <td>1</td>\n",
       "      <td>женат / замужем</td>\n",
       "      <td>0</td>\n",
       "      <td>F</td>\n",
       "      <td>сотрудник</td>\n",
       "      <td>0</td>\n",
       "      <td>112080</td>\n",
       "      <td>приобретение автомобиля</td>\n",
       "      <td>операции с автомобилем</td>\n",
       "      <td>C</td>\n",
       "    </tr>\n",
       "    <tr>\n",
       "      <td>2</td>\n",
       "      <td>0</td>\n",
       "      <td>5623</td>\n",
       "      <td>33</td>\n",
       "      <td>среднее</td>\n",
       "      <td>1</td>\n",
       "      <td>женат / замужем</td>\n",
       "      <td>0</td>\n",
       "      <td>M</td>\n",
       "      <td>сотрудник</td>\n",
       "      <td>0</td>\n",
       "      <td>145885</td>\n",
       "      <td>покупка жилья</td>\n",
       "      <td>операции с недвижимостью</td>\n",
       "      <td>C</td>\n",
       "    </tr>\n",
       "    <tr>\n",
       "      <td>3</td>\n",
       "      <td>3</td>\n",
       "      <td>4124</td>\n",
       "      <td>32</td>\n",
       "      <td>среднее</td>\n",
       "      <td>1</td>\n",
       "      <td>женат / замужем</td>\n",
       "      <td>0</td>\n",
       "      <td>M</td>\n",
       "      <td>сотрудник</td>\n",
       "      <td>0</td>\n",
       "      <td>267628</td>\n",
       "      <td>дополнительное образование</td>\n",
       "      <td>получение образования</td>\n",
       "      <td>B</td>\n",
       "    </tr>\n",
       "    <tr>\n",
       "      <td>4</td>\n",
       "      <td>0</td>\n",
       "      <td>340266</td>\n",
       "      <td>53</td>\n",
       "      <td>среднее</td>\n",
       "      <td>1</td>\n",
       "      <td>гражданский брак</td>\n",
       "      <td>1</td>\n",
       "      <td>F</td>\n",
       "      <td>пенсионер</td>\n",
       "      <td>0</td>\n",
       "      <td>158616</td>\n",
       "      <td>сыграть свадьбу</td>\n",
       "      <td>проведение свадьбы</td>\n",
       "      <td>C</td>\n",
       "    </tr>\n",
       "  </tbody>\n",
       "</table>\n",
       "</div>"
      ],
      "text/plain": [
       "   children  days_employed  dob_years education  education_id  \\\n",
       "0         1           8437         42    высшее             0   \n",
       "1         1           4024         36   среднее             1   \n",
       "2         0           5623         33   среднее             1   \n",
       "3         3           4124         32   среднее             1   \n",
       "4         0         340266         53   среднее             1   \n",
       "\n",
       "      family_status  family_status_id gender income_type  debt  total_income  \\\n",
       "0   женат / замужем                 0      F   сотрудник     0        253875   \n",
       "1   женат / замужем                 0      F   сотрудник     0        112080   \n",
       "2   женат / замужем                 0      M   сотрудник     0        145885   \n",
       "3   женат / замужем                 0      M   сотрудник     0        267628   \n",
       "4  гражданский брак                 1      F   пенсионер     0        158616   \n",
       "\n",
       "                      purpose          purpose_category total_income_category  \n",
       "0               покупка жилья  операции с недвижимостью                     B  \n",
       "1     приобретение автомобиля    операции с автомобилем                     C  \n",
       "2               покупка жилья  операции с недвижимостью                     C  \n",
       "3  дополнительное образование     получение образования                     B  \n",
       "4             сыграть свадьбу        проведение свадьбы                     C  "
      ]
     },
     "execution_count": 49,
     "metadata": {},
     "output_type": "execute_result"
    }
   ],
   "source": [
    "data.head(5)#просмотр"
   ]
  },
  {
   "cell_type": "code",
   "execution_count": 50,
   "id": "f8426d36",
   "metadata": {
    "scrolled": true
   },
   "outputs": [
    {
     "data": {
      "text/plain": [
       "total_income_category\n",
       "A    1223042.0\n",
       "B     257692.0\n",
       "C     130395.0\n",
       "D      43857.5\n",
       "E      26431.0\n",
       "Name: total_income, dtype: float64"
      ]
     },
     "execution_count": 50,
     "metadata": {},
     "output_type": "execute_result"
    }
   ],
   "source": [
    "data.groupby('total_income_category')['total_income'].median() #просмотр медианого значения для наглядности и выводов"
   ]
  },
  {
   "cell_type": "code",
   "execution_count": 51,
   "id": "47064b8f",
   "metadata": {},
   "outputs": [
    {
     "data": {
      "text/plain": [
       "total_income_category\n",
       "A       25\n",
       "B     5041\n",
       "C    16015\n",
       "D      350\n",
       "E       22\n",
       "Name: total_income, dtype: int64"
      ]
     },
     "execution_count": 51,
     "metadata": {},
     "output_type": "execute_result"
    }
   ],
   "source": [
    "data.groupby('total_income_category')['total_income'].count()"
   ]
  },
  {
   "cell_type": "code",
   "execution_count": 52,
   "id": "3c293050",
   "metadata": {
    "scrolled": true
   },
   "outputs": [
    {
     "data": {
      "text/html": [
       "<style  type=\"text/css\" >\n",
       "</style><table id=\"T_a89f5ee4_9e2e_11ec_bde5_02420a393150\" ><thead>    <tr>        <th class=\"blank level0\" ></th>        <th class=\"col_heading level0 col0\" >Задолженность</th>        <th class=\"col_heading level0 col1\" >Всего</th>        <th class=\"col_heading level0 col2\" >%</th>    </tr>    <tr>        <th class=\"index_name level0\" >total_income_category</th>        <th class=\"blank\" ></th>        <th class=\"blank\" ></th>        <th class=\"blank\" ></th>    </tr></thead><tbody>\n",
       "                <tr>\n",
       "                        <th id=\"T_a89f5ee4_9e2e_11ec_bde5_02420a393150level0_row0\" class=\"row_heading level0 row0\" >C</th>\n",
       "                        <td id=\"T_a89f5ee4_9e2e_11ec_bde5_02420a393150row0_col0\" class=\"data row0 col0\" >1360</td>\n",
       "                        <td id=\"T_a89f5ee4_9e2e_11ec_bde5_02420a393150row0_col1\" class=\"data row0 col1\" >16015</td>\n",
       "                        <td id=\"T_a89f5ee4_9e2e_11ec_bde5_02420a393150row0_col2\" class=\"data row0 col2\" >8.49%</td>\n",
       "            </tr>\n",
       "            <tr>\n",
       "                        <th id=\"T_a89f5ee4_9e2e_11ec_bde5_02420a393150level0_row1\" class=\"row_heading level0 row1\" >B</th>\n",
       "                        <td id=\"T_a89f5ee4_9e2e_11ec_bde5_02420a393150row1_col0\" class=\"data row1 col0\" >356</td>\n",
       "                        <td id=\"T_a89f5ee4_9e2e_11ec_bde5_02420a393150row1_col1\" class=\"data row1 col1\" >5041</td>\n",
       "                        <td id=\"T_a89f5ee4_9e2e_11ec_bde5_02420a393150row1_col2\" class=\"data row1 col2\" >7.06%</td>\n",
       "            </tr>\n",
       "            <tr>\n",
       "                        <th id=\"T_a89f5ee4_9e2e_11ec_bde5_02420a393150level0_row2\" class=\"row_heading level0 row2\" >D</th>\n",
       "                        <td id=\"T_a89f5ee4_9e2e_11ec_bde5_02420a393150row2_col0\" class=\"data row2 col0\" >21</td>\n",
       "                        <td id=\"T_a89f5ee4_9e2e_11ec_bde5_02420a393150row2_col1\" class=\"data row2 col1\" >350</td>\n",
       "                        <td id=\"T_a89f5ee4_9e2e_11ec_bde5_02420a393150row2_col2\" class=\"data row2 col2\" >6.00%</td>\n",
       "            </tr>\n",
       "            <tr>\n",
       "                        <th id=\"T_a89f5ee4_9e2e_11ec_bde5_02420a393150level0_row3\" class=\"row_heading level0 row3\" >A</th>\n",
       "                        <td id=\"T_a89f5ee4_9e2e_11ec_bde5_02420a393150row3_col0\" class=\"data row3 col0\" >2</td>\n",
       "                        <td id=\"T_a89f5ee4_9e2e_11ec_bde5_02420a393150row3_col1\" class=\"data row3 col1\" >25</td>\n",
       "                        <td id=\"T_a89f5ee4_9e2e_11ec_bde5_02420a393150row3_col2\" class=\"data row3 col2\" >8.00%</td>\n",
       "            </tr>\n",
       "            <tr>\n",
       "                        <th id=\"T_a89f5ee4_9e2e_11ec_bde5_02420a393150level0_row4\" class=\"row_heading level0 row4\" >E</th>\n",
       "                        <td id=\"T_a89f5ee4_9e2e_11ec_bde5_02420a393150row4_col0\" class=\"data row4 col0\" >2</td>\n",
       "                        <td id=\"T_a89f5ee4_9e2e_11ec_bde5_02420a393150row4_col1\" class=\"data row4 col1\" >22</td>\n",
       "                        <td id=\"T_a89f5ee4_9e2e_11ec_bde5_02420a393150row4_col2\" class=\"data row4 col2\" >9.09%</td>\n",
       "            </tr>\n",
       "    </tbody></table>"
      ],
      "text/plain": [
       "<pandas.io.formats.style.Styler at 0x7f17ec404f90>"
      ]
     },
     "metadata": {},
     "output_type": "display_data"
    }
   ],
   "source": [
    "debt_pivot = data.pivot_table(index = ['total_income_category'], values = 'debt', aggfunc = ['sum', 'count', 'mean'])\n",
    "debt_pivot.columns = ['Задолженность', 'Всего', '%']\n",
    "debt_pivot = debt_pivot.sort_values(by = ['Задолженность'], ascending = False)\n",
    "display(debt_pivot.style.format({'%':'{:.2%}'}))"
   ]
  },
  {
   "cell_type": "markdown",
   "id": "b13b0245",
   "metadata": {},
   "source": [
    "Для создания портрета надежного и ненадежного заемщика рассмтрим задолженность по гендерному признаку "
   ]
  },
  {
   "cell_type": "code",
   "execution_count": 53,
   "id": "397c6019",
   "metadata": {},
   "outputs": [
    {
     "data": {
      "text/html": [
       "<style  type=\"text/css\" >\n",
       "</style><table id=\"T_a8abdc50_9e2e_11ec_bde5_02420a393150\" ><thead>    <tr>        <th class=\"blank level0\" ></th>        <th class=\"col_heading level0 col0\" >Нет задолженности</th>        <th class=\"col_heading level0 col1\" >Задолженность</th>        <th class=\"col_heading level0 col2\" >%</th>    </tr>    <tr>        <th class=\"index_name level0\" >gender</th>        <th class=\"blank\" ></th>        <th class=\"blank\" ></th>        <th class=\"blank\" ></th>    </tr></thead><tbody>\n",
       "                <tr>\n",
       "                        <th id=\"T_a8abdc50_9e2e_11ec_bde5_02420a393150level0_row0\" class=\"row_heading level0 row0\" >F</th>\n",
       "                        <td id=\"T_a8abdc50_9e2e_11ec_bde5_02420a393150row0_col0\" class=\"data row0 col0\" >13180</td>\n",
       "                        <td id=\"T_a8abdc50_9e2e_11ec_bde5_02420a393150row0_col1\" class=\"data row0 col1\" >994</td>\n",
       "                        <td id=\"T_a8abdc50_9e2e_11ec_bde5_02420a393150row0_col2\" class=\"data row0 col2\" >7.01%</td>\n",
       "            </tr>\n",
       "            <tr>\n",
       "                        <th id=\"T_a8abdc50_9e2e_11ec_bde5_02420a393150level0_row1\" class=\"row_heading level0 row1\" >M</th>\n",
       "                        <td id=\"T_a8abdc50_9e2e_11ec_bde5_02420a393150row1_col0\" class=\"data row1 col0\" >6532</td>\n",
       "                        <td id=\"T_a8abdc50_9e2e_11ec_bde5_02420a393150row1_col1\" class=\"data row1 col1\" >747</td>\n",
       "                        <td id=\"T_a8abdc50_9e2e_11ec_bde5_02420a393150row1_col2\" class=\"data row1 col2\" >10.26%</td>\n",
       "            </tr>\n",
       "    </tbody></table>"
      ],
      "text/plain": [
       "<pandas.io.formats.style.Styler at 0x7f17ec437450>"
      ]
     },
     "metadata": {},
     "output_type": "display_data"
    }
   ],
   "source": [
    "gender_pivot = data.pivot_table( index = 'gender', \n",
    "                              columns = 'debt', values = 'total_income', aggfunc = 'count').fillna(0)\n",
    "gender_pivot.columns = ['Нет задолженности', 'Задолженность']\n",
    "gender_pivot['%'] = gender_pivot['Задолженность'] / (gender_pivot['Задолженность'] + gender_pivot['Нет задолженности'])\n",
    "gender_pivot = gender_pivot.sort_values(by = ['Задолженность'], ascending = False)\n",
    "display(gender_pivot.style.format({'%':'{:.2%}'}))"
   ]
  },
  {
   "cell_type": "markdown",
   "id": "3695c3fc",
   "metadata": {},
   "source": [
    "Для создания портрета надежного и ненадежного заемщика рассмтрим задолженность по уровню образования "
   ]
  },
  {
   "cell_type": "code",
   "execution_count": 54,
   "id": "1f7cc50d",
   "metadata": {
    "scrolled": true
   },
   "outputs": [
    {
     "data": {
      "text/html": [
       "<style  type=\"text/css\" >\n",
       "</style><table id=\"T_a8b062ca_9e2e_11ec_bde5_02420a393150\" ><thead>    <tr>        <th class=\"blank level0\" ></th>        <th class=\"col_heading level0 col0\" >Нет задолженности</th>        <th class=\"col_heading level0 col1\" >Задолженность</th>        <th class=\"col_heading level0 col2\" >%</th>    </tr>    <tr>        <th class=\"index_name level0\" >education</th>        <th class=\"blank\" ></th>        <th class=\"blank\" ></th>        <th class=\"blank\" ></th>    </tr></thead><tbody>\n",
       "                <tr>\n",
       "                        <th id=\"T_a8b062ca_9e2e_11ec_bde5_02420a393150level0_row0\" class=\"row_heading level0 row0\" >среднее</th>\n",
       "                        <td id=\"T_a8b062ca_9e2e_11ec_bde5_02420a393150row0_col0\" class=\"data row0 col0\" >13808</td>\n",
       "                        <td id=\"T_a8b062ca_9e2e_11ec_bde5_02420a393150row0_col1\" class=\"data row0 col1\" >1364</td>\n",
       "                        <td id=\"T_a8b062ca_9e2e_11ec_bde5_02420a393150row0_col2\" class=\"data row0 col2\" >8.99%</td>\n",
       "            </tr>\n",
       "            <tr>\n",
       "                        <th id=\"T_a8b062ca_9e2e_11ec_bde5_02420a393150level0_row1\" class=\"row_heading level0 row1\" >высшее</th>\n",
       "                        <td id=\"T_a8b062ca_9e2e_11ec_bde5_02420a393150row1_col0\" class=\"data row1 col0\" >4972</td>\n",
       "                        <td id=\"T_a8b062ca_9e2e_11ec_bde5_02420a393150row1_col1\" class=\"data row1 col1\" >278</td>\n",
       "                        <td id=\"T_a8b062ca_9e2e_11ec_bde5_02420a393150row1_col2\" class=\"data row1 col2\" >5.30%</td>\n",
       "            </tr>\n",
       "            <tr>\n",
       "                        <th id=\"T_a8b062ca_9e2e_11ec_bde5_02420a393150level0_row2\" class=\"row_heading level0 row2\" >неоконченное высшее</th>\n",
       "                        <td id=\"T_a8b062ca_9e2e_11ec_bde5_02420a393150row2_col0\" class=\"data row2 col0\" >675</td>\n",
       "                        <td id=\"T_a8b062ca_9e2e_11ec_bde5_02420a393150row2_col1\" class=\"data row2 col1\" >68</td>\n",
       "                        <td id=\"T_a8b062ca_9e2e_11ec_bde5_02420a393150row2_col2\" class=\"data row2 col2\" >9.15%</td>\n",
       "            </tr>\n",
       "            <tr>\n",
       "                        <th id=\"T_a8b062ca_9e2e_11ec_bde5_02420a393150level0_row3\" class=\"row_heading level0 row3\" >начальное</th>\n",
       "                        <td id=\"T_a8b062ca_9e2e_11ec_bde5_02420a393150row3_col0\" class=\"data row3 col0\" >251</td>\n",
       "                        <td id=\"T_a8b062ca_9e2e_11ec_bde5_02420a393150row3_col1\" class=\"data row3 col1\" >31</td>\n",
       "                        <td id=\"T_a8b062ca_9e2e_11ec_bde5_02420a393150row3_col2\" class=\"data row3 col2\" >10.99%</td>\n",
       "            </tr>\n",
       "            <tr>\n",
       "                        <th id=\"T_a8b062ca_9e2e_11ec_bde5_02420a393150level0_row4\" class=\"row_heading level0 row4\" >ученая степень</th>\n",
       "                        <td id=\"T_a8b062ca_9e2e_11ec_bde5_02420a393150row4_col0\" class=\"data row4 col0\" >6</td>\n",
       "                        <td id=\"T_a8b062ca_9e2e_11ec_bde5_02420a393150row4_col1\" class=\"data row4 col1\" >0</td>\n",
       "                        <td id=\"T_a8b062ca_9e2e_11ec_bde5_02420a393150row4_col2\" class=\"data row4 col2\" >0.00%</td>\n",
       "            </tr>\n",
       "    </tbody></table>"
      ],
      "text/plain": [
       "<pandas.io.formats.style.Styler at 0x7f17ec3814d0>"
      ]
     },
     "metadata": {},
     "output_type": "display_data"
    }
   ],
   "source": [
    "education_pivot = data.pivot_table( index = 'education', \n",
    "                              columns = 'debt', values = 'total_income', aggfunc = 'count').fillna(0)\n",
    "education_pivot.columns = ['Нет задолженности', 'Задолженность']\n",
    "education_pivot['%'] = education_pivot['Задолженность'] / (education_pivot['Задолженность'] + education_pivot['Нет задолженности'])\n",
    "education_pivot = education_pivot.sort_values(by = ['Задолженность'], ascending = False)\n",
    "display(education_pivot.style.format({'%':'{:.2%}'}))"
   ]
  },
  {
   "cell_type": "code",
   "execution_count": 55,
   "id": "23335a5a",
   "metadata": {},
   "outputs": [
    {
     "data": {
      "text/html": [
       "<div>\n",
       "<style scoped>\n",
       "    .dataframe tbody tr th:only-of-type {\n",
       "        vertical-align: middle;\n",
       "    }\n",
       "\n",
       "    .dataframe tbody tr th {\n",
       "        vertical-align: top;\n",
       "    }\n",
       "\n",
       "    .dataframe thead th {\n",
       "        text-align: right;\n",
       "    }\n",
       "</style>\n",
       "<table border=\"1\" class=\"dataframe\">\n",
       "  <thead>\n",
       "    <tr style=\"text-align: right;\">\n",
       "      <th></th>\n",
       "      <th>children</th>\n",
       "      <th>days_employed</th>\n",
       "      <th>dob_years</th>\n",
       "      <th>education_id</th>\n",
       "      <th>family_status_id</th>\n",
       "      <th>debt</th>\n",
       "      <th>total_income</th>\n",
       "    </tr>\n",
       "  </thead>\n",
       "  <tbody>\n",
       "    <tr>\n",
       "      <td>count</td>\n",
       "      <td>5041.000000</td>\n",
       "      <td>5041.000000</td>\n",
       "      <td>5041.000000</td>\n",
       "      <td>5041.000000</td>\n",
       "      <td>5041.000000</td>\n",
       "      <td>5041.000000</td>\n",
       "      <td>5041.000000</td>\n",
       "    </tr>\n",
       "    <tr>\n",
       "      <td>mean</td>\n",
       "      <td>0.502083</td>\n",
       "      <td>42261.837135</td>\n",
       "      <td>42.341401</td>\n",
       "      <td>0.691529</td>\n",
       "      <td>0.952390</td>\n",
       "      <td>0.070621</td>\n",
       "      <td>286578.919064</td>\n",
       "    </tr>\n",
       "    <tr>\n",
       "      <td>std</td>\n",
       "      <td>0.771032</td>\n",
       "      <td>113805.944708</td>\n",
       "      <td>11.514186</td>\n",
       "      <td>0.593170</td>\n",
       "      <td>1.425155</td>\n",
       "      <td>0.256216</td>\n",
       "      <td>94892.470242</td>\n",
       "    </tr>\n",
       "    <tr>\n",
       "      <td>min</td>\n",
       "      <td>0.000000</td>\n",
       "      <td>0.000000</td>\n",
       "      <td>0.000000</td>\n",
       "      <td>0.000000</td>\n",
       "      <td>0.000000</td>\n",
       "      <td>0.000000</td>\n",
       "      <td>200001.000000</td>\n",
       "    </tr>\n",
       "    <tr>\n",
       "      <td>25%</td>\n",
       "      <td>0.000000</td>\n",
       "      <td>950.000000</td>\n",
       "      <td>33.000000</td>\n",
       "      <td>0.000000</td>\n",
       "      <td>0.000000</td>\n",
       "      <td>0.000000</td>\n",
       "      <td>224448.000000</td>\n",
       "    </tr>\n",
       "    <tr>\n",
       "      <td>50%</td>\n",
       "      <td>0.000000</td>\n",
       "      <td>2081.000000</td>\n",
       "      <td>42.000000</td>\n",
       "      <td>1.000000</td>\n",
       "      <td>0.000000</td>\n",
       "      <td>0.000000</td>\n",
       "      <td>257692.000000</td>\n",
       "    </tr>\n",
       "    <tr>\n",
       "      <td>75%</td>\n",
       "      <td>1.000000</td>\n",
       "      <td>4209.000000</td>\n",
       "      <td>51.000000</td>\n",
       "      <td>1.000000</td>\n",
       "      <td>1.000000</td>\n",
       "      <td>0.000000</td>\n",
       "      <td>314984.000000</td>\n",
       "    </tr>\n",
       "    <tr>\n",
       "      <td>max</td>\n",
       "      <td>5.000000</td>\n",
       "      <td>401674.000000</td>\n",
       "      <td>72.000000</td>\n",
       "      <td>4.000000</td>\n",
       "      <td>4.000000</td>\n",
       "      <td>1.000000</td>\n",
       "      <td>997014.000000</td>\n",
       "    </tr>\n",
       "  </tbody>\n",
       "</table>\n",
       "</div>"
      ],
      "text/plain": [
       "          children  days_employed    dob_years  education_id  \\\n",
       "count  5041.000000    5041.000000  5041.000000   5041.000000   \n",
       "mean      0.502083   42261.837135    42.341401      0.691529   \n",
       "std       0.771032  113805.944708    11.514186      0.593170   \n",
       "min       0.000000       0.000000     0.000000      0.000000   \n",
       "25%       0.000000     950.000000    33.000000      0.000000   \n",
       "50%       0.000000    2081.000000    42.000000      1.000000   \n",
       "75%       1.000000    4209.000000    51.000000      1.000000   \n",
       "max       5.000000  401674.000000    72.000000      4.000000   \n",
       "\n",
       "       family_status_id         debt   total_income  \n",
       "count       5041.000000  5041.000000    5041.000000  \n",
       "mean           0.952390     0.070621  286578.919064  \n",
       "std            1.425155     0.256216   94892.470242  \n",
       "min            0.000000     0.000000  200001.000000  \n",
       "25%            0.000000     0.000000  224448.000000  \n",
       "50%            0.000000     0.000000  257692.000000  \n",
       "75%            1.000000     0.000000  314984.000000  \n",
       "max            4.000000     1.000000  997014.000000  "
      ]
     },
     "execution_count": 55,
     "metadata": {},
     "output_type": "execute_result"
    }
   ],
   "source": [
    "data.loc[data['total_income_category'] == 'B'].describe()"
   ]
  },
  {
   "cell_type": "code",
   "execution_count": 56,
   "id": "727e5ea4",
   "metadata": {},
   "outputs": [
    {
     "data": {
      "text/plain": [
       "сотрудник          2377\n",
       "компаньон          1740\n",
       "пенсионер           552\n",
       "госслужащий         369\n",
       "предприниматель       2\n",
       "безработный           1\n",
       "Name: income_type, dtype: int64"
      ]
     },
     "execution_count": 56,
     "metadata": {},
     "output_type": "execute_result"
    }
   ],
   "source": [
    "data.loc[data['total_income_category'] == 'B']['income_type'].value_counts()"
   ]
  },
  {
   "cell_type": "code",
   "execution_count": 57,
   "id": "ec77d69f",
   "metadata": {
    "scrolled": true
   },
   "outputs": [
    {
     "data": {
      "text/plain": [
       "среднее                2924\n",
       "высшее                 1858\n",
       "неоконченное высшее     217\n",
       "начальное                40\n",
       "ученая степень            2\n",
       "Name: education, dtype: int64"
      ]
     },
     "execution_count": 57,
     "metadata": {},
     "output_type": "execute_result"
    }
   ],
   "source": [
    "data.loc[data['total_income_category'] == 'B']['education'].value_counts()"
   ]
  },
  {
   "cell_type": "code",
   "execution_count": 58,
   "id": "6584e2b3",
   "metadata": {
    "scrolled": true
   },
   "outputs": [
    {
     "data": {
      "text/plain": [
       "0    2961\n",
       "1     975\n",
       "4     667\n",
       "3     282\n",
       "2     156\n",
       "Name: family_status_id, dtype: int64"
      ]
     },
     "execution_count": 58,
     "metadata": {},
     "output_type": "execute_result"
    }
   ],
   "source": [
    "data.loc[data['total_income_category'] == 'B']['family_status_id'].value_counts()"
   ]
  },
  {
   "cell_type": "code",
   "execution_count": 59,
   "id": "90559404",
   "metadata": {
    "scrolled": false
   },
   "outputs": [
    {
     "data": {
      "text/plain": [
       "0    3245\n",
       "1    1175\n",
       "2     522\n",
       "3      88\n",
       "4       7\n",
       "5       4\n",
       "Name: children, dtype: int64"
      ]
     },
     "execution_count": 59,
     "metadata": {},
     "output_type": "execute_result"
    }
   ],
   "source": [
    "data.loc[data['total_income_category'] == 'B']['children'].value_counts()"
   ]
  },
  {
   "cell_type": "code",
   "execution_count": 60,
   "id": "5cd76059",
   "metadata": {
    "scrolled": true
   },
   "outputs": [
    {
     "data": {
      "text/plain": [
       "F    2711\n",
       "M    2330\n",
       "Name: gender, dtype: int64"
      ]
     },
     "execution_count": 60,
     "metadata": {},
     "output_type": "execute_result"
    }
   ],
   "source": [
    "data.loc[data['total_income_category'] == 'B']['gender'].value_counts()"
   ]
  },
  {
   "cell_type": "code",
   "execution_count": 61,
   "id": "c4f12435",
   "metadata": {},
   "outputs": [
    {
     "data": {
      "text/plain": [
       "операции с недвижимостью    2568\n",
       "операции с автомобилем      1031\n",
       "получение образования        897\n",
       "проведение свадьбы           545\n",
       "Name: purpose_category, dtype: int64"
      ]
     },
     "execution_count": 61,
     "metadata": {},
     "output_type": "execute_result"
    }
   ],
   "source": [
    "data.loc[data['total_income_category'] == 'B']['purpose_category'].value_counts()"
   ]
  },
  {
   "cell_type": "markdown",
   "id": "667821e5",
   "metadata": {},
   "source": [
    "### Ответы на вопросы."
   ]
  },
  {
   "cell_type": "markdown",
   "id": "2da5d049",
   "metadata": {},
   "source": [
    "#### Вопросы :"
   ]
  },
  {
   "cell_type": "markdown",
   "id": "73c209bb",
   "metadata": {},
   "source": [
    "•\tЕсть ли зависимость между количеством детей и возвратом кредита в срок?\n",
    "\n",
    "•\tЕсть ли зависимость между семейным положением и возвратом кредита в срок?\n",
    "\n",
    "•\tЕсть ли зависимость между уровнем дохода и возвратом кредита в срок?\n",
    "\n",
    "•\tКак разные цели кредита влияют на его возврат в срок?"
   ]
  },
  {
   "cell_type": "markdown",
   "id": "4489c0a1",
   "metadata": {},
   "source": [
    "#### Выводы:"
   ]
  },
  {
   "cell_type": "markdown",
   "id": "216129d7",
   "metadata": {},
   "source": [
    "Рассмотрев по очередно предположительные факторы, влияющие на погашение кредита в срок, пришла к выводам:\n",
    "\n",
    "1. самая большая группа по количеству кредитов - это группа без детей. Но если брать во внимание ее численность, а это 65% от всей выборки, то процент просроченной задолженности внутри - 7.51% - не велик. Т.е. больше всего берут кредиты - без детей. Группы с детьми малочисленней, они по количеству уменьшаются, а процент невозвратов увеличивается. В то время, как самая малочисленная, но с самым большим не возвратом - группа с 4 детьми. \n",
    "\n",
    "2. самая большая группа по количеству кредитов - это группа с статусом женат / замужем, процент не возвратов в сравнении с другими невелик. Группы меньше по численности, но с большим процентом - группы гражданский брак и Не женат / не замужем.\n",
    "\n",
    "3. по уровню дохода определено, что самая большпая группа по количеству кредитов и по просроченной заболженности - группа С, с медианным доходом - 130 453.5 (спарвелдиво заментить, что это медиана доходов по категориям). Наблюдается, что самые малочисленные группы, но  с самым большим процентом невозвратов внитри своей группы - это А (мадианое значение - 1 223 042) и Е (медианое значение - 26 431.0 )\n",
    "\n",
    "4. по целям кредита самое большое число, как по количеству взятых, так и по количесту невозвратов - все операции с недвижимостью. Но в процентом соотношении в подгруппах самый большой невозврат - операции с автомобилем и обучение. \n",
    " \n"
   ]
  },
  {
   "cell_type": "markdown",
   "id": "2ff2a685",
   "metadata": {},
   "source": [
    "## Общий вывод:"
   ]
  },
  {
   "cell_type": "markdown",
   "id": "9dbed168",
   "metadata": {},
   "source": [
    "Проработав и рассмотрев статистику о платежеспособности клиентов банка, пришла к выводам. \n",
    "   Во-первых, что недостаточно представлена выборка по типу занатости - в декрете, студент, безработный, предприниматель. Данные являются не показательными и недостаточными, а именно слишком малое наблюдение (1 и 2 представителя). На мой взгляд это достаточно рисковые заемщики, их следовало бы исключить из общей выборки и анализа, чтобы не было выбросов. \n",
    "   Во-вторых, разделив выборку на категории по доходу, было отмечено, что категрии с самым большим доходом и с самым маленьким доходом - не многочислены, но с высоким процентом невозврата внутри своей ктегории. Самая многочисленная по кредитам и по задолженности - группа c средним уровнем дохода. \n",
    "   В-третьих, самыми значимыми, на мой взгляд являются фкторы, влияющие на возврат кредита в срок -наличие детей и их количество, а также семейный статус. Риск не возврата увеличивается, как и количество детей. А одинокие или в гражданском браке, не самые многочисленные, но с высоким процентом по невозврату. \n",
    "   В-четвертых, цель кредита, на мой взгляд, не самый определяющий фактор, но влияющий на возврат, самы частые опирации  операции с недвижимостью(самые \"популярные\", дорогостоящие и с самым большим количеством невозвратов), опять же самые большие по проценту внутри группы - это операции с автомобилем и получение образования.\n",
    " \n",
    " \n",
    "Если за основной критерий взять - уровень дохода, то портрет ненадежного заемщика выгялит: \n",
    "\n",
    "в категориях E (доход медиана -  26431.0) и D (доход медиана -  43857.5)\n",
    "Пенсионер (женщина) замужем, образование среднее/начальное/неоконченное высшее, цель - операции с недвижимостью. \n",
    " \n",
    "в категории С (доход медиана - 130395.0) \n",
    "Женщина с должностью сотрудник, замужем, образование среднее/начальное/неоконченное высшее, 2 детей, цель - операции с недвижимостью. \n",
    "\n",
    "в категории B  (доход медиана -   257692)\n",
    "Мужчина с должностью сотрудник, женат, образование среднее/начальное/неоконченное высшее, от 2 и выше детей., цель - операции с недвижимостью. "
   ]
  }
 ],
 "metadata": {
  "ExecuteTimeLog": [
   {
    "duration": 605,
    "start_time": "2022-02-19T17:07:01.947Z"
   },
   {
    "duration": 52,
    "start_time": "2022-02-19T17:22:48.673Z"
   },
   {
    "duration": 20,
    "start_time": "2022-02-19T17:23:21.726Z"
   },
   {
    "duration": 265,
    "start_time": "2022-02-19T18:00:14.507Z"
   },
   {
    "duration": 193,
    "start_time": "2022-02-19T18:00:55.907Z"
   },
   {
    "duration": 202,
    "start_time": "2022-02-19T18:06:21.892Z"
   },
   {
    "duration": 53,
    "start_time": "2022-02-19T18:06:29.629Z"
   },
   {
    "duration": 13,
    "start_time": "2022-02-19T18:06:33.101Z"
   },
   {
    "duration": 188,
    "start_time": "2022-02-19T18:06:36.438Z"
   },
   {
    "duration": 21,
    "start_time": "2022-02-19T18:10:55.788Z"
   },
   {
    "duration": 11,
    "start_time": "2022-02-19T18:11:18.596Z"
   },
   {
    "duration": 9,
    "start_time": "2022-02-19T18:12:01.969Z"
   },
   {
    "duration": 191,
    "start_time": "2022-02-19T18:23:02.768Z"
   },
   {
    "duration": 7,
    "start_time": "2022-02-19T18:24:23.296Z"
   },
   {
    "duration": 5,
    "start_time": "2022-02-19T18:24:52.505Z"
   },
   {
    "duration": 5,
    "start_time": "2022-02-19T18:25:06.649Z"
   },
   {
    "duration": 5,
    "start_time": "2022-02-19T18:25:16.257Z"
   },
   {
    "duration": 4,
    "start_time": "2022-02-19T18:25:21.817Z"
   },
   {
    "duration": 702,
    "start_time": "2022-02-19T18:26:43.755Z"
   },
   {
    "duration": 6,
    "start_time": "2022-02-19T18:26:48.609Z"
   },
   {
    "duration": 4,
    "start_time": "2022-02-19T18:27:10.995Z"
   },
   {
    "duration": 5,
    "start_time": "2022-02-19T18:27:34.089Z"
   },
   {
    "duration": 6,
    "start_time": "2022-02-19T18:28:18.033Z"
   },
   {
    "duration": 196,
    "start_time": "2022-02-19T18:39:05.251Z"
   },
   {
    "duration": 4,
    "start_time": "2022-02-19T18:42:55.541Z"
   },
   {
    "duration": 4,
    "start_time": "2022-02-19T18:43:02.190Z"
   },
   {
    "duration": 3,
    "start_time": "2022-02-19T18:43:24.409Z"
   },
   {
    "duration": 4,
    "start_time": "2022-02-19T18:43:27.718Z"
   },
   {
    "duration": 194,
    "start_time": "2022-02-19T18:58:09.446Z"
   },
   {
    "duration": 190,
    "start_time": "2022-02-19T18:59:02.075Z"
   },
   {
    "duration": 3,
    "start_time": "2022-02-19T18:59:44.640Z"
   },
   {
    "duration": 4,
    "start_time": "2022-02-19T18:59:48.194Z"
   },
   {
    "duration": 3,
    "start_time": "2022-02-19T19:00:57.436Z"
   },
   {
    "duration": 4573,
    "start_time": "2022-02-19T19:01:57.553Z"
   },
   {
    "duration": 2,
    "start_time": "2022-02-19T19:22:19.478Z"
   },
   {
    "duration": 5,
    "start_time": "2022-02-19T19:32:10.593Z"
   },
   {
    "duration": 4,
    "start_time": "2022-02-19T19:32:35.181Z"
   },
   {
    "duration": 4,
    "start_time": "2022-02-19T19:33:19.103Z"
   },
   {
    "duration": 4,
    "start_time": "2022-02-19T19:33:50.871Z"
   },
   {
    "duration": 4,
    "start_time": "2022-02-19T20:09:34.177Z"
   },
   {
    "duration": 6,
    "start_time": "2022-02-19T20:09:58.483Z"
   },
   {
    "duration": 7,
    "start_time": "2022-02-19T20:11:54.639Z"
   },
   {
    "duration": 8,
    "start_time": "2022-02-19T20:12:35.874Z"
   },
   {
    "duration": 213,
    "start_time": "2022-02-19T20:15:31.896Z"
   },
   {
    "duration": 57,
    "start_time": "2022-02-19T20:15:54.813Z"
   },
   {
    "duration": 7,
    "start_time": "2022-02-19T20:16:04.093Z"
   },
   {
    "duration": 6,
    "start_time": "2022-02-19T20:26:01.586Z"
   },
   {
    "duration": 634,
    "start_time": "2022-02-19T20:28:50.607Z"
   },
   {
    "duration": 197,
    "start_time": "2022-02-19T20:30:03.620Z"
   },
   {
    "duration": 180,
    "start_time": "2022-02-19T20:30:20.331Z"
   },
   {
    "duration": 5,
    "start_time": "2022-02-19T20:36:15.291Z"
   },
   {
    "duration": 5,
    "start_time": "2022-02-19T20:36:31.577Z"
   },
   {
    "duration": 6,
    "start_time": "2022-02-19T20:37:03.479Z"
   },
   {
    "duration": 210,
    "start_time": "2022-02-19T20:48:58.233Z"
   },
   {
    "duration": 4,
    "start_time": "2022-02-19T20:49:02.408Z"
   },
   {
    "duration": 11,
    "start_time": "2022-02-19T20:50:11.876Z"
   },
   {
    "duration": 16,
    "start_time": "2022-02-19T20:51:26.683Z"
   },
   {
    "duration": 4,
    "start_time": "2022-02-19T20:52:09.635Z"
   },
   {
    "duration": 15,
    "start_time": "2022-02-19T20:52:23.355Z"
   },
   {
    "duration": 13,
    "start_time": "2022-02-19T20:53:43.890Z"
   },
   {
    "duration": 15,
    "start_time": "2022-02-19T20:54:17.778Z"
   },
   {
    "duration": 68,
    "start_time": "2022-02-19T21:07:36.562Z"
   },
   {
    "duration": 7,
    "start_time": "2022-02-19T21:07:55.602Z"
   },
   {
    "duration": 6,
    "start_time": "2022-02-19T21:07:57.113Z"
   },
   {
    "duration": 6,
    "start_time": "2022-02-19T21:07:59.753Z"
   },
   {
    "duration": 7,
    "start_time": "2022-02-19T21:08:02.001Z"
   },
   {
    "duration": 5,
    "start_time": "2022-02-19T21:08:17.953Z"
   },
   {
    "duration": 4,
    "start_time": "2022-02-19T21:09:56.072Z"
   },
   {
    "duration": 5,
    "start_time": "2022-02-19T21:10:06.257Z"
   },
   {
    "duration": 7,
    "start_time": "2022-02-19T21:11:18.664Z"
   },
   {
    "duration": 5,
    "start_time": "2022-02-19T21:11:29.063Z"
   },
   {
    "duration": 8,
    "start_time": "2022-02-19T21:17:05.593Z"
   },
   {
    "duration": 4,
    "start_time": "2022-02-19T21:19:15.620Z"
   },
   {
    "duration": 5,
    "start_time": "2022-02-19T21:19:31.251Z"
   },
   {
    "duration": 5,
    "start_time": "2022-02-19T21:19:56.506Z"
   },
   {
    "duration": 3,
    "start_time": "2022-02-19T21:20:50.316Z"
   },
   {
    "duration": 13,
    "start_time": "2022-02-19T21:25:29.760Z"
   },
   {
    "duration": 7,
    "start_time": "2022-02-19T21:25:57.712Z"
   },
   {
    "duration": 9,
    "start_time": "2022-02-19T21:26:10.952Z"
   },
   {
    "duration": 4,
    "start_time": "2022-02-19T21:32:06.924Z"
   },
   {
    "duration": 5,
    "start_time": "2022-02-19T21:32:19.566Z"
   },
   {
    "duration": 4,
    "start_time": "2022-02-19T21:33:00.212Z"
   },
   {
    "duration": 95,
    "start_time": "2022-02-20T13:56:15.850Z"
   },
   {
    "duration": 363,
    "start_time": "2022-02-20T13:56:23.710Z"
   },
   {
    "duration": 362,
    "start_time": "2022-02-20T13:56:45.167Z"
   },
   {
    "duration": 82,
    "start_time": "2022-02-20T13:59:45.639Z"
   },
   {
    "duration": 348,
    "start_time": "2022-02-20T14:00:13.462Z"
   },
   {
    "duration": 274,
    "start_time": "2022-02-20T14:00:31.382Z"
   },
   {
    "duration": 294,
    "start_time": "2022-02-20T14:01:06.590Z"
   },
   {
    "duration": 276,
    "start_time": "2022-02-20T14:03:54.092Z"
   },
   {
    "duration": 409,
    "start_time": "2022-02-20T14:04:03.024Z"
   },
   {
    "duration": 790,
    "start_time": "2022-02-20T14:04:08.502Z"
   },
   {
    "duration": 30,
    "start_time": "2022-02-20T14:04:13.134Z"
   },
   {
    "duration": 25,
    "start_time": "2022-02-20T14:04:15.762Z"
   },
   {
    "duration": 12,
    "start_time": "2022-02-20T14:04:17.145Z"
   },
   {
    "duration": 4,
    "start_time": "2022-02-20T14:04:20.965Z"
   },
   {
    "duration": 103,
    "start_time": "2022-02-20T14:04:21.530Z"
   },
   {
    "duration": 6,
    "start_time": "2022-02-20T14:04:24.964Z"
   },
   {
    "duration": 327,
    "start_time": "2022-02-20T14:04:26.232Z"
   },
   {
    "duration": 18,
    "start_time": "2022-02-20T14:05:11.484Z"
   },
   {
    "duration": 19,
    "start_time": "2022-02-20T14:06:09.811Z"
   },
   {
    "duration": 15,
    "start_time": "2022-02-20T14:26:58.749Z"
   },
   {
    "duration": 17,
    "start_time": "2022-02-20T14:27:44.759Z"
   },
   {
    "duration": 10,
    "start_time": "2022-02-20T14:27:59.246Z"
   },
   {
    "duration": 12,
    "start_time": "2022-02-20T14:28:49.085Z"
   },
   {
    "duration": 29,
    "start_time": "2022-02-20T14:28:56.516Z"
   },
   {
    "duration": 25,
    "start_time": "2022-02-20T14:29:42.596Z"
   },
   {
    "duration": 6,
    "start_time": "2022-02-20T14:29:52.660Z"
   },
   {
    "duration": 26,
    "start_time": "2022-02-20T14:30:29.147Z"
   },
   {
    "duration": 294,
    "start_time": "2022-02-20T14:32:08.994Z"
   },
   {
    "duration": 301,
    "start_time": "2022-02-20T14:33:05.714Z"
   },
   {
    "duration": 6,
    "start_time": "2022-02-20T14:34:17.004Z"
   },
   {
    "duration": 8,
    "start_time": "2022-02-20T14:34:28.522Z"
   },
   {
    "duration": 100,
    "start_time": "2022-02-20T14:36:29.392Z"
   },
   {
    "duration": 5,
    "start_time": "2022-02-20T14:36:38.839Z"
   },
   {
    "duration": 5,
    "start_time": "2022-02-20T14:36:54.447Z"
   },
   {
    "duration": 19,
    "start_time": "2022-02-20T14:37:14.374Z"
   },
   {
    "duration": 14,
    "start_time": "2022-02-20T14:37:16.782Z"
   },
   {
    "duration": 16,
    "start_time": "2022-02-20T14:37:19.329Z"
   },
   {
    "duration": 14,
    "start_time": "2022-02-20T14:37:22.655Z"
   },
   {
    "duration": 316,
    "start_time": "2022-02-20T15:35:35.927Z"
   },
   {
    "duration": 61,
    "start_time": "2022-02-20T15:36:02.477Z"
   },
   {
    "duration": 12,
    "start_time": "2022-02-20T15:36:22.486Z"
   },
   {
    "duration": 49,
    "start_time": "2022-02-20T15:39:00.756Z"
   },
   {
    "duration": 26,
    "start_time": "2022-02-20T15:39:19.114Z"
   },
   {
    "duration": 10,
    "start_time": "2022-02-20T15:39:56.764Z"
   },
   {
    "duration": 15,
    "start_time": "2022-02-20T15:42:54.891Z"
   },
   {
    "duration": 288,
    "start_time": "2022-02-20T16:16:54.093Z"
   },
   {
    "duration": 368,
    "start_time": "2022-02-20T16:17:07.069Z"
   },
   {
    "duration": 298,
    "start_time": "2022-02-20T16:17:34.934Z"
   },
   {
    "duration": 373,
    "start_time": "2022-02-20T16:17:43.293Z"
   },
   {
    "duration": 292,
    "start_time": "2022-02-20T16:18:22.676Z"
   },
   {
    "duration": 301,
    "start_time": "2022-02-20T16:19:16.996Z"
   },
   {
    "duration": 336,
    "start_time": "2022-02-20T16:19:26.501Z"
   },
   {
    "duration": 282,
    "start_time": "2022-02-20T16:19:39.333Z"
   },
   {
    "duration": 330,
    "start_time": "2022-02-20T16:20:09.140Z"
   },
   {
    "duration": 286,
    "start_time": "2022-02-20T16:20:11.412Z"
   },
   {
    "duration": 272,
    "start_time": "2022-02-20T16:20:35.853Z"
   },
   {
    "duration": 292,
    "start_time": "2022-02-20T16:20:42.475Z"
   },
   {
    "duration": 288,
    "start_time": "2022-02-20T16:20:53.172Z"
   },
   {
    "duration": 7,
    "start_time": "2022-02-20T16:25:09.776Z"
   },
   {
    "duration": 13,
    "start_time": "2022-02-20T16:30:30.406Z"
   },
   {
    "duration": 13,
    "start_time": "2022-02-20T16:30:53.606Z"
   },
   {
    "duration": 8,
    "start_time": "2022-02-20T16:31:12.901Z"
   },
   {
    "duration": 23,
    "start_time": "2022-02-20T16:31:51.254Z"
   },
   {
    "duration": 10,
    "start_time": "2022-02-20T16:32:07.773Z"
   },
   {
    "duration": 7,
    "start_time": "2022-02-20T16:35:30.587Z"
   },
   {
    "duration": 9,
    "start_time": "2022-02-20T16:35:48.787Z"
   },
   {
    "duration": 254,
    "start_time": "2022-02-20T16:38:33.065Z"
   },
   {
    "duration": 297,
    "start_time": "2022-02-20T16:49:58.926Z"
   },
   {
    "duration": 5,
    "start_time": "2022-02-20T16:50:39.977Z"
   },
   {
    "duration": 4,
    "start_time": "2022-02-20T16:50:43.093Z"
   },
   {
    "duration": 7,
    "start_time": "2022-02-20T16:51:58.111Z"
   },
   {
    "duration": 7,
    "start_time": "2022-02-20T16:52:00.189Z"
   },
   {
    "duration": 8,
    "start_time": "2022-02-20T16:52:26.381Z"
   },
   {
    "duration": 20,
    "start_time": "2022-02-20T16:52:30.415Z"
   },
   {
    "duration": 7,
    "start_time": "2022-02-20T16:52:32.949Z"
   },
   {
    "duration": 6,
    "start_time": "2022-02-20T16:53:04.941Z"
   },
   {
    "duration": 99,
    "start_time": "2022-02-20T16:56:48.426Z"
   },
   {
    "duration": 14,
    "start_time": "2022-02-20T16:56:51.803Z"
   },
   {
    "duration": 15,
    "start_time": "2022-02-20T16:57:45.674Z"
   },
   {
    "duration": 12,
    "start_time": "2022-02-20T16:58:11.147Z"
   },
   {
    "duration": 4,
    "start_time": "2022-02-20T17:06:14.756Z"
   },
   {
    "duration": 15,
    "start_time": "2022-02-20T17:06:42.022Z"
   },
   {
    "duration": 257,
    "start_time": "2022-02-20T17:08:30.371Z"
   },
   {
    "duration": 241,
    "start_time": "2022-02-20T17:08:34.579Z"
   },
   {
    "duration": 242,
    "start_time": "2022-02-20T17:09:15.268Z"
   },
   {
    "duration": 12,
    "start_time": "2022-02-20T17:09:34.387Z"
   },
   {
    "duration": 100,
    "start_time": "2022-02-20T17:13:04.241Z"
   },
   {
    "duration": 8,
    "start_time": "2022-02-20T17:13:16.769Z"
   },
   {
    "duration": 14,
    "start_time": "2022-02-20T17:13:51.697Z"
   },
   {
    "duration": 357,
    "start_time": "2022-02-20T17:15:11.120Z"
   },
   {
    "duration": 18,
    "start_time": "2022-02-20T17:15:51.643Z"
   },
   {
    "duration": 14,
    "start_time": "2022-02-20T17:16:02.670Z"
   },
   {
    "duration": 6,
    "start_time": "2022-02-20T17:16:36.110Z"
   },
   {
    "duration": 19,
    "start_time": "2022-02-20T17:16:48.120Z"
   },
   {
    "duration": 352,
    "start_time": "2022-02-20T17:22:30.499Z"
   },
   {
    "duration": 335,
    "start_time": "2022-02-20T17:23:43.809Z"
   },
   {
    "duration": 7,
    "start_time": "2022-02-20T17:23:51.835Z"
   },
   {
    "duration": 16,
    "start_time": "2022-02-20T17:28:09.759Z"
   },
   {
    "duration": 7601,
    "start_time": "2022-02-20T17:52:23.675Z"
   },
   {
    "duration": 7449,
    "start_time": "2022-02-20T17:53:06.618Z"
   },
   {
    "duration": 8205,
    "start_time": "2022-02-20T17:53:15.386Z"
   },
   {
    "duration": 55,
    "start_time": "2022-02-20T17:53:46.194Z"
   },
   {
    "duration": 11,
    "start_time": "2022-02-20T17:54:40.921Z"
   },
   {
    "duration": 10,
    "start_time": "2022-02-20T17:55:44.520Z"
   },
   {
    "duration": 101,
    "start_time": "2022-02-20T17:56:58.127Z"
   },
   {
    "duration": 106,
    "start_time": "2022-02-20T17:57:33.006Z"
   },
   {
    "duration": 8,
    "start_time": "2022-02-20T17:58:07.118Z"
   },
   {
    "duration": 5,
    "start_time": "2022-02-20T18:05:27.562Z"
   },
   {
    "duration": 15,
    "start_time": "2022-02-20T18:08:21.704Z"
   },
   {
    "duration": 92,
    "start_time": "2022-02-20T18:10:56.984Z"
   },
   {
    "duration": 16,
    "start_time": "2022-02-20T18:15:57.243Z"
   },
   {
    "duration": 18,
    "start_time": "2022-02-20T18:16:24.067Z"
   },
   {
    "duration": 14,
    "start_time": "2022-02-20T18:16:26.435Z"
   },
   {
    "duration": 15,
    "start_time": "2022-02-20T18:18:41.442Z"
   },
   {
    "duration": 16,
    "start_time": "2022-02-20T18:18:44.466Z"
   },
   {
    "duration": 15,
    "start_time": "2022-02-20T18:21:52.496Z"
   },
   {
    "duration": 15,
    "start_time": "2022-02-20T18:21:54.723Z"
   },
   {
    "duration": 6,
    "start_time": "2022-02-20T18:22:16.112Z"
   },
   {
    "duration": 7,
    "start_time": "2022-02-20T18:23:14.454Z"
   },
   {
    "duration": 21,
    "start_time": "2022-02-20T18:31:02.099Z"
   },
   {
    "duration": 16,
    "start_time": "2022-02-20T18:31:04.938Z"
   },
   {
    "duration": 6,
    "start_time": "2022-02-20T18:31:09.123Z"
   },
   {
    "duration": 6,
    "start_time": "2022-02-20T18:31:11.299Z"
   },
   {
    "duration": 10,
    "start_time": "2022-02-20T18:34:30.217Z"
   },
   {
    "duration": 17,
    "start_time": "2022-02-20T18:34:33.914Z"
   },
   {
    "duration": 14,
    "start_time": "2022-02-20T18:34:39.235Z"
   },
   {
    "duration": 6,
    "start_time": "2022-02-20T18:34:42.449Z"
   },
   {
    "duration": 6,
    "start_time": "2022-02-20T18:37:04.817Z"
   },
   {
    "duration": 6,
    "start_time": "2022-02-20T18:37:17.615Z"
   },
   {
    "duration": 5,
    "start_time": "2022-02-20T18:37:29.680Z"
   },
   {
    "duration": 7,
    "start_time": "2022-02-20T18:37:35.142Z"
   },
   {
    "duration": 116,
    "start_time": "2022-02-20T18:39:56.766Z"
   },
   {
    "duration": 176,
    "start_time": "2022-02-20T18:40:10.989Z"
   },
   {
    "duration": 304,
    "start_time": "2022-02-20T18:40:16.582Z"
   },
   {
    "duration": 6,
    "start_time": "2022-02-20T18:40:22.375Z"
   },
   {
    "duration": 22,
    "start_time": "2022-02-20T18:40:28.214Z"
   },
   {
    "duration": 24,
    "start_time": "2022-02-20T18:43:17.805Z"
   },
   {
    "duration": 29,
    "start_time": "2022-02-20T18:43:49.787Z"
   },
   {
    "duration": 286,
    "start_time": "2022-02-20T18:45:15.605Z"
   },
   {
    "duration": 7,
    "start_time": "2022-02-20T18:45:27.331Z"
   },
   {
    "duration": 235,
    "start_time": "2022-02-20T18:51:25.632Z"
   },
   {
    "duration": 7,
    "start_time": "2022-02-20T18:51:31.342Z"
   },
   {
    "duration": 17,
    "start_time": "2022-02-20T18:53:56.213Z"
   },
   {
    "duration": 7,
    "start_time": "2022-02-20T18:53:59.357Z"
   },
   {
    "duration": 21,
    "start_time": "2022-02-20T18:54:45.663Z"
   },
   {
    "duration": 7,
    "start_time": "2022-02-20T18:54:48.293Z"
   },
   {
    "duration": 11,
    "start_time": "2022-02-20T18:55:36.558Z"
   },
   {
    "duration": 8,
    "start_time": "2022-02-20T18:55:50.732Z"
   },
   {
    "duration": 27,
    "start_time": "2022-02-20T19:01:39.913Z"
   },
   {
    "duration": 6,
    "start_time": "2022-02-20T19:02:02.097Z"
   },
   {
    "duration": 29,
    "start_time": "2022-02-20T19:02:38.001Z"
   },
   {
    "duration": 118,
    "start_time": "2022-02-20T19:05:18.072Z"
   },
   {
    "duration": 10,
    "start_time": "2022-02-20T19:05:29.751Z"
   },
   {
    "duration": 107,
    "start_time": "2022-02-20T19:06:37.741Z"
   },
   {
    "duration": 102,
    "start_time": "2022-02-20T19:06:43.302Z"
   },
   {
    "duration": 95,
    "start_time": "2022-02-20T19:06:52.502Z"
   },
   {
    "duration": 130,
    "start_time": "2022-02-20T19:06:58.422Z"
   },
   {
    "duration": 114,
    "start_time": "2022-02-20T19:07:21.078Z"
   },
   {
    "duration": 114,
    "start_time": "2022-02-20T19:07:39.959Z"
   },
   {
    "duration": 285,
    "start_time": "2022-02-20T19:12:56.587Z"
   },
   {
    "duration": 12,
    "start_time": "2022-02-20T19:15:20.194Z"
   },
   {
    "duration": 340,
    "start_time": "2022-02-20T19:17:37.512Z"
   },
   {
    "duration": 322,
    "start_time": "2022-02-20T19:19:28.007Z"
   },
   {
    "duration": 381,
    "start_time": "2022-02-20T19:19:32.370Z"
   },
   {
    "duration": 279,
    "start_time": "2022-02-20T19:19:45.975Z"
   },
   {
    "duration": 312,
    "start_time": "2022-02-20T19:19:59.928Z"
   },
   {
    "duration": 372,
    "start_time": "2022-02-20T19:24:00.093Z"
   },
   {
    "duration": 298,
    "start_time": "2022-02-20T19:25:49.374Z"
   },
   {
    "duration": 37,
    "start_time": "2022-02-20T19:25:59.202Z"
   },
   {
    "duration": 91,
    "start_time": "2022-02-20T19:27:32.282Z"
   },
   {
    "duration": 8,
    "start_time": "2022-02-20T19:27:39.665Z"
   },
   {
    "duration": 16,
    "start_time": "2022-02-20T19:27:57.675Z"
   },
   {
    "duration": 6,
    "start_time": "2022-02-20T19:28:46.386Z"
   },
   {
    "duration": 8,
    "start_time": "2022-02-20T19:29:24.170Z"
   },
   {
    "duration": 6,
    "start_time": "2022-02-20T19:29:57.968Z"
   },
   {
    "duration": 7,
    "start_time": "2022-02-20T19:30:27.816Z"
   },
   {
    "duration": 8,
    "start_time": "2022-02-20T19:30:45.944Z"
   },
   {
    "duration": 9,
    "start_time": "2022-02-20T19:31:06.160Z"
   },
   {
    "duration": 8,
    "start_time": "2022-02-20T19:31:35.415Z"
   },
   {
    "duration": 7,
    "start_time": "2022-02-20T19:31:39.863Z"
   },
   {
    "duration": 7,
    "start_time": "2022-02-20T19:32:05.958Z"
   },
   {
    "duration": 4,
    "start_time": "2022-02-20T19:44:58.353Z"
   },
   {
    "duration": 5,
    "start_time": "2022-02-20T19:45:00.666Z"
   },
   {
    "duration": 4,
    "start_time": "2022-02-20T19:45:08.309Z"
   },
   {
    "duration": 5,
    "start_time": "2022-02-20T19:45:18.533Z"
   },
   {
    "duration": 6,
    "start_time": "2022-02-20T19:45:45.579Z"
   },
   {
    "duration": 9,
    "start_time": "2022-02-20T19:48:11.725Z"
   },
   {
    "duration": 12,
    "start_time": "2022-02-20T19:52:17.473Z"
   },
   {
    "duration": 33,
    "start_time": "2022-02-20T19:53:01.593Z"
   },
   {
    "duration": 8,
    "start_time": "2022-02-20T19:53:09.593Z"
   },
   {
    "duration": 826,
    "start_time": "2022-02-20T19:54:27.692Z"
   },
   {
    "duration": 30,
    "start_time": "2022-02-20T19:54:31.442Z"
   },
   {
    "duration": 7,
    "start_time": "2022-02-20T19:54:34.977Z"
   },
   {
    "duration": 6,
    "start_time": "2022-02-20T19:54:35.934Z"
   },
   {
    "duration": 6,
    "start_time": "2022-02-20T19:54:38.029Z"
   },
   {
    "duration": 18,
    "start_time": "2022-02-20T19:54:39.315Z"
   },
   {
    "duration": 8,
    "start_time": "2022-02-20T19:54:39.971Z"
   },
   {
    "duration": 18,
    "start_time": "2022-02-20T19:54:41.445Z"
   },
   {
    "duration": 6,
    "start_time": "2022-02-20T19:54:42.172Z"
   },
   {
    "duration": 8,
    "start_time": "2022-02-20T19:54:42.816Z"
   },
   {
    "duration": 60,
    "start_time": "2022-02-20T19:54:44.132Z"
   },
   {
    "duration": 11,
    "start_time": "2022-02-20T19:54:45.435Z"
   },
   {
    "duration": 244,
    "start_time": "2022-02-20T19:54:46.623Z"
   },
   {
    "duration": 18,
    "start_time": "2022-02-20T19:54:48.091Z"
   },
   {
    "duration": 9,
    "start_time": "2022-02-20T19:54:48.575Z"
   },
   {
    "duration": 8,
    "start_time": "2022-02-20T19:54:49.758Z"
   },
   {
    "duration": 8,
    "start_time": "2022-02-20T19:54:50.287Z"
   },
   {
    "duration": 7,
    "start_time": "2022-02-20T19:54:50.827Z"
   },
   {
    "duration": 9,
    "start_time": "2022-02-20T19:54:51.466Z"
   },
   {
    "duration": 15,
    "start_time": "2022-02-20T19:54:52.145Z"
   },
   {
    "duration": 61,
    "start_time": "2022-02-20T19:54:53.395Z"
   },
   {
    "duration": 6,
    "start_time": "2022-02-20T19:54:54.643Z"
   },
   {
    "duration": 6,
    "start_time": "2022-02-20T19:54:55.169Z"
   },
   {
    "duration": 5,
    "start_time": "2022-02-20T19:54:56.279Z"
   },
   {
    "duration": 8,
    "start_time": "2022-02-20T19:55:00.239Z"
   },
   {
    "duration": 7,
    "start_time": "2022-02-20T19:55:01.001Z"
   },
   {
    "duration": 8,
    "start_time": "2022-02-20T19:55:45.122Z"
   },
   {
    "duration": 7,
    "start_time": "2022-02-20T19:58:35.002Z"
   },
   {
    "duration": 8,
    "start_time": "2022-02-20T19:59:05.018Z"
   },
   {
    "duration": 7,
    "start_time": "2022-02-20T20:02:23.183Z"
   },
   {
    "duration": 27,
    "start_time": "2022-02-20T20:02:48.535Z"
   },
   {
    "duration": 10,
    "start_time": "2022-02-20T20:04:45.238Z"
   },
   {
    "duration": 445,
    "start_time": "2022-02-20T20:10:23.232Z"
   },
   {
    "duration": 8,
    "start_time": "2022-02-20T20:10:51.882Z"
   },
   {
    "duration": 296,
    "start_time": "2022-02-20T20:25:06.561Z"
   },
   {
    "duration": 333,
    "start_time": "2022-02-20T20:35:48.464Z"
   },
   {
    "duration": 318,
    "start_time": "2022-02-20T20:36:02.255Z"
   },
   {
    "duration": 12,
    "start_time": "2022-02-20T20:36:22.162Z"
   },
   {
    "duration": 7,
    "start_time": "2022-02-20T20:36:35.348Z"
   },
   {
    "duration": 13,
    "start_time": "2022-02-20T20:37:40.563Z"
   },
   {
    "duration": 556,
    "start_time": "2022-02-20T20:38:55.322Z"
   },
   {
    "duration": 11,
    "start_time": "2022-02-20T20:39:15.754Z"
   },
   {
    "duration": 94,
    "start_time": "2022-02-20T20:42:49.408Z"
   },
   {
    "duration": 98,
    "start_time": "2022-02-20T20:42:52.295Z"
   },
   {
    "duration": 92,
    "start_time": "2022-02-20T21:05:34.386Z"
   },
   {
    "duration": 95,
    "start_time": "2022-02-20T21:05:52.521Z"
   },
   {
    "duration": 89,
    "start_time": "2022-02-20T21:09:05.943Z"
   },
   {
    "duration": 90,
    "start_time": "2022-02-20T21:09:55.254Z"
   },
   {
    "duration": 6781,
    "start_time": "2022-02-20T21:10:09.319Z"
   },
   {
    "duration": 893,
    "start_time": "2022-02-20T21:10:39.947Z"
   },
   {
    "duration": 28,
    "start_time": "2022-02-20T21:10:41.920Z"
   },
   {
    "duration": 7,
    "start_time": "2022-02-20T21:10:44.600Z"
   },
   {
    "duration": 269,
    "start_time": "2022-02-20T21:10:44.610Z"
   },
   {
    "duration": 7,
    "start_time": "2022-02-20T21:10:46.000Z"
   },
   {
    "duration": 18,
    "start_time": "2022-02-20T21:10:46.834Z"
   },
   {
    "duration": 7,
    "start_time": "2022-02-20T21:10:47.310Z"
   },
   {
    "duration": 19,
    "start_time": "2022-02-20T21:10:48.266Z"
   },
   {
    "duration": 6,
    "start_time": "2022-02-20T21:10:48.592Z"
   },
   {
    "duration": 8,
    "start_time": "2022-02-20T21:10:49.082Z"
   },
   {
    "duration": 58,
    "start_time": "2022-02-20T21:10:49.975Z"
   },
   {
    "duration": 10,
    "start_time": "2022-02-20T21:10:50.642Z"
   },
   {
    "duration": 236,
    "start_time": "2022-02-20T21:10:51.068Z"
   },
   {
    "duration": 16,
    "start_time": "2022-02-20T21:10:51.975Z"
   },
   {
    "duration": 8,
    "start_time": "2022-02-20T21:10:52.307Z"
   },
   {
    "duration": 7,
    "start_time": "2022-02-20T21:10:53.004Z"
   },
   {
    "duration": 7,
    "start_time": "2022-02-20T21:10:53.408Z"
   },
   {
    "duration": 7,
    "start_time": "2022-02-20T21:10:53.731Z"
   },
   {
    "duration": 6,
    "start_time": "2022-02-20T21:10:54.029Z"
   },
   {
    "duration": 27,
    "start_time": "2022-02-20T21:10:54.291Z"
   },
   {
    "duration": 61,
    "start_time": "2022-02-20T21:10:55.015Z"
   },
   {
    "duration": 5,
    "start_time": "2022-02-20T21:10:55.666Z"
   },
   {
    "duration": 7,
    "start_time": "2022-02-20T21:10:55.987Z"
   },
   {
    "duration": 5,
    "start_time": "2022-02-20T21:10:56.651Z"
   },
   {
    "duration": 7,
    "start_time": "2022-02-20T21:10:57.914Z"
   },
   {
    "duration": 25,
    "start_time": "2022-02-20T21:10:58.430Z"
   },
   {
    "duration": 11,
    "start_time": "2022-02-20T21:10:58.729Z"
   },
   {
    "duration": 359,
    "start_time": "2022-02-20T21:10:59.031Z"
   },
   {
    "duration": 7,
    "start_time": "2022-02-20T21:10:59.528Z"
   },
   {
    "duration": 7,
    "start_time": "2022-02-20T21:11:07.235Z"
   },
   {
    "duration": 10,
    "start_time": "2022-02-20T21:11:07.843Z"
   },
   {
    "duration": 9,
    "start_time": "2022-02-20T21:11:08.523Z"
   },
   {
    "duration": 6911,
    "start_time": "2022-02-20T21:11:09.179Z"
   },
   {
    "duration": 362,
    "start_time": "2022-02-21T19:23:21.315Z"
   },
   {
    "duration": 872,
    "start_time": "2022-02-21T19:23:42.978Z"
   },
   {
    "duration": 32,
    "start_time": "2022-02-21T19:23:44.699Z"
   },
   {
    "duration": 7,
    "start_time": "2022-02-21T19:23:46.861Z"
   },
   {
    "duration": 7,
    "start_time": "2022-02-21T19:23:47.312Z"
   },
   {
    "duration": 7,
    "start_time": "2022-02-21T19:23:48.246Z"
   },
   {
    "duration": 21,
    "start_time": "2022-02-21T19:23:49.163Z"
   },
   {
    "duration": 6,
    "start_time": "2022-02-21T19:23:49.577Z"
   },
   {
    "duration": 20,
    "start_time": "2022-02-21T19:23:50.604Z"
   },
   {
    "duration": 7,
    "start_time": "2022-02-21T19:23:51.040Z"
   },
   {
    "duration": 6,
    "start_time": "2022-02-21T19:23:51.558Z"
   },
   {
    "duration": 58,
    "start_time": "2022-02-21T19:23:54.007Z"
   },
   {
    "duration": 12,
    "start_time": "2022-02-21T19:23:54.747Z"
   },
   {
    "duration": 248,
    "start_time": "2022-02-21T19:23:55.217Z"
   },
   {
    "duration": 17,
    "start_time": "2022-02-21T19:23:56.002Z"
   },
   {
    "duration": 8,
    "start_time": "2022-02-21T19:23:56.421Z"
   },
   {
    "duration": 7,
    "start_time": "2022-02-21T19:23:57.201Z"
   },
   {
    "duration": 7,
    "start_time": "2022-02-21T19:23:57.589Z"
   },
   {
    "duration": 8,
    "start_time": "2022-02-21T19:23:57.967Z"
   },
   {
    "duration": 9,
    "start_time": "2022-02-21T19:23:58.273Z"
   },
   {
    "duration": 21,
    "start_time": "2022-02-21T19:23:58.535Z"
   },
   {
    "duration": 102,
    "start_time": "2022-02-21T19:23:59.059Z"
   },
   {
    "duration": 5,
    "start_time": "2022-02-21T19:24:00.031Z"
   },
   {
    "duration": 8,
    "start_time": "2022-02-21T19:24:00.353Z"
   },
   {
    "duration": 5,
    "start_time": "2022-02-21T19:24:01.077Z"
   },
   {
    "duration": 9,
    "start_time": "2022-02-21T19:24:02.528Z"
   },
   {
    "duration": 51,
    "start_time": "2022-02-21T19:24:02.873Z"
   },
   {
    "duration": 10,
    "start_time": "2022-02-21T19:24:03.471Z"
   },
   {
    "duration": 447,
    "start_time": "2022-02-21T19:24:04.386Z"
   },
   {
    "duration": 7,
    "start_time": "2022-02-21T19:24:06.249Z"
   },
   {
    "duration": 8,
    "start_time": "2022-02-21T19:24:11.386Z"
   },
   {
    "duration": 9,
    "start_time": "2022-02-21T19:24:12.213Z"
   },
   {
    "duration": 8,
    "start_time": "2022-02-21T19:24:12.978Z"
   },
   {
    "duration": 7975,
    "start_time": "2022-02-21T19:24:13.755Z"
   },
   {
    "duration": 77,
    "start_time": "2022-02-21T19:24:55.947Z"
   },
   {
    "duration": 7901,
    "start_time": "2022-02-21T19:25:25.986Z"
   },
   {
    "duration": 27,
    "start_time": "2022-02-21T19:25:46.618Z"
   },
   {
    "duration": 10,
    "start_time": "2022-02-21T19:37:02.274Z"
   },
   {
    "duration": 7,
    "start_time": "2022-02-21T19:37:14.670Z"
   },
   {
    "duration": 18,
    "start_time": "2022-02-21T19:38:30.538Z"
   },
   {
    "duration": 7,
    "start_time": "2022-02-21T19:38:34.506Z"
   },
   {
    "duration": 21,
    "start_time": "2022-02-21T19:39:00.634Z"
   },
   {
    "duration": 6,
    "start_time": "2022-02-21T19:40:26.625Z"
   },
   {
    "duration": 29,
    "start_time": "2022-02-21T19:40:39.018Z"
   },
   {
    "duration": 7,
    "start_time": "2022-02-21T19:40:41.369Z"
   },
   {
    "duration": 17,
    "start_time": "2022-02-21T19:45:17.888Z"
   },
   {
    "duration": 33,
    "start_time": "2022-02-21T19:47:04.534Z"
   },
   {
    "duration": 16,
    "start_time": "2022-02-21T19:47:14.648Z"
   },
   {
    "duration": 346,
    "start_time": "2022-02-21T19:48:14.989Z"
   },
   {
    "duration": 259,
    "start_time": "2022-02-21T19:48:38.069Z"
   },
   {
    "duration": 353,
    "start_time": "2022-02-21T19:48:48.660Z"
   },
   {
    "duration": 282,
    "start_time": "2022-02-21T19:48:56.870Z"
   },
   {
    "duration": 11,
    "start_time": "2022-02-21T19:49:54.268Z"
   },
   {
    "duration": 391,
    "start_time": "2022-02-21T19:50:17.693Z"
   },
   {
    "duration": 298,
    "start_time": "2022-02-21T19:50:25.258Z"
   },
   {
    "duration": 305,
    "start_time": "2022-02-21T19:50:41.109Z"
   },
   {
    "duration": 8,
    "start_time": "2022-02-21T20:02:08.670Z"
   },
   {
    "duration": 6,
    "start_time": "2022-02-21T20:04:32.924Z"
   },
   {
    "duration": 7,
    "start_time": "2022-02-21T20:04:44.252Z"
   },
   {
    "duration": 286,
    "start_time": "2022-02-21T20:09:23.011Z"
   },
   {
    "duration": 39,
    "start_time": "2022-02-21T20:09:30.889Z"
   },
   {
    "duration": 23,
    "start_time": "2022-02-21T20:09:56.129Z"
   },
   {
    "duration": 26,
    "start_time": "2022-02-21T20:10:34.432Z"
   },
   {
    "duration": 13,
    "start_time": "2022-02-21T20:11:10.511Z"
   },
   {
    "duration": 286,
    "start_time": "2022-02-21T20:23:53.464Z"
   },
   {
    "duration": 322,
    "start_time": "2022-02-21T20:24:21.775Z"
   },
   {
    "duration": 303,
    "start_time": "2022-02-21T20:38:32.639Z"
   },
   {
    "duration": 1153,
    "start_time": "2022-02-21T20:38:53.080Z"
   },
   {
    "duration": 1084,
    "start_time": "2022-02-21T20:39:13.651Z"
   },
   {
    "duration": 26,
    "start_time": "2022-02-21T20:41:09.086Z"
   },
   {
    "duration": 9,
    "start_time": "2022-02-21T20:41:24.677Z"
   },
   {
    "duration": 474,
    "start_time": "2022-02-21T20:44:13.934Z"
   },
   {
    "duration": 26,
    "start_time": "2022-02-21T20:44:28.972Z"
   },
   {
    "duration": 9,
    "start_time": "2022-02-21T20:44:32.380Z"
   },
   {
    "duration": 303,
    "start_time": "2022-02-21T20:45:23.828Z"
   },
   {
    "duration": 475,
    "start_time": "2022-02-21T20:45:44.680Z"
   },
   {
    "duration": 29,
    "start_time": "2022-02-21T20:47:43.179Z"
   },
   {
    "duration": 6,
    "start_time": "2022-02-21T20:47:46.394Z"
   },
   {
    "duration": 5,
    "start_time": "2022-02-21T20:48:18.642Z"
   },
   {
    "duration": 26,
    "start_time": "2022-02-21T20:48:21.362Z"
   },
   {
    "duration": 11,
    "start_time": "2022-02-21T20:48:24.081Z"
   },
   {
    "duration": 27,
    "start_time": "2022-02-21T20:48:40.681Z"
   },
   {
    "duration": 27,
    "start_time": "2022-02-21T20:48:44.025Z"
   },
   {
    "duration": 10,
    "start_time": "2022-02-21T20:48:46.858Z"
   },
   {
    "duration": 294,
    "start_time": "2022-02-21T20:49:25.122Z"
   },
   {
    "duration": 11,
    "start_time": "2022-02-21T20:49:30.618Z"
   },
   {
    "duration": 352,
    "start_time": "2022-02-21T20:50:22.993Z"
   },
   {
    "duration": 8,
    "start_time": "2022-02-21T20:50:25.657Z"
   },
   {
    "duration": 1098,
    "start_time": "2022-02-21T20:51:01.914Z"
   },
   {
    "duration": 9,
    "start_time": "2022-02-21T20:51:14.569Z"
   },
   {
    "duration": 927,
    "start_time": "2022-02-22T18:06:37.634Z"
   },
   {
    "duration": 29,
    "start_time": "2022-02-22T18:06:39.265Z"
   },
   {
    "duration": 7,
    "start_time": "2022-02-22T18:06:48.907Z"
   },
   {
    "duration": 7,
    "start_time": "2022-02-22T18:06:49.490Z"
   },
   {
    "duration": 6,
    "start_time": "2022-02-22T18:06:50.550Z"
   },
   {
    "duration": 18,
    "start_time": "2022-02-22T18:06:51.558Z"
   },
   {
    "duration": 6,
    "start_time": "2022-02-22T18:06:52.057Z"
   },
   {
    "duration": 19,
    "start_time": "2022-02-22T18:06:53.015Z"
   },
   {
    "duration": 7,
    "start_time": "2022-02-22T18:06:53.584Z"
   },
   {
    "duration": 7,
    "start_time": "2022-02-22T18:06:53.986Z"
   },
   {
    "duration": 54,
    "start_time": "2022-02-22T18:06:58.299Z"
   },
   {
    "duration": 11,
    "start_time": "2022-02-22T18:07:00.601Z"
   },
   {
    "duration": 234,
    "start_time": "2022-02-22T18:07:01.239Z"
   },
   {
    "duration": 18,
    "start_time": "2022-02-22T18:07:02.202Z"
   },
   {
    "duration": 7,
    "start_time": "2022-02-22T18:07:02.614Z"
   },
   {
    "duration": 7,
    "start_time": "2022-02-22T18:07:03.187Z"
   },
   {
    "duration": 6,
    "start_time": "2022-02-22T18:07:03.447Z"
   },
   {
    "duration": 6,
    "start_time": "2022-02-22T18:07:03.857Z"
   },
   {
    "duration": 8,
    "start_time": "2022-02-22T18:07:04.061Z"
   },
   {
    "duration": 15,
    "start_time": "2022-02-22T18:07:04.265Z"
   },
   {
    "duration": 62,
    "start_time": "2022-02-22T18:07:04.765Z"
   },
   {
    "duration": 6,
    "start_time": "2022-02-22T18:07:05.524Z"
   },
   {
    "duration": 7,
    "start_time": "2022-02-22T18:07:05.862Z"
   },
   {
    "duration": 5,
    "start_time": "2022-02-22T18:07:06.679Z"
   },
   {
    "duration": 6,
    "start_time": "2022-02-22T18:07:08.727Z"
   },
   {
    "duration": 26,
    "start_time": "2022-02-22T18:07:09.299Z"
   },
   {
    "duration": 10,
    "start_time": "2022-02-22T18:07:09.800Z"
   },
   {
    "duration": 365,
    "start_time": "2022-02-22T18:07:11.233Z"
   },
   {
    "duration": 7,
    "start_time": "2022-02-22T18:07:16.699Z"
   },
   {
    "duration": 7,
    "start_time": "2022-02-22T18:07:21.370Z"
   },
   {
    "duration": 8,
    "start_time": "2022-02-22T18:07:21.919Z"
   },
   {
    "duration": 8,
    "start_time": "2022-02-22T18:07:22.284Z"
   },
   {
    "duration": 7,
    "start_time": "2022-02-22T18:07:23.482Z"
   },
   {
    "duration": 31,
    "start_time": "2022-02-22T18:07:23.778Z"
   },
   {
    "duration": 7,
    "start_time": "2022-02-22T18:07:24.531Z"
   },
   {
    "duration": 9,
    "start_time": "2022-02-22T18:07:25.023Z"
   },
   {
    "duration": 66,
    "start_time": "2022-02-22T18:07:25.873Z"
   },
   {
    "duration": 51,
    "start_time": "2022-02-22T18:07:26.530Z"
   },
   {
    "duration": 41,
    "start_time": "2022-02-22T18:07:27.163Z"
   },
   {
    "duration": 29,
    "start_time": "2022-02-22T18:07:29.104Z"
   },
   {
    "duration": 9,
    "start_time": "2022-02-22T18:07:29.634Z"
   },
   {
    "duration": 1145,
    "start_time": "2022-02-22T18:07:30.230Z"
   },
   {
    "duration": 2235,
    "start_time": "2022-02-22T18:07:29.143Z"
   },
   {
    "duration": 40,
    "start_time": "2022-02-22T18:41:59.105Z"
   },
   {
    "duration": 819,
    "start_time": "2022-02-22T18:44:05.896Z"
   },
   {
    "duration": 229,
    "start_time": "2022-02-22T18:55:44.746Z"
   },
   {
    "duration": 185,
    "start_time": "2022-02-22T18:55:57.307Z"
   },
   {
    "duration": 90,
    "start_time": "2022-02-22T18:57:21.762Z"
   },
   {
    "duration": 107,
    "start_time": "2022-02-22T18:58:02.491Z"
   },
   {
    "duration": 127,
    "start_time": "2022-02-22T18:58:49.128Z"
   },
   {
    "duration": 92,
    "start_time": "2022-02-22T18:59:04.695Z"
   },
   {
    "duration": 92,
    "start_time": "2022-02-22T18:59:29.304Z"
   },
   {
    "duration": 10,
    "start_time": "2022-02-22T18:59:36.911Z"
   },
   {
    "duration": 29,
    "start_time": "2022-02-22T18:59:42.703Z"
   },
   {
    "duration": 142,
    "start_time": "2022-02-22T18:59:45.903Z"
   },
   {
    "duration": 158,
    "start_time": "2022-02-22T19:01:05.351Z"
   },
   {
    "duration": 95,
    "start_time": "2022-02-22T19:01:33.358Z"
   },
   {
    "duration": 833,
    "start_time": "2022-02-22T19:01:48.330Z"
   },
   {
    "duration": 26,
    "start_time": "2022-02-22T19:01:49.166Z"
   },
   {
    "duration": 7,
    "start_time": "2022-02-22T19:01:49.297Z"
   },
   {
    "duration": 6,
    "start_time": "2022-02-22T19:01:49.497Z"
   },
   {
    "duration": 7,
    "start_time": "2022-02-22T19:01:50.225Z"
   },
   {
    "duration": 18,
    "start_time": "2022-02-22T19:01:50.693Z"
   },
   {
    "duration": 6,
    "start_time": "2022-02-22T19:01:50.956Z"
   },
   {
    "duration": 18,
    "start_time": "2022-02-22T19:01:51.452Z"
   },
   {
    "duration": 7,
    "start_time": "2022-02-22T19:01:51.702Z"
   },
   {
    "duration": 8,
    "start_time": "2022-02-22T19:01:52.192Z"
   },
   {
    "duration": 55,
    "start_time": "2022-02-22T19:01:52.869Z"
   },
   {
    "duration": 11,
    "start_time": "2022-02-22T19:01:53.076Z"
   },
   {
    "duration": 241,
    "start_time": "2022-02-22T19:01:53.303Z"
   },
   {
    "duration": 16,
    "start_time": "2022-02-22T19:01:53.850Z"
   },
   {
    "duration": 8,
    "start_time": "2022-02-22T19:01:54.097Z"
   },
   {
    "duration": 6,
    "start_time": "2022-02-22T19:01:54.485Z"
   },
   {
    "duration": 6,
    "start_time": "2022-02-22T19:01:54.703Z"
   },
   {
    "duration": 6,
    "start_time": "2022-02-22T19:01:54.945Z"
   },
   {
    "duration": 9,
    "start_time": "2022-02-22T19:01:55.166Z"
   },
   {
    "duration": 16,
    "start_time": "2022-02-22T19:01:55.397Z"
   },
   {
    "duration": 60,
    "start_time": "2022-02-22T19:01:55.869Z"
   },
   {
    "duration": 5,
    "start_time": "2022-02-22T19:01:56.660Z"
   },
   {
    "duration": 6,
    "start_time": "2022-02-22T19:01:56.939Z"
   },
   {
    "duration": 6,
    "start_time": "2022-02-22T19:01:57.520Z"
   },
   {
    "duration": 7,
    "start_time": "2022-02-22T19:01:58.605Z"
   },
   {
    "duration": 26,
    "start_time": "2022-02-22T19:01:58.799Z"
   },
   {
    "duration": 10,
    "start_time": "2022-02-22T19:01:58.985Z"
   },
   {
    "duration": 371,
    "start_time": "2022-02-22T19:01:59.361Z"
   },
   {
    "duration": 2224,
    "start_time": "2022-02-22T19:01:57.511Z"
   },
   {
    "duration": 7,
    "start_time": "2022-02-22T19:02:00.196Z"
   },
   {
    "duration": 7,
    "start_time": "2022-02-22T19:02:00.427Z"
   },
   {
    "duration": 7,
    "start_time": "2022-02-22T19:02:00.657Z"
   },
   {
    "duration": 7,
    "start_time": "2022-02-22T19:02:01.457Z"
   },
   {
    "duration": 30,
    "start_time": "2022-02-22T19:02:01.756Z"
   },
   {
    "duration": 7,
    "start_time": "2022-02-22T19:02:02.045Z"
   },
   {
    "duration": 9,
    "start_time": "2022-02-22T19:02:02.326Z"
   },
   {
    "duration": 70,
    "start_time": "2022-02-22T19:02:02.724Z"
   },
   {
    "duration": 18,
    "start_time": "2022-02-22T19:02:02.935Z"
   },
   {
    "duration": 27,
    "start_time": "2022-02-22T19:02:03.179Z"
   },
   {
    "duration": 121,
    "start_time": "2022-02-22T19:02:04.839Z"
   },
   {
    "duration": 553,
    "start_time": "2022-02-22T19:02:05.409Z"
   },
   {
    "duration": 138,
    "start_time": "2022-02-22T19:03:43.045Z"
   },
   {
    "duration": 110,
    "start_time": "2022-02-22T19:03:48.422Z"
   },
   {
    "duration": 415,
    "start_time": "2022-02-22T19:13:31.935Z"
   },
   {
    "duration": 416,
    "start_time": "2022-02-22T19:16:39.670Z"
   },
   {
    "duration": 423,
    "start_time": "2022-02-22T19:17:06.405Z"
   },
   {
    "duration": 793,
    "start_time": "2022-02-22T19:17:16.636Z"
   },
   {
    "duration": 618,
    "start_time": "2022-02-23T13:00:27.928Z"
   },
   {
    "duration": 18,
    "start_time": "2022-02-23T13:00:29.113Z"
   },
   {
    "duration": 5,
    "start_time": "2022-02-23T13:00:30.903Z"
   },
   {
    "duration": 5,
    "start_time": "2022-02-23T13:00:31.261Z"
   },
   {
    "duration": 5,
    "start_time": "2022-02-23T13:00:32.379Z"
   },
   {
    "duration": 12,
    "start_time": "2022-02-23T13:00:32.841Z"
   },
   {
    "duration": 5,
    "start_time": "2022-02-23T13:00:33.188Z"
   },
   {
    "duration": 11,
    "start_time": "2022-02-23T13:00:33.858Z"
   },
   {
    "duration": 4,
    "start_time": "2022-02-23T13:00:34.294Z"
   },
   {
    "duration": 5,
    "start_time": "2022-02-23T13:00:34.749Z"
   },
   {
    "duration": 34,
    "start_time": "2022-02-23T13:00:35.590Z"
   },
   {
    "duration": 8,
    "start_time": "2022-02-23T13:00:39.121Z"
   },
   {
    "duration": 137,
    "start_time": "2022-02-23T13:00:39.504Z"
   },
   {
    "duration": 13,
    "start_time": "2022-02-23T13:00:40.005Z"
   },
   {
    "duration": 6,
    "start_time": "2022-02-23T13:00:40.222Z"
   },
   {
    "duration": 5,
    "start_time": "2022-02-23T13:00:40.626Z"
   },
   {
    "duration": 5,
    "start_time": "2022-02-23T13:00:40.830Z"
   },
   {
    "duration": 5,
    "start_time": "2022-02-23T13:00:41.016Z"
   },
   {
    "duration": 5,
    "start_time": "2022-02-23T13:00:41.212Z"
   },
   {
    "duration": 10,
    "start_time": "2022-02-23T13:00:41.380Z"
   },
   {
    "duration": 40,
    "start_time": "2022-02-23T13:00:41.759Z"
   },
   {
    "duration": 4,
    "start_time": "2022-02-23T13:00:42.364Z"
   },
   {
    "duration": 5,
    "start_time": "2022-02-23T13:00:42.543Z"
   },
   {
    "duration": 4,
    "start_time": "2022-02-23T13:00:42.982Z"
   },
   {
    "duration": 4,
    "start_time": "2022-02-23T13:00:43.778Z"
   },
   {
    "duration": 17,
    "start_time": "2022-02-23T13:00:43.974Z"
   },
   {
    "duration": 7,
    "start_time": "2022-02-23T13:00:44.166Z"
   },
   {
    "duration": 231,
    "start_time": "2022-02-23T13:00:44.376Z"
   },
   {
    "duration": -307,
    "start_time": "2022-02-23T13:00:44.916Z"
   },
   {
    "duration": 5,
    "start_time": "2022-02-23T13:00:45.197Z"
   },
   {
    "duration": 5,
    "start_time": "2022-02-23T13:00:45.412Z"
   },
   {
    "duration": 5,
    "start_time": "2022-02-23T13:00:45.626Z"
   },
   {
    "duration": 5,
    "start_time": "2022-02-23T13:00:46.254Z"
   },
   {
    "duration": 19,
    "start_time": "2022-02-23T13:00:46.675Z"
   },
   {
    "duration": 5,
    "start_time": "2022-02-23T13:00:47.172Z"
   },
   {
    "duration": 6,
    "start_time": "2022-02-23T13:00:47.487Z"
   },
   {
    "duration": 37,
    "start_time": "2022-02-23T13:00:48.024Z"
   },
   {
    "duration": 13,
    "start_time": "2022-02-23T13:00:48.254Z"
   },
   {
    "duration": 18,
    "start_time": "2022-02-23T13:00:48.661Z"
   },
   {
    "duration": 343,
    "start_time": "2022-02-23T13:00:50.890Z"
   },
   {
    "duration": 23,
    "start_time": "2022-02-23T13:00:51.976Z"
   },
   {
    "duration": 4,
    "start_time": "2022-02-23T13:17:29.410Z"
   },
   {
    "duration": 5,
    "start_time": "2022-02-23T13:17:41.890Z"
   },
   {
    "duration": 4,
    "start_time": "2022-02-23T13:18:08.690Z"
   },
   {
    "duration": 143,
    "start_time": "2022-02-23T13:35:30.416Z"
   },
   {
    "duration": 9,
    "start_time": "2022-02-23T13:35:37.663Z"
   },
   {
    "duration": 21,
    "start_time": "2022-02-23T13:49:00.200Z"
   },
   {
    "duration": 228,
    "start_time": "2022-02-23T13:54:53.797Z"
   },
   {
    "duration": 171,
    "start_time": "2022-02-23T13:55:28.181Z"
   },
   {
    "duration": 18,
    "start_time": "2022-02-23T13:55:52.270Z"
   },
   {
    "duration": 17,
    "start_time": "2022-02-23T13:56:06.988Z"
   },
   {
    "duration": 5,
    "start_time": "2022-02-23T13:56:11.932Z"
   },
   {
    "duration": 5,
    "start_time": "2022-02-23T13:56:39.348Z"
   },
   {
    "duration": 6,
    "start_time": "2022-02-23T13:56:54.444Z"
   },
   {
    "duration": 690,
    "start_time": "2022-02-23T13:57:11.887Z"
   },
   {
    "duration": 19,
    "start_time": "2022-02-23T13:57:12.579Z"
   },
   {
    "duration": 5,
    "start_time": "2022-02-23T13:57:14.765Z"
   },
   {
    "duration": 13,
    "start_time": "2022-02-23T13:57:15.216Z"
   },
   {
    "duration": 5,
    "start_time": "2022-02-23T13:57:15.421Z"
   },
   {
    "duration": 11,
    "start_time": "2022-02-23T13:57:15.859Z"
   },
   {
    "duration": 5,
    "start_time": "2022-02-23T13:57:16.059Z"
   },
   {
    "duration": 8,
    "start_time": "2022-02-23T13:57:16.268Z"
   },
   {
    "duration": 163,
    "start_time": "2022-02-23T13:57:16.666Z"
   },
   {
    "duration": 10,
    "start_time": "2022-02-23T13:57:16.866Z"
   },
   {
    "duration": 13,
    "start_time": "2022-02-23T13:57:17.468Z"
   },
   {
    "duration": 5,
    "start_time": "2022-02-23T13:57:17.687Z"
   },
   {
    "duration": 6,
    "start_time": "2022-02-23T13:57:18.144Z"
   },
   {
    "duration": 4,
    "start_time": "2022-02-23T13:57:18.353Z"
   },
   {
    "duration": 5,
    "start_time": "2022-02-23T13:57:18.657Z"
   },
   {
    "duration": 6,
    "start_time": "2022-02-23T13:57:18.886Z"
   },
   {
    "duration": 14,
    "start_time": "2022-02-23T13:57:19.097Z"
   },
   {
    "duration": 43,
    "start_time": "2022-02-23T13:57:19.505Z"
   },
   {
    "duration": 4,
    "start_time": "2022-02-23T13:57:19.973Z"
   },
   {
    "duration": 5,
    "start_time": "2022-02-23T13:57:20.197Z"
   },
   {
    "duration": 4,
    "start_time": "2022-02-23T13:57:20.665Z"
   },
   {
    "duration": 5,
    "start_time": "2022-02-23T13:57:22.044Z"
   },
   {
    "duration": 19,
    "start_time": "2022-02-23T13:57:22.353Z"
   },
   {
    "duration": 8,
    "start_time": "2022-02-23T13:57:22.753Z"
   },
   {
    "duration": 5,
    "start_time": "2022-02-23T13:57:23.755Z"
   },
   {
    "duration": 7,
    "start_time": "2022-02-23T13:57:24.029Z"
   },
   {
    "duration": 6,
    "start_time": "2022-02-23T13:57:24.357Z"
   },
   {
    "duration": 5,
    "start_time": "2022-02-23T13:57:25.325Z"
   },
   {
    "duration": 19,
    "start_time": "2022-02-23T13:57:25.582Z"
   },
   {
    "duration": 4,
    "start_time": "2022-02-23T13:57:25.888Z"
   },
   {
    "duration": 5,
    "start_time": "2022-02-23T13:57:26.288Z"
   },
   {
    "duration": 36,
    "start_time": "2022-02-23T13:57:27.151Z"
   },
   {
    "duration": 10,
    "start_time": "2022-02-23T13:57:27.369Z"
   },
   {
    "duration": 18,
    "start_time": "2022-02-23T13:57:27.586Z"
   },
   {
    "duration": 342,
    "start_time": "2022-02-23T13:57:28.557Z"
   },
   {
    "duration": 31,
    "start_time": "2022-02-23T13:57:28.941Z"
   },
   {
    "duration": 6,
    "start_time": "2022-02-23T14:00:33.221Z"
   },
   {
    "duration": 5,
    "start_time": "2022-02-23T14:00:43.452Z"
   },
   {
    "duration": 26,
    "start_time": "2022-02-23T14:50:05.342Z"
   },
   {
    "duration": 26,
    "start_time": "2022-02-23T14:54:20.148Z"
   },
   {
    "duration": 884,
    "start_time": "2022-02-23T14:56:40.812Z"
   },
   {
    "duration": 457,
    "start_time": "2022-02-23T14:57:13.995Z"
   },
   {
    "duration": 19,
    "start_time": "2022-02-23T14:57:34.459Z"
   },
   {
    "duration": 703,
    "start_time": "2022-02-23T14:58:58.538Z"
   },
   {
    "duration": 71,
    "start_time": "2022-02-23T14:59:25.171Z"
   },
   {
    "duration": 63,
    "start_time": "2022-02-23T15:00:14.766Z"
   },
   {
    "duration": 64,
    "start_time": "2022-02-23T15:00:25.160Z"
   },
   {
    "duration": 709,
    "start_time": "2022-02-23T15:06:51.246Z"
   },
   {
    "duration": 20,
    "start_time": "2022-02-23T15:06:51.958Z"
   },
   {
    "duration": 6,
    "start_time": "2022-02-23T15:06:52.958Z"
   },
   {
    "duration": 18,
    "start_time": "2022-02-23T15:06:53.404Z"
   },
   {
    "duration": 6,
    "start_time": "2022-02-23T15:06:53.660Z"
   },
   {
    "duration": 16,
    "start_time": "2022-02-23T15:06:54.134Z"
   },
   {
    "duration": 6,
    "start_time": "2022-02-23T15:06:54.360Z"
   },
   {
    "duration": 6,
    "start_time": "2022-02-23T15:06:54.573Z"
   },
   {
    "duration": 229,
    "start_time": "2022-02-23T15:06:54.968Z"
   },
   {
    "duration": 9,
    "start_time": "2022-02-23T15:06:55.200Z"
   },
   {
    "duration": 13,
    "start_time": "2022-02-23T15:06:55.510Z"
   },
   {
    "duration": 6,
    "start_time": "2022-02-23T15:06:55.689Z"
   },
   {
    "duration": 6,
    "start_time": "2022-02-23T15:06:56.071Z"
   },
   {
    "duration": 6,
    "start_time": "2022-02-23T15:06:56.312Z"
   },
   {
    "duration": 6,
    "start_time": "2022-02-23T15:06:56.528Z"
   },
   {
    "duration": 6,
    "start_time": "2022-02-23T15:06:56.727Z"
   },
   {
    "duration": 11,
    "start_time": "2022-02-23T15:06:56.934Z"
   },
   {
    "duration": 42,
    "start_time": "2022-02-23T15:06:57.320Z"
   },
   {
    "duration": 4,
    "start_time": "2022-02-23T15:06:57.750Z"
   },
   {
    "duration": 4,
    "start_time": "2022-02-23T15:06:57.941Z"
   },
   {
    "duration": 4,
    "start_time": "2022-02-23T15:06:58.330Z"
   },
   {
    "duration": 6,
    "start_time": "2022-02-23T15:06:59.121Z"
   },
   {
    "duration": 27,
    "start_time": "2022-02-23T15:06:59.314Z"
   },
   {
    "duration": 9,
    "start_time": "2022-02-23T15:06:59.532Z"
   },
   {
    "duration": 7,
    "start_time": "2022-02-23T15:06:59.714Z"
   },
   {
    "duration": 5,
    "start_time": "2022-02-23T15:06:59.907Z"
   },
   {
    "duration": 6,
    "start_time": "2022-02-23T15:07:00.508Z"
   },
   {
    "duration": 7,
    "start_time": "2022-02-23T15:07:00.715Z"
   },
   {
    "duration": 6,
    "start_time": "2022-02-23T15:07:00.976Z"
   },
   {
    "duration": 6,
    "start_time": "2022-02-23T15:07:01.600Z"
   },
   {
    "duration": 31,
    "start_time": "2022-02-23T15:07:01.805Z"
   },
   {
    "duration": 5,
    "start_time": "2022-02-23T15:07:02.151Z"
   },
   {
    "duration": 6,
    "start_time": "2022-02-23T15:07:02.503Z"
   },
   {
    "duration": 37,
    "start_time": "2022-02-23T15:07:03.462Z"
   },
   {
    "duration": 11,
    "start_time": "2022-02-23T15:07:03.718Z"
   },
   {
    "duration": 17,
    "start_time": "2022-02-23T15:07:03.971Z"
   },
   {
    "duration": 59,
    "start_time": "2022-02-23T15:07:04.825Z"
   },
   {
    "duration": 230,
    "start_time": "2022-02-23T15:11:35.598Z"
   },
   {
    "duration": 463,
    "start_time": "2022-02-23T15:13:10.750Z"
   },
   {
    "duration": 221,
    "start_time": "2022-02-23T15:14:50.294Z"
   },
   {
    "duration": 308,
    "start_time": "2022-02-23T15:17:03.147Z"
   },
   {
    "duration": 27,
    "start_time": "2022-02-23T15:18:14.709Z"
   },
   {
    "duration": 6,
    "start_time": "2022-02-23T15:19:20.563Z"
   },
   {
    "duration": 19,
    "start_time": "2022-02-23T15:20:15.620Z"
   },
   {
    "duration": 5,
    "start_time": "2022-02-23T15:21:42.107Z"
   },
   {
    "duration": 4,
    "start_time": "2022-02-23T15:22:05.435Z"
   },
   {
    "duration": 20,
    "start_time": "2022-02-23T15:23:46.938Z"
   },
   {
    "duration": 5,
    "start_time": "2022-02-23T15:25:16.930Z"
   },
   {
    "duration": 4233,
    "start_time": "2022-02-23T15:29:15.054Z"
   },
   {
    "duration": -448,
    "start_time": "2022-02-23T15:29:52.578Z"
   },
   {
    "duration": 8,
    "start_time": "2022-02-23T15:42:21.023Z"
   },
   {
    "duration": 5,
    "start_time": "2022-02-23T15:42:33.215Z"
   },
   {
    "duration": 7,
    "start_time": "2022-02-23T15:42:40.454Z"
   },
   {
    "duration": 175,
    "start_time": "2022-02-23T15:44:48.646Z"
   },
   {
    "duration": 177,
    "start_time": "2022-02-23T15:44:57.117Z"
   },
   {
    "duration": -445,
    "start_time": "2022-02-23T15:45:13.186Z"
   },
   {
    "duration": 4219,
    "start_time": "2022-02-23T15:45:26.285Z"
   },
   {
    "duration": 6,
    "start_time": "2022-02-23T15:50:27.496Z"
   },
   {
    "duration": 24,
    "start_time": "2022-02-23T15:51:33.447Z"
   },
   {
    "duration": 26,
    "start_time": "2022-02-23T15:52:09.007Z"
   },
   {
    "duration": 24,
    "start_time": "2022-02-23T15:52:16.167Z"
   },
   {
    "duration": 9,
    "start_time": "2022-02-23T15:55:31.221Z"
   },
   {
    "duration": 10,
    "start_time": "2022-02-23T15:56:51.011Z"
   },
   {
    "duration": 9,
    "start_time": "2022-02-23T15:57:29.827Z"
   },
   {
    "duration": 8,
    "start_time": "2022-02-23T15:57:50.716Z"
   },
   {
    "duration": 7,
    "start_time": "2022-02-23T15:58:09.524Z"
   },
   {
    "duration": 8,
    "start_time": "2022-02-23T15:58:39.411Z"
   },
   {
    "duration": 2750,
    "start_time": "2022-02-23T16:03:08.952Z"
   },
   {
    "duration": 1040,
    "start_time": "2022-02-23T16:10:13.543Z"
   },
   {
    "duration": 189,
    "start_time": "2022-02-23T16:10:35.267Z"
   },
   {
    "duration": 26,
    "start_time": "2022-02-23T16:11:10.332Z"
   },
   {
    "duration": 28,
    "start_time": "2022-02-23T16:12:02.715Z"
   },
   {
    "duration": 27,
    "start_time": "2022-02-23T16:12:28.995Z"
   },
   {
    "duration": 29,
    "start_time": "2022-02-23T16:12:49.098Z"
   },
   {
    "duration": 8,
    "start_time": "2022-02-23T16:17:21.905Z"
   },
   {
    "duration": 271,
    "start_time": "2022-02-23T16:18:40.983Z"
   },
   {
    "duration": 32,
    "start_time": "2022-02-23T16:18:50.280Z"
   },
   {
    "duration": 29,
    "start_time": "2022-02-23T16:19:07.695Z"
   },
   {
    "duration": 29,
    "start_time": "2022-02-23T16:19:29.870Z"
   },
   {
    "duration": 10,
    "start_time": "2022-02-23T16:38:32.652Z"
   },
   {
    "duration": 13,
    "start_time": "2022-02-23T16:38:47.418Z"
   },
   {
    "duration": 12,
    "start_time": "2022-02-23T16:39:12.283Z"
   },
   {
    "duration": 11,
    "start_time": "2022-02-23T16:39:25.746Z"
   },
   {
    "duration": 10,
    "start_time": "2022-02-23T16:39:42.163Z"
   },
   {
    "duration": 10,
    "start_time": "2022-02-23T16:40:03.802Z"
   },
   {
    "duration": 10,
    "start_time": "2022-02-23T16:40:21.107Z"
   },
   {
    "duration": 10,
    "start_time": "2022-02-23T16:40:39.034Z"
   },
   {
    "duration": 7,
    "start_time": "2022-02-23T16:41:07.810Z"
   },
   {
    "duration": 8,
    "start_time": "2022-02-23T16:42:04.450Z"
   },
   {
    "duration": 6,
    "start_time": "2022-02-23T16:43:11.832Z"
   },
   {
    "duration": 7,
    "start_time": "2022-02-23T16:44:19.527Z"
   },
   {
    "duration": 6,
    "start_time": "2022-02-23T16:44:25.951Z"
   },
   {
    "duration": 10,
    "start_time": "2022-02-23T16:44:32.967Z"
   },
   {
    "duration": 9,
    "start_time": "2022-02-23T16:44:56.379Z"
   },
   {
    "duration": 9,
    "start_time": "2022-02-23T16:45:04.791Z"
   },
   {
    "duration": 9,
    "start_time": "2022-02-23T16:45:12.919Z"
   },
   {
    "duration": 8,
    "start_time": "2022-02-23T16:45:23.495Z"
   },
   {
    "duration": 5,
    "start_time": "2022-02-23T16:45:45.298Z"
   },
   {
    "duration": 8,
    "start_time": "2022-02-23T17:01:38.999Z"
   },
   {
    "duration": 10,
    "start_time": "2022-02-23T17:02:08.235Z"
   },
   {
    "duration": 7,
    "start_time": "2022-02-23T17:02:43.752Z"
   },
   {
    "duration": 5,
    "start_time": "2022-02-23T17:03:52.175Z"
   },
   {
    "duration": 8,
    "start_time": "2022-02-23T17:04:05.751Z"
   },
   {
    "duration": 19,
    "start_time": "2022-02-23T17:04:22.703Z"
   },
   {
    "duration": 9,
    "start_time": "2022-02-23T17:04:39.302Z"
   },
   {
    "duration": 8,
    "start_time": "2022-02-23T17:07:44.829Z"
   },
   {
    "duration": 9,
    "start_time": "2022-02-23T17:08:44.228Z"
   },
   {
    "duration": 600,
    "start_time": "2022-02-23T17:28:03.298Z"
   },
   {
    "duration": 16,
    "start_time": "2022-02-23T17:28:03.900Z"
   },
   {
    "duration": 5,
    "start_time": "2022-02-23T17:28:05.713Z"
   },
   {
    "duration": 12,
    "start_time": "2022-02-23T17:28:06.477Z"
   },
   {
    "duration": 4,
    "start_time": "2022-02-23T17:28:06.739Z"
   },
   {
    "duration": 12,
    "start_time": "2022-02-23T17:28:07.116Z"
   },
   {
    "duration": 4,
    "start_time": "2022-02-23T17:28:07.305Z"
   },
   {
    "duration": 6,
    "start_time": "2022-02-23T17:28:07.495Z"
   },
   {
    "duration": 143,
    "start_time": "2022-02-23T17:28:07.932Z"
   },
   {
    "duration": 10,
    "start_time": "2022-02-23T17:28:08.156Z"
   },
   {
    "duration": 12,
    "start_time": "2022-02-23T17:28:08.619Z"
   },
   {
    "duration": 7,
    "start_time": "2022-02-23T17:28:08.838Z"
   },
   {
    "duration": 4,
    "start_time": "2022-02-23T17:28:09.255Z"
   },
   {
    "duration": 5,
    "start_time": "2022-02-23T17:28:09.451Z"
   },
   {
    "duration": 4,
    "start_time": "2022-02-23T17:28:09.649Z"
   },
   {
    "duration": 5,
    "start_time": "2022-02-23T17:28:10.035Z"
   },
   {
    "duration": 10,
    "start_time": "2022-02-23T17:28:10.227Z"
   },
   {
    "duration": 40,
    "start_time": "2022-02-23T17:28:10.602Z"
   },
   {
    "duration": 4,
    "start_time": "2022-02-23T17:28:11.053Z"
   },
   {
    "duration": 5,
    "start_time": "2022-02-23T17:28:11.282Z"
   },
   {
    "duration": 4,
    "start_time": "2022-02-23T17:28:11.715Z"
   },
   {
    "duration": 4,
    "start_time": "2022-02-23T17:28:12.654Z"
   },
   {
    "duration": 18,
    "start_time": "2022-02-23T17:28:12.855Z"
   },
   {
    "duration": 7,
    "start_time": "2022-02-23T17:28:13.059Z"
   },
   {
    "duration": 6,
    "start_time": "2022-02-23T17:28:13.254Z"
   },
   {
    "duration": 5,
    "start_time": "2022-02-23T17:28:13.468Z"
   },
   {
    "duration": 5,
    "start_time": "2022-02-23T17:28:13.657Z"
   },
   {
    "duration": 8,
    "start_time": "2022-02-23T17:28:13.851Z"
   },
   {
    "duration": 4,
    "start_time": "2022-02-23T17:28:14.033Z"
   },
   {
    "duration": 5,
    "start_time": "2022-02-23T17:28:14.673Z"
   },
   {
    "duration": 6,
    "start_time": "2022-02-23T17:28:14.855Z"
   },
   {
    "duration": 5,
    "start_time": "2022-02-23T17:28:15.053Z"
   },
   {
    "duration": 5,
    "start_time": "2022-02-23T17:28:15.619Z"
   },
   {
    "duration": 26,
    "start_time": "2022-02-23T17:28:15.825Z"
   },
   {
    "duration": 6,
    "start_time": "2022-02-23T17:28:16.075Z"
   },
   {
    "duration": 7,
    "start_time": "2022-02-23T17:28:16.393Z"
   },
   {
    "duration": 36,
    "start_time": "2022-02-23T17:28:16.893Z"
   },
   {
    "duration": 12,
    "start_time": "2022-02-23T17:28:17.139Z"
   },
   {
    "duration": 16,
    "start_time": "2022-02-23T17:28:17.409Z"
   },
   {
    "duration": 506,
    "start_time": "2022-02-23T17:28:18.213Z"
   },
   {
    "duration": 25,
    "start_time": "2022-02-23T17:28:18.721Z"
   },
   {
    "duration": 8,
    "start_time": "2022-02-23T17:28:18.876Z"
   },
   {
    "duration": 19,
    "start_time": "2022-02-23T17:28:19.116Z"
   },
   {
    "duration": 31,
    "start_time": "2022-02-23T17:28:19.701Z"
   },
   {
    "duration": 23,
    "start_time": "2022-02-23T17:28:20.301Z"
   },
   {
    "duration": 9,
    "start_time": "2022-02-23T17:28:20.589Z"
   },
   {
    "duration": 21,
    "start_time": "2022-02-23T17:38:19.739Z"
   },
   {
    "duration": 20,
    "start_time": "2022-02-23T17:38:57.673Z"
   },
   {
    "duration": 237,
    "start_time": "2022-02-23T17:40:29.383Z"
   },
   {
    "duration": 8,
    "start_time": "2022-02-23T17:40:36.719Z"
   },
   {
    "duration": 169,
    "start_time": "2022-02-23T17:43:41.719Z"
   },
   {
    "duration": 6,
    "start_time": "2022-02-23T17:43:52.863Z"
   },
   {
    "duration": 4196,
    "start_time": "2022-02-23T17:44:11.317Z"
   },
   {
    "duration": 20,
    "start_time": "2022-02-23T17:44:48.446Z"
   },
   {
    "duration": 21,
    "start_time": "2022-02-23T17:45:12.750Z"
   },
   {
    "duration": 780,
    "start_time": "2022-03-06T10:25:42.160Z"
   },
   {
    "duration": 26,
    "start_time": "2022-03-06T10:25:42.943Z"
   },
   {
    "duration": 6,
    "start_time": "2022-03-06T10:25:42.982Z"
   },
   {
    "duration": 21,
    "start_time": "2022-03-06T10:25:42.991Z"
   },
   {
    "duration": 5,
    "start_time": "2022-03-06T10:25:43.015Z"
   },
   {
    "duration": 19,
    "start_time": "2022-03-06T10:25:43.022Z"
   },
   {
    "duration": 40,
    "start_time": "2022-03-06T10:25:43.044Z"
   },
   {
    "duration": 7,
    "start_time": "2022-03-06T10:25:43.088Z"
   },
   {
    "duration": 239,
    "start_time": "2022-03-06T10:25:43.098Z"
   },
   {
    "duration": 13,
    "start_time": "2022-03-06T10:25:43.339Z"
   },
   {
    "duration": 35,
    "start_time": "2022-03-06T10:25:43.355Z"
   },
   {
    "duration": 10,
    "start_time": "2022-03-06T10:25:43.393Z"
   },
   {
    "duration": 7,
    "start_time": "2022-03-06T10:25:43.406Z"
   },
   {
    "duration": 7,
    "start_time": "2022-03-06T10:25:43.416Z"
   },
   {
    "duration": 7,
    "start_time": "2022-03-06T10:25:43.426Z"
   },
   {
    "duration": 52,
    "start_time": "2022-03-06T10:25:43.435Z"
   },
   {
    "duration": 14,
    "start_time": "2022-03-06T10:25:43.489Z"
   },
   {
    "duration": 79,
    "start_time": "2022-03-06T10:25:43.505Z"
   },
   {
    "duration": 4,
    "start_time": "2022-03-06T10:25:43.587Z"
   },
   {
    "duration": 7,
    "start_time": "2022-03-06T10:25:43.594Z"
   },
   {
    "duration": 6,
    "start_time": "2022-03-06T10:25:43.603Z"
   },
   {
    "duration": 9,
    "start_time": "2022-03-06T10:25:43.611Z"
   },
   {
    "duration": 60,
    "start_time": "2022-03-06T10:25:43.625Z"
   },
   {
    "duration": 8,
    "start_time": "2022-03-06T10:25:43.688Z"
   },
   {
    "duration": 12,
    "start_time": "2022-03-06T10:25:43.698Z"
   },
   {
    "duration": 6,
    "start_time": "2022-03-06T10:25:43.712Z"
   },
   {
    "duration": 9,
    "start_time": "2022-03-06T10:25:43.720Z"
   },
   {
    "duration": 51,
    "start_time": "2022-03-06T10:25:43.732Z"
   },
   {
    "duration": 8,
    "start_time": "2022-03-06T10:25:43.786Z"
   },
   {
    "duration": 11,
    "start_time": "2022-03-06T10:25:43.798Z"
   },
   {
    "duration": 23,
    "start_time": "2022-03-06T10:25:43.812Z"
   },
   {
    "duration": 13,
    "start_time": "2022-03-06T10:25:43.837Z"
   },
   {
    "duration": 36,
    "start_time": "2022-03-06T10:25:43.853Z"
   },
   {
    "duration": 40,
    "start_time": "2022-03-06T10:25:43.892Z"
   },
   {
    "duration": 8,
    "start_time": "2022-03-06T10:25:43.935Z"
   },
   {
    "duration": 38,
    "start_time": "2022-03-06T10:25:43.946Z"
   },
   {
    "duration": 64,
    "start_time": "2022-03-06T10:25:43.986Z"
   },
   {
    "duration": 39,
    "start_time": "2022-03-06T10:25:44.053Z"
   },
   {
    "duration": 26,
    "start_time": "2022-03-06T10:25:44.094Z"
   },
   {
    "duration": 52189,
    "start_time": "2022-03-06T10:25:44.122Z"
   },
   {
    "duration": 41,
    "start_time": "2022-03-06T10:26:36.314Z"
   },
   {
    "duration": 47,
    "start_time": "2022-03-06T10:26:36.358Z"
   },
   {
    "duration": 44,
    "start_time": "2022-03-06T10:26:36.407Z"
   },
   {
    "duration": 131,
    "start_time": "2022-03-06T10:26:36.454Z"
   },
   {
    "duration": 12,
    "start_time": "2022-03-06T10:26:36.587Z"
   },
   {
    "duration": 24,
    "start_time": "2022-03-06T10:28:14.019Z"
   },
   {
    "duration": 6109,
    "start_time": "2022-03-06T10:29:31.327Z"
   },
   {
    "duration": 9,
    "start_time": "2022-03-06T10:29:40.233Z"
   },
   {
    "duration": 28,
    "start_time": "2022-03-06T10:30:16.485Z"
   },
   {
    "duration": 27,
    "start_time": "2022-03-06T10:30:19.237Z"
   },
   {
    "duration": 89,
    "start_time": "2022-03-06T15:09:17.608Z"
   },
   {
    "duration": 328,
    "start_time": "2022-03-06T15:10:01.599Z"
   },
   {
    "duration": 617,
    "start_time": "2022-03-06T15:10:33.812Z"
   },
   {
    "duration": 17,
    "start_time": "2022-03-06T15:10:35.733Z"
   },
   {
    "duration": 4,
    "start_time": "2022-03-06T15:10:37.961Z"
   },
   {
    "duration": 11,
    "start_time": "2022-03-06T15:10:38.360Z"
   },
   {
    "duration": 5,
    "start_time": "2022-03-06T15:10:38.561Z"
   },
   {
    "duration": 11,
    "start_time": "2022-03-06T15:10:38.922Z"
   },
   {
    "duration": 4,
    "start_time": "2022-03-06T15:10:39.122Z"
   },
   {
    "duration": 5,
    "start_time": "2022-03-06T15:10:39.313Z"
   },
   {
    "duration": 122,
    "start_time": "2022-03-06T15:10:39.877Z"
   },
   {
    "duration": 7,
    "start_time": "2022-03-06T15:10:40.054Z"
   },
   {
    "duration": 10,
    "start_time": "2022-03-06T15:10:40.626Z"
   },
   {
    "duration": 4,
    "start_time": "2022-03-06T15:10:40.824Z"
   },
   {
    "duration": 4,
    "start_time": "2022-03-06T15:10:41.629Z"
   },
   {
    "duration": 4,
    "start_time": "2022-03-06T15:10:41.835Z"
   },
   {
    "duration": 5,
    "start_time": "2022-03-06T15:10:42.072Z"
   },
   {
    "duration": 4,
    "start_time": "2022-03-06T15:10:42.264Z"
   },
   {
    "duration": 9,
    "start_time": "2022-03-06T15:10:42.478Z"
   },
   {
    "duration": 58,
    "start_time": "2022-03-06T15:10:42.891Z"
   },
   {
    "duration": 4,
    "start_time": "2022-03-06T15:10:43.619Z"
   },
   {
    "duration": 4,
    "start_time": "2022-03-06T15:10:43.883Z"
   },
   {
    "duration": 4,
    "start_time": "2022-03-06T15:10:44.319Z"
   },
   {
    "duration": 4,
    "start_time": "2022-03-06T15:10:45.415Z"
   },
   {
    "duration": 16,
    "start_time": "2022-03-06T15:10:45.619Z"
   },
   {
    "duration": 7,
    "start_time": "2022-03-06T15:10:45.879Z"
   },
   {
    "duration": 5,
    "start_time": "2022-03-06T15:10:46.100Z"
   },
   {
    "duration": 5,
    "start_time": "2022-03-06T15:10:46.316Z"
   },
   {
    "duration": 5,
    "start_time": "2022-03-06T15:10:46.751Z"
   },
   {
    "duration": 8,
    "start_time": "2022-03-06T15:10:46.956Z"
   },
   {
    "duration": 5,
    "start_time": "2022-03-06T15:10:47.154Z"
   },
   {
    "duration": 5,
    "start_time": "2022-03-06T15:10:47.829Z"
   },
   {
    "duration": 5,
    "start_time": "2022-03-06T15:10:48.038Z"
   },
   {
    "duration": 4,
    "start_time": "2022-03-06T15:10:48.361Z"
   },
   {
    "duration": 5,
    "start_time": "2022-03-06T15:10:49.629Z"
   },
   {
    "duration": 425,
    "start_time": "2022-03-06T15:20:25.860Z"
   },
   {
    "duration": 300,
    "start_time": "2022-03-06T15:25:32.419Z"
   },
   {
    "duration": 11,
    "start_time": "2022-03-06T15:28:04.432Z"
   },
   {
    "duration": 11,
    "start_time": "2022-03-06T15:28:06.457Z"
   },
   {
    "duration": 6,
    "start_time": "2022-03-06T15:28:10.881Z"
   },
   {
    "duration": 12,
    "start_time": "2022-03-06T15:28:26.280Z"
   },
   {
    "duration": 5,
    "start_time": "2022-03-06T15:28:28.616Z"
   },
   {
    "duration": 104,
    "start_time": "2022-03-06T15:32:34.238Z"
   },
   {
    "duration": 1407,
    "start_time": "2022-03-06T16:05:15.803Z"
   },
   {
    "duration": 17,
    "start_time": "2022-03-06T16:05:28.777Z"
   },
   {
    "duration": 16,
    "start_time": "2022-03-06T16:05:33.395Z"
   },
   {
    "duration": 310,
    "start_time": "2022-03-06T16:06:13.601Z"
   },
   {
    "duration": 5,
    "start_time": "2022-03-06T16:08:21.538Z"
   },
   {
    "duration": 15,
    "start_time": "2022-03-06T16:08:32.500Z"
   },
   {
    "duration": 11,
    "start_time": "2022-03-06T16:09:20.422Z"
   },
   {
    "duration": 27,
    "start_time": "2022-03-06T16:09:52.232Z"
   },
   {
    "duration": 23,
    "start_time": "2022-03-06T16:10:14.184Z"
   },
   {
    "duration": 17,
    "start_time": "2022-03-06T16:10:46.112Z"
   },
   {
    "duration": 24,
    "start_time": "2022-03-06T16:11:04.063Z"
   },
   {
    "duration": 9,
    "start_time": "2022-03-06T16:14:53.778Z"
   },
   {
    "duration": 6,
    "start_time": "2022-03-06T16:16:36.988Z"
   },
   {
    "duration": 16,
    "start_time": "2022-03-06T16:17:09.243Z"
   },
   {
    "duration": 2225,
    "start_time": "2022-03-06T16:29:20.724Z"
   },
   {
    "duration": 20,
    "start_time": "2022-03-06T16:29:45.675Z"
   },
   {
    "duration": 17,
    "start_time": "2022-03-06T16:30:32.546Z"
   },
   {
    "duration": 18,
    "start_time": "2022-03-06T16:31:02.428Z"
   },
   {
    "duration": 16,
    "start_time": "2022-03-06T16:31:33.372Z"
   },
   {
    "duration": 93,
    "start_time": "2022-03-06T17:10:32.587Z"
   },
   {
    "duration": 14,
    "start_time": "2022-03-06T17:19:01.990Z"
   },
   {
    "duration": 14,
    "start_time": "2022-03-06T17:19:10.452Z"
   },
   {
    "duration": 6,
    "start_time": "2022-03-06T17:40:12.801Z"
   },
   {
    "duration": 18,
    "start_time": "2022-03-06T17:43:32.160Z"
   },
   {
    "duration": 11,
    "start_time": "2022-03-06T17:44:45.335Z"
   },
   {
    "duration": 6,
    "start_time": "2022-03-06T17:46:42.358Z"
   },
   {
    "duration": 7,
    "start_time": "2022-03-06T17:49:26.987Z"
   },
   {
    "duration": 11,
    "start_time": "2022-03-06T17:50:41.003Z"
   },
   {
    "duration": 7,
    "start_time": "2022-03-06T17:50:50.132Z"
   },
   {
    "duration": 21,
    "start_time": "2022-03-06T17:56:48.991Z"
   },
   {
    "duration": 17,
    "start_time": "2022-03-06T17:57:18.633Z"
   },
   {
    "duration": 18,
    "start_time": "2022-03-06T18:01:49.983Z"
   },
   {
    "duration": 32,
    "start_time": "2022-03-06T18:18:21.185Z"
   },
   {
    "duration": 108,
    "start_time": "2022-03-06T18:24:29.807Z"
   },
   {
    "duration": 20,
    "start_time": "2022-03-06T18:24:42.943Z"
   },
   {
    "duration": 337,
    "start_time": "2022-03-06T18:27:02.190Z"
   },
   {
    "duration": 23,
    "start_time": "2022-03-06T18:27:10.205Z"
   },
   {
    "duration": 202,
    "start_time": "2022-03-06T18:38:29.894Z"
   },
   {
    "duration": 7,
    "start_time": "2022-03-06T18:38:38.956Z"
   },
   {
    "duration": 11,
    "start_time": "2022-03-06T18:38:48.806Z"
   },
   {
    "duration": 10,
    "start_time": "2022-03-06T18:46:22.111Z"
   },
   {
    "duration": 295,
    "start_time": "2022-03-06T18:58:47.290Z"
   },
   {
    "duration": 10,
    "start_time": "2022-03-06T18:59:03.532Z"
   },
   {
    "duration": 104,
    "start_time": "2022-03-06T19:13:11.674Z"
   },
   {
    "duration": 310,
    "start_time": "2022-03-06T19:13:18.585Z"
   },
   {
    "duration": 1475,
    "start_time": "2022-03-06T19:14:07.761Z"
   },
   {
    "duration": 1378,
    "start_time": "2022-03-06T19:15:22.624Z"
   },
   {
    "duration": 359,
    "start_time": "2022-03-06T19:15:37.914Z"
   },
   {
    "duration": 10,
    "start_time": "2022-03-06T19:16:01.720Z"
   },
   {
    "duration": 102,
    "start_time": "2022-03-06T19:17:03.774Z"
   },
   {
    "duration": 13,
    "start_time": "2022-03-06T19:17:50.710Z"
   },
   {
    "duration": 8,
    "start_time": "2022-03-06T19:17:53.446Z"
   },
   {
    "duration": 18,
    "start_time": "2022-03-06T19:20:36.932Z"
   },
   {
    "duration": 37,
    "start_time": "2022-03-06T19:24:04.393Z"
   },
   {
    "duration": 17,
    "start_time": "2022-03-06T19:24:29.171Z"
   },
   {
    "duration": 37,
    "start_time": "2022-03-06T19:26:52.393Z"
   },
   {
    "duration": 21,
    "start_time": "2022-03-06T19:27:25.103Z"
   },
   {
    "duration": 32,
    "start_time": "2022-03-06T19:27:33.824Z"
   },
   {
    "duration": 21,
    "start_time": "2022-03-06T19:27:36.993Z"
   },
   {
    "duration": 19,
    "start_time": "2022-03-06T19:27:49.370Z"
   },
   {
    "duration": 18,
    "start_time": "2022-03-06T19:27:51.848Z"
   },
   {
    "duration": 629,
    "start_time": "2022-03-06T19:29:44.952Z"
   },
   {
    "duration": 17,
    "start_time": "2022-03-06T19:29:45.583Z"
   },
   {
    "duration": 7,
    "start_time": "2022-03-06T19:29:45.603Z"
   },
   {
    "duration": 18,
    "start_time": "2022-03-06T19:29:45.613Z"
   },
   {
    "duration": 5,
    "start_time": "2022-03-06T19:29:45.633Z"
   },
   {
    "duration": 10,
    "start_time": "2022-03-06T19:29:45.640Z"
   },
   {
    "duration": 4,
    "start_time": "2022-03-06T19:29:45.652Z"
   },
   {
    "duration": 7,
    "start_time": "2022-03-06T19:29:45.657Z"
   },
   {
    "duration": 186,
    "start_time": "2022-03-06T19:29:45.667Z"
   },
   {
    "duration": 7,
    "start_time": "2022-03-06T19:29:45.855Z"
   },
   {
    "duration": 12,
    "start_time": "2022-03-06T19:29:45.864Z"
   },
   {
    "duration": 6,
    "start_time": "2022-03-06T19:29:45.878Z"
   },
   {
    "duration": 6,
    "start_time": "2022-03-06T19:29:45.902Z"
   },
   {
    "duration": 5,
    "start_time": "2022-03-06T19:29:45.910Z"
   },
   {
    "duration": 5,
    "start_time": "2022-03-06T19:29:45.918Z"
   },
   {
    "duration": 6,
    "start_time": "2022-03-06T19:29:45.925Z"
   },
   {
    "duration": 12,
    "start_time": "2022-03-06T19:29:45.933Z"
   },
   {
    "duration": 93,
    "start_time": "2022-03-06T19:29:45.947Z"
   },
   {
    "duration": 3,
    "start_time": "2022-03-06T19:29:46.042Z"
   },
   {
    "duration": 5,
    "start_time": "2022-03-06T19:29:46.047Z"
   },
   {
    "duration": 4,
    "start_time": "2022-03-06T19:29:46.053Z"
   },
   {
    "duration": 7,
    "start_time": "2022-03-06T19:29:46.058Z"
   },
   {
    "duration": 15,
    "start_time": "2022-03-06T19:29:46.066Z"
   },
   {
    "duration": 10,
    "start_time": "2022-03-06T19:29:46.102Z"
   },
   {
    "duration": 6,
    "start_time": "2022-03-06T19:29:46.115Z"
   },
   {
    "duration": 7,
    "start_time": "2022-03-06T19:29:46.123Z"
   },
   {
    "duration": 10,
    "start_time": "2022-03-06T19:29:46.134Z"
   },
   {
    "duration": 9,
    "start_time": "2022-03-06T19:29:46.146Z"
   },
   {
    "duration": 6,
    "start_time": "2022-03-06T19:29:46.157Z"
   },
   {
    "duration": 10,
    "start_time": "2022-03-06T19:29:46.164Z"
   },
   {
    "duration": 28,
    "start_time": "2022-03-06T19:29:46.176Z"
   },
   {
    "duration": 18,
    "start_time": "2022-03-06T19:29:46.207Z"
   },
   {
    "duration": 8,
    "start_time": "2022-03-06T19:29:46.226Z"
   },
   {
    "duration": 18,
    "start_time": "2022-03-06T19:29:46.236Z"
   },
   {
    "duration": 109,
    "start_time": "2022-03-06T19:29:46.255Z"
   },
   {
    "duration": -100,
    "start_time": "2022-03-06T19:29:46.466Z"
   },
   {
    "duration": -103,
    "start_time": "2022-03-06T19:29:46.470Z"
   },
   {
    "duration": -104,
    "start_time": "2022-03-06T19:29:46.472Z"
   },
   {
    "duration": -107,
    "start_time": "2022-03-06T19:29:46.476Z"
   },
   {
    "duration": -109,
    "start_time": "2022-03-06T19:29:46.479Z"
   },
   {
    "duration": -111,
    "start_time": "2022-03-06T19:29:46.482Z"
   },
   {
    "duration": -114,
    "start_time": "2022-03-06T19:29:46.486Z"
   },
   {
    "duration": -118,
    "start_time": "2022-03-06T19:29:46.491Z"
   },
   {
    "duration": -120,
    "start_time": "2022-03-06T19:29:46.494Z"
   },
   {
    "duration": -124,
    "start_time": "2022-03-06T19:29:46.499Z"
   },
   {
    "duration": -127,
    "start_time": "2022-03-06T19:29:46.503Z"
   },
   {
    "duration": -129,
    "start_time": "2022-03-06T19:29:46.506Z"
   },
   {
    "duration": -131,
    "start_time": "2022-03-06T19:29:46.509Z"
   },
   {
    "duration": -134,
    "start_time": "2022-03-06T19:29:46.513Z"
   },
   {
    "duration": -138,
    "start_time": "2022-03-06T19:29:46.518Z"
   },
   {
    "duration": -140,
    "start_time": "2022-03-06T19:29:46.521Z"
   },
   {
    "duration": -144,
    "start_time": "2022-03-06T19:29:46.525Z"
   },
   {
    "duration": -152,
    "start_time": "2022-03-06T19:29:46.534Z"
   },
   {
    "duration": -155,
    "start_time": "2022-03-06T19:29:46.538Z"
   },
   {
    "duration": -158,
    "start_time": "2022-03-06T19:29:46.541Z"
   },
   {
    "duration": -160,
    "start_time": "2022-03-06T19:29:46.544Z"
   },
   {
    "duration": -162,
    "start_time": "2022-03-06T19:29:46.547Z"
   },
   {
    "duration": 6,
    "start_time": "2022-03-06T19:31:00.043Z"
   },
   {
    "duration": 38,
    "start_time": "2022-03-06T19:31:18.794Z"
   },
   {
    "duration": 31,
    "start_time": "2022-03-06T19:31:18.801Z"
   },
   {
    "duration": -5,
    "start_time": "2022-03-06T19:31:18.839Z"
   },
   {
    "duration": -15,
    "start_time": "2022-03-06T19:31:18.850Z"
   },
   {
    "duration": -18,
    "start_time": "2022-03-06T19:31:18.854Z"
   },
   {
    "duration": -22,
    "start_time": "2022-03-06T19:31:18.859Z"
   },
   {
    "duration": -26,
    "start_time": "2022-03-06T19:31:18.864Z"
   },
   {
    "duration": -29,
    "start_time": "2022-03-06T19:31:18.868Z"
   },
   {
    "duration": -33,
    "start_time": "2022-03-06T19:31:18.873Z"
   },
   {
    "duration": -37,
    "start_time": "2022-03-06T19:31:18.878Z"
   },
   {
    "duration": -40,
    "start_time": "2022-03-06T19:31:18.882Z"
   },
   {
    "duration": -42,
    "start_time": "2022-03-06T19:31:18.885Z"
   },
   {
    "duration": -45,
    "start_time": "2022-03-06T19:31:18.889Z"
   },
   {
    "duration": -53,
    "start_time": "2022-03-06T19:31:18.898Z"
   },
   {
    "duration": -56,
    "start_time": "2022-03-06T19:31:18.902Z"
   },
   {
    "duration": -59,
    "start_time": "2022-03-06T19:31:18.905Z"
   },
   {
    "duration": -61,
    "start_time": "2022-03-06T19:31:18.908Z"
   },
   {
    "duration": -63,
    "start_time": "2022-03-06T19:31:18.911Z"
   },
   {
    "duration": -64,
    "start_time": "2022-03-06T19:31:18.913Z"
   },
   {
    "duration": -66,
    "start_time": "2022-03-06T19:31:18.916Z"
   },
   {
    "duration": -68,
    "start_time": "2022-03-06T19:31:18.919Z"
   },
   {
    "duration": -19,
    "start_time": "2022-03-06T19:31:18.922Z"
   },
   {
    "duration": -20,
    "start_time": "2022-03-06T19:31:18.925Z"
   },
   {
    "duration": -21,
    "start_time": "2022-03-06T19:31:18.928Z"
   },
   {
    "duration": -21,
    "start_time": "2022-03-06T19:31:18.930Z"
   },
   {
    "duration": -24,
    "start_time": "2022-03-06T19:31:18.934Z"
   },
   {
    "duration": -26,
    "start_time": "2022-03-06T19:31:18.937Z"
   },
   {
    "duration": -27,
    "start_time": "2022-03-06T19:31:18.940Z"
   },
   {
    "duration": -31,
    "start_time": "2022-03-06T19:31:18.944Z"
   },
   {
    "duration": -34,
    "start_time": "2022-03-06T19:31:18.948Z"
   },
   {
    "duration": -36,
    "start_time": "2022-03-06T19:31:18.951Z"
   },
   {
    "duration": -95,
    "start_time": "2022-03-06T19:31:19.011Z"
   },
   {
    "duration": -99,
    "start_time": "2022-03-06T19:31:19.016Z"
   },
   {
    "duration": -104,
    "start_time": "2022-03-06T19:31:19.022Z"
   },
   {
    "duration": -107,
    "start_time": "2022-03-06T19:31:19.026Z"
   },
   {
    "duration": -111,
    "start_time": "2022-03-06T19:31:19.031Z"
   },
   {
    "duration": -113,
    "start_time": "2022-03-06T19:31:19.034Z"
   },
   {
    "duration": -116,
    "start_time": "2022-03-06T19:31:19.038Z"
   },
   {
    "duration": -117,
    "start_time": "2022-03-06T19:31:19.041Z"
   },
   {
    "duration": -119,
    "start_time": "2022-03-06T19:31:19.044Z"
   },
   {
    "duration": -122,
    "start_time": "2022-03-06T19:31:19.048Z"
   },
   {
    "duration": -129,
    "start_time": "2022-03-06T19:31:19.057Z"
   },
   {
    "duration": -131,
    "start_time": "2022-03-06T19:31:19.060Z"
   },
   {
    "duration": -133,
    "start_time": "2022-03-06T19:31:19.063Z"
   },
   {
    "duration": -181,
    "start_time": "2022-03-06T19:31:19.112Z"
   },
   {
    "duration": -183,
    "start_time": "2022-03-06T19:31:19.115Z"
   },
   {
    "duration": -186,
    "start_time": "2022-03-06T19:31:19.119Z"
   },
   {
    "duration": -189,
    "start_time": "2022-03-06T19:31:19.123Z"
   },
   {
    "duration": -192,
    "start_time": "2022-03-06T19:31:19.127Z"
   },
   {
    "duration": -194,
    "start_time": "2022-03-06T19:31:19.130Z"
   },
   {
    "duration": -195,
    "start_time": "2022-03-06T19:31:19.133Z"
   },
   {
    "duration": -198,
    "start_time": "2022-03-06T19:31:19.137Z"
   },
   {
    "duration": -200,
    "start_time": "2022-03-06T19:31:19.140Z"
   },
   {
    "duration": -202,
    "start_time": "2022-03-06T19:31:19.144Z"
   },
   {
    "duration": -204,
    "start_time": "2022-03-06T19:31:19.147Z"
   },
   {
    "duration": -149,
    "start_time": "2022-03-06T19:31:19.150Z"
   },
   {
    "duration": 54,
    "start_time": "2022-03-06T19:32:17.382Z"
   },
   {
    "duration": 17,
    "start_time": "2022-03-06T19:32:18.668Z"
   },
   {
    "duration": 834,
    "start_time": "2022-03-06T19:32:32.691Z"
   },
   {
    "duration": 21,
    "start_time": "2022-03-06T19:32:35.251Z"
   },
   {
    "duration": 5,
    "start_time": "2022-03-06T19:32:38.042Z"
   },
   {
    "duration": 15,
    "start_time": "2022-03-06T19:32:39.071Z"
   },
   {
    "duration": 4,
    "start_time": "2022-03-06T19:32:39.415Z"
   },
   {
    "duration": 12,
    "start_time": "2022-03-06T19:32:40.323Z"
   },
   {
    "duration": 5,
    "start_time": "2022-03-06T19:32:40.640Z"
   },
   {
    "duration": 5,
    "start_time": "2022-03-06T19:32:40.947Z"
   },
   {
    "duration": 128,
    "start_time": "2022-03-06T19:32:42.043Z"
   },
   {
    "duration": 7,
    "start_time": "2022-03-06T19:32:42.512Z"
   },
   {
    "duration": 11,
    "start_time": "2022-03-06T19:32:44.231Z"
   },
   {
    "duration": 6,
    "start_time": "2022-03-06T19:32:44.742Z"
   },
   {
    "duration": 4,
    "start_time": "2022-03-06T19:32:45.901Z"
   },
   {
    "duration": 4,
    "start_time": "2022-03-06T19:32:46.222Z"
   },
   {
    "duration": 4,
    "start_time": "2022-03-06T19:32:46.477Z"
   },
   {
    "duration": 5,
    "start_time": "2022-03-06T19:32:46.853Z"
   },
   {
    "duration": 10,
    "start_time": "2022-03-06T19:32:47.177Z"
   },
   {
    "duration": 36,
    "start_time": "2022-03-06T19:32:47.891Z"
   },
   {
    "duration": 4,
    "start_time": "2022-03-06T19:32:49.345Z"
   },
   {
    "duration": 4,
    "start_time": "2022-03-06T19:32:49.721Z"
   },
   {
    "duration": 4,
    "start_time": "2022-03-06T19:32:50.751Z"
   },
   {
    "duration": 5,
    "start_time": "2022-03-06T19:32:53.375Z"
   },
   {
    "duration": 17,
    "start_time": "2022-03-06T19:32:53.629Z"
   },
   {
    "duration": 7,
    "start_time": "2022-03-06T19:32:53.965Z"
   },
   {
    "duration": 6,
    "start_time": "2022-03-06T19:32:54.506Z"
   },
   {
    "duration": 5,
    "start_time": "2022-03-06T19:32:54.937Z"
   },
   {
    "duration": 6,
    "start_time": "2022-03-06T19:32:55.775Z"
   },
   {
    "duration": 8,
    "start_time": "2022-03-06T19:32:56.151Z"
   },
   {
    "duration": 4,
    "start_time": "2022-03-06T19:32:56.531Z"
   },
   {
    "duration": 5,
    "start_time": "2022-03-06T19:32:58.007Z"
   },
   {
    "duration": 5,
    "start_time": "2022-03-06T19:32:58.329Z"
   },
   {
    "duration": 4,
    "start_time": "2022-03-06T19:32:59.037Z"
   },
   {
    "duration": 5,
    "start_time": "2022-03-06T19:32:59.600Z"
   },
   {
    "duration": 5,
    "start_time": "2022-03-06T19:33:07.184Z"
   },
   {
    "duration": 10,
    "start_time": "2022-03-06T19:33:09.661Z"
   },
   {
    "duration": 8,
    "start_time": "2022-03-06T19:33:11.671Z"
   },
   {
    "duration": 7,
    "start_time": "2022-03-06T19:33:12.196Z"
   },
   {
    "duration": 9,
    "start_time": "2022-03-06T19:33:20.880Z"
   },
   {
    "duration": 12,
    "start_time": "2022-03-06T19:33:21.392Z"
   },
   {
    "duration": 363,
    "start_time": "2022-03-06T19:33:24.133Z"
   },
   {
    "duration": 20,
    "start_time": "2022-03-06T19:33:44.503Z"
   },
   {
    "duration": 41,
    "start_time": "2022-03-06T19:33:50.928Z"
   },
   {
    "duration": 16,
    "start_time": "2022-03-06T19:33:51.469Z"
   },
   {
    "duration": 17,
    "start_time": "2022-03-06T19:33:56.133Z"
   },
   {
    "duration": 506,
    "start_time": "2022-03-06T19:33:58.077Z"
   },
   {
    "duration": 26,
    "start_time": "2022-03-06T19:34:00.314Z"
   },
   {
    "duration": 20,
    "start_time": "2022-03-06T19:34:00.693Z"
   },
   {
    "duration": 300,
    "start_time": "2022-03-06T19:34:01.433Z"
   },
   {
    "duration": 29,
    "start_time": "2022-03-06T19:34:38.132Z"
   },
   {
    "duration": 36,
    "start_time": "2022-03-06T19:34:41.580Z"
   },
   {
    "duration": 12,
    "start_time": "2022-03-06T19:34:44.633Z"
   },
   {
    "duration": 12,
    "start_time": "2022-03-06T19:34:45.156Z"
   },
   {
    "duration": 11,
    "start_time": "2022-03-06T19:34:45.753Z"
   },
   {
    "duration": 7,
    "start_time": "2022-03-06T19:35:03.634Z"
   },
   {
    "duration": 25,
    "start_time": "2022-03-06T19:35:07.968Z"
   },
   {
    "duration": 21,
    "start_time": "2022-03-06T19:35:09.499Z"
   },
   {
    "duration": 18,
    "start_time": "2022-03-06T19:35:10.741Z"
   },
   {
    "duration": 16,
    "start_time": "2022-03-06T19:35:11.587Z"
   },
   {
    "duration": 204,
    "start_time": "2022-03-06T19:40:51.514Z"
   },
   {
    "duration": 1364,
    "start_time": "2022-03-06T19:41:28.090Z"
   },
   {
    "duration": 1368,
    "start_time": "2022-03-06T19:42:08.609Z"
   },
   {
    "duration": 17,
    "start_time": "2022-03-06T19:43:25.320Z"
   },
   {
    "duration": 1351,
    "start_time": "2022-03-06T19:45:47.169Z"
   },
   {
    "duration": 10,
    "start_time": "2022-03-06T19:48:36.349Z"
   },
   {
    "duration": 14,
    "start_time": "2022-03-06T19:49:01.708Z"
   },
   {
    "duration": 22,
    "start_time": "2022-03-06T19:49:54.644Z"
   },
   {
    "duration": 119,
    "start_time": "2022-03-06T20:07:00.266Z"
   },
   {
    "duration": 101,
    "start_time": "2022-03-06T20:07:25.873Z"
   },
   {
    "duration": 107,
    "start_time": "2022-03-06T20:09:23.554Z"
   },
   {
    "duration": 16,
    "start_time": "2022-03-06T20:09:51.800Z"
   },
   {
    "duration": 7,
    "start_time": "2022-03-06T20:15:21.068Z"
   },
   {
    "duration": 18,
    "start_time": "2022-03-06T20:15:32.068Z"
   },
   {
    "duration": 29,
    "start_time": "2022-03-06T20:17:04.452Z"
   },
   {
    "duration": 29,
    "start_time": "2022-03-06T20:17:34.262Z"
   },
   {
    "duration": 27,
    "start_time": "2022-03-06T20:18:52.907Z"
   },
   {
    "duration": 8,
    "start_time": "2022-03-06T20:19:17.861Z"
   },
   {
    "duration": 19,
    "start_time": "2022-03-06T20:19:35.858Z"
   },
   {
    "duration": 297,
    "start_time": "2022-03-06T20:19:57.578Z"
   },
   {
    "duration": 296,
    "start_time": "2022-03-06T20:20:53.376Z"
   },
   {
    "duration": 20,
    "start_time": "2022-03-06T20:21:03.808Z"
   },
   {
    "duration": 6,
    "start_time": "2022-03-06T20:22:33.345Z"
   },
   {
    "duration": 6,
    "start_time": "2022-03-06T20:22:46.985Z"
   },
   {
    "duration": 7,
    "start_time": "2022-03-06T20:22:54.167Z"
   },
   {
    "duration": 5,
    "start_time": "2022-03-06T20:26:16.821Z"
   },
   {
    "duration": 7,
    "start_time": "2022-03-06T20:26:24.349Z"
   },
   {
    "duration": 8,
    "start_time": "2022-03-06T20:26:48.015Z"
   },
   {
    "duration": 8,
    "start_time": "2022-03-06T20:26:59.384Z"
   },
   {
    "duration": 103,
    "start_time": "2022-03-06T20:27:05.580Z"
   },
   {
    "duration": 138,
    "start_time": "2022-03-06T20:27:24.589Z"
   },
   {
    "duration": 7,
    "start_time": "2022-03-06T20:27:37.822Z"
   },
   {
    "duration": 8,
    "start_time": "2022-03-06T20:27:57.828Z"
   },
   {
    "duration": 10,
    "start_time": "2022-03-06T20:28:09.848Z"
   },
   {
    "duration": 9,
    "start_time": "2022-03-06T20:29:00.779Z"
   },
   {
    "duration": 7,
    "start_time": "2022-03-06T20:29:14.275Z"
   },
   {
    "duration": 286,
    "start_time": "2022-03-06T20:29:25.043Z"
   },
   {
    "duration": 8,
    "start_time": "2022-03-06T20:29:30.523Z"
   },
   {
    "duration": 7,
    "start_time": "2022-03-06T20:29:53.835Z"
   },
   {
    "duration": 25,
    "start_time": "2022-03-06T20:30:09.994Z"
   },
   {
    "duration": 7,
    "start_time": "2022-03-06T20:32:16.380Z"
   },
   {
    "duration": 18,
    "start_time": "2022-03-06T20:32:46.225Z"
   },
   {
    "duration": 289,
    "start_time": "2022-03-06T20:37:16.151Z"
   },
   {
    "duration": 44,
    "start_time": "2022-03-06T20:47:06.545Z"
   },
   {
    "duration": 14,
    "start_time": "2022-03-06T20:48:04.409Z"
   },
   {
    "duration": -32,
    "start_time": "2022-03-06T20:48:42.784Z"
   },
   {
    "duration": 8,
    "start_time": "2022-03-06T20:48:48.623Z"
   },
   {
    "duration": 8,
    "start_time": "2022-03-06T20:49:32.136Z"
   },
   {
    "duration": 8,
    "start_time": "2022-03-06T20:49:56.745Z"
   },
   {
    "duration": 12,
    "start_time": "2022-03-06T20:50:29.215Z"
   },
   {
    "duration": 342,
    "start_time": "2022-03-06T21:02:29.739Z"
   },
   {
    "duration": 7,
    "start_time": "2022-03-06T21:02:41.748Z"
   },
   {
    "duration": 8,
    "start_time": "2022-03-06T21:03:28.743Z"
   },
   {
    "duration": 9,
    "start_time": "2022-03-06T21:09:21.278Z"
   },
   {
    "duration": 12,
    "start_time": "2022-03-06T21:11:28.704Z"
   },
   {
    "duration": 7,
    "start_time": "2022-03-06T21:16:35.261Z"
   },
   {
    "duration": 23,
    "start_time": "2022-03-06T21:17:28.247Z"
   },
   {
    "duration": 24,
    "start_time": "2022-03-06T21:19:11.547Z"
   },
   {
    "duration": 30,
    "start_time": "2022-03-06T21:19:41.725Z"
   },
   {
    "duration": 11,
    "start_time": "2022-03-06T21:20:02.126Z"
   },
   {
    "duration": 16,
    "start_time": "2022-03-06T21:20:19.812Z"
   },
   {
    "duration": 18,
    "start_time": "2022-03-06T21:20:32.814Z"
   },
   {
    "duration": 10,
    "start_time": "2022-03-06T21:20:45.524Z"
   },
   {
    "duration": 10,
    "start_time": "2022-03-06T21:23:02.538Z"
   },
   {
    "duration": 10,
    "start_time": "2022-03-06T21:23:38.291Z"
   },
   {
    "duration": -44,
    "start_time": "2022-03-06T21:26:04.583Z"
   },
   {
    "duration": 7381,
    "start_time": "2022-03-06T21:26:21.489Z"
   },
   {
    "duration": 16,
    "start_time": "2022-03-06T21:27:08.666Z"
   },
   {
    "duration": 35,
    "start_time": "2022-03-06T21:29:19.801Z"
   },
   {
    "duration": 8,
    "start_time": "2022-03-06T21:29:35.583Z"
   },
   {
    "duration": 11,
    "start_time": "2022-03-06T21:29:47.570Z"
   },
   {
    "duration": 11,
    "start_time": "2022-03-06T21:29:55.911Z"
   },
   {
    "duration": 10,
    "start_time": "2022-03-06T21:30:09.769Z"
   },
   {
    "duration": 11,
    "start_time": "2022-03-06T21:30:15.104Z"
   },
   {
    "duration": 9,
    "start_time": "2022-03-06T21:30:23.631Z"
   },
   {
    "duration": 16,
    "start_time": "2022-03-06T21:30:31.108Z"
   },
   {
    "duration": 147,
    "start_time": "2022-03-06T21:36:25.269Z"
   },
   {
    "duration": 669,
    "start_time": "2022-03-06T21:38:26.178Z"
   },
   {
    "duration": 16,
    "start_time": "2022-03-06T21:38:26.849Z"
   },
   {
    "duration": 4,
    "start_time": "2022-03-06T21:38:26.867Z"
   },
   {
    "duration": 11,
    "start_time": "2022-03-06T21:38:26.873Z"
   },
   {
    "duration": 20,
    "start_time": "2022-03-06T21:38:26.886Z"
   },
   {
    "duration": 13,
    "start_time": "2022-03-06T21:38:26.908Z"
   },
   {
    "duration": 5,
    "start_time": "2022-03-06T21:38:26.923Z"
   },
   {
    "duration": 6,
    "start_time": "2022-03-06T21:38:26.931Z"
   },
   {
    "duration": 178,
    "start_time": "2022-03-06T21:38:26.939Z"
   },
   {
    "duration": 12,
    "start_time": "2022-03-06T21:38:27.119Z"
   },
   {
    "duration": 11,
    "start_time": "2022-03-06T21:38:27.133Z"
   },
   {
    "duration": 4,
    "start_time": "2022-03-06T21:38:27.146Z"
   },
   {
    "duration": 4,
    "start_time": "2022-03-06T21:38:27.151Z"
   },
   {
    "duration": 3,
    "start_time": "2022-03-06T21:38:27.157Z"
   },
   {
    "duration": 5,
    "start_time": "2022-03-06T21:38:27.162Z"
   },
   {
    "duration": 6,
    "start_time": "2022-03-06T21:38:27.168Z"
   },
   {
    "duration": 13,
    "start_time": "2022-03-06T21:38:27.208Z"
   },
   {
    "duration": 38,
    "start_time": "2022-03-06T21:38:27.222Z"
   },
   {
    "duration": 4,
    "start_time": "2022-03-06T21:38:27.262Z"
   },
   {
    "duration": 7,
    "start_time": "2022-03-06T21:38:27.268Z"
   },
   {
    "duration": 8,
    "start_time": "2022-03-06T21:38:27.276Z"
   },
   {
    "duration": 25,
    "start_time": "2022-03-06T21:38:27.285Z"
   },
   {
    "duration": 19,
    "start_time": "2022-03-06T21:38:27.314Z"
   },
   {
    "duration": 6,
    "start_time": "2022-03-06T21:38:27.335Z"
   },
   {
    "duration": 9,
    "start_time": "2022-03-06T21:38:27.342Z"
   },
   {
    "duration": 7,
    "start_time": "2022-03-06T21:38:27.352Z"
   },
   {
    "duration": 9,
    "start_time": "2022-03-06T21:38:27.361Z"
   },
   {
    "duration": 9,
    "start_time": "2022-03-06T21:38:27.371Z"
   },
   {
    "duration": 23,
    "start_time": "2022-03-06T21:38:27.382Z"
   },
   {
    "duration": 9,
    "start_time": "2022-03-06T21:38:27.408Z"
   },
   {
    "duration": 11,
    "start_time": "2022-03-06T21:38:27.419Z"
   },
   {
    "duration": 6,
    "start_time": "2022-03-06T21:38:27.432Z"
   },
   {
    "duration": 10,
    "start_time": "2022-03-06T21:38:27.439Z"
   },
   {
    "duration": 9,
    "start_time": "2022-03-06T21:38:27.450Z"
   },
   {
    "duration": 15,
    "start_time": "2022-03-06T21:38:27.460Z"
   },
   {
    "duration": 9,
    "start_time": "2022-03-06T21:38:27.477Z"
   },
   {
    "duration": 10,
    "start_time": "2022-03-06T21:38:27.487Z"
   },
   {
    "duration": 22,
    "start_time": "2022-03-06T21:38:27.501Z"
   },
   {
    "duration": 18,
    "start_time": "2022-03-06T21:38:27.525Z"
   },
   {
    "duration": 17,
    "start_time": "2022-03-06T21:38:27.545Z"
   },
   {
    "duration": 59,
    "start_time": "2022-03-06T21:38:27.564Z"
   },
   {
    "duration": 19,
    "start_time": "2022-03-06T21:38:27.626Z"
   },
   {
    "duration": 19,
    "start_time": "2022-03-06T21:38:27.647Z"
   },
   {
    "duration": 552,
    "start_time": "2022-03-06T21:38:27.668Z"
   },
   {
    "duration": 36,
    "start_time": "2022-03-06T21:38:28.223Z"
   },
   {
    "duration": 19,
    "start_time": "2022-03-06T21:38:28.260Z"
   },
   {
    "duration": 57,
    "start_time": "2022-03-06T21:38:28.280Z"
   },
   {
    "duration": 10,
    "start_time": "2022-03-06T21:38:28.338Z"
   },
   {
    "duration": 13,
    "start_time": "2022-03-06T21:38:28.349Z"
   },
   {
    "duration": 11,
    "start_time": "2022-03-06T21:38:28.364Z"
   },
   {
    "duration": 5,
    "start_time": "2022-03-06T21:38:28.376Z"
   },
   {
    "duration": 34,
    "start_time": "2022-03-06T21:38:28.401Z"
   },
   {
    "duration": 31,
    "start_time": "2022-03-06T21:38:28.437Z"
   },
   {
    "duration": 88,
    "start_time": "2022-03-06T21:38:28.470Z"
   },
   {
    "duration": 29,
    "start_time": "2022-03-06T21:38:28.560Z"
   },
   {
    "duration": 11,
    "start_time": "2022-03-06T21:38:28.602Z"
   },
   {
    "duration": 18,
    "start_time": "2022-03-06T21:38:28.617Z"
   },
   {
    "duration": 8,
    "start_time": "2022-03-06T21:38:28.637Z"
   },
   {
    "duration": 8,
    "start_time": "2022-03-06T21:38:28.646Z"
   },
   {
    "duration": 7,
    "start_time": "2022-03-06T21:38:28.655Z"
   },
   {
    "duration": 39,
    "start_time": "2022-03-06T21:38:28.664Z"
   },
   {
    "duration": 56,
    "start_time": "2022-03-06T21:38:42.521Z"
   },
   {
    "duration": 13,
    "start_time": "2022-03-06T21:38:43.922Z"
   },
   {
    "duration": 693,
    "start_time": "2022-03-06T21:38:58.406Z"
   },
   {
    "duration": 17,
    "start_time": "2022-03-06T21:39:01.858Z"
   },
   {
    "duration": 6,
    "start_time": "2022-03-06T21:39:05.214Z"
   },
   {
    "duration": 17,
    "start_time": "2022-03-06T21:39:06.306Z"
   },
   {
    "duration": 8,
    "start_time": "2022-03-06T21:39:06.598Z"
   },
   {
    "duration": 14,
    "start_time": "2022-03-06T21:39:07.315Z"
   },
   {
    "duration": 5,
    "start_time": "2022-03-06T21:39:07.860Z"
   },
   {
    "duration": 5,
    "start_time": "2022-03-06T21:39:08.371Z"
   },
   {
    "duration": 137,
    "start_time": "2022-03-06T21:39:09.925Z"
   },
   {
    "duration": 14,
    "start_time": "2022-03-06T21:39:10.211Z"
   },
   {
    "duration": 18,
    "start_time": "2022-03-06T21:39:11.514Z"
   },
   {
    "duration": 15,
    "start_time": "2022-03-06T21:39:11.801Z"
   },
   {
    "duration": 5,
    "start_time": "2022-03-06T21:39:12.956Z"
   },
   {
    "duration": 4,
    "start_time": "2022-03-06T21:39:13.174Z"
   },
   {
    "duration": 4,
    "start_time": "2022-03-06T21:39:13.418Z"
   },
   {
    "duration": 5,
    "start_time": "2022-03-06T21:39:13.671Z"
   },
   {
    "duration": 10,
    "start_time": "2022-03-06T21:39:14.155Z"
   },
   {
    "duration": 49,
    "start_time": "2022-03-06T21:39:15.084Z"
   },
   {
    "duration": 4,
    "start_time": "2022-03-06T21:39:16.071Z"
   },
   {
    "duration": 4,
    "start_time": "2022-03-06T21:39:16.566Z"
   },
   {
    "duration": 4,
    "start_time": "2022-03-06T21:39:17.431Z"
   },
   {
    "duration": 8,
    "start_time": "2022-03-06T21:39:21.126Z"
   },
   {
    "duration": 21,
    "start_time": "2022-03-06T21:39:21.708Z"
   },
   {
    "duration": 7,
    "start_time": "2022-03-06T21:39:22.272Z"
   },
   {
    "duration": 14,
    "start_time": "2022-03-06T21:39:22.798Z"
   },
   {
    "duration": 6,
    "start_time": "2022-03-06T21:39:23.613Z"
   },
   {
    "duration": 5,
    "start_time": "2022-03-06T21:39:25.150Z"
   },
   {
    "duration": 8,
    "start_time": "2022-03-06T21:39:26.152Z"
   },
   {
    "duration": 5,
    "start_time": "2022-03-06T21:39:28.331Z"
   },
   {
    "duration": 4,
    "start_time": "2022-03-06T21:39:28.534Z"
   },
   {
    "duration": 5,
    "start_time": "2022-03-06T21:39:29.332Z"
   },
   {
    "duration": 4,
    "start_time": "2022-03-06T21:39:29.992Z"
   },
   {
    "duration": 5,
    "start_time": "2022-03-06T21:39:30.728Z"
   },
   {
    "duration": 5,
    "start_time": "2022-03-06T21:39:37.265Z"
   },
   {
    "duration": 15,
    "start_time": "2022-03-06T21:39:39.200Z"
   },
   {
    "duration": 10,
    "start_time": "2022-03-06T21:39:40.915Z"
   },
   {
    "duration": 6,
    "start_time": "2022-03-06T21:39:41.967Z"
   },
   {
    "duration": 9,
    "start_time": "2022-03-06T21:39:45.931Z"
   },
   {
    "duration": 18,
    "start_time": "2022-03-06T21:39:46.592Z"
   },
   {
    "duration": 17,
    "start_time": "2022-03-06T21:39:50.447Z"
   },
   {
    "duration": 29,
    "start_time": "2022-03-06T21:39:51.227Z"
   },
   {
    "duration": 18,
    "start_time": "2022-03-06T21:39:51.928Z"
   },
   {
    "duration": 16,
    "start_time": "2022-03-06T21:39:53.047Z"
   },
   {
    "duration": 521,
    "start_time": "2022-03-06T21:39:55.025Z"
   },
   {
    "duration": 25,
    "start_time": "2022-03-06T21:39:57.126Z"
   },
   {
    "duration": 19,
    "start_time": "2022-03-06T21:39:57.640Z"
   },
   {
    "duration": 46,
    "start_time": "2022-03-06T21:39:58.724Z"
   },
   {
    "duration": 11,
    "start_time": "2022-03-06T21:40:04.133Z"
   },
   {
    "duration": 10,
    "start_time": "2022-03-06T21:40:04.962Z"
   },
   {
    "duration": 10,
    "start_time": "2022-03-06T21:40:06.072Z"
   },
   {
    "duration": 6,
    "start_time": "2022-03-06T21:40:07.242Z"
   },
   {
    "duration": 37,
    "start_time": "2022-03-06T21:40:08.100Z"
   },
   {
    "duration": 26,
    "start_time": "2022-03-06T21:40:09.317Z"
   },
   {
    "duration": 19,
    "start_time": "2022-03-06T21:40:10.973Z"
   },
   {
    "duration": 32,
    "start_time": "2022-03-06T21:40:11.728Z"
   },
   {
    "duration": 10,
    "start_time": "2022-03-06T21:40:13.195Z"
   },
   {
    "duration": 14,
    "start_time": "2022-03-06T21:40:14.014Z"
   },
   {
    "duration": 11,
    "start_time": "2022-03-06T21:40:14.546Z"
   },
   {
    "duration": 12,
    "start_time": "2022-03-06T21:40:15.032Z"
   },
   {
    "duration": 20,
    "start_time": "2022-03-06T21:40:15.301Z"
   },
   {
    "duration": 15,
    "start_time": "2022-03-06T21:40:15.606Z"
   },
   {
    "duration": 842,
    "start_time": "2022-03-07T15:51:55.532Z"
   },
   {
    "duration": 26,
    "start_time": "2022-03-07T15:51:56.377Z"
   },
   {
    "duration": 27,
    "start_time": "2022-03-07T15:51:56.406Z"
   },
   {
    "duration": 18,
    "start_time": "2022-03-07T15:51:56.436Z"
   },
   {
    "duration": 7,
    "start_time": "2022-03-07T15:51:56.456Z"
   },
   {
    "duration": 16,
    "start_time": "2022-03-07T15:51:56.466Z"
   },
   {
    "duration": 50,
    "start_time": "2022-03-07T15:51:56.484Z"
   },
   {
    "duration": 7,
    "start_time": "2022-03-07T15:51:56.536Z"
   },
   {
    "duration": 249,
    "start_time": "2022-03-07T15:51:56.547Z"
   },
   {
    "duration": 12,
    "start_time": "2022-03-07T15:51:56.799Z"
   },
   {
    "duration": 32,
    "start_time": "2022-03-07T15:51:56.813Z"
   },
   {
    "duration": 12,
    "start_time": "2022-03-07T15:51:56.848Z"
   },
   {
    "duration": 18,
    "start_time": "2022-03-07T15:51:56.862Z"
   },
   {
    "duration": 16,
    "start_time": "2022-03-07T15:51:56.882Z"
   },
   {
    "duration": 9,
    "start_time": "2022-03-07T15:51:56.900Z"
   },
   {
    "duration": 26,
    "start_time": "2022-03-07T15:51:56.911Z"
   },
   {
    "duration": 25,
    "start_time": "2022-03-07T15:51:56.939Z"
   },
   {
    "duration": 61,
    "start_time": "2022-03-07T15:51:56.966Z"
   },
   {
    "duration": 5,
    "start_time": "2022-03-07T15:51:57.029Z"
   },
   {
    "duration": 19,
    "start_time": "2022-03-07T15:51:57.036Z"
   },
   {
    "duration": 12,
    "start_time": "2022-03-07T15:51:57.057Z"
   },
   {
    "duration": 16,
    "start_time": "2022-03-07T15:51:57.071Z"
   },
   {
    "duration": 27,
    "start_time": "2022-03-07T15:51:57.089Z"
   },
   {
    "duration": 20,
    "start_time": "2022-03-07T15:51:57.118Z"
   },
   {
    "duration": 23,
    "start_time": "2022-03-07T15:51:57.140Z"
   },
   {
    "duration": 9,
    "start_time": "2022-03-07T15:51:57.165Z"
   },
   {
    "duration": 19,
    "start_time": "2022-03-07T15:51:57.180Z"
   },
   {
    "duration": 13,
    "start_time": "2022-03-07T15:51:57.202Z"
   },
   {
    "duration": 5,
    "start_time": "2022-03-07T15:51:57.233Z"
   },
   {
    "duration": 30,
    "start_time": "2022-03-07T15:51:57.241Z"
   },
   {
    "duration": 19,
    "start_time": "2022-03-07T15:51:57.274Z"
   },
   {
    "duration": 15,
    "start_time": "2022-03-07T15:51:57.295Z"
   },
   {
    "duration": 23,
    "start_time": "2022-03-07T15:51:57.312Z"
   },
   {
    "duration": 16,
    "start_time": "2022-03-07T15:51:57.337Z"
   },
   {
    "duration": 36,
    "start_time": "2022-03-07T15:51:57.355Z"
   },
   {
    "duration": 22,
    "start_time": "2022-03-07T15:51:57.393Z"
   },
   {
    "duration": 21,
    "start_time": "2022-03-07T15:51:57.417Z"
   },
   {
    "duration": 26,
    "start_time": "2022-03-07T15:51:57.440Z"
   },
   {
    "duration": 21,
    "start_time": "2022-03-07T15:51:57.468Z"
   },
   {
    "duration": 40,
    "start_time": "2022-03-07T15:51:57.492Z"
   },
   {
    "duration": 46,
    "start_time": "2022-03-07T15:51:57.535Z"
   },
   {
    "duration": 48,
    "start_time": "2022-03-07T15:51:57.584Z"
   },
   {
    "duration": 25,
    "start_time": "2022-03-07T15:51:57.635Z"
   },
   {
    "duration": 59660,
    "start_time": "2022-03-07T15:51:57.662Z"
   },
   {
    "duration": 43,
    "start_time": "2022-03-07T15:52:57.325Z"
   },
   {
    "duration": 28,
    "start_time": "2022-03-07T15:52:57.371Z"
   },
   {
    "duration": 70,
    "start_time": "2022-03-07T15:52:57.401Z"
   },
   {
    "duration": 17,
    "start_time": "2022-03-07T15:52:57.473Z"
   },
   {
    "duration": 47,
    "start_time": "2022-03-07T15:52:57.493Z"
   },
   {
    "duration": 17,
    "start_time": "2022-03-07T15:52:57.542Z"
   },
   {
    "duration": 7,
    "start_time": "2022-03-07T15:52:57.561Z"
   },
   {
    "duration": 69,
    "start_time": "2022-03-07T15:52:57.571Z"
   },
   {
    "duration": 78,
    "start_time": "2022-03-07T15:52:57.642Z"
   },
   {
    "duration": 28,
    "start_time": "2022-03-07T15:52:57.722Z"
   },
   {
    "duration": 45,
    "start_time": "2022-03-07T15:52:57.752Z"
   },
   {
    "duration": 37,
    "start_time": "2022-03-07T15:52:57.799Z"
   },
   {
    "duration": 15,
    "start_time": "2022-03-07T15:52:57.839Z"
   },
   {
    "duration": 13,
    "start_time": "2022-03-07T15:52:57.856Z"
   },
   {
    "duration": 13,
    "start_time": "2022-03-07T15:52:57.872Z"
   },
   {
    "duration": 14,
    "start_time": "2022-03-07T15:52:57.931Z"
   },
   {
    "duration": 11,
    "start_time": "2022-03-07T15:52:57.948Z"
   },
   {
    "duration": 10,
    "start_time": "2022-03-07T15:53:15.355Z"
   }
  ],
  "kernelspec": {
   "display_name": "Python 3 (ipykernel)",
   "language": "python",
   "name": "python3"
  },
  "language_info": {
   "codemirror_mode": {
    "name": "ipython",
    "version": 3
   },
   "file_extension": ".py",
   "mimetype": "text/x-python",
   "name": "python",
   "nbconvert_exporter": "python",
   "pygments_lexer": "ipython3",
   "version": "3.9.7"
  },
  "toc": {
   "base_numbering": 1,
   "nav_menu": {},
   "number_sections": true,
   "sideBar": true,
   "skip_h1_title": true,
   "title_cell": "Table of Contents",
   "title_sidebar": "Contents",
   "toc_cell": false,
   "toc_position": {
    "height": "calc(100% - 180px)",
    "left": "10px",
    "top": "150px",
    "width": "331.449px"
   },
   "toc_section_display": true,
   "toc_window_display": true
  }
 },
 "nbformat": 4,
 "nbformat_minor": 5
}
